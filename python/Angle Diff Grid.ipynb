{
 "cells": [
  {
   "cell_type": "markdown",
   "metadata": {},
   "source": [
    "I'm wondering if it's best to precompute VSF for all possible combinations of angles. I imagine that it is, since doing a big thing once is probably better than doing a smallish thing hundreds of thousands of times."
   ]
  },
  {
   "cell_type": "code",
   "execution_count": 23,
   "metadata": {
    "collapsed": true
   },
   "outputs": [],
   "source": [
    "import numpy as np\n",
    "from numpy import *\n",
    "from numpy.polynomial.legendre import leggauss"
   ]
  },
  {
   "cell_type": "code",
   "execution_count": 13,
   "metadata": {
    "collapsed": true
   },
   "outputs": [],
   "source": [
    "ntheta = 6\n",
    "nphi = 5"
   ]
  },
  {
   "cell_type": "code",
   "execution_count": 14,
   "metadata": {},
   "outputs": [],
   "source": [
    "theta = leggauss(ntheta)[0]\n",
    "phi = leggauss(nphi)[0]"
   ]
  },
  {
   "cell_type": "code",
   "execution_count": 19,
   "metadata": {},
   "outputs": [],
   "source": [
    "theta_grid, phi_grid = np.meshgrid(theta, phi, indexing='ij')"
   ]
  },
  {
   "cell_type": "code",
   "execution_count": 22,
   "metadata": {
    "collapsed": true
   },
   "outputs": [],
   "source": [
    "# Want a 4D object: vsf[l,m,lp,mp]"
   ]
  },
  {
   "cell_type": "code",
   "execution_count": 34,
   "metadata": {},
   "outputs": [],
   "source": [
    "def angle_diff(theta, phi, theta_prime, phi_prime):\n",
    "    # Slower, more accurate\n",
    "    alpha = (\n",
    "        sin(phi)*cos(theta)*sin(phi_prime)*cos(theta_prime)\n",
    "      + sin(phi)*sin(theta)*sin(phi_prime)*sin(theta_prime)\n",
    "      + cos(phi)*cos(phi_prime)\n",
    "    )\n",
    "    \n",
    "    # Faster, \"less accurate near poles\"\n",
    "    # Wow, really. Lots of NaNs.\n",
    "    #alpha = sin(theta)*sin(theta_prime)*cos(theta-theta_prime) + cos(phi)*cos(phi_prime)\n",
    "    \n",
    "    return arccos(alpha)\n",
    "    \n",
    "\n",
    "vsf = np.zeros([ntheta, nphi, ntheta, nphi])\n",
    "\n",
    "for l in range(ntheta):\n",
    "    for m in range(nphi):\n",
    "        for lp in range(ntheta):\n",
    "            for mp in range(nphi):\n",
    "                vsf[l, m, lp, mp] = angle_diff(theta[l], phi[m], theta[lp], phi[mp])\n",
    "\n",
    "vsf"
   ]
  }
 ],
 "metadata": {
  "kernelspec": {
   "display_name": "Python 3",
   "language": "python",
   "name": "python3"
  },
  "language_info": {
   "codemirror_mode": {
    "name": "ipython",
    "version": 3
   },
   "file_extension": ".py",
   "mimetype": "text/x-python",
   "name": "python",
   "nbconvert_exporter": "python",
   "pygments_lexer": "ipython3",
   "version": "3.5.3"
  }
 },
 "nbformat": 4,
 "nbformat_minor": 2
}
