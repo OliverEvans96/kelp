{
 "cells": [
  {
   "cell_type": "code",
   "execution_count": 1,
   "metadata": {},
   "outputs": [],
   "source": [
    "from numpy import *\n",
    "from matplotlib.pyplot import *\n",
    "%matplotlib inline"
   ]
  },
  {
   "cell_type": "code",
   "execution_count": null,
   "metadata": {},
   "outputs": [],
   "source": [
    "# Number of planes\n",
    "Nx = 10\n",
    "Ny = 15\n",
    "\n",
    "# Distance between planes\n",
    "dx = .1\n",
    "dy = .3\n",
    "\n",
    "# Lower left corner of pixel space\n",
    "bx = 0\n",
    "by = 0 \n",
    "\n",
    "# Specify points defining line\n",
    "p1x = 0\n",
    "p1y = 3\n",
    "p2x = 1\n",
    "p2y = 5\n",
    "\n",
    "# Assume non-trivial path\n",
    "assert p1x != p2x and p1y != p2y\n",
    "\n",
    "px = lambda alpha: p1x + alpha*(p2x - p1x)\n",
    "py = lambda alpha: p1y + alpha*(p2y - p1y)\n",
    "p12 = lambda alpha: array([px(alpha), py(alpha)])"
   ]
  },
  {
   "cell_type": "code",
   "execution_count": 7,
   "metadata": {},
   "outputs": [],
   "source": [
    "# Index array for planes (from 0 to N-1)\n",
    "\n",
    "# Only calculate for extreme values\n",
    "ax_0 = ((bx+0*dx)-p1x) / (p2x-p1x)\n",
    "ay_0 = ((by+0*dy)-p1y) / (p2y-p1y)\n",
    "ax_Nxm1 = ((bx+(Nx-1)*dx)-p1x) / (p2x-p1x)\n",
    "ay_Nym1 = ((by+(Ny-1)*dy)-p1y) / (p2y-p1y)\n",
    "\n",
    "ax_min = min(ax_0, ax_Nxm1)\n",
    "ax_max = max(ax_0, ax_Nxm1)\n",
    "ay_min = min(ay_0, ay_Nym1)\n",
    "ay_max = max(ay_0, ay_Nym1)\n",
    "\n",
    "a_min = min(ax_min, ay_min)\n",
    "a_max = min(ax_max, ay_max)"
   ]
  },
  {
   "cell_type": "code",
   "execution_count": null,
   "metadata": {},
   "outputs": [],
   "source": [
    "phi_x = lambda alpha: (px(alpha) - bx) / dx\n",
    "phi_y = lambda alpha: (py(alpha) - by) / dy\n",
    "\n",
    "if a_min == ax_min:\n",
    "    i_min = 1\n",
    "else:\n",
    "    i_min = ceil(phi_x(a_min))\n",
    "if a_max == ax_max:\n",
    "    i_max = 1\n",
    "else:\n",
    "    i_max = ceil(phi_x(a_max))\n",
    "    \n",
    "if a_min == ax_min:\n",
    "    i_min = 1\n",
    "else:\n",
    "    i_min = ceil(phi_x(a_min))\n",
    "if a_max == ax_max:\n",
    "    i_max = 1\n",
    "else:\n",
    "    i_max = ceil(phi_x(a_max))"
   ]
  },
  {
   "cell_type": "code",
   "execution_count": null,
   "metadata": {},
   "outputs": [],
   "source": [
    "ax = ax_0\n",
    "ay = ay_0"
   ]
  }
 ],
 "metadata": {
  "kernelspec": {
   "display_name": "Python 3",
   "language": "python",
   "name": "python3"
  },
  "language_info": {
   "codemirror_mode": {
    "name": "ipython",
    "version": 3
   },
   "file_extension": ".py",
   "mimetype": "text/x-python",
   "name": "python",
   "nbconvert_exporter": "python",
   "pygments_lexer": "ipython3",
   "version": "3.5.3"
  }
 },
 "nbformat": 4,
 "nbformat_minor": 2
}
