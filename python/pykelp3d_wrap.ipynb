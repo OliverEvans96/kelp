{
 "cells": [
  {
   "cell_type": "code",
   "execution_count": 1,
   "metadata": {
    "scrolled": true
   },
   "outputs": [],
   "source": [
    "%load_ext autoreload\n",
    "%autoreload 2"
   ]
  },
  {
   "cell_type": "code",
   "execution_count": 1,
   "metadata": {},
   "outputs": [],
   "source": [
    "from fortran_wrappers.pykelp3d_wrap import f90wrap_py_gen_kelp as gen_kelp\n",
    "import numpy as np\n",
    "import ipyvolume as ipv\n",
    "\n",
    "from kelp3d_objs import Grid, Rope, Frond, Params, Kelp, OpticalProperties, Light, BoundaryCondition\n",
    "from kelp_widgets import RopeWidget, IOPWidget, GridWidget"
   ]
  },
  {
   "cell_type": "code",
   "execution_count": 2,
   "metadata": {},
   "outputs": [],
   "source": [
    "def vol_plot(p_kelp):\n",
    "    return ipv.quickvolshow(np.swapaxes(p_kelp[:,:,::-1], 1, 2)) "
   ]
  },
  {
   "cell_type": "code",
   "execution_count": 3,
   "metadata": {},
   "outputs": [],
   "source": [
    "grid = Grid()\n",
    "rope = Rope(grid)\n",
    "params = Params()\n",
    "kelp = Kelp()\n",
    "optical_properties = OpticalProperties(grid)\n",
    "light = Light()\n",
    "boundary_condition = BoundaryCondition()"
   ]
  },
  {
   "cell_type": "code",
   "execution_count": 4,
   "metadata": {},
   "outputs": [
    {
     "data": {
      "application/vnd.jupyter.widget-view+json": {
       "model_id": "614b7eb54893431984b78c2834a3265c",
       "version_major": 2,
       "version_minor": 0
      },
      "text/html": [
       "<p>Failed to display Jupyter Widget of type <code>GridWidget</code>.</p>\n",
       "<p>\n",
       "  If you're reading this message in Jupyter Notebook or JupyterLab, it may mean\n",
       "  that the widgets JavaScript is still loading. If this message persists, it\n",
       "  likely means that the widgets JavaScript library is either not installed or\n",
       "  not enabled. See the <a href=\"https://ipywidgets.readthedocs.io/en/stable/user_install.html\">Jupyter\n",
       "  Widgets Documentation</a> for setup instructions.\n",
       "</p>\n",
       "<p>\n",
       "  If you're reading this message in another notebook frontend (for example, a static\n",
       "  rendering on GitHub or <a href=\"https://nbviewer.jupyter.org/\">NBViewer</a>),\n",
       "  it may mean that your frontend doesn't currently support widgets.\n",
       "</p>\n"
      ],
      "text/plain": [
       "GridWidget(children=(HTML(value='<h3>Space/Angle Grid</h3>'), HBox(children=(VBox(children=(BoundedIntText(value=10, description='nx', layout=Layout(width='150px'), max=1000, min=1), BoundedIntText(value=10, description='ny', layout=Layout(width='150px'), max=1000, min=1), BoundedIntText(value=10, description='nz', layout=Layout(width='150px'), max=1000, min=1), BoundedIntText(value=10, description='ntheta', layout=Layout(width='150px'), max=1000, min=1), BoundedIntText(value=10, description='nphi', layout=Layout(width='150px'), max=1000, min=1))), VBox(children=(FloatSlider(value=1.0, description='x width', max=10.0, min=1.0), FloatSlider(value=1.0, description='y width', max=10.0, min=1.0), FloatSlider(value=10.0, description='z depth', max=10.0, min=1.0)))))))"
      ]
     },
     "metadata": {},
     "output_type": "display_data"
    }
   ],
   "source": [
    "GridWidget(grid)"
   ]
  },
  {
   "cell_type": "code",
   "execution_count": 7,
   "metadata": {},
   "outputs": [
    {
     "data": {
      "text/plain": [
       "array([ -2.35000000e+00,  -1.88000000e+00,  -1.41000000e+00,\n",
       "        -9.40000000e-01,  -4.70000000e-01,  -4.44089210e-16,\n",
       "         4.70000000e-01,   9.40000000e-01,   1.41000000e+00,\n",
       "         1.88000000e+00])"
      ]
     },
     "execution_count": 7,
     "metadata": {},
     "output_type": "execute_result"
    }
   ],
   "source": [
    "grid.x.vals"
   ]
  },
  {
   "cell_type": "code",
   "execution_count": 5,
   "metadata": {},
   "outputs": [
    {
     "data": {
      "application/vnd.jupyter.widget-view+json": {
       "model_id": "ecead0cccebf4295bb266083eda118ec",
       "version_major": 2,
       "version_minor": 0
      },
      "text/html": [
       "<p>Failed to display Jupyter Widget of type <code>IOPWidget</code>.</p>\n",
       "<p>\n",
       "  If you're reading this message in Jupyter Notebook or JupyterLab, it may mean\n",
       "  that the widgets JavaScript is still loading. If this message persists, it\n",
       "  likely means that the widgets JavaScript library is either not installed or\n",
       "  not enabled. See the <a href=\"https://ipywidgets.readthedocs.io/en/stable/user_install.html\">Jupyter\n",
       "  Widgets Documentation</a> for setup instructions.\n",
       "</p>\n",
       "<p>\n",
       "  If you're reading this message in another notebook frontend (for example, a static\n",
       "  rendering on GitHub or <a href=\"https://nbviewer.jupyter.org/\">NBViewer</a>),\n",
       "  it may mean that your frontend doesn't currently support widgets.\n",
       "</p>\n"
      ],
      "text/plain": [
       "IOPWidget(children=(FloatSlider(value=0.0, description='$a_w$', max=10.0), FloatSlider(value=0.0, description='$a_w$', max=10.0), FloatSlider(value=0.0, description='$a_k$', max=10.0), FloatSlider(value=0.0, description='$b_k$', max=10.0)))"
      ]
     },
     "metadata": {},
     "output_type": "display_data"
    }
   ],
   "source": [
    "IOPWidget(optical_properties)"
   ]
  },
  {
   "cell_type": "code",
   "execution_count": 6,
   "metadata": {
    "scrolled": false
   },
   "outputs": [
    {
     "data": {
      "application/vnd.jupyter.widget-view+json": {
       "model_id": "d4e5d0226d794cdf80ce350bbdb984d2",
       "version_major": 2,
       "version_minor": 0
      },
      "text/html": [
       "<p>Failed to display Jupyter Widget of type <code>RopeWidget</code>.</p>\n",
       "<p>\n",
       "  If you're reading this message in Jupyter Notebook or JupyterLab, it may mean\n",
       "  that the widgets JavaScript is still loading. If this message persists, it\n",
       "  likely means that the widgets JavaScript library is either not installed or\n",
       "  not enabled. See the <a href=\"https://ipywidgets.readthedocs.io/en/stable/user_install.html\">Jupyter\n",
       "  Widgets Documentation</a> for setup instructions.\n",
       "</p>\n",
       "<p>\n",
       "  If you're reading this message in another notebook frontend (for example, a static\n",
       "  rendering on GitHub or <a href=\"https://nbviewer.jupyter.org/\">NBViewer</a>),\n",
       "  it may mean that your frontend doesn't currently support widgets.\n",
       "</p>\n"
      ],
      "text/plain": [
       "RopeWidget(children=(HTML(value='<h3>Rope Parameters</h3>'), HBox(children=(HandDrawFigure(axes=[Axis(grid_lines='none', label='z', scale=LinearScale(max=9.0, min=0.0)), Axis(grid_lines='none', orientation='vertical', scale=LinearScale(max=10.0, min=0.0))], fig_margin={'bottom': 60, 'left': 60, 'right': 60, 'top': 60}, interaction=HandDraw(lines=Lines(colors=['red'], interactions={'hover': 'tooltip'}, interpolation='cardinal', scales={'x': LinearScale(max=9.0, min=0.0), 'y': LinearScale(max=10.0, min=0.0)}, scales_metadata={'color': {'dimension': 'color'}, 'x': {'dimension': 'x', 'orientation': 'horizontal'}, 'y': {'dimension': 'y', 'orientation': 'vertical'}}, tooltip_style={'opacity': 0.9}, x=array([ 0.,  1.,  2.,  3.,  4.,  5.,  6.,  7.,  8.,  9.]), y=array([ 0.5,  0.5,  0.5,  0.5,  0.5,  0.5,  0.5,  0.5,  0.5,  0.5])), max_x=None, min_x=None), layout=Layout(min_width='125px'), marks=[Lines(colors=['red'], interactions={'hover': 'tooltip'}, interpolation='cardinal', scales={'x': LinearScale(max=9.0, min=0.0), 'y': LinearScale(max=10.0, min=0.0)}, scales_metadata={'color': {'dimension': 'color'}, 'x': {'dimension': 'x', 'orientation': 'horizontal'}, 'y': {'dimension': 'y', 'orientation': 'vertical'}}, tooltip_style={'opacity': 0.9}, x=array([ 0.,  1.,  2.,  3.,  4.,  5.,  6.,  7.,  8.,  9.]), y=array([ 0.5,  0.5,  0.5,  0.5,  0.5,  0.5,  0.5,  0.5,  0.5,  0.5]))], scale_x=LinearScale(allow_padding=False, max=1.0, min=0.0), scale_y=LinearScale(allow_padding=False, max=1.0, min=0.0), title='Water current velocity'), HandDrawFigure(axes=[Axis(grid_lines='none', label='z', scale=LinearScale(max=9.0, min=0.0)), Axis(grid_lines='none', orientation='vertical', scale=LinearScale(max=6.2831853071795862, min=0.0))], fig_margin={'bottom': 60, 'left': 60, 'right': 60, 'top': 60}, interaction=HandDraw(lines=Lines(colors=['green'], interactions={'hover': 'tooltip'}, interpolation='cardinal', scales={'x': LinearScale(max=9.0, min=0.0), 'y': LinearScale(max=6.2831853071795862, min=0.0)}, scales_metadata={'color': {'dimension': 'color'}, 'x': {'dimension': 'x', 'orientation': 'horizontal'}, 'y': {'dimension': 'y', 'orientation': 'vertical'}}, tooltip_style={'opacity': 0.9}, x=array([ 0.,  1.,  2.,  3.,  4.,  5.,  6.,  7.,  8.,  9.]), y=array([ 0.78539816,  0.78539816,  0.78539816,  0.78539816,  0.78539816,\n",
       "        0.78539816,  0.78539816,  0.78539816,  0.78539816,  0.78539816])), max_x=None, min_x=None), layout=Layout(min_width='125px'), marks=[Lines(colors=['green'], interactions={'hover': 'tooltip'}, interpolation='cardinal', scales={'x': LinearScale(max=9.0, min=0.0), 'y': LinearScale(max=6.2831853071795862, min=0.0)}, scales_metadata={'color': {'dimension': 'color'}, 'x': {'dimension': 'x', 'orientation': 'horizontal'}, 'y': {'dimension': 'y', 'orientation': 'vertical'}}, tooltip_style={'opacity': 0.9}, x=array([ 0.,  1.,  2.,  3.,  4.,  5.,  6.,  7.,  8.,  9.]), y=array([ 0.78539816,  0.78539816,  0.78539816,  0.78539816,  0.78539816,\n",
       "        0.78539816,  0.78539816,  0.78539816,  0.78539816,  0.78539816]))], scale_x=LinearScale(allow_padding=False, max=1.0, min=0.0), scale_y=LinearScale(allow_padding=False, max=1.0, min=0.0), title='Water current angle'))), HBox(children=(HandDrawFigure(axes=[Axis(grid_lines='none', label='z', scale=LinearScale(max=9.0, min=0.0)), Axis(grid_lines='none', orientation='vertical', scale=LinearScale(max=1.0, min=0.0))], fig_margin={'bottom': 60, 'left': 60, 'right': 60, 'top': 60}, interaction=HandDraw(lines=Lines(colors=['blue'], interactions={'hover': 'tooltip'}, interpolation='cardinal', scales={'x': LinearScale(max=9.0, min=0.0), 'y': LinearScale(max=1.0, min=0.0)}, scales_metadata={'color': {'dimension': 'color'}, 'x': {'dimension': 'x', 'orientation': 'horizontal'}, 'y': {'dimension': 'y', 'orientation': 'vertical'}}, tooltip_style={'opacity': 0.9}, x=array([ 0.,  1.,  2.,  3.,  4.,  5.,  6.,  7.,  8.,  9.]), y=array([ 0.        ,  0.5       ,  0.73575888,  0.60900877,  0.39829655,\n",
       "        0.22894549,  0.12128305,  0.06072943,  0.02918022,  0.01358624])), max_x=None, min_x=None), layout=Layout(min_width='125px'), marks=[Lines(colors=['blue'], interactions={'hover': 'tooltip'}, interpolation='cardinal', scales={'x': LinearScale(max=9.0, min=0.0), 'y': LinearScale(max=1.0, min=0.0)}, scales_metadata={'color': {'dimension': 'color'}, 'x': {'dimension': 'x', 'orientation': 'horizontal'}, 'y': {'dimension': 'y', 'orientation': 'vertical'}}, tooltip_style={'opacity': 0.9}, x=array([ 0.,  1.,  2.,  3.,  4.,  5.,  6.,  7.,  8.,  9.]), y=array([ 0.        ,  0.5       ,  0.73575888,  0.60900877,  0.39829655,\n",
       "        0.22894549,  0.12128305,  0.06072943,  0.02918022,  0.01358624]))], scale_x=LinearScale(allow_padding=False, max=1.0, min=0.0), scale_y=LinearScale(allow_padding=False, max=1.0, min=0.0), title='Frond length mean'), HandDrawFigure(axes=[Axis(grid_lines='none', label='z', scale=LinearScale(max=9.0, min=0.0)), Axis(grid_lines='none', orientation='vertical', scale=LinearScale(max=1.0, min=0.0))], fig_margin={'bottom': 60, 'left': 60, 'right': 60, 'top': 60}, interaction=HandDraw(lines=Lines(colors=['yellow'], interactions={'hover': 'tooltip'}, interpolation='cardinal', scales={'x': LinearScale(max=9.0, min=0.0), 'y': LinearScale(max=1.0, min=0.0)}, scales_metadata={'color': {'dimension': 'color'}, 'x': {'dimension': 'x', 'orientation': 'horizontal'}, 'y': {'dimension': 'y', 'orientation': 'vertical'}}, tooltip_style={'opacity': 0.9}, x=array([ 0.,  1.,  2.,  3.,  4.,  5.,  6.,  7.,  8.,  9.]), y=array([ 0.1,  0.1,  0.1,  0.1,  0.1,  0.1,  0.1,  0.1,  0.1,  0.1])), max_x=None, min_x=None), layout=Layout(min_width='125px'), marks=[Lines(colors=['yellow'], interactions={'hover': 'tooltip'}, interpolation='cardinal', scales={'x': LinearScale(max=9.0, min=0.0), 'y': LinearScale(max=1.0, min=0.0)}, scales_metadata={'color': {'dimension': 'color'}, 'x': {'dimension': 'x', 'orientation': 'horizontal'}, 'y': {'dimension': 'y', 'orientation': 'vertical'}}, tooltip_style={'opacity': 0.9}, x=array([ 0.,  1.,  2.,  3.,  4.,  5.,  6.,  7.,  8.,  9.]), y=array([ 0.1,  0.1,  0.1,  0.1,  0.1,  0.1,  0.1,  0.1,  0.1,  0.1]))], scale_x=LinearScale(allow_padding=False, max=1.0, min=0.0), scale_y=LinearScale(allow_padding=False, max=1.0, min=0.0), title='Frond length std. dev.')))))"
      ]
     },
     "metadata": {},
     "output_type": "display_data"
    }
   ],
   "source": [
    "rw = RopeWidget(rope)\n",
    "rw"
   ]
  },
  {
   "cell_type": "code",
   "execution_count": 11,
   "metadata": {},
   "outputs": [],
   "source": [
    "l = tr.link((line, 'x'), (grid, 'z'))"
   ]
  },
  {
   "cell_type": "code",
   "execution_count": 10,
   "metadata": {},
   "outputs": [],
   "source": [
    "grid.z = np.linspace(0,1,101)[:-1]\n",
    "rope.frond_lengths = grid.z"
   ]
  },
  {
   "cell_type": "code",
   "execution_count": 8,
   "metadata": {},
   "outputs": [],
   "source": [
    "xmin, xmax = -1, 1\n",
    "ymin, ymax = -1, 1\n",
    "zmax = 1\n",
    "\n",
    "nx = 50\n",
    "ny = 50\n",
    "nz = 50\n",
    "\n",
    "z = np.linspace(0,zmax, nz+1)[:-1]\n",
    "\n",
    "frond_lengths = np.sin(5*z)**2 * np.exp(-z)\n",
    "frond_stds = np.ones_like(z)/10\n",
    "water_speeds = np.ones_like(z)\n",
    "water_angles = np.zeros_like(z)\n",
    "\n",
    "fs = .5\n",
    "fr = 2\n",
    "\n",
    "p_kelp = np.asfortranarray(np.zeros([nx, ny, nz]))\n"
   ]
  },
  {
   "cell_type": "code",
   "execution_count": null,
   "metadata": {},
   "outputs": [],
   "source": []
  },
  {
   "cell_type": "code",
   "execution_count": 9,
   "metadata": {},
   "outputs": [],
   "source": [
    "#%%timeit\n",
    "gen_kelp(xmin, xmax, nx, ymin, ymax, ny, zmax, nz,\n",
    "    frond_lengths, frond_stds, water_speeds, water_angles, fs, fr, p_kelp)"
   ]
  },
  {
   "cell_type": "code",
   "execution_count": 10,
   "metadata": {
    "scrolled": false
   },
   "outputs": [
    {
     "name": "stderr",
     "output_type": "stream",
     "text": [
      "/home/oliver/local/miniconda3/lib/python3.5/site-packages/ipyvolume/serialize.py:66: RuntimeWarning: invalid value encountered in true_divide\n",
      "  gradient = gradient / np.sqrt(gradient[0]**2 + gradient[1]**2 + gradient[2]**2)\n"
     ]
    },
    {
     "data": {
      "application/vnd.jupyter.widget-view+json": {
       "model_id": "feceaebcd96c467bac6b32c689e2976c",
       "version_major": 2,
       "version_minor": 0
      },
      "text/html": [
       "<p>Failed to display Jupyter Widget of type <code>VBox</code>.</p>\n",
       "<p>\n",
       "  If you're reading this message in Jupyter Notebook or JupyterLab, it may mean\n",
       "  that the widgets JavaScript is still loading. If this message persists, it\n",
       "  likely means that the widgets JavaScript library is either not installed or\n",
       "  not enabled. See the <a href=\"https://ipywidgets.readthedocs.io/en/stable/user_install.html\">Jupyter\n",
       "  Widgets Documentation</a> for setup instructions.\n",
       "</p>\n",
       "<p>\n",
       "  If you're reading this message in another notebook frontend (for example, a static\n",
       "  rendering on GitHub or <a href=\"https://nbviewer.jupyter.org/\">NBViewer</a>),\n",
       "  it may mean that your frontend doesn't currently support widgets.\n",
       "</p>\n"
      ],
      "text/plain": [
       "VBox(children=(VBox(children=(HBox(children=(Label(value='levels:'), FloatSlider(value=0.1, max=1.0, step=0.001), FloatSlider(value=0.5, max=1.0, step=0.001), FloatSlider(value=0.9, max=1.0, step=0.001))), HBox(children=(Label(value='opacities:'), FloatSlider(value=0.01, max=0.2, step=0.001), FloatSlider(value=0.05, max=0.2, step=0.001), FloatSlider(value=0.05, max=0.2, step=0.001))))), Figure(ambient_coefficient=1.0, camera_center=[0.0, 0.0, 0.0], data_max=0.5563708559168582, diffuse_coefficient=0.0, height=500, matrix_projection=[0.0, 0.0, 0.0, 0.0, 0.0, 0.0, 0.0, 0.0, 0.0, 0.0, 0.0, 0.0, 0.0, 0.0, 0.0, 0.0], matrix_world=[0.0, 0.0, 0.0, 0.0, 0.0, 0.0, 0.0, 0.0, 0.0, 0.0, 0.0, 0.0, 0.0, 0.0, 0.0, 0.0], specular_coefficient=0.0, style={'background-color': 'white', 'axes': {'label': {'color': 'black'}, 'visible': True, 'color': 'black', 'ticklabel': {'color': 'black'}}, 'box': {'visible': True}}, tf=TransferFunctionWidgetJs3(level3=0.9), volume_data=array([[[ 0.,  0.,  0., ...,  0.,  0.,  0.],\n",
       "        [ 0.,  0.,  0., ...,  0.,  0.,  0.],\n",
       "        [ 0.,  0.,  0., ...,  0.,  0.,  0.],\n",
       "        ..., \n",
       "        [ 0.,  0.,  0., ...,  0.,  0.,  0.],\n",
       "        [ 0.,  0.,  0., ...,  0.,  0.,  0.],\n",
       "        [ 0.,  0.,  0., ...,  0.,  0.,  0.]],\n",
       "\n",
       "       [[ 0.,  0.,  0., ...,  0.,  0.,  0.],\n",
       "        [ 0.,  0.,  0., ...,  0.,  0.,  0.],\n",
       "        [ 0.,  0.,  0., ...,  0.,  0.,  0.],\n",
       "        ..., \n",
       "        [ 0.,  0.,  0., ...,  0.,  0.,  0.],\n",
       "        [ 0.,  0.,  0., ...,  0.,  0.,  0.],\n",
       "        [ 0.,  0.,  0., ...,  0.,  0.,  0.]],\n",
       "\n",
       "       [[ 0.,  0.,  0., ...,  0.,  0.,  0.],\n",
       "        [ 0.,  0.,  0., ...,  0.,  0.,  0.],\n",
       "        [ 0.,  0.,  0., ...,  0.,  0.,  0.],\n",
       "        ..., \n",
       "        [ 0.,  0.,  0., ...,  0.,  0.,  0.],\n",
       "        [ 0.,  0.,  0., ...,  0.,  0.,  0.],\n",
       "        [ 0.,  0.,  0., ...,  0.,  0.,  0.]],\n",
       "\n",
       "       ..., \n",
       "       [[ 0.,  0.,  0., ...,  0.,  0.,  0.],\n",
       "        [ 0.,  0.,  0., ...,  0.,  0.,  0.],\n",
       "        [ 0.,  0.,  0., ...,  0.,  0.,  0.],\n",
       "        ..., \n",
       "        [ 0.,  0.,  0., ...,  0.,  0.,  0.],\n",
       "        [ 0.,  0.,  0., ...,  0.,  0.,  0.],\n",
       "        [ 0.,  0.,  0., ...,  0.,  0.,  0.]],\n",
       "\n",
       "       [[ 0.,  0.,  0., ...,  0.,  0.,  0.],\n",
       "        [ 0.,  0.,  0., ...,  0.,  0.,  0.],\n",
       "        [ 0.,  0.,  0., ...,  0.,  0.,  0.],\n",
       "        ..., \n",
       "        [ 0.,  0.,  0., ...,  0.,  0.,  0.],\n",
       "        [ 0.,  0.,  0., ...,  0.,  0.,  0.],\n",
       "        [ 0.,  0.,  0., ...,  0.,  0.,  0.]],\n",
       "\n",
       "       [[ 0.,  0.,  0., ...,  0.,  0.,  0.],\n",
       "        [ 0.,  0.,  0., ...,  0.,  0.,  0.],\n",
       "        [ 0.,  0.,  0., ...,  0.,  0.,  0.],\n",
       "        ..., \n",
       "        [ 0.,  0.,  0., ...,  0.,  0.,  0.],\n",
       "        [ 0.,  0.,  0., ...,  0.,  0.,  0.],\n",
       "        [ 0.,  0.,  0., ...,  0.,  0.,  0.]]]), width=400, xlim=[0.0, 1.0], ylim=[0.0, 1.0], zlim=[0.0, 1.0])))"
      ]
     },
     "metadata": {},
     "output_type": "display_data"
    }
   ],
   "source": [
    "vol_plot(p_kelp)"
   ]
  },
  {
   "cell_type": "code",
   "execution_count": null,
   "metadata": {},
   "outputs": [],
   "source": []
  }
 ],
 "metadata": {
  "kernelspec": {
   "display_name": "Python 3",
   "language": "python",
   "name": "python3"
  },
  "language_info": {
   "codemirror_mode": {
    "name": "ipython",
    "version": 3
   },
   "file_extension": ".py",
   "mimetype": "text/x-python",
   "name": "python",
   "nbconvert_exporter": "python",
   "pygments_lexer": "ipython3",
   "version": "3.5.3"
  }
 },
 "nbformat": 4,
 "nbformat_minor": 2
}
