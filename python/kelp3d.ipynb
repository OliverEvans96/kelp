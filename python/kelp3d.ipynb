{
 "cells": [
  {
   "cell_type": "code",
   "execution_count": 1,
   "metadata": {
    "nbpresent": {
     "id": "274b7038-4e9d-4d6b-818b-645633ae2654"
    }
   },
   "outputs": [],
   "source": [
    "import numpy as np\n",
    "import matplotlib.pyplot as plt\n",
    "%matplotlib inline\n",
    "from scipy.special import erf\n",
    "from scipy.stats import vonmises,norm\n",
    "from mpl_toolkits.mplot3d import Axes3D\n",
    "from scipy.special import iv\n",
    "from scipy.integrate import dblquad,quad\n",
    "import matplotlib as mpl\n",
    "\n",
    "import bqplot as bq\n",
    "import bqplot.interacts as bqi\n",
    "import ipywidgets as ipw\n",
    "import ipyvolume as ipv\n",
    "\n",
    "#Set font\n",
    "font = {'family':'serif','size':10}\n",
    "mpl.rc('font',**font)"
   ]
  },
  {
   "cell_type": "code",
   "execution_count": 2,
   "metadata": {
    "nbpresent": {
     "id": "3192a3d7-704d-44cc-b54e-890f114f0caf"
    }
   },
   "outputs": [],
   "source": [
    "def P_shade(rr,theta,vw=0,theta_w_deg=0,L_mean=3,L_std=1,fs=0.5,fr=2,stiff=1):\n",
    "    \n",
    "    # Convert theta_w to radians\n",
    "    theta_w = theta_w_deg*np.pi/180\n",
    "    \n",
    "    # Frond half-span angle\n",
    "    alpha = np.arctan((1+fs)/(2*fs*fr))\n",
    "    \n",
    "    # Try single integral\n",
    "    def single_pdf(theta_f):\n",
    "        \n",
    "        theta_prime = theta - theta_f + np.pi/2\n",
    "        S = np.sign(np.pi/2-theta_prime)\n",
    "        \n",
    "        # Minimum L for shading as a function of central frond angle\n",
    "        L_star = rr*(np.sin(theta_prime)+2*S*fr/(1+fs)*np.cos(theta_prime))\n",
    "    \n",
    "        # Integrated normalized L distribution\n",
    "        C_L = erf((L_star-L_mean)/(np.sqrt(2)*L_std)) / (1-erf(-L_mean/(np.sqrt(2)*L_std)))\n",
    "        \n",
    "        # Theta_f distribution\n",
    "        if vw > 0:\n",
    "            P_theta_f = vonmises.pdf(theta_f,vw/stiff,theta_w)\n",
    "        else:\n",
    "            P_theta_f = np.ones_like(theta_f)/(2*np.pi)\n",
    "        \n",
    "        return (1-C_L)*P_theta_f/2\n",
    "    SI = quad(single_pdf,theta-alpha,theta+alpha)\n",
    "    \n",
    "    return SI[0]"
   ]
  },
  {
   "cell_type": "code",
   "execution_count": 3,
   "metadata": {},
   "outputs": [],
   "source": [
    "# Spatial resolution\n",
    "ds = 1e-1\n",
    "# Angular resolution\n",
    "#da = pi/6\n",
    "\n",
    "# Define domain\n",
    "xmin, xmax, dx = -1, 1, ds\n",
    "ymin, ymax, dy = -1, 1, ds\n",
    "zmin, zmax, dz =  0, 1, ds\n",
    "#thmin, thmax, nth, = 0, 2*np.pi, da\n",
    "#phmin, phmax, nph = 0, np.pi, da\n",
    "\n",
    "nx = int((xmax - xmin) / dx)\n",
    "ny = int((ymax - ymin) / dy)\n",
    "nz = int((zmax - zmin) / dz)\n",
    "\n",
    "# Allocate arrays\n",
    "x = np.linspace(xmin, xmax, nx, endpoint=False)\n",
    "y = np.linspace(ymin, ymax, ny, endpoint=False)\n",
    "z = np.linspace(zmin, zmax, nz, endpoint=False)\n",
    "#th = np.linspace(thmin, thmax, nth)\n",
    "#ph = np.linspace(phmin, phmax, nph)\n",
    "\n",
    "# Convert x and y to polar coordinates\n",
    "xg, yg = np.meshgrid(x, y, indexing='ij')\n",
    "rr = np.sqrt(xg**2 + yg**2)\n",
    "th = np.arctan2(xg, yg)\n",
    "\n",
    "# Create grid\n",
    "#xg, yg, zg = np.meshgrid(x, y, z, indexing='ij')"
   ]
  },
  {
   "cell_type": "code",
   "execution_count": 4,
   "metadata": {},
   "outputs": [],
   "source": [
    "# Define variables over depth\n",
    "\n",
    "z_quants = ['vw', 'theta_w_deg', 'L_mean', 'L_std']\n",
    "\n",
    "z_scale = bq.LinearScale(min=zmin, max=zmax)\n",
    "z_ax = bq.Axis(scale=z_scale, label='Depth (z)', grid_lines='none')\n",
    "\n",
    "mins = {\n",
    "    'vw': 0,\n",
    "    'theta_w_deg': 0,\n",
    "    'L_mean': 0,\n",
    "    'L_std': 0\n",
    "}\n",
    "\n",
    "maxs = {\n",
    "    'vw': 1,\n",
    "    'theta_w_deg': 360,\n",
    "    'L_mean': 1,\n",
    "    'L_std': 1\n",
    "}\n",
    "\n",
    "colors = {\n",
    "    'vw': 'red',\n",
    "    'theta_w_deg': 'green',\n",
    "    'L_mean': 'blue',\n",
    "    'L_std': 'yellow'\n",
    "}\n",
    "\n",
    "labels = {\n",
    "    'vw': 'Water current velocity',\n",
    "    'theta_w_deg': 'Water current angle',\n",
    "    'L_mean': 'Frond length mean',\n",
    "    'L_std': 'Frond length std. dev.'\n",
    "}\n",
    "\n",
    "\n",
    "values = {}\n",
    "for quant in z_quants:\n",
    "    values[quant] = np.zeros_like(z)\n",
    "\n",
    "\n",
    "ys = {}\n",
    "lines = {}\n",
    "handdraws = {}\n",
    "yax = {}\n",
    "figs = {}\n",
    "\n",
    "out_area = ipw.Output()\n",
    "\n",
    "for quant in z_quants:\n",
    "    ys[quant] = bq.LinearScale(min=mins[quant], max=maxs[quant])\n",
    "    lines[quant] = bq.Lines(x=z, y=values[quant], scales={'x': z_scale, 'y': ys[quant]}, colors=[colors[quant]])\n",
    "    handdraws[quant] = bqi.HandDraw(lines=lines[quant])\n",
    "    yax[quant] = bq.Axis(scale=ys[quant], label=labels[quant], orientation='vertical', grid_lines='none')\n",
    "    figs[quant] = bq.Figure(marks=[lines[quant]], axes=[z_ax, yax[quant]], interaction=handdraws[quant])\n",
    "    \n",
    "    # Update values on handdraw\n",
    "    # Define the function like this with default argument so that `quant` takes its\n",
    "    # value at definition time, not evaluation time\n",
    "    def update_vals(change, quant=quant):\n",
    "        with out_area:\n",
    "            print()\n",
    "            print(quant)\n",
    "            values[quant] = change['new']\n",
    "            print('Updated!')\n",
    "    lines[quant].observe(update_vals, names='y')"
   ]
  },
  {
   "cell_type": "code",
   "execution_count": 5,
   "metadata": {},
   "outputs": [
    {
     "data": {
      "application/vnd.jupyter.widget-view+json": {
       "model_id": "75e2a6263dba42acb84ba45ab1728141",
       "version_major": 2,
       "version_minor": 0
      },
      "text/plain": [
       "A Jupyter Widget"
      ]
     },
     "metadata": {},
     "output_type": "display_data"
    }
   ],
   "source": [
    "ipw.VBox([\n",
    "    ipw.HBox([\n",
    "        figs['vw'],\n",
    "        figs['theta_w_deg'],\n",
    "    ]),\n",
    "    ipw.HBox([\n",
    "        figs['L_mean'],\n",
    "        figs['L_std']\n",
    "    ])\n",
    "])"
   ]
  },
  {
   "cell_type": "code",
   "execution_count": 6,
   "metadata": {},
   "outputs": [
    {
     "name": "stdout",
     "output_type": "stream",
     "text": [
      "1/20\n",
      "2/20\n",
      "3/20\n",
      "4/20\n",
      "5/20\n",
      "6/20\n",
      "7/20\n",
      "8/20\n",
      "9/20\n",
      "10/20\n",
      "11/20\n",
      "12/20\n",
      "13/20\n",
      "14/20\n",
      "15/20\n",
      "16/20\n",
      "17/20\n",
      "18/20\n",
      "19/20\n",
      "20/20\n"
     ]
    }
   ],
   "source": [
    "P3D = np.zeros([nx, ny, nz])\n",
    "\n",
    "for ii in range(nx):\n",
    "    print(\"{}/{}\".format(ii+1, nx))\n",
    "    for jj in range(ny):\n",
    "        for kk in range(nz):\n",
    "            P3D[ii, jj, kk] = P_shade(\n",
    "                rr=rr[ii,jj], \n",
    "                theta=th[ii,jj], \n",
    "                vw=values['vw'][kk],\n",
    "                theta_w_deg=values['theta_w_deg'][kk],\n",
    "                L_mean=values['L_mean'][kk],\n",
    "                L_std=values['L_std'][kk]\n",
    "            )\n"
   ]
  },
  {
   "cell_type": "code",
   "execution_count": 7,
   "metadata": {},
   "outputs": [],
   "source": [
    "X,Y = np.meshgrid(x,y, indexing='ij')"
   ]
  },
  {
   "cell_type": "code",
   "execution_count": 8,
   "metadata": {},
   "outputs": [
    {
     "data": {
      "text/plain": [
       "<matplotlib.contour.QuadContourSet at 0x7fcf7e5d6550>"
      ]
     },
     "execution_count": 8,
     "metadata": {},
     "output_type": "execute_result"
    },
    {
     "data": {
      "image/png": "[encoded data removed]",
      "text/plain": [
       "<matplotlib.figure.Figure at 0x7fcf81269898>"
      ]
     },
     "metadata": {},
     "output_type": "display_data"
    }
   ],
   "source": [
    "plt.contour(X,Y,P3D[:,:,0])"
   ]
  },
  {
   "cell_type": "code",
   "execution_count": 10,
   "metadata": {},
   "outputs": [
    {
     "data": {
      "application/vnd.jupyter.widget-view+json": {
       "model_id": "703320ff83454962a84924dd855bc72f",
       "version_major": 2,
       "version_minor": 0
      },
      "text/plain": [
       "A Jupyter Widget"
      ]
     },
     "metadata": {},
     "output_type": "display_data"
    }
   ],
   "source": [
    "ipv.quickvolshow(P3D)"
   ]
  }
 ],
 "metadata": {
  "kernelspec": {
   "display_name": "jupyter-hpc",
   "language": "python",
   "name": "jupyter-hpc"
  },
  "language_info": {
   "codemirror_mode": {
    "name": "ipython",
    "version": 3
   },
   "file_extension": ".py",
   "mimetype": "text/x-python",
   "name": "python",
   "nbconvert_exporter": "python",
   "pygments_lexer": "ipython3",
   "version": "3.6.0"
  },
  "widgets": {
   "application/vnd.jupyter.widget-state+json": {
    "state": {
     "055e7881ad4f4ed58a502bb4f535af4c": {
      "model_module": "bqplot",
      "model_module_version": "^0.3.0-alpha.3",
      "model_name": "LinearScaleModel",
      "state": {
       "_model_module_version": "^0.3.0-alpha.3",
       "_view_module_version": "^0.3.0-alpha.3",
       "max": 1,
       "min": 0,
       "stabilized": false
      }
     },
     "075381898ab34090bc2627a254bf7acc": {
      "model_module": "@jupyter-widgets/controls",
      "model_module_version": "1.0.0",
      "model_name": "FloatSliderModel",
      "state": {
       "layout": "IPY_MODEL_683bc4094af24b6399736b2bfb95ea3b",
       "max": 1,
       "step": 0.001,
       "style": "IPY_MODEL_a5b6538093224d70a7de20906cb96d07",
       "value": 0.474
      }
     },
     "0a2e3ea53a674a14b6b11a50f19928e2": {
      "model_module": "@jupyter-widgets/base",
      "model_module_version": "1.0.0",
      "model_name": "LayoutModel",
      "state": {}
     },
     "0d4ae07193d04ba9862b2db60d975d7b": {
      "model_module": "@jupyter-widgets/base",
      "model_module_version": "1.0.0",
      "model_name": "LayoutModel",
      "state": {}
     },
     "0ecc5191bd984788a420d368776eb848": {
      "model_module": "@jupyter-widgets/base",
      "model_module_version": "1.0.0",
      "model_name": "LayoutModel",
      "state": {}
     },
     "13569facdd4e452e9f084092f093f643": {
      "model_module": "bqplot",
      "model_module_version": "^0.3.0-alpha.3",
      "model_name": "AxisModel",
      "state": {
       "_model_module_version": "^0.3.0-alpha.3",
       "_view_module_version": "^0.3.0-alpha.3",
       "grid_lines": "none",
       "label": "Water current velocity",
       "orientation": "vertical",
       "scale": "IPY_MODEL_055e7881ad4f4ed58a502bb4f535af4c",
       "side": "left",
       "tick_values": {
        "type": null,
        "values": null
       }
      }
     },
     "17f62c5ffbd34cfb8c34f089b66f4706": {
      "model_module": "@jupyter-widgets/controls",
      "model_module_version": "1.0.0",
      "model_name": "ToggleButtonModel",
      "state": {
       "description": "fullscreen",
       "icon": "arrows-alt",
       "layout": "IPY_MODEL_a89ef09a5c4f4baab40e366ebb981296",
       "style": "IPY_MODEL_4a3e7b9a18d349048d7937226654bf05"
      }
     },
     "1b620fc3ffcb4c8485e2331d3f1beacc": {
      "model_module": "@jupyter-widgets/base",
      "model_module_version": "1.0.0",
      "model_name": "LayoutModel",
      "state": {}
     },
     "20506005b2f54e5aa73b6b15d5f1de42": {
      "model_module": "bqplot",
      "model_module_version": "^0.3.0-alpha.3",
      "model_name": "LinesModel",
      "state": {
       "_model_module_version": "^0.3.0-alpha.3",
       "_view_module_version": "^0.3.0-alpha.3",
       "color": {
        "type": null,
        "values": null
       },
       "colors": [
        "blue"
       ],
       "display_legend": false,
       "fill_colors": [],
       "labels": [
        "C1"
       ],
       "scales": {
        "x": "IPY_MODEL_f5a6629ed8b84820a6d93b4ed95f76ac",
        "y": "IPY_MODEL_dea9679888154fb588f1007af644ab0b"
       },
       "selected": [],
       "x": {
        "type": "float",
        "values": [
         0,
         0.1,
         0.2,
         0.30000000000000004,
         0.4,
         0.5,
         0.6000000000000001,
         0.7000000000000001,
         0.8,
         0.9
        ]
       },
       "y": {
        "type": "float",
        "values": [
         0.7603860294117647,
         0.7603860294117647,
         0.7515625,
         0.7456801470588236,
         0.7368566176470588,
         0.7368566176470588,
         0.7339154411764706,
         0.7339154411764706,
         0.7339154411764706,
         0.739797794117647
        ]
       }
      }
     },
     "226c4f93a93f49df88a742852341b352": {
      "model_module": "@jupyter-widgets/base",
      "model_module_version": "1.0.0",
      "model_name": "LayoutModel",
      "state": {}
     },
     "248e2b5b5aea46b7a5ce1ce4b3b96189": {
      "model_module": "@jupyter-widgets/controls",
      "model_module_version": "1.0.0",
      "model_name": "FloatSliderModel",
      "state": {
       "layout": "IPY_MODEL_f0b1289b53a944ec89e9ddc446b04d49",
       "max": 1,
       "step": 0.001,
       "style": "IPY_MODEL_35eb20cdcc964b8dbdae1731c33c5b41",
       "value": 0.337
      }
     },
     "27d0b782c6c945a783412d6ff63f4537": {
      "model_module": "bqplot",
      "model_module_version": "^0.3.0-alpha.3",
      "model_name": "AxisModel",
      "state": {
       "_model_module_version": "^0.3.0-alpha.3",
       "_view_module_version": "^0.3.0-alpha.3",
       "grid_lines": "none",
       "label": "Frond length mean",
       "orientation": "vertical",
       "scale": "IPY_MODEL_dea9679888154fb588f1007af644ab0b",
       "side": "left",
       "tick_values": {
        "type": null,
        "values": null
       }
      }
     },
     "296a94bdbaea4eb5b646ffcc6a530f23": {
      "model_module": "bqplot",
      "model_module_version": "^0.3.0-alpha.3",
      "model_name": "FigureModel",
      "state": {
       "_dom_classes": [],
       "_model_module_version": "^0.3.0-alpha.3",
       "_view_module_version": "^0.3.0-alpha.3",
       "axes": [
        "IPY_MODEL_c15e025ecf834e31a191f2674611066e",
        "IPY_MODEL_632aee13935e4e1393b632a9ac055f84"
       ],
       "interaction": "IPY_MODEL_ae4da739451841efb39f4856a994c270",
       "layout": "IPY_MODEL_e89007390c384542b6cd526a82e9abc1",
       "marks": [
        "IPY_MODEL_ba464df4a69d4e22b7fbb990ba223e63"
       ],
       "max_aspect_ratio": 6,
       "scale_x": "IPY_MODEL_2c78f9d63feb4659a970aacd9a0fc280",
       "scale_y": "IPY_MODEL_e03818da5e8541d79e505ec4303cc6ce"
      }
     },
     "2c48c3f2de434efdbc519cd78ee7fc85": {
      "model_module": "@jupyter-widgets/controls",
      "model_module_version": "1.0.0",
      "model_name": "HBoxModel",
      "state": {
       "children": [
        "IPY_MODEL_b88d38689abf401b8862e48e5fee58c3",
        "IPY_MODEL_296a94bdbaea4eb5b646ffcc6a530f23"
       ],
       "layout": "IPY_MODEL_31cabc2275ab4d849831be15bebcfc5b"
      }
     },
     "2c78f9d63feb4659a970aacd9a0fc280": {
      "model_module": "bqplot",
      "model_module_version": "^0.3.0-alpha.3",
      "model_name": "LinearScaleModel",
      "state": {
       "_model_module_version": "^0.3.0-alpha.3",
       "_view_module_version": "^0.3.0-alpha.3",
       "allow_padding": false,
       "max": 1,
       "min": 0,
       "stabilized": false
      }
     },
     "2d1984ec368b44cba7fdf63a8b603e52": {
      "model_module": "@jupyter-widgets/controls",
      "model_module_version": "1.0.0",
      "model_name": "LabelModel",
      "state": {
       "layout": "IPY_MODEL_da3807f213f3475880ac6c03970b206d",
       "style": "IPY_MODEL_f01f8f3b579e410fa630981730c794ac",
       "value": "opacities:"
      }
     },
     "30b6938431c141c79f511d80efcbdfa4": {
      "model_module": "@jupyter-widgets/controls",
      "model_module_version": "1.0.0",
      "model_name": "VBoxModel",
      "state": {
       "children": [
        "IPY_MODEL_46899af49b6e42e5a2154ad779394afe",
        "IPY_MODEL_2c48c3f2de434efdbc519cd78ee7fc85"
       ],
       "layout": "IPY_MODEL_4b8f331e7fe2466aa5045ae484e1c6bf"
      }
     },
     "31cabc2275ab4d849831be15bebcfc5b": {
      "model_module": "@jupyter-widgets/base",
      "model_module_version": "1.0.0",
      "model_name": "LayoutModel",
      "state": {}
     },
     "338350ea4d694114bb20e0a29a747aa5": {
      "model_module": "bqplot",
      "model_module_version": "^0.3.0-alpha.3",
      "model_name": "LinearScaleModel",
      "state": {
       "_model_module_version": "^0.3.0-alpha.3",
       "_view_module_version": "^0.3.0-alpha.3",
       "allow_padding": false,
       "max": 1,
       "min": 0,
       "stabilized": false
      }
     },
     "34610d7e61cb45be9866411aa7f76bf0": {
      "model_module": "@jupyter-widgets/controls",
      "model_module_version": "1.0.0",
      "model_name": "FloatSliderModel",
      "state": {
       "layout": "IPY_MODEL_9c71a499f99040b6864ac62db9e1b794",
       "max": 1,
       "step": 0.001,
       "style": "IPY_MODEL_efd0233235c34e4dbc4b6e8fd7fa46a8",
       "value": 0.572
      }
     },
     "35eb20cdcc964b8dbdae1731c33c5b41": {
      "model_module": "@jupyter-widgets/controls",
      "model_module_version": "1.0.0",
      "model_name": "SliderStyleModel",
      "state": {
       "description_width": ""
      }
     },
     "3b7720ca7ee142c0815fb9fbe0d95d05": {
      "model_module": "bqplot",
      "model_module_version": "^0.3.0-alpha.3",
      "model_name": "FigureModel",
      "state": {
       "_dom_classes": [],
       "_model_module_version": "^0.3.0-alpha.3",
       "_view_module_version": "^0.3.0-alpha.3",
       "layout": "IPY_MODEL_f39259dfc7714521bb55702e7d0c58d7",
       "max_aspect_ratio": 6,
       "scale_x": "IPY_MODEL_a04e5b2798ee45c78b6fac51ad4b422a",
       "scale_y": "IPY_MODEL_338350ea4d694114bb20e0a29a747aa5"
      }
     },
     "3f431585aa604e13a2e0e2e1d5d45ae1": {
      "model_module": "@jupyter-widgets/base",
      "model_module_version": "1.0.0",
      "model_name": "LayoutModel",
      "state": {}
     },
     "3f8904a972274f519a3cf06b02af0f0c": {
      "model_module": "@jupyter-widgets/controls",
      "model_module_version": "1.0.0",
      "model_name": "ToggleButtonModel",
      "state": {
       "description": "stereo",
       "icon": "eye",
       "layout": "IPY_MODEL_bdc780b1317e4f9586398bc9c4dea2be",
       "style": "IPY_MODEL_645429c5c4bc415086c6f3c19d2e3964"
      }
     },
     "409f0814164f4269925f4fc45e63b083": {
      "model_module": "@jupyter-widgets/controls",
      "model_module_version": "1.0.0",
      "model_name": "LinkModel",
      "state": {
       "source": [
        "IPY_MODEL_99c49769546e4630aa0a7eea8ba30bd2",
        "stereo"
       ],
       "target": [
        "IPY_MODEL_3f8904a972274f519a3cf06b02af0f0c",
        "value"
       ]
      }
     },
     "42027c2eca344f01b244ab003f3980cf": {
      "model_module": "@jupyter-widgets/base",
      "model_module_version": "1.0.0",
      "model_name": "LayoutModel",
      "state": {}
     },
     "43e9785d38e1493ca7364cfff09290de": {
      "model_module": "@jupyter-widgets/controls",
      "model_module_version": "1.0.0",
      "model_name": "VBoxModel",
      "state": {
       "children": [
        "IPY_MODEL_6ac82b80b15142a49df6a040bbca83bb",
        "IPY_MODEL_a0d1ba4819e643219f79360ae40a6549"
       ],
       "layout": "IPY_MODEL_45f3e3da358740888dc424179decd44d"
      }
     },
     "45f3e3da358740888dc424179decd44d": {
      "model_module": "@jupyter-widgets/base",
      "model_module_version": "1.0.0",
      "model_name": "LayoutModel",
      "state": {}
     },
     "46899af49b6e42e5a2154ad779394afe": {
      "model_module": "@jupyter-widgets/controls",
      "model_module_version": "1.0.0",
      "model_name": "HBoxModel",
      "state": {
       "children": [
        "IPY_MODEL_f7e51c9b637d45d1bb495819ee636514",
        "IPY_MODEL_b5e612ecb21244dbb7aca11160bbe901"
       ],
       "layout": "IPY_MODEL_42027c2eca344f01b244ab003f3980cf"
      }
     },
     "4a3e7b9a18d349048d7937226654bf05": {
      "model_module": "@jupyter-widgets/controls",
      "model_module_version": "1.0.0",
      "model_name": "DescriptionStyleModel",
      "state": {
       "description_width": ""
      }
     },
     "4b8f331e7fe2466aa5045ae484e1c6bf": {
      "model_module": "@jupyter-widgets/base",
      "model_module_version": "1.0.0",
      "model_name": "LayoutModel",
      "state": {}
     },
     "4d8413ddcbea4d67ad25a4f26fa3cb97": {
      "model_module": "@jupyter-widgets/controls",
      "model_module_version": "1.0.0",
      "model_name": "HBoxModel",
      "state": {
       "children": [
        "IPY_MODEL_f7e51c9b637d45d1bb495819ee636514",
        "IPY_MODEL_b5e612ecb21244dbb7aca11160bbe901"
       ],
       "layout": "IPY_MODEL_3f431585aa604e13a2e0e2e1d5d45ae1"
      }
     },
     "4d9f890a882d4620b53dc2ddccec6ec8": {
      "model_module": "@jupyter-widgets/base",
      "model_module_version": "1.0.0",
      "model_name": "LayoutModel",
      "state": {}
     },
     "52c68baf6b7843b98a6f99cc92d101e0": {
      "model_module": "bqplot",
      "model_module_version": "^0.3.0-alpha.3",
      "model_name": "LinearScaleModel",
      "state": {
       "_model_module_version": "^0.3.0-alpha.3",
       "_view_module_version": "^0.3.0-alpha.3",
       "allow_padding": false,
       "max": 1,
       "min": 0,
       "stabilized": false
      }
     },
     "56fa61fe76eb4c0f8d4421b7efb15047": {
      "model_module": "bqplot",
      "model_module_version": "^0.3.0-alpha.3",
      "model_name": "LinearScaleModel",
      "state": {
       "_model_module_version": "^0.3.0-alpha.3",
       "_view_module_version": "^0.3.0-alpha.3",
       "allow_padding": false,
       "max": 1,
       "min": 0,
       "stabilized": false
      }
     },
     "5b072ebf5d8241398bbd4ceda2289995": {
      "model_module": "@jupyter-widgets/controls",
      "model_module_version": "1.0.0",
      "model_name": "LabelModel",
      "state": {
       "layout": "IPY_MODEL_4d9f890a882d4620b53dc2ddccec6ec8",
       "style": "IPY_MODEL_6cfb08e278ad4cc8a46d495caa28ad9b",
       "value": "levels:"
      }
     },
     "5d3a0db5c5214ddba8c5385e41645e5a": {
      "model_module": "@jupyter-widgets/controls",
      "model_module_version": "1.0.0",
      "model_name": "LinkModel",
      "state": {
       "source": [
        "IPY_MODEL_8ecc4bdf817c45e4835644496ff7333d",
        "opacity3"
       ],
       "target": [
        "IPY_MODEL_ddc0c7f2f62f425695420eec2261dc21",
        "value"
       ]
      }
     },
     "632aee13935e4e1393b632a9ac055f84": {
      "model_module": "bqplot",
      "model_module_version": "^0.3.0-alpha.3",
      "model_name": "AxisModel",
      "state": {
       "_model_module_version": "^0.3.0-alpha.3",
       "_view_module_version": "^0.3.0-alpha.3",
       "grid_lines": "none",
       "label": "Frond length std. dev.",
       "orientation": "vertical",
       "scale": "IPY_MODEL_e8afa8a649c2482090f1a53a738c184f",
       "side": "left",
       "tick_values": {
        "type": null,
        "values": null
       }
      }
     },
     "645429c5c4bc415086c6f3c19d2e3964": {
      "model_module": "@jupyter-widgets/controls",
      "model_module_version": "1.0.0",
      "model_name": "DescriptionStyleModel",
      "state": {
       "description_width": ""
      }
     },
     "64bc5a47043e4f0eb626a64e13b14e6b": {
      "model_module": "@jupyter-widgets/controls",
      "model_module_version": "1.0.0",
      "model_name": "HBoxModel",
      "state": {
       "children": [
        "IPY_MODEL_b88d38689abf401b8862e48e5fee58c3",
        "IPY_MODEL_296a94bdbaea4eb5b646ffcc6a530f23"
       ],
       "layout": "IPY_MODEL_1b620fc3ffcb4c8485e2331d3f1beacc"
      }
     },
     "66e803f45a394de0b1b4ab8240759f3d": {
      "model_module": "@jupyter-widgets/base",
      "model_module_version": "1.0.0",
      "model_name": "LayoutModel",
      "state": {}
     },
     "683bc4094af24b6399736b2bfb95ea3b": {
      "model_module": "@jupyter-widgets/base",
      "model_module_version": "1.0.0",
      "model_name": "LayoutModel",
      "state": {}
     },
     "6880bda6048e40149b95e7828a1f902d": {
      "model_module": "@jupyter-widgets/controls",
      "model_module_version": "1.0.0",
      "model_name": "LinkModel",
      "state": {
       "source": [
        "IPY_MODEL_8ecc4bdf817c45e4835644496ff7333d",
        "opacity2"
       ],
       "target": [
        "IPY_MODEL_a9821b50c15d4d89a61d4f74b0a6eb61",
        "value"
       ]
      }
     },
     "6ac82b80b15142a49df6a040bbca83bb": {
      "model_module": "@jupyter-widgets/controls",
      "model_module_version": "1.0.0",
      "model_name": "HBoxModel",
      "state": {
       "children": [
        "IPY_MODEL_f7e51c9b637d45d1bb495819ee636514",
        "IPY_MODEL_b5e612ecb21244dbb7aca11160bbe901"
       ],
       "layout": "IPY_MODEL_7520564ad858496e8af58ca2b948ab5f"
      }
     },
     "6bca808c4cff4911933bd47d86a3b4e3": {
      "model_module": "@jupyter-widgets/output",
      "model_module_version": "1.0.0",
      "model_name": "OutputModel",
      "state": {
       "layout": "IPY_MODEL_66e803f45a394de0b1b4ab8240759f3d",
       "outputs": [
        {
         "name": "stdout",
         "output_type": "stream",
         "text": "\nvw\nUpdated!\n\ntheta_w_deg\nUpdated!\n\nL_mean\nUpdated!\n\nL_std\nUpdated!\n"
        }
       ]
      }
     },
     "6caf0e04aacd4a1283e24a9d53a65a03": {
      "model_module": "@jupyter-widgets/base",
      "model_module_version": "1.0.0",
      "model_name": "LayoutModel",
      "state": {}
     },
     "6cfb08e278ad4cc8a46d495caa28ad9b": {
      "model_module": "@jupyter-widgets/controls",
      "model_module_version": "1.0.0",
      "model_name": "DescriptionStyleModel",
      "state": {
       "description_width": ""
      }
     },
     "7520564ad858496e8af58ca2b948ab5f": {
      "model_module": "@jupyter-widgets/base",
      "model_module_version": "1.0.0",
      "model_name": "LayoutModel",
      "state": {}
     },
     "80cfb655074e47e1bd99171829e14a86": {
      "model_module": "bqplot",
      "model_module_version": "^0.3.0-alpha.3",
      "model_name": "HandDrawModel",
      "state": {
       "_model_module_version": "^0.3.0-alpha.3",
       "_view_module_version": "^0.3.0-alpha.3",
       "lines": "IPY_MODEL_98f2e9cc6e4948fd94e0e2ed5e223d77"
      }
     },
     "8702eb2501324d38b59cb45e0bc4f902": {
      "model_module": "bqplot",
      "model_module_version": "^0.3.0-alpha.3",
      "model_name": "LinearScaleModel",
      "state": {
       "_model_module_version": "^0.3.0-alpha.3",
       "_view_module_version": "^0.3.0-alpha.3",
       "allow_padding": false,
       "max": 1,
       "min": 0,
       "stabilized": false
      }
     },
     "8727c54dce1c4dbf9396ef1daba23a89": {
      "model_module": "@jupyter-widgets/base",
      "model_module_version": "1.0.0",
      "model_name": "LayoutModel",
      "state": {}
     },
     "87a9d8d7676b4fc99a7db89b5e9fdfc9": {
      "model_module": "@jupyter-widgets/base",
      "model_module_version": "1.0.0",
      "model_name": "LayoutModel",
      "state": {}
     },
     "8ba2ed7409784328925d305b26599fbb": {
      "model_module": "@jupyter-widgets/controls",
      "model_module_version": "1.0.0",
      "model_name": "VBoxModel",
      "state": {
       "children": [
        "IPY_MODEL_d4962e159b4646af93dd3740f0b0c5a0",
        "IPY_MODEL_b8fc9772fd37478182f434d4e9a1893e"
       ],
       "layout": "IPY_MODEL_0d4ae07193d04ba9862b2db60d975d7b"
      }
     },
     "8d599c3e36624953a668843f5cf6375c": {
      "model_module": "@jupyter-widgets/base",
      "model_module_version": "1.0.0",
      "model_name": "LayoutModel",
      "state": {
       "min_width": "125px"
      }
     },
     "8ecc4bdf817c45e4835644496ff7333d": {
      "model_module": "ipyvolume",
      "model_module_version": "1.0.0",
      "model_name": "TransferFunctionWidgetJs3Model",
      "state": {
       "_model_module_version": "1.0.0",
       "_view_module_version": "",
       "layout": "IPY_MODEL_87a9d8d7676b4fc99a7db89b5e9fdfc9",
       "level1": 0.337,
       "level2": 0.474,
       "level3": 0.572,
       "opacity1": 0.02,
       "opacity2": 0.021,
       "opacity3": 0.024,
       "rgba": [
        [
         1,
         1.569905818178758e-05,
         6.338692308809755e-10,
         2.3377486365441024e-07
        ],
        [
         1,
         1.7479900928858138e-05,
         7.621599167829442e-10,
         3.0403297547134625e-07
        ],
        [
         1,
         1.946275585099487e-05,
         9.164157375855608e-10,
         3.941920652528816e-07
        ],
        [
         1,
         2.1670538457690434e-05,
         1.101891854454034e-09,
         5.095178309175684e-07
        ],
        [
         1,
         2.412876370856962e-05,
         1.3249070363098317e-09,
         6.565612206481981e-07
        ],
        [
         1,
         2.6865840885341512e-05,
         1.5930589265795263e-09,
         8.43442367981412e-07
        ],
        [
         1,
         2.9913401912927266e-05,
         1.915482878423804e-09,
         1.0801895106297886e-06
        ],
        [
         1,
         3.330666692411379e-05,
         2.303163176400921e-09,
         1.3791416417748694e-06
        ],
        [
         1,
         3.70848512925057e-05,
         2.7693072472118196e-09,
         1.7554245915987935e-06
        ],
        [
         1,
         4.129161883777574e-05,
         3.329795608075029e-09,
         2.2275111857147968e-06
        ],
        [
         1,
         4.5975586440836016e-05,
         4.003722881496379e-09,
         2.8178770462879934e-06
        ],
        [
         1,
         5.11908859006767e-05,
         4.814048307633093e-09,
         3.5537644541506878e-06
        ],
        [
         1,
         5.699778952614996e-05,
         5.788377915797058e-09,
         4.468067431419882e-06
        ],
        [
         1,
         6.34634066925641e-05,
         6.959905001983873e-09,
         5.6003517810588985e-06
        ],
        [
         1,
         7.066245941306164e-05,
         8.368540952456e-09,
         6.99802417104999e-06
        ],
        [
         1,
         7.867814588792944e-05,
         1.0062274938087559e-08,
         8.717664406522847e-06
        ],
        [
         1,
         8.76031020117323e-05,
         1.2098808801306201e-08,
         1.0826534715539844e-05
        ],
        [
         1,
         9.754047195023347e-05,
         1.4547522832683147e-08,
         1.3404279098463571e-05
        ],
        [
         1,
         0.00010860510015958175,
         1.7491839406916547e-08,
         1.6544824466510528e-05
        ],
        [
         1,
         0.0001209248586237199,
         2.1032065002157453e-08,
         2.0358493328239347e-05
        ],
        [
         1,
         0.00013464212464865972,
         2.5288807424110178e-08,
         2.497433507844081e-05
        ],
        [
         1,
         0.00014991542629225156,
         3.040708465232136e-08,
         3.054267940977624e-05
        ],
        [
         1,
         0.00016692127444537715,
         3.656126528813483e-08,
         3.72379109177128e-05
        ],
        [
         1,
         0.00018585620273761487,
         4.3961008914654825e-08,
         4.5261458529348035e-05
        ],
        [
         1,
         0.00020693903884222442,
         5.285840874389897e-08,
         5.484498689895668e-05
        ],
        [
         1,
         0.00023041343342950396,
         6.355657988562917e-08,
         6.625376934274068e-05
        ],
        [
         1,
         0.000256550675995213,
         7.64199858215478e-08,
         7.979021322684501e-05
        ],
        [
         1,
         0.0002856528301060985,
         9.188685488543874e-08,
         9.579749900679513e-05
        ],
        [
         1,
         0.0003180562242959982,
         1.1048410975178376e-07,
         0.00011466328341643797
        ],
        [
         1,
         0.0003541353389562183,
         1.3284531854815487e-07,
         0.0001368234057427386
        ],
        [
         1,
         0.0003943071341402896,
         1.5973227914682906e-07,
         0.0001627655238768987
        ],
        [
         1,
         0.00043903586829878357,
         1.9206097196561527e-07,
         0.00019303259413945862
        ],
        [
         1,
         0.0004888384636334994,
         2.3093276543352424e-07,
         0.00022822609603764829
        ],
        [
         1,
         0.000544290480077437,
         2.776719372237832e-07,
         0.0002690088904920789
        ],
        [
         1,
         0.0006060327669408591,
         3.338707895212156e-07,
         0.0003161075880953494
        ],
        [
         1,
         0.0006747788690953065,
         4.014438953032711e-07,
         0.00037031429312571403
        ],
        [
         1,
         0.0007513232732875858,
         4.826933236877907e-07,
         0.00043248757987612467
        ],
        [
         1,
         0.0008365505898849434,
         5.803870664336613e-07,
         0.0005035525509574214
        ],
        [
         1,
         0.0009314457761632204,
         6.978533374150139e-07,
         0.0005844998232078492
        ],
        [
         1,
         0.0010371055192867982,
         8.390939576475497e-07,
         0.0006763832863149948
        ],
        [
         1,
         0.001154750910531438,
         1.0089206886488114e-06,
         0.0007803164828466053
        ],
        [
         1,
         0.0012857415572237782,
         1.2131191587142359e-06,
         0.0008974674666760516
        ],
        [
         1,
         0.0014315912954867708,
         1.458645966721568e-06,
         0.0010290520102975722
        ],
        [
         1,
         0.0015939856853804705,
         1.7538656783626814e-06,
         0.0011763250506871307
        ],
        [
         1,
         0.0017748014906264961,
         2.1088357887501996e-06,
         0.0013405702884868175
        ],
        [
         1,
         0.0019761283680400092,
         2.5356493594568446e-06,
         0.0015230878865331759
        ],
        [
         1,
         0.0022002930173300552,
         3.048847002887955e-06,
         0.0017251802510903603
        ],
        [
         1,
         0.0024498860703635137,
         3.6659122494010826e-06,
         0.001948135922358058
        ],
        [
         1,
         0.0027277920306470046,
         4.407867173255725e-06,
         0.002193211649441409
        ],
        [
         1,
         0.003037222609032284,
         5.299988569077092e-06,
         0.0024616127782887734
        ],
        [
         1,
         0.0033817538408999807,
         6.372669077412367e-06,
         0.00275447213815931
        ],
        [
         1,
         0.0037653674137786055,
         7.662452596059013e-06,
         0.0030728276717551196
        ],
        [
         1,
         0.004192496683014808,
         9.213279251382699e-06,
         0.0034175991147732373
        ],
        [
         1,
         0.004668077907290157,
         1.1077982343096925e-05,
         0.0037895640906047646
        ],
        [
         1,
         0.005197607296104202,
         1.3320088260165255e-05,
         0.004189334043339724
        ],
        [
         1,
         0.005787204528511836,
         1.6015980687056463e-05,
         0.004617330485083295
        ],
        [
         1,
         0.006443683477189815,
         1.9257502830163912e-05,
         0.0050737620797107665
        ],
        [
         1,
         0.007174630955178287,
         2.3155086316598686e-05,
         0.005558603122413765
        ],
        [
         1,
         0.007988494395359686,
         2.784151336015011e-05,
         0.00607157400058998
        ],
        [
         1,
         0.008894679475971346,
         3.347644036324553e-05,
         0.006612124234800283
        ],
        [
         1,
         0.009903658820393239,
         4.025183706421519e-05,
         0.007179418696867706
        ],
        [
         1,
         0.011027093027435,
         4.839852652980968e-05,
         0.00777232758422874
        ],
        [
         1,
         0.012277965430848456,
         5.81940487963256e-05,
         0.008389420694256754
        ],
        [
         1,
         0.013670732145457849,
         6.99721160565349e-05,
         0.009028966488811527
        ],
        [
         1,
         0.015221489133964723,
         8.413398151012184e-05,
         0.009688936367608456
        ],
        [
         1,
         0.016948158225189684,
         0.00010116210918969975,
         0.010367014479614824
        ],
        [
         1,
         0.01887069423353113,
         0.00012163661046372293,
         0.01106061329565988
        ],
        [
         1,
         0.021011315573284915,
         0.00014625500717228891,
         0.01176689504452576
        ],
        [
         1,
         0.023394761032994323,
         0.00017585599468299777,
         0.012482798981338215
        ],
        [
         1,
         0.026048575677326935,
         0.00021144801442261988,
         0.013205074314078318
        ],
        [
         1,
         0.029003429180596483,
         0.0002542436092887501,
         0.013930318465018743
        ],
        [
         1,
         0.03229347027085502,
         0.00030570073235577986,
         0.014655020192850402
        ],
        [
         1,
         0.03595672138080428,
         0.0003675724161731971,
         0.015375606952573359
        ],
        [
         1,
         0.04003551806643782,
         0.00044196649478143605,
         0.016088495728482068
        ],
        [
         1,
         0.04457699827169887,
         0.0005314174130448071,
         0.016790146445478035
        ],
        [
         1,
         0.04963364709350063,
         0.0006389725696896799,
         0.017477116950121517
        ],
        [
         1,
         0.05526390334286351,
         0.0007682961355679314,
         0.01814611845968889
        ],
        [
         1,
         0.06153283491209109,
         0.0009237938840086507,
         0.018794070309027845
        ],
        [
         1,
         0.06851289075308505,
         0.0011107632859573774,
         0.019418152784631562
        ],
        [
         1,
         0.0762847381572825,
         0.0013355739833186343,
         0.02001585682579331
        ],
        [
         1,
         0.08493819501351454,
         0.0016058847888370468,
         0.020585029395812336
        ],
        [
         1,
         0.09457326781772658,
         0.001930904605232154,
         0.02112391338288805
        ],
        [
         1,
         0.10530130743066005,
         0.0023217061525358795,
         0.021631180980407033
        ],
        [
         1,
         0.11724629594038403,
         0.0027916031916423215,
         0.022105959618546063
        ],
        [
         1,
         0.13054627950172593,
         0.003356604095257989,
         0.022547849671134775
        ],
        [
         1,
         0.14535496371167422,
         0.0040359572184305885,
         0.02295693334012754
        ],
        [
         1,
         0.16184348995823228,
         0.00485280664824728,
         0.023333774320415973
        ],
        [
         1,
         0.18020241327167474,
         0.005834980672671854,
         0.02367940806478161
        ],
        [
         1,
         0.20064390453589373,
         0.007015939829943784,
         0.02399532269652629
        ],
        [
         1,
         0.22340420251040471,
         0.008435916836525193,
         0.024283430849162135
        ],
        [
         1,
         0.24874634400060502,
         0.010143287228468105,
         0.024546032941599173
        ],
        [
         1,
         0.27696320372838795,
         0.01219621741097952,
         0.02478577261653441
        ],
        [
         1,
         0.3083808790343705,
         0.014664646261658185,
         0.02500558527236035
        ],
        [
         1,
         0.343362458528146,
         0.017632667796325704,
         0.02520864079839185
        ],
        [
         1,
         0.38231221824020006,
         0.021201396069708278,
         0.02539828177369605
        ],
        [
         1,
         0.42568029376968397,
         0.02549240991191971,
         0.02557795850627951
        ],
        [
         1,
         0.47396788242325355,
         0.030651894855444964,
         0.025751162367853492
        ],
        [
         1,
         0.5277330354651761,
         0.036855623359090324,
         0.025921358917075563
        ],
        [
         1,
         0.5875971074187399,
         0.044314942994326305,
         0.02609192229958704
        ],
        [
         1,
         0.6542519369524163,
         0.05328397659854031,
         0.02626607236626004
        ],
        [
         1,
         0.7284678423390364,
         0.06406827968880152,
         0.026446815863187437
        ],
        [
         1,
         0.8111025238900997,
         0.07703525007544089,
         0.026636892920838078
        ],
        [
         1,
         0.903110976249111,
         0.0926266443084005,
         0.026838729909521224
        ],
        [
         0.9944741792630297,
         1,
         0.11075819666487945,
         0.02705439953910255
        ],
        [
         0.8931576937464711,
         1,
         0.11960709491666464,
         0.027285588869045054
        ],
        [
         0.8021632763654916,
         1,
         0.1291629656781899,
         0.02753357566735763
        ],
        [
         0.7204393204634602,
         1,
         0.1394822917019185,
         0.027799213321508788
        ],
        [
         0.6470413564948153,
         1,
         0.150626068364612,
         0.028082924268658695
        ],
        [
         0.581121136954774,
         1,
         0.1626601641982393,
         0.028384701684514214
        ],
        [
         0.5219168333304443,
         1,
         0.17565571022508525,
         0.02870411895724523
        ],
        [
         0.468744231781192,
         1,
         0.18968952039833933,
         0.02904034628215349
        ],
        [
         0.42098882579827973,
         1,
         0.2048445456332987,
         0.029392173550242574
        ],
        [
         0.37809871446001125,
         1,
         0.22121036411287145,
         0.029758038574508653
        ],
        [
         0.3395782242087656,
         1,
         0.23888371076547057,
         0.03013605960539128
        ],
        [
         0.3049821804378928,
         1,
         0.257969049044934,
         0.030524071033723118
        ],
        [
         0.27391076268620923,
         1,
         0.27857918839214,
         0.03091966116652705
        ],
        [
         0.24600488398245782,
         1,
         0.3008359510280075,
         0.031320210987438375
        ],
        [
         0.22094204093963302,
         1,
         0.3248708920191513,
         0.03172293287719664
        ],
        [
         0.19843258663942348,
         1,
         0.350826076872353,
         0.03212490836697578
        ],
        [
         0.17821638323315186,
         1,
         0.378854921254042,
         0.0325231241234734
        ],
        [
         0.16005979557389663,
         1,
         0.4091230977981997,
         0.032914505513781285
        ],
        [
         0.14375299113573248,
         1,
         0.44180951536262925,
         0.033295947263422734
        ],
        [
         0.1291075150157201,
         1,
         0.47710737652177704,
         0.03366434089535124
        ],
        [
         0.11595411199336836,
         1,
         0.5152253195467207,
         0.03401659881370516
        ],
        [
         0.10414077047748549,
         1,
         0.5563886516223334,
         0.03434967506632479
        ],
        [
         0.09353096573465694,
         1,
         0.6008406805909052,
         0.034660582977453704
        ],
        [
         0.0840020820966446,
         1,
         0.6488441530938869,
         0.03494640998032205
        ],
        [
         0.07544399591243364,
         1,
         0.7006828076123035,
         0.03520433009301586
        ],
        [
         0.06775780286834888,
         1,
         0.7566630515855475,
         0.03543161456588585
        ],
        [
         0.060854674968102845,
         1,
         0.8171157725216308,
         0.03562564128175447
        ],
        [
         0.05465483396309076,
         1,
         0.8823982938040086,
         0.035783903509774014
        ],
        [
         0.049086629369045905,
         1,
         0.9528964867553255,
         0.0359040185998737
        ],
        [
         0.04284212971084937,
         0.9717917508569069,
         1,
         0.03598373715866539
        ],
        [
         0.03563072159940542,
         0.8998956285470349,
         1,
         0.03602095317219826
        ],
        [
         0.02963317487395671,
         0.8333186009903735,
         1,
         0.03601371544004875
        ],
        [
         0.02464516612891591,
         0.7716671453085715,
         1,
         0.03596024056395537
        ],
        [
         0.02049676472755093,
         0.7145768526479336,
         1,
         0.03585892759843963
        ],
        [
         0.017046643633846587,
         0.6617102742349378,
         1,
         0.035708374327045
        ],
        [
         0.014177264706988867,
         0.6127549267871499,
         1,
         0.035507394982707705
        ],
        [
         0.01179087443189997,
         0.5674214454899289,
         1,
         0.035255039091063756
        ],
        [
         0.009806173669050407,
         0.525441873621556,
         1,
         0.03495061098761486
        ],
        [
         0.008155547969149453,
         0.4865680787171308,
         1,
         0.03459368944946084
        ],
        [
         0.006782764095543354,
         0.45057028590948517,
         1,
         0.03418414679478149
        ],
        [
         0.005641054279837684,
         0.41723571977802987,
         1,
         0.0337221667424148
        ],
        [
         0.004691522945488186,
         0.38636734667776707,
         1,
         0.03320826029255239
        ],
        [
         0.0039018216198897218,
         0.35778271011464435,
         1,
         0.03264327888929507
        ],
        [
         0.0032450468920928828,
         0.33131285228339846,
         1,
         0.03202842415679837
        ],
        [
         0.0026988238719583687,
         0.3068013153933234,
         1,
         0.031365253561891265
        ],
        [
         0.002244543926191084,
         0.2841032168790086,
         1,
         0.030655681445036616
        ],
        [
         0.0018667307225741865,
         0.26308439302981446,
         1,
         0.02990197497486432
        ],
        [
         0.001552512984905461,
         0.24362060597624946,
         1,
         0.02910674471484287
        ],
        [
         0.0012911859965406864,
         0.22559680934592327,
         1,
         0.028272929638814233
        ],
        [
         0.0010738469139208427,
         0.20890646824851297,
         1,
         0.027403776589432258
        ],
        [
         0.0008930914660062926,
         0.19345092957031923,
         1,
         0.026502814334084166
        ],
        [
         0.000742761706825619,
         0.17913883885635518,
         1,
         0.02557382253068192
        ],
        [
         0.0006177362276157056,
         0.16588560033327848,
         1,
         0.02462079606505479
        ],
        [
         0.000513755681535787,
         0.15361287688147757,
         1,
         0.0236479053572729
        ],
        [
         0.00042727767696102006,
         0.14224812700075107,
         1,
         0.022659453351447832
        ],
        [
         0.0003553560958848273,
         0.13172417603267786,
         1,
         0.021659829998562967
        ],
        [
         0.0002955407260698679,
         0.12197881910526859,
         1,
         0.020653465111792956
        ],
        [
         0.0002457937876327119,
         0.11295445345298442,
         1,
         0.019644780516696828
        ],
        [
         0.00020442051030405931,
         0.10459773793884311,
         1,
         0.018638142433784127
        ],
        [
         0.00017001139628237966,
         0.09685927776612005,
         1,
         0.017637815018463763
        ],
        [
         0.00014139420170163986,
         0.08969333251604125,
         1,
         0.016647915944482856
        ],
        [
         0.00011759400082590813,
         0.08305754578573897,
         1,
         0.015672374853734312
        ],
        [
         9.779997244457973e-05,
         0.07691269482841842,
         1,
         0.014714895410618302
        ],
        [
         8.133777695276143e-05,
         0.07122245871590789,
         1,
         0.013778921596468638
        ],
        [
         6.76465830638773e-05,
         0.06595320365325334,
         1,
         0.012867608762852577
        ],
        [
         5.625996150442732e-05,
         0.061073784176394204,
         1,
         0.011983799836057199
        ],
        [
         4.678999478053198e-05,
         0.05655535905784298,
         1,
         0.011130006933144983
        ],
        [
         3.891406167048162e-05,
         0.052371220832224154,
         1,
         0.010308398516895844
        ],
        [
         3.236384621962189e-05,
         0.048496637934035615,
         1,
         0.009520792086848221
        ],
        [
         2.691619679787506e-05,
         0.044908708514539535,
         1,
         0.008768652280258516
        ],
        [
         2.238552380781911e-05,
         0.04158622507372758,
         1,
         0.008053094143409274
        ],
        [
         1.861747704972932e-05,
         0.03850954910722537,
         1,
         0.007374891233058971
        ],
        [
         1.5483687345128345e-05,
         0.03566049502720284,
         1,
         0.006734488122083995
        ],
        [
         1.2877393277365293e-05,
         0.03302222267117019,
         1,
         0.006132016814017904
        ],
        [
         1.0709804061763626e-05,
         0.03057913776330102,
         1,
         0.0055673165191094266
        ],
        [
         8.907074636213618e-06,
         0.028316799739931203,
         1,
         0.005039956209936069
        ],
        [
         7.4077899201094726e-06,
         0.0262218363944088,
         1,
         0.004549259357184984
        ],
        [
         6.160872535789448e-06,
         0.024281864836778737,
         1,
         0.004094330245085986
        ],
        [
         5.123842713088705e-06,
         0.022485418301111573,
         1,
         0.003674081279848459
        ],
        [
         4.261371095727127e-06,
         0.020821878367849288,
         1,
         0.003287260731648646
        ],
        [
         3.544075146786066e-06,
         0.019281412200549426,
         1,
         0.002932480389304206
        ],
        [
         2.947518149419344e-06,
         0.01785491442604642,
         1,
         0.0026082426546452913
        ],
        [
         2.4513767009243587e-06,
         0.016533953314496152,
         1,
         0.0023129666585492417
        ],
        [
         2.038748338502549e-06,
         0.015310720941185161,
         1,
         0.0020450130404450683
        ],
        [
         1.6955757090208002e-06,
         0.014177987035521622,
         1,
         0.0018027070956835912
        ],
        [
         1.4101676654868775e-06,
         0.013129056244418647,
         1,
         0.0015843600585140197
        ],
        [
         1.1728009750346782e-06,
         0.012157728557463514,
         1,
         0.0013882883507015413
        ],
        [
         9.753890694745162e-07,
         0.01125826265995322,
         1,
         0.0012128306854851806
        ],
        [
         8.112065534582517e-07,
         0.01042534199718477,
         1,
         0.0010563629722892245
        ],
        [
         6.746600848501839e-07,
         0.00965404334941285,
         1,
         0.000917311018312406
        ],
        [
         5.610978216949034e-07,
         0.00893980773172813,
         1,
         0.000794161068049378
        ],
        [
         4.6665094405381666e-07,
         0.008278413446851438,
         1,
         0.0006854682604361564
        ],
        [
         3.881018517030115e-07,
         0.007665951131564552,
         1,
         0.0005898631153937893
        ],
        [
         3.2277454747404326e-07,
         0.0070988006492822275,
         1,
         0.0005060561870383916
        ],
        [
         2.6844347183583806e-07,
         0.006573609692182477,
         1,
         0.00043284103989626674
        ],
        [
         2.2325768290968814e-07,
         0.006087273966416361,
         1,
         0.000369095717443429
        ],
        [
         1.8567779889497328e-07,
         0.0056369188432767985,
         1,
         0.00031378287964778216
        ],
        [
         1.5442355467080775e-07,
         0.005219882367869714,
         1,
         0.00026594878849861363
        ],
        [
         1.2843018594084293e-07,
         0.004833699524855679,
         1,
         0.0002247213184004196
        ],
        [
         1.0681215502363813e-07,
         0.004476087668260111,
         1,
         0.00018930716246299975
        ],
        [
         8.883298250497557e-08,
         0.004144933029230538,
         1,
         0.00015898839682536108
        ],
        [
         7.388015698197346e-08,
         0.003838278221991215,
         1,
         0.00013311855388294666
        ],
        [
         6.144426812839868e-08,
         0.003554310674145431,
         1,
         0.00011111834228958229
        ],
        [
         5.1101652189988476e-08,
         0.0032913519129393227,
         1,
         9.247113747317288e-05
        ],
        [
         4.2499958679459016e-08,
         0.003047847644160693,
         1,
         7.671835167417132e-05
        ],
        [
         3.534614655980922e-08,
         0.002822358565031131,
         1,
         6.345477765769706e-05
        ],
        [
         2.9396500971925495e-08,
         0.002613551856788472,
         1,
         5.232398566243488e-05
        ],
        [
         2.444833039805865e-08,
         0.0024201933066740435,
         1,
         4.3013839158320966e-05
        ],
        [
         2.0333061401541468e-08,
         0.0022411400127592316,
         1,
         3.5252181846262536e-05
        ],
        [
         1.6910495695513284e-08,
         0.0020753336284914047,
         1,
         2.8802736235649563e-05
        ],
        [
         1.4064033891438181e-08,
         0.001921794107028864,
         1,
         2.346124320674289e-05
        ],
        [
         1.1696703210894257e-08,
         0.0017796139083890823,
         1,
         1.9051862277846274e-05
        ],
        [
         9.727853833389227e-09,
         0.0016479526351697237,
         1,
         1.542384387671535e-05
        ],
        [
         8.090411331942354e-09,
         0.001526032065135494,
         1,
         1.244847774716502e-05
        ],
        [
         6.7285915928710695e-09,
         0.001413131551309334,
         1,
         1.0016315658335686e-05
        ],
        [
         5.596000372058446e-09,
         0.0013085837623789522,
         1,
         8.034661753556215e-06
        ],
        [
         4.654052743705916e-09,
         0.001211770738241063,
         1,
         6.425320088055884e-06
        ],
        [
         3.8706585956191836e-09,
         0.0011221202373685453,
         1,
         5.122586057765991e-06
        ],
        [
         3.219129388703734e-09,
         0.0010391023544104976,
         1,
         4.07146640634529e-06
        ],
        [
         2.677268936336752e-09,
         0.0009622263880326219,
         1,
         3.2261112035599146e-06
        ],
        [
         2.226617228442625e-09,
         0.0008910379404842892,
         1,
         2.548440506196409e-06
        ],
        [
         1.8518215389975795e-09,
         0.0008251162317485383,
         1,
         2.0069482384296486e-06
        ],
        [
         1.540113391960903e-09,
         0.0007640716123994417,
         1,
         1.5756660645978362e-06
        ],
        [
         1.2808735669967966e-09,
         0.000707543260465879,
         1,
         1.2332705847157438e-06
        ],
        [
         1.0652703256753079e-09,
         0.0006551970486883822,
         1,
         9.623179822878429e-07
        ],
        [
         8.859585333040294e-10,
         0.0006067235695628054,
         1,
         7.485912254437697e-07
        ],
        [
         7.368294261239553e-10,
         0.0005618363064973349,
         1,
         5.80546006398144e-07
        ],
        [
         6.128024989808998e-10,
         0.0005202699402728424,
         1,
         4.488427506264945e-07
        ],
        [
         5.096524235367082e-10,
         0.00048177878079652193,
         1,
         3.459531948926967e-07
        ],
        [
         4.238651004994281e-10,
         0.00044613531487915477,
         1,
         2.6583118962390257e-07
        ],
        [
         3.525179418840737e-10,
         0.0004131288614522527,
         1,
         2.0363850084910974e-07
        ],
        [
         2.9318030478036574e-10,
         0.0003825643262763591,
         1,
         1.555174513163133e-07
        ],
        [
         2.438306846219325e-10,
         0.00035426104877981095,
         1,
         1.1840323646359445e-07
        ],
        [
         2.0278784691126646e-10,
         0.00032805173421191283,
         1,
         8.98696703956281e-08
        ],
        [
         1.6865355120775853e-10,
         0.00030378146479866894,
         1,
         6.800295559038742e-08
        ],
        [
         1.4026491610926925e-10,
         0.00028130678405623795,
         1,
         5.129882656299342e-08
        ],
        [
         1.1665480240557857e-10,
         0.0002604948488496764,
         1,
         3.8579093428452436e-08
        ],
        [
         9.701886474365102e-11,
         0.0002412226441849712,
         1,
         2.8924209354190336e-08
        ],
        [
         8.068814932643249e-11,
         0.00022337625609313916,
         1,
         2.1619010709469767e-08
        ],
        [
         6.710630410825003e-11,
         0.00020685019830860566,
         1,
         1.610923560151733e-08
        ],
        [
         5.5810625087589455e-11,
         0.000191546788761958,
         1,
         1.1966821240001364e-08
        ],
        [
         4.641629298557314e-11,
         0.00017737557220167218,
         1,
         8.862319205989434e-09
        ],
        [
         3.8603263287972504e-11,
         0.0001642527855320489,
         1,
         6.543056216786018e-09
        ],
        [
         3.210536302293068e-11,
         0.00015210086270708487,
         1,
         4.815912186695223e-09
        ],
        [
         2.6701222825255537e-11,
         0.00014084797625380627,
         1,
         3.5337927913248946e-09
        ],
        [
         2.2206735362397962e-11,
         0.0001304276127151032,
         1,
         2.585045466934407e-09
        ],
        [
         1.846878319704323e-11,
         0.00012077817950260602,
         1,
         1.8852104975941924e-09
        ],
        [
         1.5360022408199107e-11,
         0.00011184264083578132,
         1,
         1.3706167842571166e-09
        ],
        [
         1.2774544260076297e-11,
         0.00010356818061537119,
         1,
         9.934288136781095e-10
        ],
        [
         1.0624267121220665e-11,
         9.5905890238479e-05,
         1,
         7.178305667013728e-10
        ],
        [
         8.835935714420538e-12,
         8.881047951005612e-05,
         1,
         5.170965164418209e-10
        ],
        [
         7.348625468332717e-12,
         8.224000894203277e-05,
         1,
         3.7135196603371973e-10
        ],
        [
         6.111666949511043e-12,
         7.615564185778096e-05,
         1,
         2.658669033048849e-10
        ]
       ],
       "style": "height: 32px; width: 100%;"
      }
     },
     "8f2a98266729428ea909d172befa098c": {
      "model_module": "@jupyter-widgets/controls",
      "model_module_version": "1.0.0",
      "model_name": "SliderStyleModel",
      "state": {
       "description_width": ""
      }
     },
     "93e7708344b645579ed3f6a81e2f8858": {
      "model_module": "@jupyter-widgets/controls",
      "model_module_version": "1.0.0",
      "model_name": "SliderStyleModel",
      "state": {
       "description_width": ""
      }
     },
     "98f2e9cc6e4948fd94e0e2ed5e223d77": {
      "model_module": "bqplot",
      "model_module_version": "^0.3.0-alpha.3",
      "model_name": "LinesModel",
      "state": {
       "_model_module_version": "^0.3.0-alpha.3",
       "_view_module_version": "^0.3.0-alpha.3",
       "color": {
        "type": null,
        "values": null
       },
       "colors": [
        "red"
       ],
       "display_legend": false,
       "fill_colors": [],
       "labels": [
        "C1"
       ],
       "scales": {
        "x": "IPY_MODEL_f5a6629ed8b84820a6d93b4ed95f76ac",
        "y": "IPY_MODEL_055e7881ad4f4ed58a502bb4f535af4c"
       },
       "selected": [],
       "x": {
        "type": "float",
        "values": [
         0,
         0.1,
         0.2,
         0.30000000000000004,
         0.4,
         0.5,
         0.6000000000000001,
         0.7000000000000001,
         0.8,
         0.9
        ]
       },
       "y": {
        "type": "float",
        "values": [
         0.4515625,
         0.6074448529411764,
         0.6633272058823529,
         0.7339154411764706,
         0.7221507352941177,
         0.639797794117647,
         0.4221507352941177,
         0.2927389705882353,
         0.24568014705882352,
         0.25450367647058825
        ]
       }
      }
     },
     "99c49769546e4630aa0a7eea8ba30bd2": {
      "model_module": "ipyvolume",
      "model_module_version": "1.0.0",
      "model_name": "FigureModel",
      "state": {
       "_model_module_version": "1.0.0",
       "_view_module_version": "",
       "ambient_coefficient": 1,
       "angle1": 0.1,
       "angle2": 0.2,
       "anglex": 3.0205506848344577,
       "angley": -0.4875082270164825,
       "anglez": 1.5538527425497648,
       "data_max": 0.24328065825964099,
       "data_min": 0.0230129758340401,
       "diffuse_coefficient": 0,
       "height": 500,
       "layout": "IPY_MODEL_f87bedbe8dc648d089dfd094da3fdce7",
       "scatters": [],
       "specular_coefficient": 0,
       "tf": "IPY_MODEL_8ecc4bdf817c45e4835644496ff7333d",
       "volume_data": {
        "columns": 204,
        "image_shape": [
         2048,
         20
        ],
        "rows": 1,
        "slice_shape": [
         10,
         20
        ],
        "slices": 20,
        "src": "data:image/png;base64,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"
       },
       "width": 400
      }
     },
     "9c71a499f99040b6864ac62db9e1b794": {
      "model_module": "@jupyter-widgets/base",
      "model_module_version": "1.0.0",
      "model_name": "LayoutModel",
      "state": {}
     },
     "9d19a8a8f3044acabaecf8d59bd6b4ea": {
      "model_module": "bqplot",
      "model_module_version": "^0.3.0-alpha.3",
      "model_name": "LinesModel",
      "state": {
       "_model_module_version": "^0.3.0-alpha.3",
       "_view_module_version": "^0.3.0-alpha.3",
       "color": {
        "type": null,
        "values": null
       },
       "colors": [
        "green"
       ],
       "display_legend": false,
       "fill_colors": [],
       "labels": [
        "C1"
       ],
       "scales": {
        "x": "IPY_MODEL_f5a6629ed8b84820a6d93b4ed95f76ac",
        "y": "IPY_MODEL_bbe3eebd28fc4807bd69e7390e4d59d2"
       },
       "selected": [],
       "x": {
        "type": "float",
        "values": [
         0,
         0.1,
         0.2,
         0.30000000000000004,
         0.4,
         0.5,
         0.6000000000000001,
         0.7000000000000001,
         0.8,
         0.9
        ]
       },
       "y": {
        "type": "float",
        "values": [
         172.09191176470588,
         149.8566176470588,
         132.91544117647058,
         103.26838235294117,
         72.5625,
         55.62132352941177,
         42.915441176470594,
         23.856617647058822,
         15.386029411764707,
         4.797794117647059
        ]
       }
      }
     },
     "9f6f8bf7d73948298eafc02715aca4a9": {
      "model_module": "@jupyter-widgets/base",
      "model_module_version": "1.0.0",
      "model_name": "LayoutModel",
      "state": {}
     },
     "a04e5b2798ee45c78b6fac51ad4b422a": {
      "model_module": "bqplot",
      "model_module_version": "^0.3.0-alpha.3",
      "model_name": "LinearScaleModel",
      "state": {
       "_model_module_version": "^0.3.0-alpha.3",
       "_view_module_version": "^0.3.0-alpha.3",
       "allow_padding": false,
       "max": 1,
       "min": 0,
       "stabilized": false
      }
     },
     "a0d1ba4819e643219f79360ae40a6549": {
      "model_module": "@jupyter-widgets/controls",
      "model_module_version": "1.0.0",
      "model_name": "HBoxModel",
      "state": {
       "children": [
        "IPY_MODEL_b88d38689abf401b8862e48e5fee58c3",
        "IPY_MODEL_296a94bdbaea4eb5b646ffcc6a530f23"
       ],
       "layout": "IPY_MODEL_0a2e3ea53a674a14b6b11a50f19928e2"
      }
     },
     "a1a02115d78c4203afb44cdbee715843": {
      "model_module": "bqplot",
      "model_module_version": "^0.3.0-alpha.3",
      "model_name": "LinearScaleModel",
      "state": {
       "_model_module_version": "^0.3.0-alpha.3",
       "_view_module_version": "^0.3.0-alpha.3",
       "allow_padding": false,
       "max": 1,
       "min": 0,
       "stabilized": false
      }
     },
     "a2cc1be7e1b343d492c8d1dcd9bf6aff": {
      "model_module": "@jupyter-widgets/controls",
      "model_module_version": "1.0.0",
      "model_name": "LinkModel",
      "state": {
       "source": [
        "IPY_MODEL_8ecc4bdf817c45e4835644496ff7333d",
        "level1"
       ],
       "target": [
        "IPY_MODEL_248e2b5b5aea46b7a5ce1ce4b3b96189",
        "value"
       ]
      }
     },
     "a445b430cf2e4a45bb078a40f2592d3f": {
      "model_module": "bqplot",
      "model_module_version": "^0.3.0-alpha.3",
      "model_name": "AxisModel",
      "state": {
       "_model_module_version": "^0.3.0-alpha.3",
       "_view_module_version": "^0.3.0-alpha.3",
       "grid_lines": "none",
       "label": "Water current angle",
       "orientation": "vertical",
       "scale": "IPY_MODEL_bbe3eebd28fc4807bd69e7390e4d59d2",
       "side": "left",
       "tick_values": {
        "type": null,
        "values": null
       }
      }
     },
     "a5b6538093224d70a7de20906cb96d07": {
      "model_module": "@jupyter-widgets/controls",
      "model_module_version": "1.0.0",
      "model_name": "SliderStyleModel",
      "state": {
       "description_width": ""
      }
     },
     "a89694ec3be146d39d3e5394eae169db": {
      "model_module": "@jupyter-widgets/base",
      "model_module_version": "1.0.0",
      "model_name": "LayoutModel",
      "state": {}
     },
     "a89ef09a5c4f4baab40e366ebb981296": {
      "model_module": "@jupyter-widgets/base",
      "model_module_version": "1.0.0",
      "model_name": "LayoutModel",
      "state": {}
     },
     "a9821b50c15d4d89a61d4f74b0a6eb61": {
      "model_module": "@jupyter-widgets/controls",
      "model_module_version": "1.0.0",
      "model_name": "FloatSliderModel",
      "state": {
       "layout": "IPY_MODEL_eb9e1ae5eea64e9b9c329b179445ba73",
       "max": 0.2,
       "step": 0.001,
       "style": "IPY_MODEL_93e7708344b645579ed3f6a81e2f8858",
       "value": 0.021
      }
     },
     "ae4da739451841efb39f4856a994c270": {
      "model_module": "bqplot",
      "model_module_version": "^0.3.0-alpha.3",
      "model_name": "HandDrawModel",
      "state": {
       "_model_module_version": "^0.3.0-alpha.3",
       "_view_module_version": "^0.3.0-alpha.3",
       "lines": "IPY_MODEL_ba464df4a69d4e22b7fbb990ba223e63"
      }
     },
     "b5e612ecb21244dbb7aca11160bbe901": {
      "model_module": "bqplot",
      "model_module_version": "^0.3.0-alpha.3",
      "model_name": "FigureModel",
      "state": {
       "_dom_classes": [],
       "_model_module_version": "^0.3.0-alpha.3",
       "_view_module_version": "^0.3.0-alpha.3",
       "axes": [
        "IPY_MODEL_c15e025ecf834e31a191f2674611066e",
        "IPY_MODEL_a445b430cf2e4a45bb078a40f2592d3f"
       ],
       "interaction": "IPY_MODEL_e5395561c368475dba97ae0b8371fae7",
       "layout": "IPY_MODEL_ef82864af2cc4c78933559c16524d1cb",
       "marks": [
        "IPY_MODEL_9d19a8a8f3044acabaecf8d59bd6b4ea"
       ],
       "max_aspect_ratio": 6,
       "scale_x": "IPY_MODEL_56fa61fe76eb4c0f8d4421b7efb15047",
       "scale_y": "IPY_MODEL_e99e8f4d3d2247c8a4ec934db72cb4dd"
      }
     },
     "b7ba871698d54bd3b0d9f9b078c91beb": {
      "model_module": "bqplot",
      "model_module_version": "^0.3.0-alpha.3",
      "model_name": "HandDrawModel",
      "state": {
       "_model_module_version": "^0.3.0-alpha.3",
       "_view_module_version": "^0.3.0-alpha.3",
       "lines": "IPY_MODEL_20506005b2f54e5aa73b6b15d5f1de42"
      }
     },
     "b88d38689abf401b8862e48e5fee58c3": {
      "model_module": "bqplot",
      "model_module_version": "^0.3.0-alpha.3",
      "model_name": "FigureModel",
      "state": {
       "_dom_classes": [],
       "_model_module_version": "^0.3.0-alpha.3",
       "_view_module_version": "^0.3.0-alpha.3",
       "axes": [
        "IPY_MODEL_c15e025ecf834e31a191f2674611066e",
        "IPY_MODEL_27d0b782c6c945a783412d6ff63f4537"
       ],
       "interaction": "IPY_MODEL_b7ba871698d54bd3b0d9f9b078c91beb",
       "layout": "IPY_MODEL_8d599c3e36624953a668843f5cf6375c",
       "marks": [
        "IPY_MODEL_20506005b2f54e5aa73b6b15d5f1de42"
       ],
       "max_aspect_ratio": 6,
       "scale_x": "IPY_MODEL_a1a02115d78c4203afb44cdbee715843",
       "scale_y": "IPY_MODEL_8702eb2501324d38b59cb45e0bc4f902"
      }
     },
     "b8fc9772fd37478182f434d4e9a1893e": {
      "model_module": "@jupyter-widgets/controls",
      "model_module_version": "1.0.0",
      "model_name": "HBoxModel",
      "state": {
       "children": [
        "IPY_MODEL_2d1984ec368b44cba7fdf63a8b603e52",
        "IPY_MODEL_db1a1f679b6b4fc7b4fc3cc67eb7ab9d",
        "IPY_MODEL_a9821b50c15d4d89a61d4f74b0a6eb61",
        "IPY_MODEL_ddc0c7f2f62f425695420eec2261dc21"
       ],
       "layout": "IPY_MODEL_d2c4a5bc52ed4675b66bd09df746d524"
      }
     },
     "ba464df4a69d4e22b7fbb990ba223e63": {
      "model_module": "bqplot",
      "model_module_version": "^0.3.0-alpha.3",
      "model_name": "LinesModel",
      "state": {
       "_model_module_version": "^0.3.0-alpha.3",
       "_view_module_version": "^0.3.0-alpha.3",
       "color": {
        "type": null,
        "values": null
       },
       "colors": [
        "yellow"
       ],
       "display_legend": false,
       "fill_colors": [],
       "labels": [
        "C1"
       ],
       "scales": {
        "x": "IPY_MODEL_f5a6629ed8b84820a6d93b4ed95f76ac",
        "y": "IPY_MODEL_e8afa8a649c2482090f1a53a738c184f"
       },
       "selected": [],
       "x": {
        "type": "float",
        "values": [
         0,
         0.1,
         0.2,
         0.30000000000000004,
         0.4,
         0.5,
         0.6000000000000001,
         0.7000000000000001,
         0.8,
         0.9
        ]
       },
       "y": {
        "type": "float",
        "values": [
         0.7368566176470588,
         0.6809742647058824,
         0.6192095588235295,
         0.5397977941176471,
         0.4603860294117647,
         0.3868566176470588,
         0.34568014705882355,
         0.2986213235294118,
         0.28979779411764706,
         0.2809742647058823
        ]
       }
      }
     },
     "bbe3eebd28fc4807bd69e7390e4d59d2": {
      "model_module": "bqplot",
      "model_module_version": "^0.3.0-alpha.3",
      "model_name": "LinearScaleModel",
      "state": {
       "_model_module_version": "^0.3.0-alpha.3",
       "_view_module_version": "^0.3.0-alpha.3",
       "max": 360,
       "min": 0,
       "stabilized": false
      }
     },
     "bdc780b1317e4f9586398bc9c4dea2be": {
      "model_module": "@jupyter-widgets/base",
      "model_module_version": "1.0.0",
      "model_name": "LayoutModel",
      "state": {}
     },
     "c15e025ecf834e31a191f2674611066e": {
      "model_module": "bqplot",
      "model_module_version": "^0.3.0-alpha.3",
      "model_name": "AxisModel",
      "state": {
       "_model_module_version": "^0.3.0-alpha.3",
       "_view_module_version": "^0.3.0-alpha.3",
       "grid_lines": "none",
       "label": "Depth (z)",
       "scale": "IPY_MODEL_f5a6629ed8b84820a6d93b4ed95f76ac",
       "side": "bottom",
       "tick_values": {
        "type": null,
        "values": null
       }
      }
     },
     "c7cfcda9d0e14080b7347d14a9220e9f": {
      "model_module": "@jupyter-widgets/controls",
      "model_module_version": "1.0.0",
      "model_name": "LinkModel",
      "state": {
       "source": [
        "IPY_MODEL_8ecc4bdf817c45e4835644496ff7333d",
        "opacity1"
       ],
       "target": [
        "IPY_MODEL_db1a1f679b6b4fc7b4fc3cc67eb7ab9d",
        "value"
       ]
      }
     },
     "ca0e6735a1b143b0b675fd8ca70f39f8": {
      "model_module": "@jupyter-widgets/controls",
      "model_module_version": "1.0.0",
      "model_name": "HBoxModel",
      "state": {
       "children": [
        "IPY_MODEL_3f8904a972274f519a3cf06b02af0f0c",
        "IPY_MODEL_17f62c5ffbd34cfb8c34f089b66f4706"
       ],
       "layout": "IPY_MODEL_9f6f8bf7d73948298eafc02715aca4a9"
      }
     },
     "d2c4a5bc52ed4675b66bd09df746d524": {
      "model_module": "@jupyter-widgets/base",
      "model_module_version": "1.0.0",
      "model_name": "LayoutModel",
      "state": {}
     },
     "d410cd5dbc614b2780b299c74e15f016": {
      "model_module": "@jupyter-widgets/base",
      "model_module_version": "1.0.0",
      "model_name": "LayoutModel",
      "state": {
       "min_width": "125px"
      }
     },
     "d4962e159b4646af93dd3740f0b0c5a0": {
      "model_module": "@jupyter-widgets/controls",
      "model_module_version": "1.0.0",
      "model_name": "HBoxModel",
      "state": {
       "children": [
        "IPY_MODEL_5b072ebf5d8241398bbd4ceda2289995",
        "IPY_MODEL_248e2b5b5aea46b7a5ce1ce4b3b96189",
        "IPY_MODEL_075381898ab34090bc2627a254bf7acc",
        "IPY_MODEL_34610d7e61cb45be9866411aa7f76bf0"
       ],
       "layout": "IPY_MODEL_0ecc5191bd984788a420d368776eb848"
      }
     },
     "d6fd5ffa4fc34c9c9785304452e8c13d": {
      "model_module": "bqplot",
      "model_module_version": "^0.3.0-alpha.3",
      "model_name": "LinearScaleModel",
      "state": {
       "_model_module_version": "^0.3.0-alpha.3",
       "_view_module_version": "^0.3.0-alpha.3",
       "allow_padding": false,
       "max": 1,
       "min": 0,
       "stabilized": false
      }
     },
     "da3807f213f3475880ac6c03970b206d": {
      "model_module": "@jupyter-widgets/base",
      "model_module_version": "1.0.0",
      "model_name": "LayoutModel",
      "state": {}
     },
     "da8af7e7180649d0a9bbe3cc5198b9ca": {
      "model_module": "@jupyter-widgets/controls",
      "model_module_version": "1.0.0",
      "model_name": "LinkModel",
      "state": {
       "source": [
        "IPY_MODEL_8ecc4bdf817c45e4835644496ff7333d",
        "level2"
       ],
       "target": [
        "IPY_MODEL_075381898ab34090bc2627a254bf7acc",
        "value"
       ]
      }
     },
     "daab5221ee4a4b5786adfcf43ba05e4c": {
      "model_module": "@jupyter-widgets/controls",
      "model_module_version": "1.0.0",
      "model_name": "SliderStyleModel",
      "state": {
       "description_width": ""
      }
     },
     "db1a1f679b6b4fc7b4fc3cc67eb7ab9d": {
      "model_module": "@jupyter-widgets/controls",
      "model_module_version": "1.0.0",
      "model_name": "FloatSliderModel",
      "state": {
       "layout": "IPY_MODEL_a89694ec3be146d39d3e5394eae169db",
       "max": 0.2,
       "step": 0.001,
       "style": "IPY_MODEL_8f2a98266729428ea909d172befa098c",
       "value": 0.02
      }
     },
     "dbe4bb65920948eab11a403cf93ce825": {
      "model_module": "@jupyter-widgets/controls",
      "model_module_version": "1.0.0",
      "model_name": "LinkModel",
      "state": {
       "source": [
        "IPY_MODEL_8ecc4bdf817c45e4835644496ff7333d",
        "level3"
       ],
       "target": [
        "IPY_MODEL_34610d7e61cb45be9866411aa7f76bf0",
        "value"
       ]
      }
     },
     "ddc0c7f2f62f425695420eec2261dc21": {
      "model_module": "@jupyter-widgets/controls",
      "model_module_version": "1.0.0",
      "model_name": "FloatSliderModel",
      "state": {
       "layout": "IPY_MODEL_226c4f93a93f49df88a742852341b352",
       "max": 0.2,
       "step": 0.001,
       "style": "IPY_MODEL_daab5221ee4a4b5786adfcf43ba05e4c",
       "value": 0.024
      }
     },
     "dea9679888154fb588f1007af644ab0b": {
      "model_module": "bqplot",
      "model_module_version": "^0.3.0-alpha.3",
      "model_name": "LinearScaleModel",
      "state": {
       "_model_module_version": "^0.3.0-alpha.3",
       "_view_module_version": "^0.3.0-alpha.3",
       "max": 1,
       "min": 0,
       "stabilized": false
      }
     },
     "e03818da5e8541d79e505ec4303cc6ce": {
      "model_module": "bqplot",
      "model_module_version": "^0.3.0-alpha.3",
      "model_name": "LinearScaleModel",
      "state": {
       "_model_module_version": "^0.3.0-alpha.3",
       "_view_module_version": "^0.3.0-alpha.3",
       "allow_padding": false,
       "max": 1,
       "min": 0,
       "stabilized": false
      }
     },
     "e5395561c368475dba97ae0b8371fae7": {
      "model_module": "bqplot",
      "model_module_version": "^0.3.0-alpha.3",
      "model_name": "HandDrawModel",
      "state": {
       "_model_module_version": "^0.3.0-alpha.3",
       "_view_module_version": "^0.3.0-alpha.3",
       "lines": "IPY_MODEL_9d19a8a8f3044acabaecf8d59bd6b4ea"
      }
     },
     "e89007390c384542b6cd526a82e9abc1": {
      "model_module": "@jupyter-widgets/base",
      "model_module_version": "1.0.0",
      "model_name": "LayoutModel",
      "state": {
       "min_width": "125px"
      }
     },
     "e8afa8a649c2482090f1a53a738c184f": {
      "model_module": "bqplot",
      "model_module_version": "^0.3.0-alpha.3",
      "model_name": "LinearScaleModel",
      "state": {
       "_model_module_version": "^0.3.0-alpha.3",
       "_view_module_version": "^0.3.0-alpha.3",
       "max": 1,
       "min": 0,
       "stabilized": false
      }
     },
     "e8f5b898d6e4424e98045297e453fec6": {
      "model_module": "@jupyter-widgets/controls",
      "model_module_version": "1.0.0",
      "model_name": "VBoxModel",
      "state": {
       "children": [
        "IPY_MODEL_8ba2ed7409784328925d305b26599fbb",
        "IPY_MODEL_99c49769546e4630aa0a7eea8ba30bd2",
        "IPY_MODEL_ca0e6735a1b143b0b675fd8ca70f39f8"
       ],
       "layout": "IPY_MODEL_6caf0e04aacd4a1283e24a9d53a65a03"
      }
     },
     "e99e8f4d3d2247c8a4ec934db72cb4dd": {
      "model_module": "bqplot",
      "model_module_version": "^0.3.0-alpha.3",
      "model_name": "LinearScaleModel",
      "state": {
       "_model_module_version": "^0.3.0-alpha.3",
       "_view_module_version": "^0.3.0-alpha.3",
       "allow_padding": false,
       "max": 1,
       "min": 0,
       "stabilized": false
      }
     },
     "eb9e1ae5eea64e9b9c329b179445ba73": {
      "model_module": "@jupyter-widgets/base",
      "model_module_version": "1.0.0",
      "model_name": "LayoutModel",
      "state": {}
     },
     "ec23f703644e4a39b21a23a9d7f718d6": {
      "model_module": "@jupyter-widgets/controls",
      "model_module_version": "1.0.0",
      "model_name": "VBoxModel",
      "state": {
       "children": [
        "IPY_MODEL_4d8413ddcbea4d67ad25a4f26fa3cb97",
        "IPY_MODEL_64bc5a47043e4f0eb626a64e13b14e6b"
       ],
       "layout": "IPY_MODEL_8727c54dce1c4dbf9396ef1daba23a89"
      }
     },
     "ee924806c4954f1dbd0ab6d92da7a2ef": {
      "model_module": "@jupyter-widgets/controls",
      "model_module_version": "1.0.0",
      "model_name": "LinkModel",
      "state": {
       "source": [
        "IPY_MODEL_99c49769546e4630aa0a7eea8ba30bd2",
        "fullscreen"
       ],
       "target": [
        "IPY_MODEL_17f62c5ffbd34cfb8c34f089b66f4706",
        "value"
       ]
      }
     },
     "ef82864af2cc4c78933559c16524d1cb": {
      "model_module": "@jupyter-widgets/base",
      "model_module_version": "1.0.0",
      "model_name": "LayoutModel",
      "state": {
       "min_width": "125px"
      }
     },
     "efd0233235c34e4dbc4b6e8fd7fa46a8": {
      "model_module": "@jupyter-widgets/controls",
      "model_module_version": "1.0.0",
      "model_name": "SliderStyleModel",
      "state": {
       "description_width": ""
      }
     },
     "f01f8f3b579e410fa630981730c794ac": {
      "model_module": "@jupyter-widgets/controls",
      "model_module_version": "1.0.0",
      "model_name": "DescriptionStyleModel",
      "state": {
       "description_width": ""
      }
     },
     "f0b1289b53a944ec89e9ddc446b04d49": {
      "model_module": "@jupyter-widgets/base",
      "model_module_version": "1.0.0",
      "model_name": "LayoutModel",
      "state": {}
     },
     "f39259dfc7714521bb55702e7d0c58d7": {
      "model_module": "@jupyter-widgets/base",
      "model_module_version": "1.0.0",
      "model_name": "LayoutModel",
      "state": {
       "min_width": "125px"
      }
     },
     "f5a6629ed8b84820a6d93b4ed95f76ac": {
      "model_module": "bqplot",
      "model_module_version": "^0.3.0-alpha.3",
      "model_name": "LinearScaleModel",
      "state": {
       "_model_module_version": "^0.3.0-alpha.3",
       "_view_module_version": "^0.3.0-alpha.3",
       "max": 1,
       "min": 0,
       "stabilized": false
      }
     },
     "f7e51c9b637d45d1bb495819ee636514": {
      "model_module": "bqplot",
      "model_module_version": "^0.3.0-alpha.3",
      "model_name": "FigureModel",
      "state": {
       "_dom_classes": [],
       "_model_module_version": "^0.3.0-alpha.3",
       "_view_module_version": "^0.3.0-alpha.3",
       "axes": [
        "IPY_MODEL_c15e025ecf834e31a191f2674611066e",
        "IPY_MODEL_13569facdd4e452e9f084092f093f643"
       ],
       "interaction": "IPY_MODEL_80cfb655074e47e1bd99171829e14a86",
       "layout": "IPY_MODEL_d410cd5dbc614b2780b299c74e15f016",
       "marks": [
        "IPY_MODEL_98f2e9cc6e4948fd94e0e2ed5e223d77"
       ],
       "max_aspect_ratio": 6,
       "scale_x": "IPY_MODEL_d6fd5ffa4fc34c9c9785304452e8c13d",
       "scale_y": "IPY_MODEL_52c68baf6b7843b98a6f99cc92d101e0"
      }
     },
     "f87bedbe8dc648d089dfd094da3fdce7": {
      "model_module": "@jupyter-widgets/base",
      "model_module_version": "1.0.0",
      "model_name": "LayoutModel",
      "state": {}
     }
    },
    "version_major": 2,
    "version_minor": 0
   }
  }
 },
 "nbformat": 4,
 "nbformat_minor": 2
}
