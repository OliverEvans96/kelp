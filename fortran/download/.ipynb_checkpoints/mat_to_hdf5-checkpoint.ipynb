{
 "cells": [
  {
   "cell_type": "code",
   "execution_count": 116,
   "metadata": {},
   "outputs": [
    {
     "name": "stdout",
     "output_type": "stream",
     "text": [
      "The autoreload extension is already loaded. To reload it, use:\n",
      "  %reload_ext autoreload\n"
     ]
    }
   ],
   "source": [
    "%load_ext autoreload\n",
    "%autoreload 2"
   ]
  },
  {
   "cell_type": "code",
   "execution_count": 117,
   "metadata": {},
   "outputs": [],
   "source": [
    "from scipy import sparse, io\n",
    "import numpy as np"
   ]
  },
  {
   "cell_type": "code",
   "execution_count": 118,
   "metadata": {},
   "outputs": [],
   "source": [
    "import h5sparse, h5py"
   ]
  },
  {
   "cell_type": "code",
   "execution_count": 119,
   "metadata": {},
   "outputs": [],
   "source": [
    "data = io.loadmat('../download/poli_large.mat')\n",
    "A = data['Problem']['A'][0][0]"
   ]
  },
  {
   "cell_type": "code",
   "execution_count": 122,
   "metadata": {},
   "outputs": [],
   "source": [
    "b = A[:,1231]"
   ]
  },
  {
   "cell_type": "code",
   "execution_count": 123,
   "metadata": {},
   "outputs": [],
   "source": [
    "x = sparse.linalg.gmres(A=A, b=b.toarray())[0]"
   ]
  },
  {
   "cell_type": "code",
   "execution_count": 124,
   "metadata": {},
   "outputs": [],
   "source": [
    "x = sparse.csc_matrix(x).T"
   ]
  },
  {
   "cell_type": "code",
   "execution_count": 233,
   "metadata": {},
   "outputs": [],
   "source": [
    "n_test = 10\n",
    "test = sparse.coo_matrix(np.arange(n_test, dtype='d').reshape(n_test,1))"
   ]
  },
  {
   "cell_type": "markdown",
   "metadata": {},
   "source": [
    "# Write to HDF5"
   ]
  },
  {
   "cell_type": "code",
   "execution_count": 236,
   "metadata": {},
   "outputs": [],
   "source": [
    "def write_sparse_hdf5(arr, name):\n",
    "    n, m = arr.shape\n",
    "    nnz = arr.nnz\n",
    "    with h5py.File(\"h5/{name}.h5\".format(name=name), 'w') as f:\n",
    "        arr_coo = arr.tocoo()\n",
    "        \n",
    "        m_dset = f.create_dataset('m', (1,), 'i')\n",
    "        m_dset[...] = m\n",
    "        n_dset = f.create_dataset('n', (1,), 'i')\n",
    "        n_dset[...] = n\n",
    "        nnz_dset = f.create_dataset('nnz', (1,), 'i')\n",
    "        nnz_dset[...] = nnz\n",
    "        \n",
    "        row_dset = f.create_dataset('row', (nnz,), 'i')\n",
    "        row_dset[...] = arr_coo.row + 1\n",
    "        col_dset = f.create_dataset('col', (nnz,), 'i')\n",
    "        col_dset[...] = arr_coo.col + 1\n",
    "        data_dset = f.create_dataset('data', (nnz,), 'd')\n",
    "        data_dset[...] = arr_coo.data\n",
    "        "
   ]
  },
  {
   "cell_type": "code",
   "execution_count": 237,
   "metadata": {},
   "outputs": [],
   "source": [
    "def print_sparse_hdf5(name):\n",
    "    with h5py.File(\"h5/{name}.h5\".format(name=name)) as f_read:\n",
    "        quants = ['m', 'n', 'nnz', 'row', 'col', 'data']\n",
    "        for quant in quants:\n",
    "            arr = f_read[quant].value\n",
    "            print(\"{} = {}\".format(quant, arr))\n",
    "            print(arr.dtype)"
   ]
  },
  {
   "cell_type": "code",
   "execution_count": 238,
   "metadata": {},
   "outputs": [],
   "source": [
    "write_sparse_hdf5(A, 'A')\n",
    "write_sparse_hdf5(b, 'b')\n",
    "write_sparse_hdf5(x, 'x')"
   ]
  },
  {
   "cell_type": "code",
   "execution_count": 239,
   "metadata": {},
   "outputs": [],
   "source": [
    "write_sparse_hdf5(test, 'test')"
   ]
  },
  {
   "cell_type": "code",
   "execution_count": 235,
   "metadata": {},
   "outputs": [
    {
     "name": "stdout",
     "output_type": "stream",
     "text": [
      "m = [10]\n",
      "int32\n",
      "n = [1]\n",
      "int32\n",
      "nnz = [9]\n",
      "int32\n",
      "row = [ 2  3  4  5  6  7  8  9 10]\n",
      "int32\n",
      "col = [1 1 1 1 1 1 1 1 1]\n",
      "int32\n",
      "data = [ 1.  2.  3.  4.  5.  6.  7.  8.  9.]\n",
      "float64\n"
     ]
    }
   ],
   "source": [
    "print_sparse_hdf5('test')"
   ]
  },
  {
   "cell_type": "code",
   "execution_count": 231,
   "metadata": {},
   "outputs": [
    {
     "name": "stdout",
     "output_type": "stream",
     "text": [
      "m = [15575]\n",
      "int32\n",
      "n = [1]\n",
      "int32\n",
      "nnz = [2]\n",
      "int32\n",
      "row = [1165 1232]\n",
      "int32\n",
      "col = [1 1]\n",
      "int32\n",
      "data = [-1.  1.]\n",
      "float64\n"
     ]
    }
   ],
   "source": [
    "print_sparse_hdf5('b')"
   ]
  },
  {
   "cell_type": "code",
   "execution_count": null,
   "metadata": {},
   "outputs": [],
   "source": []
  }
 ],
 "metadata": {
  "kernelspec": {
   "display_name": "Python 3",
   "language": "python",
   "name": "python3"
  },
  "language_info": {
   "codemirror_mode": {
    "name": "ipython",
    "version": 3
   },
   "file_extension": ".py",
   "mimetype": "text/x-python",
   "name": "python",
   "nbconvert_exporter": "python",
   "pygments_lexer": "ipython3",
   "version": "3.5.3"
  }
 },
 "nbformat": 4,
 "nbformat_minor": 2
}
