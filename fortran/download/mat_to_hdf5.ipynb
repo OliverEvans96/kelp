{
 "cells": [
  {
   "cell_type": "code",
   "execution_count": 116,
   "metadata": {},
   "outputs": [
    {
     "name": "stdout",
     "output_type": "stream",
     "text": [
      "The autoreload extension is already loaded. To reload it, use:\n",
      "  %reload_ext autoreload\n"
     ]
    }
   ],
   "source": [
    "%load_ext autoreload\n",
    "%autoreload 2"
   ]
  },
  {
   "cell_type": "code",
   "execution_count": 117,
   "metadata": {},
   "outputs": [],
   "source": [
    "from scipy import sparse, io\n",
    "import numpy as np"
   ]
  },
  {
   "cell_type": "code",
   "execution_count": 118,
   "metadata": {},
   "outputs": [],
   "source": [
    "import h5sparse, h5py"
   ]
  },
  {
   "cell_type": "code",
   "execution_count": 119,
   "metadata": {},
   "outputs": [],
   "source": [
    "data = io.loadmat('../download/poli_large.mat')\n",
    "A = data['Problem']['A'][0][0]"
   ]
  },
  {
   "cell_type": "code",
   "execution_count": 122,
   "metadata": {},
   "outputs": [],
   "source": [
    "b = A[:,1231]"
   ]
  },
  {
   "cell_type": "code",
   "execution_count": 123,
   "metadata": {},
   "outputs": [],
   "source": [
    "x = sparse.linalg.gmres(A=A, b=b.toarray())[0]"
   ]
  },
  {
   "cell_type": "code",
   "execution_count": 124,
   "metadata": {},
   "outputs": [],
   "source": [
    "x = sparse.csc_matrix(x).T"
   ]
  },
  {
   "cell_type": "markdown",
   "metadata": {},
   "source": [
    "# Write to HDF5"
   ]
  },
  {
   "cell_type": "code",
   "execution_count": 140,
   "metadata": {},
   "outputs": [],
   "source": [
    "def write_sparse_hdf5(arr, name):\n",
    "    m, n = arr.shape\n",
    "    nnz = arr.nnz\n",
    "    with h5py.File(\"h5/{name}.h5\".format(name=name), 'w') as f:\n",
    "        arr_coo = arr.tocoo()\n",
    "        \n",
    "        m_dset = f.create_dataset('m', (1,), 'i')\n",
    "        m_dset[...] = m\n",
    "        n_dset = f.create_dataset('n', (1,), 'i')\n",
    "        n_dset[...] = n\n",
    "        nnz_dset = f.create_dataset('nnz', (1,), 'i')\n",
    "        nnz_dset[...] = nnz\n",
    "        \n",
    "        row_dset = f.create_dataset('row', (nnz,), 'i')\n",
    "        row_dset[...] = arr_coo.row\n",
    "        col_dset = f.create_dataset('col', (nnz,), 'i')\n",
    "        col_dset[...] = arr_coo.col\n",
    "        data_dset = f.create_dataset('data', (nnz,), 'd')\n",
    "        data_dset[...] = arr_coo.data\n",
    "        "
   ]
  },
  {
   "cell_type": "code",
   "execution_count": 141,
   "metadata": {},
   "outputs": [],
   "source": [
    "write_sparse_hdf5(A, 'A')\n",
    "write_sparse_hdf5(b, 'b')\n",
    "write_sparse_hdf5(x, 'x')"
   ]
  },
  {
   "cell_type": "code",
   "execution_count": 144,
   "metadata": {},
   "outputs": [
    {
     "name": "stdout",
     "output_type": "stream",
     "text": [
      "m = [15575]\n",
      "n = [15575]\n",
      "nnz = [33033]\n",
      "row = [    0     0     1 ..., 15573     0 15574]\n",
      "col = [    0     1     1 ..., 15573 15574 15574]\n",
      "data = [ 1.   -0.25  1.   ...,  1.   -0.02  1.  ]\n"
     ]
    }
   ],
   "source": [
    "with h5py.File(\"h5/A.h5\") as f_read:\n",
    "    quants = ['m', 'n', 'nnz', 'row', 'col', 'data']\n",
    "    for quant in quants:\n",
    "        print(\"{} = {}\".format(quant, f_read[quant].value))"
   ]
  },
  {
   "cell_type": "code",
   "execution_count": 127,
   "metadata": {},
   "outputs": [],
   "source": [
    "f_read = h5py.File(\"A.h5\")"
   ]
  },
  {
   "cell_type": "code",
   "execution_count": 128,
   "metadata": {},
   "outputs": [],
   "source": [
    "d = f_read['data']"
   ]
  },
  {
   "cell_type": "code",
   "execution_count": 129,
   "metadata": {},
   "outputs": [
    {
     "data": {
      "text/plain": [
       "array([ 1.  , -0.25,  1.  , ...,  1.  , -0.02,  1.  ])"
      ]
     },
     "execution_count": 129,
     "metadata": {},
     "output_type": "execute_result"
    }
   ],
   "source": [
    "d.value"
   ]
  },
  {
   "cell_type": "code",
   "execution_count": 130,
   "metadata": {},
   "outputs": [
    {
     "data": {
      "text/plain": [
       "(array([    0,     1,     2, ..., 33030, 33031, 33032]),)"
      ]
     },
     "execution_count": 130,
     "metadata": {},
     "output_type": "execute_result"
    }
   ],
   "source": [
    "d.value.nonzero()"
   ]
  },
  {
   "cell_type": "code",
   "execution_count": 131,
   "metadata": {},
   "outputs": [],
   "source": [
    "f_read.close()"
   ]
  },
  {
   "cell_type": "code",
   "execution_count": null,
   "metadata": {},
   "outputs": [],
   "source": []
  }
 ],
 "metadata": {
  "kernelspec": {
   "display_name": "Python 3",
   "language": "python",
   "name": "python3"
  },
  "language_info": {
   "codemirror_mode": {
    "name": "ipython",
    "version": 3
   },
   "file_extension": ".py",
   "mimetype": "text/x-python",
   "name": "python",
   "nbconvert_exporter": "python",
   "pygments_lexer": "ipython3",
   "version": "3.5.3"
  }
 },
 "nbformat": 4,
 "nbformat_minor": 2
}
