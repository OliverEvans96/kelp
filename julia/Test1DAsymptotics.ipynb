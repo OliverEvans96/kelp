{
 "cells": [
  {
   "cell_type": "code",
   "execution_count": 1,
   "metadata": {},
   "outputs": [],
   "source": [
    "using Plots\n",
    "using Revise\n",
    "if splitdir(pwd())[2] == \"julia\"\n",
    "    cd(\"..\")\n",
    "end\n",
    "include(\"julia/test_definitions.jl\")\n",
    "using KelpTest"
   ]
  },
  {
   "cell_type": "code",
   "execution_count": 2,
   "metadata": {},
   "outputs": [],
   "source": [
    "using Interpolations"
   ]
  },
  {
   "cell_type": "code",
   "execution_count": 3,
   "metadata": {},
   "outputs": [],
   "source": [
    "using Cubature"
   ]
  },
  {
   "cell_type": "code",
   "execution_count": 4,
   "metadata": {},
   "outputs": [],
   "source": [
    "import KelpTest.rte1d_exact\n",
    "import KelpTest.asymptotics1d_exact"
   ]
  },
  {
   "cell_type": "code",
   "execution_count": 5,
   "metadata": {},
   "outputs": [
    {
     "data": {
      "text/plain": [
       "∫ (generic function with 1 method)"
      ]
     },
     "execution_count": 5,
     "metadata": {},
     "output_type": "execute_result"
    }
   ],
   "source": [
    "∫(x...) = hquadrature(x...)[1]"
   ]
  },
  {
   "cell_type": "code",
   "execution_count": 6,
   "metadata": {},
   "outputs": [
    {
     "name": "stdout",
     "output_type": "stream",
     "text": [
      "(1, 2, 3)\n"
     ]
    }
   ],
   "source": [
    "test_fun(1,2,3)"
   ]
  },
  {
   "cell_type": "code",
   "execution_count": 7,
   "metadata": {},
   "outputs": [
    {
     "name": "stderr",
     "output_type": "stream",
     "text": [
      "WARNING: Method definition rte1d_exact(Any, Any, Any, Any, Any, Any) in module KelpTest at /home/oliver/academic/research/kelp/julia/test_definitions.jl:342 overwritten in module Main at In[7]:2.\n"
     ]
    }
   ],
   "source": [
    "function rte1d_exact(I₀, a, b, zmin, zmax, z)\n",
    "    z₀, z₁ = zmin, zmax\n",
    "    s = a/b + 1\n",
    "    q = sqrt(a^2+2*a*b)/b\n",
    "    c₂ = -(s+q)*I₀*exp(b*q*(2*z₁-z₀))/(s-q-(s+q)*exp(2b*q*(z₁-z₀)))\n",
    "    c₁ = exp(-b*q*z₀) * (I₀ - c₂*exp(-b*q*z₀))\n",
    "    L⁺ = c₁*exp.(b*q*z) + c₂*exp.(-b*q*z)\n",
    "    L⁻ = c₁*(s+q)*exp.(b*q*z) + c₂*(s-q)*exp.(-b*q*z)\n",
    "    return L⁺, L⁻\n",
    "end\n",
    "export rte1d_exact"
   ]
  },
  {
   "cell_type": "code",
   "execution_count": 8,
   "metadata": {},
   "outputs": [
    {
     "name": "stderr",
     "output_type": "stream",
     "text": [
      "WARNING: Method definition asymptotics1d_exact(Float64, Float64, Float64, Float64, Float64, Array{Float64, 1}, Int64) in module KelpTest at /home/oliver/academic/research/kelp/julia/test_definitions.jl:356 overwritten in module Main at In[8]:4.\n"
     ]
    }
   ],
   "source": [
    "function asymptotics1d_exact(I₀::Float64, a::Float64, b::Float64, \n",
    "        zmin::Float64, zmax::Float64, z::Array{Float64,1}, num_scatters::Int)\n",
    "    # Radiance without scattering\n",
    "    L₀⁺ = I₀ * exp.(-a*(z.-zmin))\n",
    "    L₀⁻ = zeros(z)\n",
    "\n",
    "    # Radiance to use for source calculation\n",
    "    Lₙ₋₁⁺ = L₀⁺[:]\n",
    "    Lₙ₋₁⁻ = L₀⁻[:]\n",
    "\n",
    "    # Initialize final radiance\n",
    "    L⁺ = L₀⁺[:]\n",
    "    L⁻ = L₀⁻[:]\n",
    "\n",
    "    for n = 1:num_scatters\n",
    "        # Calculate source\n",
    "        gₙ⁺ = interpolate(Lₙ₋₁⁻ - Lₙ₋₁⁺, BSpline(Linear()), OnCell())\n",
    "        gₙ⁻ = interpolate(Lₙ₋₁⁺ - Lₙ₋₁⁻, BSpline(Linear()), OnCell())\n",
    "\n",
    "        # Define nested anonymous functions and apply elementwize to z\n",
    "        Lₙ⁺ = (z -> ∫(zp -> exp(-a*(z-zp)) * gₙ⁺[zp], zmin, z)).(z)\n",
    "        Lₙ⁻ = (z -> ∫(zp -> exp(-a*(zp-z)) * gₙ⁻[zp], z, zmax)).(z)\n",
    "\n",
    "        # Accumulate total radiance\n",
    "        L⁺ += b^n * Lₙ⁺\n",
    "        L⁻ += b^n * Lₙ⁻\n",
    "\n",
    "        # Update\n",
    "        Lₙ₋₁⁺[:] = Lₙ⁺[:]\n",
    "        Lₙ₋₁⁻[:] = Lₙ⁻[:]\n",
    "    end\n",
    "\n",
    "    return L⁺, L⁻\n",
    "end\n",
    "export asymptotics1d_exact\n"
   ]
  },
  {
   "cell_type": "code",
   "execution_count": 9,
   "metadata": {},
   "outputs": [
    {
     "data": {
      "text/plain": [
       "4"
      ]
     },
     "execution_count": 9,
     "metadata": {},
     "output_type": "execute_result"
    }
   ],
   "source": [
    "zmin = 0.0\n",
    "zmax = 1.0\n",
    "nz = 101\n",
    "I₀ = 0.92\n",
    "a = 1.0\n",
    "b = 0.5\n",
    "# Remaining in current direction\n",
    "β₀ = 0.0\n",
    "# Switching directions\n",
    "βπ = 1 - β₀\n",
    "# Attenuation\n",
    "c = -(a+(1-β₀)*b)\n",
    "# Scattering gain\n",
    "d = b*βπ\n",
    "z = collect(linspace(zmin, zmax, nz))\n",
    "num_scatters = 4"
   ]
  },
  {
   "cell_type": "code",
   "execution_count": 10,
   "metadata": {},
   "outputs": [
    {
     "data": {
      "text/plain": [
       "length (generic function with 117 methods)"
      ]
     },
     "execution_count": 10,
     "metadata": {},
     "output_type": "execute_result"
    }
   ],
   "source": [
    "length"
   ]
  },
  {
   "cell_type": "code",
   "execution_count": 11,
   "metadata": {},
   "outputs": [
    {
     "ename": "LoadError",
     "evalue": "\u001b[91mMethodError: no method matching asymptotics1d_grid(::Float64, ::Float64, ::Float64, ::Float64, ::Float64, ::Int64, ::Int64)\u001b[0m\nClosest candidates are:\n  asymptotics1d_grid(::Any, ::Any, ::Any, ::Any, ::Any, ::Any, ::Any, \u001b[91m::Any\u001b[39m) at /home/oliver/academic/research/kelp/julia/test_definitions.jl:390\u001b[39m",
     "output_type": "error",
     "traceback": [
      "\u001b[91mMethodError: no method matching asymptotics1d_grid(::Float64, ::Float64, ::Float64, ::Float64, ::Float64, ::Int64, ::Int64)\u001b[0m\nClosest candidates are:\n  asymptotics1d_grid(::Any, ::Any, ::Any, ::Any, ::Any, ::Any, ::Any, \u001b[91m::Any\u001b[39m) at /home/oliver/academic/research/kelp/julia/test_definitions.jl:390\u001b[39m",
      ""
     ]
    }
   ],
   "source": [
    "L⁺e, L⁻e = rte1d_exact(I₀, a, b*βπ, zmin, zmax, z);\n",
    "L⁺a, L⁻a = asymptotics1d_exact(I₀, a, b*βπ, zmin, zmax, z, num_scatters);\n",
    "zg, L⁺g, L⁻g = asymptotics1d_grid(2π*I₀, a, b, zmin, zmax, nz, num_scatters);\n",
    "plot(z, L⁺e, label=\"L+e\")\n",
    "plot!(z, L⁻e, label=\"L-e\")\n",
    "plot!(z, L⁺a, marker=:square, label=\"L+a\")\n",
    "plot!(z, L⁻a, marker=:square, label=\"L-a\")\n",
    "plot!(zg, L⁺g, marker=:circle, label=\"L+g\")\n",
    "plot!(zg, L⁻g, marker=:circle, label=\"L-g\")"
   ]
  },
  {
   "cell_type": "raw",
   "metadata": {},
   "source": [
    "#a_func(z) = (zmax-z) / (zmax-zmin)\n",
    "a_func(z) = a\n",
    "b = 0.5\n",
    "βπ = 0.5\n",
    "z = collect(linspace(zmin, zmax, 101))\n",
    "L⁺a, L⁻a = asymptotics1d_exact(I₀, a_func, b, βπ, zmin, zmax, z, num_scatters);"
   ]
  },
  {
   "cell_type": "raw",
   "metadata": {},
   "source": [
    "plot(z, L⁺a, label=\"L+a\")\n",
    "plot!(z, L⁻a, label=\"L-a\")"
   ]
  },
  {
   "cell_type": "raw",
   "metadata": {},
   "source": [
    "z, L⁺g, L⁻g = asymptotics1d_grid(I₀, a, b, zmin, zmax, nz, num_scatters);"
   ]
  },
  {
   "cell_type": "code",
   "execution_count": 12,
   "metadata": {},
   "outputs": [
    {
     "ename": "LoadError",
     "evalue": "\u001b[91mUndefVarError: L⁺g not defined\u001b[39m",
     "output_type": "error",
     "traceback": [
      "\u001b[91mUndefVarError: L⁺g not defined\u001b[39m",
      ""
     ]
    }
   ],
   "source": [
    "plot(z, L⁺g, marker=:circle, label=\"L+g\")\n",
    "plot!(z, L⁻g, marker=:circle, label=\"L-g\")\n",
    "plot!(z, L⁺e, marker=:circle, label=\"L+e\")\n",
    "plot!(z, L⁻e, marker=:circle, label=\"L-e\")"
   ]
  },
  {
   "cell_type": "code",
   "execution_count": null,
   "metadata": {},
   "outputs": [],
   "source": []
  }
 ],
 "metadata": {
  "kernelspec": {
   "display_name": "Julia 0.6.2",
   "language": "julia",
   "name": "julia-0.6"
  },
  "language_info": {
   "file_extension": ".jl",
   "mimetype": "application/julia",
   "name": "julia",
   "version": "0.6.2"
  }
 },
 "nbformat": 4,
 "nbformat_minor": 2
}
