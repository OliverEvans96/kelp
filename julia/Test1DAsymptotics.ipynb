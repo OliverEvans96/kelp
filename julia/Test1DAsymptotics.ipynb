{
 "cells": [
  {
   "cell_type": "code",
   "execution_count": 4,
   "metadata": {},
   "outputs": [],
   "source": [
    "using Plots\n",
    "using Revise\n",
    "Revise.track(\"test_definitions.jl\")\n",
    "using KelpTest"
   ]
  },
  {
   "cell_type": "markdown",
   "metadata": {},
   "source": [
    "# Define Parameters"
   ]
  },
  {
   "cell_type": "code",
   "execution_count": 5,
   "metadata": {},
   "outputs": [
    {
     "data": {
      "text/plain": [
       "4"
      ]
     },
     "execution_count": 5,
     "metadata": {},
     "output_type": "execute_result"
    }
   ],
   "source": [
    "zmin = 0.0\n",
    "zmax = 1.0\n",
    "nz = 101\n",
    "z = collect(linspace(zmin, zmax, nz))\n",
    "# Incident radiance\n",
    "I₀ = 0.92\n",
    "# Absorption (1/m)\n",
    "a = 1.0\n",
    "# Scattering (1/m)\n",
    "b = 0.5\n",
    "# Remaining in current direction\n",
    "β₀ = 0.0\n",
    "# Switching directions\n",
    "βπ = 1 - β₀\n",
    "# Attenuation\n",
    "c = -(a+βπ*b)\n",
    "# Scattering gain\n",
    "d = b*βπ\n",
    "# Number of scatters for asymptotics\n",
    "num_scatters = 4"
   ]
  },
  {
   "cell_type": "markdown",
   "metadata": {},
   "source": [
    "# Evaluate and Plot"
   ]
  },
  {
   "cell_type": "code",
   "execution_count": null,
   "metadata": {},
   "outputs": [],
   "source": [
    "L⁺e, L⁻e = rte1d_exact(I₀, a, b*βπ, zmin, zmax, z);\n",
    "L⁺a, L⁻a = asymptotics1d_exact(I₀, a, b*βπ, zmin, zmax, z, num_scatters);\n",
    "zg, L⁺g, L⁻g = asymptotics1d_grid(2π*I₀, a, b, zmin, zmax, nz, num_scatters);\n",
    "plot(z, L⁺e, label=\"L+e\")\n",
    "plot!(z, L⁻e, label=\"L-e\")\n",
    "plot!(z, L⁺a, marker=:square, label=\"L+a\")\n",
    "plot!(z, L⁻a, marker=:square, label=\"L-a\")\n",
    "plot!(zg, L⁺g, marker=:circle, label=\"L+g\")\n",
    "plot!(zg, L⁻g, marker=:circle, label=\"L-g\")"
   ]
  }
 ],
 "metadata": {
  "kernelspec": {
   "display_name": "Julia 0.6.2",
   "language": "julia",
   "name": "julia-0.6"
  },
  "language_info": {
   "file_extension": ".jl",
   "mimetype": "application/julia",
   "name": "julia",
   "version": "0.6.2"
  }
 },
 "nbformat": 4,
 "nbformat_minor": 2
}
