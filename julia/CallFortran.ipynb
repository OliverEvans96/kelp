{
 "cells": [
  {
   "cell_type": "code",
   "execution_count": null,
   "metadata": {},
   "outputs": [],
   "source": [
    "ccall((:clock, \"libc\"), Int32, ())"
   ]
  },
  {
   "cell_type": "code",
   "execution_count": null,
   "metadata": {},
   "outputs": [],
   "source": [
    "ccall((:hi, \"test\"), Void, ())"
   ]
  },
  {
   "cell_type": "code",
   "execution_count": null,
   "metadata": {},
   "outputs": [],
   "source": [
    "ccall((:__test_MOD_hi, \"testf\"), Void, ())"
   ]
  },
  {
   "cell_type": "code",
   "execution_count": null,
   "metadata": {},
   "outputs": [],
   "source": [
    "ccall((:__test_MOD_greet, \"testf2\"), Void, (Ref{Int64},Ref{Float64}), 1, 2.5)"
   ]
  },
  {
   "cell_type": "code",
   "execution_count": null,
   "metadata": {},
   "outputs": [],
   "source": [
    "sq(x) = ccall((:__test_MOD_square, \"testf2\"), Float64, (Ref{Float64},), x)"
   ]
  },
  {
   "cell_type": "code",
   "execution_count": null,
   "metadata": {},
   "outputs": [],
   "source": [
    "using Base.Test\n",
    "\n",
    "function feval(func, x)\n",
    "    cfunc = cfunction(func, Float64, (Ref{Float64},))\n",
    "    ccall((:__test_MOD_eval_func, \"testf4\"), Float64, \n",
    "        (Ptr{Void}, Ref{Float64}), cfunc, x)\n",
    "end\n",
    "\n",
    "@testset \"Fortran Eval Tests\" begin\n",
    "    n = 10\n",
    "    @testset \"Function: g\" begin\n",
    "        g1(x) = x^2\n",
    "        for x in 1:n\n",
    "            println(\"test: $x, $(g1(x))\")\n",
    "            @test feval(g1,x) == g1(x)\n",
    "        end\n",
    "    end\n",
    "    \n",
    "    @testset \"Function: f\" begin\n",
    "        f1(x) = log(x)\n",
    "        for x in 1:n\n",
    "            @test feval(f1,x) == f1(x)\n",
    "        end\n",
    "    end\n",
    "end"
   ]
  },
  {
   "cell_type": "code",
   "execution_count": 2,
   "metadata": {},
   "outputs": [
    {
     "data": {
      "text/plain": [
       "make_grid (generic function with 1 method)"
      ]
     },
     "execution_count": 2,
     "metadata": {},
     "output_type": "execute_result"
    }
   ],
   "source": [
    "function make_grid(xmin, xmax, ymin, ymax, zmin, zmax, nx, ny, nz, ntheta, nphi)\n",
    "    x = zeros(nx)\n",
    "    y = zeros(ny)\n",
    "    z = zeros(nz)\n",
    "    theta = zeros(ntheta)\n",
    "    phi = zeros(nphi)\n",
    "\n",
    "    ccall((:__test_grid_MOD_make_grid, \"test_grid\"), Void,\n",
    "            (\n",
    "                Ref{Float64},\n",
    "                Ref{Float64},\n",
    "                Ref{Float64},\n",
    "                Ref{Float64},\n",
    "                Ref{Float64},\n",
    "                Ref{Float64},\n",
    "                Ref{Float64},\n",
    "\n",
    "                Ref{Int64},\n",
    "                Ref{Int64},\n",
    "                Ref{Int64},\n",
    "                Ref{Int64},\n",
    "                Ref{Int64},\n",
    "\n",
    "                Ptr{Float64},\n",
    "                Ptr{Float64},\n",
    "                Ptr{Float64},\n",
    "                Ptr{Float64},\n",
    "                Ptr{Float64},\n",
    "            ),\n",
    "          xmin, xmax, ymin, ymax, zmin, zmax,\n",
    "          nx, ny, nz, ntheta, nphi,\n",
    "          x, y, z, theta, phi)\n",
    "    return x, y, z, theta, phi\n",
    "end\n"
   ]
  },
  {
   "cell_type": "code",
   "execution_count": null,
   "metadata": {},
   "outputs": [],
   "source": [
    "n=10\n",
    "lims = [-6 -6 -6; 6 6 6]\n",
    "nums = repeat([n], outer=5)\n",
    "dims = make_grid(lims...,nums...)"
   ]
  },
  {
   "cell_type": "code",
   "execution_count": 1,
   "metadata": {},
   "outputs": [
    {
     "name": "stdout",
     "output_type": "stream",
     "text": [
      "test\n"
     ]
    }
   ],
   "source": [
    "println(\"test\")"
   ]
  },
  {
   "cell_type": "code",
   "execution_count": null,
   "metadata": {},
   "outputs": [],
   "source": [
    "cfunction()"
   ]
  },
  {
   "cell_type": "code",
   "execution_count": null,
   "metadata": {},
   "outputs": [],
   "source": [
    "ccall(\n",
    "    (:__test_grid_MOD_test_2d_angular_integration), \"test_grid_mod\"),\n",
    "    Bool, \n",
    "    (Ref{Int64}, Ref{Int64}, Ref{Int64}, Ref{Float64}),\n",
    "    "
   ]
  },
  {
   "cell_type": "code",
   "execution_count": null,
   "metadata": {},
   "outputs": [],
   "source": [
    "sq(1)"
   ]
  },
  {
   "cell_type": "code",
   "execution_count": null,
   "metadata": {},
   "outputs": [],
   "source": [
    "tuple((i for i in 1:10)...)"
   ]
  },
  {
   "cell_type": "code",
   "execution_count": null,
   "metadata": {},
   "outputs": [],
   "source": [
    "cat((1,),(2,))"
   ]
  },
  {
   "cell_type": "code",
   "execution_count": null,
   "metadata": {},
   "outputs": [],
   "source": [
    "map(T -> Ref{T}, [Int, Float64])"
   ]
  },
  {
   "cell_type": "code",
   "execution_count": null,
   "metadata": {},
   "outputs": [],
   "source": [
    "println(\"hi\")"
   ]
  }
 ],
 "metadata": {
  "kernelspec": {
   "display_name": "Julia 0.6.2",
   "language": "julia",
   "name": "julia-0.6"
  },
  "language_info": {
   "file_extension": ".jl",
   "mimetype": "application/julia",
   "name": "julia",
   "version": "0.6.2"
  }
 },
 "nbformat": 4,
 "nbformat_minor": 2
}
