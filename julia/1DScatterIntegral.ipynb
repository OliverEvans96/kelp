{
 "cells": [
  {
   "cell_type": "markdown",
   "metadata": {},
   "source": [
    "# 1D Scattering Integral\n",
    "Path calculation has already been done"
   ]
  },
  {
   "cell_type": "code",
   "execution_count": 8,
   "metadata": {},
   "outputs": [],
   "source": [
    "using Plots; pyplot()\n",
    "using Formatting\n",
    "using Cubature"
   ]
  },
  {
   "cell_type": "code",
   "execution_count": 9,
   "metadata": {},
   "outputs": [
    {
     "data": {
      "text/plain": [
       "bars (generic function with 1 method)"
      ]
     },
     "execution_count": 9,
     "metadata": {},
     "output_type": "execute_result"
    }
   ],
   "source": [
    "function bars(edges, heights; color=:1, label=\"\", kwargs...)\n",
    "    n = length(heights)\n",
    "    \n",
    "    w = edges[end]-edges[1]\n",
    "    p = plot(legend=false)\n",
    "    xlims!(edges[1], edges[end]+0.01*w)\n",
    "    \n",
    "    labels = [[label]; repeat([\"\"], inner=[n-1])]\n",
    "    \n",
    "    for i in 1:n\n",
    "        rect = Shape(\n",
    "            [edges[i],edges[i+1],edges[i+1],edges[i], edges[i]],\n",
    "            [0.,0.,heights[i],heights[i]]\n",
    "        )\n",
    "        \n",
    "        plot!(rect, color=color, label=labels[i]; kwargs...)\n",
    "    end\n",
    "    return p\n",
    "end"
   ]
  },
  {
   "cell_type": "code",
   "execution_count": 10,
   "metadata": {},
   "outputs": [
    {
     "data": {
      "text/plain": [
       "integ_grid (generic function with 1 method)"
      ]
     },
     "execution_count": 10,
     "metadata": {},
     "output_type": "execute_result"
    }
   ],
   "source": [
    "function integ_grid(s, gₙ, ã)\n",
    "    N=length(s)\n",
    "    ds = diff(s)\n",
    "    result = 0.\n",
    "    for i = 1:N-1\n",
    "        bi = -ã[i]*s[i+1] - (i==N-1 ? 0 : sum(ã[j]*ds[j] for j=i+1:N-1))\n",
    "        if ã[i] == 0\n",
    "            pcnt_remaining = ds[i]*exp(bi)\n",
    "        else\n",
    "            pcnt_remaining = (exp(ã[i]*s[i+1]+bi)-exp(ã[i]*s[i]+bi))/ã[i]\n",
    "        end\n",
    "        add = gₙ[i] * pcnt_remaining\n",
    "        result += gₙ[i] * pcnt_remaining\n",
    "    end\n",
    "    \n",
    "    return result\n",
    "end"
   ]
  },
  {
   "cell_type": "code",
   "execution_count": 11,
   "metadata": {},
   "outputs": [
    {
     "data": {
      "text/plain": [
       "integ_num (generic function with 1 method)"
      ]
     },
     "execution_count": 11,
     "metadata": {},
     "output_type": "execute_result"
    }
   ],
   "source": [
    "function integ_num(g, a, lims; abstol=1e-3, reltol=1e-3;)\n",
    "    f_inner(sp) = g(sp)*exp(-hquadrature(a,sp,lims[2], reltol=reltol, abstol=abstol)[1])\n",
    "    hquadrature(f_inner, lims..., reltol=reltol, abstol=abstol)[1]\n",
    "end"
   ]
  },
  {
   "cell_type": "markdown",
   "metadata": {},
   "source": [
    "# Create random medium"
   ]
  },
  {
   "cell_type": "markdown",
   "metadata": {},
   "source": [
    "# Calculate explicit ray tracing formula\n",
    "- Numerical (on grid)\n",
    "- Compare to symbolic double integral"
   ]
  },
  {
   "cell_type": "markdown",
   "metadata": {},
   "source": [
    "\\begin{equation}\n",
    "u_n(s) = \\int_0^s g(s') \\exp\\left(-\\int_{s'}^{s}a(s'')\\, ds''\\right)\\, ds'\n",
    "\\end{equation}"
   ]
  },
  {
   "cell_type": "code",
   "execution_count": 20,
   "metadata": {},
   "outputs": [
    {
     "data": {
      "text/plain": [
       "test_grid_vs_num (generic function with 1 method)"
      ]
     },
     "execution_count": 20,
     "metadata": {},
     "output_type": "execute_result"
    }
   ],
   "source": [
    "function test_grid_vs_num(N, g_sym, a_sym)\n",
    "    # Create random path\n",
    "\n",
    "    # Random, increasing a starting from 0\n",
    "    # These are the bin edges\n",
    "    s = cumsum([[0.]'; rand(N-1)])/N\n",
    "\n",
    "    # Evaluate quantities on path\n",
    "    g_num = g_sym.(s)\n",
    "    a_num = a_sym.(s)\n",
    "    lims = [minimum(s), maximum(s)];\n",
    "    \n",
    "    # Index of s val at or after sp\n",
    "    î(sp) = (filter(i -> s[i]>sp, 1:N))[1]\n",
    "    # Distance to next s val\n",
    "    d̃(sp) = s[î.(sp)]-sp\n",
    "    \n",
    "    ds = diff(s)\n",
    "    Np = 501\n",
    "    sp = linspace(lims...,Np)[1:end-1]\n",
    "    dsp = diff(sp)\n",
    "    gₙ = g_sym.(sp)\n",
    "    ã = a_sym.(sp)\n",
    "    #minus_ν = [sum((a_num.*ds)[î(sp[i]):end]) + a_num[î(sp[i])-1]*d̃(sp[i]) for i in 1:length(sp)]\n",
    "    #minus_ν = [sum((ã.*dsp)[î(sp[i]):end]) + ã[î(sp[i])-1]*d̃(sp[i]) for i in 1:Np]\n",
    "    #\n",
    "    ## Plot quantities\n",
    "    #bars(s, ã, label=\"absorb\")\n",
    "    #plot!(sp,minus_ν, color=:green, marker=:circle, label=\"atten\")\n",
    "    #plot!(sp,exp.(-minus_ν), color=:red, marker=:circle, label=\"% remaining\")\n",
    "    #plot!(legend=true)\n",
    "    #xlabel!(\"Path length (ray heading right)\")\n",
    "    #title!(\"Inner path integral\")\n",
    "    \n",
    "    # Compare grid to numerical solution\n",
    "    i_g = integ_grid(s, g_num, a_num)\n",
    "    i_n = integ_num(g_sym, a_sym, lims)\n",
    "    abs_err = abs(i_n - i_g)\n",
    "    rel_err = abs_err/i_g\n",
    "\n",
    "    println(\"i_g = $(i_g)\")\n",
    "    println(\"i_n = $(i_n)\")\n",
    "    printfmtln(\"Absolute error = {:.2f}\", abs_err)\n",
    "    printfmtln(\"Relative error = {:.2f}%\", 100*rel_err)\n",
    "end\n"
   ]
  },
  {
   "cell_type": "code",
   "execution_count": 32,
   "metadata": {},
   "outputs": [
    {
     "name": "stdout",
     "output_type": "stream",
     "text": [
      "i_g = 0.07245580126209929\n",
      "i_n = 0.0781990153801958\n",
      "Absolute error = 0.01\n",
      "Relative error = 7.93%\n"
     ]
    }
   ],
   "source": [
    "N = 20\n",
    "g_sym(s) = abs(sin(s)*cos(s))\n",
    "a_sym(s) = abs(s^2-s)+.3\n",
    "test_grid_vs_num(N, g_sym, a_sym)"
   ]
  },
  {
   "cell_type": "code",
   "execution_count": null,
   "metadata": {},
   "outputs": [],
   "source": []
  }
 ],
 "metadata": {
  "kernelspec": {
   "display_name": "Julia 0.6.2",
   "language": "julia",
   "name": "julia-0.6"
  },
  "language_info": {
   "file_extension": ".jl",
   "mimetype": "application/julia",
   "name": "julia",
   "version": "0.6.2"
  }
 },
 "nbformat": 4,
 "nbformat_minor": 2
}
