{
 "cells": [
  {
   "cell_type": "markdown",
   "metadata": {},
   "source": [
    "# Path integral through rectangular $n$-dimensional grid"
   ]
  },
  {
   "cell_type": "code",
   "execution_count": 137,
   "metadata": {},
   "outputs": [],
   "source": [
    "using QuadGK\n",
    "using Plots; pyplot()\n",
    "using PerceptualColourMaps"
   ]
  },
  {
   "cell_type": "code",
   "execution_count": 167,
   "metadata": {},
   "outputs": [
    {
     "data": {
      "text/plain": [
       "traverse_nosort_nd (generic function with 3 methods)"
      ]
     },
     "execution_count": 167,
     "metadata": {},
     "output_type": "execute_result"
    }
   ],
   "source": [
    "function traverse_nosort_nd(f, grids, p0, p1, cm=cmap(\"DEPTH\"))\n",
    "    # Number of dimensions\n",
    "    nd = length(grids)\n",
    "    \n",
    "    # Grid info\n",
    "    nums = [length(grid) for grid in grids]\n",
    "    spacings = [step(grid) for grid in grids]\n",
    "    minvals = [minimum(grid) for grid in grids]\n",
    "    maxvals = [maximum(grid) for grid in grids]\n",
    "    \n",
    "    # Direction of steps\n",
    "    dirs = floor.(Int,sign.(p1-p0))\n",
    "    \n",
    "    # Path (parameterized by path length)\n",
    "    ŝ = norm(p1-p0)\n",
    "    \n",
    "    # Path lengths of intersection points\n",
    "    intersects = [ŝ * (grids[n]-p0[n])/(p1[n]-p0[n]) for n in 1:nd]\n",
    "    \n",
    "    # Initialize plot\n",
    "    if nd == 2\n",
    "        p = plot()\n",
    "        ## MADE IT THIS FAR\n",
    "        xlims!(minvals[1], maxvals[1])\n",
    "        ylims!(minvals[2], maxvals[2])\n",
    "        drawgrid!(grids...)\n",
    "    end\n",
    "    \n",
    "    # Current path position\n",
    "    s = 0.\n",
    "    # Next path position\n",
    "    s_next = 0.\n",
    "    \n",
    "    # Path spacing counter\n",
    "    k = 1\n",
    "    # Allocate spacing array\n",
    "    ds = zeros(sum(nums))\n",
    "    ds_max = sqrt(sum(spacings.^2))\n",
    "    \n",
    "    # Conversion from cell_inds to edge_inds\n",
    "    # (assuming edge preceeds cell)\n",
    "    shifts = [dir == 1 ? 1 : 0 for dir in dirs]\n",
    "    \n",
    "    # To mark grid location for abs. coef.\n",
    "    cell_inds = ceil.(Int, (p0-minvals)./spacings)\n",
    "    edge_inds = cell_inds .+ shifts\n",
    "    \n",
    "    # Initialize integral\n",
    "    integ = 0.\n",
    "    \n",
    "    while s < ŝ\n",
    "        # Determine direction and path length\n",
    "        s_candidates = [intersects[n][edge_inds[n]] for n in 1:nd]\n",
    "        s_next, min_ind = findmin(s_candidates)\n",
    "        ds = min(s_next, ŝ) - s\n",
    "        \n",
    "        # EVALUATE INTEGRAL\n",
    "        integ += f[cell_inds...] * ds\n",
    "        \n",
    "        # Plot if 2D\n",
    "        if ds > 0\n",
    "            if nd == 2\n",
    "                drawrect!(grids[1], grids[2], cell_inds[1], cell_inds[2], ds/ds_max, cm)\n",
    "            end\n",
    "        end\n",
    "        \n",
    "        # Move to next cell\n",
    "        cell_inds[min_ind] += dirs[min_ind]\n",
    "        edge_inds[min_ind] += dirs[min_ind]\n",
    "        s = s_next\n",
    "        k += 1\n",
    "    end\n",
    "            \n",
    "    if nd == 2\n",
    "        plot!([p0[1], p1[1]], [p0[2], p1[2]]; color=:black, marker=:circle, reuse=false, legend=false)\n",
    "        title!(\"Ray Tracing Test\")\n",
    "    else\n",
    "        p = nothing\n",
    "    end\n",
    "    \n",
    "    \n",
    "    return integ, p\n",
    "end"
   ]
  },
  {
   "cell_type": "markdown",
   "metadata": {},
   "source": [
    "# Test numerical integration over grid vs. quadrature"
   ]
  },
  {
   "cell_type": "code",
   "execution_count": 223,
   "metadata": {},
   "outputs": [
    {
     "data": {
      "text/plain": [
       "compare_grid_and_quadrature (generic function with 1 method)"
      ]
     },
     "execution_count": 223,
     "metadata": {},
     "output_type": "execute_result"
    }
   ],
   "source": [
    "function applyfunc(f, grids)\n",
    "    \"\"\"Evaluate `f` over cartesian product of grids\"\"\"\n",
    "    nd = length(grids)\n",
    "    \n",
    "    newdims = [ones(Int, nd) for grid in grids]\n",
    "    for i in 1:nd\n",
    "        newdims[i][i] = length(grids[i])\n",
    "    end\n",
    "    \n",
    "    newarrs = [reshape(grids[i], Tuple(newdims[i])) for i in 1:nd]\n",
    "    \n",
    "    return broadcast(f, newarrs...)\n",
    "end\n",
    "\n",
    "function compare_grid_and_quadrature(f, grids, p0, p1)\n",
    "    f_arr = applyfunc(f, grids)\n",
    "    \n",
    "    # Numerical integration over grid\n",
    "    integ, p = traverse_nosort_nd(f_arr, [x, y, z, w], p0, p1);\n",
    "    if p != nothing\n",
    "        display(p)\n",
    "    end\n",
    "    println(\"Ray trace: $integ\")\n",
    "\n",
    "    # Quadrature with symobolic function for more precise answer\n",
    "    l̂(t) = p1*t + (1-t)*p0\n",
    "    ŝ = norm(p1-p0)\n",
    "    l(s) = l̂(s/ŝ)\n",
    "    f_path(s) = f(l(s)...)\n",
    "    quad_integ, quad_err = quadgk(f_path, 0, ŝ)\n",
    "    println(\"Quadrature: $quad_integ\")\n",
    "end"
   ]
  },
  {
   "cell_type": "code",
   "execution_count": 225,
   "metadata": {},
   "outputs": [
    {
     "name": "stdout",
     "output_type": "stream",
     "text": [
      "Ray trace: 338.03998324673375\n",
      "Quadrature: 356.85960233742117\n"
     ]
    }
   ],
   "source": [
    "# Define problem\n",
    "f(x, y, z, w) = sin.(x .+ y)  .* y.^2 .- log.(z) .+ 2*(w)\n",
    "\n",
    "x = linspace(1, 8, 21)\n",
    "y = linspace(2, 2.5, 21)\n",
    "z = linspace(3, 7, 21)\n",
    "w = linspace(1, 20, 21)\n",
    "grids = [x, y, z, w]\n",
    "\n",
    "p0 = [1.3, 2.4, 3.1, 1.2]\n",
    "p1 = [7.4, 2.3, 6.2, 19.]\n",
    "\n",
    "compare_grid_and_quadrature(f, grids, p0, p1)"
   ]
  },
  {
   "cell_type": "code",
   "execution_count": null,
   "metadata": {},
   "outputs": [],
   "source": []
  }
 ],
 "metadata": {
  "kernelspec": {
   "display_name": "Julia 0.6.2",
   "language": "julia",
   "name": "julia-0.6"
  },
  "language_info": {
   "file_extension": ".jl",
   "mimetype": "application/julia",
   "name": "julia",
   "version": "0.6.2"
  }
 },
 "nbformat": 4,
 "nbformat_minor": 2
}
