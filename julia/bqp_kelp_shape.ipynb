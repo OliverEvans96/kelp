{
 "cells": [
  {
   "cell_type": "code",
   "execution_count": 1,
   "metadata": {
    "scrolled": true
   },
   "outputs": [
    {
     "name": "stderr",
     "output_type": "stream",
     "text": [
      "\u001b[1m\u001b[33mWARNING: \u001b[39m\u001b[22m\u001b[33m`replace(s, pat, r, count)` with `count <= 0` is deprecated, use `replace(s, pat, r, typemax(Int))` or `replace(s, pat, r)` instead\u001b[39m\n",
      "Stacktrace:\n",
      " [1] \u001b[1mdepwarn\u001b[22m\u001b[22m\u001b[1m(\u001b[22m\u001b[22m::String, ::Symbol\u001b[1m)\u001b[22m\u001b[22m at \u001b[1m./deprecated.jl:70\u001b[22m\u001b[22m\n",
      " [2] \u001b[1mreplace\u001b[22m\u001b[22m\u001b[1m(\u001b[22m\u001b[22m::String, ::Regex, ::Function, ::Int64\u001b[1m)\u001b[22m\u001b[22m at \u001b[1m./deprecated.jl:1513\u001b[22m\u001b[22m\n",
      " [3] \u001b[1mexecute_request\u001b[22m\u001b[22m\u001b[1m(\u001b[22m\u001b[22m::ZMQ.Socket, ::IJulia.Msg\u001b[1m)\u001b[22m\u001b[22m at \u001b[1m/home/oliver/.julia/v0.7/IJulia/src/execute_request.jl:144\u001b[22m\u001b[22m\n",
      " [4] \u001b[1meventloop\u001b[22m\u001b[22m\u001b[1m(\u001b[22m\u001b[22m::ZMQ.Socket\u001b[1m)\u001b[22m\u001b[22m at \u001b[1m/home/oliver/.julia/v0.7/IJulia/src/eventloop.jl:8\u001b[22m\u001b[22m\n",
      " [5] \u001b[1m(::IJulia.##11#14)\u001b[22m\u001b[22m\u001b[1m(\u001b[22m\u001b[22m\u001b[1m)\u001b[22m\u001b[22m at \u001b[1m./task.jl:335\u001b[22m\u001b[22m\n",
      "while loading /home/oliver/.julia/v0.6/IJulia/src/kernel.jl, in expression starting on line 31\n",
      "\u001b[1m\u001b[33mWARNING: \u001b[39m\u001b[22m\u001b[33minclude_string(string, fname) is deprecated, use `include_string(module, string, fname)` instead.\u001b[39m\n",
      "Stacktrace:\n",
      " [1] \u001b[1mdepwarn\u001b[22m\u001b[22m\u001b[1m(\u001b[22m\u001b[22m::String, ::Symbol\u001b[1m)\u001b[22m\u001b[22m at \u001b[1m./deprecated.jl:70\u001b[22m\u001b[22m\n",
      " [2] \u001b[1minclude_string\u001b[22m\u001b[22m\u001b[1m(\u001b[22m\u001b[22m::String, ::String\u001b[1m)\u001b[22m\u001b[22m at \u001b[1m./deprecated.jl:1388\u001b[22m\u001b[22m\n",
      " [3] \u001b[1mexecute_request\u001b[22m\u001b[22m\u001b[1m(\u001b[22m\u001b[22m::ZMQ.Socket, ::IJulia.Msg\u001b[1m)\u001b[22m\u001b[22m at \u001b[1m/home/oliver/.julia/v0.7/IJulia/src/execute_request.jl:160\u001b[22m\u001b[22m\n",
      " [4] \u001b[1meventloop\u001b[22m\u001b[22m\u001b[1m(\u001b[22m\u001b[22m::ZMQ.Socket\u001b[1m)\u001b[22m\u001b[22m at \u001b[1m/home/oliver/.julia/v0.7/IJulia/src/eventloop.jl:8\u001b[22m\u001b[22m\n",
      " [5] \u001b[1m(::IJulia.##11#14)\u001b[22m\u001b[22m\u001b[1m(\u001b[22m\u001b[22m\u001b[1m)\u001b[22m\u001b[22m at \u001b[1m./task.jl:335\u001b[22m\u001b[22m\n",
      "while loading /home/oliver/.julia/v0.6/IJulia/src/kernel.jl, in expression starting on line 31\n"
     ]
    }
   ],
   "source": [
    "using PyCall"
   ]
  },
  {
   "cell_type": "code",
   "execution_count": 2,
   "metadata": {},
   "outputs": [
    {
     "name": "stderr",
     "output_type": "stream",
     "text": [
      "\u001b[1m\u001b[33mWARNING: \u001b[39m\u001b[22m\u001b[33m`isdefined(:symbol)` is deprecated, use `@isdefined symbol` instead\u001b[39m\n",
      "Stacktrace:\n",
      " [1] \u001b[1mdepwarn\u001b[22m\u001b[22m\u001b[1m(\u001b[22m\u001b[22m::String, ::Symbol\u001b[1m)\u001b[22m\u001b[22m at \u001b[1m./deprecated.jl:70\u001b[22m\u001b[22m\n",
      " [2] \u001b[1minclude_string\u001b[22m\u001b[22m\u001b[1m(\u001b[22m\u001b[22m::Module, ::String, ::String\u001b[1m)\u001b[22m\u001b[22m at \u001b[1m./loading.jl:520\u001b[22m\u001b[22m\n",
      " [3] \u001b[1minclude_string\u001b[22m\u001b[22m\u001b[1m(\u001b[22m\u001b[22m::String, ::String\u001b[1m)\u001b[22m\u001b[22m at \u001b[1m./deprecated.jl:1389\u001b[22m\u001b[22m\n",
      " [4] \u001b[1mexecute_request\u001b[22m\u001b[22m\u001b[1m(\u001b[22m\u001b[22m::ZMQ.Socket, ::IJulia.Msg\u001b[1m)\u001b[22m\u001b[22m at \u001b[1m/home/oliver/.julia/v0.7/IJulia/src/execute_request.jl:160\u001b[22m\u001b[22m\n",
      " [5] \u001b[1meventloop\u001b[22m\u001b[22m\u001b[1m(\u001b[22m\u001b[22m::ZMQ.Socket\u001b[1m)\u001b[22m\u001b[22m at \u001b[1m/home/oliver/.julia/v0.7/IJulia/src/eventloop.jl:8\u001b[22m\u001b[22m\n",
      " [6] \u001b[1m(::IJulia.##11#14)\u001b[22m\u001b[22m\u001b[1m(\u001b[22m\u001b[22m\u001b[1m)\u001b[22m\u001b[22m at \u001b[1m./task.jl:335\u001b[22m\u001b[22m\n",
      "while loading In[2], in expression starting on line 409\n"
     ]
    }
   ],
   "source": [
    "@pyimport bqplot.pyplot as bqp"
   ]
  },
  {
   "cell_type": "code",
   "execution_count": 3,
   "metadata": {},
   "outputs": [
    {
     "name": "stderr",
     "output_type": "stream",
     "text": [
      "\u001b[1m\u001b[33mWARNING: \u001b[39m\u001b[22m\u001b[33m`isdefined(:symbol)` is deprecated, use `@isdefined symbol` instead\u001b[39m\n",
      "Stacktrace:\n",
      " [1] \u001b[1mdepwarn\u001b[22m\u001b[22m\u001b[1m(\u001b[22m\u001b[22m::String, ::Symbol\u001b[1m)\u001b[22m\u001b[22m at \u001b[1m./deprecated.jl:70\u001b[22m\u001b[22m\n",
      " [2] \u001b[1minclude_string\u001b[22m\u001b[22m\u001b[1m(\u001b[22m\u001b[22m::Module, ::String, ::String\u001b[1m)\u001b[22m\u001b[22m at \u001b[1m./loading.jl:520\u001b[22m\u001b[22m\n",
      " [3] \u001b[1minclude_string\u001b[22m\u001b[22m\u001b[1m(\u001b[22m\u001b[22m::String, ::String\u001b[1m)\u001b[22m\u001b[22m at \u001b[1m./deprecated.jl:1389\u001b[22m\u001b[22m\n",
      " [4] \u001b[1mexecute_request\u001b[22m\u001b[22m\u001b[1m(\u001b[22m\u001b[22m::ZMQ.Socket, ::IJulia.Msg\u001b[1m)\u001b[22m\u001b[22m at \u001b[1m/home/oliver/.julia/v0.7/IJulia/src/execute_request.jl:160\u001b[22m\u001b[22m\n",
      " [5] \u001b[1meventloop\u001b[22m\u001b[22m\u001b[1m(\u001b[22m\u001b[22m::ZMQ.Socket\u001b[1m)\u001b[22m\u001b[22m at \u001b[1m/home/oliver/.julia/v0.7/IJulia/src/eventloop.jl:8\u001b[22m\u001b[22m\n",
      " [6] \u001b[1m(::IJulia.##11#14)\u001b[22m\u001b[22m\u001b[1m(\u001b[22m\u001b[22m\u001b[1m)\u001b[22m\u001b[22m at \u001b[1m./task.jl:335\u001b[22m\u001b[22m\n",
      "while loading In[3], in expression starting on line 409\n"
     ]
    },
    {
     "data": {
      "text/plain": [
       "\"3.5.3 |Continuum Analytics, Inc.| (default, Feb 22 2017, 21:13:27) \\n[GCC 4.4.7 20120313 (Red Hat 4.4.7-1)]\""
      ]
     },
     "execution_count": 3,
     "metadata": {},
     "output_type": "execute_result"
    }
   ],
   "source": [
    "@pyimport sys\n",
    "sys.version"
   ]
  },
  {
   "cell_type": "code",
   "execution_count": 13,
   "metadata": {},
   "outputs": [
    {
     "name": "stderr",
     "output_type": "stream",
     "text": [
      "\u001b[1m\u001b[33mWARNING: \u001b[39m\u001b[22m\u001b[33m`isdefined(:symbol)` is deprecated, use `@isdefined symbol` instead\u001b[39m\n",
      "Stacktrace:\n",
      " [1] \u001b[1mdepwarn\u001b[22m\u001b[22m\u001b[1m(\u001b[22m\u001b[22m::String, ::Symbol\u001b[1m)\u001b[22m\u001b[22m at \u001b[1m./deprecated.jl:70\u001b[22m\u001b[22m\n",
      " [2] \u001b[1minclude_string\u001b[22m\u001b[22m\u001b[1m(\u001b[22m\u001b[22m::Module, ::String, ::String\u001b[1m)\u001b[22m\u001b[22m at \u001b[1m./loading.jl:520\u001b[22m\u001b[22m\n",
      " [3] \u001b[1minclude_string\u001b[22m\u001b[22m\u001b[1m(\u001b[22m\u001b[22m::String, ::String\u001b[1m)\u001b[22m\u001b[22m at \u001b[1m./deprecated.jl:1389\u001b[22m\u001b[22m\n",
      " [4] \u001b[1mexecute_request\u001b[22m\u001b[22m\u001b[1m(\u001b[22m\u001b[22m::ZMQ.Socket, ::IJulia.Msg\u001b[1m)\u001b[22m\u001b[22m at \u001b[1m/home/oliver/.julia/v0.7/IJulia/src/execute_request.jl:160\u001b[22m\u001b[22m\n",
      " [5] \u001b[1meventloop\u001b[22m\u001b[22m\u001b[1m(\u001b[22m\u001b[22m::ZMQ.Socket\u001b[1m)\u001b[22m\u001b[22m at \u001b[1m/home/oliver/.julia/v0.7/IJulia/src/eventloop.jl:8\u001b[22m\u001b[22m\n",
      " [6] \u001b[1m(::IJulia.##11#14)\u001b[22m\u001b[22m\u001b[1m(\u001b[22m\u001b[22m\u001b[1m)\u001b[22m\u001b[22m at \u001b[1m./task.jl:335\u001b[22m\u001b[22m\n",
      "while loading In[13], in expression starting on line 409\n"
     ]
    },
    {
     "ename": "LoadError",
     "evalue": "\u001b[91mPyError (ccall(#= /home/oliver/.julia/v0.7/PyCall/src/PyCall.jl:370 =# @pysym(:PyImport_ImportModule), PyPtr, (Cstring,), name)) <class 'NotImplementedError'>\nNotImplementedError('Implement enable_gui in a subclass',)\n  File \"/home/oliver/local/miniconda3/lib/python3.5/site-packages/matplotlib/pyplot.py\", line 2535, in <module>\n    install_repl_displayhook()\n  File \"/home/oliver/local/miniconda3/lib/python3.5/site-packages/matplotlib/pyplot.py\", line 166, in install_repl_displayhook\n    ip.enable_gui(ipython_gui_name)\n  File \"/home/oliver/local/miniconda3/lib/python3.5/site-packages/IPython/core/interactiveshell.py\", line 2911, in enable_gui\n    raise NotImplementedError('Implement enable_gui in a subclass')\n\u001b[39m",
     "output_type": "error",
     "traceback": [
      "\u001b[91mPyError (ccall(#= /home/oliver/.julia/v0.7/PyCall/src/PyCall.jl:370 =# @pysym(:PyImport_ImportModule), PyPtr, (Cstring,), name)) <class 'NotImplementedError'>\nNotImplementedError('Implement enable_gui in a subclass',)\n  File \"/home/oliver/local/miniconda3/lib/python3.5/site-packages/matplotlib/pyplot.py\", line 2535, in <module>\n    install_repl_displayhook()\n  File \"/home/oliver/local/miniconda3/lib/python3.5/site-packages/matplotlib/pyplot.py\", line 166, in install_repl_displayhook\n    ip.enable_gui(ipython_gui_name)\n  File \"/home/oliver/local/miniconda3/lib/python3.5/site-packages/IPython/core/interactiveshell.py\", line 2911, in enable_gui\n    raise NotImplementedError('Implement enable_gui in a subclass')\n\u001b[39m",
      "",
      "Stacktrace:",
      " [1] \u001b[1mpyerr_check\u001b[22m\u001b[22m at \u001b[1m/home/oliver/.julia/v0.7/PyCall/src/exception.jl:56\u001b[22m\u001b[22m [inlined]",
      " [2] \u001b[1mpyerr_check\u001b[22m\u001b[22m at \u001b[1m/home/oliver/.julia/v0.7/PyCall/src/exception.jl:61\u001b[22m\u001b[22m [inlined]",
      " [3] \u001b[1mmacro expansion\u001b[22m\u001b[22m at \u001b[1m/home/oliver/.julia/v0.7/PyCall/src/exception.jl:81\u001b[22m\u001b[22m [inlined]",
      " [4] \u001b[1mpyimport\u001b[22m\u001b[22m\u001b[1m(\u001b[22m\u001b[22m::String\u001b[1m)\u001b[22m\u001b[22m at \u001b[1m/home/oliver/.julia/v0.7/PyCall/src/PyCall.jl:370\u001b[22m\u001b[22m",
      " [5] \u001b[1minclude_string\u001b[22m\u001b[22m\u001b[1m(\u001b[22m\u001b[22m::Module, ::String, ::String\u001b[1m)\u001b[22m\u001b[22m at \u001b[1m./loading.jl:520\u001b[22m\u001b[22m"
     ]
    }
   ],
   "source": [
    "@pyimport matplotlib.pyplot as plt"
   ]
  },
  {
   "cell_type": "code",
   "execution_count": 14,
   "metadata": {},
   "outputs": [
    {
     "name": "stderr",
     "output_type": "stream",
     "text": [
      "\u001b[1m\u001b[33mWARNING: \u001b[39m\u001b[22m\u001b[33m`isdefined(:symbol)` is deprecated, use `@isdefined symbol` instead\u001b[39m\n",
      "Stacktrace:\n",
      " [1] \u001b[1mdepwarn\u001b[22m\u001b[22m\u001b[1m(\u001b[22m\u001b[22m::String, ::Symbol\u001b[1m)\u001b[22m\u001b[22m at \u001b[1m./deprecated.jl:70\u001b[22m\u001b[22m\n",
      " [2] \u001b[1minclude_string\u001b[22m\u001b[22m\u001b[1m(\u001b[22m\u001b[22m::Module, ::String, ::String\u001b[1m)\u001b[22m\u001b[22m at \u001b[1m./loading.jl:520\u001b[22m\u001b[22m\n",
      " [3] \u001b[1minclude_string\u001b[22m\u001b[22m\u001b[1m(\u001b[22m\u001b[22m::String, ::String\u001b[1m)\u001b[22m\u001b[22m at \u001b[1m./deprecated.jl:1389\u001b[22m\u001b[22m\n",
      " [4] \u001b[1mexecute_request\u001b[22m\u001b[22m\u001b[1m(\u001b[22m\u001b[22m::ZMQ.Socket, ::IJulia.Msg\u001b[1m)\u001b[22m\u001b[22m at \u001b[1m/home/oliver/.julia/v0.7/IJulia/src/execute_request.jl:160\u001b[22m\u001b[22m\n",
      " [5] \u001b[1meventloop\u001b[22m\u001b[22m\u001b[1m(\u001b[22m\u001b[22m::ZMQ.Socket\u001b[1m)\u001b[22m\u001b[22m at \u001b[1m/home/oliver/.julia/v0.7/IJulia/src/eventloop.jl:8\u001b[22m\u001b[22m\n",
      " [6] \u001b[1m(::IJulia.##11#14)\u001b[22m\u001b[22m\u001b[1m(\u001b[22m\u001b[22m\u001b[1m)\u001b[22m\u001b[22m at \u001b[1m./task.jl:335\u001b[22m\u001b[22m\n",
      "while loading In[14], in expression starting on line 409\n"
     ]
    }
   ],
   "source": [
    "@pyimport bokeh"
   ]
  },
  {
   "cell_type": "code",
   "execution_count": 15,
   "metadata": {},
   "outputs": [
    {
     "ename": "LoadError",
     "evalue": "\u001b[91mUndefVarError: plot not defined\u001b[39m",
     "output_type": "error",
     "traceback": [
      "\u001b[91mUndefVarError: plot not defined\u001b[39m",
      "",
      "Stacktrace:",
      " [1] \u001b[1minclude_string\u001b[22m\u001b[22m\u001b[1m(\u001b[22m\u001b[22m::Module, ::String, ::String\u001b[1m)\u001b[22m\u001b[22m at \u001b[1m./loading.jl:520\u001b[22m\u001b[22m"
     ]
    }
   ],
   "source": []
  },
  {
   "cell_type": "code",
   "execution_count": 4,
   "metadata": {
    "collapsed": true
   },
   "outputs": [],
   "source": [
    "x = 0:1e-2:10;\n",
    "y = x .^ 2  - sin.(x);"
   ]
  },
  {
   "cell_type": "code",
   "execution_count": 17,
   "metadata": {},
   "outputs": [],
   "source": [
    "p = bqp.plot(x,y)\n",
    "bqp.show()"
   ]
  },
  {
   "cell_type": "code",
   "execution_count": 20,
   "metadata": {},
   "outputs": [
    {
     "data": {
      "text/plain": [
       "PyObject Lines(colors=['#1f77b4', '#ff7f0e', '#2ca02c', '#d62728', '#9467bd', '#8c564b', '#e377c2', '#7f7f7f', '#bcbd22', '#17becf'], interactions={'hover': 'tooltip'}, scales={'x': LinearScale(), 'y': LinearScale()}, scales_metadata={'color': {'dimension': 'color'}, 'x': {'dimension': 'x', 'orientation': 'horizontal'}, 'y': {'dimension': 'y', 'orientation': 'vertical'}}, tooltip_style={'opacity': 0.9}, x=array([  0.  ,   0.01,   0.02, ...,   9.98,   9.99,  10.  ]), y=array([  0.00000000e+00,  -9.89983333e-03,  -1.95986667e-02, ...,\n",
       "         1.00127532e+02,   1.00335703e+02,   1.00544021e+02]))"
      ]
     },
     "execution_count": 20,
     "metadata": {},
     "output_type": "execute_result"
    }
   ],
   "source": [
    "p"
   ]
  },
  {
   "cell_type": "code",
   "execution_count": 23,
   "metadata": {},
   "outputs": [
    {
     "ename": "LoadError",
     "evalue": "\u001b[91mUndefVarError: IPython not defined\u001b[39m",
     "output_type": "error",
     "traceback": [
      "\u001b[91mUndefVarError: IPython not defined\u001b[39m",
      "",
      "Stacktrace:",
      " [1] \u001b[1minclude_string\u001b[22m\u001b[22m\u001b[1m(\u001b[22m\u001b[22m::Module, ::String, ::String\u001b[1m)\u001b[22m\u001b[22m at \u001b[1m./loading.jl:520\u001b[22m\u001b[22m"
     ]
    }
   ],
   "source": [
    "IPython"
   ]
  },
  {
   "cell_type": "code",
   "execution_count": 25,
   "metadata": {},
   "outputs": [
    {
     "data": {
      "text/plain": [
       "PyObject Lines(colors=['#1f77b4', '#ff7f0e', '#2ca02c', '#d62728', '#9467bd', '#8c564b', '#e377c2', '#7f7f7f', '#bcbd22', '#17becf'], interactions={'hover': 'tooltip'}, scales={'x': LinearScale(), 'y': LinearScale()}, scales_metadata={'color': {'dimension': 'color'}, 'x': {'dimension': 'x', 'orientation': 'horizontal'}, 'y': {'dimension': 'y', 'orientation': 'vertical'}}, tooltip_style={'opacity': 0.9}, x=array([  0.  ,   0.01,   0.02, ...,   9.98,   9.99,  10.  ]), y=array([  0.00000000e+00,  -9.89983333e-03,  -1.95986667e-02, ...,\n",
       "         1.00127532e+02,   1.00335703e+02,   1.00544021e+02]))"
      ]
     },
     "metadata": {},
     "output_type": "display_data"
    }
   ],
   "source": [
    "display(p)"
   ]
  },
  {
   "cell_type": "code",
   "execution_count": 8,
   "metadata": {},
   "outputs": [
    {
     "ename": "LoadError",
     "evalue": "\u001b[91mPyError (ccall(#= /home/oliver/.julia/v0.7/PyCall/src/PyCall.jl:596 =# @pysym(:PyObject_Call), PyPtr, (PyPtr, PyPtr, PyPtr), o, arg, C_NULL)) <class 'KeyError'>\nKeyError(Lines(colors=['#1f77b4', '#ff7f0e', '#2ca02c', '#d62728', '#9467bd', '#8c564b', '#e377c2', '#7f7f7f', '#bcbd22', '#17becf'], interactions={'hover': 'tooltip'}, scales={'x': LinearScale(), 'y': LinearScale()}, scales_metadata={'color': {'dimension': 'color'}, 'x': {'dimension': 'x', 'orientation': 'horizontal'}, 'y': {'dimension': 'y', 'orientation': 'vertical'}}, tooltip_style={'opacity': 0.9}, x=array([  0.  ,   0.01,   0.02, ...,   9.98,   9.99,  10.  ]), y=array([  0.00000000e+00,  -9.89983333e-03,  -1.95986667e-02, ...,\n         1.00127532e+02,   1.00335703e+02,   1.00544021e+02])),)\n  File \"/home/oliver/local/miniconda3/lib/python3.5/site-packages/bqplot/pyplot.py\", line 149, in show\n    figure = _context['figure_registry'][key]\n\u001b[39m",
     "output_type": "error",
     "traceback": [
      "\u001b[91mPyError (ccall(#= /home/oliver/.julia/v0.7/PyCall/src/PyCall.jl:596 =# @pysym(:PyObject_Call), PyPtr, (PyPtr, PyPtr, PyPtr), o, arg, C_NULL)) <class 'KeyError'>\nKeyError(Lines(colors=['#1f77b4', '#ff7f0e', '#2ca02c', '#d62728', '#9467bd', '#8c564b', '#e377c2', '#7f7f7f', '#bcbd22', '#17becf'], interactions={'hover': 'tooltip'}, scales={'x': LinearScale(), 'y': LinearScale()}, scales_metadata={'color': {'dimension': 'color'}, 'x': {'dimension': 'x', 'orientation': 'horizontal'}, 'y': {'dimension': 'y', 'orientation': 'vertical'}}, tooltip_style={'opacity': 0.9}, x=array([  0.  ,   0.01,   0.02, ...,   9.98,   9.99,  10.  ]), y=array([  0.00000000e+00,  -9.89983333e-03,  -1.95986667e-02, ...,\n         1.00127532e+02,   1.00335703e+02,   1.00544021e+02])),)\n  File \"/home/oliver/local/miniconda3/lib/python3.5/site-packages/bqplot/pyplot.py\", line 149, in show\n    figure = _context['figure_registry'][key]\n\u001b[39m",
      "",
      "Stacktrace:",
      " [1] \u001b[1mpyerr_check\u001b[22m\u001b[22m at \u001b[1m/home/oliver/.julia/v0.7/PyCall/src/exception.jl:56\u001b[22m\u001b[22m [inlined]",
      " [2] \u001b[1mpyerr_check\u001b[22m\u001b[22m at \u001b[1m/home/oliver/.julia/v0.7/PyCall/src/exception.jl:61\u001b[22m\u001b[22m [inlined]",
      " [3] \u001b[1mmacro expansion\u001b[22m\u001b[22m at \u001b[1m/home/oliver/.julia/v0.7/PyCall/src/exception.jl:81\u001b[22m\u001b[22m [inlined]",
      " [4] \u001b[1m#_pycall#66\u001b[22m\u001b[22m\u001b[1m(\u001b[22m\u001b[22m::Array{Any,1}, ::Function, ::PyCall.PyObject, ::PyCall.PyObject, ::Vararg{PyCall.PyObject,N} where N\u001b[1m)\u001b[22m\u001b[22m at \u001b[1m/home/oliver/.julia/v0.7/PyCall/src/PyCall.jl:596\u001b[22m\u001b[22m",
      " [5] \u001b[1m_pycall\u001b[22m\u001b[22m\u001b[1m(\u001b[22m\u001b[22m::PyCall.PyObject, ::PyCall.PyObject, ::Vararg{PyCall.PyObject,N} where N\u001b[1m)\u001b[22m\u001b[22m at \u001b[1m/home/oliver/.julia/v0.7/PyCall/src/PyCall.jl:584\u001b[22m\u001b[22m",
      " [6] \u001b[1m#pycall#70\u001b[22m\u001b[22m\u001b[1m(\u001b[22m\u001b[22m::Array{Any,1}, ::Function, ::PyCall.PyObject, ::Type{PyCall.PyAny}, ::PyCall.PyObject, ::Vararg{PyCall.PyObject,N} where N\u001b[1m)\u001b[22m\u001b[22m at \u001b[1m/home/oliver/.julia/v0.7/PyCall/src/PyCall.jl:618\u001b[22m\u001b[22m",
      " [7] \u001b[1mpycall\u001b[22m\u001b[22m\u001b[1m(\u001b[22m\u001b[22m::PyCall.PyObject, ::Type{PyCall.PyAny}, ::PyCall.PyObject, ::Vararg{PyCall.PyObject,N} where N\u001b[1m)\u001b[22m\u001b[22m at \u001b[1m/home/oliver/.julia/v0.7/PyCall/src/PyCall.jl:618\u001b[22m\u001b[22m",
      " [8] \u001b[1m#call#71\u001b[22m\u001b[22m\u001b[1m(\u001b[22m\u001b[22m::Array{Any,1}, ::PyCall.PyObject, ::PyCall.PyObject, ::Vararg{PyCall.PyObject,N} where N\u001b[1m)\u001b[22m\u001b[22m at \u001b[1m/home/oliver/.julia/v0.7/PyCall/src/PyCall.jl:621\u001b[22m\u001b[22m",
      " [9] \u001b[1m(::PyCall.PyObject)\u001b[22m\u001b[22m\u001b[1m(\u001b[22m\u001b[22m::PyCall.PyObject, ::Vararg{PyCall.PyObject,N} where N\u001b[1m)\u001b[22m\u001b[22m at \u001b[1m/home/oliver/.julia/v0.7/PyCall/src/PyCall.jl:621\u001b[22m\u001b[22m",
      " [10] \u001b[1minclude_string\u001b[22m\u001b[22m\u001b[1m(\u001b[22m\u001b[22m::Module, ::String, ::String\u001b[1m)\u001b[22m\u001b[22m at \u001b[1m./loading.jl:520\u001b[22m\u001b[22m"
     ]
    }
   ],
   "source": [
    "bqp.show(p)"
   ]
  },
  {
   "cell_type": "code",
   "execution_count": 10,
   "metadata": {},
   "outputs": [],
   "source": [
    "bqp.show()"
   ]
  },
  {
   "cell_type": "code",
   "execution_count": null,
   "metadata": {
    "collapsed": true
   },
   "outputs": [],
   "source": []
  }
 ],
 "metadata": {
  "kernelspec": {
   "display_name": "Julia 0.6.0",
   "language": "julia",
   "name": "julia-0.6"
  },
  "language_info": {
   "file_extension": ".jl",
   "mimetype": "application/julia",
   "name": "julia",
   "version": "0.7.0"
  }
 },
 "nbformat": 4,
 "nbformat_minor": 2
}
