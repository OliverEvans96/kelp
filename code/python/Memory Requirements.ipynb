{
 "cells": [
  {
   "cell_type": "markdown",
   "metadata": {},
   "source": [
    "# Memory Requirements\n",
    "- Feasible grid size is severely limited by memory requirements"
   ]
  },
  {
   "cell_type": "code",
   "execution_count": 23,
   "metadata": {},
   "outputs": [],
   "source": [
    "import numpy as np\n",
    "import pandas as pd\n",
    "import matplotlib.pyplot as plt\n",
    "import humanfriendly as hf"
   ]
  },
  {
   "cell_type": "code",
   "execution_count": 3,
   "metadata": {},
   "outputs": [],
   "source": [
    "%matplotlib inline"
   ]
  },
  {
   "cell_type": "code",
   "execution_count": 4,
   "metadata": {},
   "outputs": [],
   "source": [
    "def sizeof_fmt(num, suffix='B'):\n",
    "    \"\"\"Human-readable bytes: https://stackoverflow.com/questions/1094841/reusable-library-to-get-human-readable-version-of-file-size\"\"\"\n",
    "    for unit in ['','Ki','Mi','Gi','Ti','Pi','Ei','Zi']:\n",
    "        if abs(num) < 1024.0:\n",
    "            return \"%3.1f %s%s\" % (num, unit, suffix)\n",
    "        num /= 1024.0\n",
    "    return \"%.1f %s%s\" % (num, 'Yi', suffix)"
   ]
  },
  {
   "cell_type": "code",
   "execution_count": 5,
   "metadata": {},
   "outputs": [],
   "source": [
    "def apply_to_array(fun, arr):\n",
    "    vals = np.array([fun(x) for x in arr.flatten()])\n",
    "    return vals.reshape(arr.shape)"
   ]
  },
  {
   "cell_type": "code",
   "execution_count": 15,
   "metadata": {},
   "outputs": [],
   "source": [
    "def calc_size(ns, na):\n",
    "    nx = ns\n",
    "    ny = ns\n",
    "    nz = ns\n",
    "    ntheta = na\n",
    "    nphi = na\n",
    "    nomega = ntheta * (nphi-2) + 2\n",
    "    \n",
    "    nnz = nx * ny * nomega * ( nz * (6 + nomega) - 1)\n",
    "    \n",
    "    return 8*nnz"
   ]
  },
  {
   "cell_type": "code",
   "execution_count": 26,
   "metadata": {},
   "outputs": [],
   "source": [
    "ns_vals = [6, 8, 10]\n",
    "na_vals = np.arange(10,101,10)"
   ]
  },
  {
   "cell_type": "code",
   "execution_count": 27,
   "metadata": {},
   "outputs": [],
   "source": [
    "ns, na = np.meshgrid(ns_vals, na_vals, indexing='ij')"
   ]
  },
  {
   "cell_type": "code",
   "execution_count": 28,
   "metadata": {},
   "outputs": [
    {
     "data": {
      "text/html": [
       "<div>\n",
       "<style scoped>\n",
       "    .dataframe tbody tr th:only-of-type {\n",
       "        vertical-align: middle;\n",
       "    }\n",
       "\n",
       "    .dataframe tbody tr th {\n",
       "        vertical-align: top;\n",
       "    }\n",
       "\n",
       "    .dataframe thead th {\n",
       "        text-align: right;\n",
       "    }\n",
       "</style>\n",
       "<table border=\"1\" class=\"dataframe\">\n",
       "  <thead>\n",
       "    <tr style=\"text-align: right;\">\n",
       "      <th></th>\n",
       "      <th>10</th>\n",
       "      <th>20</th>\n",
       "      <th>30</th>\n",
       "      <th>40</th>\n",
       "      <th>50</th>\n",
       "      <th>60</th>\n",
       "      <th>70</th>\n",
       "      <th>80</th>\n",
       "      <th>90</th>\n",
       "      <th>100</th>\n",
       "    </tr>\n",
       "  </thead>\n",
       "  <tbody>\n",
       "    <tr>\n",
       "      <th>6</th>\n",
       "      <td>11.87 MiB</td>\n",
       "      <td>219.43 MiB</td>\n",
       "      <td>1.15 GiB</td>\n",
       "      <td>3.74 GiB</td>\n",
       "      <td>9.31 GiB</td>\n",
       "      <td>19.54 GiB</td>\n",
       "      <td>36.54 GiB</td>\n",
       "      <td>62.76 GiB</td>\n",
       "      <td>101.07 GiB</td>\n",
       "      <td>154.71 GiB</td>\n",
       "    </tr>\n",
       "    <tr>\n",
       "      <th>8</th>\n",
       "      <td>28.15 MiB</td>\n",
       "      <td>520.2 MiB</td>\n",
       "      <td>2.72 GiB</td>\n",
       "      <td>8.87 GiB</td>\n",
       "      <td>22.06 GiB</td>\n",
       "      <td>46.33 GiB</td>\n",
       "      <td>86.61 GiB</td>\n",
       "      <td>148.77 GiB</td>\n",
       "      <td>239.58 GiB</td>\n",
       "      <td>366.73 GiB</td>\n",
       "    </tr>\n",
       "    <tr>\n",
       "      <th>10</th>\n",
       "      <td>54.99 MiB</td>\n",
       "      <td>1016.08 MiB</td>\n",
       "      <td>5.32 GiB</td>\n",
       "      <td>17.33 GiB</td>\n",
       "      <td>43.09 GiB</td>\n",
       "      <td>90.49 GiB</td>\n",
       "      <td>169.16 GiB</td>\n",
       "      <td>290.57 GiB</td>\n",
       "      <td>467.93 GiB</td>\n",
       "      <td>716.28 GiB</td>\n",
       "    </tr>\n",
       "  </tbody>\n",
       "</table>\n",
       "</div>"
      ],
      "text/plain": [
       "          10           20        30         40         50         60   \\\n",
       "6   11.87 MiB   219.43 MiB  1.15 GiB   3.74 GiB   9.31 GiB  19.54 GiB   \n",
       "8   28.15 MiB    520.2 MiB  2.72 GiB   8.87 GiB  22.06 GiB  46.33 GiB   \n",
       "10  54.99 MiB  1016.08 MiB  5.32 GiB  17.33 GiB  43.09 GiB  90.49 GiB   \n",
       "\n",
       "           70          80          90          100  \n",
       "6    36.54 GiB   62.76 GiB  101.07 GiB  154.71 GiB  \n",
       "8    86.61 GiB  148.77 GiB  239.58 GiB  366.73 GiB  \n",
       "10  169.16 GiB  290.57 GiB  467.93 GiB  716.28 GiB  "
      ]
     },
     "execution_count": 28,
     "metadata": {},
     "output_type": "execute_result"
    }
   ],
   "source": [
    "sizes = calc_size(ns, na)\n",
    "human_readable = pd.DataFrame(apply_to_array(lambda x: hf.format_size(x, binary=True), sizes), columns=na_vals, index=ns_vals)\n",
    "human_readable"
   ]
  }
 ],
 "metadata": {
  "kernelspec": {
   "display_name": "Python 3",
   "language": "python",
   "name": "python3"
  },
  "language_info": {
   "codemirror_mode": {
    "name": "ipython",
    "version": 3
   },
   "file_extension": ".py",
   "mimetype": "text/x-python",
   "name": "python",
   "nbconvert_exporter": "python",
   "pygments_lexer": "ipython3",
   "version": "3.6.6"
  }
 },
 "nbformat": 4,
 "nbformat_minor": 2
}
