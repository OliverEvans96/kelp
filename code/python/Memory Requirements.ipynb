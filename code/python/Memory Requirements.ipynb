{
 "cells": [
  {
   "cell_type": "markdown",
   "metadata": {},
   "source": [
    "# Memory Requirements\n",
    "- Feasible grid size is severely limited by memory requirements"
   ]
  },
  {
   "cell_type": "code",
   "execution_count": 1,
   "metadata": {},
   "outputs": [],
   "source": [
    "import numpy as np\n",
    "import pandas as pd\n",
    "import matplotlib.pyplot as plt\n",
    "import humanfriendly as hf"
   ]
  },
  {
   "cell_type": "code",
   "execution_count": 2,
   "metadata": {},
   "outputs": [],
   "source": [
    "%matplotlib inline"
   ]
  },
  {
   "cell_type": "code",
   "execution_count": 3,
   "metadata": {},
   "outputs": [],
   "source": [
    "def sizeof_fmt(num, suffix='B'):\n",
    "    \"\"\"Human-readable bytes: https://stackoverflow.com/questions/1094841/reusable-library-to-get-human-readable-version-of-file-size\"\"\"\n",
    "    for unit in ['','Ki','Mi','Gi','Ti','Pi','Ei','Zi']:\n",
    "        if abs(num) < 1024.0:\n",
    "            return \"%3.1f %s%s\" % (num, unit, suffix)\n",
    "        num /= 1024.0\n",
    "    return \"%.1f %s%s\" % (num, 'Yi', suffix)"
   ]
  },
  {
   "cell_type": "code",
   "execution_count": 4,
   "metadata": {},
   "outputs": [],
   "source": [
    "def apply_to_array(fun, arr):\n",
    "    vals = np.array([fun(x) for x in arr.flatten()])\n",
    "    return vals.reshape(arr.shape)"
   ]
  },
  {
   "cell_type": "code",
   "execution_count": 5,
   "metadata": {},
   "outputs": [],
   "source": [
    "def calc_size(ns, na):\n",
    "    nx = ns\n",
    "    ny = ns\n",
    "    nz = ns\n",
    "    ntheta = na\n",
    "    nphi = na\n",
    "    nomega = ntheta * (nphi-2) + 2\n",
    "    \n",
    "    nnz = nx * ny * nomega * ( nz * (6 + nomega) - 1)\n",
    "    \n",
    "    return 8*nnz"
   ]
  },
  {
   "cell_type": "code",
   "execution_count": 7,
   "metadata": {},
   "outputs": [
    {
     "data": {
      "text/plain": [
       "7207800.0"
      ]
     },
     "execution_count": 7,
     "metadata": {},
     "output_type": "execute_result"
    }
   ],
   "source": [
    "calc_size(10, 10) / 8"
   ]
  },
  {
   "cell_type": "code",
   "execution_count": 8,
   "metadata": {},
   "outputs": [
    {
     "data": {
      "text/plain": [
       "1065583200.0"
      ]
     },
     "execution_count": 8,
     "metadata": {},
     "output_type": "execute_result"
    }
   ],
   "source": [
    "calc_size(20, 20) / 8"
   ]
  },
  {
   "cell_type": "code",
   "execution_count": 7,
   "metadata": {},
   "outputs": [],
   "source": [
    "ns_vals = [4,8,16,32,48,64,72,100,128]\n",
    "na_vals = np.arange(8, 22, 2)"
   ]
  },
  {
   "cell_type": "code",
   "execution_count": 8,
   "metadata": {},
   "outputs": [],
   "source": [
    "ns, na = np.meshgrid(ns_vals, na_vals, indexing='ij')"
   ]
  },
  {
   "cell_type": "code",
   "execution_count": 9,
   "metadata": {},
   "outputs": [
    {
     "data": {
      "text/html": [
       "<div>\n",
       "<style scoped>\n",
       "    .dataframe tbody tr th:only-of-type {\n",
       "        vertical-align: middle;\n",
       "    }\n",
       "\n",
       "    .dataframe tbody tr th {\n",
       "        vertical-align: top;\n",
       "    }\n",
       "\n",
       "    .dataframe thead th {\n",
       "        text-align: right;\n",
       "    }\n",
       "</style>\n",
       "<table border=\"1\" class=\"dataframe\">\n",
       "  <thead>\n",
       "    <tr style=\"text-align: right;\">\n",
       "      <th></th>\n",
       "      <th>8</th>\n",
       "      <th>10</th>\n",
       "      <th>12</th>\n",
       "      <th>14</th>\n",
       "      <th>16</th>\n",
       "      <th>18</th>\n",
       "      <th>20</th>\n",
       "    </tr>\n",
       "  </thead>\n",
       "  <tbody>\n",
       "    <tr>\n",
       "      <th>4</th>\n",
       "      <td>1.36 MiB</td>\n",
       "      <td>3.51 MiB</td>\n",
       "      <td>7.61 MiB</td>\n",
       "      <td>14.59 MiB</td>\n",
       "      <td>25.57 MiB</td>\n",
       "      <td>41.88 MiB</td>\n",
       "      <td>65 MiB</td>\n",
       "    </tr>\n",
       "    <tr>\n",
       "      <th>8</th>\n",
       "      <td>10.91 MiB</td>\n",
       "      <td>28.15 MiB</td>\n",
       "      <td>60.94 MiB</td>\n",
       "      <td>116.79 MiB</td>\n",
       "      <td>204.7 MiB</td>\n",
       "      <td>335.17 MiB</td>\n",
       "      <td>520.2 MiB</td>\n",
       "    </tr>\n",
       "    <tr>\n",
       "      <th>16</th>\n",
       "      <td>87.4 MiB</td>\n",
       "      <td>225.34 MiB</td>\n",
       "      <td>487.76 MiB</td>\n",
       "      <td>934.67 MiB</td>\n",
       "      <td>1.6 GiB</td>\n",
       "      <td>2.62 GiB</td>\n",
       "      <td>4.06 GiB</td>\n",
       "    </tr>\n",
       "    <tr>\n",
       "      <th>32</th>\n",
       "      <td>699.61 MiB</td>\n",
       "      <td>1.76 GiB</td>\n",
       "      <td>3.81 GiB</td>\n",
       "      <td>7.3 GiB</td>\n",
       "      <td>12.8 GiB</td>\n",
       "      <td>20.95 GiB</td>\n",
       "      <td>32.52 GiB</td>\n",
       "    </tr>\n",
       "    <tr>\n",
       "      <th>48</th>\n",
       "      <td>2.31 GiB</td>\n",
       "      <td>5.94 GiB</td>\n",
       "      <td>12.87 GiB</td>\n",
       "      <td>24.65 GiB</td>\n",
       "      <td>43.2 GiB</td>\n",
       "      <td>70.73 GiB</td>\n",
       "      <td>109.76 GiB</td>\n",
       "    </tr>\n",
       "    <tr>\n",
       "      <th>64</th>\n",
       "      <td>5.47 GiB</td>\n",
       "      <td>14.09 GiB</td>\n",
       "      <td>30.5 GiB</td>\n",
       "      <td>58.43 GiB</td>\n",
       "      <td>102.4 GiB</td>\n",
       "      <td>167.65 GiB</td>\n",
       "      <td>260.18 GiB</td>\n",
       "    </tr>\n",
       "    <tr>\n",
       "      <th>72</th>\n",
       "      <td>7.78 GiB</td>\n",
       "      <td>20.06 GiB</td>\n",
       "      <td>43.42 GiB</td>\n",
       "      <td>83.2 GiB</td>\n",
       "      <td>145.8 GiB</td>\n",
       "      <td>238.7 GiB</td>\n",
       "      <td>370.45 GiB</td>\n",
       "    </tr>\n",
       "    <tr>\n",
       "      <th>100</th>\n",
       "      <td>20.86 GiB</td>\n",
       "      <td>53.76 GiB</td>\n",
       "      <td>116.34 GiB</td>\n",
       "      <td>222.91 GiB</td>\n",
       "      <td>390.63 GiB</td>\n",
       "      <td>639.54 GiB</td>\n",
       "      <td>992.51 GiB</td>\n",
       "    </tr>\n",
       "    <tr>\n",
       "      <th>128</th>\n",
       "      <td>43.74 GiB</td>\n",
       "      <td>112.74 GiB</td>\n",
       "      <td>243.99 GiB</td>\n",
       "      <td>467.48 GiB</td>\n",
       "      <td>819.22 GiB</td>\n",
       "      <td>1.31 TiB</td>\n",
       "      <td>2.03 TiB</td>\n",
       "    </tr>\n",
       "  </tbody>\n",
       "</table>\n",
       "</div>"
      ],
      "text/plain": [
       "             8           10          12          14          16          18  \\\n",
       "4      1.36 MiB    3.51 MiB    7.61 MiB   14.59 MiB   25.57 MiB   41.88 MiB   \n",
       "8     10.91 MiB   28.15 MiB   60.94 MiB  116.79 MiB   204.7 MiB  335.17 MiB   \n",
       "16     87.4 MiB  225.34 MiB  487.76 MiB  934.67 MiB     1.6 GiB    2.62 GiB   \n",
       "32   699.61 MiB    1.76 GiB    3.81 GiB     7.3 GiB    12.8 GiB   20.95 GiB   \n",
       "48     2.31 GiB    5.94 GiB   12.87 GiB   24.65 GiB    43.2 GiB   70.73 GiB   \n",
       "64     5.47 GiB   14.09 GiB    30.5 GiB   58.43 GiB   102.4 GiB  167.65 GiB   \n",
       "72     7.78 GiB   20.06 GiB   43.42 GiB    83.2 GiB   145.8 GiB   238.7 GiB   \n",
       "100   20.86 GiB   53.76 GiB  116.34 GiB  222.91 GiB  390.63 GiB  639.54 GiB   \n",
       "128   43.74 GiB  112.74 GiB  243.99 GiB  467.48 GiB  819.22 GiB    1.31 TiB   \n",
       "\n",
       "             20  \n",
       "4        65 MiB  \n",
       "8     520.2 MiB  \n",
       "16     4.06 GiB  \n",
       "32    32.52 GiB  \n",
       "48   109.76 GiB  \n",
       "64   260.18 GiB  \n",
       "72   370.45 GiB  \n",
       "100  992.51 GiB  \n",
       "128    2.03 TiB  "
      ]
     },
     "execution_count": 9,
     "metadata": {},
     "output_type": "execute_result"
    }
   ],
   "source": [
    "sizes = calc_size(ns, na)\n",
    "human_readable = pd.DataFrame(apply_to_array(lambda x: hf.format_size(x, binary=True), sizes), columns=na_vals, index=ns_vals)\n",
    "human_readable"
   ]
  },
  {
   "cell_type": "code",
   "execution_count": 16,
   "metadata": {},
   "outputs": [],
   "source": [
    "import matplotlib as mpl"
   ]
  },
  {
   "cell_type": "code",
   "execution_count": 17,
   "metadata": {},
   "outputs": [],
   "source": [
    "color_norm = mpl.colors.LogNorm()"
   ]
  },
  {
   "cell_type": "code",
   "execution_count": 29,
   "metadata": {},
   "outputs": [
    {
     "data": {
      "image/png": "[encoded data removed]",
      "text/plain": [
       "<Figure size 432x288 with 2 Axes>"
      ]
     },
     "metadata": {
      "needs_background": "light"
     },
     "output_type": "display_data"
    }
   ],
   "source": [
    "plt.figure(figsize=(6, 4))\n",
    "plt.contourf(ns, na, sizes/2**30, norm=color_norm)\n",
    "plt.colorbar(label='Memory to store coefficient matrix (GiB)')\n",
    "plt.xlabel('$n_s$')\n",
    "plt.ylabel('$n_a$')\n",
    "plt.savefig('/scratch/kelp-figures/memory_store.pdf')"
   ]
  },
  {
   "cell_type": "code",
   "execution_count": 30,
   "metadata": {},
   "outputs": [
    {
     "data": {
      "image/png": "[encoded data removed]",
      "text/plain": [
       "<Figure size 432x288 with 2 Axes>"
      ]
     },
     "metadata": {
      "needs_background": "light"
     },
     "output_type": "display_data"
    }
   ],
   "source": [
    "plt.figure(figsize=(6, 4))\n",
    "plt.contourf(ns, na, 5*sizes/2**30, norm=color_norm)\n",
    "plt.colorbar(label='Memory to solve system via GMRES (GiB)')\n",
    "plt.xlabel('$n_s$')\n",
    "plt.ylabel('$n_a$')\n",
    "plt.savefig('/scratch/kelp-figures/memory_solve.pdf')"
   ]
  },
  {
   "cell_type": "code",
   "execution_count": 11,
   "metadata": {},
   "outputs": [
    {
     "name": "stdout",
     "output_type": "stream",
     "text": [
      "\\begin{tabular}{llllllll}\n",
      "\\toprule\n",
      "{} &          8  &          10 &          12 &          14 &          16 &          18 &          20 \\\\\n",
      "\\midrule\n",
      "4   &    1.36 MiB &    3.51 MiB &    7.61 MiB &   14.59 MiB &   25.57 MiB &   41.88 MiB &      65 MiB \\\\\n",
      "8   &   10.91 MiB &   28.15 MiB &   60.94 MiB &  116.79 MiB &   204.7 MiB &  335.17 MiB &   520.2 MiB \\\\\n",
      "16  &    87.4 MiB &  225.34 MiB &  487.76 MiB &  934.67 MiB &     1.6 GiB &    2.62 GiB &    4.06 GiB \\\\\n",
      "32  &  699.61 MiB &    1.76 GiB &    3.81 GiB &     7.3 GiB &    12.8 GiB &   20.95 GiB &   32.52 GiB \\\\\n",
      "48  &    2.31 GiB &    5.94 GiB &   12.87 GiB &   24.65 GiB &    43.2 GiB &   70.73 GiB &  109.76 GiB \\\\\n",
      "64  &    5.47 GiB &   14.09 GiB &    30.5 GiB &   58.43 GiB &   102.4 GiB &  167.65 GiB &  260.18 GiB \\\\\n",
      "72  &    7.78 GiB &   20.06 GiB &   43.42 GiB &    83.2 GiB &   145.8 GiB &   238.7 GiB &  370.45 GiB \\\\\n",
      "100 &   20.86 GiB &   53.76 GiB &  116.34 GiB &  222.91 GiB &  390.63 GiB &  639.54 GiB &  992.51 GiB \\\\\n",
      "128 &   43.74 GiB &  112.74 GiB &  243.99 GiB &  467.48 GiB &  819.22 GiB &    1.31 TiB &    2.03 TiB \\\\\n",
      "\\bottomrule\n",
      "\\end{tabular}\n",
      "\n"
     ]
    }
   ],
   "source": [
    "print(human_readable.to_latex())"
   ]
  },
  {
   "cell_type": "markdown",
   "metadata": {},
   "source": [
    "FD via LIS/GMRES seems to require about 5x the memory for one such array"
   ]
  },
  {
   "cell_type": "code",
   "execution_count": 12,
   "metadata": {},
   "outputs": [
    {
     "data": {
      "text/html": [
       "<div>\n",
       "<style scoped>\n",
       "    .dataframe tbody tr th:only-of-type {\n",
       "        vertical-align: middle;\n",
       "    }\n",
       "\n",
       "    .dataframe tbody tr th {\n",
       "        vertical-align: top;\n",
       "    }\n",
       "\n",
       "    .dataframe thead th {\n",
       "        text-align: right;\n",
       "    }\n",
       "</style>\n",
       "<table border=\"1\" class=\"dataframe\">\n",
       "  <thead>\n",
       "    <tr style=\"text-align: right;\">\n",
       "      <th></th>\n",
       "      <th>8</th>\n",
       "      <th>10</th>\n",
       "      <th>12</th>\n",
       "      <th>14</th>\n",
       "      <th>16</th>\n",
       "      <th>18</th>\n",
       "      <th>20</th>\n",
       "    </tr>\n",
       "  </thead>\n",
       "  <tbody>\n",
       "    <tr>\n",
       "      <th>4</th>\n",
       "      <td>6.81 MiB</td>\n",
       "      <td>17.57 MiB</td>\n",
       "      <td>38.05 MiB</td>\n",
       "      <td>72.94 MiB</td>\n",
       "      <td>127.87 MiB</td>\n",
       "      <td>209.39 MiB</td>\n",
       "      <td>325.01 MiB</td>\n",
       "    </tr>\n",
       "    <tr>\n",
       "      <th>8</th>\n",
       "      <td>54.57 MiB</td>\n",
       "      <td>140.74 MiB</td>\n",
       "      <td>304.7 MiB</td>\n",
       "      <td>583.96 MiB</td>\n",
       "      <td>1023.51 MiB</td>\n",
       "      <td>1.64 GiB</td>\n",
       "      <td>2.54 GiB</td>\n",
       "    </tr>\n",
       "    <tr>\n",
       "      <th>16</th>\n",
       "      <td>437.01 MiB</td>\n",
       "      <td>1.1 GiB</td>\n",
       "      <td>2.38 GiB</td>\n",
       "      <td>4.56 GiB</td>\n",
       "      <td>8 GiB</td>\n",
       "      <td>13.1 GiB</td>\n",
       "      <td>20.32 GiB</td>\n",
       "    </tr>\n",
       "    <tr>\n",
       "      <th>32</th>\n",
       "      <td>3.42 GiB</td>\n",
       "      <td>8.81 GiB</td>\n",
       "      <td>19.06 GiB</td>\n",
       "      <td>36.52 GiB</td>\n",
       "      <td>64 GiB</td>\n",
       "      <td>104.77 GiB</td>\n",
       "      <td>162.6 GiB</td>\n",
       "    </tr>\n",
       "    <tr>\n",
       "      <th>48</th>\n",
       "      <td>11.53 GiB</td>\n",
       "      <td>29.72 GiB</td>\n",
       "      <td>64.33 GiB</td>\n",
       "      <td>123.25 GiB</td>\n",
       "      <td>215.99 GiB</td>\n",
       "      <td>353.63 GiB</td>\n",
       "      <td>548.8 GiB</td>\n",
       "    </tr>\n",
       "    <tr>\n",
       "      <th>64</th>\n",
       "      <td>27.34 GiB</td>\n",
       "      <td>70.46 GiB</td>\n",
       "      <td>152.48 GiB</td>\n",
       "      <td>292.16 GiB</td>\n",
       "      <td>512 GiB</td>\n",
       "      <td>838.24 GiB</td>\n",
       "      <td>1.27 TiB</td>\n",
       "    </tr>\n",
       "    <tr>\n",
       "      <th>72</th>\n",
       "      <td>38.92 GiB</td>\n",
       "      <td>100.32 GiB</td>\n",
       "      <td>217.11 GiB</td>\n",
       "      <td>415.99 GiB</td>\n",
       "      <td>729 GiB</td>\n",
       "      <td>1.17 TiB</td>\n",
       "      <td>1.81 TiB</td>\n",
       "    </tr>\n",
       "    <tr>\n",
       "      <th>100</th>\n",
       "      <td>104.29 GiB</td>\n",
       "      <td>268.79 GiB</td>\n",
       "      <td>581.7 GiB</td>\n",
       "      <td>1.09 TiB</td>\n",
       "      <td>1.91 TiB</td>\n",
       "      <td>3.12 TiB</td>\n",
       "      <td>4.85 TiB</td>\n",
       "    </tr>\n",
       "    <tr>\n",
       "      <th>128</th>\n",
       "      <td>218.72 GiB</td>\n",
       "      <td>563.7 GiB</td>\n",
       "      <td>1.19 TiB</td>\n",
       "      <td>2.28 TiB</td>\n",
       "      <td>4 TiB</td>\n",
       "      <td>6.55 TiB</td>\n",
       "      <td>10.16 TiB</td>\n",
       "    </tr>\n",
       "  </tbody>\n",
       "</table>\n",
       "</div>"
      ],
      "text/plain": [
       "             8           10          12          14           16          18  \\\n",
       "4      6.81 MiB   17.57 MiB   38.05 MiB   72.94 MiB   127.87 MiB  209.39 MiB   \n",
       "8     54.57 MiB  140.74 MiB   304.7 MiB  583.96 MiB  1023.51 MiB    1.64 GiB   \n",
       "16   437.01 MiB     1.1 GiB    2.38 GiB    4.56 GiB        8 GiB    13.1 GiB   \n",
       "32     3.42 GiB    8.81 GiB   19.06 GiB   36.52 GiB       64 GiB  104.77 GiB   \n",
       "48    11.53 GiB   29.72 GiB   64.33 GiB  123.25 GiB   215.99 GiB  353.63 GiB   \n",
       "64    27.34 GiB   70.46 GiB  152.48 GiB  292.16 GiB      512 GiB  838.24 GiB   \n",
       "72    38.92 GiB  100.32 GiB  217.11 GiB  415.99 GiB      729 GiB    1.17 TiB   \n",
       "100  104.29 GiB  268.79 GiB   581.7 GiB    1.09 TiB     1.91 TiB    3.12 TiB   \n",
       "128  218.72 GiB   563.7 GiB    1.19 TiB    2.28 TiB        4 TiB    6.55 TiB   \n",
       "\n",
       "             20  \n",
       "4    325.01 MiB  \n",
       "8      2.54 GiB  \n",
       "16    20.32 GiB  \n",
       "32    162.6 GiB  \n",
       "48    548.8 GiB  \n",
       "64     1.27 TiB  \n",
       "72     1.81 TiB  \n",
       "100    4.85 TiB  \n",
       "128   10.16 TiB  "
      ]
     },
     "execution_count": 12,
     "metadata": {},
     "output_type": "execute_result"
    }
   ],
   "source": [
    "sizes = calc_size(ns, na)\n",
    "x5 = pd.DataFrame(apply_to_array(lambda x: hf.format_size(x, binary=True), 5*sizes), columns=na_vals, index=ns_vals)\n",
    "x5"
   ]
  },
  {
   "cell_type": "code",
   "execution_count": 13,
   "metadata": {},
   "outputs": [
    {
     "name": "stdout",
     "output_type": "stream",
     "text": [
      "\\begin{tabular}{llllllll}\n",
      "\\toprule\n",
      "{} &          8  &          10 &          12 &          14 &           16 &          18 &          20 \\\\\n",
      "\\midrule\n",
      "4   &    6.81 MiB &   17.57 MiB &   38.05 MiB &   72.94 MiB &   127.87 MiB &  209.39 MiB &  325.01 MiB \\\\\n",
      "8   &   54.57 MiB &  140.74 MiB &   304.7 MiB &  583.96 MiB &  1023.51 MiB &    1.64 GiB &    2.54 GiB \\\\\n",
      "16  &  437.01 MiB &     1.1 GiB &    2.38 GiB &    4.56 GiB &        8 GiB &    13.1 GiB &   20.32 GiB \\\\\n",
      "32  &    3.42 GiB &    8.81 GiB &   19.06 GiB &   36.52 GiB &       64 GiB &  104.77 GiB &   162.6 GiB \\\\\n",
      "48  &   11.53 GiB &   29.72 GiB &   64.33 GiB &  123.25 GiB &   215.99 GiB &  353.63 GiB &   548.8 GiB \\\\\n",
      "64  &   27.34 GiB &   70.46 GiB &  152.48 GiB &  292.16 GiB &      512 GiB &  838.24 GiB &    1.27 TiB \\\\\n",
      "72  &   38.92 GiB &  100.32 GiB &  217.11 GiB &  415.99 GiB &      729 GiB &    1.17 TiB &    1.81 TiB \\\\\n",
      "100 &  104.29 GiB &  268.79 GiB &   581.7 GiB &    1.09 TiB &     1.91 TiB &    3.12 TiB &    4.85 TiB \\\\\n",
      "128 &  218.72 GiB &   563.7 GiB &    1.19 TiB &    2.28 TiB &        4 TiB &    6.55 TiB &   10.16 TiB \\\\\n",
      "\\bottomrule\n",
      "\\end{tabular}\n",
      "\n"
     ]
    }
   ],
   "source": [
    "print(x5.to_latex())"
   ]
  },
  {
   "cell_type": "code",
   "execution_count": 2,
   "metadata": {},
   "outputs": [
    {
     "name": "stdout",
     "output_type": "stream",
     "text": [
      "32\n"
     ]
    }
   ],
   "source": [
    "!echo $OMP_NUM_THREADS"
   ]
  },
  {
   "cell_type": "code",
   "execution_count": null,
   "metadata": {},
   "outputs": [],
   "source": []
  }
 ],
 "metadata": {
  "kernelspec": {
   "display_name": "Python 3",
   "language": "python",
   "name": "python3"
  },
  "language_info": {
   "codemirror_mode": {
    "name": "ipython",
    "version": 3
   },
   "file_extension": ".py",
   "mimetype": "text/x-python",
   "name": "python",
   "nbconvert_exporter": "python",
   "pygments_lexer": "ipython3",
   "version": "3.6.6"
  }
 },
 "nbformat": 4,
 "nbformat_minor": 2
}
