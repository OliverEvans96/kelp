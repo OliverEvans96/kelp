{
 "cells": [
  {
   "cell_type": "code",
   "execution_count": 1,
   "metadata": {},
   "outputs": [],
   "source": [
    "%load_ext autoreload\n",
    "%autoreload 2\n",
    "%matplotlib inline"
   ]
  },
  {
   "cell_type": "code",
   "execution_count": 2,
   "metadata": {},
   "outputs": [],
   "source": [
    "import numpy as np\n",
    "import matplotlib.pyplot as plt\n",
    "import ipyvolume as ipv"
   ]
  },
  {
   "cell_type": "code",
   "execution_count": 3,
   "metadata": {},
   "outputs": [],
   "source": [
    "import kelp_compute\n",
    "import kelp_analyze\n",
    "import discrete_plot"
   ]
  },
  {
   "cell_type": "code",
   "execution_count": 4,
   "metadata": {},
   "outputs": [],
   "source": [
    "import sqlite3\n",
    "import shutil\n",
    "import os"
   ]
  },
  {
   "cell_type": "markdown",
   "metadata": {},
   "source": [
    "## Analyze Grid Study"
   ]
  },
  {
   "cell_type": "markdown",
   "metadata": {},
   "source": [
    "# TODO: FIX CASE WHEN P_KELP = 0 (CENTER IRRAD)"
   ]
  },
  {
   "cell_type": "markdown",
   "metadata": {},
   "source": [
    "# TODO: Compare linear interpolation error to normal error when both nz values are equal."
   ]
  },
  {
   "cell_type": "markdown",
   "metadata": {},
   "source": [
    "## Whole cube"
   ]
  },
  {
   "cell_type": "code",
   "execution_count": 9,
   "metadata": {},
   "outputs": [],
   "source": [
    "def cori_get_study_errors(study_name):\n",
    "    base_dir = os.path.join(os.environ['SCRATCH'], 'kelp-results')\n",
    "    study_dir = os.path.join(base_dir, study_name)\n",
    "    db_path = os.path.join(study_dir, '{}.db'.format(study_name))\n",
    "    perceived_irrad_dict, abs_err_arr, rel_err_arr, compute_time_dict = (\n",
    "        kelp_analyze.grid_study_analyze_full(db_path, study_name)\n",
    "    )\n",
    "    \n",
    "    # TODO: Do plot, not just return errors\n",
    "    #return ipv.quickvolshow(abs_err_arr),\n",
    "    return abs_err_arr, rel_err_arr"
   ]
  },
  {
   "cell_type": "code",
   "execution_count": 26,
   "metadata": {},
   "outputs": [
    {
     "name": "stderr",
     "output_type": "stream",
     "text": [
      "/global/u2/o/oevans/kelp/code/python/kelp_analyze.py:139: RuntimeWarning: invalid value encountered in true_divide\n",
      "  perceived_irrad = np.sum(p_kelp*irrad, axis=(0,1)) / np.sum(p_kelp, axis=(0,1))\n"
     ]
    }
   ],
   "source": [
    "abs_err_arr, rel_err_arr = cori_get_study_errors('gs22all_top_heavy')"
   ]
  },
  {
   "cell_type": "markdown",
   "metadata": {},
   "source": [
    "### Reproduce three edges plot"
   ]
  },
  {
   "cell_type": "code",
   "execution_count": 27,
   "metadata": {},
   "outputs": [
    {
     "data": {
      "image/png": "[encoded data removed]",
      "text/plain": [
       "<matplotlib.figure.Figure at 0x2b5bcaf1ed30>"
      ]
     },
     "metadata": {},
     "output_type": "display_data"
    }
   ],
   "source": [
    "ns_list = nz_list = na_list = np.arange(6, 24, 2)\n",
    "plt.figure()\n",
    "plt.semilogy(ns_list, rel_err_arr[:,-1,-1], 'o-', label='ns')\n",
    "plt.semilogy(nz_list, rel_err_arr[-1,:,-1], 'o-', label='nz')\n",
    "plt.semilogy(na_list, rel_err_arr[-1,-1,:], 'o-', label='na')\n",
    "plt.legend()\n",
    "plt.show()"
   ]
  },
  {
   "cell_type": "code",
   "execution_count": 33,
   "metadata": {},
   "outputs": [
    {
     "name": "stdout",
     "output_type": "stream",
     "text": [
      "abs_err = 1.299e-01\n",
      "rel_err = 3.615e-02\n"
     ]
    },
    {
     "data": {
      "image/png": "[encoded data removed]",
      "text/plain": [
       "<matplotlib.figure.Figure at 0x2b5bcb8f57f0>"
      ]
     },
     "metadata": {},
     "output_type": "display_data"
    }
   ],
   "source": [
    "kelp_analyze.cori_plot_two_avg_irrads(\n",
    "    'gs22all_top_heavy',\n",
    "    {'ns': 22, 'nz': 22, 'na': 22},\n",
    "    {'ns': 20, 'nz': 22, 'na': 22},\n",
    ")\n",
    "#plt.yscale('log')"
   ]
  },
  {
   "cell_type": "markdown",
   "metadata": {},
   "source": [
    "### Top faces"
   ]
  },
  {
   "cell_type": "code",
   "execution_count": null,
   "metadata": {},
   "outputs": [],
   "source": [
    "# [6, 8, 10, ..., 22]\n",
    "ns_list = nz_list = na_list = np.arange(6, 24, 2)\n",
    "\n",
    "# ns max\n",
    "plt.figure()\n",
    "plt.title('log rel err @ ns max')\n",
    "rel_err_ns_plane = np.log10(rel_err_arr[-1,:,:])\n",
    "discrete_plot.imshow_with_contours_and_zoom(\n",
    "    nz_list, \n",
    "    na_list, \n",
    "    rel_err_ns_plane, \n",
    "    zoom_factor=4\n",
    ")\n",
    "plt.xlabel('nz')\n",
    "plt.ylabel('na')\n",
    "plt.show()\n",
    "\n",
    "# nz max\n",
    "plt.figure()\n",
    "plt.title('log rel err @ nz max')\n",
    "rel_err_nz_plane = np.log10(rel_err_arr[:,-1,:].T)\n",
    "discrete_plot.imshow_with_contours_and_zoom(\n",
    "    na_list, \n",
    "    ns_list, \n",
    "    rel_err_nz_plane, \n",
    "    zoom_factor=4\n",
    ")\n",
    "plt.xlabel('na')\n",
    "plt.ylabel('ns')\n",
    "plt.show()\n",
    "\n",
    "# na max\n",
    "plt.figure()\n",
    "plt.title('log rel err @ na max')\n",
    "rel_err_na_plane = np.log10(rel_err_arr[:,:,-1])\n",
    "discrete_plot.imshow_with_contours_and_zoom(\n",
    "    ns_list, \n",
    "    nz_list, \n",
    "    rel_err_na_plane, \n",
    "    zoom_factor=4\n",
    ")\n",
    "plt.xlabel('ns')\n",
    "plt.ylabel('nz')\n",
    "plt.show()"
   ]
  },
  {
   "cell_type": "markdown",
   "metadata": {},
   "source": [
    "### Volume Plot + Isosurface"
   ]
  },
  {
   "cell_type": "code",
   "execution_count": null,
   "metadata": {},
   "outputs": [],
   "source": [
    "log_rel_err_arr = np.zeros_like(rel_err_arr)\n",
    "pos = (rel_err_arr > 0)\n",
    "log_rel_err_arr[pos] = np.log(rel_err_arr[pos])\n",
    "discrete_plot.volshow_zoom_correct_scale(\n",
    "    ns_list, \n",
    "    nz_list, \n",
    "    na_list, \n",
    "    rel_err_arr, \n",
    "    zoom_factor=3\n",
    ")\n",
    "ipv.xlabel('ns')\n",
    "ipv.ylabel('nz')\n",
    "ipv.zlabel('na')"
   ]
  },
  {
   "cell_type": "markdown",
   "metadata": {},
   "source": [
    "## Three edges"
   ]
  },
  {
   "cell_type": "code",
   "execution_count": null,
   "metadata": {
    "scrolled": false
   },
   "outputs": [],
   "source": [
    "def cori_grid_study_plot_three_edges(study_name):\n",
    "    base_dir = os.path.join(os.environ['SCRATCH'], 'kelp-results')\n",
    "    study_dir = os.path.join(base_dir, study_name)\n",
    "    db_path = os.path.join(study_dir, '{}.db'.format(study_name))\n",
    "    perceived_irrad_dict, abs_err_arr, rel_err_arr, compute_time_dict = (\n",
    "        kelp_analyze.grid_study_analyze_edges(db_path, study_name)\n",
    "    )\n",
    "    \n",
    "    conn = sqlite3.connect(db_path)\n",
    "    # Assume all zmin, zmax are the same (any table row will do, so just use the first.)\n",
    "    zmin = 0\n",
    "    zmax = conn.execute('SELECT zmax FROM {}'.format(study_name)).fetchone()[0]\n",
    "    conn.close()\n",
    "\n",
    "    kelp_analyze.grid_study_plot(\n",
    "        perceived_irrad_dict, \n",
    "        abs_err_arr, \n",
    "        rel_err_arr, \n",
    "        compute_time_dict, \n",
    "        zmin, zmax\n",
    "    )"
   ]
  },
  {
   "cell_type": "code",
   "execution_count": null,
   "metadata": {},
   "outputs": [],
   "source": [
    "cori_grid_study_plot_three_edges('gs22all_top_heavy')"
   ]
  },
  {
   "cell_type": "code",
   "execution_count": null,
   "metadata": {},
   "outputs": [],
   "source": [
    "cori_grid_study_plot_three_edges('gs22all_bottom_heavy')"
   ]
  },
  {
   "cell_type": "code",
   "execution_count": null,
   "metadata": {},
   "outputs": [],
   "source": [
    "cori_grid_study_plot_three_edges('gs22all_high_scatter')"
   ]
  },
  {
   "cell_type": "code",
   "execution_count": null,
   "metadata": {},
   "outputs": [],
   "source": []
  }
 ],
 "metadata": {
  "kernelspec": {
   "display_name": "Python 3",
   "language": "python",
   "name": "python3"
  },
  "language_info": {
   "codemirror_mode": {
    "name": "ipython",
    "version": 3
   },
   "file_extension": ".py",
   "mimetype": "text/x-python",
   "name": "python",
   "nbconvert_exporter": "python",
   "pygments_lexer": "ipython3",
   "version": "3.6.3"
  }
 },
 "nbformat": 4,
 "nbformat_minor": 2
}
