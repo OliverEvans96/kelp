{
 "cells": [
  {
   "cell_type": "code",
   "execution_count": 6,
   "metadata": {},
   "outputs": [
    {
     "name": "stdout",
     "output_type": "stream",
     "text": [
      "The autoreload extension is already loaded. To reload it, use:\n",
      "  %reload_ext autoreload\n"
     ]
    }
   ],
   "source": [
    "%load_ext autoreload\n",
    "%autoreload 2\n",
    "%matplotlib inline"
   ]
  },
  {
   "cell_type": "code",
   "execution_count": 7,
   "metadata": {},
   "outputs": [],
   "source": [
    "import numpy as np\n",
    "import sympy as sp\n",
    "import matplotlib.pyplot as plt\n",
    "from IPython.display import display"
   ]
  },
  {
   "cell_type": "code",
   "execution_count": 21,
   "metadata": {},
   "outputs": [],
   "source": [
    "sp.init_printing()"
   ]
  },
  {
   "cell_type": "code",
   "execution_count": 8,
   "metadata": {},
   "outputs": [],
   "source": [
    "from sympy.abc import x"
   ]
  },
  {
   "cell_type": "code",
   "execution_count": 9,
   "metadata": {},
   "outputs": [],
   "source": [
    "import mms"
   ]
  },
  {
   "cell_type": "code",
   "execution_count": 27,
   "metadata": {},
   "outputs": [],
   "source": [
    "y_expr = sp.Piecewise(\n",
    "    (x, x<0),\n",
    "    (2-x, True)\n",
    ")"
   ]
  },
  {
   "cell_type": "code",
   "execution_count": 28,
   "metadata": {},
   "outputs": [],
   "source": [
    "y_fun = sp.lambdify(\n",
    "    (x,),\n",
    "    y_expr,\n",
    "    modules='sympy'\n",
    ")"
   ]
  },
  {
   "cell_type": "code",
   "execution_count": 29,
   "metadata": {},
   "outputs": [],
   "source": [
    "fn = mms.expr_to_num(y_expr, x)"
   ]
  },
  {
   "cell_type": "code",
   "execution_count": 30,
   "metadata": {},
   "outputs": [],
   "source": [
    "fs = mms.symify(y_expr, x)"
   ]
  },
  {
   "cell_type": "code",
   "execution_count": 31,
   "metadata": {},
   "outputs": [
    {
     "data": {
      "image/png": "[encoded data removed]",
      "text/latex": [
       "$$- \\frac{\\sqrt{\\pi} \\operatorname{erf}{\\left (1 \\right )}}{2} + \\frac{\\sqrt{\\pi} \\operatorname{erf}{\\left (2 \\right )}}{2}$$"
      ],
      "text/plain": [
       "  √π⋅erf(1)   √π⋅erf(2)\n",
       "- ───────── + ─────────\n",
       "      2           2    "
      ]
     },
     "execution_count": 31,
     "metadata": {},
     "output_type": "execute_result"
    }
   ],
   "source": [
    "sp.integrate(sp.exp(-y_expr**2), (x, 0, 1))"
   ]
  },
  {
   "cell_type": "code",
   "execution_count": 32,
   "metadata": {},
   "outputs": [
    {
     "data": {
      "image/png": "[encoded data removed]",
      "text/latex": [
       "$$\\begin{cases} x & \\text{for}\\: x < 0 \\\\- x + 2 & \\text{otherwise} \\end{cases}$$"
      ],
      "text/plain": [
       "⎧  x     for x < 0\n",
       "⎨                 \n",
       "⎩-x + 2  otherwise"
      ]
     },
     "execution_count": 32,
     "metadata": {},
     "output_type": "execute_result"
    }
   ],
   "source": [
    "y_expr"
   ]
  },
  {
   "cell_type": "code",
   "execution_count": 36,
   "metadata": {},
   "outputs": [
    {
     "data": {
      "image/png": "[encoded data removed]",
      "text/latex": [
       "$$\\begin{cases} x & \\text{for}\\: x < 0 \\\\- x + 2 & \\text{otherwise} \\end{cases}$$"
      ],
      "text/plain": [
       "⎧  x     for x < 0\n",
       "⎨                 \n",
       "⎩-x + 2  otherwise"
      ]
     },
     "metadata": {},
     "output_type": "display_data"
    }
   ],
   "source": [
    "with sp.assuming(sp.Q.positive(x)):\n",
    "    display(sp.simplify(y_expr))"
   ]
  },
  {
   "cell_type": "code",
   "execution_count": 40,
   "metadata": {},
   "outputs": [
    {
     "data": {
      "image/png": "[encoded data removed]",
      "text/latex": [
       "$$\\left|{x}\\right|$$"
      ],
      "text/plain": [
       "│x│"
      ]
     },
     "execution_count": 40,
     "metadata": {},
     "output_type": "execute_result"
    }
   ],
   "source": [
    "sp.Abs(x)"
   ]
  },
  {
   "cell_type": "code",
   "execution_count": 46,
   "metadata": {},
   "outputs": [],
   "source": [
    "s = sp.Symbol('s')\n",
    "s_p = sp.Symbol('s_p')\n",
    "s_pp = sp.Symbol('s_{pp}')\n",
    "\n",
    "x0, y0 = sp.var('x_0, y_0')\n",
    "vec_x0 = sp.Matrix([x0, y0, 0])\n",
    "\n",
    "zmax = 1"
   ]
  },
  {
   "cell_type": "code",
   "execution_count": 52,
   "metadata": {},
   "outputs": [],
   "source": [
    "my_y_lambda = lambda x: y_expr.subs('x', x)"
   ]
  },
  {
   "cell_type": "code",
   "execution_count": 64,
   "metadata": {},
   "outputs": [
    {
     "data": {
      "image/png": "[encoded data removed]",
      "text/latex": [
       "$$\\begin{cases} x & \\text{for}\\: x < 0 \\\\- x + 2 & \\text{otherwise} \\end{cases}$$"
      ],
      "text/plain": [
       "⎧  x     for x < 0\n",
       "⎨                 \n",
       "⎩-x + 2  otherwise"
      ]
     },
     "execution_count": 64,
     "metadata": {},
     "output_type": "execute_result"
    }
   ],
   "source": [
    "y_expr"
   ]
  },
  {
   "cell_type": "code",
   "execution_count": 67,
   "metadata": {},
   "outputs": [
    {
     "data": {
      "text/plain": [
       "False"
      ]
     },
     "execution_count": 67,
     "metadata": {},
     "output_type": "execute_result"
    }
   ],
   "source": [
    "isinstance(y_expr.args[0][0], sp.Piecewise)"
   ]
  },
  {
   "cell_type": "code",
   "execution_count": 63,
   "metadata": {},
   "outputs": [
    {
     "data": {
      "image/png": "[encoded data removed]",
      "text/latex": [
       "$$\\begin{cases} x + 3 & \\text{for}\\: x + 3 < 0 \\\\- x - 1 & \\text{otherwise} \\end{cases}$$"
      ],
      "text/plain": [
       "⎧x + 3   for x + 3 < 0\n",
       "⎨                     \n",
       "⎩-x - 1    otherwise  "
      ]
     },
     "execution_count": 63,
     "metadata": {},
     "output_type": "execute_result"
    }
   ],
   "source": [
    "my_y_lambda(x+3)"
   ]
  },
  {
   "cell_type": "code",
   "execution_count": 49,
   "metadata": {},
   "outputs": [
    {
     "name": "stdout",
     "output_type": "stream",
     "text": [
      "Evaluating abs & source\n"
     ]
    },
    {
     "data": {
      "image/png": "[encoded data removed]",
      "text/latex": [
       "$$\\left[\\begin{matrix}s_{pp} \\sin{\\left (\\phi \\right )} \\cos{\\left (\\theta \\right )} + x_{0}\\\\s_{pp} \\sin{\\left (\\phi \\right )} \\sin{\\left (\\theta \\right )} + y_{0}\\\\s_{pp} \\cos{\\left (\\phi \\right )}\\end{matrix}\\right]$$"
      ],
      "text/plain": [
       "⎡s_{pp}⋅sin(φ)⋅cos(θ) + x₀⎤\n",
       "⎢                         ⎥\n",
       "⎢s_{pp}⋅sin(φ)⋅sin(θ) + y₀⎥\n",
       "⎢                         ⎥\n",
       "⎣      s_{pp}⋅cos(φ)      ⎦"
      ]
     },
     "execution_count": 49,
     "metadata": {},
     "output_type": "execute_result"
    }
   ],
   "source": [
    "print(\"Evaluating abs & source\")\n",
    "sp.simplify(mms.vec_l0(vec_x0, mms.vec_om, s_pp, zmax))"
   ]
  },
  {
   "cell_type": "code",
   "execution_count": 48,
   "metadata": {},
   "outputs": [
    {
     "name": "stdout",
     "output_type": "stream",
     "text": [
      "Evaluating abs & source\n"
     ]
    },
    {
     "data": {
      "image/png": "[encoded data removed]",
      "text/latex": [
       "$$\\left[\\begin{matrix}\\frac{\\left(s_{pp} \\left(x_{0} + \\frac{\\left(- \\begin{cases} 0 & \\text{for}\\: \\cos{\\left (\\phi \\right )} > 0 \\\\1 & \\text{otherwise} \\end{cases} + \\begin{cases} 1 & \\text{for}\\: \\cos{\\left (\\phi \\right )} > 0 \\\\0 & \\text{otherwise} \\end{cases}\\right) \\sin{\\left (\\phi \\right )} \\cos{\\left (\\theta \\right )}}{\\cos{\\left (\\phi \\right )}}\\right) + x_{0} \\left(- s_{pp} + \\frac{- \\begin{cases} 0 & \\text{for}\\: \\cos{\\left (\\phi \\right )} > 0 \\\\1 & \\text{otherwise} \\end{cases} + \\begin{cases} 1 & \\text{for}\\: \\cos{\\left (\\phi \\right )} > 0 \\\\0 & \\text{otherwise} \\end{cases}}{\\cos{\\left (\\phi \\right )}}\\right)\\right) \\cos{\\left (\\phi \\right )}}{- \\begin{cases} 0 & \\text{for}\\: \\cos{\\left (\\phi \\right )} > 0 \\\\1 & \\text{otherwise} \\end{cases} + \\begin{cases} 1 & \\text{for}\\: \\cos{\\left (\\phi \\right )} > 0 \\\\0 & \\text{otherwise} \\end{cases}}\\\\\\frac{\\left(s_{pp} \\left(y_{0} + \\frac{\\left(- \\begin{cases} 0 & \\text{for}\\: \\cos{\\left (\\phi \\right )} > 0 \\\\1 & \\text{otherwise} \\end{cases} + \\begin{cases} 1 & \\text{for}\\: \\cos{\\left (\\phi \\right )} > 0 \\\\0 & \\text{otherwise} \\end{cases}\\right) \\sin{\\left (\\phi \\right )} \\sin{\\left (\\theta \\right )}}{\\cos{\\left (\\phi \\right )}}\\right) + y_{0} \\left(- s_{pp} + \\frac{- \\begin{cases} 0 & \\text{for}\\: \\cos{\\left (\\phi \\right )} > 0 \\\\1 & \\text{otherwise} \\end{cases} + \\begin{cases} 1 & \\text{for}\\: \\cos{\\left (\\phi \\right )} > 0 \\\\0 & \\text{otherwise} \\end{cases}}{\\cos{\\left (\\phi \\right )}}\\right)\\right) \\cos{\\left (\\phi \\right )}}{- \\begin{cases} 0 & \\text{for}\\: \\cos{\\left (\\phi \\right )} > 0 \\\\1 & \\text{otherwise} \\end{cases} + \\begin{cases} 1 & \\text{for}\\: \\cos{\\left (\\phi \\right )} > 0 \\\\0 & \\text{otherwise} \\end{cases}}\\\\s_{pp} \\cos{\\left (\\phi \\right )}\\end{matrix}\\right]$$"
      ],
      "text/plain": [
       "⎡⎛       ⎛     ⎛  ⎛⎧0  for cos(φ) > 0⎞   ⎛⎧1  for cos(φ) > 0⎞⎞              ⎞ \n",
       "⎢⎜       ⎜     ⎜- ⎜⎨                 ⎟ + ⎜⎨                 ⎟⎟⋅sin(φ)⋅cos(θ)⎟ \n",
       "⎢⎜       ⎜     ⎝  ⎝⎩1    otherwise   ⎠   ⎝⎩0    otherwise   ⎠⎠              ⎟ \n",
       "⎢⎜s_{pp}⋅⎜x₀ + ─────────────────────────────────────────────────────────────⎟ \n",
       "⎢⎝       ⎝                                 cos(φ)                           ⎠ \n",
       "⎢─────────────────────────────────────────────────────────────────────────────\n",
       "⎢                                                     ⎛⎧0  for cos(φ) > 0⎞   ⎛\n",
       "⎢                                                   - ⎜⎨                 ⎟ + ⎜\n",
       "⎢                                                     ⎝⎩1    otherwise   ⎠   ⎝\n",
       "⎢                                                                             \n",
       "⎢⎛       ⎛     ⎛  ⎛⎧0  for cos(φ) > 0⎞   ⎛⎧1  for cos(φ) > 0⎞⎞              ⎞ \n",
       "⎢⎜       ⎜     ⎜- ⎜⎨                 ⎟ + ⎜⎨                 ⎟⎟⋅sin(φ)⋅sin(θ)⎟ \n",
       "⎢⎜       ⎜     ⎝  ⎝⎩1    otherwise   ⎠   ⎝⎩0    otherwise   ⎠⎠              ⎟ \n",
       "⎢⎜s_{pp}⋅⎜y₀ + ─────────────────────────────────────────────────────────────⎟ \n",
       "⎢⎝       ⎝                                 cos(φ)                           ⎠ \n",
       "⎢─────────────────────────────────────────────────────────────────────────────\n",
       "⎢                                                     ⎛⎧0  for cos(φ) > 0⎞   ⎛\n",
       "⎢                                                   - ⎜⎨                 ⎟ + ⎜\n",
       "⎢                                                     ⎝⎩1    otherwise   ⎠   ⎝\n",
       "⎢                                                                             \n",
       "⎣                                                                   s_{pp}⋅cos\n",
       "\n",
       "     ⎛            ⎛⎧0  for cos(φ) > 0⎞   ⎛⎧1  for cos(φ) > 0⎞⎞⎞       ⎤\n",
       "     ⎜          - ⎜⎨                 ⎟ + ⎜⎨                 ⎟⎟⎟       ⎥\n",
       "     ⎜            ⎝⎩1    otherwise   ⎠   ⎝⎩0    otherwise   ⎠⎟⎟       ⎥\n",
       "+ x₀⋅⎜-s_{pp} + ─────────────────────────────────────────────⎟⎟⋅cos(φ)⎥\n",
       "     ⎝                              cos(φ)                   ⎠⎠       ⎥\n",
       "──────────────────────────────────────────────────────────────────────⎥\n",
       "⎧1  for cos(φ) > 0⎞                                                   ⎥\n",
       "⎨                 ⎟                                                   ⎥\n",
       "⎩0    otherwise   ⎠                                                   ⎥\n",
       "                                                                      ⎥\n",
       "     ⎛            ⎛⎧0  for cos(φ) > 0⎞   ⎛⎧1  for cos(φ) > 0⎞⎞⎞       ⎥\n",
       "     ⎜          - ⎜⎨                 ⎟ + ⎜⎨                 ⎟⎟⎟       ⎥\n",
       "     ⎜            ⎝⎩1    otherwise   ⎠   ⎝⎩0    otherwise   ⎠⎟⎟       ⎥\n",
       "+ y₀⋅⎜-s_{pp} + ─────────────────────────────────────────────⎟⎟⋅cos(φ)⎥\n",
       "     ⎝                              cos(φ)                   ⎠⎠       ⎥\n",
       "──────────────────────────────────────────────────────────────────────⎥\n",
       "⎧1  for cos(φ) > 0⎞                                                   ⎥\n",
       "⎨                 ⎟                                                   ⎥\n",
       "⎩0    otherwise   ⎠                                                   ⎥\n",
       "                                                                      ⎥\n",
       "(φ)                                                                   ⎦"
      ]
     },
     "execution_count": 48,
     "metadata": {},
     "output_type": "execute_result"
    }
   ],
   "source": [
    "print(\"Evaluating abs & source\")\n",
    "mms.vec_l0(vec_x0, mms.vec_om, s_pp, zmax)"
   ]
  },
  {
   "cell_type": "code",
   "execution_count": 42,
   "metadata": {},
   "outputs": [
    {
     "data": {
      "image/png": "[encoded data removed]",
      "text/latex": [
       "$$- x + 2$$"
      ],
      "text/plain": [
       "-x + 2"
      ]
     },
     "execution_count": 42,
     "metadata": {},
     "output_type": "execute_result"
    }
   ],
   "source": [
    "y_expr.args[1][0]"
   ]
  },
  {
   "cell_type": "code",
   "execution_count": 39,
   "metadata": {},
   "outputs": [
    {
     "data": {
      "image/png": "[encoded data removed]",
      "text/latex": [
       "$$x$$"
      ],
      "text/plain": [
       "x"
      ]
     },
     "execution_count": 39,
     "metadata": {},
     "output_type": "execute_result"
    }
   ],
   "source": [
    "sp.refine(sp.Abs(x), sp.Q.positive(x))"
   ]
  },
  {
   "cell_type": "code",
   "execution_count": null,
   "metadata": {},
   "outputs": [],
   "source": []
  },
  {
   "cell_type": "code",
   "execution_count": 13,
   "metadata": {},
   "outputs": [],
   "source": [
    "xn = np.linspace(0, 2, 21).reshape([21, 1])"
   ]
  },
  {
   "cell_type": "code",
   "execution_count": 14,
   "metadata": {},
   "outputs": [
    {
     "data": {
      "text/plain": [
       "array([[0. ],\n",
       "       [0.1],\n",
       "       [0.2],\n",
       "       [0.3],\n",
       "       [0.4],\n",
       "       [0.5],\n",
       "       [0.6],\n",
       "       [0.7],\n",
       "       [0.8],\n",
       "       [0.9],\n",
       "       [1. ],\n",
       "       [0.9],\n",
       "       [0.8],\n",
       "       [0.7],\n",
       "       [0.6],\n",
       "       [0.5],\n",
       "       [0.4],\n",
       "       [0.3],\n",
       "       [0.2],\n",
       "       [0.1],\n",
       "       [0. ]])"
      ]
     },
     "execution_count": 14,
     "metadata": {},
     "output_type": "execute_result"
    }
   ],
   "source": [
    "fn(xn)"
   ]
  },
  {
   "cell_type": "code",
   "execution_count": 15,
   "metadata": {},
   "outputs": [
    {
     "data": {
      "text/plain": [
       "[<matplotlib.lines.Line2D at 0x7f2325a9f198>]"
      ]
     },
     "execution_count": 15,
     "metadata": {},
     "output_type": "execute_result"
    },
    {
     "data": {
      "image/png": "[encoded data removed]",
      "text/plain": [
       "<Figure size 432x288 with 1 Axes>"
      ]
     },
     "metadata": {},
     "output_type": "display_data"
    }
   ],
   "source": [
    "plt.plot(xn, fn(xn), 'o-')"
   ]
  }
 ],
 "metadata": {
  "kernelspec": {
   "display_name": "Python 3 (kelp)",
   "language": "python",
   "name": "kelp"
  },
  "language_info": {
   "codemirror_mode": {
    "name": "ipython",
    "version": 3
   },
   "file_extension": ".py",
   "mimetype": "text/x-python",
   "name": "python",
   "nbconvert_exporter": "python",
   "pygments_lexer": "ipython3",
   "version": "3.6.5"
  }
 },
 "nbformat": 4,
 "nbformat_minor": 2
}
