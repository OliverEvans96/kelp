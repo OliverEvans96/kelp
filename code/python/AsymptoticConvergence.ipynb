{
 "cells": [
  {
   "cell_type": "code",
   "execution_count": 2,
   "metadata": {
    "collapsed": true
   },
   "outputs": [],
   "source": [
    "import kelp_compute\n",
    "import kelp3d_objs as k3\n",
    "import ipyparallel as ipp\n",
    "import matplotlib.pyplot as plt\n",
    "import seaborn as sns\n",
    "import numpy as np\n",
    "import ipyvolume as ipv\n",
    "import scipy.optimize as opt\n",
    "import shutil"
   ]
  },
  {
   "cell_type": "code",
   "execution_count": null,
   "metadata": {},
   "outputs": [],
   "source": [
    "from scipy.sparse import coo_matrix"
   ]
  },
  {
   "cell_type": "code",
   "execution_count": null,
   "metadata": {},
   "outputs": [],
   "source": [
    "remote_config = kelp_param.ParamSpanRemoteConfig()\n",
    "ipc = ipp.Client()\n",
    "print(ipc.ids)\n",
    "lv = ipc.load_balanced_view()"
   ]
  },
  {
   "cell_type": "code",
   "execution_count": 5,
   "metadata": {
    "collapsed": true
   },
   "outputs": [],
   "source": [
    "# Hard-coded parameters\n",
    "absorptance_kelp =  0.8 # (%)\n",
    "rope_spacing = 5.0 # (m)\n",
    "zmin, zmax = 0.0, 10.0 # (m)\n",
    "nz=12\n",
    "\n",
    "dz = (zmax-zmin)/nz\n",
    "z = np.linspace(zmin+0.5*dz, zmax-0.5*dz, nz)\n",
    "\n",
    "# Surface Irradiance\n",
    "I0 = 50.0 # (W/m^2)\n",
    "phi_s = 0 # (rad)\n",
    "theta_s = 0 # (rad)\n",
    "decay = 0 # (?) - light (practically) only from directly above\n",
    "\n",
    "# Calculated or otherwise boring parameters\n",
    "xmin = -rope_spacing/2\n",
    "xmax = rope_spacing/2\n",
    "ymin = -rope_spacing/2\n",
    "ymax = rope_spacing/2\n",
    "\n",
    "# Solver parameters\n",
    "tol_abs = 1e-6\n",
    "tol_rel = 1e-6\n",
    "maxiter_inner = 50\n",
    "maxiter_outer = 50\n",
    "gmres_wrapper = k3.gmres_wrapper\n",
    "\n",
    "const = (rope_spacing, zmin, zmax, nz, I0, phi_s, theta_s, decay, xmin, xmax, ymin, ymax, absorptance_kelp,\n",
    "         tol_abs, tol_rel, maxiter_inner, maxiter_outer, gmres_wrapper)"
   ]
  },
  {
   "cell_type": "raw",
   "metadata": {},
   "source": [
    "psw = kelp_param.ParamSpanWidget(\n",
    "    'kelp', \n",
    "    remote_config, \n",
    "    kelp_param.kelp_calculate, \n",
    "    kelp_param.kelp_visualize\n",
    ")\n",
    "psw.set_params(\n",
    "    a_water = [0.1],\n",
    "    b = [0.5, 0.1],#, 0.7],\n",
    "    # Number of x & y grid cells\n",
    "    ns = [10],#, 10, 12],\n",
    "    # Number of angular grid cells (Same for theta & phi)\n",
    "    na = [10],#, 10, 12],#, 14, 18, 20, 24],\n",
    "    #na = [10, 12, 14, 18],\n",
    "    gmres_flag = [True],\n",
    "    num_scatters = [0],\n",
    "    kelp_profile = ['top-heavy'],# 'bottom-heavy', 'uniform'],\n",
    "    const=[const]\n",
    ")\n",
    "psw.submit_computations()\n",
    "psw"
   ]
  },
  {
   "cell_type": "markdown",
   "metadata": {},
   "source": [
    "# Compare Asymptotics to Finite Difference"
   ]
  },
  {
   "cell_type": "code",
   "execution_count": 13,
   "metadata": {
    "collapsed": true
   },
   "outputs": [],
   "source": [
    "# Hard-coded parameters\n",
    "absorptance_kelp =  0.8 # (%)\n",
    "rope_spacing = 4.0 # (m)\n",
    "zmin, zmax = 0.0, 10.0 # (m)\n",
    "nz=24\n",
    "\n",
    "dz = (zmax-zmin)/nz\n",
    "z = np.linspace(zmin+0.5*dz, zmax-0.5*dz, nz)\n",
    "\n",
    "# Surface Irradiance\n",
    "I0 = 50 # (W/m^2)\n",
    "phi_s = 0 # (rad)\n",
    "theta_s = 0 # (rad)\n",
    "decay = 1 # (?) - light (practically) only from directly above\n",
    "\n",
    "# Calculated or otherwise boring parameters\n",
    "xmin = -rope_spacing/2\n",
    "xmax = rope_spacing/2\n",
    "ymin = -rope_spacing/2\n",
    "ymax = rope_spacing/2\n",
    "\n",
    "# Solver parameters\n",
    "tol_abs = 1e-6\n",
    "tol_rel = 1e-6\n",
    "maxiter_inner = 50\n",
    "maxiter_outer = 50\n",
    "gmres_wrapper = k3.gmres_wrapper\n",
    "\n",
    "base_dir = os.path.join(os.environ['SCRATCH'], 'kelp-results')\n",
    "\n",
    "const = (rope_spacing, zmin, zmax, nz, I0, phi_s, theta_s, decay, xmin, xmax, ymin, ymax, absorptance_kelp,\n",
    "         tol_abs, tol_rel, maxiter_inner, maxiter_outer, gmres_wrapper)"
   ]
  },
  {
   "cell_type": "code",
   "execution_count": 22,
   "metadata": {},
   "outputs": [
    {
     "ename": "TypeError",
     "evalue": "'NoneType' object is not subscriptable",
     "output_type": "error",
     "traceback": [
      "\u001b[0;31m---------------------------------------------------------------------------\u001b[0m",
      "\u001b[0;31mTypeError\u001b[0m                                 Traceback (most recent call last)",
      "\u001b[0;32m<ipython-input-22-9776466f37c8>\u001b[0m in \u001b[0;36m<module>\u001b[0;34m()\u001b[0m\n\u001b[1;32m     32\u001b[0m \u001b[0msave_list\u001b[0m \u001b[0;34m=\u001b[0m \u001b[0;34m[\u001b[0m\u001b[0;34m]\u001b[0m\u001b[0;34m\u001b[0m\u001b[0m\n\u001b[1;32m     33\u001b[0m \u001b[0;34m\u001b[0m\u001b[0m\n\u001b[0;32m---> 34\u001b[0;31m \u001b[0mp_kelp\u001b[0m \u001b[0;34m=\u001b[0m \u001b[0mgmres_results\u001b[0m\u001b[0;34m[\u001b[0m\u001b[0;34m'p_kelp'\u001b[0m\u001b[0;34m]\u001b[0m\u001b[0;34m\u001b[0m\u001b[0m\n\u001b[0m\u001b[1;32m     35\u001b[0m \u001b[0mtrue_irrad\u001b[0m \u001b[0;34m=\u001b[0m \u001b[0mgmres_results\u001b[0m\u001b[0;34m[\u001b[0m\u001b[0;34m'irradiance'\u001b[0m\u001b[0;34m]\u001b[0m\u001b[0;34m\u001b[0m\u001b[0m\n\u001b[1;32m     36\u001b[0m \u001b[0mtrue_rad\u001b[0m \u001b[0;34m=\u001b[0m \u001b[0mgmres_results\u001b[0m\u001b[0;34m[\u001b[0m\u001b[0;34m'radiance'\u001b[0m\u001b[0;34m]\u001b[0m\u001b[0;34m\u001b[0m\u001b[0m\n",
      "\u001b[0;31mTypeError\u001b[0m: 'NoneType' object is not subscriptable"
     ]
    }
   ],
   "source": [
    "# Set parameters\n",
    "a_water = 0.5\n",
    "b = 0.00\n",
    "ns = 12\n",
    "nz = 12\n",
    "na = 12\n",
    "kelp_dist='none'\n",
    "max_scatter = 4\n",
    "\n",
    "study_name = 'asym_conv'\n",
    "study_dir = os.path.join(base_dir, study_name)\n",
    "data_dir = os.path.join(study_dir, 'data')\n",
    "shutil.rmtree(study_dir, ignore_errors=True)\n",
    "os.makedirs(data_dir)\n",
    "\n",
    "# fd\n",
    "fd_results = lv.apply(\n",
    "    kelp_compute.kelp_calculate,\n",
    "    a_water,\n",
    "    b,\n",
    "    ns,\n",
    "    nz,\n",
    "    na,\n",
    "    kelp_dist,\n",
    "    fd_flag=True,\n",
    "    num_scatters=0,\n",
    "    study_name=study_name,\n",
    "    study_dir=study_dir\n",
    ").result()\n",
    "\n",
    "res_list = []\n",
    "save_list = []\n",
    "\n",
    "p_kelp = fd_results['p_kelp']\n",
    "true_irrad = fd_results['irradiance']\n",
    "true_rad = fd_results['radiance']\n",
    "true_perceived_irrad = np.sum(p_kelp*true_irrad, axis=(0,1)) / np.sum(p_kelp, axis=(0,1)) / np.pi\n",
    "\n",
    "# Run scattering cases\n",
    "for n in range(max_scatter+1):\n",
    "    print(\"n={}\".format(n))\n",
    "    #print(\"const={}\".format(const))\n",
    "    compute_results = lv.apply(\n",
    "        kelp_compute.kelp_calculate,\n",
    "        a_water,\n",
    "        b,\n",
    "        ns,\n",
    "        nz,\n",
    "        na,\n",
    "        kelp_dist,\n",
    "        fd_flag=False,\n",
    "        num_scatters=n,\n",
    "        study_name=study_name,\n",
    "        study_dir=study_dir\n",
    "    ).result()\n",
    "\n",
    "    rad = compute_results['radiance']\n",
    "    rad_err = np.mean(rad - true_rad)\n",
    "    irrad = compute_results['irradiance']\n",
    "    irrad_err = np.abs(true_irrad - irrad).mean(axis=(0,1))\n",
    "    # Perceived irradiance for each depth layer\n",
    "    perceived_irrad = np.sum(p_kelp*irrad, axis=(0,1)) / np.sum(p_kelp, axis=(0,1))\n",
    "    perc_err = np.abs(true_perceived_irrad - perceived_irrad)\n",
    "\n",
    "    save_vals = {\n",
    "        'rad_abs_err': rad_err,\n",
    "        'rad_rel_err': rad_err / np.abs(fd_results['radiance']),\n",
    "        'irrad': irrad.mean(axis=(0,1)),\n",
    "        'irrad_abs_err': irrad_err,\n",
    "        'irrad_rel_err': irrad_err / np.abs(true_irrad).mean(axis=(0,1)),\n",
    "        'perceived_irrad': perceived_irrad,\n",
    "        'perc_abs_err': perc_err,\n",
    "        'perc_rel_err': perc_err / np.abs(true_perceived_irrad)\n",
    "    }\n",
    "\n",
    "    res_list.append(compute_results)\n",
    "    save_list.append(save_vals)"
   ]
  },
  {
   "cell_type": "markdown",
   "metadata": {},
   "source": [
    "# Plot Convergence Curves"
   ]
  },
  {
   "cell_type": "code",
   "execution_count": 26,
   "metadata": {},
   "outputs": [],
   "source": [
    "def exp_fun(x, c, a):\n",
    "    return c*np.exp(-a*x)\n",
    "\n",
    "zc = np.linspace(zmin, zmax, 101)\n",
    "\n",
    "true_avg_irrad = true_irrad.mean(axis=(0,1))\n",
    "(true_c, true_a_eff),_ = opt.curve_fit(exp_fun, z, true_avg_irrad, [1, a_water])"
   ]
  },
  {
   "cell_type": "code",
   "execution_count": 27,
   "metadata": {},
   "outputs": [
    {
     "name": "stdout",
     "output_type": "stream",
     "text": [
      "gmres: a_eff = 0.75, I0=45.74\n",
      "n=0: a_eff=0.76, I0=44.78\n",
      "n=1: a_eff=0.76, I0=44.78\n",
      "n=2: a_eff=0.76, I0=44.78\n",
      "n=3: a_eff=0.76, I0=44.78\n",
      "n=4: a_eff=0.76, I0=44.78\n"
     ]
    },
    {
     "data": {
      "image/png": "[encoded data removed]",
      "text/plain": [
       "<matplotlib.figure.Figure at 0x2aeac5f3fa90>"
      ]
     },
     "metadata": {},
     "output_type": "display_data"
    },
    {
     "data": {
      "image/png": "[encoded data removed]",
      "text/plain": [
       "<matplotlib.figure.Figure at 0x2aeac713e048>"
      ]
     },
     "metadata": {},
     "output_type": "display_data"
    },
    {
     "data": {
      "image/png": "[encoded data removed]",
      "text/plain": [
       "<matplotlib.figure.Figure at 0x2aeac6ba6d30>"
      ]
     },
     "metadata": {},
     "output_type": "display_data"
    },
    {
     "data": {
      "image/png": "[encoded data removed]",
      "text/plain": [
       "<matplotlib.figure.Figure at 0x2aeac7002be0>"
      ]
     },
     "metadata": {},
     "output_type": "display_data"
    }
   ],
   "source": [
    "plt.figure()\n",
    "l, = plt.plot(z, true_avg_irrad, 'o-', label='gmres')\n",
    "print(\"gmres: a_eff = {:.2f}, I0={:.2f}\".format(true_a_eff, true_c))\n",
    "plt.plot(zc, exp_fun(zc, true_c, true_a_eff), '--', c=l.get_color())\n",
    "for n, irrad in enumerate([s['irrad'] for s in save_list]):\n",
    "    (c, a_eff,),_ = opt.curve_fit(exp_fun, z, irrad, [1, a_water])\n",
    "    print(\"n={}: a_eff={:.2f}, I0={:.2f}\".format(n, a_eff, c))\n",
    "    l, = plt.plot(z, irrad, 'o-', label='n={}'.format(n))\n",
    "    #plt.plot(zc, exp_fun(zc, c, a_eff), '--', c=l.get_color())\n",
    "plt.yscale('log')\n",
    "plt.xlim(zmin, zmax)\n",
    "plt.ylim(1e-2, I0)\n",
    "plt.legend()\n",
    "plt.xlabel('z (depth)')\n",
    "plt.ylabel('Average Irradiance')\n",
    "\n",
    "plt.figure()\n",
    "l, = plt.plot(z, true_avg_irrad, 'o-', label='gmres')\n",
    "plt.plot(zc, exp_fun(zc, true_c, true_a_eff), '--', c=l.get_color())\n",
    "for n, irrad in enumerate([s['irrad'] for s in save_list]):\n",
    "    (c, a_eff,),_ = opt.curve_fit(exp_fun, z, irrad, [1, a_water])\n",
    "    l, = plt.plot(z, irrad, 'o-', label='n={}'.format(n))\n",
    "    #plt.plot(zc, exp_fun(zc, c, a_eff), '--', c=l.get_color())\n",
    "plt.yscale('linear')\n",
    "plt.xlim(zmin, zmax)\n",
    "plt.ylim(0, I0)\n",
    "plt.legend()\n",
    "plt.xlabel('z (depth)')\n",
    "plt.ylabel('Average Irradiance')\n",
    "\n",
    "plt.figure()\n",
    "for n, err in enumerate([s['irrad_abs_err'] for s in save_list]):\n",
    "    plt.plot(z, err, 'o-', label='n={}'.format(n))\n",
    "plt.xlim(zmin, zmax)\n",
    "plt.yscale('linear')\n",
    "plt.legend()\n",
    "plt.xlabel('z (depth)')\n",
    "plt.ylabel('Absolute Error')\n",
    "\n",
    "plt.figure()\n",
    "for n, err in enumerate([s['irrad_rel_err'] for s in save_list]):\n",
    "    plt.plot(z, err, 'o-', label='n={}'.format(n))\n",
    "plt.xlim(zmin, zmax)\n",
    "plt.yscale('linear')\n",
    "plt.legend()\n",
    "plt.xlabel('z (depth)')\n",
    "plt.ylabel('Relative Error')\n",
    "\n",
    "plt.show()"
   ]
  },
  {
   "cell_type": "code",
   "execution_count": 12,
   "metadata": {},
   "outputs": [
    {
     "ename": "NameError",
     "evalue": "name 'awfklawjhelfkaj' is not defined",
     "output_type": "error",
     "traceback": [
      "\u001b[0;31m---------------------------------------------------------------------------\u001b[0m",
      "\u001b[0;31mNameError\u001b[0m                                 Traceback (most recent call last)",
      "\u001b[0;32m<ipython-input-12-3e1e2b64c57f>\u001b[0m in \u001b[0;36m<module>\u001b[0;34m()\u001b[0m\n\u001b[0;32m----> 1\u001b[0;31m \u001b[0mawfklawjhelfkaj\u001b[0m\u001b[0;34m\u001b[0m\u001b[0m\n\u001b[0m",
      "\u001b[0;31mNameError\u001b[0m: name 'awfklawjhelfkaj' is not defined"
     ]
    }
   ],
   "source": [
    "awfklawjhelfkaj"
   ]
  },
  {
   "cell_type": "code",
   "execution_count": null,
   "metadata": {},
   "outputs": [],
   "source": [
    "# Load coefficient matrix\n",
    "row = np.loadtxt(\"row.txt\") - 1\n",
    "col = np.loadtxt(\"col.txt\") - 1\n",
    "data = np.loadtxt(\"data.txt\")\n",
    "rhs = np.loadtxt(\"rhs.txt\")\n",
    "mat = coo_matrix((data, (row, col)))\n",
    "# Drop stored zeros\n",
    "mat = coo_matrix(mat.toarray())"
   ]
  },
  {
   "cell_type": "code",
   "execution_count": null,
   "metadata": {},
   "outputs": [],
   "source": [
    "def full_arr_str(arr):\n",
    "    return np.array_repr(arr, precision=2, max_line_width=200).replace(', ',',').replace('array([','').replace(']])','] ').replace('       ','').replace(',',' ')\n",
    "def print_full(arr):\n",
    "    print(full_arr_str(arr))\n",
    "\n",
    "def print_mat_eq(A, b):\n",
    "    lines1, lines2 = map(lambda s: full_arr_str(s).split('\\n'), (A, b.reshape(len(b),1)))\n",
    "    print('\\n'.join([(' '*5).join([l1, l2]) for l1, l2 in zip(lines1, lines2)]))"
   ]
  },
  {
   "cell_type": "code",
   "execution_count": null,
   "metadata": {},
   "outputs": [],
   "source": [
    "print_mat_eq(mat.toarray(), rhs)"
   ]
  },
  {
   "cell_type": "code",
   "execution_count": null,
   "metadata": {},
   "outputs": [],
   "source": []
  },
  {
   "cell_type": "code",
   "execution_count": null,
   "metadata": {},
   "outputs": [],
   "source": [
    "od = np.logical_and(\n",
    "    mat.row != mat.col,\n",
    "    np.abs(mat.data)>1e-6\n",
    ")"
   ]
  },
  {
   "cell_type": "code",
   "execution_count": null,
   "metadata": {},
   "outputs": [],
   "source": [
    "tuple(zip(*map(lambda a: a[np.abs(mat.data)>1e-6], (mat.row, mat.col, mat.data))))"
   ]
  },
  {
   "cell_type": "code",
   "execution_count": null,
   "metadata": {},
   "outputs": [],
   "source": [
    "np.diag(mat.toarray())"
   ]
  },
  {
   "cell_type": "markdown",
   "metadata": {},
   "source": [
    "# Examine Effective A"
   ]
  },
  {
   "cell_type": "code",
   "execution_count": 3,
   "metadata": {},
   "outputs": [
    {
     "ename": "NameError",
     "evalue": "name 'kelp_param' is not defined",
     "output_type": "error",
     "traceback": [
      "\u001b[0;31m---------------------------------------------------------------------------\u001b[0m",
      "\u001b[0;31mNameError\u001b[0m                                 Traceback (most recent call last)",
      "\u001b[0;32m<ipython-input-3-fc811b9e8fd2>\u001b[0m in \u001b[0;36m<module>\u001b[0;34m()\u001b[0m\n\u001b[1;32m     11\u001b[0m \u001b[0;32mfor\u001b[0m \u001b[0mi\u001b[0m\u001b[0;34m,\u001b[0m \u001b[0ma\u001b[0m \u001b[0;32min\u001b[0m \u001b[0menumerate\u001b[0m\u001b[0;34m(\u001b[0m\u001b[0ma_list\u001b[0m\u001b[0;34m)\u001b[0m\u001b[0;34m:\u001b[0m\u001b[0;34m\u001b[0m\u001b[0m\n\u001b[1;32m     12\u001b[0m     \u001b[0;31m# GMRES\u001b[0m\u001b[0;34m\u001b[0m\u001b[0;34m\u001b[0m\u001b[0m\n\u001b[0;32m---> 13\u001b[0;31m     gmres_results = kelp_param.kelp_calculate(\n\u001b[0m\u001b[1;32m     14\u001b[0m         \u001b[0ma\u001b[0m\u001b[0;34m,\u001b[0m\u001b[0;34m\u001b[0m\u001b[0m\n\u001b[1;32m     15\u001b[0m         \u001b[0mb\u001b[0m\u001b[0;34m,\u001b[0m\u001b[0;34m\u001b[0m\u001b[0m\n",
      "\u001b[0;31mNameError\u001b[0m: name 'kelp_param' is not defined"
     ]
    }
   ],
   "source": [
    "a_list = np.linspace(0, 10, 10)\n",
    "b = 0.0\n",
    "ns = 1\n",
    "na = 2\n",
    "kelp_profile='none'\n",
    "max_scatter = 2\n",
    "\n",
    "a_eff_list = np.zeros_like(a_list)\n",
    "I0_eff_list = np.zeros_like(a_list)\n",
    "\n",
    "for i, a in enumerate(a_list):\n",
    "    # GMRES\n",
    "    gmres_results = kelp_param.kelp_calculate(\n",
    "        a,\n",
    "        b,\n",
    "        ns,\n",
    "        na,\n",
    "        kelp_profile,\n",
    "        gmres_flag=True,\n",
    "        num_scatters=0,\n",
    "        const=const\n",
    "    )\n",
    "    true_irrad = gmres_results['irradiance']\n",
    "    true_avg_irrad = true_irrad.mean(axis=(0,1))\n",
    "    (I0_eff_list[i], a_eff_list[i]),_ = opt.curve_fit(exp_fun, z, true_avg_irrad, [1, a_water])"
   ]
  },
  {
   "cell_type": "code",
   "execution_count": null,
   "metadata": {},
   "outputs": [],
   "source": [
    "fig, ax1 = plt.subplots()\n",
    "ax2 = ax1.twinx()\n",
    "\n",
    "ax1.plot(a_list, a_eff_list**2,y 'C0', label='a_eff')\n",
    "ax1.plot(a_list, a_list, '--C0', label='Correct')\n",
    "ax2.plot(a_list, I0_eff_list, 'C1', label='I0_eff')\n",
    "ax2.plot(a_list, I0+0*a_list, '--C1', label='Correct')\n",
    "ax1.set_xlabel('Given a')\n",
    "ax1.set_ylabel('Effective a')\n",
    "ax2.set_ylabel('Effective I0')\n",
    "ax1.legend(loc='upper left')\n",
    "ax2.legend(loc='upper right')\n",
    "plt.show()"
   ]
  },
  {
   "cell_type": "code",
   "execution_count": null,
   "metadata": {},
   "outputs": [],
   "source": []
  },
  {
   "cell_type": "code",
   "execution_count": null,
   "metadata": {},
   "outputs": [],
   "source": []
  }
 ],
 "metadata": {
  "kernelspec": {
   "display_name": "Python 3",
   "language": "python",
   "name": "python3"
  },
  "language_info": {
   "codemirror_mode": {
    "name": "ipython",
    "version": 3
   },
   "file_extension": ".py",
   "mimetype": "text/x-python",
   "name": "python",
   "nbconvert_exporter": "python",
   "pygments_lexer": "ipython3",
   "version": "3.6.3"
  }
 },
 "nbformat": 4,
 "nbformat_minor": 2
}
