{
 "cells": [
  {
   "cell_type": "code",
   "execution_count": 1,
   "metadata": {
    "collapsed": true
   },
   "outputs": [],
   "source": [
    "import kelp_param\n",
    "import kelp3d_objs as k3\n",
    "import ipyparallel as ipp\n",
    "import matplotlib.pyplot as plt\n",
    "import seaborn as sns\n",
    "import numpy as np\n",
    "import ipyvolume as ipv"
   ]
  },
  {
   "cell_type": "code",
   "execution_count": 2,
   "metadata": {},
   "outputs": [
    {
     "data": {
      "text/plain": [
       "[0]"
      ]
     },
     "execution_count": 2,
     "metadata": {},
     "output_type": "execute_result"
    }
   ],
   "source": [
    "remote_config = kelp_param.ParamSpanRemoteConfig()\n",
    "ipp.Client().ids"
   ]
  },
  {
   "cell_type": "code",
   "execution_count": 7,
   "metadata": {
    "collapsed": true
   },
   "outputs": [],
   "source": [
    "# Hard-coded parameters\n",
    "absorptance_kelp = 0 * 0.8 # (%)\n",
    "rope_spacing = 5.0 # (m)\n",
    "zmin, zmax = 0.0, 10.0 # (m)\n",
    "nz=10\n",
    "\n",
    "# Surface Irradiance\n",
    "I0 = 50.0 # (W/m^2)\n",
    "phi_s = 0 # (rad)\n",
    "theta_s = 0 # (rad)\n",
    "decay = 0 # (?) - light (practically) only from directly above\n",
    "\n",
    "# Calculated or otherwise boring parameters\n",
    "xmin = -rope_spacing/2\n",
    "xmax = rope_spacing/2\n",
    "ymin = -rope_spacing/2\n",
    "ymax = rope_spacing/2\n",
    "\n",
    "# Solver parameters\n",
    "tol_abs = 1e-6\n",
    "tol_rel = 1e-6\n",
    "maxiter_inner = 50\n",
    "maxiter_outer = 50\n",
    "gmres_wrapper = k3.gmres_wrapper\n",
    "\n",
    "const = (rope_spacing, zmin, zmax, nz, I0, phi_s, theta_s, decay, xmin, xmax, ymin, ymax, absorptance_kelp,\n",
    "         tol_abs, tol_rel, maxiter_inner, maxiter_outer, gmres_wrapper)"
   ]
  },
  {
   "cell_type": "code",
   "execution_count": 8,
   "metadata": {},
   "outputs": [
    {
     "data": {
      "application/vnd.jupyter.widget-view+json": {
       "model_id": "99ebcd755c394eda84f4fe24f790550c",
       "version_major": 2,
       "version_minor": 0
      },
      "text/plain": [
       "ParamSpanWidget(children=(Output(layout=Layout(border='1px solid', height='500px', overflow_x='scroll', overfl…"
      ]
     },
     "metadata": {},
     "output_type": "display_data"
    }
   ],
   "source": [
    "psw = kelp_param.ParamSpanWidget(\n",
    "    'kelp', \n",
    "    remote_config, \n",
    "    kelp_param.kelp_calculate, \n",
    "    kelp_param.kelp_visualize\n",
    ")\n",
    "psw.set_params(\n",
    "    a_water = [0.1],\n",
    "    b = [0.5, 0.1],#, 0.7],\n",
    "    # Number of x & y grid cells\n",
    "    ns = [10],#, 10, 12],\n",
    "    # Number of angular grid cells (Same for theta & phi)\n",
    "    na = [10],#, 10, 12],#, 14, 18, 20, 24],\n",
    "    #na = [10, 12, 14, 18],\n",
    "    gmres_flag = [True],\n",
    "    num_scatters = [0],\n",
    "    kelp_profile = ['top-heavy'],# 'bottom-heavy', 'uniform'],\n",
    "    const=[const]\n",
    ")\n",
    "psw.submit_computations()\n",
    "psw"
   ]
  },
  {
   "cell_type": "markdown",
   "metadata": {},
   "source": [
    "# Compare Asymptotics to Finite Difference"
   ]
  },
  {
   "cell_type": "code",
   "execution_count": 9,
   "metadata": {},
   "outputs": [
    {
     "name": "stdout",
     "output_type": "stream",
     "text": [
      "dz = 1.0\n",
      "theoretical max_kelp = 0.1\n",
      "Max kelp = 0.015742197254395126\n",
      "GMRES Success!\n",
      "n=0\n",
      "dz = 1.0\n",
      "theoretical max_kelp = 0.1\n",
      "Max kelp = 0.015742197254395126\n",
      "n=1\n",
      "dz = 1.0\n",
      "theoretical max_kelp = 0.1\n",
      "Max kelp = 0.015742197254395126\n",
      "n=2\n",
      "dz = 1.0\n",
      "theoretical max_kelp = 0.1\n",
      "Max kelp = 0.015742197254395126\n"
     ]
    },
    {
     "name": "stderr",
     "output_type": "stream",
     "text": [
      "/global/homes/o/oevans/local/miniconda3/envs/kelp/lib/python3.6/site-packages/ipykernel_launcher.py:55: RuntimeWarning: divide by zero encountered in true_divide\n"
     ]
    },
    {
     "name": "stdout",
     "output_type": "stream",
     "text": [
      "n=3\n",
      "dz = 1.0\n",
      "theoretical max_kelp = 0.1\n",
      "Max kelp = 0.015742197254395126\n"
     ]
    }
   ],
   "source": [
    "# Set parameters\n",
    "a_water = 0.0\n",
    "b = 0.0\n",
    "ns = 10\n",
    "na = 10\n",
    "kelp_profile='top-heavy'\n",
    "max_scatter = 3\n",
    "\n",
    "# GMRES\n",
    "gmres_results = kelp_param.kelp_calculate(\n",
    "    a_water,\n",
    "    b,\n",
    "    ns,\n",
    "    na,\n",
    "    kelp_profile,\n",
    "    gmres_flag=True,\n",
    "    num_scatters=0,\n",
    "    const=const\n",
    ")\n",
    "\n",
    "res_list = []\n",
    "save_list = []\n",
    "\n",
    "p_kelp = gmres_results['p_kelp']\n",
    "true_irrad = gmres_results['irradiance']\n",
    "true_perceived_irrad = np.sum(p_kelp*true_irrad, axis=(0,1)) / np.sum(p_kelp, axis=(0,1)) / np.pi\n",
    "\n",
    "# Run scattering cases\n",
    "for n in range(max_scatter+1):\n",
    "    print(\"n={}\".format(n))\n",
    "    #print(\"const={}\".format(const))\n",
    "    compute_results = kelp_param.kelp_calculate(\n",
    "        a_water,\n",
    "        b,\n",
    "        ns,\n",
    "        na,\n",
    "        kelp_profile,\n",
    "        gmres_flag=False,\n",
    "        num_scatters=n,\n",
    "        const=const\n",
    "    )\n",
    "\n",
    "    irrad = compute_results['irradiance']\n",
    "    # Perceived irradiance for each depth layer\n",
    "    perceived_irrad = np.sum(p_kelp*irrad, axis=(0,1)) / np.sum(p_kelp, axis=(0,1))\n",
    "    err = np.abs(true_perceived_irrad - perceived_irrad)\n",
    "    rad_err = np.mean(compute_results['radiance'] - gmres_results['radiance'])\n",
    "\n",
    "    save_vals = {\n",
    "        'abs_err': err,\n",
    "        'rel_err': err / np.abs(true_perceived_irrad),\n",
    "        'perceived_irrad': perceived_irrad,\n",
    "        'irradiance': irrad,\n",
    "        'abs_rad_err': rad_err,\n",
    "        'rel_rad_err': rad_err / np.abs(gmres_results['radiance'])\n",
    "    }\n",
    "\n",
    "    res_list.append(compute_results)\n",
    "    save_list.append(save_vals)"
   ]
  },
  {
   "cell_type": "markdown",
   "metadata": {},
   "source": [
    "# Plot Convergence Curves"
   ]
  },
  {
   "cell_type": "code",
   "execution_count": 10,
   "metadata": {},
   "outputs": [
    {
     "data": {
      "image/png": "[encoded data removed]",
      "text/plain": [
       "<matplotlib.figure.Figure at 0x2b5f2e686978>"
      ]
     },
     "metadata": {},
     "output_type": "display_data"
    },
    {
     "data": {
      "image/png": "[encoded data removed]",
      "text/plain": [
       "<matplotlib.figure.Figure at 0x2b5f2e52e6d8>"
      ]
     },
     "metadata": {},
     "output_type": "display_data"
    },
    {
     "data": {
      "image/png": "[encoded data removed]",
      "text/plain": [
       "<matplotlib.figure.Figure at 0x2b5f2e556908>"
      ]
     },
     "metadata": {},
     "output_type": "display_data"
    }
   ],
   "source": [
    "plt.figure()\n",
    "plt.plot(gmres_results['irradiance'].mean(axis=(0,1)), 'o-', label='gmres')\n",
    "for n, irrad in enumerate([s['irradiance'] for s in save_list]):\n",
    "    plt.plot(irrad.mean(axis=(0,1)), 'o-', label='n={}'.format(n))\n",
    "plt.yscale('linear')\n",
    "plt.legend()\n",
    "plt.xlabel('k (depth)')\n",
    "plt.ylabel('Average Irradiance')\n",
    "\n",
    "plt.figure()\n",
    "for n, err in enumerate([s['rel_err'] for s in save_list]):\n",
    "    plt.plot(err, 'o-', label='n={}'.format(n))\n",
    "plt.yscale('log')\n",
    "plt.legend()\n",
    "plt.xlabel('k (depth)')\n",
    "plt.ylabel('rel_err')\n",
    "\n",
    "plt.figure()\n",
    "for n, err in enumerate([s['abs_err'] for s in save_list]):\n",
    "    plt.plot(err, 'o-', label='n={}'.format(n))\n",
    "plt.yscale('log')\n",
    "plt.legend()\n",
    "plt.xlabel('k (depth)')\n",
    "plt.ylabel('abs_err')\n",
    "\n",
    "plt.show()"
   ]
  },
  {
   "cell_type": "code",
   "execution_count": 12,
   "metadata": {},
   "outputs": [
    {
     "data": {
      "text/plain": [
       "628.3185307179587"
      ]
     },
     "execution_count": 12,
     "metadata": {},
     "output_type": "execute_result"
    }
   ],
   "source": [
    "50 * 4*np.pi"
   ]
  }
 ],
 "metadata": {
  "kernelspec": {
   "display_name": "Python 3",
   "language": "python",
   "name": "python3"
  },
  "language_info": {
   "codemirror_mode": {
    "name": "ipython",
    "version": 3
   },
   "file_extension": ".py",
   "mimetype": "text/x-python",
   "name": "python",
   "nbconvert_exporter": "python",
   "pygments_lexer": "ipython3",
   "version": "3.6.3"
  }
 },
 "nbformat": 4,
 "nbformat_minor": 2
}
