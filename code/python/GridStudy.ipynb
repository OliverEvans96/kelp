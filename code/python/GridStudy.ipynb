{
 "cells": [
  {
   "cell_type": "markdown",
   "metadata": {},
   "source": [
    "# Parameter Sweeps - Second Attempt"
   ]
  },
  {
   "cell_type": "code",
   "execution_count": 1,
   "metadata": {
    "collapsed": true
   },
   "outputs": [],
   "source": [
    "import datetime\n",
    "import warnings\n",
    "import itertools as it\n",
    "import time\n",
    "import concurrent.futures as cf\n",
    "\n",
    "import dill\n",
    "from arctic.exceptions import NoDataFoundException\n",
    "from arctic import Arctic\n",
    "from pymongo import MongoClient\n",
    "\n",
    "import numpy as np\n",
    "import matplotlib.pyplot as plt\n",
    "import pandas as pd\n",
    "import seaborn as sns\n",
    "from sympy import divisors\n",
    "\n",
    "import ipyparallel as ipp\n",
    "import ipywidgets as ipw\n",
    "import ipyvolume as ipv\n",
    "import qgrid"
   ]
  },
  {
   "cell_type": "markdown",
   "metadata": {},
   "source": [
    "## View"
   ]
  },
  {
   "cell_type": "code",
   "execution_count": 6,
   "metadata": {
    "collapsed": true
   },
   "outputs": [],
   "source": [
    "def param_grid(**kwargs):\n",
    "    \"\"\"Generate Cartesian product of keyword arguments\"\"\"\n",
    "    prod = it.product(kwargs.items())\n",
    "    name_list, values_list = zip(*kwargs.items())\n",
    "    value_combinations = list(it.product(*values_list))\n",
    "    return name_list, value_combinations\n",
    "\n",
    "def param_df(**kwargs):\n",
    "    \"\"\"Generate pandas DataFrame from Cartesian product of keyword arguments\"\"\"\n",
    "    names, values = param_grid(**kwargs)\n",
    "    return pd.DataFrame(values, columns=names)\n",
    "\n",
    "def param_qgrid(qgrid_layout=None, **kwargs):\n",
    "    \"\"\"Generate Qgrid table from Cartesian product of keyword arguments\"\"\"\n",
    "    if not qgrid_layout:\n",
    "        qgrid_layout=ipw.Layout()\n",
    "    return qgrid.QGridWidget(df=param_df(**kwargs), layout=qgrid_layout)\n",
    "\n",
    "def dict_list_from_df(df):\n",
    "    \"\"\"Turn each row into a dictionary indexed by column names\"\"\"\n",
    "    return [{col: val for col, val in zip(df.columns, df.loc[ind,:])} for ind in df.index]"
   ]
  },
  {
   "cell_type": "code",
   "execution_count": 7,
   "metadata": {
    "collapsed": true
   },
   "outputs": [],
   "source": [
    "class ParamSpanRemoteConfig(object):\n",
    "    def __init__(self):\n",
    "        #self.init_db()\n",
    "        self.init_engines()\n",
    "    \n",
    "    # def init_db(self):\n",
    "    #     # Collect database info\n",
    "    #     db_host = 'localhost'\n",
    "    #     db_port = 31017\n",
    "    #     lib_name = 'kale-param-spans'\n",
    "    #     self.store = Arctic('mongodb://{}:{}'.format(db_host, db_port))\n",
    "    #     self.store.initialize_library(lib_name)\n",
    "    #     self.library = self.store[lib_name]\n",
    "# \n",
    "    #     # Package database info to send to engines\n",
    "    #     self.db_info = [\n",
    "    #         db_host,\n",
    "    #         db_port,\n",
    "    #         lib_name\n",
    "    #     ]\n",
    "\n",
    "    def init_engines(self):\n",
    "        # Connect to controller\n",
    "        with warnings.catch_warnings():\n",
    "            warnings.simplefilter(\"ignore\")\n",
    "            self.ipp_client = ipp.Client()\n",
    "\n",
    "        # Establish views\n",
    "        self.dview = self.ipp_client.direct_view()\n",
    "        self.lview = self.ipp_client.load_balanced_view()\n",
    "            \n",
    "        # Tell engines their ids\n",
    "        for i, engine in enumerate(self.ipp_client):\n",
    "            engine.push({'engine_id': i})\n",
    "            \n",
    "        # Distribute database information\n",
    "        # self.dview.push({'db_info': self.db_info})\n",
    "        \n",
    "        # def load_library():\n",
    "        #     global store, library\n",
    "        #     from arctic import Arctic\n",
    "        #     db_host, db_port, lib_name = db_info\n",
    "        #     store = Arctic('mongodb://{}:{}'.format(db_host, db_port))\n",
    "        #     library = store[lib_name]\n",
    "        # self.dview.apply(load_library)"
   ]
  },
  {
   "cell_type": "code",
   "execution_count": 8,
   "metadata": {
    "collapsed": true
   },
   "outputs": [],
   "source": [
    "class ParamSpanWidget(ipw.VBox):\n",
    "    def __init__(self, param_span_name, remote_config, compute_func, vis_func, output_layout=None, qgrid_layout=None):\n",
    "        self.compute_func = compute_func\n",
    "        self.name = param_span_name\n",
    "        self.remote_config = remote_config\n",
    "        self.vis_func = vis_func\n",
    "        self.output_layout = output_layout\n",
    "        self.qgrid_layout = qgrid_layout\n",
    "\n",
    "        super().__init__()\n",
    "\n",
    "        self.init_executor()\n",
    "        self.load_remote_config()\n",
    "        self.init_widgets()\n",
    "        self.init_layout()\n",
    "\n",
    "    def init_executor(self):\n",
    "        self.executor = cf.ThreadPoolExecutor()\n",
    "        \n",
    "    def load_remote_config(self):\n",
    "        self.ipp_client = self.remote_config.ipp_client\n",
    "        self.dview = self.remote_config.dview\n",
    "        self.lview = self.remote_config.lview\n",
    "        #self.db_info = self.remote_config.db_info\n",
    "        #self.store = self.remote_config.store\n",
    "        #self.library = self.remote_config.library\n",
    "        self.lview = self.remote_config.lview\n",
    "        \n",
    "    def init_widgets(self):\n",
    "        if not self.output_layout:\n",
    "            self.output_layout = ipw.Layout(height='500px', border='1px solid', overflow_x='scroll', overflow_y='scroll')\n",
    "        if not self.qgrid_layout:\n",
    "            qgrid_layout = ipw.Layout()\n",
    "\n",
    "        self.output = ipw.Output(layout=self.output_layout)\n",
    "        # param_table is empty until set_params is called\n",
    "        self.param_table = param_qgrid(self.qgrid_layout, **{'':[]})\n",
    "\n",
    "    def init_logic(self):\n",
    "        self.param_table.observe(self.visualize_wrapper, names='_selected_rows')\n",
    "\n",
    "    def init_layout(self):\n",
    "        self.children = [\n",
    "            self.output,\n",
    "            self.param_table\n",
    "        ]\n",
    "\n",
    "    def set_params(self, **all_params):\n",
    "        \"\"\"Provide parameter set to search over\n",
    "        all_params = {\n",
    "            'param1': [val1, val2, ...],\n",
    "            'param2': [val3, val4, ...],\n",
    "            ...\n",
    "        }\n",
    "        \"\"\"\n",
    "        self.param_table = param_qgrid(self.qgrid_layout, **all_params)\n",
    "        self.init_logic()\n",
    "        self.init_layout()\n",
    "\n",
    "    def submit_and_store(self, paramset_id, paramset):\n",
    "        \"\"\"Submit one job and store the results, indexed by id.\"\"\"\n",
    "        fut = self.lview.apply(self.compute_func, **paramset)\n",
    "        self.compute_futures[paramset_id] = fut\n",
    "        self.results[paramset_id] = fut.result()\n",
    "        \n",
    "    def submit_computations(self, *change):\n",
    "        # def compute_wrapper(compute_func, name, paramset_id, params, library):\n",
    "        #     \"\"\"Perform computation and send results to MongoDB for one set of params\"\"\"\n",
    "        #     results = compute_func(**params)\n",
    "        #     \n",
    "        #     \n",
    "        #     Index collection by paramset_id and paramspan name\n",
    "        #     record_label = '{}-{}'.format(name, paramset_id)\n",
    "        #     library.write(\n",
    "        #         record_label,\n",
    "        #         results\n",
    "        #     )\n",
    "\n",
    "        # Loop over all sets of parameters\n",
    "        # paramset_id is the row index,\n",
    "        # paramset is the dictionary of params\n",
    "        paramitems = self.param_table.df.T.to_dict().items()\n",
    "        self.results = [None]*len(paramitems)\n",
    "        self.compute_futures = [None]*len(paramitems)\n",
    "        self.save_futures = [None]*len(paramitems)\n",
    "        for paramset_id, paramset in paramitems:\n",
    "            # Submit task to IPyParallel\n",
    "            # fut =  self.lview.apply(compute_wrapper, self.compute_func, self.name, paramset_id, paramset, self.library)\n",
    "            # One thread per task so that results can be saved asynchronously when they return\n",
    "            # Keep the outer future to make sure all results have been saved\n",
    "            self.save_futures[paramset_id] = self.executor.submit(self.submit_and_store, paramset_id, paramset)\n",
    "\n",
    "    def visualize_wrapper(self, *change):\n",
    "        \"\"\"Call visualization function and capture output\"\"\"\n",
    "        # Do nothing if selection is empty:\n",
    "        # Empty list evaluates to False\n",
    "        if not self.param_table.get_selected_rows():\n",
    "            return\n",
    "\n",
    "        # Get params from selected row (take first row if >1 selected)\n",
    "        # The ordering is not necessarily the same as in widget,\n",
    "        # so weird things might happen if multiple rows are selected.\n",
    "        paramset_id = self.param_table.get_selected_df().index[0]\n",
    "        paramset = self.param_table.df.loc[paramset_id, :]\n",
    "\n",
    "        # Search collection by parameters\n",
    "        #record_label = '{}-{}'.format(self.name, paramset_id)\n",
    "        # Clear screen if the results of this computation\n",
    "        # are not available. Assume empty dict by default\n",
    "        compute_results = []\n",
    "        # try:\n",
    "        #     compute_results = self.library.read(record_label).data\n",
    "        # except NoDataFoundException:\n",
    "        #     self.output.clear_output()\n",
    "        future = self.compute_futures[paramset_id]\n",
    "        # future is initially None\n",
    "        if future and future.done():\n",
    "            compute_results = self.results[paramset_id]\n",
    "\n",
    "            # Avoid using output context to ensure that\n",
    "            # only this function's output is included.\n",
    "            @self.output.capture(clear_output=True, wait=True)\n",
    "            def wrapper():\n",
    "                self.vis_func(**compute_results)\n",
    "            wrapper()\n",
    "        \n",
    "        else:\n",
    "            @self.output.capture(clear_output=True, wait=True)\n",
    "            def wrapper():\n",
    "                print(\"Task {} not done: {}\".format(paramset_id, self.compute_futures[paramset_id]))\n",
    "            wrapper()\n",
    "            \n",
    "    def get_entries(self):\n",
    "        \"\"\"Get all results stored in database from parameter spans with this name\"\"\"\n",
    "        return [entry for entry in self.library.list_symbols() if entry[:len(self.name)+1] == self.name+'-']\n",
    "      \n",
    "#     def delete_results(self):\n",
    "#         \"\"\"This will delete all results from parameter spans with this name!\"\"\"\n",
    "#         for entry in self.get_entries():\n",
    "#             self.library.delete(entry)"
   ]
  },
  {
   "cell_type": "code",
   "execution_count": 9,
   "metadata": {
    "collapsed": true
   },
   "outputs": [],
   "source": [
    "remote_config = ParamSpanRemoteConfig()"
   ]
  },
  {
   "cell_type": "markdown",
   "metadata": {},
   "source": [
    "# User functions"
   ]
  },
  {
   "cell_type": "code",
   "execution_count": 10,
   "metadata": {
    "collapsed": true
   },
   "outputs": [],
   "source": [
    "def exp_compute(N, mean, std, color):\n",
    "    import numpy as np\n",
    "    from datetime import datetime\n",
    "    x = np.random.normal(loc=mean, scale=std, size=N)\n",
    "    realmean = np.mean(x)\n",
    "    realstd = np.std(x)\n",
    "    return {\n",
    "        'engine_id': engine_id,\n",
    "        'date': datetime.now().ctime(),\n",
    "        'x': x,\n",
    "        'N': N,\n",
    "        'realmean': realmean,\n",
    "        'realstd': realstd,\n",
    "        'color': color\n",
    "    }\n",
    "    \n",
    "def exp_viz(engine_id, date, x, N, realmean, realstd, color):\n",
    "    print(\"Computed on engine {} at {}\".format(engine_id, date))\n",
    "    plt.figure(figsize=[8,5])\n",
    "    with warnings.catch_warnings():\n",
    "        warnings.simplefilter(\"ignore\")\n",
    "        sns.distplot(x, color=color)\n",
    "    plt.title(r'$N={}$, $\\mu={:.2f}$, $\\sigma={:.2f}$'.format(N, realmean, realstd))\n",
    "    plt.show()\n",
    "    print(\"Data: {}\".format(x))"
   ]
  },
  {
   "cell_type": "code",
   "execution_count": 11,
   "metadata": {
    "collapsed": true
   },
   "outputs": [],
   "source": [
    "import kelp3d_objs as k3"
   ]
  },
  {
   "cell_type": "code",
   "execution_count": 12,
   "metadata": {
    "collapsed": true
   },
   "outputs": [],
   "source": [
    "# Variable parameters\n",
    "# Grid search over cartesian product\n",
    "# TODO: Find reasonable values for a_water and b\n",
    "a_water = [5.0, ]#0.1, 1.0, 10.0] # (%/m)\n",
    "b = [0.0, 0.1, ]#1.0, 10.0] # (%/m)\n",
    "# Number of x & y grid cells\n",
    "ns = [4, 6, 8, ]#12, 24] # (#), all must be factors of largest to avoid interpolation\n",
    "# Number of angular grid cells (Same for theta & phi)\n",
    "na = [4, 6, 8, ]#12, 24] # (#), same note as above, but cannot be odd."
   ]
  },
  {
   "cell_type": "code",
   "execution_count": 36,
   "metadata": {
    "collapsed": true
   },
   "outputs": [],
   "source": [
    "# Hard-coded parameters\n",
    "absorptance_kelp = 0.8 # (%)\n",
    "rope_spacing = 5.0 # (m)\n",
    "zmin, zmax = 0.0, 1.0 # (m)\n",
    "nz=10\n",
    "\n",
    "# Light from above\n",
    "I0 = 10.0 # (W/m^2)\n",
    "phi_s = 0 # (rad)\n",
    "theta_s = 0 # (rad)\n",
    "decay = 10 # (?) - light (practically) only from directly above\n",
    "\n",
    "# Calculated or otherwise boring parameters\n",
    "xmin = -rope_spacing/2\n",
    "xmax = rope_spacing/2\n",
    "ymin = -rope_spacing/2\n",
    "ymax = rope_spacing/2\n",
    "\n",
    "# Solver parameters\n",
    "num_scatters = 2\n",
    "gmres_flag = True\n",
    "tol_abs = 1e-6\n",
    "tol_rel = 1e-6\n",
    "maxiter_inner = 50\n",
    "maxiter_outer = 50\n",
    "gmres_wrapper = k3.gmres_wrapper\n",
    "\n",
    "const = (rope_spacing, zmin, zmax, nz, I0, phi_s, theta_s, decay, xmin, xmax, ymin, ymax, absorptance_kelp,\n",
    "         num_scatters, gmres_flag, tol_abs, tol_rel, maxiter_inner, maxiter_outer, gmres_flag, gmres_wrapper)"
   ]
  },
  {
   "cell_type": "code",
   "execution_count": 37,
   "metadata": {
    "collapsed": true
   },
   "outputs": [],
   "source": [
    "def nokelp_calculate(a_water, b, ns, na, const, num_threads=1):\n",
    "    from kelp3d_objs import f90\n",
    "    import numpy as np\n",
    "    from datetime import datetime\n",
    "    import time\n",
    "    \n",
    "    # Extract constants\n",
    "    (rope_spacing, zmin, zmax, nz, I0, phi_s, theta_s, decay, xmin, xmax, ymin, ymax, absortpance_kelp,\n",
    "         num_scatters, gmres_flag, tol_abs, tol_rel, maxiter_inner, maxiter_outer, gmres_flag, gmres_wrapper) = const\n",
    "    a_kelp = a_water\n",
    "    \n",
    "    num_vsf = na\n",
    "    vsf_angles = np.linspace(0,np.pi, na)\n",
    "    vsf_vals = 0*vsf_angles + 1/(4*np.pi)\n",
    "    ns = int(ns)\n",
    "    \n",
    "    nomega = int(na*(na-2)+2)\n",
    "    p_kelp = np.asfortranarray(np.zeros([ns,ns,nz]))\n",
    "    radiance = np.asfortranarray(np.zeros([ns, ns, nz, nomega]))\n",
    "    irradiance = np.asfortranarray(np.zeros([ns, ns, nz]))\n",
    "    \n",
    "    # Start timer\n",
    "    tic = time.time()\n",
    "    \n",
    "    # Calculate light field\n",
    "    f90.calculate_light_field(\n",
    "        xmin, xmax,\n",
    "        ymin, ymax,\n",
    "        zmin, zmax,\n",
    "        na, na,\n",
    "        a_water, a_kelp, b,\n",
    "        vsf_angles, vsf_vals,\n",
    "        theta_s, phi_s, I0, decay,\n",
    "        tol_abs, tol_rel, maxiter_inner, maxiter_outer,\n",
    "        p_kelp, radiance, irradiance,\n",
    "        num_scatters, gmres_flag, gmres_wrapper,\n",
    "    )\n",
    "    \n",
    "    # End timer\n",
    "    toc = time.time()\n",
    "    date = datetime.now().ctime()\n",
    "    \n",
    "    return {\n",
    "        'duration': toc - tic,\n",
    "        'date': date,\n",
    "        'radiance': radiance,\n",
    "        'irradiance': irradiance\n",
    "    }"
   ]
  },
  {
   "cell_type": "code",
   "execution_count": 38,
   "metadata": {
    "collapsed": true
   },
   "outputs": [],
   "source": [
    "def nokelp_visualize(duration, date, radiance, irradiance):\n",
    "    print(\"Computation finished {}\".format(date))\n",
    "    print(\"Took {:.2f} seconds\".format(duration))\n",
    "    with warnings.catch_warnings():\n",
    "        warnings.simplefilter(\"ignore\")\n",
    "        fig = ipv.figure()\n",
    "        ipv.volshow(irradiance.T, controls=False)\n",
    "    \n",
    "    # Set initial angle\n",
    "    fig.anglex = 0.85 * np.pi\n",
    "    fig.angley = -0.30 * np.pi\n",
    "    fig.anglez = -0.67 * np.pi\n",
    "    ipv.show()"
   ]
  },
  {
   "cell_type": "raw",
   "metadata": {},
   "source": [
    "psw = ParamSpanWidget('nokelp', remote_config, nokelp_calculate, nokelp_visualize)\n",
    "psw.set_params(\n",
    "    #a_water=a_water,\n",
    "    #b=b,\n",
    "    #ns=ns,\n",
    "    #na=na,\n",
    "    a_water=[1],\n",
    "    b=[0],\n",
    "    ns=[6],\n",
    "    na=[6,10,14,16],\n",
    "    const=[const]\n",
    ")\n",
    "psw.submit_computations()\n",
    "psw"
   ]
  },
  {
   "cell_type": "code",
   "execution_count": 39,
   "metadata": {
    "collapsed": true
   },
   "outputs": [],
   "source": [
    "def kelp_calculate(a_water, b, ns, na, kelp_profile, const, num_threads=1):\n",
    "    from kelp3d_objs import f90\n",
    "    import numpy as np\n",
    "    from datetime import datetime\n",
    "    import time\n",
    "    \n",
    "    # Extract constants\n",
    "    (rope_spacing, zmin, zmax, nz, I0, phi_s, theta_s, decay, xmin, xmax, ymin, ymax, absorptance_kelp,\n",
    "         num_scatters, gmres_flag, tol_abs, tol_rel, maxiter_inner, maxiter_outer, gmres_flag, gmres_wrapper) = const\n",
    "    \n",
    "    dz = (zmax-zmin)/nz\n",
    "    print(\"dz = {}\".format(dz))\n",
    "    \n",
    "    num_vsf = na\n",
    "    vsf_angles = np.linspace(0,np.pi, na)\n",
    "    vsf_vals = 0*vsf_angles + 1/(4*np.pi)\n",
    "    ns = int(ns)\n",
    "    \n",
    "    nomega = int(na*(na-2)+2)\n",
    "    p_kelp = np.asfortranarray(np.zeros([ns,ns,nz]))\n",
    "    radiance = np.asfortranarray(np.zeros([ns, ns, nz, nomega]))\n",
    "    irradiance = np.asfortranarray(np.zeros([ns, ns, nz]))\n",
    "    \n",
    "    # z grid centers\n",
    "    z = np.linspace(zmin+0.5*dz, zmax-0.5*dz, nz)\n",
    "    \n",
    "    # Start timer\n",
    "    tic = time.time()\n",
    "    \n",
    "    \n",
    "    # Kelp distribution profiles\n",
    "    frond_length_funcs = {\n",
    "        'top-heavy': 3.0 * z**2 * np.exp(-z) + 0.5,\n",
    "        'bottom-heavy': 3.0 * (zmax-z)**2 * np.exp((z-zmax)) + 0.5,\n",
    "        'uniform': 0*z + 1.0,\n",
    "        'none': 0*z\n",
    "    }\n",
    "    \n",
    "    # Top-heavy\n",
    "    frond_lengths = frond_length_funcs[kelp_profile]\n",
    "    #frond_lengths = np.ones(nz)\n",
    "    frond_stds = 0.0 * np.ones(nz)\n",
    "    num_fronds = 10 * np.ones(nz)\n",
    "    water_speeds = 0.5 * np.ones(nz)\n",
    "    water_angles = 2*np.pi / zmax * (z-zmin)\n",
    "    \n",
    "    fs = 0.5\n",
    "    fr = 0.5\n",
    "    ft = 1e-2\n",
    "    \n",
    "    print(\"theoretical max_kelp = {}\".format(num_fronds.max()*ft/dz))\n",
    "    \n",
    "    a_kelp = absorptance_kelp / ft\n",
    "    \n",
    "    # Generate kelp\n",
    "    f90.gen_kelp(\n",
    "        xmin, xmax,\n",
    "        ymin, ymax,\n",
    "        zmin, zmax,\n",
    "        frond_lengths,\n",
    "        frond_stds,\n",
    "        num_fronds,\n",
    "        water_speeds,\n",
    "        water_angles,\n",
    "        fs, fr, ft,\n",
    "        p_kelp\n",
    "    )\n",
    "    \n",
    "    print(\"Max kelp = {}\".format(p_kelp.max()))\n",
    "    \n",
    "    # Calculate light field\n",
    "    f90.calculate_light_field(\n",
    "        xmin, xmax,\n",
    "        ymin, ymax,\n",
    "        zmin, zmax,\n",
    "        na, na,\n",
    "        a_water, a_kelp, b,\n",
    "        vsf_angles, vsf_vals,\n",
    "        theta_s, phi_s, I0, decay,\n",
    "        tol_abs, tol_rel, maxiter_inner, maxiter_outer,\n",
    "        p_kelp, radiance, irradiance,\n",
    "        num_scatters, gmres_flag, gmres_wrapper,\n",
    "    )\n",
    "    \n",
    "    # End timer\n",
    "    toc = time.time()\n",
    "    date = datetime.now().ctime()\n",
    "    \n",
    "    return {\n",
    "        'duration': toc - tic,\n",
    "        'date': date,\n",
    "        'radiance': radiance,\n",
    "        'irradiance': irradiance,\n",
    "        'p_kelp': p_kelp\n",
    "    }"
   ]
  },
  {
   "cell_type": "code",
   "execution_count": 40,
   "metadata": {
    "collapsed": true
   },
   "outputs": [],
   "source": [
    "def kelp_visualize(duration, date, radiance, irradiance, p_kelp):\n",
    "    print(\"Computation finished {}\".format(date))\n",
    "    print(\"Took {:.2f} seconds\".format(duration))\n",
    "    with warnings.catch_warnings():\n",
    "        warnings.simplefilter(\"ignore\")\n",
    "        kelpfig = ipv.figure()\n",
    "        ipv.volshow(p_kelp.T, controls=False)\n",
    "        # set initial angle\n",
    "        kelpfig.anglex = 0.85 * np.pi\n",
    "        kelpfig.angley = -0.30 * np.pi\n",
    "        kelpfig.anglez = -0.67 * np.pi\n",
    "        \n",
    "        irradfig = ipv.figure()\n",
    "        ipv.volshow(irradiance.T, controls=False)\n",
    "        # set initial angle\n",
    "        irradfig.anglex = 0.85 * np.pi\n",
    "        irradfig.angley = -0.30 * np.pi\n",
    "        irradfig.anglez = -0.67 * np.pi\n",
    "        \n",
    "        \n",
    "    rad_text = \"Rad Stats<br>---------<br>min: {:.3e}<br>max: {:.3e}<br>mean: {:.3e}<br>std: {:.3e}\".format(\n",
    "        radiance.min(),\n",
    "        radiance.max(),\n",
    "        radiance.mean(),\n",
    "        radiance.std()\n",
    "    )\n",
    "        \n",
    "    irrad_text = \"Irrad Stats<br>-----------<br>min: {:.3e}<br>max: {:.3e}<br>mean: {:.3e}<br>std: {:.3e}\".format(\n",
    "        irradiance.min(),\n",
    "        irradiance.max(),\n",
    "        irradiance.mean(),\n",
    "        irradiance.std()\n",
    "    )\n",
    "        \n",
    "    display(ipw.HBox([\n",
    "        kelpfig, \n",
    "        irradfig,\n",
    "        ipw.Box(layout=ipw.Layout(width='10px')),\n",
    "        ipw.HTML(\"<tt>{}<br><br>{}</tt>\".format(rad_text, irrad_text))\n",
    "    ]))\n"
   ]
  },
  {
   "cell_type": "code",
   "execution_count": 56,
   "metadata": {
    "collapsed": true
   },
   "outputs": [],
   "source": [
    "# Hard-coded parameters\n",
    "absorptance_kelp = 0.8 # (%)\n",
    "rope_spacing = 5.0 # (m)\n",
    "zmin, zmax = 0.0, 10.0 # (m)\n",
    "nz=10\n",
    "\n",
    "# Light from above\n",
    "I0 = 50.0 # (W/m^2)\n",
    "phi_s = 0 # (rad)\n",
    "theta_s = 0 # (rad)\n",
    "decay = 0 # (?) - light (practically) only from directly above\n",
    "\n",
    "# Calculated or otherwise boring parameters\n",
    "xmin = -rope_spacing/2\n",
    "xmax = rope_spacing/2\n",
    "ymin = -rope_spacing/2\n",
    "ymax = rope_spacing/2\n",
    "\n",
    "# Solver parameters\n",
    "num_scatters = 0\n",
    "gmres_flag = True\n",
    "tol_abs = 1e-6\n",
    "tol_rel = 1e-6\n",
    "maxiter_inner = 50\n",
    "maxiter_outer = 50\n",
    "gmres_wrapper = k3.gmres_wrapper\n",
    "\n",
    "const = (rope_spacing, zmin, zmax, nz, I0, phi_s, theta_s, decay, xmin, xmax, ymin, ymax, absorptance_kelp,\n",
    "         num_scatters, gmres_flag, tol_abs, tol_rel, maxiter_inner, maxiter_outer, gmres_flag, gmres_wrapper)"
   ]
  },
  {
   "cell_type": "code",
   "execution_count": 57,
   "metadata": {},
   "outputs": [
    {
     "data": {
      "application/vnd.jupyter.widget-view+json": {
       "model_id": "cb1d605c9d5b40da9f10700a20320b6a",
       "version_major": 2,
       "version_minor": 0
      },
      "text/plain": [
       "ParamSpanWidget(children=(Output(layout=Layout(border='1px solid', height='500px', overflow_x='scroll', overfl…"
      ]
     },
     "metadata": {},
     "output_type": "display_data"
    }
   ],
   "source": [
    "psw = ParamSpanWidget('kelp', remote_config, kelp_calculate, kelp_visualize)\n",
    "psw.set_params(\n",
    "    a_water = [0.5],\n",
    "    b = [0.5],#, 0.7],\n",
    "    # Number of x & y grid cells\n",
    "    ns = [6, 8],#, 10, 12],\n",
    "    # Number of angular grid cells (Same for theta & phi)\n",
    "    na = [6, 8],#, 10, 12],#, 14, 18, 20, 24],\n",
    "    #na = [10, 12, 14, 18],\n",
    "    kelp_profile = ['bottom-heavy'],# 'bottom-heavy', 'uniform'],\n",
    "    const=[const]\n",
    ")\n",
    "psw.submit_computations()\n",
    "psw"
   ]
  },
  {
   "cell_type": "code",
   "execution_count": 58,
   "metadata": {
    "collapsed": true
   },
   "outputs": [],
   "source": [
    "def block_mean(large_arr, small_shape):\n",
    "    \"\"\"Calculate an array of block means of `large_arr` which has the shape `small_shape`\"\"\"\n",
    "\n",
    "    if all(n_large % n_small == 0 for n_small, n_large in zip(small_shape, large_arr.shape)):\n",
    "        # Try to abstract over number of dimensions\n",
    "        avg = np.zeros(small_shape)\n",
    "        block_sizes = [n_large // n_small for n_small, n_large in zip(small_shape, large_arr.shape)]\n",
    "        #print(\"block_sizes = {}\".format(block_sizes))\n",
    "\n",
    "        # Loop over all combinations of indices\n",
    "        for inds in it.product(*(range(n) for n in small_shape)):\n",
    "            #print(\"inds = {}\".format(inds))\n",
    "            startinds = [ind * block_size for ind, block_size in zip(inds, block_sizes)]\n",
    "            stopinds = [(ind+1) * block_size for ind, block_size in zip(inds, block_sizes)]\n",
    "            slices = tuple(slice(startind, stopind) for startind, stopind in zip(startinds, stopinds))\n",
    "            #print(\"startinds = {}\".format(startinds))\n",
    "            #print(\"stopinds = {}\".format(stopinds))\n",
    "            avg[inds] = large_arr[slices].mean()\n",
    "\n",
    "        return avg\n",
    "    \n",
    "    else:\n",
    "        raise IndexError(\"`small_shape` must divide `large_arr.shape` elementwise.\")"
   ]
  },
  {
   "cell_type": "code",
   "execution_count": 59,
   "metadata": {
    "collapsed": true
   },
   "outputs": [],
   "source": [
    "def grid_study(max_ns, max_na, a_water, b, const, fname, kelp_profile='top-heavy', min_ns=4, min_na=4):\n",
    "    # Determine which grid sizes to run.\n",
    "    # Must be a factor of maximum,\n",
    "    # and na must be even.\n",
    "    ns_list = [n for n in divisors(max_ns) if n >= min_ns]\n",
    "    na_list = [n for n in divisors(max_na) if n >= min_na and n%2 == 0]\n",
    "    \n",
    "    # Create parameter span\n",
    "    param_span_name = 'kelp-grid-study'\n",
    "    psw = ParamSpanWidget(param_span_name, remote_config, kelp_calculate, kelp_visualize)\n",
    "    \n",
    "    # Set parameters\n",
    "    psw.set_params(\n",
    "        ns = ns_list,\n",
    "        na = na_list,\n",
    "        a_water = [a_water],\n",
    "        b = [b],\n",
    "        kelp_profile = [kelp_profile],\n",
    "        const=[const]\n",
    "    )\n",
    "    \n",
    "    # Run computations\n",
    "    psw.submit_computations()\n",
    "    \n",
    "    # Wait for computations to complete\n",
    "    for fut in psw.save_futures:\n",
    "        # fut is initially None\n",
    "        while True:\n",
    "            if fut:\n",
    "                # Wait for result and throw away (should be None)\n",
    "                _ = fut.result()\n",
    "                break\n",
    "            \n",
    "    # Allocate error arrays\n",
    "    abs_err = np.zeros([len(ns_list), len(na_list)])\n",
    "    rel_err = np.zeros([len(ns_list), len(na_list)])\n",
    "    \n",
    "    #grid_sizes = np.empty([len(ns_list), len(na_list)], dtype=object)\n",
    "    #ns_grid, na_grid = np.meshgrid(ns_list, na_list, indexing='ij')\n",
    "    \n",
    "    # Extract \"true\" (highest accuracy) radiance\n",
    "    # Assume that highest index is highest solution\n",
    "    # (jobs were submitted in order of increasing grid size)\n",
    "    true_ind = len(ns_list) * len(na_list) - 1\n",
    "    true_irrad = psw.results[true_ind]['irradiance']\n",
    "    \n",
    "    # Compare values\n",
    "    for i, ns in enumerate(ns_list):\n",
    "        for j, na in enumerate(na_list):\n",
    "            # Find the index of this combination\n",
    "            # Assuming only one row matches both ns and na.\n",
    "            ind = psw.param_table.df.query('ns == {} and na == {}'.format(ns, na)).index[0]\n",
    "            \n",
    "            # Read radiance\n",
    "            irrad = psw.results[ind]['irradiance']\n",
    "            \n",
    "            #print(\"i, ns = {}\".format((i, ns)))\n",
    "            #print(\"j, na = {}\".format((j, na)))\n",
    "            #print(\"irrad shape = {}\".format(irrad.shape))\n",
    "            #print(\"true_irrad shape = {}\".format(true_irrad.shape))\n",
    "            \n",
    "            # Block averages of true radiance\n",
    "            avg_true = block_mean(true_irrad, irrad.shape)\n",
    "            \n",
    "            # Calculate error\n",
    "            abs_err[i, j] = np.mean(np.abs(irrad-avg_true))\n",
    "            rel_err[i, j] = np.mean(np.abs(irrad-avg_true)/np.abs(avg_true))\n",
    "            \n",
    "    \n",
    "    final_dict = {\n",
    "        'a_water': a_water,\n",
    "        'b': b,\n",
    "        'ns_list': ns_list,\n",
    "        'na_list': na_list,\n",
    "        'kelp_profile': kelp_profile,\n",
    "        'const': const,\n",
    "        'abs_err': abs_err,\n",
    "        'rel_err': rel_err,\n",
    "        'results': psw.results\n",
    "    }\n",
    "    \n",
    "    print(\"Grid study finished, saving.\")\n",
    "    with open(fname, 'wb') as fh:\n",
    "        dill.dump(final_dict, fh)\n",
    "    print(\"Saved!\")\n",
    "    \n",
    "    return psw, ns_list, na_list, abs_err, rel_err\n"
   ]
  },
  {
   "cell_type": "code",
   "execution_count": 50,
   "metadata": {},
   "outputs": [],
   "source": [
    "executor = cf.ThreadPoolExecutor(max_workers=4)"
   ]
  },
  {
   "cell_type": "code",
   "execution_count": 60,
   "metadata": {
    "collapsed": true
   },
   "outputs": [],
   "source": [
    "study_results = {}\n",
    "a_water_list = [0.05, 0.5]\n",
    "b_list = [0.05, 0.5]\n",
    "# Submit a few IOP cases\n",
    "# Don't want to over load memory\n",
    "for a_water, b in it.product(a_water_list, b_list):\n",
    "    fname = 'grid88a{:.2f}_b{:.2f}'.format(a_water,b)\n",
    "    study_results[(a_water, b)] = executor.submit(grid_study, a_water=a_water, fname=fname, b=b, max_ns=24, max_na=24, const=const)"
   ]
  },
  {
   "cell_type": "code",
   "execution_count": 53,
   "metadata": {
    "collapsed": true
   },
   "outputs": [],
   "source": [
    "t = study_results[(0.5,0.5)].result()"
   ]
  },
  {
   "cell_type": "code",
   "execution_count": 55,
   "metadata": {},
   "outputs": [
    {
     "data": {
      "application/vnd.jupyter.widget-view+json": {
       "model_id": "01f4968f9e734f08af51548f63fcc03a",
       "version_major": 2,
       "version_minor": 0
      },
      "text/plain": [
       "ParamSpanWidget(children=(Output(layout=Layout(border='1px solid', height='500px', overflow_x='scroll', overfl…"
      ]
     },
     "metadata": {},
     "output_type": "display_data"
    }
   ],
   "source": [
    "t[0]"
   ]
  },
  {
   "cell_type": "code",
   "execution_count": null,
   "metadata": {
    "collapsed": true
   },
   "outputs": [],
   "source": [
    "c = ipp.Client()"
   ]
  },
  {
   "cell_type": "code",
   "execution_count": null,
   "metadata": {
    "collapsed": true
   },
   "outputs": [],
   "source": [
    "lv = c.load_balanced_view()"
   ]
  },
  {
   "cell_type": "code",
   "execution_count": null,
   "metadata": {
    "collapsed": true
   },
   "outputs": [],
   "source": [
    "def imp():\n",
    "    import pandas._libs.sparse as splib\n",
    " "
   ]
  },
  {
   "cell_type": "code",
   "execution_count": null,
   "metadata": {
    "collapsed": true
   },
   "outputs": [],
   "source": [
    "lv.apply(imp).result()"
   ]
  },
  {
   "cell_type": "code",
   "execution_count": null,
   "metadata": {
    "collapsed": true
   },
   "outputs": [],
   "source": [
    "!pip show numpy ipyparallel pandas python"
   ]
  },
  {
   "cell_type": "code",
   "execution_count": null,
   "metadata": {
    "collapsed": true
   },
   "outputs": [],
   "source": [
    "study1.result()"
   ]
  },
  {
   "cell_type": "code",
   "execution_count": null,
   "metadata": {
    "collapsed": true
   },
   "outputs": [],
   "source": [
    "study1."
   ]
  },
  {
   "cell_type": "code",
   "execution_count": null,
   "metadata": {
    "collapsed": true
   },
   "outputs": [],
   "source": [
    "[type(r) for r in psw.results]"
   ]
  },
  {
   "cell_type": "code",
   "execution_count": null,
   "metadata": {
    "collapsed": true
   },
   "outputs": [],
   "source": [
    "gs, ns_list, na_list, abs_err, rel_err = grid_study(max_ns=24, max_na=24, const=const)\n",
    "gs"
   ]
  },
  {
   "cell_type": "code",
   "execution_count": null,
   "metadata": {
    "collapsed": true
   },
   "outputs": [],
   "source": [
    "ns_list"
   ]
  },
  {
   "cell_type": "code",
   "execution_count": null,
   "metadata": {
    "collapsed": true
   },
   "outputs": [],
   "source": [
    "na_list"
   ]
  },
  {
   "cell_type": "code",
   "execution_count": null,
   "metadata": {
    "collapsed": true
   },
   "outputs": [],
   "source": [
    "abs_err"
   ]
  },
  {
   "cell_type": "code",
   "execution_count": null,
   "metadata": {
    "collapsed": true
   },
   "outputs": [],
   "source": [
    "rel_err"
   ]
  },
  {
   "cell_type": "code",
   "execution_count": null,
   "metadata": {
    "collapsed": true
   },
   "outputs": [],
   "source": [
    "import matplotlib.pyplot as plt"
   ]
  },
  {
   "cell_type": "code",
   "execution_count": null,
   "metadata": {
    "collapsed": true
   },
   "outputs": [],
   "source": [
    "ax = plt.gca()\n",
    "plt.contour(rel_err.T, colors='k', linewidths=5)\n",
    "plt.contour(rel_err.T, colors='w', linewidths=2)\n",
    "plt.imshow(rel_err.T)\n",
    "ax.set_xticks(range(len(ns_list)))\n",
    "ax.set_yticks(range(len(na_list)))\n",
    "ax.set_xticklabels(ns_list)\n",
    "ax.set_yticklabels(na_list)\n",
    "plt.xlabel('Spatial Grid Size')\n",
    "plt.ylabel('Angular Grid Size')\n",
    "plt.title('Relative Error')\n",
    "plt.colorbar()\n",
    "plt.tight_layout()"
   ]
  },
  {
   "cell_type": "code",
   "execution_count": null,
   "metadata": {
    "collapsed": true
   },
   "outputs": [],
   "source": []
  }
 ],
 "metadata": {
  "kernelspec": {
   "display_name": "Python 3",
   "language": "python",
   "name": "python3"
  },
  "language_info": {
   "codemirror_mode": {
    "name": "ipython",
    "version": 3
   },
   "file_extension": ".py",
   "mimetype": "text/x-python",
   "name": "python",
   "nbconvert_exporter": "python",
   "pygments_lexer": "ipython3",
   "version": "3.6.3"
  }
 },
 "nbformat": 4,
 "nbformat_minor": 2
}
