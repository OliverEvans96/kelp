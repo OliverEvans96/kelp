{
 "cells": [
  {
   "cell_type": "markdown",
   "metadata": {},
   "source": [
    "# Parameter Sweeps - Second Attempt"
   ]
  },
  {
   "cell_type": "code",
   "execution_count": 1,
   "metadata": {
    "collapsed": true
   },
   "outputs": [],
   "source": [
    "import kelp_param\n",
    "import kelp3d_objs as k3\n",
    "import ipyparallel as ipp\n",
    "import concurrent.futures as cf\n",
    "import itertools as it\n",
    "from sympy import divisors\n",
    "import numpy as np"
   ]
  },
  {
   "cell_type": "code",
   "execution_count": 2,
   "metadata": {},
   "outputs": [
    {
     "data": {
      "text/plain": [
       "[15]"
      ]
     },
     "execution_count": 2,
     "metadata": {},
     "output_type": "execute_result"
    }
   ],
   "source": [
    "remote_config = kelp_param.ParamSpanRemoteConfig()\n",
    "ipp.Client().ids"
   ]
  },
  {
   "cell_type": "code",
   "execution_count": 3,
   "metadata": {
    "collapsed": true
   },
   "outputs": [],
   "source": [
    "# Hard-coded parameters\n",
    "absorptance_kelp = 0.8 # (%)\n",
    "rope_spacing = 5.0 # (m)\n",
    "zmin, zmax = 0.0, 10.0 # (m)\n",
    "nz=10\n",
    "\n",
    "# Light from above\n",
    "I0 = 50.0 # (W/m^2)\n",
    "phi_s = 0 # (rad)\n",
    "theta_s = 0 # (rad)\n",
    "decay = 0 # (?) - light (practically) only from directly above\n",
    "\n",
    "# Calculated or otherwise boring parameters\n",
    "xmin = -rope_spacing/2\n",
    "xmax = rope_spacing/2\n",
    "ymin = -rope_spacing/2\n",
    "ymax = rope_spacing/2\n",
    "\n",
    "# Solver parameters\n",
    "tol_abs = 1e-6\n",
    "tol_rel = 1e-6\n",
    "maxiter_inner = 50\n",
    "maxiter_outer = 50\n",
    "gmres_wrapper = k3.gmres_wrapper\n",
    "\n",
    "const = (rope_spacing, zmin, zmax, I0, phi_s, theta_s, decay, xmin, xmax, ymin, ymax,\n",
    "         tol_abs, tol_rel, maxiter_inner, maxiter_outer, gmres_wrapper)"
   ]
  },
  {
   "cell_type": "code",
   "execution_count": 9,
   "metadata": {},
   "outputs": [
    {
     "data": {
      "application/vnd.jupyter.widget-view+json": {
       "model_id": "002f8ce10cef4160aa9d8a9e21a511ab",
       "version_major": 2,
       "version_minor": 0
      },
      "text/plain": [
       "ParamSpanWidget(children=(Output(layout=Layout(border='1px solid', height='500px', overflow_x='scroll', overfl…"
      ]
     },
     "metadata": {},
     "output_type": "display_data"
    }
   ],
   "source": [
    "psw = kelp_param.ParamSpanWidget(\n",
    "    'kelp', \n",
    "    remote_config, \n",
    "    kelp_param.kelp_calculate, \n",
    "    kelp_param.kelp_visualize\n",
    ")\n",
    "psw.set_params(\n",
    "    a_water = [0.5],\n",
    "    b = [0.5],#, 0.1],#, 0.7],\n",
    "    # Number of x & y grid cells\n",
    "    ns = [20],#, 10, 12],\n",
    "    # Number of angular grid cells (Same for theta & phi)\n",
    "    na = [10],#, 10, 12],#, 14, 18, 20, 24],\n",
    "    #na = [10, 12, 14, 18],\n",
    "    nz = [20],\n",
    "    absorptance_kelp=[0.8],\n",
    "    gmres_flag = [False],\n",
    "    num_scatters = [0],\n",
    "    kelp_profile = ['top-heavy', 'bottom-heavy', 'uniform'],\n",
    "    const=[const]\n",
    ")\n",
    "psw.submit_computations()\n",
    "psw"
   ]
  },
  {
   "cell_type": "code",
   "execution_count": 5,
   "metadata": {},
   "outputs": [],
   "source": [
    "executor = cf.ThreadPoolExecutor(max_workers=4)"
   ]
  },
  {
   "cell_type": "code",
   "execution_count": 6,
   "metadata": {
    "collapsed": true
   },
   "outputs": [],
   "source": [
    "def grid_study(max_ns, max_na, a_water, b, num_scatters, gmres_flag, const, kelp_profile='top-heavy', min_ns=4, min_na=4):\n",
    "    # Determine which grid sizes to run.\n",
    "    # Must be a factor of maximum,\n",
    "    # and na must be even.\n",
    "    ns_list = [n for n in divisors(max_ns) if n >= min_ns]\n",
    "    na_list = [n for n in divisors(max_na) if n >= min_na and n%2 == 0]\n",
    "    \n",
    "    # Create parameter span\n",
    "    param_span_name = 'kelp-grid-study'\n",
    "    psw = kelp_param.ParamSpanWidget(param_span_name, remote_config, kelp_param.kelp_calculate, kelp_param.kelp_visualize)\n",
    "    \n",
    "    # Set parameters\n",
    "    psw.set_params(\n",
    "        ns = ns_list,\n",
    "        na = na_list,\n",
    "        a_water = [a_water],\n",
    "        b = [b],\n",
    "        num_scatters=[num_scatters],\n",
    "        gmres_flag=[gmres_flag],\n",
    "        kelp_profile = [kelp_profile],\n",
    "        const=[const]\n",
    "    )\n",
    "    \n",
    "    # Run computations\n",
    "    psw.submit_computations()\n",
    "    \n",
    "    # Wait for computations to complete\n",
    "    for fut in psw.save_futures:\n",
    "        # fut is initially None\n",
    "        while True:\n",
    "            if fut:\n",
    "                # Wait for result and throw away (should be None)\n",
    "                _ = fut.result()\n",
    "                break\n",
    "            \n",
    "    # Allocate error arrays\n",
    "    abs_err = np.zeros([len(ns_list), len(na_list)])\n",
    "    rel_err = np.zeros([len(ns_list), len(na_list)])\n",
    "    \n",
    "    #grid_sizes = np.empty([len(ns_list), len(na_list)], dtype=object)\n",
    "    #ns_grid, na_grid = np.meshgrid(ns_list, na_list, indexing='ij')\n",
    "    \n",
    "    # Extract \"true\" (highest accuracy) radiance\n",
    "    # Assume that highest index is highest solution\n",
    "    # (jobs were submitted in order of increasing grid size)\n",
    "    true_ind = len(ns_list) * len(na_list) - 1\n",
    "    true_irrad = psw.results[true_ind]['irradiance']\n",
    "    \n",
    "    # Compare values\n",
    "    for i, ns in enumerate(ns_list):\n",
    "        for j, na in enumerate(na_list):\n",
    "            # Find the index of this combination\n",
    "            # Assuming only one row matches both ns and na.\n",
    "            ind = psw.param_table.df.query('ns == {} and na == {}'.format(ns, na)).index[0]\n",
    "            \n",
    "            # Read radiance\n",
    "            irrad = psw.results[ind]['irradiance']\n",
    "            \n",
    "            #print(\"i, ns = {}\".format((i, ns)))\n",
    "            #print(\"j, na = {}\".format((j, na)))\n",
    "            #print(\"irrad shape = {}\".format(irrad.shape))\n",
    "            #print(\"true_irrad shape = {}\".format(true_irrad.shape))\n",
    "            \n",
    "            # Block averages of true radiance\n",
    "            avg_true = kelp_param.block_mean(true_irrad, irrad.shape)\n",
    "            \n",
    "            # Calculate error\n",
    "            abs_err[i, j] = np.mean(np.abs(irrad-avg_true))\n",
    "            rel_err[i, j] = np.mean(np.abs(irrad-avg_true)/np.abs(avg_true))\n",
    "            \n",
    "    \n",
    "    final_dict = {\n",
    "        'a_water': a_water,\n",
    "        'b': b,\n",
    "        'ns_list': ns_list,\n",
    "        'na_list': na_list,\n",
    "        'kelp_profile': kelp_profile,\n",
    "        'const': const,\n",
    "        'abs_err': abs_err,\n",
    "        'rel_err': rel_err,\n",
    "        'results': psw.results\n",
    "    }\n",
    "    \n",
    "    #print(\"Grid study finished, saving.\")\n",
    "    #with open(fname, 'wb') as fh:\n",
    "    #    dill.dump(final_dict, fh)\n",
    "    #print(\"Saved!\")\n",
    "    \n",
    "    return psw, ns_list, na_list, abs_err, rel_err\n"
   ]
  },
  {
   "cell_type": "code",
   "execution_count": 7,
   "metadata": {
    "collapsed": true
   },
   "outputs": [
    {
     "name": "stderr",
     "output_type": "stream",
     "text": [
      "ERROR:root:Internal Python error in the inspect module.\n",
      "Below is the traceback from this internal error.\n",
      "\n"
     ]
    },
    {
     "name": "stdout",
     "output_type": "stream",
     "text": [
      "Traceback (most recent call last):\n",
      "  File \"/global/homes/o/oevans/local/miniconda3/envs/kelp/lib/python3.6/site-packages/IPython/core/magics/execution.py\", line 1238, in time\n",
      "    exec(code, glob, local_ns)\n",
      "  File \"<timed exec>\", line 14, in <module>\n",
      "  File \"/global/homes/o/oevans/local/miniconda3/envs/kelp/lib/python3.6/concurrent/futures/_base.py\", line 427, in result\n",
      "    self._condition.wait(timeout)\n",
      "  File \"/global/homes/o/oevans/local/miniconda3/envs/kelp/lib/python3.6/threading.py\", line 295, in wait\n",
      "    waiter.acquire()\n",
      "KeyboardInterrupt\n",
      "\n",
      "During handling of the above exception, another exception occurred:\n",
      "\n",
      "Traceback (most recent call last):\n",
      "  File \"/global/homes/o/oevans/local/miniconda3/envs/kelp/lib/python3.6/site-packages/IPython/core/interactiveshell.py\", line 1863, in showtraceback\n",
      "    stb = value._render_traceback_()\n",
      "AttributeError: 'KeyboardInterrupt' object has no attribute '_render_traceback_'\n",
      "\n",
      "During handling of the above exception, another exception occurred:\n",
      "\n",
      "Traceback (most recent call last):\n",
      "  File \"/global/homes/o/oevans/local/miniconda3/envs/kelp/lib/python3.6/site-packages/IPython/core/ultratb.py\", line 1095, in get_records\n",
      "    return _fixed_getinnerframes(etb, number_of_lines_of_context, tb_offset)\n",
      "  File \"/global/homes/o/oevans/local/miniconda3/envs/kelp/lib/python3.6/site-packages/IPython/core/ultratb.py\", line 311, in wrapped\n",
      "    return f(*args, **kwargs)\n",
      "  File \"/global/homes/o/oevans/local/miniconda3/envs/kelp/lib/python3.6/site-packages/IPython/core/ultratb.py\", line 345, in _fixed_getinnerframes\n",
      "    records = fix_frame_records_filenames(inspect.getinnerframes(etb, context))\n",
      "  File \"/global/homes/o/oevans/local/miniconda3/envs/kelp/lib/python3.6/inspect.py\", line 1480, in getinnerframes\n",
      "    frameinfo = (tb.tb_frame,) + getframeinfo(tb, context)\n",
      "  File \"/global/homes/o/oevans/local/miniconda3/envs/kelp/lib/python3.6/inspect.py\", line 1438, in getframeinfo\n",
      "    filename = getsourcefile(frame) or getfile(frame)\n",
      "  File \"/global/homes/o/oevans/local/miniconda3/envs/kelp/lib/python3.6/inspect.py\", line 693, in getsourcefile\n",
      "    if getattr(getmodule(object, filename), '__loader__', None) is not None:\n",
      "  File \"/global/homes/o/oevans/local/miniconda3/envs/kelp/lib/python3.6/inspect.py\", line 739, in getmodule\n",
      "    os.path.realpath(f)] = module.__name__\n",
      "  File \"/global/homes/o/oevans/local/miniconda3/envs/kelp/lib/python3.6/posixpath.py\", line 386, in realpath\n",
      "    path, ok = _joinrealpath(filename[:0], filename, {})\n",
      "  File \"/global/homes/o/oevans/local/miniconda3/envs/kelp/lib/python3.6/posixpath.py\", line 420, in _joinrealpath\n",
      "    if not islink(newpath):\n",
      "  File \"/global/homes/o/oevans/local/miniconda3/envs/kelp/lib/python3.6/posixpath.py\", line 169, in islink\n",
      "    st = os.lstat(path)\n",
      "KeyboardInterrupt\n"
     ]
    },
    {
     "ename": "KeyboardInterrupt",
     "evalue": "",
     "output_type": "error",
     "traceback": [
      "\u001b[0;31m---------------------------------------------------------------------------\u001b[0m"
     ]
    }
   ],
   "source": [
    "%%time\n",
    "study_results = {}\n",
    "a_water_list = [0.5]\n",
    "b_list = [0.05]\n",
    "# Submit a few IOP cases\n",
    "# Don't want to over load memory\n",
    "for a_water, b in it.product(a_water_list, b_list):\n",
    "    #fname = 'grid88a{:.2f}_b{:.2f}'.format(a_water,b)\n",
    "    study_results[(a_water, b)] = executor.submit(\n",
    "        grid_study, a_water=a_water, b=b, \n",
    "        num_scatters=2, gmres_flag=True, \n",
    "        max_ns=24, max_na=24, const=const\n",
    "    )\n",
    "\n",
    "study_results[(0.5,0.05)].result()"
   ]
  },
  {
   "cell_type": "code",
   "execution_count": null,
   "metadata": {
    "collapsed": true
   },
   "outputs": [],
   "source": [
    "gs, ns_list, na_list, abs_err, rel_err = study_results[(0.5,0.05)].result()\n",
    "gs"
   ]
  },
  {
   "cell_type": "code",
   "execution_count": null,
   "metadata": {
    "collapsed": true
   },
   "outputs": [],
   "source": [
    "ns_list"
   ]
  },
  {
   "cell_type": "code",
   "execution_count": null,
   "metadata": {
    "collapsed": true
   },
   "outputs": [],
   "source": [
    "na_list"
   ]
  },
  {
   "cell_type": "code",
   "execution_count": null,
   "metadata": {
    "collapsed": true
   },
   "outputs": [],
   "source": [
    "abs_err"
   ]
  },
  {
   "cell_type": "code",
   "execution_count": null,
   "metadata": {
    "collapsed": true
   },
   "outputs": [],
   "source": [
    "rel_err"
   ]
  },
  {
   "cell_type": "code",
   "execution_count": null,
   "metadata": {
    "collapsed": true
   },
   "outputs": [],
   "source": [
    "import matplotlib.pyplot as plt"
   ]
  },
  {
   "cell_type": "code",
   "execution_count": null,
   "metadata": {
    "collapsed": true
   },
   "outputs": [],
   "source": [
    "ax = plt.gca()\n",
    "plt.contour(np.log(rel_err.T), colors='k', linewidths=5)\n",
    "plt.contour(np.log(rel_err.T), colors='w', linewidths=2)\n",
    "plt.imshow(np.log(rel_err.T))\n",
    "ax.set_xticks(range(len(ns_list)))\n",
    "ax.set_yticks(range(len(na_list)))\n",
    "ax.set_xticklabels(ns_list)\n",
    "ax.set_yticklabels(na_list)\n",
    "plt.xlabel('Spatial Grid Size')\n",
    "plt.ylabel('Angular Grid Size')\n",
    "plt.title('Relative Error')\n",
    "plt.colorbar()\n",
    "plt.tight_layout()\n",
    "plt.show()"
   ]
  },
  {
   "cell_type": "code",
   "execution_count": null,
   "metadata": {},
   "outputs": [],
   "source": [
    "fig, ax = plt.subplots()\n",
    "ax.plot(ns_list[:-1], rel_err[:-1,-1], 'o-', label='Spatial Error')\n",
    "ax.plot(na_list[:-1], rel_err[-1,:-1], 'o-', label='Angular Error')\n",
    "ax.set_xlabel('Grid resolution')\n",
    "ax.set_ylabel('Relative Error')\n",
    "ax.set_xticks(na_list[:-1])\n",
    "ax.set_xticklabels(na_list[:-1])\n",
    "plt.yscale('log')\n",
    "plt.legend()\n",
    "plt.show()"
   ]
  },
  {
   "cell_type": "code",
   "execution_count": null,
   "metadata": {
    "collapsed": true
   },
   "outputs": [],
   "source": []
  }
 ],
 "metadata": {
  "kernelspec": {
   "display_name": "Python 3",
   "language": "python",
   "name": "python3"
  },
  "language_info": {
   "codemirror_mode": {
    "name": "ipython",
    "version": 3
   },
   "file_extension": ".py",
   "mimetype": "text/x-python",
   "name": "python",
   "nbconvert_exporter": "python",
   "pygments_lexer": "ipython3",
   "version": "3.6.3"
  }
 },
 "nbformat": 4,
 "nbformat_minor": 2
}
