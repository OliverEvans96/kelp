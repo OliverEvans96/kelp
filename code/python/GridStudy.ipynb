{
 "cells": [
  {
   "cell_type": "markdown",
   "metadata": {},
   "source": [
    "# Parameter Sweeps - Second Attempt"
   ]
  },
  {
   "cell_type": "code",
   "execution_count": 1,
   "metadata": {
    "collapsed": true
   },
   "outputs": [],
   "source": [
    "import kelp_param\n",
    "import kelp3d_objs as k3\n",
    "import ipyparallel as ipp"
   ]
  },
  {
   "cell_type": "code",
   "execution_count": 2,
   "metadata": {},
   "outputs": [
    {
     "data": {
      "text/plain": [
       "[1]"
      ]
     },
     "execution_count": 2,
     "metadata": {},
     "output_type": "execute_result"
    }
   ],
   "source": [
    "remote_config = kelp_param.ParamSpanRemoteConfig()\n",
    "ipp.Client().ids"
   ]
  },
  {
   "cell_type": "code",
   "execution_count": 3,
   "metadata": {
    "collapsed": true
   },
   "outputs": [],
   "source": [
    "# Hard-coded parameters\n",
    "absorptance_kelp = 0.8 # (%)\n",
    "rope_spacing = 5.0 # (m)\n",
    "zmin, zmax = 0.0, 10.0 # (m)\n",
    "nz=10\n",
    "\n",
    "# Light from above\n",
    "I0 = 50.0 # (W/m^2)\n",
    "phi_s = 0 # (rad)\n",
    "theta_s = 0 # (rad)\n",
    "decay = 0 # (?) - light (practically) only from directly above\n",
    "\n",
    "# Calculated or otherwise boring parameters\n",
    "xmin = -rope_spacing/2\n",
    "xmax = rope_spacing/2\n",
    "ymin = -rope_spacing/2\n",
    "ymax = rope_spacing/2\n",
    "\n",
    "# Solver parameters\n",
    "tol_abs = 1e-6\n",
    "tol_rel = 1e-6\n",
    "maxiter_inner = 50\n",
    "maxiter_outer = 50\n",
    "gmres_wrapper = k3.gmres_wrapper\n",
    "\n",
    "const = (rope_spacing, zmin, zmax, nz, I0, phi_s, theta_s, decay, xmin, xmax, ymin, ymax, absorptance_kelp,\n",
    "         tol_abs, tol_rel, maxiter_inner, maxiter_outer, gmres_wrapper)"
   ]
  },
  {
   "cell_type": "code",
   "execution_count": 5,
   "metadata": {},
   "outputs": [
    {
     "data": {
      "application/vnd.jupyter.widget-view+json": {
       "model_id": "916ff4a596f640d681fd670245f008b2",
       "version_major": 2,
       "version_minor": 0
      },
      "text/plain": [
       "ParamSpanWidget(children=(Output(layout=Layout(border='1px solid', height='500px', overflow_x='scroll', overfl…"
      ]
     },
     "metadata": {},
     "output_type": "display_data"
    }
   ],
   "source": [
    "psw = kelp_param.ParamSpanWidget(\n",
    "    'kelp', \n",
    "    remote_config, \n",
    "    kelp_param.kelp_calculate, \n",
    "    kelp_param.kelp_visualize\n",
    ")\n",
    "psw.set_params(\n",
    "    a_water = [0.5],\n",
    "    b = [0.5, 0.1],#, 0.7],\n",
    "    # Number of x & y grid cells\n",
    "    ns = [10],#, 10, 12],\n",
    "    # Number of angular grid cells (Same for theta & phi)\n",
    "    na = [10],#, 10, 12],#, 14, 18, 20, 24],\n",
    "    #na = [10, 12, 14, 18],\n",
    "    gmres_flag = [True],\n",
    "    num_scatters = [0],\n",
    "    kelp_profile = ['top-heavy'],# 'bottom-heavy', 'uniform'],\n",
    "    const=[const]\n",
    ")\n",
    "psw.submit_computations()\n",
    "psw"
   ]
  },
  {
   "cell_type": "code",
   "execution_count": null,
   "metadata": {
    "collapsed": true
   },
   "outputs": [],
   "source": [
    "def block_mean(large_arr, small_shape):\n",
    "    \"\"\"Calculate an array of block means of `large_arr` which has the shape `small_shape`\"\"\"\n",
    "\n",
    "    if all(n_large % n_small == 0 for n_small, n_large in zip(small_shape, large_arr.shape)):\n",
    "        # Try to abstract over number of dimensions\n",
    "        avg = np.zeros(small_shape)\n",
    "        block_sizes = [n_large // n_small for n_small, n_large in zip(small_shape, large_arr.shape)]\n",
    "        #print(\"block_sizes = {}\".format(block_sizes))\n",
    "\n",
    "        # Loop over all combinations of indices\n",
    "        for inds in it.product(*(range(n) for n in small_shape)):\n",
    "            #print(\"inds = {}\".format(inds))\n",
    "            startinds = [ind * block_size for ind, block_size in zip(inds, block_sizes)]\n",
    "            stopinds = [(ind+1) * block_size for ind, block_size in zip(inds, block_sizes)]\n",
    "            slices = tuple(slice(startind, stopind) for startind, stopind in zip(startinds, stopinds))\n",
    "            #print(\"startinds = {}\".format(startinds))\n",
    "            #print(\"stopinds = {}\".format(stopinds))\n",
    "            avg[inds] = large_arr[slices].mean()\n",
    "\n",
    "        return avg\n",
    "    \n",
    "    else:\n",
    "        raise IndexError(\"`small_shape` must divide `large_arr.shape` elementwise.\")"
   ]
  },
  {
   "cell_type": "code",
   "execution_count": null,
   "metadata": {
    "collapsed": true
   },
   "outputs": [],
   "source": [
    "def grid_study(max_ns, max_na, a_water, b, const, fname, kelp_profile='top-heavy', min_ns=4, min_na=4):\n",
    "    # Determine which grid sizes to run.\n",
    "    # Must be a factor of maximum,\n",
    "    # and na must be even.\n",
    "    ns_list = [n for n in divisors(max_ns) if n >= min_ns]\n",
    "    na_list = [n for n in divisors(max_na) if n >= min_na and n%2 == 0]\n",
    "    \n",
    "    # Create parameter span\n",
    "    param_span_name = 'kelp-grid-study'\n",
    "    psw = ParamSpanWidget(param_span_name, remote_config, kelp_calculate, kelp_visualize)\n",
    "    \n",
    "    # Set parameters\n",
    "    psw.set_params(\n",
    "        ns = ns_list,\n",
    "        na = na_list,\n",
    "        a_water = [a_water],\n",
    "        b = [b],\n",
    "        kelp_profile = [kelp_profile],\n",
    "        const=[const]\n",
    "    )\n",
    "    \n",
    "    # Run computations\n",
    "    psw.submit_computations()\n",
    "    \n",
    "    # Wait for computations to complete\n",
    "    for fut in psw.save_futures:\n",
    "        # fut is initially None\n",
    "        while True:\n",
    "            if fut:\n",
    "                # Wait for result and throw away (should be None)\n",
    "                _ = fut.result()\n",
    "                break\n",
    "            \n",
    "    # Allocate error arrays\n",
    "    abs_err = np.zeros([len(ns_list), len(na_list)])\n",
    "    rel_err = np.zeros([len(ns_list), len(na_list)])\n",
    "    \n",
    "    #grid_sizes = np.empty([len(ns_list), len(na_list)], dtype=object)\n",
    "    #ns_grid, na_grid = np.meshgrid(ns_list, na_list, indexing='ij')\n",
    "    \n",
    "    # Extract \"true\" (highest accuracy) radiance\n",
    "    # Assume that highest index is highest solution\n",
    "    # (jobs were submitted in order of increasing grid size)\n",
    "    true_ind = len(ns_list) * len(na_list) - 1\n",
    "    true_irrad = psw.results[true_ind]['irradiance']\n",
    "    \n",
    "    # Compare values\n",
    "    for i, ns in enumerate(ns_list):\n",
    "        for j, na in enumerate(na_list):\n",
    "            # Find the index of this combination\n",
    "            # Assuming only one row matches both ns and na.\n",
    "            ind = psw.param_table.df.query('ns == {} and na == {}'.format(ns, na)).index[0]\n",
    "            \n",
    "            # Read radiance\n",
    "            irrad = psw.results[ind]['irradiance']\n",
    "            \n",
    "            #print(\"i, ns = {}\".format((i, ns)))\n",
    "            #print(\"j, na = {}\".format((j, na)))\n",
    "            #print(\"irrad shape = {}\".format(irrad.shape))\n",
    "            #print(\"true_irrad shape = {}\".format(true_irrad.shape))\n",
    "            \n",
    "            # Block averages of true radiance\n",
    "            avg_true = block_mean(true_irrad, irrad.shape)\n",
    "            \n",
    "            # Calculate error\n",
    "            abs_err[i, j] = np.mean(np.abs(irrad-avg_true))\n",
    "            rel_err[i, j] = np.mean(np.abs(irrad-avg_true)/np.abs(avg_true))\n",
    "            \n",
    "    \n",
    "    final_dict = {\n",
    "        'a_water': a_water,\n",
    "        'b': b,\n",
    "        'ns_list': ns_list,\n",
    "        'na_list': na_list,\n",
    "        'kelp_profile': kelp_profile,\n",
    "        'const': const,\n",
    "        'abs_err': abs_err,\n",
    "        'rel_err': rel_err,\n",
    "        'results': psw.results\n",
    "    }\n",
    "    \n",
    "    print(\"Grid study finished, saving.\")\n",
    "    with open(fname, 'wb') as fh:\n",
    "        dill.dump(final_dict, fh)\n",
    "    print(\"Saved!\")\n",
    "    \n",
    "    return psw, ns_list, na_list, abs_err, rel_err\n"
   ]
  },
  {
   "cell_type": "code",
   "execution_count": null,
   "metadata": {},
   "outputs": [],
   "source": [
    "executor = cf.ThreadPoolExecutor(max_workers=4)"
   ]
  },
  {
   "cell_type": "code",
   "execution_count": null,
   "metadata": {
    "collapsed": true
   },
   "outputs": [],
   "source": [
    "study_results = {}\n",
    "a_water_list = [0.05, 0.5]\n",
    "b_list = [0.05, 0.5]\n",
    "# Submit a few IOP cases\n",
    "# Don't want to over load memory\n",
    "for a_water, b in it.product(a_water_list, b_list):\n",
    "    fname = 'grid88a{:.2f}_b{:.2f}'.format(a_water,b)\n",
    "    study_results[(a_water, b)] = executor.submit(grid_study, a_water=a_water, fname=fname, b=b, max_ns=24, max_na=24, const=const)"
   ]
  },
  {
   "cell_type": "code",
   "execution_count": null,
   "metadata": {
    "collapsed": true
   },
   "outputs": [],
   "source": [
    "t = study_results[(0.5,0.5)].result()"
   ]
  },
  {
   "cell_type": "code",
   "execution_count": null,
   "metadata": {},
   "outputs": [],
   "source": [
    "t[0]"
   ]
  },
  {
   "cell_type": "code",
   "execution_count": null,
   "metadata": {
    "collapsed": true
   },
   "outputs": [],
   "source": [
    "lv = c.load_balanced_view()"
   ]
  },
  {
   "cell_type": "code",
   "execution_count": null,
   "metadata": {},
   "outputs": [],
   "source": [
    "%px !free"
   ]
  },
  {
   "cell_type": "code",
   "execution_count": null,
   "metadata": {
    "collapsed": true
   },
   "outputs": [],
   "source": [
    "def imp():\n",
    "    import pandas._libs.sparse as splib\n",
    " "
   ]
  },
  {
   "cell_type": "code",
   "execution_count": null,
   "metadata": {
    "collapsed": true
   },
   "outputs": [],
   "source": [
    "lv.apply(imp).result()"
   ]
  },
  {
   "cell_type": "code",
   "execution_count": null,
   "metadata": {
    "collapsed": true
   },
   "outputs": [],
   "source": [
    "!pip show numpy ipyparallel pandas python"
   ]
  },
  {
   "cell_type": "code",
   "execution_count": null,
   "metadata": {
    "collapsed": true
   },
   "outputs": [],
   "source": [
    "study1.result()"
   ]
  },
  {
   "cell_type": "code",
   "execution_count": null,
   "metadata": {
    "collapsed": true
   },
   "outputs": [],
   "source": [
    "study1."
   ]
  },
  {
   "cell_type": "code",
   "execution_count": null,
   "metadata": {
    "collapsed": true
   },
   "outputs": [],
   "source": [
    "[type(r) for r in psw.results]"
   ]
  },
  {
   "cell_type": "code",
   "execution_count": null,
   "metadata": {
    "collapsed": true
   },
   "outputs": [],
   "source": [
    "gs, ns_list, na_list, abs_err, rel_err = grid_study(max_ns=24, max_na=24, const=const)\n",
    "gs"
   ]
  },
  {
   "cell_type": "code",
   "execution_count": null,
   "metadata": {
    "collapsed": true
   },
   "outputs": [],
   "source": [
    "ns_list"
   ]
  },
  {
   "cell_type": "code",
   "execution_count": null,
   "metadata": {
    "collapsed": true
   },
   "outputs": [],
   "source": [
    "na_list"
   ]
  },
  {
   "cell_type": "code",
   "execution_count": null,
   "metadata": {
    "collapsed": true
   },
   "outputs": [],
   "source": [
    "abs_err"
   ]
  },
  {
   "cell_type": "code",
   "execution_count": null,
   "metadata": {
    "collapsed": true
   },
   "outputs": [],
   "source": [
    "rel_err"
   ]
  },
  {
   "cell_type": "code",
   "execution_count": null,
   "metadata": {
    "collapsed": true
   },
   "outputs": [],
   "source": [
    "import matplotlib.pyplot as plt"
   ]
  },
  {
   "cell_type": "code",
   "execution_count": null,
   "metadata": {
    "collapsed": true
   },
   "outputs": [],
   "source": [
    "ax = plt.gca()\n",
    "plt.contour(rel_err.T, colors='k', linewidths=5)\n",
    "plt.contour(rel_err.T, colors='w', linewidths=2)\n",
    "plt.imshow(rel_err.T)\n",
    "ax.set_xticks(range(len(ns_list)))\n",
    "ax.set_yticks(range(len(na_list)))\n",
    "ax.set_xticklabels(ns_list)\n",
    "ax.set_yticklabels(na_list)\n",
    "plt.xlabel('Spatial Grid Size')\n",
    "plt.ylabel('Angular Grid Size')\n",
    "plt.title('Relative Error')\n",
    "plt.colorbar()\n",
    "plt.tight_layout()"
   ]
  },
  {
   "cell_type": "code",
   "execution_count": null,
   "metadata": {
    "collapsed": true
   },
   "outputs": [],
   "source": []
  }
 ],
 "metadata": {
  "kernelspec": {
   "display_name": "Python 3",
   "language": "python",
   "name": "python3"
  },
  "language_info": {
   "codemirror_mode": {
    "name": "ipython",
    "version": 3
   },
   "file_extension": ".py",
   "mimetype": "text/x-python",
   "name": "python",
   "nbconvert_exporter": "python",
   "pygments_lexer": "ipython3",
   "version": "3.6.3"
  }
 },
 "nbformat": 4,
 "nbformat_minor": 2
}
