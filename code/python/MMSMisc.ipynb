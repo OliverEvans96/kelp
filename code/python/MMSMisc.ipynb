{
 "cells": [
  {
   "cell_type": "markdown",
   "metadata": {},
   "source": [
    "## Numerical Solution"
   ]
  },
  {
   "cell_type": "code",
   "execution_count": null,
   "metadata": {},
   "outputs": [],
   "source": [
    "# Grid options\n",
    "ns = 16\n",
    "nz = 16\n",
    "na = 10\n",
    "nomega = na*(na-2) + 2\n",
    "\n",
    "# Domain size\n",
    "rope_spacing = 1\n",
    "zmax = 1\n",
    "\n",
    "# Solver options\n",
    "lis_opts = \"-i gmres -restart 100 -tol 1e-3\"\n",
    "num_scatters = 1\n",
    "\n",
    "# Numerical function for source expansion\n",
    "source_expansion_N = gen_series_N(source_expr, num_scatters, **param_vals)\n",
    "\n",
    "# Calculate leading order solution\n",
    "_, noscat_results = kelp_compute.solve_rte_with_callbacks_full(\n",
    "    ns, nz, na,\n",
    "    rope_spacing, zmax,\n",
    "    b, abs_sym, source_sym, source_expansion_N, bc_sym, vsf_sym,\n",
    "    num_scatters=0, fd_flag=False, lis_opts=lis_opts\n",
    ")\n",
    "\n",
    "# Calculate asymptotic solution\n",
    "_, asymptotic_results = kelp_compute.solve_rte_with_callbacks_full(\n",
    "    ns, nz, na,\n",
    "    rope_spacing, zmax,\n",
    "    b, abs_sym, source_sym, source_expansion_N, bc_sym, vsf_sym,\n",
    "    num_scatters=num_scatters, fd_flag=False, lis_opts=lis_opts\n",
    ")\n",
    "\n",
    "# Calculate finite difference solution\n",
    "_, fd_results = kelp_compute.solve_rte_with_callbacks_full(\n",
    "    ns, nz, na,\n",
    "    rope_spacing, zmax,\n",
    "    b, abs_sym, source_sym, source_expansion_N, bc_sym, vsf_sym,\n",
    "    num_scatters=0, fd_flag=True, lis_opts=lis_opts\n",
    ")\n",
    "\n",
    "# Extract numerical solutions\n",
    "noscat_sol = noscat_results['rad']\n",
    "asymptotic_sol = asymptotic_results['rad']\n",
    "fd_sol = fd_results['rad']\n",
    "\n",
    "# Evaluate true solution on same grid\n",
    "x, y, z, theta, phi = gen_grid(ns, nz, na, rope_spacing, zmax)\n",
    "true_sol = sol_func_N(x, y, z, theta, phi)\n",
    "true_irrad = irrad_func_N(x, y, z)[:,:,:,0]"
   ]
  },
  {
   "cell_type": "markdown",
   "metadata": {},
   "source": [
    "## Symbolic Solution (no scattering)"
   ]
  },
  {
   "cell_type": "code",
   "execution_count": null,
   "metadata": {},
   "outputs": [],
   "source": [
    "# Declare variables\n",
    "s, s_p, s_pp = sp.var('s, s_p, s_{pp}')\n",
    "x0, y0 = sp.var('x_0, y_0')\n",
    "vec_x0 = sp.Matrix([x0, y0, 0])"
   ]
  },
  {
   "cell_type": "code",
   "execution_count": null,
   "metadata": {},
   "outputs": [],
   "source": [
    "do_symbolic = True\n",
    "num_sym_scat = 1\n",
    "if do_symbolic:\n",
    "    # Calculate absorption and source\n",
    "    # along ray path\n",
    "    a_tilde = abs_sym(\n",
    "        *sp.simplify(\n",
    "            subs_dict(\n",
    "                vec_l0(vec_x0, vec_om, s_pp, zmax),\n",
    "                one_angle_dict\n",
    "            )\n",
    "        )\n",
    "    )\n",
    "    sigma_tilde = source_sym(\n",
    "        *sp.simplify(\n",
    "            subs_dict(\n",
    "                vec_l0(vec_x0, vec_om, s_p, zmax),\n",
    "                one_angle_dict\n",
    "            )\n",
    "        ), \n",
    "        *one_angle_tuple\n",
    "    )\n",
    "\n",
    "    # Integrate light from distributed source\n",
    "    u0_source_expr = sp.integrate(\n",
    "        sigma_tilde * sp.exp(\n",
    "            -sp.integrate(\n",
    "                a_tilde,\n",
    "                (s_pp, s_p, s)\n",
    "            )\n",
    "        ),\n",
    "        (s_p, 0, s)\n",
    "    )\n",
    "\n",
    "    # Integrate light from boundary condition\n",
    "    u0_bc_expr = (\n",
    "        bc_sym(*angle) * sp.exp(\n",
    "            -sp.integrate(\n",
    "                a_tilde,\n",
    "                (s_pp, 0, s)\n",
    "            )\n",
    "        )\n",
    "    )\n",
    "\n",
    "    # Superpose source and bc solutions\n",
    "    u0_s_expr = u0_source_expr + u0_bc_expr\n",
    "\n",
    "    # Convert to funcion of x, y, z\n",
    "    u0_func = sp.lambdify(\n",
    "        ('s', 'x_0', 'y_0'),\n",
    "        u0_s_expr,\n",
    "        modules=(\"sympy\",)\n",
    "    )\n",
    "    L_symbolic_expr = u0_func(\n",
    "        sp.Symbol('z')*sp.sec(ph),\n",
    "        sp.Symbol('x') - sp.Symbol('z')*sp.tan(ph)*sp.cos(th),\n",
    "        sp.Symbol('y') - sp.Symbol('z')*sp.tan(ph)*sp.sin(th),\n",
    "    )\n",
    "\n",
    "    # Convert to numerical function\n",
    "    L_symbolic_N = sp.lambdify(\n",
    "        space,\n",
    "        L_symbolic_expr, \n",
    "    )\n",
    "\n",
    "    # Evaluate on discrete grid\n",
    "    symbolic_sol = L_symbolic_N(x, y, z)"
   ]
  },
  {
   "cell_type": "markdown",
   "metadata": {},
   "source": [
    "## Plot"
   ]
  },
  {
   "cell_type": "markdown",
   "metadata": {},
   "source": [
    "## 1D Slices"
   ]
  },
  {
   "cell_type": "code",
   "execution_count": null,
   "metadata": {},
   "outputs": [],
   "source": [
    "plot_inds = np.zeros_like(true_sol, dtype=bool)\n",
    "plot_inds[0,0,:,p] = True\n",
    "\n",
    "# Source & abs\n",
    "plt.figure(figsize=(12,8))\n",
    "plt.subplot(2,2,1)\n",
    "plt.plot(z[plot_inds], abs_func_N(x,y,z)[plot_inds], 'C0o-', label='abs')\n",
    "plt.plot(z[plot_inds], source_func_N(x,y,z,theta,phi)[plot_inds], 'C1o-', label='source')\n",
    "plt.xlabel('z')\n",
    "plt.legend()\n",
    "\n",
    "# Solution\n",
    "plt.subplot(2,2,2)\n",
    "plt.plot(z[plot_inds], true_sol[plot_inds], 'C2o-', label='true')\n",
    "plt.plot(z[plot_inds], noscat_sol[plot_inds], 'C3o-', label='noscat')\n",
    "plt.plot(z[plot_inds], asymptotic_sol[plot_inds], 'C4o-', label='asym')\n",
    "plt.plot(z[plot_inds], fd_sol[plot_inds], 'C5o-', label='fd')\n",
    "plt.plot(z[plot_inds], symbolic_sol[plot_inds], 'C6o-', label='symbolic')\n",
    "plt.xlabel('z')\n",
    "plt.ylabel('sol')\n",
    "plt.legend()\n",
    "\n",
    "# Error\n",
    "plt.subplot(2,2,3)\n",
    "plt.plot(z[plot_inds], -true_sol[plot_inds]+true_sol[plot_inds], 'C2o-', label='true')\n",
    "plt.plot(z[plot_inds], -true_sol[plot_inds]+noscat_sol[plot_inds], 'C3o-', label='noscat')\n",
    "plt.plot(z[plot_inds], -true_sol[plot_inds]+asymptotic_sol[plot_inds], 'C4o-', label='asym')\n",
    "plt.plot(z[plot_inds], -true_sol[plot_inds]+fd_sol[plot_inds], 'C5o-', label='fd')\n",
    "plt.plot(z[plot_inds], -true_sol[plot_inds]+symbolic_sol[plot_inds], 'C6o-', label='symbolic')\n",
    "plt.xlabel('z')\n",
    "plt.ylabel('sol - true')\n",
    "plt.legend()\n",
    "\n",
    "# Log Error\n",
    "plt.subplot(2,2,4)\n",
    "plt.plot(z[plot_inds], np.log(np.abs(-true_sol[plot_inds]+noscat_sol[plot_inds])), 'C3o-', label='noscat')\n",
    "plt.plot(z[plot_inds], np.log(np.abs(-true_sol[plot_inds]+asymptotic_sol[plot_inds])), 'C4o-', label='asym')\n",
    "plt.plot(z[plot_inds], np.log(np.abs(-true_sol[plot_inds]+fd_sol[plot_inds])), 'C5o-', label='fd')\n",
    "plt.plot(z[plot_inds], np.log(np.abs(-true_sol[plot_inds]+symbolic_sol[plot_inds])), 'C6o-', label='symbolic')\n",
    "plt.xlabel('z')\n",
    "plt.ylabel('sol - true')\n",
    "plt.legend()\n",
    "\n",
    "plt.tight_layout()\n",
    "plt.show()"
   ]
  },
  {
   "cell_type": "code",
   "execution_count": null,
   "metadata": {},
   "outputs": [],
   "source": [
    "np.abs(true_sol - symbolic_sol).max()"
   ]
  },
  {
   "cell_type": "markdown",
   "metadata": {},
   "source": [
    "## 2D Slices"
   ]
  },
  {
   "cell_type": "code",
   "execution_count": null,
   "metadata": {},
   "outputs": [],
   "source": [
    "plt.figure()\n",
    "plt.contourf(x[:,0,:,0], z[:,0,:,0], true_sol[:,0,:,0])\n",
    "plt.colorbar()\n",
    "plt.title('true')\n",
    "plt.xlabel('x')\n",
    "plt.ylabel('z')\n",
    "\n",
    "plt.figure()\n",
    "plt.contourf(x[:,0,:,0], z[:,0,:,0], fd_sol[:,0,:,0])\n",
    "plt.colorbar()\n",
    "plt.title('fd')\n",
    "plt.xlabel('x')\n",
    "plt.ylabel('z')\n",
    "\n",
    "plt.figure()\n",
    "plt.contourf(x[:,0,:,0], z[:,0,:,0], noscat_sol[:,0,:,0])\n",
    "plt.colorbar()\n",
    "plt.title('noscat')\n",
    "plt.xlabel('x')\n",
    "plt.ylabel('z')\n",
    "\n",
    "plt.figure()\n",
    "plt.contourf(x[:,0,:,0], z[:,0,:,0], asymptotic_sol[:,0,:,0])\n",
    "plt.colorbar()\n",
    "plt.title('asymptotic')\n",
    "plt.xlabel('x')\n",
    "plt.ylabel('z')\n",
    "plt.show()"
   ]
  },
  {
   "cell_type": "markdown",
   "metadata": {},
   "source": [
    "## Volume Plots"
   ]
  },
  {
   "cell_type": "markdown",
   "metadata": {},
   "source": [
    "### True"
   ]
  },
  {
   "cell_type": "code",
   "execution_count": null,
   "metadata": {},
   "outputs": [],
   "source": [
    "discrete_plot.volshow_zoom_correct_scale(x[:,0,0,0], y[0,:,0,0], z[0,0,:,0], true_irrad)"
   ]
  },
  {
   "cell_type": "markdown",
   "metadata": {},
   "source": [
    "### FD"
   ]
  },
  {
   "cell_type": "code",
   "execution_count": null,
   "metadata": {},
   "outputs": [],
   "source": [
    "discrete_plot.volshow_zoom_correct_scale(x[:,0,0,0], y[0,:,0,0], z[0,0,:,0], fd_results['irrad'])"
   ]
  },
  {
   "cell_type": "markdown",
   "metadata": {},
   "source": [
    "### Noscat"
   ]
  },
  {
   "cell_type": "code",
   "execution_count": null,
   "metadata": {},
   "outputs": [],
   "source": [
    "discrete_plot.volshow_zoom_correct_scale(x[:,0,0,0], y[0,:,0,0], z[0,0,:,0], noscat_results['irrad'])"
   ]
  },
  {
   "cell_type": "markdown",
   "metadata": {},
   "source": [
    "### Asymptotics"
   ]
  },
  {
   "cell_type": "code",
   "execution_count": null,
   "metadata": {},
   "outputs": [],
   "source": [
    "discrete_plot.volshow_zoom_correct_scale(x[:,0,0,0], y[0,:,0,0], z[0,0,:,0], asymptotic_results['irrad'])"
   ]
  }
 ],
 "metadata": {
  "kernelspec": {
   "display_name": "Python 3",
   "language": "python",
   "name": "python3"
  },
  "language_info": {
   "codemirror_mode": {
    "name": "ipython",
    "version": 3
   },
   "file_extension": ".py",
   "mimetype": "text/x-python",
   "name": "python",
   "nbconvert_exporter": "python",
   "pygments_lexer": "ipython3",
   "version": "3.6.5"
  }
 },
 "nbformat": 4,
 "nbformat_minor": 2
}
