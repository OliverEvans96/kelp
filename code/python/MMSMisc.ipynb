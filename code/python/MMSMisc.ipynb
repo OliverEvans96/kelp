{
 "cells": [
  {
   "cell_type": "markdown",
   "metadata": {},
   "source": [
    "## Calculate irradiance"
   ]
  },
  {
   "cell_type": "code",
   "execution_count": 32,
   "metadata": {},
   "outputs": [],
   "source": [
    "irrad_expr = mms.sphere_integral(\n",
    "    sol_expr,\n",
    "    angle=angle\n",
    ")\n",
    "\n",
    "irrad_sym = mms.symify(irrad_expr, *space, **param_vals)\n",
    "irrad_func_N = kelp_compute.sym_to_num(irrad_sym, *space)"
   ]
  },
  {
   "cell_type": "markdown",
   "metadata": {},
   "source": [
    "## Numerical Solution"
   ]
  },
  {
   "cell_type": "code",
   "execution_count": null,
   "metadata": {},
   "outputs": [],
   "source": [
    "# Grid options\n",
    "ns = 16\n",
    "nz = 16\n",
    "na = 10\n",
    "nomega = na*(na-2) + 2\n",
    "\n",
    "# Domain size\n",
    "rope_spacing = 1\n",
    "zmax = 1\n",
    "\n",
    "# Solver options\n",
    "lis_opts = \"-i gmres -restart 100 -tol 1e-3\"\n",
    "num_scatters = 1\n",
    "\n",
    "# Numerical function for source expansion\n",
    "source_expansion_N = gen_series_N(source_expr, num_scatters, **param_vals)\n",
    "\n",
    "# Calculate leading order solution\n",
    "_, noscat_results = kelp_compute.solve_rte_with_callbacks_full(\n",
    "    ns, nz, na,\n",
    "    rope_spacing, zmax,\n",
    "    b, abs_sym, source_sym, source_expansion_N, bc_sym, vsf_sym,\n",
    "    num_scatters=0, fd_flag=False, lis_opts=lis_opts\n",
    ")\n",
    "\n",
    "# Calculate asymptotic solution\n",
    "_, asymptotic_results = kelp_compute.solve_rte_with_callbacks_full(\n",
    "    ns, nz, na,\n",
    "    rope_spacing, zmax,\n",
    "    b, abs_sym, source_sym, source_expansion_N, bc_sym, vsf_sym,\n",
    "    num_scatters=num_scatters, fd_flag=False, lis_opts=lis_opts\n",
    ")\n",
    "\n",
    "# Calculate finite difference solution\n",
    "_, fd_results = kelp_compute.solve_rte_with_callbacks_full(\n",
    "    ns, nz, na,\n",
    "    rope_spacing, zmax,\n",
    "    b, abs_sym, source_sym, source_expansion_N, bc_sym, vsf_sym,\n",
    "    num_scatters=0, fd_flag=True, lis_opts=lis_opts\n",
    ")\n",
    "\n",
    "# Extract numerical solutions\n",
    "noscat_sol = noscat_results['rad']\n",
    "asymptotic_sol = asymptotic_results['rad']\n",
    "fd_sol = fd_results['rad']\n",
    "\n",
    "# Evaluate true solution on same grid\n",
    "x, y, z, theta, phi = gen_grid(ns, nz, na, rope_spacing, zmax)\n",
    "true_sol = sol_func_N(x, y, z, theta, phi)\n",
    "true_irrad = irrad_func_N(x, y, z)[:,:,:,0]"
   ]
  },
  {
   "cell_type": "markdown",
   "metadata": {},
   "source": [
    "## Symbolic Solution (no scattering)"
   ]
  },
  {
   "cell_type": "code",
   "execution_count": null,
   "metadata": {},
   "outputs": [],
   "source": [
    "one_angle_dict = {\n",
    "    'theta': th,\n",
    "    'phi': ph\n",
    "}\n",
    "one_angle_tuple = (th, ph)"
   ]
  },
  {
   "cell_type": "code",
   "execution_count": null,
   "metadata": {},
   "outputs": [],
   "source": [
    "# Declare variables\n",
    "s, s_p, s_pp = sp.var('s, s_p, s_{pp}')\n",
    "x0, y0 = sp.var('x_0, y_0')\n",
    "vec_x0 = sp.Matrix([x0, y0, 0])"
   ]
  },
  {
   "cell_type": "code",
   "execution_count": null,
   "metadata": {},
   "outputs": [],
   "source": [
    "do_symbolic = True\n",
    "num_sym_scat = 1\n",
    "if do_symbolic:\n",
    "    # Calculate absorption and source\n",
    "    # along ray path\n",
    "    a_tilde = abs_sym(\n",
    "        *sp.simplify(\n",
    "            subs_dict(\n",
    "                vec_l0(vec_x0, vec_om, s_pp, zmax),\n",
    "                one_angle_dict\n",
    "            )\n",
    "        )\n",
    "    )\n",
    "    sigma_tilde = source_sym(\n",
    "        *sp.simplify(\n",
    "            subs_dict(\n",
    "                vec_l0(vec_x0, vec_om, s_p, zmax),\n",
    "                one_angle_dict\n",
    "            )\n",
    "        ), \n",
    "        *one_angle_tuple\n",
    "    )\n",
    "\n",
    "    # Integrate light from distributed source\n",
    "    u0_source_expr = sp.integrate(\n",
    "        sigma_tilde * sp.exp(\n",
    "            -sp.integrate(\n",
    "                a_tilde,\n",
    "                (s_pp, s_p, s)\n",
    "            )\n",
    "        ),\n",
    "        (s_p, 0, s)\n",
    "    )\n",
    "\n",
    "    # Integrate light from boundary condition\n",
    "    u0_bc_expr = (\n",
    "        bc_sym(*angle) * sp.exp(\n",
    "            -sp.integrate(\n",
    "                a_tilde,\n",
    "                (s_pp, 0, s)\n",
    "            )\n",
    "        )\n",
    "    )\n",
    "\n",
    "    # Superpose source and bc solutions\n",
    "    u0_s_expr = u0_source_expr + u0_bc_expr\n",
    "\n",
    "    # Convert to funcion of x, y, z\n",
    "    u0_func = sp.lambdify(\n",
    "        ('s', 'x_0', 'y_0'),\n",
    "        u0_s_expr,\n",
    "        modules=(\"sympy\",)\n",
    "    )\n",
    "    L_symbolic_expr = u0_func(\n",
    "        sp.Symbol('z')*sp.sec(ph),\n",
    "        sp.Symbol('x') - sp.Symbol('z')*sp.tan(ph)*sp.cos(th),\n",
    "        sp.Symbol('y') - sp.Symbol('z')*sp.tan(ph)*sp.sin(th),\n",
    "    )\n",
    "\n",
    "    # Convert to numerical function\n",
    "    L_symbolic_N = sp.lambdify(\n",
    "        space,\n",
    "        L_symbolic_expr, \n",
    "    )\n",
    "\n",
    "    # Evaluate on discrete grid\n",
    "    symbolic_sol = L_symbolic_N(x, y, z)"
   ]
  },
  {
   "cell_type": "markdown",
   "metadata": {},
   "source": [
    "## Plot"
   ]
  },
  {
   "cell_type": "markdown",
   "metadata": {},
   "source": [
    "## 1D Slices"
   ]
  },
  {
   "cell_type": "code",
   "execution_count": null,
   "metadata": {},
   "outputs": [],
   "source": [
    "plot_inds = np.zeros_like(true_sol, dtype=bool)\n",
    "plot_inds[0,0,:,p] = True\n",
    "\n",
    "# Source & abs\n",
    "plt.figure(figsize=(12,8))\n",
    "plt.subplot(2,2,1)\n",
    "plt.plot(z[plot_inds], abs_func_N(x,y,z)[plot_inds], 'C0o-', label='abs')\n",
    "plt.plot(z[plot_inds], source_func_N(x,y,z,theta,phi)[plot_inds], 'C1o-', label='source')\n",
    "plt.xlabel('z')\n",
    "plt.legend()\n",
    "\n",
    "# Solution\n",
    "plt.subplot(2,2,2)\n",
    "plt.plot(z[plot_inds], true_sol[plot_inds], 'C2o-', label='true')\n",
    "plt.plot(z[plot_inds], noscat_sol[plot_inds], 'C3o-', label='noscat')\n",
    "plt.plot(z[plot_inds], asymptotic_sol[plot_inds], 'C4o-', label='asym')\n",
    "plt.plot(z[plot_inds], fd_sol[plot_inds], 'C5o-', label='fd')\n",
    "plt.plot(z[plot_inds], symbolic_sol[plot_inds], 'C6o-', label='symbolic')\n",
    "plt.xlabel('z')\n",
    "plt.ylabel('sol')\n",
    "plt.legend()\n",
    "\n",
    "# Error\n",
    "plt.subplot(2,2,3)\n",
    "plt.plot(z[plot_inds], -true_sol[plot_inds]+true_sol[plot_inds], 'C2o-', label='true')\n",
    "plt.plot(z[plot_inds], -true_sol[plot_inds]+noscat_sol[plot_inds], 'C3o-', label='noscat')\n",
    "plt.plot(z[plot_inds], -true_sol[plot_inds]+asymptotic_sol[plot_inds], 'C4o-', label='asym')\n",
    "plt.plot(z[plot_inds], -true_sol[plot_inds]+fd_sol[plot_inds], 'C5o-', label='fd')\n",
    "plt.plot(z[plot_inds], -true_sol[plot_inds]+symbolic_sol[plot_inds], 'C6o-', label='symbolic')\n",
    "plt.xlabel('z')\n",
    "plt.ylabel('sol - true')\n",
    "plt.legend()\n",
    "\n",
    "# Log Error\n",
    "plt.subplot(2,2,4)\n",
    "plt.plot(z[plot_inds], np.log(np.abs(-true_sol[plot_inds]+noscat_sol[plot_inds])), 'C3o-', label='noscat')\n",
    "plt.plot(z[plot_inds], np.log(np.abs(-true_sol[plot_inds]+asymptotic_sol[plot_inds])), 'C4o-', label='asym')\n",
    "plt.plot(z[plot_inds], np.log(np.abs(-true_sol[plot_inds]+fd_sol[plot_inds])), 'C5o-', label='fd')\n",
    "plt.plot(z[plot_inds], np.log(np.abs(-true_sol[plot_inds]+symbolic_sol[plot_inds])), 'C6o-', label='symbolic')\n",
    "plt.xlabel('z')\n",
    "plt.ylabel('sol - true')\n",
    "plt.legend()\n",
    "\n",
    "plt.tight_layout()\n",
    "plt.show()"
   ]
  },
  {
   "cell_type": "code",
   "execution_count": null,
   "metadata": {},
   "outputs": [],
   "source": [
    "np.abs(true_sol - symbolic_sol).max()"
   ]
  },
  {
   "cell_type": "markdown",
   "metadata": {},
   "source": [
    "## 2D Slices"
   ]
  },
  {
   "cell_type": "code",
   "execution_count": null,
   "metadata": {},
   "outputs": [],
   "source": [
    "plt.figure()\n",
    "plt.contourf(x[:,0,:,0], z[:,0,:,0], true_sol[:,0,:,0])\n",
    "plt.colorbar()\n",
    "plt.title('true')\n",
    "plt.xlabel('x')\n",
    "plt.ylabel('z')\n",
    "\n",
    "plt.figure()\n",
    "plt.contourf(x[:,0,:,0], z[:,0,:,0], fd_sol[:,0,:,0])\n",
    "plt.colorbar()\n",
    "plt.title('fd')\n",
    "plt.xlabel('x')\n",
    "plt.ylabel('z')\n",
    "\n",
    "plt.figure()\n",
    "plt.contourf(x[:,0,:,0], z[:,0,:,0], noscat_sol[:,0,:,0])\n",
    "plt.colorbar()\n",
    "plt.title('noscat')\n",
    "plt.xlabel('x')\n",
    "plt.ylabel('z')\n",
    "\n",
    "plt.figure()\n",
    "plt.contourf(x[:,0,:,0], z[:,0,:,0], asymptotic_sol[:,0,:,0])\n",
    "plt.colorbar()\n",
    "plt.title('asymptotic')\n",
    "plt.xlabel('x')\n",
    "plt.ylabel('z')\n",
    "plt.show()"
   ]
  },
  {
   "cell_type": "markdown",
   "metadata": {},
   "source": [
    "## Volume Plots"
   ]
  },
  {
   "cell_type": "markdown",
   "metadata": {},
   "source": [
    "### True"
   ]
  },
  {
   "cell_type": "code",
   "execution_count": null,
   "metadata": {},
   "outputs": [],
   "source": [
    "discrete_plot.volshow_zoom_correct_scale(x[:,0,0,0], y[0,:,0,0], z[0,0,:,0], true_irrad)"
   ]
  },
  {
   "cell_type": "markdown",
   "metadata": {},
   "source": [
    "### FD"
   ]
  },
  {
   "cell_type": "code",
   "execution_count": null,
   "metadata": {},
   "outputs": [],
   "source": [
    "discrete_plot.volshow_zoom_correct_scale(x[:,0,0,0], y[0,:,0,0], z[0,0,:,0], fd_results['irrad'])"
   ]
  },
  {
   "cell_type": "markdown",
   "metadata": {},
   "source": [
    "### Noscat"
   ]
  },
  {
   "cell_type": "code",
   "execution_count": null,
   "metadata": {},
   "outputs": [],
   "source": [
    "discrete_plot.volshow_zoom_correct_scale(x[:,0,0,0], y[0,:,0,0], z[0,0,:,0], noscat_results['irrad'])"
   ]
  },
  {
   "cell_type": "markdown",
   "metadata": {},
   "source": [
    "### Asymptotics"
   ]
  },
  {
   "cell_type": "code",
   "execution_count": null,
   "metadata": {},
   "outputs": [],
   "source": [
    "discrete_plot.volshow_zoom_correct_scale(x[:,0,0,0], y[0,:,0,0], z[0,0,:,0], asymptotic_results['irrad'])"
   ]
  },
  {
   "cell_type": "markdown",
   "metadata": {},
   "source": [
    "### Calculating convergence rate the dumb way"
   ]
  },
  {
   "cell_type": "code",
   "execution_count": 190,
   "metadata": {},
   "outputs": [
    {
     "name": "stdout",
     "output_type": "stream",
     "text": [
      "ns\n",
      "err 4: 0.013038305159836724\n",
      "err 5: 0.007608520629303119\n",
      "err 6: 0.0050298034514082495\n",
      "err 7: 0.003591425934813914\n",
      "err 8: 0.002702761153780061\n",
      "err 9: 0.0021137744357448813\n",
      "err 10: 0.0017029819640249804\n",
      "err 11: 0.0014052097555597573\n",
      "err 12: 0.0011827887566821314\n",
      "err 13: 0.0010126442183582551\n",
      "err 14: 0.0008799645940137022\n",
      "err 15: 0.0007748681061444424\n",
      "err 16: 0.000690543572543439\n"
     ]
    },
    {
     "data": {
      "image/png": "[encoded data removed]",
      "text/plain": [
       "<Figure size 432x288 with 1 Axes>"
      ]
     },
     "metadata": {},
     "output_type": "display_data"
    },
    {
     "name": "stdout",
     "output_type": "stream",
     "text": [
      "nz\n",
      "err 4: 0.0012032135750432442\n",
      "err 5: 0.0009340021735807432\n",
      "err 6: 0.0007891209306822283\n",
      "err 7: 0.0007255204440690623\n",
      "err 8: 0.000690543572543439\n"
     ]
    },
    {
     "data": {
      "image/png": "[encoded data removed]",
      "text/plain": [
       "<Figure size 432x288 with 1 Axes>"
      ]
     },
     "metadata": {},
     "output_type": "display_data"
    },
    {
     "name": "stdout",
     "output_type": "stream",
     "text": [
      "ntheta\n",
      "err 4: 0.0007550665228704386\n",
      "err 6: 0.0007228774850481203\n",
      "err 8: 0.000690543572543439\n"
     ]
    },
    {
     "data": {
      "image/png": "[encoded data removed]",
      "text/plain": [
       "<Figure size 432x288 with 1 Axes>"
      ]
     },
     "metadata": {},
     "output_type": "display_data"
    },
    {
     "name": "stdout",
     "output_type": "stream",
     "text": [
      "nphi\n",
      "err 4: 0.0006536445915030987\n",
      "err 6: 0.0007111184128409173\n",
      "err 8: 0.000690543572543439\n"
     ]
    },
    {
     "data": {
      "image/png": "[encoded data removed]",
      "text/plain": [
       "<Figure size 432x288 with 1 Axes>"
      ]
     },
     "metadata": {},
     "output_type": "display_data"
    }
   ],
   "source": [
    "# Regular L2 norm\n",
    "norm = lambda x: np.linalg.norm(np.ravel(x), ord=2)\n",
    "# Make norm independent of vector size\n",
    "norm = lambda x: np.sqrt(np.sum(x**2)/np.size(x))\n",
    "# Arithmetic mean\n",
    "# norm = lambda x: np.sum(np.abs(x))/np.size(x)\n",
    "\n",
    "# ns\n",
    "print(\"ns\")\n",
    "err_dict = {}\n",
    "for ns in ns_list:\n",
    "    results_list = kelp_analyze.query_results(\n",
    "        conn, study_name, \n",
    "        ns=ns, nz=nz_max, ntheta=ntheta_max, nphi=nphi_max\n",
    "    )\n",
    "    \n",
    "    rad = results_list[0]['rad'][:]\n",
    "    true_rad = results_list[0]['true_rad'][:]\n",
    "    \n",
    "    err = norm(rad - true_rad)\n",
    "    print(\"err {}: {}\".format(ns, err))\n",
    "    err_dict[ns] = err\n",
    "\n",
    "res_arr = rope_spacing / np.array(ns_list)\n",
    "err_arr = np.array([err_dict[ns] for ns in ns_list])\n",
    "\n",
    "plot_lin_fit(\n",
    "    np.log10(res_arr), np.log10(err_arr), \n",
    "    min(np.log10(res_arr)), max(np.log10(res_arr)), \n",
    "    xlabel='ds', ylabel='err'\n",
    ")\n",
    "\n",
    "# nz\n",
    "print(\"nz\")\n",
    "err_dict = {}\n",
    "for nz in nz_list:\n",
    "    results_list = kelp_analyze.query_results(\n",
    "        conn, study_name, \n",
    "        ns=ns_max, nz=nz, ntheta=ntheta_max, nphi=nphi_max\n",
    "    )\n",
    "    \n",
    "    rad = results_list[0]['rad'][:]\n",
    "    true_rad = results_list[0]['true_rad'][:]\n",
    "    \n",
    "    err = norm(rad - true_rad)\n",
    "    print(\"err {}: {}\".format(nz, err))\n",
    "    err_dict[nz] = err\n",
    "\n",
    "res_arr = zmax / np.array(nz_list)\n",
    "err_arr = np.array([err_dict[nz] for nz in nz_list])\n",
    "\n",
    "plot_lin_fit(\n",
    "    np.log10(res_arr), np.log10(err_arr), \n",
    "    min(np.log10(res_arr)), max(np.log10(res_arr)), \n",
    "    xlabel='dz', ylabel='err'\n",
    ")\n",
    "\n",
    "# ntheta\n",
    "print(\"ntheta\")\n",
    "err_dict = {}\n",
    "for ntheta in ntheta_list:\n",
    "    results_list = kelp_analyze.query_results(\n",
    "        conn, study_name, \n",
    "        ns=ns_max, nz=nz_max, ntheta=ntheta, nphi=nphi_max\n",
    "    )\n",
    "    \n",
    "    rad = results_list[0]['rad'][:]\n",
    "    true_rad = results_list[0]['true_rad'][:]\n",
    "    \n",
    "    err = norm(rad - true_rad)\n",
    "    print(\"err {}: {}\".format(ntheta, err))\n",
    "    err_dict[ntheta] = err\n",
    "\n",
    "res_arr = 2*np.pi / np.array(ntheta_list)\n",
    "err_arr = np.array([err_dict[ntheta] for ntheta in ntheta_list])\n",
    "\n",
    "plot_lin_fit(\n",
    "    np.log10(res_arr), np.log10(err_arr), \n",
    "    min(np.log10(res_arr)), max(np.log10(res_arr)), \n",
    "    xlabel='dtheta', ylabel='err'\n",
    ")\n",
    "\n",
    "# nphi\n",
    "print(\"nphi\")\n",
    "err_dict = {}\n",
    "for nphi in nphi_list:\n",
    "    results_list = kelp_analyze.query_results(\n",
    "        conn, study_name, \n",
    "        ns=ns_max, nz=nz_max, ntheta=ntheta_max, nphi=nphi\n",
    "    )\n",
    "    \n",
    "    rad = results_list[0]['rad'][:]\n",
    "    true_rad = results_list[0]['true_rad'][:]\n",
    "    \n",
    "    err = norm(rad - true_rad)\n",
    "    print(\"err {}: {}\".format(nphi, err))\n",
    "    err_dict[nphi] = err\n",
    "\n",
    "res_arr = np.pi / np.array(nphi_list)\n",
    "err_arr = np.array([err_dict[nphi] for nphi in nphi_list])\n",
    "\n",
    "plot_lin_fit(\n",
    "    np.log10(res_arr), np.log10(err_arr), \n",
    "    min(np.log10(res_arr)), max(np.log10(res_arr)), \n",
    "    xlabel='dphi', ylabel='err'\n",
    ")"
   ]
  },
  {
   "cell_type": "markdown",
   "metadata": {},
   "source": [
    "### Test values"
   ]
  },
  {
   "cell_type": "code",
   "execution_count": null,
   "metadata": {},
   "outputs": [],
   "source": [
    "# Change nz"
   ]
  },
  {
   "cell_type": "code",
   "execution_count": null,
   "metadata": {},
   "outputs": [],
   "source": [
    "ns = 12\n",
    "nz = 12\n",
    "ntheta = 10\n",
    "nphi = 10\n",
    "grid = mms.gen_grid(ns, nz, ntheta, nphi, rope_spacing, zmax)\n",
    "x, y, z, theta, phi = grid\n",
    "x1 = x[:,0,0,0]\n",
    "y1 = y[0,:,0,0]\n",
    "z1 = z[0,0,:,0]\n",
    "results_list = kelp_analyze.query_results(\n",
    "    conn, study_name, \n",
    "    ns=ns, nz=nz, ntheta=ntheta, nphi=nphi\n",
    ")\n",
    "large_approx_rad = results_list[0]['rad'][:]\n",
    "large_approx_irrad = results_list[0]['irrad'][:]\n",
    "large_true_rad = results_list[0]['true_rad'][:]\n",
    "large_true_irrad = np.asfortranarray(np.zeros_like(large_approx_irrad))\n",
    "lu.calculate_irradiance(large_true_rad, large_true_irrad, ntheta, nphi)\n",
    "\n",
    "ns = 12\n",
    "nz = 4\n",
    "ntheta = 10\n",
    "nphi = 10\n",
    "grid = mms.gen_grid(ns, nz, ntheta, nphi, rope_spacing, zmax)\n",
    "x, y, z, theta, phi = grid\n",
    "x2 = x[:,0,0,0]\n",
    "y2 = y[0,:,0,0]\n",
    "z2 = z[0,0,:,0]\n",
    "results_list = kelp_analyze.query_results(\n",
    "    conn, study_name, \n",
    "    ns=ns, nz=nz, ntheta=ntheta, nphi=nphi\n",
    ")\n",
    "small_approx_rad = results_list[0]['rad'][:]\n",
    "small_approx_irrad = results_list[0]['irrad'][:]\n",
    "small_true_rad = results_list[0]['true_rad'][:]\n",
    "small_true_irrad = np.asfortranarray(np.zeros_like(small_approx_irrad))\n",
    "lu.calculate_irradiance(small_true_rad, small_true_irrad, ntheta, nphi)\n",
    "\n",
    "large_inds = np.zeros_like(large_approx_rad, dtype=bool)\n",
    "large_inds[3,1,:,0] = True\n",
    "\n",
    "small_inds = np.zeros_like(small_approx_rad, dtype=bool)\n",
    "small_inds[3,1,:,0] = True\n",
    "\n",
    "plt.plot(z1, large_approx_rad[large_inds], 'o-', label='large_approx')\n",
    "plt.plot(z1, large_true_rad[large_inds], 'o-', label='large_true')\n",
    "\n",
    "plt.plot(z2, small_approx_rad[small_inds], 'o-', label='small_approx')\n",
    "plt.plot(z2, small_true_rad[small_inds], 'o-', label='small_true')\n",
    "plt.legend()\n",
    "\n",
    "                                     \n",
    "#discrete_plot.volshow_zoom_correct_scale(x1, y1, z1, large_irrad, zoom_factor=3),\n",
    "#discrete_plot.volshow_zoom_correct_scale(x2, y2, z2, small_irrad, zoom_factor=3)"
   ]
  },
  {
   "cell_type": "code",
   "execution_count": null,
   "metadata": {},
   "outputs": [],
   "source": [
    "np.size(large_approx_rad)"
   ]
  },
  {
   "cell_type": "code",
   "execution_count": null,
   "metadata": {},
   "outputs": [],
   "source": [
    "np.size(small_approx_rad)"
   ]
  },
  {
   "cell_type": "code",
   "execution_count": null,
   "metadata": {},
   "outputs": [],
   "source": [
    "norm((small_approx_rad - small_true_rad))"
   ]
  },
  {
   "cell_type": "code",
   "execution_count": null,
   "metadata": {},
   "outputs": [],
   "source": [
    "norm((large_approx_rad - large_true_rad))"
   ]
  },
  {
   "cell_type": "code",
   "execution_count": null,
   "metadata": {},
   "outputs": [],
   "source": [
    "small_approx_rad - small_true_rad"
   ]
  },
  {
   "cell_type": "code",
   "execution_count": null,
   "metadata": {},
   "outputs": [],
   "source": [
    "# Check constraints for numerical solution\n",
    "# - No upwelling light from below\n",
    "print(\"bottom\")\n",
    "print(np.mean(large_approx_rad[:,:,-1,int(nomega/2):]))\n",
    "# - Periodic in x, y\n",
    "print(\"x\") \n",
    "print(np.mean(large_approx_rad[0,:,:,:]-large_approx_rad[-1,:,:,:]))\n",
    "print(\"y\") \n",
    "print(np.mean(large_approx_rad[:,0,:,:]-large_approx_rad[0,1,:,:]))\n",
    "# - BC satisfied from above\n",
    "print(\"bc above\")\n",
    "print(np.mean(large_approx_rad[:,:,0,:int(nomega/2+1)] - bc_func_N(theta[:,:,0,:int(nomega/2+1)], phi[:,:,0,:int(nomega/2+1)])))"
   ]
  },
  {
   "cell_type": "code",
   "execution_count": null,
   "metadata": {},
   "outputs": [],
   "source": [
    "discrete_plot.volshow_zoom_correct_scale(x1, y1, z1, large_approx_irrad)\n",
    "discrete_plot.volshow_zoom_correct_scale(x1, y1, z1, large_true_irrad)"
   ]
  },
  {
   "cell_type": "code",
   "execution_count": null,
   "metadata": {},
   "outputs": [],
   "source": [
    "print(\"hi\")"
   ]
  },
  {
   "cell_type": "code",
   "execution_count": null,
   "metadata": {},
   "outputs": [],
   "source": [
    "1/0"
   ]
  },
  {
   "cell_type": "markdown",
   "metadata": {},
   "source": [
    "# Single-run"
   ]
  },
  {
   "cell_type": "markdown",
   "metadata": {},
   "source": [
    "### Compute"
   ]
  },
  {
   "cell_type": "code",
   "execution_count": null,
   "metadata": {},
   "outputs": [],
   "source": [
    "# Grid options\n",
    "ns = 16\n",
    "nz = 16\n",
    "na = 10\n",
    "nomega = na*(na-2) + 2\n",
    "\n",
    "# Domain size\n",
    "rope_spacing = 1\n",
    "zmax = 1\n",
    "\n",
    "# Solver options\n",
    "lis_opts = \"-i gmres -restart 100 -tol 1e-3\"\n",
    "\n",
    "# Set num_scatters\n",
    "num_scatters_list = range(5)\n",
    "max_num_scatters = max(num_scatters_list)\n",
    "\n",
    "# Norm for error calculations\n",
    "norm = lambda arr: np.linalg.norm(np.ravel(arr), ord=2)/np.size(arr)\n",
    "\n",
    "# Numerical function for solution expansion\n",
    "sol_expansion_N = mms.gen_series_N(sol_expr, max_num_scatters, **param_vals)\n",
    "\n",
    "asymptotic_sol_dict = {}\n",
    "sol_expansion_dict = {}\n",
    "asymptotic_err_dict = {}\n",
    "sol_expansion_err_dict = {}\n",
    "\n",
    "for num_scatters in num_scatters_list:\n",
    "    print(\"n={}\".format(num_scatters))\n",
    "    # Calculate asymptotic solution\n",
    "    _, asymptotic_results = kelp_compute.solve_rte_with_callbacks_full(\n",
    "        ns, nz, na,\n",
    "        rope_spacing, zmax,\n",
    "        b, abs_expr, source_expr, source_expansion_N, bc_expr, vsf_expr,\n",
    "        param_dict, num_scatters=num_scatters, fd_flag=False, lis_opts=lis_opts\n",
    "    )\n",
    "\n",
    "    # Extract numerical solutions\n",
    "    asymptotic_sol = asymptotic_results['rad']\n",
    "    \n",
    "    # Store results\n",
    "    asymptotic_sol_dict[num_scatters] = asymptotic_sol\n",
    "    \n",
    "    # Evaluate true solution\n",
    "    x, y, z, theta, phi = mms.gen_grid(ns, nz, na, rope_spacing, zmax)\n",
    "    true_sol = sol_func_N(x, y, z, theta, phi)\n",
    "    \n",
    "    # Evaluate series expansion\n",
    "    sol_expansion = np.zeros_like(asymptotic_sol)\n",
    "    for n in range(num_scatters+1):\n",
    "        sol_expansion += b**n * sol_expansion_N(x, y, z, theta, phi, n) \n",
    "    sol_expansion_dict[num_scatters] = sol_expansion\n",
    "    \n",
    "    # Calculate errors\n",
    "    asymptotic_err = norm(asymptotic_sol-true_sol)\n",
    "    asymptotic_err_dict[num_scatters] = asymptotic_err\n",
    "    \n",
    "    sol_expansion_err = norm(sol_expansion - true_sol)\n",
    "    sol_expansion_err_dict[num_scatters] = sol_expansion_err\n",
    "\n",
    "# Evaluate true solution on same grid\n",
    "true_sol = sol_func_N(x, y, z, theta, phi)"
   ]
  },
  {
   "cell_type": "code",
   "execution_count": null,
   "metadata": {},
   "outputs": [],
   "source": [
    "# Calculate finite difference solution\n",
    "_, fd_results = kelp_compute.solve_rte_with_callbacks_full(\n",
    "    ns, nz, na,\n",
    "    rope_spacing, zmax,\n",
    "    b, abs_sym, source_sym, source_expansion_N, bc_sym, vsf_sym,\n",
    "    num_scatters=0, fd_flag=True, lis_opts=lis_opts\n",
    ")\n",
    "\n",
    "fd_sol = fd_results['rad']\n",
    "\n",
    "fd_err = norm(fd_sol-true_sol)"
   ]
  },
  {
   "cell_type": "markdown",
   "metadata": {},
   "source": [
    "### Plot"
   ]
  },
  {
   "cell_type": "code",
   "execution_count": null,
   "metadata": {},
   "outputs": [],
   "source": [
    "# Pick one angle to evaluate symbolically and plot\n",
    "l = 0\n",
    "m = int(np.floor(na/4))\n",
    "\n",
    "p = mms.p_hat(l, m, na)\n",
    "th = theta[0,0,0,p]\n",
    "ph = phi[0,0,0,p]"
   ]
  },
  {
   "cell_type": "code",
   "execution_count": null,
   "metadata": {},
   "outputs": [],
   "source": [
    "plot_inds = np.zeros_like(true_sol, dtype=bool)\n",
    "plot_inds[0,0,:,p] = True\n",
    "\n",
    "plt.figure(figsize=(12,8))\n",
    "ax1 = plt.subplot(2,2,1)\n",
    "ax2 = plt.subplot(2,2,2)\n",
    "ax3 = plt.subplot(2,2,3)\n",
    "ax4 = plt.subplot(2,2,4)\n",
    "\n",
    "# Plot true solution\n",
    "ax1.plot(z[plot_inds], true_sol[plot_inds], 'C0o-', label='true')\n",
    "\n",
    "# Plot FD solution\n",
    "ax1.plot(\n",
    "    z[plot_inds],\n",
    "    fd_sol[plot_inds], \n",
    "    'C1o-',\n",
    "    label='FD'\n",
    ")\n",
    "\n",
    "# Plot FD error\n",
    "ax2.plot(\n",
    "    z[plot_inds], \n",
    "    -true_sol[plot_inds]+fd_sol[plot_inds], \n",
    "    'C1o-',\n",
    "    label='FD'\n",
    ")\n",
    "\n",
    "ax3.plot(\n",
    "    z[plot_inds], \n",
    "    np.abs(-true_sol[plot_inds]+fd_sol[plot_inds]), \n",
    "    'C1o-',\n",
    "    label='FD'\n",
    ")\n",
    "\n",
    "for num_scatters in num_scatters_list:\n",
    "    ax1.plot(\n",
    "        z[plot_inds], \n",
    "        sol_expansion_dict[num_scatters][plot_inds], \n",
    "        'C{}o-'.format(num_scatters+2), \n",
    "        label='n={}'.format(num_scatters)\n",
    "    )\n",
    "    ax1.plot(\n",
    "        z[plot_inds], \n",
    "        asymptotic_sol_dict[num_scatters][plot_inds], \n",
    "        'C{}o--'.format(num_scatters+2)\n",
    "    )\n",
    "    \n",
    "    # Plot true expansion error\n",
    "    ax2.plot(\n",
    "        z[plot_inds], \n",
    "        -true_sol[plot_inds]+sol_expansion_dict[num_scatters][plot_inds], \n",
    "        'C{}o-'.format(num_scatters+2), \n",
    "        label='n={}'.format(num_scatters)\n",
    "    )\n",
    "    ax3.plot(\n",
    "        z[plot_inds], \n",
    "        np.abs(-true_sol[plot_inds]+sol_expansion_dict[num_scatters][plot_inds]), \n",
    "        'C{}o-'.format(num_scatters+2), \n",
    "        label='n={}'.format(num_scatters)\n",
    "    )\n",
    "    \n",
    "    # Plot numerical asymptotics error\n",
    "    ax2.plot(\n",
    "        z[plot_inds], \n",
    "        -true_sol[plot_inds]+asymptotic_sol_dict[num_scatters][plot_inds], \n",
    "        'C{}o--'.format(num_scatters+2)\n",
    "    )\n",
    "    ax3.plot(\n",
    "        z[plot_inds], \n",
    "        np.abs(-true_sol[plot_inds]+asymptotic_sol_dict[num_scatters][plot_inds]), \n",
    "        'C{}o--'.format(num_scatters+2)\n",
    "    )\n",
    "    \n",
    "    \n",
    "ax1.set_xlabel('z')\n",
    "ax1.set_ylabel('rad')\n",
    "ax1.legend()\n",
    "\n",
    "ax2.set_xlabel('z')\n",
    "ax2.set_ylabel('stripe diff')\n",
    "ax2.set_yscale('linear')\n",
    "ax2.legend()\n",
    "\n",
    "ax3.set_xlabel('z')\n",
    "ax3.set_ylabel('stripe err')\n",
    "ax3.set_yscale('log')\n",
    "ax3.legend()\n",
    "\n",
    "# FD Error\n",
    "ax4.hlines(fd_err, xmin=0, xmax=max_num_scatters, label='FD')\n",
    "\n",
    "# Asymptotics error\n",
    "ax4.plot(\n",
    "    num_scatters_list, \n",
    "    [asymptotic_err_dict[n] for n in num_scatters_list],\n",
    "    'o-',\n",
    "    label='asym. err.'\n",
    ")\n",
    "# Expansion error\n",
    "ax4.plot(\n",
    "    num_scatters_list, \n",
    "    [sol_expansion_err_dict[n] for n in num_scatters_list],\n",
    "    'o-',\n",
    "    label='series err.'\n",
    ")\n",
    "ax4.set_xlabel('n')\n",
    "ax4.set_ylabel('avg. tot. err.')\n",
    "ax4.set_yscale('linear')\n",
    "ax4.legend()"
   ]
  },
  {
   "cell_type": "code",
   "execution_count": null,
   "metadata": {},
   "outputs": [],
   "source": []
  }
 ],
 "metadata": {
  "kernelspec": {
   "display_name": "Python 3",
   "language": "python",
   "name": "python3"
  },
  "language_info": {
   "codemirror_mode": {
    "name": "ipython",
    "version": 3
   },
   "file_extension": ".py",
   "mimetype": "text/x-python",
   "name": "python",
   "nbconvert_exporter": "python",
   "pygments_lexer": "ipython3",
   "version": "3.6.5"
  }
 },
 "nbformat": 4,
 "nbformat_minor": 2
}
