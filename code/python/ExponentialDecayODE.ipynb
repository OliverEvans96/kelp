{
 "cells": [
  {
   "cell_type": "markdown",
   "metadata": {},
   "source": [
    "# Numerical Exponential Decay"
   ]
  },
  {
   "cell_type": "markdown",
   "metadata": {},
   "source": [
    "$y'(x) = -ax$\n",
    "\n",
    "$y(0) = y_0$\n",
    "\n",
    "$y(x) = e^{-ax}$"
   ]
  },
  {
   "cell_type": "code",
   "execution_count": 105,
   "metadata": {},
   "outputs": [],
   "source": [
    "import numpy as np\n",
    "from scipy.integrate import odeint\n",
    "import matplotlib.pyplot as plt\n",
    "from scipy.linalg import lstsq"
   ]
  },
  {
   "cell_type": "code",
   "execution_count": 106,
   "metadata": {},
   "outputs": [],
   "source": [
    "def dy(y, x, a):\n",
    "    return -a*y\n",
    "def ye(x, a):\n",
    "    return np.exp(-a*x)"
   ]
  },
  {
   "cell_type": "code",
   "execution_count": 107,
   "metadata": {},
   "outputs": [],
   "source": [
    "x0 = 0\n",
    "x1 = 10\n",
    "n = 6\n",
    "I0 = 1\n",
    "a = 3"
   ]
  },
  {
   "cell_type": "markdown",
   "metadata": {},
   "source": [
    "# Scipy ODEInt"
   ]
  },
  {
   "cell_type": "code",
   "execution_count": 108,
   "metadata": {},
   "outputs": [],
   "source": [
    "dx = (x1 - x0)/n\n",
    "x = np.linspace(x0, x1, n+1)\n",
    "yn = odeint(dy, I0, x, args=(a,))"
   ]
  },
  {
   "cell_type": "markdown",
   "metadata": {},
   "source": [
    "# By hand"
   ]
  },
  {
   "cell_type": "code",
   "execution_count": 109,
   "metadata": {},
   "outputs": [],
   "source": [
    "A = np.zeros([n, n])\n",
    "b = np.zeros(n)\n",
    "\n",
    "# Surface\n",
    "A[0,0] = a + 7/(5*dx)\n",
    "A[0,1] = 1/(5*dx)\n",
    "b[0] = 8*I0/5\n",
    "\n",
    "# Interior\n",
    "for i in range(1, n-1):\n",
    "    A[i,i-1] = -1/(2*dx)\n",
    "    A[i,i] = a\n",
    "    A[i,i+1] = 1/(2*dx)\n",
    "    \n",
    "# Bottom\n",
    "A[n-1,n-3] = 1/(2*dx)\n",
    "A[n-1,n-2] = -2/dx\n",
    "A[n-1,n-1] = a + 3/(2*dx)\n",
    "\n",
    "# Solve\n",
    "xh = np.linspace(x0+dx/2, x1-dx/2, n)\n",
    "yh = lstsq(A, b)[0]"
   ]
  },
  {
   "cell_type": "markdown",
   "metadata": {},
   "source": [
    "# Plot"
   ]
  },
  {
   "cell_type": "code",
   "execution_count": 110,
   "metadata": {},
   "outputs": [
    {
     "data": {
      "text/plain": [
       "<matplotlib.legend.Legend at 0x7f9189f91dd8>"
      ]
     },
     "execution_count": 110,
     "metadata": {},
     "output_type": "execute_result"
    },
    {
     "data": {
      "image/png": "[encoded data removed]",
      "text/plain": [
       "<matplotlib.figure.Figure at 0x7f9189da1160>"
      ]
     },
     "metadata": {},
     "output_type": "display_data"
    }
   ],
   "source": [
    "plt.plot(x, ye(x, a), label='exact')\n",
    "plt.plot(x, yn, 'o-', label='numerical')\n",
    "plt.plot(xh, yh, 'o-', label='by hand')\n",
    "plt.yscale('log')\n",
    "plt.legend()"
   ]
  },
  {
   "cell_type": "markdown",
   "metadata": {},
   "source": [
    "# So clearly, this is not the best technique \n",
    "(for low resolution, high absorption)"
   ]
  }
 ],
 "metadata": {
  "kernelspec": {
   "display_name": "Python 3",
   "language": "python",
   "name": "python3"
  },
  "language_info": {
   "codemirror_mode": {
    "name": "ipython",
    "version": 3
   },
   "file_extension": ".py",
   "mimetype": "text/x-python",
   "name": "python",
   "nbconvert_exporter": "python",
   "pygments_lexer": "ipython3",
   "version": "3.5.5"
  }
 },
 "nbformat": 4,
 "nbformat_minor": 2
}
