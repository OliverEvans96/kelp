{
 "cells": [
  {
   "cell_type": "markdown",
   "metadata": {},
   "source": [
    "# Imports"
   ]
  },
  {
   "cell_type": "code",
   "execution_count": 1,
   "metadata": {},
   "outputs": [],
   "source": [
    "%load_ext autoreload\n",
    "%autoreload 2"
   ]
  },
  {
   "cell_type": "code",
   "execution_count": 2,
   "metadata": {},
   "outputs": [
    {
     "name": "stderr",
     "output_type": "stream",
     "text": [
      "/home/jovyan/scratch/kelp/code/python/kelp_compute.py:31: UserWarning: matplotlib.pyplot as already been imported, this call will have no effect.\n",
      "  matplotlib.use('Agg')\n"
     ]
    }
   ],
   "source": [
    "# stdlib\n",
    "import os\n",
    "import shutil\n",
    "import sqlite3\n",
    "\n",
    "# 3rd party\n",
    "import ipyparallel as ipp\n",
    "import ipyvolume as ipv\n",
    "import ipywidgets as ipw\n",
    "import numpy as np\n",
    "from scipy.optimize import minimize\n",
    "import sympy as sp\n",
    "import matplotlib.pyplot as plt\n",
    "\n",
    "# local\n",
    "import convergence as conv\n",
    "import kelp_analyze\n",
    "import kelp_compute\n",
    "import mms\n",
    "import discrete_plot\n",
    "import run_utils as ru"
   ]
  },
  {
   "cell_type": "code",
   "execution_count": 3,
   "metadata": {},
   "outputs": [],
   "source": [
    "sp.init_printing()\n",
    "%matplotlib inline"
   ]
  },
  {
   "cell_type": "markdown",
   "metadata": {},
   "source": [
    "---"
   ]
  },
  {
   "cell_type": "markdown",
   "metadata": {},
   "source": [
    "# User-function definitions"
   ]
  },
  {
   "cell_type": "code",
   "execution_count": 4,
   "metadata": {},
   "outputs": [],
   "source": [
    "def uniform_vsf(delta):\n",
    "    return 1/(4*sp.pi)"
   ]
  },
  {
   "cell_type": "code",
   "execution_count": 5,
   "metadata": {},
   "outputs": [],
   "source": [
    "def linear_vsf(delta):\n",
    "    \"\"\"Defined on [-1, 1].\"\"\"\n",
    "    return (delta+1)/(4*sp.pi)"
   ]
  },
  {
   "cell_type": "code",
   "execution_count": 6,
   "metadata": {},
   "outputs": [],
   "source": [
    "# TODO: No upwelling light from bottom\n",
    "# Also, spatially homogeneous BC\n",
    "def prod_L(x, y, z, theta, phi, alpha, gamma):\n",
    "    return (\n",
    "        (\n",
    "            (\n",
    "                (2+sp.sin(2*sp.pi*x/alpha))\n",
    "                *(2+sp.sin(2*sp.pi*y/alpha))\n",
    "                *(sp.sin(sp.pi*z/gamma))\n",
    "            ) + sp.exp(-z/gamma)\n",
    "        )\n",
    "        * (2+sp.sin(phi))\n",
    "    )"
   ]
  },
  {
   "cell_type": "code",
   "execution_count": 7,
   "metadata": {},
   "outputs": [],
   "source": [
    "def exp_L(x, y, z, theta, phi, b, alpha, gamma):\n",
    "    return sp.exp(-2*z) - sp.exp(2*b*gamma)"
   ]
  },
  {
   "cell_type": "code",
   "execution_count": 8,
   "metadata": {},
   "outputs": [],
   "source": [
    "def expb_L(x, y, z, theta, phi, b, alpha, gamma):\n",
    "    return gamma*sp.exp(-2*b*z) - z*sp.exp(-2*b*gamma)"
   ]
  },
  {
   "cell_type": "code",
   "execution_count": 9,
   "metadata": {},
   "outputs": [],
   "source": [
    "def down_L(x, y, z, theta, phi, b, alpha, gamma):\n",
    "    return sp.Piecewise((sp.exp(-z), phi<sp.pi/2), (0, True))"
   ]
  },
  {
   "cell_type": "code",
   "execution_count": 10,
   "metadata": {},
   "outputs": [],
   "source": [
    "def zero_L(x, y, z, theta, phi, b, alpha, gamma):\n",
    "    return 0 * sp.Symbol('x')"
   ]
  },
  {
   "cell_type": "code",
   "execution_count": 11,
   "metadata": {},
   "outputs": [],
   "source": [
    "def uniform_L(x, y, z, theta, phi, b, alpha, gamma):\n",
    "    return alpha"
   ]
  },
  {
   "cell_type": "code",
   "execution_count": 12,
   "metadata": {},
   "outputs": [],
   "source": [
    "def unisinb_L(x, y, z, theta, phi, b, alpha, gamma):\n",
    "    return alpha*(1+sp.sin(b))"
   ]
  },
  {
   "cell_type": "code",
   "execution_count": 13,
   "metadata": {},
   "outputs": [],
   "source": [
    "def tanh_L(x, y, z, theta, phi, b, alpha, gamma):\n",
    "    return alpha * (2+sp.sin(z/10)) * sp.tanh((gamma-z)/10) * z * (2+sp.sin(4*sp.pi*x/alpha) + sp.sin(4*sp.pi*y/alpha)) / 5"
   ]
  },
  {
   "cell_type": "code",
   "execution_count": 14,
   "metadata": {},
   "outputs": [],
   "source": [
    "def tanh_b_L(x, y, z, theta, phi, b, alpha, gamma):\n",
    "    \"\"\"\n",
    "    alpha = rope_spacing\n",
    "    gamma = zmax\n",
    "    \"\"\"\n",
    "    return (\n",
    "        alpha * (z-gamma+sp.tanh((1+b)*(gamma-z)) / sp.tanh((1+b)*gamma))\n",
    "        * (1+z*(sp.sin(2*sp.pi*x/alpha)+sp.sin(2*sp.pi*y/alpha)))\n",
    "        *(1+sp.sin(theta+phi))\n",
    "    )"
   ]
  },
  {
   "cell_type": "code",
   "execution_count": 15,
   "metadata": {},
   "outputs": [],
   "source": [
    "def prod_a(x, y, z, alpha, gamma):\n",
    "    return 1 + (3+sp.sin(2*sp.pi*x/alpha)+sp.sin(2*sp.pi*y/alpha))*(1+sp.tanh(z-gamma))"
   ]
  },
  {
   "cell_type": "code",
   "execution_count": 16,
   "metadata": {},
   "outputs": [],
   "source": [
    "def uniform_a(x, y, z, alpha, gamma):\n",
    "    return 0.2"
   ]
  },
  {
   "cell_type": "code",
   "execution_count": 17,
   "metadata": {},
   "outputs": [],
   "source": [
    "def inv_a(x, y, z, alpha, gamma):\n",
    "    return 1/tanh_L(x, y, z, 0, 0, 0, alpha, gamma)"
   ]
  },
  {
   "cell_type": "markdown",
   "metadata": {},
   "source": [
    "### Decide here which functions to use."
   ]
  },
  {
   "cell_type": "code",
   "execution_count": 18,
   "metadata": {},
   "outputs": [],
   "source": [
    "sol_func = expb_L\n",
    "abs_func = uniform_a\n",
    "vsf_func = uniform_vsf"
   ]
  },
  {
   "cell_type": "markdown",
   "metadata": {},
   "source": [
    "---"
   ]
  },
  {
   "cell_type": "markdown",
   "metadata": {},
   "source": [
    "# Symbolic Calculations"
   ]
  },
  {
   "cell_type": "markdown",
   "metadata": {},
   "source": [
    "## Calculate source & BC"
   ]
  },
  {
   "cell_type": "code",
   "execution_count": 19,
   "metadata": {},
   "outputs": [],
   "source": [
    "b = sp.var('b')\n",
    "params = sp.var('alpha, gamma')\n",
    "\n",
    "source_expr = mms.calculate_source(sol_func, b, abs_func, vsf_func, params)\n",
    "bc_expr = mms.calculate_bc(sol_func, b, params)\n",
    "\n",
    "# Evaluate other expressions as well for consistency\n",
    "sol_expr = sol_func(*mms.space, *mms.angle, b, *params)\n",
    "abs_expr = abs_func(*mms.space, *params)\n",
    "vsf_expr = vsf_func(mms.delta)"
   ]
  },
  {
   "cell_type": "markdown",
   "metadata": {},
   "source": [
    "## Specify parameter values"
   ]
  },
  {
   "cell_type": "code",
   "execution_count": 20,
   "metadata": {},
   "outputs": [],
   "source": [
    "# Domain size\n",
    "rope_spacing = 1\n",
    "zmax = 1\n",
    "b = 0.5\n",
    "\n",
    "param_vals = {\n",
    "    'alpha': rope_spacing,\n",
    "    'gamma': zmax,\n",
    "    'b': b\n",
    "}"
   ]
  },
  {
   "cell_type": "markdown",
   "metadata": {},
   "source": [
    "## Generate symbolic and numerical functions"
   ]
  },
  {
   "cell_type": "code",
   "execution_count": 21,
   "metadata": {},
   "outputs": [],
   "source": [
    "# Generate symbolic functions\n",
    "source_sym = mms.symify(source_expr, *mms.space, *mms.angle, **param_vals)\n",
    "abs_sym = mms.symify(abs_expr, *mms.space, **param_vals)\n",
    "bc_sym = mms.symify(bc_expr, *mms.angle, **param_vals)\n",
    "vsf_sym = mms.symify(vsf_expr, mms.delta, **param_vals)\n",
    "sol_sym = mms.symify(sol_expr, *mms.space, *mms.angle, **param_vals)\n",
    "\n",
    "# Generate numerical functions\n",
    "abs_func_N = mms.sym_to_num(abs_sym, *mms.space)\n",
    "source_func_N = mms.sym_to_num(source_sym, *mms.space, *mms.angle)\n",
    "bc_func_N = mms.sym_to_num(bc_sym, *mms.angle)\n",
    "vsf_func_N = mms.sym_to_num(vsf_sym, mms.delta)\n",
    "sol_func_N = mms.sym_to_num(sol_sym, *mms.space, *mms.angle)"
   ]
  },
  {
   "cell_type": "markdown",
   "metadata": {},
   "source": [
    "## Problem Summary"
   ]
  },
  {
   "cell_type": "code",
   "execution_count": 22,
   "metadata": {},
   "outputs": [
    {
     "name": "stdout",
     "output_type": "stream",
     "text": [
      "Solution\n"
     ]
    },
    {
     "data": {
      "image/png": "[encoded data removed]",
      "text/latex": [
       "$$L = \\gamma e^{- 2 b z} - z e^{- 2 b \\gamma}$$"
      ],
      "text/plain": [
       "       -2⋅b⋅z      -2⋅b⋅γ\n",
       "L = γ⋅ℯ       - z⋅ℯ      "
      ]
     },
     "metadata": {},
     "output_type": "display_data"
    },
    {
     "name": "stdout",
     "output_type": "stream",
     "text": [
      "\n",
      "Absorption Coefficient\n"
     ]
    },
    {
     "data": {
      "image/png": "[encoded data removed]",
      "text/latex": [
       "$$a = 0.2$$"
      ],
      "text/plain": [
       "a = 0.2"
      ]
     },
     "metadata": {},
     "output_type": "display_data"
    },
    {
     "name": "stdout",
     "output_type": "stream",
     "text": [
      "\n",
      "VSF\n"
     ]
    },
    {
     "data": {
      "image/png": "[encoded data removed]",
      "text/latex": [
       "$$\\beta = \\frac{1}{4 \\pi}$$"
      ],
      "text/plain": [
       "     1 \n",
       "β = ───\n",
       "    4⋅π"
      ]
     },
     "metadata": {},
     "output_type": "display_data"
    },
    {
     "name": "stdout",
     "output_type": "stream",
     "text": [
      "Boundary Condition\n"
     ]
    },
    {
     "data": {
      "image/png": "[encoded data removed]",
      "text/latex": [
       "$$L_{0} = \\gamma$$"
      ],
      "text/plain": [
       "L₀ = γ"
      ]
     },
     "metadata": {},
     "output_type": "display_data"
    },
    {
     "name": "stdout",
     "output_type": "stream",
     "text": [
      "\n",
      "Source\n"
     ]
    },
    {
     "data": {
      "image/png": "[encoded data removed]",
      "text/latex": [
       "$$\\sigma = - b \\left(\\gamma e^{- 2 b z} - z e^{- 2 b \\gamma}\\right) + \\left(b + 0.2\\right) \\left(\\gamma e^{- 2 b z} - z e^{- 2 b \\gamma}\\right) + \\left(- 2 b \\gamma e^{- 2 b z} - e^{- 2 b \\gamma}\\right) \\cos{\\left (\\phi \\right )}$$"
      ],
      "text/plain": [
       "        ⎛   -2⋅b⋅z      -2⋅b⋅γ⎞             ⎛   -2⋅b⋅z      -2⋅b⋅γ⎞   ⎛       \n",
       "σ = - b⋅⎝γ⋅ℯ       - z⋅ℯ      ⎠ + (b + 0.2)⋅⎝γ⋅ℯ       - z⋅ℯ      ⎠ + ⎝- 2⋅b⋅γ\n",
       "\n",
       "  -2⋅b⋅z    -2⋅b⋅γ⎞       \n",
       "⋅ℯ       - ℯ      ⎠⋅cos(φ)"
      ]
     },
     "metadata": {},
     "output_type": "display_data"
    },
    {
     "name": "stdout",
     "output_type": "stream",
     "text": [
      "\n"
     ]
    }
   ],
   "source": [
    "print(\"Solution\")\n",
    "mms.display_eq('L', sol_expr)\n",
    "print()\n",
    "\n",
    "print(\"Absorption Coefficient\")\n",
    "mms.display_eq('a', abs_expr)\n",
    "print()\n",
    "\n",
    "print(\"VSF\")\n",
    "mms.display_eq('beta', vsf_expr)\n",
    "\n",
    "print(\"Boundary Condition\")\n",
    "mms.display_eq('L_0', bc_expr)\n",
    "print()\n",
    "\n",
    "print(\"Source\")\n",
    "mms.display_eq('sigma', source_expr)\n",
    "print()"
   ]
  },
  {
   "cell_type": "markdown",
   "metadata": {},
   "source": [
    "---\n",
    "\n",
    "# Symbolic Analysis"
   ]
  },
  {
   "cell_type": "markdown",
   "metadata": {},
   "source": [
    "## Check solution constraints\n",
    "\n",
    "- Everything is periodic in x, y\n",
    "- Absorption coefficient is positive\n",
    "- Boundary condition depends only on angle\n",
    "- No upwelling light from below\n",
    "- Properly normalized VSF"
   ]
  },
  {
   "cell_type": "code",
   "execution_count": 23,
   "metadata": {},
   "outputs": [
    {
     "name": "stdout",
     "output_type": "stream",
     "text": [
      "bottom: True\n",
      "x: True\n",
      "y: True\n",
      "VSF: True\n"
     ]
    }
   ],
   "source": [
    "# Check bottom BC\n",
    "print('bottom:', sp.expand(sol_expr.subs('z',sp.Symbol('gamma'))) == 0)\n",
    "\n",
    "# Check periodicity\n",
    "smax = sp.Symbol('alpha')/2\n",
    "smin = -smax\n",
    "print('x:', sp.expand(sol_expr.subs('x',smax) - sol_expr.subs('x',smin)) == 0)\n",
    "print('y:', sp.expand(sol_expr.subs('y',smax) - sol_expr.subs('y',smin)) == 0)\n",
    "\n",
    "# Check VSF normalization (Should be 1 over whole sphere, or 1/(2pi) on [-1, 1].)\n",
    "print(\n",
    "    \"VSF:\",\n",
    "    1 == sp.expand(\n",
    "        mms.sphere_integral(\n",
    "            vsf_expr.subs(\n",
    "                'Delta', \n",
    "                mms.dot(\n",
    "                    mms.vec_om, \n",
    "                    mms.vec_omp)\n",
    "            ), \n",
    "            angle=mms.angle\n",
    "        )\n",
    "    )\n",
    ")"
   ]
  },
  {
   "cell_type": "markdown",
   "metadata": {},
   "source": [
    "## Check source term\n",
    "\n",
    "If source term appears nonzero, try substituting parameters,\n",
    "then plugging in analytical solution.\n",
    "\n",
    "The result should be 0."
   ]
  },
  {
   "cell_type": "code",
   "execution_count": 24,
   "metadata": {},
   "outputs": [
    {
     "data": {
      "image/png": "[encoded data removed]",
      "text/latex": [
       "$$9.71445146547012 \\cdot 10^{-17} z - 5.55111512312578 \\cdot 10^{-17} e^{- 1.0 z}$$"
      ],
      "text/plain": [
       "                                               -1.0⋅z\n",
       "9.71445146547012e-17⋅z - 5.55111512312578e-17⋅ℯ      "
      ]
     },
     "execution_count": 24,
     "metadata": {},
     "output_type": "execute_result"
    }
   ],
   "source": [
    "diff = mms.check_sol(sol_sym, b, abs_sym, vsf_sym, source_sym)\n",
    "diff"
   ]
  },
  {
   "cell_type": "code",
   "execution_count": 25,
   "metadata": {},
   "outputs": [],
   "source": [
    "num_diff = sp.lambdify(\n",
    "    (*mms.space, *mms.angle),\n",
    "    diff,\n",
    "    modules=(\"numpy\",)\n",
    ")"
   ]
  },
  {
   "cell_type": "code",
   "execution_count": 26,
   "metadata": {},
   "outputs": [
    {
     "data": {
      "image/png": "[encoded data removed]",
      "text/latex": [
       "$$7.081884948165191e-17$$"
      ],
      "text/plain": [
       "7.081884948165191e-17"
      ]
     },
     "execution_count": 26,
     "metadata": {},
     "output_type": "execute_result"
    }
   ],
   "source": [
    "# Check numerical max on grid in case of numerical error in above expression\n",
    "np.max(num_diff(*mms.gen_grid(10, 10, 10, 10, 1, 1)))\n"
   ]
  },
  {
   "cell_type": "markdown",
   "metadata": {},
   "source": [
    "## Examine solution dervatives"
   ]
  },
  {
   "cell_type": "code",
   "execution_count": 27,
   "metadata": {},
   "outputs": [
    {
     "data": {
      "text/plain": [
       "{'x': 0, 'y': 0, 'z': 1.3191088656721561, 'theta': 0, 'phi': 0}"
      ]
     },
     "execution_count": 27,
     "metadata": {},
     "output_type": "execute_result"
    }
   ],
   "source": [
    "conv.max_derivs(sol_expr, rope_spacing, zmax, do_space=True, do_angle=True, **param_vals)"
   ]
  },
  {
   "cell_type": "code",
   "execution_count": 28,
   "metadata": {},
   "outputs": [
    {
     "data": {
      "text/plain": [
       "{'x': 0, 'y': 0, 'z': 0}"
      ]
     },
     "execution_count": 28,
     "metadata": {},
     "output_type": "execute_result"
    }
   ],
   "source": [
    "conv.max_derivs(abs_expr, rope_spacing, zmax, do_space=True, do_angle=False, **param_vals)"
   ]
  },
  {
   "cell_type": "code",
   "execution_count": 29,
   "metadata": {},
   "outputs": [
    {
     "data": {
      "text/plain": [
       "{'x': 0,\n",
       " 'y': 0,\n",
       " 'z': 1.2150511976351455,\n",
       " 'theta': 0,\n",
       " 'phi': 1.2990686379810785}"
      ]
     },
     "execution_count": 29,
     "metadata": {},
     "output_type": "execute_result"
    }
   ],
   "source": [
    "conv.max_derivs(source_expr, rope_spacing, zmax, do_space=True, do_angle=True, **param_vals)"
   ]
  },
  {
   "cell_type": "markdown",
   "metadata": {},
   "source": [
    "---\n",
    "\n",
    "# FD Verification"
   ]
  },
  {
   "cell_type": "markdown",
   "metadata": {},
   "source": [
    "## IPyParallel Setup"
   ]
  },
  {
   "cell_type": "code",
   "execution_count": 30,
   "metadata": {},
   "outputs": [
    {
     "name": "stdout",
     "output_type": "stream",
     "text": [
      "[]\n"
     ]
    }
   ],
   "source": [
    "#remote_config = kelp_param.ParamSpanRemoteConfig()\n",
    "ipc = ipp.Client()\n",
    "lv = ipc.load_balanced_view()\n",
    "dv = ipc.direct_view()\n",
    "print(ipc.ids)"
   ]
  },
  {
   "cell_type": "code",
   "execution_count": 31,
   "metadata": {},
   "outputs": [
    {
     "data": {
      "text/plain": [
       "{'unassigned': 0,\n",
       " 0: {'queue': 0, 'completed': 16, 'tasks': 0},\n",
       " 1: {'queue': 0, 'completed': 16, 'tasks': 0},\n",
       " 2: {'queue': 0, 'completed': 16, 'tasks': 0},\n",
       " 3: {'queue': 0, 'completed': 15, 'tasks': 0}}"
      ]
     },
     "execution_count": 31,
     "metadata": {},
     "output_type": "execute_result"
    }
   ],
   "source": [
    "ipc.queue_status()"
   ]
  },
  {
   "cell_type": "code",
   "execution_count": 32,
   "metadata": {},
   "outputs": [
    {
     "name": "stdout",
     "output_type": "stream",
     "text": [
      "hi\n"
     ]
    }
   ],
   "source": [
    "print(\"hi\")"
   ]
  },
  {
   "cell_type": "markdown",
   "metadata": {},
   "source": [
    "## Single Space"
   ]
  },
  {
   "cell_type": "markdown",
   "metadata": {},
   "source": [
    "### Compute"
   ]
  },
  {
   "cell_type": "code",
   "execution_count": null,
   "metadata": {
    "scrolled": true
   },
   "outputs": [],
   "source": [
    "# base_dir = os.path.join(os.environ['SCRATCH'], 'kelp-results')\n",
    "base_dir = '/home/oliver/academic/research/kelp-results'\n",
    "\n",
    "na = 6\n",
    "\n",
    "study_name = 'verify_ss_noscat_nofd_32x{}'.format(na)\n",
    "study_dir = os.path.join(base_dir, study_name)\n",
    "\n",
    "ns_list = [4, 8, 16, 32]\n",
    "#ns_list = [4, 8, 12, 16, 20]\n",
    "\n",
    "ntheta = na\n",
    "nphi = na\n",
    "\n",
    "# TODO: Don't actually delete results\n",
    "#shutil.rmtree(os.path.join(base_dir, study_name), ignore_errors=True)\n",
    "\n",
    "num_scatters = 0\n",
    "fd_flag = False\n",
    "\n",
    "b = 0\n",
    "param_vals['b'] = 0\n",
    "\n",
    "combine_thread, gs_fut = kelp_compute.verify_single_space_compute(\n",
    "    study_name, \n",
    "    ns_list, ntheta, nphi, \n",
    "    rope_spacing, zmax, b, \n",
    "    sol_expr, abs_expr, source_expr, bc_expr, vsf_expr,\n",
    "    num_scatters, fd_flag,\n",
    "    param_vals, base_dir=base_dir)"
   ]
  },
  {
   "cell_type": "markdown",
   "metadata": {},
   "source": [
    "### Plot"
   ]
  },
  {
   "cell_type": "code",
   "execution_count": null,
   "metadata": {},
   "outputs": [],
   "source": [
    "study_name = 'verify_ss_noscat_nofd_32x6'\n",
    "study_dir = os.path.join(base_dir, study_name)\n",
    "\n",
    "db_path = os.path.join(study_dir, '{}.db'.format(study_name))\n",
    "conn = sqlite3.Connection(db_path)"
   ]
  },
  {
   "cell_type": "code",
   "execution_count": null,
   "metadata": {},
   "outputs": [],
   "source": [
    "#norm = lambda x: np.linalg.norm(np.ravel(x), ord=2)\n",
    "#norm = lambda x: np.sqrt(np.sum(x)**2/np.size(x))\n",
    "norm = lambda x: np.mean(np.abs(x))\n",
    "\n",
    "dim_names = ('ns', 'nz', 'ntheta', 'nphi')\n",
    "dim_resolutions = kelp_analyze.get_res_lists(conn, study_name)\n",
    "dim_dict = dict(zip(dim_names, dim_resolutions))\n",
    "\n",
    "ns_list = dim_dict['ns']\n",
    "\n",
    "err_dict = {}\n",
    "for ns in ns_list:\n",
    "    results_list = kelp_analyze.query_results(\n",
    "        conn, study_name,\n",
    "        ns=ns,\n",
    "        nz=ns,\n",
    "    )\n",
    "\n",
    "    rad = results_list[0]['rad'][:]\n",
    "    true_rad = results_list[0]['true_rad'][:]\n",
    "\n",
    "    err = norm(rad - true_rad)\n",
    "    err_dict[ns] = err\n",
    "\n",
    "res_arr = rope_spacing / np.array(ns_list)\n",
    "err_arr = np.array([err_dict[ns] for ns in ns_list])\n",
    "\n",
    "conv.plot_lin_fit(\n",
    "    np.log(res_arr), np.log(err_arr), \n",
    "    min(np.log(res_arr))+.1, max(np.log(res_arr)), \n",
    "    xlabel='ds', ylabel='err'\n",
    ")"
   ]
  },
  {
   "cell_type": "markdown",
   "metadata": {},
   "source": [
    "## Multi-dimensional FD"
   ]
  },
  {
   "cell_type": "markdown",
   "metadata": {},
   "source": [
    "### Compute"
   ]
  },
  {
   "cell_type": "markdown",
   "metadata": {},
   "source": [
    "### Plot"
   ]
  },
  {
   "cell_type": "code",
   "execution_count": null,
   "metadata": {},
   "outputs": [],
   "source": [
    "#norm = lambda x: np.linalg.norm(np.ravel(x), ord=2)\n",
    "#norm = lambda x: np.sqrt(np.sum(x)**2/np.size(x))\n",
    "norm = lambda x: np.mean(np.abs(x))\n",
    "\n",
    "dim_names = ('ns', 'nz', 'ntheta', 'nphi')\n",
    "dim_resolutions = kelp_analyze.get_res_lists(conn, study_name)\n",
    "max_res_list = list(map(\n",
    "    max,\n",
    "    dim_resolutions\n",
    "))\n",
    "max_res_dict = {\n",
    "    name: max_res\n",
    "    for name, max_res in zip(dim_names, max_res_list)\n",
    "}\n",
    "dim_dict = dict(zip(dim_names, dim_resolutions))\n",
    "\n",
    "# Loop over dimensions\n",
    "for dim_num, dim_name in enumerate(dim_names):\n",
    "    # List of resolutions in the current dimension\n",
    "    current_dim = dim_dict[dim_name]\n",
    "    \n",
    "    print(dim_name)\n",
    "    err_dict = {}\n",
    "    for n in current_dim:\n",
    "        all_dims = {**max_res_dict, **{dim_name: n}}\n",
    "        results_list = kelp_analyze.query_results(\n",
    "            conn, study_name, \n",
    "            **all_dims\n",
    "        )\n",
    "\n",
    "        rad = results_list[0]['rad'][:]\n",
    "        true_rad = results_list[0]['true_rad'][:]\n",
    "\n",
    "        err = norm(rad - true_rad)\n",
    "        err_dict[n] = err\n",
    "\n",
    "    res_arr = rope_spacing / np.array(current_dim)\n",
    "    err_arr = np.array([err_dict[n] for n in current_dim])\n",
    "\n",
    "    conv.plot_lin_fit(\n",
    "        np.log(res_arr), np.log(err_arr), \n",
    "        min(np.log(res_arr)), max(np.log(res_arr)), \n",
    "        xlabel='d'+dim_name[1:], ylabel='err'\n",
    "    )"
   ]
  },
  {
   "cell_type": "markdown",
   "metadata": {},
   "source": [
    "# Asymptotics Verification"
   ]
  },
  {
   "cell_type": "markdown",
   "metadata": {},
   "source": [
    "## Sourceless"
   ]
  },
  {
   "cell_type": "markdown",
   "metadata": {},
   "source": [
    "### 1D, Uniform abs."
   ]
  },
  {
   "cell_type": "markdown",
   "metadata": {},
   "source": [
    "#### Compute"
   ]
  },
  {
   "cell_type": "code",
   "execution_count": null,
   "metadata": {
    "scrolled": true
   },
   "outputs": [],
   "source": [
    "# base_dir = os.path.join(os.environ['SCRATCH'], 'kelp-results')\n",
    "base_dir = '/home/oliver/academic/research/kelp-results'\n",
    "\n",
    "nz = 20\n",
    "\n",
    "nz_list = [nz]\n",
    "\n",
    "study_name = 'verify_asym_noscat_1d_uniform_abs_{}'.format(nz)\n",
    "study_dir = os.path.join(base_dir, study_name)\n",
    "\n",
    "noscat_bc_expr = 1.0\n",
    "noscat_abs_expr = 1.0\n",
    "\n",
    "ntheta = na\n",
    "nphi = na\n",
    "\n",
    "# TODO: Don't actually delete results\n",
    "shutil.rmtree(os.path.join(base_dir, study_name), ignore_errors=True)\n",
    "\n",
    "combine_thread, gs_fut = kelp_compute.verify_asym_noscat_1d_compute(\n",
    "    study_name, \n",
    "    nz_list,\n",
    "    rope_spacing, zmax, \n",
    "    noscat_abs_expr, noscat_bc_expr,\n",
    "    param_vals, base_dir=base_dir\n",
    ")"
   ]
  },
  {
   "cell_type": "markdown",
   "metadata": {},
   "source": [
    "#### Plot"
   ]
  },
  {
   "cell_type": "code",
   "execution_count": null,
   "metadata": {},
   "outputs": [],
   "source": [
    "study_name = 'verify_asym_noscat_1d_uniform_abs_20'\n",
    "study_dir = os.path.join(base_dir, study_name)"
   ]
  },
  {
   "cell_type": "code",
   "execution_count": null,
   "metadata": {},
   "outputs": [],
   "source": [
    "db_path = os.path.join(study_dir, '{}.db'.format(study_name))\n",
    "conn = sqlite3.Connection(db_path)"
   ]
  },
  {
   "cell_type": "code",
   "execution_count": null,
   "metadata": {},
   "outputs": [],
   "source": [
    "#norm = lambda x: np.linalg.norm(np.ravel(x), ord=2)\n",
    "#norm = lambda x: np.sqrt(np.sum(x)**2/np.size(x))\n",
    "norm = lambda x: np.mean(np.abs(x))\n",
    "\n",
    "results_list = kelp_analyze.query_results(\n",
    "    conn, study_name,\n",
    ")\n",
    "\n",
    "results = results_list[0]\n",
    "rad = results['rad'][:][:,:,:,0]\n",
    "true_rad = results['true_rad'][:][:,:,:,0]\n",
    "\n",
    "avg_rad = np.mean(rad, axis=(0, 1))\n",
    "avg_true_rad = np.mean(true_rad, axis=(0, 1))\n",
    "\n",
    "err = norm(rad - true_rad)\n",
    "\n",
    "print(\"err = {:.2f}\".format(err))\n",
    "\n",
    "\n",
    "_, _, z, _, _ = mms.gen_grid(\n",
    "    *map(\n",
    "        lambda x: int(results[x][:].data),\n",
    "        ('ns', 'nz', 'ntheta', 'nphi', 'rope_spacing', 'zmax')\n",
    "    )\n",
    ")\n",
    "\n",
    "z = z[0,0,:,0]\n",
    "\n",
    "plt.plot(z, avg_rad, 'o-', label='approx.')\n",
    "plt.plot(z, avg_true_rad, 'o-', label='true')\n",
    "plt.legend()\n",
    "plt.xlabel('z')\n",
    "plt.ylabel('avg rad')"
   ]
  },
  {
   "cell_type": "markdown",
   "metadata": {},
   "source": [
    "### 1D, Non-uniform abs., increase nz"
   ]
  },
  {
   "cell_type": "markdown",
   "metadata": {},
   "source": [
    "#### Compute"
   ]
  },
  {
   "cell_type": "code",
   "execution_count": null,
   "metadata": {
    "scrolled": true
   },
   "outputs": [],
   "source": [
    "# base_dir = os.path.join(os.environ['SCRATCH'], 'kelp-results')\n",
    "base_dir = '/home/oliver/academic/research/kelp-results'\n",
    "\n",
    "nz_list = [4, 8, 12, 20, 40, 100]\n",
    "\n",
    "study_name = 'verify_asym_noscat_1d_variable_abs_{}'.format(max(nz_list))\n",
    "study_dir = os.path.join(base_dir, study_name)\n",
    "\n",
    "noscat_bc_expr = 1.0\n",
    "noscat_abs_expr = 2 + sp.sin(10*sp.Symbol('z'))\n",
    "\n",
    "ntheta = na\n",
    "nphi = na\n",
    "\n",
    "# TODO: Don't actually delete results\n",
    "#shutil.rmtree(os.path.join(base_dir, study_name), ignore_errors=True)\n",
    "\n",
    "combine_thread, gs_fut = kelp_compute.verify_asym_noscat_1d_compute(\n",
    "    study_name, \n",
    "    nz_list,\n",
    "    rope_spacing, zmax, \n",
    "    noscat_abs_expr, noscat_bc_expr,\n",
    "    param_vals, base_dir=base_dir\n",
    ")"
   ]
  },
  {
   "cell_type": "markdown",
   "metadata": {},
   "source": [
    "#### Plot"
   ]
  },
  {
   "cell_type": "code",
   "execution_count": null,
   "metadata": {},
   "outputs": [],
   "source": [
    "study_name = 'verify_asym_noscat_1d_variable_abs_100'\n",
    "study_dir = os.path.join(base_dir, study_name)\n",
    "\n",
    "db_path = os.path.join(study_dir, '{}.db'.format(study_name))\n",
    "conn = sqlite3.Connection(db_path)"
   ]
  },
  {
   "cell_type": "code",
   "execution_count": null,
   "metadata": {},
   "outputs": [],
   "source": [
    "#norm = lambda x: np.linalg.norm(np.ravel(x), ord=2)\n",
    "#norm = lambda x: np.sqrt(np.sum(x)**2/np.size(x))\n",
    "norm = lambda x: np.mean(np.abs(x))\n",
    "\n",
    "dim_names = ('ns', 'nz', 'ntheta', 'nphi')\n",
    "dim_resolutions = kelp_analyze.get_res_lists(conn, study_name)\n",
    "dim_dict = dict(zip(dim_names, dim_resolutions))\n",
    "\n",
    "nz_list = dim_dict['nz']\n",
    "\n",
    "err_dict = {}\n",
    "for nz in nz_list:\n",
    "    results_list = kelp_analyze.query_results(\n",
    "        conn, study_name,\n",
    "        nz=nz,\n",
    "    )\n",
    "\n",
    "    rad = results_list[0]['rad'][:,:,:,0]\n",
    "    true_rad = results_list[0]['true_rad'][:,:,:,0]\n",
    "\n",
    "    err = norm(rad - true_rad)\n",
    "    err_dict[nz] = err\n",
    "\n",
    "res_arr = zmax / np.array(nz_list)\n",
    "err_arr = np.array([err_dict[nz] for nz in nz_list])\n",
    "\n",
    "conv.plot_lin_fit(\n",
    "    np.log10(res_arr), np.log10(err_arr), \n",
    "    min(np.log10(res_arr)), max(np.log10(res_arr)), \n",
    "    xlabel='log10 dz', ylabel='log10 err'\n",
    ")\n"
   ]
  },
  {
   "cell_type": "markdown",
   "metadata": {},
   "source": [
    "## Full MMS"
   ]
  },
  {
   "cell_type": "markdown",
   "metadata": {},
   "source": [
    "### 3D, noscat., const. abs., source"
   ]
  },
  {
   "cell_type": "markdown",
   "metadata": {},
   "source": [
    "#### Compute"
   ]
  },
  {
   "cell_type": "code",
   "execution_count": null,
   "metadata": {
    "scrolled": true
   },
   "outputs": [],
   "source": [
    "# base_dir = os.path.join(os.environ['SCRATCH'], 'kelp-results')\n",
    "base_dir = '/home/oliver/academic/research/kelp-results'\n",
    "\n",
    "ns = 20\n",
    "nz = 20\n",
    "na = 6\n",
    "\n",
    "study_name = 'verify_ss_noscat_const_abs_scat_{}x{}x{}'.format(ns, nz, na)\n",
    "study_dir = os.path.join(base_dir, study_name)\n",
    "\n",
    "ns_list = [4, 8, 16, 32]\n",
    "#ns_list = [4, 8, 12, 16, 20]\n",
    "\n",
    "ntheta = na\n",
    "nphi = na\n",
    "\n",
    "sigma = 1\n",
    "a = 1\n",
    "\n",
    "# TODO: Don't actually delete results\n",
    "shutil.rmtree(os.path.join(base_dir, study_name), ignore_errors=True)\n",
    "\n",
    "b = 0\n",
    "param_vals['b'] = 0\n",
    "\n",
    "combine_thread, gs_fut = kelp_compute.verify_asym_noscat_const_abs_and_source_compute(\n",
    "    study_name, \n",
    "    ns, nz, ntheta, nphi, \n",
    "    a, sigma,\n",
    "    rope_spacing, zmax,\n",
    "    param_vals, base_dir=base_dir\n",
    ")"
   ]
  },
  {
   "cell_type": "markdown",
   "metadata": {},
   "source": [
    "#### Plot"
   ]
  },
  {
   "cell_type": "code",
   "execution_count": null,
   "metadata": {},
   "outputs": [],
   "source": [
    "study_name = 'verify_ss_noscat_const_abs_scat_20x20x6'\n",
    "study_dir = os.path.join(base_dir, study_name)\n",
    "\n",
    "db_path = os.path.join(study_dir, '{}.db'.format(study_name))\n",
    "conn = sqlite3.Connection(db_path)"
   ]
  },
  {
   "cell_type": "markdown",
   "metadata": {},
   "source": [
    "##### rad. vs. depth"
   ]
  },
  {
   "cell_type": "code",
   "execution_count": null,
   "metadata": {},
   "outputs": [],
   "source": [
    "#norm = lambda x: np.linalg.norm(np.ravel(x), ord=2)\n",
    "#norm = lambda x: np.sqrt(np.sum(x)**2/np.size(x))\n",
    "norm = lambda x: np.mean(np.abs(x))\n",
    "\n",
    "dim_names = ('ns', 'nz', 'ntheta', 'nphi')\n",
    "dim_resolutions = kelp_analyze.get_res_lists(conn, study_name)\n",
    "dim_dict = dict(zip(dim_names, dim_resolutions))\n",
    "\n",
    "ns_list = dim_dict['ns']\n",
    "\n",
    "plt.figure(1)\n",
    "plt.figure(2)\n",
    "\n",
    "results_list = kelp_analyze.query_results(\n",
    "    conn, study_name,\n",
    "    ns=ns,\n",
    ")\n",
    "\n",
    "results = results_list[0]\n",
    "nomega = results['nomega'][:]\n",
    "\n",
    "p = 0 #nomega - 1\n",
    "\n",
    "rad = results['rad'][:][:,:,:,p]\n",
    "true_rad = results['true_rad'][:][:,:,:,p]\n",
    "\n",
    "avg_rad = np.mean(rad, axis=(0, 1))\n",
    "avg_true_rad = np.mean(true_rad, axis=(0, 1))\n",
    "\n",
    "err = norm(rad - true_rad)\n",
    "\n",
    "print(\"err = {:.2f}\".format(err))\n",
    "\n",
    "\n",
    "_, _, z, _, _ = mms.gen_grid(\n",
    "    *map(\n",
    "        lambda x: int(results[x][:].data),\n",
    "        ('ns', 'nz', 'ntheta', 'nphi', 'rope_spacing', 'zmax')\n",
    "    )\n",
    ")\n",
    "\n",
    "z = z[0,0,:,0]\n",
    "\n",
    "plt.figure(1)\n",
    "plt.plot(z, avg_rad, 'o-', label='ns={}'.format(ns))\n",
    "\n",
    "plt.figure(2)\n",
    "plt.semilogy(z, np.abs(avg_rad - avg_true_rad), 'o-', label='ns={}'.format(ns))\n",
    "\n",
    "plt.figure(1)\n",
    "plt.plot(z, avg_true_rad, 'o-', label='true')\n",
    "plt.legend()\n",
    "plt.xlabel('z')\n",
    "plt.ylabel('avg rad')\n",
    "\n",
    "plt.figure(2)\n",
    "plt.legend()\n",
    "plt.xlabel('z')\n",
    "plt.ylabel('|avg rad - true|')"
   ]
  },
  {
   "cell_type": "markdown",
   "metadata": {},
   "source": [
    "### 3D, ss. conv., noscat., no bc., sym. soln."
   ]
  },
  {
   "cell_type": "markdown",
   "metadata": {},
   "source": [
    "#### Compute"
   ]
  },
  {
   "cell_type": "code",
   "execution_count": null,
   "metadata": {
    "scrolled": true
   },
   "outputs": [],
   "source": [
    "# base_dir = os.path.join(os.environ['SCRATCH'], 'kelp-results')\n",
    "base_dir = '/home/oliver/academic/research/kelp-results'\n",
    "\n",
    "na = 8\n",
    "\n",
    "study_name = 'verify_ss_asym_noscat_nobc_const_abs_pp_source_32x{}'.format(na)\n",
    "study_dir = os.path.join(base_dir, study_name)\n",
    "\n",
    "#ns_list = [10]\n",
    "ns_list = [4, 8, 16, 32]\n",
    "#ns_list = [4, 8, 12, 16, 20]\n",
    "\n",
    "ntheta = na\n",
    "nphi = na\n",
    "\n",
    "# TODO: Don't actually delete results\n",
    "shutil.rmtree(os.path.join(base_dir, study_name), ignore_errors=True)\n",
    "\n",
    "num_scatters = 0\n",
    "fd_flag = False\n",
    "\n",
    "param_vals['b'] = 0\n",
    "bc_expr = 0\n",
    "\n",
    "asym_abs_expr = 1 #+ sum(mms.space)\n",
    "asym_source_expr = 1 + sp.sin(2*sp.pi * sp.Symbol('z')) #+ sum((*mms.space, *mms.angle))\n",
    "\n",
    "combine_thread, gs_fut = kelp_compute.verify_ss_asym_noscat_compute(\n",
    "    study_name, \n",
    "    ns_list, ntheta, nphi, \n",
    "    asym_abs_expr, asym_source_expr, bc_expr,\n",
    "    rope_spacing, zmax,\n",
    "    param_vals, base_dir=base_dir\n",
    ")"
   ]
  },
  {
   "cell_type": "markdown",
   "metadata": {},
   "source": [
    "#### Plot"
   ]
  },
  {
   "cell_type": "code",
   "execution_count": null,
   "metadata": {},
   "outputs": [],
   "source": [
    "study_name = 'verify_ss_asym_noscat_nobc_const_abs_pp_source_32x8'\n",
    "study_dir = os.path.join(base_dir, study_name)\n",
    "\n",
    "db_path = os.path.join(study_dir, '{}.db'.format(study_name))\n",
    "conn = sqlite3.Connection(db_path)"
   ]
  },
  {
   "cell_type": "markdown",
   "metadata": {},
   "source": [
    "##### rad. vs. depth"
   ]
  },
  {
   "cell_type": "code",
   "execution_count": null,
   "metadata": {},
   "outputs": [],
   "source": [
    "#norm = lambda x: np.linalg.norm(np.ravel(x), ord=2)\n",
    "#norm = lambda x: np.sqrt(np.sum(x)**2/np.size(x))\n",
    "norm = lambda x: np.mean(np.abs(x))\n",
    "\n",
    "dim_names = ('ns', 'nz', 'ntheta', 'nphi')\n",
    "dim_resolutions = kelp_analyze.get_res_lists(conn, study_name)\n",
    "dim_dict = dict(zip(dim_names, dim_resolutions))\n",
    "\n",
    "ns_list = dim_dict['ns']\n",
    "\n",
    "plt.figure(1)\n",
    "plt.figure(2)\n",
    "\n",
    "for ns in ns_list:\n",
    "    results_list = kelp_analyze.query_results(\n",
    "        conn, study_name,\n",
    "        ns=ns,\n",
    "    )\n",
    "    results = results_list[0]\n",
    "    \n",
    "    nomega = results['nomega'][:]\n",
    "    \n",
    "    p = nomega - 1\n",
    "\n",
    "    rad = results['rad'][:][:,:,:,p]\n",
    "    true_rad = results['true_rad'][:][:,:,:,p]\n",
    "\n",
    "    avg_rad = np.mean(rad, axis=(0, 1))\n",
    "    avg_true_rad = np.mean(true_rad, axis=(0, 1))\n",
    "\n",
    "    err = norm(rad - true_rad)\n",
    "\n",
    "    print(\"err = {:.2f}\".format(err))\n",
    "\n",
    "\n",
    "    _, _, z, _, _ = mms.gen_grid(\n",
    "        *map(\n",
    "            lambda x: int(results[x][:].data),\n",
    "            ('ns', 'nz', 'ntheta', 'nphi', 'rope_spacing', 'zmax')\n",
    "        )\n",
    "    )\n",
    "\n",
    "    z = z[0,0,:,0]\n",
    "\n",
    "    plt.figure(1)\n",
    "    plt.plot(z, avg_rad, 'o-', label='ns={}'.format(ns))\n",
    "    \n",
    "    plt.figure(2)\n",
    "    plt.semilogy(z, np.abs(avg_rad - avg_true_rad), 'o-', label='ns={}'.format(ns))\n",
    "\n",
    "plt.figure(1)\n",
    "plt.plot(z, avg_true_rad, 'o-', label='true')\n",
    "plt.legend()\n",
    "plt.xlabel('z')\n",
    "plt.ylabel('avg rad')\n",
    "\n",
    "plt.figure(2)\n",
    "plt.legend()\n",
    "plt.xlabel('z')\n",
    "plt.ylabel('|avg rad - true|')"
   ]
  },
  {
   "cell_type": "markdown",
   "metadata": {},
   "source": [
    "##### err. vs. ds"
   ]
  },
  {
   "cell_type": "code",
   "execution_count": null,
   "metadata": {},
   "outputs": [],
   "source": [
    "#norm = lambda x: np.linalg.norm(np.ravel(x), ord=2)\n",
    "#norm = lambda x: np.sqrt(np.sum(x)**2/np.size(x))\n",
    "norm = lambda x: np.mean(np.abs(x))\n",
    "\n",
    "dim_names = ('ns', 'nz', 'ntheta', 'nphi')\n",
    "dim_resolutions = kelp_analyze.get_res_lists(conn, study_name)\n",
    "dim_dict = dict(zip(dim_names, dim_resolutions))\n",
    "\n",
    "ns_list = dim_dict['ns']\n",
    "\n",
    "err_dict = {}\n",
    "for ns in ns_list:\n",
    "    results_list = kelp_analyze.query_results(\n",
    "        conn, study_name,\n",
    "        ns=ns,\n",
    "    )\n",
    "\n",
    "    rad = results_list[0]['rad'][:]\n",
    "    true_rad = results_list[0]['true_rad'][:]\n",
    "\n",
    "    err = norm(rad - true_rad)\n",
    "    err_dict[ns] = err\n",
    "\n",
    "res_arr = rope_spacing / np.array(ns_list)\n",
    "err_arr = np.array([err_dict[ns] for ns in ns_list])\n",
    "\n",
    "conv.plot_lin_fit(\n",
    "    np.log10(res_arr), np.log10(err_arr), \n",
    "    min(np.log10(res_arr)), max(np.log10(res_arr)), \n",
    "    xlabel='log10 ds', ylabel='log10 err'\n",
    ")"
   ]
  },
  {
   "cell_type": "markdown",
   "metadata": {},
   "source": [
    "### 3D, ss. conv., noscat."
   ]
  },
  {
   "cell_type": "markdown",
   "metadata": {},
   "source": [
    "#### Compute"
   ]
  },
  {
   "cell_type": "code",
   "execution_count": null,
   "metadata": {},
   "outputs": [],
   "source": [
    "print(gs_fut[0].stdout)"
   ]
  },
  {
   "cell_type": "code",
   "execution_count": null,
   "metadata": {
    "scrolled": true
   },
   "outputs": [],
   "source": [
    "# base_dir = os.path.join(os.environ['SCRATCH'], 'kelp-results')\n",
    "base_dir = '/home/oliver/academic/research/kelp-results'\n",
    "\n",
    "na = 6\n",
    "\n",
    "study_name = 'verify_ss_noscat_nofd_32x{}'.format(na)\n",
    "study_dir = os.path.join(base_dir, study_name)\n",
    "\n",
    "ns_list = [4, 8, 16, 32]\n",
    "#ns_list = [4, 8, 12, 16, 20]\n",
    "\n",
    "ntheta = na\n",
    "nphi = na\n",
    "\n",
    "# TODO: Don't actually delete results\n",
    "# shutil.rmtree(os.path.join(base_dir, study_name), ignore_errors=True)\n",
    "\n",
    "num_scatters = 0\n",
    "fd_flag = False\n",
    "\n",
    "b = 0\n",
    "param_vals['b'] = 0\n",
    "\n",
    "combine_thread, gs_fut = kelp_compute.verify_single_space_compute(\n",
    "    study_name, \n",
    "    ns_list, ntheta, nphi, \n",
    "    rope_spacing, zmax, b, \n",
    "    sol_expr, abs_expr, source_expr, bc_expr, vsf_expr,\n",
    "    num_scatters, fd_flag,\n",
    "    param_vals, base_dir=base_dir)"
   ]
  },
  {
   "cell_type": "markdown",
   "metadata": {},
   "source": [
    "#### Plot"
   ]
  },
  {
   "cell_type": "code",
   "execution_count": null,
   "metadata": {},
   "outputs": [],
   "source": [
    "study_name = 'verify_ss_noscat_nofd_32x6'\n",
    "study_dir = os.path.join(base_dir, study_name)\n",
    "\n",
    "db_path = os.path.join(study_dir, '{}.db'.format(study_name))\n",
    "conn = sqlite3.Connection(db_path)"
   ]
  },
  {
   "cell_type": "markdown",
   "metadata": {},
   "source": [
    "##### rad. vs. depth"
   ]
  },
  {
   "cell_type": "code",
   "execution_count": null,
   "metadata": {},
   "outputs": [],
   "source": [
    "#norm = lambda x: np.linalg.norm(np.ravel(x), ord=2)\n",
    "#norm = lambda x: np.sqrt(np.sum(x)**2/np.size(x))\n",
    "norm = lambda x: np.mean(np.abs(x))\n",
    "\n",
    "dim_names = ('ns', 'nz', 'ntheta', 'nphi')\n",
    "dim_resolutions = kelp_analyze.get_res_lists(conn, study_name)\n",
    "dim_dict = dict(zip(dim_names, dim_resolutions))\n",
    "\n",
    "ns_list = dim_dict['ns']\n",
    "\n",
    "plt.figure(1)\n",
    "plt.figure(2)\n",
    "\n",
    "for ns in ns_list:\n",
    "    results_list = kelp_analyze.query_results(\n",
    "        conn, study_name,\n",
    "        ns=ns,\n",
    "    )\n",
    "    \n",
    "    p = 13\n",
    "\n",
    "    results = results_list[0]\n",
    "    rad = results['rad'][:][:,:,:,p]\n",
    "    true_rad = results['true_rad'][:][:,:,:,p]\n",
    "\n",
    "    avg_rad = np.mean(rad, axis=(0, 1))\n",
    "    avg_true_rad = np.mean(true_rad, axis=(0, 1))\n",
    "\n",
    "    err = norm(rad - true_rad)\n",
    "\n",
    "    print(\"err = {:.2f}\".format(err))\n",
    "\n",
    "\n",
    "    _, _, z, _, _ = mms.gen_grid(\n",
    "        *map(\n",
    "            lambda x: int(results[x][:].data),\n",
    "            ('ns', 'nz', 'ntheta', 'nphi', 'rope_spacing', 'zmax')\n",
    "        )\n",
    "    )\n",
    "\n",
    "    z = z[0,0,:,0]\n",
    "\n",
    "    plt.figure(1)\n",
    "    plt.plot(z, avg_rad, 'o-', label='ns={}'.format(ns))\n",
    "    \n",
    "    plt.figure(2)\n",
    "    plt.semilogy(z, np.abs(avg_rad - avg_true_rad), 'o-', label='ns={}'.format(ns))\n",
    "\n",
    "plt.figure(1)\n",
    "plt.plot(z, avg_true_rad, 'o-', label='true')\n",
    "plt.legend()\n",
    "plt.xlabel('z')\n",
    "plt.ylabel('avg rad')\n",
    "\n",
    "plt.figure(2)\n",
    "plt.xlabel('z')\n",
    "plt.ylabel('|avg rad - true|')"
   ]
  },
  {
   "cell_type": "markdown",
   "metadata": {},
   "source": [
    "##### err. vs. ds"
   ]
  },
  {
   "cell_type": "code",
   "execution_count": null,
   "metadata": {},
   "outputs": [],
   "source": [
    "#norm = lambda x: np.linalg.norm(np.ravel(x), ord=2)\n",
    "#norm = lambda x: np.sqrt(np.sum(x)**2/np.size(x))\n",
    "norm = lambda x: np.mean(np.abs(x))\n",
    "\n",
    "dim_names = ('ns', 'nz', 'ntheta', 'nphi')\n",
    "dim_resolutions = kelp_analyze.get_res_lists(conn, study_name)\n",
    "dim_dict = dict(zip(dim_names, dim_resolutions))\n",
    "\n",
    "ns_list = dim_dict['ns']\n",
    "\n",
    "err_dict = {}\n",
    "for ns in ns_list:\n",
    "    results_list = kelp_analyze.query_results(\n",
    "        conn, study_name,\n",
    "        ns=ns,\n",
    "        nz=ns,\n",
    "    )\n",
    "\n",
    "    rad = results_list[0]['rad'][:]\n",
    "    true_rad = results_list[0]['true_rad'][:]\n",
    "\n",
    "    err = norm(rad - true_rad)\n",
    "    err_dict[ns] = err\n",
    "\n",
    "res_arr = rope_spacing / np.array(ns_list)\n",
    "err_arr = np.array([err_dict[ns] for ns in ns_list])\n",
    "\n",
    "conv.plot_lin_fit(\n",
    "    np.log10(res_arr), np.log10(err_arr), \n",
    "    min(np.log10(res_arr)), max(np.log10(res_arr)), \n",
    "    xlabel='log10 ds', ylabel='log10 err'\n",
    ")"
   ]
  },
  {
   "cell_type": "markdown",
   "metadata": {},
   "source": [
    "### asym. conv. as $b \\to 0$"
   ]
  },
  {
   "cell_type": "markdown",
   "metadata": {},
   "source": [
    "#### Compute"
   ]
  },
  {
   "cell_type": "code",
   "execution_count": null,
   "metadata": {},
   "outputs": [],
   "source": [
    "print(\"hi\")"
   ]
  },
  {
   "cell_type": "code",
   "execution_count": 37,
   "metadata": {
    "scrolled": true
   },
   "outputs": [
    {
     "name": "stdout",
     "output_type": "stream",
     "text": [
      "Creating new study directory.\n",
      "Running asym.: (0.00,  0)\n",
      "Running asym.: (0.00,  1)\n",
      "Running asym.: (0.00,  2)\n",
      "Running asym.: (0.00,  0)\n",
      "Running asym.: (0.00,  1)\n",
      "Running asym.: (0.00,  2)\n",
      "Running asym.: (0.00,  0)\n",
      "Running asym.: (0.00,  1)\n",
      "Running asym.: (0.00,  2)\n",
      "Running asym.: (0.00,  0)\n",
      "Running asym.: (0.00,  1)\n",
      "Running asym.: (0.00,  2)\n",
      "Running asym.: (0.01,  0)\n",
      "Running asym.: (0.01,  1)\n",
      "Running asym.: (0.01,  2)\n",
      "Running asym.: (0.01,  0)\n",
      "Running asym.: (0.01,  1)\n",
      "Running asym.: (0.01,  2)\n",
      "Running asym.: (0.02,  0)\n",
      "Running asym.: (0.02,  1)\n",
      "Running asym.: (0.02,  2)\n",
      "Running asym.: (0.03,  0)\n",
      "Running asym.: (0.03,  1)\n",
      "Running asym.: (0.03,  2)\n",
      "Running asym.: (0.05,  0)\n",
      "Running asym.: (0.05,  1)\n",
      "Running asym.: (0.05,  2)\n",
      "Running asym.: (0.08,  0)\n",
      "Running asym.: (0.08,  1)\n",
      "Running asym.: (0.08,  2)\n",
      "Running asym.: (0.13,  0)\n",
      "Running asym.: (0.13,  1)\n",
      "Running asym.: (0.13,  2)\n",
      "Running asym.: (0.21,  0)\n",
      "Running asym.: (0.21,  1)\n",
      "Running asym.: (0.21,  2)\n",
      "Running asym.: (0.34,  0)\n",
      "Running asym.: (0.34,  1)\n",
      "Running asym.: (0.34,  2)\n",
      "Running asym.: (0.55,  0)\n",
      "Running asym.: (0.55,  1)\n",
      "Running asym.: (0.55,  2)\n",
      "Running asym.: (0.89,  0)\n",
      "Running asym.: (0.89,  1)\n",
      "Running asym.: (0.89,  2)\n",
      "Running asym.: (1.44,  0)\n",
      "Running asym.: (1.44,  1)\n",
      "Running asym.: (1.44,  2)\n",
      "Running asym.: (2.34,  0)\n",
      "Running asym.: (2.34,  1)\n",
      "Running asym.: (2.34,  2)\n",
      "Running asym.: (3.79,  0)\n",
      "Running asym.: (3.79,  1)\n",
      "Running asym.: (3.79,  2)\n",
      "Running asym.: (6.16,  0)\n",
      "Running asym.: (6.16,  1)\n",
      "Running asym.: (6.16,  2)\n",
      "Running asym.: (10.00,  0)\n",
      "Running asym.: (10.00,  1)\n",
      "Running asym.: (10.00,  2)\n",
      "Reading existing runs.\n",
      "Finished reading existing runs.\n",
      "Calling solve_rte_with_callbacks(, study_dir='/scratch/kelp-results/verify_asym_uni_a_expb_L_40x80x30_scat_0_1_2_b_m3_3', study_name='verify_asym_uni_a_expb_L_40x80x30_scat_0_1_2_b_m3_3', b=0.001, num_scatters=0, param_dict={'alpha': 1, 'gamma': 1, 'b': 0.001}, ns=40, nz=80, ntheta=30, nphi=30, rope_spacing=1, zmax=1, sol_expr=gamma*exp(-2*b*z) - z*exp(-2*b*gamma), abs_expr=0.2, source_expr=-b*(gamma*exp(-2*b*z) - z*exp(-2*b*gamma)) + (b + 0.2)*(gamma*exp(-2*b*z) - z*exp(-2*b*gamma)) + (-2*b*gamma*exp(-2*b*z) - exp(-2*b*gamma))*cos(phi), bc_expr=gamma, vsf_expr=1/(4*pi), fd_flag=False, num_threads=32)\n",
      "\n",
      "Calling solve_rte_with_callbacks(, study_dir='/scratch/kelp-results/verify_asym_uni_a_expb_L_40x80x30_scat_0_1_2_b_m3_3', study_name='verify_asym_uni_a_expb_L_40x80x30_scat_0_1_2_b_m3_3', b=0.001, num_scatters=1, param_dict={'alpha': 1, 'gamma': 1, 'b': 0.001}, ns=40, nz=80, ntheta=30, nphi=30, rope_spacing=1, zmax=1, sol_expr=gamma*exp(-2*b*z) - z*exp(-2*b*gamma), abs_expr=0.2, source_expr=-b*(gamma*exp(-2*b*z) - z*exp(-2*b*gamma)) + (b + 0.2)*(gamma*exp(-2*b*z) - z*exp(-2*b*gamma)) + (-2*b*gamma*exp(-2*b*z) - exp(-2*b*gamma))*cos(phi), bc_expr=gamma, vsf_expr=1/(4*pi), fd_flag=False, num_threads=32)\n",
      "\n",
      "Calling solve_rte_with_callbacks(, study_dir='/scratch/kelp-results/verify_asym_uni_a_expb_L_40x80x30_scat_0_1_2_b_m3_3', study_name='verify_asym_uni_a_expb_L_40x80x30_scat_0_1_2_b_m3_3', b=0.001, num_scatters=2, param_dict={'alpha': 1, 'gamma': 1, 'b': 0.001}, ns=40, nz=80, ntheta=30, nphi=30, rope_spacing=1, zmax=1, sol_expr=gamma*exp(-2*b*z) - z*exp(-2*b*gamma), abs_expr=0.2, source_expr=-b*(gamma*exp(-2*b*z) - z*exp(-2*b*gamma)) + (b + 0.2)*(gamma*exp(-2*b*z) - z*exp(-2*b*gamma)) + (-2*b*gamma*exp(-2*b*z) - exp(-2*b*gamma))*cos(phi), bc_expr=gamma, vsf_expr=1/(4*pi), fd_flag=False, num_threads=32)\n",
      "\n",
      "Calling solve_rte_with_callbacks(, study_dir='/scratch/kelp-results/verify_asym_uni_a_expb_L_40x80x30_scat_0_1_2_b_m3_3', study_name='verify_asym_uni_a_expb_L_40x80x30_scat_0_1_2_b_m3_3', b=0.001623776739188721, num_scatters=0, param_dict={'alpha': 1, 'gamma': 1, 'b': 0.001623776739188721}, ns=40, nz=80, ntheta=30, nphi=30, rope_spacing=1, zmax=1, sol_expr=gamma*exp(-2*b*z) - z*exp(-2*b*gamma), abs_expr=0.2, source_expr=-b*(gamma*exp(-2*b*z) - z*exp(-2*b*gamma)) + (b + 0.2)*(gamma*exp(-2*b*z) - z*exp(-2*b*gamma)) + (-2*b*gamma*exp(-2*b*z) - exp(-2*b*gamma))*cos(phi), bc_expr=gamma, vsf_expr=1/(4*pi), fd_flag=False, num_threads=32)\n",
      "\n",
      "Calling solve_rte_with_callbacks(, study_dir='/scratch/kelp-results/verify_asym_uni_a_expb_L_40x80x30_scat_0_1_2_b_m3_3', study_name='verify_asym_uni_a_expb_L_40x80x30_scat_0_1_2_b_m3_3', b=0.001623776739188721, num_scatters=1, param_dict={'alpha': 1, 'gamma': 1, 'b': 0.001623776739188721}, ns=40, nz=80, ntheta=30, nphi=30, rope_spacing=1, zmax=1, sol_expr=gamma*exp(-2*b*z) - z*exp(-2*b*gamma), abs_expr=0.2, source_expr=-b*(gamma*exp(-2*b*z) - z*exp(-2*b*gamma)) + (b + 0.2)*(gamma*exp(-2*b*z) - z*exp(-2*b*gamma)) + (-2*b*gamma*exp(-2*b*z) - exp(-2*b*gamma))*cos(phi), bc_expr=gamma, vsf_expr=1/(4*pi), fd_flag=False, num_threads=32)\n",
      "\n",
      "Calling solve_rte_with_callbacks(, study_dir='/scratch/kelp-results/verify_asym_uni_a_expb_L_40x80x30_scat_0_1_2_b_m3_3', study_name='verify_asym_uni_a_expb_L_40x80x30_scat_0_1_2_b_m3_3', b=0.001623776739188721, num_scatters=2, param_dict={'alpha': 1, 'gamma': 1, 'b': 0.001623776739188721}, ns=40, nz=80, ntheta=30, nphi=30, rope_spacing=1, zmax=1, sol_expr=gamma*exp(-2*b*z) - z*exp(-2*b*gamma), abs_expr=0.2, source_expr=-b*(gamma*exp(-2*b*z) - z*exp(-2*b*gamma)) + (b + 0.2)*(gamma*exp(-2*b*z) - z*exp(-2*b*gamma)) + (-2*b*gamma*exp(-2*b*z) - exp(-2*b*gamma))*cos(phi), bc_expr=gamma, vsf_expr=1/(4*pi), fd_flag=False, num_threads=32)\n",
      "\n",
      "Calling solve_rte_with_callbacks(, study_dir='/scratch/kelp-results/verify_asym_uni_a_expb_L_40x80x30_scat_0_1_2_b_m3_3', study_name='verify_asym_uni_a_expb_L_40x80x30_scat_0_1_2_b_m3_3', b=0.0026366508987303583, num_scatters=0, param_dict={'alpha': 1, 'gamma': 1, 'b': 0.0026366508987303583}, ns=40, nz=80, ntheta=30, nphi=30, rope_spacing=1, zmax=1, sol_expr=gamma*exp(-2*b*z) - z*exp(-2*b*gamma), abs_expr=0.2, source_expr=-b*(gamma*exp(-2*b*z) - z*exp(-2*b*gamma)) + (b + 0.2)*(gamma*exp(-2*b*z) - z*exp(-2*b*gamma)) + (-2*b*gamma*exp(-2*b*z) - exp(-2*b*gamma))*cos(phi), bc_expr=gamma, vsf_expr=1/(4*pi), fd_flag=False, num_threads=32)\n",
      "\n",
      "Calling solve_rte_with_callbacks(, study_dir='/scratch/kelp-results/verify_asym_uni_a_expb_L_40x80x30_scat_0_1_2_b_m3_3', study_name='verify_asym_uni_a_expb_L_40x80x30_scat_0_1_2_b_m3_3', b=0.0026366508987303583, num_scatters=1, param_dict={'alpha': 1, 'gamma': 1, 'b': 0.0026366508987303583}, ns=40, nz=80, ntheta=30, nphi=30, rope_spacing=1, zmax=1, sol_expr=gamma*exp(-2*b*z) - z*exp(-2*b*gamma), abs_expr=0.2, source_expr=-b*(gamma*exp(-2*b*z) - z*exp(-2*b*gamma)) + (b + 0.2)*(gamma*exp(-2*b*z) - z*exp(-2*b*gamma)) + (-2*b*gamma*exp(-2*b*z) - exp(-2*b*gamma))*cos(phi), bc_expr=gamma, vsf_expr=1/(4*pi), fd_flag=False, num_threads=32)\n",
      "\n",
      "Calling solve_rte_with_callbacks(, study_dir='/scratch/kelp-results/verify_asym_uni_a_expb_L_40x80x30_scat_0_1_2_b_m3_3', study_name='verify_asym_uni_a_expb_L_40x80x30_scat_0_1_2_b_m3_3', b=0.0026366508987303583, num_scatters=2, param_dict={'alpha': 1, 'gamma': 1, 'b': 0.0026366508987303583}, ns=40, nz=80, ntheta=30, nphi=30, rope_spacing=1, zmax=1, sol_expr=gamma*exp(-2*b*z) - z*exp(-2*b*gamma), abs_expr=0.2, source_expr=-b*(gamma*exp(-2*b*z) - z*exp(-2*b*gamma)) + (b + 0.2)*(gamma*exp(-2*b*z) - z*exp(-2*b*gamma)) + (-2*b*gamma*exp(-2*b*z) - exp(-2*b*gamma))*cos(phi), bc_expr=gamma, vsf_expr=1/(4*pi), fd_flag=False, num_threads=32)\n",
      "\n",
      "Calling solve_rte_with_callbacks(, study_dir='/scratch/kelp-results/verify_asym_uni_a_expb_L_40x80x30_scat_0_1_2_b_m3_3', study_name='verify_asym_uni_a_expb_L_40x80x30_scat_0_1_2_b_m3_3', b=0.004281332398719396, num_scatters=0, param_dict={'alpha': 1, 'gamma': 1, 'b': 0.004281332398719396}, ns=40, nz=80, ntheta=30, nphi=30, rope_spacing=1, zmax=1, sol_expr=gamma*exp(-2*b*z) - z*exp(-2*b*gamma), abs_expr=0.2, source_expr=-b*(gamma*exp(-2*b*z) - z*exp(-2*b*gamma)) + (b + 0.2)*(gamma*exp(-2*b*z) - z*exp(-2*b*gamma)) + (-2*b*gamma*exp(-2*b*z) - exp(-2*b*gamma))*cos(phi), bc_expr=gamma, vsf_expr=1/(4*pi), fd_flag=False, num_threads=32)\n",
      "\n",
      "Calling solve_rte_with_callbacks(, study_dir='/scratch/kelp-results/verify_asym_uni_a_expb_L_40x80x30_scat_0_1_2_b_m3_3', study_name='verify_asym_uni_a_expb_L_40x80x30_scat_0_1_2_b_m3_3', b=0.004281332398719396, num_scatters=1, param_dict={'alpha': 1, 'gamma': 1, 'b': 0.004281332398719396}, ns=40, nz=80, ntheta=30, nphi=30, rope_spacing=1, zmax=1, sol_expr=gamma*exp(-2*b*z) - z*exp(-2*b*gamma), abs_expr=0.2, source_expr=-b*(gamma*exp(-2*b*z) - z*exp(-2*b*gamma)) + (b + 0.2)*(gamma*exp(-2*b*z) - z*exp(-2*b*gamma)) + (-2*b*gamma*exp(-2*b*z) - exp(-2*b*gamma))*cos(phi), bc_expr=gamma, vsf_expr=1/(4*pi), fd_flag=False, num_threads=32)\n",
      "\n",
      "Calling solve_rte_with_callbacks(, study_dir='/scratch/kelp-results/verify_asym_uni_a_expb_L_40x80x30_scat_0_1_2_b_m3_3', study_name='verify_asym_uni_a_expb_L_40x80x30_scat_0_1_2_b_m3_3', b=0.004281332398719396, num_scatters=2, param_dict={'alpha': 1, 'gamma': 1, 'b': 0.004281332398719396}, ns=40, nz=80, ntheta=30, nphi=30, rope_spacing=1, zmax=1, sol_expr=gamma*exp(-2*b*z) - z*exp(-2*b*gamma), abs_expr=0.2, source_expr=-b*(gamma*exp(-2*b*z) - z*exp(-2*b*gamma)) + (b + 0.2)*(gamma*exp(-2*b*z) - z*exp(-2*b*gamma)) + (-2*b*gamma*exp(-2*b*z) - exp(-2*b*gamma))*cos(phi), bc_expr=gamma, vsf_expr=1/(4*pi), fd_flag=False, num_threads=32)\n",
      "\n",
      "Calling solve_rte_with_callbacks(, study_dir='/scratch/kelp-results/verify_asym_uni_a_expb_L_40x80x30_scat_0_1_2_b_m3_3', study_name='verify_asym_uni_a_expb_L_40x80x30_scat_0_1_2_b_m3_3', b=0.0069519279617756054, num_scatters=0, param_dict={'alpha': 1, 'gamma': 1, 'b': 0.0069519279617756054}, ns=40, nz=80, ntheta=30, nphi=30, rope_spacing=1, zmax=1, sol_expr=gamma*exp(-2*b*z) - z*exp(-2*b*gamma), abs_expr=0.2, source_expr=-b*(gamma*exp(-2*b*z) - z*exp(-2*b*gamma)) + (b + 0.2)*(gamma*exp(-2*b*z) - z*exp(-2*b*gamma)) + (-2*b*gamma*exp(-2*b*z) - exp(-2*b*gamma))*cos(phi), bc_expr=gamma, vsf_expr=1/(4*pi), fd_flag=False, num_threads=32)\n",
      "\n",
      "Calling solve_rte_with_callbacks(, study_dir='/scratch/kelp-results/verify_asym_uni_a_expb_L_40x80x30_scat_0_1_2_b_m3_3', study_name='verify_asym_uni_a_expb_L_40x80x30_scat_0_1_2_b_m3_3', b=0.0069519279617756054, num_scatters=1, param_dict={'alpha': 1, 'gamma': 1, 'b': 0.0069519279617756054}, ns=40, nz=80, ntheta=30, nphi=30, rope_spacing=1, zmax=1, sol_expr=gamma*exp(-2*b*z) - z*exp(-2*b*gamma), abs_expr=0.2, source_expr=-b*(gamma*exp(-2*b*z) - z*exp(-2*b*gamma)) + (b + 0.2)*(gamma*exp(-2*b*z) - z*exp(-2*b*gamma)) + (-2*b*gamma*exp(-2*b*z) - exp(-2*b*gamma))*cos(phi), bc_expr=gamma, vsf_expr=1/(4*pi), fd_flag=False, num_threads=32)\n",
      "\n",
      "Calling solve_rte_with_callbacks(, study_dir='/scratch/kelp-results/verify_asym_uni_a_expb_L_40x80x30_scat_0_1_2_b_m3_3', study_name='verify_asym_uni_a_expb_L_40x80x30_scat_0_1_2_b_m3_3', b=0.0069519279617756054, num_scatters=2, param_dict={'alpha': 1, 'gamma': 1, 'b': 0.0069519279617756054}, ns=40, nz=80, ntheta=30, nphi=30, rope_spacing=1, zmax=1, sol_expr=gamma*exp(-2*b*z) - z*exp(-2*b*gamma), abs_expr=0.2, source_expr=-b*(gamma*exp(-2*b*z) - z*exp(-2*b*gamma)) + (b + 0.2)*(gamma*exp(-2*b*z) - z*exp(-2*b*gamma)) + (-2*b*gamma*exp(-2*b*z) - exp(-2*b*gamma))*cos(phi), bc_expr=gamma, vsf_expr=1/(4*pi), fd_flag=False, num_threads=32)\n",
      "\n",
      "Calling solve_rte_with_callbacks(, study_dir='/scratch/kelp-results/verify_asym_uni_a_expb_L_40x80x30_scat_0_1_2_b_m3_3', study_name='verify_asym_uni_a_expb_L_40x80x30_scat_0_1_2_b_m3_3', b=0.011288378916846888, num_scatters=0, param_dict={'alpha': 1, 'gamma': 1, 'b': 0.011288378916846888}, ns=40, nz=80, ntheta=30, nphi=30, rope_spacing=1, zmax=1, sol_expr=gamma*exp(-2*b*z) - z*exp(-2*b*gamma), abs_expr=0.2, source_expr=-b*(gamma*exp(-2*b*z) - z*exp(-2*b*gamma)) + (b + 0.2)*(gamma*exp(-2*b*z) - z*exp(-2*b*gamma)) + (-2*b*gamma*exp(-2*b*z) - exp(-2*b*gamma))*cos(phi), bc_expr=gamma, vsf_expr=1/(4*pi), fd_flag=False, num_threads=32)\n",
      "\n",
      "Calling solve_rte_with_callbacks(, study_dir='/scratch/kelp-results/verify_asym_uni_a_expb_L_40x80x30_scat_0_1_2_b_m3_3', study_name='verify_asym_uni_a_expb_L_40x80x30_scat_0_1_2_b_m3_3', b=0.011288378916846888, num_scatters=1, param_dict={'alpha': 1, 'gamma': 1, 'b': 0.011288378916846888}, ns=40, nz=80, ntheta=30, nphi=30, rope_spacing=1, zmax=1, sol_expr=gamma*exp(-2*b*z) - z*exp(-2*b*gamma), abs_expr=0.2, source_expr=-b*(gamma*exp(-2*b*z) - z*exp(-2*b*gamma)) + (b + 0.2)*(gamma*exp(-2*b*z) - z*exp(-2*b*gamma)) + (-2*b*gamma*exp(-2*b*z) - exp(-2*b*gamma))*cos(phi), bc_expr=gamma, vsf_expr=1/(4*pi), fd_flag=False, num_threads=32)\n",
      "\n",
      "Calling solve_rte_with_callbacks(, study_dir='/scratch/kelp-results/verify_asym_uni_a_expb_L_40x80x30_scat_0_1_2_b_m3_3', study_name='verify_asym_uni_a_expb_L_40x80x30_scat_0_1_2_b_m3_3', b=0.011288378916846888, num_scatters=2, param_dict={'alpha': 1, 'gamma': 1, 'b': 0.011288378916846888}, ns=40, nz=80, ntheta=30, nphi=30, rope_spacing=1, zmax=1, sol_expr=gamma*exp(-2*b*z) - z*exp(-2*b*gamma), abs_expr=0.2, source_expr=-b*(gamma*exp(-2*b*z) - z*exp(-2*b*gamma)) + (b + 0.2)*(gamma*exp(-2*b*z) - z*exp(-2*b*gamma)) + (-2*b*gamma*exp(-2*b*z) - exp(-2*b*gamma))*cos(phi), bc_expr=gamma, vsf_expr=1/(4*pi), fd_flag=False, num_threads=32)\n",
      "\n",
      "Calling solve_rte_with_callbacks(, study_dir='/scratch/kelp-results/verify_asym_uni_a_expb_L_40x80x30_scat_0_1_2_b_m3_3', study_name='verify_asym_uni_a_expb_L_40x80x30_scat_0_1_2_b_m3_3', b=0.018329807108324356, num_scatters=0, param_dict={'alpha': 1, 'gamma': 1, 'b': 0.018329807108324356}, ns=40, nz=80, ntheta=30, nphi=30, rope_spacing=1, zmax=1, sol_expr=gamma*exp(-2*b*z) - z*exp(-2*b*gamma), abs_expr=0.2, source_expr=-b*(gamma*exp(-2*b*z) - z*exp(-2*b*gamma)) + (b + 0.2)*(gamma*exp(-2*b*z) - z*exp(-2*b*gamma)) + (-2*b*gamma*exp(-2*b*z) - exp(-2*b*gamma))*cos(phi), bc_expr=gamma, vsf_expr=1/(4*pi), fd_flag=False, num_threads=32)\n",
      "\n",
      "Calling solve_rte_with_callbacks(, study_dir='/scratch/kelp-results/verify_asym_uni_a_expb_L_40x80x30_scat_0_1_2_b_m3_3', study_name='verify_asym_uni_a_expb_L_40x80x30_scat_0_1_2_b_m3_3', b=0.018329807108324356, num_scatters=1, param_dict={'alpha': 1, 'gamma': 1, 'b': 0.018329807108324356}, ns=40, nz=80, ntheta=30, nphi=30, rope_spacing=1, zmax=1, sol_expr=gamma*exp(-2*b*z) - z*exp(-2*b*gamma), abs_expr=0.2, source_expr=-b*(gamma*exp(-2*b*z) - z*exp(-2*b*gamma)) + (b + 0.2)*(gamma*exp(-2*b*z) - z*exp(-2*b*gamma)) + (-2*b*gamma*exp(-2*b*z) - exp(-2*b*gamma))*cos(phi), bc_expr=gamma, vsf_expr=1/(4*pi), fd_flag=False, num_threads=32)\n",
      "\n",
      "Calling solve_rte_with_callbacks(, study_dir='/scratch/kelp-results/verify_asym_uni_a_expb_L_40x80x30_scat_0_1_2_b_m3_3', study_name='verify_asym_uni_a_expb_L_40x80x30_scat_0_1_2_b_m3_3', b=0.018329807108324356, num_scatters=2, param_dict={'alpha': 1, 'gamma': 1, 'b': 0.018329807108324356}, ns=40, nz=80, ntheta=30, nphi=30, rope_spacing=1, zmax=1, sol_expr=gamma*exp(-2*b*z) - z*exp(-2*b*gamma), abs_expr=0.2, source_expr=-b*(gamma*exp(-2*b*z) - z*exp(-2*b*gamma)) + (b + 0.2)*(gamma*exp(-2*b*z) - z*exp(-2*b*gamma)) + (-2*b*gamma*exp(-2*b*z) - exp(-2*b*gamma))*cos(phi), bc_expr=gamma, vsf_expr=1/(4*pi), fd_flag=False, num_threads=32)\n",
      "\n",
      "Calling solve_rte_with_callbacks(, study_dir='/scratch/kelp-results/verify_asym_uni_a_expb_L_40x80x30_scat_0_1_2_b_m3_3', study_name='verify_asym_uni_a_expb_L_40x80x30_scat_0_1_2_b_m3_3', b=0.029763514416313176, num_scatters=0, param_dict={'alpha': 1, 'gamma': 1, 'b': 0.029763514416313176}, ns=40, nz=80, ntheta=30, nphi=30, rope_spacing=1, zmax=1, sol_expr=gamma*exp(-2*b*z) - z*exp(-2*b*gamma), abs_expr=0.2, source_expr=-b*(gamma*exp(-2*b*z) - z*exp(-2*b*gamma)) + (b + 0.2)*(gamma*exp(-2*b*z) - z*exp(-2*b*gamma)) + (-2*b*gamma*exp(-2*b*z) - exp(-2*b*gamma))*cos(phi), bc_expr=gamma, vsf_expr=1/(4*pi), fd_flag=False, num_threads=32)\n",
      "\n",
      "Calling solve_rte_with_callbacks(, study_dir='/scratch/kelp-results/verify_asym_uni_a_expb_L_40x80x30_scat_0_1_2_b_m3_3', study_name='verify_asym_uni_a_expb_L_40x80x30_scat_0_1_2_b_m3_3', b=0.029763514416313176, num_scatters=1, param_dict={'alpha': 1, 'gamma': 1, 'b': 0.029763514416313176}, ns=40, nz=80, ntheta=30, nphi=30, rope_spacing=1, zmax=1, sol_expr=gamma*exp(-2*b*z) - z*exp(-2*b*gamma), abs_expr=0.2, source_expr=-b*(gamma*exp(-2*b*z) - z*exp(-2*b*gamma)) + (b + 0.2)*(gamma*exp(-2*b*z) - z*exp(-2*b*gamma)) + (-2*b*gamma*exp(-2*b*z) - exp(-2*b*gamma))*cos(phi), bc_expr=gamma, vsf_expr=1/(4*pi), fd_flag=False, num_threads=32)\n",
      "\n",
      "Calling solve_rte_with_callbacks(, study_dir='/scratch/kelp-results/verify_asym_uni_a_expb_L_40x80x30_scat_0_1_2_b_m3_3', study_name='verify_asym_uni_a_expb_L_40x80x30_scat_0_1_2_b_m3_3', b=0.029763514416313176, num_scatters=2, param_dict={'alpha': 1, 'gamma': 1, 'b': 0.029763514416313176}, ns=40, nz=80, ntheta=30, nphi=30, rope_spacing=1, zmax=1, sol_expr=gamma*exp(-2*b*z) - z*exp(-2*b*gamma), abs_expr=0.2, source_expr=-b*(gamma*exp(-2*b*z) - z*exp(-2*b*gamma)) + (b + 0.2)*(gamma*exp(-2*b*z) - z*exp(-2*b*gamma)) + (-2*b*gamma*exp(-2*b*z) - exp(-2*b*gamma))*cos(phi), bc_expr=gamma, vsf_expr=1/(4*pi), fd_flag=False, num_threads=32)\n",
      "\n",
      "Calling solve_rte_with_callbacks(, study_dir='/scratch/kelp-results/verify_asym_uni_a_expb_L_40x80x30_scat_0_1_2_b_m3_3', study_name='verify_asym_uni_a_expb_L_40x80x30_scat_0_1_2_b_m3_3', b=0.04832930238571752, num_scatters=0, param_dict={'alpha': 1, 'gamma': 1, 'b': 0.04832930238571752}, ns=40, nz=80, ntheta=30, nphi=30, rope_spacing=1, zmax=1, sol_expr=gamma*exp(-2*b*z) - z*exp(-2*b*gamma), abs_expr=0.2, source_expr=-b*(gamma*exp(-2*b*z) - z*exp(-2*b*gamma)) + (b + 0.2)*(gamma*exp(-2*b*z) - z*exp(-2*b*gamma)) + (-2*b*gamma*exp(-2*b*z) - exp(-2*b*gamma))*cos(phi), bc_expr=gamma, vsf_expr=1/(4*pi), fd_flag=False, num_threads=32)\n",
      "\n",
      "Calling solve_rte_with_callbacks(, study_dir='/scratch/kelp-results/verify_asym_uni_a_expb_L_40x80x30_scat_0_1_2_b_m3_3', study_name='verify_asym_uni_a_expb_L_40x80x30_scat_0_1_2_b_m3_3', b=0.04832930238571752, num_scatters=1, param_dict={'alpha': 1, 'gamma': 1, 'b': 0.04832930238571752}, ns=40, nz=80, ntheta=30, nphi=30, rope_spacing=1, zmax=1, sol_expr=gamma*exp(-2*b*z) - z*exp(-2*b*gamma), abs_expr=0.2, source_expr=-b*(gamma*exp(-2*b*z) - z*exp(-2*b*gamma)) + (b + 0.2)*(gamma*exp(-2*b*z) - z*exp(-2*b*gamma)) + (-2*b*gamma*exp(-2*b*z) - exp(-2*b*gamma))*cos(phi), bc_expr=gamma, vsf_expr=1/(4*pi), fd_flag=False, num_threads=32)\n",
      "\n",
      "Calling solve_rte_with_callbacks(, study_dir='/scratch/kelp-results/verify_asym_uni_a_expb_L_40x80x30_scat_0_1_2_b_m3_3', study_name='verify_asym_uni_a_expb_L_40x80x30_scat_0_1_2_b_m3_3', b=0.04832930238571752, num_scatters=2, param_dict={'alpha': 1, 'gamma': 1, 'b': 0.04832930238571752}, ns=40, nz=80, ntheta=30, nphi=30, rope_spacing=1, zmax=1, sol_expr=gamma*exp(-2*b*z) - z*exp(-2*b*gamma), abs_expr=0.2, source_expr=-b*(gamma*exp(-2*b*z) - z*exp(-2*b*gamma)) + (b + 0.2)*(gamma*exp(-2*b*z) - z*exp(-2*b*gamma)) + (-2*b*gamma*exp(-2*b*z) - exp(-2*b*gamma))*cos(phi), bc_expr=gamma, vsf_expr=1/(4*pi), fd_flag=False, num_threads=32)\n",
      "\n",
      "Calling solve_rte_with_callbacks(, study_dir='/scratch/kelp-results/verify_asym_uni_a_expb_L_40x80x30_scat_0_1_2_b_m3_3', study_name='verify_asym_uni_a_expb_L_40x80x30_scat_0_1_2_b_m3_3', b=0.07847599703514611, num_scatters=0, param_dict={'alpha': 1, 'gamma': 1, 'b': 0.07847599703514611}, ns=40, nz=80, ntheta=30, nphi=30, rope_spacing=1, zmax=1, sol_expr=gamma*exp(-2*b*z) - z*exp(-2*b*gamma), abs_expr=0.2, source_expr=-b*(gamma*exp(-2*b*z) - z*exp(-2*b*gamma)) + (b + 0.2)*(gamma*exp(-2*b*z) - z*exp(-2*b*gamma)) + (-2*b*gamma*exp(-2*b*z) - exp(-2*b*gamma))*cos(phi), bc_expr=gamma, vsf_expr=1/(4*pi), fd_flag=False, num_threads=32)\n",
      "\n",
      "Calling solve_rte_with_callbacks(, study_dir='/scratch/kelp-results/verify_asym_uni_a_expb_L_40x80x30_scat_0_1_2_b_m3_3', study_name='verify_asym_uni_a_expb_L_40x80x30_scat_0_1_2_b_m3_3', b=0.07847599703514611, num_scatters=1, param_dict={'alpha': 1, 'gamma': 1, 'b': 0.07847599703514611}, ns=40, nz=80, ntheta=30, nphi=30, rope_spacing=1, zmax=1, sol_expr=gamma*exp(-2*b*z) - z*exp(-2*b*gamma), abs_expr=0.2, source_expr=-b*(gamma*exp(-2*b*z) - z*exp(-2*b*gamma)) + (b + 0.2)*(gamma*exp(-2*b*z) - z*exp(-2*b*gamma)) + (-2*b*gamma*exp(-2*b*z) - exp(-2*b*gamma))*cos(phi), bc_expr=gamma, vsf_expr=1/(4*pi), fd_flag=False, num_threads=32)\n",
      "\n",
      "Calling solve_rte_with_callbacks(, study_dir='/scratch/kelp-results/verify_asym_uni_a_expb_L_40x80x30_scat_0_1_2_b_m3_3', study_name='verify_asym_uni_a_expb_L_40x80x30_scat_0_1_2_b_m3_3', b=0.07847599703514611, num_scatters=2, param_dict={'alpha': 1, 'gamma': 1, 'b': 0.07847599703514611}, ns=40, nz=80, ntheta=30, nphi=30, rope_spacing=1, zmax=1, sol_expr=gamma*exp(-2*b*z) - z*exp(-2*b*gamma), abs_expr=0.2, source_expr=-b*(gamma*exp(-2*b*z) - z*exp(-2*b*gamma)) + (b + 0.2)*(gamma*exp(-2*b*z) - z*exp(-2*b*gamma)) + (-2*b*gamma*exp(-2*b*z) - exp(-2*b*gamma))*cos(phi), bc_expr=gamma, vsf_expr=1/(4*pi), fd_flag=False, num_threads=32)\n",
      "\n",
      "Calling solve_rte_with_callbacks(, study_dir='/scratch/kelp-results/verify_asym_uni_a_expb_L_40x80x30_scat_0_1_2_b_m3_3', study_name='verify_asym_uni_a_expb_L_40x80x30_scat_0_1_2_b_m3_3', b=0.12742749857031335, num_scatters=0, param_dict={'alpha': 1, 'gamma': 1, 'b': 0.12742749857031335}, ns=40, nz=80, ntheta=30, nphi=30, rope_spacing=1, zmax=1, sol_expr=gamma*exp(-2*b*z) - z*exp(-2*b*gamma), abs_expr=0.2, source_expr=-b*(gamma*exp(-2*b*z) - z*exp(-2*b*gamma)) + (b + 0.2)*(gamma*exp(-2*b*z) - z*exp(-2*b*gamma)) + (-2*b*gamma*exp(-2*b*z) - exp(-2*b*gamma))*cos(phi), bc_expr=gamma, vsf_expr=1/(4*pi), fd_flag=False, num_threads=32)\n",
      "\n",
      "Calling solve_rte_with_callbacks(, study_dir='/scratch/kelp-results/verify_asym_uni_a_expb_L_40x80x30_scat_0_1_2_b_m3_3', study_name='verify_asym_uni_a_expb_L_40x80x30_scat_0_1_2_b_m3_3', b=0.12742749857031335, num_scatters=1, param_dict={'alpha': 1, 'gamma': 1, 'b': 0.12742749857031335}, ns=40, nz=80, ntheta=30, nphi=30, rope_spacing=1, zmax=1, sol_expr=gamma*exp(-2*b*z) - z*exp(-2*b*gamma), abs_expr=0.2, source_expr=-b*(gamma*exp(-2*b*z) - z*exp(-2*b*gamma)) + (b + 0.2)*(gamma*exp(-2*b*z) - z*exp(-2*b*gamma)) + (-2*b*gamma*exp(-2*b*z) - exp(-2*b*gamma))*cos(phi), bc_expr=gamma, vsf_expr=1/(4*pi), fd_flag=False, num_threads=32)\n",
      "\n",
      "Calling solve_rte_with_callbacks(, study_dir='/scratch/kelp-results/verify_asym_uni_a_expb_L_40x80x30_scat_0_1_2_b_m3_3', study_name='verify_asym_uni_a_expb_L_40x80x30_scat_0_1_2_b_m3_3', b=0.12742749857031335, num_scatters=2, param_dict={'alpha': 1, 'gamma': 1, 'b': 0.12742749857031335}, ns=40, nz=80, ntheta=30, nphi=30, rope_spacing=1, zmax=1, sol_expr=gamma*exp(-2*b*z) - z*exp(-2*b*gamma), abs_expr=0.2, source_expr=-b*(gamma*exp(-2*b*z) - z*exp(-2*b*gamma)) + (b + 0.2)*(gamma*exp(-2*b*z) - z*exp(-2*b*gamma)) + (-2*b*gamma*exp(-2*b*z) - exp(-2*b*gamma))*cos(phi), bc_expr=gamma, vsf_expr=1/(4*pi), fd_flag=False, num_threads=32)\n",
      "\n",
      "Calling solve_rte_with_callbacks(, study_dir='/scratch/kelp-results/verify_asym_uni_a_expb_L_40x80x30_scat_0_1_2_b_m3_3', study_name='verify_asym_uni_a_expb_L_40x80x30_scat_0_1_2_b_m3_3', b=0.20691380811147903, num_scatters=0, param_dict={'alpha': 1, 'gamma': 1, 'b': 0.20691380811147903}, ns=40, nz=80, ntheta=30, nphi=30, rope_spacing=1, zmax=1, sol_expr=gamma*exp(-2*b*z) - z*exp(-2*b*gamma), abs_expr=0.2, source_expr=-b*(gamma*exp(-2*b*z) - z*exp(-2*b*gamma)) + (b + 0.2)*(gamma*exp(-2*b*z) - z*exp(-2*b*gamma)) + (-2*b*gamma*exp(-2*b*z) - exp(-2*b*gamma))*cos(phi), bc_expr=gamma, vsf_expr=1/(4*pi), fd_flag=False, num_threads=32)\n",
      "\n",
      "Calling solve_rte_with_callbacks(, study_dir='/scratch/kelp-results/verify_asym_uni_a_expb_L_40x80x30_scat_0_1_2_b_m3_3', study_name='verify_asym_uni_a_expb_L_40x80x30_scat_0_1_2_b_m3_3', b=0.20691380811147903, num_scatters=1, param_dict={'alpha': 1, 'gamma': 1, 'b': 0.20691380811147903}, ns=40, nz=80, ntheta=30, nphi=30, rope_spacing=1, zmax=1, sol_expr=gamma*exp(-2*b*z) - z*exp(-2*b*gamma), abs_expr=0.2, source_expr=-b*(gamma*exp(-2*b*z) - z*exp(-2*b*gamma)) + (b + 0.2)*(gamma*exp(-2*b*z) - z*exp(-2*b*gamma)) + (-2*b*gamma*exp(-2*b*z) - exp(-2*b*gamma))*cos(phi), bc_expr=gamma, vsf_expr=1/(4*pi), fd_flag=False, num_threads=32)\n",
      "\n",
      "Calling solve_rte_with_callbacks(, study_dir='/scratch/kelp-results/verify_asym_uni_a_expb_L_40x80x30_scat_0_1_2_b_m3_3', study_name='verify_asym_uni_a_expb_L_40x80x30_scat_0_1_2_b_m3_3', b=0.20691380811147903, num_scatters=2, param_dict={'alpha': 1, 'gamma': 1, 'b': 0.20691380811147903}, ns=40, nz=80, ntheta=30, nphi=30, rope_spacing=1, zmax=1, sol_expr=gamma*exp(-2*b*z) - z*exp(-2*b*gamma), abs_expr=0.2, source_expr=-b*(gamma*exp(-2*b*z) - z*exp(-2*b*gamma)) + (b + 0.2)*(gamma*exp(-2*b*z) - z*exp(-2*b*gamma)) + (-2*b*gamma*exp(-2*b*z) - exp(-2*b*gamma))*cos(phi), bc_expr=gamma, vsf_expr=1/(4*pi), fd_flag=False, num_threads=32)\n",
      "\n",
      "Calling solve_rte_with_callbacks(, study_dir='/scratch/kelp-results/verify_asym_uni_a_expb_L_40x80x30_scat_0_1_2_b_m3_3', study_name='verify_asym_uni_a_expb_L_40x80x30_scat_0_1_2_b_m3_3', b=0.3359818286283781, num_scatters=0, param_dict={'alpha': 1, 'gamma': 1, 'b': 0.3359818286283781}, ns=40, nz=80, ntheta=30, nphi=30, rope_spacing=1, zmax=1, sol_expr=gamma*exp(-2*b*z) - z*exp(-2*b*gamma), abs_expr=0.2, source_expr=-b*(gamma*exp(-2*b*z) - z*exp(-2*b*gamma)) + (b + 0.2)*(gamma*exp(-2*b*z) - z*exp(-2*b*gamma)) + (-2*b*gamma*exp(-2*b*z) - exp(-2*b*gamma))*cos(phi), bc_expr=gamma, vsf_expr=1/(4*pi), fd_flag=False, num_threads=32)\n",
      "\n",
      "Calling solve_rte_with_callbacks(, study_dir='/scratch/kelp-results/verify_asym_uni_a_expb_L_40x80x30_scat_0_1_2_b_m3_3', study_name='verify_asym_uni_a_expb_L_40x80x30_scat_0_1_2_b_m3_3', b=0.3359818286283781, num_scatters=1, param_dict={'alpha': 1, 'gamma': 1, 'b': 0.3359818286283781}, ns=40, nz=80, ntheta=30, nphi=30, rope_spacing=1, zmax=1, sol_expr=gamma*exp(-2*b*z) - z*exp(-2*b*gamma), abs_expr=0.2, source_expr=-b*(gamma*exp(-2*b*z) - z*exp(-2*b*gamma)) + (b + 0.2)*(gamma*exp(-2*b*z) - z*exp(-2*b*gamma)) + (-2*b*gamma*exp(-2*b*z) - exp(-2*b*gamma))*cos(phi), bc_expr=gamma, vsf_expr=1/(4*pi), fd_flag=False, num_threads=32)\n",
      "\n",
      "Calling solve_rte_with_callbacks(, study_dir='/scratch/kelp-results/verify_asym_uni_a_expb_L_40x80x30_scat_0_1_2_b_m3_3', study_name='verify_asym_uni_a_expb_L_40x80x30_scat_0_1_2_b_m3_3', b=0.3359818286283781, num_scatters=2, param_dict={'alpha': 1, 'gamma': 1, 'b': 0.3359818286283781}, ns=40, nz=80, ntheta=30, nphi=30, rope_spacing=1, zmax=1, sol_expr=gamma*exp(-2*b*z) - z*exp(-2*b*gamma), abs_expr=0.2, source_expr=-b*(gamma*exp(-2*b*z) - z*exp(-2*b*gamma)) + (b + 0.2)*(gamma*exp(-2*b*z) - z*exp(-2*b*gamma)) + (-2*b*gamma*exp(-2*b*z) - exp(-2*b*gamma))*cos(phi), bc_expr=gamma, vsf_expr=1/(4*pi), fd_flag=False, num_threads=32)\n",
      "\n",
      "Calling solve_rte_with_callbacks(, study_dir='/scratch/kelp-results/verify_asym_uni_a_expb_L_40x80x30_scat_0_1_2_b_m3_3', study_name='verify_asym_uni_a_expb_L_40x80x30_scat_0_1_2_b_m3_3', b=0.5455594781168515, num_scatters=0, param_dict={'alpha': 1, 'gamma': 1, 'b': 0.5455594781168515}, ns=40, nz=80, ntheta=30, nphi=30, rope_spacing=1, zmax=1, sol_expr=gamma*exp(-2*b*z) - z*exp(-2*b*gamma), abs_expr=0.2, source_expr=-b*(gamma*exp(-2*b*z) - z*exp(-2*b*gamma)) + (b + 0.2)*(gamma*exp(-2*b*z) - z*exp(-2*b*gamma)) + (-2*b*gamma*exp(-2*b*z) - exp(-2*b*gamma))*cos(phi), bc_expr=gamma, vsf_expr=1/(4*pi), fd_flag=False, num_threads=32)\n",
      "\n",
      "Calling solve_rte_with_callbacks(, study_dir='/scratch/kelp-results/verify_asym_uni_a_expb_L_40x80x30_scat_0_1_2_b_m3_3', study_name='verify_asym_uni_a_expb_L_40x80x30_scat_0_1_2_b_m3_3', b=0.5455594781168515, num_scatters=1, param_dict={'alpha': 1, 'gamma': 1, 'b': 0.5455594781168515}, ns=40, nz=80, ntheta=30, nphi=30, rope_spacing=1, zmax=1, sol_expr=gamma*exp(-2*b*z) - z*exp(-2*b*gamma), abs_expr=0.2, source_expr=-b*(gamma*exp(-2*b*z) - z*exp(-2*b*gamma)) + (b + 0.2)*(gamma*exp(-2*b*z) - z*exp(-2*b*gamma)) + (-2*b*gamma*exp(-2*b*z) - exp(-2*b*gamma))*cos(phi), bc_expr=gamma, vsf_expr=1/(4*pi), fd_flag=False, num_threads=32)\n",
      "\n",
      "Calling solve_rte_with_callbacks(, study_dir='/scratch/kelp-results/verify_asym_uni_a_expb_L_40x80x30_scat_0_1_2_b_m3_3', study_name='verify_asym_uni_a_expb_L_40x80x30_scat_0_1_2_b_m3_3', b=0.5455594781168515, num_scatters=2, param_dict={'alpha': 1, 'gamma': 1, 'b': 0.5455594781168515}, ns=40, nz=80, ntheta=30, nphi=30, rope_spacing=1, zmax=1, sol_expr=gamma*exp(-2*b*z) - z*exp(-2*b*gamma), abs_expr=0.2, source_expr=-b*(gamma*exp(-2*b*z) - z*exp(-2*b*gamma)) + (b + 0.2)*(gamma*exp(-2*b*z) - z*exp(-2*b*gamma)) + (-2*b*gamma*exp(-2*b*z) - exp(-2*b*gamma))*cos(phi), bc_expr=gamma, vsf_expr=1/(4*pi), fd_flag=False, num_threads=32)\n",
      "\n",
      "Calling solve_rte_with_callbacks(, study_dir='/scratch/kelp-results/verify_asym_uni_a_expb_L_40x80x30_scat_0_1_2_b_m3_3', study_name='verify_asym_uni_a_expb_L_40x80x30_scat_0_1_2_b_m3_3', b=0.8858667904100823, num_scatters=0, param_dict={'alpha': 1, 'gamma': 1, 'b': 0.8858667904100823}, ns=40, nz=80, ntheta=30, nphi=30, rope_spacing=1, zmax=1, sol_expr=gamma*exp(-2*b*z) - z*exp(-2*b*gamma), abs_expr=0.2, source_expr=-b*(gamma*exp(-2*b*z) - z*exp(-2*b*gamma)) + (b + 0.2)*(gamma*exp(-2*b*z) - z*exp(-2*b*gamma)) + (-2*b*gamma*exp(-2*b*z) - exp(-2*b*gamma))*cos(phi), bc_expr=gamma, vsf_expr=1/(4*pi), fd_flag=False, num_threads=32)\n",
      "\n",
      "Calling solve_rte_with_callbacks(, study_dir='/scratch/kelp-results/verify_asym_uni_a_expb_L_40x80x30_scat_0_1_2_b_m3_3', study_name='verify_asym_uni_a_expb_L_40x80x30_scat_0_1_2_b_m3_3', b=0.8858667904100823, num_scatters=1, param_dict={'alpha': 1, 'gamma': 1, 'b': 0.8858667904100823}, ns=40, nz=80, ntheta=30, nphi=30, rope_spacing=1, zmax=1, sol_expr=gamma*exp(-2*b*z) - z*exp(-2*b*gamma), abs_expr=0.2, source_expr=-b*(gamma*exp(-2*b*z) - z*exp(-2*b*gamma)) + (b + 0.2)*(gamma*exp(-2*b*z) - z*exp(-2*b*gamma)) + (-2*b*gamma*exp(-2*b*z) - exp(-2*b*gamma))*cos(phi), bc_expr=gamma, vsf_expr=1/(4*pi), fd_flag=False, num_threads=32)\n",
      "\n",
      "Calling solve_rte_with_callbacks(, study_dir='/scratch/kelp-results/verify_asym_uni_a_expb_L_40x80x30_scat_0_1_2_b_m3_3', study_name='verify_asym_uni_a_expb_L_40x80x30_scat_0_1_2_b_m3_3', b=0.8858667904100823, num_scatters=2, param_dict={'alpha': 1, 'gamma': 1, 'b': 0.8858667904100823}, ns=40, nz=80, ntheta=30, nphi=30, rope_spacing=1, zmax=1, sol_expr=gamma*exp(-2*b*z) - z*exp(-2*b*gamma), abs_expr=0.2, source_expr=-b*(gamma*exp(-2*b*z) - z*exp(-2*b*gamma)) + (b + 0.2)*(gamma*exp(-2*b*z) - z*exp(-2*b*gamma)) + (-2*b*gamma*exp(-2*b*z) - exp(-2*b*gamma))*cos(phi), bc_expr=gamma, vsf_expr=1/(4*pi), fd_flag=False, num_threads=32)\n",
      "\n",
      "Calling solve_rte_with_callbacks(, study_dir='/scratch/kelp-results/verify_asym_uni_a_expb_L_40x80x30_scat_0_1_2_b_m3_3', study_name='verify_asym_uni_a_expb_L_40x80x30_scat_0_1_2_b_m3_3', b=1.438449888287663, num_scatters=0, param_dict={'alpha': 1, 'gamma': 1, 'b': 1.438449888287663}, ns=40, nz=80, ntheta=30, nphi=30, rope_spacing=1, zmax=1, sol_expr=gamma*exp(-2*b*z) - z*exp(-2*b*gamma), abs_expr=0.2, source_expr=-b*(gamma*exp(-2*b*z) - z*exp(-2*b*gamma)) + (b + 0.2)*(gamma*exp(-2*b*z) - z*exp(-2*b*gamma)) + (-2*b*gamma*exp(-2*b*z) - exp(-2*b*gamma))*cos(phi), bc_expr=gamma, vsf_expr=1/(4*pi), fd_flag=False, num_threads=32)\n",
      "\n",
      "Calling solve_rte_with_callbacks(, study_dir='/scratch/kelp-results/verify_asym_uni_a_expb_L_40x80x30_scat_0_1_2_b_m3_3', study_name='verify_asym_uni_a_expb_L_40x80x30_scat_0_1_2_b_m3_3', b=1.438449888287663, num_scatters=1, param_dict={'alpha': 1, 'gamma': 1, 'b': 1.438449888287663}, ns=40, nz=80, ntheta=30, nphi=30, rope_spacing=1, zmax=1, sol_expr=gamma*exp(-2*b*z) - z*exp(-2*b*gamma), abs_expr=0.2, source_expr=-b*(gamma*exp(-2*b*z) - z*exp(-2*b*gamma)) + (b + 0.2)*(gamma*exp(-2*b*z) - z*exp(-2*b*gamma)) + (-2*b*gamma*exp(-2*b*z) - exp(-2*b*gamma))*cos(phi), bc_expr=gamma, vsf_expr=1/(4*pi), fd_flag=False, num_threads=32)\n",
      "\n",
      "Calling solve_rte_with_callbacks(, study_dir='/scratch/kelp-results/verify_asym_uni_a_expb_L_40x80x30_scat_0_1_2_b_m3_3', study_name='verify_asym_uni_a_expb_L_40x80x30_scat_0_1_2_b_m3_3', b=1.438449888287663, num_scatters=2, param_dict={'alpha': 1, 'gamma': 1, 'b': 1.438449888287663}, ns=40, nz=80, ntheta=30, nphi=30, rope_spacing=1, zmax=1, sol_expr=gamma*exp(-2*b*z) - z*exp(-2*b*gamma), abs_expr=0.2, source_expr=-b*(gamma*exp(-2*b*z) - z*exp(-2*b*gamma)) + (b + 0.2)*(gamma*exp(-2*b*z) - z*exp(-2*b*gamma)) + (-2*b*gamma*exp(-2*b*z) - exp(-2*b*gamma))*cos(phi), bc_expr=gamma, vsf_expr=1/(4*pi), fd_flag=False, num_threads=32)\n",
      "\n",
      "Calling solve_rte_with_callbacks(, study_dir='/scratch/kelp-results/verify_asym_uni_a_expb_L_40x80x30_scat_0_1_2_b_m3_3', study_name='verify_asym_uni_a_expb_L_40x80x30_scat_0_1_2_b_m3_3', b=2.3357214690901213, num_scatters=0, param_dict={'alpha': 1, 'gamma': 1, 'b': 2.3357214690901213}, ns=40, nz=80, ntheta=30, nphi=30, rope_spacing=1, zmax=1, sol_expr=gamma*exp(-2*b*z) - z*exp(-2*b*gamma), abs_expr=0.2, source_expr=-b*(gamma*exp(-2*b*z) - z*exp(-2*b*gamma)) + (b + 0.2)*(gamma*exp(-2*b*z) - z*exp(-2*b*gamma)) + (-2*b*gamma*exp(-2*b*z) - exp(-2*b*gamma))*cos(phi), bc_expr=gamma, vsf_expr=1/(4*pi), fd_flag=False, num_threads=32)\n",
      "\n",
      "Calling solve_rte_with_callbacks(, study_dir='/scratch/kelp-results/verify_asym_uni_a_expb_L_40x80x30_scat_0_1_2_b_m3_3', study_name='verify_asym_uni_a_expb_L_40x80x30_scat_0_1_2_b_m3_3', b=2.3357214690901213, num_scatters=1, param_dict={'alpha': 1, 'gamma': 1, 'b': 2.3357214690901213}, ns=40, nz=80, ntheta=30, nphi=30, rope_spacing=1, zmax=1, sol_expr=gamma*exp(-2*b*z) - z*exp(-2*b*gamma), abs_expr=0.2, source_expr=-b*(gamma*exp(-2*b*z) - z*exp(-2*b*gamma)) + (b + 0.2)*(gamma*exp(-2*b*z) - z*exp(-2*b*gamma)) + (-2*b*gamma*exp(-2*b*z) - exp(-2*b*gamma))*cos(phi), bc_expr=gamma, vsf_expr=1/(4*pi), fd_flag=False, num_threads=32)\n",
      "\n",
      "Calling solve_rte_with_callbacks(, study_dir='/scratch/kelp-results/verify_asym_uni_a_expb_L_40x80x30_scat_0_1_2_b_m3_3', study_name='verify_asym_uni_a_expb_L_40x80x30_scat_0_1_2_b_m3_3', b=2.3357214690901213, num_scatters=2, param_dict={'alpha': 1, 'gamma': 1, 'b': 2.3357214690901213}, ns=40, nz=80, ntheta=30, nphi=30, rope_spacing=1, zmax=1, sol_expr=gamma*exp(-2*b*z) - z*exp(-2*b*gamma), abs_expr=0.2, source_expr=-b*(gamma*exp(-2*b*z) - z*exp(-2*b*gamma)) + (b + 0.2)*(gamma*exp(-2*b*z) - z*exp(-2*b*gamma)) + (-2*b*gamma*exp(-2*b*z) - exp(-2*b*gamma))*cos(phi), bc_expr=gamma, vsf_expr=1/(4*pi), fd_flag=False, num_threads=32)\n",
      "\n",
      "Calling solve_rte_with_callbacks(, study_dir='/scratch/kelp-results/verify_asym_uni_a_expb_L_40x80x30_scat_0_1_2_b_m3_3', study_name='verify_asym_uni_a_expb_L_40x80x30_scat_0_1_2_b_m3_3', b=3.792690190732246, num_scatters=0, param_dict={'alpha': 1, 'gamma': 1, 'b': 3.792690190732246}, ns=40, nz=80, ntheta=30, nphi=30, rope_spacing=1, zmax=1, sol_expr=gamma*exp(-2*b*z) - z*exp(-2*b*gamma), abs_expr=0.2, source_expr=-b*(gamma*exp(-2*b*z) - z*exp(-2*b*gamma)) + (b + 0.2)*(gamma*exp(-2*b*z) - z*exp(-2*b*gamma)) + (-2*b*gamma*exp(-2*b*z) - exp(-2*b*gamma))*cos(phi), bc_expr=gamma, vsf_expr=1/(4*pi), fd_flag=False, num_threads=32)\n",
      "\n",
      "Calling solve_rte_with_callbacks(, study_dir='/scratch/kelp-results/verify_asym_uni_a_expb_L_40x80x30_scat_0_1_2_b_m3_3', study_name='verify_asym_uni_a_expb_L_40x80x30_scat_0_1_2_b_m3_3', b=3.792690190732246, num_scatters=1, param_dict={'alpha': 1, 'gamma': 1, 'b': 3.792690190732246}, ns=40, nz=80, ntheta=30, nphi=30, rope_spacing=1, zmax=1, sol_expr=gamma*exp(-2*b*z) - z*exp(-2*b*gamma), abs_expr=0.2, source_expr=-b*(gamma*exp(-2*b*z) - z*exp(-2*b*gamma)) + (b + 0.2)*(gamma*exp(-2*b*z) - z*exp(-2*b*gamma)) + (-2*b*gamma*exp(-2*b*z) - exp(-2*b*gamma))*cos(phi), bc_expr=gamma, vsf_expr=1/(4*pi), fd_flag=False, num_threads=32)\n",
      "\n",
      "Calling solve_rte_with_callbacks(, study_dir='/scratch/kelp-results/verify_asym_uni_a_expb_L_40x80x30_scat_0_1_2_b_m3_3', study_name='verify_asym_uni_a_expb_L_40x80x30_scat_0_1_2_b_m3_3', b=3.792690190732246, num_scatters=2, param_dict={'alpha': 1, 'gamma': 1, 'b': 3.792690190732246}, ns=40, nz=80, ntheta=30, nphi=30, rope_spacing=1, zmax=1, sol_expr=gamma*exp(-2*b*z) - z*exp(-2*b*gamma), abs_expr=0.2, source_expr=-b*(gamma*exp(-2*b*z) - z*exp(-2*b*gamma)) + (b + 0.2)*(gamma*exp(-2*b*z) - z*exp(-2*b*gamma)) + (-2*b*gamma*exp(-2*b*z) - exp(-2*b*gamma))*cos(phi), bc_expr=gamma, vsf_expr=1/(4*pi), fd_flag=False, num_threads=32)\n",
      "\n",
      "Calling solve_rte_with_callbacks(, study_dir='/scratch/kelp-results/verify_asym_uni_a_expb_L_40x80x30_scat_0_1_2_b_m3_3', study_name='verify_asym_uni_a_expb_L_40x80x30_scat_0_1_2_b_m3_3', b=6.158482110660261, num_scatters=0, param_dict={'alpha': 1, 'gamma': 1, 'b': 6.158482110660261}, ns=40, nz=80, ntheta=30, nphi=30, rope_spacing=1, zmax=1, sol_expr=gamma*exp(-2*b*z) - z*exp(-2*b*gamma), abs_expr=0.2, source_expr=-b*(gamma*exp(-2*b*z) - z*exp(-2*b*gamma)) + (b + 0.2)*(gamma*exp(-2*b*z) - z*exp(-2*b*gamma)) + (-2*b*gamma*exp(-2*b*z) - exp(-2*b*gamma))*cos(phi), bc_expr=gamma, vsf_expr=1/(4*pi), fd_flag=False, num_threads=32)\n",
      "\n",
      "Calling solve_rte_with_callbacks(, study_dir='/scratch/kelp-results/verify_asym_uni_a_expb_L_40x80x30_scat_0_1_2_b_m3_3', study_name='verify_asym_uni_a_expb_L_40x80x30_scat_0_1_2_b_m3_3', b=6.158482110660261, num_scatters=1, param_dict={'alpha': 1, 'gamma': 1, 'b': 6.158482110660261}, ns=40, nz=80, ntheta=30, nphi=30, rope_spacing=1, zmax=1, sol_expr=gamma*exp(-2*b*z) - z*exp(-2*b*gamma), abs_expr=0.2, source_expr=-b*(gamma*exp(-2*b*z) - z*exp(-2*b*gamma)) + (b + 0.2)*(gamma*exp(-2*b*z) - z*exp(-2*b*gamma)) + (-2*b*gamma*exp(-2*b*z) - exp(-2*b*gamma))*cos(phi), bc_expr=gamma, vsf_expr=1/(4*pi), fd_flag=False, num_threads=32)\n",
      "\n",
      "Calling solve_rte_with_callbacks(, study_dir='/scratch/kelp-results/verify_asym_uni_a_expb_L_40x80x30_scat_0_1_2_b_m3_3', study_name='verify_asym_uni_a_expb_L_40x80x30_scat_0_1_2_b_m3_3', b=6.158482110660261, num_scatters=2, param_dict={'alpha': 1, 'gamma': 1, 'b': 6.158482110660261}, ns=40, nz=80, ntheta=30, nphi=30, rope_spacing=1, zmax=1, sol_expr=gamma*exp(-2*b*z) - z*exp(-2*b*gamma), abs_expr=0.2, source_expr=-b*(gamma*exp(-2*b*z) - z*exp(-2*b*gamma)) + (b + 0.2)*(gamma*exp(-2*b*z) - z*exp(-2*b*gamma)) + (-2*b*gamma*exp(-2*b*z) - exp(-2*b*gamma))*cos(phi), bc_expr=gamma, vsf_expr=1/(4*pi), fd_flag=False, num_threads=32)\n",
      "\n",
      "Calling solve_rte_with_callbacks(, study_dir='/scratch/kelp-results/verify_asym_uni_a_expb_L_40x80x30_scat_0_1_2_b_m3_3', study_name='verify_asym_uni_a_expb_L_40x80x30_scat_0_1_2_b_m3_3', b=10.0, num_scatters=0, param_dict={'alpha': 1, 'gamma': 1, 'b': 10.0}, ns=40, nz=80, ntheta=30, nphi=30, rope_spacing=1, zmax=1, sol_expr=gamma*exp(-2*b*z) - z*exp(-2*b*gamma), abs_expr=0.2, source_expr=-b*(gamma*exp(-2*b*z) - z*exp(-2*b*gamma)) + (b + 0.2)*(gamma*exp(-2*b*z) - z*exp(-2*b*gamma)) + (-2*b*gamma*exp(-2*b*z) - exp(-2*b*gamma))*cos(phi), bc_expr=gamma, vsf_expr=1/(4*pi), fd_flag=False, num_threads=32)\n",
      "\n",
      "Calling solve_rte_with_callbacks(, study_dir='/scratch/kelp-results/verify_asym_uni_a_expb_L_40x80x30_scat_0_1_2_b_m3_3', study_name='verify_asym_uni_a_expb_L_40x80x30_scat_0_1_2_b_m3_3', b=10.0, num_scatters=1, param_dict={'alpha': 1, 'gamma': 1, 'b': 10.0}, ns=40, nz=80, ntheta=30, nphi=30, rope_spacing=1, zmax=1, sol_expr=gamma*exp(-2*b*z) - z*exp(-2*b*gamma), abs_expr=0.2, source_expr=-b*(gamma*exp(-2*b*z) - z*exp(-2*b*gamma)) + (b + 0.2)*(gamma*exp(-2*b*z) - z*exp(-2*b*gamma)) + (-2*b*gamma*exp(-2*b*z) - exp(-2*b*gamma))*cos(phi), bc_expr=gamma, vsf_expr=1/(4*pi), fd_flag=False, num_threads=32)\n",
      "\n",
      "Calling solve_rte_with_callbacks(, study_dir='/scratch/kelp-results/verify_asym_uni_a_expb_L_40x80x30_scat_0_1_2_b_m3_3', study_name='verify_asym_uni_a_expb_L_40x80x30_scat_0_1_2_b_m3_3', b=10.0, num_scatters=2, param_dict={'alpha': 1, 'gamma': 1, 'b': 10.0}, ns=40, nz=80, ntheta=30, nphi=30, rope_spacing=1, zmax=1, sol_expr=gamma*exp(-2*b*z) - z*exp(-2*b*gamma), abs_expr=0.2, source_expr=-b*(gamma*exp(-2*b*z) - z*exp(-2*b*gamma)) + (b + 0.2)*(gamma*exp(-2*b*z) - z*exp(-2*b*gamma)) + (-2*b*gamma*exp(-2*b*z) - exp(-2*b*gamma))*cos(phi), bc_expr=gamma, vsf_expr=1/(4*pi), fd_flag=False, num_threads=32)\n",
      "\n"
     ]
    }
   ],
   "source": [
    "base_dir = os.path.join(os.environ['SCRATCH'], 'kelp-results')\n",
    "# base_dir = '/home/oliver/academic/research/kelp-results'\n",
    "\n",
    "ns = 40\n",
    "nz = 80\n",
    "na = 30\n",
    "\n",
    "num_threads = 32\n",
    "\n",
    "num_scatters_list = [0, 1, 2]\n",
    "b_list = np.logspace(-3, 1, 20)\n",
    "\n",
    "study_name = 'verify_asym_uni_a_expb_L_{}x{}x{}_scat_0_1_2_b_m3_3'.format(ns, nz, na)\n",
    "study_dir = os.path.join(base_dir, study_name)\n",
    "\n",
    "ntheta = na\n",
    "nphi = na\n",
    "\n",
    "# TODO: Don't actually delete results\n",
    "#shutil.rmtree(os.path.join(base_dir, study_name), ignore_errors=True)\n",
    "\n",
    "combine_thread, gs_fut = kelp_compute.verify_asym_compute(\n",
    "    study_name, \n",
    "    b_list, num_scatters_list, num_threads,\n",
    "    ns, nz, ntheta, nphi, \n",
    "    rope_spacing, zmax, \n",
    "    sol_expr, abs_expr, source_expr, bc_expr, vsf_expr,\n",
    "    param_vals, base_dir=base_dir)"
   ]
  },
  {
   "cell_type": "code",
   "execution_count": null,
   "metadata": {},
   "outputs": [],
   "source": [
    "print(\"hi\")"
   ]
  },
  {
   "cell_type": "code",
   "execution_count": 40,
   "metadata": {},
   "outputs": [],
   "source": [
    "ns = 40\n",
    "nz = 80\n",
    "na = 20\n",
    "ntheta = na\n",
    "nphi = na\n",
    "grid = mms.gen_grid(ns, nz, ntheta, nphi, rope_spacing, zmax)"
   ]
  },
  {
   "cell_type": "code",
   "execution_count": null,
   "metadata": {},
   "outputs": [],
   "source": [
    "print('sol')\n",
    "sol_th = mms.expr_to_theano(sol_expr, 4, *mms.space, *mms.angle, **param_vals)\n",
    "print('source')\n",
    "source_th = mms.expr_to_theano(source_expr, 4, *mms.space, *mms.angle, **param_vals)\n",
    "print('abs')\n",
    "abs_th = mms.expr_to_theano(abs_expr, 3, *mms.space, **param_vals)\n",
    "print('bc')\n",
    "bc_th = mms.expr_to_theano(bc_expr, 2, *mms.angle, **param_vals)\n",
    "print('vsf')\n",
    "vsf_th = mms.expr_to_theano(vsf_expr, 1, sp.Symbol('Delta'), **param_vals)"
   ]
  },
  {
   "cell_type": "code",
   "execution_count": null,
   "metadata": {},
   "outputs": [],
   "source": [
    "print(\"yo\")"
   ]
  },
  {
   "cell_type": "code",
   "execution_count": null,
   "metadata": {},
   "outputs": [],
   "source": [
    "bc_expr"
   ]
  },
  {
   "cell_type": "code",
   "execution_count": null,
   "metadata": {},
   "outputs": [],
   "source": [
    "f_th = theano_function(\n",
    "    args, [subbed_expr],\n",
    "    dims=dims,\n",
    "    dtypes=dtypes,\n",
    "    on_unused_input='ignore'\n",
    ")"
   ]
  },
  {
   "cell_type": "code",
   "execution_count": null,
   "metadata": {},
   "outputs": [],
   "source": [
    "f_th = mms.expr_to_theano(1, 0, *mms.space, *mms.angle, **param_vals)\n"
   ]
  },
  {
   "cell_type": "code",
   "execution_count": null,
   "metadata": {},
   "outputs": [],
   "source": [
    "import warnings"
   ]
  },
  {
   "cell_type": "markdown",
   "metadata": {},
   "source": [
    "#### Plot"
   ]
  },
  {
   "cell_type": "code",
   "execution_count": 36,
   "metadata": {},
   "outputs": [],
   "source": [
    "base_dir = os.path.join(os.environ['SCRATCH'], 'kelp-results')\n",
    "study_name = 'verify_asym_uni_a_expb_L_40x80x30_scat_0_1_2_b_m3_3'\n",
    "study_dir = os.path.join(base_dir, study_name)"
   ]
  },
  {
   "cell_type": "code",
   "execution_count": 37,
   "metadata": {},
   "outputs": [],
   "source": [
    "db_path = os.path.join(study_dir, '{}.db'.format(study_name))\n",
    "conn = sqlite3.Connection(db_path)"
   ]
  },
  {
   "cell_type": "code",
   "execution_count": 41,
   "metadata": {},
   "outputs": [
    {
     "name": "stdout",
     "output_type": "stream",
     "text": [
      "err arr 0: [8.75098466e-06 8.75098466e-06 8.75098466e-06 1.02208346e-05\n",
      " 1.81406554e-05 4.28660604e-05 1.10324568e-04 2.86806967e-04\n",
      " 7.42110215e-04 1.89920618e-03 4.77312711e-03 1.16543596e-02\n",
      " 2.71971911e-02 5.92291812e-02 1.16582252e-01 2.00148636e-01\n",
      " 2.92646281e-01 3.68537659e-01 4.18893897e-01 4.50129972e-01]\n",
      "err arr 1: [8.73434400e-06 8.72396395e-06 8.70710905e-06 1.01548989e-05\n",
      " 1.80581397e-05 4.28306628e-05 1.10307283e-04 2.86799691e-04\n",
      " 7.42109885e-04 1.89920618e-03 4.77312711e-03 1.16543596e-02\n",
      " 2.71971911e-02 5.92291812e-02 1.16582252e-01 2.00148636e-01\n",
      " 2.92646281e-01 3.68537659e-01 4.18893897e-01 4.50129972e-01]\n",
      "err arr 2: [8.73439136e-06 8.72408881e-06 8.70743827e-06 1.01556622e-05\n",
      " 1.80593829e-05 4.28264532e-05 1.10270598e-04 2.86538949e-04\n",
      " 7.40291623e-04 1.88656530e-03 4.68524862e-03 1.10434347e-02\n",
      " 2.29500850e-02 2.97036053e-02 8.86774245e-02 1.22680185e+00\n",
      " 9.62741070e+00 6.85949838e+01 4.79010539e+02 3.33250875e+03]\n"
     ]
    },
    {
     "ename": "IndexError",
     "evalue": "boolean index did not match indexed array along dimension 3; dimension is 842 but corresponding boolean dimension is 362",
     "output_type": "error",
     "traceback": [
      "\u001b[0;31m---------------------------------------------------------------------------\u001b[0m",
      "\u001b[0;31mIndexError\u001b[0m                                Traceback (most recent call last)",
      "\u001b[0;32m<ipython-input-41-9df7f6776228>\u001b[0m in \u001b[0;36m<module>\u001b[0;34m()\u001b[0m\n\u001b[1;32m     47\u001b[0m \u001b[0mplot_inds\u001b[0m\u001b[0;34m[\u001b[0m\u001b[0;36m0\u001b[0m\u001b[0;34m,\u001b[0m\u001b[0;36m0\u001b[0m\u001b[0;34m,\u001b[0m\u001b[0;34m:\u001b[0m\u001b[0;34m,\u001b[0m\u001b[0;36m48\u001b[0m\u001b[0;34m]\u001b[0m \u001b[0;34m=\u001b[0m \u001b[0;32mTrue\u001b[0m\u001b[0;34m\u001b[0m\u001b[0m\n\u001b[1;32m     48\u001b[0m \u001b[0mz\u001b[0m \u001b[0;34m=\u001b[0m \u001b[0mgrid\u001b[0m\u001b[0;34m[\u001b[0m\u001b[0;36m2\u001b[0m\u001b[0;34m]\u001b[0m\u001b[0;34m[\u001b[0m\u001b[0mplot_inds\u001b[0m\u001b[0;34m]\u001b[0m\u001b[0;34m\u001b[0m\u001b[0m\n\u001b[0;32m---> 49\u001b[0;31m \u001b[0mplt\u001b[0m\u001b[0;34m.\u001b[0m\u001b[0mplot\u001b[0m\u001b[0;34m(\u001b[0m\u001b[0mz\u001b[0m\u001b[0;34m,\u001b[0m \u001b[0mtrue_rad_list\u001b[0m\u001b[0;34m[\u001b[0m\u001b[0;36m0\u001b[0m\u001b[0;34m]\u001b[0m\u001b[0;34m[\u001b[0m\u001b[0mplot_inds\u001b[0m\u001b[0;34m]\u001b[0m\u001b[0;34m,\u001b[0m \u001b[0;34m'ko-'\u001b[0m\u001b[0;34m,\u001b[0m \u001b[0mlabel\u001b[0m\u001b[0;34m=\u001b[0m\u001b[0;34m'true'\u001b[0m\u001b[0;34m)\u001b[0m\u001b[0;34m\u001b[0m\u001b[0m\n\u001b[0m\u001b[1;32m     50\u001b[0m \u001b[0;32mfor\u001b[0m \u001b[0mn\u001b[0m \u001b[0;32min\u001b[0m \u001b[0mnum_scatters_list\u001b[0m\u001b[0;34m:\u001b[0m\u001b[0;34m\u001b[0m\u001b[0m\n\u001b[1;32m     51\u001b[0m     \u001b[0mplt\u001b[0m\u001b[0;34m.\u001b[0m\u001b[0mplot\u001b[0m\u001b[0;34m(\u001b[0m\u001b[0mz\u001b[0m\u001b[0;34m,\u001b[0m \u001b[0masym_rad_list\u001b[0m\u001b[0;34m[\u001b[0m\u001b[0mn\u001b[0m\u001b[0;34m]\u001b[0m\u001b[0;34m[\u001b[0m\u001b[0mplot_inds\u001b[0m\u001b[0;34m]\u001b[0m\u001b[0;34m,\u001b[0m \u001b[0;34m'C{}o-'\u001b[0m\u001b[0;34m.\u001b[0m\u001b[0mformat\u001b[0m\u001b[0;34m(\u001b[0m\u001b[0mn\u001b[0m\u001b[0;34m)\u001b[0m\u001b[0;34m,\u001b[0m \u001b[0mlabel\u001b[0m\u001b[0;34m=\u001b[0m\u001b[0;34m'n={}'\u001b[0m\u001b[0;34m.\u001b[0m\u001b[0mformat\u001b[0m\u001b[0;34m(\u001b[0m\u001b[0mn\u001b[0m\u001b[0;34m)\u001b[0m\u001b[0;34m)\u001b[0m\u001b[0;34m\u001b[0m\u001b[0m\n",
      "\u001b[0;32m/opt/conda/lib/python3.6/site-packages/numpy/ma/core.py\u001b[0m in \u001b[0;36m__getitem__\u001b[0;34m(self, indx)\u001b[0m\n\u001b[1;32m   3167\u001b[0m         \u001b[0;31m# mask of being reshaped if it hasn't been set up properly yet\u001b[0m\u001b[0;34m\u001b[0m\u001b[0;34m\u001b[0m\u001b[0m\n\u001b[1;32m   3168\u001b[0m         \u001b[0;31m# So it's easier to stick to the current version\u001b[0m\u001b[0;34m\u001b[0m\u001b[0;34m\u001b[0m\u001b[0m\n\u001b[0;32m-> 3169\u001b[0;31m         \u001b[0mdout\u001b[0m \u001b[0;34m=\u001b[0m \u001b[0mself\u001b[0m\u001b[0;34m.\u001b[0m\u001b[0mdata\u001b[0m\u001b[0;34m[\u001b[0m\u001b[0mindx\u001b[0m\u001b[0;34m]\u001b[0m\u001b[0;34m\u001b[0m\u001b[0m\n\u001b[0m\u001b[1;32m   3170\u001b[0m         \u001b[0m_mask\u001b[0m \u001b[0;34m=\u001b[0m \u001b[0mself\u001b[0m\u001b[0;34m.\u001b[0m\u001b[0m_mask\u001b[0m\u001b[0;34m\u001b[0m\u001b[0m\n\u001b[1;32m   3171\u001b[0m \u001b[0;34m\u001b[0m\u001b[0m\n",
      "\u001b[0;31mIndexError\u001b[0m: boolean index did not match indexed array along dimension 3; dimension is 842 but corresponding boolean dimension is 362"
     ]
    },
    {
     "data": {
      "image/png": "[encoded data removed]",
      "text/plain": [
       "<Figure size 576x432 with 1 Axes>"
      ]
     },
     "metadata": {
      "needs_background": "light"
     },
     "output_type": "display_data"
    },
    {
     "data": {
      "text/plain": [
       "<Figure size 576x432 with 0 Axes>"
      ]
     },
     "metadata": {},
     "output_type": "display_data"
    }
   ],
   "source": [
    "#norm = lambda x: np.linalg.norm(np.ravel(x), ord=2)\n",
    "#norm = lambda x: np.sqrt(np.sum(x)**2/np.size(x))\n",
    "norm = lambda x: np.mean(np.abs(x))\n",
    "\n",
    "b_list, num_scatters_list = kelp_analyze.get_unique_vals(conn, study_name, ['b', 'num_scatters'])\n",
    "\n",
    "plt.figure(figsize=[8,6])\n",
    "\n",
    "true_rad_list = []\n",
    "asym_rad_list = []\n",
    "i_plot = 6\n",
    "for num_scatters in num_scatters_list:\n",
    "    err_list = []\n",
    "    for i, b in enumerate(b_list):\n",
    "        results_list = kelp_analyze.query_results(\n",
    "            conn, study_name,\n",
    "            b=b,\n",
    "            num_scatters=num_scatters,\n",
    "        )\n",
    "        \n",
    "        rad = results_list[0]['rad'][:]\n",
    "        true_rad = results_list[0]['true_rad'][:]\n",
    "\n",
    "        err = norm(rad - true_rad)\n",
    "        err_list.append(err)\n",
    "        \n",
    "        if i == i_plot:\n",
    "            asym_rad_list.append(rad)\n",
    "            true_rad_list.append(true_rad)\n",
    "\n",
    "    b_arr = np.array(b_list)[:]\n",
    "    err_arr = np.array(err_list)[:]\n",
    "    \n",
    "    print(\"err arr {}: {}\".format(num_scatters, err_arr))\n",
    "    conv.plot_lin_fit(\n",
    "        np.log10(b_arr), np.log10(err_arr), \n",
    "        min(np.log(b_arr)), max(np.log(b_arr)), \n",
    "        xlabel='log10(b)', ylabel='log10(err)',\n",
    "        label='n=%d, m={m:.2f}' % num_scatters\n",
    "    )\n",
    "plt.title('')\n",
    "plt.legend()\n",
    "\n",
    "plt.figure(figsize=(8,6))\n",
    "grid = mms.gen_grid(ns, nz, ntheta, nphi, rope_spacing, zmax)\n",
    "plot_inds = np.zeros_like(grid[2], dtype=bool)\n",
    "plot_inds[0,0,:,48] = True\n",
    "z = grid[2][plot_inds]\n",
    "plt.plot(z, true_rad_list[0][plot_inds], 'ko-', label='true')\n",
    "for n in num_scatters_list:\n",
    "    plt.plot(z, asym_rad_list[n][plot_inds], 'C{}o-'.format(n), label='n={}'.format(n))\n",
    "\n",
    "plt.title('b={:.2e}'.format(b_list[i_plot]))\n",
    "plt.legend()"
   ]
  },
  {
   "cell_type": "markdown",
   "metadata": {},
   "source": [
    "Plot Taylor Series Error"
   ]
  },
  {
   "cell_type": "code",
   "execution_count": null,
   "metadata": {},
   "outputs": [],
   "source": [
    "#norm = lambda x: np.linalg.norm(np.ravel(x), ord=2)\n",
    "#norm = lambda x: np.sqrt(np.sum(x)**2/np.size(x))\n",
    "norm = lambda x: np.mean(np.abs(x))\n",
    "\n",
    "b_list, num_scatters_list = kelp_analyze.get_unique_vals(conn, study_name, ['b', 'num_scatters'])\n",
    "#this_sol_expr = sp.parsing.sympy_parser.parse_expr(\n",
    "#    kelp_analyze.table_to_df(conn, study_name)['source_expr'][0], \n",
    "#    local_dict={'gamma': sp.Symbol('gamma')}\n",
    "#)\n",
    "tay_term_N = mms.gen_series_N(sol_expr, max(num_scatters_list), **param_vals)\n",
    "def tay_approx_N(x, y, z, theta, phi, b, n):\n",
    "    s = 0*(x+y+z+theta+phi)\n",
    "    for k in range(n+1):\n",
    "        s += b**k * tay_term_N(x, y, z, theta, phi, k)\n",
    "    \n",
    "    return s\n",
    "\n",
    "fig1 = plt.figure(figsize=[8,6])\n",
    "ax1 = plt.gca()\n",
    "fig2 = plt.figure(figsize=[8,6])\n",
    "ax2 = plt.gca()\n",
    "\n",
    "tay_rad_list = []\n",
    "true_rad_list = []\n",
    "i_plot = 6\n",
    "for num_scatters in num_scatters_list:\n",
    "    err_list = []\n",
    "    for i, b in enumerate(b_list):\n",
    "        results_list = kelp_analyze.query_results(\n",
    "            conn, study_name,\n",
    "            b=b,\n",
    "            num_scatters=num_scatters,\n",
    "        )\n",
    "\n",
    "        ns = results_list[0]['ns'][:].data\n",
    "        nz = results_list[0]['nz'][:].data\n",
    "        ntheta = results_list[0]['ntheta'][:].data\n",
    "        nphi = results_list[0]['nphi'][:].data\n",
    "        grid = mms.gen_grid(ns, nz, ntheta, nphi, rope_spacing, zmax)\n",
    "\n",
    "        tay_rad = tay_approx_N(*grid, b, num_scatters)\n",
    "        #rad = results_list[0]['rad'][:]\n",
    "        true_rad = results_list[0]['true_rad'][:]\n",
    "\n",
    "        err = norm(tay_rad - true_rad)\n",
    "        err_list.append(err)\n",
    "        \n",
    "        if i == i_plot:\n",
    "            tay_rad_list.append(tay_rad)\n",
    "            true_rad_list.append(true_rad)\n",
    "\n",
    "    b_arr = np.array(b_list)[:-2]\n",
    "    err_arr = np.array(err_list)[:-2]\n",
    "    \n",
    "    print(\"err arr {}: {}\".format(num_scatters, err_arr))\n",
    "    plt.sca(ax1)\n",
    "    conv.plot_lin_fit(\n",
    "        np.log10(b_arr), np.log10(err_arr), \n",
    "        min(np.log(b_arr)), 0*max(np.log(b_arr)), \n",
    "        xlabel='log10(b)', ylabel='log10(err)',\n",
    "        label='n=%d, m={m:.2f}' % num_scatters\n",
    "    )\n",
    "    \n",
    "    \n",
    "plt.sca(ax1)\n",
    "plt.title('')\n",
    "plt.legend()\n",
    "\n",
    "\n",
    "plt.sca(ax2)\n",
    "z = grid[2][plot_inds]\n",
    "plt.plot(z, true_rad_list[0][plot_inds], 'ko-', label='true')\n",
    "for n in num_scatters_list:\n",
    "    plt.plot(z, tay_rad_list[n][plot_inds], 'C{}o-'.format(n), label='n={}'.format(n))\n",
    "\n",
    "plt.title('b={:.2e}'.format(b_list[i_plot]))\n",
    "plt.legend()\n"
   ]
  },
  {
   "cell_type": "code",
   "execution_count": null,
   "metadata": {},
   "outputs": [],
   "source": [
    "for n in num_scatters_list:\n",
    "    print(\"{}: {:.2e}\".format(\n",
    "        n,\n",
    "        np.abs(asym_rad_list[n] - tay_rad_list[n]).max()\n",
    "    ))"
   ]
  },
  {
   "cell_type": "code",
   "execution_count": null,
   "metadata": {},
   "outputs": [],
   "source": [
    "import sys"
   ]
  },
  {
   "cell_type": "code",
   "execution_count": null,
   "metadata": {},
   "outputs": [],
   "source": [
    "sorted(((4,6), (5,1), (6,9)), key=lambda x: x[1])"
   ]
  },
  {
   "cell_type": "code",
   "execution_count": null,
   "metadata": {},
   "outputs": [],
   "source": [
    "del(tay_rad)"
   ]
  },
  {
   "cell_type": "code",
   "execution_count": null,
   "metadata": {},
   "outputs": [],
   "source": [
    "ipc = ipp.Client()"
   ]
  },
  {
   "cell_type": "code",
   "execution_count": null,
   "metadata": {},
   "outputs": [],
   "source": [
    "lv = ipc.load_balanced_view()"
   ]
  },
  {
   "cell_type": "code",
   "execution_count": null,
   "metadata": {},
   "outputs": [],
   "source": [
    "def sz():\n",
    "    import sys\n",
    "    return sorted([(n, sys.getsizeof(v)/2**30) for n, v in globals().items()], key=lambda t: t[1], reverse=True)"
   ]
  },
  {
   "cell_type": "code",
   "execution_count": null,
   "metadata": {},
   "outputs": [],
   "source": [
    "fut = lv.apply(sz)"
   ]
  },
  {
   "cell_type": "code",
   "execution_count": null,
   "metadata": {},
   "outputs": [],
   "source": [
    "fut.done()"
   ]
  }
 ],
 "metadata": {
  "kernelspec": {
   "display_name": "Python 3",
   "language": "python",
   "name": "python3"
  },
  "language_info": {
   "codemirror_mode": {
    "name": "ipython",
    "version": 3
   },
   "file_extension": ".py",
   "mimetype": "text/x-python",
   "name": "python",
   "nbconvert_exporter": "python",
   "pygments_lexer": "ipython3",
   "version": "3.6.6"
  }
 },
 "nbformat": 4,
 "nbformat_minor": 2
}
