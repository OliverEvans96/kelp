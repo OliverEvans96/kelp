{
 "cells": [
  {
   "cell_type": "code",
   "execution_count": 1,
   "metadata": {},
   "outputs": [],
   "source": [
    "%load_ext autoreload\n",
    "%autoreload 2"
   ]
  },
  {
   "cell_type": "code",
   "execution_count": 2,
   "metadata": {},
   "outputs": [],
   "source": [
    "import functools as ft\n",
    "\n",
    "import numpy as np\n",
    "import matplotlib.pyplot as plt\n",
    "import sympy as sp\n",
    "\n",
    "import kelp_compute\n",
    "\n",
    "sp.init_printing()\n",
    "%matplotlib inline"
   ]
  },
  {
   "cell_type": "markdown",
   "metadata": {},
   "source": [
    "from fortran_wrappers.pykelp3d_wrap import pykelp3d_wrap as f90\n",
    "f90.solve_rte_with_callbacks?"
   ]
  },
  {
   "cell_type": "code",
   "execution_count": 3,
   "metadata": {},
   "outputs": [],
   "source": [
    "space = sp.var('x, y, z')\n",
    "x, y, z = space\n",
    "vec_x = sp.Matrix(space)\n",
    "\n",
    "angle = sp.var(r'theta, phi')\n",
    "th, ph = angle\n",
    "vec_om = sp.Matrix([sp.sin(ph)*sp.cos(th), sp.sin(ph)*sp.sin(th), sp.cos(ph)])\n",
    "delta = sp.var(r'Delta')\n",
    "\n",
    "angle_prime = sp.var(r'theta_p, phi_p')\n",
    "thp, php = angle_prime\n",
    "vec_omp = sp.Matrix([sp.sin(php)*sp.cos(thp), sp.sin(php)*sp.sin(thp), sp.cos(php)])"
   ]
  },
  {
   "cell_type": "code",
   "execution_count": 4,
   "metadata": {},
   "outputs": [],
   "source": [
    "def grad(expr, space=space):\n",
    "    return sp.Matrix([sp.diff(expr, d) for d in space])"
   ]
  },
  {
   "cell_type": "code",
   "execution_count": 5,
   "metadata": {},
   "outputs": [],
   "source": [
    "def sphere_integral(expr, angle):\n",
    "    theta, phi = angle\n",
    "    return sp.integrate(expr*sp.sin(phi), (theta, 0, 2*sp.pi), (phi, 0, sp.pi))"
   ]
  },
  {
   "cell_type": "code",
   "execution_count": 6,
   "metadata": {},
   "outputs": [],
   "source": [
    "def dot(a, b):\n",
    "    return sum(a.T * b)"
   ]
  },
  {
   "cell_type": "code",
   "execution_count": 7,
   "metadata": {},
   "outputs": [],
   "source": [
    "def gen_grid(ns, nz, na, rope_spacing, zmax):\n",
    "    ds = rope_spacing/ns\n",
    "    dz = zmax/nz\n",
    "    \n",
    "    x = y = -rope_spacing/2 + ds * (np.arange(ns) + 1/2)\n",
    "    z = dz * (np.arange(nz) + 1/2)\n",
    "    \n",
    "    ntheta = nphi = na\n",
    "    nomega = ntheta*(nphi-2) + 2\n",
    "    \n",
    "    dtheta = 2*np.pi/ntheta\n",
    "    dphi = np.pi/(nphi-1)\n",
    "    \n",
    "    theta = dtheta * np.arange(ntheta)\n",
    "    phi = dphi * np.arange(nphi)\n",
    "\n",
    "    l = np.arange(ntheta)\n",
    "    m = np.arange(nphi)\n",
    "    p = np.arange(nomega)\n",
    "\n",
    "    L, M = np.meshgrid(l, m, indexing='ij')\n",
    "    \n",
    "    phat = (M-1)*ntheta + L + 1\n",
    "    phat[:,0] = 0\n",
    "    phat[:,-1] = nomega-1\n",
    "    \n",
    "    theta_p = np.zeros(nomega)\n",
    "    phi_p = np.zeros(nomega)\n",
    "    theta_p[phat] = theta[L]\n",
    "    theta_p[0] = theta_p[-1] = 0\n",
    "    phi_p[phat] = phi[M]\n",
    "    \n",
    "    # A bit redundant, but seems to work\n",
    "    X, Y, Z, Theta = np.meshgrid(x, y, z, theta_p, indexing='ij')\n",
    "    _, _, _, Phi = np.meshgrid(x, y, z, phi_p, indexing='ij')\n",
    "    \n",
    "    return X, Y, Z, Theta, Phi"
   ]
  },
  {
   "cell_type": "markdown",
   "metadata": {},
   "source": [
    "---"
   ]
  },
  {
   "cell_type": "code",
   "execution_count": 115,
   "metadata": {},
   "outputs": [],
   "source": [
    "def calculate_source(L, b, a, beta, params=()):\n",
    "    L_om = L(*space, *angle, *params)\n",
    "    L_omp = L(*space, *angle_prime, *params)\n",
    "    \n",
    "    deriv = dot(vec_om, grad(L_om))\n",
    "    atten = (a(*space)+b)*L_om\n",
    "    \n",
    "    scat_integrand = beta(dot(vec_om, grad(L_omp))) * L_omp\n",
    "    scat = b * sphere_integral(scat_integrand, angle=angle_prime)\n",
    "    \n",
    "    source = deriv + atten - scat\n",
    "    \n",
    "    return source"
   ]
  },
  {
   "cell_type": "code",
   "execution_count": 116,
   "metadata": {},
   "outputs": [],
   "source": [
    "def calculate_bc(L, params=()):\n",
    "    z = space[-1]\n",
    "    zmin = 0\n",
    "    return L(*space, *angle, *params).subs(z, zmin)"
   ]
  },
  {
   "cell_type": "code",
   "execution_count": 117,
   "metadata": {},
   "outputs": [],
   "source": [
    "b = sp.var('b')\n",
    "params = sp.var('alpha, gamma')"
   ]
  },
  {
   "cell_type": "code",
   "execution_count": 118,
   "metadata": {},
   "outputs": [],
   "source": [
    "def uniform_vsf(delta):\n",
    "    return 1/(4*sp.pi)"
   ]
  },
  {
   "cell_type": "code",
   "execution_count": 119,
   "metadata": {},
   "outputs": [],
   "source": [
    "# TODO: No upwelling light from bottom\n",
    "# Also, spatially homogeneous BC\n",
    "def prod_L(x, y, z, theta, phi, alpha, gamma):\n",
    "    return (\n",
    "        (\n",
    "            (\n",
    "                (2+sp.sin(2*sp.pi*x/alpha))\n",
    "                *(2+sp.sin(2*sp.pi*y/alpha))\n",
    "                *(sp.sin(sp.pi*z/gamma))\n",
    "            ) + sp.exp(-z/gamma)\n",
    "        )\n",
    "        *(2+sp.sin(phi))\n",
    "    )"
   ]
  },
  {
   "cell_type": "code",
   "execution_count": 120,
   "metadata": {},
   "outputs": [],
   "source": [
    "def uniform_L(x, y, z, theta, phi, alpha, gamma):\n",
    "    return alpha"
   ]
  },
  {
   "cell_type": "code",
   "execution_count": 121,
   "metadata": {},
   "outputs": [],
   "source": [
    "def tanh_L(x, y, z, theta, phi, alpha, gamma):\n",
    "    return alpha * sp.tanh(gamma-z)"
   ]
  },
  {
   "cell_type": "code",
   "execution_count": 122,
   "metadata": {},
   "outputs": [],
   "source": [
    "# TODO: Should be periodic on correct grid\n",
    "def prod_a(x, y, z):\n",
    "    return (2+sp.sin(2*sp.pi*x))*(2+sp.sin(2*sp.pi*y))*(1+sp.tanh(z-gamma))"
   ]
  },
  {
   "cell_type": "code",
   "execution_count": 123,
   "metadata": {},
   "outputs": [],
   "source": [
    "def uniform_a(x, y, z):\n",
    "    return 1"
   ]
  },
  {
   "cell_type": "code",
   "execution_count": 124,
   "metadata": {},
   "outputs": [],
   "source": [
    "prod_source = calculate_source(prod_L, b, prod_a, uniform_vsf, params)\n",
    "prod_bc = calculate_bc(prod_L, params)"
   ]
  },
  {
   "cell_type": "code",
   "execution_count": 125,
   "metadata": {},
   "outputs": [],
   "source": [
    "uniform_source = calculate_source(uniform_L, b, uniform_a, uniform_vsf, params)\n",
    "uniform_bc = calculate_bc(uniform_L, params)"
   ]
  },
  {
   "cell_type": "code",
   "execution_count": 126,
   "metadata": {},
   "outputs": [],
   "source": [
    "tanh_source = calculate_source(tanh_L, b, uniform_a, uniform_vsf, params)\n",
    "tanh_bc = calculate_bc(tanh_L, params)"
   ]
  },
  {
   "cell_type": "code",
   "execution_count": 127,
   "metadata": {},
   "outputs": [
    {
     "data": {
      "image/png": "[encoded data removed]",
      "text/latex": [
       "$$- \\alpha b \\tanh{\\left (\\gamma - z \\right )} + \\alpha \\left(b + 1\\right) \\tanh{\\left (\\gamma - z \\right )} + \\alpha \\left(\\tanh^{2}{\\left (\\gamma - z \\right )} - 1\\right) \\cos{\\left (\\phi \\right )}$$"
      ],
      "text/plain": [
       "                                             ⎛    2           ⎞       \n",
       "-α⋅b⋅tanh(γ - z) + α⋅(b + 1)⋅tanh(γ - z) + α⋅⎝tanh (γ - z) - 1⎠⋅cos(φ)"
      ]
     },
     "execution_count": 127,
     "metadata": {},
     "output_type": "execute_result"
    }
   ],
   "source": [
    "tanh_source"
   ]
  },
  {
   "cell_type": "code",
   "execution_count": 128,
   "metadata": {},
   "outputs": [],
   "source": [
    "alpha = 1\n",
    "gamma = 1\n",
    "b = 0.0"
   ]
  },
  {
   "cell_type": "code",
   "execution_count": 129,
   "metadata": {},
   "outputs": [],
   "source": [
    "prod_source_sym = sp.lambdify(\n",
    "    (*space, *angle), \n",
    "    prod_source.subs('alpha', alpha).subs('gamma', gamma).subs('b', b),\n",
    "    modules=(\"sympy\",)\n",
    ")\n",
    "\n",
    "prod_a_sym = sp.lambdify(\n",
    "    space,\n",
    "    prod_a(*space),\n",
    "    modules=(\"sympy\",)\n",
    ")\n",
    "\n",
    "prod_bc_sym = sp.lambdify(\n",
    "    angle, \n",
    "    prod_bc.subs('alpha', alpha).subs('gamma', gamma),\n",
    "    modules=(\"sympy\",)\n",
    ")\n",
    "\n",
    "prod_sol_sym = sp.lambdify(\n",
    "    (*space, *angle), \n",
    "    prod_L(*space, *angle, *params).subs('alpha', alpha).subs('gamma', gamma).subs('b', b),\n",
    "    modules=(\"sympy\",)\n",
    ")\n",
    "\n",
    "uniform_vsf_sym = sp.lambdify(\n",
    "    (delta,), \n",
    "    uniform_vsf(delta),\n",
    "    modules=(\"sympy\",)\n",
    ")\n",
    "\n",
    "uniform_a_sym = sp.lambdify(\n",
    "    space,\n",
    "    uniform_a(*space),\n",
    "    modules=(\"sympy\",)\n",
    ")\n",
    "\n",
    "uniform_source_sym = sp.lambdify(\n",
    "    (*space, *angle), \n",
    "    uniform_source.subs('alpha', alpha).subs('gamma', gamma).subs('b', b),\n",
    "    modules=(\"sympy\",)\n",
    ")\n",
    "\n",
    "uniform_bc_sym = sp.lambdify(\n",
    "    angle, \n",
    "    uniform_bc.subs('alpha', alpha).subs('gamma', gamma),\n",
    "    modules=(\"sympy\",)\n",
    ")\n",
    "\n",
    "uniform_sol_sym = sp.lambdify(\n",
    "    (*space, *angle), \n",
    "    uniform_L(*space, *angle, *params).subs('alpha', alpha).subs('gamma', gamma).subs('b', b),\n",
    "    modules=(\"sympy\",)\n",
    ")\n",
    "\n",
    "\n",
    "tanh_source_sym = sp.lambdify(\n",
    "    (*space, *angle), \n",
    "    tanh_source.subs('alpha', alpha).subs('gamma', gamma).subs('b', b),\n",
    "    modules=(\"sympy\",)\n",
    ")\n",
    "\n",
    "tanh_bc_sym = sp.lambdify(\n",
    "    angle, \n",
    "    tanh_bc.subs('alpha', alpha).subs('gamma', gamma),\n",
    "    modules=(\"sympy\",)\n",
    ")\n",
    "\n",
    "tanh_sol_sym = sp.lambdify(\n",
    "    (*space, *angle), \n",
    "    tanh_L(*space, *angle, *params).subs('alpha', alpha).subs('gamma', gamma).subs('b', b),\n",
    "    modules=(\"sympy\",)\n",
    ")"
   ]
  },
  {
   "cell_type": "code",
   "execution_count": 130,
   "metadata": {},
   "outputs": [],
   "source": [
    "abs_func = uniform_a_sym\n",
    "source_func = tanh_source_sym\n",
    "bc_func = tanh_bc_sym\n",
    "vsf_func = uniform_vsf_sym\n",
    "sol_func = tanh_sol_sym"
   ]
  },
  {
   "cell_type": "code",
   "execution_count": 131,
   "metadata": {},
   "outputs": [],
   "source": [
    "abs_func_N = kelp_compute.sym_to_num(abs_func, *space)\n",
    "source_func_N = kelp_compute.sym_to_num(source_func, *space, *angle)\n",
    "bc_func_N = kelp_compute.sym_to_num(bc_func, *angle)\n",
    "vsf_func_N = kelp_compute.sym_to_num(vsf_func, delta)\n",
    "sol_func_N = kelp_compute.sym_to_num(sol_func, *space, *angle)"
   ]
  },
  {
   "cell_type": "code",
   "execution_count": 132,
   "metadata": {},
   "outputs": [
    {
     "data": {
      "image/png": "[encoded data removed]",
      "text/latex": [
       "$$\\left(\\tanh^{2}{\\left (- z + 1 \\right )} - 1\\right) \\cos{\\left (\\phi \\right )} + 1.0 \\tanh{\\left (- z + 1 \\right )}$$"
      ],
      "text/plain": [
       "⎛    2            ⎞                          \n",
       "⎝tanh (-z + 1) - 1⎠⋅cos(φ) + 1.0⋅tanh(-z + 1)"
      ]
     },
     "execution_count": 132,
     "metadata": {},
     "output_type": "execute_result"
    }
   ],
   "source": [
    "source_func(*space, *angle)"
   ]
  },
  {
   "cell_type": "markdown",
   "metadata": {},
   "source": [
    "## Numerical Solution"
   ]
  },
  {
   "cell_type": "code",
   "execution_count": 133,
   "metadata": {},
   "outputs": [],
   "source": [
    "ns = 4\n",
    "nz = 20\n",
    "na = 4\n",
    "nomega = na*(na-2) + 2\n",
    "rope_spacing = 1\n",
    "zmax = 1\n",
    "\n",
    "lis_opts = \"-i gmres\"\n",
    "fd_flag = False\n",
    "num_scatters = 0\n",
    "\n",
    "scalar_params, results = kelp_compute.solve_rte_with_callbacks_full(\n",
    "    ns, nz, na,\n",
    "    rope_spacing, zmax,\n",
    "    b, abs_func, source_func, bc_func, vsf_func,\n",
    "    num_scatters, fd_flag, lis_opts\n",
    ")"
   ]
  },
  {
   "cell_type": "code",
   "execution_count": 134,
   "metadata": {},
   "outputs": [],
   "source": [
    "x, y, z, theta, phi = gen_grid(ns, nz, na, rope_spacing, zmax)\n",
    "\n",
    "true_sol = sol_func_N(x, y, z, theta, phi)\n",
    "asymptotic_sol = results['rad']"
   ]
  },
  {
   "cell_type": "markdown",
   "metadata": {},
   "source": [
    "## Plot"
   ]
  },
  {
   "cell_type": "code",
   "execution_count": 135,
   "metadata": {},
   "outputs": [
    {
     "data": {
      "text/plain": [
       "<matplotlib.legend.Legend at 0x7fb338506940>"
      ]
     },
     "execution_count": 135,
     "metadata": {},
     "output_type": "execute_result"
    },
    {
     "data": {
      "image/png": "[encoded data removed]",
      "text/plain": [
       "<Figure size 864x288 with 2 Axes>"
      ]
     },
     "metadata": {},
     "output_type": "display_data"
    }
   ],
   "source": [
    "plt.figure(figsize=(12,4))\n",
    "plt.subplot(1,2,1)\n",
    "plt.plot(z[0,0,:,0], abs_func_N(x,y,z)[0,0,:,0], 'C0o-', label='abs')\n",
    "plt.plot(z[0,0,:,0], source_func_N(x,y,z,theta,phi)[0,0,:,0], 'C1o-', label='source')\n",
    "plt.legend()\n",
    "\n",
    "plt.subplot(1,2,2)\n",
    "plt.plot(z[0,0,:,0], true_sol[0,0,:,0], 'C2o-', label='true')\n",
    "plt.plot(z[0,0,:,0], asymptotic_sol[0,0,:,0], 'C3o-', label='asymptotic')\n",
    "plt.plot(z[0,0,:,0], (np.tanh(1)*np.exp(-z))[0,0,:,0], 'C4o-', label='exp')\n",
    "plt.legend()"
   ]
  },
  {
   "cell_type": "markdown",
   "metadata": {},
   "source": [
    "## Debug source term\n",
    "\n",
    "Source term seems too high, so try substituting parameters,\n",
    "then plugging in analytical solution."
   ]
  },
  {
   "cell_type": "code",
   "execution_count": 136,
   "metadata": {},
   "outputs": [],
   "source": [
    "def check_sol(L, b, a, beta, sigma):\n",
    "    L_om = L(*space, *angle)\n",
    "    L_omp = L(*space, *angle_prime)\n",
    "    \n",
    "    deriv = dot(vec_om, grad(L_om))\n",
    "    atten = (a(*space)+b)*L_om\n",
    "    \n",
    "    scat_integrand = beta(dot(vec_om, grad(L_omp))) * L_omp\n",
    "    scat = sphere_integral(scat_integrand, angle=angle_prime)\n",
    "    \n",
    "    source = sigma(*space, *angle)\n",
    "    \n",
    "    return source - deriv + atten - scat"
   ]
  },
  {
   "cell_type": "code",
   "execution_count": 137,
   "metadata": {},
   "outputs": [
    {
     "data": {
      "image/png": "[encoded data removed]",
      "text/latex": [
       "$$1.0 \\tanh{\\left (- z + 1 \\right )}$$"
      ],
      "text/plain": [
       "1.0⋅tanh(-z + 1)"
      ]
     },
     "execution_count": 137,
     "metadata": {},
     "output_type": "execute_result"
    }
   ],
   "source": [
    "check_sol(sol_func, b, abs_func, vsf_func, source_func)"
   ]
  },
  {
   "cell_type": "code",
   "execution_count": 138,
   "metadata": {},
   "outputs": [
    {
     "data": {
      "image/png": "[encoded data removed]",
      "text/plain": [
       "<Figure size 432x288 with 2 Axes>"
      ]
     },
     "metadata": {},
     "output_type": "display_data"
    },
    {
     "data": {
      "image/png": "[encoded data removed]",
      "text/plain": [
       "<Figure size 432x288 with 2 Axes>"
      ]
     },
     "metadata": {},
     "output_type": "display_data"
    },
    {
     "data": {
      "image/png": "[encoded data removed]",
      "text/plain": [
       "<Figure size 432x288 with 2 Axes>"
      ]
     },
     "metadata": {},
     "output_type": "display_data"
    },
    {
     "data": {
      "image/png": "[encoded data removed]",
      "text/plain": [
       "<Figure size 432x288 with 2 Axes>"
      ]
     },
     "metadata": {},
     "output_type": "display_data"
    }
   ],
   "source": [
    "plt.figure()\n",
    "plt.contourf(x[:,0,:,0], z[:,0,:,0], abs_func_N(x,y,z)[:,0,:,0])\n",
    "plt.colorbar()\n",
    "plt.title('abs')\n",
    "plt.xlabel('x')\n",
    "plt.ylabel('z')\n",
    "\n",
    "plt.figure()\n",
    "plt.contourf(x[:,0,:,0], z[:,0,:,0], source_func_N(x,y,z,theta,phi)[:,0,:,0,])\n",
    "plt.colorbar()\n",
    "plt.title('source')\n",
    "plt.xlabel('x')\n",
    "plt.ylabel('z')\n",
    "\n",
    "plt.figure()\n",
    "plt.contourf(x[:,0,:,0], z[:,0,:,0], true_sol[:,0,:,0])\n",
    "plt.colorbar()\n",
    "plt.title('true')\n",
    "plt.xlabel('x')\n",
    "plt.ylabel('z')\n",
    "\n",
    "plt.figure()\n",
    "plt.contourf(x[:,0,:,0], z[:,0,:,0], asymptotic_sol[:,0,:,0])\n",
    "plt.colorbar()\n",
    "plt.title('asymptotic')\n",
    "plt.xlabel('x')\n",
    "plt.ylabel('z')\n",
    "plt.show()"
   ]
  },
  {
   "cell_type": "code",
   "execution_count": null,
   "metadata": {},
   "outputs": [],
   "source": []
  },
  {
   "cell_type": "code",
   "execution_count": 69,
   "metadata": {},
   "outputs": [],
   "source": [
    "def print_stats(x):\n",
    "    print(\"min:\", np.min(x))\n",
    "    print(\"max:\", np.max(x))\n",
    "    print(\"mean:\", np.mean(x))"
   ]
  },
  {
   "cell_type": "code",
   "execution_count": 70,
   "metadata": {},
   "outputs": [
    {
     "name": "stdout",
     "output_type": "stream",
     "text": [
      "abs:\n",
      "min: 1\n",
      "max: 1\n",
      "mean: 1.0\n",
      "\n",
      "source:\n",
      "min: -0.9987255736300098\n",
      "max: 0.9987255736300098\n",
      "mean: -9.238213197532601e-17\n",
      "\n",
      "bc:\n",
      "min: 0.7615941559557649\n",
      "max: 0.7615941559557649\n",
      "mean: 0.7615941559557646\n",
      "\n"
     ]
    }
   ],
   "source": [
    "print(\"abs:\")\n",
    "print_stats(abs_func_N(x, y, z))\n",
    "print()\n",
    "\n",
    "print(\"source:\")\n",
    "print_stats(source_func_N(x, y, z, theta, phi))\n",
    "print()\n",
    "\n",
    "print(\"bc:\")\n",
    "print_stats(bc_func_N(theta, phi))\n",
    "print()"
   ]
  }
 ],
 "metadata": {
  "kernelspec": {
   "display_name": "Python 3 (kelp)",
   "language": "python",
   "name": "kelp"
  },
  "language_info": {
   "codemirror_mode": {
    "name": "ipython",
    "version": 3
   },
   "file_extension": ".py",
   "mimetype": "text/x-python",
   "name": "python",
   "nbconvert_exporter": "python",
   "pygments_lexer": "ipython3",
   "version": "3.6.5"
  }
 },
 "nbformat": 4,
 "nbformat_minor": 2
}
