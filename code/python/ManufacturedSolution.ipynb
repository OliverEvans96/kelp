{
 "cells": [
  {
   "cell_type": "markdown",
   "metadata": {},
   "source": [
    "# Imports"
   ]
  },
  {
   "cell_type": "code",
   "execution_count": 1,
   "metadata": {},
   "outputs": [],
   "source": [
    "%load_ext autoreload\n",
    "%autoreload 2"
   ]
  },
  {
   "cell_type": "code",
   "execution_count": 2,
   "metadata": {},
   "outputs": [
    {
     "name": "stderr",
     "output_type": "stream",
     "text": [
      "/home/oliver/academic/research/kelp/code/python/kelp_compute.py:31: UserWarning: \n",
      "This call to matplotlib.use() has no effect because the backend has already\n",
      "been chosen; matplotlib.use() must be called *before* pylab, matplotlib.pyplot,\n",
      "or matplotlib.backends is imported for the first time.\n",
      "\n",
      "The backend was *originally* set to 'module://ipykernel.pylab.backend_inline' by the following code:\n",
      "  File \"/home/oliver/local/miniconda3/envs/kelp/lib/python3.6/runpy.py\", line 193, in _run_module_as_main\n",
      "    \"__main__\", mod_spec)\n",
      "  File \"/home/oliver/local/miniconda3/envs/kelp/lib/python3.6/runpy.py\", line 85, in _run_code\n",
      "    exec(code, run_globals)\n",
      "  File \"/home/oliver/local/miniconda3/envs/kelp/lib/python3.6/site-packages/ipykernel_launcher.py\", line 16, in <module>\n",
      "    app.launch_new_instance()\n",
      "  File \"/home/oliver/local/miniconda3/envs/kelp/lib/python3.6/site-packages/traitlets/config/application.py\", line 658, in launch_instance\n",
      "    app.start()\n",
      "  File \"/home/oliver/local/miniconda3/envs/kelp/lib/python3.6/site-packages/ipykernel/kernelapp.py\", line 486, in start\n",
      "    self.io_loop.start()\n",
      "  File \"/home/oliver/local/miniconda3/envs/kelp/lib/python3.6/site-packages/tornado/platform/asyncio.py\", line 127, in start\n",
      "    self.asyncio_loop.run_forever()\n",
      "  File \"/home/oliver/local/miniconda3/envs/kelp/lib/python3.6/asyncio/base_events.py\", line 422, in run_forever\n",
      "    self._run_once()\n",
      "  File \"/home/oliver/local/miniconda3/envs/kelp/lib/python3.6/asyncio/base_events.py\", line 1432, in _run_once\n",
      "    handle._run()\n",
      "  File \"/home/oliver/local/miniconda3/envs/kelp/lib/python3.6/asyncio/events.py\", line 145, in _run\n",
      "    self._callback(*self._args)\n",
      "  File \"/home/oliver/local/miniconda3/envs/kelp/lib/python3.6/site-packages/tornado/ioloop.py\", line 759, in _run_callback\n",
      "    ret = callback()\n",
      "  File \"/home/oliver/local/miniconda3/envs/kelp/lib/python3.6/site-packages/tornado/stack_context.py\", line 276, in null_wrapper\n",
      "    return fn(*args, **kwargs)\n",
      "  File \"/home/oliver/local/miniconda3/envs/kelp/lib/python3.6/site-packages/zmq/eventloop/zmqstream.py\", line 536, in <lambda>\n",
      "    self.io_loop.add_callback(lambda : self._handle_events(self.socket, 0))\n",
      "  File \"/home/oliver/local/miniconda3/envs/kelp/lib/python3.6/site-packages/zmq/eventloop/zmqstream.py\", line 450, in _handle_events\n",
      "    self._handle_recv()\n",
      "  File \"/home/oliver/local/miniconda3/envs/kelp/lib/python3.6/site-packages/zmq/eventloop/zmqstream.py\", line 480, in _handle_recv\n",
      "    self._run_callback(callback, msg)\n",
      "  File \"/home/oliver/local/miniconda3/envs/kelp/lib/python3.6/site-packages/zmq/eventloop/zmqstream.py\", line 432, in _run_callback\n",
      "    callback(*args, **kwargs)\n",
      "  File \"/home/oliver/local/miniconda3/envs/kelp/lib/python3.6/site-packages/tornado/stack_context.py\", line 276, in null_wrapper\n",
      "    return fn(*args, **kwargs)\n",
      "  File \"/home/oliver/local/miniconda3/envs/kelp/lib/python3.6/site-packages/ipykernel/kernelbase.py\", line 283, in dispatcher\n",
      "    return self.dispatch_shell(stream, msg)\n",
      "  File \"/home/oliver/local/miniconda3/envs/kelp/lib/python3.6/site-packages/ipykernel/kernelbase.py\", line 233, in dispatch_shell\n",
      "    handler(stream, idents, msg)\n",
      "  File \"/home/oliver/local/miniconda3/envs/kelp/lib/python3.6/site-packages/ipykernel/kernelbase.py\", line 399, in execute_request\n",
      "    user_expressions, allow_stdin)\n",
      "  File \"/home/oliver/local/miniconda3/envs/kelp/lib/python3.6/site-packages/ipykernel/ipkernel.py\", line 208, in do_execute\n",
      "    res = shell.run_cell(code, store_history=store_history, silent=silent)\n",
      "  File \"/home/oliver/local/miniconda3/envs/kelp/lib/python3.6/site-packages/ipykernel/zmqshell.py\", line 537, in run_cell\n",
      "    return super(ZMQInteractiveShell, self).run_cell(*args, **kwargs)\n",
      "  File \"/home/oliver/local/miniconda3/envs/kelp/lib/python3.6/site-packages/IPython/core/interactiveshell.py\", line 2662, in run_cell\n",
      "    raw_cell, store_history, silent, shell_futures)\n",
      "  File \"/home/oliver/local/miniconda3/envs/kelp/lib/python3.6/site-packages/IPython/core/interactiveshell.py\", line 2785, in _run_cell\n",
      "    interactivity=interactivity, compiler=compiler, result=result)\n",
      "  File \"/home/oliver/local/miniconda3/envs/kelp/lib/python3.6/site-packages/IPython/core/interactiveshell.py\", line 2903, in run_ast_nodes\n",
      "    if self.run_code(code, result):\n",
      "  File \"/home/oliver/local/miniconda3/envs/kelp/lib/python3.6/site-packages/IPython/core/interactiveshell.py\", line 2963, in run_code\n",
      "    exec(code_obj, self.user_global_ns, self.user_ns)\n",
      "  File \"<ipython-input-2-cfa3fad40d83>\", line 13, in <module>\n",
      "    import matplotlib.pyplot as plt\n",
      "  File \"/home/oliver/local/miniconda3/envs/kelp/lib/python3.6/site-packages/matplotlib/pyplot.py\", line 71, in <module>\n",
      "    from matplotlib.backends import pylab_setup\n",
      "  File \"/home/oliver/local/miniconda3/envs/kelp/lib/python3.6/site-packages/matplotlib/backends/__init__.py\", line 16, in <module>\n",
      "    line for line in traceback.format_stack()\n",
      "\n",
      "\n",
      "  matplotlib.use('Agg')\n"
     ]
    }
   ],
   "source": [
    "# stdlib\n",
    "import os\n",
    "import shutil\n",
    "import sqlite3\n",
    "\n",
    "# 3rd party\n",
    "import ipyparallel as ipp\n",
    "import ipyvolume as ipv\n",
    "import ipywidgets as ipw\n",
    "import numpy as np\n",
    "from scipy.optimize import minimize\n",
    "import sympy as sp\n",
    "import matplotlib.pyplot as plt\n",
    "\n",
    "# local\n",
    "import convergence as conv\n",
    "import kelp_analyze\n",
    "import kelp_compute\n",
    "import mms\n",
    "import discrete_plot\n",
    "import run_utils as ru\n",
    "from fortran_wrappers.light_utils_wrap import light_utils_wrap as lu"
   ]
  },
  {
   "cell_type": "code",
   "execution_count": 3,
   "metadata": {},
   "outputs": [],
   "source": [
    "sp.init_printing()\n",
    "%matplotlib inline"
   ]
  },
  {
   "cell_type": "markdown",
   "metadata": {},
   "source": [
    "---"
   ]
  },
  {
   "cell_type": "markdown",
   "metadata": {},
   "source": [
    "# User-function definitions"
   ]
  },
  {
   "cell_type": "code",
   "execution_count": 4,
   "metadata": {},
   "outputs": [],
   "source": [
    "def uniform_vsf(delta):\n",
    "    return 1/(4*sp.pi)"
   ]
  },
  {
   "cell_type": "code",
   "execution_count": 5,
   "metadata": {},
   "outputs": [],
   "source": [
    "def linear_vsf(delta):\n",
    "    \"\"\"Defined on [-1, 1].\"\"\"\n",
    "    return (delta+1)/(4*sp.pi)"
   ]
  },
  {
   "cell_type": "code",
   "execution_count": 6,
   "metadata": {},
   "outputs": [],
   "source": [
    "# TODO: No upwelling light from bottom\n",
    "# Also, spatially homogeneous BC\n",
    "def prod_L(x, y, z, theta, phi, alpha, gamma):\n",
    "    return (\n",
    "        (\n",
    "            (\n",
    "                (2+sp.sin(2*sp.pi*x/alpha))\n",
    "                *(2+sp.sin(2*sp.pi*y/alpha))\n",
    "                *(sp.sin(sp.pi*z/gamma))\n",
    "            ) + sp.exp(-z/gamma)\n",
    "        )\n",
    "        * (2+sp.sin(phi))\n",
    "    )"
   ]
  },
  {
   "cell_type": "code",
   "execution_count": 7,
   "metadata": {},
   "outputs": [],
   "source": [
    "def exp_L(x, y, z, theta, phi, b, alpha, gamma):\n",
    "    return sp.exp(-z) - sp.exp(gamma)"
   ]
  },
  {
   "cell_type": "code",
   "execution_count": 8,
   "metadata": {},
   "outputs": [],
   "source": [
    "def down_L(x, y, z, theta, phi, b, alpha, gamma):\n",
    "    return sp.Piecewise((sp.exp(-z), phi<sp.pi/2), (0, True))"
   ]
  },
  {
   "cell_type": "code",
   "execution_count": 9,
   "metadata": {},
   "outputs": [],
   "source": [
    "def zero_L(x, y, z, theta, phi, b, alpha, gamma):\n",
    "    return 0 * sp.Symbol('x')"
   ]
  },
  {
   "cell_type": "code",
   "execution_count": 10,
   "metadata": {},
   "outputs": [],
   "source": [
    "def uniform_L(x, y, z, theta, phi, b, alpha, gamma):\n",
    "    return alpha"
   ]
  },
  {
   "cell_type": "code",
   "execution_count": 11,
   "metadata": {},
   "outputs": [],
   "source": [
    "def tanh_L(x, y, z, theta, phi, b, alpha, gamma):\n",
    "    return alpha * (2+sp.sin(z/10)) * sp.tanh((gamma-z)/10) * z * (2+sp.sin(4*sp.pi*x/alpha) + sp.sin(4*sp.pi*y/alpha)) / 5"
   ]
  },
  {
   "cell_type": "code",
   "execution_count": 12,
   "metadata": {},
   "outputs": [],
   "source": [
    "def tanh_b_L(x, y, z, theta, phi, b, alpha, gamma):\n",
    "    \"\"\"\n",
    "    alpha = rope_spacing\n",
    "    gamma = zmax\n",
    "    \"\"\"\n",
    "    return (\n",
    "        alpha * (z-gamma+sp.tanh((1+b)*(gamma-z)) / sp.tanh((1+b)*gamma))\n",
    "        * (1+z*(sp.sin(2*sp.pi*x/alpha)+sp.sin(2*sp.pi*y/alpha)))\n",
    "        *(1+sp.sin(theta+phi))\n",
    "    )"
   ]
  },
  {
   "cell_type": "code",
   "execution_count": 13,
   "metadata": {},
   "outputs": [],
   "source": [
    "def prod_a(x, y, z, alpha, gamma):\n",
    "    return 1 + (3+sp.sin(2*sp.pi*x/alpha)+sp.sin(2*sp.pi*y/alpha))*(1+sp.tanh(z-gamma))"
   ]
  },
  {
   "cell_type": "code",
   "execution_count": 14,
   "metadata": {},
   "outputs": [],
   "source": [
    "def uniform_a(x, y, z, alpha, gamma):\n",
    "    return 0.2"
   ]
  },
  {
   "cell_type": "code",
   "execution_count": 15,
   "metadata": {},
   "outputs": [],
   "source": [
    "def inv_a(x, y, z, alpha, gamma):\n",
    "    return 1/tanh_L(x, y, z, 0, 0, 0, alpha, gamma)"
   ]
  },
  {
   "cell_type": "markdown",
   "metadata": {},
   "source": [
    "### Decide here which functions to use."
   ]
  },
  {
   "cell_type": "code",
   "execution_count": 16,
   "metadata": {},
   "outputs": [],
   "source": [
    "sol_func = tanh_b_L\n",
    "abs_func = prod_a\n",
    "vsf_func = linear_vsf"
   ]
  },
  {
   "cell_type": "markdown",
   "metadata": {},
   "source": [
    "---"
   ]
  },
  {
   "cell_type": "markdown",
   "metadata": {},
   "source": [
    "# Symbolic Calculations"
   ]
  },
  {
   "cell_type": "markdown",
   "metadata": {},
   "source": [
    "## Calculate source & BC"
   ]
  },
  {
   "cell_type": "code",
   "execution_count": 17,
   "metadata": {},
   "outputs": [],
   "source": [
    "b = sp.var('b')\n",
    "params = sp.var('alpha, gamma')\n",
    "\n",
    "source_expr = mms.calculate_source(sol_func, b, abs_func, vsf_func, params)\n",
    "bc_expr = mms.calculate_bc(sol_func, b, params)\n",
    "\n",
    "# Evaluate other expressions as well for consistency\n",
    "sol_expr = sol_func(*mms.space, *mms.angle, b, *params)\n",
    "abs_expr = abs_func(*mms.space, *params)\n",
    "vsf_expr = vsf_func(mms.delta)"
   ]
  },
  {
   "cell_type": "markdown",
   "metadata": {},
   "source": [
    "## Specify parameter values"
   ]
  },
  {
   "cell_type": "code",
   "execution_count": 18,
   "metadata": {},
   "outputs": [],
   "source": [
    "# Domain size\n",
    "rope_spacing = 1\n",
    "zmax = 1\n",
    "b = 0.5\n",
    "\n",
    "param_vals = {\n",
    "    'alpha': rope_spacing,\n",
    "    'gamma': zmax,\n",
    "    'b': b\n",
    "}"
   ]
  },
  {
   "cell_type": "markdown",
   "metadata": {},
   "source": [
    "## Generate symbolic and numerical functions"
   ]
  },
  {
   "cell_type": "code",
   "execution_count": 19,
   "metadata": {},
   "outputs": [],
   "source": [
    "# Generate symbolic functions\n",
    "source_sym = mms.symify(source_expr, *mms.space, *mms.angle, **param_vals)\n",
    "abs_sym = mms.symify(abs_expr, *mms.space, **param_vals)\n",
    "bc_sym = mms.symify(bc_expr, *mms.angle, **param_vals)\n",
    "vsf_sym = mms.symify(vsf_expr, mms.delta, **param_vals)\n",
    "sol_sym = mms.symify(sol_expr, *mms.space, *mms.angle, **param_vals)\n",
    "\n",
    "# Generate numerical functions\n",
    "abs_func_N = mms.sym_to_num(abs_sym, *mms.space)\n",
    "source_func_N = mms.sym_to_num(source_sym, *mms.space, *mms.angle)\n",
    "bc_func_N = mms.sym_to_num(bc_sym, *mms.angle)\n",
    "vsf_func_N = mms.sym_to_num(vsf_sym, mms.delta)\n",
    "sol_func_N = mms.sym_to_num(sol_sym, *mms.space, *mms.angle)"
   ]
  },
  {
   "cell_type": "markdown",
   "metadata": {},
   "source": [
    "## Problem Summary"
   ]
  },
  {
   "cell_type": "code",
   "execution_count": 20,
   "metadata": {},
   "outputs": [
    {
     "name": "stdout",
     "output_type": "stream",
     "text": [
      "Solution\n"
     ]
    },
    {
     "data": {
      "image/png": "[encoded data removed]",
      "text/latex": [
       "$$L = \\alpha \\left(z \\left(\\sin{\\left (\\frac{2 \\pi x}{\\alpha} \\right )} + \\sin{\\left (\\frac{2 \\pi y}{\\alpha} \\right )}\\right) + 1\\right) \\left(\\sin{\\left (\\phi + \\theta \\right )} + 1\\right) \\left(- \\gamma + z + \\frac{\\tanh{\\left (\\left(b + 1\\right) \\left(\\gamma - z\\right) \\right )}}{\\tanh{\\left (\\gamma \\left(b + 1\\right) \\right )}}\\right)$$"
      ],
      "text/plain": [
       "      ⎛  ⎛   ⎛2⋅π⋅x⎞      ⎛2⋅π⋅y⎞⎞    ⎞                  ⎛         tanh((b + 1\n",
       "L = α⋅⎜z⋅⎜sin⎜─────⎟ + sin⎜─────⎟⎟ + 1⎟⋅(sin(φ + θ) + 1)⋅⎜-γ + z + ───────────\n",
       "      ⎝  ⎝   ⎝  α  ⎠      ⎝  α  ⎠⎠    ⎠                  ⎝            tanh(γ⋅(\n",
       "\n",
       ")⋅(γ - z))⎞\n",
       "──────────⎟\n",
       "b + 1))   ⎠"
      ]
     },
     "metadata": {},
     "output_type": "display_data"
    },
    {
     "name": "stdout",
     "output_type": "stream",
     "text": [
      "\n",
      "Absorption Coefficient\n"
     ]
    },
    {
     "data": {
      "image/png": "[encoded data removed]",
      "text/latex": [
       "$$a = \\left(\\tanh{\\left (- \\gamma + z \\right )} + 1\\right) \\left(\\sin{\\left (\\frac{2 \\pi x}{\\alpha} \\right )} + \\sin{\\left (\\frac{2 \\pi y}{\\alpha} \\right )} + 3\\right) + 1$$"
      ],
      "text/plain": [
       "                       ⎛   ⎛2⋅π⋅x⎞      ⎛2⋅π⋅y⎞    ⎞    \n",
       "a = (tanh(-γ + z) + 1)⋅⎜sin⎜─────⎟ + sin⎜─────⎟ + 3⎟ + 1\n",
       "                       ⎝   ⎝  α  ⎠      ⎝  α  ⎠    ⎠    "
      ]
     },
     "metadata": {},
     "output_type": "display_data"
    },
    {
     "name": "stdout",
     "output_type": "stream",
     "text": [
      "\n",
      "VSF\n"
     ]
    },
    {
     "data": {
      "image/png": "[encoded data removed]",
      "text/latex": [
       "$$\\beta = \\frac{\\Delta + 1}{4 \\pi}$$"
      ],
      "text/plain": [
       "    Δ + 1\n",
       "β = ─────\n",
       "     4⋅π "
      ]
     },
     "metadata": {},
     "output_type": "display_data"
    },
    {
     "name": "stdout",
     "output_type": "stream",
     "text": [
      "Boundary Condition\n"
     ]
    },
    {
     "data": {
      "image/png": "[encoded data removed]",
      "text/latex": [
       "$$L_{0} = \\alpha \\left(- \\gamma + 1\\right) \\left(\\sin{\\left (\\phi + \\theta \\right )} + 1\\right)$$"
      ],
      "text/plain": [
       "L₀ = α⋅(-γ + 1)⋅(sin(φ + θ) + 1)"
      ]
     },
     "metadata": {},
     "output_type": "display_data"
    },
    {
     "name": "stdout",
     "output_type": "stream",
     "text": [
      "\n",
      "Source\n"
     ]
    },
    {
     "data": {
      "image/png": "[encoded data removed]",
      "text/latex": [
       "$$\\sigma = \\alpha \\left(z \\left(\\sin{\\left (\\frac{2 \\pi x}{\\alpha} \\right )} + \\sin{\\left (\\frac{2 \\pi y}{\\alpha} \\right )}\\right) + 1\\right) \\left(\\sin{\\left (\\phi + \\theta \\right )} + 1\\right) \\left(b + \\left(\\tanh{\\left (- \\gamma + z \\right )} + 1\\right) \\left(\\sin{\\left (\\frac{2 \\pi x}{\\alpha} \\right )} + \\sin{\\left (\\frac{2 \\pi y}{\\alpha} \\right )} + 3\\right) + 1\\right) \\left(- \\gamma + z + \\frac{\\tanh{\\left (\\left(b + 1\\right) \\left(\\gamma - z\\right) \\right )}}{\\tanh{\\left (\\gamma \\left(b + 1\\right) \\right )}}\\right) - b \\left(\\frac{\\alpha \\left(z \\left(\\sin{\\left (\\frac{2 \\pi x}{\\alpha} \\right )} + \\sin{\\left (\\frac{2 \\pi y}{\\alpha} \\right )}\\right) + 1\\right) \\left(\\frac{\\sin{\\left (\\phi \\right )} \\sin{\\left (\\theta \\right )}}{3} + \\frac{\\cos{\\left (\\phi \\right )}}{3}\\right) \\left(- \\gamma + z + \\frac{\\tanh{\\left (\\left(b + 1\\right) \\left(\\gamma - z\\right) \\right )}}{\\tanh{\\left (\\gamma \\left(b + 1\\right) \\right )}}\\right)}{4 \\pi} - \\frac{\\alpha \\left(z \\left(\\sin{\\left (\\frac{2 \\pi x}{\\alpha} \\right )} + \\sin{\\left (\\frac{2 \\pi y}{\\alpha} \\right )}\\right) + 1\\right) \\left(- \\gamma + z + \\frac{\\tanh{\\left (\\left(b + 1\\right) \\left(\\gamma - z\\right) \\right )}}{\\tanh{\\left (\\gamma \\left(b + 1\\right) \\right )}}\\right) \\left(- \\frac{\\pi \\sin{\\left (\\phi \\right )} \\sin{\\left (\\theta \\right )}}{2} - \\frac{\\sin{\\left (\\phi \\right )} \\sin{\\left (\\theta \\right )}}{3} - \\frac{\\cos{\\left (\\phi \\right )}}{3}\\right)}{4 \\pi} - \\frac{\\alpha \\left(z \\left(\\sin{\\left (\\frac{2 \\pi x}{\\alpha} \\right )} + \\sin{\\left (\\frac{2 \\pi y}{\\alpha} \\right )}\\right) + 1\\right) \\left(- \\gamma + z + \\frac{\\tanh{\\left (\\left(b + 1\\right) \\left(\\gamma - z\\right) \\right )}}{\\tanh{\\left (\\gamma \\left(b + 1\\right) \\right )}}\\right) \\left(\\frac{\\sin{\\left (\\phi \\right )} \\sin{\\left (\\theta \\right )}}{3} - \\frac{2 \\pi \\sin{\\left (\\phi \\right )} \\cos{\\left (\\theta \\right )}}{3} + \\frac{\\cos{\\left (\\phi \\right )}}{3} - 2 \\pi\\right)}{4 \\pi} + \\frac{\\alpha \\left(z \\left(\\sin{\\left (\\frac{2 \\pi x}{\\alpha} \\right )} + \\sin{\\left (\\frac{2 \\pi y}{\\alpha} \\right )}\\right) + 1\\right) \\left(- \\gamma + z + \\frac{\\tanh{\\left (\\left(b + 1\\right) \\left(\\gamma - z\\right) \\right )}}{\\tanh{\\left (\\gamma \\left(b + 1\\right) \\right )}}\\right) \\left(- \\frac{\\pi \\sin{\\left (\\phi \\right )} \\sin{\\left (\\theta \\right )}}{2} - \\frac{\\sin{\\left (\\phi \\right )} \\sin{\\left (\\theta \\right )}}{3} + \\frac{2 \\pi \\sin{\\left (\\phi \\right )} \\cos{\\left (\\theta \\right )}}{3} - \\frac{\\cos{\\left (\\phi \\right )}}{3} + 2 \\pi\\right)}{4 \\pi}\\right) + 2 \\pi z \\left(\\sin{\\left (\\phi + \\theta \\right )} + 1\\right) \\left(- \\gamma + z + \\frac{\\tanh{\\left (\\left(b + 1\\right) \\left(\\gamma - z\\right) \\right )}}{\\tanh{\\left (\\gamma \\left(b + 1\\right) \\right )}}\\right) \\sin{\\left (\\phi \\right )} \\sin{\\left (\\theta \\right )} \\cos{\\left (\\frac{2 \\pi y}{\\alpha} \\right )} + 2 \\pi z \\left(\\sin{\\left (\\phi + \\theta \\right )} + 1\\right) \\left(- \\gamma + z + \\frac{\\tanh{\\left (\\left(b + 1\\right) \\left(\\gamma - z\\right) \\right )}}{\\tanh{\\left (\\gamma \\left(b + 1\\right) \\right )}}\\right) \\sin{\\left (\\phi \\right )} \\cos{\\left (\\theta \\right )} \\cos{\\left (\\frac{2 \\pi x}{\\alpha} \\right )} + \\left(\\alpha \\left(z \\left(\\sin{\\left (\\frac{2 \\pi x}{\\alpha} \\right )} + \\sin{\\left (\\frac{2 \\pi y}{\\alpha} \\right )}\\right) + 1\\right) \\left(\\frac{\\left(- b - 1\\right) \\left(- \\tanh^{2}{\\left (\\left(b + 1\\right) \\left(\\gamma - z\\right) \\right )} + 1\\right)}{\\tanh{\\left (\\gamma \\left(b + 1\\right) \\right )}} + 1\\right) \\left(\\sin{\\left (\\phi + \\theta \\right )} + 1\\right) + \\alpha \\left(\\sin{\\left (\\frac{2 \\pi x}{\\alpha} \\right )} + \\sin{\\left (\\frac{2 \\pi y}{\\alpha} \\right )}\\right) \\left(\\sin{\\left (\\phi + \\theta \\right )} + 1\\right) \\left(- \\gamma + z + \\frac{\\tanh{\\left (\\left(b + 1\\right) \\left(\\gamma - z\\right) \\right )}}{\\tanh{\\left (\\gamma \\left(b + 1\\right) \\right )}}\\right)\\right) \\cos{\\left (\\phi \\right )}$$"
      ],
      "text/plain": [
       "                                                                              \n",
       "                                                                              \n",
       "      ⎛  ⎛   ⎛2⋅π⋅x⎞      ⎛2⋅π⋅y⎞⎞    ⎞                  ⎛                    \n",
       "σ = α⋅⎜z⋅⎜sin⎜─────⎟ + sin⎜─────⎟⎟ + 1⎟⋅(sin(φ + θ) + 1)⋅⎜b + (tanh(-γ + z) + \n",
       "      ⎝  ⎝   ⎝  α  ⎠      ⎝  α  ⎠⎠    ⎠                  ⎝                    \n",
       "\n",
       "                                                                           ⎛  \n",
       "                                                                           ⎜α⋅\n",
       "   ⎛   ⎛2⋅π⋅x⎞      ⎛2⋅π⋅y⎞    ⎞    ⎞ ⎛         tanh((b + 1)⋅(γ - z))⎞     ⎜  \n",
       "1)⋅⎜sin⎜─────⎟ + sin⎜─────⎟ + 3⎟ + 1⎟⋅⎜-γ + z + ─────────────────────⎟ - b⋅⎜──\n",
       "   ⎝   ⎝  α  ⎠      ⎝  α  ⎠    ⎠    ⎠ ⎝            tanh(γ⋅(b + 1))   ⎠     ⎝  \n",
       "\n",
       "⎛  ⎛   ⎛2⋅π⋅x⎞      ⎛2⋅π⋅y⎞⎞    ⎞ ⎛sin(φ)⋅sin(θ)   cos(φ)⎞ ⎛         tanh((b +\n",
       "⎜z⋅⎜sin⎜─────⎟ + sin⎜─────⎟⎟ + 1⎟⋅⎜───────────── + ──────⎟⋅⎜-γ + z + ─────────\n",
       "⎝  ⎝   ⎝  α  ⎠      ⎝  α  ⎠⎠    ⎠ ⎝      3           3   ⎠ ⎝            tanh(γ\n",
       "──────────────────────────────────────────────────────────────────────────────\n",
       "                                           4⋅π                                \n",
       "\n",
       " 1)⋅(γ - z))⎞     ⎛  ⎛   ⎛2⋅π⋅x⎞      ⎛2⋅π⋅y⎞⎞    ⎞ ⎛         tanh((b + 1)⋅(γ \n",
       "────────────⎟   α⋅⎜z⋅⎜sin⎜─────⎟ + sin⎜─────⎟⎟ + 1⎟⋅⎜-γ + z + ────────────────\n",
       "⋅(b + 1))   ⎠     ⎝  ⎝   ⎝  α  ⎠      ⎝  α  ⎠⎠    ⎠ ⎝            tanh(γ⋅(b + 1\n",
       "───────────── - ──────────────────────────────────────────────────────────────\n",
       "                                                                       4⋅π    \n",
       "\n",
       "- z))⎞ ⎛  π⋅sin(φ)⋅sin(θ)   sin(φ)⋅sin(θ)   cos(φ)⎞     ⎛  ⎛   ⎛2⋅π⋅x⎞      ⎛2\n",
       "─────⎟⋅⎜- ─────────────── - ───────────── - ──────⎟   α⋅⎜z⋅⎜sin⎜─────⎟ + sin⎜─\n",
       "))   ⎠ ⎝         2                3           3   ⎠     ⎝  ⎝   ⎝  α  ⎠      ⎝ \n",
       "─────────────────────────────────────────────────── - ────────────────────────\n",
       "                                                                              \n",
       "\n",
       "⋅π⋅y⎞⎞    ⎞ ⎛         tanh((b + 1)⋅(γ - z))⎞ ⎛sin(φ)⋅sin(θ)   2⋅π⋅sin(φ)⋅cos(θ\n",
       "────⎟⎟ + 1⎟⋅⎜-γ + z + ─────────────────────⎟⋅⎜───────────── - ────────────────\n",
       " α  ⎠⎠    ⎠ ⎝            tanh(γ⋅(b + 1))   ⎠ ⎝      3                 3       \n",
       "──────────────────────────────────────────────────────────────────────────────\n",
       "                                  4⋅π                                         \n",
       "\n",
       ")   cos(φ)      ⎞     ⎛  ⎛   ⎛2⋅π⋅x⎞      ⎛2⋅π⋅y⎞⎞    ⎞ ⎛         tanh((b + 1)\n",
       "─ + ────── - 2⋅π⎟   α⋅⎜z⋅⎜sin⎜─────⎟ + sin⎜─────⎟⎟ + 1⎟⋅⎜-γ + z + ────────────\n",
       "      3         ⎠     ⎝  ⎝   ⎝  α  ⎠      ⎝  α  ⎠⎠    ⎠ ⎝            tanh(γ⋅(b\n",
       "───────────────── + ──────────────────────────────────────────────────────────\n",
       "                                                                              \n",
       "\n",
       "⋅(γ - z))⎞ ⎛  π⋅sin(φ)⋅sin(θ)   sin(φ)⋅sin(θ)   2⋅π⋅sin(φ)⋅cos(θ)   cos(φ)    \n",
       "─────────⎟⋅⎜- ─────────────── - ───────────── + ───────────────── - ────── + 2\n",
       " + 1))   ⎠ ⎝         2                3                 3             3       \n",
       "──────────────────────────────────────────────────────────────────────────────\n",
       "          4⋅π                                                                 \n",
       "\n",
       "  ⎞⎞                                                                          \n",
       "⋅π⎟⎟                                                                          \n",
       "  ⎠⎟                          ⎛         tanh((b + 1)⋅(γ - z))⎞                \n",
       "───⎟ + 2⋅π⋅z⋅(sin(φ + θ) + 1)⋅⎜-γ + z + ─────────────────────⎟⋅sin(φ)⋅sin(θ)⋅c\n",
       "   ⎠                          ⎝            tanh(γ⋅(b + 1))   ⎠                \n",
       "\n",
       "                                                                              \n",
       "                                                                              \n",
       "  ⎛2⋅π⋅y⎞                          ⎛         tanh((b + 1)⋅(γ - z))⎞           \n",
       "os⎜─────⎟ + 2⋅π⋅z⋅(sin(φ + θ) + 1)⋅⎜-γ + z + ─────────────────────⎟⋅sin(φ)⋅cos\n",
       "  ⎝  α  ⎠                          ⎝            tanh(γ⋅(b + 1))   ⎠           \n",
       "\n",
       "                                                                              \n",
       "                 ⎛                                    ⎛         ⎛      2      \n",
       "       ⎛2⋅π⋅x⎞   ⎜  ⎛  ⎛   ⎛2⋅π⋅x⎞      ⎛2⋅π⋅y⎞⎞    ⎞ ⎜(-b - 1)⋅⎝- tanh ((b + \n",
       "(θ)⋅cos⎜─────⎟ + ⎜α⋅⎜z⋅⎜sin⎜─────⎟ + sin⎜─────⎟⎟ + 1⎟⋅⎜───────────────────────\n",
       "       ⎝  α  ⎠   ⎝  ⎝  ⎝   ⎝  α  ⎠      ⎝  α  ⎠⎠    ⎠ ⎝            tanh(γ⋅(b +\n",
       "\n",
       "                                                                              \n",
       "               ⎞    ⎞                                                         \n",
       "1)⋅(γ - z)) + 1⎠    ⎟                      ⎛   ⎛2⋅π⋅x⎞      ⎛2⋅π⋅y⎞⎞          \n",
       "──────────────── + 1⎟⋅(sin(φ + θ) + 1) + α⋅⎜sin⎜─────⎟ + sin⎜─────⎟⎟⋅(sin(φ + \n",
       " 1))                ⎠                      ⎝   ⎝  α  ⎠      ⎝  α  ⎠⎠          \n",
       "\n",
       "                                                \n",
       "                                        ⎞       \n",
       "        ⎛         tanh((b + 1)⋅(γ - z))⎞⎟       \n",
       "θ) + 1)⋅⎜-γ + z + ─────────────────────⎟⎟⋅cos(φ)\n",
       "        ⎝            tanh(γ⋅(b + 1))   ⎠⎠       "
      ]
     },
     "metadata": {},
     "output_type": "display_data"
    },
    {
     "name": "stdout",
     "output_type": "stream",
     "text": [
      "\n"
     ]
    }
   ],
   "source": [
    "print(\"Solution\")\n",
    "mms.display_eq('L', sol_expr)\n",
    "print()\n",
    "\n",
    "print(\"Absorption Coefficient\")\n",
    "mms.display_eq('a', abs_expr)\n",
    "print()\n",
    "\n",
    "print(\"VSF\")\n",
    "mms.display_eq('beta', vsf_expr)\n",
    "\n",
    "print(\"Boundary Condition\")\n",
    "mms.display_eq('L_0', bc_expr)\n",
    "print()\n",
    "\n",
    "print(\"Source\")\n",
    "mms.display_eq('sigma', source_expr)\n",
    "print()"
   ]
  },
  {
   "cell_type": "markdown",
   "metadata": {},
   "source": [
    "---\n",
    "\n",
    "# Symbolic Analysis"
   ]
  },
  {
   "cell_type": "markdown",
   "metadata": {},
   "source": [
    "## Check solution constraints\n",
    "\n",
    "- Everything is periodic in x, y\n",
    "- Absorption coefficient is positive\n",
    "- Boundary condition depends only on angle\n",
    "- No upwelling light from below\n",
    "- Properly normalized VSF"
   ]
  },
  {
   "cell_type": "code",
   "execution_count": 21,
   "metadata": {},
   "outputs": [
    {
     "name": "stdout",
     "output_type": "stream",
     "text": [
      "bottom: True\n",
      "x: True\n",
      "y: True\n",
      "VSF: True\n"
     ]
    }
   ],
   "source": [
    "# Check bottom BC\n",
    "print('bottom:', sp.expand(sol_expr.subs('z',sp.Symbol('gamma'))) == 0)\n",
    "\n",
    "# Check periodicity\n",
    "smax = sp.Symbol('alpha')/2\n",
    "smin = -smax\n",
    "print('x:', sp.expand(sol_expr.subs('x',smax) - sol_expr.subs('x',smin)) == 0)\n",
    "print('y:', sp.expand(sol_expr.subs('y',smax) - sol_expr.subs('y',smin)) == 0)\n",
    "\n",
    "# Check VSF normalization (Should be 1 over whole sphere, or 1/(2pi) on [-1, 1].)\n",
    "print(\n",
    "    \"VSF:\",\n",
    "    1 == sp.expand(\n",
    "        mms.sphere_integral(\n",
    "            vsf_expr.subs(\n",
    "                'Delta', \n",
    "                mms.dot(\n",
    "                    mms.vec_om, \n",
    "                    mms.vec_omp)\n",
    "            ), \n",
    "            angle=mms.angle\n",
    "        )\n",
    "    )\n",
    ")"
   ]
  },
  {
   "cell_type": "markdown",
   "metadata": {},
   "source": [
    "## Check source term\n",
    "\n",
    "If source term appears nonzero, try substituting parameters,\n",
    "then plugging in analytical solution.\n",
    "\n",
    "The result should be 0."
   ]
  },
  {
   "cell_type": "code",
   "execution_count": 22,
   "metadata": {},
   "outputs": [
    {
     "data": {
      "image/png": "[encoded data removed]",
      "text/latex": [
       "$$- \\frac{\\left(z \\left(\\sin{\\left (2 \\pi x \\right )} + \\sin{\\left (2 \\pi y \\right )}\\right) + 1\\right) \\left(1.38777878078145 \\cdot 10^{-17} z \\sin{\\left (\\phi \\right )} \\sin{\\left (\\theta \\right )} + 1.38777878078145 \\cdot 10^{-17} z \\cos{\\left (\\phi \\right )} + 1.38777878078145 \\cdot 10^{-17} \\sin{\\left (\\phi \\right )} \\sin{\\left (\\theta \\right )} \\tanh{\\left (1.5 z - 1.5 \\right )} - 1.38777878078145 \\cdot 10^{-17} \\sin{\\left (\\phi \\right )} \\sin{\\left (\\theta \\right )} + 5.10702591327572 \\cdot 10^{-15} \\pi \\sin{\\left (\\phi + \\theta \\right )} \\cos{\\left (\\phi \\right )} \\tanh^{2}{\\left (1.5 z - 1.5 \\right )} - 3.21964677141295 \\cdot 10^{-15} \\pi \\sin{\\left (\\phi + \\theta \\right )} \\cos{\\left (\\phi \\right )} + 5.10702591327572 \\cdot 10^{-15} \\pi \\cos{\\left (\\phi \\right )} \\tanh^{2}{\\left (1.5 z - 1.5 \\right )} + 1.38777878078145 \\cdot 10^{-17} \\cos{\\left (\\phi \\right )} \\tanh{\\left (1.5 z - 1.5 \\right )} - 3.21964677141295 \\cdot 10^{-15} \\pi \\cos{\\left (\\phi \\right )} - 1.38777878078145 \\cdot 10^{-17} \\cos{\\left (\\phi \\right )}\\right)}{\\pi}$$"
      ],
      "text/plain": [
       "                                   ⎛                                          \n",
       "-(z⋅(sin(2⋅π⋅x) + sin(2⋅π⋅y)) + 1)⋅⎝1.38777878078145e-17⋅z⋅sin(φ)⋅sin(θ) + 1.3\n",
       "──────────────────────────────────────────────────────────────────────────────\n",
       "                                                                              \n",
       "\n",
       "                                                                              \n",
       "8777878078145e-17⋅z⋅cos(φ) + 1.38777878078145e-17⋅sin(φ)⋅sin(θ)⋅tanh(1.5⋅z - 1\n",
       "──────────────────────────────────────────────────────────────────────────────\n",
       "                                                                              \n",
       "\n",
       "                                                                              \n",
       ".5) - 1.38777878078145e-17⋅sin(φ)⋅sin(θ) + 5.10702591327572e-15⋅π⋅sin(φ + θ)⋅c\n",
       "──────────────────────────────────────────────────────────────────────────────\n",
       "                                                                           π  \n",
       "\n",
       "          2                                                                   \n",
       "os(φ)⋅tanh (1.5⋅z - 1.5) - 3.21964677141295e-15⋅π⋅sin(φ + θ)⋅cos(φ) + 5.107025\n",
       "──────────────────────────────────────────────────────────────────────────────\n",
       "                                                                              \n",
       "\n",
       "                          2                                                   \n",
       "91327572e-15⋅π⋅cos(φ)⋅tanh (1.5⋅z - 1.5) + 1.38777878078145e-17⋅cos(φ)⋅tanh(1.\n",
       "──────────────────────────────────────────────────────────────────────────────\n",
       "                                                                              \n",
       "\n",
       "                                                                        ⎞ \n",
       "5⋅z - 1.5) - 3.21964677141295e-15⋅π⋅cos(φ) - 1.38777878078145e-17⋅cos(φ)⎠ \n",
       "──────────────────────────────────────────────────────────────────────────\n",
       "                                                                          "
      ]
     },
     "execution_count": 22,
     "metadata": {},
     "output_type": "execute_result"
    }
   ],
   "source": [
    "diff = mms.check_sol(sol_sym, b, abs_sym, vsf_sym, source_sym)\n",
    "diff"
   ]
  },
  {
   "cell_type": "code",
   "execution_count": 23,
   "metadata": {},
   "outputs": [],
   "source": [
    "num_diff = sp.lambdify(\n",
    "    (*mms.space, *mms.angle),\n",
    "    diff,\n",
    "    modules=(\"numpy\",)\n",
    ")"
   ]
  },
  {
   "cell_type": "code",
   "execution_count": 24,
   "metadata": {},
   "outputs": [
    {
     "data": {
      "image/png": "[encoded data removed]",
      "text/latex": [
       "$$1.738851702609377e-14$$"
      ],
      "text/plain": [
       "1.738851702609377e-14"
      ]
     },
     "execution_count": 24,
     "metadata": {},
     "output_type": "execute_result"
    }
   ],
   "source": [
    "# Check numerical max on grid in case of numerical error in above expression\n",
    "np.max(num_diff(*mms.gen_grid(10, 10, 10, 10, 1, 1)))\n"
   ]
  },
  {
   "cell_type": "markdown",
   "metadata": {},
   "source": [
    "## Examine solution dervatives"
   ]
  },
  {
   "cell_type": "code",
   "execution_count": 25,
   "metadata": {},
   "outputs": [
    {
     "data": {
      "text/plain": [
       "{'x': 1.413505298329503,\n",
       " 'y': 1.413505298329503,\n",
       " 'z': 3.6258993880023818,\n",
       " 'theta': 0.4197979029529287,\n",
       " 'phi': 0.4197979029529287}"
      ]
     },
     "execution_count": 25,
     "metadata": {},
     "output_type": "execute_result"
    }
   ],
   "source": [
    "conv.max_derivs(sol_expr, rope_spacing, zmax, do_space=True, do_angle=True, **param_vals)"
   ]
  },
  {
   "cell_type": "code",
   "execution_count": 26,
   "metadata": {},
   "outputs": [
    {
     "data": {
      "text/plain": [
       "{'x': 5.677129850288367, 'y': 5.677129850288367, 'z': 4.98752080385784}"
      ]
     },
     "execution_count": 26,
     "metadata": {},
     "output_type": "execute_result"
    }
   ],
   "source": [
    "conv.max_derivs(abs_expr, rope_spacing, zmax, do_space=True, do_angle=False, **param_vals)"
   ]
  },
  {
   "cell_type": "code",
   "execution_count": 27,
   "metadata": {},
   "outputs": [
    {
     "data": {
      "text/plain": [
       "{'x': 13.096543106597515,\n",
       " 'y': 11.812278884074438,\n",
       " 'z': 27.663715828883845,\n",
       " 'theta': 2.8344016108354273,\n",
       " 'phi': 3.791281859537098}"
      ]
     },
     "execution_count": 27,
     "metadata": {},
     "output_type": "execute_result"
    }
   ],
   "source": [
    "conv.max_derivs(source_expr, rope_spacing, zmax, do_space=True, do_angle=True, **param_vals)"
   ]
  },
  {
   "cell_type": "markdown",
   "metadata": {},
   "source": [
    "---\n",
    "\n",
    "# FD Verification"
   ]
  },
  {
   "cell_type": "markdown",
   "metadata": {},
   "source": [
    "## IPyParallel Setup"
   ]
  },
  {
   "cell_type": "code",
   "execution_count": null,
   "metadata": {},
   "outputs": [],
   "source": [
    "#remote_config = kelp_param.ParamSpanRemoteConfig()\n",
    "ipc = ipp.Client()\n",
    "lv = ipc.load_balanced_view()\n",
    "dv = ipc.direct_view()\n",
    "print(ipc.ids)"
   ]
  },
  {
   "cell_type": "code",
   "execution_count": null,
   "metadata": {},
   "outputs": [],
   "source": [
    "ipc.queue_status()"
   ]
  },
  {
   "cell_type": "markdown",
   "metadata": {},
   "source": [
    "## Single Space"
   ]
  },
  {
   "cell_type": "markdown",
   "metadata": {},
   "source": [
    "### Compute"
   ]
  },
  {
   "cell_type": "code",
   "execution_count": null,
   "metadata": {
    "scrolled": true
   },
   "outputs": [],
   "source": [
    "# base_dir = os.path.join(os.environ['SCRATCH'], 'kelp-results')\n",
    "base_dir = '/home/oliver/academic/research/kelp-results'\n",
    "\n",
    "na = 6\n",
    "\n",
    "study_name = 'verify_ss_noscat_nofd_32x{}'.format(na)\n",
    "study_dir = os.path.join(base_dir, study_name)\n",
    "\n",
    "ns_list = [4, 8, 16, 32]\n",
    "#ns_list = [4, 8, 12, 16, 20]\n",
    "\n",
    "ntheta = na\n",
    "nphi = na\n",
    "\n",
    "# TODO: Don't actually delete results\n",
    "#shutil.rmtree(os.path.join(base_dir, study_name), ignore_errors=True)\n",
    "\n",
    "num_scatters = 0\n",
    "fd_flag = False\n",
    "\n",
    "b = 0\n",
    "param_vals['b'] = 0\n",
    "\n",
    "combine_thread, gs_fut = kelp_compute.verify_single_space_compute(\n",
    "    study_name, \n",
    "    ns_list, ntheta, nphi, \n",
    "    rope_spacing, zmax, b, \n",
    "    sol_expr, abs_expr, source_expr, bc_expr, vsf_expr,\n",
    "    num_scatters, fd_flag,\n",
    "    param_vals, base_dir=base_dir)"
   ]
  },
  {
   "cell_type": "markdown",
   "metadata": {},
   "source": [
    "### Plot"
   ]
  },
  {
   "cell_type": "code",
   "execution_count": null,
   "metadata": {},
   "outputs": [],
   "source": [
    "study_name = 'verify_ss_noscat_nofd_32x6'\n",
    "study_dir = os.path.join(base_dir, study_name)\n",
    "\n",
    "db_path = os.path.join(study_dir, '{}.db'.format(study_name))\n",
    "conn = sqlite3.Connection(db_path)"
   ]
  },
  {
   "cell_type": "code",
   "execution_count": null,
   "metadata": {},
   "outputs": [],
   "source": [
    "#norm = lambda x: np.linalg.norm(np.ravel(x), ord=2)\n",
    "#norm = lambda x: np.sqrt(np.sum(x)**2/np.size(x))\n",
    "norm = lambda x: np.mean(np.abs(x))\n",
    "\n",
    "dim_names = ('ns', 'nz', 'ntheta', 'nphi')\n",
    "dim_resolutions = kelp_analyze.get_res_lists(conn, study_name)\n",
    "dim_dict = dict(zip(dim_names, dim_resolutions))\n",
    "\n",
    "ns_list = dim_dict['ns']\n",
    "\n",
    "err_dict = {}\n",
    "for ns in ns_list:\n",
    "    results_list = kelp_analyze.query_results(\n",
    "        conn, study_name,\n",
    "        ns=ns,\n",
    "        nz=ns,\n",
    "    )\n",
    "\n",
    "    rad = results_list[0]['rad'][:]\n",
    "    true_rad = results_list[0]['true_rad'][:]\n",
    "\n",
    "    err = norm(rad - true_rad)\n",
    "    err_dict[ns] = err\n",
    "\n",
    "res_arr = rope_spacing / np.array(ns_list)\n",
    "err_arr = np.array([err_dict[ns] for ns in ns_list])\n",
    "\n",
    "conv.plot_lin_fit(\n",
    "    np.log(res_arr), np.log(err_arr), \n",
    "    min(np.log(res_arr))+.1, max(np.log(res_arr)), \n",
    "    xlabel='ds', ylabel='err'\n",
    ")"
   ]
  },
  {
   "cell_type": "markdown",
   "metadata": {},
   "source": [
    "## Multi-dimensional FD"
   ]
  },
  {
   "cell_type": "markdown",
   "metadata": {},
   "source": [
    "### Compute"
   ]
  },
  {
   "cell_type": "markdown",
   "metadata": {},
   "source": [
    "### Plot"
   ]
  },
  {
   "cell_type": "code",
   "execution_count": null,
   "metadata": {},
   "outputs": [],
   "source": [
    "#norm = lambda x: np.linalg.norm(np.ravel(x), ord=2)\n",
    "#norm = lambda x: np.sqrt(np.sum(x)**2/np.size(x))\n",
    "norm = lambda x: np.mean(np.abs(x))\n",
    "\n",
    "dim_names = ('ns', 'nz', 'ntheta', 'nphi')\n",
    "dim_resolutions = kelp_analyze.get_res_lists(conn, study_name)\n",
    "max_res_list = list(map(\n",
    "    max,\n",
    "    dim_resolutions\n",
    "))\n",
    "max_res_dict = {\n",
    "    name: max_res\n",
    "    for name, max_res in zip(dim_names, max_res_list)\n",
    "}\n",
    "dim_dict = dict(zip(dim_names, dim_resolutions))\n",
    "\n",
    "# Loop over dimensions\n",
    "for dim_num, dim_name in enumerate(dim_names):\n",
    "    # List of resolutions in the current dimension\n",
    "    current_dim = dim_dict[dim_name]\n",
    "    \n",
    "    print(dim_name)\n",
    "    err_dict = {}\n",
    "    for n in current_dim:\n",
    "        all_dims = {**max_res_dict, **{dim_name: n}}\n",
    "        results_list = kelp_analyze.query_results(\n",
    "            conn, study_name, \n",
    "            **all_dims\n",
    "        )\n",
    "\n",
    "        rad = results_list[0]['rad'][:]\n",
    "        true_rad = results_list[0]['true_rad'][:]\n",
    "\n",
    "        err = norm(rad - true_rad)\n",
    "        err_dict[n] = err\n",
    "\n",
    "    res_arr = rope_spacing / np.array(current_dim)\n",
    "    err_arr = np.array([err_dict[n] for n in current_dim])\n",
    "\n",
    "    conv.plot_lin_fit(\n",
    "        np.log(res_arr), np.log(err_arr), \n",
    "        min(np.log(res_arr)), max(np.log(res_arr)), \n",
    "        xlabel='d'+dim_name[1:], ylabel='err'\n",
    "    )"
   ]
  },
  {
   "cell_type": "markdown",
   "metadata": {},
   "source": [
    "# Asymptotics Verification"
   ]
  },
  {
   "cell_type": "markdown",
   "metadata": {},
   "source": [
    "## Sourceless"
   ]
  },
  {
   "cell_type": "markdown",
   "metadata": {},
   "source": [
    "### 1D, Uniform abs."
   ]
  },
  {
   "cell_type": "markdown",
   "metadata": {},
   "source": [
    "#### Compute"
   ]
  },
  {
   "cell_type": "code",
   "execution_count": null,
   "metadata": {
    "scrolled": true
   },
   "outputs": [],
   "source": [
    "# base_dir = os.path.join(os.environ['SCRATCH'], 'kelp-results')\n",
    "base_dir = '/home/oliver/academic/research/kelp-results'\n",
    "\n",
    "nz = 20\n",
    "\n",
    "nz_list = [nz]\n",
    "\n",
    "study_name = 'verify_asym_noscat_1d_uniform_abs_{}'.format(nz)\n",
    "study_dir = os.path.join(base_dir, study_name)\n",
    "\n",
    "noscat_bc_expr = 1.0\n",
    "noscat_abs_expr = 1.0\n",
    "\n",
    "ntheta = na\n",
    "nphi = na\n",
    "\n",
    "# TODO: Don't actually delete results\n",
    "shutil.rmtree(os.path.join(base_dir, study_name), ignore_errors=True)\n",
    "\n",
    "combine_thread, gs_fut = kelp_compute.verify_asym_noscat_1d_compute(\n",
    "    study_name, \n",
    "    nz_list,\n",
    "    rope_spacing, zmax, \n",
    "    noscat_abs_expr, noscat_bc_expr,\n",
    "    param_vals, base_dir=base_dir\n",
    ")"
   ]
  },
  {
   "cell_type": "markdown",
   "metadata": {},
   "source": [
    "#### Plot"
   ]
  },
  {
   "cell_type": "code",
   "execution_count": null,
   "metadata": {},
   "outputs": [],
   "source": [
    "study_name = 'verify_asym_noscat_1d_uniform_abs_20'\n",
    "study_dir = os.path.join(base_dir, study_name)"
   ]
  },
  {
   "cell_type": "code",
   "execution_count": null,
   "metadata": {},
   "outputs": [],
   "source": [
    "db_path = os.path.join(study_dir, '{}.db'.format(study_name))\n",
    "conn = sqlite3.Connection(db_path)"
   ]
  },
  {
   "cell_type": "code",
   "execution_count": null,
   "metadata": {},
   "outputs": [],
   "source": [
    "#norm = lambda x: np.linalg.norm(np.ravel(x), ord=2)\n",
    "#norm = lambda x: np.sqrt(np.sum(x)**2/np.size(x))\n",
    "norm = lambda x: np.mean(np.abs(x))\n",
    "\n",
    "results_list = kelp_analyze.query_results(\n",
    "    conn, study_name,\n",
    ")\n",
    "\n",
    "results = results_list[0]\n",
    "rad = results['rad'][:][:,:,:,0]\n",
    "true_rad = results['true_rad'][:][:,:,:,0]\n",
    "\n",
    "avg_rad = np.mean(rad, axis=(0, 1))\n",
    "avg_true_rad = np.mean(true_rad, axis=(0, 1))\n",
    "\n",
    "err = norm(rad - true_rad)\n",
    "\n",
    "print(\"err = {:.2f}\".format(err))\n",
    "\n",
    "\n",
    "_, _, z, _, _ = mms.gen_grid(\n",
    "    *map(\n",
    "        lambda x: int(results[x][:].data),\n",
    "        ('ns', 'nz', 'ntheta', 'nphi', 'rope_spacing', 'zmax')\n",
    "    )\n",
    ")\n",
    "\n",
    "z = z[0,0,:,0]\n",
    "\n",
    "plt.plot(z, avg_rad, 'o-', label='approx.')\n",
    "plt.plot(z, avg_true_rad, 'o-', label='true')\n",
    "plt.legend()\n",
    "plt.xlabel('z')\n",
    "plt.ylabel('avg rad')"
   ]
  },
  {
   "cell_type": "markdown",
   "metadata": {},
   "source": [
    "### 1D, Non-uniform abs., increase nz"
   ]
  },
  {
   "cell_type": "markdown",
   "metadata": {},
   "source": [
    "#### Compute"
   ]
  },
  {
   "cell_type": "code",
   "execution_count": null,
   "metadata": {
    "scrolled": true
   },
   "outputs": [],
   "source": [
    "# base_dir = os.path.join(os.environ['SCRATCH'], 'kelp-results')\n",
    "base_dir = '/home/oliver/academic/research/kelp-results'\n",
    "\n",
    "nz_list = [4, 8, 12, 20, 40, 100]\n",
    "\n",
    "study_name = 'verify_asym_noscat_1d_variable_abs_{}'.format(max(nz_list))\n",
    "study_dir = os.path.join(base_dir, study_name)\n",
    "\n",
    "noscat_bc_expr = 1.0\n",
    "noscat_abs_expr = 2 + sp.sin(10*sp.Symbol('z'))\n",
    "\n",
    "ntheta = na\n",
    "nphi = na\n",
    "\n",
    "# TODO: Don't actually delete results\n",
    "#shutil.rmtree(os.path.join(base_dir, study_name), ignore_errors=True)\n",
    "\n",
    "combine_thread, gs_fut = kelp_compute.verify_asym_noscat_1d_compute(\n",
    "    study_name, \n",
    "    nz_list,\n",
    "    rope_spacing, zmax, \n",
    "    noscat_abs_expr, noscat_bc_expr,\n",
    "    param_vals, base_dir=base_dir\n",
    ")"
   ]
  },
  {
   "cell_type": "markdown",
   "metadata": {},
   "source": [
    "#### Plot"
   ]
  },
  {
   "cell_type": "code",
   "execution_count": null,
   "metadata": {},
   "outputs": [],
   "source": [
    "study_name = 'verify_asym_noscat_1d_variable_abs_100'\n",
    "study_dir = os.path.join(base_dir, study_name)\n",
    "\n",
    "db_path = os.path.join(study_dir, '{}.db'.format(study_name))\n",
    "conn = sqlite3.Connection(db_path)"
   ]
  },
  {
   "cell_type": "code",
   "execution_count": null,
   "metadata": {},
   "outputs": [],
   "source": [
    "#norm = lambda x: np.linalg.norm(np.ravel(x), ord=2)\n",
    "#norm = lambda x: np.sqrt(np.sum(x)**2/np.size(x))\n",
    "norm = lambda x: np.mean(np.abs(x))\n",
    "\n",
    "dim_names = ('ns', 'nz', 'ntheta', 'nphi')\n",
    "dim_resolutions = kelp_analyze.get_res_lists(conn, study_name)\n",
    "dim_dict = dict(zip(dim_names, dim_resolutions))\n",
    "\n",
    "nz_list = dim_dict['nz']\n",
    "\n",
    "err_dict = {}\n",
    "for nz in nz_list:\n",
    "    results_list = kelp_analyze.query_results(\n",
    "        conn, study_name,\n",
    "        nz=nz,\n",
    "    )\n",
    "\n",
    "    rad = results_list[0]['rad'][:,:,:,0]\n",
    "    true_rad = results_list[0]['true_rad'][:,:,:,0]\n",
    "\n",
    "    err = norm(rad - true_rad)\n",
    "    err_dict[nz] = err\n",
    "\n",
    "res_arr = zmax / np.array(nz_list)\n",
    "err_arr = np.array([err_dict[nz] for nz in nz_list])\n",
    "\n",
    "conv.plot_lin_fit(\n",
    "    np.log10(res_arr), np.log10(err_arr), \n",
    "    min(np.log10(res_arr)), max(np.log10(res_arr)), \n",
    "    xlabel='log10 dz', ylabel='log10 err'\n",
    ")\n"
   ]
  },
  {
   "cell_type": "markdown",
   "metadata": {},
   "source": [
    "## Full MMS"
   ]
  },
  {
   "cell_type": "markdown",
   "metadata": {},
   "source": [
    "### 3D, noscat., const. abs., source"
   ]
  },
  {
   "cell_type": "markdown",
   "metadata": {},
   "source": [
    "#### Compute"
   ]
  },
  {
   "cell_type": "code",
   "execution_count": 37,
   "metadata": {
    "scrolled": true
   },
   "outputs": [
    {
     "name": "stderr",
     "output_type": "stream",
     "text": [
      "/home/oliver/local/miniconda3/envs/kelp/lib/python3.6/site-packages/ipyparallel/client/client.py:459: RuntimeWarning: \n",
      "            Controller appears to be listening on localhost, but not on this machine.\n",
      "            If this is true, you should specify Client(...,sshserver='you@oliver-arch')\n",
      "            or instruct your controller to listen on an external IP.\n",
      "  RuntimeWarning)\n"
     ]
    },
    {
     "name": "stdout",
     "output_type": "stream",
     "text": [
      "Creating new study directory.\n",
      "Reading existing runs.\n",
      "Finished reading existing runs.\n",
      "Calling solve_rte_with_callbacks(, study_dir='/home/oliver/academic/research/kelp-results/verify_ss_noscat_const_abs_scat_20x20x6', study_name='verify_ss_noscat_const_abs_scat_20x20x6', ns=20, nz=20, ntheta=6, nphi=6, rope_spacing=1, zmax=1, sol_expr=1.0 - 1.0*exp(-Piecewise((z/cos(phi), phi < pi/2), ((z - 1)/cos(phi), True))), abs_expr=1, source_expr=1, bc_expr=0, vsf_expr=0, fd_flag=False, b=0, num_scatters=0, param_dict={'alpha': 1, 'gamma': 1, 'b': 0})\n",
      "\n"
     ]
    }
   ],
   "source": [
    "# base_dir = os.path.join(os.environ['SCRATCH'], 'kelp-results')\n",
    "base_dir = '/home/oliver/academic/research/kelp-results'\n",
    "\n",
    "ns = 20\n",
    "nz = 20\n",
    "na = 6\n",
    "\n",
    "study_name = 'verify_ss_noscat_const_abs_scat_{}x{}x{}'.format(ns, nz, na)\n",
    "study_dir = os.path.join(base_dir, study_name)\n",
    "\n",
    "ns_list = [4, 8, 16, 32]\n",
    "#ns_list = [4, 8, 12, 16, 20]\n",
    "\n",
    "ntheta = na\n",
    "nphi = na\n",
    "\n",
    "sigma = 1\n",
    "a = 1\n",
    "\n",
    "# TODO: Don't actually delete results\n",
    "shutil.rmtree(os.path.join(base_dir, study_name), ignore_errors=True)\n",
    "\n",
    "b = 0\n",
    "param_vals['b'] = 0\n",
    "\n",
    "combine_thread, gs_fut = kelp_compute.verify_asym_noscat_const_abs_and_source_compute(\n",
    "    study_name, \n",
    "    ns, nz, ntheta, nphi, \n",
    "    a, sigma,\n",
    "    rope_spacing, zmax,\n",
    "    param_vals, base_dir=base_dir\n",
    ")"
   ]
  },
  {
   "cell_type": "markdown",
   "metadata": {},
   "source": [
    "#### Plot"
   ]
  },
  {
   "cell_type": "code",
   "execution_count": 39,
   "metadata": {},
   "outputs": [],
   "source": [
    "study_name = 'verify_ss_noscat_const_abs_scat_20x20x6'\n",
    "study_dir = os.path.join(base_dir, study_name)\n",
    "\n",
    "db_path = os.path.join(study_dir, '{}.db'.format(study_name))\n",
    "conn = sqlite3.Connection(db_path)"
   ]
  },
  {
   "cell_type": "markdown",
   "metadata": {},
   "source": [
    "##### rad. vs. depth"
   ]
  },
  {
   "cell_type": "code",
   "execution_count": 44,
   "metadata": {},
   "outputs": [
    {
     "name": "stdout",
     "output_type": "stream",
     "text": [
      "err = 0.00\n"
     ]
    },
    {
     "name": "stderr",
     "output_type": "stream",
     "text": [
      "/home/oliver/local/miniconda3/envs/kelp/lib/python3.6/site-packages/matplotlib/ticker.py:2198: UserWarning: Data has no positive values, and therefore cannot be log-scaled.\n",
      "  \"Data has no positive values, and therefore cannot be \"\n"
     ]
    },
    {
     "data": {
      "text/plain": [
       "Text(0,0.5,'|avg rad - true|')"
      ]
     },
     "execution_count": 44,
     "metadata": {},
     "output_type": "execute_result"
    },
    {
     "data": {
      "image/png": "[encoded data removed]",
      "text/plain": [
       "<Figure size 432x288 with 1 Axes>"
      ]
     },
     "metadata": {},
     "output_type": "display_data"
    },
    {
     "data": {
      "image/png": "[encoded data removed]",
      "text/plain": [
       "<Figure size 432x288 with 1 Axes>"
      ]
     },
     "metadata": {},
     "output_type": "display_data"
    }
   ],
   "source": [
    "#norm = lambda x: np.linalg.norm(np.ravel(x), ord=2)\n",
    "#norm = lambda x: np.sqrt(np.sum(x)**2/np.size(x))\n",
    "norm = lambda x: np.mean(np.abs(x))\n",
    "\n",
    "dim_names = ('ns', 'nz', 'ntheta', 'nphi')\n",
    "dim_resolutions = kelp_analyze.get_res_lists(conn, study_name)\n",
    "dim_dict = dict(zip(dim_names, dim_resolutions))\n",
    "\n",
    "ns_list = dim_dict['ns']\n",
    "\n",
    "plt.figure(1)\n",
    "plt.figure(2)\n",
    "\n",
    "results_list = kelp_analyze.query_results(\n",
    "    conn, study_name,\n",
    "    ns=ns,\n",
    ")\n",
    "\n",
    "results = results_list[0]\n",
    "nomega = results['nomega'][:]\n",
    "\n",
    "p = nomega - 1\n",
    "\n",
    "rad = results['rad'][:][:,:,:,p]\n",
    "true_rad = results['true_rad'][:][:,:,:,p]\n",
    "\n",
    "avg_rad = np.mean(rad, axis=(0, 1))\n",
    "avg_true_rad = np.mean(true_rad, axis=(0, 1))\n",
    "\n",
    "err = norm(rad - true_rad)\n",
    "\n",
    "print(\"err = {:.2f}\".format(err))\n",
    "\n",
    "\n",
    "_, _, z, _, _ = mms.gen_grid(\n",
    "    *map(\n",
    "        lambda x: int(results[x][:].data),\n",
    "        ('ns', 'nz', 'ntheta', 'nphi', 'rope_spacing', 'zmax')\n",
    "    )\n",
    ")\n",
    "\n",
    "z = z[0,0,:,0]\n",
    "\n",
    "plt.figure(1)\n",
    "plt.plot(z, avg_rad, 'o-', label='ns={}'.format(ns))\n",
    "\n",
    "plt.figure(2)\n",
    "plt.semilogy(z, np.abs(avg_rad - avg_true_rad), 'o-', label='ns={}'.format(ns))\n",
    "\n",
    "plt.figure(1)\n",
    "plt.plot(z, avg_true_rad, 'o-', label='true')\n",
    "plt.legend()\n",
    "plt.xlabel('z')\n",
    "plt.ylabel('avg rad')\n",
    "\n",
    "plt.figure(2)\n",
    "plt.legend()\n",
    "plt.xlabel('z')\n",
    "plt.ylabel('|avg rad - true|')"
   ]
  },
  {
   "cell_type": "markdown",
   "metadata": {},
   "source": [
    "### 3D, ss. conv., noscat., no bc., sym. soln."
   ]
  },
  {
   "cell_type": "markdown",
   "metadata": {},
   "source": [
    "#### Compute"
   ]
  },
  {
   "cell_type": "code",
   "execution_count": 72,
   "metadata": {
    "scrolled": true
   },
   "outputs": [
    {
     "name": "stderr",
     "output_type": "stream",
     "text": [
      "/home/oliver/academic/research/kelp/code/python/kelp_compute.py:31: UserWarning: \n",
      "This call to matplotlib.use() has no effect because the backend has already\n",
      "been chosen; matplotlib.use() must be called *before* pylab, matplotlib.pyplot,\n",
      "or matplotlib.backends is imported for the first time.\n",
      "\n",
      "The backend was *originally* set to 'module://ipykernel.pylab.backend_inline' by the following code:\n",
      "  File \"/home/oliver/local/miniconda3/envs/kelp/lib/python3.6/runpy.py\", line 193, in _run_module_as_main\n",
      "    \"__main__\", mod_spec)\n",
      "  File \"/home/oliver/local/miniconda3/envs/kelp/lib/python3.6/runpy.py\", line 85, in _run_code\n",
      "    exec(code, run_globals)\n",
      "  File \"/home/oliver/local/miniconda3/envs/kelp/lib/python3.6/site-packages/ipykernel_launcher.py\", line 16, in <module>\n",
      "    app.launch_new_instance()\n",
      "  File \"/home/oliver/local/miniconda3/envs/kelp/lib/python3.6/site-packages/traitlets/config/application.py\", line 658, in launch_instance\n",
      "    app.start()\n",
      "  File \"/home/oliver/local/miniconda3/envs/kelp/lib/python3.6/site-packages/ipykernel/kernelapp.py\", line 486, in start\n",
      "    self.io_loop.start()\n",
      "  File \"/home/oliver/local/miniconda3/envs/kelp/lib/python3.6/site-packages/tornado/platform/asyncio.py\", line 127, in start\n",
      "    self.asyncio_loop.run_forever()\n",
      "  File \"/home/oliver/local/miniconda3/envs/kelp/lib/python3.6/asyncio/base_events.py\", line 422, in run_forever\n",
      "    self._run_once()\n",
      "  File \"/home/oliver/local/miniconda3/envs/kelp/lib/python3.6/asyncio/base_events.py\", line 1432, in _run_once\n",
      "    handle._run()\n",
      "  File \"/home/oliver/local/miniconda3/envs/kelp/lib/python3.6/asyncio/events.py\", line 145, in _run\n",
      "    self._callback(*self._args)\n",
      "  File \"/home/oliver/local/miniconda3/envs/kelp/lib/python3.6/site-packages/tornado/ioloop.py\", line 759, in _run_callback\n",
      "    ret = callback()\n",
      "  File \"/home/oliver/local/miniconda3/envs/kelp/lib/python3.6/site-packages/tornado/stack_context.py\", line 276, in null_wrapper\n",
      "    return fn(*args, **kwargs)\n",
      "  File \"/home/oliver/local/miniconda3/envs/kelp/lib/python3.6/site-packages/zmq/eventloop/zmqstream.py\", line 536, in <lambda>\n",
      "    self.io_loop.add_callback(lambda : self._handle_events(self.socket, 0))\n",
      "  File \"/home/oliver/local/miniconda3/envs/kelp/lib/python3.6/site-packages/zmq/eventloop/zmqstream.py\", line 450, in _handle_events\n",
      "    self._handle_recv()\n",
      "  File \"/home/oliver/local/miniconda3/envs/kelp/lib/python3.6/site-packages/zmq/eventloop/zmqstream.py\", line 480, in _handle_recv\n",
      "    self._run_callback(callback, msg)\n",
      "  File \"/home/oliver/local/miniconda3/envs/kelp/lib/python3.6/site-packages/zmq/eventloop/zmqstream.py\", line 432, in _run_callback\n",
      "    callback(*args, **kwargs)\n",
      "  File \"/home/oliver/local/miniconda3/envs/kelp/lib/python3.6/site-packages/tornado/stack_context.py\", line 276, in null_wrapper\n",
      "    return fn(*args, **kwargs)\n",
      "  File \"/home/oliver/local/miniconda3/envs/kelp/lib/python3.6/site-packages/ipykernel/kernelbase.py\", line 283, in dispatcher\n",
      "    return self.dispatch_shell(stream, msg)\n",
      "  File \"/home/oliver/local/miniconda3/envs/kelp/lib/python3.6/site-packages/ipykernel/kernelbase.py\", line 233, in dispatch_shell\n",
      "    handler(stream, idents, msg)\n",
      "  File \"/home/oliver/local/miniconda3/envs/kelp/lib/python3.6/site-packages/ipykernel/kernelbase.py\", line 399, in execute_request\n",
      "    user_expressions, allow_stdin)\n",
      "  File \"/home/oliver/local/miniconda3/envs/kelp/lib/python3.6/site-packages/ipykernel/ipkernel.py\", line 208, in do_execute\n",
      "    res = shell.run_cell(code, store_history=store_history, silent=silent)\n",
      "  File \"/home/oliver/local/miniconda3/envs/kelp/lib/python3.6/site-packages/ipykernel/zmqshell.py\", line 537, in run_cell\n",
      "    return super(ZMQInteractiveShell, self).run_cell(*args, **kwargs)\n",
      "  File \"/home/oliver/local/miniconda3/envs/kelp/lib/python3.6/site-packages/IPython/core/interactiveshell.py\", line 2662, in run_cell\n",
      "    raw_cell, store_history, silent, shell_futures)\n",
      "  File \"/home/oliver/local/miniconda3/envs/kelp/lib/python3.6/site-packages/IPython/core/interactiveshell.py\", line 2785, in _run_cell\n",
      "    interactivity=interactivity, compiler=compiler, result=result)\n",
      "  File \"/home/oliver/local/miniconda3/envs/kelp/lib/python3.6/site-packages/IPython/core/interactiveshell.py\", line 2909, in run_ast_nodes\n",
      "    if self.run_code(code, result):\n",
      "  File \"/home/oliver/local/miniconda3/envs/kelp/lib/python3.6/site-packages/IPython/core/interactiveshell.py\", line 2963, in run_code\n",
      "    exec(code_obj, self.user_global_ns, self.user_ns)\n",
      "  File \"<ipython-input-3-c7faceef2a23>\", line 2, in <module>\n",
      "    get_ipython().run_line_magic('matplotlib', 'inline')\n",
      "  File \"/home/oliver/local/miniconda3/envs/kelp/lib/python3.6/site-packages/IPython/core/interactiveshell.py\", line 2131, in run_line_magic\n",
      "    result = fn(*args,**kwargs)\n",
      "  File \"<decorator-gen-107>\", line 2, in matplotlib\n",
      "  File \"/home/oliver/local/miniconda3/envs/kelp/lib/python3.6/site-packages/IPython/core/magic.py\", line 187, in <lambda>\n",
      "    call = lambda f, *a, **k: f(*a, **k)\n",
      "  File \"/home/oliver/local/miniconda3/envs/kelp/lib/python3.6/site-packages/IPython/core/magics/pylab.py\", line 99, in matplotlib\n",
      "    gui, backend = self.shell.enable_matplotlib(args.gui)\n",
      "  File \"/home/oliver/local/miniconda3/envs/kelp/lib/python3.6/site-packages/IPython/core/interactiveshell.py\", line 3051, in enable_matplotlib\n",
      "    pt.activate_matplotlib(backend)\n",
      "  File \"/home/oliver/local/miniconda3/envs/kelp/lib/python3.6/site-packages/IPython/core/pylabtools.py\", line 311, in activate_matplotlib\n",
      "    matplotlib.pyplot.switch_backend(backend)\n",
      "  File \"/home/oliver/local/miniconda3/envs/kelp/lib/python3.6/site-packages/matplotlib/pyplot.py\", line 231, in switch_backend\n",
      "    matplotlib.use(newbackend, warn=False, force=True)\n",
      "  File \"/home/oliver/local/miniconda3/envs/kelp/lib/python3.6/site-packages/matplotlib/__init__.py\", line 1410, in use\n",
      "    reload(sys.modules['matplotlib.backends'])\n",
      "  File \"/home/oliver/local/miniconda3/envs/kelp/lib/python3.6/importlib/__init__.py\", line 166, in reload\n",
      "    _bootstrap._exec(spec, module)\n",
      "  File \"/home/oliver/local/miniconda3/envs/kelp/lib/python3.6/site-packages/matplotlib/backends/__init__.py\", line 16, in <module>\n",
      "    line for line in traceback.format_stack()\n",
      "\n",
      "\n",
      "  matplotlib.use('Agg')\n",
      "/home/oliver/local/miniconda3/envs/kelp/lib/python3.6/site-packages/ipyparallel/client/client.py:459: RuntimeWarning: \n",
      "            Controller appears to be listening on localhost, but not on this machine.\n",
      "            If this is true, you should specify Client(...,sshserver='you@oliver-arch')\n",
      "            or instruct your controller to listen on an external IP.\n",
      "  RuntimeWarning)\n"
     ]
    },
    {
     "name": "stdout",
     "output_type": "stream",
     "text": [
      "Appending existing study directory.\n",
      "Evaluating abs & source\n",
      "a_tilde:\n"
     ]
    },
    {
     "data": {
      "image/png": "[encoded data removed]",
      "text/latex": [
       "$$1$$"
      ],
      "text/plain": [
       "1"
      ]
     },
     "metadata": {},
     "output_type": "display_data"
    },
    {
     "name": "stdout",
     "output_type": "stream",
     "text": [
      "sigma_tilde:\n"
     ]
    },
    {
     "data": {
      "image/png": "[encoded data removed]",
      "text/latex": [
       "$$1$$"
      ],
      "text/plain": [
       "1"
      ]
     },
     "metadata": {},
     "output_type": "display_data"
    },
    {
     "name": "stdout",
     "output_type": "stream",
     "text": [
      "inner\n"
     ]
    },
    {
     "data": {
      "image/png": "[encoded data removed]",
      "text/latex": [
       "$$s - s_{p}$$"
      ],
      "text/plain": [
       "s - sₚ"
      ]
     },
     "metadata": {},
     "output_type": "display_data"
    },
    {
     "name": "stdout",
     "output_type": "stream",
     "text": [
      "inner_prod\n"
     ]
    },
    {
     "data": {
      "image/png": "[encoded data removed]",
      "text/latex": [
       "$$e^{- s + s_{p}}$$"
      ],
      "text/plain": [
       " -s + sₚ\n",
       "ℯ       "
      ]
     },
     "metadata": {},
     "output_type": "display_data"
    },
    {
     "name": "stdout",
     "output_type": "stream",
     "text": [
      "outer\n"
     ]
    },
    {
     "data": {
      "image/png": "[encoded data removed]",
      "text/latex": [
       "$$1 - e^{- s}$$"
      ],
      "text/plain": [
       "     -s\n",
       "1 - ℯ  "
      ]
     },
     "metadata": {},
     "output_type": "display_data"
    },
    {
     "name": "stdout",
     "output_type": "stream",
     "text": [
      "Double integral\n",
      "BC\n",
      "Combine\n",
      "Lambdify u0\n"
     ]
    },
    {
     "data": {
      "image/png": "[encoded data removed]",
      "text/latex": [
       "$$1 - e^{- s}$$"
      ],
      "text/plain": [
       "     -s\n",
       "1 - ℯ  "
      ]
     },
     "metadata": {},
     "output_type": "display_data"
    },
    {
     "name": "stdout",
     "output_type": "stream",
     "text": [
      "Evaluate L(x,y,z)\n",
      "x0:\n"
     ]
    },
    {
     "data": {
      "image/png": "[encoded data removed]",
      "text/latex": [
       "$$\\begin{cases} x - z \\cos{\\left (\\theta \\right )} \\tan{\\left (\\phi \\right )} & \\text{for}\\: \\cos{\\left (\\phi \\right )} > 0 \\\\x + \\left(- z + 1\\right) \\cos{\\left (\\theta \\right )} \\tan{\\left (\\phi \\right )} & \\text{otherwise} \\end{cases}$$"
      ],
      "text/plain": [
       "⎧   x - z⋅cos(θ)⋅tan(φ)      for cos(φ) > 0\n",
       "⎨                                          \n",
       "⎩x + (-z + 1)⋅cos(θ)⋅tan(φ)    otherwise   "
      ]
     },
     "metadata": {},
     "output_type": "display_data"
    },
    {
     "name": "stdout",
     "output_type": "stream",
     "text": [
      "y0:\n"
     ]
    },
    {
     "data": {
      "image/png": "[encoded data removed]",
      "text/latex": [
       "$$\\begin{cases} y - z \\sin{\\left (\\theta \\right )} \\tan{\\left (\\phi \\right )} & \\text{for}\\: \\cos{\\left (\\phi \\right )} > 0 \\\\y + \\left(- z + 1\\right) \\sin{\\left (\\theta \\right )} \\tan{\\left (\\phi \\right )} & \\text{otherwise} \\end{cases}$$"
      ],
      "text/plain": [
       "⎧   y - z⋅sin(θ)⋅tan(φ)      for cos(φ) > 0\n",
       "⎨                                          \n",
       "⎩y + (-z + 1)⋅sin(θ)⋅tan(φ)    otherwise   "
      ]
     },
     "metadata": {},
     "output_type": "display_data"
    },
    {
     "name": "stdout",
     "output_type": "stream",
     "text": [
      "evaluate sol.\n",
      "sol_down_expr:\n"
     ]
    },
    {
     "data": {
      "image/png": "[encoded data removed]",
      "text/latex": [
       "$$1 - e^{- \\frac{z}{\\cos{\\left (\\phi \\right )}}}$$"
      ],
      "text/plain": [
       "      -z   \n",
       "     ──────\n",
       "     cos(φ)\n",
       "1 - ℯ      "
      ]
     },
     "metadata": {},
     "output_type": "display_data"
    },
    {
     "name": "stdout",
     "output_type": "stream",
     "text": [
      "sol_up_expr:\n"
     ]
    },
    {
     "data": {
      "image/png": "[encoded data removed]",
      "text/latex": [
       "$$1 - e^{- \\frac{z - 1}{\\cos{\\left (\\phi \\right )}}}$$"
      ],
      "text/plain": [
       "     -(z - 1) \n",
       "     ─────────\n",
       "       cos(φ) \n",
       "1 - ℯ         "
      ]
     },
     "metadata": {},
     "output_type": "display_data"
    },
    {
     "name": "stdout",
     "output_type": "stream",
     "text": [
      "combined\n"
     ]
    },
    {
     "data": {
      "image/png": "[encoded data removed]",
      "text/latex": [
       "$$\\begin{cases} 1 - e^{- \\frac{z}{\\cos{\\left (\\phi \\right )}}} & \\text{for}\\: \\cos{\\left (\\phi \\right )} > 0 \\\\1 - e^{- \\frac{z - 1}{\\cos{\\left (\\phi \\right )}}} & \\text{otherwise} \\end{cases}$$"
      ],
      "text/plain": [
       "⎧       -z                     \n",
       "⎪      ──────                  \n",
       "⎪      cos(φ)                  \n",
       "⎪ 1 - ℯ          for cos(φ) > 0\n",
       "⎨                              \n",
       "⎪     -(z - 1)                 \n",
       "⎪     ─────────                \n",
       "⎪       cos(φ)                 \n",
       "⎩1 - ℯ             otherwise   "
      ]
     },
     "metadata": {},
     "output_type": "display_data"
    },
    {
     "name": "stdout",
     "output_type": "stream",
     "text": [
      "symify\n",
      "Checking down\n",
      "diff:\n"
     ]
    },
    {
     "data": {
      "image/png": "[encoded data removed]",
      "text/latex": [
       "$$0$$"
      ],
      "text/plain": [
       "0"
      ]
     },
     "metadata": {},
     "output_type": "display_data"
    },
    {
     "name": "stdout",
     "output_type": "stream",
     "text": [
      "max_down_diff = 0.00e+00\n",
      "Checking up\n",
      "diff:\n"
     ]
    },
    {
     "data": {
      "image/png": "[encoded data removed]",
      "text/latex": [
       "$$0$$"
      ],
      "text/plain": [
       "0"
      ]
     },
     "metadata": {},
     "output_type": "display_data"
    },
    {
     "name": "stdout",
     "output_type": "stream",
     "text": [
      "max_up_diff = 0.00e+00\n",
      "Done with sym. calc.\n",
      "Reading existing runs.\n",
      "Finished reading existing runs.\n",
      "Calling solve_rte_with_callbacks(, study_dir='/home/oliver/academic/research/kelp-results/verify_ss_asym_noscat_nobc_const_abs_source_split_32x12', study_name='verify_ss_asym_noscat_nobc_const_abs_source_split_32x12', ns=4, nz=4, ntheta=12, nphi=12, rope_spacing=1, zmax=1, sol_expr=Piecewise((1 - exp(-z/cos(phi)), cos(phi) > 0), (1 - exp(-(z - 1)/cos(phi)), True)), abs_expr=1, source_expr=1, bc_expr=0, vsf_expr=0, fd_flag=False, b=0, num_scatters=0, param_dict={'alpha': 1, 'gamma': 1, 'b': 0})\n",
      "\n",
      "Calling solve_rte_with_callbacks(, study_dir='/home/oliver/academic/research/kelp-results/verify_ss_asym_noscat_nobc_const_abs_source_split_32x12', study_name='verify_ss_asym_noscat_nobc_const_abs_source_split_32x12', ns=8, nz=8, ntheta=12, nphi=12, rope_spacing=1, zmax=1, sol_expr=Piecewise((1 - exp(-z/cos(phi)), cos(phi) > 0), (1 - exp(-(z - 1)/cos(phi)), True)), abs_expr=1, source_expr=1, bc_expr=0, vsf_expr=0, fd_flag=False, b=0, num_scatters=0, param_dict={'alpha': 1, 'gamma': 1, 'b': 0})\n",
      "\n",
      "Calling solve_rte_with_callbacks(, study_dir='/home/oliver/academic/research/kelp-results/verify_ss_asym_noscat_nobc_const_abs_source_split_32x12', study_name='verify_ss_asym_noscat_nobc_const_abs_source_split_32x12', ns=16, nz=16, ntheta=12, nphi=12, rope_spacing=1, zmax=1, sol_expr=Piecewise((1 - exp(-z/cos(phi)), cos(phi) > 0), (1 - exp(-(z - 1)/cos(phi)), True)), abs_expr=1, source_expr=1, bc_expr=0, vsf_expr=0, fd_flag=False, b=0, num_scatters=0, param_dict={'alpha': 1, 'gamma': 1, 'b': 0})\n",
      "\n",
      "Calling solve_rte_with_callbacks(, study_dir='/home/oliver/academic/research/kelp-results/verify_ss_asym_noscat_nobc_const_abs_source_split_32x12', study_name='verify_ss_asym_noscat_nobc_const_abs_source_split_32x12', ns=32, nz=32, ntheta=12, nphi=12, rope_spacing=1, zmax=1, sol_expr=Piecewise((1 - exp(-z/cos(phi)), cos(phi) > 0), (1 - exp(-(z - 1)/cos(phi)), True)), abs_expr=1, source_expr=1, bc_expr=0, vsf_expr=0, fd_flag=False, b=0, num_scatters=0, param_dict={'alpha': 1, 'gamma': 1, 'b': 0})\n",
      "\n",
      "Opening combined db: /home/oliver/academic/research/kelp-results/verify_ss_asym_noscat_nobc_const_abs_source_split_32x12/verify_ss_asym_noscat_nobc_const_abs_source_split_32x12.db\n",
      "Connected.\n",
      "Combining /home/oliver/academic/research/kelp-results/verify_ss_asym_noscat_nobc_const_abs_source_split_32x12/data/sdnv_eqo.db (tables: ['verify_ss_asym_noscat_nobc_const_abs_source_split_32x12', 'sqlite_sequence'])\n",
      "read.\n",
      "Creating table verify_ss_asym_noscat_nobc_const_abs_source_split_32x12\n",
      "CREATING TABLE\n",
      "\n",
      "    CREATE TABLE verify_ss_asym_noscat_nobc_const_abs_source_split_32x12 (\n",
      "        id INTEGER PRIMARY KEY AUTOINCREMENT,\n",
      "        data_path CHAR(1024),\n",
      "        b INTEGER,\n",
      "        ns INTEGER,\n",
      "        ntheta INTEGER,\n",
      "        nphi INTEGER,\n",
      "        nx INTEGER,\n",
      "        ny INTEGER,\n",
      "        nz INTEGER,\n",
      "        nomega INTEGER,\n",
      "        zmax INTEGER,\n",
      "        rope_spacing INTEGER,\n",
      "        num_scatters INTEGER,\n",
      "        fd_flag INTEGER,\n",
      "        lis_opts CHAR(1024),\n",
      "        date CHAR(1024),\n",
      "        git_commit CHAR(1024),\n",
      "        compute_time REAL,\n",
      "        lis_iter INTEGER,\n",
      "        lis_time REAL,\n",
      "        lis_resid REAL,\n",
      "        sol_expr CHAR(1024),\n",
      "        abs_expr CHAR(1024),\n",
      "        source_expr CHAR(1024),\n",
      "        bc_expr CHAR(1024),\n",
      "        vsf_expr CHAR(1024),\n",
      "        param_dict CHAR(1024)\n",
      "    );\n",
      "col_names: ['id', 'data_path', 'b', 'ns', 'ntheta', 'nphi', 'nx', 'ny', 'nz', 'nomega', 'zmax', 'rope_spacing', 'num_scatters', 'fd_flag', 'lis_opts', 'date', 'git_commit', 'compute_time', 'lis_iter', 'lis_time', 'lis_resid', 'sol_expr', 'abs_expr', 'source_expr', 'bc_expr', 'vsf_expr', 'param_dict']\n",
      "Before try.\n",
      "INSERT INTO verify_ss_asym_noscat_nobc_const_abs_source_split_32x12 VALUES (:id, :data_path, :b, :ns, :ntheta, :nphi, :nx, :ny, :nz, :nomega, :zmax, :rope_spacing, :num_scatters, :fd_flag, :lis_opts, :date, :git_commit, :compute_time, :lis_iter, :lis_time, :lis_resid, :sol_expr, :abs_expr, :source_expr, :bc_expr, :vsf_expr, :param_dict);\n",
      "Executing command:\n",
      "INSERT INTO verify_ss_asym_noscat_nobc_const_abs_source_split_32x12 VALUES (:id, :data_path, :b, :ns, :ntheta, :nphi, :nx, :ny, :nz, :nomega, :zmax, :rope_spacing, :num_scatters, :fd_flag, :lis_opts, :date, :git_commit, :compute_time, :lis_iter, :lis_time, :lis_resid, :sol_expr, :abs_expr, :source_expr, :bc_expr, :vsf_expr, :param_dict);\n",
      "Combining /home/oliver/academic/research/kelp-results/verify_ss_asym_noscat_nobc_const_abs_source_split_32x12/data/0ltuukqg.db (tables: ['verify_ss_asym_noscat_nobc_const_abs_source_split_32x12', 'sqlite_sequence'])\n",
      "read.\n",
      "Not creating table verify_ss_asym_noscat_nobc_const_abs_source_split_32x12\n",
      "col_names: ['id', 'data_path', 'b', 'ns', 'ntheta', 'nphi', 'nx', 'ny', 'nz', 'nomega', 'zmax', 'rope_spacing', 'num_scatters', 'fd_flag', 'lis_opts', 'date', 'git_commit', 'compute_time', 'lis_iter', 'lis_time', 'lis_resid', 'sol_expr', 'abs_expr', 'source_expr', 'bc_expr', 'vsf_expr', 'param_dict']\n",
      "Before try.\n",
      "INSERT INTO verify_ss_asym_noscat_nobc_const_abs_source_split_32x12 VALUES (:id, :data_path, :b, :ns, :ntheta, :nphi, :nx, :ny, :nz, :nomega, :zmax, :rope_spacing, :num_scatters, :fd_flag, :lis_opts, :date, :git_commit, :compute_time, :lis_iter, :lis_time, :lis_resid, :sol_expr, :abs_expr, :source_expr, :bc_expr, :vsf_expr, :param_dict);\n",
      "Executing command:\n",
      "INSERT INTO verify_ss_asym_noscat_nobc_const_abs_source_split_32x12 VALUES (:id, :data_path, :b, :ns, :ntheta, :nphi, :nx, :ny, :nz, :nomega, :zmax, :rope_spacing, :num_scatters, :fd_flag, :lis_opts, :date, :git_commit, :compute_time, :lis_iter, :lis_time, :lis_resid, :sol_expr, :abs_expr, :source_expr, :bc_expr, :vsf_expr, :param_dict);\n",
      "Combining /home/oliver/academic/research/kelp-results/verify_ss_asym_noscat_nobc_const_abs_source_split_32x12/data/x147c01q.db (tables: ['verify_ss_asym_noscat_nobc_const_abs_source_split_32x12', 'sqlite_sequence'])\n",
      "read.\n",
      "Not creating table verify_ss_asym_noscat_nobc_const_abs_source_split_32x12\n",
      "col_names: ['id', 'data_path', 'b', 'ns', 'ntheta', 'nphi', 'nx', 'ny', 'nz', 'nomega', 'zmax', 'rope_spacing', 'num_scatters', 'fd_flag', 'lis_opts', 'date', 'git_commit', 'compute_time', 'lis_iter', 'lis_time', 'lis_resid', 'sol_expr', 'abs_expr', 'source_expr', 'bc_expr', 'vsf_expr', 'param_dict']\n",
      "Before try.\n",
      "INSERT INTO verify_ss_asym_noscat_nobc_const_abs_source_split_32x12 VALUES (:id, :data_path, :b, :ns, :ntheta, :nphi, :nx, :ny, :nz, :nomega, :zmax, :rope_spacing, :num_scatters, :fd_flag, :lis_opts, :date, :git_commit, :compute_time, :lis_iter, :lis_time, :lis_resid, :sol_expr, :abs_expr, :source_expr, :bc_expr, :vsf_expr, :param_dict);\n",
      "Executing command:\n",
      "INSERT INTO verify_ss_asym_noscat_nobc_const_abs_source_split_32x12 VALUES (:id, :data_path, :b, :ns, :ntheta, :nphi, :nx, :ny, :nz, :nomega, :zmax, :rope_spacing, :num_scatters, :fd_flag, :lis_opts, :date, :git_commit, :compute_time, :lis_iter, :lis_time, :lis_resid, :sol_expr, :abs_expr, :source_expr, :bc_expr, :vsf_expr, :param_dict);\n",
      "Combining /home/oliver/academic/research/kelp-results/verify_ss_asym_noscat_nobc_const_abs_source_split_32x12/data/7ox69830.db (tables: ['verify_ss_asym_noscat_nobc_const_abs_source_split_32x12', 'sqlite_sequence'])\n",
      "read.\n",
      "Not creating table verify_ss_asym_noscat_nobc_const_abs_source_split_32x12\n",
      "col_names: ['id', 'data_path', 'b', 'ns', 'ntheta', 'nphi', 'nx', 'ny', 'nz', 'nomega', 'zmax', 'rope_spacing', 'num_scatters', 'fd_flag', 'lis_opts', 'date', 'git_commit', 'compute_time', 'lis_iter', 'lis_time', 'lis_resid', 'sol_expr', 'abs_expr', 'source_expr', 'bc_expr', 'vsf_expr', 'param_dict']\n",
      "Before try.\n",
      "INSERT INTO verify_ss_asym_noscat_nobc_const_abs_source_split_32x12 VALUES (:id, :data_path, :b, :ns, :ntheta, :nphi, :nx, :ny, :nz, :nomega, :zmax, :rope_spacing, :num_scatters, :fd_flag, :lis_opts, :date, :git_commit, :compute_time, :lis_iter, :lis_time, :lis_resid, :sol_expr, :abs_expr, :source_expr, :bc_expr, :vsf_expr, :param_dict);\n",
      "Executing command:\n",
      "INSERT INTO verify_ss_asym_noscat_nobc_const_abs_source_split_32x12 VALUES (:id, :data_path, :b, :ns, :ntheta, :nphi, :nx, :ny, :nz, :nomega, :zmax, :rope_spacing, :num_scatters, :fd_flag, :lis_opts, :date, :git_commit, :compute_time, :lis_iter, :lis_time, :lis_resid, :sol_expr, :abs_expr, :source_expr, :bc_expr, :vsf_expr, :param_dict);\n"
     ]
    }
   ],
   "source": [
    "# base_dir = os.path.join(os.environ['SCRATCH'], 'kelp-results')\n",
    "base_dir = '/home/oliver/academic/research/kelp-results'\n",
    "\n",
    "na = 12\n",
    "\n",
    "study_name = 'verify_ss_asym_noscat_nobc_const_abs_source_split_32x{}'.format(na)\n",
    "study_dir = os.path.join(base_dir, study_name)\n",
    "\n",
    "ns_list = [4, 8, 16, 32]\n",
    "#ns_list = [4, 8, 12, 16, 20]\n",
    "\n",
    "ntheta = na\n",
    "nphi = na\n",
    "\n",
    "# TODO: Don't actually delete results\n",
    "#shutil.rmtree(os.path.join(base_dir, study_name), ignore_errors=True)\n",
    "\n",
    "num_scatters = 0\n",
    "fd_flag = False\n",
    "\n",
    "param_vals['b'] = 0\n",
    "bc_expr = 0\n",
    "\n",
    "asym_abs_expr = 1 #+ sum(mms.space)\n",
    "asym_source_expr = 1 #3 - sum((*mms.space, *mms.angle))\n",
    "\n",
    "combine_thread, gs_fut = kelp_compute.verify_ss_asym_noscat_compute(\n",
    "    study_name, \n",
    "    ns_list, ntheta, nphi, \n",
    "    asym_abs_expr, asym_source_expr, bc_expr,\n",
    "    rope_spacing, zmax,\n",
    "    param_vals, base_dir=base_dir\n",
    ")"
   ]
  },
  {
   "cell_type": "markdown",
   "metadata": {},
   "source": [
    "#### Plot"
   ]
  },
  {
   "cell_type": "code",
   "execution_count": 76,
   "metadata": {},
   "outputs": [],
   "source": [
    "study_name = 'verify_ss_asym_noscat_nobc_const_abs_32x12'\n",
    "study_dir = os.path.join(base_dir, study_name)\n",
    "\n",
    "db_path = os.path.join(study_dir, '{}.db'.format(study_name))\n",
    "conn = sqlite3.Connection(db_path)"
   ]
  },
  {
   "cell_type": "markdown",
   "metadata": {},
   "source": [
    "##### rad. vs. depth"
   ]
  },
  {
   "cell_type": "code",
   "execution_count": 78,
   "metadata": {},
   "outputs": [
    {
     "name": "stdout",
     "output_type": "stream",
     "text": [
      "err = 0.04\n",
      "err = 0.07\n",
      "err = 0.10\n",
      "err = 0.12\n"
     ]
    },
    {
     "data": {
      "text/plain": [
       "Text(0,0.5,'|avg rad - true|')"
      ]
     },
     "execution_count": 78,
     "metadata": {},
     "output_type": "execute_result"
    },
    {
     "data": {
      "image/png": "[encoded data removed]",
      "text/plain": [
       "<Figure size 432x288 with 1 Axes>"
      ]
     },
     "metadata": {},
     "output_type": "display_data"
    },
    {
     "data": {
      "image/png": "[encoded data removed]",
      "text/plain": [
       "<Figure size 432x288 with 1 Axes>"
      ]
     },
     "metadata": {},
     "output_type": "display_data"
    }
   ],
   "source": [
    "#norm = lambda x: np.linalg.norm(np.ravel(x), ord=2)\n",
    "#norm = lambda x: np.sqrt(np.sum(x)**2/np.size(x))\n",
    "norm = lambda x: np.mean(np.abs(x))\n",
    "\n",
    "dim_names = ('ns', 'nz', 'ntheta', 'nphi')\n",
    "dim_resolutions = kelp_analyze.get_res_lists(conn, study_name)\n",
    "dim_dict = dict(zip(dim_names, dim_resolutions))\n",
    "\n",
    "ns_list = dim_dict['ns']\n",
    "\n",
    "plt.figure(1)\n",
    "plt.figure(2)\n",
    "\n",
    "for ns in ns_list:\n",
    "    results_list = kelp_analyze.query_results(\n",
    "        conn, study_name,\n",
    "        ns=ns,\n",
    "    )\n",
    "    results = results_list[0]\n",
    "    \n",
    "    nomega = results['nomega'][:]\n",
    "    \n",
    "    p = nomega - 1\n",
    "\n",
    "    rad = results['rad'][:][:,:,:,p]\n",
    "    true_rad = results['true_rad'][:][:,:,:,p]\n",
    "\n",
    "    avg_rad = np.mean(rad, axis=(0, 1))\n",
    "    avg_true_rad = np.mean(true_rad, axis=(0, 1))\n",
    "\n",
    "    err = norm(rad - true_rad)\n",
    "\n",
    "    print(\"err = {:.2f}\".format(err))\n",
    "\n",
    "\n",
    "    _, _, z, _, _ = mms.gen_grid(\n",
    "        *map(\n",
    "            lambda x: int(results[x][:].data),\n",
    "            ('ns', 'nz', 'ntheta', 'nphi', 'rope_spacing', 'zmax')\n",
    "        )\n",
    "    )\n",
    "\n",
    "    z = z[0,0,:,0]\n",
    "\n",
    "    plt.figure(1)\n",
    "    plt.plot(z, avg_rad, 'o-', label='ns={}'.format(ns))\n",
    "    \n",
    "    plt.figure(2)\n",
    "    plt.semilogy(z, np.abs(avg_rad - avg_true_rad), 'o-', label='ns={}'.format(ns))\n",
    "\n",
    "plt.figure(1)\n",
    "plt.plot(z, avg_true_rad, 'o-', label='true')\n",
    "plt.legend()\n",
    "plt.xlabel('z')\n",
    "plt.ylabel('avg rad')\n",
    "\n",
    "plt.figure(2)\n",
    "plt.legend()\n",
    "plt.xlabel('z')\n",
    "plt.ylabel('|avg rad - true|')"
   ]
  },
  {
   "cell_type": "markdown",
   "metadata": {},
   "source": [
    "##### err. vs. ds"
   ]
  },
  {
   "cell_type": "code",
   "execution_count": null,
   "metadata": {},
   "outputs": [],
   "source": [
    "#norm = lambda x: np.linalg.norm(np.ravel(x), ord=2)\n",
    "#norm = lambda x: np.sqrt(np.sum(x)**2/np.size(x))\n",
    "norm = lambda x: np.mean(np.abs(x))\n",
    "\n",
    "dim_names = ('ns', 'nz', 'ntheta', 'nphi')\n",
    "dim_resolutions = kelp_analyze.get_res_lists(conn, study_name)\n",
    "dim_dict = dict(zip(dim_names, dim_resolutions))\n",
    "\n",
    "ns_list = dim_dict['ns']\n",
    "\n",
    "err_dict = {}\n",
    "for ns in ns_list:\n",
    "    results_list = kelp_analyze.query_results(\n",
    "        conn, study_name,\n",
    "        ns=ns,\n",
    "    )\n",
    "\n",
    "    rad = results_list[0]['rad'][:]\n",
    "    true_rad = results_list[0]['true_rad'][:]\n",
    "\n",
    "    err = norm(rad - true_rad)\n",
    "    err_dict[ns] = err\n",
    "\n",
    "res_arr = rope_spacing / np.array(ns_list)\n",
    "err_arr = np.array([err_dict[ns] for ns in ns_list])\n",
    "\n",
    "conv.plot_lin_fit(\n",
    "    np.log10(res_arr), np.log10(err_arr), \n",
    "    min(np.log10(res_arr)), max(np.log10(res_arr)), \n",
    "    xlabel='log10 ds', ylabel='log10 err'\n",
    ")"
   ]
  },
  {
   "cell_type": "markdown",
   "metadata": {},
   "source": [
    "### 3D, ss. conv., noscat."
   ]
  },
  {
   "cell_type": "markdown",
   "metadata": {},
   "source": [
    "#### Compute"
   ]
  },
  {
   "cell_type": "code",
   "execution_count": null,
   "metadata": {
    "scrolled": true
   },
   "outputs": [],
   "source": [
    "# base_dir = os.path.join(os.environ['SCRATCH'], 'kelp-results')\n",
    "base_dir = '/home/oliver/academic/research/kelp-results'\n",
    "\n",
    "na = 6\n",
    "\n",
    "study_name = 'verify_ss_noscat_nofd_32x{}'.format(na)\n",
    "study_dir = os.path.join(base_dir, study_name)\n",
    "\n",
    "ns_list = [4, 8, 16, 32]\n",
    "#ns_list = [4, 8, 12, 16, 20]\n",
    "\n",
    "ntheta = na\n",
    "nphi = na\n",
    "\n",
    "# TODO: Don't actually delete results\n",
    "shutil.rmtree(os.path.join(base_dir, study_name), ignore_errors=True)\n",
    "\n",
    "num_scatters = 0\n",
    "fd_flag = False\n",
    "\n",
    "b = 0\n",
    "param_vals['b'] = 0\n",
    "\n",
    "combine_thread, gs_fut = kelp_compute.verify_single_space_compute(\n",
    "    study_name, \n",
    "    ns_list, ntheta, nphi, \n",
    "    rope_spacing, zmax, b, \n",
    "    sol_expr, abs_expr, source_expr, bc_expr, vsf_expr,\n",
    "    num_scatters, fd_flag,\n",
    "    param_vals, base_dir=base_dir)"
   ]
  },
  {
   "cell_type": "markdown",
   "metadata": {},
   "source": [
    "#### Plot"
   ]
  },
  {
   "cell_type": "code",
   "execution_count": 64,
   "metadata": {},
   "outputs": [
    {
     "name": "stderr",
     "output_type": "stream",
     "text": [
      "/home/oliver/academic/research/kelp/code/python/kelp_compute.py:31: UserWarning: \n",
      "This call to matplotlib.use() has no effect because the backend has already\n",
      "been chosen; matplotlib.use() must be called *before* pylab, matplotlib.pyplot,\n",
      "or matplotlib.backends is imported for the first time.\n",
      "\n",
      "The backend was *originally* set to 'module://ipykernel.pylab.backend_inline' by the following code:\n",
      "  File \"/home/oliver/local/miniconda3/envs/kelp/lib/python3.6/runpy.py\", line 193, in _run_module_as_main\n",
      "    \"__main__\", mod_spec)\n",
      "  File \"/home/oliver/local/miniconda3/envs/kelp/lib/python3.6/runpy.py\", line 85, in _run_code\n",
      "    exec(code, run_globals)\n",
      "  File \"/home/oliver/local/miniconda3/envs/kelp/lib/python3.6/site-packages/ipykernel_launcher.py\", line 16, in <module>\n",
      "    app.launch_new_instance()\n",
      "  File \"/home/oliver/local/miniconda3/envs/kelp/lib/python3.6/site-packages/traitlets/config/application.py\", line 658, in launch_instance\n",
      "    app.start()\n",
      "  File \"/home/oliver/local/miniconda3/envs/kelp/lib/python3.6/site-packages/ipykernel/kernelapp.py\", line 486, in start\n",
      "    self.io_loop.start()\n",
      "  File \"/home/oliver/local/miniconda3/envs/kelp/lib/python3.6/site-packages/tornado/platform/asyncio.py\", line 127, in start\n",
      "    self.asyncio_loop.run_forever()\n",
      "  File \"/home/oliver/local/miniconda3/envs/kelp/lib/python3.6/asyncio/base_events.py\", line 422, in run_forever\n",
      "    self._run_once()\n",
      "  File \"/home/oliver/local/miniconda3/envs/kelp/lib/python3.6/asyncio/base_events.py\", line 1432, in _run_once\n",
      "    handle._run()\n",
      "  File \"/home/oliver/local/miniconda3/envs/kelp/lib/python3.6/asyncio/events.py\", line 145, in _run\n",
      "    self._callback(*self._args)\n",
      "  File \"/home/oliver/local/miniconda3/envs/kelp/lib/python3.6/site-packages/tornado/ioloop.py\", line 759, in _run_callback\n",
      "    ret = callback()\n",
      "  File \"/home/oliver/local/miniconda3/envs/kelp/lib/python3.6/site-packages/tornado/stack_context.py\", line 276, in null_wrapper\n",
      "    return fn(*args, **kwargs)\n",
      "  File \"/home/oliver/local/miniconda3/envs/kelp/lib/python3.6/site-packages/zmq/eventloop/zmqstream.py\", line 536, in <lambda>\n",
      "    self.io_loop.add_callback(lambda : self._handle_events(self.socket, 0))\n",
      "  File \"/home/oliver/local/miniconda3/envs/kelp/lib/python3.6/site-packages/zmq/eventloop/zmqstream.py\", line 450, in _handle_events\n",
      "    self._handle_recv()\n",
      "  File \"/home/oliver/local/miniconda3/envs/kelp/lib/python3.6/site-packages/zmq/eventloop/zmqstream.py\", line 480, in _handle_recv\n",
      "    self._run_callback(callback, msg)\n",
      "  File \"/home/oliver/local/miniconda3/envs/kelp/lib/python3.6/site-packages/zmq/eventloop/zmqstream.py\", line 432, in _run_callback\n",
      "    callback(*args, **kwargs)\n",
      "  File \"/home/oliver/local/miniconda3/envs/kelp/lib/python3.6/site-packages/tornado/stack_context.py\", line 276, in null_wrapper\n",
      "    return fn(*args, **kwargs)\n",
      "  File \"/home/oliver/local/miniconda3/envs/kelp/lib/python3.6/site-packages/ipykernel/kernelbase.py\", line 283, in dispatcher\n",
      "    return self.dispatch_shell(stream, msg)\n",
      "  File \"/home/oliver/local/miniconda3/envs/kelp/lib/python3.6/site-packages/ipykernel/kernelbase.py\", line 233, in dispatch_shell\n",
      "    handler(stream, idents, msg)\n",
      "  File \"/home/oliver/local/miniconda3/envs/kelp/lib/python3.6/site-packages/ipykernel/kernelbase.py\", line 399, in execute_request\n",
      "    user_expressions, allow_stdin)\n",
      "  File \"/home/oliver/local/miniconda3/envs/kelp/lib/python3.6/site-packages/ipykernel/ipkernel.py\", line 208, in do_execute\n",
      "    res = shell.run_cell(code, store_history=store_history, silent=silent)\n",
      "  File \"/home/oliver/local/miniconda3/envs/kelp/lib/python3.6/site-packages/ipykernel/zmqshell.py\", line 537, in run_cell\n",
      "    return super(ZMQInteractiveShell, self).run_cell(*args, **kwargs)\n",
      "  File \"/home/oliver/local/miniconda3/envs/kelp/lib/python3.6/site-packages/IPython/core/interactiveshell.py\", line 2662, in run_cell\n",
      "    raw_cell, store_history, silent, shell_futures)\n",
      "  File \"/home/oliver/local/miniconda3/envs/kelp/lib/python3.6/site-packages/IPython/core/interactiveshell.py\", line 2785, in _run_cell\n",
      "    interactivity=interactivity, compiler=compiler, result=result)\n",
      "  File \"/home/oliver/local/miniconda3/envs/kelp/lib/python3.6/site-packages/IPython/core/interactiveshell.py\", line 2909, in run_ast_nodes\n",
      "    if self.run_code(code, result):\n",
      "  File \"/home/oliver/local/miniconda3/envs/kelp/lib/python3.6/site-packages/IPython/core/interactiveshell.py\", line 2963, in run_code\n",
      "    exec(code_obj, self.user_global_ns, self.user_ns)\n",
      "  File \"<ipython-input-3-c7faceef2a23>\", line 2, in <module>\n",
      "    get_ipython().run_line_magic('matplotlib', 'inline')\n",
      "  File \"/home/oliver/local/miniconda3/envs/kelp/lib/python3.6/site-packages/IPython/core/interactiveshell.py\", line 2131, in run_line_magic\n",
      "    result = fn(*args,**kwargs)\n",
      "  File \"<decorator-gen-107>\", line 2, in matplotlib\n",
      "  File \"/home/oliver/local/miniconda3/envs/kelp/lib/python3.6/site-packages/IPython/core/magic.py\", line 187, in <lambda>\n",
      "    call = lambda f, *a, **k: f(*a, **k)\n",
      "  File \"/home/oliver/local/miniconda3/envs/kelp/lib/python3.6/site-packages/IPython/core/magics/pylab.py\", line 99, in matplotlib\n",
      "    gui, backend = self.shell.enable_matplotlib(args.gui)\n",
      "  File \"/home/oliver/local/miniconda3/envs/kelp/lib/python3.6/site-packages/IPython/core/interactiveshell.py\", line 3051, in enable_matplotlib\n",
      "    pt.activate_matplotlib(backend)\n",
      "  File \"/home/oliver/local/miniconda3/envs/kelp/lib/python3.6/site-packages/IPython/core/pylabtools.py\", line 311, in activate_matplotlib\n",
      "    matplotlib.pyplot.switch_backend(backend)\n",
      "  File \"/home/oliver/local/miniconda3/envs/kelp/lib/python3.6/site-packages/matplotlib/pyplot.py\", line 231, in switch_backend\n",
      "    matplotlib.use(newbackend, warn=False, force=True)\n",
      "  File \"/home/oliver/local/miniconda3/envs/kelp/lib/python3.6/site-packages/matplotlib/__init__.py\", line 1410, in use\n",
      "    reload(sys.modules['matplotlib.backends'])\n",
      "  File \"/home/oliver/local/miniconda3/envs/kelp/lib/python3.6/importlib/__init__.py\", line 166, in reload\n",
      "    _bootstrap._exec(spec, module)\n",
      "  File \"/home/oliver/local/miniconda3/envs/kelp/lib/python3.6/site-packages/matplotlib/backends/__init__.py\", line 16, in <module>\n",
      "    line for line in traceback.format_stack()\n",
      "\n",
      "\n",
      "  matplotlib.use('Agg')\n"
     ]
    }
   ],
   "source": [
    "study_name = 'verify_ss_noscat_nofd_32x6'\n",
    "study_dir = os.path.join(base_dir, study_name)\n",
    "\n",
    "db_path = os.path.join(study_dir, '{}.db'.format(study_name))\n",
    "conn = sqlite3.Connection(db_path)"
   ]
  },
  {
   "cell_type": "markdown",
   "metadata": {},
   "source": [
    "##### rad. vs. depth"
   ]
  },
  {
   "cell_type": "code",
   "execution_count": null,
   "metadata": {},
   "outputs": [],
   "source": [
    "results['nomega'][:]"
   ]
  },
  {
   "cell_type": "code",
   "execution_count": null,
   "metadata": {},
   "outputs": [],
   "source": [
    "#norm = lambda x: np.linalg.norm(np.ravel(x), ord=2)\n",
    "#norm = lambda x: np.sqrt(np.sum(x)**2/np.size(x))\n",
    "norm = lambda x: np.mean(np.abs(x))\n",
    "\n",
    "dim_names = ('ns', 'nz', 'ntheta', 'nphi')\n",
    "dim_resolutions = kelp_analyze.get_res_lists(conn, study_name)\n",
    "dim_dict = dict(zip(dim_names, dim_resolutions))\n",
    "\n",
    "ns_list = dim_dict['ns']\n",
    "\n",
    "plt.figure(1)\n",
    "plt.figure(2)\n",
    "\n",
    "for ns in ns_list:\n",
    "    results_list = kelp_analyze.query_results(\n",
    "        conn, study_name,\n",
    "        ns=ns,\n",
    "    )\n",
    "    \n",
    "    p = 13\n",
    "\n",
    "    results = results_list[0]\n",
    "    rad = results['rad'][:][:,:,:,p]\n",
    "    true_rad = results['true_rad'][:][:,:,:,p]\n",
    "\n",
    "    avg_rad = np.mean(rad, axis=(0, 1))\n",
    "    avg_true_rad = np.mean(true_rad, axis=(0, 1))\n",
    "\n",
    "    err = norm(rad - true_rad)\n",
    "\n",
    "    print(\"err = {:.2f}\".format(err))\n",
    "\n",
    "\n",
    "    _, _, z, _, _ = mms.gen_grid(\n",
    "        *map(\n",
    "            lambda x: int(results[x][:].data),\n",
    "            ('ns', 'nz', 'ntheta', 'nphi', 'rope_spacing', 'zmax')\n",
    "        )\n",
    "    )\n",
    "\n",
    "    z = z[0,0,:,0]\n",
    "\n",
    "    plt.figure(1)\n",
    "    plt.plot(z, avg_rad, 'o-', label='ns={}'.format(ns))\n",
    "    \n",
    "    plt.figure(2)\n",
    "    plt.semilogy(z, np.abs(avg_rad - avg_true_rad), 'o-', label='ns={}'.format(ns))\n",
    "\n",
    "plt.figure(1)\n",
    "plt.plot(z, avg_true_rad, 'o-', label='true')\n",
    "plt.legend()\n",
    "plt.xlabel('z')\n",
    "plt.ylabel('avg rad')\n",
    "\n",
    "plt.figure(2)\n",
    "plt.xlabel('z')\n",
    "plt.ylabel('|avg rad - true|')"
   ]
  },
  {
   "cell_type": "markdown",
   "metadata": {},
   "source": [
    "##### err. vs. ds"
   ]
  },
  {
   "cell_type": "code",
   "execution_count": null,
   "metadata": {},
   "outputs": [],
   "source": [
    "#norm = lambda x: np.linalg.norm(np.ravel(x), ord=2)\n",
    "#norm = lambda x: np.sqrt(np.sum(x)**2/np.size(x))\n",
    "norm = lambda x: np.mean(np.abs(x))\n",
    "\n",
    "dim_names = ('ns', 'nz', 'ntheta', 'nphi')\n",
    "dim_resolutions = kelp_analyze.get_res_lists(conn, study_name)\n",
    "dim_dict = dict(zip(dim_names, dim_resolutions))\n",
    "\n",
    "ns_list = dim_dict['ns']\n",
    "\n",
    "err_dict = {}\n",
    "for ns in ns_list:\n",
    "    results_list = kelp_analyze.query_results(\n",
    "        conn, study_name,\n",
    "        ns=ns,\n",
    "        nz=ns,\n",
    "    )\n",
    "\n",
    "    rad = results_list[0]['rad'][:]\n",
    "    true_rad = results_list[0]['true_rad'][:]\n",
    "\n",
    "    err = norm(rad - true_rad)\n",
    "    err_dict[ns] = err\n",
    "\n",
    "res_arr = rope_spacing / np.array(ns_list)\n",
    "err_arr = np.array([err_dict[ns] for ns in ns_list])\n",
    "\n",
    "conv.plot_lin_fit(\n",
    "    np.log10(res_arr), np.log10(err_arr), \n",
    "    min(np.log10(res_arr)), max(np.log10(res_arr)), \n",
    "    xlabel='log10 ds', ylabel='log10 err'\n",
    ")"
   ]
  },
  {
   "cell_type": "markdown",
   "metadata": {},
   "source": [
    "### asym. conv. as $b \\to 0$"
   ]
  },
  {
   "cell_type": "markdown",
   "metadata": {},
   "source": [
    "#### Compute"
   ]
  },
  {
   "cell_type": "code",
   "execution_count": null,
   "metadata": {
    "scrolled": true
   },
   "outputs": [],
   "source": [
    "# base_dir = os.path.join(os.environ['SCRATCH'], 'kelp-results')\n",
    "base_dir = '/home/oliver/academic/research/kelp-results'\n",
    "\n",
    "ns = 20\n",
    "nz = 20\n",
    "na = 6\n",
    "\n",
    "num_scatters_list = [0, 1, 2]\n",
    "b_list = np.logspace(-4, 2, 7)\n",
    "\n",
    "study_name = 'verify_asym_{}x{}x{}_scat_0_1_2_b_m4_2'.format(ns, nz, na)\n",
    "study_dir = os.path.join(base_dir, study_name)\n",
    "\n",
    "ntheta = na\n",
    "nphi = na\n",
    "\n",
    "# TODO: Don't actually delete results\n",
    "shutil.rmtree(os.path.join(base_dir, study_name), ignore_errors=True)\n",
    "\n",
    "combine_thread, gs_fut = kelp_compute.verify_asym_compute(\n",
    "    study_name, \n",
    "    b_list, num_scatters_list,\n",
    "    ns, nz, ntheta, nphi, \n",
    "    rope_spacing, zmax, \n",
    "    sol_expr, abs_expr, source_expr, bc_expr, vsf_expr,\n",
    "    param_vals, base_dir=base_dir)"
   ]
  },
  {
   "cell_type": "markdown",
   "metadata": {},
   "source": [
    "#### Plot"
   ]
  },
  {
   "cell_type": "code",
   "execution_count": null,
   "metadata": {},
   "outputs": [],
   "source": [
    "study_name = 'verify_asym_20x20x6_scat_0_1_2_b_m4_2'\n",
    "study_dir = os.path.join(base_dir, study_name)"
   ]
  },
  {
   "cell_type": "code",
   "execution_count": null,
   "metadata": {},
   "outputs": [],
   "source": [
    "db_path = os.path.join(study_dir, '{}.db'.format(study_name))\n",
    "conn = sqlite3.Connection(db_path)"
   ]
  },
  {
   "cell_type": "code",
   "execution_count": null,
   "metadata": {},
   "outputs": [],
   "source": [
    "#norm = lambda x: np.linalg.norm(np.ravel(x), ord=2)\n",
    "#norm = lambda x: np.sqrt(np.sum(x)**2/np.size(x))\n",
    "norm = lambda x: np.mean(np.abs(x))\n",
    "\n",
    "b_list, num_scatters_list = kelp_analyze.get_unique_vals(conn, study_name, ['b', 'num_scatters'])\n",
    "\n",
    "for num_scatters in num_scatters_list:\n",
    "    err_list = []\n",
    "    for b in b_list:\n",
    "        results_list = kelp_analyze.query_results(\n",
    "            conn, study_name,\n",
    "            b=b,\n",
    "            num_scatters=num_scatters,\n",
    "        )\n",
    "\n",
    "        rad = results_list[0]['rad'][:]\n",
    "        true_rad = results_list[0]['true_rad'][:]\n",
    "\n",
    "        err = norm(rad - true_rad)\n",
    "        err_list.append(err)\n",
    "\n",
    "    b_arr = np.array(b_list)[:-2]\n",
    "    err_arr = np.array(err_list)[:-2]\n",
    "    \n",
    "    conv.plot_lin_fit(\n",
    "        np.log10(b_arr), np.log10(err_arr), \n",
    "        min(np.log(b_arr)), max(np.log(b_arr)), \n",
    "        xlabel='log10(b)', ylabel='log10(err)',\n",
    "        label='n=%d, m={m:.2f}' % num_scatters\n",
    "    )\n",
    "    \n",
    "    plt.title('')\n",
    "\n",
    "plt.legend()"
   ]
  }
 ],
 "metadata": {
  "kernelspec": {
   "display_name": "Python 3 (kelp)",
   "language": "python",
   "name": "kelp"
  },
  "language_info": {
   "codemirror_mode": {
    "name": "ipython",
    "version": 3
   },
   "file_extension": ".py",
   "mimetype": "text/x-python",
   "name": "python",
   "nbconvert_exporter": "python",
   "pygments_lexer": "ipython3",
   "version": "3.6.5"
  }
 },
 "nbformat": 4,
 "nbformat_minor": 2
}
