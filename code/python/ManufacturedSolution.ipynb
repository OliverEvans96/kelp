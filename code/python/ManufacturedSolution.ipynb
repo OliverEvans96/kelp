{
 "cells": [
  {
   "cell_type": "code",
   "execution_count": 1,
   "metadata": {},
   "outputs": [],
   "source": [
    "%load_ext autoreload\n",
    "%autoreload 2"
   ]
  },
  {
   "cell_type": "code",
   "execution_count": 2,
   "metadata": {},
   "outputs": [],
   "source": [
    "import functools as ft\n",
    "\n",
    "import numpy as np\n",
    "import matplotlib.pyplot as plt\n",
    "import sympy as sp\n",
    "from IPython.display import display\n",
    "\n",
    "import kelp_compute\n",
    "\n",
    "sp.init_printing()\n",
    "%matplotlib inline"
   ]
  },
  {
   "cell_type": "markdown",
   "metadata": {},
   "source": [
    "from fortran_wrappers.pykelp3d_wrap import pykelp3d_wrap as f90\n",
    "f90.solve_rte_with_callbacks?"
   ]
  },
  {
   "cell_type": "code",
   "execution_count": 3,
   "metadata": {},
   "outputs": [],
   "source": [
    "space = sp.var('x, y, z')\n",
    "x, y, z = space\n",
    "vec_x = sp.Matrix(space)\n",
    "\n",
    "angle = sp.var(r'theta, phi')\n",
    "th, ph = angle\n",
    "vec_om = sp.Matrix([sp.sin(ph)*sp.cos(th), sp.sin(ph)*sp.sin(th), sp.cos(ph)])\n",
    "delta = sp.var(r'Delta')\n",
    "\n",
    "angle_prime = sp.var(r'theta_p, phi_p')\n",
    "thp, php = angle_prime\n",
    "vec_omp = sp.Matrix([sp.sin(php)*sp.cos(thp), sp.sin(php)*sp.sin(thp), sp.cos(php)])"
   ]
  },
  {
   "cell_type": "code",
   "execution_count": 4,
   "metadata": {},
   "outputs": [],
   "source": [
    "def grad(expr, space=space):\n",
    "    return sp.Matrix([sp.diff(expr, d) for d in space])"
   ]
  },
  {
   "cell_type": "code",
   "execution_count": 5,
   "metadata": {},
   "outputs": [],
   "source": [
    "def sphere_integral(expr, angle):\n",
    "    theta, phi = angle\n",
    "    return sp.integrate(expr*sp.sin(phi), (theta, 0, 2*sp.pi), (phi, 0, sp.pi))"
   ]
  },
  {
   "cell_type": "code",
   "execution_count": 6,
   "metadata": {},
   "outputs": [],
   "source": [
    "def dot(a, b):\n",
    "    return sum(a.T * b)"
   ]
  },
  {
   "cell_type": "code",
   "execution_count": 619,
   "metadata": {},
   "outputs": [],
   "source": [
    "def p_hat(l, m):\n",
    "    if m == 0:\n",
    "        p = 0\n",
    "    elif m == na:\n",
    "        p = nomega\n",
    "    else:\n",
    "        p = (m_pi_over_4-1)*na + l_zero + 1\n",
    "        \n",
    "    return p"
   ]
  },
  {
   "cell_type": "code",
   "execution_count": 623,
   "metadata": {},
   "outputs": [],
   "source": [
    "def vec_l(vec_x, vec_omega, s, zmax):\n",
    "    z_hat = sp.Matrix([0,0,1])\n",
    "    z0 = sp.Piecewise(\n",
    "        (0, dot(vec_omega, z_hat) > 0),\n",
    "        (zmax, True)\n",
    "    )\n",
    "    s_tilde = (dot(vec_x, z_hat) - z0) / dot(vec_omega, z_hat)\n",
    "    vec_x0 = vec_x - s_tilde * vec_omega\n",
    "    vec_l = (s*vec_x + (s_tilde-s)*vec_x0) / s_tilde\n",
    "    return vec_l"
   ]
  },
  {
   "cell_type": "code",
   "execution_count": 717,
   "metadata": {},
   "outputs": [],
   "source": [
    "def vec_l0(vec_x0, vec_omega, s, zmax):\n",
    "    z_hat = sp.Matrix([0,0,1])\n",
    "    z0 = sp.Piecewise(\n",
    "        (0, dot(vec_omega, z_hat) > 0),\n",
    "        (zmax, True)\n",
    "    )\n",
    "    s_tilde = (zmax - z0) / dot(vec_omega, z_hat)\n",
    "    vec_x1 = vec_x0 + s_tilde * vec_omega\n",
    "    vec_l = (s*vec_x1 + (s_tilde-s)*vec_x0) / s_tilde\n",
    "    return vec_l"
   ]
  },
  {
   "cell_type": "code",
   "execution_count": 7,
   "metadata": {},
   "outputs": [],
   "source": [
    "def gen_grid(ns, nz, na, rope_spacing, zmax):\n",
    "    ds = rope_spacing/ns\n",
    "    dz = zmax/nz\n",
    "    \n",
    "    x = y = -rope_spacing/2 + ds * (np.arange(ns) + 1/2)\n",
    "    z = dz * (np.arange(nz) + 1/2)\n",
    "    \n",
    "    ntheta = nphi = na\n",
    "    nomega = ntheta*(nphi-2) + 2\n",
    "    \n",
    "    dtheta = 2*np.pi/ntheta\n",
    "    dphi = np.pi/(nphi-1)\n",
    "    \n",
    "    theta = dtheta * np.arange(ntheta)\n",
    "    phi = dphi * np.arange(nphi)\n",
    "\n",
    "    l = np.arange(ntheta)\n",
    "    m = np.arange(nphi)\n",
    "    p = np.arange(nomega)\n",
    "\n",
    "    L, M = np.meshgrid(l, m, indexing='ij')\n",
    "    \n",
    "    phat = (M-1)*ntheta + L + 1\n",
    "    phat[:,0] = 0\n",
    "    phat[:,-1] = nomega-1\n",
    "    \n",
    "    theta_p = np.zeros(nomega)\n",
    "    phi_p = np.zeros(nomega)\n",
    "    theta_p[phat] = theta[L]\n",
    "    theta_p[0] = theta_p[-1] = 0\n",
    "    phi_p[phat] = phi[M]\n",
    "    \n",
    "    # A bit redundant, but seems to work\n",
    "    X, Y, Z, Theta = np.meshgrid(x, y, z, theta_p, indexing='ij')\n",
    "    _, _, _, Phi = np.meshgrid(x, y, z, phi_p, indexing='ij')\n",
    "    \n",
    "    return X, Y, Z, Theta, Phi"
   ]
  },
  {
   "cell_type": "code",
   "execution_count": 316,
   "metadata": {},
   "outputs": [],
   "source": [
    "def display_eq(lhs_name, rhs_expr):\n",
    "    \"\"\"\n",
    "    Use IPython.display.display to display a symbolic equation\n",
    "    \"\"\"\n",
    "    display(sp.Eq(sp.Symbol(lhs_name), rhs_expr))"
   ]
  },
  {
   "cell_type": "code",
   "execution_count": 612,
   "metadata": {},
   "outputs": [],
   "source": [
    "def subs_dict(expr, param_dict):\n",
    "    \"\"\"\n",
    "    Substitute a dictionary of values into a symbolic expression.\n",
    "    \"\"\"\n",
    "    # Multiply by a placeholder symbol to the expression in case it is originally\n",
    "    # just a numeric constant, in which case .subs fails.\n",
    "    placeholder = sp.Symbol('PLACEHOLDER')\n",
    "    new_expr = expr * placeholder\n",
    "    for key, val in param_dict.items():\n",
    "        new_expr = new_expr.subs(key, val)\n",
    "        \n",
    "    # Set the placeholder symobol to one.\n",
    "    new_expr = new_expr.subs(placeholder, 1)\n",
    "    \n",
    "    return new_expr"
   ]
  },
  {
   "cell_type": "code",
   "execution_count": 366,
   "metadata": {},
   "outputs": [],
   "source": [
    "def symify(expr, *args, **subs):\n",
    "    \"\"\"\n",
    "    Create symbolic sympy function from `expr`,\n",
    "    with `args` as free variables, \n",
    "    and `subs` values as fixed constants.\n",
    "    \"\"\"\n",
    "    return sp.lambdify(\n",
    "        args,\n",
    "        subs_dict(expr, subs),\n",
    "        modules=(\"sympy\",)\n",
    "    )"
   ]
  },
  {
   "cell_type": "markdown",
   "metadata": {},
   "source": [
    "---"
   ]
  },
  {
   "cell_type": "markdown",
   "metadata": {},
   "source": [
    "## Calculation functions"
   ]
  },
  {
   "cell_type": "code",
   "execution_count": 368,
   "metadata": {},
   "outputs": [],
   "source": [
    "def calculate_bc(L, params=()):\n",
    "    z = space[-1]\n",
    "    zmin = 0\n",
    "    return L(*space, *angle, *params).subs(z, zmin)"
   ]
  },
  {
   "cell_type": "code",
   "execution_count": 367,
   "metadata": {},
   "outputs": [],
   "source": [
    "def calculate_source(L, b, a, beta, params=()):\n",
    "    L_om = L(*space, *angle, *params)\n",
    "    L_omp = L(*space, *angle_prime, *params)\n",
    "    \n",
    "    deriv = dot(vec_om, grad(L_om))\n",
    "    atten = (a(*space)+b)*L_om\n",
    "    \n",
    "    scat_integrand = beta(dot(vec_om, grad(L_omp))) * L_omp\n",
    "    scat = b * sphere_integral(scat_integrand, angle=angle_prime)\n",
    "    \n",
    "    source = deriv + atten - scat\n",
    "    \n",
    "    return source"
   ]
  },
  {
   "cell_type": "code",
   "execution_count": 499,
   "metadata": {},
   "outputs": [],
   "source": [
    "def check_sol(L, b, a, beta, sigma):\n",
    "    L_om = L(*space, *angle)\n",
    "    L_omp = L(*space, *angle_prime)\n",
    "    \n",
    "    deriv = dot(vec_om, grad(L_om))\n",
    "    atten = (a(*space)+b)*L_om\n",
    "    \n",
    "    scat_integrand = beta(dot(vec_om, grad(L_omp))) * L_omp\n",
    "    scat = b * sphere_integral(scat_integrand, angle=angle_prime)\n",
    "    \n",
    "    source = sigma(*space, *angle)\n",
    "    \n",
    "    return deriv + atten - scat - source"
   ]
  },
  {
   "cell_type": "markdown",
   "metadata": {},
   "source": [
    "---"
   ]
  },
  {
   "cell_type": "markdown",
   "metadata": {},
   "source": [
    "## User-function definitions"
   ]
  },
  {
   "cell_type": "code",
   "execution_count": 484,
   "metadata": {},
   "outputs": [],
   "source": [
    "def uniform_vsf(delta):\n",
    "    return 1/(4*sp.pi)"
   ]
  },
  {
   "cell_type": "code",
   "execution_count": 485,
   "metadata": {},
   "outputs": [],
   "source": [
    "# TODO: No upwelling light from bottom\n",
    "# Also, spatially homogeneous BC\n",
    "def prod_L(x, y, z, theta, phi, alpha, gamma):\n",
    "    return (\n",
    "        (\n",
    "            (\n",
    "                (2+sp.sin(2*sp.pi*x/alpha))\n",
    "                *(2+sp.sin(2*sp.pi*y/alpha))\n",
    "                *(sp.sin(sp.pi*z/gamma))\n",
    "            ) + sp.exp(-z/gamma)\n",
    "        )\n",
    "        *(2+sp.sin(phi))\n",
    "    )"
   ]
  },
  {
   "cell_type": "code",
   "execution_count": 486,
   "metadata": {},
   "outputs": [],
   "source": [
    "def uniform_L(x, y, z, theta, phi, alpha, gamma):\n",
    "    return alpha"
   ]
  },
  {
   "cell_type": "code",
   "execution_count": 487,
   "metadata": {},
   "outputs": [],
   "source": [
    "def tanh_L(x, y, z, theta, phi, alpha, gamma):\n",
    "    return alpha * sp.tanh(gamma-z)"
   ]
  },
  {
   "cell_type": "code",
   "execution_count": 488,
   "metadata": {},
   "outputs": [],
   "source": [
    "# TODO: Should be periodic on correct grid\n",
    "def prod_a(x, y, z):\n",
    "    return (2+sp.sin(2*sp.pi*x))*(2+sp.sin(2*sp.pi*y))*(1+sp.tanh(z-gamma))"
   ]
  },
  {
   "cell_type": "code",
   "execution_count": 489,
   "metadata": {},
   "outputs": [],
   "source": [
    "def uniform_a(x, y, z):\n",
    "    return 1"
   ]
  },
  {
   "cell_type": "markdown",
   "metadata": {},
   "source": [
    "### Decide here which functions to use."
   ]
  },
  {
   "cell_type": "code",
   "execution_count": 731,
   "metadata": {},
   "outputs": [],
   "source": [
    "sol_func = tanh_L\n",
    "abs_func = uniform_a\n",
    "vsf_func = uniform_vsf"
   ]
  },
  {
   "cell_type": "markdown",
   "metadata": {},
   "source": [
    "---"
   ]
  },
  {
   "cell_type": "markdown",
   "metadata": {},
   "source": [
    "## Calculate source & BC"
   ]
  },
  {
   "cell_type": "code",
   "execution_count": 732,
   "metadata": {},
   "outputs": [],
   "source": [
    "b = sp.var('b')\n",
    "params = sp.var('alpha, gamma')\n",
    "\n",
    "source_expr = calculate_source(sol_func, b, abs_func, vsf_func, params)\n",
    "bc_expr = calculate_bc(sol_func, params)\n",
    "\n",
    "# Evaluate other expressions as well for consistency\n",
    "sol_expr = sol_func(*space, *angle, *params)\n",
    "abs_expr = abs_func(*space)\n",
    "vsf_expr = vsf_func(delta)"
   ]
  },
  {
   "cell_type": "markdown",
   "metadata": {},
   "source": [
    "## Specify parameter values"
   ]
  },
  {
   "cell_type": "code",
   "execution_count": 733,
   "metadata": {},
   "outputs": [],
   "source": [
    "alpha = 1\n",
    "gamma = 1\n",
    "b = 0.0\n",
    "param_vals = {\n",
    "    'alpha': alpha,\n",
    "    'gamma': gamma,\n",
    "    'b': b\n",
    "}"
   ]
  },
  {
   "cell_type": "markdown",
   "metadata": {},
   "source": [
    "## Generate symbolic and numerical functions"
   ]
  },
  {
   "cell_type": "code",
   "execution_count": 734,
   "metadata": {},
   "outputs": [],
   "source": [
    "source_sym = symify(source_expr, *space, *angle, **param_vals)\n",
    "abs_sym = symify(abs_expr, *space, **param_vals)\n",
    "bc_sym = symify(bc_expr, *angle, **param_vals)\n",
    "sol_sym = symify(sol_expr, *space, *angle, **param_vals)\n",
    "vsf_sym = symify(vsf_expr, delta, **param_vals)\n",
    "\n",
    "# Generate numerical functions\n",
    "abs_func_N = kelp_compute.sym_to_num(abs_sym, *space)\n",
    "source_func_N = kelp_compute.sym_to_num(source_sym, *space, *angle)\n",
    "bc_func_N = kelp_compute.sym_to_num(bc_sym, *angle)\n",
    "vsf_func_N = kelp_compute.sym_to_num(vsf_sym, delta)\n",
    "sol_func_N = kelp_compute.sym_to_num(sol_sym, *space, *angle)"
   ]
  },
  {
   "cell_type": "markdown",
   "metadata": {},
   "source": [
    "## Problem Summary"
   ]
  },
  {
   "cell_type": "code",
   "execution_count": 735,
   "metadata": {},
   "outputs": [
    {
     "name": "stdout",
     "output_type": "stream",
     "text": [
      "Solution\n"
     ]
    },
    {
     "data": {
      "image/png": "[encoded data removed]",
      "text/latex": [
       "$$L = \\tanh{\\left (- z + 1 \\right )}$$"
      ],
      "text/plain": [
       "L = tanh(-z + 1)"
      ]
     },
     "metadata": {},
     "output_type": "display_data"
    },
    {
     "name": "stdout",
     "output_type": "stream",
     "text": [
      "\n",
      "Absorption Coefficient\n"
     ]
    },
    {
     "data": {
      "image/png": "[encoded data removed]",
      "text/latex": [
       "$$a = 1$$"
      ],
      "text/plain": [
       "a = 1"
      ]
     },
     "metadata": {},
     "output_type": "display_data"
    },
    {
     "name": "stdout",
     "output_type": "stream",
     "text": [
      "\n",
      "Boundary Condition\n"
     ]
    },
    {
     "data": {
      "image/png": "[encoded data removed]",
      "text/latex": [
       "$$L_{0} = \\tanh{\\left (1 \\right )}$$"
      ],
      "text/plain": [
       "L₀ = tanh(1)"
      ]
     },
     "metadata": {},
     "output_type": "display_data"
    },
    {
     "name": "stdout",
     "output_type": "stream",
     "text": [
      "\n",
      "Source\n"
     ]
    },
    {
     "data": {
      "image/png": "[encoded data removed]",
      "text/latex": [
       "$$\\sigma = \\left(\\tanh^{2}{\\left (- z + 1 \\right )} - 1\\right) \\cos{\\left (\\phi \\right )} + 1.0 \\tanh{\\left (- z + 1 \\right )}$$"
      ],
      "text/plain": [
       "    ⎛    2            ⎞                          \n",
       "σ = ⎝tanh (-z + 1) - 1⎠⋅cos(φ) + 1.0⋅tanh(-z + 1)"
      ]
     },
     "metadata": {},
     "output_type": "display_data"
    },
    {
     "name": "stdout",
     "output_type": "stream",
     "text": [
      "\n"
     ]
    }
   ],
   "source": [
    "print(\"Solution\")\n",
    "display_eq('L', sol_sym(*space, *angle))\n",
    "print()\n",
    "\n",
    "print(\"Absorption Coefficient\")\n",
    "display_eq('a', abs_sym(*space))\n",
    "print()\n",
    "\n",
    "print(\"Boundary Condition\")\n",
    "display_eq('L_0', bc_sym(*angle))\n",
    "print()\n",
    "\n",
    "print(\"Source\")\n",
    "display_eq('sigma', source_sym(*space, *angle))\n",
    "print()"
   ]
  },
  {
   "cell_type": "markdown",
   "metadata": {},
   "source": [
    "## Check solution constraints\n",
    "\n",
    "- Everything is periodic in x, y\n",
    "- Absorption coefficient is positive\n",
    "- Boundary condition depends only on angle\n",
    "- No upwelling light from below"
   ]
  },
  {
   "cell_type": "markdown",
   "metadata": {},
   "source": [
    "## Check source term\n",
    "\n",
    "Source term seems too high, so try substituting parameters,\n",
    "then plugging in analytical solution.\n",
    "\n",
    "The result should be 0."
   ]
  },
  {
   "cell_type": "code",
   "execution_count": 736,
   "metadata": {},
   "outputs": [
    {
     "data": {
      "image/png": "[encoded data removed]",
      "text/latex": [
       "$$0$$"
      ],
      "text/plain": [
       "0"
      ]
     },
     "execution_count": 736,
     "metadata": {},
     "output_type": "execute_result"
    }
   ],
   "source": [
    "check_sol(sol_sym, b, abs_sym, vsf_sym, source_sym)"
   ]
  },
  {
   "cell_type": "markdown",
   "metadata": {},
   "source": [
    "## Numerical Solution"
   ]
  },
  {
   "cell_type": "code",
   "execution_count": 737,
   "metadata": {},
   "outputs": [],
   "source": [
    "# Grid options\n",
    "ns = 20\n",
    "nz = 20\n",
    "na = 10\n",
    "nomega = na*(na-2) + 2\n",
    "rope_spacing = 1\n",
    "zmax = 1\n",
    "\n",
    "# Solver options\n",
    "lis_opts = \"-i gmres\"\n",
    "fd_flag = False\n",
    "num_scatters = 0\n",
    "\n",
    "# Calculate numerical solution\n",
    "scalar_params, results = kelp_compute.solve_rte_with_callbacks_full(\n",
    "    ns, nz, na,\n",
    "    rope_spacing, zmax,\n",
    "    b, abs_sym, source_sym, bc_sym, vsf_sym,\n",
    "    num_scatters, fd_flag, lis_opts\n",
    ")\n",
    "\n",
    "# Extract numerical solution\n",
    "asymptotic_sol = results['rad']\n",
    "\n",
    "# Evaluate true solution on same grid\n",
    "x, y, z, theta, phi = gen_grid(ns, nz, na, rope_spacing, zmax)\n",
    "true_sol = sol_func_N(x, y, z, theta, phi)"
   ]
  },
  {
   "cell_type": "code",
   "execution_count": 738,
   "metadata": {},
   "outputs": [],
   "source": [
    "# Pick one angle to evaluate symbolically and plot\n",
    "l = 0\n",
    "m = int(np.floor(na/4))\n",
    "p = p_hat(l, m)\n",
    "th = theta[0,0,0,p]\n",
    "ph = phi[0,0,0,p]\n",
    "one_angle_dict = {\n",
    "    'theta': th,\n",
    "    'phi': ph\n",
    "}\n",
    "one_angle_tuple = (th, ph)"
   ]
  },
  {
   "cell_type": "markdown",
   "metadata": {},
   "source": [
    "## Symbolic Solution (no scattering)"
   ]
  },
  {
   "cell_type": "code",
   "execution_count": 739,
   "metadata": {},
   "outputs": [],
   "source": [
    "s, s_p, s_pp = sp.var('s, s_p, s_{pp}')\n",
    "x0, y0 = sp.var('x_0, y_0')\n",
    "vec_x0 = sp.Matrix([x0, y0, 0])"
   ]
  },
  {
   "cell_type": "code",
   "execution_count": 740,
   "metadata": {},
   "outputs": [],
   "source": [
    "a_tilde = abs_sym(\n",
    "    *sp.simplify(\n",
    "        subs_dict(\n",
    "            vec_l0(vec_x0, vec_om, s_pp, zmax),\n",
    "            one_angle_dict\n",
    "        )\n",
    "    )\n",
    ")\n",
    "\n",
    "sigma_tilde = source_sym(\n",
    "    *sp.simplify(\n",
    "        subs_dict(\n",
    "            vec_l0(vec_x0, vec_om, s_p, zmax),\n",
    "            one_angle_dict\n",
    "        )\n",
    "    ), \n",
    "    *one_angle_tuple\n",
    ")"
   ]
  },
  {
   "cell_type": "code",
   "execution_count": 741,
   "metadata": {},
   "outputs": [
    {
     "data": {
      "image/png": "[encoded data removed]",
      "text/latex": [
       "$$1$$"
      ],
      "text/plain": [
       "1"
      ]
     },
     "execution_count": 741,
     "metadata": {},
     "output_type": "execute_result"
    }
   ],
   "source": [
    "a_tilde"
   ]
  },
  {
   "cell_type": "code",
   "execution_count": 742,
   "metadata": {},
   "outputs": [
    {
     "data": {
      "image/png": "[encoded data removed]",
      "text/latex": [
       "$$0.766044443118978 \\tanh^{2}{\\left (- 0.766044443118978 s_{p} + 1 \\right )} + 1.0 \\tanh{\\left (- 0.766044443118978 s_{p} + 1 \\right )} - 0.766044443118978$$"
      ],
      "text/plain": [
       "                      2                                                       \n",
       "0.766044443118978⋅tanh (-0.766044443118978⋅sₚ + 1) + 1.0⋅tanh(-0.7660444431189\n",
       "\n",
       "                              \n",
       "78⋅sₚ + 1) - 0.766044443118978"
      ]
     },
     "execution_count": 742,
     "metadata": {},
     "output_type": "execute_result"
    }
   ],
   "source": [
    "sigma_tilde"
   ]
  },
  {
   "cell_type": "code",
   "execution_count": 743,
   "metadata": {},
   "outputs": [],
   "source": [
    "u0_s = sp.integrate(\n",
    "    sigma_tilde * sp.exp(\n",
    "        -sp.integrate(\n",
    "            a_tilde,\n",
    "            (s_pp, s_p, s)\n",
    "        )\n",
    "    ),\n",
    "    (s_p, 0, s)\n",
    ")"
   ]
  },
  {
   "cell_type": "code",
   "execution_count": 744,
   "metadata": {},
   "outputs": [
    {
     "data": {
      "image/png": "[encoded data removed]",
      "text/latex": [
       "$$1.0 \\tanh{\\left (- 0.766044443118978 s + 1 \\right )} - 1.0 e^{- s} \\tanh{\\left (1 \\right )}$$"
      ],
      "text/plain": [
       "                                          -s        \n",
       "1.0⋅tanh(-0.766044443118978⋅s + 1) - 1.0⋅ℯ  ⋅tanh(1)"
      ]
     },
     "execution_count": 744,
     "metadata": {},
     "output_type": "execute_result"
    }
   ],
   "source": [
    "u0_s"
   ]
  },
  {
   "cell_type": "code",
   "execution_count": 747,
   "metadata": {},
   "outputs": [],
   "source": [
    "u0_func = sp.lambdify(\n",
    "    ('s', 'x_0', 'y_0'),\n",
    "    u0_s,\n",
    "    modules=(\"sympy\",)\n",
    ")"
   ]
  },
  {
   "cell_type": "code",
   "execution_count": 755,
   "metadata": {},
   "outputs": [],
   "source": [
    "L_symbolic_expr = u0_func(\n",
    "    sp.Symbol('z')*sp.sec(ph),\n",
    "    sp.Symbol('x') - sp.Symbol('z')*sp.tan(ph)*sp.cos(th),\n",
    "    sp.Symbol('y') - sp.Symbol('z')*sp.tan(ph)*sp.sin(th),\n",
    ")\n",
    "\n",
    "L_symbolic_N = sp.lambdify(\n",
    "    space,\n",
    "    L_symbolic_expr,\n",
    "    modules=(\"numpy\",)\n",
    ")\n",
    "\n",
    "symbolic_sol = L_symbolic_N(x, y, z)"
   ]
  },
  {
   "cell_type": "code",
   "execution_count": 756,
   "metadata": {},
   "outputs": [
    {
     "data": {
      "image/png": "[encoded data removed]",
      "text/latex": [
       "$$1.0 \\tanh{\\left (- 1.0 z + 1 \\right )} - 1.0 e^{- 1.30540728933228 z} \\tanh{\\left (1 \\right )}$$"
      ],
      "text/plain": [
       "                            -1.30540728933228⋅z        \n",
       "1.0⋅tanh(-1.0⋅z + 1) - 1.0⋅ℯ                   ⋅tanh(1)"
      ]
     },
     "execution_count": 756,
     "metadata": {},
     "output_type": "execute_result"
    }
   ],
   "source": [
    "L_symbolic_expr"
   ]
  },
  {
   "cell_type": "markdown",
   "metadata": {},
   "source": [
    "## Plot"
   ]
  },
  {
   "cell_type": "code",
   "execution_count": 758,
   "metadata": {},
   "outputs": [
    {
     "data": {
      "text/plain": [
       "<matplotlib.legend.Legend at 0x7fb2f55eb470>"
      ]
     },
     "execution_count": 758,
     "metadata": {},
     "output_type": "execute_result"
    },
    {
     "data": {
      "image/png": "[encoded data removed]",
      "text/plain": [
       "<Figure size 864x288 with 2 Axes>"
      ]
     },
     "metadata": {},
     "output_type": "display_data"
    }
   ],
   "source": [
    "plt.figure(figsize=(12,4))\n",
    "plt.subplot(1,2,1)\n",
    "plt.plot(z[0,0,:,p], abs_func_N(x,y,z)[0,0,:,p], 'C0o-', label='abs')\n",
    "plt.plot(z[0,0,:,p], source_func_N(x,y,z,theta,phi)[0,0,:,p], 'C1o-', label='source')\n",
    "plt.legend()\n",
    "\n",
    "plt.subplot(1,2,2)\n",
    "plt.plot(z[0,0,:,p], true_sol[0,0,:,p], 'C2o-', label='true')\n",
    "plt.plot(z[0,0,:,p], asymptotic_sol[0,0,:,p], 'C3o-', label='asymptotic')\n",
    "plt.plot(z[0,0,:,p], symbolic_sol[0,0,:,p], 'C4o-', label='symbolic')\n",
    "plt.legend()"
   ]
  },
  {
   "cell_type": "code",
   "execution_count": 518,
   "metadata": {},
   "outputs": [
    {
     "data": {
      "image/png": "[encoded data removed]",
      "text/plain": [
       "<Figure size 432x288 with 2 Axes>"
      ]
     },
     "metadata": {},
     "output_type": "display_data"
    },
    {
     "data": {
      "image/png": "[encoded data removed]",
      "text/plain": [
       "<Figure size 432x288 with 2 Axes>"
      ]
     },
     "metadata": {},
     "output_type": "display_data"
    },
    {
     "data": {
      "image/png": "[encoded data removed]",
      "text/plain": [
       "<Figure size 432x288 with 2 Axes>"
      ]
     },
     "metadata": {},
     "output_type": "display_data"
    },
    {
     "data": {
      "image/png": "[encoded data removed]",
      "text/plain": [
       "<Figure size 432x288 with 2 Axes>"
      ]
     },
     "metadata": {},
     "output_type": "display_data"
    }
   ],
   "source": [
    "plt.figure()\n",
    "plt.contourf(x[:,0,:,0], z[:,0,:,0], abs_func_N(x,y,z)[:,0,:,0])\n",
    "plt.colorbar()\n",
    "plt.title('abs')\n",
    "plt.xlabel('x')\n",
    "plt.ylabel('z')\n",
    "\n",
    "plt.figure()\n",
    "plt.contourf(x[:,0,:,0], z[:,0,:,0], source_func_N(x,y,z,theta,phi)[:,0,:,0,])\n",
    "plt.colorbar()\n",
    "plt.title('source')\n",
    "plt.xlabel('x')\n",
    "plt.ylabel('z')\n",
    "\n",
    "plt.figure()\n",
    "plt.contourf(x[:,0,:,0], z[:,0,:,0], true_sol[:,0,:,0])\n",
    "plt.colorbar()\n",
    "plt.title('true')\n",
    "plt.xlabel('x')\n",
    "plt.ylabel('z')\n",
    "\n",
    "plt.figure()\n",
    "plt.contourf(x[:,0,:,0], z[:,0,:,0], asymptotic_sol[:,0,:,0])\n",
    "plt.colorbar()\n",
    "plt.title('asymptotic')\n",
    "plt.xlabel('x')\n",
    "plt.ylabel('z')\n",
    "plt.show()"
   ]
  },
  {
   "cell_type": "markdown",
   "metadata": {},
   "source": [
    "---"
   ]
  },
  {
   "cell_type": "code",
   "execution_count": 69,
   "metadata": {},
   "outputs": [],
   "source": [
    "def print_stats(x):\n",
    "    print(\"min:\", np.min(x))\n",
    "    print(\"max:\", np.max(x))\n",
    "    print(\"mean:\", np.mean(x))"
   ]
  },
  {
   "cell_type": "code",
   "execution_count": 70,
   "metadata": {},
   "outputs": [
    {
     "name": "stdout",
     "output_type": "stream",
     "text": [
      "abs:\n",
      "min: 1\n",
      "max: 1\n",
      "mean: 1.0\n",
      "\n",
      "source:\n",
      "min: -0.9987255736300098\n",
      "max: 0.9987255736300098\n",
      "mean: -9.238213197532601e-17\n",
      "\n",
      "bc:\n",
      "min: 0.7615941559557649\n",
      "max: 0.7615941559557649\n",
      "mean: 0.7615941559557646\n",
      "\n"
     ]
    }
   ],
   "source": [
    "print(\"abs:\")\n",
    "print_stats(abs_func_N(x, y, z))\n",
    "print()\n",
    "\n",
    "print(\"source:\")\n",
    "print_stats(source_func_N(x, y, z, theta, phi))\n",
    "print()\n",
    "\n",
    "print(\"bc:\")\n",
    "print_stats(bc_func_N(theta, phi))\n",
    "print()"
   ]
  }
 ],
 "metadata": {
  "kernelspec": {
   "display_name": "Python 3 (kelp)",
   "language": "python",
   "name": "kelp"
  },
  "language_info": {
   "codemirror_mode": {
    "name": "ipython",
    "version": 3
   },
   "file_extension": ".py",
   "mimetype": "text/x-python",
   "name": "python",
   "nbconvert_exporter": "python",
   "pygments_lexer": "ipython3",
   "version": "3.6.5"
  }
 },
 "nbformat": 4,
 "nbformat_minor": 2
}
