{
 "cells": [
  {
   "cell_type": "code",
   "execution_count": 1,
   "metadata": {},
   "outputs": [],
   "source": [
    "%load_ext autoreload\n",
    "%autoreload 2"
   ]
  },
  {
   "cell_type": "code",
   "execution_count": 2,
   "metadata": {},
   "outputs": [],
   "source": [
    "import numpy as np\n",
    "import matplotlib.pyplot as plt\n",
    "import sympy as sp\n",
    "\n",
    "import kelp_compute\n",
    "\n",
    "sp.init_printing()\n",
    "%matplotlib inline"
   ]
  },
  {
   "cell_type": "markdown",
   "metadata": {},
   "source": [
    "from fortran_wrappers.pykelp3d_wrap import pykelp3d_wrap as f90\n",
    "f90.solve_rte_with_callbacks?"
   ]
  },
  {
   "cell_type": "code",
   "execution_count": 3,
   "metadata": {},
   "outputs": [],
   "source": [
    "space = sp.var('x, y, z')\n",
    "x, y, z = space\n",
    "vec_x = sp.Matrix(space)\n",
    "\n",
    "angle = sp.var(r'theta, phi')\n",
    "th, ph = angle\n",
    "vec_om = sp.Matrix([sp.sin(ph)*sp.cos(th), sp.sin(ph)*sp.sin(th), sp.cos(ph)])\n",
    "delta = sp.var(r'Delta')\n",
    "\n",
    "angle_prime = sp.var(r'theta_p, phi_p')\n",
    "thp, php = angle_prime\n",
    "vec_omp = sp.Matrix([sp.sin(php)*sp.cos(thp), sp.sin(php)*sp.sin(thp), sp.cos(php)])"
   ]
  },
  {
   "cell_type": "code",
   "execution_count": 4,
   "metadata": {},
   "outputs": [],
   "source": [
    "def grad(expr, space=space):\n",
    "    return sp.Matrix([sp.diff(expr, d) for d in space])"
   ]
  },
  {
   "cell_type": "code",
   "execution_count": 5,
   "metadata": {},
   "outputs": [],
   "source": [
    "def sphere_integral(expr, angle):\n",
    "    theta, phi = angle\n",
    "    return sp.integrate(expr*sp.sin(phi), (theta, 0, 2*sp.pi), (phi, 0, sp.pi))"
   ]
  },
  {
   "cell_type": "code",
   "execution_count": 6,
   "metadata": {},
   "outputs": [],
   "source": [
    "def dot(a, b):\n",
    "    return sum(a.T * b)"
   ]
  },
  {
   "cell_type": "code",
   "execution_count": 7,
   "metadata": {},
   "outputs": [],
   "source": [
    "def gen_grid(ns, nz, na, rope_spacing, zmax):\n",
    "    ds = rope_spacing/ns\n",
    "    dz = zmax/nz\n",
    "    \n",
    "    x = y = -rope_spacing/2 + ds * (np.arange(ns) + 1/2)\n",
    "    z = dz * (np.arange(nz) + 1/2)\n",
    "    \n",
    "    ntheta = nphi = na\n",
    "    nomega = ntheta*(nphi-2) + 2\n",
    "    \n",
    "    dtheta = 2*np.pi/ntheta\n",
    "    dphi = np.pi/(nphi-1)\n",
    "    \n",
    "    theta = dtheta * np.arange(ntheta)\n",
    "    phi = dphi * np.arange(nphi)\n",
    "\n",
    "    l = np.arange(ntheta)\n",
    "    m = np.arange(nphi)\n",
    "    p = np.arange(nomega)\n",
    "\n",
    "    L, M = np.meshgrid(l, m, indexing='ij')\n",
    "    \n",
    "    phat = (M-1)*ntheta + L + 1\n",
    "    phat[:,0] = 0\n",
    "    phat[:,-1] = nomega-1\n",
    "    \n",
    "    theta_p = np.zeros(nomega)\n",
    "    phi_p = np.zeros(nomega)\n",
    "    theta_p[phat] = theta[L]\n",
    "    theta_p[0] = theta_p[-1] = 0\n",
    "    phi_p[phat] = phi[M]\n",
    "    \n",
    "    # A bit redundant, but seems to work\n",
    "    X, Y, Z, Theta = np.meshgrid(x, y, z, theta_p, indexing='ij')\n",
    "    _, _, _, Phi = np.meshgrid(x, y, z, phi_p, indexing='ij')\n",
    "    \n",
    "    return X, Y, Z, Theta, Phi"
   ]
  },
  {
   "cell_type": "markdown",
   "metadata": {},
   "source": [
    "---"
   ]
  },
  {
   "cell_type": "code",
   "execution_count": 8,
   "metadata": {},
   "outputs": [],
   "source": [
    "def calculate_source(L, b, a, beta, params=()):\n",
    "    L_om = L(*space, *angle, *params)\n",
    "    L_omp = L(*space, *angle_prime, *params)\n",
    "    \n",
    "    deriv = dot(vec_om, grad(L_om))\n",
    "    atten = (a(*space)+b)*L_om\n",
    "    \n",
    "    scat_integrand = dot(vec_om, grad(L_omp))\n",
    "    scat = sphere_integral(scat_integrand, angle=angle_prime)\n",
    "    \n",
    "    source = deriv + atten - scat\n",
    "    \n",
    "    return source"
   ]
  },
  {
   "cell_type": "code",
   "execution_count": 9,
   "metadata": {},
   "outputs": [],
   "source": [
    "def calculate_bc(L, params=()):\n",
    "    z = space[-1]\n",
    "    zmin = 0\n",
    "    return L(*space, *angle, *params).subs(z, zmin)"
   ]
  },
  {
   "cell_type": "code",
   "execution_count": 10,
   "metadata": {},
   "outputs": [],
   "source": [
    "b = sp.var('b')\n",
    "params = sp.var('alpha, gamma')"
   ]
  },
  {
   "cell_type": "code",
   "execution_count": 64,
   "metadata": {},
   "outputs": [],
   "source": [
    "def uniform_vsf(delta):\n",
    "    return 1/(4*sp.pi) + 0*delta"
   ]
  },
  {
   "cell_type": "code",
   "execution_count": 48,
   "metadata": {},
   "outputs": [],
   "source": [
    "# TODO: No upwelling light from bottom\n",
    "# Also, spatially homogeneous BC\n",
    "def prod_L(x, y, z, theta, phi, alpha, gamma):\n",
    "    return (\n",
    "        (\n",
    "            (\n",
    "                (2+sp.sin(2*sp.pi*x/alpha))\n",
    "                *(2+sp.sin(2*sp.pi*y/alpha))\n",
    "                *(sp.sin(2*sp.pi*z/gamma))\n",
    "            ) + sp.exp(-z/gamma)\n",
    "        )\n",
    "        *(2+sp.sin(phi))\n",
    "    )"
   ]
  },
  {
   "cell_type": "code",
   "execution_count": 49,
   "metadata": {},
   "outputs": [],
   "source": [
    "# TODO: Should be periodic on correct grid\n",
    "def prod_a(x, y, z):\n",
    "    return (2+sp.sin(2*sp.pi*x))*(2+sp.sin(2*sp.pi*y))*(1+sp.tanh(z-gamma))"
   ]
  },
  {
   "cell_type": "code",
   "execution_count": 50,
   "metadata": {},
   "outputs": [],
   "source": [
    "def uniform_a(x, y, z):\n",
    "    return 1"
   ]
  },
  {
   "cell_type": "code",
   "execution_count": 51,
   "metadata": {},
   "outputs": [],
   "source": [
    "prod_source = calculate_source(prod_L, b, uniform_a, uniform_vsf, params)\n",
    "prod_bc = calculate_bc(prod_L, params)"
   ]
  },
  {
   "cell_type": "code",
   "execution_count": 66,
   "metadata": {},
   "outputs": [],
   "source": [
    "alpha = 1\n",
    "gamma = 1\n",
    "b = 0.0"
   ]
  },
  {
   "cell_type": "code",
   "execution_count": 83,
   "metadata": {},
   "outputs": [],
   "source": [
    "prod_source_sym = sp.lambdify(\n",
    "    (*space, *angle), \n",
    "    prod_source.subs('alpha', alpha).subs('gamma', gamma).subs('b', b),\n",
    "    modules=(\"sympy\",)\n",
    ")\n",
    "\n",
    "prod_a_sym = sp.lambdify(\n",
    "    space,\n",
    "    prod_a(*space),\n",
    "    modules=(\"sympy\",)\n",
    ")\n",
    "\n",
    "prod_bc_sym = sp.lambdify(\n",
    "    angle, \n",
    "    prod_bc.subs('alpha', alpha).subs('gamma', gamma),\n",
    "    modules=(\"sympy\",)\n",
    ")\n",
    "\n",
    "uniform_vsf_sym = uniform_vsf\n",
    "# uniform_vsf_sym = sp.lambdify(\n",
    "#     (delta,), \n",
    "#     uniform_vsf(delta),\n",
    "#     modules=(\"sympy\",)\n",
    "# )\n",
    "\n",
    "sol_func_sym = sp.lambdify(\n",
    "    (*space, *angle), \n",
    "    prod_L(*space, *angle, *params).subs('alpha', alpha).subs('gamma', gamma).subs('b', b),\n",
    "    modules=(\"sympy\",)\n",
    ")"
   ]
  },
  {
   "cell_type": "code",
   "execution_count": 84,
   "metadata": {},
   "outputs": [],
   "source": [
    "abs_func = prod_a_sym\n",
    "source_func = prod_source_sym\n",
    "bc_func = prod_bc_sym\n",
    "vsf_func = uniform_vsf_sym"
   ]
  },
  {
   "cell_type": "code",
   "execution_count": 85,
   "metadata": {},
   "outputs": [],
   "source": [
    "# Convert callbacks to numpy functions\n",
    "abs_func_N = sp.lambdify(\n",
    "    space,\n",
    "    abs_func(*space),\n",
    "    modules=(\"numpy\",)\n",
    ")\n",
    "\n",
    "source_func_N = sp.lambdify(\n",
    "    (*space, *angle),\n",
    "    source_func(*space, *angle),\n",
    "    modules=(\"numpy\",)\n",
    ")\n",
    "\n",
    "bc_func_N = sp.lambdify(\n",
    "    angle,\n",
    "    bc_func(*angle),\n",
    "    modules=(\"numpy\",)\n",
    ")\n",
    "\n",
    "vsf_func_N = vsf_func\n",
    "# vsf_func_N = sp.lambdify(\n",
    "#     (delta,),\n",
    "#     vsf_func(delta),\n",
    "#     modules=(\"numpy\",)\n",
    "# )\n",
    "\n",
    "# Do the same for manufactured solution\n",
    "sol_func_N =sp.lambdify(\n",
    "    (*space, *angle),\n",
    "    sol_func_sym(*space, *angle),\n",
    "    modules=(\"numpy\",)\n",
    ")"
   ]
  },
  {
   "cell_type": "code",
   "execution_count": 91,
   "metadata": {},
   "outputs": [
    {
     "data": {
      "text/plain": [
       "array([1/(4*pi), 1/(4*pi)], dtype=object)"
      ]
     },
     "execution_count": 91,
     "metadata": {},
     "output_type": "execute_result"
    }
   ],
   "source": [
    "vsf_func(np.array([1,2]))"
   ]
  },
  {
   "cell_type": "code",
   "execution_count": 92,
   "metadata": {},
   "outputs": [],
   "source": [
    "def vsf_wrapper(*args):\n",
    "    print(\"got args: {}\".format(args))\n",
    "    ans = vsf_func(*args)\n",
    "    print(\"ans: {}\".format(ans))\n",
    "    return ans"
   ]
  },
  {
   "cell_type": "code",
   "execution_count": 96,
   "metadata": {},
   "outputs": [],
   "source": [
    "ns = 10\n",
    "nz = 10\n",
    "na = 10\n",
    "nomega = na*(na-2) + 2\n",
    "rope_spacing = 1\n",
    "zmax = 1\n",
    "\n",
    "lis_opts = \"-i gmres\"\n",
    "fd_flag = False\n",
    "num_scatters = 0\n",
    "\n",
    "scalar_params, results = kelp_compute.solve_rte_with_callbacks_full(\n",
    "    ns, nz, na,\n",
    "    rope_spacing, zmax,\n",
    "    b, abs_func, source_func, bc_func, vsf_func,\n",
    "    num_scatters, fd_flag, lis_opts\n",
    ")"
   ]
  },
  {
   "cell_type": "code",
   "execution_count": 97,
   "metadata": {},
   "outputs": [],
   "source": [
    "x, y, z, theta, phi = gen_grid(ns, nz, na, rope_spacing, zmax)"
   ]
  },
  {
   "cell_type": "code",
   "execution_count": 98,
   "metadata": {},
   "outputs": [],
   "source": [
    "x1 = x[:,0,0,0].reshape(ns,1,1,1)\n",
    "y1 = y[0,:,0,0].reshape(1,ns,1,1)\n",
    "z1 = z[0,0,:,0].reshape(1,1,nz,1)\n",
    "t1 = theta[0,0,0,:].reshape(1,1,1,nomega)\n",
    "p1 = phi[0,0,0,:].reshape(1,1,1,nomega)"
   ]
  },
  {
   "cell_type": "code",
   "execution_count": 103,
   "metadata": {},
   "outputs": [],
   "source": [
    "true_sol = sol_func_N(x, y, z, theta, phi)\n",
    "asymptotic_sol = results['rad']"
   ]
  },
  {
   "cell_type": "code",
   "execution_count": 108,
   "metadata": {},
   "outputs": [
    {
     "data": {
      "image/png": "[encoded data removed]",
      "text/plain": [
       "<Figure size 432x288 with 2 Axes>"
      ]
     },
     "metadata": {},
     "output_type": "display_data"
    },
    {
     "data": {
      "image/png": "[encoded data removed]",
      "text/plain": [
       "<Figure size 432x288 with 2 Axes>"
      ]
     },
     "metadata": {},
     "output_type": "display_data"
    }
   ],
   "source": [
    "plt.figure()\n",
    "plt.contourf(x[:,0,:,0], z[:,0,:,0], true_sol[:,0,:,0])\n",
    "plt.colorbar()\n",
    "plt.title('true')\n",
    "\n",
    "plt.figure()\n",
    "plt.contourf(x[:,0,:,0], z[:,0,:,0], asymptotic_sol[:,0,:,0])\n",
    "plt.colorbar()\n",
    "plt.title('asymptotic')\n",
    "plt.show()"
   ]
  }
 ],
 "metadata": {
  "kernelspec": {
   "display_name": "Python 3 (kelp)",
   "language": "python",
   "name": "kelp"
  },
  "language_info": {
   "codemirror_mode": {
    "name": "ipython",
    "version": 3
   },
   "file_extension": ".py",
   "mimetype": "text/x-python",
   "name": "python",
   "nbconvert_exporter": "python",
   "pygments_lexer": "ipython3",
   "version": "3.6.5"
  }
 },
 "nbformat": 4,
 "nbformat_minor": 2
}
