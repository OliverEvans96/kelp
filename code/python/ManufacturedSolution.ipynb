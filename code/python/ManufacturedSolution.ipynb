{
 "cells": [
  {
   "cell_type": "code",
   "execution_count": 1,
   "metadata": {},
   "outputs": [],
   "source": [
    "%load_ext autoreload\n",
    "%autoreload 2"
   ]
  },
  {
   "cell_type": "code",
   "execution_count": 2,
   "metadata": {},
   "outputs": [
    {
     "name": "stderr",
     "output_type": "stream",
     "text": [
      "/global/homes/o/oevans/local/miniconda3/envs/kelp/lib/python3.6/site-packages/matplotlib/__init__.py:1405: UserWarning: \n",
      "This call to matplotlib.use() has no effect because the backend has already\n",
      "been chosen; matplotlib.use() must be called *before* pylab, matplotlib.pyplot,\n",
      "or matplotlib.backends is imported for the first time.\n",
      "\n",
      "  warnings.warn(_use_error_msg)\n"
     ]
    }
   ],
   "source": [
    "# stdlib\n",
    "import os\n",
    "import shutil\n",
    "import sqlite3\n",
    "\n",
    "# 3rd party\n",
    "import ipyparallel as ipp\n",
    "import ipyvolume as ipv\n",
    "import ipywidgets as ipw\n",
    "import numpy as np\n",
    "from scipy.optimize import minimize\n",
    "import sympy as sp\n",
    "import matplotlib.pyplot as plt\n",
    "\n",
    "# local\n",
    "import convergence as conv\n",
    "import kelp_analyze\n",
    "import kelp_compute\n",
    "import mms\n",
    "import discrete_plot\n",
    "import run_utils as ru\n",
    "from fortran_wrappers.light_utils_wrap import light_utils_wrap as lu"
   ]
  },
  {
   "cell_type": "code",
   "execution_count": 3,
   "metadata": {},
   "outputs": [],
   "source": [
    "sp.init_printing()\n",
    "%matplotlib inline"
   ]
  },
  {
   "cell_type": "markdown",
   "metadata": {},
   "source": [
    "---"
   ]
  },
  {
   "cell_type": "markdown",
   "metadata": {},
   "source": [
    "## User-function definitions"
   ]
  },
  {
   "cell_type": "code",
   "execution_count": 4,
   "metadata": {},
   "outputs": [],
   "source": [
    "def uniform_vsf(delta):\n",
    "    return 1/(4*sp.pi)"
   ]
  },
  {
   "cell_type": "code",
   "execution_count": 5,
   "metadata": {},
   "outputs": [],
   "source": [
    "def linear_vsf(delta):\n",
    "    \"\"\"Defined on [-1, 1].\"\"\"\n",
    "    return (delta+1)/(4*sp.pi)"
   ]
  },
  {
   "cell_type": "code",
   "execution_count": 6,
   "metadata": {},
   "outputs": [],
   "source": [
    "# TODO: No upwelling light from bottom\n",
    "# Also, spatially homogeneous BC\n",
    "def prod_L(x, y, z, theta, phi, alpha, gamma):\n",
    "    return (\n",
    "        (\n",
    "            (\n",
    "                (2+sp.sin(2*sp.pi*x/alpha))\n",
    "                *(2+sp.sin(2*sp.pi*y/alpha))\n",
    "                *(sp.sin(sp.pi*z/gamma))\n",
    "            ) + sp.exp(-z/gamma)\n",
    "        )\n",
    "        * (2+sp.sin(phi))\n",
    "    )"
   ]
  },
  {
   "cell_type": "code",
   "execution_count": 7,
   "metadata": {},
   "outputs": [],
   "source": [
    "def exp_L(x, y, z, theta, phi, b, alpha, gamma):\n",
    "    return sp.exp(-z) - sp.exp(gamma)"
   ]
  },
  {
   "cell_type": "code",
   "execution_count": 8,
   "metadata": {},
   "outputs": [],
   "source": [
    "def down_L(x, y, z, theta, phi, b, alpha, gamma):\n",
    "    return sp.Piecewise((sp.exp(-z), phi<sp.pi/2), (0, True))"
   ]
  },
  {
   "cell_type": "code",
   "execution_count": 9,
   "metadata": {},
   "outputs": [],
   "source": [
    "def zero_L(x, y, z, theta, phi, b, alpha, gamma):\n",
    "    return 0 * sp.Symbol('x')"
   ]
  },
  {
   "cell_type": "code",
   "execution_count": 10,
   "metadata": {},
   "outputs": [],
   "source": [
    "def uniform_L(x, y, z, theta, phi, b, alpha, gamma):\n",
    "    return alpha"
   ]
  },
  {
   "cell_type": "code",
   "execution_count": 11,
   "metadata": {},
   "outputs": [],
   "source": [
    "def tanh_L(x, y, z, theta, phi, b, alpha, gamma):\n",
    "    return alpha * (2+sp.sin(z/10)) * sp.tanh((gamma-z)/10) * z * (2+sp.sin(4*sp.pi*x/alpha) + sp.sin(4*sp.pi*y/alpha)) / 5"
   ]
  },
  {
   "cell_type": "code",
   "execution_count": 12,
   "metadata": {},
   "outputs": [],
   "source": [
    "def tanh_b_L(x, y, z, theta, phi, b, alpha, gamma):\n",
    "    \"\"\"\n",
    "    alpha = rope_spacing\n",
    "    gamma = zmax\n",
    "    \"\"\"\n",
    "    return (\n",
    "        alpha * (z-gamma+sp.tanh((1+b)*(gamma-z)) / sp.tanh((1+b)*gamma))\n",
    "        * (1+z*(sp.sin(2*sp.pi*x/alpha)+sp.sin(2*sp.pi*y/alpha)))\n",
    "        *(1+sp.sin(theta+phi))\n",
    "    )"
   ]
  },
  {
   "cell_type": "code",
   "execution_count": 13,
   "metadata": {},
   "outputs": [],
   "source": [
    "def prod_a(x, y, z, alpha, gamma):\n",
    "    return 1 + (3+sp.sin(2*sp.pi*x/alpha)+sp.sin(2*sp.pi*y/alpha))*(1+sp.tanh(z-gamma))"
   ]
  },
  {
   "cell_type": "code",
   "execution_count": 14,
   "metadata": {},
   "outputs": [],
   "source": [
    "def uniform_a(x, y, z, alpha, gamma):\n",
    "    return 0.2"
   ]
  },
  {
   "cell_type": "code",
   "execution_count": 15,
   "metadata": {},
   "outputs": [],
   "source": [
    "def inv_a(x, y, z, alpha, gamma):\n",
    "    return 1/tanh_L(x, y, z, 0, 0, 0, alpha, gamma)"
   ]
  },
  {
   "cell_type": "markdown",
   "metadata": {},
   "source": [
    "### Decide here which functions to use."
   ]
  },
  {
   "cell_type": "code",
   "execution_count": 85,
   "metadata": {},
   "outputs": [],
   "source": [
    "sol_func = tanh_b_L\n",
    "abs_func = prod_a\n",
    "vsf_func = uniform_vsf"
   ]
  },
  {
   "cell_type": "markdown",
   "metadata": {},
   "source": [
    "---"
   ]
  },
  {
   "cell_type": "markdown",
   "metadata": {},
   "source": [
    "## Calculate source & BC"
   ]
  },
  {
   "cell_type": "code",
   "execution_count": 86,
   "metadata": {},
   "outputs": [],
   "source": [
    "b = sp.var('b')\n",
    "params = sp.var('alpha, gamma')\n",
    "\n",
    "source_expr = mms.calculate_source(sol_func, b, abs_func, vsf_func, params)\n",
    "bc_expr = mms.calculate_bc(sol_func, b, params)\n",
    "\n",
    "# Evaluate other expressions as well for consistency\n",
    "sol_expr = sol_func(*mms.space, *mms.angle, b, *params)\n",
    "abs_expr = abs_func(*mms.space, *params)\n",
    "vsf_expr = vsf_func(mms.delta)"
   ]
  },
  {
   "cell_type": "markdown",
   "metadata": {},
   "source": [
    "## Specify parameter values"
   ]
  },
  {
   "cell_type": "code",
   "execution_count": 104,
   "metadata": {},
   "outputs": [],
   "source": [
    "# Domain size\n",
    "rope_spacing = 1\n",
    "zmax = 1\n",
    "b = 0.5\n",
    "\n",
    "param_vals = {\n",
    "    'alpha': rope_spacing,\n",
    "    'gamma': zmax,\n",
    "    'b': b\n",
    "}"
   ]
  },
  {
   "cell_type": "markdown",
   "metadata": {},
   "source": [
    "## Generate symbolic and numerical functions"
   ]
  },
  {
   "cell_type": "code",
   "execution_count": 105,
   "metadata": {},
   "outputs": [],
   "source": [
    "# Generate symbolic functions\n",
    "source_sym = mms.symify(source_expr, *mms.space, *mms.angle, **param_vals)\n",
    "abs_sym = mms.symify(abs_expr, *mms.space, **param_vals)\n",
    "bc_sym = mms.symify(bc_expr, *mms.angle, **param_vals)\n",
    "vsf_sym = mms.symify(vsf_expr, mms.delta, **param_vals)\n",
    "sol_sym = mms.symify(sol_expr, *mms.space, *mms.angle, **param_vals)\n",
    "\n",
    "# Generate numerical functions\n",
    "abs_func_N = mms.sym_to_num(abs_sym, *mms.space)\n",
    "source_func_N = mms.sym_to_num(source_sym, *mms.space, *mms.angle)\n",
    "bc_func_N = mms.sym_to_num(bc_sym, *mms.angle)\n",
    "vsf_func_N = mms.sym_to_num(vsf_sym, mms.delta)\n",
    "sol_func_N = mms.sym_to_num(sol_sym, *mms.space, *mms.angle)"
   ]
  },
  {
   "cell_type": "markdown",
   "metadata": {},
   "source": [
    "## Examine solution dervatives"
   ]
  },
  {
   "cell_type": "code",
   "execution_count": 106,
   "metadata": {},
   "outputs": [
    {
     "data": {
      "text/plain": [
       "{'x': 1.4135052983295038,\n",
       " 'y': 1.4135052983295038,\n",
       " 'z': 3.6258993880023813,\n",
       " 'theta': 0.41979790295292846,\n",
       " 'phi': 0.41979790295292846}"
      ]
     },
     "execution_count": 106,
     "metadata": {},
     "output_type": "execute_result"
    }
   ],
   "source": [
    "conv.max_derivs(sol_expr, rope_spacing, zmax, do_space=True, do_angle=True, **param_vals)"
   ]
  },
  {
   "cell_type": "code",
   "execution_count": 107,
   "metadata": {},
   "outputs": [
    {
     "data": {
      "text/plain": [
       "{'x': 5.6771298502883667, 'y': 5.6771298502883667, 'z': 4.9875208038578398}"
      ]
     },
     "execution_count": 107,
     "metadata": {},
     "output_type": "execute_result"
    }
   ],
   "source": [
    "conv.max_derivs(abs_expr, rope_spacing, zmax, do_space=True, do_angle=False, **param_vals)"
   ]
  },
  {
   "cell_type": "code",
   "execution_count": 108,
   "metadata": {},
   "outputs": [
    {
     "data": {
      "text/plain": [
       "{'x': 13.168258488217663,\n",
       " 'y': 11.820731009984103,\n",
       " 'z': 27.695660678804472,\n",
       " 'theta': 2.8344016108354273,\n",
       " 'phi': 3.7890612099305314}"
      ]
     },
     "execution_count": 108,
     "metadata": {},
     "output_type": "execute_result"
    }
   ],
   "source": [
    "conv.max_derivs(source_expr, rope_spacing, zmax, do_space=True, do_angle=True, **param_vals)"
   ]
  },
  {
   "cell_type": "markdown",
   "metadata": {},
   "source": [
    "## Problem Summary"
   ]
  },
  {
   "cell_type": "code",
   "execution_count": 109,
   "metadata": {},
   "outputs": [
    {
     "name": "stdout",
     "output_type": "stream",
     "text": [
      "Solution\n"
     ]
    },
    {
     "data": {
      "image/png": "[encoded data removed]",
      "text/latex": [
       "$$L = \\alpha \\left(z \\left(\\sin{\\left (\\frac{2 \\pi}{\\alpha} x \\right )} + \\sin{\\left (\\frac{2 \\pi}{\\alpha} y \\right )}\\right) + 1\\right) \\left(\\sin{\\left (\\phi + \\theta \\right )} + 1\\right) \\left(- \\gamma + z + \\frac{\\tanh{\\left (\\left(b + 1\\right) \\left(\\gamma - z\\right) \\right )}}{\\tanh{\\left (\\gamma \\left(b + 1\\right) \\right )}}\\right)$$"
      ],
      "text/plain": [
       "      ⎛  ⎛   ⎛2⋅π⋅x⎞      ⎛2⋅π⋅y⎞⎞    ⎞                  ⎛         tanh((b + 1\n",
       "L = α⋅⎜z⋅⎜sin⎜─────⎟ + sin⎜─────⎟⎟ + 1⎟⋅(sin(φ + θ) + 1)⋅⎜-γ + z + ───────────\n",
       "      ⎝  ⎝   ⎝  α  ⎠      ⎝  α  ⎠⎠    ⎠                  ⎝            tanh(γ⋅(\n",
       "\n",
       ")⋅(γ - z))⎞\n",
       "──────────⎟\n",
       "b + 1))   ⎠"
      ]
     },
     "metadata": {},
     "output_type": "display_data"
    },
    {
     "name": "stdout",
     "output_type": "stream",
     "text": [
      "\n",
      "Absorption Coefficient\n"
     ]
    },
    {
     "data": {
      "image/png": "[encoded data removed]",
      "text/latex": [
       "$$a = \\left(\\tanh{\\left (- \\gamma + z \\right )} + 1\\right) \\left(\\sin{\\left (\\frac{2 \\pi}{\\alpha} x \\right )} + \\sin{\\left (\\frac{2 \\pi}{\\alpha} y \\right )} + 3\\right) + 1$$"
      ],
      "text/plain": [
       "                       ⎛   ⎛2⋅π⋅x⎞      ⎛2⋅π⋅y⎞    ⎞    \n",
       "a = (tanh(-γ + z) + 1)⋅⎜sin⎜─────⎟ + sin⎜─────⎟ + 3⎟ + 1\n",
       "                       ⎝   ⎝  α  ⎠      ⎝  α  ⎠    ⎠    "
      ]
     },
     "metadata": {},
     "output_type": "display_data"
    },
    {
     "name": "stdout",
     "output_type": "stream",
     "text": [
      "\n",
      "VSF\n"
     ]
    },
    {
     "data": {
      "image/png": "[encoded data removed]",
      "text/latex": [
       "$$\\beta = \\frac{1}{4 \\pi}$$"
      ],
      "text/plain": [
       "     1 \n",
       "β = ───\n",
       "    4⋅π"
      ]
     },
     "metadata": {},
     "output_type": "display_data"
    },
    {
     "name": "stdout",
     "output_type": "stream",
     "text": [
      "Boundary Condition\n"
     ]
    },
    {
     "data": {
      "image/png": "[encoded data removed]",
      "text/latex": [
       "$$L_{0} = \\alpha \\left(- \\gamma + 1\\right) \\left(\\sin{\\left (\\phi + \\theta \\right )} + 1\\right)$$"
      ],
      "text/plain": [
       "L₀ = α⋅(-γ + 1)⋅(sin(φ + θ) + 1)"
      ]
     },
     "metadata": {},
     "output_type": "display_data"
    },
    {
     "name": "stdout",
     "output_type": "stream",
     "text": [
      "\n",
      "Source\n"
     ]
    },
    {
     "data": {
      "image/png": "[encoded data removed]",
      "text/latex": [
       "$$\\sigma = \\alpha \\left(z \\left(\\sin{\\left (\\frac{2 \\pi}{\\alpha} x \\right )} + \\sin{\\left (\\frac{2 \\pi}{\\alpha} y \\right )}\\right) + 1\\right) \\left(\\sin{\\left (\\phi + \\theta \\right )} + 1\\right) \\left(b + \\left(\\tanh{\\left (- \\gamma + z \\right )} + 1\\right) \\left(\\sin{\\left (\\frac{2 \\pi}{\\alpha} x \\right )} + \\sin{\\left (\\frac{2 \\pi}{\\alpha} y \\right )} + 3\\right) + 1\\right) \\left(- \\gamma + z + \\frac{\\tanh{\\left (\\left(b + 1\\right) \\left(\\gamma - z\\right) \\right )}}{\\tanh{\\left (\\gamma \\left(b + 1\\right) \\right )}}\\right) - b \\left(- \\frac{\\alpha}{4 \\pi} \\left(- 2 \\pi + \\frac{1}{2}\\right) \\left(z \\left(\\sin{\\left (\\frac{2 \\pi}{\\alpha} x \\right )} + \\sin{\\left (\\frac{2 \\pi}{\\alpha} y \\right )}\\right) + 1\\right) \\left(- \\gamma + z + \\frac{\\tanh{\\left (\\left(b + 1\\right) \\left(\\gamma - z\\right) \\right )}}{\\tanh{\\left (\\gamma \\left(b + 1\\right) \\right )}}\\right) + \\frac{\\alpha}{4 \\pi} \\left(\\frac{1}{2} + 2 \\pi\\right) \\left(z \\left(\\sin{\\left (\\frac{2 \\pi}{\\alpha} x \\right )} + \\sin{\\left (\\frac{2 \\pi}{\\alpha} y \\right )}\\right) + 1\\right) \\left(- \\gamma + z + \\frac{\\tanh{\\left (\\left(b + 1\\right) \\left(\\gamma - z\\right) \\right )}}{\\tanh{\\left (\\gamma \\left(b + 1\\right) \\right )}}\\right)\\right) + 2 \\pi z \\left(\\sin{\\left (\\phi + \\theta \\right )} + 1\\right) \\left(- \\gamma + z + \\frac{\\tanh{\\left (\\left(b + 1\\right) \\left(\\gamma - z\\right) \\right )}}{\\tanh{\\left (\\gamma \\left(b + 1\\right) \\right )}}\\right) \\sin{\\left (\\phi \\right )} \\sin{\\left (\\theta \\right )} \\cos{\\left (\\frac{2 \\pi}{\\alpha} y \\right )} + 2 \\pi z \\left(\\sin{\\left (\\phi + \\theta \\right )} + 1\\right) \\left(- \\gamma + z + \\frac{\\tanh{\\left (\\left(b + 1\\right) \\left(\\gamma - z\\right) \\right )}}{\\tanh{\\left (\\gamma \\left(b + 1\\right) \\right )}}\\right) \\sin{\\left (\\phi \\right )} \\cos{\\left (\\theta \\right )} \\cos{\\left (\\frac{2 \\pi}{\\alpha} x \\right )} + \\left(\\alpha \\left(z \\left(\\sin{\\left (\\frac{2 \\pi}{\\alpha} x \\right )} + \\sin{\\left (\\frac{2 \\pi}{\\alpha} y \\right )}\\right) + 1\\right) \\left(\\frac{1}{\\tanh{\\left (\\gamma \\left(b + 1\\right) \\right )}} \\left(- b - 1\\right) \\left(- \\tanh^{2}{\\left (\\left(b + 1\\right) \\left(\\gamma - z\\right) \\right )} + 1\\right) + 1\\right) \\left(\\sin{\\left (\\phi + \\theta \\right )} + 1\\right) + \\alpha \\left(\\sin{\\left (\\frac{2 \\pi}{\\alpha} x \\right )} + \\sin{\\left (\\frac{2 \\pi}{\\alpha} y \\right )}\\right) \\left(\\sin{\\left (\\phi + \\theta \\right )} + 1\\right) \\left(- \\gamma + z + \\frac{\\tanh{\\left (\\left(b + 1\\right) \\left(\\gamma - z\\right) \\right )}}{\\tanh{\\left (\\gamma \\left(b + 1\\right) \\right )}}\\right)\\right) \\cos{\\left (\\phi \\right )}$$"
      ],
      "text/plain": [
       "                                                                              \n",
       "                                                                              \n",
       "      ⎛  ⎛   ⎛2⋅π⋅x⎞      ⎛2⋅π⋅y⎞⎞    ⎞                  ⎛                    \n",
       "σ = α⋅⎜z⋅⎜sin⎜─────⎟ + sin⎜─────⎟⎟ + 1⎟⋅(sin(φ + θ) + 1)⋅⎜b + (tanh(-γ + z) + \n",
       "      ⎝  ⎝   ⎝  α  ⎠      ⎝  α  ⎠⎠    ⎠                  ⎝                    \n",
       "\n",
       "                                                                           ⎛  \n",
       "                                                                           ⎜  \n",
       "   ⎛   ⎛2⋅π⋅x⎞      ⎛2⋅π⋅y⎞    ⎞    ⎞ ⎛         tanh((b + 1)⋅(γ - z))⎞     ⎜  \n",
       "1)⋅⎜sin⎜─────⎟ + sin⎜─────⎟ + 3⎟ + 1⎟⋅⎜-γ + z + ─────────────────────⎟ - b⋅⎜- \n",
       "   ⎝   ⎝  α  ⎠      ⎝  α  ⎠    ⎠    ⎠ ⎝            tanh(γ⋅(b + 1))   ⎠     ⎝  \n",
       "\n",
       "               ⎛  ⎛   ⎛2⋅π⋅x⎞      ⎛2⋅π⋅y⎞⎞    ⎞ ⎛         tanh((b + 1)⋅(γ - z\n",
       "α⋅(-2⋅π + 1/2)⋅⎜z⋅⎜sin⎜─────⎟ + sin⎜─────⎟⎟ + 1⎟⋅⎜-γ + z + ───────────────────\n",
       "               ⎝  ⎝   ⎝  α  ⎠      ⎝  α  ⎠⎠    ⎠ ⎝            tanh(γ⋅(b + 1)) \n",
       "──────────────────────────────────────────────────────────────────────────────\n",
       "                                       4⋅π                                    \n",
       "\n",
       "))⎞                 ⎛  ⎛   ⎛2⋅π⋅x⎞      ⎛2⋅π⋅y⎞⎞    ⎞ ⎛         tanh((b + 1)⋅(\n",
       "──⎟   α⋅(1/2 + 2⋅π)⋅⎜z⋅⎜sin⎜─────⎟ + sin⎜─────⎟⎟ + 1⎟⋅⎜-γ + z + ──────────────\n",
       "  ⎠                 ⎝  ⎝   ⎝  α  ⎠      ⎝  α  ⎠⎠    ⎠ ⎝            tanh(γ⋅(b +\n",
       "─── + ────────────────────────────────────────────────────────────────────────\n",
       "                                            4⋅π                               \n",
       "\n",
       "γ - z))⎞⎞                                                                     \n",
       "───────⎟⎟                                                                     \n",
       " 1))   ⎠⎟                          ⎛         tanh((b + 1)⋅(γ - z))⎞           \n",
       "────────⎟ + 2⋅π⋅z⋅(sin(φ + θ) + 1)⋅⎜-γ + z + ─────────────────────⎟⋅sin(φ)⋅sin\n",
       "        ⎠                          ⎝            tanh(γ⋅(b + 1))   ⎠           \n",
       "\n",
       "                                                                              \n",
       "                                                                              \n",
       "       ⎛2⋅π⋅y⎞                          ⎛         tanh((b + 1)⋅(γ - z))⎞      \n",
       "(θ)⋅cos⎜─────⎟ + 2⋅π⋅z⋅(sin(φ + θ) + 1)⋅⎜-γ + z + ─────────────────────⎟⋅sin(φ\n",
       "       ⎝  α  ⎠                          ⎝            tanh(γ⋅(b + 1))   ⎠      \n",
       "\n",
       "                                                                              \n",
       "                      ⎛                                    ⎛         ⎛      2 \n",
       "            ⎛2⋅π⋅x⎞   ⎜  ⎛  ⎛   ⎛2⋅π⋅x⎞      ⎛2⋅π⋅y⎞⎞    ⎞ ⎜(-b - 1)⋅⎝- tanh (\n",
       ")⋅cos(θ)⋅cos⎜─────⎟ + ⎜α⋅⎜z⋅⎜sin⎜─────⎟ + sin⎜─────⎟⎟ + 1⎟⋅⎜──────────────────\n",
       "            ⎝  α  ⎠   ⎝  ⎝  ⎝   ⎝  α  ⎠      ⎝  α  ⎠⎠    ⎠ ⎝            tanh(γ\n",
       "\n",
       "                                                                              \n",
       "                    ⎞    ⎞                                                    \n",
       "(b + 1)⋅(γ - z)) + 1⎠    ⎟                      ⎛   ⎛2⋅π⋅x⎞      ⎛2⋅π⋅y⎞⎞     \n",
       "───────────────────── + 1⎟⋅(sin(φ + θ) + 1) + α⋅⎜sin⎜─────⎟ + sin⎜─────⎟⎟⋅(sin\n",
       "⋅(b + 1))                ⎠                      ⎝   ⎝  α  ⎠      ⎝  α  ⎠⎠     \n",
       "\n",
       "                                                     \n",
       "                                             ⎞       \n",
       "             ⎛         tanh((b + 1)⋅(γ - z))⎞⎟       \n",
       "(φ + θ) + 1)⋅⎜-γ + z + ─────────────────────⎟⎟⋅cos(φ)\n",
       "             ⎝            tanh(γ⋅(b + 1))   ⎠⎠       "
      ]
     },
     "metadata": {},
     "output_type": "display_data"
    },
    {
     "name": "stdout",
     "output_type": "stream",
     "text": [
      "\n"
     ]
    }
   ],
   "source": [
    "print(\"Solution\")\n",
    "mms.display_eq('L', sol_expr)\n",
    "print()\n",
    "\n",
    "print(\"Absorption Coefficient\")\n",
    "mms.display_eq('a', abs_expr)\n",
    "print()\n",
    "\n",
    "print(\"VSF\")\n",
    "mms.display_eq('beta', vsf_expr)\n",
    "\n",
    "print(\"Boundary Condition\")\n",
    "mms.display_eq('L_0', bc_expr)\n",
    "print()\n",
    "\n",
    "print(\"Source\")\n",
    "mms.display_eq('sigma', source_expr)\n",
    "print()"
   ]
  },
  {
   "cell_type": "markdown",
   "metadata": {},
   "source": [
    "## Check solution constraints\n",
    "\n",
    "- Everything is periodic in x, y\n",
    "- Absorption coefficient is positive\n",
    "- Boundary condition depends only on angle\n",
    "- No upwelling light from below\n",
    "- Properly normalized VSF"
   ]
  },
  {
   "cell_type": "code",
   "execution_count": 110,
   "metadata": {},
   "outputs": [
    {
     "name": "stdout",
     "output_type": "stream",
     "text": [
      "bottom: True\n",
      "x: True\n",
      "y: True\n",
      "VSF: True\n"
     ]
    }
   ],
   "source": [
    "# Check bottom BC\n",
    "print('bottom:', sp.expand(sol_expr.subs('z',sp.Symbol('gamma'))) == 0)\n",
    "\n",
    "# Check periodicity\n",
    "smax = sp.Symbol('alpha')/2\n",
    "smin = -smax\n",
    "print('x:', sp.expand(sol_expr.subs('x',smax) - sol_expr.subs('x',smin)) == 0)\n",
    "print('y:', sp.expand(sol_expr.subs('y',smax) - sol_expr.subs('y',smin)) == 0)\n",
    "\n",
    "# Check VSF normalization (Should be 1 over whole sphere, or 1/(2pi) on [-1, 1].)\n",
    "print(\n",
    "    \"VSF:\",\n",
    "    1 == sp.expand(\n",
    "        mms.sphere_integral(\n",
    "            vsf_expr.subs(\n",
    "                'Delta', \n",
    "                mms.dot(\n",
    "                    mms.vec_om, \n",
    "                    mms.vec_omp)\n",
    "            ), \n",
    "            angle=mms.angle\n",
    "        )\n",
    "    )\n",
    ")"
   ]
  },
  {
   "cell_type": "markdown",
   "metadata": {},
   "source": [
    "## Check source term\n",
    "\n",
    "If source term appears nonzero, try substituting parameters,\n",
    "then plugging in analytical solution.\n",
    "\n",
    "The result should be 0."
   ]
  },
  {
   "cell_type": "code",
   "execution_count": 111,
   "metadata": {},
   "outputs": [
    {
     "data": {
      "image/png": "[encoded data removed]",
      "text/latex": [
       "$$- \\left(5.10702591327572 \\cdot 10^{-15} z \\sin{\\left (2 \\pi x \\right )} \\sin{\\left (\\phi + \\theta \\right )} \\tanh^{2}{\\left (1.5 z - 1.5 \\right )} - 3.21964677141295 \\cdot 10^{-15} z \\sin{\\left (2 \\pi x \\right )} \\sin{\\left (\\phi + \\theta \\right )} + 5.10702591327572 \\cdot 10^{-15} z \\sin{\\left (2 \\pi x \\right )} \\tanh^{2}{\\left (1.5 z - 1.5 \\right )} - 3.21964677141295 \\cdot 10^{-15} z \\sin{\\left (2 \\pi x \\right )} + 5.10702591327572 \\cdot 10^{-15} z \\sin{\\left (2 \\pi y \\right )} \\sin{\\left (\\phi + \\theta \\right )} \\tanh^{2}{\\left (1.5 z - 1.5 \\right )} - 3.21964677141295 \\cdot 10^{-15} z \\sin{\\left (2 \\pi y \\right )} \\sin{\\left (\\phi + \\theta \\right )} + 5.10702591327572 \\cdot 10^{-15} z \\sin{\\left (2 \\pi y \\right )} \\tanh^{2}{\\left (1.5 z - 1.5 \\right )} - 3.21964677141295 \\cdot 10^{-15} z \\sin{\\left (2 \\pi y \\right )} + 5.10702591327572 \\cdot 10^{-15} \\sin{\\left (\\phi + \\theta \\right )} \\tanh^{2}{\\left (1.5 z - 1.5 \\right )} - 3.21964677141295 \\cdot 10^{-15} \\sin{\\left (\\phi + \\theta \\right )} + 5.10702591327572 \\cdot 10^{-15} \\tanh^{2}{\\left (1.5 z - 1.5 \\right )} - 3.21964677141295 \\cdot 10^{-15}\\right) \\cos{\\left (\\phi \\right )}$$"
      ],
      "text/plain": [
       " ⎛                                                 2                          \n",
       "-⎝5.10702591327572e-15⋅z⋅sin(2⋅π⋅x)⋅sin(φ + θ)⋅tanh (1.5⋅z - 1.5) - 3.21964677\n",
       "\n",
       "                                                                           2  \n",
       "141295e-15⋅z⋅sin(2⋅π⋅x)⋅sin(φ + θ) + 5.10702591327572e-15⋅z⋅sin(2⋅π⋅x)⋅tanh (1\n",
       "\n",
       "                                                                              \n",
       ".5⋅z - 1.5) - 3.21964677141295e-15⋅z⋅sin(2⋅π⋅x) + 5.10702591327572e-15⋅z⋅sin(2\n",
       "\n",
       "                     2                                                        \n",
       "⋅π⋅y)⋅sin(φ + θ)⋅tanh (1.5⋅z - 1.5) - 3.21964677141295e-15⋅z⋅sin(2⋅π⋅y)⋅sin(φ \n",
       "\n",
       "                                             2                                \n",
       "+ θ) + 5.10702591327572e-15⋅z⋅sin(2⋅π⋅y)⋅tanh (1.5⋅z - 1.5) - 3.21964677141295\n",
       "\n",
       "                                                        2                     \n",
       "e-15⋅z⋅sin(2⋅π⋅y) + 5.10702591327572e-15⋅sin(φ + θ)⋅tanh (1.5⋅z - 1.5) - 3.219\n",
       "\n",
       "                                                      2                       \n",
       "64677141295e-15⋅sin(φ + θ) + 5.10702591327572e-15⋅tanh (1.5⋅z - 1.5) - 3.21964\n",
       "\n",
       "             ⎞       \n",
       "677141295e-15⎠⋅cos(φ)"
      ]
     },
     "execution_count": 111,
     "metadata": {},
     "output_type": "execute_result"
    }
   ],
   "source": [
    "diff = mms.check_sol(sol_sym, b, abs_sym, vsf_sym, source_sym)\n",
    "diff"
   ]
  },
  {
   "cell_type": "code",
   "execution_count": 112,
   "metadata": {},
   "outputs": [],
   "source": [
    "num_diff = sp.lambdify(\n",
    "    (*mms.space, *mms.angle),\n",
    "    diff,\n",
    "    modules=(\"numpy\",)\n",
    ")"
   ]
  },
  {
   "cell_type": "code",
   "execution_count": 113,
   "metadata": {},
   "outputs": [
    {
     "data": {
      "image/png": "[encoded data removed]",
      "text/latex": [
       "$$1.73864936719e-14$$"
      ],
      "text/plain": [
       "1.7386493671893381e-14"
      ]
     },
     "execution_count": 113,
     "metadata": {},
     "output_type": "execute_result"
    }
   ],
   "source": [
    "# Check numerical max on grid in case of numerical error in above expression\n",
    "np.max(num_diff(*mms.gen_grid(10, 10, 10, 10, 1, 1)))"
   ]
  },
  {
   "cell_type": "markdown",
   "metadata": {},
   "source": [
    "## Code Verification Study"
   ]
  },
  {
   "cell_type": "code",
   "execution_count": 114,
   "metadata": {},
   "outputs": [
    {
     "name": "stdout",
     "output_type": "stream",
     "text": [
      "[1, 5, 6, 7]\n"
     ]
    }
   ],
   "source": [
    "#remote_config = kelp_param.ParamSpanRemoteConfig()\n",
    "ipc = ipp.Client()\n",
    "lv = ipc.load_balanced_view()\n",
    "dv = ipc.direct_view()\n",
    "print(ipc.ids)"
   ]
  },
  {
   "cell_type": "code",
   "execution_count": 122,
   "metadata": {},
   "outputs": [
    {
     "ename": "KeyboardInterrupt",
     "evalue": "",
     "output_type": "error",
     "traceback": [
      "\u001b[0;31m---------------------------------------------------------------------------\u001b[0m",
      "\u001b[0;31mKeyboardInterrupt\u001b[0m                         Traceback (most recent call last)",
      "\u001b[0;32m<ipython-input-122-22084ae78959>\u001b[0m in \u001b[0;36m<module>\u001b[0;34m()\u001b[0m\n\u001b[0;32m----> 1\u001b[0;31m \u001b[0mipc\u001b[0m\u001b[0;34m.\u001b[0m\u001b[0mqueue_status\u001b[0m\u001b[0;34m(\u001b[0m\u001b[0;34m)\u001b[0m\u001b[0;34m\u001b[0m\u001b[0m\n\u001b[0m",
      "\u001b[0;32m~/local/miniconda3/envs/kelp/lib/python3.6/site-packages/ipyparallel/client/client.py\u001b[0m in \u001b[0;36mqueue_status\u001b[0;34m(self, targets, verbose)\u001b[0m\n\u001b[1;32m   1757\u001b[0m             \u001b[0mengine_ids\u001b[0m \u001b[0;34m=\u001b[0m \u001b[0mself\u001b[0m\u001b[0;34m.\u001b[0m\u001b[0m_build_targets\u001b[0m\u001b[0;34m(\u001b[0m\u001b[0mtargets\u001b[0m\u001b[0;34m)\u001b[0m\u001b[0;34m[\u001b[0m\u001b[0;36m1\u001b[0m\u001b[0;34m]\u001b[0m\u001b[0;34m\u001b[0m\u001b[0m\n\u001b[1;32m   1758\u001b[0m         \u001b[0mcontent\u001b[0m \u001b[0;34m=\u001b[0m \u001b[0mdict\u001b[0m\u001b[0;34m(\u001b[0m\u001b[0mtargets\u001b[0m\u001b[0;34m=\u001b[0m\u001b[0mengine_ids\u001b[0m\u001b[0;34m,\u001b[0m \u001b[0mverbose\u001b[0m\u001b[0;34m=\u001b[0m\u001b[0mverbose\u001b[0m\u001b[0;34m)\u001b[0m\u001b[0;34m\u001b[0m\u001b[0m\n\u001b[0;32m-> 1759\u001b[0;31m         \u001b[0mreply\u001b[0m \u001b[0;34m=\u001b[0m \u001b[0mself\u001b[0m\u001b[0;34m.\u001b[0m\u001b[0m_send_recv\u001b[0m\u001b[0;34m(\u001b[0m\u001b[0mself\u001b[0m\u001b[0;34m.\u001b[0m\u001b[0m_query_stream\u001b[0m\u001b[0;34m,\u001b[0m \u001b[0;34m\"queue_request\"\u001b[0m\u001b[0;34m,\u001b[0m \u001b[0mcontent\u001b[0m\u001b[0;34m=\u001b[0m\u001b[0mcontent\u001b[0m\u001b[0;34m)\u001b[0m\u001b[0;34m\u001b[0m\u001b[0m\n\u001b[0m\u001b[1;32m   1760\u001b[0m         \u001b[0mcontent\u001b[0m \u001b[0;34m=\u001b[0m \u001b[0mreply\u001b[0m\u001b[0;34m[\u001b[0m\u001b[0;34m'content'\u001b[0m\u001b[0;34m]\u001b[0m\u001b[0;34m\u001b[0m\u001b[0m\n\u001b[1;32m   1761\u001b[0m         \u001b[0mstatus\u001b[0m \u001b[0;34m=\u001b[0m \u001b[0mcontent\u001b[0m\u001b[0;34m.\u001b[0m\u001b[0mpop\u001b[0m\u001b[0;34m(\u001b[0m\u001b[0;34m'status'\u001b[0m\u001b[0;34m)\u001b[0m\u001b[0;34m\u001b[0m\u001b[0m\n",
      "\u001b[0;32m~/local/miniconda3/envs/kelp/lib/python3.6/site-packages/ipyparallel/client/client.py\u001b[0m in \u001b[0;36m_send_recv\u001b[0;34m(self, *args, **kwargs)\u001b[0m\n\u001b[1;32m    997\u001b[0m         \u001b[0;34m\"\"\"Send a message in the IO thread and return its reply\"\"\"\u001b[0m\u001b[0;34m\u001b[0m\u001b[0m\n\u001b[1;32m    998\u001b[0m         \u001b[0mfuture\u001b[0m \u001b[0;34m=\u001b[0m \u001b[0mself\u001b[0m\u001b[0;34m.\u001b[0m\u001b[0m_send\u001b[0m\u001b[0;34m(\u001b[0m\u001b[0;34m*\u001b[0m\u001b[0margs\u001b[0m\u001b[0;34m,\u001b[0m \u001b[0;34m**\u001b[0m\u001b[0mkwargs\u001b[0m\u001b[0;34m)\u001b[0m\u001b[0;34m\u001b[0m\u001b[0m\n\u001b[0;32m--> 999\u001b[0;31m         \u001b[0mfuture\u001b[0m\u001b[0;34m.\u001b[0m\u001b[0mwait\u001b[0m\u001b[0;34m(\u001b[0m\u001b[0;34m)\u001b[0m\u001b[0;34m\u001b[0m\u001b[0m\n\u001b[0m\u001b[1;32m   1000\u001b[0m         \u001b[0;32mreturn\u001b[0m \u001b[0mfuture\u001b[0m\u001b[0;34m.\u001b[0m\u001b[0mresult\u001b[0m\u001b[0;34m(\u001b[0m\u001b[0;34m)\u001b[0m\u001b[0;34m\u001b[0m\u001b[0m\n\u001b[1;32m   1001\u001b[0m \u001b[0;34m\u001b[0m\u001b[0m\n",
      "\u001b[0;32m~/local/miniconda3/envs/kelp/lib/python3.6/site-packages/ipyparallel/client/futures.py\u001b[0m in \u001b[0;36mwait\u001b[0;34m(self, timeout)\u001b[0m\n\u001b[1;32m     26\u001b[0m     \u001b[0;32mdef\u001b[0m \u001b[0mwait\u001b[0m\u001b[0;34m(\u001b[0m\u001b[0mself\u001b[0m\u001b[0;34m,\u001b[0m \u001b[0mtimeout\u001b[0m\u001b[0;34m=\u001b[0m\u001b[0;32mNone\u001b[0m\u001b[0;34m)\u001b[0m\u001b[0;34m:\u001b[0m\u001b[0;34m\u001b[0m\u001b[0m\n\u001b[1;32m     27\u001b[0m         \u001b[0;32mif\u001b[0m \u001b[0;32mnot\u001b[0m \u001b[0mself\u001b[0m\u001b[0;34m.\u001b[0m\u001b[0mdone\u001b[0m\u001b[0;34m(\u001b[0m\u001b[0;34m)\u001b[0m\u001b[0;34m:\u001b[0m\u001b[0;34m\u001b[0m\u001b[0m\n\u001b[0;32m---> 28\u001b[0;31m             \u001b[0;32mreturn\u001b[0m \u001b[0mself\u001b[0m\u001b[0;34m.\u001b[0m\u001b[0m_evt\u001b[0m\u001b[0;34m.\u001b[0m\u001b[0mwait\u001b[0m\u001b[0;34m(\u001b[0m\u001b[0mtimeout\u001b[0m\u001b[0;34m)\u001b[0m\u001b[0;34m\u001b[0m\u001b[0m\n\u001b[0m\u001b[1;32m     29\u001b[0m         \u001b[0;32mreturn\u001b[0m \u001b[0;32mTrue\u001b[0m\u001b[0;34m\u001b[0m\u001b[0m\n\u001b[1;32m     30\u001b[0m \u001b[0;34m\u001b[0m\u001b[0m\n",
      "\u001b[0;32m~/local/miniconda3/envs/kelp/lib/python3.6/threading.py\u001b[0m in \u001b[0;36mwait\u001b[0;34m(self, timeout)\u001b[0m\n\u001b[1;32m    549\u001b[0m             \u001b[0msignaled\u001b[0m \u001b[0;34m=\u001b[0m \u001b[0mself\u001b[0m\u001b[0;34m.\u001b[0m\u001b[0m_flag\u001b[0m\u001b[0;34m\u001b[0m\u001b[0m\n\u001b[1;32m    550\u001b[0m             \u001b[0;32mif\u001b[0m \u001b[0;32mnot\u001b[0m \u001b[0msignaled\u001b[0m\u001b[0;34m:\u001b[0m\u001b[0;34m\u001b[0m\u001b[0m\n\u001b[0;32m--> 551\u001b[0;31m                 \u001b[0msignaled\u001b[0m \u001b[0;34m=\u001b[0m \u001b[0mself\u001b[0m\u001b[0;34m.\u001b[0m\u001b[0m_cond\u001b[0m\u001b[0;34m.\u001b[0m\u001b[0mwait\u001b[0m\u001b[0;34m(\u001b[0m\u001b[0mtimeout\u001b[0m\u001b[0;34m)\u001b[0m\u001b[0;34m\u001b[0m\u001b[0m\n\u001b[0m\u001b[1;32m    552\u001b[0m             \u001b[0;32mreturn\u001b[0m \u001b[0msignaled\u001b[0m\u001b[0;34m\u001b[0m\u001b[0m\n\u001b[1;32m    553\u001b[0m \u001b[0;34m\u001b[0m\u001b[0m\n",
      "\u001b[0;32m~/local/miniconda3/envs/kelp/lib/python3.6/threading.py\u001b[0m in \u001b[0;36mwait\u001b[0;34m(self, timeout)\u001b[0m\n\u001b[1;32m    293\u001b[0m         \u001b[0;32mtry\u001b[0m\u001b[0;34m:\u001b[0m    \u001b[0;31m# restore state no matter what (e.g., KeyboardInterrupt)\u001b[0m\u001b[0;34m\u001b[0m\u001b[0m\n\u001b[1;32m    294\u001b[0m             \u001b[0;32mif\u001b[0m \u001b[0mtimeout\u001b[0m \u001b[0;32mis\u001b[0m \u001b[0;32mNone\u001b[0m\u001b[0;34m:\u001b[0m\u001b[0;34m\u001b[0m\u001b[0m\n\u001b[0;32m--> 295\u001b[0;31m                 \u001b[0mwaiter\u001b[0m\u001b[0;34m.\u001b[0m\u001b[0macquire\u001b[0m\u001b[0;34m(\u001b[0m\u001b[0;34m)\u001b[0m\u001b[0;34m\u001b[0m\u001b[0m\n\u001b[0m\u001b[1;32m    296\u001b[0m                 \u001b[0mgotit\u001b[0m \u001b[0;34m=\u001b[0m \u001b[0;32mTrue\u001b[0m\u001b[0;34m\u001b[0m\u001b[0m\n\u001b[1;32m    297\u001b[0m             \u001b[0;32melse\u001b[0m\u001b[0;34m:\u001b[0m\u001b[0;34m\u001b[0m\u001b[0m\n",
      "\u001b[0;31mKeyboardInterrupt\u001b[0m: "
     ]
    }
   ],
   "source": [
    "ipc.queue_status()"
   ]
  },
  {
   "cell_type": "code",
   "execution_count": 119,
   "metadata": {
    "scrolled": true
   },
   "outputs": [
    {
     "name": "stdout",
     "output_type": "stream",
     "text": [
      "Creating new study directory.\n",
      "Running grid ( 4, 4,10,10)\n",
      "Running grid ( 8, 8,10,10)\n",
      "Running grid (16,16,10,10)\n",
      "Running grid (32,32,10,10)\n",
      "Running grid (64,64,10,10)\n",
      "Reading existing runs.\n",
      "Finished reading existing runs.\n",
      "Calling solve_rte_with_callbacks(4, 4, 10, 10, 1, 1, 0.5, alpha*(z*(sin(2*pi*x/alpha) + sin(2*pi*y/alpha)) + 1)*(sin(phi + theta) + 1)*(-gamma + z + tanh((b + 1)*(gamma - z))/tanh(gamma*(b + 1))), (tanh(-gamma + z) + 1)*(sin(2*pi*x/alpha) + sin(2*pi*y/alpha) + 3) + 1, alpha*(z*(sin(2*pi*x/alpha) + sin(2*pi*y/alpha)) + 1)*(sin(phi + theta) + 1)*(b + (tanh(-gamma + z) + 1)*(sin(2*pi*x/alpha) + sin(2*pi*y/alpha) + 3) + 1)*(-gamma + z + tanh((b + 1)*(gamma - z))/tanh(gamma*(b + 1))) - b*(-alpha*(-2*pi + 1/2)*(z*(sin(2*pi*x/alpha) + sin(2*pi*y/alpha)) + 1)*(-gamma + z + tanh((b + 1)*(gamma - z))/tanh(gamma*(b + 1)))/(4*pi) + alpha*(1/2 + 2*pi)*(z*(sin(2*pi*x/alpha) + sin(2*pi*y/alpha)) + 1)*(-gamma + z + tanh((b + 1)*(gamma - z))/tanh(gamma*(b + 1)))/(4*pi)) + 2*pi*z*(sin(phi + theta) + 1)*(-gamma + z + tanh((b + 1)*(gamma - z))/tanh(gamma*(b + 1)))*sin(phi)*sin(theta)*cos(2*pi*y/alpha) + 2*pi*z*(sin(phi + theta) + 1)*(-gamma + z + tanh((b + 1)*(gamma - z))/tanh(gamma*(b + 1)))*sin(phi)*cos(theta)*cos(2*pi*x/alpha) + (alpha*(z*(sin(2*pi*x/alpha) + sin(2*pi*y/alpha)) + 1)*((-b - 1)*(-tanh((b + 1)*(gamma - z))**2 + 1)/tanh(gamma*(b + 1)) + 1)*(sin(phi + theta) + 1) + alpha*(sin(2*pi*x/alpha) + sin(2*pi*y/alpha))*(sin(phi + theta) + 1)*(-gamma + z + tanh((b + 1)*(gamma - z))/tanh(gamma*(b + 1))))*cos(phi), alpha*(-gamma + 1)*(sin(phi + theta) + 1), 1/(4*pi), {'alpha': 1, 'gamma': 1, 'b': 0.5}, 0, True, study_dir='/global/cscratch1/sd/oevans/kelp-results/verify_ss_uniform_vsf_bigderiv_64_10', study_name='verify_ss_uniform_vsf_bigderiv_64_10')\n",
      "\n",
      "Calling solve_rte_with_callbacks(8, 8, 10, 10, 1, 1, 0.5, alpha*(z*(sin(2*pi*x/alpha) + sin(2*pi*y/alpha)) + 1)*(sin(phi + theta) + 1)*(-gamma + z + tanh((b + 1)*(gamma - z))/tanh(gamma*(b + 1))), (tanh(-gamma + z) + 1)*(sin(2*pi*x/alpha) + sin(2*pi*y/alpha) + 3) + 1, alpha*(z*(sin(2*pi*x/alpha) + sin(2*pi*y/alpha)) + 1)*(sin(phi + theta) + 1)*(b + (tanh(-gamma + z) + 1)*(sin(2*pi*x/alpha) + sin(2*pi*y/alpha) + 3) + 1)*(-gamma + z + tanh((b + 1)*(gamma - z))/tanh(gamma*(b + 1))) - b*(-alpha*(-2*pi + 1/2)*(z*(sin(2*pi*x/alpha) + sin(2*pi*y/alpha)) + 1)*(-gamma + z + tanh((b + 1)*(gamma - z))/tanh(gamma*(b + 1)))/(4*pi) + alpha*(1/2 + 2*pi)*(z*(sin(2*pi*x/alpha) + sin(2*pi*y/alpha)) + 1)*(-gamma + z + tanh((b + 1)*(gamma - z))/tanh(gamma*(b + 1)))/(4*pi)) + 2*pi*z*(sin(phi + theta) + 1)*(-gamma + z + tanh((b + 1)*(gamma - z))/tanh(gamma*(b + 1)))*sin(phi)*sin(theta)*cos(2*pi*y/alpha) + 2*pi*z*(sin(phi + theta) + 1)*(-gamma + z + tanh((b + 1)*(gamma - z))/tanh(gamma*(b + 1)))*sin(phi)*cos(theta)*cos(2*pi*x/alpha) + (alpha*(z*(sin(2*pi*x/alpha) + sin(2*pi*y/alpha)) + 1)*((-b - 1)*(-tanh((b + 1)*(gamma - z))**2 + 1)/tanh(gamma*(b + 1)) + 1)*(sin(phi + theta) + 1) + alpha*(sin(2*pi*x/alpha) + sin(2*pi*y/alpha))*(sin(phi + theta) + 1)*(-gamma + z + tanh((b + 1)*(gamma - z))/tanh(gamma*(b + 1))))*cos(phi), alpha*(-gamma + 1)*(sin(phi + theta) + 1), 1/(4*pi), {'alpha': 1, 'gamma': 1, 'b': 0.5}, 0, True, study_dir='/global/cscratch1/sd/oevans/kelp-results/verify_ss_uniform_vsf_bigderiv_64_10', study_name='verify_ss_uniform_vsf_bigderiv_64_10')\n",
      "\n",
      "Calling solve_rte_with_callbacks(16, 16, 10, 10, 1, 1, 0.5, alpha*(z*(sin(2*pi*x/alpha) + sin(2*pi*y/alpha)) + 1)*(sin(phi + theta) + 1)*(-gamma + z + tanh((b + 1)*(gamma - z))/tanh(gamma*(b + 1))), (tanh(-gamma + z) + 1)*(sin(2*pi*x/alpha) + sin(2*pi*y/alpha) + 3) + 1, alpha*(z*(sin(2*pi*x/alpha) + sin(2*pi*y/alpha)) + 1)*(sin(phi + theta) + 1)*(b + (tanh(-gamma + z) + 1)*(sin(2*pi*x/alpha) + sin(2*pi*y/alpha) + 3) + 1)*(-gamma + z + tanh((b + 1)*(gamma - z))/tanh(gamma*(b + 1))) - b*(-alpha*(-2*pi + 1/2)*(z*(sin(2*pi*x/alpha) + sin(2*pi*y/alpha)) + 1)*(-gamma + z + tanh((b + 1)*(gamma - z))/tanh(gamma*(b + 1)))/(4*pi) + alpha*(1/2 + 2*pi)*(z*(sin(2*pi*x/alpha) + sin(2*pi*y/alpha)) + 1)*(-gamma + z + tanh((b + 1)*(gamma - z))/tanh(gamma*(b + 1)))/(4*pi)) + 2*pi*z*(sin(phi + theta) + 1)*(-gamma + z + tanh((b + 1)*(gamma - z))/tanh(gamma*(b + 1)))*sin(phi)*sin(theta)*cos(2*pi*y/alpha) + 2*pi*z*(sin(phi + theta) + 1)*(-gamma + z + tanh((b + 1)*(gamma - z))/tanh(gamma*(b + 1)))*sin(phi)*cos(theta)*cos(2*pi*x/alpha) + (alpha*(z*(sin(2*pi*x/alpha) + sin(2*pi*y/alpha)) + 1)*((-b - 1)*(-tanh((b + 1)*(gamma - z))**2 + 1)/tanh(gamma*(b + 1)) + 1)*(sin(phi + theta) + 1) + alpha*(sin(2*pi*x/alpha) + sin(2*pi*y/alpha))*(sin(phi + theta) + 1)*(-gamma + z + tanh((b + 1)*(gamma - z))/tanh(gamma*(b + 1))))*cos(phi), alpha*(-gamma + 1)*(sin(phi + theta) + 1), 1/(4*pi), {'alpha': 1, 'gamma': 1, 'b': 0.5}, 0, True, study_dir='/global/cscratch1/sd/oevans/kelp-results/verify_ss_uniform_vsf_bigderiv_64_10', study_name='verify_ss_uniform_vsf_bigderiv_64_10')\n",
      "\n",
      "Calling solve_rte_with_callbacks(32, 32, 10, 10, 1, 1, 0.5, alpha*(z*(sin(2*pi*x/alpha) + sin(2*pi*y/alpha)) + 1)*(sin(phi + theta) + 1)*(-gamma + z + tanh((b + 1)*(gamma - z))/tanh(gamma*(b + 1))), (tanh(-gamma + z) + 1)*(sin(2*pi*x/alpha) + sin(2*pi*y/alpha) + 3) + 1, alpha*(z*(sin(2*pi*x/alpha) + sin(2*pi*y/alpha)) + 1)*(sin(phi + theta) + 1)*(b + (tanh(-gamma + z) + 1)*(sin(2*pi*x/alpha) + sin(2*pi*y/alpha) + 3) + 1)*(-gamma + z + tanh((b + 1)*(gamma - z))/tanh(gamma*(b + 1))) - b*(-alpha*(-2*pi + 1/2)*(z*(sin(2*pi*x/alpha) + sin(2*pi*y/alpha)) + 1)*(-gamma + z + tanh((b + 1)*(gamma - z))/tanh(gamma*(b + 1)))/(4*pi) + alpha*(1/2 + 2*pi)*(z*(sin(2*pi*x/alpha) + sin(2*pi*y/alpha)) + 1)*(-gamma + z + tanh((b + 1)*(gamma - z))/tanh(gamma*(b + 1)))/(4*pi)) + 2*pi*z*(sin(phi + theta) + 1)*(-gamma + z + tanh((b + 1)*(gamma - z))/tanh(gamma*(b + 1)))*sin(phi)*sin(theta)*cos(2*pi*y/alpha) + 2*pi*z*(sin(phi + theta) + 1)*(-gamma + z + tanh((b + 1)*(gamma - z))/tanh(gamma*(b + 1)))*sin(phi)*cos(theta)*cos(2*pi*x/alpha) + (alpha*(z*(sin(2*pi*x/alpha) + sin(2*pi*y/alpha)) + 1)*((-b - 1)*(-tanh((b + 1)*(gamma - z))**2 + 1)/tanh(gamma*(b + 1)) + 1)*(sin(phi + theta) + 1) + alpha*(sin(2*pi*x/alpha) + sin(2*pi*y/alpha))*(sin(phi + theta) + 1)*(-gamma + z + tanh((b + 1)*(gamma - z))/tanh(gamma*(b + 1))))*cos(phi), alpha*(-gamma + 1)*(sin(phi + theta) + 1), 1/(4*pi), {'alpha': 1, 'gamma': 1, 'b': 0.5}, 0, True, study_dir='/global/cscratch1/sd/oevans/kelp-results/verify_ss_uniform_vsf_bigderiv_64_10', study_name='verify_ss_uniform_vsf_bigderiv_64_10')\n",
      "\n",
      "Calling solve_rte_with_callbacks(64, 64, 10, 10, 1, 1, 0.5, alpha*(z*(sin(2*pi*x/alpha) + sin(2*pi*y/alpha)) + 1)*(sin(phi + theta) + 1)*(-gamma + z + tanh((b + 1)*(gamma - z))/tanh(gamma*(b + 1))), (tanh(-gamma + z) + 1)*(sin(2*pi*x/alpha) + sin(2*pi*y/alpha) + 3) + 1, alpha*(z*(sin(2*pi*x/alpha) + sin(2*pi*y/alpha)) + 1)*(sin(phi + theta) + 1)*(b + (tanh(-gamma + z) + 1)*(sin(2*pi*x/alpha) + sin(2*pi*y/alpha) + 3) + 1)*(-gamma + z + tanh((b + 1)*(gamma - z))/tanh(gamma*(b + 1))) - b*(-alpha*(-2*pi + 1/2)*(z*(sin(2*pi*x/alpha) + sin(2*pi*y/alpha)) + 1)*(-gamma + z + tanh((b + 1)*(gamma - z))/tanh(gamma*(b + 1)))/(4*pi) + alpha*(1/2 + 2*pi)*(z*(sin(2*pi*x/alpha) + sin(2*pi*y/alpha)) + 1)*(-gamma + z + tanh((b + 1)*(gamma - z))/tanh(gamma*(b + 1)))/(4*pi)) + 2*pi*z*(sin(phi + theta) + 1)*(-gamma + z + tanh((b + 1)*(gamma - z))/tanh(gamma*(b + 1)))*sin(phi)*sin(theta)*cos(2*pi*y/alpha) + 2*pi*z*(sin(phi + theta) + 1)*(-gamma + z + tanh((b + 1)*(gamma - z))/tanh(gamma*(b + 1)))*sin(phi)*cos(theta)*cos(2*pi*x/alpha) + (alpha*(z*(sin(2*pi*x/alpha) + sin(2*pi*y/alpha)) + 1)*((-b - 1)*(-tanh((b + 1)*(gamma - z))**2 + 1)/tanh(gamma*(b + 1)) + 1)*(sin(phi + theta) + 1) + alpha*(sin(2*pi*x/alpha) + sin(2*pi*y/alpha))*(sin(phi + theta) + 1)*(-gamma + z + tanh((b + 1)*(gamma - z))/tanh(gamma*(b + 1))))*cos(phi), alpha*(-gamma + 1)*(sin(phi + theta) + 1), 1/(4*pi), {'alpha': 1, 'gamma': 1, 'b': 0.5}, 0, True, study_dir='/global/cscratch1/sd/oevans/kelp-results/verify_ss_uniform_vsf_bigderiv_64_10', study_name='verify_ss_uniform_vsf_bigderiv_64_10')\n",
      "\n"
     ]
    }
   ],
   "source": [
    "base_dir = os.path.join(os.environ['SCRATCH'], 'kelp-results')\n",
    "# base_dir = '/home/oliver/academic/research/kelp-results'\n",
    "\n",
    "na = 10\n",
    "\n",
    "study_name = 'verify_ss_uniform_vsf_bigderiv_64_{}'.format(na)\n",
    "study_dir = os.path.join(base_dir, study_name)\n",
    "\n",
    "ns_list = [4, 8, 16, 32, 64]\n",
    "#ns_list = [4, 8, 12, 16, 20]\n",
    "\n",
    "ntheta = na\n",
    "nphi = na\n",
    "\n",
    "# TODO: Don't actually delete results\n",
    "#shutil.rmtree(os.path.join(base_dir, study_name), ignore_errors=True)\n",
    "\n",
    "num_scatters = 0\n",
    "fd_flag = True\n",
    "\n",
    "combine_thread, gs_fut = kelp_compute.verify_single_space_compute(\n",
    "    study_name, \n",
    "    ns_list, ntheta, nphi, \n",
    "    rope_spacing, zmax, b, \n",
    "    sol_expr, abs_expr, source_expr, bc_expr, vsf_expr,\n",
    "    num_scatters, fd_flag,\n",
    "    param_vals, base_dir=base_dir)"
   ]
  },
  {
   "cell_type": "markdown",
   "metadata": {},
   "source": [
    "## Analyze convergece"
   ]
  },
  {
   "cell_type": "code",
   "execution_count": 141,
   "metadata": {},
   "outputs": [],
   "source": [
    "study_name = 'verify_ss_uniform_vsf_bigderiv_64_8'\n",
    "study_dir = os.path.join(base_dir, study_name)"
   ]
  },
  {
   "cell_type": "code",
   "execution_count": 142,
   "metadata": {},
   "outputs": [],
   "source": [
    "db_path = os.path.join(study_dir, '{}.db'.format(study_name))\n",
    "conn = sqlite3.Connection(db_path)"
   ]
  },
  {
   "cell_type": "markdown",
   "metadata": {},
   "source": [
    "## Plot single-space study"
   ]
  },
  {
   "cell_type": "code",
   "execution_count": 143,
   "metadata": {},
   "outputs": [
    {
     "ename": "OperationalError",
     "evalue": "no such table: verify_ss_uniform_vsf_bigderiv_64_8",
     "output_type": "error",
     "traceback": [
      "\u001b[0;31m---------------------------------------------------------------------------\u001b[0m",
      "\u001b[0;31mOperationalError\u001b[0m                          Traceback (most recent call last)",
      "\u001b[0;32m<ipython-input-143-c43e5b32439f>\u001b[0m in \u001b[0;36m<module>\u001b[0;34m()\u001b[0m\n\u001b[1;32m      4\u001b[0m \u001b[0;34m\u001b[0m\u001b[0m\n\u001b[1;32m      5\u001b[0m \u001b[0mdim_names\u001b[0m \u001b[0;34m=\u001b[0m \u001b[0;34m(\u001b[0m\u001b[0;34m'ns'\u001b[0m\u001b[0;34m,\u001b[0m \u001b[0;34m'nz'\u001b[0m\u001b[0;34m,\u001b[0m \u001b[0;34m'ntheta'\u001b[0m\u001b[0;34m,\u001b[0m \u001b[0;34m'nphi'\u001b[0m\u001b[0;34m)\u001b[0m\u001b[0;34m\u001b[0m\u001b[0m\n\u001b[0;32m----> 6\u001b[0;31m \u001b[0mdim_resolutions\u001b[0m \u001b[0;34m=\u001b[0m \u001b[0mkelp_analyze\u001b[0m\u001b[0;34m.\u001b[0m\u001b[0mget_res_lists\u001b[0m\u001b[0;34m(\u001b[0m\u001b[0mconn\u001b[0m\u001b[0;34m,\u001b[0m \u001b[0mstudy_name\u001b[0m\u001b[0;34m)\u001b[0m\u001b[0;34m\u001b[0m\u001b[0m\n\u001b[0m\u001b[1;32m      7\u001b[0m max_res_list = list(map(\n\u001b[1;32m      8\u001b[0m     \u001b[0mmax\u001b[0m\u001b[0;34m,\u001b[0m\u001b[0;34m\u001b[0m\u001b[0m\n",
      "\u001b[0;32m/global/u2/o/oevans/kelp/code/python/kelp_analyze.py\u001b[0m in \u001b[0;36mget_res_lists\u001b[0;34m(conn, table_name)\u001b[0m\n\u001b[1;32m    489\u001b[0m     \u001b[0mSELECT\u001b[0m \u001b[0mns\u001b[0m\u001b[0;34m,\u001b[0m \u001b[0mnz\u001b[0m\u001b[0;34m,\u001b[0m \u001b[0mntheta\u001b[0m\u001b[0;34m,\u001b[0m \u001b[0mnphi\u001b[0m\u001b[0;34m\u001b[0m\u001b[0m\n\u001b[1;32m    490\u001b[0m     \u001b[0mFROM\u001b[0m \u001b[0;34m{\u001b[0m\u001b[0mtable_name\u001b[0m\u001b[0;34m}\u001b[0m\u001b[0;34m\u001b[0m\u001b[0m\n\u001b[0;32m--> 491\u001b[0;31m     '''.format(table_name=table_name))\n\u001b[0m\u001b[1;32m    492\u001b[0m \u001b[0;34m\u001b[0m\u001b[0m\n\u001b[1;32m    493\u001b[0m     \u001b[0;31m# Get all unique values of ns, nz, na\u001b[0m\u001b[0;34m\u001b[0m\u001b[0;34m\u001b[0m\u001b[0m\n",
      "\u001b[0;31mOperationalError\u001b[0m: no such table: verify_ss_uniform_vsf_bigderiv_64_8"
     ]
    }
   ],
   "source": [
    "#norm = lambda x: np.linalg.norm(np.ravel(x), ord=2)\n",
    "#norm = lambda x: np.sqrt(np.sum(x)**2/np.size(x))\n",
    "norm = lambda x: np.mean(np.abs(x))\n",
    "\n",
    "dim_names = ('ns', 'nz', 'ntheta', 'nphi')\n",
    "dim_resolutions = kelp_analyze.get_res_lists(conn, study_name)\n",
    "max_res_list = list(map(\n",
    "    max,\n",
    "    dim_resolutions\n",
    "))\n",
    "max_res_dict = {\n",
    "    name: max_res\n",
    "    for name, max_res in zip(dim_names, max_res_list)\n",
    "}\n",
    "dim_dict = dict(zip(dim_names, dim_resolutions))\n",
    "\n",
    "ns_list = dim_dict['ns']\n",
    "\n",
    "err_dict = {}\n",
    "for ns in ns_list:\n",
    "    results_list = kelp_analyze.query_results(\n",
    "        conn, study_name,\n",
    "        ns=ns,\n",
    "        nz=ns,\n",
    "    )\n",
    "\n",
    "    rad = results_list[0]['rad'][:]\n",
    "    true_rad = results_list[0]['true_rad'][:]\n",
    "\n",
    "    err = norm(rad - true_rad)\n",
    "    err_dict[ns] = err\n",
    "\n",
    "res_arr = rope_spacing / np.array(ns_list)\n",
    "err_arr = np.array([err_dict[ns] for ns in ns_list])\n",
    "\n",
    "conv.plot_lin_fit(\n",
    "    np.log(res_arr), np.log(err_arr), \n",
    "    min(np.log(res_arr)), max(np.log(res_arr)), \n",
    "    xlabel='ds', ylabel='err'\n",
    ")"
   ]
  },
  {
   "cell_type": "code",
   "execution_count": null,
   "metadata": {},
   "outputs": [],
   "source": [
    "#norm = lambda x: np.linalg.norm(np.ravel(x), ord=2)\n",
    "#norm = lambda x: np.sqrt(np.sum(x)**2/np.size(x))\n",
    "norm = lambda x: np.mean(np.abs(x))\n",
    "\n",
    "dim_names = ('ns', 'nz', 'ntheta', 'nphi')\n",
    "dim_resolutions = kelp_analyze.get_res_lists(conn, study_name)\n",
    "max_res_list = list(map(\n",
    "    max,\n",
    "    dim_resolutions\n",
    "))\n",
    "max_res_dict = {\n",
    "    name: max_res\n",
    "    for name, max_res in zip(dim_names, max_res_list)\n",
    "}\n",
    "dim_dict = dict(zip(dim_names, dim_resolutions))\n",
    "\n",
    "# Loop over dimensions\n",
    "for dim_num, dim_name in enumerate(dim_names):\n",
    "    # List of resolutions in the current dimension\n",
    "    current_dim = dim_dict[dim_name]\n",
    "    \n",
    "    print(dim_name)\n",
    "    err_dict = {}\n",
    "    for n in current_dim:\n",
    "        all_dims = {**max_res_dict, **{dim_name: n}}\n",
    "        results_list = kelp_analyze.query_results(\n",
    "            conn, study_name, \n",
    "            **all_dims\n",
    "        )\n",
    "\n",
    "        rad = results_list[0]['rad'][:]\n",
    "        true_rad = results_list[0]['true_rad'][:]\n",
    "\n",
    "        err = norm(rad - true_rad)\n",
    "        err_dict[n] = err\n",
    "\n",
    "    res_arr = rope_spacing / np.array(current_dim)\n",
    "    err_arr = np.array([err_dict[n] for n in current_dim])\n",
    "\n",
    "    conv.plot_lin_fit(\n",
    "        np.log(res_arr), np.log(err_arr), \n",
    "        min(np.log(res_arr)), max(np.log(res_arr)), \n",
    "        xlabel='d'+dim_name[1:], ylabel='err'\n",
    "    )"
   ]
  },
  {
   "cell_type": "markdown",
   "metadata": {},
   "source": [
    "## Plot full multi-dimensional study"
   ]
  },
  {
   "cell_type": "code",
   "execution_count": null,
   "metadata": {},
   "outputs": [],
   "source": [
    "#norm = lambda x: np.linalg.norm(np.ravel(x), ord=2)\n",
    "#norm = lambda x: np.sqrt(np.sum(x)**2/np.size(x))\n",
    "norm = lambda x: np.mean(np.abs(x))\n",
    "\n",
    "dim_names = ('ns', 'nz', 'ntheta', 'nphi')\n",
    "dim_resolutions = kelp_analyze.get_res_lists(conn, study_name)\n",
    "max_res_list = list(map(\n",
    "    max,\n",
    "    dim_resolutions\n",
    "))\n",
    "max_res_dict = {\n",
    "    name: max_res\n",
    "    for name, max_res in zip(dim_names, max_res_list)\n",
    "}\n",
    "dim_dict = dict(zip(dim_names, dim_resolutions))\n",
    "\n",
    "# Loop over dimensions\n",
    "for dim_num, dim_name in enumerate(dim_names):\n",
    "    # List of resolutions in the current dimension\n",
    "    current_dim = dim_dict[dim_name]\n",
    "    \n",
    "    print(dim_name)\n",
    "    err_dict = {}\n",
    "    for n in current_dim:\n",
    "        all_dims = {**max_res_dict, **{dim_name: n}}\n",
    "        results_list = kelp_analyze.query_results(\n",
    "            conn, study_name, \n",
    "            **all_dims\n",
    "        )\n",
    "\n",
    "        rad = results_list[0]['rad'][:]\n",
    "        true_rad = results_list[0]['true_rad'][:]\n",
    "\n",
    "        err = norm(rad - true_rad)\n",
    "        err_dict[n] = err\n",
    "\n",
    "    res_arr = rope_spacing / np.array(current_dim)\n",
    "    err_arr = np.array([err_dict[n] for n in current_dim])\n",
    "\n",
    "    conv.plot_lin_fit(\n",
    "        np.log(res_arr), np.log(err_arr), \n",
    "        min(np.log(res_arr)), max(np.log(res_arr)), \n",
    "        xlabel='d'+dim_name[1:], ylabel='err'\n",
    "    )"
   ]
  },
  {
   "cell_type": "code",
   "execution_count": null,
   "metadata": {},
   "outputs": [],
   "source": [
    "1/0"
   ]
  },
  {
   "cell_type": "markdown",
   "metadata": {},
   "source": [
    "### Test values"
   ]
  },
  {
   "cell_type": "code",
   "execution_count": null,
   "metadata": {},
   "outputs": [],
   "source": [
    "# Change nz"
   ]
  },
  {
   "cell_type": "code",
   "execution_count": null,
   "metadata": {},
   "outputs": [],
   "source": [
    "ns = 12\n",
    "nz = 12\n",
    "ntheta = 10\n",
    "nphi = 10\n",
    "grid = mms.gen_grid(ns, nz, ntheta, nphi, rope_spacing, zmax)\n",
    "x, y, z, theta, phi = grid\n",
    "x1 = x[:,0,0,0]\n",
    "y1 = y[0,:,0,0]\n",
    "z1 = z[0,0,:,0]\n",
    "results_list = kelp_analyze.query_results(\n",
    "    conn, study_name, \n",
    "    ns=ns, nz=nz, ntheta=ntheta, nphi=nphi\n",
    ")\n",
    "large_approx_rad = results_list[0]['rad'][:]\n",
    "large_approx_irrad = results_list[0]['irrad'][:]\n",
    "large_true_rad = results_list[0]['true_rad'][:]\n",
    "large_true_irrad = np.asfortranarray(np.zeros_like(large_approx_irrad))\n",
    "lu.calculate_irradiance(large_true_rad, large_true_irrad, ntheta, nphi)\n",
    "\n",
    "ns = 12\n",
    "nz = 4\n",
    "ntheta = 10\n",
    "nphi = 10\n",
    "grid = mms.gen_grid(ns, nz, ntheta, nphi, rope_spacing, zmax)\n",
    "x, y, z, theta, phi = grid\n",
    "x2 = x[:,0,0,0]\n",
    "y2 = y[0,:,0,0]\n",
    "z2 = z[0,0,:,0]\n",
    "results_list = kelp_analyze.query_results(\n",
    "    conn, study_name, \n",
    "    ns=ns, nz=nz, ntheta=ntheta, nphi=nphi\n",
    ")\n",
    "small_approx_rad = results_list[0]['rad'][:]\n",
    "small_approx_irrad = results_list[0]['irrad'][:]\n",
    "small_true_rad = results_list[0]['true_rad'][:]\n",
    "small_true_irrad = np.asfortranarray(np.zeros_like(small_approx_irrad))\n",
    "lu.calculate_irradiance(small_true_rad, small_true_irrad, ntheta, nphi)\n",
    "\n",
    "large_inds = np.zeros_like(large_approx_rad, dtype=bool)\n",
    "large_inds[3,1,:,0] = True\n",
    "\n",
    "small_inds = np.zeros_like(small_approx_rad, dtype=bool)\n",
    "small_inds[3,1,:,0] = True\n",
    "\n",
    "plt.plot(z1, large_approx_rad[large_inds], 'o-', label='large_approx')\n",
    "plt.plot(z1, large_true_rad[large_inds], 'o-', label='large_true')\n",
    "\n",
    "plt.plot(z2, small_approx_rad[small_inds], 'o-', label='small_approx')\n",
    "plt.plot(z2, small_true_rad[small_inds], 'o-', label='small_true')\n",
    "plt.legend()\n",
    "\n",
    "                                     \n",
    "#discrete_plot.volshow_zoom_correct_scale(x1, y1, z1, large_irrad, zoom_factor=3),\n",
    "#discrete_plot.volshow_zoom_correct_scale(x2, y2, z2, small_irrad, zoom_factor=3)"
   ]
  },
  {
   "cell_type": "code",
   "execution_count": null,
   "metadata": {},
   "outputs": [],
   "source": [
    "np.size(large_approx_rad)"
   ]
  },
  {
   "cell_type": "code",
   "execution_count": null,
   "metadata": {},
   "outputs": [],
   "source": [
    "np.size(small_approx_rad)"
   ]
  },
  {
   "cell_type": "code",
   "execution_count": null,
   "metadata": {},
   "outputs": [],
   "source": [
    "norm((small_approx_rad - small_true_rad))"
   ]
  },
  {
   "cell_type": "code",
   "execution_count": null,
   "metadata": {},
   "outputs": [],
   "source": [
    "norm((large_approx_rad - large_true_rad))"
   ]
  },
  {
   "cell_type": "code",
   "execution_count": null,
   "metadata": {},
   "outputs": [],
   "source": [
    "small_approx_rad - small_true_rad"
   ]
  },
  {
   "cell_type": "code",
   "execution_count": null,
   "metadata": {},
   "outputs": [],
   "source": [
    "# Check constraints for numerical solution\n",
    "# - No upwelling light from below\n",
    "print(\"bottom\")\n",
    "print(np.mean(large_approx_rad[:,:,-1,int(nomega/2):]))\n",
    "# - Periodic in x, y\n",
    "print(\"x\") \n",
    "print(np.mean(large_approx_rad[0,:,:,:]-large_approx_rad[-1,:,:,:]))\n",
    "print(\"y\") \n",
    "print(np.mean(large_approx_rad[:,0,:,:]-large_approx_rad[0,1,:,:]))\n",
    "# - BC satisfied from above\n",
    "print(\"bc above\")\n",
    "print(np.mean(large_approx_rad[:,:,0,:int(nomega/2+1)] - bc_func_N(theta[:,:,0,:int(nomega/2+1)], phi[:,:,0,:int(nomega/2+1)])))"
   ]
  },
  {
   "cell_type": "code",
   "execution_count": null,
   "metadata": {},
   "outputs": [],
   "source": [
    "discrete_plot.volshow_zoom_correct_scale(x1, y1, z1, large_approx_irrad)\n",
    "discrete_plot.volshow_zoom_correct_scale(x1, y1, z1, large_true_irrad)"
   ]
  },
  {
   "cell_type": "code",
   "execution_count": null,
   "metadata": {},
   "outputs": [],
   "source": [
    "print(\"hi\")"
   ]
  },
  {
   "cell_type": "code",
   "execution_count": null,
   "metadata": {},
   "outputs": [],
   "source": [
    "1/0"
   ]
  },
  {
   "cell_type": "markdown",
   "metadata": {},
   "source": [
    "# Single-run"
   ]
  },
  {
   "cell_type": "markdown",
   "metadata": {},
   "source": [
    "### Compute"
   ]
  },
  {
   "cell_type": "code",
   "execution_count": null,
   "metadata": {},
   "outputs": [],
   "source": [
    "# Grid options\n",
    "ns = 16\n",
    "nz = 16\n",
    "na = 10\n",
    "nomega = na*(na-2) + 2\n",
    "\n",
    "# Domain size\n",
    "rope_spacing = 1\n",
    "zmax = 1\n",
    "\n",
    "# Solver options\n",
    "lis_opts = \"-i gmres -restart 100 -tol 1e-3\"\n",
    "\n",
    "# Set num_scatters\n",
    "num_scatters_list = range(5)\n",
    "max_num_scatters = max(num_scatters_list)\n",
    "\n",
    "# Norm for error calculations\n",
    "norm = lambda arr: np.linalg.norm(np.ravel(arr), ord=2)/np.size(arr)\n",
    "\n",
    "# Numerical function for solution expansion\n",
    "sol_expansion_N = mms.gen_series_N(sol_expr, max_num_scatters, **param_vals)\n",
    "\n",
    "asymptotic_sol_dict = {}\n",
    "sol_expansion_dict = {}\n",
    "asymptotic_err_dict = {}\n",
    "sol_expansion_err_dict = {}\n",
    "\n",
    "for num_scatters in num_scatters_list:\n",
    "    print(\"n={}\".format(num_scatters))\n",
    "    # Calculate asymptotic solution\n",
    "    _, asymptotic_results = kelp_compute.solve_rte_with_callbacks_full(\n",
    "        ns, nz, na,\n",
    "        rope_spacing, zmax,\n",
    "        b, abs_expr, source_expr, source_expansion_N, bc_expr, vsf_expr,\n",
    "        param_dict, num_scatters=num_scatters, fd_flag=False, lis_opts=lis_opts\n",
    "    )\n",
    "\n",
    "    # Extract numerical solutions\n",
    "    asymptotic_sol = asymptotic_results['rad']\n",
    "    \n",
    "    # Store results\n",
    "    asymptotic_sol_dict[num_scatters] = asymptotic_sol\n",
    "    \n",
    "    # Evaluate true solution\n",
    "    x, y, z, theta, phi = mms.gen_grid(ns, nz, na, rope_spacing, zmax)\n",
    "    true_sol = sol_func_N(x, y, z, theta, phi)\n",
    "    \n",
    "    # Evaluate series expansion\n",
    "    sol_expansion = np.zeros_like(asymptotic_sol)\n",
    "    for n in range(num_scatters+1):\n",
    "        sol_expansion += b**n * sol_expansion_N(x, y, z, theta, phi, n) \n",
    "    sol_expansion_dict[num_scatters] = sol_expansion\n",
    "    \n",
    "    # Calculate errors\n",
    "    asymptotic_err = norm(asymptotic_sol-true_sol)\n",
    "    asymptotic_err_dict[num_scatters] = asymptotic_err\n",
    "    \n",
    "    sol_expansion_err = norm(sol_expansion - true_sol)\n",
    "    sol_expansion_err_dict[num_scatters] = sol_expansion_err\n",
    "\n",
    "# Evaluate true solution on same grid\n",
    "true_sol = sol_func_N(x, y, z, theta, phi)"
   ]
  },
  {
   "cell_type": "code",
   "execution_count": null,
   "metadata": {},
   "outputs": [],
   "source": [
    "# Calculate finite difference solution\n",
    "_, fd_results = kelp_compute.solve_rte_with_callbacks_full(\n",
    "    ns, nz, na,\n",
    "    rope_spacing, zmax,\n",
    "    b, abs_sym, source_sym, source_expansion_N, bc_sym, vsf_sym,\n",
    "    num_scatters=0, fd_flag=True, lis_opts=lis_opts\n",
    ")\n",
    "\n",
    "fd_sol = fd_results['rad']\n",
    "\n",
    "fd_err = norm(fd_sol-true_sol)"
   ]
  },
  {
   "cell_type": "markdown",
   "metadata": {},
   "source": [
    "### Plot"
   ]
  },
  {
   "cell_type": "code",
   "execution_count": null,
   "metadata": {},
   "outputs": [],
   "source": [
    "# Pick one angle to evaluate symbolically and plot\n",
    "l = 0\n",
    "m = int(np.floor(na/4))\n",
    "\n",
    "p = mms.p_hat(l, m, na)\n",
    "th = theta[0,0,0,p]\n",
    "ph = phi[0,0,0,p]"
   ]
  },
  {
   "cell_type": "code",
   "execution_count": null,
   "metadata": {},
   "outputs": [],
   "source": [
    "plot_inds = np.zeros_like(true_sol, dtype=bool)\n",
    "plot_inds[0,0,:,p] = True\n",
    "\n",
    "plt.figure(figsize=(12,8))\n",
    "ax1 = plt.subplot(2,2,1)\n",
    "ax2 = plt.subplot(2,2,2)\n",
    "ax3 = plt.subplot(2,2,3)\n",
    "ax4 = plt.subplot(2,2,4)\n",
    "\n",
    "# Plot true solution\n",
    "ax1.plot(z[plot_inds], true_sol[plot_inds], 'C0o-', label='true')\n",
    "\n",
    "# Plot FD solution\n",
    "ax1.plot(\n",
    "    z[plot_inds],\n",
    "    fd_sol[plot_inds], \n",
    "    'C1o-',\n",
    "    label='FD'\n",
    ")\n",
    "\n",
    "# Plot FD error\n",
    "ax2.plot(\n",
    "    z[plot_inds], \n",
    "    -true_sol[plot_inds]+fd_sol[plot_inds], \n",
    "    'C1o-',\n",
    "    label='FD'\n",
    ")\n",
    "\n",
    "ax3.plot(\n",
    "    z[plot_inds], \n",
    "    np.abs(-true_sol[plot_inds]+fd_sol[plot_inds]), \n",
    "    'C1o-',\n",
    "    label='FD'\n",
    ")\n",
    "\n",
    "for num_scatters in num_scatters_list:\n",
    "    ax1.plot(\n",
    "        z[plot_inds], \n",
    "        sol_expansion_dict[num_scatters][plot_inds], \n",
    "        'C{}o-'.format(num_scatters+2), \n",
    "        label='n={}'.format(num_scatters)\n",
    "    )\n",
    "    ax1.plot(\n",
    "        z[plot_inds], \n",
    "        asymptotic_sol_dict[num_scatters][plot_inds], \n",
    "        'C{}o--'.format(num_scatters+2)\n",
    "    )\n",
    "    \n",
    "    # Plot true expansion error\n",
    "    ax2.plot(\n",
    "        z[plot_inds], \n",
    "        -true_sol[plot_inds]+sol_expansion_dict[num_scatters][plot_inds], \n",
    "        'C{}o-'.format(num_scatters+2), \n",
    "        label='n={}'.format(num_scatters)\n",
    "    )\n",
    "    ax3.plot(\n",
    "        z[plot_inds], \n",
    "        np.abs(-true_sol[plot_inds]+sol_expansion_dict[num_scatters][plot_inds]), \n",
    "        'C{}o-'.format(num_scatters+2), \n",
    "        label='n={}'.format(num_scatters)\n",
    "    )\n",
    "    \n",
    "    # Plot numerical asymptotics error\n",
    "    ax2.plot(\n",
    "        z[plot_inds], \n",
    "        -true_sol[plot_inds]+asymptotic_sol_dict[num_scatters][plot_inds], \n",
    "        'C{}o--'.format(num_scatters+2)\n",
    "    )\n",
    "    ax3.plot(\n",
    "        z[plot_inds], \n",
    "        np.abs(-true_sol[plot_inds]+asymptotic_sol_dict[num_scatters][plot_inds]), \n",
    "        'C{}o--'.format(num_scatters+2)\n",
    "    )\n",
    "    \n",
    "    \n",
    "ax1.set_xlabel('z')\n",
    "ax1.set_ylabel('rad')\n",
    "ax1.legend()\n",
    "\n",
    "ax2.set_xlabel('z')\n",
    "ax2.set_ylabel('stripe diff')\n",
    "ax2.set_yscale('linear')\n",
    "ax2.legend()\n",
    "\n",
    "ax3.set_xlabel('z')\n",
    "ax3.set_ylabel('stripe err')\n",
    "ax3.set_yscale('log')\n",
    "ax3.legend()\n",
    "\n",
    "# FD Error\n",
    "ax4.hlines(fd_err, xmin=0, xmax=max_num_scatters, label='FD')\n",
    "\n",
    "# Asymptotics error\n",
    "ax4.plot(\n",
    "    num_scatters_list, \n",
    "    [asymptotic_err_dict[n] for n in num_scatters_list],\n",
    "    'o-',\n",
    "    label='asym. err.'\n",
    ")\n",
    "# Expansion error\n",
    "ax4.plot(\n",
    "    num_scatters_list, \n",
    "    [sol_expansion_err_dict[n] for n in num_scatters_list],\n",
    "    'o-',\n",
    "    label='series err.'\n",
    ")\n",
    "ax4.set_xlabel('n')\n",
    "ax4.set_ylabel('avg. tot. err.')\n",
    "ax4.set_yscale('linear')\n",
    "ax4.legend()"
   ]
  },
  {
   "cell_type": "code",
   "execution_count": null,
   "metadata": {},
   "outputs": [],
   "source": []
  }
 ],
 "metadata": {
  "kernelspec": {
   "display_name": "Python 3 (kelp)",
   "language": "python",
   "name": "kelp"
  },
  "language_info": {
   "codemirror_mode": {
    "name": "ipython",
    "version": 3
   },
   "file_extension": ".py",
   "mimetype": "text/x-python",
   "name": "python",
   "nbconvert_exporter": "python",
   "pygments_lexer": "ipython3",
   "version": "3.6.3"
  }
 },
 "nbformat": 4,
 "nbformat_minor": 2
}
