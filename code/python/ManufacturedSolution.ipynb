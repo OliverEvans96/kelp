{
 "cells": [
  {
   "cell_type": "code",
   "execution_count": null,
   "metadata": {},
   "outputs": [],
   "source": [
    "%load_ext autoreload\n",
    "%autoreload 2"
   ]
  },
  {
   "cell_type": "code",
   "execution_count": null,
   "metadata": {},
   "outputs": [],
   "source": [
    "# stdlib\n",
    "import os\n",
    "import shutil\n",
    "\n",
    "# 3rd party\n",
    "import ipyparallel as ipp\n",
    "import numpy as np\n",
    "import sympy as sp\n",
    "import matplotlib.pyplot as plt\n",
    "\n",
    "# local\n",
    "import kelp_analyze\n",
    "import kelp_compute\n",
    "import mms"
   ]
  },
  {
   "cell_type": "code",
   "execution_count": null,
   "metadata": {},
   "outputs": [],
   "source": [
    "sp.init_printing()\n",
    "%matplotlib inline"
   ]
  },
  {
   "cell_type": "markdown",
   "metadata": {},
   "source": [
    "---"
   ]
  },
  {
   "cell_type": "markdown",
   "metadata": {},
   "source": [
    "## User-function definitions"
   ]
  },
  {
   "cell_type": "code",
   "execution_count": null,
   "metadata": {},
   "outputs": [],
   "source": [
    "def uniform_vsf(delta):\n",
    "    return 1/(4*sp.pi)"
   ]
  },
  {
   "cell_type": "code",
   "execution_count": null,
   "metadata": {},
   "outputs": [],
   "source": [
    "def linear_vsf(delta):\n",
    "    \"\"\"Defined on [-1, 1].\"\"\"\n",
    "    return (delta+1)/(4*sp.pi)"
   ]
  },
  {
   "cell_type": "code",
   "execution_count": null,
   "metadata": {},
   "outputs": [],
   "source": [
    "# TODO: No upwelling light from bottom\n",
    "# Also, spatially homogeneous BC\n",
    "def prod_L(x, y, z, theta, phi, alpha, gamma):\n",
    "    return (\n",
    "        (\n",
    "            (\n",
    "                (2+sp.sin(2*sp.pi*x/alpha))\n",
    "                *(2+sp.sin(2*sp.pi*y/alpha))\n",
    "                *(sp.sin(sp.pi*z/gamma))\n",
    "            ) + sp.exp(-z/gamma)\n",
    "        )\n",
    "        *(2+sp.sin(phi))\n",
    "    )"
   ]
  },
  {
   "cell_type": "code",
   "execution_count": null,
   "metadata": {},
   "outputs": [],
   "source": [
    "def exp_L(x, y, z, theta, phi, b, alpha, gamma):\n",
    "    return sp.exp(-z) - sp.exp(gamma)"
   ]
  },
  {
   "cell_type": "code",
   "execution_count": null,
   "metadata": {},
   "outputs": [],
   "source": [
    "def down_L(x, y, z, theta, phi, b, alpha, gamma):\n",
    "    return sp.Piecewise((sp.exp(-z), phi<sp.pi/2), (0, True))"
   ]
  },
  {
   "cell_type": "code",
   "execution_count": null,
   "metadata": {},
   "outputs": [],
   "source": [
    "def zero_L(x, y, z, theta, phi, b, alpha, gamma):\n",
    "    return 0 * sp.Symbol('x')"
   ]
  },
  {
   "cell_type": "code",
   "execution_count": null,
   "metadata": {},
   "outputs": [],
   "source": [
    "def uniform_L(x, y, z, theta, phi, b, alpha, gamma):\n",
    "    return alpha"
   ]
  },
  {
   "cell_type": "code",
   "execution_count": null,
   "metadata": {},
   "outputs": [],
   "source": [
    "def tanh_L(x, y, z, theta, phi, b, alpha, gamma):\n",
    "    return alpha * (2+sp.sin(20*z)) * sp.tanh(b*(gamma-z)) * z * (2+sp.sin(2*sp.pi*x/alpha) + sp.sin(2*sp.pi*y/alpha))"
   ]
  },
  {
   "cell_type": "code",
   "execution_count": null,
   "metadata": {},
   "outputs": [],
   "source": [
    "def tanh_b_L(x, y, z, theta, phi, b, alpha, gamma):\n",
    "    \"\"\"\n",
    "    alpha = rope_spacing\n",
    "    gamma = zmax\n",
    "    \"\"\"\n",
    "    return (\n",
    "        alpha * (sp.tanh(b*(gamma-z)) / sp.tanh(b*gamma))\n",
    "        * (1+z*sp.sin(2*sp.pi*x/alpha)*sp.sin(2*sp.pi*y/alpha))\n",
    "        *(1+sp.sin(theta+phi))\n",
    "    )"
   ]
  },
  {
   "cell_type": "code",
   "execution_count": null,
   "metadata": {},
   "outputs": [],
   "source": [
    "def prod_a(x, y, z, alpha, gamma):\n",
    "    return (2+sp.sin(2*sp.pi*x/alpha))*(2+sp.sin(2*sp.pi*y/alpha))*(1+sp.tanh(z-gamma))"
   ]
  },
  {
   "cell_type": "code",
   "execution_count": null,
   "metadata": {},
   "outputs": [],
   "source": [
    "def uniform_a(x, y, z, alpha, gamma):\n",
    "    return 0.2"
   ]
  },
  {
   "cell_type": "markdown",
   "metadata": {},
   "source": [
    "### Decide here which functions to use."
   ]
  },
  {
   "cell_type": "code",
   "execution_count": null,
   "metadata": {},
   "outputs": [],
   "source": [
    "sol_func = tanh_b_L\n",
    "abs_func = prod_a\n",
    "vsf_func = linear_vsf"
   ]
  },
  {
   "cell_type": "markdown",
   "metadata": {},
   "source": [
    "---"
   ]
  },
  {
   "cell_type": "markdown",
   "metadata": {},
   "source": [
    "## Calculate source & BC"
   ]
  },
  {
   "cell_type": "code",
   "execution_count": null,
   "metadata": {},
   "outputs": [],
   "source": [
    "b = sp.var('b')\n",
    "params = sp.var('alpha, gamma')\n",
    "\n",
    "source_expr = mms.calculate_source(sol_func, b, abs_func, vsf_func, params)\n",
    "bc_expr = mms.calculate_bc(sol_func, b, params)\n",
    "\n",
    "# Evaluate other expressions as well for consistency\n",
    "sol_expr = sol_func(*mms.space, *mms.angle, b, *params)\n",
    "abs_expr = abs_func(*mms.space, *params)\n",
    "vsf_expr = vsf_func(mms.delta)"
   ]
  },
  {
   "cell_type": "markdown",
   "metadata": {},
   "source": [
    "## Specify parameter values"
   ]
  },
  {
   "cell_type": "code",
   "execution_count": null,
   "metadata": {},
   "outputs": [],
   "source": [
    "# Domain size\n",
    "rope_spacing = 1\n",
    "zmax = 1\n",
    "b = 0.2\n",
    "\n",
    "param_vals = {\n",
    "    'alpha': rope_spacing,\n",
    "    'gamma': zmax,\n",
    "    'b': b\n",
    "}"
   ]
  },
  {
   "cell_type": "markdown",
   "metadata": {},
   "source": [
    "## Generate symbolic and numerical functions"
   ]
  },
  {
   "cell_type": "code",
   "execution_count": null,
   "metadata": {},
   "outputs": [],
   "source": [
    "# Generate symbolic functions\n",
    "source_sym = mms.symify(source_expr, *mms.space, *mms.angle, **param_vals)\n",
    "abs_sym = mms.symify(abs_expr, *mms.space, **param_vals)\n",
    "bc_sym = mms.symify(bc_expr, *mms.angle, **param_vals)\n",
    "vsf_sym = mms.symify(vsf_expr, mms.delta, **param_vals)\n",
    "sol_sym = mms.symify(sol_expr, *mms.space, *mms.angle, **param_vals)\n",
    "\n",
    "# Generate numerical functions\n",
    "abs_func_N = mms.sym_to_num(abs_sym, *mms.space)\n",
    "source_func_N = mms.sym_to_num(source_sym, *mms.space, *mms.angle)\n",
    "bc_func_N = mms.sym_to_num(bc_sym, *mms.angle)\n",
    "vsf_func_N = mms.sym_to_num(vsf_sym, mms.delta)\n",
    "sol_func_N = mms.sym_to_num(sol_sym, *mms.space, *mms.angle)"
   ]
  },
  {
   "cell_type": "markdown",
   "metadata": {},
   "source": [
    "## Problem Summary"
   ]
  },
  {
   "cell_type": "code",
   "execution_count": null,
   "metadata": {},
   "outputs": [],
   "source": [
    "print(\"Solution\")\n",
    "mms.display_eq('L', sol_expr)\n",
    "print()\n",
    "\n",
    "print(\"Absorption Coefficient\")\n",
    "mms.display_eq('a', abs_expr)\n",
    "print()\n",
    "\n",
    "print(\"VSF\")\n",
    "mms.display_eq('beta', vsf_expr)\n",
    "\n",
    "print(\"Boundary Condition\")\n",
    "mms.display_eq('L_0', bc_expr)\n",
    "print()\n",
    "\n",
    "print(\"Source\")\n",
    "mms.display_eq('sigma', source_expr)\n",
    "print()"
   ]
  },
  {
   "cell_type": "markdown",
   "metadata": {},
   "source": [
    "## Check solution constraints\n",
    "\n",
    "- Everything is periodic in x, y\n",
    "- Absorption coefficient is positive\n",
    "- Boundary condition depends only on angle\n",
    "- No upwelling light from below\n",
    "- Properly normalized VSF"
   ]
  },
  {
   "cell_type": "code",
   "execution_count": null,
   "metadata": {},
   "outputs": [],
   "source": [
    "# Check bottom BC\n",
    "print('bottom:', sp.expand(sol_expr.subs('z',sp.Symbol('gamma'))) == 0)\n",
    "\n",
    "# Check periodicity\n",
    "smax = sp.Symbol('alpha')/2\n",
    "smin = -smax\n",
    "print('x:', sp.expand(sol_expr.subs('x',smax) - sol_expr.subs('x',smin)) == 0)\n",
    "print('y:', sp.expand(sol_expr.subs('y',smax) - sol_expr.subs('y',smin)) == 0)\n",
    "\n",
    "# Check VSF normalization (Should be 1 over whole sphere, or 1/(2pi) on [-1, 1].)\n",
    "print(\n",
    "    \"VSF:\",\n",
    "    1 == sp.expand(\n",
    "        mms.sphere_integral(\n",
    "            vsf_expr.subs(\n",
    "                'Delta', \n",
    "                mms.dot(\n",
    "                    mms.vec_om, \n",
    "                    mms.vec_omp)\n",
    "            ), \n",
    "            angle=mms.angle\n",
    "        )\n",
    "    )\n",
    ")"
   ]
  },
  {
   "cell_type": "markdown",
   "metadata": {},
   "source": [
    "## Check source term\n",
    "\n",
    "If source term appears nonzero, try substituting parameters,\n",
    "then plugging in analytical solution.\n",
    "\n",
    "The result should be 0."
   ]
  },
  {
   "cell_type": "code",
   "execution_count": null,
   "metadata": {},
   "outputs": [],
   "source": [
    "diff = mms.check_sol(sol_sym, b, abs_sym, vsf_sym, source_sym)\n",
    "diff"
   ]
  },
  {
   "cell_type": "code",
   "execution_count": null,
   "metadata": {},
   "outputs": [],
   "source": [
    "num_diff = sp.lambdify(\n",
    "    (*mms.space, *mms.angle),\n",
    "    diff,\n",
    "    modules=(\"numpy\",)\n",
    ")"
   ]
  },
  {
   "cell_type": "code",
   "execution_count": null,
   "metadata": {},
   "outputs": [],
   "source": [
    "# Check numerical max on grid in case of numerical error in above expression\n",
    "np.max(num_diff(*mms.gen_grid(10, 10, 10, 10, 1, 1)))"
   ]
  },
  {
   "cell_type": "markdown",
   "metadata": {},
   "source": [
    "## Code Verification Study"
   ]
  },
  {
   "cell_type": "code",
   "execution_count": null,
   "metadata": {},
   "outputs": [],
   "source": [
    "#remote_config = kelp_param.ParamSpanRemoteConfig()\n",
    "ipc = ipp.Client()\n",
    "lv = ipc.load_balanced_view()\n",
    "dv = ipc.direct_view()\n",
    "print(ipc.ids)"
   ]
  },
  {
   "cell_type": "code",
   "execution_count": null,
   "metadata": {},
   "outputs": [],
   "source": [
    "ipc.queue_status()"
   ]
  },
  {
   "cell_type": "code",
   "execution_count": null,
   "metadata": {
    "scrolled": true
   },
   "outputs": [],
   "source": [
    "# Set parameters\n",
    "study_name = 'verify_test_tbL_pa_fixedlv_all'\n",
    "study_dir = os.path.join(base_dir, study_name)\n",
    "kelp_dist='top-heavy'\n",
    "\n",
    "ns_max = 10\n",
    "nz_max = 14\n",
    "ntheta_max = 10\n",
    "nphi_max = 10\n",
    "\n",
    "ns_list = range(4, ns_max+1, 1)\n",
    "nz_list = range(8, nz_max+1, 1)\n",
    "ntheta_list = range(4, ntheta_max+1, 2)\n",
    "nphi_list = range(4, nphi_max+1, 2)\n",
    "\n",
    "# ns_list = [10]\n",
    "# nz_list = [10]\n",
    "# ntheta_list = [10]\n",
    "# nphi_list = [10]\n",
    "\n",
    "#base_dir = os.path.join(os.environ['SCRATCH'], 'kelp-results')\n",
    "base_dir = '/home/oliver/academic/research/kelp-results'\n",
    "\n",
    "# TODO: Don't actually delete results\n",
    "# shutil.rmtree(os.path.join(base_dir, study_name), ignore_errors=True)\n",
    "\n",
    "combine_thread, gs_fut = kelp_compute.fd_verify_compute(\n",
    "    study_name, \n",
    "    ns_list, nz_list, ntheta_list, nphi_list, \n",
    "    rope_spacing, zmax, b, \n",
    "    sol_expr, abs_expr, source_expr, bc_expr, vsf_expr, \n",
    "    param_vals, base_dir=base_dir)"
   ]
  },
  {
   "cell_type": "markdown",
   "metadata": {},
   "source": [
    "## Analyze convergece"
   ]
  },
  {
   "cell_type": "code",
   "execution_count": null,
   "metadata": {},
   "outputs": [],
   "source": [
    "import sqlite3"
   ]
  },
  {
   "cell_type": "code",
   "execution_count": null,
   "metadata": {},
   "outputs": [],
   "source": [
    "db_path = os.path.join(study_dir, '{}.db'.format(study_name))\n",
    "conn = sqlite3.Connection(db_path)"
   ]
  },
  {
   "cell_type": "code",
   "execution_count": null,
   "metadata": {},
   "outputs": [],
   "source": [
    "len(kelp_analyze.query_results(conn, study_name, ns=8, nz=10, ntheta=10, nphi=10))"
   ]
  },
  {
   "cell_type": "code",
   "execution_count": null,
   "metadata": {},
   "outputs": [],
   "source": [
    "from scipy.optimize import minimize"
   ]
  },
  {
   "cell_type": "code",
   "execution_count": null,
   "metadata": {},
   "outputs": [],
   "source": [
    "def lin_fit(x, y, x0, x1):\n",
    "    x_arr = np.array(x)\n",
    "    y_arr = np.array(y)\n",
    "    which_inds = np.logical_and(\n",
    "        x_arr>=x0,\n",
    "        x_arr<=x1\n",
    "    )\n",
    "    x_fit = x_arr[which_inds]\n",
    "    y_fit = y_arr[which_inds]\n",
    "    \n",
    "    def resid(args):\n",
    "        m, b = args\n",
    "        res = np.sum((m*x_fit + b - y_fit) ** 2)\n",
    "        return res\n",
    "    \n",
    "    m0 = 1\n",
    "    b0 = 0\n",
    "    res = minimize(resid, (m0, b0))\n",
    "    m, b = res.x\n",
    "    \n",
    "    return m, b"
   ]
  },
  {
   "cell_type": "code",
   "execution_count": null,
   "metadata": {},
   "outputs": [],
   "source": [
    "def plot_lin_fit(x, y, x0, x1, xlabel='x', ylabel='y'):\n",
    "    xmin = np.min(x)\n",
    "    ymin = np.min(y)\n",
    "    xmax = np.max(x)\n",
    "    ymax = np.max(y)\n",
    "    \n",
    "    plt.plot(x, y, 'o-')\n",
    "    plt.xlabel(xlabel)\n",
    "    plt.ylabel(ylabel)\n",
    "    plt.vlines((x0, x1), ymin, ymax, colors='k', linestyles='dashed')\n",
    "    \n",
    "    m, b = lin_fit(x, y, x0, x1)\n",
    "    label = 'm={:.2f}, b={:.2f}'.format(m, b)\n",
    "    plt.plot([xmin, xmax], [m*xmin + b, m*xmax + b], '--')\n",
    "    plt.title(label)\n",
    "    plt.show()"
   ]
  },
  {
   "cell_type": "code",
   "execution_count": null,
   "metadata": {},
   "outputs": [],
   "source": [
    "import run_utils as ru"
   ]
  },
  {
   "cell_type": "markdown",
   "metadata": {},
   "source": [
    "### Dumb way"
   ]
  },
  {
   "cell_type": "code",
   "execution_count": null,
   "metadata": {},
   "outputs": [],
   "source": [
    "# Regular L2 norm\n",
    "norm = lambda x: np.linalg.norm(np.ravel(x), ord=2)\n",
    "# Make norm independent of vector size\n",
    "norm = lambda x: np.sqrt(np.sum(x**2)/np.size(x))\n",
    "# Arithmetic mean\n",
    "# norm = lambda x: np.sum(np.abs(x))/np.size(x)\n",
    "\n",
    "# ns\n",
    "print(\"ns\")\n",
    "err_dict = {}\n",
    "for ns in ns_list:\n",
    "    results_list = kelp_analyze.query_results(\n",
    "        conn, study_name, \n",
    "        ns=ns, nz=nz_max, ntheta=ntheta_max, nphi=nphi_max\n",
    "    )\n",
    "    \n",
    "    rad = results_list[0]['rad'][:]\n",
    "    true_rad = results_list[0]['true_rad'][:]\n",
    "    \n",
    "    err = norm(rad - true_rad)\n",
    "    print(\"err {}: {}\".format(ns, err))\n",
    "    err_dict[ns] = err\n",
    "\n",
    "res_arr = rope_spacing / np.array(ns_list)\n",
    "err_arr = np.array([err_dict[ns] for ns in ns_list])\n",
    "\n",
    "plot_lin_fit(\n",
    "    np.log(res_arr), np.log(err_arr), \n",
    "    min(np.log(res_arr)), max(np.log(res_arr)), \n",
    "    xlabel='ds', ylabel='err'\n",
    ")\n",
    "\n",
    "# nz\n",
    "print(\"nz\")\n",
    "err_dict = {}\n",
    "for nz in nz_list:\n",
    "    results_list = kelp_analyze.query_results(\n",
    "        conn, study_name, \n",
    "        ns=ns_max, nz=nz, ntheta=ntheta_max, nphi=nphi_max\n",
    "    )\n",
    "    \n",
    "    rad = results_list[0]['rad'][:]\n",
    "    true_rad = results_list[0]['true_rad'][:]\n",
    "    \n",
    "    err = norm(rad - true_rad)\n",
    "    print(\"err {}: {}\".format(nz, err))\n",
    "    err_dict[nz] = err\n",
    "\n",
    "res_arr = zmax / np.array(nz_list)\n",
    "err_arr = np.array([err_dict[nz] for nz in nz_list])\n",
    "\n",
    "plot_lin_fit(\n",
    "    np.log(res_arr), np.log(err_arr), \n",
    "    min(np.log(res_arr)), max(np.log(res_arr)), \n",
    "    xlabel='dz', ylabel='err'\n",
    ")\n",
    "\n",
    "# ntheta\n",
    "print(\"ntheta\")\n",
    "err_dict = {}\n",
    "for ntheta in ntheta_list:\n",
    "    results_list = kelp_analyze.query_results(\n",
    "        conn, study_name, \n",
    "        ns=ns_max, nz=nz_max, ntheta=ntheta, nphi=nphi_max\n",
    "    )\n",
    "    \n",
    "    rad = results_list[0]['rad'][:]\n",
    "    true_rad = results_list[0]['true_rad'][:]\n",
    "    \n",
    "    err = norm(rad - true_rad)\n",
    "    print(\"err {}: {}\".format(ntheta, err))\n",
    "    err_dict[ntheta] = err\n",
    "\n",
    "res_arr = 2*np.pi / np.array(ntheta_list)\n",
    "err_arr = np.array([err_dict[ntheta] for ntheta in ntheta_list])\n",
    "\n",
    "plot_lin_fit(\n",
    "    np.log(res_arr), np.log(err_arr), \n",
    "    min(np.log(res_arr)), max(np.log(res_arr)), \n",
    "    xlabel='dtheta', ylabel='err'\n",
    ")\n",
    "\n",
    "# nphi\n",
    "print(\"nphi\")\n",
    "err_dict = {}\n",
    "for nphi in nphi_list:\n",
    "    results_list = kelp_analyze.query_results(\n",
    "        conn, study_name, \n",
    "        ns=ns_max, nz=nz_max, ntheta=ntheta_max, nphi=nphi\n",
    "    )\n",
    "    \n",
    "    rad = results_list[0]['rad'][:]\n",
    "    true_rad = results_list[0]['true_rad'][:]\n",
    "    \n",
    "    err = norm(rad - true_rad)\n",
    "    print(\"err {}: {}\".format(nphi, err))\n",
    "    err_dict[nphi] = err\n",
    "\n",
    "res_arr = np.pi / np.array(nphi_list)\n",
    "err_arr = np.array([err_dict[nphi] for nphi in nphi_list])\n",
    "\n",
    "plot_lin_fit(\n",
    "    np.log(res_arr), np.log(err_arr), \n",
    "    min(np.log(res_arr)), max(np.log(res_arr)), \n",
    "    xlabel='dphi', ylabel='err'\n",
    ")"
   ]
  },
  {
   "cell_type": "code",
   "execution_count": null,
   "metadata": {},
   "outputs": [],
   "source": [
    "1/0"
   ]
  },
  {
   "cell_type": "markdown",
   "metadata": {},
   "source": [
    "### Test values"
   ]
  },
  {
   "cell_type": "code",
   "execution_count": null,
   "metadata": {},
   "outputs": [],
   "source": [
    "import ipyvolume as ipv"
   ]
  },
  {
   "cell_type": "code",
   "execution_count": null,
   "metadata": {},
   "outputs": [],
   "source": [
    "import ipywidgets as ipw"
   ]
  },
  {
   "cell_type": "code",
   "execution_count": null,
   "metadata": {},
   "outputs": [],
   "source": []
  },
  {
   "cell_type": "code",
   "execution_count": null,
   "metadata": {},
   "outputs": [],
   "source": [
    "import discrete_plot"
   ]
  },
  {
   "cell_type": "code",
   "execution_count": null,
   "metadata": {},
   "outputs": [],
   "source": []
  },
  {
   "cell_type": "code",
   "execution_count": null,
   "metadata": {},
   "outputs": [],
   "source": [
    "import run_utils as ru"
   ]
  },
  {
   "cell_type": "code",
   "execution_count": null,
   "metadata": {},
   "outputs": [],
   "source": [
    "from fortran_wrappers.light_utils_wrap import light_utils_wrap as lu"
   ]
  },
  {
   "cell_type": "code",
   "execution_count": null,
   "metadata": {},
   "outputs": [],
   "source": []
  },
  {
   "cell_type": "code",
   "execution_count": null,
   "metadata": {},
   "outputs": [],
   "source": [
    "# Change nz"
   ]
  },
  {
   "cell_type": "code",
   "execution_count": null,
   "metadata": {},
   "outputs": [],
   "source": [
    "ns = 10\n",
    "nz = 14\n",
    "ntheta = 10\n",
    "nphi = 10\n",
    "grid = mms.gen_grid(ns, nz, ntheta, nphi, rope_spacing, zmax)\n",
    "x, y, z, theta, phi = grid\n",
    "x1 = x[:,0,0,0]\n",
    "y1 = y[0,:,0,0]\n",
    "z1 = z[0,0,:,0]\n",
    "results_list = kelp_analyze.query_results(\n",
    "    conn, study_name, \n",
    "    ns=ns, nz=nz, ntheta=ntheta, nphi=nphi\n",
    ")\n",
    "large_approx_rad = results_list[0]['rad'][:]\n",
    "large_approx_irrad = results_list[0]['irrad'][:]\n",
    "large_true_rad = results_list[0]['true_rad'][:]\n",
    "large_true_irrad = np.asfortranarray(np.zeros_like(large_approx_irrad))\n",
    "lu.calculate_irradiance(large_true_rad, large_true_irrad, ntheta, nphi)\n",
    "\n",
    "ns = 10\n",
    "nz = 8\n",
    "ntheta = 10\n",
    "nphi = 10\n",
    "grid = mms.gen_grid(ns, nz, ntheta, nphi, rope_spacing, zmax)\n",
    "x, y, z, theta, phi = grid\n",
    "x2 = x[:,0,0,0]\n",
    "y2 = y[0,:,0,0]\n",
    "z2 = z[0,0,:,0]\n",
    "results_list = kelp_analyze.query_results(\n",
    "    conn, study_name, \n",
    "    ns=ns, nz=nz, ntheta=ntheta, nphi=nphi\n",
    ")\n",
    "small_approx_rad = results_list[0]['rad'][:]\n",
    "small_approx_irrad = results_list[0]['irrad'][:]\n",
    "small_true_rad = results_list[0]['true_rad'][:]\n",
    "small_true_irrad = np.asfortranarray(np.zeros_like(small_approx_irrad))\n",
    "lu.calculate_irradiance(small_true_rad, small_true_irrad, ntheta, nphi)\n",
    "\n",
    "plt.plot(z1, large_approx_rad[5,3,:,1], 'o-', label='large_approx')\n",
    "plt.plot(z1, large_true_rad[5,3,:,1], 'o-', label='large_true')\n",
    "\n",
    "plt.plot(z2, small_approx_rad[5,3,:,1], 'o-', label='small_approx')\n",
    "plt.plot(z2, small_true_rad[5,3,:,1], 'o-', label='small_true')\n",
    "plt.legend()\n",
    "\n",
    "                                     \n",
    "#discrete_plot.volshow_zoom_correct_scale(x1, y1, z1, large_irrad, zoom_factor=3),\n",
    "#discrete_plot.volshow_zoom_correct_scale(x2, y2, z2, small_irrad, zoom_factor=3)"
   ]
  },
  {
   "cell_type": "code",
   "execution_count": null,
   "metadata": {},
   "outputs": [],
   "source": [
    "# Check constraints for numerical solution\n",
    "# - No upwelling light from below\n",
    "print(\"bottom\")\n",
    "print(np.mean(large_approx_rad[:,:,-1,int(nomega/2):]))\n",
    "# - Periodic in x, y\n",
    "print(\"x\") \n",
    "print(np.mean(large_approx_rad[0,:,:,:]-large_approx_rad[-1,:,:,:]))\n",
    "print(\"y\") \n",
    "print(np.mean(large_approx_rad[:,0,:,:]-large_approx_rad[0,1,:,:]))\n",
    "# - BC satisfied from above\n",
    "print(\"bc above\")\n",
    "print(np.mean(large_approx_rad[:,:,0,:int(nomega/2+1)] - bc_func_N(theta[:,:,0,:int(nomega/2+1)], phi[:,:,0,:int(nomega/2+1)])))"
   ]
  },
  {
   "cell_type": "code",
   "execution_count": null,
   "metadata": {},
   "outputs": [],
   "source": [
    "discrete_plot.volshow_zoom_correct_scale(x1, y1, z1, large_approx_irrad)\n",
    "discrete_plot.volshow_zoom_correct_scale(x1, y1, z1, large_true_irrad)"
   ]
  },
  {
   "cell_type": "markdown",
   "metadata": {},
   "source": [
    "### Smart way (TODO)"
   ]
  },
  {
   "cell_type": "code",
   "execution_count": null,
   "metadata": {},
   "outputs": [],
   "source": [
    "norm = lambda x: np.linalg.norm(np.ravel(x), ord=2)\n",
    "\n",
    "dim_names = ('ns', 'nz', 'ntheta', 'nphi')\n",
    "dim_resolutions = list(map(\n",
    "    sorted,\n",
    "    (ns_list, nz_list, ntheta_list, nphi_list)\n",
    "))\n",
    "max_res_list = list(map(\n",
    "    max,\n",
    "    (ns_list, nz_list, ntheta_list, nphi_list)\n",
    "))\n",
    "dim_dict = dict(zip(dim_names, dim_resolutions))\n",
    "\n",
    "# One scatter before FD\n",
    "num_scatters = 0\n",
    "fd_flag = True\n",
    "\n",
    "# Arguments which do not change between runs\n",
    "const_args = (\n",
    "    rope_spacing, zmax, b,\n",
    "    sol_expr, abs_expr, source_expr, bc_expr, vsf_expr,\n",
    "    param_dict, num_scatters, fd_flag\n",
    ")\n",
    "\n",
    "# Actual calling will be performed by decorator.\n",
    "# Functions to be called\n",
    "func_list = []\n",
    "# Arguments to be passed\n",
    "args_list = [] # iterables\n",
    "kwargs_list = [] # dictionaries\n",
    "\n",
    "# Run the largest grid once\n",
    "ns, nz, ntheta, nphi = max_res_list\n",
    "print(\"Running grid ({:2d},{:2d},{:2d},{:2d})\".format(ns, nz, ntheta, nphi))\n",
    "func_list.append(solve_rte_with_callbacks)\n",
    "args_list.append((ns, nz, ntheta, nphi, *const_args))\n",
    "kwargs_list.append({})\n",
    "\n",
    "# Loop over dimensions\n",
    "for dim_num, dim_name in enumerate(dim_names):\n",
    "    # List of resolutions in the current dimension\n",
    "    current_dim = dim_dict[dim_name]\n",
    "    # Set all resolutions to their maximum values\n",
    "    # Use [:] to just copy values and not modify list.\n",
    "    current_res_list = max_res_list[:]\n",
    "\n",
    "results_list = kelp_analyze.query_results(\n",
    "    conn, study_name, \n",
    "    ns=ns, nz=nz_max, ntheta=ntheta_max, nphi=nphi_max\n",
    ")\n",
    "\n",
    "rad = results_list[0]['rad'][:]\n",
    "true_rad = results_list[0]['true_rad'][:]\n",
    "\n",
    "err = norm(rad - true_rad)\n",
    "err_dict[ns] = err\n",
    "\n",
    "\n",
    "    \n",
    "# ns\n",
    "print(\"ns\")\n",
    "err_dict = {}\n",
    "for ns in ns_list:\n",
    "    results_list = kelp_analyze.query_results(\n",
    "        conn, study_name, \n",
    "        ns=ns, nz=nz_max, ntheta=ntheta_max, nphi=nphi_max\n",
    "    )\n",
    "    \n",
    "    rad = results_list[0]['rad'][:]\n",
    "    true_rad = results_list[0]['true_rad'][:]\n",
    "    \n",
    "    err = norm(rad - true_rad)\n",
    "    err_dict[ns] = err\n",
    "\n",
    "res_arr = rope_spacing / np.array(ns_list)\n",
    "err_arr = np.array([err_dict[ns] for ns in ns_list])\n",
    "\n",
    "plot_lin_fit(\n",
    "    np.log(res_arr), np.log(err_arr), \n",
    "    min(np.log(res_arr)), max(np.log(res_arr)), \n",
    "    xlabel='ds', ylabel='err'\n",
    ")\n",
    "\n",
    "# nz\n",
    "print(\"nz\")\n",
    "err_dict = {}\n",
    "for nz in nz_list:\n",
    "    results_list = kelp_analyze.query_results(\n",
    "        conn, study_name, \n",
    "        ns=ns_max, nz=nz, ntheta=ntheta_max, nphi=nphi_max\n",
    "    )\n",
    "    \n",
    "    rad = results_list[0]['rad'][:]\n",
    "    true_rad = results_list[0]['true_rad'][:]\n",
    "    \n",
    "    err = norm(rad - true_rad)\n",
    "    err_dict[nz] = err\n",
    "\n",
    "res_arr = zmax / np.array(nz_list)\n",
    "err_arr = np.array([err_dict[nz] for nz in nz_list])\n",
    "\n",
    "plot_lin_fit(\n",
    "    np.log(res_arr), np.log(err_arr), \n",
    "    min(np.log(res_arr)), max(np.log(res_arr)), \n",
    "    xlabel='dz', ylabel='err'\n",
    ")\n",
    "\n",
    "# ntheta\n",
    "print(\"ntheta\")\n",
    "err_dict = {}\n",
    "for ntheta in ntheta_list:\n",
    "    results_list = kelp_analyze.query_results(\n",
    "        conn, study_name, \n",
    "        ns=ns_max, nz=nz_max, ntheta=ntheta, nphi=nphi_max\n",
    "    )\n",
    "    \n",
    "    rad = results_list[0]['rad'][:]\n",
    "    true_rad = results_list[0]['true_rad'][:]\n",
    "    \n",
    "    err = norm(rad - true_rad)\n",
    "    err_dict[ntheta] = err\n",
    "\n",
    "res_arr = 2*np.pi / np.array(ntheta_list)\n",
    "err_arr = np.array([err_dict[ntheta] for ntheta in ntheta_list])\n",
    "\n",
    "plot_lin_fit(\n",
    "    np.log(res_arr), np.log(err_arr), \n",
    "    min(np.log(res_arr)), max(np.log(res_arr)), \n",
    "    xlabel='dtheta', ylabel='err'\n",
    ")\n",
    "\n",
    "# nphi\n",
    "print(\"nphi\")\n",
    "err_dict = {}\n",
    "for nphi in nphi_list:\n",
    "    results_list = kelp_analyze.query_results(\n",
    "        conn, study_name, \n",
    "        ns=ns_max, nz=nz_max, ntheta=ntheta_max, nphi=nphi\n",
    "    )\n",
    "    \n",
    "    rad = results_list[0]['rad'][:]\n",
    "    true_rad = results_list[0]['true_rad'][:]\n",
    "    \n",
    "    err = norm(rad - true_rad)\n",
    "    err_dict[nphi] = err\n",
    "\n",
    "res_arr = np.pi / np.array(nphi_list)\n",
    "err_arr = np.array([err_dict[nphi] for nphi in nphi_list])\n",
    "\n",
    "plot_lin_fit(\n",
    "    np.log(res_arr), np.log(err_arr), \n",
    "    min(np.log(res_arr)), max(np.log(res_arr)), \n",
    "    xlabel='dphi', ylabel='err'\n",
    ")"
   ]
  },
  {
   "cell_type": "code",
   "execution_count": null,
   "metadata": {},
   "outputs": [],
   "source": [
    "print(\"hi\")"
   ]
  },
  {
   "cell_type": "code",
   "execution_count": null,
   "metadata": {},
   "outputs": [],
   "source": [
    "1/0"
   ]
  },
  {
   "cell_type": "markdown",
   "metadata": {},
   "source": [
    "# Single-run"
   ]
  },
  {
   "cell_type": "markdown",
   "metadata": {},
   "source": [
    "### Compute"
   ]
  },
  {
   "cell_type": "code",
   "execution_count": null,
   "metadata": {},
   "outputs": [],
   "source": [
    "# Grid options\n",
    "ns = 16\n",
    "nz = 16\n",
    "na = 10\n",
    "nomega = na*(na-2) + 2\n",
    "\n",
    "# Domain size\n",
    "rope_spacing = 1\n",
    "zmax = 1\n",
    "\n",
    "# Solver options\n",
    "lis_opts = \"-i gmres -restart 100 -tol 1e-3\"\n",
    "\n",
    "# Set num_scatters\n",
    "num_scatters_list = range(5)\n",
    "max_num_scatters = max(num_scatters_list)\n",
    "\n",
    "# Norm for error calculations\n",
    "norm = lambda arr: np.linalg.norm(np.ravel(arr), ord=2)/np.size(arr)\n",
    "\n",
    "# Numerical function for solution expansion\n",
    "sol_expansion_N = mms.gen_series_N(sol_expr, max_num_scatters, **param_vals)\n",
    "\n",
    "asymptotic_sol_dict = {}\n",
    "sol_expansion_dict = {}\n",
    "asymptotic_err_dict = {}\n",
    "sol_expansion_err_dict = {}\n",
    "\n",
    "for num_scatters in num_scatters_list:\n",
    "    print(\"n={}\".format(num_scatters))\n",
    "    # Calculate asymptotic solution\n",
    "    _, asymptotic_results = kelp_compute.solve_rte_with_callbacks_full(\n",
    "        ns, nz, na,\n",
    "        rope_spacing, zmax,\n",
    "        b, abs_expr, source_expr, source_expansion_N, bc_expr, vsf_expr,\n",
    "        param_dict, num_scatters=num_scatters, fd_flag=False, lis_opts=lis_opts\n",
    "    )\n",
    "\n",
    "    # Extract numerical solutions\n",
    "    asymptotic_sol = asymptotic_results['rad']\n",
    "    \n",
    "    # Store results\n",
    "    asymptotic_sol_dict[num_scatters] = asymptotic_sol\n",
    "    \n",
    "    # Evaluate true solution\n",
    "    x, y, z, theta, phi = mms.gen_grid(ns, nz, na, rope_spacing, zmax)\n",
    "    true_sol = sol_func_N(x, y, z, theta, phi)\n",
    "    \n",
    "    # Evaluate series expansion\n",
    "    sol_expansion = np.zeros_like(asymptotic_sol)\n",
    "    for n in range(num_scatters+1):\n",
    "        sol_expansion += b**n * sol_expansion_N(x, y, z, theta, phi, n) \n",
    "    sol_expansion_dict[num_scatters] = sol_expansion\n",
    "    \n",
    "    # Calculate errors\n",
    "    asymptotic_err = norm(asymptotic_sol-true_sol)\n",
    "    asymptotic_err_dict[num_scatters] = asymptotic_err\n",
    "    \n",
    "    sol_expansion_err = norm(sol_expansion - true_sol)\n",
    "    sol_expansion_err_dict[num_scatters] = sol_expansion_err\n",
    "\n",
    "# Evaluate true solution on same grid\n",
    "true_sol = sol_func_N(x, y, z, theta, phi)"
   ]
  },
  {
   "cell_type": "code",
   "execution_count": null,
   "metadata": {},
   "outputs": [],
   "source": [
    "# Calculate finite difference solution\n",
    "_, fd_results = kelp_compute.solve_rte_with_callbacks_full(\n",
    "    ns, nz, na,\n",
    "    rope_spacing, zmax,\n",
    "    b, abs_sym, source_sym, source_expansion_N, bc_sym, vsf_sym,\n",
    "    num_scatters=0, fd_flag=True, lis_opts=lis_opts\n",
    ")\n",
    "\n",
    "fd_sol = fd_results['rad']\n",
    "\n",
    "fd_err = norm(fd_sol-true_sol)"
   ]
  },
  {
   "cell_type": "markdown",
   "metadata": {},
   "source": [
    "### Plot"
   ]
  },
  {
   "cell_type": "code",
   "execution_count": null,
   "metadata": {},
   "outputs": [],
   "source": [
    "# Pick one angle to evaluate symbolically and plot\n",
    "l = 0\n",
    "m = int(np.floor(na/4))\n",
    "\n",
    "p = mms.p_hat(l, m, na)\n",
    "th = theta[0,0,0,p]\n",
    "ph = phi[0,0,0,p]"
   ]
  },
  {
   "cell_type": "code",
   "execution_count": null,
   "metadata": {},
   "outputs": [],
   "source": [
    "plot_inds = np.zeros_like(true_sol, dtype=bool)\n",
    "plot_inds[0,0,:,p] = True\n",
    "\n",
    "plt.figure(figsize=(12,8))\n",
    "ax1 = plt.subplot(2,2,1)\n",
    "ax2 = plt.subplot(2,2,2)\n",
    "ax3 = plt.subplot(2,2,3)\n",
    "ax4 = plt.subplot(2,2,4)\n",
    "\n",
    "# Plot true solution\n",
    "ax1.plot(z[plot_inds], true_sol[plot_inds], 'C0o-', label='true')\n",
    "\n",
    "# Plot FD solution\n",
    "ax1.plot(\n",
    "    z[plot_inds],\n",
    "    fd_sol[plot_inds], \n",
    "    'C1o-',\n",
    "    label='FD'\n",
    ")\n",
    "\n",
    "# Plot FD error\n",
    "ax2.plot(\n",
    "    z[plot_inds], \n",
    "    -true_sol[plot_inds]+fd_sol[plot_inds], \n",
    "    'C1o-',\n",
    "    label='FD'\n",
    ")\n",
    "\n",
    "ax3.plot(\n",
    "    z[plot_inds], \n",
    "    np.abs(-true_sol[plot_inds]+fd_sol[plot_inds]), \n",
    "    'C1o-',\n",
    "    label='FD'\n",
    ")\n",
    "\n",
    "for num_scatters in num_scatters_list:\n",
    "    ax1.plot(\n",
    "        z[plot_inds], \n",
    "        sol_expansion_dict[num_scatters][plot_inds], \n",
    "        'C{}o-'.format(num_scatters+2), \n",
    "        label='n={}'.format(num_scatters)\n",
    "    )\n",
    "    ax1.plot(\n",
    "        z[plot_inds], \n",
    "        asymptotic_sol_dict[num_scatters][plot_inds], \n",
    "        'C{}o--'.format(num_scatters+2)\n",
    "    )\n",
    "    \n",
    "    # Plot true expansion error\n",
    "    ax2.plot(\n",
    "        z[plot_inds], \n",
    "        -true_sol[plot_inds]+sol_expansion_dict[num_scatters][plot_inds], \n",
    "        'C{}o-'.format(num_scatters+2), \n",
    "        label='n={}'.format(num_scatters)\n",
    "    )\n",
    "    ax3.plot(\n",
    "        z[plot_inds], \n",
    "        np.abs(-true_sol[plot_inds]+sol_expansion_dict[num_scatters][plot_inds]), \n",
    "        'C{}o-'.format(num_scatters+2), \n",
    "        label='n={}'.format(num_scatters)\n",
    "    )\n",
    "    \n",
    "    # Plot numerical asymptotics error\n",
    "    ax2.plot(\n",
    "        z[plot_inds], \n",
    "        -true_sol[plot_inds]+asymptotic_sol_dict[num_scatters][plot_inds], \n",
    "        'C{}o--'.format(num_scatters+2)\n",
    "    )\n",
    "    ax3.plot(\n",
    "        z[plot_inds], \n",
    "        np.abs(-true_sol[plot_inds]+asymptotic_sol_dict[num_scatters][plot_inds]), \n",
    "        'C{}o--'.format(num_scatters+2)\n",
    "    )\n",
    "    \n",
    "    \n",
    "ax1.set_xlabel('z')\n",
    "ax1.set_ylabel('rad')\n",
    "ax1.legend()\n",
    "\n",
    "ax2.set_xlabel('z')\n",
    "ax2.set_ylabel('stripe diff')\n",
    "ax2.set_yscale('linear')\n",
    "ax2.legend()\n",
    "\n",
    "ax3.set_xlabel('z')\n",
    "ax3.set_ylabel('stripe err')\n",
    "ax3.set_yscale('log')\n",
    "ax3.legend()\n",
    "\n",
    "# FD Error\n",
    "ax4.hlines(fd_err, xmin=0, xmax=max_num_scatters, label='FD')\n",
    "\n",
    "# Asymptotics error\n",
    "ax4.plot(\n",
    "    num_scatters_list, \n",
    "    [asymptotic_err_dict[n] for n in num_scatters_list],\n",
    "    'o-',\n",
    "    label='asym. err.'\n",
    ")\n",
    "# Expansion error\n",
    "ax4.plot(\n",
    "    num_scatters_list, \n",
    "    [sol_expansion_err_dict[n] for n in num_scatters_list],\n",
    "    'o-',\n",
    "    label='series err.'\n",
    ")\n",
    "ax4.set_xlabel('n')\n",
    "ax4.set_ylabel('avg. tot. err.')\n",
    "ax4.set_yscale('linear')\n",
    "ax4.legend()"
   ]
  },
  {
   "cell_type": "code",
   "execution_count": null,
   "metadata": {},
   "outputs": [],
   "source": []
  }
 ],
 "metadata": {
  "kernelspec": {
   "display_name": "Python 3 (kelp)",
   "language": "python",
   "name": "kelp"
  },
  "language_info": {
   "codemirror_mode": {
    "name": "ipython",
    "version": 3
   },
   "file_extension": ".py",
   "mimetype": "text/x-python",
   "name": "python",
   "nbconvert_exporter": "python",
   "pygments_lexer": "ipython3",
   "version": "3.6.5"
  }
 },
 "nbformat": 4,
 "nbformat_minor": 2
}
