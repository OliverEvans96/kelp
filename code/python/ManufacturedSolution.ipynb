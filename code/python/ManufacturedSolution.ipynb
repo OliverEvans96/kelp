{
 "cells": [
  {
   "cell_type": "markdown",
   "metadata": {},
   "source": [
    "# Imports"
   ]
  },
  {
   "cell_type": "code",
   "execution_count": 2,
   "metadata": {},
   "outputs": [],
   "source": [
    "%load_ext autoreload\n",
    "%autoreload 2"
   ]
  },
  {
   "cell_type": "code",
   "execution_count": 3,
   "metadata": {},
   "outputs": [
    {
     "name": "stdout",
     "output_type": "stream",
     "text": [
      "hi\n"
     ]
    }
   ],
   "source": [
    "print(\"hi\")"
   ]
  },
  {
   "cell_type": "code",
   "execution_count": 4,
   "metadata": {},
   "outputs": [
    {
     "name": "stderr",
     "output_type": "stream",
     "text": [
      "/home/jovyan/scratch/kelp/code/python/kelp_compute.py:32: UserWarning: matplotlib.pyplot as already been imported, this call will have no effect.\n",
      "  matplotlib.use('Agg')\n"
     ]
    }
   ],
   "source": [
    "# stdlib\n",
    "import os\n",
    "import shutil\n",
    "import sqlite3\n",
    "\n",
    "# 3rd party\n",
    "import ipyparallel as ipp\n",
    "import ipyvolume as ipv\n",
    "import ipywidgets as ipw\n",
    "import numpy as np\n",
    "from scipy.optimize import minimize\n",
    "import sympy as sp\n",
    "import sympy.parsing.latex\n",
    "import matplotlib.pyplot as plt\n",
    "import matplotlib as mpl\n",
    "\n",
    "# local\n",
    "import convergence as conv\n",
    "import kelp_analyze\n",
    "import kelp_compute\n",
    "import mms\n",
    "import discrete_plot\n",
    "import run_utils as ru"
   ]
  },
  {
   "cell_type": "code",
   "execution_count": 5,
   "metadata": {},
   "outputs": [],
   "source": [
    "sp.init_printing()\n",
    "%matplotlib inline"
   ]
  },
  {
   "cell_type": "markdown",
   "metadata": {},
   "source": [
    "---"
   ]
  },
  {
   "cell_type": "markdown",
   "metadata": {},
   "source": [
    "# User-function definitions"
   ]
  },
  {
   "cell_type": "code",
   "execution_count": 6,
   "metadata": {},
   "outputs": [],
   "source": [
    "def uniform_vsf(delta):\n",
    "    return 1/(4*sp.pi)"
   ]
  },
  {
   "cell_type": "code",
   "execution_count": 7,
   "metadata": {},
   "outputs": [],
   "source": [
    "def linear_vsf(delta):\n",
    "    \"\"\"Defined on [-1, 1].\"\"\"\n",
    "    return (delta+1)/(4*sp.pi)"
   ]
  },
  {
   "cell_type": "code",
   "execution_count": 8,
   "metadata": {},
   "outputs": [],
   "source": [
    "# TODO: No upwelling light from bottom\n",
    "# Also, spatially homogeneous BC\n",
    "def prod_L(x, y, z, theta, phi, alpha, gamma):\n",
    "    return (\n",
    "        (\n",
    "            (\n",
    "                (2+sp.sin(2*sp.pi*x/alpha))\n",
    "                *(2+sp.sin(2*sp.pi*y/alpha))\n",
    "                *(sp.sin(sp.pi*z/gamma))\n",
    "            ) + sp.exp(-z/gamma)\n",
    "        )\n",
    "        * (2+sp.sin(phi))\n",
    "    )"
   ]
  },
  {
   "cell_type": "code",
   "execution_count": 9,
   "metadata": {},
   "outputs": [],
   "source": [
    "def exp_L(x, y, z, theta, phi, b, alpha, gamma):\n",
    "    return sp.exp(-2*z) - sp.exp(2*b*gamma)"
   ]
  },
  {
   "cell_type": "code",
   "execution_count": 10,
   "metadata": {},
   "outputs": [],
   "source": [
    "def expb_L(x, y, z, theta, phi, b, alpha, gamma):\n",
    "    return gamma*sp.exp(-2*b*z) - z*sp.exp(-2*b*gamma)"
   ]
  },
  {
   "cell_type": "code",
   "execution_count": 11,
   "metadata": {},
   "outputs": [],
   "source": [
    "def expb15_L(x, y, z, theta, phi, b, alpha, gamma):\n",
    "    return gamma**1.5*sp.exp(-2*b*z) - z**1.5*sp.exp(-2*b*gamma)"
   ]
  },
  {
   "cell_type": "code",
   "execution_count": 12,
   "metadata": {},
   "outputs": [],
   "source": [
    "def down_L(x, y, z, theta, phi, b, alpha, gamma):\n",
    "    return sp.Piecewise((sp.exp(-z), phi<sp.pi/2), (0, True))"
   ]
  },
  {
   "cell_type": "code",
   "execution_count": 13,
   "metadata": {},
   "outputs": [],
   "source": [
    "def zero_L(x, y, z, theta, phi, b, alpha, gamma):\n",
    "    return 0 * sp.Symbol('x')"
   ]
  },
  {
   "cell_type": "code",
   "execution_count": 14,
   "metadata": {},
   "outputs": [],
   "source": [
    "def uniform_L(x, y, z, theta, phi, b, alpha, gamma):\n",
    "    return alpha"
   ]
  },
  {
   "cell_type": "code",
   "execution_count": 15,
   "metadata": {},
   "outputs": [],
   "source": [
    "def unisinb_L(x, y, z, theta, phi, b, alpha, gamma):\n",
    "    return alpha*(1+sp.sin(b))"
   ]
  },
  {
   "cell_type": "code",
   "execution_count": 16,
   "metadata": {},
   "outputs": [],
   "source": [
    "def tanh_L(x, y, z, theta, phi, b, alpha, gamma):\n",
    "    return alpha * (2+sp.sin(z/10)) * sp.tanh((gamma-z)/10) * z * (2+sp.sin(4*sp.pi*x/alpha) + sp.sin(4*sp.pi*y/alpha)) / 5"
   ]
  },
  {
   "cell_type": "code",
   "execution_count": 17,
   "metadata": {},
   "outputs": [],
   "source": [
    "def tanh_b_L(x, y, z, theta, phi, b, alpha, gamma):\n",
    "    \"\"\"\n",
    "    alpha = rope_spacing\n",
    "    gamma = zmax\n",
    "    \"\"\"\n",
    "    return (\n",
    "        alpha * (z-gamma+sp.tanh((1+b)*(gamma-z)) / sp.tanh((1+b)*gamma))\n",
    "        * (1+z*(sp.sin(2*sp.pi*x/alpha)+sp.sin(2*sp.pi*y/alpha)))\n",
    "        *(1+sp.sin(theta+phi))\n",
    "    )"
   ]
  },
  {
   "cell_type": "code",
   "execution_count": 18,
   "metadata": {},
   "outputs": [],
   "source": [
    "def tanh_b_L_smallderiv(x, y, z, theta, phi, b, alpha, gamma):\n",
    "    \"\"\"\n",
    "    alpha = rope_spacing\n",
    "    gamma = zmax\n",
    "    \"\"\"\n",
    "    return (\n",
    "        alpha * (z/10-gamma/10+sp.tanh((1+b)*(gamma-z)/10) / sp.tanh((1+b)*gamma/10))\n",
    "        * (1+z/10*(sp.sin(2*sp.pi*x/alpha)+sp.sin(2*sp.pi*y/alpha)))\n",
    "        *(1+sp.sin(theta+phi)/10)\n",
    "    )"
   ]
  },
  {
   "cell_type": "code",
   "execution_count": 19,
   "metadata": {},
   "outputs": [],
   "source": [
    "def prod_a(x, y, z, alpha, gamma):\n",
    "    return 1 + (3+sp.sin(2*sp.pi*x/alpha)+sp.sin(2*sp.pi*y/alpha)) + (1+sp.tanh(z-gamma))"
   ]
  },
  {
   "cell_type": "code",
   "execution_count": 20,
   "metadata": {},
   "outputs": [],
   "source": [
    "def prod_a_smallderiv(x, y, z, alpha, gamma):\n",
    "    return 1 + (3+sp.sin(2*sp.pi*x/alpha)+sp.sin(2*sp.pi*y/alpha))/10 + (1+sp.tanh(z-gamma))"
   ]
  },
  {
   "cell_type": "code",
   "execution_count": 21,
   "metadata": {},
   "outputs": [],
   "source": [
    "def uniform_a(x, y, z, alpha, gamma):\n",
    "    return 0.2"
   ]
  },
  {
   "cell_type": "code",
   "execution_count": 22,
   "metadata": {},
   "outputs": [],
   "source": [
    "def inv_a(x, y, z, alpha, gamma):\n",
    "    return 1/tanh_L(x, y, z, 0, 0, 0, alpha, gamma)"
   ]
  },
  {
   "cell_type": "markdown",
   "metadata": {},
   "source": [
    "### Decide here which functions to use."
   ]
  },
  {
   "cell_type": "code",
   "execution_count": 23,
   "metadata": {},
   "outputs": [],
   "source": [
    "sol_func = tanh_b_L\n",
    "abs_func = prod_a\n",
    "vsf_func = linear_vsf"
   ]
  },
  {
   "cell_type": "markdown",
   "metadata": {},
   "source": [
    "---"
   ]
  },
  {
   "cell_type": "markdown",
   "metadata": {},
   "source": [
    "# Symbolic Calculations"
   ]
  },
  {
   "cell_type": "markdown",
   "metadata": {},
   "source": [
    "## Calculate source & BC"
   ]
  },
  {
   "cell_type": "code",
   "execution_count": 24,
   "metadata": {},
   "outputs": [],
   "source": [
    "b = sp.var('b')\n",
    "params = sp.var('alpha, gamma')\n",
    "\n",
    "source_expr = mms.calculate_source(sol_func, b, abs_func, vsf_func, params)\n",
    "bc_expr = mms.calculate_bc(sol_func, b, params)\n",
    "\n",
    "# Evaluate other expressions as well for consistency\n",
    "sol_expr = sol_func(*mms.space, *mms.angle, b, *params)\n",
    "abs_expr = abs_func(*mms.space, *params)\n",
    "vsf_expr = vsf_func(mms.delta)"
   ]
  },
  {
   "cell_type": "markdown",
   "metadata": {},
   "source": [
    "## Specify parameter values"
   ]
  },
  {
   "cell_type": "code",
   "execution_count": 25,
   "metadata": {},
   "outputs": [],
   "source": [
    "# Domain size\n",
    "rope_spacing = 1\n",
    "zmax = 1\n",
    "b = 0.5\n",
    "\n",
    "param_vals = {\n",
    "    'alpha': rope_spacing,\n",
    "    'gamma': zmax,\n",
    "    'b': b\n",
    "}"
   ]
  },
  {
   "cell_type": "markdown",
   "metadata": {},
   "source": [
    "## Generate symbolic and numerical functions"
   ]
  },
  {
   "cell_type": "code",
   "execution_count": 26,
   "metadata": {},
   "outputs": [],
   "source": [
    "# Generate symbolic functions\n",
    "source_sym = mms.symify(source_expr, *mms.space, *mms.angle, **param_vals)\n",
    "abs_sym = mms.symify(abs_expr, *mms.space, **param_vals)\n",
    "bc_sym = mms.symify(bc_expr, *mms.angle, **param_vals)\n",
    "vsf_sym = mms.symify(vsf_expr, mms.delta, **param_vals)\n",
    "sol_sym = mms.symify(sol_expr, *mms.space, *mms.angle, **param_vals)\n",
    "\n",
    "# Generate numerical functions\n",
    "abs_func_N = mms.sym_to_num(abs_sym, *mms.space)\n",
    "source_func_N = mms.sym_to_num(source_sym, *mms.space, *mms.angle)\n",
    "bc_func_N = mms.sym_to_num(bc_sym, *mms.angle)\n",
    "vsf_func_N = mms.sym_to_num(vsf_sym, mms.delta)\n",
    "sol_func_N = mms.sym_to_num(sol_sym, *mms.space, *mms.angle)"
   ]
  },
  {
   "cell_type": "markdown",
   "metadata": {},
   "source": [
    "## Problem Summary"
   ]
  },
  {
   "cell_type": "code",
   "execution_count": 27,
   "metadata": {},
   "outputs": [
    {
     "name": "stdout",
     "output_type": "stream",
     "text": [
      "Solution\n"
     ]
    },
    {
     "data": {
      "image/png": "[encoded data removed]",
      "text/latex": [
       "$$L = \\alpha \\left(z \\left(\\sin{\\left (\\frac{2 \\pi x}{\\alpha} \\right )} + \\sin{\\left (\\frac{2 \\pi y}{\\alpha} \\right )}\\right) + 1\\right) \\left(\\sin{\\left (\\phi + \\theta \\right )} + 1\\right) \\left(- \\gamma + z + \\frac{\\tanh{\\left (\\left(b + 1\\right) \\left(\\gamma - z\\right) \\right )}}{\\tanh{\\left (\\gamma \\left(b + 1\\right) \\right )}}\\right)$$"
      ],
      "text/plain": [
       "      ⎛  ⎛   ⎛2⋅π⋅x⎞      ⎛2⋅π⋅y⎞⎞    ⎞                  ⎛         tanh((b + 1\n",
       "L = α⋅⎜z⋅⎜sin⎜─────⎟ + sin⎜─────⎟⎟ + 1⎟⋅(sin(φ + θ) + 1)⋅⎜-γ + z + ───────────\n",
       "      ⎝  ⎝   ⎝  α  ⎠      ⎝  α  ⎠⎠    ⎠                  ⎝            tanh(γ⋅(\n",
       "\n",
       ")⋅(γ - z))⎞\n",
       "──────────⎟\n",
       "b + 1))   ⎠"
      ]
     },
     "metadata": {},
     "output_type": "display_data"
    },
    {
     "name": "stdout",
     "output_type": "stream",
     "text": [
      "\n",
      "Absorption Coefficient\n"
     ]
    },
    {
     "data": {
      "image/png": "[encoded data removed]",
      "text/latex": [
       "$$a = \\sin{\\left (\\frac{2 \\pi x}{\\alpha} \\right )} + \\sin{\\left (\\frac{2 \\pi y}{\\alpha} \\right )} + \\tanh{\\left (- \\gamma + z \\right )} + 5$$"
      ],
      "text/plain": [
       "       ⎛2⋅π⋅x⎞      ⎛2⋅π⋅y⎞                   \n",
       "a = sin⎜─────⎟ + sin⎜─────⎟ + tanh(-γ + z) + 5\n",
       "       ⎝  α  ⎠      ⎝  α  ⎠                   "
      ]
     },
     "metadata": {},
     "output_type": "display_data"
    },
    {
     "name": "stdout",
     "output_type": "stream",
     "text": [
      "\n",
      "VSF\n"
     ]
    },
    {
     "data": {
      "image/png": "[encoded data removed]",
      "text/latex": [
       "$$\\beta = \\frac{\\Delta + 1}{4 \\pi}$$"
      ],
      "text/plain": [
       "    Δ + 1\n",
       "β = ─────\n",
       "     4⋅π "
      ]
     },
     "metadata": {},
     "output_type": "display_data"
    },
    {
     "name": "stdout",
     "output_type": "stream",
     "text": [
      "Boundary Condition\n"
     ]
    },
    {
     "data": {
      "image/png": "[encoded data removed]",
      "text/latex": [
       "$$L_{0} = \\alpha \\left(- \\gamma + 1\\right) \\left(\\sin{\\left (\\phi + \\theta \\right )} + 1\\right)$$"
      ],
      "text/plain": [
       "L₀ = α⋅(-γ + 1)⋅(sin(φ + θ) + 1)"
      ]
     },
     "metadata": {},
     "output_type": "display_data"
    },
    {
     "name": "stdout",
     "output_type": "stream",
     "text": [
      "\n",
      "Source\n"
     ]
    },
    {
     "data": {
      "image/png": "[encoded data removed]",
      "text/latex": [
       "$$\\sigma = \\alpha \\left(z \\left(\\sin{\\left (\\frac{2 \\pi x}{\\alpha} \\right )} + \\sin{\\left (\\frac{2 \\pi y}{\\alpha} \\right )}\\right) + 1\\right) \\left(\\sin{\\left (\\phi + \\theta \\right )} + 1\\right) \\left(- \\gamma + z + \\frac{\\tanh{\\left (\\left(b + 1\\right) \\left(\\gamma - z\\right) \\right )}}{\\tanh{\\left (\\gamma \\left(b + 1\\right) \\right )}}\\right) \\left(b + \\sin{\\left (\\frac{2 \\pi x}{\\alpha} \\right )} + \\sin{\\left (\\frac{2 \\pi y}{\\alpha} \\right )} + \\tanh{\\left (- \\gamma + z \\right )} + 5\\right) - b \\left(\\frac{\\alpha \\left(z \\left(\\sin{\\left (\\frac{2 \\pi x}{\\alpha} \\right )} + \\sin{\\left (\\frac{2 \\pi y}{\\alpha} \\right )}\\right) + 1\\right) \\left(\\frac{\\cos{\\left (\\phi \\right )}}{3} + \\frac{1}{2}\\right) \\left(- \\gamma + z + \\frac{\\tanh{\\left (\\left(b + 1\\right) \\left(\\gamma - z\\right) \\right )}}{\\tanh{\\left (\\gamma \\left(b + 1\\right) \\right )}}\\right)}{4 \\pi} - \\frac{\\alpha \\left(z \\left(\\sin{\\left (\\frac{2 \\pi x}{\\alpha} \\right )} + \\sin{\\left (\\frac{2 \\pi y}{\\alpha} \\right )}\\right) + 1\\right) \\left(- \\gamma + z + \\frac{\\tanh{\\left (\\left(b + 1\\right) \\left(\\gamma - z\\right) \\right )}}{\\tanh{\\left (\\gamma \\left(b + 1\\right) \\right )}}\\right) \\left(- \\frac{\\pi \\sin{\\left (\\phi \\right )} \\sin{\\left (\\theta \\right )}}{2} - \\frac{\\cos{\\left (\\phi \\right )}}{3} + \\frac{1}{2}\\right)}{4 \\pi} - \\frac{\\alpha \\left(z \\left(\\sin{\\left (\\frac{2 \\pi x}{\\alpha} \\right )} + \\sin{\\left (\\frac{2 \\pi y}{\\alpha} \\right )}\\right) + 1\\right) \\left(- \\gamma + z + \\frac{\\tanh{\\left (\\left(b + 1\\right) \\left(\\gamma - z\\right) \\right )}}{\\tanh{\\left (\\gamma \\left(b + 1\\right) \\right )}}\\right) \\left(- \\frac{2 \\pi \\sin{\\left (\\phi \\right )} \\cos{\\left (\\theta \\right )}}{3} - \\pi \\cos{\\left (\\phi \\right )} + \\frac{\\cos{\\left (\\phi \\right )}}{3} - 2 \\pi + \\frac{1}{2}\\right)}{4 \\pi} + \\frac{\\alpha \\left(z \\left(\\sin{\\left (\\frac{2 \\pi x}{\\alpha} \\right )} + \\sin{\\left (\\frac{2 \\pi y}{\\alpha} \\right )}\\right) + 1\\right) \\left(- \\gamma + z + \\frac{\\tanh{\\left (\\left(b + 1\\right) \\left(\\gamma - z\\right) \\right )}}{\\tanh{\\left (\\gamma \\left(b + 1\\right) \\right )}}\\right) \\left(- \\frac{\\pi \\sin{\\left (\\phi \\right )} \\sin{\\left (\\theta \\right )}}{2} + \\frac{2 \\pi \\sin{\\left (\\phi \\right )} \\cos{\\left (\\theta \\right )}}{3} - \\pi \\cos{\\left (\\phi \\right )} - \\frac{\\cos{\\left (\\phi \\right )}}{3} + \\frac{1}{2} + 2 \\pi\\right)}{4 \\pi}\\right) + 2 \\pi z \\left(\\sin{\\left (\\phi + \\theta \\right )} + 1\\right) \\left(- \\gamma + z + \\frac{\\tanh{\\left (\\left(b + 1\\right) \\left(\\gamma - z\\right) \\right )}}{\\tanh{\\left (\\gamma \\left(b + 1\\right) \\right )}}\\right) \\sin{\\left (\\phi \\right )} \\sin{\\left (\\theta \\right )} \\cos{\\left (\\frac{2 \\pi y}{\\alpha} \\right )} + 2 \\pi z \\left(\\sin{\\left (\\phi + \\theta \\right )} + 1\\right) \\left(- \\gamma + z + \\frac{\\tanh{\\left (\\left(b + 1\\right) \\left(\\gamma - z\\right) \\right )}}{\\tanh{\\left (\\gamma \\left(b + 1\\right) \\right )}}\\right) \\sin{\\left (\\phi \\right )} \\cos{\\left (\\theta \\right )} \\cos{\\left (\\frac{2 \\pi x}{\\alpha} \\right )} + \\left(\\alpha \\left(z \\left(\\sin{\\left (\\frac{2 \\pi x}{\\alpha} \\right )} + \\sin{\\left (\\frac{2 \\pi y}{\\alpha} \\right )}\\right) + 1\\right) \\left(\\frac{\\left(- b - 1\\right) \\left(- \\tanh^{2}{\\left (\\left(b + 1\\right) \\left(\\gamma - z\\right) \\right )} + 1\\right)}{\\tanh{\\left (\\gamma \\left(b + 1\\right) \\right )}} + 1\\right) \\left(\\sin{\\left (\\phi + \\theta \\right )} + 1\\right) + \\alpha \\left(\\sin{\\left (\\frac{2 \\pi x}{\\alpha} \\right )} + \\sin{\\left (\\frac{2 \\pi y}{\\alpha} \\right )}\\right) \\left(\\sin{\\left (\\phi + \\theta \\right )} + 1\\right) \\left(- \\gamma + z + \\frac{\\tanh{\\left (\\left(b + 1\\right) \\left(\\gamma - z\\right) \\right )}}{\\tanh{\\left (\\gamma \\left(b + 1\\right) \\right )}}\\right)\\right) \\cos{\\left (\\phi \\right )}$$"
      ],
      "text/plain": [
       "                                                                              \n",
       "                                                                              \n",
       "      ⎛  ⎛   ⎛2⋅π⋅x⎞      ⎛2⋅π⋅y⎞⎞    ⎞                  ⎛         tanh((b + 1\n",
       "σ = α⋅⎜z⋅⎜sin⎜─────⎟ + sin⎜─────⎟⎟ + 1⎟⋅(sin(φ + θ) + 1)⋅⎜-γ + z + ───────────\n",
       "      ⎝  ⎝   ⎝  α  ⎠      ⎝  α  ⎠⎠    ⎠                  ⎝            tanh(γ⋅(\n",
       "\n",
       "                                                                 ⎛  ⎛  ⎛   ⎛2⋅\n",
       "                                                                 ⎜α⋅⎜z⋅⎜sin⎜──\n",
       ")⋅(γ - z))⎞ ⎛       ⎛2⋅π⋅x⎞      ⎛2⋅π⋅y⎞                   ⎞     ⎜  ⎝  ⎝   ⎝  \n",
       "──────────⎟⋅⎜b + sin⎜─────⎟ + sin⎜─────⎟ + tanh(-γ + z) + 5⎟ - b⋅⎜────────────\n",
       "b + 1))   ⎠ ⎝       ⎝  α  ⎠      ⎝  α  ⎠                   ⎠     ⎝            \n",
       "\n",
       "π⋅x⎞      ⎛2⋅π⋅y⎞⎞    ⎞ ⎛cos(φ)   1⎞ ⎛         tanh((b + 1)⋅(γ - z))⎞     ⎛  ⎛\n",
       "───⎟ + sin⎜─────⎟⎟ + 1⎟⋅⎜────── + ─⎟⋅⎜-γ + z + ─────────────────────⎟   α⋅⎜z⋅⎜\n",
       "α  ⎠      ⎝  α  ⎠⎠    ⎠ ⎝  3      2⎠ ⎝            tanh(γ⋅(b + 1))   ⎠     ⎝  ⎝\n",
       "───────────────────────────────────────────────────────────────────── - ──────\n",
       "                           4⋅π                                                \n",
       "\n",
       "   ⎛2⋅π⋅x⎞      ⎛2⋅π⋅y⎞⎞    ⎞ ⎛         tanh((b + 1)⋅(γ - z))⎞ ⎛  π⋅sin(φ)⋅sin\n",
       "sin⎜─────⎟ + sin⎜─────⎟⎟ + 1⎟⋅⎜-γ + z + ─────────────────────⎟⋅⎜- ────────────\n",
       "   ⎝  α  ⎠      ⎝  α  ⎠⎠    ⎠ ⎝            tanh(γ⋅(b + 1))   ⎠ ⎝         2    \n",
       "──────────────────────────────────────────────────────────────────────────────\n",
       "                                           4⋅π                                \n",
       "\n",
       "(θ)   cos(φ)   1⎞     ⎛  ⎛   ⎛2⋅π⋅x⎞      ⎛2⋅π⋅y⎞⎞    ⎞ ⎛         tanh((b + 1)\n",
       "─── - ────── + ─⎟   α⋅⎜z⋅⎜sin⎜─────⎟ + sin⎜─────⎟⎟ + 1⎟⋅⎜-γ + z + ────────────\n",
       "        3      2⎠     ⎝  ⎝   ⎝  α  ⎠      ⎝  α  ⎠⎠    ⎠ ⎝            tanh(γ⋅(b\n",
       "───────────────── - ──────────────────────────────────────────────────────────\n",
       "                                                                              \n",
       "\n",
       "⋅(γ - z))⎞ ⎛  2⋅π⋅sin(φ)⋅cos(θ)              cos(φ)         1⎞     ⎛  ⎛   ⎛2⋅π\n",
       "─────────⎟⋅⎜- ───────────────── - π⋅cos(φ) + ────── - 2⋅π + ─⎟   α⋅⎜z⋅⎜sin⎜───\n",
       " + 1))   ⎠ ⎝          3                        3            2⎠     ⎝  ⎝   ⎝  α\n",
       "────────────────────────────────────────────────────────────── + ─────────────\n",
       "4⋅π                                                                           \n",
       "\n",
       "⋅x⎞      ⎛2⋅π⋅y⎞⎞    ⎞ ⎛         tanh((b + 1)⋅(γ - z))⎞ ⎛  π⋅sin(φ)⋅sin(θ)   2\n",
       "──⎟ + sin⎜─────⎟⎟ + 1⎟⋅⎜-γ + z + ─────────────────────⎟⋅⎜- ─────────────── + ─\n",
       "  ⎠      ⎝  α  ⎠⎠    ⎠ ⎝            tanh(γ⋅(b + 1))   ⎠ ⎝         2           \n",
       "──────────────────────────────────────────────────────────────────────────────\n",
       "                                                      4⋅π                     \n",
       "\n",
       "⋅π⋅sin(φ)⋅cos(θ)              cos(φ)   1      ⎞⎞                              \n",
       "──────────────── - π⋅cos(φ) - ────── + ─ + 2⋅π⎟⎟                              \n",
       "       3                        3      2      ⎠⎟                          ⎛   \n",
       "───────────────────────────────────────────────⎟ + 2⋅π⋅z⋅(sin(φ + θ) + 1)⋅⎜-γ \n",
       "                                               ⎠                          ⎝   \n",
       "\n",
       "                                                                              \n",
       "                                                                              \n",
       "      tanh((b + 1)⋅(γ - z))⎞                  ⎛2⋅π⋅y⎞                         \n",
       "+ z + ─────────────────────⎟⋅sin(φ)⋅sin(θ)⋅cos⎜─────⎟ + 2⋅π⋅z⋅(sin(φ + θ) + 1)\n",
       "         tanh(γ⋅(b + 1))   ⎠                  ⎝  α  ⎠                         \n",
       "\n",
       "                                                                              \n",
       "                                                             ⎛                \n",
       " ⎛         tanh((b + 1)⋅(γ - z))⎞                  ⎛2⋅π⋅x⎞   ⎜  ⎛  ⎛   ⎛2⋅π⋅x⎞\n",
       "⋅⎜-γ + z + ─────────────────────⎟⋅sin(φ)⋅cos(θ)⋅cos⎜─────⎟ + ⎜α⋅⎜z⋅⎜sin⎜─────⎟\n",
       " ⎝            tanh(γ⋅(b + 1))   ⎠                  ⎝  α  ⎠   ⎝  ⎝  ⎝   ⎝  α  ⎠\n",
       "\n",
       "                                                                              \n",
       "                    ⎛         ⎛      2                     ⎞    ⎞             \n",
       "      ⎛2⋅π⋅y⎞⎞    ⎞ ⎜(-b - 1)⋅⎝- tanh ((b + 1)⋅(γ - z)) + 1⎠    ⎟             \n",
       " + sin⎜─────⎟⎟ + 1⎟⋅⎜─────────────────────────────────────── + 1⎟⋅(sin(φ + θ) \n",
       "      ⎝  α  ⎠⎠    ⎠ ⎝            tanh(γ⋅(b + 1))                ⎠             \n",
       "\n",
       "                                                                              \n",
       "                                                                              \n",
       "         ⎛   ⎛2⋅π⋅x⎞      ⎛2⋅π⋅y⎞⎞                  ⎛         tanh((b + 1)⋅(γ \n",
       "+ 1) + α⋅⎜sin⎜─────⎟ + sin⎜─────⎟⎟⋅(sin(φ + θ) + 1)⋅⎜-γ + z + ────────────────\n",
       "         ⎝   ⎝  α  ⎠      ⎝  α  ⎠⎠                  ⎝            tanh(γ⋅(b + 1\n",
       "\n",
       "              \n",
       "      ⎞       \n",
       "- z))⎞⎟       \n",
       "─────⎟⎟⋅cos(φ)\n",
       "))   ⎠⎠       "
      ]
     },
     "metadata": {},
     "output_type": "display_data"
    },
    {
     "name": "stdout",
     "output_type": "stream",
     "text": [
      "\n"
     ]
    }
   ],
   "source": [
    "print(\"Solution\")\n",
    "mms.display_eq('L', sol_expr)\n",
    "print()\n",
    "\n",
    "print(\"Absorption Coefficient\")\n",
    "mms.display_eq('a', abs_expr)\n",
    "print()\n",
    "\n",
    "print(\"VSF\")\n",
    "mms.display_eq('beta', vsf_expr)\n",
    "\n",
    "print(\"Boundary Condition\")\n",
    "mms.display_eq('L_0', bc_expr)\n",
    "print()\n",
    "\n",
    "print(\"Source\")\n",
    "mms.display_eq('sigma', source_expr)\n",
    "print()"
   ]
  },
  {
   "cell_type": "code",
   "execution_count": 28,
   "metadata": {},
   "outputs": [
    {
     "name": "stderr",
     "output_type": "stream",
     "text": [
      "/opt/conda/lib/python3.6/site-packages/sympy/external/importtools.py:145: UserWarning: antlr4.error.ErrorListener module is not installed\n",
      "  warnings.warn(\"%s module is not installed\" % module, UserWarning)\n",
      "/opt/conda/lib/python3.6/site-packages/sympy/external/importtools.py:145: UserWarning: antlr4 module is not installed\n",
      "  warnings.warn(\"%s module is not installed\" % module, UserWarning)\n"
     ]
    },
    {
     "ename": "ImportError",
     "evalue": "LaTeX parsing requires the antlr4 python package, provided by pip (antlr4-python2-runtime or antlr4-python3-runtime) or conda (antlr-python-runtime)",
     "output_type": "error",
     "traceback": [
      "\u001b[0;31m---------------------------------------------------------------------------\u001b[0m",
      "\u001b[0;31mImportError\u001b[0m                               Traceback (most recent call last)",
      "\u001b[0;32m<ipython-input-28-a0b7bf7a3a5e>\u001b[0m in \u001b[0;36m<module>\u001b[0;34m()\u001b[0m\n\u001b[1;32m     16\u001b[0m   \u001b[0;34m+\u001b[0m \u001b[0;34m{\u001b[0m\u001b[0;31m\\\u001b[0m\u001b[0malpha\u001b[0m\u001b[0;34m}\u001b[0m \u001b[0;34m(\u001b[0m\u001b[0;31m\\\u001b[0m\u001b[0msin\u001b[0m\u001b[0;34m{\u001b[0m \u001b[0;34m(\u001b[0m\u001b[0;31m\\\u001b[0m\u001b[0mfrac\u001b[0m\u001b[0;34m{\u001b[0m\u001b[0;36m2\u001b[0m \u001b[0;34m{\u001b[0m\u001b[0;31m\\\u001b[0m\u001b[0mpi\u001b[0m\u001b[0;34m}\u001b[0m \u001b[0mx\u001b[0m\u001b[0;34m}\u001b[0m\u001b[0;34m{\u001b[0m\u001b[0;34m{\u001b[0m\u001b[0;31m\\\u001b[0m\u001b[0malpha\u001b[0m\u001b[0;34m}\u001b[0m\u001b[0;34m}\u001b[0m  \u001b[0;34m)\u001b[0m\u001b[0;34m}\u001b[0m \u001b[0;34m+\u001b[0m\u001b[0;31m \u001b[0m\u001b[0;31m\\\u001b[0m\u001b[0msin\u001b[0m\u001b[0;34m{\u001b[0m \u001b[0;34m(\u001b[0m\u001b[0;31m\\\u001b[0m\u001b[0mfrac\u001b[0m\u001b[0;34m{\u001b[0m\u001b[0;36m2\u001b[0m \u001b[0;34m{\u001b[0m\u001b[0;31m\\\u001b[0m\u001b[0mpi\u001b[0m\u001b[0;34m}\u001b[0m \u001b[0my\u001b[0m\u001b[0;34m}\u001b[0m\u001b[0;34m{\u001b[0m\u001b[0;34m{\u001b[0m\u001b[0;31m\\\u001b[0m\u001b[0malpha\u001b[0m\u001b[0;34m}\u001b[0m\u001b[0;34m}\u001b[0m  \u001b[0;34m)\u001b[0m\u001b[0;34m}\u001b[0m\u001b[0;34m)\u001b[0m \u001b[0;34m(\u001b[0m\u001b[0;31m\\\u001b[0m\u001b[0msin\u001b[0m\u001b[0;34m{\u001b[0m \u001b[0;34m(\u001b[0m\u001b[0;31m\\\u001b[0m\u001b[0mphi\u001b[0m \u001b[0;34m+\u001b[0m\u001b[0;31m \u001b[0m\u001b[0;31m\\\u001b[0m\u001b[0mtheta\u001b[0m  \u001b[0;34m)\u001b[0m\u001b[0;34m}\u001b[0m \u001b[0;34m+\u001b[0m \u001b[0;36m1\u001b[0m\u001b[0;34m)\u001b[0m\u001b[0;34m\u001b[0m\u001b[0m\n\u001b[1;32m     17\u001b[0m   \\cdot (- {\\gamma} + {z} + \\frac{\\tanh{ ((b + 1) ({\\gamma} - {z})  )}}{\\tanh{ ({\\gamma} (b + 1)  )}})] \\cos{ (\\phi  )}\n\u001b[0;32m---> 18\u001b[0;31m \"\"\", )\n\u001b[0m",
      "\u001b[0;32m/opt/conda/lib/python3.6/site-packages/sympy/parsing/latex/__init__.py\u001b[0m in \u001b[0;36mparse_latex\u001b[0;34m(s)\u001b[0m\n\u001b[1;32m     29\u001b[0m \u001b[0;34m\u001b[0m\u001b[0m\n\u001b[1;32m     30\u001b[0m     \u001b[0;32mif\u001b[0m \u001b[0m_latex\u001b[0m \u001b[0;32mis\u001b[0m \u001b[0;32mnot\u001b[0m \u001b[0;32mNone\u001b[0m\u001b[0;34m:\u001b[0m\u001b[0;34m\u001b[0m\u001b[0m\n\u001b[0;32m---> 31\u001b[0;31m         \u001b[0;32mreturn\u001b[0m \u001b[0m_latex\u001b[0m\u001b[0;34m.\u001b[0m\u001b[0mparse_latex\u001b[0m\u001b[0;34m(\u001b[0m\u001b[0ms\u001b[0m\u001b[0;34m)\u001b[0m\u001b[0;34m\u001b[0m\u001b[0m\n\u001b[0m",
      "\u001b[0;32m/opt/conda/lib/python3.6/site-packages/sympy/parsing/latex/_parse_latex_antlr.py\u001b[0m in \u001b[0;36mparse_latex\u001b[0;34m(sympy)\u001b[0m\n\u001b[1;32m     64\u001b[0m \u001b[0;34m\u001b[0m\u001b[0m\n\u001b[1;32m     65\u001b[0m     \u001b[0;32mif\u001b[0m \u001b[0;32mNone\u001b[0m \u001b[0;32min\u001b[0m \u001b[0;34m[\u001b[0m\u001b[0mantlr4\u001b[0m\u001b[0;34m,\u001b[0m \u001b[0mMathErrorListener\u001b[0m\u001b[0;34m]\u001b[0m\u001b[0;34m:\u001b[0m\u001b[0;34m\u001b[0m\u001b[0m\n\u001b[0;32m---> 66\u001b[0;31m         raise ImportError(\"LaTeX parsing requires the antlr4 python package,\"\n\u001b[0m\u001b[1;32m     67\u001b[0m                           \u001b[0;34m\" provided by pip (antlr4-python2-runtime or\"\u001b[0m\u001b[0;34m\u001b[0m\u001b[0m\n\u001b[1;32m     68\u001b[0m                           \u001b[0;34m\" antlr4-python3-runtime) or\"\u001b[0m\u001b[0;34m\u001b[0m\u001b[0m\n",
      "\u001b[0;31mImportError\u001b[0m: LaTeX parsing requires the antlr4 python package, provided by pip (antlr4-python2-runtime or antlr4-python3-runtime) or conda (antlr-python-runtime)"
     ]
    }
   ],
   "source": [
    "source_mod = sp.parsing.latex.parse_latex(r\"\"\"  \n",
    "  {\\alpha} ({z} (\\sin{ (\\frac{2 {\\pi} x}{{\\alpha}}  )} + \\sin{ (\\frac{2 {\\pi} y}{{\\alpha}}  )}) + 1) (\\sin{ (\\phi + \\theta  )} + 1) \n",
    "  \\cdot (- {\\gamma} + {z} + \\frac{\\tanh{ ((b + 1) ({\\gamma} - {z})  )}}{\\tanh{ ({\\gamma} (b + 1)  )}}) (b + \\sin{ (\\frac{2 {\\pi} x}{{\\alpha}}  )} + \\sin{ (\\frac{2 {\\pi} y}{{\\alpha}}  )} + \\tanh{ (- {\\gamma} + {z}  )} + 5) \n",
    "  - b [ \\frac{{\\alpha} ({z} (\\sin{ (\\frac{2 {\\pi} x}{{\\alpha}}  )} + \\sin{ (\\frac{2 {\\pi} y}{{\\alpha}}  )}) + 1) (\\frac{\\sin{ (\\phi  )} \\sin{ (\\theta  )}}{3} + \\frac{\\cos{ (\\phi  )}}{3}) (- {\\gamma} + {z} + \\frac{\\tanh{ ((b + 1) ({\\gamma} - {z})  )}}{\\tanh{ ({\\gamma} (b + 1)  )}})}{4 {\\pi}} \n",
    "  - \\frac{{\\alpha} ({z} (\\sin{ (\\frac{2 {\\pi} x}{{\\alpha}}  )} + \\sin{ (\\frac{2 {\\pi} y}{{\\alpha}}  )}) + 1) (- {\\gamma} + {z} + \\frac{\\tanh{ ((b + 1) ({\\gamma} - {z})  )}}{\\tanh{ ({\\gamma} (b + 1)  )}})}{4 {\\pi}} \n",
    "    \\cdot (-\\frac{{\\pi} \\sin{( \\phi )}\\sin{( \\theta )}}{2} - \\frac{\\sin{ (\\phi  )} \\sin{ (\\theta  )}}{3} - \\frac{\\cos{ (\\phi  )}}{3}) \n",
    "  - \\frac{{\\alpha} ({z} (\\sin{ (\\frac{2 {\\pi} x}{{\\alpha}}  )} + \\sin{ (\\frac{2 {\\pi} y}{{\\alpha}}  )}) + 1) (- {\\gamma} + {z} + \\frac{\\tanh{ ((b + 1) ({\\gamma} - {z})  )}}{\\tanh{ ({\\gamma} (b + 1)  )}})}{4 {\\pi}} \n",
    "    \\cdot (\\frac{\\sin{( \\phi )}\\sin{( \\theta )}}{3} - \\frac{2 {\\pi} \\sin{ (\\phi  )} \\cos{ (\\theta  )}}{3} + \\frac{\\cos{ (\\phi  )}}{3} - 2 {\\pi}) \n",
    "  + \\frac{{\\alpha} ({z} (\\sin{ (\\frac{2 {\\pi} x}{{\\alpha}}  )} + \\sin{ (\\frac{2 {\\pi} y}{{\\alpha}}  )}) + 1) (- {\\gamma} + {z} + \\frac{\\tanh{ ((b + 1) ({\\gamma} - {z})  )}}{\\tanh{ ({\\gamma} (b + 1)  )}})}{4 {\\pi}} \n",
    "  \\cdot (- \\frac{{\\pi} \\sin{ (\\phi  )} \\sin{ (\\theta  )}}{2} - \\frac{\\sin{(\\phi)}\\sin{(\\theta)}}{3} + \\frac{2 {\\pi} \\sin{ (\\phi  )} \\cos{ (\\theta  )}}{3} - \\frac{\\cos{ (\\phi  )}}{3} + 2 {\\pi}) ] \n",
    "  + 2 {\\pi} {z} (\\sin{ (\\phi + \\theta  )} + 1) (- {\\gamma} + {z} + \\frac{\\tanh{ ((b + 1) ({\\gamma} - {z})  )}}{\\tanh{ ({\\gamma} (b + 1)  )}}) \\sin{ (\\phi  )} \\sin{ (\\theta  )} \\cos{ (\\frac{2 {\\pi} y}{{\\alpha}}  )} \n",
    "  + 2 {\\pi} {z} (\\sin{ (\\phi + \\theta  )} + 1) (- {\\gamma} + {z} + \\frac{\\tanh{ ((b + 1) ({\\gamma} - {z})  )}}{\\tanh{ ({\\gamma} (b + 1)  )}}) \\sin{ (\\phi  )} \\cos{ (\\theta  )} \\cos{ (\\frac{2 {\\pi} x}{{\\alpha}}  )} \n",
    "  + [{\\alpha} ({z} (\\sin{ (\\frac{2 {\\pi} x}{{\\alpha}}  )} + \\sin{ (\\frac{2 {\\pi} y}{{\\alpha}}  )}) + 1) \n",
    "  \\cdot (\\frac{(- b - 1) (- \\tanh^{2}{ ((b + 1) ({\\gamma} - {z})  )} + 1)}{\\tanh{ ({\\gamma} (b + 1)  )}} + 1) \n",
    "  (\\sin{ (\\phi + \\theta  )} + 1) \n",
    "  + {\\alpha} (\\sin{ (\\frac{2 {\\pi} x}{{\\alpha}}  )} + \\sin{ (\\frac{2 {\\pi} y}{{\\alpha}}  )}) (\\sin{ (\\phi + \\theta  )} + 1) \n",
    "  \\cdot (- {\\gamma} + {z} + \\frac{\\tanh{ ((b + 1) ({\\gamma} - {z})  )}}{\\tanh{ ({\\gamma} (b + 1)  )}})] \\cos{ (\\phi  )}\n",
    "\"\"\", )"
   ]
  },
  {
   "cell_type": "code",
   "execution_count": null,
   "metadata": {},
   "outputs": [],
   "source": [
    "source_mod"
   ]
  },
  {
   "cell_type": "code",
   "execution_count": null,
   "metadata": {},
   "outputs": [],
   "source": [
    "symbols = list((source_expr - source_mod).free_symbols)\n",
    "symbols"
   ]
  },
  {
   "cell_type": "code",
   "execution_count": null,
   "metadata": {},
   "outputs": [],
   "source": []
  },
  {
   "cell_type": "code",
   "execution_count": null,
   "metadata": {},
   "outputs": [],
   "source": []
  },
  {
   "cell_type": "code",
   "execution_count": null,
   "metadata": {},
   "outputs": [],
   "source": [
    "source_expr.free_symbols"
   ]
  },
  {
   "cell_type": "code",
   "execution_count": null,
   "metadata": {},
   "outputs": [],
   "source": [
    "source_mod.free_symbols"
   ]
  },
  {
   "cell_type": "code",
   "execution_count": null,
   "metadata": {},
   "outputs": [],
   "source": [
    "list((source_expr - source_mod).free_symbols)[4] == sp.Symbol('gamma')"
   ]
  },
  {
   "cell_type": "code",
   "execution_count": null,
   "metadata": {},
   "outputs": [],
   "source": [
    "sp.N((source_expr - source_mod).subs((\n",
    "    ('x', 1.45), #x\n",
    "    ('y', 2.64), #y\n",
    "    ('z', 7.54),#z\n",
    "    ('theta', 1.22), #theta\n",
    "    ('phi', 0.64), #phi\n",
    "    ('gamma', 10), #gamma\n",
    "    ('alpha', 6), #alpha\n",
    "    ('b', 1.32)), #b\n",
    ")).subs('pi', np.pi)"
   ]
  },
  {
   "cell_type": "markdown",
   "metadata": {},
   "source": [
    "---\n",
    "\n",
    "# Symbolic Analysis"
   ]
  },
  {
   "cell_type": "markdown",
   "metadata": {},
   "source": [
    "## Check solution constraints\n",
    "\n",
    "- Everything is periodic in x, y\n",
    "- Absorption coefficient is positive\n",
    "- Boundary condition depends only on angle\n",
    "- No upwelling light from below\n",
    "- Properly normalized VSF"
   ]
  },
  {
   "cell_type": "code",
   "execution_count": 27,
   "metadata": {},
   "outputs": [
    {
     "name": "stdout",
     "output_type": "stream",
     "text": [
      "bottom: True\n",
      "sol x: True\n",
      "sol y: True\n",
      "abs x: True\n",
      "abs y: True\n",
      "VSF: True\n"
     ]
    }
   ],
   "source": [
    "# Check bottom BC\n",
    "print('bottom:', sp.expand(sol_expr.subs('z',sp.Symbol('gamma'))) == 0)\n",
    "\n",
    "# Check periodicity\n",
    "smax = sp.Symbol('alpha')/2\n",
    "smin = -smax\n",
    "print('sol x:', sp.expand(sol_expr.subs('x',smax) - sol_expr.subs('x',smin)) == 0)\n",
    "print('sol y:', sp.expand(sol_expr.subs('y',smax) - sol_expr.subs('y',smin)) == 0)\n",
    "print('abs x:', sp.expand(abs_expr.subs('x',smax) - abs_expr.subs('x',smin)) == 0)\n",
    "print('abs y:', sp.expand(abs_expr.subs('y',smax) - abs_expr.subs('y',smin)) == 0)\n",
    "\n",
    "# Check VSF normalization (Should be 1 over whole sphere, or 1/(2pi) on [-1, 1].)\n",
    "print(\n",
    "    \"VSF:\",\n",
    "    1 == sp.expand(\n",
    "        mms.sphere_integral(\n",
    "            vsf_expr.subs(\n",
    "                'Delta', \n",
    "                mms.dot(\n",
    "                    mms.vec_om, \n",
    "                    mms.vec_omp)\n",
    "            ), \n",
    "            angle=mms.angle\n",
    "        )\n",
    "    )\n",
    ")"
   ]
  },
  {
   "cell_type": "markdown",
   "metadata": {},
   "source": [
    "## Check source term\n",
    "\n",
    "If source term appears nonzero, try substituting parameters,\n",
    "then plugging in analytical solution.\n",
    "\n",
    "The result should be 0."
   ]
  },
  {
   "cell_type": "code",
   "execution_count": 28,
   "metadata": {},
   "outputs": [
    {
     "data": {
      "image/png": "[encoded data removed]",
      "text/latex": [
       "$$- \\frac{1.0 \\left(- 3.46944695195361 \\cdot 10^{-17} z^{2} \\sin{\\left (2 \\pi x \\right )} - 3.46944695195361 \\cdot 10^{-17} z^{2} \\sin{\\left (2 \\pi y \\right )} + 5.10702591327572 \\cdot 10^{-15} \\pi z \\sin{\\left (2 \\pi x \\right )} \\sin{\\left (\\phi + \\theta \\right )} \\tanh^{2}{\\left (1.5 z - 1.5 \\right )} - 3.21964677141295 \\cdot 10^{-15} \\pi z \\sin{\\left (2 \\pi x \\right )} \\sin{\\left (\\phi + \\theta \\right )} + 5.10702591327572 \\cdot 10^{-15} \\pi z \\sin{\\left (2 \\pi x \\right )} \\tanh^{2}{\\left (1.5 z - 1.5 \\right )} + 3.83301513092776 \\cdot 10^{-17} z \\sin{\\left (2 \\pi x \\right )} \\tanh{\\left (1.5 z - 1.5 \\right )} - 3.21964677141295 \\cdot 10^{-15} \\pi z \\sin{\\left (2 \\pi x \\right )} + 3.46944695195361 \\cdot 10^{-17} z \\sin{\\left (2 \\pi x \\right )} + 5.10702591327572 \\cdot 10^{-15} \\pi z \\sin{\\left (2 \\pi y \\right )} \\sin{\\left (\\phi + \\theta \\right )} \\tanh^{2}{\\left (1.5 z - 1.5 \\right )} - 3.21964677141295 \\cdot 10^{-15} \\pi z \\sin{\\left (2 \\pi y \\right )} \\sin{\\left (\\phi + \\theta \\right )} + 5.10702591327572 \\cdot 10^{-15} \\pi z \\sin{\\left (2 \\pi y \\right )} \\tanh^{2}{\\left (1.5 z - 1.5 \\right )} + 3.83301513092776 \\cdot 10^{-17} z \\sin{\\left (2 \\pi y \\right )} \\tanh{\\left (1.5 z - 1.5 \\right )} - 3.21964677141295 \\cdot 10^{-15} \\pi z \\sin{\\left (2 \\pi y \\right )} + 3.46944695195361 \\cdot 10^{-17} z \\sin{\\left (2 \\pi y \\right )} - 3.46944695195361 \\cdot 10^{-17} z + 5.10702591327572 \\cdot 10^{-15} \\pi \\sin{\\left (\\phi + \\theta \\right )} \\tanh^{2}{\\left (1.5 z - 1.5 \\right )} - 3.21964677141295 \\cdot 10^{-15} \\pi \\sin{\\left (\\phi + \\theta \\right )} + 5.10702591327572 \\cdot 10^{-15} \\pi \\tanh^{2}{\\left (1.5 z - 1.5 \\right )} + 3.83301513092776 \\cdot 10^{-17} \\tanh{\\left (1.5 z - 1.5 \\right )} - 3.21964677141295 \\cdot 10^{-15} \\pi + 3.46944695195361 \\cdot 10^{-17}\\right) \\cos{\\left (\\phi \\right )}}{\\pi}$$"
      ],
      "text/plain": [
       "     ⎛                        2                                    2          \n",
       "-1.0⋅⎝- 3.46944695195361e-17⋅z ⋅sin(2⋅π⋅x) - 3.46944695195361e-17⋅z ⋅sin(2⋅π⋅y\n",
       "──────────────────────────────────────────────────────────────────────────────\n",
       "                                                                              \n",
       "\n",
       "                                                       2                      \n",
       ") + 5.10702591327572e-15⋅π⋅z⋅sin(2⋅π⋅x)⋅sin(φ + θ)⋅tanh (1.5⋅z - 1.5) - 3.2196\n",
       "──────────────────────────────────────────────────────────────────────────────\n",
       "                                                                              \n",
       "\n",
       "                                                                              \n",
       "4677141295e-15⋅π⋅z⋅sin(2⋅π⋅x)⋅sin(φ + θ) + 5.10702591327572e-15⋅π⋅z⋅sin(2⋅π⋅x)\n",
       "──────────────────────────────────────────────────────────────────────────────\n",
       "                                                                              \n",
       "\n",
       "     2                                                                        \n",
       "⋅tanh (1.5⋅z - 1.5) + 3.83301513092776e-17⋅z⋅sin(2⋅π⋅x)⋅tanh(1.5⋅z - 1.5) - 3.\n",
       "──────────────────────────────────────────────────────────────────────────────\n",
       "                                                                              \n",
       "\n",
       "                                                                              \n",
       "21964677141295e-15⋅π⋅z⋅sin(2⋅π⋅x) + 3.46944695195361e-17⋅z⋅sin(2⋅π⋅x) + 5.1070\n",
       "──────────────────────────────────────────────────────────────────────────────\n",
       "                                                                              \n",
       "\n",
       "                                             2                                \n",
       "2591327572e-15⋅π⋅z⋅sin(2⋅π⋅y)⋅sin(φ + θ)⋅tanh (1.5⋅z - 1.5) - 3.21964677141295\n",
       "──────────────────────────────────────────────────────────────────────────────\n",
       "                                                                              \n",
       "\n",
       "                                                                         2    \n",
       "e-15⋅π⋅z⋅sin(2⋅π⋅y)⋅sin(φ + θ) + 5.10702591327572e-15⋅π⋅z⋅sin(2⋅π⋅y)⋅tanh (1.5\n",
       "──────────────────────────────────────────────────────────────────────────────\n",
       "  π                                                                           \n",
       "\n",
       "                                                                              \n",
       "⋅z - 1.5) + 3.83301513092776e-17⋅z⋅sin(2⋅π⋅y)⋅tanh(1.5⋅z - 1.5) - 3.2196467714\n",
       "──────────────────────────────────────────────────────────────────────────────\n",
       "                                                                              \n",
       "\n",
       "                                                                              \n",
       "1295e-15⋅π⋅z⋅sin(2⋅π⋅y) + 3.46944695195361e-17⋅z⋅sin(2⋅π⋅y) - 3.46944695195361\n",
       "──────────────────────────────────────────────────────────────────────────────\n",
       "                                                                              \n",
       "\n",
       "                                               2                              \n",
       "e-17⋅z + 5.10702591327572e-15⋅π⋅sin(φ + θ)⋅tanh (1.5⋅z - 1.5) - 3.219646771412\n",
       "──────────────────────────────────────────────────────────────────────────────\n",
       "                                                                              \n",
       "\n",
       "                                                 2                            \n",
       "95e-15⋅π⋅sin(φ + θ) + 5.10702591327572e-15⋅π⋅tanh (1.5⋅z - 1.5) + 3.8330151309\n",
       "──────────────────────────────────────────────────────────────────────────────\n",
       "                                                                              \n",
       "\n",
       "                                                                          ⎞   \n",
       "2776e-17⋅tanh(1.5⋅z - 1.5) - 3.21964677141295e-15⋅π + 3.46944695195361e-17⎠⋅co\n",
       "──────────────────────────────────────────────────────────────────────────────\n",
       "                                                                              \n",
       "\n",
       "     \n",
       "s(φ) \n",
       "─────\n",
       "     "
      ]
     },
     "execution_count": 28,
     "metadata": {},
     "output_type": "execute_result"
    }
   ],
   "source": [
    "diff = mms.check_sol(sol_sym, b, abs_sym, vsf_sym, source_sym)\n",
    "diff"
   ]
  },
  {
   "cell_type": "code",
   "execution_count": 29,
   "metadata": {},
   "outputs": [],
   "source": [
    "num_diff = sp.lambdify(\n",
    "    (*mms.space, *mms.angle),\n",
    "    diff,\n",
    "    modules=(\"numpy\",)\n",
    ")"
   ]
  },
  {
   "cell_type": "code",
   "execution_count": 30,
   "metadata": {},
   "outputs": [
    {
     "data": {
      "image/png": "[encoded data removed]",
      "text/latex": [
       "$$1.7387477908714252e-14$$"
      ],
      "text/plain": [
       "1.7387477908714252e-14"
      ]
     },
     "execution_count": 30,
     "metadata": {},
     "output_type": "execute_result"
    }
   ],
   "source": [
    "# Check numerical max on grid in case of numerical error in above expression\n",
    "np.max(num_diff(*mms.gen_grid(10, 10, 10, 10, 1, 1)))\n"
   ]
  },
  {
   "cell_type": "markdown",
   "metadata": {},
   "source": [
    "## Examine solution dervatives"
   ]
  },
  {
   "cell_type": "code",
   "execution_count": 31,
   "metadata": {},
   "outputs": [
    {
     "data": {
      "text/plain": [
       "{'x': 1.413505298329503,\n",
       " 'y': 1.413505298329503,\n",
       " 'z': 3.6258993880023818,\n",
       " 'theta': 0.41979790295292774,\n",
       " 'phi': 0.41979790295292774}"
      ]
     },
     "execution_count": 31,
     "metadata": {},
     "output_type": "execute_result"
    }
   ],
   "source": [
    "conv.max_derivs(sol_expr, rope_spacing, zmax, do_space=True, do_angle=True, **param_vals)"
   ]
  },
  {
   "cell_type": "code",
   "execution_count": 32,
   "metadata": {},
   "outputs": [
    {
     "data": {
      "text/plain": [
       "{'x': 5.975664329483112, 'y': 5.975664329483112, 'z': 0.9975041607715679}"
      ]
     },
     "execution_count": 32,
     "metadata": {},
     "output_type": "execute_result"
    }
   ],
   "source": [
    "conv.max_derivs(abs_expr, rope_spacing, zmax, do_space=True, do_angle=False, **param_vals)"
   ]
  },
  {
   "cell_type": "code",
   "execution_count": 33,
   "metadata": {},
   "outputs": [
    {
     "data": {
      "text/plain": [
       "{'x': 16.051404489899543,\n",
       " 'y': 14.757777825274077,\n",
       " 'z': 32.77080789466493,\n",
       " 'theta': 3.465582732419481,\n",
       " 'phi': 3.925048732767275}"
      ]
     },
     "execution_count": 33,
     "metadata": {},
     "output_type": "execute_result"
    }
   ],
   "source": [
    "conv.max_derivs(source_expr, rope_spacing, zmax, do_space=True, do_angle=True, **param_vals)"
   ]
  },
  {
   "cell_type": "markdown",
   "metadata": {},
   "source": [
    "## LaTeX output"
   ]
  },
  {
   "cell_type": "code",
   "execution_count": 35,
   "metadata": {},
   "outputs": [
    {
     "name": "stdout",
     "output_type": "stream",
     "text": [
      "\\alpha \\left(z \\left(\\sin{\\left (\\frac{2 \\pi x}{\\alpha} \\right )} + \\sin{\\left (\\frac{2 \\pi y}{\\alpha} \\right )}\\right) + 1\\right) \\left(\\sin{\\left (\\phi + \\theta \\right )} + 1\\right) \\left(- \\gamma + z + \\frac{\\tanh{\\left (\\left(b + 1\\right) \\left(\\gamma - z\\right) \\right )}}{\\tanh{\\left (\\gamma \\left(b + 1\\right) \\right )}}\\right)\n"
     ]
    }
   ],
   "source": [
    "sp.print_latex(sol_expr)"
   ]
  },
  {
   "cell_type": "code",
   "execution_count": 36,
   "metadata": {},
   "outputs": [
    {
     "name": "stdout",
     "output_type": "stream",
     "text": [
      "\\sin{\\left (\\frac{2 \\pi x}{\\alpha} \\right )} + \\sin{\\left (\\frac{2 \\pi y}{\\alpha} \\right )} + \\tanh{\\left (- \\gamma + z \\right )} + 5\n"
     ]
    }
   ],
   "source": [
    "sp.print_latex(abs_expr)"
   ]
  },
  {
   "cell_type": "code",
   "execution_count": 37,
   "metadata": {},
   "outputs": [
    {
     "name": "stdout",
     "output_type": "stream",
     "text": [
      "\\frac{\\Delta + 1}{4 \\pi}\n"
     ]
    }
   ],
   "source": [
    "sp.print_latex(vsf_expr)"
   ]
  },
  {
   "cell_type": "code",
   "execution_count": null,
   "metadata": {},
   "outputs": [],
   "source": [
    "sp.print_latex(source_expr)"
   ]
  },
  {
   "cell_type": "code",
   "execution_count": 39,
   "metadata": {},
   "outputs": [
    {
     "name": "stdout",
     "output_type": "stream",
     "text": [
      "\\alpha \\left(- \\gamma + 1\\right) \\left(\\sin{\\left (\\phi + \\theta \\right )} + 1\\right)\n"
     ]
    }
   ],
   "source": [
    "sp.print_latex(bc_expr)"
   ]
  },
  {
   "cell_type": "markdown",
   "metadata": {},
   "source": [
    "---\n",
    "\n",
    "# FD Verification"
   ]
  },
  {
   "cell_type": "markdown",
   "metadata": {},
   "source": [
    "## IPyParallel Setup"
   ]
  },
  {
   "cell_type": "code",
   "execution_count": 33,
   "metadata": {},
   "outputs": [
    {
     "name": "stdout",
     "output_type": "stream",
     "text": [
      "The history saving thread hit an unexpected error (OperationalError('database is locked',)).History will not be written to the database.\n",
      "[3, 4, 5]\n"
     ]
    }
   ],
   "source": [
    "#remote_config = kelp_param.ParamSpanRemoteConfig()\n",
    "ipc = ipp.Client()\n",
    "lv = ipc.load_balanced_view()\n",
    "dv = ipc.direct_view()\n",
    "print(ipc.ids)"
   ]
  },
  {
   "cell_type": "code",
   "execution_count": 34,
   "metadata": {},
   "outputs": [
    {
     "data": {
      "text/plain": [
       "{'unassigned': 0,\n",
       " 0: {'queue': 0, 'completed': 29, 'tasks': 0},\n",
       " 1: {'queue': 0, 'completed': 29, 'tasks': 0},\n",
       " 2: {'queue': 0, 'completed': 2, 'tasks': 0},\n",
       " 3: {'queue': 0, 'completed': 0, 'tasks': 0},\n",
       " 4: {'queue': 0, 'completed': 0, 'tasks': 0},\n",
       " 5: {'queue': 0, 'completed': 0, 'tasks': 0}}"
      ]
     },
     "execution_count": 34,
     "metadata": {},
     "output_type": "execute_result"
    }
   ],
   "source": [
    "ipc.queue_status()"
   ]
  },
  {
   "cell_type": "code",
   "execution_count": 35,
   "metadata": {},
   "outputs": [
    {
     "name": "stdout",
     "output_type": "stream",
     "text": [
      "hi\n"
     ]
    }
   ],
   "source": [
    "print(\"hi\")"
   ]
  },
  {
   "cell_type": "markdown",
   "metadata": {},
   "source": [
    "## Single Space"
   ]
  },
  {
   "cell_type": "markdown",
   "metadata": {},
   "source": [
    "### Compute"
   ]
  },
  {
   "cell_type": "code",
   "execution_count": null,
   "metadata": {
    "scrolled": true
   },
   "outputs": [],
   "source": [
    "base_dir = os.path.join(os.environ['SCRATCH'], 'kelp-results')\n",
    "# base_dir = '/home/oliver/academic/research/kelp-results'\n",
    "\n",
    "na = 8\n",
    "\n",
    "#ns_list = [4, 8, 16, 32, 64]\n",
    "ns_list = np.linspace(10, 100, 10).astype(int)\n",
    "#ns_list = [4, 8, 12, 16, 20]\n",
    "\n",
    "study_name = 'verify_fd_ss_{}x{}_nsm1'.format(max(ns_list), na)\n",
    "study_dir = os.path.join(base_dir, study_name)\n",
    "\n",
    "ntheta = na\n",
    "nphi = na\n",
    "\n",
    "# TODO: Don't actually delete results\n",
    "#shutil.rmtree(os.path.join(base_dir, study_name), ignore_errors=True)\n",
    "\n",
    "num_scatters = -1\n",
    "fd_flag = True\n",
    "num_threads = 32\n",
    "\n",
    "b = 0.5\n",
    "param_vals['b'] = 0.5\n",
    "\n",
    "combine_thread, gs_fut = kelp_compute.verify_single_space_compute(\n",
    "    study_name, \n",
    "    ns_list, ntheta, nphi, \n",
    "    rope_spacing, zmax, b, \n",
    "    sol_expr, abs_expr, source_expr, bc_expr, vsf_expr,\n",
    "    num_scatters, num_threads, fd_flag,\n",
    "    param_vals, base_dir=base_dir)"
   ]
  },
  {
   "cell_type": "markdown",
   "metadata": {},
   "source": [
    "### Plot"
   ]
  },
  {
   "cell_type": "code",
   "execution_count": 204,
   "metadata": {},
   "outputs": [],
   "source": [
    "base_dir = os.path.join(os.environ['SCRATCH'], 'kelp-results')\n",
    "study_name = 'verify_fd_ss_64x8'\n",
    "study_dir = os.path.join(base_dir, study_name)\n",
    "\n",
    "db_path = os.path.join(study_dir, '{}.db'.format(study_name))\n",
    "conn = sqlite3.Connection(db_path)"
   ]
  },
  {
   "cell_type": "code",
   "execution_count": 207,
   "metadata": {},
   "outputs": [
    {
     "data": {
      "text/plain": [
       "array([  0,   0,   2,  22, 594])"
      ]
     },
     "execution_count": 207,
     "metadata": {},
     "output_type": "execute_result"
    }
   ],
   "source": [
    "compute_time_arr"
   ]
  },
  {
   "cell_type": "code",
   "execution_count": 210,
   "metadata": {},
   "outputs": [
    {
     "data": {
      "image/png": "[encoded data removed]",
      "text/plain": [
       "<Figure size 432x288 with 1 Axes>"
      ]
     },
     "metadata": {
      "needs_background": "light"
     },
     "output_type": "display_data"
    },
    {
     "data": {
      "image/png": "[encoded data removed]",
      "text/plain": [
       "<Figure size 432x288 with 1 Axes>"
      ]
     },
     "metadata": {
      "needs_background": "light"
     },
     "output_type": "display_data"
    }
   ],
   "source": [
    "#norm = lambda x: np.linalg.norm(np.ravel(x), ord=2)\n",
    "#norm = lambda x: np.sqrt(np.sum(x)**2/np.size(x))\n",
    "norm = lambda x: np.mean(np.abs(x))\n",
    "\n",
    "dim_names = ('ns', 'nz', 'ntheta', 'nphi')\n",
    "dim_resolutions = kelp_analyze.get_res_lists(conn, study_name)\n",
    "dim_dict = dict(zip(dim_names, dim_resolutions))\n",
    "\n",
    "ns_list = dim_dict['ns']\n",
    "\n",
    "compute_time_arr = np.zeros_like(ns_list)\n",
    "err_dict = {}\n",
    "for i, ns in enumerate(ns_list):\n",
    "    results_list = kelp_analyze.query_results(\n",
    "        conn, study_name, base_dir,\n",
    "        ns=ns,\n",
    "        nz=ns,\n",
    "    )\n",
    "    compute_time = results_list[0]['compute_time'][:]\n",
    "    compute_time_arr[i] = compute_time\n",
    "\n",
    "    rad = results_list[0]['rad'][:]\n",
    "    true_rad = results_list[0]['true_rad'][:]\n",
    "\n",
    "    err = norm(rad - true_rad)\n",
    "    err_dict[ns] = err\n",
    "\n",
    "res_arr = rope_spacing / np.array(ns_list)\n",
    "err_arr = np.array([err_dict[ns] for ns in ns_list])\n",
    "\n",
    "m, b = conv.lin_fit(\n",
    "    np.log(res_arr), np.log(err_arr), \n",
    "    min(np.log(res_arr))+.1, max(np.log(res_arr))\n",
    ")\n",
    "\n",
    "plt.figure(figsize=(6,4))\n",
    "plt.loglog(res_arr, err_arr, 'o-', label='FD MMS: m={:.2f}'.format(m))\n",
    "plt.xlabel(r'$ds$')\n",
    "plt.ylabel('$l_1$ error')\n",
    "plt.legend()\n",
    "plt.tight_layout()\n",
    "plt.savefig(\"/scratch/kelp-figures/fd_mms.pdf\")\n",
    "\n",
    "m, b = conv.lin_fit(\n",
    "    np.log(res_arr[2:]), np.log(compute_time_arr[2:]), \n",
    "    min(np.log(res_arr))+.1, max(np.log(res_arr))\n",
    ")\n",
    "\n",
    "plt.figure(figsize=(6,4))\n",
    "plt.loglog(res_arr[2:], compute_time_arr[2:], 'o-', label='FD MMS: m={:.2f}'.format(m))\n",
    "plt.xlabel(r'$ds$')\n",
    "plt.ylabel('compute time, 32 threads (s)')\n",
    "plt.legend()\n",
    "plt.tight_layout()\n",
    "plt.savefig(\"/scratch/kelp-figures/fd_mms_time.pdf\")"
   ]
  },
  {
   "cell_type": "markdown",
   "metadata": {},
   "source": [
    "## Multi-dimensional FD"
   ]
  },
  {
   "cell_type": "markdown",
   "metadata": {},
   "source": [
    "### Compute"
   ]
  },
  {
   "cell_type": "markdown",
   "metadata": {},
   "source": [
    "### Plot"
   ]
  },
  {
   "cell_type": "code",
   "execution_count": null,
   "metadata": {},
   "outputs": [],
   "source": [
    "#norm = lambda x: np.linalg.norm(np.ravel(x), ord=2)\n",
    "#norm = lambda x: np.sqrt(np.sum(x)**2/np.size(x))\n",
    "norm = lambda x: np.mean(np.abs(x))\n",
    "\n",
    "dim_names = ('ns', 'nz', 'ntheta', 'nphi')\n",
    "dim_resolutions = kelp_analyze.get_res_lists(conn, study_name)\n",
    "max_res_list = list(map(\n",
    "    max,\n",
    "    dim_resolutions\n",
    "))\n",
    "max_res_dict = {\n",
    "    name: max_res\n",
    "    for name, max_res in zip(dim_names, max_res_list)\n",
    "}\n",
    "dim_dict = dict(zip(dim_names, dim_resolutions))\n",
    "\n",
    "# Loop over dimensions\n",
    "for dim_num, dim_name in enumerate(dim_names):\n",
    "    # List of resolutions in the current dimension\n",
    "    current_dim = dim_dict[dim_name]\n",
    "    \n",
    "    print(dim_name)\n",
    "    err_dict = {}\n",
    "    for n in current_dim:\n",
    "        all_dims = {**max_res_dict, **{dim_name: n}}\n",
    "        results_list = kelp_analyze.query_results(\n",
    "            conn, study_name, \n",
    "            **all_dims\n",
    "        )\n",
    "\n",
    "        rad = results_list[0]['rad'][:]\n",
    "        true_rad = results_list[0]['true_rad'][:]\n",
    "\n",
    "        err = norm(rad - true_rad)\n",
    "        err_dict[n] = err\n",
    "\n",
    "    res_arr = rope_spacing / np.array(current_dim)\n",
    "    err_arr = np.array([err_dict[n] for n in current_dim])\n",
    "\n",
    "    conv.plot_lin_fit(\n",
    "        np.log(res_arr), np.log(err_arr), \n",
    "        min(np.log(res_arr)), max(np.log(res_arr)), \n",
    "        xlabel='d'+dim_name[1:], ylabel='err'\n",
    "    )"
   ]
  },
  {
   "cell_type": "markdown",
   "metadata": {},
   "source": [
    "# Asymptotics Verification"
   ]
  },
  {
   "cell_type": "markdown",
   "metadata": {},
   "source": [
    "## Sourceless"
   ]
  },
  {
   "cell_type": "markdown",
   "metadata": {},
   "source": [
    "### 1D, Uniform abs."
   ]
  },
  {
   "cell_type": "markdown",
   "metadata": {},
   "source": [
    "#### Compute"
   ]
  },
  {
   "cell_type": "code",
   "execution_count": null,
   "metadata": {
    "scrolled": true
   },
   "outputs": [],
   "source": [
    "# base_dir = os.path.join(os.environ['SCRATCH'], 'kelp-results')\n",
    "base_dir = '/home/oliver/academic/research/kelp-results'\n",
    "\n",
    "nz = 20\n",
    "\n",
    "nz_list = [nz]\n",
    "\n",
    "study_name = 'verify_asym_noscat_1d_uniform_abs_{}'.format(nz)\n",
    "study_dir = os.path.join(base_dir, study_name)\n",
    "\n",
    "noscat_bc_expr = 1.0\n",
    "noscat_abs_expr = 1.0\n",
    "\n",
    "ntheta = na\n",
    "nphi = na\n",
    "\n",
    "# TODO: Don't actually delete results\n",
    "shutil.rmtree(os.path.join(base_dir, study_name), ignore_errors=True)\n",
    "\n",
    "combine_thread, gs_fut = kelp_compute.verify_asym_noscat_1d_compute(\n",
    "    study_name, \n",
    "    nz_list,\n",
    "    rope_spacing, zmax, \n",
    "    noscat_abs_expr, noscat_bc_expr,\n",
    "    param_vals, base_dir=base_dir\n",
    ")"
   ]
  },
  {
   "cell_type": "markdown",
   "metadata": {},
   "source": [
    "#### Plot"
   ]
  },
  {
   "cell_type": "code",
   "execution_count": null,
   "metadata": {},
   "outputs": [],
   "source": [
    "study_name = 'verify_asym_noscat_1d_uniform_abs_20'\n",
    "study_dir = os.path.join(base_dir, study_name)"
   ]
  },
  {
   "cell_type": "code",
   "execution_count": null,
   "metadata": {},
   "outputs": [],
   "source": [
    "db_path = os.path.join(study_dir, '{}.db'.format(study_name))\n",
    "conn = sqlite3.Connection(db_path)"
   ]
  },
  {
   "cell_type": "code",
   "execution_count": null,
   "metadata": {},
   "outputs": [],
   "source": [
    "#norm = lambda x: np.linalg.norm(np.ravel(x), ord=2)\n",
    "#norm = lambda x: np.sqrt(np.sum(x)**2/np.size(x))\n",
    "norm = lambda x: np.mean(np.abs(x))\n",
    "\n",
    "results_list = kelp_analyze.query_results(\n",
    "    conn, study_name,\n",
    ")\n",
    "\n",
    "results = results_list[0]\n",
    "rad = results['rad'][:][:,:,:,0]\n",
    "true_rad = results['true_rad'][:][:,:,:,0]\n",
    "\n",
    "avg_rad = np.mean(rad, axis=(0, 1))\n",
    "avg_true_rad = np.mean(true_rad, axis=(0, 1))\n",
    "\n",
    "err = norm(rad - true_rad)\n",
    "\n",
    "print(\"err = {:.2f}\".format(err))\n",
    "\n",
    "\n",
    "_, _, z, _, _ = mms.gen_grid(\n",
    "    *map(\n",
    "        lambda x: int(results[x][:].data),\n",
    "        ('ns', 'nz', 'ntheta', 'nphi', 'rope_spacing', 'zmax')\n",
    "    )\n",
    ")\n",
    "\n",
    "z = z[0,0,:,0]\n",
    "\n",
    "plt.plot(z, avg_rad, 'o-', label='approx.')\n",
    "plt.plot(z, avg_true_rad, 'o-', label='true')\n",
    "plt.legend()\n",
    "plt.xlabel('z')\n",
    "plt.ylabel('avg rad')"
   ]
  },
  {
   "cell_type": "markdown",
   "metadata": {},
   "source": [
    "### 1D, Non-uniform abs., increase nz"
   ]
  },
  {
   "cell_type": "markdown",
   "metadata": {},
   "source": [
    "#### Compute"
   ]
  },
  {
   "cell_type": "code",
   "execution_count": null,
   "metadata": {
    "scrolled": true
   },
   "outputs": [],
   "source": [
    "# base_dir = os.path.join(os.environ['SCRATCH'], 'kelp-results')\n",
    "base_dir = '/home/oliver/academic/research/kelp-results'\n",
    "\n",
    "nz_list = [4, 8, 12, 20, 40, 100]\n",
    "\n",
    "study_name = 'verify_asym_noscat_1d_variable_abs_{}'.format(max(nz_list))\n",
    "study_dir = os.path.join(base_dir, study_name)\n",
    "\n",
    "noscat_bc_expr = 1.0\n",
    "noscat_abs_expr = 2 + sp.sin(10*sp.Symbol('z'))\n",
    "\n",
    "ntheta = na\n",
    "nphi = na\n",
    "\n",
    "# TODO: Don't actually delete results\n",
    "#shutil.rmtree(os.path.join(base_dir, study_name), ignore_errors=True)\n",
    "\n",
    "combine_thread, gs_fut = kelp_compute.verify_asym_noscat_1d_compute(\n",
    "    study_name, \n",
    "    nz_list,\n",
    "    rope_spacing, zmax, \n",
    "    noscat_abs_expr, noscat_bc_expr,\n",
    "    param_vals, base_dir=base_dir\n",
    ")"
   ]
  },
  {
   "cell_type": "markdown",
   "metadata": {},
   "source": [
    "#### Plot"
   ]
  },
  {
   "cell_type": "code",
   "execution_count": null,
   "metadata": {},
   "outputs": [],
   "source": [
    "study_name = 'verify_asym_noscat_1d_variable_abs_100'\n",
    "study_dir = os.path.join(base_dir, study_name)\n",
    "\n",
    "db_path = os.path.join(study_dir, '{}.db'.format(study_name))\n",
    "conn = sqlite3.Connection(db_path)"
   ]
  },
  {
   "cell_type": "code",
   "execution_count": null,
   "metadata": {},
   "outputs": [],
   "source": [
    "#norm = lambda x: np.linalg.norm(np.ravel(x), ord=2)\n",
    "#norm = lambda x: np.sqrt(np.sum(x)**2/np.size(x))\n",
    "norm = lambda x: np.mean(np.abs(x))\n",
    "\n",
    "dim_names = ('ns', 'nz', 'ntheta', 'nphi')\n",
    "dim_resolutions = kelp_analyze.get_res_lists(conn, study_name)\n",
    "dim_dict = dict(zip(dim_names, dim_resolutions))\n",
    "\n",
    "nz_list = dim_dict['nz']\n",
    "\n",
    "err_dict = {}\n",
    "for nz in nz_list:\n",
    "    results_list = kelp_analyze.query_results(\n",
    "        conn, study_name,\n",
    "        nz=nz,\n",
    "    )\n",
    "\n",
    "    rad = results_list[0]['rad'][:,:,:,0]\n",
    "    true_rad = results_list[0]['true_rad'][:,:,:,0]\n",
    "\n",
    "    err = norm(rad - true_rad)\n",
    "    err_dict[nz] = err\n",
    "\n",
    "res_arr = zmax / np.array(nz_list)\n",
    "err_arr = np.array([err_dict[nz] for nz in nz_list])\n",
    "\n",
    "conv.plot_lin_fit(\n",
    "    np.log10(res_arr), np.log10(err_arr), \n",
    "    min(np.log10(res_arr)), max(np.log10(res_arr)), \n",
    "    xlabel='log10 dz', ylabel='log10 err'\n",
    ")\n"
   ]
  },
  {
   "cell_type": "markdown",
   "metadata": {},
   "source": [
    "## Full MMS"
   ]
  },
  {
   "cell_type": "markdown",
   "metadata": {},
   "source": [
    "### 3D, noscat., const. abs., source"
   ]
  },
  {
   "cell_type": "markdown",
   "metadata": {},
   "source": [
    "#### Compute"
   ]
  },
  {
   "cell_type": "code",
   "execution_count": null,
   "metadata": {
    "scrolled": true
   },
   "outputs": [],
   "source": [
    "base_dir = os.path.join(os.environ['SCRATCH'], 'kelp-results')\n",
    "# base_dir = '/home/oliver/academic/research/kelp-results'\n",
    "\n",
    "ns = 20\n",
    "nz = 20\n",
    "na = 6\n",
    "\n",
    "study_name = 'verify_ss_noscat_const_abs_scat_{}x{}x{}'.format(ns, nz, na)\n",
    "study_dir = os.path.join(base_dir, study_name)\n",
    "\n",
    "ns_list = [4, 8, 16, 32]\n",
    "#ns_list = [4, 8, 12, 16, 20]\n",
    "\n",
    "ntheta = na\n",
    "nphi = na\n",
    "\n",
    "sigma = 1\n",
    "a = 1\n",
    "\n",
    "# TODO: Don't actually delete results\n",
    "shutil.rmtree(os.path.join(base_dir, study_name), ignore_errors=True)\n",
    "\n",
    "b = 0\n",
    "param_vals['b'] = 0\n",
    "\n",
    "combine_thread, gs_fut = kelp_compute.verify_asym_noscat_const_abs_and_source_compute(\n",
    "    study_name, \n",
    "    ns, nz, ntheta, nphi, \n",
    "    a, sigma,\n",
    "    rope_spacing, zmax,\n",
    "    param_vals, base_dir=base_dir\n",
    ")"
   ]
  },
  {
   "cell_type": "markdown",
   "metadata": {},
   "source": [
    "#### Plot"
   ]
  },
  {
   "cell_type": "code",
   "execution_count": null,
   "metadata": {},
   "outputs": [],
   "source": [
    "study_name = 'verify_ss_noscat_const_abs_scat_20x20x6'\n",
    "study_dir = os.path.join(base_dir, study_name)\n",
    "\n",
    "db_path = os.path.join(study_dir, '{}.db'.format(study_name))\n",
    "conn = sqlite3.Connection(db_path)"
   ]
  },
  {
   "cell_type": "markdown",
   "metadata": {},
   "source": [
    "##### rad. vs. depth"
   ]
  },
  {
   "cell_type": "code",
   "execution_count": null,
   "metadata": {},
   "outputs": [],
   "source": [
    "#norm = lambda x: np.linalg.norm(np.ravel(x), ord=2)\n",
    "#norm = lambda x: np.sqrt(np.sum(x)**2/np.size(x))\n",
    "norm = lambda x: np.mean(np.abs(x))\n",
    "\n",
    "dim_names = ('ns', 'nz', 'ntheta', 'nphi')\n",
    "dim_resolutions = kelp_analyze.get_res_lists(conn, study_name)\n",
    "dim_dict = dict(zip(dim_names, dim_resolutions))\n",
    "\n",
    "ns_list = dim_dict['ns']\n",
    "\n",
    "plt.figure(1)\n",
    "plt.figure(2)\n",
    "\n",
    "results_list = kelp_analyze.query_results(\n",
    "    conn, study_name,\n",
    "    ns=ns,\n",
    ")\n",
    "\n",
    "results = results_list[0]\n",
    "nomega = results['nomega'][:]\n",
    "\n",
    "p = 0 #nomega - 1\n",
    "\n",
    "rad = results['rad'][:][:,:,:,p]\n",
    "true_rad = results['true_rad'][:][:,:,:,p]\n",
    "\n",
    "avg_rad = np.mean(rad, axis=(0, 1))\n",
    "avg_true_rad = np.mean(true_rad, axis=(0, 1))\n",
    "\n",
    "err = norm(rad - true_rad)\n",
    "\n",
    "print(\"err = {:.2f}\".format(err))\n",
    "\n",
    "\n",
    "_, _, z, _, _ = mms.gen_grid(\n",
    "    *map(\n",
    "        lambda x: int(results[x][:].data),\n",
    "        ('ns', 'nz', 'ntheta', 'nphi', 'rope_spacing', 'zmax')\n",
    "    )\n",
    ")\n",
    "\n",
    "z = z[0,0,:,0]\n",
    "\n",
    "plt.figure(1)\n",
    "plt.plot(z, avg_rad, 'o-', label='ns={}'.format(ns))\n",
    "\n",
    "plt.figure(2)\n",
    "plt.semilogy(z, np.abs(avg_rad - avg_true_rad), 'o-', label='ns={}'.format(ns))\n",
    "\n",
    "plt.figure(1)\n",
    "plt.plot(z, avg_true_rad, 'o-', label='true')\n",
    "plt.legend()\n",
    "plt.xlabel('z')\n",
    "plt.ylabel('avg rad')\n",
    "\n",
    "plt.figure(2)\n",
    "plt.legend()\n",
    "plt.xlabel('z')\n",
    "plt.ylabel('|avg rad - true|')"
   ]
  },
  {
   "cell_type": "markdown",
   "metadata": {},
   "source": [
    "#### Plot"
   ]
  },
  {
   "cell_type": "code",
   "execution_count": null,
   "metadata": {},
   "outputs": [],
   "source": [
    "study_name = 'verify_ss_noscat_const_abs_scat_20x20x6'\n",
    "study_dir = os.path.join(base_dir, study_name)\n",
    "\n",
    "db_path = os.path.join(study_dir, '{}.db'.format(study_name))\n",
    "conn = sqlite3.Connection(db_path)"
   ]
  },
  {
   "cell_type": "markdown",
   "metadata": {},
   "source": [
    "##### rad. vs. depth"
   ]
  },
  {
   "cell_type": "code",
   "execution_count": null,
   "metadata": {},
   "outputs": [],
   "source": [
    "#norm = lambda x: np.linalg.norm(np.ravel(x), ord=2)\n",
    "#norm = lambda x: np.sqrt(np.sum(x)**2/np.size(x))\n",
    "norm = lambda x: np.mean(np.abs(x))\n",
    "\n",
    "dim_names = ('ns', 'nz', 'ntheta', 'nphi')\n",
    "dim_resolutions = kelp_analyze.get_res_lists(conn, study_name)\n",
    "dim_dict = dict(zip(dim_names, dim_resolutions))\n",
    "\n",
    "ns_list = dim_dict['ns']\n",
    "\n",
    "plt.figure(1)\n",
    "plt.figure(2)\n",
    "\n",
    "results_list = kelp_analyze.query_results(\n",
    "    conn, study_name,\n",
    "    ns=ns,\n",
    ")\n",
    "\n",
    "results = results_list[0]\n",
    "nomega = results['nomega'][:]\n",
    "\n",
    "p = 0 #nomega - 1\n",
    "\n",
    "rad = results['rad'][:][:,:,:,p]\n",
    "true_rad = results['true_rad'][:][:,:,:,p]\n",
    "\n",
    "avg_rad = np.mean(rad, axis=(0, 1))\n",
    "avg_true_rad = np.mean(true_rad, axis=(0, 1))\n",
    "\n",
    "err = norm(rad - true_rad)\n",
    "\n",
    "print(\"err = {:.2f}\".format(err))\n",
    "\n",
    "\n",
    "_, _, z, _, _ = mms.gen_grid(\n",
    "    *map(\n",
    "        lambda x: int(results[x][:].data),\n",
    "        ('ns', 'nz', 'ntheta', 'nphi', 'rope_spacing', 'zmax')\n",
    "    )\n",
    ")\n",
    "\n",
    "z = z[0,0,:,0]\n",
    "\n",
    "plt.figure(1)\n",
    "plt.plot(z, avg_rad, 'o-', label='ns={}'.format(ns))\n",
    "\n",
    "plt.figure(2)\n",
    "plt.semilogy(z, np.abs(avg_rad - avg_true_rad), 'o-', label='ns={}'.format(ns))\n",
    "\n",
    "plt.figure(1)\n",
    "plt.plot(z, avg_true_rad, 'o-', label='true')\n",
    "plt.legend()\n",
    "plt.xlabel('z')\n",
    "plt.ylabel('avg rad')\n",
    "\n",
    "plt.figure(2)\n",
    "plt.legend()\n",
    "plt.xlabel('z')\n",
    "plt.ylabel('|avg rad - true|')"
   ]
  },
  {
   "cell_type": "markdown",
   "metadata": {},
   "source": [
    "### 3D, ss. conv., noscat., no bc., sym. soln."
   ]
  },
  {
   "cell_type": "markdown",
   "metadata": {},
   "source": [
    "#### Compute"
   ]
  },
  {
   "cell_type": "code",
   "execution_count": null,
   "metadata": {
    "scrolled": true
   },
   "outputs": [],
   "source": [
    "# base_dir = os.path.join(os.environ['SCRATCH'], 'kelp-results')\n",
    "base_dir = '/home/oliver/academic/research/kelp-results'\n",
    "\n",
    "na = 8\n",
    "\n",
    "study_name = 'verify_ss_asym_noscat_nobc_const_abs_pp_source_32x{}'.format(na)\n",
    "study_dir = os.path.join(base_dir, study_name)\n",
    "\n",
    "#ns_list = [10]\n",
    "ns_list = [4, 8, 16, 32]\n",
    "#ns_list = [4, 8, 12, 16, 20]\n",
    "\n",
    "ntheta = na\n",
    "nphi = na\n",
    "\n",
    "# TODO: Don't actually delete results\n",
    "shutil.rmtree(os.path.join(base_dir, study_name), ignore_errors=True)\n",
    "\n",
    "num_scatters = 0\n",
    "fd_flag = False\n",
    "\n",
    "param_vals['b'] = 0\n",
    "bc_expr = 0\n",
    "\n",
    "asym_abs_expr = 1 #+ sum(mms.space)\n",
    "asym_source_expr = 1 + sp.sin(2*sp.pi * sp.Symbol('z')) #+ sum((*mms.space, *mms.angle))\n",
    "\n",
    "combine_thread, gs_fut = kelp_compute.verify_ss_asym_noscat_compute(\n",
    "    study_name, \n",
    "    ns_list, ntheta, nphi, \n",
    "    asym_abs_expr, asym_source_expr, bc_expr,\n",
    "    rope_spacing, zmax,\n",
    "    param_vals, base_dir=base_dir\n",
    ")"
   ]
  },
  {
   "cell_type": "markdown",
   "metadata": {},
   "source": [
    "#### Plot"
   ]
  },
  {
   "cell_type": "code",
   "execution_count": null,
   "metadata": {},
   "outputs": [],
   "source": [
    "study_name = 'verify_ss_asym_noscat_nobc_const_abs_pp_source_32x8'\n",
    "study_dir = os.path.join(base_dir, study_name)\n",
    "\n",
    "db_path = os.path.join(study_dir, '{}.db'.format(study_name))\n",
    "conn = sqlite3.Connection(db_path)"
   ]
  },
  {
   "cell_type": "markdown",
   "metadata": {},
   "source": [
    "##### rad. vs. depth"
   ]
  },
  {
   "cell_type": "code",
   "execution_count": null,
   "metadata": {},
   "outputs": [],
   "source": [
    "#norm = lambda x: np.linalg.norm(np.ravel(x), ord=2)\n",
    "#norm = lambda x: np.sqrt(np.sum(x)**2/np.size(x))\n",
    "norm = lambda x: np.mean(np.abs(x))\n",
    "\n",
    "dim_names = ('ns', 'nz', 'ntheta', 'nphi')\n",
    "dim_resolutions = kelp_analyze.get_res_lists(conn, study_name)\n",
    "dim_dict = dict(zip(dim_names, dim_resolutions))\n",
    "\n",
    "ns_list = dim_dict['ns']\n",
    "\n",
    "plt.figure(1)\n",
    "plt.figure(2)\n",
    "\n",
    "for ns in ns_list:\n",
    "    results_list = kelp_analyze.query_results(\n",
    "        conn, study_name,\n",
    "        ns=ns,\n",
    "    )\n",
    "    results = results_list[0]\n",
    "    \n",
    "    nomega = results['nomega'][:]\n",
    "    \n",
    "    p = nomega - 1\n",
    "\n",
    "    rad = results['rad'][:][:,:,:,p]\n",
    "    true_rad = results['true_rad'][:][:,:,:,p]\n",
    "\n",
    "    avg_rad = np.mean(rad, axis=(0, 1))\n",
    "    avg_true_rad = np.mean(true_rad, axis=(0, 1))\n",
    "\n",
    "    err = norm(rad - true_rad)\n",
    "\n",
    "    print(\"err = {:.2f}\".format(err))\n",
    "\n",
    "\n",
    "    _, _, z, _, _ = mms.gen_grid(\n",
    "        *map(\n",
    "            lambda x: int(results[x][:].data),\n",
    "            ('ns', 'nz', 'ntheta', 'nphi', 'rope_spacing', 'zmax')\n",
    "        )\n",
    "    )\n",
    "\n",
    "    z = z[0,0,:,0]\n",
    "\n",
    "    plt.figure(1)\n",
    "    plt.plot(z, avg_rad, 'o-', label='ns={}'.format(ns))\n",
    "    \n",
    "    plt.figure(2)\n",
    "    plt.semilogy(z, np.abs(avg_rad - avg_true_rad), 'o-', label='ns={}'.format(ns))\n",
    "\n",
    "plt.figure(1)\n",
    "plt.plot(z, avg_true_rad, 'o-', label='true')\n",
    "plt.legend()\n",
    "plt.xlabel('z')\n",
    "plt.ylabel('avg rad')\n",
    "\n",
    "plt.figure(2)\n",
    "plt.legend()\n",
    "plt.xlabel('z')\n",
    "plt.ylabel('|avg rad - true|')"
   ]
  },
  {
   "cell_type": "markdown",
   "metadata": {},
   "source": [
    "##### err. vs. ds"
   ]
  },
  {
   "cell_type": "code",
   "execution_count": null,
   "metadata": {},
   "outputs": [],
   "source": [
    "#norm = lambda x: np.linalg.norm(np.ravel(x), ord=2)\n",
    "#norm = lambda x: np.sqrt(np.sum(x)**2/np.size(x))\n",
    "norm = lambda x: np.mean(np.abs(x))\n",
    "\n",
    "dim_names = ('ns', 'nz', 'ntheta', 'nphi')\n",
    "dim_resolutions = kelp_analyze.get_res_lists(conn, study_name)\n",
    "dim_dict = dict(zip(dim_names, dim_resolutions))\n",
    "\n",
    "ns_list = dim_dict['ns']\n",
    "\n",
    "err_dict = {}\n",
    "for ns in ns_list:\n",
    "    results_list = kelp_analyze.query_results(\n",
    "        conn, study_name,\n",
    "        ns=ns,\n",
    "    )\n",
    "\n",
    "    rad = results_list[0]['rad'][:]\n",
    "    true_rad = results_list[0]['true_rad'][:]\n",
    "\n",
    "    err = norm(rad - true_rad)\n",
    "    err_dict[ns] = err\n",
    "\n",
    "res_arr = rope_spacing / np.array(ns_list)\n",
    "err_arr = np.array([err_dict[ns] for ns in ns_list])\n",
    "\n",
    "conv.plot_lin_fit(\n",
    "    np.log10(res_arr), np.log10(err_arr), \n",
    "    min(np.log10(res_arr)), max(np.log10(res_arr)), \n",
    "    xlabel='log10 ds', ylabel='log10 err'\n",
    ")"
   ]
  },
  {
   "cell_type": "markdown",
   "metadata": {},
   "source": [
    "### 3D, ss. conv., noscat."
   ]
  },
  {
   "cell_type": "markdown",
   "metadata": {},
   "source": [
    "#### Compute"
   ]
  },
  {
   "cell_type": "code",
   "execution_count": null,
   "metadata": {},
   "outputs": [],
   "source": [
    "print(gs_fut[0].stdout)"
   ]
  },
  {
   "cell_type": "code",
   "execution_count": 382,
   "metadata": {
    "scrolled": true
   },
   "outputs": [
    {
     "name": "stderr",
     "output_type": "stream",
     "text": [
      "/home/jovyan/scratch/kelp/code/python/kelp_compute.py:32: UserWarning: matplotlib.pyplot as already been imported, this call will have no effect.\n",
      "  matplotlib.use('Agg')\n"
     ]
    },
    {
     "ename": "TimeoutError",
     "evalue": "Hub connection request timed out",
     "output_type": "error",
     "traceback": [
      "\u001b[0;31m---------------------------------------------------------------------------\u001b[0m",
      "\u001b[0;31mTimeoutError\u001b[0m                              Traceback (most recent call last)",
      "\u001b[0;32m<ipython-input-382-0d8a1ee79e2b>\u001b[0m in \u001b[0;36m<module>\u001b[0;34m()\u001b[0m\n\u001b[1;32m     28\u001b[0m     \u001b[0msol_expr\u001b[0m\u001b[0;34m,\u001b[0m \u001b[0mabs_expr\u001b[0m\u001b[0;34m,\u001b[0m \u001b[0msource_expr\u001b[0m\u001b[0;34m,\u001b[0m \u001b[0mbc_expr\u001b[0m\u001b[0;34m,\u001b[0m \u001b[0mvsf_expr\u001b[0m\u001b[0;34m,\u001b[0m\u001b[0;34m\u001b[0m\u001b[0m\n\u001b[1;32m     29\u001b[0m     \u001b[0mnum_scatters\u001b[0m\u001b[0;34m,\u001b[0m \u001b[0mnum_threads\u001b[0m\u001b[0;34m,\u001b[0m \u001b[0mfd_flag\u001b[0m\u001b[0;34m,\u001b[0m\u001b[0;34m\u001b[0m\u001b[0m\n\u001b[0;32m---> 30\u001b[0;31m     param_vals, base_dir=base_dir)\n\u001b[0m",
      "\u001b[0;32m~/scratch/kelp/code/python/run_utils.py\u001b[0m in \u001b[0;36mwrapper\u001b[0;34m(study_name, base_dir, executor, *study_args, **study_kwargs)\u001b[0m\n\u001b[1;32m    494\u001b[0m         \u001b[0mstudy_dir\u001b[0m \u001b[0;34m=\u001b[0m \u001b[0mos\u001b[0m\u001b[0;34m.\u001b[0m\u001b[0mpath\u001b[0m\u001b[0;34m.\u001b[0m\u001b[0mjoin\u001b[0m\u001b[0;34m(\u001b[0m\u001b[0mbase_dir\u001b[0m\u001b[0;34m,\u001b[0m \u001b[0mstudy_name\u001b[0m\u001b[0;34m)\u001b[0m\u001b[0;34m\u001b[0m\u001b[0m\n\u001b[1;32m    495\u001b[0m         \u001b[0;32mif\u001b[0m \u001b[0;32mnot\u001b[0m \u001b[0mexecutor\u001b[0m\u001b[0;34m:\u001b[0m\u001b[0;34m\u001b[0m\u001b[0m\n\u001b[0;32m--> 496\u001b[0;31m             \u001b[0mexecutor\u001b[0m \u001b[0;34m=\u001b[0m \u001b[0mipp\u001b[0m\u001b[0;34m.\u001b[0m\u001b[0mClient\u001b[0m\u001b[0;34m(\u001b[0m\u001b[0;34m)\u001b[0m\u001b[0;34m.\u001b[0m\u001b[0mload_balanced_view\u001b[0m\u001b[0;34m(\u001b[0m\u001b[0;34m)\u001b[0m\u001b[0;34m\u001b[0m\u001b[0m\n\u001b[0m\u001b[1;32m    497\u001b[0m \u001b[0;34m\u001b[0m\u001b[0m\n\u001b[1;32m    498\u001b[0m         \u001b[0mcreate_dirs\u001b[0m\u001b[0;34m(\u001b[0m\u001b[0mstudy_dir\u001b[0m\u001b[0;34m)\u001b[0m\u001b[0;34m\u001b[0m\u001b[0m\n",
      "\u001b[0;32m/opt/conda/lib/python3.6/site-packages/ipyparallel/client/client.py\u001b[0m in \u001b[0;36m__init__\u001b[0;34m(self, url_file, profile, profile_dir, ipython_dir, context, debug, sshserver, sshkey, password, paramiko, timeout, cluster_id, **extra_args)\u001b[0m\n\u001b[1;32m    510\u001b[0m \u001b[0;34m\u001b[0m\u001b[0m\n\u001b[1;32m    511\u001b[0m         \u001b[0;32mtry\u001b[0m\u001b[0;34m:\u001b[0m\u001b[0;34m\u001b[0m\u001b[0m\n\u001b[0;32m--> 512\u001b[0;31m             \u001b[0mself\u001b[0m\u001b[0;34m.\u001b[0m\u001b[0m_connect\u001b[0m\u001b[0;34m(\u001b[0m\u001b[0msshserver\u001b[0m\u001b[0;34m,\u001b[0m \u001b[0mssh_kwargs\u001b[0m\u001b[0;34m,\u001b[0m \u001b[0mtimeout\u001b[0m\u001b[0;34m)\u001b[0m\u001b[0;34m\u001b[0m\u001b[0m\n\u001b[0m\u001b[1;32m    513\u001b[0m         \u001b[0;32mexcept\u001b[0m\u001b[0;34m:\u001b[0m\u001b[0;34m\u001b[0m\u001b[0m\n\u001b[1;32m    514\u001b[0m             \u001b[0mself\u001b[0m\u001b[0;34m.\u001b[0m\u001b[0mclose\u001b[0m\u001b[0;34m(\u001b[0m\u001b[0mlinger\u001b[0m\u001b[0;34m=\u001b[0m\u001b[0;36m0\u001b[0m\u001b[0;34m)\u001b[0m\u001b[0;34m\u001b[0m\u001b[0m\n",
      "\u001b[0;32m/opt/conda/lib/python3.6/site-packages/ipyparallel/client/client.py\u001b[0m in \u001b[0;36m_connect\u001b[0;34m(self, sshserver, ssh_kwargs, timeout)\u001b[0m\n\u001b[1;32m    629\u001b[0m         \u001b[0mevts\u001b[0m \u001b[0;34m=\u001b[0m \u001b[0mpoller\u001b[0m\u001b[0;34m.\u001b[0m\u001b[0mpoll\u001b[0m\u001b[0;34m(\u001b[0m\u001b[0mtimeout\u001b[0m\u001b[0;34m*\u001b[0m\u001b[0;36m1000\u001b[0m\u001b[0;34m)\u001b[0m\u001b[0;34m\u001b[0m\u001b[0m\n\u001b[1;32m    630\u001b[0m         \u001b[0;32mif\u001b[0m \u001b[0;32mnot\u001b[0m \u001b[0mevts\u001b[0m\u001b[0;34m:\u001b[0m\u001b[0;34m\u001b[0m\u001b[0m\n\u001b[0;32m--> 631\u001b[0;31m             \u001b[0;32mraise\u001b[0m \u001b[0merror\u001b[0m\u001b[0;34m.\u001b[0m\u001b[0mTimeoutError\u001b[0m\u001b[0;34m(\u001b[0m\u001b[0;34m\"Hub connection request timed out\"\u001b[0m\u001b[0;34m)\u001b[0m\u001b[0;34m\u001b[0m\u001b[0m\n\u001b[0m\u001b[1;32m    632\u001b[0m         \u001b[0midents\u001b[0m\u001b[0;34m,\u001b[0m \u001b[0mmsg\u001b[0m \u001b[0;34m=\u001b[0m \u001b[0mself\u001b[0m\u001b[0;34m.\u001b[0m\u001b[0msession\u001b[0m\u001b[0;34m.\u001b[0m\u001b[0mrecv\u001b[0m\u001b[0;34m(\u001b[0m\u001b[0mself\u001b[0m\u001b[0;34m.\u001b[0m\u001b[0m_query_socket\u001b[0m\u001b[0;34m,\u001b[0m \u001b[0mmode\u001b[0m\u001b[0;34m=\u001b[0m\u001b[0;36m0\u001b[0m\u001b[0;34m)\u001b[0m\u001b[0;34m\u001b[0m\u001b[0m\n\u001b[1;32m    633\u001b[0m         \u001b[0;32mif\u001b[0m \u001b[0mself\u001b[0m\u001b[0;34m.\u001b[0m\u001b[0mdebug\u001b[0m\u001b[0;34m:\u001b[0m\u001b[0;34m\u001b[0m\u001b[0m\n",
      "\u001b[0;31mTimeoutError\u001b[0m: Hub connection request timed out"
     ]
    }
   ],
   "source": [
    "base_dir = os.path.join(os.environ['SCRATCH'], 'kelp-results')\n",
    "# base_dir = '/home/oliver/academic/research/kelp-results'\n",
    "\n",
    "na = 8\n",
    "ns_list = [4, 8, 16, 32, 64]\n",
    "num_threads = 32\n",
    "\n",
    "study_name = 'verify_ss_noscat_nofd_smallderiv_{}x{}'.format(max(ns_list), na)\n",
    "study_dir = os.path.join(base_dir, study_name)\n",
    "#ns_list = [4, 8, 12, 16, 20]\n",
    "\n",
    "ntheta = na\n",
    "nphi = na\n",
    "\n",
    "# TODO: Don't actually delete results\n",
    "shutil.rmtree(os.path.join(base_dir, study_name), ignore_errors=True)\n",
    "\n",
    "num_scatters = 0\n",
    "fd_flag = False\n",
    "\n",
    "b = 0\n",
    "param_vals['b'] = 0\n",
    "\n",
    "combine_thread, gs_fut = kelp_compute.verify_single_space_compute(\n",
    "    study_name, \n",
    "    ns_list, ntheta, nphi, \n",
    "    rope_spacing, zmax, b, \n",
    "    sol_expr, abs_expr, source_expr, bc_expr, vsf_expr,\n",
    "    num_scatters, num_threads, fd_flag,\n",
    "    param_vals, base_dir=base_dir)"
   ]
  },
  {
   "cell_type": "markdown",
   "metadata": {},
   "source": [
    "#### Plot"
   ]
  },
  {
   "cell_type": "code",
   "execution_count": 331,
   "metadata": {},
   "outputs": [],
   "source": [
    "study_name = 'verify_ss_noscat_nofd_smallderiv_64x8'\n",
    "study_dir = os.path.join(base_dir, study_name)\n",
    "\n",
    "db_path = os.path.join(study_dir, '{}.db'.format(study_name))\n",
    "conn = sqlite3.Connection(db_path)"
   ]
  },
  {
   "cell_type": "markdown",
   "metadata": {},
   "source": [
    "##### rad. vs. depth"
   ]
  },
  {
   "cell_type": "code",
   "execution_count": 332,
   "metadata": {},
   "outputs": [
    {
     "name": "stdout",
     "output_type": "stream",
     "text": [
      "err = 0.01\n",
      "err = 0.00\n",
      "err = 0.00\n",
      "err = 0.00\n",
      "err = 0.00\n"
     ]
    },
    {
     "data": {
      "text/plain": [
       "Text(0, 0.5, '|avg rad - true|')"
      ]
     },
     "execution_count": 332,
     "metadata": {},
     "output_type": "execute_result"
    },
    {
     "data": {
      "image/png": "[encoded data removed]",
      "text/plain": [
       "<Figure size 432x288 with 1 Axes>"
      ]
     },
     "metadata": {
      "needs_background": "light"
     },
     "output_type": "display_data"
    },
    {
     "data": {
      "image/png": "[encoded data removed]",
      "text/plain": [
       "<Figure size 432x288 with 1 Axes>"
      ]
     },
     "metadata": {
      "needs_background": "light"
     },
     "output_type": "display_data"
    }
   ],
   "source": [
    "#norm = lambda x: np.linalg.norm(np.ravel(x), ord=2)\n",
    "#norm = lambda x: np.sqrt(np.sum(x)**2/np.size(x))\n",
    "norm = lambda x: np.mean(np.abs(x))\n",
    "\n",
    "dim_names = ('ns', 'nz', 'ntheta', 'nphi')\n",
    "dim_resolutions = kelp_analyze.get_res_lists(conn, study_name)\n",
    "dim_dict = dict(zip(dim_names, dim_resolutions))\n",
    "\n",
    "ns_list = dim_dict['ns']\n",
    "\n",
    "plt.figure(1)\n",
    "plt.figure(2)\n",
    "\n",
    "for ns in ns_list:\n",
    "    results_list = kelp_analyze.query_results(\n",
    "        conn, study_name,\n",
    "        ns=ns,\n",
    "    )\n",
    "    \n",
    "    p = 13\n",
    "\n",
    "    results = results_list[0]\n",
    "    rad = results['rad'][:][:,:,:,p]\n",
    "    true_rad = results['true_rad'][:][:,:,:,p]\n",
    "\n",
    "    avg_rad = np.mean(rad, axis=(0, 1))\n",
    "    avg_true_rad = np.mean(true_rad, axis=(0, 1))\n",
    "\n",
    "    err = norm(rad - true_rad)\n",
    "\n",
    "    print(\"err = {:.2f}\".format(err))\n",
    "\n",
    "\n",
    "    _, _, z, _, _ = mms.gen_grid(\n",
    "        *map(\n",
    "            lambda x: int(results[x][:].data),\n",
    "            ('ns', 'nz', 'ntheta', 'nphi', 'rope_spacing', 'zmax')\n",
    "        )\n",
    "    )\n",
    "\n",
    "    z = z[0,0,:,0]\n",
    "\n",
    "    plt.figure(1)\n",
    "    plt.plot(z, avg_rad, 'o-', label='ns={}'.format(ns))\n",
    "    \n",
    "    plt.figure(2)\n",
    "    plt.semilogy(z, np.abs(avg_rad - avg_true_rad), 'o-', label='ns={}'.format(ns))\n",
    "\n",
    "plt.figure(1)\n",
    "plt.plot(z, avg_true_rad, 'o-', label='true')\n",
    "plt.legend()\n",
    "plt.xlabel('z')\n",
    "plt.ylabel('avg rad')\n",
    "\n",
    "plt.figure(2)\n",
    "plt.xlabel('z')\n",
    "plt.ylabel('|avg rad - true|')"
   ]
  },
  {
   "cell_type": "markdown",
   "metadata": {},
   "source": [
    "##### err. vs. ds"
   ]
  },
  {
   "cell_type": "code",
   "execution_count": 333,
   "metadata": {},
   "outputs": [
    {
     "data": {
      "image/png": "[encoded data removed]",
      "text/plain": [
       "<Figure size 432x288 with 1 Axes>"
      ]
     },
     "metadata": {
      "needs_background": "light"
     },
     "output_type": "display_data"
    }
   ],
   "source": [
    "#norm = lambda x: np.linalg.norm(np.ravel(x), ord=2)\n",
    "#norm = lambda x: np.sqrt(np.sum(x)**2/np.size(x))\n",
    "norm = lambda x: np.mean(np.abs(x))\n",
    "\n",
    "dim_names = ('ns', 'nz', 'ntheta', 'nphi')\n",
    "dim_resolutions = kelp_analyze.get_res_lists(conn, study_name)\n",
    "dim_dict = dict(zip(dim_names, dim_resolutions))\n",
    "\n",
    "ns_list = dim_dict['ns']\n",
    "\n",
    "err_dict = {}\n",
    "for i, ns in enumerate(ns_list):\n",
    "    results_list = kelp_analyze.query_results(\n",
    "        conn, study_name,\n",
    "        ns=ns,\n",
    "        nz=ns,\n",
    "    )\n",
    "\n",
    "    rad = results_list[0]['rad'][:]\n",
    "    true_rad = results_list[0]['true_rad'][:]\n",
    "    compute_time = results_list[0]['compute_time'][:]\n",
    "\n",
    "    err = norm(rad - true_rad)\n",
    "    err_dict[ns] = err\n",
    "\n",
    "res_arr = rope_spacing / np.array(ns_list)\n",
    "err_arr = np.array([err_dict[ns] for ns in ns_list])\n",
    "\n",
    "conv.plot_lin_fit(\n",
    "    np.log10(res_arr), np.log10(err_arr), \n",
    "    min(np.log10(res_arr)), max(np.log10(res_arr)), \n",
    "    xlabel='log10 ds', ylabel='log10 err'\n",
    ")"
   ]
  },
  {
   "cell_type": "markdown",
   "metadata": {},
   "source": [
    "### asym. conv. as $b \\to 0$"
   ]
  },
  {
   "cell_type": "markdown",
   "metadata": {},
   "source": [
    "#### Compute"
   ]
  },
  {
   "cell_type": "markdown",
   "metadata": {},
   "source": [
    "1D, looks good: verify_asym_uni_a_expb15_L_1x4000x2_scat_0_1_2_3_b_m15_m05 "
   ]
  },
  {
   "cell_type": "code",
   "execution_count": 29,
   "metadata": {
    "scrolled": true
   },
   "outputs": [
    {
     "name": "stdout",
     "output_type": "stream",
     "text": [
      "Appending existing study directory.\n",
      "Running asym.: (0.32,  0)\n",
      "Running asym.: (0.32,  1)\n",
      "Running asym.: (0.32,  2)\n",
      "Running asym.: (0.32,  3)\n",
      "Running asym.: (0.36,  0)\n",
      "Running asym.: (0.36,  1)\n",
      "Running asym.: (0.36,  2)\n",
      "Running asym.: (0.36,  3)\n",
      "Running asym.: (0.41,  0)\n",
      "Running asym.: (0.41,  1)\n",
      "Running asym.: (0.41,  2)\n",
      "Running asym.: (0.41,  3)\n",
      "Running asym.: (0.46,  0)\n",
      "Running asym.: (0.46,  1)\n",
      "Running asym.: (0.46,  2)\n",
      "Running asym.: (0.46,  3)\n",
      "Running asym.: (0.53,  0)\n",
      "Running asym.: (0.53,  1)\n",
      "Running asym.: (0.53,  2)\n",
      "Running asym.: (0.53,  3)\n",
      "Running asym.: (0.60,  0)\n",
      "Running asym.: (0.60,  1)\n",
      "Running asym.: (0.60,  2)\n",
      "Running asym.: (0.60,  3)\n",
      "Running asym.: (0.68,  0)\n",
      "Running asym.: (0.68,  1)\n",
      "Running asym.: (0.68,  2)\n",
      "Running asym.: (0.68,  3)\n",
      "Running asym.: (0.77,  0)\n",
      "Running asym.: (0.77,  1)\n",
      "Running asym.: (0.77,  2)\n",
      "Running asym.: (0.77,  3)\n",
      "Running asym.: (0.88,  0)\n",
      "Running asym.: (0.88,  1)\n",
      "Running asym.: (0.88,  2)\n",
      "Running asym.: (0.88,  3)\n",
      "Running asym.: (1.00,  0)\n",
      "Running asym.: (1.00,  1)\n",
      "Running asym.: (1.00,  2)\n",
      "Running asym.: (1.00,  3)\n",
      "Reading existing runs.\n"
     ]
    },
    {
     "ename": "KeyboardInterrupt",
     "evalue": "",
     "output_type": "error",
     "traceback": [
      "\u001b[0;31m---------------------------------------------------------------------------\u001b[0m",
      "\u001b[0;31mKeyboardInterrupt\u001b[0m                         Traceback (most recent call last)",
      "\u001b[0;32m<ipython-input-29-084db5937cdd>\u001b[0m in \u001b[0;36m<module>\u001b[0;34m()\u001b[0m\n\u001b[1;32m     26\u001b[0m     \u001b[0mrope_spacing\u001b[0m\u001b[0;34m,\u001b[0m \u001b[0mzmax\u001b[0m\u001b[0;34m,\u001b[0m\u001b[0;34m\u001b[0m\u001b[0m\n\u001b[1;32m     27\u001b[0m     \u001b[0msol_expr\u001b[0m\u001b[0;34m,\u001b[0m \u001b[0mabs_expr\u001b[0m\u001b[0;34m,\u001b[0m \u001b[0msource_expr\u001b[0m\u001b[0;34m,\u001b[0m \u001b[0mbc_expr\u001b[0m\u001b[0;34m,\u001b[0m \u001b[0mvsf_expr\u001b[0m\u001b[0;34m,\u001b[0m\u001b[0;34m\u001b[0m\u001b[0m\n\u001b[0;32m---> 28\u001b[0;31m     param_vals, do_fd=True, base_dir=base_dir)\n\u001b[0m",
      "\u001b[0;32m~/scratch/kelp/code/python/run_utils.py\u001b[0m in \u001b[0;36mwrapper\u001b[0;34m(study_name, base_dir, dry_run, verbose, executor, *study_args, **study_kwargs)\u001b[0m\n\u001b[1;32m    525\u001b[0m         \u001b[0;31m# every time, especially when there are lots of .dbs)\u001b[0m\u001b[0;34m\u001b[0m\u001b[0;34m\u001b[0m\u001b[0m\n\u001b[1;32m    526\u001b[0m         \u001b[0mprint\u001b[0m\u001b[0;34m(\u001b[0m\u001b[0;34m\"Reading existing runs.\"\u001b[0m\u001b[0;34m)\u001b[0m\u001b[0;34m\u001b[0m\u001b[0m\n\u001b[0;32m--> 527\u001b[0;31m         \u001b[0mcompleted_run_list\u001b[0m \u001b[0;34m=\u001b[0m \u001b[0mget_completed_run_list\u001b[0m\u001b[0;34m(\u001b[0m\u001b[0mstudy_dir\u001b[0m\u001b[0;34m)\u001b[0m\u001b[0;34m\u001b[0m\u001b[0m\n\u001b[0m\u001b[1;32m    528\u001b[0m         \u001b[0mprint\u001b[0m\u001b[0;34m(\u001b[0m\u001b[0;34m\"Finished reading existing runs.\"\u001b[0m\u001b[0;34m)\u001b[0m\u001b[0;34m\u001b[0m\u001b[0m\n\u001b[1;32m    529\u001b[0m \u001b[0;34m\u001b[0m\u001b[0m\n",
      "\u001b[0;32m~/scratch/kelp/code/python/run_utils.py\u001b[0m in \u001b[0;36mget_completed_run_list\u001b[0;34m(study_dir)\u001b[0m\n\u001b[1;32m    307\u001b[0m \u001b[0;34m\u001b[0m\u001b[0m\n\u001b[1;32m    308\u001b[0m         \u001b[0;31m# Open database\u001b[0m\u001b[0;34m\u001b[0m\u001b[0;34m\u001b[0m\u001b[0m\n\u001b[0;32m--> 309\u001b[0;31m         \u001b[0mconn\u001b[0m \u001b[0;34m=\u001b[0m \u001b[0msqlite3\u001b[0m\u001b[0;34m.\u001b[0m\u001b[0mconnect\u001b[0m\u001b[0;34m(\u001b[0m\u001b[0mdb_path\u001b[0m\u001b[0;34m)\u001b[0m\u001b[0;34m\u001b[0m\u001b[0m\n\u001b[0m\u001b[1;32m    310\u001b[0m         \u001b[0;31m# If db was created but table was not, this will fail\u001b[0m\u001b[0;34m\u001b[0m\u001b[0;34m\u001b[0m\u001b[0m\n\u001b[1;32m    311\u001b[0m         \u001b[0;32mtry\u001b[0m\u001b[0;34m:\u001b[0m\u001b[0;34m\u001b[0m\u001b[0m\n",
      "\u001b[0;31mKeyboardInterrupt\u001b[0m: "
     ]
    }
   ],
   "source": [
    "base_dir = os.path.join(os.environ['SCRATCH'], 'kelp-results')\n",
    "#base_dir = '/home/oliver/academic/research/kelp-results'\n",
    "\n",
    "ns = 64\n",
    "nz = 64\n",
    "na = 8\n",
    "\n",
    "num_threads = 32\n",
    "\n",
    "num_scatters_list = [0, 1, 2, 3]\n",
    "b_list = np.logspace(-0.5, 0, 10)\n",
    "\n",
    "study_name = 'mms_verify_asym_and_fd_prod_a_tanhb_L_lin_vsf_{}x{}x{}_scat_0_1_2_3_b_m05_0'.format(ns, nz, na)\n",
    "study_dir = os.path.join(base_dir, study_name)\n",
    "\n",
    "ntheta = na\n",
    "nphi = na\n",
    "\n",
    "# TODO: Don't actually delete results\n",
    "#shutil.rmtree(os.path.join(base_dir, study_name), ignore_errors=True)\n",
    "\n",
    "combine_thread, gs_fut = kelp_compute.mms_verify_asym_compute(\n",
    "    study_name, \n",
    "    b_list, num_scatters_list, num_threads,\n",
    "    ns, nz, ntheta, nphi, \n",
    "    rope_spacing, zmax, \n",
    "    sol_expr, abs_expr, source_expr, bc_expr, vsf_expr,\n",
    "    param_vals, do_fd=True, base_dir=base_dir)"
   ]
  },
  {
   "cell_type": "markdown",
   "metadata": {},
   "source": [
    "#### Plot"
   ]
  },
  {
   "cell_type": "code",
   "execution_count": 37,
   "metadata": {},
   "outputs": [],
   "source": [
    "base_dir = os.path.join(os.environ['SCRATCH'], 'kelp-results')\n",
    "#study_name = 'verify_asym_prod_a_tanhb_L_lin_vsf_64x64x8_scat_0_1_2_3_b_m05_2'\n",
    "#study_name = 'verify_asym_prod_a_tanhb_L_lin_vsf_smallderiv_64x64x8_scat_0_1_2_3_b_m05_0'\n",
    "#study_name = 'verify_asym_prod_a_tanhb_L_lin_vsf_128x128x8_scat_0_1_2_3_b_m05_0'\n",
    "#study_name = 'mms_verify_asym_and_fd_prod_a_tanhb_L_lin_vsf_32x32x18_scat_0_1_2_3_b_m05_0'\n",
    "study_name = 'mms_verify_asym_and_fd_prod_a_tanhb_L_lin_vsf_64x64x8_scat_0_1_2_3_b_m05_0'\n",
    "#study_name = 'mms_verify_asym_and_fd_prod_a_tanhb_L_lin_vsf_10x10x10_scat_0_1_2_3_b_m05_0'\n",
    "#study_name = 'verify_asym_uni_a_expb15_L_64x64x8_scat_0_1_2_3_b_m15_m05'\n",
    "study_dir = os.path.join(base_dir, study_name)"
   ]
  },
  {
   "cell_type": "code",
   "execution_count": 38,
   "metadata": {},
   "outputs": [],
   "source": [
    "db_path = os.path.join(study_dir, '{}.db'.format(study_name))\n",
    "conn = sqlite3.Connection(db_path)"
   ]
  },
  {
   "cell_type": "code",
   "execution_count": null,
   "metadata": {},
   "outputs": [],
   "source": []
  },
  {
   "cell_type": "code",
   "execution_count": 45,
   "metadata": {},
   "outputs": [
    {
     "data": {
      "text/plain": [
       "<Figure size 576x432 with 0 Axes>"
      ]
     },
     "metadata": {},
     "output_type": "display_data"
    }
   ],
   "source": [
    "#norm = lambda x: np.linalg.norm(np.ravel(x), ord=2)\n",
    "#norm = lambda x: np.sqrt(np.sum(x)**2/np.size(x))\n",
    "norm = lambda x: np.mean(np.abs(x))\n",
    "\n",
    "b_list, num_scatters_list, ns_list, nz_list, na_list = kelp_analyze.get_unique_vals(\n",
    "    conn, \n",
    "    study_name, \n",
    "    ['b', 'num_scatters', 'ns', 'nz', 'ntheta']\n",
    ")\n",
    "ns = ns_list[0]\n",
    "nz = nz_list[0]\n",
    "na = na_list[0]\n",
    "\n",
    "plt.figure(figsize=[8,6])\n",
    "\n",
    "b_arr = np.array(b_list)\n",
    "\n",
    "fd_err_arr = np.zeros([\n",
    "    len(b_list), \n",
    "    len(num_scatters_list), \n",
    "    #len(ns_list)\n",
    "])\n",
    "asym_err_arr = np.zeros([\n",
    "    len(b_list), \n",
    "    len(num_scatters_list), \n",
    "    #len(ns_list)\n",
    "])\n",
    "diff_err_arr = np.zeros([\n",
    "    len(b_list), \n",
    "    len(num_scatters_list), \n",
    "    #len(ns_list)\n",
    "])\n",
    "fd_time_arr = np.zeros([\n",
    "    len(b_list), \n",
    "    len(num_scatters_list), \n",
    "    #len(ns_list)\n",
    "])\n",
    "asym_time_arr = np.zeros([\n",
    "    len(b_list), \n",
    "    len(num_scatters_list), \n",
    "    #len(ns_list)\n",
    "])\n",
    "\n",
    "true_rad_list = []\n",
    "asym_rad_list = []\n",
    "fd_rad_list = []\n",
    "i_plot = 5\n",
    "for k, num_scatters in enumerate(num_scatters_list):\n",
    "    diff_err_list = []\n",
    "    asym_err_list = []\n",
    "    fd_err_list = []\n",
    "    for i, b in enumerate(b_list):\n",
    "        asym_results_list = kelp_analyze.query_results(\n",
    "            conn, study_name, base_dir,\n",
    "            b=b,\n",
    "            num_scatters=num_scatters,\n",
    "            fd_flag=False\n",
    "        )\n",
    "        \n",
    "        fd_results_list = kelp_analyze.query_results(\n",
    "            conn, study_name, base_dir,\n",
    "            b=b,\n",
    "            num_scatters=num_scatters,\n",
    "            fd_flag=True\n",
    "        )\n",
    "        \n",
    "        asym_rad = asym_results_list[0]['rad'][:]\n",
    "        true_rad = asym_results_list[0]['true_rad'][:]\n",
    "        fd_rad = fd_results_list[0]['rad'][:] \n",
    "\n",
    "        asym_err = norm(asym_rad - true_rad)\n",
    "        fd_err = norm(fd_rad - true_rad)\n",
    "        diff_err = norm(asym_rad - fd_rad)\n",
    "        # TODO: Use avg. irrad as scalar metric\n",
    "        #diff_sm_err = np.abs(asym_rad - fd_rad)\n",
    "        asym_err_list.append(asym_err)\n",
    "        fd_err_list.append(fd_err)\n",
    "        diff_err_list.append(diff_err)\n",
    "        \n",
    "        asym_time_arr[i, k] = asym_results_list[0]['compute_time'][:].data\n",
    "        fd_time_arr[i, k] = fd_results_list[0]['compute_time'][:].data\n",
    "        \n",
    "        if i == i_plot:\n",
    "            asym_rad_list.append(asym_rad)\n",
    "            fd_rad_list.append(fd_rad)\n",
    "            true_rad_list.append(true_rad)\n",
    "\n",
    "    fd_err_arr[:, k] = np.array(fd_err_list)[:]\n",
    "    asym_err_arr[:, k] = np.array(asym_err_list)[:]\n",
    "    diff_err_arr[:, k] = np.array(diff_err_list)[:]\n",
    "   "
   ]
  },
  {
   "cell_type": "markdown",
   "metadata": {},
   "source": [
    "# Error"
   ]
  },
  {
   "cell_type": "code",
   "execution_count": 199,
   "metadata": {},
   "outputs": [
    {
     "name": "stdout",
     "output_type": "stream",
     "text": [
      "asym_err arr 0: [0.03893699 0.04434166 0.05047631 0.05742475 0.06527302 0.07410587\n",
      " 0.08400186 0.09502668 0.10722488 0.12061028]\n",
      "fd_err arr 0: [4.20758104e-05 4.45506991e-05 4.74345246e-05 5.07976216e-05\n",
      " 5.47226074e-05 5.93049802e-05 6.46544507e-05 7.08965770e-05\n",
      " 7.81724810e-05 8.66402634e-05]\n",
      "diff_err arr 0: [0.03893967 0.04434461 0.05047956 0.05742835 0.06527702 0.07411035\n",
      " 0.08400689 0.09503233 0.10723124 0.12061746]\n",
      "asym_err arr 1: [0.00201018 0.00253906 0.00320565 0.00404567 0.00510407 0.00643834\n",
      " 0.00812271 0.01025677 0.01296472 0.01640386]\n",
      "fd_err arr 1: [4.20758104e-05 4.45506991e-05 4.74345246e-05 5.07976216e-05\n",
      " 5.47226074e-05 5.93049802e-05 6.46544507e-05 7.08965770e-05\n",
      " 7.81724810e-05 8.66402634e-05]\n",
      "diff_err arr 1: [0.00201733 0.00254658 0.00321365 0.00405427 0.00511343 0.00644866\n",
      " 0.00813416 0.0102693  0.01297889 0.01642011]\n",
      "asym_err arr 2: [0.0007567  0.00108999 0.00157231 0.00226775 0.00326655 0.0046947\n",
      " 0.00672673 0.00960206 0.01364569 0.01929279]\n",
      "fd_err arr 2: [4.20758104e-05 4.45506991e-05 4.74345246e-05 5.07976216e-05\n",
      " 5.47226074e-05 5.93049802e-05 6.46544507e-05 7.08965770e-05\n",
      " 7.81724810e-05 8.66402634e-05]\n",
      "diff_err arr 2: [0.00075949 0.00109146 0.00157251 0.00226684 0.00326465 0.00469195\n",
      " 0.00672312 0.00959756 0.01364026 0.01928637]\n",
      "asym_err arr 3: [0.00014503 0.00018445 0.00025112 0.00036292 0.00055016 0.00086391\n",
      " 0.00138974 0.00226951 0.00373885 0.00618627]\n",
      "fd_err arr 3: [4.20758104e-05 4.45506991e-05 4.74345246e-05 5.07976216e-05\n",
      " 5.47226074e-05 5.93049802e-05 6.46544507e-05 7.08965770e-05\n",
      " 7.81724810e-05 8.66402634e-05]\n",
      "diff_err arr 3: [0.00015611 0.00019498 0.00026091 0.00037195 0.00055851 0.00087165\n",
      " 0.00139706 0.00227662 0.00374606 0.0061939 ]\n"
     ]
    },
    {
     "data": {
      "text/plain": [
       "<matplotlib.legend.Legend at 0x7fae3394d320>"
      ]
     },
     "execution_count": 199,
     "metadata": {},
     "output_type": "execute_result"
    },
    {
     "data": {
      "image/png": "[encoded data removed]",
      "text/plain": [
       "<Figure size 432x288 with 1 Axes>"
      ]
     },
     "metadata": {
      "needs_background": "light"
     },
     "output_type": "display_data"
    },
    {
     "data": {
      "image/png": "[encoded data removed]",
      "text/plain": [
       "<Figure size 432x288 with 1 Axes>"
      ]
     },
     "metadata": {
      "needs_background": "light"
     },
     "output_type": "display_data"
    },
    {
     "data": {
      "image/png": "[encoded data removed]",
      "text/plain": [
       "<Figure size 432x288 with 1 Axes>"
      ]
     },
     "metadata": {
      "needs_background": "light"
     },
     "output_type": "display_data"
    }
   ],
   "source": [
    "for k, num_scatters in enumerate(num_scatters_list):\n",
    "    plt.figure(1, figsize=(6, 4))\n",
    "    plt.title(\"asym_err\")\n",
    "    print(\"asym_err arr {}: {}\".format(num_scatters, asym_err_arr[:, k]))\n",
    "    conv.plot_lin_fit(\n",
    "        np.log10(b_arr), np.log10(asym_err_arr[:, k]), \n",
    "        min(np.log(b_arr)), max(np.log(b_arr)), \n",
    "        xlabel='log10(b)', ylabel='log10(asym_err)',\n",
    "        label='n=%d, m={m:.2f}' % num_scatters\n",
    "    )\n",
    "    \n",
    "    plt.figure(2, figsize=(6,4))\n",
    "    plt.title(\"fd_err\")\n",
    "    print(\"fd_err arr {}: {}\".format(num_scatters, fd_err_arr[:, k]))\n",
    "    conv.plot_lin_fit(\n",
    "        np.log10(b_arr), np.log10(fd_err_arr[:, k]), \n",
    "        min(np.log(b_arr)), max(np.log(b_arr)), \n",
    "        xlabel='log10(b)', ylabel='log10(fd_err)',\n",
    "        label='n=%d, m={m:.2f}' % num_scatters\n",
    "    )\n",
    "    \n",
    "    plt.figure(3, figsize=(6, 4))\n",
    "    plt.title(\"diff_err\")\n",
    "    print(\"diff_err arr {}: {}\".format(num_scatters, diff_err_arr[:, k]))\n",
    "    conv.plot_lin_fit(\n",
    "        np.log10(b_arr), np.log10(diff_err_arr[:, k]), \n",
    "        min(np.log(b_arr)), max(np.log(b_arr)), \n",
    "        xlabel='log10(b)', ylabel='log10(diff_err)',\n",
    "        label='n=%d, m={m:.2f}' % num_scatters\n",
    "    )\n",
    "    \n",
    "plt.figure(1)\n",
    "plt.legend()\n",
    "plt.savefig('/scratch/kelp-figures/mms_asym_b_conv.pdf')\n",
    "plt.figure(2)\n",
    "plt.legend()\n",
    "plt.figure(3)\n",
    "plt.legend()"
   ]
  },
  {
   "cell_type": "markdown",
   "metadata": {
    "toc-hr-collapsed": true
   },
   "source": [
    "# Time"
   ]
  },
  {
   "cell_type": "code",
   "execution_count": 57,
   "metadata": {},
   "outputs": [],
   "source": [
    "from matplotlib import cm"
   ]
  },
  {
   "cell_type": "code",
   "execution_count": 67,
   "metadata": {},
   "outputs": [
    {
     "data": {
      "image/png": "[encoded data removed]",
      "text/latex": [
       "$$\\left ( 0.683758, \\quad 0.156278, \\quad 0.57166, \\quad 1.0\\right )$$"
      ],
      "text/plain": [
       "(0.683758, 0.156278, 0.57166, 1.0)"
      ]
     },
     "execution_count": 67,
     "metadata": {},
     "output_type": "execute_result"
    }
   ],
   "source": [
    "cm.plasma(100)"
   ]
  },
  {
   "cell_type": "code",
   "execution_count": 143,
   "metadata": {},
   "outputs": [
    {
     "data": {
      "image/png": "[encoded data removed]",
      "text/plain": [
       "<Figure size 432x288 with 1 Axes>"
      ]
     },
     "metadata": {
      "needs_background": "light"
     },
     "output_type": "display_data"
    }
   ],
   "source": [
    "plt.figure(figsize=(6, 4))\n",
    "for i, b in enumerate(b_arr):\n",
    "    pcnt = (np.log(b)-np.log(b_arr.min())) / (np.log(b_arr.max())-np.log(b_arr.min()))\n",
    "    plt.plot(asym_err_arr[i, :], asym_time_arr[i, :], color=cm.plasma(pcnt), label='b={:.2f}'.format(b))\n",
    "for k, num_scatters in enumerate(num_scatters_list):\n",
    "    plt.plot(asym_err_arr[:, k], asym_time_arr[:, k], 'C{}o'.format(k), ms=7.5, label='n={}'.format(num_scatters))\n",
    "plt.xscale('log')\n",
    "plt.yscale('log')\n",
    "plt.xlabel('error')\n",
    "plt.ylabel('time')\n",
    "plt.xlim(1e-4, 2e-1)\n",
    "plt.ylim(3e1, 1e3)\n",
    "plt.legend(bbox_to_anchor=(1.05,1.0))\n",
    "plt.tight_layout()\n",
    "plt.savefig('/scratch/kelp-figures/mms_asym_err_time.pdf')"
   ]
  },
  {
   "cell_type": "code",
   "execution_count": 197,
   "metadata": {},
   "outputs": [
    {
     "data": {
      "image/png": "[encoded data removed]",
      "text/plain": [
       "<Figure size 432x288 with 1 Axes>"
      ]
     },
     "metadata": {
      "needs_background": "light"
     },
     "output_type": "display_data"
    }
   ],
   "source": [
    "plt.figure(figsize=(6, 4))\n",
    "b2d = b_arr.reshape(-1, 1)\n",
    "n2d = np.array(num_scatters_list).reshape(1, -1)\n",
    "xq = asym_err_arr / b2d**n2d\n",
    "yq = asym_time_arr\n",
    "m_lin, b_lin = conv.lin_fit(np.ravel(np.log(xq)), np.ravel(np.log(yq)), np.log(1e-3), np.log(1e-1))\n",
    "for i, b in enumerate(b_arr):\n",
    "    pcnt = (np.log(b)-np.log(b_arr.min())) / (np.log(b_arr.max())-np.log(b_arr.min()))\n",
    "    plt.plot(xq[i,:], yq[i,:], color=cm.plasma(pcnt), label='b={:.2f}'.format(b))\n",
    "for k, num_scatters in enumerate(num_scatters_list):\n",
    "    plt.plot(xq[:,k], yq[:,k], 'C{}o'.format(k), ms=7.5, label='n={}'.format(num_scatters))\n",
    "    \n",
    "plt.plot(np.array([xq.min(), xq.max()]), np.exp(b_lin)*np.array([xq.min(), xq.max()])**m_lin, 'k--', lw=3, label='m={:.2f}'.format(m_lin))\n",
    "plt.xscale('log')\n",
    "plt.yscale('log')\n",
    "plt.xlabel(r'error $/\\,b^n$')\n",
    "plt.ylabel('compute time')\n",
    "#plt.xlim(1e-4, 2e-1)\n",
    "#plt.ylim(3e1, 1e3)\n",
    "plt.legend(bbox_to_anchor=(1.05,1.0))\n",
    "plt.tight_layout()\n",
    "plt.savefig('/scratch/kelp-figures/mms_asym_err_time_collapsed.pdf')"
   ]
  },
  {
   "cell_type": "code",
   "execution_count": 219,
   "metadata": {},
   "outputs": [
    {
     "data": {
      "image/png": "[encoded data removed]",
      "text/plain": [
       "<Figure size 432x288 with 2 Axes>"
      ]
     },
     "metadata": {
      "needs_background": "light"
     },
     "output_type": "display_data"
    }
   ],
   "source": [
    "plt.figure(figsize=(6, 4))\n",
    "b_grid, n_grid = np.meshgrid(b_arr, num_scatters_list, indexing='ij')\n",
    "color_norm = mpl.colors.LogNorm(vmin=asym_err_arr.min(), vmax=asym_err_arr.max())\n",
    "nlevels = 10\n",
    "plt.contourf(\n",
    "    b_grid, \n",
    "    n_grid, \n",
    "    asym_err_arr, \n",
    "    norm=color_norm, \n",
    "    vmin=asym_err_arr.min(), \n",
    "    vmax=asym_err_arr.max(), \n",
    "    levels=np.logspace(\n",
    "        np.log10(asym_err_arr.min()),\n",
    "        np.log10(asym_err_arr.max()),\n",
    "        nlevels\n",
    "    ),\n",
    "    cmap='plasma'\n",
    ")\n",
    "plt.contour(\n",
    "    b_grid, \n",
    "    n_grid, \n",
    "    asym_err_arr, \n",
    "    colors='0.2',\n",
    "    vmin=asym_err_arr.min(), \n",
    "    vmax=asym_err_arr.max(), \n",
    "    levels=np.logspace(\n",
    "        np.log10(asym_err_arr.min()),\n",
    "        np.log10(asym_err_arr.max()),\n",
    "        nlevels\n",
    "    ),\n",
    ")\n",
    "plt.scatter(b_grid, n_grid, c=np.log(asym_err_arr), edgecolors='k', linewidths=1.5, cmap='plasma')\n",
    "plt.xscale('log')\n",
    "plt.xlabel('b')\n",
    "plt.ylabel('num_scatters')\n",
    "plt.yticks(num_scatters_list)\n",
    "plt.colorbar(label='error', norm=color_norm)\n",
    "plt.savefig('/scratch/kelp-figures/mms_asym_err_n_contourf.pdf')"
   ]
  },
  {
   "cell_type": "code",
   "execution_count": 33,
   "metadata": {},
   "outputs": [
    {
     "data": {
      "text/plain": [
       "<matplotlib.legend.Legend at 0x7faed088f588>"
      ]
     },
     "execution_count": 33,
     "metadata": {},
     "output_type": "execute_result"
    },
    {
     "data": {
      "image/png": "[encoded data removed]",
      "text/plain": [
       "<Figure size 576x432 with 1 Axes>"
      ]
     },
     "metadata": {
      "needs_background": "light"
     },
     "output_type": "display_data"
    }
   ],
   "source": [
    "plt.figure(figsize=(8,6))\n",
    "ns = max(ns_list)\n",
    "nz = max(nz_list)\n",
    "na = max(na_list)\n",
    "grid = mms.gen_grid(ns, nz, na, na, rope_spacing, zmax)\n",
    "plot_inds = np.zeros_like(grid[2], dtype=bool)\n",
    "plot_inds[0,0,:,0] = True\n",
    "z = grid[2][plot_inds]\n",
    "plt.plot(z, true_rad_list[0][plot_inds], 'k-', lw=5, label='true')\n",
    "for n in num_scatters_list:\n",
    "    plt.plot(z, asym_rad_list[n][plot_inds], 'C{}-'.format(n), lw=3, label='n={}'.format(n))\n",
    "\n",
    "plt.title('b={:.2e}'.format(b_list[i_plot]))\n",
    "plt.legend()"
   ]
  },
  {
   "cell_type": "markdown",
   "metadata": {},
   "source": [
    "Plot Taylor Series Error"
   ]
  },
  {
   "cell_type": "code",
   "execution_count": null,
   "metadata": {},
   "outputs": [],
   "source": [
    "#norm = lambda x: np.linalg.norm(np.ravel(x), ord=2)\n",
    "#norm = lambda x: np.sqrt(np.sum(x)**2/np.size(x))\n",
    "norm = lambda x: np.mean(np.abs(x))\n",
    "\n",
    "b_list, num_scatters_list = kelp_analyze.get_unique_vals(conn, study_name, ['b', 'num_scatters'])\n",
    "#this_sol_expr = sp.parsing.sympy_parser.parse_expr(\n",
    "#    kelp_analyze.table_to_df(conn, study_name)['source_expr'][0], \n",
    "#    local_dict={'gamma': sp.Symbol('gamma')}\n",
    "#)\n",
    "tay_term_N = mms.gen_series_N(sol_expr, max(num_scatters_list), **param_vals)\n",
    "def tay_approx_N(x, y, z, theta, phi, b, n):\n",
    "    s = 0*(x+y+z+theta+phi)\n",
    "    for k in range(n+1):\n",
    "        s += b**k * tay_term_N(x, y, z, theta, phi, k)\n",
    "    \n",
    "    return s\n",
    "\n",
    "fig1 = plt.figure(figsize=[8,6])\n",
    "ax1 = plt.gca()\n",
    "fig2 = plt.figure(figsize=[8,6])\n",
    "ax2 = plt.gca()\n",
    "\n",
    "tay_rad_list = []\n",
    "true_rad_list = []\n",
    "i_plot = 6\n",
    "for num_scatters in num_scatters_list:\n",
    "    err_list = []\n",
    "    for i, b in enumerate(b_list):\n",
    "        results_list = kelp_analyze.query_results(\n",
    "            conn, study_name,\n",
    "            b=b,\n",
    "            num_scatters=num_scatters,\n",
    "        )\n",
    "\n",
    "        ns = results_list[0]['ns'][:].data\n",
    "        nz = results_list[0]['nz'][:].data\n",
    "        ntheta = results_list[0]['ntheta'][:].data\n",
    "        nphi = results_list[0]['nphi'][:].data\n",
    "        grid = mms.gen_grid(ns, nz, ntheta, nphi, rope_spacing, zmax)\n",
    "\n",
    "        tay_rad = tay_approx_N(*grid, b, num_scatters)\n",
    "        #rad = results_list[0]['rad'][:]\n",
    "        true_rad = results_list[0]['true_rad'][:]\n",
    "\n",
    "        err = norm(tay_rad - true_rad)\n",
    "        err_list.append(err)\n",
    "        \n",
    "        if i == i_plot:\n",
    "            tay_rad_list.append(tay_rad)\n",
    "            true_rad_list.append(true_rad)\n",
    "\n",
    "    b_arr = np.array(b_list)[:-2]\n",
    "    err_arr = np.array(err_list)[:-2]\n",
    "    \n",
    "    print(\"err arr {}: {}\".format(num_scatters, err_arr))\n",
    "    plt.sca(ax1)\n",
    "    conv.plot_lin_fit(\n",
    "        np.log10(b_arr), np.log10(err_arr), \n",
    "        min(np.log(b_arr)), 0*max(np.log(b_arr)), \n",
    "        xlabel='log10(b)', ylabel='log10(err)',\n",
    "        label='n=%d, m={m:.2f}' % num_scatters\n",
    "    )\n",
    "    \n",
    "    \n",
    "plt.sca(ax1)\n",
    "plt.title('')\n",
    "plt.legend()\n",
    "\n",
    "\n",
    "plt.sca(ax2)\n",
    "z = grid[2][plot_inds]\n",
    "plt.plot(z, true_rad_list[0][plot_inds], 'ko-', label='true')\n",
    "for n in num_scatters_list:\n",
    "    plt.plot(z, tay_rad_list[n][plot_inds], 'C{}o-'.format(n), label='n={}'.format(n))\n",
    "\n",
    "plt.title('b={:.2e}'.format(b_list[i_plot]))\n",
    "plt.legend()\n"
   ]
  },
  {
   "cell_type": "code",
   "execution_count": null,
   "metadata": {},
   "outputs": [],
   "source": [
    "for n in num_scatters_list:\n",
    "    print(\"{}: {:.2e}\".format(\n",
    "        n,\n",
    "        np.abs(asym_rad_list[n] - tay_rad_list[n]).max()\n",
    "    ))"
   ]
  },
  {
   "cell_type": "code",
   "execution_count": null,
   "metadata": {},
   "outputs": [],
   "source": [
    "import sys"
   ]
  },
  {
   "cell_type": "code",
   "execution_count": null,
   "metadata": {},
   "outputs": [],
   "source": [
    "sorted(((4,6), (5,1), (6,9)), key=lambda x: x[1])"
   ]
  },
  {
   "cell_type": "code",
   "execution_count": null,
   "metadata": {},
   "outputs": [],
   "source": [
    "del(tay_rad)"
   ]
  },
  {
   "cell_type": "code",
   "execution_count": null,
   "metadata": {},
   "outputs": [],
   "source": [
    "ipc = ipp.Client()"
   ]
  },
  {
   "cell_type": "code",
   "execution_count": null,
   "metadata": {},
   "outputs": [],
   "source": [
    "lv = ipc.load_balanced_view()"
   ]
  },
  {
   "cell_type": "code",
   "execution_count": null,
   "metadata": {},
   "outputs": [],
   "source": [
    "def sz():\n",
    "    import sys\n",
    "    return sorted([(n, sys.getsizeof(v)/2**30) for n, v in globals().items()], key=lambda t: t[1], reverse=True)"
   ]
  },
  {
   "cell_type": "code",
   "execution_count": null,
   "metadata": {},
   "outputs": [],
   "source": [
    "fut = lv.apply(sz)"
   ]
  },
  {
   "cell_type": "code",
   "execution_count": null,
   "metadata": {},
   "outputs": [],
   "source": [
    "fut.done()"
   ]
  }
 ],
 "metadata": {
  "kernelspec": {
   "display_name": "Python 3",
   "language": "python",
   "name": "python3"
  },
  "language_info": {
   "codemirror_mode": {
    "name": "ipython",
    "version": 3
   },
   "file_extension": ".py",
   "mimetype": "text/x-python",
   "name": "python",
   "nbconvert_exporter": "python",
   "pygments_lexer": "ipython3",
   "version": "3.6.6"
  }
 },
 "nbformat": 4,
 "nbformat_minor": 2
}
