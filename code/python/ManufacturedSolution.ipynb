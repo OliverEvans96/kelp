{
 "cells": [
  {
   "cell_type": "code",
   "execution_count": 1,
   "metadata": {},
   "outputs": [],
   "source": [
    "%load_ext autoreload\n",
    "%autoreload 2"
   ]
  },
  {
   "cell_type": "code",
   "execution_count": 2,
   "metadata": {},
   "outputs": [],
   "source": [
    "qqq = 3"
   ]
  },
  {
   "cell_type": "code",
   "execution_count": 3,
   "metadata": {},
   "outputs": [],
   "source": [
    "# stdlib\n",
    "import os\n",
    "import shutil\n",
    "\n",
    "# 3rd party\n",
    "import ipyparallel as ipp\n",
    "import numpy as np\n",
    "import sympy as sp\n",
    "import matplotlib.pyplot as plt\n",
    "import kelp_compute\n",
    "\n",
    "# local\n",
    "import mms"
   ]
  },
  {
   "cell_type": "code",
   "execution_count": 4,
   "metadata": {},
   "outputs": [],
   "source": [
    "sp.init_printing()\n",
    "%matplotlib inline"
   ]
  },
  {
   "cell_type": "markdown",
   "metadata": {},
   "source": [
    "---"
   ]
  },
  {
   "cell_type": "markdown",
   "metadata": {},
   "source": [
    "## User-function definitions"
   ]
  },
  {
   "cell_type": "code",
   "execution_count": 5,
   "metadata": {},
   "outputs": [],
   "source": [
    "def uniform_vsf(delta):\n",
    "    return 1/(4*sp.pi)"
   ]
  },
  {
   "cell_type": "code",
   "execution_count": 6,
   "metadata": {},
   "outputs": [],
   "source": [
    "def linear_vsf(delta):\n",
    "    return 2/sp.pi * (1-delta)"
   ]
  },
  {
   "cell_type": "code",
   "execution_count": 7,
   "metadata": {},
   "outputs": [],
   "source": [
    "# TODO: No upwelling light from bottom\n",
    "# Also, spatially homogeneous BC\n",
    "def prod_L(x, y, z, theta, phi, alpha, gamma):\n",
    "    return (\n",
    "        (\n",
    "            (\n",
    "                (2+sp.sin(2*sp.pi*x/alpha))\n",
    "                *(2+sp.sin(2*sp.pi*y/alpha))\n",
    "                *(sp.sin(sp.pi*z/gamma))\n",
    "            ) + sp.exp(-z/gamma)\n",
    "        )\n",
    "        *(2+sp.sin(phi))\n",
    "    )"
   ]
  },
  {
   "cell_type": "code",
   "execution_count": 8,
   "metadata": {},
   "outputs": [],
   "source": [
    "def uniform_L(x, y, z, theta, phi, alpha, gamma):\n",
    "    return alpha"
   ]
  },
  {
   "cell_type": "code",
   "execution_count": 9,
   "metadata": {},
   "outputs": [],
   "source": [
    "def tanh_L(x, y, z, theta, phi, alpha, gamma):\n",
    "    return alpha * sp.tanh(gamma-z)"
   ]
  },
  {
   "cell_type": "code",
   "execution_count": 10,
   "metadata": {},
   "outputs": [],
   "source": [
    "def tanh_b_L(x, y, z, theta, phi, b, alpha, gamma):\n",
    "    return alpha * sp.tanh(gamma-b*z) * (1+z*sp.sin(x)*sp.sin(y))"
   ]
  },
  {
   "cell_type": "code",
   "execution_count": 11,
   "metadata": {},
   "outputs": [],
   "source": [
    "# TODO: Should be periodic on correct grid\n",
    "def prod_a(x, y, z):\n",
    "    return (2+sp.sin(2*sp.pi*x))*(2+sp.sin(2*sp.pi*y))*(1+sp.tanh(z-gamma))"
   ]
  },
  {
   "cell_type": "code",
   "execution_count": 12,
   "metadata": {},
   "outputs": [],
   "source": [
    "def uniform_a(x, y, z):\n",
    "    return 0.2"
   ]
  },
  {
   "cell_type": "markdown",
   "metadata": {},
   "source": [
    "### Decide here which functions to use."
   ]
  },
  {
   "cell_type": "code",
   "execution_count": 13,
   "metadata": {},
   "outputs": [],
   "source": [
    "sol_func = tanh_b_L\n",
    "abs_func = prod_a\n",
    "vsf_func = linear_vsf"
   ]
  },
  {
   "cell_type": "markdown",
   "metadata": {},
   "source": [
    "---"
   ]
  },
  {
   "cell_type": "markdown",
   "metadata": {},
   "source": [
    "## Calculate source & BC"
   ]
  },
  {
   "cell_type": "code",
   "execution_count": 14,
   "metadata": {},
   "outputs": [],
   "source": [
    "b = sp.var('b')\n",
    "params = sp.var('b, alpha, gamma')\n",
    "\n",
    "source_expr = mms.calculate_source(sol_func, b, abs_func, vsf_func, params)\n",
    "bc_expr = mms.calculate_bc(sol_func, params)\n",
    "\n",
    "# Evaluate other expressions as well for consistency\n",
    "sol_expr = sol_func(*mms.space, *mms.angle, *params)\n",
    "abs_expr = abs_func(*mms.space)\n",
    "vsf_expr = vsf_func(mms.delta)"
   ]
  },
  {
   "cell_type": "markdown",
   "metadata": {},
   "source": [
    "## Specify parameter values"
   ]
  },
  {
   "cell_type": "code",
   "execution_count": 15,
   "metadata": {},
   "outputs": [],
   "source": [
    "alpha = 1\n",
    "gamma = 1\n",
    "b = 0.2\n",
    "param_vals = {\n",
    "    'alpha': alpha,\n",
    "    'gamma': gamma,\n",
    "    'b': b\n",
    "}\n",
    "\n",
    "# Domain size\n",
    "rope_spacing = 1\n",
    "zmax = 1"
   ]
  },
  {
   "cell_type": "markdown",
   "metadata": {},
   "source": [
    "## Generate symbolic and numerical functions"
   ]
  },
  {
   "cell_type": "code",
   "execution_count": 16,
   "metadata": {},
   "outputs": [],
   "source": [
    "# Generate symbolic functions\n",
    "source_sym = mms.symify(source_expr, *mms.space, *mms.angle, **param_vals)\n",
    "abs_sym = mms.symify(abs_expr, *mms.space, **param_vals)\n",
    "bc_sym = mms.symify(bc_expr, *mms.angle, **param_vals)\n",
    "vsf_sym = mms.symify(vsf_expr, mms.delta, **param_vals)\n",
    "sol_sym = mms.symify(sol_expr, *mms.space, *mms.angle, **param_vals)\n",
    "\n",
    "# Generate numerical functions\n",
    "abs_func_N = kelp_compute.sym_to_num(abs_sym, *mms.space)\n",
    "source_func_N = kelp_compute.sym_to_num(source_sym, *mms.space, *mms.angle)\n",
    "bc_func_N = kelp_compute.sym_to_num(bc_sym, *mms.angle)\n",
    "vsf_func_N = kelp_compute.sym_to_num(vsf_sym, mms.delta)\n",
    "sol_func_N = kelp_compute.sym_to_num(sol_sym, *mms.space, *mms.angle)"
   ]
  },
  {
   "cell_type": "markdown",
   "metadata": {},
   "source": [
    "## Problem Summary"
   ]
  },
  {
   "cell_type": "code",
   "execution_count": 17,
   "metadata": {},
   "outputs": [
    {
     "name": "stdout",
     "output_type": "stream",
     "text": [
      "Solution\n"
     ]
    },
    {
     "data": {
      "image/png": "[encoded data removed]",
      "text/latex": [
       "$$L = \\alpha \\left(z \\sin{\\left (x \\right )} \\sin{\\left (y \\right )} + 1\\right) \\tanh{\\left (- b z + \\gamma \\right )}$$"
      ],
      "text/plain": [
       "L = α⋅(z⋅sin(x)⋅sin(y) + 1)⋅tanh(-b⋅z + γ)"
      ]
     },
     "metadata": {},
     "output_type": "display_data"
    },
    {
     "name": "stdout",
     "output_type": "stream",
     "text": [
      "\n",
      "Absorption Coefficient\n"
     ]
    },
    {
     "data": {
      "image/png": "[encoded data removed]",
      "text/latex": [
       "$$a = \\left(\\sin{\\left (2 \\pi x \\right )} + 2\\right) \\left(\\sin{\\left (2 \\pi y \\right )} + 2\\right) \\left(\\tanh{\\left (- \\gamma + z \\right )} + 1\\right)$$"
      ],
      "text/plain": [
       "a = (sin(2⋅π⋅x) + 2)⋅(sin(2⋅π⋅y) + 2)⋅(tanh(-γ + z) + 1)"
      ]
     },
     "metadata": {},
     "output_type": "display_data"
    },
    {
     "name": "stdout",
     "output_type": "stream",
     "text": [
      "\n",
      "VSF\n"
     ]
    },
    {
     "data": {
      "image/png": "[encoded data removed]",
      "text/latex": [
       "$$\\beta = \\frac{2 \\left(- \\Delta + 1\\right)}{\\pi}$$"
      ],
      "text/plain": [
       "    2⋅(-Δ + 1)\n",
       "β = ──────────\n",
       "        π     "
      ]
     },
     "metadata": {},
     "output_type": "display_data"
    },
    {
     "name": "stdout",
     "output_type": "stream",
     "text": [
      "Boundary Condition\n"
     ]
    },
    {
     "data": {
      "image/png": "[encoded data removed]",
      "text/latex": [
       "$$L_{0} = \\alpha \\tanh{\\left (\\gamma \\right )}$$"
      ],
      "text/plain": [
       "L₀ = α⋅tanh(γ)"
      ]
     },
     "metadata": {},
     "output_type": "display_data"
    },
    {
     "name": "stdout",
     "output_type": "stream",
     "text": [
      "\n",
      "Source\n"
     ]
    },
    {
     "data": {
      "image/png": "[encoded data removed]",
      "text/latex": [
       "$$\\sigma = \\alpha z \\sin{\\left (\\phi \\right )} \\sin{\\left (\\theta \\right )} \\sin{\\left (x \\right )} \\cos{\\left (y \\right )} \\tanh{\\left (- b z + \\gamma \\right )} + \\alpha z \\sin{\\left (\\phi \\right )} \\sin{\\left (y \\right )} \\cos{\\left (\\theta \\right )} \\cos{\\left (x \\right )} \\tanh{\\left (- b z + \\gamma \\right )} + \\alpha \\left(b + \\left(\\sin{\\left (2 \\pi x \\right )} + 2\\right) \\left(\\sin{\\left (2 \\pi y \\right )} + 2\\right) \\left(\\tanh{\\left (- \\gamma + z \\right )} + 1\\right)\\right) \\left(z \\sin{\\left (x \\right )} \\sin{\\left (y \\right )} + 1\\right) \\tanh{\\left (- b z + \\gamma \\right )} - b \\left(\\frac{2 \\alpha \\left(\\frac{\\pi \\sin{\\left (\\phi \\right )} \\sin{\\left (\\theta \\right )}}{2} + 2 \\pi\\right) \\left(z \\sin{\\left (x \\right )} \\sin{\\left (y \\right )} + 1\\right) \\tanh{\\left (- b z + \\gamma \\right )}}{\\pi} - \\alpha \\left(z \\sin{\\left (x \\right )} \\sin{\\left (y \\right )} + 1\\right) \\sin{\\left (\\phi \\right )} \\sin{\\left (\\theta \\right )} \\tanh{\\left (- b z + \\gamma \\right )} + 4 \\alpha \\left(z \\sin{\\left (x \\right )} \\sin{\\left (y \\right )} + 1\\right) \\tanh{\\left (- b z + \\gamma \\right )}\\right) + \\left(- \\alpha b \\left(z \\sin{\\left (x \\right )} \\sin{\\left (y \\right )} + 1\\right) \\left(- \\tanh^{2}{\\left (- b z + \\gamma \\right )} + 1\\right) + \\alpha \\sin{\\left (x \\right )} \\sin{\\left (y \\right )} \\tanh{\\left (- b z + \\gamma \\right )}\\right) \\cos{\\left (\\phi \\right )}$$"
      ],
      "text/plain": [
       "                                                                              \n",
       "                                                                              \n",
       "                                                                              \n",
       "σ = α⋅z⋅sin(φ)⋅sin(θ)⋅sin(x)⋅cos(y)⋅tanh(-b⋅z + γ) + α⋅z⋅sin(φ)⋅sin(y)⋅cos(θ)⋅\n",
       "                                                                              \n",
       "\n",
       "                                                                              \n",
       "                                                                              \n",
       "                                                                              \n",
       "cos(x)⋅tanh(-b⋅z + γ) + α⋅(b + (sin(2⋅π⋅x) + 2)⋅(sin(2⋅π⋅y) + 2)⋅(tanh(-γ + z)\n",
       "                                                                              \n",
       "\n",
       "                                                ⎛    ⎛π⋅sin(φ)⋅sin(θ)      ⎞  \n",
       "                                                ⎜2⋅α⋅⎜─────────────── + 2⋅π⎟⋅(\n",
       "                                                ⎜    ⎝       2             ⎠  \n",
       " + 1))⋅(z⋅sin(x)⋅sin(y) + 1)⋅tanh(-b⋅z + γ) - b⋅⎜─────────────────────────────\n",
       "                                                ⎝                             \n",
       "\n",
       "                                                                              \n",
       "z⋅sin(x)⋅sin(y) + 1)⋅tanh(-b⋅z + γ)                                           \n",
       "                                                                              \n",
       "─────────────────────────────────── - α⋅(z⋅sin(x)⋅sin(y) + 1)⋅sin(φ)⋅sin(θ)⋅ta\n",
       "  π                                                                           \n",
       "\n",
       "                                                       ⎞                      \n",
       "                                                       ⎟                      \n",
       "                                                       ⎟   ⎛                  \n",
       "nh(-b⋅z + γ) + 4⋅α⋅(z⋅sin(x)⋅sin(y) + 1)⋅tanh(-b⋅z + γ)⎟ + ⎝- α⋅b⋅(z⋅sin(x)⋅si\n",
       "                                                       ⎠                      \n",
       "\n",
       "                                                                          \n",
       "                                                                          \n",
       "          ⎛      2              ⎞                                 ⎞       \n",
       "n(y) + 1)⋅⎝- tanh (-b⋅z + γ) + 1⎠ + α⋅sin(x)⋅sin(y)⋅tanh(-b⋅z + γ)⎠⋅cos(φ)\n",
       "                                                                          "
      ]
     },
     "metadata": {},
     "output_type": "display_data"
    },
    {
     "name": "stdout",
     "output_type": "stream",
     "text": [
      "\n"
     ]
    }
   ],
   "source": [
    "print(\"Solution\")\n",
    "mms.display_eq('L', sol_expr)\n",
    "print()\n",
    "\n",
    "print(\"Absorption Coefficient\")\n",
    "mms.display_eq('a', abs_expr)\n",
    "print()\n",
    "\n",
    "print(\"VSF\")\n",
    "mms.display_eq('beta', vsf_expr)\n",
    "\n",
    "print(\"Boundary Condition\")\n",
    "mms.display_eq('L_0', bc_expr)\n",
    "print()\n",
    "\n",
    "print(\"Source\")\n",
    "mms.display_eq('sigma', source_expr)\n",
    "print()"
   ]
  },
  {
   "cell_type": "markdown",
   "metadata": {},
   "source": [
    "## Check solution constraints\n",
    "\n",
    "- Everything is periodic in x, y\n",
    "- Absorption coefficient is positive\n",
    "- Boundary condition depends only on angle\n",
    "- No upwelling light from below"
   ]
  },
  {
   "cell_type": "markdown",
   "metadata": {},
   "source": [
    "## Check source term\n",
    "\n",
    "Source term seems too high, so try substituting parameters,\n",
    "then plugging in analytical solution.\n",
    "\n",
    "The result should be 0."
   ]
  },
  {
   "cell_type": "code",
   "execution_count": 18,
   "metadata": {},
   "outputs": [
    {
     "data": {
      "image/png": "[encoded data removed]",
      "text/latex": [
       "$$0$$"
      ],
      "text/plain": [
       "0"
      ]
     },
     "execution_count": 18,
     "metadata": {},
     "output_type": "execute_result"
    }
   ],
   "source": [
    "diff = mms.check_sol(sol_sym, b, abs_sym, vsf_sym, source_sym)\n",
    "diff"
   ]
  },
  {
   "cell_type": "code",
   "execution_count": 19,
   "metadata": {},
   "outputs": [],
   "source": [
    "num_diff = sp.lambdify(\n",
    "    (*mms.space, *mms.angle),\n",
    "    diff,\n",
    "    modules=(\"numpy\",)\n",
    ")"
   ]
  },
  {
   "cell_type": "code",
   "execution_count": 20,
   "metadata": {},
   "outputs": [
    {
     "data": {
      "text/plain": [
       "0"
      ]
     },
     "execution_count": 20,
     "metadata": {},
     "output_type": "execute_result"
    }
   ],
   "source": [
    "# Check numerical max on grid in case of numerical error in above expression\n",
    "np.max(num_diff(*mms.gen_grid(10, 10, 10, 1, 1)))"
   ]
  },
  {
   "cell_type": "markdown",
   "metadata": {},
   "source": [
    "## Code Verification Study"
   ]
  },
  {
   "cell_type": "code",
   "execution_count": 21,
   "metadata": {},
   "outputs": [
    {
     "name": "stdout",
     "output_type": "stream",
     "text": [
      "[1]\n"
     ]
    },
    {
     "name": "stderr",
     "output_type": "stream",
     "text": [
      "/home/oliver/local/miniconda3/envs/kelp/lib/python3.6/site-packages/ipyparallel/client/client.py:459: RuntimeWarning: \n",
      "            Controller appears to be listening on localhost, but not on this machine.\n",
      "            If this is true, you should specify Client(...,sshserver='you@oliver-arch')\n",
      "            or instruct your controller to listen on an external IP.\n",
      "  RuntimeWarning)\n"
     ]
    }
   ],
   "source": [
    "#remote_config = kelp_param.ParamSpanRemoteConfig()\n",
    "ipc = ipp.Client()\n",
    "lv = ipc.load_balanced_view()\n",
    "dv = ipc.direct_view()\n",
    "print(ipc.ids)"
   ]
  },
  {
   "cell_type": "code",
   "execution_count": null,
   "metadata": {},
   "outputs": [],
   "source": []
  },
  {
   "cell_type": "code",
   "execution_count": 22,
   "metadata": {
    "scrolled": true
   },
   "outputs": [
    {
     "name": "stdout",
     "output_type": "stream",
     "text": [
      "Creating new study directory.\n",
      "Reading existing runs.\n",
      "Finished reading existing runs.\n",
      "Calling solve_rte_with_callbacks(10, 10, 10, 10, 1, 1, 0.2, alpha*(z*sin(x)*sin(y) + 1)*tanh(-b*z + gamma), (sin(2*pi*x) + 2)*(sin(2*pi*y) + 2)*(tanh(-gamma + z) + 1), alpha*z*sin(phi)*sin(theta)*sin(x)*cos(y)*tanh(-b*z + gamma) + alpha*z*sin(phi)*sin(y)*cos(theta)*cos(x)*tanh(-b*z + gamma) + alpha*(b + (sin(2*pi*x) + 2)*(sin(2*pi*y) + 2)*(tanh(-gamma + z) + 1))*(z*sin(x)*sin(y) + 1)*tanh(-b*z + gamma) - b*(2*alpha*(pi*sin(phi)*sin(theta)/2 + 2*pi)*(z*sin(x)*sin(y) + 1)*tanh(-b*z + gamma)/pi - alpha*(z*sin(x)*sin(y) + 1)*sin(phi)*sin(theta)*tanh(-b*z + gamma) + 4*alpha*(z*sin(x)*sin(y) + 1)*tanh(-b*z + gamma)) + (-alpha*b*(z*sin(x)*sin(y) + 1)*(-tanh(-b*z + gamma)**2 + 1) + alpha*sin(x)*sin(y)*tanh(-b*z + gamma))*cos(phi), alpha*tanh(gamma), 2*(-Delta + 1)/pi, {'alpha': 1, 'gamma': 1, 'b': 0.2}, 0, True, study_dir='/home/oliver/academic/research/kelp-results/verify-test', study_name='verify-test')\n",
      "\n"
     ]
    },
    {
     "name": "stderr",
     "output_type": "stream",
     "text": [
      "/home/oliver/local/miniconda3/envs/kelp/lib/python3.6/site-packages/ipyparallel/client/client.py:459: RuntimeWarning: \n",
      "            Controller appears to be listening on localhost, but not on this machine.\n",
      "            If this is true, you should specify Client(...,sshserver='you@oliver-arch')\n",
      "            or instruct your controller to listen on an external IP.\n",
      "  RuntimeWarning)\n"
     ]
    }
   ],
   "source": [
    "# Set parameters\n",
    "study_name = 'verify-test'\n",
    "kelp_dist='top-heavy'\n",
    "\n",
    "ns_max = 12\n",
    "nz_max = 12\n",
    "ntheta_max = 12\n",
    "nphi_max = 12\n",
    "\n",
    "ns_list = range(4, ns_max+1, 20)\n",
    "nz_list = range(4, nz_max+1, 20)\n",
    "ntheta_list = range(4, ntheta_max+1, 20)\n",
    "nphi_list = range(4, nphi_max+1, 20)\n",
    "\n",
    "ns_list = [10]\n",
    "nz_list = [10]\n",
    "ntheta_list = [10]\n",
    "nphi_list = [10]\n",
    "\n",
    "#base_dir = os.path.join(os.environ['SCRATCH'], 'kelp-results')\n",
    "base_dir = '/home/oliver/academic/research/kelp-results'\n",
    "\n",
    "# TODO: Don't actually delete results\n",
    "shutil.rmtree(os.path.join(base_dir, study_name), ignore_errors=True)\n",
    "\n",
    "combine_thread, gs_fut = kelp_compute.fd_verify_compute(\n",
    "    study_name, \n",
    "    ns_list, nz_list, ntheta_list, nphi_list, \n",
    "    rope_spacing, zmax, b, \n",
    "    sol_expr, abs_expr, source_expr, bc_expr, vsf_expr, \n",
    "    param_vals, base_dir=base_dir)"
   ]
  },
  {
   "cell_type": "code",
   "execution_count": 23,
   "metadata": {},
   "outputs": [
    {
     "ename": "ZeroDivisionError",
     "evalue": "division by zero",
     "output_type": "error",
     "traceback": [
      "\u001b[0;31m---------------------------------------------------------------------------\u001b[0m",
      "\u001b[0;31mZeroDivisionError\u001b[0m                         Traceback (most recent call last)",
      "\u001b[0;32m<ipython-input-23-9e1622b385b6>\u001b[0m in \u001b[0;36m<module>\u001b[0;34m()\u001b[0m\n\u001b[0;32m----> 1\u001b[0;31m \u001b[0;36m1\u001b[0m\u001b[0;34m/\u001b[0m\u001b[0;36m0\u001b[0m\u001b[0;34m\u001b[0m\u001b[0m\n\u001b[0m",
      "\u001b[0;31mZeroDivisionError\u001b[0m: division by zero"
     ]
    }
   ],
   "source": [
    "1/0"
   ]
  },
  {
   "cell_type": "markdown",
   "metadata": {},
   "source": [
    "# Single-run"
   ]
  },
  {
   "cell_type": "markdown",
   "metadata": {},
   "source": [
    "### Compute"
   ]
  },
  {
   "cell_type": "code",
   "execution_count": null,
   "metadata": {},
   "outputs": [],
   "source": [
    "# Grid options\n",
    "ns = 16\n",
    "nz = 16\n",
    "na = 10\n",
    "nomega = na*(na-2) + 2\n",
    "\n",
    "# Domain size\n",
    "rope_spacing = 1\n",
    "zmax = 1\n",
    "\n",
    "# Solver options\n",
    "lis_opts = \"-i gmres -restart 100 -tol 1e-3\"\n",
    "\n",
    "# Set num_scatters\n",
    "num_scatters_list = range(5)\n",
    "max_num_scatters = max(num_scatters_list)\n",
    "\n",
    "# Norm for error calculations\n",
    "norm = lambda arr: np.linalg.norm(np.ravel(arr), ord=2)/np.size(arr)\n",
    "\n",
    "# Numerical function for solution expansion\n",
    "sol_expansion_N = mms.gen_series_N(sol_expr, max_num_scatters, **param_vals)\n",
    "\n",
    "asymptotic_sol_dict = {}\n",
    "sol_expansion_dict = {}\n",
    "asymptotic_err_dict = {}\n",
    "sol_expansion_err_dict = {}\n",
    "\n",
    "for num_scatters in num_scatters_list:\n",
    "    print(\"n={}\".format(num_scatters))\n",
    "    # Calculate asymptotic solution\n",
    "    _, asymptotic_results = kelp_compute.solve_rte_with_callbacks_full(\n",
    "        ns, nz, na,\n",
    "        rope_spacing, zmax,\n",
    "        b, abs_expr, source_expr, source_expansion_N, bc_expr, vsf_expr,\n",
    "        param_dict, num_scatters=num_scatters, fd_flag=False, lis_opts=lis_opts\n",
    "    )\n",
    "\n",
    "    # Extract numerical solutions\n",
    "    asymptotic_sol = asymptotic_results['rad']\n",
    "    \n",
    "    # Store results\n",
    "    asymptotic_sol_dict[num_scatters] = asymptotic_sol\n",
    "    \n",
    "    # Evaluate true solution\n",
    "    x, y, z, theta, phi = mms.gen_grid(ns, nz, na, rope_spacing, zmax)\n",
    "    true_sol = sol_func_N(x, y, z, theta, phi)\n",
    "    \n",
    "    # Evaluate series expansion\n",
    "    sol_expansion = np.zeros_like(asymptotic_sol)\n",
    "    for n in range(num_scatters+1):\n",
    "        sol_expansion += b**n * sol_expansion_N(x, y, z, theta, phi, n) \n",
    "    sol_expansion_dict[num_scatters] = sol_expansion\n",
    "    \n",
    "    # Calculate errors\n",
    "    asymptotic_err = norm(asymptotic_sol-true_sol)\n",
    "    asymptotic_err_dict[num_scatters] = asymptotic_err\n",
    "    \n",
    "    sol_expansion_err = norm(sol_expansion - true_sol)\n",
    "    sol_expansion_err_dict[num_scatters] = sol_expansion_err\n",
    "\n",
    "# Evaluate true solution on same grid\n",
    "true_sol = sol_func_N(x, y, z, theta, phi)"
   ]
  },
  {
   "cell_type": "code",
   "execution_count": null,
   "metadata": {},
   "outputs": [],
   "source": [
    "# Calculate finite difference solution\n",
    "_, fd_results = kelp_compute.solve_rte_with_callbacks_full(\n",
    "    ns, nz, na,\n",
    "    rope_spacing, zmax,\n",
    "    b, abs_sym, source_sym, source_expansion_N, bc_sym, vsf_sym,\n",
    "    num_scatters=0, fd_flag=True, lis_opts=lis_opts\n",
    ")\n",
    "\n",
    "fd_sol = fd_results['rad']\n",
    "\n",
    "fd_err = norm(fd_sol-true_sol)"
   ]
  },
  {
   "cell_type": "markdown",
   "metadata": {},
   "source": [
    "### Plot"
   ]
  },
  {
   "cell_type": "code",
   "execution_count": null,
   "metadata": {},
   "outputs": [],
   "source": [
    "# Pick one angle to evaluate symbolically and plot\n",
    "l = 0\n",
    "m = int(np.floor(na/4))\n",
    "\n",
    "p = mms.p_hat(l, m, na)\n",
    "th = theta[0,0,0,p]\n",
    "ph = phi[0,0,0,p]"
   ]
  },
  {
   "cell_type": "code",
   "execution_count": null,
   "metadata": {},
   "outputs": [],
   "source": [
    "plot_inds = np.zeros_like(true_sol, dtype=bool)\n",
    "plot_inds[0,0,:,p] = True\n",
    "\n",
    "plt.figure(figsize=(12,8))\n",
    "ax1 = plt.subplot(2,2,1)\n",
    "ax2 = plt.subplot(2,2,2)\n",
    "ax3 = plt.subplot(2,2,3)\n",
    "ax4 = plt.subplot(2,2,4)\n",
    "\n",
    "# Plot true solution\n",
    "ax1.plot(z[plot_inds], true_sol[plot_inds], 'C0o-', label='true')\n",
    "\n",
    "# Plot FD solution\n",
    "ax1.plot(\n",
    "    z[plot_inds],\n",
    "    fd_sol[plot_inds], \n",
    "    'C1o-',\n",
    "    label='FD'\n",
    ")\n",
    "\n",
    "# Plot FD error\n",
    "ax2.plot(\n",
    "    z[plot_inds], \n",
    "    -true_sol[plot_inds]+fd_sol[plot_inds], \n",
    "    'C1o-',\n",
    "    label='FD'\n",
    ")\n",
    "\n",
    "ax3.plot(\n",
    "    z[plot_inds], \n",
    "    np.abs(-true_sol[plot_inds]+fd_sol[plot_inds]), \n",
    "    'C1o-',\n",
    "    label='FD'\n",
    ")\n",
    "\n",
    "for num_scatters in num_scatters_list:\n",
    "    ax1.plot(\n",
    "        z[plot_inds], \n",
    "        sol_expansion_dict[num_scatters][plot_inds], \n",
    "        'C{}o-'.format(num_scatters+2), \n",
    "        label='n={}'.format(num_scatters)\n",
    "    )\n",
    "    ax1.plot(\n",
    "        z[plot_inds], \n",
    "        asymptotic_sol_dict[num_scatters][plot_inds], \n",
    "        'C{}o--'.format(num_scatters+2)\n",
    "    )\n",
    "    \n",
    "    # Plot true expansion error\n",
    "    ax2.plot(\n",
    "        z[plot_inds], \n",
    "        -true_sol[plot_inds]+sol_expansion_dict[num_scatters][plot_inds], \n",
    "        'C{}o-'.format(num_scatters+2), \n",
    "        label='n={}'.format(num_scatters)\n",
    "    )\n",
    "    ax3.plot(\n",
    "        z[plot_inds], \n",
    "        np.abs(-true_sol[plot_inds]+sol_expansion_dict[num_scatters][plot_inds]), \n",
    "        'C{}o-'.format(num_scatters+2), \n",
    "        label='n={}'.format(num_scatters)\n",
    "    )\n",
    "    \n",
    "    # Plot numerical asymptotics error\n",
    "    ax2.plot(\n",
    "        z[plot_inds], \n",
    "        -true_sol[plot_inds]+asymptotic_sol_dict[num_scatters][plot_inds], \n",
    "        'C{}o--'.format(num_scatters+2)\n",
    "    )\n",
    "    ax3.plot(\n",
    "        z[plot_inds], \n",
    "        np.abs(-true_sol[plot_inds]+asymptotic_sol_dict[num_scatters][plot_inds]), \n",
    "        'C{}o--'.format(num_scatters+2)\n",
    "    )\n",
    "    \n",
    "    \n",
    "ax1.set_xlabel('z')\n",
    "ax1.set_ylabel('rad')\n",
    "ax1.legend()\n",
    "\n",
    "ax2.set_xlabel('z')\n",
    "ax2.set_ylabel('stripe diff')\n",
    "ax2.set_yscale('linear')\n",
    "ax2.legend()\n",
    "\n",
    "ax3.set_xlabel('z')\n",
    "ax3.set_ylabel('stripe err')\n",
    "ax3.set_yscale('log')\n",
    "ax3.legend()\n",
    "\n",
    "# FD Error\n",
    "ax4.hlines(fd_err, xmin=0, xmax=max_num_scatters, label='FD')\n",
    "\n",
    "# Asymptotics error\n",
    "ax4.plot(\n",
    "    num_scatters_list, \n",
    "    [asymptotic_err_dict[n] for n in num_scatters_list],\n",
    "    'o-',\n",
    "    label='asym. err.'\n",
    ")\n",
    "# Expansion error\n",
    "ax4.plot(\n",
    "    num_scatters_list, \n",
    "    [sol_expansion_err_dict[n] for n in num_scatters_list],\n",
    "    'o-',\n",
    "    label='series err.'\n",
    ")\n",
    "ax4.set_xlabel('n')\n",
    "ax4.set_ylabel('avg. tot. err.')\n",
    "ax4.set_yscale('linear')\n",
    "ax4.legend()"
   ]
  },
  {
   "cell_type": "code",
   "execution_count": null,
   "metadata": {},
   "outputs": [],
   "source": []
  }
 ],
 "metadata": {
  "kernelspec": {
   "display_name": "Python 3 (kelp)",
   "language": "python",
   "name": "kelp"
  },
  "language_info": {
   "codemirror_mode": {
    "name": "ipython",
    "version": 3
   },
   "file_extension": ".py",
   "mimetype": "text/x-python",
   "name": "python",
   "nbconvert_exporter": "python",
   "pygments_lexer": "ipython3",
   "version": "3.6.5"
  }
 },
 "nbformat": 4,
 "nbformat_minor": 2
}
