{
 "cells": [
  {
   "cell_type": "code",
   "execution_count": 1,
   "metadata": {},
   "outputs": [],
   "source": [
    "%load_ext autoreload\n",
    "%autoreload 2"
   ]
  },
  {
   "cell_type": "code",
   "execution_count": 2,
   "metadata": {},
   "outputs": [
    {
     "name": "stderr",
     "output_type": "stream",
     "text": [
      "/home/oliver/academic/research/kelp/code/python/kelp_compute.py:30: UserWarning: \n",
      "This call to matplotlib.use() has no effect because the backend has already\n",
      "been chosen; matplotlib.use() must be called *before* pylab, matplotlib.pyplot,\n",
      "or matplotlib.backends is imported for the first time.\n",
      "\n",
      "The backend was *originally* set to 'module://ipykernel.pylab.backend_inline' by the following code:\n",
      "  File \"/home/oliver/local/miniconda3/envs/kelp/lib/python3.6/runpy.py\", line 193, in _run_module_as_main\n",
      "    \"__main__\", mod_spec)\n",
      "  File \"/home/oliver/local/miniconda3/envs/kelp/lib/python3.6/runpy.py\", line 85, in _run_code\n",
      "    exec(code, run_globals)\n",
      "  File \"/home/oliver/local/miniconda3/envs/kelp/lib/python3.6/site-packages/ipykernel_launcher.py\", line 16, in <module>\n",
      "    app.launch_new_instance()\n",
      "  File \"/home/oliver/local/miniconda3/envs/kelp/lib/python3.6/site-packages/traitlets/config/application.py\", line 658, in launch_instance\n",
      "    app.start()\n",
      "  File \"/home/oliver/local/miniconda3/envs/kelp/lib/python3.6/site-packages/ipykernel/kernelapp.py\", line 486, in start\n",
      "    self.io_loop.start()\n",
      "  File \"/home/oliver/local/miniconda3/envs/kelp/lib/python3.6/site-packages/tornado/platform/asyncio.py\", line 127, in start\n",
      "    self.asyncio_loop.run_forever()\n",
      "  File \"/home/oliver/local/miniconda3/envs/kelp/lib/python3.6/asyncio/base_events.py\", line 422, in run_forever\n",
      "    self._run_once()\n",
      "  File \"/home/oliver/local/miniconda3/envs/kelp/lib/python3.6/asyncio/base_events.py\", line 1432, in _run_once\n",
      "    handle._run()\n",
      "  File \"/home/oliver/local/miniconda3/envs/kelp/lib/python3.6/asyncio/events.py\", line 145, in _run\n",
      "    self._callback(*self._args)\n",
      "  File \"/home/oliver/local/miniconda3/envs/kelp/lib/python3.6/site-packages/tornado/platform/asyncio.py\", line 117, in _handle_events\n",
      "    handler_func(fileobj, events)\n",
      "  File \"/home/oliver/local/miniconda3/envs/kelp/lib/python3.6/site-packages/tornado/stack_context.py\", line 276, in null_wrapper\n",
      "    return fn(*args, **kwargs)\n",
      "  File \"/home/oliver/local/miniconda3/envs/kelp/lib/python3.6/site-packages/zmq/eventloop/zmqstream.py\", line 450, in _handle_events\n",
      "    self._handle_recv()\n",
      "  File \"/home/oliver/local/miniconda3/envs/kelp/lib/python3.6/site-packages/zmq/eventloop/zmqstream.py\", line 480, in _handle_recv\n",
      "    self._run_callback(callback, msg)\n",
      "  File \"/home/oliver/local/miniconda3/envs/kelp/lib/python3.6/site-packages/zmq/eventloop/zmqstream.py\", line 432, in _run_callback\n",
      "    callback(*args, **kwargs)\n",
      "  File \"/home/oliver/local/miniconda3/envs/kelp/lib/python3.6/site-packages/tornado/stack_context.py\", line 276, in null_wrapper\n",
      "    return fn(*args, **kwargs)\n",
      "  File \"/home/oliver/local/miniconda3/envs/kelp/lib/python3.6/site-packages/ipykernel/kernelbase.py\", line 283, in dispatcher\n",
      "    return self.dispatch_shell(stream, msg)\n",
      "  File \"/home/oliver/local/miniconda3/envs/kelp/lib/python3.6/site-packages/ipykernel/kernelbase.py\", line 233, in dispatch_shell\n",
      "    handler(stream, idents, msg)\n",
      "  File \"/home/oliver/local/miniconda3/envs/kelp/lib/python3.6/site-packages/ipykernel/kernelbase.py\", line 399, in execute_request\n",
      "    user_expressions, allow_stdin)\n",
      "  File \"/home/oliver/local/miniconda3/envs/kelp/lib/python3.6/site-packages/ipykernel/ipkernel.py\", line 208, in do_execute\n",
      "    res = shell.run_cell(code, store_history=store_history, silent=silent)\n",
      "  File \"/home/oliver/local/miniconda3/envs/kelp/lib/python3.6/site-packages/ipykernel/zmqshell.py\", line 537, in run_cell\n",
      "    return super(ZMQInteractiveShell, self).run_cell(*args, **kwargs)\n",
      "  File \"/home/oliver/local/miniconda3/envs/kelp/lib/python3.6/site-packages/IPython/core/interactiveshell.py\", line 2662, in run_cell\n",
      "    raw_cell, store_history, silent, shell_futures)\n",
      "  File \"/home/oliver/local/miniconda3/envs/kelp/lib/python3.6/site-packages/IPython/core/interactiveshell.py\", line 2785, in _run_cell\n",
      "    interactivity=interactivity, compiler=compiler, result=result)\n",
      "  File \"/home/oliver/local/miniconda3/envs/kelp/lib/python3.6/site-packages/IPython/core/interactiveshell.py\", line 2903, in run_ast_nodes\n",
      "    if self.run_code(code, result):\n",
      "  File \"/home/oliver/local/miniconda3/envs/kelp/lib/python3.6/site-packages/IPython/core/interactiveshell.py\", line 2963, in run_code\n",
      "    exec(code_obj, self.user_global_ns, self.user_ns)\n",
      "  File \"<ipython-input-2-cfa3fad40d83>\", line 13, in <module>\n",
      "    import matplotlib.pyplot as plt\n",
      "  File \"/home/oliver/local/miniconda3/envs/kelp/lib/python3.6/site-packages/matplotlib/pyplot.py\", line 71, in <module>\n",
      "    from matplotlib.backends import pylab_setup\n",
      "  File \"/home/oliver/local/miniconda3/envs/kelp/lib/python3.6/site-packages/matplotlib/backends/__init__.py\", line 16, in <module>\n",
      "    line for line in traceback.format_stack()\n",
      "\n",
      "\n",
      "  matplotlib.use('Agg')\n"
     ]
    }
   ],
   "source": [
    "# stdlib\n",
    "import os\n",
    "import shutil\n",
    "import sqlite3\n",
    "\n",
    "# 3rd party\n",
    "import ipyparallel as ipp\n",
    "import ipyvolume as ipv\n",
    "import ipywidgets as ipw\n",
    "import numpy as np\n",
    "from scipy.optimize import minimize\n",
    "import sympy as sp\n",
    "import matplotlib.pyplot as plt\n",
    "\n",
    "# local\n",
    "import convergence as conv\n",
    "import kelp_analyze\n",
    "import kelp_compute\n",
    "import mms\n",
    "import discrete_plot\n",
    "import run_utils as ru\n",
    "from fortran_wrappers.light_utils_wrap import light_utils_wrap as lu"
   ]
  },
  {
   "cell_type": "code",
   "execution_count": 3,
   "metadata": {},
   "outputs": [],
   "source": [
    "sp.init_printing()\n",
    "%matplotlib inline"
   ]
  },
  {
   "cell_type": "markdown",
   "metadata": {},
   "source": [
    "---"
   ]
  },
  {
   "cell_type": "markdown",
   "metadata": {},
   "source": [
    "## User-function definitions"
   ]
  },
  {
   "cell_type": "code",
   "execution_count": 4,
   "metadata": {},
   "outputs": [],
   "source": [
    "def uniform_vsf(delta):\n",
    "    return 1/(4*sp.pi)"
   ]
  },
  {
   "cell_type": "code",
   "execution_count": 5,
   "metadata": {},
   "outputs": [],
   "source": [
    "def linear_vsf(delta):\n",
    "    \"\"\"Defined on [-1, 1].\"\"\"\n",
    "    return (delta+1)/(4*sp.pi)"
   ]
  },
  {
   "cell_type": "code",
   "execution_count": 6,
   "metadata": {},
   "outputs": [],
   "source": [
    "# TODO: No upwelling light from bottom\n",
    "# Also, spatially homogeneous BC\n",
    "def prod_L(x, y, z, theta, phi, alpha, gamma):\n",
    "    return (\n",
    "        (\n",
    "            (\n",
    "                (2+sp.sin(2*sp.pi*x/alpha))\n",
    "                *(2+sp.sin(2*sp.pi*y/alpha))\n",
    "                *(sp.sin(sp.pi*z/gamma))\n",
    "            ) + sp.exp(-z/gamma)\n",
    "        )\n",
    "        * (2+sp.sin(phi))\n",
    "    )"
   ]
  },
  {
   "cell_type": "code",
   "execution_count": 7,
   "metadata": {},
   "outputs": [],
   "source": [
    "def exp_L(x, y, z, theta, phi, b, alpha, gamma):\n",
    "    return sp.exp(-z) - sp.exp(gamma)"
   ]
  },
  {
   "cell_type": "code",
   "execution_count": 8,
   "metadata": {},
   "outputs": [],
   "source": [
    "def down_L(x, y, z, theta, phi, b, alpha, gamma):\n",
    "    return sp.Piecewise((sp.exp(-z), phi<sp.pi/2), (0, True))"
   ]
  },
  {
   "cell_type": "code",
   "execution_count": 9,
   "metadata": {},
   "outputs": [],
   "source": [
    "def zero_L(x, y, z, theta, phi, b, alpha, gamma):\n",
    "    return 0 * sp.Symbol('x')"
   ]
  },
  {
   "cell_type": "code",
   "execution_count": 10,
   "metadata": {},
   "outputs": [],
   "source": [
    "def uniform_L(x, y, z, theta, phi, b, alpha, gamma):\n",
    "    return alpha"
   ]
  },
  {
   "cell_type": "code",
   "execution_count": 11,
   "metadata": {},
   "outputs": [],
   "source": [
    "def tanh_L(x, y, z, theta, phi, b, alpha, gamma):\n",
    "    return alpha * (2+sp.sin(z/10)) * sp.tanh((gamma-z)/10) * z * (2+sp.sin(4*sp.pi*x/alpha) + sp.sin(4*sp.pi*y/alpha)) / 5"
   ]
  },
  {
   "cell_type": "code",
   "execution_count": 244,
   "metadata": {},
   "outputs": [],
   "source": [
    "def tanh_b_L(x, y, z, theta, phi, b, alpha, gamma):\n",
    "    \"\"\"\n",
    "    alpha = rope_spacing\n",
    "    gamma = zmax\n",
    "    \"\"\"\n",
    "    return (\n",
    "        alpha * (z/10-gamma/10+sp.tanh((1+b)*(gamma-z)/5) / sp.tanh((1+b)*gamma)/5)\n",
    "        * (1+z*(sp.sin(2*sp.pi*x/alpha)+sp.sin(2*sp.pi*y/alpha)) / 5)\n",
    "        *(1+sp.sin(theta+phi))\n",
    "    )"
   ]
  },
  {
   "cell_type": "code",
   "execution_count": 245,
   "metadata": {},
   "outputs": [],
   "source": [
    "def prod_a(x, y, z, alpha, gamma):\n",
    "    return 1 + (3+sp.sin(2*sp.pi*x/alpha)+sp.sin(2*sp.pi*y/alpha))*(1+sp.tanh(z-gamma)) / 20"
   ]
  },
  {
   "cell_type": "code",
   "execution_count": 246,
   "metadata": {},
   "outputs": [],
   "source": [
    "def uniform_a(x, y, z, alpha, gamma):\n",
    "    return 0.2"
   ]
  },
  {
   "cell_type": "code",
   "execution_count": 247,
   "metadata": {},
   "outputs": [],
   "source": [
    "def inv_a(x, y, z, alpha, gamma):\n",
    "    return 1/tanh_L(x, y, z, 0, 0, 0, alpha, gamma)"
   ]
  },
  {
   "cell_type": "markdown",
   "metadata": {},
   "source": [
    "### Decide here which functions to use."
   ]
  },
  {
   "cell_type": "code",
   "execution_count": 248,
   "metadata": {},
   "outputs": [],
   "source": [
    "sol_func = tanh_b_L\n",
    "abs_func = prod_a\n",
    "vsf_func = linear_vsf"
   ]
  },
  {
   "cell_type": "markdown",
   "metadata": {},
   "source": [
    "---"
   ]
  },
  {
   "cell_type": "markdown",
   "metadata": {},
   "source": [
    "## Calculate source & BC"
   ]
  },
  {
   "cell_type": "code",
   "execution_count": 249,
   "metadata": {},
   "outputs": [],
   "source": [
    "b = sp.var('b')\n",
    "params = sp.var('alpha, gamma')\n",
    "\n",
    "source_expr = mms.calculate_source(sol_func, b, abs_func, vsf_func, params)\n",
    "bc_expr = mms.calculate_bc(sol_func, b, params)\n",
    "\n",
    "# Evaluate other expressions as well for consistency\n",
    "sol_expr = sol_func(*mms.space, *mms.angle, b, *params)\n",
    "abs_expr = abs_func(*mms.space, *params)\n",
    "vsf_expr = vsf_func(mms.delta)"
   ]
  },
  {
   "cell_type": "markdown",
   "metadata": {},
   "source": [
    "## Specify parameter values"
   ]
  },
  {
   "cell_type": "code",
   "execution_count": 292,
   "metadata": {},
   "outputs": [],
   "source": [
    "# Domain size\n",
    "rope_spacing = 1\n",
    "zmax = 1\n",
    "b = 0.5\n",
    "\n",
    "param_vals = {\n",
    "    'alpha': rope_spacing,\n",
    "    'gamma': zmax,\n",
    "    'b': b\n",
    "}"
   ]
  },
  {
   "cell_type": "markdown",
   "metadata": {},
   "source": [
    "## Generate symbolic and numerical functions"
   ]
  },
  {
   "cell_type": "code",
   "execution_count": 293,
   "metadata": {},
   "outputs": [],
   "source": [
    "# Generate symbolic functions\n",
    "source_sym = mms.symify(source_expr, *mms.space, *mms.angle, **param_vals)\n",
    "abs_sym = mms.symify(abs_expr, *mms.space, **param_vals)\n",
    "bc_sym = mms.symify(bc_expr, *mms.angle, **param_vals)\n",
    "vsf_sym = mms.symify(vsf_expr, mms.delta, **param_vals)\n",
    "sol_sym = mms.symify(sol_expr, *mms.space, *mms.angle, **param_vals)\n",
    "\n",
    "# Generate numerical functions\n",
    "abs_func_N = mms.sym_to_num(abs_sym, *mms.space)\n",
    "source_func_N = mms.sym_to_num(source_sym, *mms.space, *mms.angle)\n",
    "bc_func_N = mms.sym_to_num(bc_sym, *mms.angle)\n",
    "vsf_func_N = mms.sym_to_num(vsf_sym, mms.delta)\n",
    "sol_func_N = mms.sym_to_num(sol_sym, *mms.space, *mms.angle)"
   ]
  },
  {
   "cell_type": "markdown",
   "metadata": {},
   "source": [
    "## Examine solution dervatives"
   ]
  },
  {
   "cell_type": "code",
   "execution_count": 294,
   "metadata": {},
   "outputs": [
    {
     "data": {
      "text/plain": [
       "{'x': 0.02028987504016356,\n",
       " 'y': 0.02028987504016356,\n",
       " 'z': 0.10299457535779552,\n",
       " 'theta': 0.03435182048051506,\n",
       " 'phi': 0.03435182048051506}"
      ]
     },
     "execution_count": 294,
     "metadata": {},
     "output_type": "execute_result"
    }
   ],
   "source": [
    "conv.max_derivs(sol_expr, rope_spacing, zmax, do_space=True, do_angle=True, **param_vals)"
   ]
  },
  {
   "cell_type": "code",
   "execution_count": 295,
   "metadata": {},
   "outputs": [
    {
     "data": {
      "text/plain": [
       "{'x': 0.28385649251441836, 'y': 0.28385649251441836, 'z': 0.24937604019289197}"
      ]
     },
     "execution_count": 295,
     "metadata": {},
     "output_type": "execute_result"
    }
   ],
   "source": [
    "conv.max_derivs(abs_expr, rope_spacing, zmax, do_space=True, do_angle=False, **param_vals)"
   ]
  },
  {
   "cell_type": "code",
   "execution_count": 296,
   "metadata": {},
   "outputs": [
    {
     "data": {
      "text/plain": [
       "{'x': 0.13104640955844069,\n",
       " 'y': 0.097751591688486,\n",
       " 'z': 0.21262470560340427,\n",
       " 'theta': 0.10144943222414687,\n",
       " 'phi': 0.12926277062719727}"
      ]
     },
     "execution_count": 296,
     "metadata": {},
     "output_type": "execute_result"
    }
   ],
   "source": [
    "conv.max_derivs(source_expr, rope_spacing, zmax, do_space=True, do_angle=True, **param_vals)"
   ]
  },
  {
   "cell_type": "markdown",
   "metadata": {},
   "source": [
    "## Problem Summary"
   ]
  },
  {
   "cell_type": "code",
   "execution_count": 297,
   "metadata": {},
   "outputs": [
    {
     "name": "stdout",
     "output_type": "stream",
     "text": [
      "Solution\n"
     ]
    },
    {
     "data": {
      "image/png": "[encoded data removed]",
      "text/latex": [
       "$$L = \\alpha \\left(\\frac{z \\left(\\sin{\\left (\\frac{2 \\pi x}{\\alpha} \\right )} + \\sin{\\left (\\frac{2 \\pi y}{\\alpha} \\right )}\\right)}{5} + 1\\right) \\left(\\sin{\\left (\\phi + \\theta \\right )} + 1\\right) \\left(- \\frac{\\gamma}{10} + \\frac{z}{10} + \\frac{\\tanh{\\left (\\frac{\\left(b + 1\\right) \\left(\\gamma - z\\right)}{5} \\right )}}{5 \\tanh{\\left (\\gamma \\left(b + 1\\right) \\right )}}\\right)$$"
      ],
      "text/plain": [
       "      ⎛  ⎛   ⎛2⋅π⋅x⎞      ⎛2⋅π⋅y⎞⎞    ⎞                  ⎛                ⎛(b \n",
       "      ⎜z⋅⎜sin⎜─────⎟ + sin⎜─────⎟⎟    ⎟                  ⎜            tanh⎜───\n",
       "      ⎜  ⎝   ⎝  α  ⎠      ⎝  α  ⎠⎠    ⎟                  ⎜  γ    z        ⎝   \n",
       "L = α⋅⎜─────────────────────────── + 1⎟⋅(sin(φ + θ) + 1)⋅⎜- ── + ── + ────────\n",
       "      ⎝             5                 ⎠                  ⎝  10   10     5⋅tanh\n",
       "\n",
       "+ 1)⋅(γ - z)⎞⎞\n",
       "────────────⎟⎟\n",
       "    5       ⎠⎟\n",
       "─────────────⎟\n",
       "(γ⋅(b + 1))  ⎠"
      ]
     },
     "metadata": {},
     "output_type": "display_data"
    },
    {
     "name": "stdout",
     "output_type": "stream",
     "text": [
      "\n",
      "Absorption Coefficient\n"
     ]
    },
    {
     "data": {
      "image/png": "[encoded data removed]",
      "text/latex": [
       "$$a = \\frac{\\left(\\tanh{\\left (- \\gamma + z \\right )} + 1\\right) \\left(\\sin{\\left (\\frac{2 \\pi x}{\\alpha} \\right )} + \\sin{\\left (\\frac{2 \\pi y}{\\alpha} \\right )} + 3\\right)}{20} + 1$$"
      ],
      "text/plain": [
       "                       ⎛   ⎛2⋅π⋅x⎞      ⎛2⋅π⋅y⎞    ⎞    \n",
       "    (tanh(-γ + z) + 1)⋅⎜sin⎜─────⎟ + sin⎜─────⎟ + 3⎟    \n",
       "                       ⎝   ⎝  α  ⎠      ⎝  α  ⎠    ⎠    \n",
       "a = ──────────────────────────────────────────────── + 1\n",
       "                           20                           "
      ]
     },
     "metadata": {},
     "output_type": "display_data"
    },
    {
     "name": "stdout",
     "output_type": "stream",
     "text": [
      "\n",
      "VSF\n"
     ]
    },
    {
     "data": {
      "image/png": "[encoded data removed]",
      "text/latex": [
       "$$\\beta = \\frac{\\Delta + 1}{4 \\pi}$$"
      ],
      "text/plain": [
       "    Δ + 1\n",
       "β = ─────\n",
       "     4⋅π "
      ]
     },
     "metadata": {},
     "output_type": "display_data"
    },
    {
     "name": "stdout",
     "output_type": "stream",
     "text": [
      "Boundary Condition\n"
     ]
    },
    {
     "data": {
      "image/png": "[encoded data removed]",
      "text/latex": [
       "$$L_{0} = \\alpha \\left(- \\frac{\\gamma}{10} + \\frac{\\tanh{\\left (\\frac{\\gamma \\left(b + 1\\right)}{5} \\right )}}{5 \\tanh{\\left (\\gamma \\left(b + 1\\right) \\right )}}\\right) \\left(\\sin{\\left (\\phi + \\theta \\right )} + 1\\right)$$"
      ],
      "text/plain": [
       "       ⎛            ⎛γ⋅(b + 1)⎞ ⎞                 \n",
       "       ⎜        tanh⎜─────────⎟ ⎟                 \n",
       "       ⎜  γ         ⎝    5    ⎠ ⎟                 \n",
       "L₀ = α⋅⎜- ── + ─────────────────⎟⋅(sin(φ + θ) + 1)\n",
       "       ⎝  10   5⋅tanh(γ⋅(b + 1))⎠                 "
      ]
     },
     "metadata": {},
     "output_type": "display_data"
    },
    {
     "name": "stdout",
     "output_type": "stream",
     "text": [
      "\n",
      "Source\n"
     ]
    },
    {
     "data": {
      "image/png": "[encoded data removed]",
      "text/latex": [
       "$$\\sigma = \\alpha \\left(\\frac{z \\left(\\sin{\\left (\\frac{2 \\pi x}{\\alpha} \\right )} + \\sin{\\left (\\frac{2 \\pi y}{\\alpha} \\right )}\\right)}{5} + 1\\right) \\left(\\sin{\\left (\\phi + \\theta \\right )} + 1\\right) \\left(b + \\frac{\\left(\\tanh{\\left (- \\gamma + z \\right )} + 1\\right) \\left(\\sin{\\left (\\frac{2 \\pi x}{\\alpha} \\right )} + \\sin{\\left (\\frac{2 \\pi y}{\\alpha} \\right )} + 3\\right)}{20} + 1\\right) \\left(- \\frac{\\gamma}{10} + \\frac{z}{10} + \\frac{\\tanh{\\left (\\frac{\\left(b + 1\\right) \\left(\\gamma - z\\right)}{5} \\right )}}{5 \\tanh{\\left (\\gamma \\left(b + 1\\right) \\right )}}\\right) - b \\left(\\frac{\\alpha \\left(\\frac{z \\left(\\sin{\\left (\\frac{2 \\pi x}{\\alpha} \\right )} + \\sin{\\left (\\frac{2 \\pi y}{\\alpha} \\right )}\\right)}{5} + 1\\right) \\left(- \\frac{\\gamma}{10} + \\frac{z}{10} + \\frac{\\tanh{\\left (\\frac{\\left(b + 1\\right) \\left(\\gamma - z\\right)}{5} \\right )}}{5 \\tanh{\\left (\\gamma \\left(b + 1\\right) \\right )}}\\right) \\left(\\frac{\\sin{\\left (\\phi \\right )} \\sin{\\left (\\theta \\right )}}{3} + \\frac{\\cos{\\left (\\phi \\right )}}{3} + \\frac{1}{2}\\right)}{4 \\pi} - \\frac{\\alpha \\left(\\frac{z \\left(\\sin{\\left (\\frac{2 \\pi x}{\\alpha} \\right )} + \\sin{\\left (\\frac{2 \\pi y}{\\alpha} \\right )}\\right)}{5} + 1\\right) \\left(- \\frac{\\gamma}{10} + \\frac{z}{10} + \\frac{\\tanh{\\left (\\frac{\\left(b + 1\\right) \\left(\\gamma - z\\right)}{5} \\right )}}{5 \\tanh{\\left (\\gamma \\left(b + 1\\right) \\right )}}\\right) \\left(- \\frac{\\pi \\sin{\\left (\\phi \\right )} \\sin{\\left (\\theta \\right )}}{2} - \\frac{\\sin{\\left (\\phi \\right )} \\sin{\\left (\\theta \\right )}}{3} - \\frac{\\cos{\\left (\\phi \\right )}}{3} + \\frac{1}{2}\\right)}{4 \\pi} - \\frac{\\alpha \\left(\\frac{z \\left(\\sin{\\left (\\frac{2 \\pi x}{\\alpha} \\right )} + \\sin{\\left (\\frac{2 \\pi y}{\\alpha} \\right )}\\right)}{5} + 1\\right) \\left(- \\frac{\\gamma}{10} + \\frac{z}{10} + \\frac{\\tanh{\\left (\\frac{\\left(b + 1\\right) \\left(\\gamma - z\\right)}{5} \\right )}}{5 \\tanh{\\left (\\gamma \\left(b + 1\\right) \\right )}}\\right) \\left(\\frac{\\sin{\\left (\\phi \\right )} \\sin{\\left (\\theta \\right )}}{3} - \\frac{2 \\pi \\sin{\\left (\\phi \\right )} \\cos{\\left (\\theta \\right )}}{3} - \\pi \\cos{\\left (\\phi \\right )} + \\frac{\\cos{\\left (\\phi \\right )}}{3} - 2 \\pi + \\frac{1}{2}\\right)}{4 \\pi} + \\frac{\\alpha \\left(\\frac{z \\left(\\sin{\\left (\\frac{2 \\pi x}{\\alpha} \\right )} + \\sin{\\left (\\frac{2 \\pi y}{\\alpha} \\right )}\\right)}{5} + 1\\right) \\left(- \\frac{\\gamma}{10} + \\frac{z}{10} + \\frac{\\tanh{\\left (\\frac{\\left(b + 1\\right) \\left(\\gamma - z\\right)}{5} \\right )}}{5 \\tanh{\\left (\\gamma \\left(b + 1\\right) \\right )}}\\right) \\left(- \\frac{\\pi \\sin{\\left (\\phi \\right )} \\sin{\\left (\\theta \\right )}}{2} - \\frac{\\sin{\\left (\\phi \\right )} \\sin{\\left (\\theta \\right )}}{3} + \\frac{2 \\pi \\sin{\\left (\\phi \\right )} \\cos{\\left (\\theta \\right )}}{3} - \\pi \\cos{\\left (\\phi \\right )} - \\frac{\\cos{\\left (\\phi \\right )}}{3} + \\frac{1}{2} + 2 \\pi\\right)}{4 \\pi}\\right) + \\frac{2 \\pi z \\left(\\sin{\\left (\\phi + \\theta \\right )} + 1\\right) \\left(- \\frac{\\gamma}{10} + \\frac{z}{10} + \\frac{\\tanh{\\left (\\frac{\\left(b + 1\\right) \\left(\\gamma - z\\right)}{5} \\right )}}{5 \\tanh{\\left (\\gamma \\left(b + 1\\right) \\right )}}\\right) \\sin{\\left (\\phi \\right )} \\sin{\\left (\\theta \\right )} \\cos{\\left (\\frac{2 \\pi y}{\\alpha} \\right )}}{5} + \\frac{2 \\pi z \\left(\\sin{\\left (\\phi + \\theta \\right )} + 1\\right) \\left(- \\frac{\\gamma}{10} + \\frac{z}{10} + \\frac{\\tanh{\\left (\\frac{\\left(b + 1\\right) \\left(\\gamma - z\\right)}{5} \\right )}}{5 \\tanh{\\left (\\gamma \\left(b + 1\\right) \\right )}}\\right) \\sin{\\left (\\phi \\right )} \\cos{\\left (\\theta \\right )} \\cos{\\left (\\frac{2 \\pi x}{\\alpha} \\right )}}{5} + \\left(\\alpha \\left(\\frac{z \\left(\\sin{\\left (\\frac{2 \\pi x}{\\alpha} \\right )} + \\sin{\\left (\\frac{2 \\pi y}{\\alpha} \\right )}\\right)}{5} + 1\\right) \\left(\\frac{\\left(- \\frac{b}{5} - \\frac{1}{5}\\right) \\left(- \\tanh^{2}{\\left (\\frac{\\left(b + 1\\right) \\left(\\gamma - z\\right)}{5} \\right )} + 1\\right)}{5 \\tanh{\\left (\\gamma \\left(b + 1\\right) \\right )}} + \\frac{1}{10}\\right) \\left(\\sin{\\left (\\phi + \\theta \\right )} + 1\\right) + \\alpha \\left(\\frac{\\sin{\\left (\\frac{2 \\pi x}{\\alpha} \\right )}}{5} + \\frac{\\sin{\\left (\\frac{2 \\pi y}{\\alpha} \\right )}}{5}\\right) \\left(\\sin{\\left (\\phi + \\theta \\right )} + 1\\right) \\left(- \\frac{\\gamma}{10} + \\frac{z}{10} + \\frac{\\tanh{\\left (\\frac{\\left(b + 1\\right) \\left(\\gamma - z\\right)}{5} \\right )}}{5 \\tanh{\\left (\\gamma \\left(b + 1\\right) \\right )}}\\right)\\right) \\cos{\\left (\\phi \\right )}$$"
      ],
      "text/plain": [
       "                                                                              \n",
       "                                                                              \n",
       "      ⎛  ⎛   ⎛2⋅π⋅x⎞      ⎛2⋅π⋅y⎞⎞    ⎞                  ⎛                    \n",
       "      ⎜z⋅⎜sin⎜─────⎟ + sin⎜─────⎟⎟    ⎟                  ⎜    (tanh(-γ + z) + \n",
       "      ⎜  ⎝   ⎝  α  ⎠      ⎝  α  ⎠⎠    ⎟                  ⎜                    \n",
       "σ = α⋅⎜─────────────────────────── + 1⎟⋅(sin(φ + θ) + 1)⋅⎜b + ────────────────\n",
       "      ⎝             5                 ⎠                  ⎝                    \n",
       "\n",
       "                                                                              \n",
       "                                                                              \n",
       "   ⎛   ⎛2⋅π⋅x⎞      ⎛2⋅π⋅y⎞    ⎞    ⎞ ⎛                ⎛(b + 1)⋅(γ - z)⎞⎞     \n",
       "1)⋅⎜sin⎜─────⎟ + sin⎜─────⎟ + 3⎟    ⎟ ⎜            tanh⎜───────────────⎟⎟     \n",
       "   ⎝   ⎝  α  ⎠      ⎝  α  ⎠    ⎠    ⎟ ⎜  γ    z        ⎝       5       ⎠⎟     \n",
       "──────────────────────────────── + 1⎟⋅⎜- ── + ── + ─────────────────────⎟ - b⋅\n",
       "       20                           ⎠ ⎝  10   10     5⋅tanh(γ⋅(b + 1))  ⎠     \n",
       "\n",
       "⎛  ⎛  ⎛   ⎛2⋅π⋅x⎞      ⎛2⋅π⋅y⎞⎞    ⎞ ⎛                ⎛(b + 1)⋅(γ - z)⎞⎞      \n",
       "⎜  ⎜z⋅⎜sin⎜─────⎟ + sin⎜─────⎟⎟    ⎟ ⎜            tanh⎜───────────────⎟⎟      \n",
       "⎜  ⎜  ⎝   ⎝  α  ⎠      ⎝  α  ⎠⎠    ⎟ ⎜  γ    z        ⎝       5       ⎠⎟ ⎛sin(\n",
       "⎜α⋅⎜─────────────────────────── + 1⎟⋅⎜- ── + ── + ─────────────────────⎟⋅⎜────\n",
       "⎜  ⎝             5                 ⎠ ⎝  10   10     5⋅tanh(γ⋅(b + 1))  ⎠ ⎝    \n",
       "⎜─────────────────────────────────────────────────────────────────────────────\n",
       "⎝                                                4⋅π                          \n",
       "\n",
       "                            ⎛  ⎛   ⎛2⋅π⋅x⎞      ⎛2⋅π⋅y⎞⎞    ⎞ ⎛               \n",
       "                            ⎜z⋅⎜sin⎜─────⎟ + sin⎜─────⎟⎟    ⎟ ⎜            tan\n",
       "φ)⋅sin(θ)   cos(φ)   1⎞     ⎜  ⎝   ⎝  α  ⎠      ⎝  α  ⎠⎠    ⎟ ⎜  γ    z       \n",
       "───────── + ────── + ─⎟   α⋅⎜─────────────────────────── + 1⎟⋅⎜- ── + ── + ───\n",
       "  3           3      2⎠     ⎝             5                 ⎠ ⎝  10   10     5\n",
       "─────────────────────── - ────────────────────────────────────────────────────\n",
       "                                                                              \n",
       "\n",
       " ⎛(b + 1)⋅(γ - z)⎞⎞                                                      ⎛  ⎛ \n",
       "h⎜───────────────⎟⎟                                                      ⎜z⋅⎜s\n",
       " ⎝       5       ⎠⎟ ⎛  π⋅sin(φ)⋅sin(θ)   sin(φ)⋅sin(θ)   cos(φ)   1⎞     ⎜  ⎝ \n",
       "──────────────────⎟⋅⎜- ─────────────── - ───────────── - ────── + ─⎟   α⋅⎜────\n",
       "⋅tanh(γ⋅(b + 1))  ⎠ ⎝         2                3           3      2⎠     ⎝    \n",
       "──────────────────────────────────────────────────────────────────── - ───────\n",
       "      4⋅π                                                                     \n",
       "\n",
       "  ⎛2⋅π⋅x⎞      ⎛2⋅π⋅y⎞⎞    ⎞ ⎛                ⎛(b + 1)⋅(γ - z)⎞⎞              \n",
       "in⎜─────⎟ + sin⎜─────⎟⎟    ⎟ ⎜            tanh⎜───────────────⎟⎟              \n",
       "  ⎝  α  ⎠      ⎝  α  ⎠⎠    ⎟ ⎜  γ    z        ⎝       5       ⎠⎟ ⎛sin(φ)⋅sin(θ\n",
       "─────────────────────── + 1⎟⋅⎜- ── + ── + ─────────────────────⎟⋅⎜────────────\n",
       "         5                 ⎠ ⎝  10   10     5⋅tanh(γ⋅(b + 1))  ⎠ ⎝      3     \n",
       "──────────────────────────────────────────────────────────────────────────────\n",
       "                                                            4⋅π               \n",
       "\n",
       "                                                         ⎛  ⎛   ⎛2⋅π⋅x⎞      ⎛\n",
       "                                                         ⎜z⋅⎜sin⎜─────⎟ + sin⎜\n",
       ")   2⋅π⋅sin(φ)⋅cos(θ)              cos(φ)         1⎞     ⎜  ⎝   ⎝  α  ⎠      ⎝\n",
       "─ - ───────────────── - π⋅cos(φ) + ────── - 2⋅π + ─⎟   α⋅⎜────────────────────\n",
       "            3                        3            2⎠     ⎝             5      \n",
       "──────────────────────────────────────────────────── + ───────────────────────\n",
       "                                                                              \n",
       "\n",
       "2⋅π⋅y⎞⎞    ⎞ ⎛                ⎛(b + 1)⋅(γ - z)⎞⎞                              \n",
       "─────⎟⎟    ⎟ ⎜            tanh⎜───────────────⎟⎟                              \n",
       "  α  ⎠⎠    ⎟ ⎜  γ    z        ⎝       5       ⎠⎟ ⎛  π⋅sin(φ)⋅sin(θ)   sin(φ)⋅s\n",
       "─────── + 1⎟⋅⎜- ── + ── + ─────────────────────⎟⋅⎜- ─────────────── - ────────\n",
       "           ⎠ ⎝  10   10     5⋅tanh(γ⋅(b + 1))  ⎠ ⎝         2                3 \n",
       "──────────────────────────────────────────────────────────────────────────────\n",
       "                                                      4⋅π                     \n",
       "\n",
       "                                                        ⎞                     \n",
       "                                                        ⎟                     \n",
       "in(θ)   2⋅π⋅sin(φ)⋅cos(θ)              cos(φ)   1      ⎞⎟                     \n",
       "───── + ───────────────── - π⋅cos(φ) - ────── + ─ + 2⋅π⎟⎟   2⋅π⋅z⋅(sin(φ + θ) \n",
       "                3                        3      2      ⎠⎟                     \n",
       "────────────────────────────────────────────────────────⎟ + ──────────────────\n",
       "                                                        ⎠                     \n",
       "\n",
       "     ⎛                ⎛(b + 1)⋅(γ - z)⎞⎞                                      \n",
       "     ⎜            tanh⎜───────────────⎟⎟                                      \n",
       "     ⎜  γ    z        ⎝       5       ⎠⎟                  ⎛2⋅π⋅y⎞             \n",
       "+ 1)⋅⎜- ── + ── + ─────────────────────⎟⋅sin(φ)⋅sin(θ)⋅cos⎜─────⎟   2⋅π⋅z⋅(sin\n",
       "     ⎝  10   10     5⋅tanh(γ⋅(b + 1))  ⎠                  ⎝  α  ⎠             \n",
       "───────────────────────────────────────────────────────────────── + ──────────\n",
       "                       5                                                      \n",
       "\n",
       "             ⎛                ⎛(b + 1)⋅(γ - z)⎞⎞                              \n",
       "             ⎜            tanh⎜───────────────⎟⎟                              \n",
       "             ⎜  γ    z        ⎝       5       ⎠⎟                  ⎛2⋅π⋅x⎞   ⎛ \n",
       "(φ + θ) + 1)⋅⎜- ── + ── + ─────────────────────⎟⋅sin(φ)⋅cos(θ)⋅cos⎜─────⎟   ⎜ \n",
       "             ⎝  10   10     5⋅tanh(γ⋅(b + 1))  ⎠                  ⎝  α  ⎠   ⎜ \n",
       "───────────────────────────────────────────────────────────────────────── + ⎜α\n",
       "                               5                                            ⎝ \n",
       "\n",
       "                                                                              \n",
       "                                                                              \n",
       " ⎛  ⎛   ⎛2⋅π⋅x⎞      ⎛2⋅π⋅y⎞⎞    ⎞ ⎛⎛  b   1⎞ ⎛      2⎛(b + 1)⋅(γ - z)⎞    ⎞  \n",
       " ⎜z⋅⎜sin⎜─────⎟ + sin⎜─────⎟⎟    ⎟ ⎜⎜- ─ - ─⎟⋅⎜- tanh ⎜───────────────⎟ + 1⎟  \n",
       " ⎜  ⎝   ⎝  α  ⎠      ⎝  α  ⎠⎠    ⎟ ⎜⎝  5   5⎠ ⎝       ⎝       5       ⎠    ⎠  \n",
       "⋅⎜─────────────────────────── + 1⎟⋅⎜──────────────────────────────────────── +\n",
       " ⎝             5                 ⎠ ⎝           5⋅tanh(γ⋅(b + 1))              \n",
       "\n",
       "                                                                              \n",
       "                                                                              \n",
       "   ⎞                      ⎛   ⎛2⋅π⋅x⎞      ⎛2⋅π⋅y⎞⎞                  ⎛        \n",
       "   ⎟                      ⎜sin⎜─────⎟   sin⎜─────⎟⎟                  ⎜        \n",
       " 1 ⎟                      ⎜   ⎝  α  ⎠      ⎝  α  ⎠⎟                  ⎜  γ    z\n",
       " ──⎟⋅(sin(φ + θ) + 1) + α⋅⎜────────── + ──────────⎟⋅(sin(φ + θ) + 1)⋅⎜- ── + ─\n",
       " 10⎠                      ⎝    5            5     ⎠                  ⎝  10   1\n",
       "\n",
       "                                  \n",
       "                                  \n",
       "        ⎛(b + 1)⋅(γ - z)⎞⎞⎞       \n",
       "    tanh⎜───────────────⎟⎟⎟       \n",
       "        ⎝       5       ⎠⎟⎟       \n",
       "─ + ─────────────────────⎟⎟⋅cos(φ)\n",
       "0     5⋅tanh(γ⋅(b + 1))  ⎠⎠       "
      ]
     },
     "metadata": {},
     "output_type": "display_data"
    },
    {
     "name": "stdout",
     "output_type": "stream",
     "text": [
      "\n"
     ]
    }
   ],
   "source": [
    "print(\"Solution\")\n",
    "mms.display_eq('L', sol_expr)\n",
    "print()\n",
    "\n",
    "print(\"Absorption Coefficient\")\n",
    "mms.display_eq('a', abs_expr)\n",
    "print()\n",
    "\n",
    "print(\"VSF\")\n",
    "mms.display_eq('beta', vsf_expr)\n",
    "\n",
    "print(\"Boundary Condition\")\n",
    "mms.display_eq('L_0', bc_expr)\n",
    "print()\n",
    "\n",
    "print(\"Source\")\n",
    "mms.display_eq('sigma', source_expr)\n",
    "print()"
   ]
  },
  {
   "cell_type": "markdown",
   "metadata": {},
   "source": [
    "## Check solution constraints\n",
    "\n",
    "- Everything is periodic in x, y\n",
    "- Absorption coefficient is positive\n",
    "- Boundary condition depends only on angle\n",
    "- No upwelling light from below\n",
    "- Properly normalized VSF"
   ]
  },
  {
   "cell_type": "code",
   "execution_count": 298,
   "metadata": {},
   "outputs": [
    {
     "name": "stdout",
     "output_type": "stream",
     "text": [
      "bottom: True\n",
      "x: True\n",
      "y: True\n",
      "VSF: True\n"
     ]
    }
   ],
   "source": [
    "# Check bottom BC\n",
    "print('bottom:', sp.expand(sol_expr.subs('z',sp.Symbol('gamma'))) == 0)\n",
    "\n",
    "# Check periodicity\n",
    "smax = sp.Symbol('alpha')/2\n",
    "smin = -smax\n",
    "print('x:', sp.expand(sol_expr.subs('x',smax) - sol_expr.subs('x',smin)) == 0)\n",
    "print('y:', sp.expand(sol_expr.subs('y',smax) - sol_expr.subs('y',smin)) == 0)\n",
    "\n",
    "# Check VSF normalization (Should be 1 over whole sphere, or 1/(2pi) on [-1, 1].)\n",
    "print(\n",
    "    \"VSF:\",\n",
    "    1 == sp.expand(\n",
    "        mms.sphere_integral(\n",
    "            vsf_expr.subs(\n",
    "                'Delta', \n",
    "                mms.dot(\n",
    "                    mms.vec_om, \n",
    "                    mms.vec_omp)\n",
    "            ), \n",
    "            angle=mms.angle\n",
    "        )\n",
    "    )\n",
    ")"
   ]
  },
  {
   "cell_type": "markdown",
   "metadata": {},
   "source": [
    "## Check source term\n",
    "\n",
    "If source term appears nonzero, try substituting parameters,\n",
    "then plugging in analytical solution.\n",
    "\n",
    "The result should be 0."
   ]
  },
  {
   "cell_type": "code",
   "execution_count": 299,
   "metadata": {},
   "outputs": [
    {
     "data": {
      "image/png": "[encoded data removed]",
      "text/latex": [
       "$$- \\left(2.25514051876985 \\cdot 10^{-17} z \\sin{\\left (2 \\pi x \\right )} \\sin{\\left (\\phi + \\theta \\right )} \\tanh^{2}{\\left (0.3 z - 0.3 \\right )} - 2.34187669256869 \\cdot 10^{-17} z \\sin{\\left (2 \\pi x \\right )} \\sin{\\left (\\phi + \\theta \\right )} + 2.25514051876985 \\cdot 10^{-17} z \\sin{\\left (2 \\pi x \\right )} \\tanh^{2}{\\left (0.3 z - 0.3 \\right )} - 2.34187669256869 \\cdot 10^{-17} z \\sin{\\left (2 \\pi x \\right )} + 2.25514051876985 \\cdot 10^{-17} z \\sin{\\left (2 \\pi y \\right )} \\sin{\\left (\\phi + \\theta \\right )} \\tanh^{2}{\\left (0.3 z - 0.3 \\right )} - 2.34187669256869 \\cdot 10^{-17} z \\sin{\\left (2 \\pi y \\right )} \\sin{\\left (\\phi + \\theta \\right )} + 2.25514051876985 \\cdot 10^{-17} z \\sin{\\left (2 \\pi y \\right )} \\tanh^{2}{\\left (0.3 z - 0.3 \\right )} - 2.34187669256869 \\cdot 10^{-17} z \\sin{\\left (2 \\pi y \\right )} + 1.11022302462516 \\cdot 10^{-16} \\sin{\\left (\\phi + \\theta \\right )} \\tanh^{2}{\\left (0.3 z - 0.3 \\right )} - 1.17961196366423 \\cdot 10^{-16} \\sin{\\left (\\phi + \\theta \\right )} + 1.11022302462516 \\cdot 10^{-16} \\tanh^{2}{\\left (0.3 z - 0.3 \\right )} - 1.17961196366423 \\cdot 10^{-16}\\right) \\cos{\\left (\\phi \\right )}$$"
      ],
      "text/plain": [
       " ⎛                                                 2                          \n",
       "-⎝2.25514051876985e-17⋅z⋅sin(2⋅π⋅x)⋅sin(φ + θ)⋅tanh (0.3⋅z - 0.3) - 2.34187669\n",
       "\n",
       "                                                                           2  \n",
       "256869e-17⋅z⋅sin(2⋅π⋅x)⋅sin(φ + θ) + 2.25514051876985e-17⋅z⋅sin(2⋅π⋅x)⋅tanh (0\n",
       "\n",
       "                                                                              \n",
       ".3⋅z - 0.3) - 2.34187669256869e-17⋅z⋅sin(2⋅π⋅x) + 2.25514051876985e-17⋅z⋅sin(2\n",
       "\n",
       "                     2                                                        \n",
       "⋅π⋅y)⋅sin(φ + θ)⋅tanh (0.3⋅z - 0.3) - 2.34187669256869e-17⋅z⋅sin(2⋅π⋅y)⋅sin(φ \n",
       "\n",
       "                                             2                                \n",
       "+ θ) + 2.25514051876985e-17⋅z⋅sin(2⋅π⋅y)⋅tanh (0.3⋅z - 0.3) - 2.34187669256869\n",
       "\n",
       "                                                        2                     \n",
       "e-17⋅z⋅sin(2⋅π⋅y) + 1.11022302462516e-16⋅sin(φ + θ)⋅tanh (0.3⋅z - 0.3) - 1.179\n",
       "\n",
       "                                                      2                       \n",
       "61196366423e-16⋅sin(φ + θ) + 1.11022302462516e-16⋅tanh (0.3⋅z - 0.3) - 1.17961\n",
       "\n",
       "             ⎞       \n",
       "196366423e-16⎠⋅cos(φ)"
      ]
     },
     "execution_count": 299,
     "metadata": {},
     "output_type": "execute_result"
    }
   ],
   "source": [
    "diff = mms.check_sol(sol_sym, b, abs_sym, vsf_sym, source_sym)\n",
    "diff"
   ]
  },
  {
   "cell_type": "code",
   "execution_count": 300,
   "metadata": {},
   "outputs": [],
   "source": [
    "num_diff = sp.lambdify(\n",
    "    (*mms.space, *mms.angle),\n",
    "    diff,\n",
    "    modules=(\"numpy\",)\n",
    ")"
   ]
  },
  {
   "cell_type": "code",
   "execution_count": 301,
   "metadata": {},
   "outputs": [
    {
     "data": {
      "image/png": "[encoded data removed]",
      "text/latex": [
       "$$3.0516098071977975e-16$$"
      ],
      "text/plain": [
       "3.0516098071977975e-16"
      ]
     },
     "execution_count": 301,
     "metadata": {},
     "output_type": "execute_result"
    }
   ],
   "source": [
    "# Check numerical max on grid in case of numerical error in above expression\n",
    "np.max(num_diff(*mms.gen_grid(10, 10, 10, 10, 1, 1)))"
   ]
  },
  {
   "cell_type": "markdown",
   "metadata": {},
   "source": [
    "## Code Verification Study"
   ]
  },
  {
   "cell_type": "code",
   "execution_count": 260,
   "metadata": {},
   "outputs": [
    {
     "name": "stdout",
     "output_type": "stream",
     "text": [
      "[0]\n"
     ]
    },
    {
     "name": "stderr",
     "output_type": "stream",
     "text": [
      "/home/oliver/local/miniconda3/envs/kelp/lib/python3.6/site-packages/ipyparallel/client/client.py:459: RuntimeWarning: \n",
      "            Controller appears to be listening on localhost, but not on this machine.\n",
      "            If this is true, you should specify Client(...,sshserver='you@oliver-arch')\n",
      "            or instruct your controller to listen on an external IP.\n",
      "  RuntimeWarning)\n"
     ]
    }
   ],
   "source": [
    "#remote_config = kelp_param.ParamSpanRemoteConfig()\n",
    "ipc = ipp.Client()\n",
    "lv = ipc.load_balanced_view()\n",
    "dv = ipc.direct_view()\n",
    "print(ipc.ids)"
   ]
  },
  {
   "cell_type": "code",
   "execution_count": 261,
   "metadata": {},
   "outputs": [
    {
     "data": {
      "text/plain": [
       "{'unassigned': 0, 0: {'queue': 0, 'completed': 0, 'tasks': 0}}"
      ]
     },
     "execution_count": 261,
     "metadata": {},
     "output_type": "execute_result"
    }
   ],
   "source": [
    "ipc.queue_status()"
   ]
  },
  {
   "cell_type": "code",
   "execution_count": null,
   "metadata": {},
   "outputs": [],
   "source": []
  },
  {
   "cell_type": "code",
   "execution_count": 321,
   "metadata": {
    "scrolled": true
   },
   "outputs": [
    {
     "name": "stderr",
     "output_type": "stream",
     "text": [
      "/home/oliver/local/miniconda3/envs/kelp/lib/python3.6/site-packages/ipyparallel/client/client.py:459: RuntimeWarning: \n",
      "            Controller appears to be listening on localhost, but not on this machine.\n",
      "            If this is true, you should specify Client(...,sshserver='you@oliver-arch')\n",
      "            or instruct your controller to listen on an external IP.\n",
      "  RuntimeWarning)\n"
     ]
    },
    {
     "name": "stdout",
     "output_type": "stream",
     "text": [
      "Creating new study directory.\n",
      "Running grid (12,12,12,12)\n",
      "Running grid ( 4,12,12,12)\n",
      "Running grid ( 6,12,12,12)\n",
      "Running grid ( 8,12,12,12)\n",
      "Running grid (10,12,12,12)\n",
      "Running grid (12, 4,12,12)\n",
      "Running grid (12, 6,12,12)\n",
      "Running grid (12, 8,12,12)\n",
      "Running grid (12,10,12,12)\n",
      "Running grid (12,12, 4,12)\n",
      "Running grid (12,12, 5,12)\n",
      "Running grid (12,12, 6,12)\n",
      "Running grid (12,12, 7,12)\n",
      "Running grid (12,12, 8,12)\n",
      "Running grid (12,12, 9,12)\n",
      "Running grid (12,12,10,12)\n",
      "Running grid (12,12,11,12)\n",
      "Running grid (12,12,12, 4)\n",
      "Running grid (12,12,12, 6)\n",
      "Running grid (12,12,12, 8)\n",
      "Running grid (12,12,12,10)\n",
      "Reading existing runs.\n",
      "Finished reading existing runs.\n",
      "Calling solve_rte_with_callbacks(12, 12, 12, 12, 1, 1, 0.5, alpha*(z*(sin(2*pi*x/alpha) + sin(2*pi*y/alpha))/5 + 1)*(sin(phi + theta) + 1)*(-gamma/10 + z/10 + tanh((b + 1)*(gamma - z)/5)/(5*tanh(gamma*(b + 1)))), (tanh(-gamma + z) + 1)*(sin(2*pi*x/alpha) + sin(2*pi*y/alpha) + 3)/20 + 1, alpha*(z*(sin(2*pi*x/alpha) + sin(2*pi*y/alpha))/5 + 1)*(sin(phi + theta) + 1)*(b + (tanh(-gamma + z) + 1)*(sin(2*pi*x/alpha) + sin(2*pi*y/alpha) + 3)/20 + 1)*(-gamma/10 + z/10 + tanh((b + 1)*(gamma - z)/5)/(5*tanh(gamma*(b + 1)))) - b*(alpha*(z*(sin(2*pi*x/alpha) + sin(2*pi*y/alpha))/5 + 1)*(-gamma/10 + z/10 + tanh((b + 1)*(gamma - z)/5)/(5*tanh(gamma*(b + 1))))*(sin(phi)*sin(theta)/3 + cos(phi)/3 + 1/2)/(4*pi) - alpha*(z*(sin(2*pi*x/alpha) + sin(2*pi*y/alpha))/5 + 1)*(-gamma/10 + z/10 + tanh((b + 1)*(gamma - z)/5)/(5*tanh(gamma*(b + 1))))*(-pi*sin(phi)*sin(theta)/2 - sin(phi)*sin(theta)/3 - cos(phi)/3 + 1/2)/(4*pi) - alpha*(z*(sin(2*pi*x/alpha) + sin(2*pi*y/alpha))/5 + 1)*(-gamma/10 + z/10 + tanh((b + 1)*(gamma - z)/5)/(5*tanh(gamma*(b + 1))))*(sin(phi)*sin(theta)/3 - 2*pi*sin(phi)*cos(theta)/3 - pi*cos(phi) + cos(phi)/3 - 2*pi + 1/2)/(4*pi) + alpha*(z*(sin(2*pi*x/alpha) + sin(2*pi*y/alpha))/5 + 1)*(-gamma/10 + z/10 + tanh((b + 1)*(gamma - z)/5)/(5*tanh(gamma*(b + 1))))*(-pi*sin(phi)*sin(theta)/2 - sin(phi)*sin(theta)/3 + 2*pi*sin(phi)*cos(theta)/3 - pi*cos(phi) - cos(phi)/3 + 1/2 + 2*pi)/(4*pi)) + 2*pi*z*(sin(phi + theta) + 1)*(-gamma/10 + z/10 + tanh((b + 1)*(gamma - z)/5)/(5*tanh(gamma*(b + 1))))*sin(phi)*sin(theta)*cos(2*pi*y/alpha)/5 + 2*pi*z*(sin(phi + theta) + 1)*(-gamma/10 + z/10 + tanh((b + 1)*(gamma - z)/5)/(5*tanh(gamma*(b + 1))))*sin(phi)*cos(theta)*cos(2*pi*x/alpha)/5 + (alpha*(z*(sin(2*pi*x/alpha) + sin(2*pi*y/alpha))/5 + 1)*((-b/5 - 1/5)*(-tanh((b + 1)*(gamma - z)/5)**2 + 1)/(5*tanh(gamma*(b + 1))) + 1/10)*(sin(phi + theta) + 1) + alpha*(sin(2*pi*x/alpha)/5 + sin(2*pi*y/alpha)/5)*(sin(phi + theta) + 1)*(-gamma/10 + z/10 + tanh((b + 1)*(gamma - z)/5)/(5*tanh(gamma*(b + 1)))))*cos(phi), alpha*(-gamma/10 + tanh(gamma*(b + 1)/5)/(5*tanh(gamma*(b + 1))))*(sin(phi + theta) + 1), (Delta + 1)/(4*pi), {'alpha': 1, 'gamma': 1, 'b': 0.5}, 0, True, study_dir='/home/oliver/academic/research/kelp-results/verify_test_12_12_12_b05_uniform_smallderiv', study_name='verify_test_12_12_12_b05_uniform_smallderiv')\n",
      "\n",
      "Calling solve_rte_with_callbacks(4, 12, 12, 12, 1, 1, 0.5, alpha*(z*(sin(2*pi*x/alpha) + sin(2*pi*y/alpha))/5 + 1)*(sin(phi + theta) + 1)*(-gamma/10 + z/10 + tanh((b + 1)*(gamma - z)/5)/(5*tanh(gamma*(b + 1)))), (tanh(-gamma + z) + 1)*(sin(2*pi*x/alpha) + sin(2*pi*y/alpha) + 3)/20 + 1, alpha*(z*(sin(2*pi*x/alpha) + sin(2*pi*y/alpha))/5 + 1)*(sin(phi + theta) + 1)*(b + (tanh(-gamma + z) + 1)*(sin(2*pi*x/alpha) + sin(2*pi*y/alpha) + 3)/20 + 1)*(-gamma/10 + z/10 + tanh((b + 1)*(gamma - z)/5)/(5*tanh(gamma*(b + 1)))) - b*(alpha*(z*(sin(2*pi*x/alpha) + sin(2*pi*y/alpha))/5 + 1)*(-gamma/10 + z/10 + tanh((b + 1)*(gamma - z)/5)/(5*tanh(gamma*(b + 1))))*(sin(phi)*sin(theta)/3 + cos(phi)/3 + 1/2)/(4*pi) - alpha*(z*(sin(2*pi*x/alpha) + sin(2*pi*y/alpha))/5 + 1)*(-gamma/10 + z/10 + tanh((b + 1)*(gamma - z)/5)/(5*tanh(gamma*(b + 1))))*(-pi*sin(phi)*sin(theta)/2 - sin(phi)*sin(theta)/3 - cos(phi)/3 + 1/2)/(4*pi) - alpha*(z*(sin(2*pi*x/alpha) + sin(2*pi*y/alpha))/5 + 1)*(-gamma/10 + z/10 + tanh((b + 1)*(gamma - z)/5)/(5*tanh(gamma*(b + 1))))*(sin(phi)*sin(theta)/3 - 2*pi*sin(phi)*cos(theta)/3 - pi*cos(phi) + cos(phi)/3 - 2*pi + 1/2)/(4*pi) + alpha*(z*(sin(2*pi*x/alpha) + sin(2*pi*y/alpha))/5 + 1)*(-gamma/10 + z/10 + tanh((b + 1)*(gamma - z)/5)/(5*tanh(gamma*(b + 1))))*(-pi*sin(phi)*sin(theta)/2 - sin(phi)*sin(theta)/3 + 2*pi*sin(phi)*cos(theta)/3 - pi*cos(phi) - cos(phi)/3 + 1/2 + 2*pi)/(4*pi)) + 2*pi*z*(sin(phi + theta) + 1)*(-gamma/10 + z/10 + tanh((b + 1)*(gamma - z)/5)/(5*tanh(gamma*(b + 1))))*sin(phi)*sin(theta)*cos(2*pi*y/alpha)/5 + 2*pi*z*(sin(phi + theta) + 1)*(-gamma/10 + z/10 + tanh((b + 1)*(gamma - z)/5)/(5*tanh(gamma*(b + 1))))*sin(phi)*cos(theta)*cos(2*pi*x/alpha)/5 + (alpha*(z*(sin(2*pi*x/alpha) + sin(2*pi*y/alpha))/5 + 1)*((-b/5 - 1/5)*(-tanh((b + 1)*(gamma - z)/5)**2 + 1)/(5*tanh(gamma*(b + 1))) + 1/10)*(sin(phi + theta) + 1) + alpha*(sin(2*pi*x/alpha)/5 + sin(2*pi*y/alpha)/5)*(sin(phi + theta) + 1)*(-gamma/10 + z/10 + tanh((b + 1)*(gamma - z)/5)/(5*tanh(gamma*(b + 1)))))*cos(phi), alpha*(-gamma/10 + tanh(gamma*(b + 1)/5)/(5*tanh(gamma*(b + 1))))*(sin(phi + theta) + 1), (Delta + 1)/(4*pi), {'alpha': 1, 'gamma': 1, 'b': 0.5}, 0, True, study_dir='/home/oliver/academic/research/kelp-results/verify_test_12_12_12_b05_uniform_smallderiv', study_name='verify_test_12_12_12_b05_uniform_smallderiv')\n",
      "\n",
      "Calling solve_rte_with_callbacks(6, 12, 12, 12, 1, 1, 0.5, alpha*(z*(sin(2*pi*x/alpha) + sin(2*pi*y/alpha))/5 + 1)*(sin(phi + theta) + 1)*(-gamma/10 + z/10 + tanh((b + 1)*(gamma - z)/5)/(5*tanh(gamma*(b + 1)))), (tanh(-gamma + z) + 1)*(sin(2*pi*x/alpha) + sin(2*pi*y/alpha) + 3)/20 + 1, alpha*(z*(sin(2*pi*x/alpha) + sin(2*pi*y/alpha))/5 + 1)*(sin(phi + theta) + 1)*(b + (tanh(-gamma + z) + 1)*(sin(2*pi*x/alpha) + sin(2*pi*y/alpha) + 3)/20 + 1)*(-gamma/10 + z/10 + tanh((b + 1)*(gamma - z)/5)/(5*tanh(gamma*(b + 1)))) - b*(alpha*(z*(sin(2*pi*x/alpha) + sin(2*pi*y/alpha))/5 + 1)*(-gamma/10 + z/10 + tanh((b + 1)*(gamma - z)/5)/(5*tanh(gamma*(b + 1))))*(sin(phi)*sin(theta)/3 + cos(phi)/3 + 1/2)/(4*pi) - alpha*(z*(sin(2*pi*x/alpha) + sin(2*pi*y/alpha))/5 + 1)*(-gamma/10 + z/10 + tanh((b + 1)*(gamma - z)/5)/(5*tanh(gamma*(b + 1))))*(-pi*sin(phi)*sin(theta)/2 - sin(phi)*sin(theta)/3 - cos(phi)/3 + 1/2)/(4*pi) - alpha*(z*(sin(2*pi*x/alpha) + sin(2*pi*y/alpha))/5 + 1)*(-gamma/10 + z/10 + tanh((b + 1)*(gamma - z)/5)/(5*tanh(gamma*(b + 1))))*(sin(phi)*sin(theta)/3 - 2*pi*sin(phi)*cos(theta)/3 - pi*cos(phi) + cos(phi)/3 - 2*pi + 1/2)/(4*pi) + alpha*(z*(sin(2*pi*x/alpha) + sin(2*pi*y/alpha))/5 + 1)*(-gamma/10 + z/10 + tanh((b + 1)*(gamma - z)/5)/(5*tanh(gamma*(b + 1))))*(-pi*sin(phi)*sin(theta)/2 - sin(phi)*sin(theta)/3 + 2*pi*sin(phi)*cos(theta)/3 - pi*cos(phi) - cos(phi)/3 + 1/2 + 2*pi)/(4*pi)) + 2*pi*z*(sin(phi + theta) + 1)*(-gamma/10 + z/10 + tanh((b + 1)*(gamma - z)/5)/(5*tanh(gamma*(b + 1))))*sin(phi)*sin(theta)*cos(2*pi*y/alpha)/5 + 2*pi*z*(sin(phi + theta) + 1)*(-gamma/10 + z/10 + tanh((b + 1)*(gamma - z)/5)/(5*tanh(gamma*(b + 1))))*sin(phi)*cos(theta)*cos(2*pi*x/alpha)/5 + (alpha*(z*(sin(2*pi*x/alpha) + sin(2*pi*y/alpha))/5 + 1)*((-b/5 - 1/5)*(-tanh((b + 1)*(gamma - z)/5)**2 + 1)/(5*tanh(gamma*(b + 1))) + 1/10)*(sin(phi + theta) + 1) + alpha*(sin(2*pi*x/alpha)/5 + sin(2*pi*y/alpha)/5)*(sin(phi + theta) + 1)*(-gamma/10 + z/10 + tanh((b + 1)*(gamma - z)/5)/(5*tanh(gamma*(b + 1)))))*cos(phi), alpha*(-gamma/10 + tanh(gamma*(b + 1)/5)/(5*tanh(gamma*(b + 1))))*(sin(phi + theta) + 1), (Delta + 1)/(4*pi), {'alpha': 1, 'gamma': 1, 'b': 0.5}, 0, True, study_dir='/home/oliver/academic/research/kelp-results/verify_test_12_12_12_b05_uniform_smallderiv', study_name='verify_test_12_12_12_b05_uniform_smallderiv')\n",
      "\n",
      "Calling solve_rte_with_callbacks(8, 12, 12, 12, 1, 1, 0.5, alpha*(z*(sin(2*pi*x/alpha) + sin(2*pi*y/alpha))/5 + 1)*(sin(phi + theta) + 1)*(-gamma/10 + z/10 + tanh((b + 1)*(gamma - z)/5)/(5*tanh(gamma*(b + 1)))), (tanh(-gamma + z) + 1)*(sin(2*pi*x/alpha) + sin(2*pi*y/alpha) + 3)/20 + 1, alpha*(z*(sin(2*pi*x/alpha) + sin(2*pi*y/alpha))/5 + 1)*(sin(phi + theta) + 1)*(b + (tanh(-gamma + z) + 1)*(sin(2*pi*x/alpha) + sin(2*pi*y/alpha) + 3)/20 + 1)*(-gamma/10 + z/10 + tanh((b + 1)*(gamma - z)/5)/(5*tanh(gamma*(b + 1)))) - b*(alpha*(z*(sin(2*pi*x/alpha) + sin(2*pi*y/alpha))/5 + 1)*(-gamma/10 + z/10 + tanh((b + 1)*(gamma - z)/5)/(5*tanh(gamma*(b + 1))))*(sin(phi)*sin(theta)/3 + cos(phi)/3 + 1/2)/(4*pi) - alpha*(z*(sin(2*pi*x/alpha) + sin(2*pi*y/alpha))/5 + 1)*(-gamma/10 + z/10 + tanh((b + 1)*(gamma - z)/5)/(5*tanh(gamma*(b + 1))))*(-pi*sin(phi)*sin(theta)/2 - sin(phi)*sin(theta)/3 - cos(phi)/3 + 1/2)/(4*pi) - alpha*(z*(sin(2*pi*x/alpha) + sin(2*pi*y/alpha))/5 + 1)*(-gamma/10 + z/10 + tanh((b + 1)*(gamma - z)/5)/(5*tanh(gamma*(b + 1))))*(sin(phi)*sin(theta)/3 - 2*pi*sin(phi)*cos(theta)/3 - pi*cos(phi) + cos(phi)/3 - 2*pi + 1/2)/(4*pi) + alpha*(z*(sin(2*pi*x/alpha) + sin(2*pi*y/alpha))/5 + 1)*(-gamma/10 + z/10 + tanh((b + 1)*(gamma - z)/5)/(5*tanh(gamma*(b + 1))))*(-pi*sin(phi)*sin(theta)/2 - sin(phi)*sin(theta)/3 + 2*pi*sin(phi)*cos(theta)/3 - pi*cos(phi) - cos(phi)/3 + 1/2 + 2*pi)/(4*pi)) + 2*pi*z*(sin(phi + theta) + 1)*(-gamma/10 + z/10 + tanh((b + 1)*(gamma - z)/5)/(5*tanh(gamma*(b + 1))))*sin(phi)*sin(theta)*cos(2*pi*y/alpha)/5 + 2*pi*z*(sin(phi + theta) + 1)*(-gamma/10 + z/10 + tanh((b + 1)*(gamma - z)/5)/(5*tanh(gamma*(b + 1))))*sin(phi)*cos(theta)*cos(2*pi*x/alpha)/5 + (alpha*(z*(sin(2*pi*x/alpha) + sin(2*pi*y/alpha))/5 + 1)*((-b/5 - 1/5)*(-tanh((b + 1)*(gamma - z)/5)**2 + 1)/(5*tanh(gamma*(b + 1))) + 1/10)*(sin(phi + theta) + 1) + alpha*(sin(2*pi*x/alpha)/5 + sin(2*pi*y/alpha)/5)*(sin(phi + theta) + 1)*(-gamma/10 + z/10 + tanh((b + 1)*(gamma - z)/5)/(5*tanh(gamma*(b + 1)))))*cos(phi), alpha*(-gamma/10 + tanh(gamma*(b + 1)/5)/(5*tanh(gamma*(b + 1))))*(sin(phi + theta) + 1), (Delta + 1)/(4*pi), {'alpha': 1, 'gamma': 1, 'b': 0.5}, 0, True, study_dir='/home/oliver/academic/research/kelp-results/verify_test_12_12_12_b05_uniform_smallderiv', study_name='verify_test_12_12_12_b05_uniform_smallderiv')\n",
      "\n",
      "Calling solve_rte_with_callbacks(10, 12, 12, 12, 1, 1, 0.5, alpha*(z*(sin(2*pi*x/alpha) + sin(2*pi*y/alpha))/5 + 1)*(sin(phi + theta) + 1)*(-gamma/10 + z/10 + tanh((b + 1)*(gamma - z)/5)/(5*tanh(gamma*(b + 1)))), (tanh(-gamma + z) + 1)*(sin(2*pi*x/alpha) + sin(2*pi*y/alpha) + 3)/20 + 1, alpha*(z*(sin(2*pi*x/alpha) + sin(2*pi*y/alpha))/5 + 1)*(sin(phi + theta) + 1)*(b + (tanh(-gamma + z) + 1)*(sin(2*pi*x/alpha) + sin(2*pi*y/alpha) + 3)/20 + 1)*(-gamma/10 + z/10 + tanh((b + 1)*(gamma - z)/5)/(5*tanh(gamma*(b + 1)))) - b*(alpha*(z*(sin(2*pi*x/alpha) + sin(2*pi*y/alpha))/5 + 1)*(-gamma/10 + z/10 + tanh((b + 1)*(gamma - z)/5)/(5*tanh(gamma*(b + 1))))*(sin(phi)*sin(theta)/3 + cos(phi)/3 + 1/2)/(4*pi) - alpha*(z*(sin(2*pi*x/alpha) + sin(2*pi*y/alpha))/5 + 1)*(-gamma/10 + z/10 + tanh((b + 1)*(gamma - z)/5)/(5*tanh(gamma*(b + 1))))*(-pi*sin(phi)*sin(theta)/2 - sin(phi)*sin(theta)/3 - cos(phi)/3 + 1/2)/(4*pi) - alpha*(z*(sin(2*pi*x/alpha) + sin(2*pi*y/alpha))/5 + 1)*(-gamma/10 + z/10 + tanh((b + 1)*(gamma - z)/5)/(5*tanh(gamma*(b + 1))))*(sin(phi)*sin(theta)/3 - 2*pi*sin(phi)*cos(theta)/3 - pi*cos(phi) + cos(phi)/3 - 2*pi + 1/2)/(4*pi) + alpha*(z*(sin(2*pi*x/alpha) + sin(2*pi*y/alpha))/5 + 1)*(-gamma/10 + z/10 + tanh((b + 1)*(gamma - z)/5)/(5*tanh(gamma*(b + 1))))*(-pi*sin(phi)*sin(theta)/2 - sin(phi)*sin(theta)/3 + 2*pi*sin(phi)*cos(theta)/3 - pi*cos(phi) - cos(phi)/3 + 1/2 + 2*pi)/(4*pi)) + 2*pi*z*(sin(phi + theta) + 1)*(-gamma/10 + z/10 + tanh((b + 1)*(gamma - z)/5)/(5*tanh(gamma*(b + 1))))*sin(phi)*sin(theta)*cos(2*pi*y/alpha)/5 + 2*pi*z*(sin(phi + theta) + 1)*(-gamma/10 + z/10 + tanh((b + 1)*(gamma - z)/5)/(5*tanh(gamma*(b + 1))))*sin(phi)*cos(theta)*cos(2*pi*x/alpha)/5 + (alpha*(z*(sin(2*pi*x/alpha) + sin(2*pi*y/alpha))/5 + 1)*((-b/5 - 1/5)*(-tanh((b + 1)*(gamma - z)/5)**2 + 1)/(5*tanh(gamma*(b + 1))) + 1/10)*(sin(phi + theta) + 1) + alpha*(sin(2*pi*x/alpha)/5 + sin(2*pi*y/alpha)/5)*(sin(phi + theta) + 1)*(-gamma/10 + z/10 + tanh((b + 1)*(gamma - z)/5)/(5*tanh(gamma*(b + 1)))))*cos(phi), alpha*(-gamma/10 + tanh(gamma*(b + 1)/5)/(5*tanh(gamma*(b + 1))))*(sin(phi + theta) + 1), (Delta + 1)/(4*pi), {'alpha': 1, 'gamma': 1, 'b': 0.5}, 0, True, study_dir='/home/oliver/academic/research/kelp-results/verify_test_12_12_12_b05_uniform_smallderiv', study_name='verify_test_12_12_12_b05_uniform_smallderiv')\n",
      "\n",
      "Calling solve_rte_with_callbacks(12, 4, 12, 12, 1, 1, 0.5, alpha*(z*(sin(2*pi*x/alpha) + sin(2*pi*y/alpha))/5 + 1)*(sin(phi + theta) + 1)*(-gamma/10 + z/10 + tanh((b + 1)*(gamma - z)/5)/(5*tanh(gamma*(b + 1)))), (tanh(-gamma + z) + 1)*(sin(2*pi*x/alpha) + sin(2*pi*y/alpha) + 3)/20 + 1, alpha*(z*(sin(2*pi*x/alpha) + sin(2*pi*y/alpha))/5 + 1)*(sin(phi + theta) + 1)*(b + (tanh(-gamma + z) + 1)*(sin(2*pi*x/alpha) + sin(2*pi*y/alpha) + 3)/20 + 1)*(-gamma/10 + z/10 + tanh((b + 1)*(gamma - z)/5)/(5*tanh(gamma*(b + 1)))) - b*(alpha*(z*(sin(2*pi*x/alpha) + sin(2*pi*y/alpha))/5 + 1)*(-gamma/10 + z/10 + tanh((b + 1)*(gamma - z)/5)/(5*tanh(gamma*(b + 1))))*(sin(phi)*sin(theta)/3 + cos(phi)/3 + 1/2)/(4*pi) - alpha*(z*(sin(2*pi*x/alpha) + sin(2*pi*y/alpha))/5 + 1)*(-gamma/10 + z/10 + tanh((b + 1)*(gamma - z)/5)/(5*tanh(gamma*(b + 1))))*(-pi*sin(phi)*sin(theta)/2 - sin(phi)*sin(theta)/3 - cos(phi)/3 + 1/2)/(4*pi) - alpha*(z*(sin(2*pi*x/alpha) + sin(2*pi*y/alpha))/5 + 1)*(-gamma/10 + z/10 + tanh((b + 1)*(gamma - z)/5)/(5*tanh(gamma*(b + 1))))*(sin(phi)*sin(theta)/3 - 2*pi*sin(phi)*cos(theta)/3 - pi*cos(phi) + cos(phi)/3 - 2*pi + 1/2)/(4*pi) + alpha*(z*(sin(2*pi*x/alpha) + sin(2*pi*y/alpha))/5 + 1)*(-gamma/10 + z/10 + tanh((b + 1)*(gamma - z)/5)/(5*tanh(gamma*(b + 1))))*(-pi*sin(phi)*sin(theta)/2 - sin(phi)*sin(theta)/3 + 2*pi*sin(phi)*cos(theta)/3 - pi*cos(phi) - cos(phi)/3 + 1/2 + 2*pi)/(4*pi)) + 2*pi*z*(sin(phi + theta) + 1)*(-gamma/10 + z/10 + tanh((b + 1)*(gamma - z)/5)/(5*tanh(gamma*(b + 1))))*sin(phi)*sin(theta)*cos(2*pi*y/alpha)/5 + 2*pi*z*(sin(phi + theta) + 1)*(-gamma/10 + z/10 + tanh((b + 1)*(gamma - z)/5)/(5*tanh(gamma*(b + 1))))*sin(phi)*cos(theta)*cos(2*pi*x/alpha)/5 + (alpha*(z*(sin(2*pi*x/alpha) + sin(2*pi*y/alpha))/5 + 1)*((-b/5 - 1/5)*(-tanh((b + 1)*(gamma - z)/5)**2 + 1)/(5*tanh(gamma*(b + 1))) + 1/10)*(sin(phi + theta) + 1) + alpha*(sin(2*pi*x/alpha)/5 + sin(2*pi*y/alpha)/5)*(sin(phi + theta) + 1)*(-gamma/10 + z/10 + tanh((b + 1)*(gamma - z)/5)/(5*tanh(gamma*(b + 1)))))*cos(phi), alpha*(-gamma/10 + tanh(gamma*(b + 1)/5)/(5*tanh(gamma*(b + 1))))*(sin(phi + theta) + 1), (Delta + 1)/(4*pi), {'alpha': 1, 'gamma': 1, 'b': 0.5}, 0, True, study_dir='/home/oliver/academic/research/kelp-results/verify_test_12_12_12_b05_uniform_smallderiv', study_name='verify_test_12_12_12_b05_uniform_smallderiv')\n",
      "\n",
      "Calling solve_rte_with_callbacks(12, 6, 12, 12, 1, 1, 0.5, alpha*(z*(sin(2*pi*x/alpha) + sin(2*pi*y/alpha))/5 + 1)*(sin(phi + theta) + 1)*(-gamma/10 + z/10 + tanh((b + 1)*(gamma - z)/5)/(5*tanh(gamma*(b + 1)))), (tanh(-gamma + z) + 1)*(sin(2*pi*x/alpha) + sin(2*pi*y/alpha) + 3)/20 + 1, alpha*(z*(sin(2*pi*x/alpha) + sin(2*pi*y/alpha))/5 + 1)*(sin(phi + theta) + 1)*(b + (tanh(-gamma + z) + 1)*(sin(2*pi*x/alpha) + sin(2*pi*y/alpha) + 3)/20 + 1)*(-gamma/10 + z/10 + tanh((b + 1)*(gamma - z)/5)/(5*tanh(gamma*(b + 1)))) - b*(alpha*(z*(sin(2*pi*x/alpha) + sin(2*pi*y/alpha))/5 + 1)*(-gamma/10 + z/10 + tanh((b + 1)*(gamma - z)/5)/(5*tanh(gamma*(b + 1))))*(sin(phi)*sin(theta)/3 + cos(phi)/3 + 1/2)/(4*pi) - alpha*(z*(sin(2*pi*x/alpha) + sin(2*pi*y/alpha))/5 + 1)*(-gamma/10 + z/10 + tanh((b + 1)*(gamma - z)/5)/(5*tanh(gamma*(b + 1))))*(-pi*sin(phi)*sin(theta)/2 - sin(phi)*sin(theta)/3 - cos(phi)/3 + 1/2)/(4*pi) - alpha*(z*(sin(2*pi*x/alpha) + sin(2*pi*y/alpha))/5 + 1)*(-gamma/10 + z/10 + tanh((b + 1)*(gamma - z)/5)/(5*tanh(gamma*(b + 1))))*(sin(phi)*sin(theta)/3 - 2*pi*sin(phi)*cos(theta)/3 - pi*cos(phi) + cos(phi)/3 - 2*pi + 1/2)/(4*pi) + alpha*(z*(sin(2*pi*x/alpha) + sin(2*pi*y/alpha))/5 + 1)*(-gamma/10 + z/10 + tanh((b + 1)*(gamma - z)/5)/(5*tanh(gamma*(b + 1))))*(-pi*sin(phi)*sin(theta)/2 - sin(phi)*sin(theta)/3 + 2*pi*sin(phi)*cos(theta)/3 - pi*cos(phi) - cos(phi)/3 + 1/2 + 2*pi)/(4*pi)) + 2*pi*z*(sin(phi + theta) + 1)*(-gamma/10 + z/10 + tanh((b + 1)*(gamma - z)/5)/(5*tanh(gamma*(b + 1))))*sin(phi)*sin(theta)*cos(2*pi*y/alpha)/5 + 2*pi*z*(sin(phi + theta) + 1)*(-gamma/10 + z/10 + tanh((b + 1)*(gamma - z)/5)/(5*tanh(gamma*(b + 1))))*sin(phi)*cos(theta)*cos(2*pi*x/alpha)/5 + (alpha*(z*(sin(2*pi*x/alpha) + sin(2*pi*y/alpha))/5 + 1)*((-b/5 - 1/5)*(-tanh((b + 1)*(gamma - z)/5)**2 + 1)/(5*tanh(gamma*(b + 1))) + 1/10)*(sin(phi + theta) + 1) + alpha*(sin(2*pi*x/alpha)/5 + sin(2*pi*y/alpha)/5)*(sin(phi + theta) + 1)*(-gamma/10 + z/10 + tanh((b + 1)*(gamma - z)/5)/(5*tanh(gamma*(b + 1)))))*cos(phi), alpha*(-gamma/10 + tanh(gamma*(b + 1)/5)/(5*tanh(gamma*(b + 1))))*(sin(phi + theta) + 1), (Delta + 1)/(4*pi), {'alpha': 1, 'gamma': 1, 'b': 0.5}, 0, True, study_dir='/home/oliver/academic/research/kelp-results/verify_test_12_12_12_b05_uniform_smallderiv', study_name='verify_test_12_12_12_b05_uniform_smallderiv')\n",
      "\n",
      "Calling solve_rte_with_callbacks(12, 8, 12, 12, 1, 1, 0.5, alpha*(z*(sin(2*pi*x/alpha) + sin(2*pi*y/alpha))/5 + 1)*(sin(phi + theta) + 1)*(-gamma/10 + z/10 + tanh((b + 1)*(gamma - z)/5)/(5*tanh(gamma*(b + 1)))), (tanh(-gamma + z) + 1)*(sin(2*pi*x/alpha) + sin(2*pi*y/alpha) + 3)/20 + 1, alpha*(z*(sin(2*pi*x/alpha) + sin(2*pi*y/alpha))/5 + 1)*(sin(phi + theta) + 1)*(b + (tanh(-gamma + z) + 1)*(sin(2*pi*x/alpha) + sin(2*pi*y/alpha) + 3)/20 + 1)*(-gamma/10 + z/10 + tanh((b + 1)*(gamma - z)/5)/(5*tanh(gamma*(b + 1)))) - b*(alpha*(z*(sin(2*pi*x/alpha) + sin(2*pi*y/alpha))/5 + 1)*(-gamma/10 + z/10 + tanh((b + 1)*(gamma - z)/5)/(5*tanh(gamma*(b + 1))))*(sin(phi)*sin(theta)/3 + cos(phi)/3 + 1/2)/(4*pi) - alpha*(z*(sin(2*pi*x/alpha) + sin(2*pi*y/alpha))/5 + 1)*(-gamma/10 + z/10 + tanh((b + 1)*(gamma - z)/5)/(5*tanh(gamma*(b + 1))))*(-pi*sin(phi)*sin(theta)/2 - sin(phi)*sin(theta)/3 - cos(phi)/3 + 1/2)/(4*pi) - alpha*(z*(sin(2*pi*x/alpha) + sin(2*pi*y/alpha))/5 + 1)*(-gamma/10 + z/10 + tanh((b + 1)*(gamma - z)/5)/(5*tanh(gamma*(b + 1))))*(sin(phi)*sin(theta)/3 - 2*pi*sin(phi)*cos(theta)/3 - pi*cos(phi) + cos(phi)/3 - 2*pi + 1/2)/(4*pi) + alpha*(z*(sin(2*pi*x/alpha) + sin(2*pi*y/alpha))/5 + 1)*(-gamma/10 + z/10 + tanh((b + 1)*(gamma - z)/5)/(5*tanh(gamma*(b + 1))))*(-pi*sin(phi)*sin(theta)/2 - sin(phi)*sin(theta)/3 + 2*pi*sin(phi)*cos(theta)/3 - pi*cos(phi) - cos(phi)/3 + 1/2 + 2*pi)/(4*pi)) + 2*pi*z*(sin(phi + theta) + 1)*(-gamma/10 + z/10 + tanh((b + 1)*(gamma - z)/5)/(5*tanh(gamma*(b + 1))))*sin(phi)*sin(theta)*cos(2*pi*y/alpha)/5 + 2*pi*z*(sin(phi + theta) + 1)*(-gamma/10 + z/10 + tanh((b + 1)*(gamma - z)/5)/(5*tanh(gamma*(b + 1))))*sin(phi)*cos(theta)*cos(2*pi*x/alpha)/5 + (alpha*(z*(sin(2*pi*x/alpha) + sin(2*pi*y/alpha))/5 + 1)*((-b/5 - 1/5)*(-tanh((b + 1)*(gamma - z)/5)**2 + 1)/(5*tanh(gamma*(b + 1))) + 1/10)*(sin(phi + theta) + 1) + alpha*(sin(2*pi*x/alpha)/5 + sin(2*pi*y/alpha)/5)*(sin(phi + theta) + 1)*(-gamma/10 + z/10 + tanh((b + 1)*(gamma - z)/5)/(5*tanh(gamma*(b + 1)))))*cos(phi), alpha*(-gamma/10 + tanh(gamma*(b + 1)/5)/(5*tanh(gamma*(b + 1))))*(sin(phi + theta) + 1), (Delta + 1)/(4*pi), {'alpha': 1, 'gamma': 1, 'b': 0.5}, 0, True, study_dir='/home/oliver/academic/research/kelp-results/verify_test_12_12_12_b05_uniform_smallderiv', study_name='verify_test_12_12_12_b05_uniform_smallderiv')\n",
      "\n",
      "Calling solve_rte_with_callbacks(12, 10, 12, 12, 1, 1, 0.5, alpha*(z*(sin(2*pi*x/alpha) + sin(2*pi*y/alpha))/5 + 1)*(sin(phi + theta) + 1)*(-gamma/10 + z/10 + tanh((b + 1)*(gamma - z)/5)/(5*tanh(gamma*(b + 1)))), (tanh(-gamma + z) + 1)*(sin(2*pi*x/alpha) + sin(2*pi*y/alpha) + 3)/20 + 1, alpha*(z*(sin(2*pi*x/alpha) + sin(2*pi*y/alpha))/5 + 1)*(sin(phi + theta) + 1)*(b + (tanh(-gamma + z) + 1)*(sin(2*pi*x/alpha) + sin(2*pi*y/alpha) + 3)/20 + 1)*(-gamma/10 + z/10 + tanh((b + 1)*(gamma - z)/5)/(5*tanh(gamma*(b + 1)))) - b*(alpha*(z*(sin(2*pi*x/alpha) + sin(2*pi*y/alpha))/5 + 1)*(-gamma/10 + z/10 + tanh((b + 1)*(gamma - z)/5)/(5*tanh(gamma*(b + 1))))*(sin(phi)*sin(theta)/3 + cos(phi)/3 + 1/2)/(4*pi) - alpha*(z*(sin(2*pi*x/alpha) + sin(2*pi*y/alpha))/5 + 1)*(-gamma/10 + z/10 + tanh((b + 1)*(gamma - z)/5)/(5*tanh(gamma*(b + 1))))*(-pi*sin(phi)*sin(theta)/2 - sin(phi)*sin(theta)/3 - cos(phi)/3 + 1/2)/(4*pi) - alpha*(z*(sin(2*pi*x/alpha) + sin(2*pi*y/alpha))/5 + 1)*(-gamma/10 + z/10 + tanh((b + 1)*(gamma - z)/5)/(5*tanh(gamma*(b + 1))))*(sin(phi)*sin(theta)/3 - 2*pi*sin(phi)*cos(theta)/3 - pi*cos(phi) + cos(phi)/3 - 2*pi + 1/2)/(4*pi) + alpha*(z*(sin(2*pi*x/alpha) + sin(2*pi*y/alpha))/5 + 1)*(-gamma/10 + z/10 + tanh((b + 1)*(gamma - z)/5)/(5*tanh(gamma*(b + 1))))*(-pi*sin(phi)*sin(theta)/2 - sin(phi)*sin(theta)/3 + 2*pi*sin(phi)*cos(theta)/3 - pi*cos(phi) - cos(phi)/3 + 1/2 + 2*pi)/(4*pi)) + 2*pi*z*(sin(phi + theta) + 1)*(-gamma/10 + z/10 + tanh((b + 1)*(gamma - z)/5)/(5*tanh(gamma*(b + 1))))*sin(phi)*sin(theta)*cos(2*pi*y/alpha)/5 + 2*pi*z*(sin(phi + theta) + 1)*(-gamma/10 + z/10 + tanh((b + 1)*(gamma - z)/5)/(5*tanh(gamma*(b + 1))))*sin(phi)*cos(theta)*cos(2*pi*x/alpha)/5 + (alpha*(z*(sin(2*pi*x/alpha) + sin(2*pi*y/alpha))/5 + 1)*((-b/5 - 1/5)*(-tanh((b + 1)*(gamma - z)/5)**2 + 1)/(5*tanh(gamma*(b + 1))) + 1/10)*(sin(phi + theta) + 1) + alpha*(sin(2*pi*x/alpha)/5 + sin(2*pi*y/alpha)/5)*(sin(phi + theta) + 1)*(-gamma/10 + z/10 + tanh((b + 1)*(gamma - z)/5)/(5*tanh(gamma*(b + 1)))))*cos(phi), alpha*(-gamma/10 + tanh(gamma*(b + 1)/5)/(5*tanh(gamma*(b + 1))))*(sin(phi + theta) + 1), (Delta + 1)/(4*pi), {'alpha': 1, 'gamma': 1, 'b': 0.5}, 0, True, study_dir='/home/oliver/academic/research/kelp-results/verify_test_12_12_12_b05_uniform_smallderiv', study_name='verify_test_12_12_12_b05_uniform_smallderiv')\n",
      "\n",
      "Calling solve_rte_with_callbacks(12, 12, 4, 12, 1, 1, 0.5, alpha*(z*(sin(2*pi*x/alpha) + sin(2*pi*y/alpha))/5 + 1)*(sin(phi + theta) + 1)*(-gamma/10 + z/10 + tanh((b + 1)*(gamma - z)/5)/(5*tanh(gamma*(b + 1)))), (tanh(-gamma + z) + 1)*(sin(2*pi*x/alpha) + sin(2*pi*y/alpha) + 3)/20 + 1, alpha*(z*(sin(2*pi*x/alpha) + sin(2*pi*y/alpha))/5 + 1)*(sin(phi + theta) + 1)*(b + (tanh(-gamma + z) + 1)*(sin(2*pi*x/alpha) + sin(2*pi*y/alpha) + 3)/20 + 1)*(-gamma/10 + z/10 + tanh((b + 1)*(gamma - z)/5)/(5*tanh(gamma*(b + 1)))) - b*(alpha*(z*(sin(2*pi*x/alpha) + sin(2*pi*y/alpha))/5 + 1)*(-gamma/10 + z/10 + tanh((b + 1)*(gamma - z)/5)/(5*tanh(gamma*(b + 1))))*(sin(phi)*sin(theta)/3 + cos(phi)/3 + 1/2)/(4*pi) - alpha*(z*(sin(2*pi*x/alpha) + sin(2*pi*y/alpha))/5 + 1)*(-gamma/10 + z/10 + tanh((b + 1)*(gamma - z)/5)/(5*tanh(gamma*(b + 1))))*(-pi*sin(phi)*sin(theta)/2 - sin(phi)*sin(theta)/3 - cos(phi)/3 + 1/2)/(4*pi) - alpha*(z*(sin(2*pi*x/alpha) + sin(2*pi*y/alpha))/5 + 1)*(-gamma/10 + z/10 + tanh((b + 1)*(gamma - z)/5)/(5*tanh(gamma*(b + 1))))*(sin(phi)*sin(theta)/3 - 2*pi*sin(phi)*cos(theta)/3 - pi*cos(phi) + cos(phi)/3 - 2*pi + 1/2)/(4*pi) + alpha*(z*(sin(2*pi*x/alpha) + sin(2*pi*y/alpha))/5 + 1)*(-gamma/10 + z/10 + tanh((b + 1)*(gamma - z)/5)/(5*tanh(gamma*(b + 1))))*(-pi*sin(phi)*sin(theta)/2 - sin(phi)*sin(theta)/3 + 2*pi*sin(phi)*cos(theta)/3 - pi*cos(phi) - cos(phi)/3 + 1/2 + 2*pi)/(4*pi)) + 2*pi*z*(sin(phi + theta) + 1)*(-gamma/10 + z/10 + tanh((b + 1)*(gamma - z)/5)/(5*tanh(gamma*(b + 1))))*sin(phi)*sin(theta)*cos(2*pi*y/alpha)/5 + 2*pi*z*(sin(phi + theta) + 1)*(-gamma/10 + z/10 + tanh((b + 1)*(gamma - z)/5)/(5*tanh(gamma*(b + 1))))*sin(phi)*cos(theta)*cos(2*pi*x/alpha)/5 + (alpha*(z*(sin(2*pi*x/alpha) + sin(2*pi*y/alpha))/5 + 1)*((-b/5 - 1/5)*(-tanh((b + 1)*(gamma - z)/5)**2 + 1)/(5*tanh(gamma*(b + 1))) + 1/10)*(sin(phi + theta) + 1) + alpha*(sin(2*pi*x/alpha)/5 + sin(2*pi*y/alpha)/5)*(sin(phi + theta) + 1)*(-gamma/10 + z/10 + tanh((b + 1)*(gamma - z)/5)/(5*tanh(gamma*(b + 1)))))*cos(phi), alpha*(-gamma/10 + tanh(gamma*(b + 1)/5)/(5*tanh(gamma*(b + 1))))*(sin(phi + theta) + 1), (Delta + 1)/(4*pi), {'alpha': 1, 'gamma': 1, 'b': 0.5}, 0, True, study_dir='/home/oliver/academic/research/kelp-results/verify_test_12_12_12_b05_uniform_smallderiv', study_name='verify_test_12_12_12_b05_uniform_smallderiv')\n",
      "\n",
      "Calling solve_rte_with_callbacks(12, 12, 5, 12, 1, 1, 0.5, alpha*(z*(sin(2*pi*x/alpha) + sin(2*pi*y/alpha))/5 + 1)*(sin(phi + theta) + 1)*(-gamma/10 + z/10 + tanh((b + 1)*(gamma - z)/5)/(5*tanh(gamma*(b + 1)))), (tanh(-gamma + z) + 1)*(sin(2*pi*x/alpha) + sin(2*pi*y/alpha) + 3)/20 + 1, alpha*(z*(sin(2*pi*x/alpha) + sin(2*pi*y/alpha))/5 + 1)*(sin(phi + theta) + 1)*(b + (tanh(-gamma + z) + 1)*(sin(2*pi*x/alpha) + sin(2*pi*y/alpha) + 3)/20 + 1)*(-gamma/10 + z/10 + tanh((b + 1)*(gamma - z)/5)/(5*tanh(gamma*(b + 1)))) - b*(alpha*(z*(sin(2*pi*x/alpha) + sin(2*pi*y/alpha))/5 + 1)*(-gamma/10 + z/10 + tanh((b + 1)*(gamma - z)/5)/(5*tanh(gamma*(b + 1))))*(sin(phi)*sin(theta)/3 + cos(phi)/3 + 1/2)/(4*pi) - alpha*(z*(sin(2*pi*x/alpha) + sin(2*pi*y/alpha))/5 + 1)*(-gamma/10 + z/10 + tanh((b + 1)*(gamma - z)/5)/(5*tanh(gamma*(b + 1))))*(-pi*sin(phi)*sin(theta)/2 - sin(phi)*sin(theta)/3 - cos(phi)/3 + 1/2)/(4*pi) - alpha*(z*(sin(2*pi*x/alpha) + sin(2*pi*y/alpha))/5 + 1)*(-gamma/10 + z/10 + tanh((b + 1)*(gamma - z)/5)/(5*tanh(gamma*(b + 1))))*(sin(phi)*sin(theta)/3 - 2*pi*sin(phi)*cos(theta)/3 - pi*cos(phi) + cos(phi)/3 - 2*pi + 1/2)/(4*pi) + alpha*(z*(sin(2*pi*x/alpha) + sin(2*pi*y/alpha))/5 + 1)*(-gamma/10 + z/10 + tanh((b + 1)*(gamma - z)/5)/(5*tanh(gamma*(b + 1))))*(-pi*sin(phi)*sin(theta)/2 - sin(phi)*sin(theta)/3 + 2*pi*sin(phi)*cos(theta)/3 - pi*cos(phi) - cos(phi)/3 + 1/2 + 2*pi)/(4*pi)) + 2*pi*z*(sin(phi + theta) + 1)*(-gamma/10 + z/10 + tanh((b + 1)*(gamma - z)/5)/(5*tanh(gamma*(b + 1))))*sin(phi)*sin(theta)*cos(2*pi*y/alpha)/5 + 2*pi*z*(sin(phi + theta) + 1)*(-gamma/10 + z/10 + tanh((b + 1)*(gamma - z)/5)/(5*tanh(gamma*(b + 1))))*sin(phi)*cos(theta)*cos(2*pi*x/alpha)/5 + (alpha*(z*(sin(2*pi*x/alpha) + sin(2*pi*y/alpha))/5 + 1)*((-b/5 - 1/5)*(-tanh((b + 1)*(gamma - z)/5)**2 + 1)/(5*tanh(gamma*(b + 1))) + 1/10)*(sin(phi + theta) + 1) + alpha*(sin(2*pi*x/alpha)/5 + sin(2*pi*y/alpha)/5)*(sin(phi + theta) + 1)*(-gamma/10 + z/10 + tanh((b + 1)*(gamma - z)/5)/(5*tanh(gamma*(b + 1)))))*cos(phi), alpha*(-gamma/10 + tanh(gamma*(b + 1)/5)/(5*tanh(gamma*(b + 1))))*(sin(phi + theta) + 1), (Delta + 1)/(4*pi), {'alpha': 1, 'gamma': 1, 'b': 0.5}, 0, True, study_dir='/home/oliver/academic/research/kelp-results/verify_test_12_12_12_b05_uniform_smallderiv', study_name='verify_test_12_12_12_b05_uniform_smallderiv')\n",
      "\n",
      "Calling solve_rte_with_callbacks(12, 12, 6, 12, 1, 1, 0.5, alpha*(z*(sin(2*pi*x/alpha) + sin(2*pi*y/alpha))/5 + 1)*(sin(phi + theta) + 1)*(-gamma/10 + z/10 + tanh((b + 1)*(gamma - z)/5)/(5*tanh(gamma*(b + 1)))), (tanh(-gamma + z) + 1)*(sin(2*pi*x/alpha) + sin(2*pi*y/alpha) + 3)/20 + 1, alpha*(z*(sin(2*pi*x/alpha) + sin(2*pi*y/alpha))/5 + 1)*(sin(phi + theta) + 1)*(b + (tanh(-gamma + z) + 1)*(sin(2*pi*x/alpha) + sin(2*pi*y/alpha) + 3)/20 + 1)*(-gamma/10 + z/10 + tanh((b + 1)*(gamma - z)/5)/(5*tanh(gamma*(b + 1)))) - b*(alpha*(z*(sin(2*pi*x/alpha) + sin(2*pi*y/alpha))/5 + 1)*(-gamma/10 + z/10 + tanh((b + 1)*(gamma - z)/5)/(5*tanh(gamma*(b + 1))))*(sin(phi)*sin(theta)/3 + cos(phi)/3 + 1/2)/(4*pi) - alpha*(z*(sin(2*pi*x/alpha) + sin(2*pi*y/alpha))/5 + 1)*(-gamma/10 + z/10 + tanh((b + 1)*(gamma - z)/5)/(5*tanh(gamma*(b + 1))))*(-pi*sin(phi)*sin(theta)/2 - sin(phi)*sin(theta)/3 - cos(phi)/3 + 1/2)/(4*pi) - alpha*(z*(sin(2*pi*x/alpha) + sin(2*pi*y/alpha))/5 + 1)*(-gamma/10 + z/10 + tanh((b + 1)*(gamma - z)/5)/(5*tanh(gamma*(b + 1))))*(sin(phi)*sin(theta)/3 - 2*pi*sin(phi)*cos(theta)/3 - pi*cos(phi) + cos(phi)/3 - 2*pi + 1/2)/(4*pi) + alpha*(z*(sin(2*pi*x/alpha) + sin(2*pi*y/alpha))/5 + 1)*(-gamma/10 + z/10 + tanh((b + 1)*(gamma - z)/5)/(5*tanh(gamma*(b + 1))))*(-pi*sin(phi)*sin(theta)/2 - sin(phi)*sin(theta)/3 + 2*pi*sin(phi)*cos(theta)/3 - pi*cos(phi) - cos(phi)/3 + 1/2 + 2*pi)/(4*pi)) + 2*pi*z*(sin(phi + theta) + 1)*(-gamma/10 + z/10 + tanh((b + 1)*(gamma - z)/5)/(5*tanh(gamma*(b + 1))))*sin(phi)*sin(theta)*cos(2*pi*y/alpha)/5 + 2*pi*z*(sin(phi + theta) + 1)*(-gamma/10 + z/10 + tanh((b + 1)*(gamma - z)/5)/(5*tanh(gamma*(b + 1))))*sin(phi)*cos(theta)*cos(2*pi*x/alpha)/5 + (alpha*(z*(sin(2*pi*x/alpha) + sin(2*pi*y/alpha))/5 + 1)*((-b/5 - 1/5)*(-tanh((b + 1)*(gamma - z)/5)**2 + 1)/(5*tanh(gamma*(b + 1))) + 1/10)*(sin(phi + theta) + 1) + alpha*(sin(2*pi*x/alpha)/5 + sin(2*pi*y/alpha)/5)*(sin(phi + theta) + 1)*(-gamma/10 + z/10 + tanh((b + 1)*(gamma - z)/5)/(5*tanh(gamma*(b + 1)))))*cos(phi), alpha*(-gamma/10 + tanh(gamma*(b + 1)/5)/(5*tanh(gamma*(b + 1))))*(sin(phi + theta) + 1), (Delta + 1)/(4*pi), {'alpha': 1, 'gamma': 1, 'b': 0.5}, 0, True, study_dir='/home/oliver/academic/research/kelp-results/verify_test_12_12_12_b05_uniform_smallderiv', study_name='verify_test_12_12_12_b05_uniform_smallderiv')\n",
      "\n",
      "Calling solve_rte_with_callbacks(12, 12, 7, 12, 1, 1, 0.5, alpha*(z*(sin(2*pi*x/alpha) + sin(2*pi*y/alpha))/5 + 1)*(sin(phi + theta) + 1)*(-gamma/10 + z/10 + tanh((b + 1)*(gamma - z)/5)/(5*tanh(gamma*(b + 1)))), (tanh(-gamma + z) + 1)*(sin(2*pi*x/alpha) + sin(2*pi*y/alpha) + 3)/20 + 1, alpha*(z*(sin(2*pi*x/alpha) + sin(2*pi*y/alpha))/5 + 1)*(sin(phi + theta) + 1)*(b + (tanh(-gamma + z) + 1)*(sin(2*pi*x/alpha) + sin(2*pi*y/alpha) + 3)/20 + 1)*(-gamma/10 + z/10 + tanh((b + 1)*(gamma - z)/5)/(5*tanh(gamma*(b + 1)))) - b*(alpha*(z*(sin(2*pi*x/alpha) + sin(2*pi*y/alpha))/5 + 1)*(-gamma/10 + z/10 + tanh((b + 1)*(gamma - z)/5)/(5*tanh(gamma*(b + 1))))*(sin(phi)*sin(theta)/3 + cos(phi)/3 + 1/2)/(4*pi) - alpha*(z*(sin(2*pi*x/alpha) + sin(2*pi*y/alpha))/5 + 1)*(-gamma/10 + z/10 + tanh((b + 1)*(gamma - z)/5)/(5*tanh(gamma*(b + 1))))*(-pi*sin(phi)*sin(theta)/2 - sin(phi)*sin(theta)/3 - cos(phi)/3 + 1/2)/(4*pi) - alpha*(z*(sin(2*pi*x/alpha) + sin(2*pi*y/alpha))/5 + 1)*(-gamma/10 + z/10 + tanh((b + 1)*(gamma - z)/5)/(5*tanh(gamma*(b + 1))))*(sin(phi)*sin(theta)/3 - 2*pi*sin(phi)*cos(theta)/3 - pi*cos(phi) + cos(phi)/3 - 2*pi + 1/2)/(4*pi) + alpha*(z*(sin(2*pi*x/alpha) + sin(2*pi*y/alpha))/5 + 1)*(-gamma/10 + z/10 + tanh((b + 1)*(gamma - z)/5)/(5*tanh(gamma*(b + 1))))*(-pi*sin(phi)*sin(theta)/2 - sin(phi)*sin(theta)/3 + 2*pi*sin(phi)*cos(theta)/3 - pi*cos(phi) - cos(phi)/3 + 1/2 + 2*pi)/(4*pi)) + 2*pi*z*(sin(phi + theta) + 1)*(-gamma/10 + z/10 + tanh((b + 1)*(gamma - z)/5)/(5*tanh(gamma*(b + 1))))*sin(phi)*sin(theta)*cos(2*pi*y/alpha)/5 + 2*pi*z*(sin(phi + theta) + 1)*(-gamma/10 + z/10 + tanh((b + 1)*(gamma - z)/5)/(5*tanh(gamma*(b + 1))))*sin(phi)*cos(theta)*cos(2*pi*x/alpha)/5 + (alpha*(z*(sin(2*pi*x/alpha) + sin(2*pi*y/alpha))/5 + 1)*((-b/5 - 1/5)*(-tanh((b + 1)*(gamma - z)/5)**2 + 1)/(5*tanh(gamma*(b + 1))) + 1/10)*(sin(phi + theta) + 1) + alpha*(sin(2*pi*x/alpha)/5 + sin(2*pi*y/alpha)/5)*(sin(phi + theta) + 1)*(-gamma/10 + z/10 + tanh((b + 1)*(gamma - z)/5)/(5*tanh(gamma*(b + 1)))))*cos(phi), alpha*(-gamma/10 + tanh(gamma*(b + 1)/5)/(5*tanh(gamma*(b + 1))))*(sin(phi + theta) + 1), (Delta + 1)/(4*pi), {'alpha': 1, 'gamma': 1, 'b': 0.5}, 0, True, study_dir='/home/oliver/academic/research/kelp-results/verify_test_12_12_12_b05_uniform_smallderiv', study_name='verify_test_12_12_12_b05_uniform_smallderiv')\n",
      "\n",
      "Calling solve_rte_with_callbacks(12, 12, 8, 12, 1, 1, 0.5, alpha*(z*(sin(2*pi*x/alpha) + sin(2*pi*y/alpha))/5 + 1)*(sin(phi + theta) + 1)*(-gamma/10 + z/10 + tanh((b + 1)*(gamma - z)/5)/(5*tanh(gamma*(b + 1)))), (tanh(-gamma + z) + 1)*(sin(2*pi*x/alpha) + sin(2*pi*y/alpha) + 3)/20 + 1, alpha*(z*(sin(2*pi*x/alpha) + sin(2*pi*y/alpha))/5 + 1)*(sin(phi + theta) + 1)*(b + (tanh(-gamma + z) + 1)*(sin(2*pi*x/alpha) + sin(2*pi*y/alpha) + 3)/20 + 1)*(-gamma/10 + z/10 + tanh((b + 1)*(gamma - z)/5)/(5*tanh(gamma*(b + 1)))) - b*(alpha*(z*(sin(2*pi*x/alpha) + sin(2*pi*y/alpha))/5 + 1)*(-gamma/10 + z/10 + tanh((b + 1)*(gamma - z)/5)/(5*tanh(gamma*(b + 1))))*(sin(phi)*sin(theta)/3 + cos(phi)/3 + 1/2)/(4*pi) - alpha*(z*(sin(2*pi*x/alpha) + sin(2*pi*y/alpha))/5 + 1)*(-gamma/10 + z/10 + tanh((b + 1)*(gamma - z)/5)/(5*tanh(gamma*(b + 1))))*(-pi*sin(phi)*sin(theta)/2 - sin(phi)*sin(theta)/3 - cos(phi)/3 + 1/2)/(4*pi) - alpha*(z*(sin(2*pi*x/alpha) + sin(2*pi*y/alpha))/5 + 1)*(-gamma/10 + z/10 + tanh((b + 1)*(gamma - z)/5)/(5*tanh(gamma*(b + 1))))*(sin(phi)*sin(theta)/3 - 2*pi*sin(phi)*cos(theta)/3 - pi*cos(phi) + cos(phi)/3 - 2*pi + 1/2)/(4*pi) + alpha*(z*(sin(2*pi*x/alpha) + sin(2*pi*y/alpha))/5 + 1)*(-gamma/10 + z/10 + tanh((b + 1)*(gamma - z)/5)/(5*tanh(gamma*(b + 1))))*(-pi*sin(phi)*sin(theta)/2 - sin(phi)*sin(theta)/3 + 2*pi*sin(phi)*cos(theta)/3 - pi*cos(phi) - cos(phi)/3 + 1/2 + 2*pi)/(4*pi)) + 2*pi*z*(sin(phi + theta) + 1)*(-gamma/10 + z/10 + tanh((b + 1)*(gamma - z)/5)/(5*tanh(gamma*(b + 1))))*sin(phi)*sin(theta)*cos(2*pi*y/alpha)/5 + 2*pi*z*(sin(phi + theta) + 1)*(-gamma/10 + z/10 + tanh((b + 1)*(gamma - z)/5)/(5*tanh(gamma*(b + 1))))*sin(phi)*cos(theta)*cos(2*pi*x/alpha)/5 + (alpha*(z*(sin(2*pi*x/alpha) + sin(2*pi*y/alpha))/5 + 1)*((-b/5 - 1/5)*(-tanh((b + 1)*(gamma - z)/5)**2 + 1)/(5*tanh(gamma*(b + 1))) + 1/10)*(sin(phi + theta) + 1) + alpha*(sin(2*pi*x/alpha)/5 + sin(2*pi*y/alpha)/5)*(sin(phi + theta) + 1)*(-gamma/10 + z/10 + tanh((b + 1)*(gamma - z)/5)/(5*tanh(gamma*(b + 1)))))*cos(phi), alpha*(-gamma/10 + tanh(gamma*(b + 1)/5)/(5*tanh(gamma*(b + 1))))*(sin(phi + theta) + 1), (Delta + 1)/(4*pi), {'alpha': 1, 'gamma': 1, 'b': 0.5}, 0, True, study_dir='/home/oliver/academic/research/kelp-results/verify_test_12_12_12_b05_uniform_smallderiv', study_name='verify_test_12_12_12_b05_uniform_smallderiv')\n",
      "\n",
      "Calling solve_rte_with_callbacks(12, 12, 9, 12, 1, 1, 0.5, alpha*(z*(sin(2*pi*x/alpha) + sin(2*pi*y/alpha))/5 + 1)*(sin(phi + theta) + 1)*(-gamma/10 + z/10 + tanh((b + 1)*(gamma - z)/5)/(5*tanh(gamma*(b + 1)))), (tanh(-gamma + z) + 1)*(sin(2*pi*x/alpha) + sin(2*pi*y/alpha) + 3)/20 + 1, alpha*(z*(sin(2*pi*x/alpha) + sin(2*pi*y/alpha))/5 + 1)*(sin(phi + theta) + 1)*(b + (tanh(-gamma + z) + 1)*(sin(2*pi*x/alpha) + sin(2*pi*y/alpha) + 3)/20 + 1)*(-gamma/10 + z/10 + tanh((b + 1)*(gamma - z)/5)/(5*tanh(gamma*(b + 1)))) - b*(alpha*(z*(sin(2*pi*x/alpha) + sin(2*pi*y/alpha))/5 + 1)*(-gamma/10 + z/10 + tanh((b + 1)*(gamma - z)/5)/(5*tanh(gamma*(b + 1))))*(sin(phi)*sin(theta)/3 + cos(phi)/3 + 1/2)/(4*pi) - alpha*(z*(sin(2*pi*x/alpha) + sin(2*pi*y/alpha))/5 + 1)*(-gamma/10 + z/10 + tanh((b + 1)*(gamma - z)/5)/(5*tanh(gamma*(b + 1))))*(-pi*sin(phi)*sin(theta)/2 - sin(phi)*sin(theta)/3 - cos(phi)/3 + 1/2)/(4*pi) - alpha*(z*(sin(2*pi*x/alpha) + sin(2*pi*y/alpha))/5 + 1)*(-gamma/10 + z/10 + tanh((b + 1)*(gamma - z)/5)/(5*tanh(gamma*(b + 1))))*(sin(phi)*sin(theta)/3 - 2*pi*sin(phi)*cos(theta)/3 - pi*cos(phi) + cos(phi)/3 - 2*pi + 1/2)/(4*pi) + alpha*(z*(sin(2*pi*x/alpha) + sin(2*pi*y/alpha))/5 + 1)*(-gamma/10 + z/10 + tanh((b + 1)*(gamma - z)/5)/(5*tanh(gamma*(b + 1))))*(-pi*sin(phi)*sin(theta)/2 - sin(phi)*sin(theta)/3 + 2*pi*sin(phi)*cos(theta)/3 - pi*cos(phi) - cos(phi)/3 + 1/2 + 2*pi)/(4*pi)) + 2*pi*z*(sin(phi + theta) + 1)*(-gamma/10 + z/10 + tanh((b + 1)*(gamma - z)/5)/(5*tanh(gamma*(b + 1))))*sin(phi)*sin(theta)*cos(2*pi*y/alpha)/5 + 2*pi*z*(sin(phi + theta) + 1)*(-gamma/10 + z/10 + tanh((b + 1)*(gamma - z)/5)/(5*tanh(gamma*(b + 1))))*sin(phi)*cos(theta)*cos(2*pi*x/alpha)/5 + (alpha*(z*(sin(2*pi*x/alpha) + sin(2*pi*y/alpha))/5 + 1)*((-b/5 - 1/5)*(-tanh((b + 1)*(gamma - z)/5)**2 + 1)/(5*tanh(gamma*(b + 1))) + 1/10)*(sin(phi + theta) + 1) + alpha*(sin(2*pi*x/alpha)/5 + sin(2*pi*y/alpha)/5)*(sin(phi + theta) + 1)*(-gamma/10 + z/10 + tanh((b + 1)*(gamma - z)/5)/(5*tanh(gamma*(b + 1)))))*cos(phi), alpha*(-gamma/10 + tanh(gamma*(b + 1)/5)/(5*tanh(gamma*(b + 1))))*(sin(phi + theta) + 1), (Delta + 1)/(4*pi), {'alpha': 1, 'gamma': 1, 'b': 0.5}, 0, True, study_dir='/home/oliver/academic/research/kelp-results/verify_test_12_12_12_b05_uniform_smallderiv', study_name='verify_test_12_12_12_b05_uniform_smallderiv')\n",
      "\n",
      "Calling solve_rte_with_callbacks(12, 12, 10, 12, 1, 1, 0.5, alpha*(z*(sin(2*pi*x/alpha) + sin(2*pi*y/alpha))/5 + 1)*(sin(phi + theta) + 1)*(-gamma/10 + z/10 + tanh((b + 1)*(gamma - z)/5)/(5*tanh(gamma*(b + 1)))), (tanh(-gamma + z) + 1)*(sin(2*pi*x/alpha) + sin(2*pi*y/alpha) + 3)/20 + 1, alpha*(z*(sin(2*pi*x/alpha) + sin(2*pi*y/alpha))/5 + 1)*(sin(phi + theta) + 1)*(b + (tanh(-gamma + z) + 1)*(sin(2*pi*x/alpha) + sin(2*pi*y/alpha) + 3)/20 + 1)*(-gamma/10 + z/10 + tanh((b + 1)*(gamma - z)/5)/(5*tanh(gamma*(b + 1)))) - b*(alpha*(z*(sin(2*pi*x/alpha) + sin(2*pi*y/alpha))/5 + 1)*(-gamma/10 + z/10 + tanh((b + 1)*(gamma - z)/5)/(5*tanh(gamma*(b + 1))))*(sin(phi)*sin(theta)/3 + cos(phi)/3 + 1/2)/(4*pi) - alpha*(z*(sin(2*pi*x/alpha) + sin(2*pi*y/alpha))/5 + 1)*(-gamma/10 + z/10 + tanh((b + 1)*(gamma - z)/5)/(5*tanh(gamma*(b + 1))))*(-pi*sin(phi)*sin(theta)/2 - sin(phi)*sin(theta)/3 - cos(phi)/3 + 1/2)/(4*pi) - alpha*(z*(sin(2*pi*x/alpha) + sin(2*pi*y/alpha))/5 + 1)*(-gamma/10 + z/10 + tanh((b + 1)*(gamma - z)/5)/(5*tanh(gamma*(b + 1))))*(sin(phi)*sin(theta)/3 - 2*pi*sin(phi)*cos(theta)/3 - pi*cos(phi) + cos(phi)/3 - 2*pi + 1/2)/(4*pi) + alpha*(z*(sin(2*pi*x/alpha) + sin(2*pi*y/alpha))/5 + 1)*(-gamma/10 + z/10 + tanh((b + 1)*(gamma - z)/5)/(5*tanh(gamma*(b + 1))))*(-pi*sin(phi)*sin(theta)/2 - sin(phi)*sin(theta)/3 + 2*pi*sin(phi)*cos(theta)/3 - pi*cos(phi) - cos(phi)/3 + 1/2 + 2*pi)/(4*pi)) + 2*pi*z*(sin(phi + theta) + 1)*(-gamma/10 + z/10 + tanh((b + 1)*(gamma - z)/5)/(5*tanh(gamma*(b + 1))))*sin(phi)*sin(theta)*cos(2*pi*y/alpha)/5 + 2*pi*z*(sin(phi + theta) + 1)*(-gamma/10 + z/10 + tanh((b + 1)*(gamma - z)/5)/(5*tanh(gamma*(b + 1))))*sin(phi)*cos(theta)*cos(2*pi*x/alpha)/5 + (alpha*(z*(sin(2*pi*x/alpha) + sin(2*pi*y/alpha))/5 + 1)*((-b/5 - 1/5)*(-tanh((b + 1)*(gamma - z)/5)**2 + 1)/(5*tanh(gamma*(b + 1))) + 1/10)*(sin(phi + theta) + 1) + alpha*(sin(2*pi*x/alpha)/5 + sin(2*pi*y/alpha)/5)*(sin(phi + theta) + 1)*(-gamma/10 + z/10 + tanh((b + 1)*(gamma - z)/5)/(5*tanh(gamma*(b + 1)))))*cos(phi), alpha*(-gamma/10 + tanh(gamma*(b + 1)/5)/(5*tanh(gamma*(b + 1))))*(sin(phi + theta) + 1), (Delta + 1)/(4*pi), {'alpha': 1, 'gamma': 1, 'b': 0.5}, 0, True, study_dir='/home/oliver/academic/research/kelp-results/verify_test_12_12_12_b05_uniform_smallderiv', study_name='verify_test_12_12_12_b05_uniform_smallderiv')\n",
      "\n",
      "Calling solve_rte_with_callbacks(12, 12, 11, 12, 1, 1, 0.5, alpha*(z*(sin(2*pi*x/alpha) + sin(2*pi*y/alpha))/5 + 1)*(sin(phi + theta) + 1)*(-gamma/10 + z/10 + tanh((b + 1)*(gamma - z)/5)/(5*tanh(gamma*(b + 1)))), (tanh(-gamma + z) + 1)*(sin(2*pi*x/alpha) + sin(2*pi*y/alpha) + 3)/20 + 1, alpha*(z*(sin(2*pi*x/alpha) + sin(2*pi*y/alpha))/5 + 1)*(sin(phi + theta) + 1)*(b + (tanh(-gamma + z) + 1)*(sin(2*pi*x/alpha) + sin(2*pi*y/alpha) + 3)/20 + 1)*(-gamma/10 + z/10 + tanh((b + 1)*(gamma - z)/5)/(5*tanh(gamma*(b + 1)))) - b*(alpha*(z*(sin(2*pi*x/alpha) + sin(2*pi*y/alpha))/5 + 1)*(-gamma/10 + z/10 + tanh((b + 1)*(gamma - z)/5)/(5*tanh(gamma*(b + 1))))*(sin(phi)*sin(theta)/3 + cos(phi)/3 + 1/2)/(4*pi) - alpha*(z*(sin(2*pi*x/alpha) + sin(2*pi*y/alpha))/5 + 1)*(-gamma/10 + z/10 + tanh((b + 1)*(gamma - z)/5)/(5*tanh(gamma*(b + 1))))*(-pi*sin(phi)*sin(theta)/2 - sin(phi)*sin(theta)/3 - cos(phi)/3 + 1/2)/(4*pi) - alpha*(z*(sin(2*pi*x/alpha) + sin(2*pi*y/alpha))/5 + 1)*(-gamma/10 + z/10 + tanh((b + 1)*(gamma - z)/5)/(5*tanh(gamma*(b + 1))))*(sin(phi)*sin(theta)/3 - 2*pi*sin(phi)*cos(theta)/3 - pi*cos(phi) + cos(phi)/3 - 2*pi + 1/2)/(4*pi) + alpha*(z*(sin(2*pi*x/alpha) + sin(2*pi*y/alpha))/5 + 1)*(-gamma/10 + z/10 + tanh((b + 1)*(gamma - z)/5)/(5*tanh(gamma*(b + 1))))*(-pi*sin(phi)*sin(theta)/2 - sin(phi)*sin(theta)/3 + 2*pi*sin(phi)*cos(theta)/3 - pi*cos(phi) - cos(phi)/3 + 1/2 + 2*pi)/(4*pi)) + 2*pi*z*(sin(phi + theta) + 1)*(-gamma/10 + z/10 + tanh((b + 1)*(gamma - z)/5)/(5*tanh(gamma*(b + 1))))*sin(phi)*sin(theta)*cos(2*pi*y/alpha)/5 + 2*pi*z*(sin(phi + theta) + 1)*(-gamma/10 + z/10 + tanh((b + 1)*(gamma - z)/5)/(5*tanh(gamma*(b + 1))))*sin(phi)*cos(theta)*cos(2*pi*x/alpha)/5 + (alpha*(z*(sin(2*pi*x/alpha) + sin(2*pi*y/alpha))/5 + 1)*((-b/5 - 1/5)*(-tanh((b + 1)*(gamma - z)/5)**2 + 1)/(5*tanh(gamma*(b + 1))) + 1/10)*(sin(phi + theta) + 1) + alpha*(sin(2*pi*x/alpha)/5 + sin(2*pi*y/alpha)/5)*(sin(phi + theta) + 1)*(-gamma/10 + z/10 + tanh((b + 1)*(gamma - z)/5)/(5*tanh(gamma*(b + 1)))))*cos(phi), alpha*(-gamma/10 + tanh(gamma*(b + 1)/5)/(5*tanh(gamma*(b + 1))))*(sin(phi + theta) + 1), (Delta + 1)/(4*pi), {'alpha': 1, 'gamma': 1, 'b': 0.5}, 0, True, study_dir='/home/oliver/academic/research/kelp-results/verify_test_12_12_12_b05_uniform_smallderiv', study_name='verify_test_12_12_12_b05_uniform_smallderiv')\n",
      "\n",
      "Calling solve_rte_with_callbacks(12, 12, 12, 4, 1, 1, 0.5, alpha*(z*(sin(2*pi*x/alpha) + sin(2*pi*y/alpha))/5 + 1)*(sin(phi + theta) + 1)*(-gamma/10 + z/10 + tanh((b + 1)*(gamma - z)/5)/(5*tanh(gamma*(b + 1)))), (tanh(-gamma + z) + 1)*(sin(2*pi*x/alpha) + sin(2*pi*y/alpha) + 3)/20 + 1, alpha*(z*(sin(2*pi*x/alpha) + sin(2*pi*y/alpha))/5 + 1)*(sin(phi + theta) + 1)*(b + (tanh(-gamma + z) + 1)*(sin(2*pi*x/alpha) + sin(2*pi*y/alpha) + 3)/20 + 1)*(-gamma/10 + z/10 + tanh((b + 1)*(gamma - z)/5)/(5*tanh(gamma*(b + 1)))) - b*(alpha*(z*(sin(2*pi*x/alpha) + sin(2*pi*y/alpha))/5 + 1)*(-gamma/10 + z/10 + tanh((b + 1)*(gamma - z)/5)/(5*tanh(gamma*(b + 1))))*(sin(phi)*sin(theta)/3 + cos(phi)/3 + 1/2)/(4*pi) - alpha*(z*(sin(2*pi*x/alpha) + sin(2*pi*y/alpha))/5 + 1)*(-gamma/10 + z/10 + tanh((b + 1)*(gamma - z)/5)/(5*tanh(gamma*(b + 1))))*(-pi*sin(phi)*sin(theta)/2 - sin(phi)*sin(theta)/3 - cos(phi)/3 + 1/2)/(4*pi) - alpha*(z*(sin(2*pi*x/alpha) + sin(2*pi*y/alpha))/5 + 1)*(-gamma/10 + z/10 + tanh((b + 1)*(gamma - z)/5)/(5*tanh(gamma*(b + 1))))*(sin(phi)*sin(theta)/3 - 2*pi*sin(phi)*cos(theta)/3 - pi*cos(phi) + cos(phi)/3 - 2*pi + 1/2)/(4*pi) + alpha*(z*(sin(2*pi*x/alpha) + sin(2*pi*y/alpha))/5 + 1)*(-gamma/10 + z/10 + tanh((b + 1)*(gamma - z)/5)/(5*tanh(gamma*(b + 1))))*(-pi*sin(phi)*sin(theta)/2 - sin(phi)*sin(theta)/3 + 2*pi*sin(phi)*cos(theta)/3 - pi*cos(phi) - cos(phi)/3 + 1/2 + 2*pi)/(4*pi)) + 2*pi*z*(sin(phi + theta) + 1)*(-gamma/10 + z/10 + tanh((b + 1)*(gamma - z)/5)/(5*tanh(gamma*(b + 1))))*sin(phi)*sin(theta)*cos(2*pi*y/alpha)/5 + 2*pi*z*(sin(phi + theta) + 1)*(-gamma/10 + z/10 + tanh((b + 1)*(gamma - z)/5)/(5*tanh(gamma*(b + 1))))*sin(phi)*cos(theta)*cos(2*pi*x/alpha)/5 + (alpha*(z*(sin(2*pi*x/alpha) + sin(2*pi*y/alpha))/5 + 1)*((-b/5 - 1/5)*(-tanh((b + 1)*(gamma - z)/5)**2 + 1)/(5*tanh(gamma*(b + 1))) + 1/10)*(sin(phi + theta) + 1) + alpha*(sin(2*pi*x/alpha)/5 + sin(2*pi*y/alpha)/5)*(sin(phi + theta) + 1)*(-gamma/10 + z/10 + tanh((b + 1)*(gamma - z)/5)/(5*tanh(gamma*(b + 1)))))*cos(phi), alpha*(-gamma/10 + tanh(gamma*(b + 1)/5)/(5*tanh(gamma*(b + 1))))*(sin(phi + theta) + 1), (Delta + 1)/(4*pi), {'alpha': 1, 'gamma': 1, 'b': 0.5}, 0, True, study_dir='/home/oliver/academic/research/kelp-results/verify_test_12_12_12_b05_uniform_smallderiv', study_name='verify_test_12_12_12_b05_uniform_smallderiv')\n",
      "\n",
      "Calling solve_rte_with_callbacks(12, 12, 12, 6, 1, 1, 0.5, alpha*(z*(sin(2*pi*x/alpha) + sin(2*pi*y/alpha))/5 + 1)*(sin(phi + theta) + 1)*(-gamma/10 + z/10 + tanh((b + 1)*(gamma - z)/5)/(5*tanh(gamma*(b + 1)))), (tanh(-gamma + z) + 1)*(sin(2*pi*x/alpha) + sin(2*pi*y/alpha) + 3)/20 + 1, alpha*(z*(sin(2*pi*x/alpha) + sin(2*pi*y/alpha))/5 + 1)*(sin(phi + theta) + 1)*(b + (tanh(-gamma + z) + 1)*(sin(2*pi*x/alpha) + sin(2*pi*y/alpha) + 3)/20 + 1)*(-gamma/10 + z/10 + tanh((b + 1)*(gamma - z)/5)/(5*tanh(gamma*(b + 1)))) - b*(alpha*(z*(sin(2*pi*x/alpha) + sin(2*pi*y/alpha))/5 + 1)*(-gamma/10 + z/10 + tanh((b + 1)*(gamma - z)/5)/(5*tanh(gamma*(b + 1))))*(sin(phi)*sin(theta)/3 + cos(phi)/3 + 1/2)/(4*pi) - alpha*(z*(sin(2*pi*x/alpha) + sin(2*pi*y/alpha))/5 + 1)*(-gamma/10 + z/10 + tanh((b + 1)*(gamma - z)/5)/(5*tanh(gamma*(b + 1))))*(-pi*sin(phi)*sin(theta)/2 - sin(phi)*sin(theta)/3 - cos(phi)/3 + 1/2)/(4*pi) - alpha*(z*(sin(2*pi*x/alpha) + sin(2*pi*y/alpha))/5 + 1)*(-gamma/10 + z/10 + tanh((b + 1)*(gamma - z)/5)/(5*tanh(gamma*(b + 1))))*(sin(phi)*sin(theta)/3 - 2*pi*sin(phi)*cos(theta)/3 - pi*cos(phi) + cos(phi)/3 - 2*pi + 1/2)/(4*pi) + alpha*(z*(sin(2*pi*x/alpha) + sin(2*pi*y/alpha))/5 + 1)*(-gamma/10 + z/10 + tanh((b + 1)*(gamma - z)/5)/(5*tanh(gamma*(b + 1))))*(-pi*sin(phi)*sin(theta)/2 - sin(phi)*sin(theta)/3 + 2*pi*sin(phi)*cos(theta)/3 - pi*cos(phi) - cos(phi)/3 + 1/2 + 2*pi)/(4*pi)) + 2*pi*z*(sin(phi + theta) + 1)*(-gamma/10 + z/10 + tanh((b + 1)*(gamma - z)/5)/(5*tanh(gamma*(b + 1))))*sin(phi)*sin(theta)*cos(2*pi*y/alpha)/5 + 2*pi*z*(sin(phi + theta) + 1)*(-gamma/10 + z/10 + tanh((b + 1)*(gamma - z)/5)/(5*tanh(gamma*(b + 1))))*sin(phi)*cos(theta)*cos(2*pi*x/alpha)/5 + (alpha*(z*(sin(2*pi*x/alpha) + sin(2*pi*y/alpha))/5 + 1)*((-b/5 - 1/5)*(-tanh((b + 1)*(gamma - z)/5)**2 + 1)/(5*tanh(gamma*(b + 1))) + 1/10)*(sin(phi + theta) + 1) + alpha*(sin(2*pi*x/alpha)/5 + sin(2*pi*y/alpha)/5)*(sin(phi + theta) + 1)*(-gamma/10 + z/10 + tanh((b + 1)*(gamma - z)/5)/(5*tanh(gamma*(b + 1)))))*cos(phi), alpha*(-gamma/10 + tanh(gamma*(b + 1)/5)/(5*tanh(gamma*(b + 1))))*(sin(phi + theta) + 1), (Delta + 1)/(4*pi), {'alpha': 1, 'gamma': 1, 'b': 0.5}, 0, True, study_dir='/home/oliver/academic/research/kelp-results/verify_test_12_12_12_b05_uniform_smallderiv', study_name='verify_test_12_12_12_b05_uniform_smallderiv')\n",
      "\n",
      "Calling solve_rte_with_callbacks(12, 12, 12, 8, 1, 1, 0.5, alpha*(z*(sin(2*pi*x/alpha) + sin(2*pi*y/alpha))/5 + 1)*(sin(phi + theta) + 1)*(-gamma/10 + z/10 + tanh((b + 1)*(gamma - z)/5)/(5*tanh(gamma*(b + 1)))), (tanh(-gamma + z) + 1)*(sin(2*pi*x/alpha) + sin(2*pi*y/alpha) + 3)/20 + 1, alpha*(z*(sin(2*pi*x/alpha) + sin(2*pi*y/alpha))/5 + 1)*(sin(phi + theta) + 1)*(b + (tanh(-gamma + z) + 1)*(sin(2*pi*x/alpha) + sin(2*pi*y/alpha) + 3)/20 + 1)*(-gamma/10 + z/10 + tanh((b + 1)*(gamma - z)/5)/(5*tanh(gamma*(b + 1)))) - b*(alpha*(z*(sin(2*pi*x/alpha) + sin(2*pi*y/alpha))/5 + 1)*(-gamma/10 + z/10 + tanh((b + 1)*(gamma - z)/5)/(5*tanh(gamma*(b + 1))))*(sin(phi)*sin(theta)/3 + cos(phi)/3 + 1/2)/(4*pi) - alpha*(z*(sin(2*pi*x/alpha) + sin(2*pi*y/alpha))/5 + 1)*(-gamma/10 + z/10 + tanh((b + 1)*(gamma - z)/5)/(5*tanh(gamma*(b + 1))))*(-pi*sin(phi)*sin(theta)/2 - sin(phi)*sin(theta)/3 - cos(phi)/3 + 1/2)/(4*pi) - alpha*(z*(sin(2*pi*x/alpha) + sin(2*pi*y/alpha))/5 + 1)*(-gamma/10 + z/10 + tanh((b + 1)*(gamma - z)/5)/(5*tanh(gamma*(b + 1))))*(sin(phi)*sin(theta)/3 - 2*pi*sin(phi)*cos(theta)/3 - pi*cos(phi) + cos(phi)/3 - 2*pi + 1/2)/(4*pi) + alpha*(z*(sin(2*pi*x/alpha) + sin(2*pi*y/alpha))/5 + 1)*(-gamma/10 + z/10 + tanh((b + 1)*(gamma - z)/5)/(5*tanh(gamma*(b + 1))))*(-pi*sin(phi)*sin(theta)/2 - sin(phi)*sin(theta)/3 + 2*pi*sin(phi)*cos(theta)/3 - pi*cos(phi) - cos(phi)/3 + 1/2 + 2*pi)/(4*pi)) + 2*pi*z*(sin(phi + theta) + 1)*(-gamma/10 + z/10 + tanh((b + 1)*(gamma - z)/5)/(5*tanh(gamma*(b + 1))))*sin(phi)*sin(theta)*cos(2*pi*y/alpha)/5 + 2*pi*z*(sin(phi + theta) + 1)*(-gamma/10 + z/10 + tanh((b + 1)*(gamma - z)/5)/(5*tanh(gamma*(b + 1))))*sin(phi)*cos(theta)*cos(2*pi*x/alpha)/5 + (alpha*(z*(sin(2*pi*x/alpha) + sin(2*pi*y/alpha))/5 + 1)*((-b/5 - 1/5)*(-tanh((b + 1)*(gamma - z)/5)**2 + 1)/(5*tanh(gamma*(b + 1))) + 1/10)*(sin(phi + theta) + 1) + alpha*(sin(2*pi*x/alpha)/5 + sin(2*pi*y/alpha)/5)*(sin(phi + theta) + 1)*(-gamma/10 + z/10 + tanh((b + 1)*(gamma - z)/5)/(5*tanh(gamma*(b + 1)))))*cos(phi), alpha*(-gamma/10 + tanh(gamma*(b + 1)/5)/(5*tanh(gamma*(b + 1))))*(sin(phi + theta) + 1), (Delta + 1)/(4*pi), {'alpha': 1, 'gamma': 1, 'b': 0.5}, 0, True, study_dir='/home/oliver/academic/research/kelp-results/verify_test_12_12_12_b05_uniform_smallderiv', study_name='verify_test_12_12_12_b05_uniform_smallderiv')\n",
      "\n",
      "Calling solve_rte_with_callbacks(12, 12, 12, 10, 1, 1, 0.5, alpha*(z*(sin(2*pi*x/alpha) + sin(2*pi*y/alpha))/5 + 1)*(sin(phi + theta) + 1)*(-gamma/10 + z/10 + tanh((b + 1)*(gamma - z)/5)/(5*tanh(gamma*(b + 1)))), (tanh(-gamma + z) + 1)*(sin(2*pi*x/alpha) + sin(2*pi*y/alpha) + 3)/20 + 1, alpha*(z*(sin(2*pi*x/alpha) + sin(2*pi*y/alpha))/5 + 1)*(sin(phi + theta) + 1)*(b + (tanh(-gamma + z) + 1)*(sin(2*pi*x/alpha) + sin(2*pi*y/alpha) + 3)/20 + 1)*(-gamma/10 + z/10 + tanh((b + 1)*(gamma - z)/5)/(5*tanh(gamma*(b + 1)))) - b*(alpha*(z*(sin(2*pi*x/alpha) + sin(2*pi*y/alpha))/5 + 1)*(-gamma/10 + z/10 + tanh((b + 1)*(gamma - z)/5)/(5*tanh(gamma*(b + 1))))*(sin(phi)*sin(theta)/3 + cos(phi)/3 + 1/2)/(4*pi) - alpha*(z*(sin(2*pi*x/alpha) + sin(2*pi*y/alpha))/5 + 1)*(-gamma/10 + z/10 + tanh((b + 1)*(gamma - z)/5)/(5*tanh(gamma*(b + 1))))*(-pi*sin(phi)*sin(theta)/2 - sin(phi)*sin(theta)/3 - cos(phi)/3 + 1/2)/(4*pi) - alpha*(z*(sin(2*pi*x/alpha) + sin(2*pi*y/alpha))/5 + 1)*(-gamma/10 + z/10 + tanh((b + 1)*(gamma - z)/5)/(5*tanh(gamma*(b + 1))))*(sin(phi)*sin(theta)/3 - 2*pi*sin(phi)*cos(theta)/3 - pi*cos(phi) + cos(phi)/3 - 2*pi + 1/2)/(4*pi) + alpha*(z*(sin(2*pi*x/alpha) + sin(2*pi*y/alpha))/5 + 1)*(-gamma/10 + z/10 + tanh((b + 1)*(gamma - z)/5)/(5*tanh(gamma*(b + 1))))*(-pi*sin(phi)*sin(theta)/2 - sin(phi)*sin(theta)/3 + 2*pi*sin(phi)*cos(theta)/3 - pi*cos(phi) - cos(phi)/3 + 1/2 + 2*pi)/(4*pi)) + 2*pi*z*(sin(phi + theta) + 1)*(-gamma/10 + z/10 + tanh((b + 1)*(gamma - z)/5)/(5*tanh(gamma*(b + 1))))*sin(phi)*sin(theta)*cos(2*pi*y/alpha)/5 + 2*pi*z*(sin(phi + theta) + 1)*(-gamma/10 + z/10 + tanh((b + 1)*(gamma - z)/5)/(5*tanh(gamma*(b + 1))))*sin(phi)*cos(theta)*cos(2*pi*x/alpha)/5 + (alpha*(z*(sin(2*pi*x/alpha) + sin(2*pi*y/alpha))/5 + 1)*((-b/5 - 1/5)*(-tanh((b + 1)*(gamma - z)/5)**2 + 1)/(5*tanh(gamma*(b + 1))) + 1/10)*(sin(phi + theta) + 1) + alpha*(sin(2*pi*x/alpha)/5 + sin(2*pi*y/alpha)/5)*(sin(phi + theta) + 1)*(-gamma/10 + z/10 + tanh((b + 1)*(gamma - z)/5)/(5*tanh(gamma*(b + 1)))))*cos(phi), alpha*(-gamma/10 + tanh(gamma*(b + 1)/5)/(5*tanh(gamma*(b + 1))))*(sin(phi + theta) + 1), (Delta + 1)/(4*pi), {'alpha': 1, 'gamma': 1, 'b': 0.5}, 0, True, study_dir='/home/oliver/academic/research/kelp-results/verify_test_12_12_12_b05_uniform_smallderiv', study_name='verify_test_12_12_12_b05_uniform_smallderiv')\n",
      "\n",
      "Opening combined db: /home/oliver/academic/research/kelp-results/verify_test_12_12_12_b05_uniform_smallderiv/verify_test_12_12_12_b05_uniform_smallderiv.db\n",
      "Connected.\n",
      "Combining /home/oliver/academic/research/kelp-results/verify_test_12_12_12_b05_uniform_smallderiv/data/xe46o6jg.db (tables: ['verify_test_12_12_12_b05_uniform_smallderiv', 'sqlite_sequence'])\n",
      "read.\n",
      "Creating table verify_test_12_12_12_b05_uniform_smallderiv\n",
      "CREATING TABLE\n",
      "\n",
      "    CREATE TABLE verify_test_12_12_12_b05_uniform_smallderiv (\n",
      "        id INTEGER PRIMARY KEY AUTOINCREMENT,\n",
      "        data_path CHAR(1024),\n",
      "        b REAL,\n",
      "        ns INTEGER,\n",
      "        ntheta INTEGER,\n",
      "        nphi INTEGER,\n",
      "        nx INTEGER,\n",
      "        ny INTEGER,\n",
      "        nz INTEGER,\n",
      "        nomega INTEGER,\n",
      "        zmax INTEGER,\n",
      "        rope_spacing INTEGER,\n",
      "        num_scatters INTEGER,\n",
      "        fd_flag INTEGER,\n",
      "        lis_opts CHAR(1024),\n",
      "        date CHAR(1024),\n",
      "        git_commit CHAR(1024),\n",
      "        compute_time REAL,\n",
      "        lis_iter INTEGER,\n",
      "        lis_time REAL,\n",
      "        lis_resid REAL,\n",
      "        sol_expr CHAR(1024),\n",
      "        abs_expr CHAR(1024),\n",
      "        source_expr CHAR(1024),\n",
      "        bc_expr CHAR(1024),\n",
      "        vsf_expr CHAR(1024),\n",
      "        param_dict CHAR(1024)\n",
      "    );\n",
      "col_names: ['id', 'data_path', 'b', 'ns', 'ntheta', 'nphi', 'nx', 'ny', 'nz', 'nomega', 'zmax', 'rope_spacing', 'num_scatters', 'fd_flag', 'lis_opts', 'date', 'git_commit', 'compute_time', 'lis_iter', 'lis_time', 'lis_resid', 'sol_expr', 'abs_expr', 'source_expr', 'bc_expr', 'vsf_expr', 'param_dict']\n",
      "Before try.\n",
      "INSERT INTO verify_test_12_12_12_b05_uniform_smallderiv VALUES (:id, :data_path, :b, :ns, :ntheta, :nphi, :nx, :ny, :nz, :nomega, :zmax, :rope_spacing, :num_scatters, :fd_flag, :lis_opts, :date, :git_commit, :compute_time, :lis_iter, :lis_time, :lis_resid, :sol_expr, :abs_expr, :source_expr, :bc_expr, :vsf_expr, :param_dict);\n",
      "Executing command:\n",
      "INSERT INTO verify_test_12_12_12_b05_uniform_smallderiv VALUES (:id, :data_path, :b, :ns, :ntheta, :nphi, :nx, :ny, :nz, :nomega, :zmax, :rope_spacing, :num_scatters, :fd_flag, :lis_opts, :date, :git_commit, :compute_time, :lis_iter, :lis_time, :lis_resid, :sol_expr, :abs_expr, :source_expr, :bc_expr, :vsf_expr, :param_dict);\n",
      "Combining /home/oliver/academic/research/kelp-results/verify_test_12_12_12_b05_uniform_smallderiv/data/kcib26at.db (tables: ['verify_test_12_12_12_b05_uniform_smallderiv', 'sqlite_sequence'])\n",
      "read.\n",
      "Not creating table verify_test_12_12_12_b05_uniform_smallderiv\n",
      "col_names: ['id', 'data_path', 'b', 'ns', 'ntheta', 'nphi', 'nx', 'ny', 'nz', 'nomega', 'zmax', 'rope_spacing', 'num_scatters', 'fd_flag', 'lis_opts', 'date', 'git_commit', 'compute_time', 'lis_iter', 'lis_time', 'lis_resid', 'sol_expr', 'abs_expr', 'source_expr', 'bc_expr', 'vsf_expr', 'param_dict']\n",
      "Before try.\n",
      "INSERT INTO verify_test_12_12_12_b05_uniform_smallderiv VALUES (:id, :data_path, :b, :ns, :ntheta, :nphi, :nx, :ny, :nz, :nomega, :zmax, :rope_spacing, :num_scatters, :fd_flag, :lis_opts, :date, :git_commit, :compute_time, :lis_iter, :lis_time, :lis_resid, :sol_expr, :abs_expr, :source_expr, :bc_expr, :vsf_expr, :param_dict);\n",
      "Executing command:\n",
      "INSERT INTO verify_test_12_12_12_b05_uniform_smallderiv VALUES (:id, :data_path, :b, :ns, :ntheta, :nphi, :nx, :ny, :nz, :nomega, :zmax, :rope_spacing, :num_scatters, :fd_flag, :lis_opts, :date, :git_commit, :compute_time, :lis_iter, :lis_time, :lis_resid, :sol_expr, :abs_expr, :source_expr, :bc_expr, :vsf_expr, :param_dict);\n",
      "Combining /home/oliver/academic/research/kelp-results/verify_test_12_12_12_b05_uniform_smallderiv/data/duohzny6.db (tables: ['verify_test_12_12_12_b05_uniform_smallderiv', 'sqlite_sequence'])\n",
      "read.\n",
      "Not creating table verify_test_12_12_12_b05_uniform_smallderiv\n",
      "col_names: ['id', 'data_path', 'b', 'ns', 'ntheta', 'nphi', 'nx', 'ny', 'nz', 'nomega', 'zmax', 'rope_spacing', 'num_scatters', 'fd_flag', 'lis_opts', 'date', 'git_commit', 'compute_time', 'lis_iter', 'lis_time', 'lis_resid', 'sol_expr', 'abs_expr', 'source_expr', 'bc_expr', 'vsf_expr', 'param_dict']\n",
      "Before try.\n",
      "INSERT INTO verify_test_12_12_12_b05_uniform_smallderiv VALUES (:id, :data_path, :b, :ns, :ntheta, :nphi, :nx, :ny, :nz, :nomega, :zmax, :rope_spacing, :num_scatters, :fd_flag, :lis_opts, :date, :git_commit, :compute_time, :lis_iter, :lis_time, :lis_resid, :sol_expr, :abs_expr, :source_expr, :bc_expr, :vsf_expr, :param_dict);\n",
      "Executing command:\n",
      "INSERT INTO verify_test_12_12_12_b05_uniform_smallderiv VALUES (:id, :data_path, :b, :ns, :ntheta, :nphi, :nx, :ny, :nz, :nomega, :zmax, :rope_spacing, :num_scatters, :fd_flag, :lis_opts, :date, :git_commit, :compute_time, :lis_iter, :lis_time, :lis_resid, :sol_expr, :abs_expr, :source_expr, :bc_expr, :vsf_expr, :param_dict);\n",
      "Combining /home/oliver/academic/research/kelp-results/verify_test_12_12_12_b05_uniform_smallderiv/data/r7x7jwm6.db (tables: ['verify_test_12_12_12_b05_uniform_smallderiv', 'sqlite_sequence'])\n",
      "read.\n",
      "Not creating table verify_test_12_12_12_b05_uniform_smallderiv\n",
      "col_names: ['id', 'data_path', 'b', 'ns', 'ntheta', 'nphi', 'nx', 'ny', 'nz', 'nomega', 'zmax', 'rope_spacing', 'num_scatters', 'fd_flag', 'lis_opts', 'date', 'git_commit', 'compute_time', 'lis_iter', 'lis_time', 'lis_resid', 'sol_expr', 'abs_expr', 'source_expr', 'bc_expr', 'vsf_expr', 'param_dict']\n",
      "Before try.\n",
      "INSERT INTO verify_test_12_12_12_b05_uniform_smallderiv VALUES (:id, :data_path, :b, :ns, :ntheta, :nphi, :nx, :ny, :nz, :nomega, :zmax, :rope_spacing, :num_scatters, :fd_flag, :lis_opts, :date, :git_commit, :compute_time, :lis_iter, :lis_time, :lis_resid, :sol_expr, :abs_expr, :source_expr, :bc_expr, :vsf_expr, :param_dict);\n",
      "Executing command:\n",
      "INSERT INTO verify_test_12_12_12_b05_uniform_smallderiv VALUES (:id, :data_path, :b, :ns, :ntheta, :nphi, :nx, :ny, :nz, :nomega, :zmax, :rope_spacing, :num_scatters, :fd_flag, :lis_opts, :date, :git_commit, :compute_time, :lis_iter, :lis_time, :lis_resid, :sol_expr, :abs_expr, :source_expr, :bc_expr, :vsf_expr, :param_dict);\n",
      "Combining /home/oliver/academic/research/kelp-results/verify_test_12_12_12_b05_uniform_smallderiv/data/1rpaeboq.db (tables: ['verify_test_12_12_12_b05_uniform_smallderiv', 'sqlite_sequence'])\n",
      "read.\n",
      "Not creating table verify_test_12_12_12_b05_uniform_smallderiv\n",
      "col_names: ['id', 'data_path', 'b', 'ns', 'ntheta', 'nphi', 'nx', 'ny', 'nz', 'nomega', 'zmax', 'rope_spacing', 'num_scatters', 'fd_flag', 'lis_opts', 'date', 'git_commit', 'compute_time', 'lis_iter', 'lis_time', 'lis_resid', 'sol_expr', 'abs_expr', 'source_expr', 'bc_expr', 'vsf_expr', 'param_dict']\n",
      "Before try.\n",
      "INSERT INTO verify_test_12_12_12_b05_uniform_smallderiv VALUES (:id, :data_path, :b, :ns, :ntheta, :nphi, :nx, :ny, :nz, :nomega, :zmax, :rope_spacing, :num_scatters, :fd_flag, :lis_opts, :date, :git_commit, :compute_time, :lis_iter, :lis_time, :lis_resid, :sol_expr, :abs_expr, :source_expr, :bc_expr, :vsf_expr, :param_dict);\n",
      "Executing command:\n",
      "INSERT INTO verify_test_12_12_12_b05_uniform_smallderiv VALUES (:id, :data_path, :b, :ns, :ntheta, :nphi, :nx, :ny, :nz, :nomega, :zmax, :rope_spacing, :num_scatters, :fd_flag, :lis_opts, :date, :git_commit, :compute_time, :lis_iter, :lis_time, :lis_resid, :sol_expr, :abs_expr, :source_expr, :bc_expr, :vsf_expr, :param_dict);\n",
      "Combining /home/oliver/academic/research/kelp-results/verify_test_12_12_12_b05_uniform_smallderiv/data/83w9okcv.db (tables: ['verify_test_12_12_12_b05_uniform_smallderiv', 'sqlite_sequence'])\n",
      "read.\n",
      "Not creating table verify_test_12_12_12_b05_uniform_smallderiv\n",
      "col_names: ['id', 'data_path', 'b', 'ns', 'ntheta', 'nphi', 'nx', 'ny', 'nz', 'nomega', 'zmax', 'rope_spacing', 'num_scatters', 'fd_flag', 'lis_opts', 'date', 'git_commit', 'compute_time', 'lis_iter', 'lis_time', 'lis_resid', 'sol_expr', 'abs_expr', 'source_expr', 'bc_expr', 'vsf_expr', 'param_dict']\n",
      "Before try.\n",
      "INSERT INTO verify_test_12_12_12_b05_uniform_smallderiv VALUES (:id, :data_path, :b, :ns, :ntheta, :nphi, :nx, :ny, :nz, :nomega, :zmax, :rope_spacing, :num_scatters, :fd_flag, :lis_opts, :date, :git_commit, :compute_time, :lis_iter, :lis_time, :lis_resid, :sol_expr, :abs_expr, :source_expr, :bc_expr, :vsf_expr, :param_dict);\n",
      "Executing command:\n",
      "INSERT INTO verify_test_12_12_12_b05_uniform_smallderiv VALUES (:id, :data_path, :b, :ns, :ntheta, :nphi, :nx, :ny, :nz, :nomega, :zmax, :rope_spacing, :num_scatters, :fd_flag, :lis_opts, :date, :git_commit, :compute_time, :lis_iter, :lis_time, :lis_resid, :sol_expr, :abs_expr, :source_expr, :bc_expr, :vsf_expr, :param_dict);\n",
      "Combining /home/oliver/academic/research/kelp-results/verify_test_12_12_12_b05_uniform_smallderiv/data/4m5h9d3z.db (tables: ['verify_test_12_12_12_b05_uniform_smallderiv', 'sqlite_sequence'])\n",
      "read.\n",
      "Not creating table verify_test_12_12_12_b05_uniform_smallderiv\n",
      "col_names: ['id', 'data_path', 'b', 'ns', 'ntheta', 'nphi', 'nx', 'ny', 'nz', 'nomega', 'zmax', 'rope_spacing', 'num_scatters', 'fd_flag', 'lis_opts', 'date', 'git_commit', 'compute_time', 'lis_iter', 'lis_time', 'lis_resid', 'sol_expr', 'abs_expr', 'source_expr', 'bc_expr', 'vsf_expr', 'param_dict']\n",
      "Before try.\n",
      "INSERT INTO verify_test_12_12_12_b05_uniform_smallderiv VALUES (:id, :data_path, :b, :ns, :ntheta, :nphi, :nx, :ny, :nz, :nomega, :zmax, :rope_spacing, :num_scatters, :fd_flag, :lis_opts, :date, :git_commit, :compute_time, :lis_iter, :lis_time, :lis_resid, :sol_expr, :abs_expr, :source_expr, :bc_expr, :vsf_expr, :param_dict);\n",
      "Executing command:\n",
      "INSERT INTO verify_test_12_12_12_b05_uniform_smallderiv VALUES (:id, :data_path, :b, :ns, :ntheta, :nphi, :nx, :ny, :nz, :nomega, :zmax, :rope_spacing, :num_scatters, :fd_flag, :lis_opts, :date, :git_commit, :compute_time, :lis_iter, :lis_time, :lis_resid, :sol_expr, :abs_expr, :source_expr, :bc_expr, :vsf_expr, :param_dict);\n",
      "Combining /home/oliver/academic/research/kelp-results/verify_test_12_12_12_b05_uniform_smallderiv/data/xq0fns2g.db (tables: ['verify_test_12_12_12_b05_uniform_smallderiv', 'sqlite_sequence'])\n",
      "read.\n",
      "Not creating table verify_test_12_12_12_b05_uniform_smallderiv\n",
      "col_names: ['id', 'data_path', 'b', 'ns', 'ntheta', 'nphi', 'nx', 'ny', 'nz', 'nomega', 'zmax', 'rope_spacing', 'num_scatters', 'fd_flag', 'lis_opts', 'date', 'git_commit', 'compute_time', 'lis_iter', 'lis_time', 'lis_resid', 'sol_expr', 'abs_expr', 'source_expr', 'bc_expr', 'vsf_expr', 'param_dict']\n",
      "Before try.\n",
      "INSERT INTO verify_test_12_12_12_b05_uniform_smallderiv VALUES (:id, :data_path, :b, :ns, :ntheta, :nphi, :nx, :ny, :nz, :nomega, :zmax, :rope_spacing, :num_scatters, :fd_flag, :lis_opts, :date, :git_commit, :compute_time, :lis_iter, :lis_time, :lis_resid, :sol_expr, :abs_expr, :source_expr, :bc_expr, :vsf_expr, :param_dict);\n",
      "Executing command:\n",
      "INSERT INTO verify_test_12_12_12_b05_uniform_smallderiv VALUES (:id, :data_path, :b, :ns, :ntheta, :nphi, :nx, :ny, :nz, :nomega, :zmax, :rope_spacing, :num_scatters, :fd_flag, :lis_opts, :date, :git_commit, :compute_time, :lis_iter, :lis_time, :lis_resid, :sol_expr, :abs_expr, :source_expr, :bc_expr, :vsf_expr, :param_dict);\n",
      "Combining /home/oliver/academic/research/kelp-results/verify_test_12_12_12_b05_uniform_smallderiv/data/lh1fvs4j.db (tables: ['verify_test_12_12_12_b05_uniform_smallderiv', 'sqlite_sequence'])\n",
      "read.\n",
      "Not creating table verify_test_12_12_12_b05_uniform_smallderiv\n",
      "col_names: ['id', 'data_path', 'b', 'ns', 'ntheta', 'nphi', 'nx', 'ny', 'nz', 'nomega', 'zmax', 'rope_spacing', 'num_scatters', 'fd_flag', 'lis_opts', 'date', 'git_commit', 'compute_time', 'lis_iter', 'lis_time', 'lis_resid', 'sol_expr', 'abs_expr', 'source_expr', 'bc_expr', 'vsf_expr', 'param_dict']\n",
      "Before try.\n",
      "INSERT INTO verify_test_12_12_12_b05_uniform_smallderiv VALUES (:id, :data_path, :b, :ns, :ntheta, :nphi, :nx, :ny, :nz, :nomega, :zmax, :rope_spacing, :num_scatters, :fd_flag, :lis_opts, :date, :git_commit, :compute_time, :lis_iter, :lis_time, :lis_resid, :sol_expr, :abs_expr, :source_expr, :bc_expr, :vsf_expr, :param_dict);\n",
      "Executing command:\n",
      "INSERT INTO verify_test_12_12_12_b05_uniform_smallderiv VALUES (:id, :data_path, :b, :ns, :ntheta, :nphi, :nx, :ny, :nz, :nomega, :zmax, :rope_spacing, :num_scatters, :fd_flag, :lis_opts, :date, :git_commit, :compute_time, :lis_iter, :lis_time, :lis_resid, :sol_expr, :abs_expr, :source_expr, :bc_expr, :vsf_expr, :param_dict);\n",
      "Combining /home/oliver/academic/research/kelp-results/verify_test_12_12_12_b05_uniform_smallderiv/data/ripjez7a.db (tables: ['verify_test_12_12_12_b05_uniform_smallderiv', 'sqlite_sequence'])\n",
      "read.\n",
      "Not creating table verify_test_12_12_12_b05_uniform_smallderiv\n",
      "col_names: ['id', 'data_path', 'b', 'ns', 'ntheta', 'nphi', 'nx', 'ny', 'nz', 'nomega', 'zmax', 'rope_spacing', 'num_scatters', 'fd_flag', 'lis_opts', 'date', 'git_commit', 'compute_time', 'lis_iter', 'lis_time', 'lis_resid', 'sol_expr', 'abs_expr', 'source_expr', 'bc_expr', 'vsf_expr', 'param_dict']\n",
      "Before try.\n",
      "INSERT INTO verify_test_12_12_12_b05_uniform_smallderiv VALUES (:id, :data_path, :b, :ns, :ntheta, :nphi, :nx, :ny, :nz, :nomega, :zmax, :rope_spacing, :num_scatters, :fd_flag, :lis_opts, :date, :git_commit, :compute_time, :lis_iter, :lis_time, :lis_resid, :sol_expr, :abs_expr, :source_expr, :bc_expr, :vsf_expr, :param_dict);\n",
      "Executing command:\n",
      "INSERT INTO verify_test_12_12_12_b05_uniform_smallderiv VALUES (:id, :data_path, :b, :ns, :ntheta, :nphi, :nx, :ny, :nz, :nomega, :zmax, :rope_spacing, :num_scatters, :fd_flag, :lis_opts, :date, :git_commit, :compute_time, :lis_iter, :lis_time, :lis_resid, :sol_expr, :abs_expr, :source_expr, :bc_expr, :vsf_expr, :param_dict);\n",
      "Combining /home/oliver/academic/research/kelp-results/verify_test_12_12_12_b05_uniform_smallderiv/data/_n2ak0fx.db (tables: ['verify_test_12_12_12_b05_uniform_smallderiv', 'sqlite_sequence'])\n",
      "read.\n",
      "Not creating table verify_test_12_12_12_b05_uniform_smallderiv\n",
      "col_names: ['id', 'data_path', 'b', 'ns', 'ntheta', 'nphi', 'nx', 'ny', 'nz', 'nomega', 'zmax', 'rope_spacing', 'num_scatters', 'fd_flag', 'lis_opts', 'date', 'git_commit', 'compute_time', 'lis_iter', 'lis_time', 'lis_resid', 'sol_expr', 'abs_expr', 'source_expr', 'bc_expr', 'vsf_expr', 'param_dict']\n",
      "Before try.\n",
      "INSERT INTO verify_test_12_12_12_b05_uniform_smallderiv VALUES (:id, :data_path, :b, :ns, :ntheta, :nphi, :nx, :ny, :nz, :nomega, :zmax, :rope_spacing, :num_scatters, :fd_flag, :lis_opts, :date, :git_commit, :compute_time, :lis_iter, :lis_time, :lis_resid, :sol_expr, :abs_expr, :source_expr, :bc_expr, :vsf_expr, :param_dict);\n",
      "Executing command:\n",
      "INSERT INTO verify_test_12_12_12_b05_uniform_smallderiv VALUES (:id, :data_path, :b, :ns, :ntheta, :nphi, :nx, :ny, :nz, :nomega, :zmax, :rope_spacing, :num_scatters, :fd_flag, :lis_opts, :date, :git_commit, :compute_time, :lis_iter, :lis_time, :lis_resid, :sol_expr, :abs_expr, :source_expr, :bc_expr, :vsf_expr, :param_dict);\n",
      "Combining /home/oliver/academic/research/kelp-results/verify_test_12_12_12_b05_uniform_smallderiv/data/gvfq5app.db (tables: ['verify_test_12_12_12_b05_uniform_smallderiv', 'sqlite_sequence'])\n",
      "read.\n",
      "Not creating table verify_test_12_12_12_b05_uniform_smallderiv\n",
      "col_names: ['id', 'data_path', 'b', 'ns', 'ntheta', 'nphi', 'nx', 'ny', 'nz', 'nomega', 'zmax', 'rope_spacing', 'num_scatters', 'fd_flag', 'lis_opts', 'date', 'git_commit', 'compute_time', 'lis_iter', 'lis_time', 'lis_resid', 'sol_expr', 'abs_expr', 'source_expr', 'bc_expr', 'vsf_expr', 'param_dict']\n",
      "Before try.\n",
      "INSERT INTO verify_test_12_12_12_b05_uniform_smallderiv VALUES (:id, :data_path, :b, :ns, :ntheta, :nphi, :nx, :ny, :nz, :nomega, :zmax, :rope_spacing, :num_scatters, :fd_flag, :lis_opts, :date, :git_commit, :compute_time, :lis_iter, :lis_time, :lis_resid, :sol_expr, :abs_expr, :source_expr, :bc_expr, :vsf_expr, :param_dict);\n",
      "Executing command:\n",
      "INSERT INTO verify_test_12_12_12_b05_uniform_smallderiv VALUES (:id, :data_path, :b, :ns, :ntheta, :nphi, :nx, :ny, :nz, :nomega, :zmax, :rope_spacing, :num_scatters, :fd_flag, :lis_opts, :date, :git_commit, :compute_time, :lis_iter, :lis_time, :lis_resid, :sol_expr, :abs_expr, :source_expr, :bc_expr, :vsf_expr, :param_dict);\n",
      "Combining /home/oliver/academic/research/kelp-results/verify_test_12_12_12_b05_uniform_smallderiv/data/suobu0aq.db (tables: ['verify_test_12_12_12_b05_uniform_smallderiv', 'sqlite_sequence'])\n",
      "read.\n",
      "Not creating table verify_test_12_12_12_b05_uniform_smallderiv\n",
      "col_names: ['id', 'data_path', 'b', 'ns', 'ntheta', 'nphi', 'nx', 'ny', 'nz', 'nomega', 'zmax', 'rope_spacing', 'num_scatters', 'fd_flag', 'lis_opts', 'date', 'git_commit', 'compute_time', 'lis_iter', 'lis_time', 'lis_resid', 'sol_expr', 'abs_expr', 'source_expr', 'bc_expr', 'vsf_expr', 'param_dict']\n",
      "Before try.\n",
      "INSERT INTO verify_test_12_12_12_b05_uniform_smallderiv VALUES (:id, :data_path, :b, :ns, :ntheta, :nphi, :nx, :ny, :nz, :nomega, :zmax, :rope_spacing, :num_scatters, :fd_flag, :lis_opts, :date, :git_commit, :compute_time, :lis_iter, :lis_time, :lis_resid, :sol_expr, :abs_expr, :source_expr, :bc_expr, :vsf_expr, :param_dict);\n",
      "Executing command:\n",
      "INSERT INTO verify_test_12_12_12_b05_uniform_smallderiv VALUES (:id, :data_path, :b, :ns, :ntheta, :nphi, :nx, :ny, :nz, :nomega, :zmax, :rope_spacing, :num_scatters, :fd_flag, :lis_opts, :date, :git_commit, :compute_time, :lis_iter, :lis_time, :lis_resid, :sol_expr, :abs_expr, :source_expr, :bc_expr, :vsf_expr, :param_dict);\n",
      "Combining /home/oliver/academic/research/kelp-results/verify_test_12_12_12_b05_uniform_smallderiv/data/frjmt97i.db (tables: ['verify_test_12_12_12_b05_uniform_smallderiv', 'sqlite_sequence'])\n",
      "read.\n",
      "Not creating table verify_test_12_12_12_b05_uniform_smallderiv\n",
      "col_names: ['id', 'data_path', 'b', 'ns', 'ntheta', 'nphi', 'nx', 'ny', 'nz', 'nomega', 'zmax', 'rope_spacing', 'num_scatters', 'fd_flag', 'lis_opts', 'date', 'git_commit', 'compute_time', 'lis_iter', 'lis_time', 'lis_resid', 'sol_expr', 'abs_expr', 'source_expr', 'bc_expr', 'vsf_expr', 'param_dict']\n",
      "Before try.\n",
      "INSERT INTO verify_test_12_12_12_b05_uniform_smallderiv VALUES (:id, :data_path, :b, :ns, :ntheta, :nphi, :nx, :ny, :nz, :nomega, :zmax, :rope_spacing, :num_scatters, :fd_flag, :lis_opts, :date, :git_commit, :compute_time, :lis_iter, :lis_time, :lis_resid, :sol_expr, :abs_expr, :source_expr, :bc_expr, :vsf_expr, :param_dict);\n",
      "Executing command:\n",
      "INSERT INTO verify_test_12_12_12_b05_uniform_smallderiv VALUES (:id, :data_path, :b, :ns, :ntheta, :nphi, :nx, :ny, :nz, :nomega, :zmax, :rope_spacing, :num_scatters, :fd_flag, :lis_opts, :date, :git_commit, :compute_time, :lis_iter, :lis_time, :lis_resid, :sol_expr, :abs_expr, :source_expr, :bc_expr, :vsf_expr, :param_dict);\n",
      "Combining /home/oliver/academic/research/kelp-results/verify_test_12_12_12_b05_uniform_smallderiv/data/tr_a3nrp.db (tables: ['verify_test_12_12_12_b05_uniform_smallderiv', 'sqlite_sequence'])\n",
      "read.\n",
      "Not creating table verify_test_12_12_12_b05_uniform_smallderiv\n",
      "col_names: ['id', 'data_path', 'b', 'ns', 'ntheta', 'nphi', 'nx', 'ny', 'nz', 'nomega', 'zmax', 'rope_spacing', 'num_scatters', 'fd_flag', 'lis_opts', 'date', 'git_commit', 'compute_time', 'lis_iter', 'lis_time', 'lis_resid', 'sol_expr', 'abs_expr', 'source_expr', 'bc_expr', 'vsf_expr', 'param_dict']\n",
      "Before try.\n",
      "INSERT INTO verify_test_12_12_12_b05_uniform_smallderiv VALUES (:id, :data_path, :b, :ns, :ntheta, :nphi, :nx, :ny, :nz, :nomega, :zmax, :rope_spacing, :num_scatters, :fd_flag, :lis_opts, :date, :git_commit, :compute_time, :lis_iter, :lis_time, :lis_resid, :sol_expr, :abs_expr, :source_expr, :bc_expr, :vsf_expr, :param_dict);\n",
      "Executing command:\n",
      "INSERT INTO verify_test_12_12_12_b05_uniform_smallderiv VALUES (:id, :data_path, :b, :ns, :ntheta, :nphi, :nx, :ny, :nz, :nomega, :zmax, :rope_spacing, :num_scatters, :fd_flag, :lis_opts, :date, :git_commit, :compute_time, :lis_iter, :lis_time, :lis_resid, :sol_expr, :abs_expr, :source_expr, :bc_expr, :vsf_expr, :param_dict);\n",
      "Combining /home/oliver/academic/research/kelp-results/verify_test_12_12_12_b05_uniform_smallderiv/data/mxm_36f4.db (tables: ['verify_test_12_12_12_b05_uniform_smallderiv', 'sqlite_sequence'])\n",
      "read.\n",
      "Not creating table verify_test_12_12_12_b05_uniform_smallderiv\n",
      "col_names: ['id', 'data_path', 'b', 'ns', 'ntheta', 'nphi', 'nx', 'ny', 'nz', 'nomega', 'zmax', 'rope_spacing', 'num_scatters', 'fd_flag', 'lis_opts', 'date', 'git_commit', 'compute_time', 'lis_iter', 'lis_time', 'lis_resid', 'sol_expr', 'abs_expr', 'source_expr', 'bc_expr', 'vsf_expr', 'param_dict']\n",
      "Before try.\n",
      "INSERT INTO verify_test_12_12_12_b05_uniform_smallderiv VALUES (:id, :data_path, :b, :ns, :ntheta, :nphi, :nx, :ny, :nz, :nomega, :zmax, :rope_spacing, :num_scatters, :fd_flag, :lis_opts, :date, :git_commit, :compute_time, :lis_iter, :lis_time, :lis_resid, :sol_expr, :abs_expr, :source_expr, :bc_expr, :vsf_expr, :param_dict);\n",
      "Executing command:\n",
      "INSERT INTO verify_test_12_12_12_b05_uniform_smallderiv VALUES (:id, :data_path, :b, :ns, :ntheta, :nphi, :nx, :ny, :nz, :nomega, :zmax, :rope_spacing, :num_scatters, :fd_flag, :lis_opts, :date, :git_commit, :compute_time, :lis_iter, :lis_time, :lis_resid, :sol_expr, :abs_expr, :source_expr, :bc_expr, :vsf_expr, :param_dict);\n",
      "Combining /home/oliver/academic/research/kelp-results/verify_test_12_12_12_b05_uniform_smallderiv/data/gfgobrfl.db (tables: ['verify_test_12_12_12_b05_uniform_smallderiv', 'sqlite_sequence'])\n",
      "read.\n",
      "Not creating table verify_test_12_12_12_b05_uniform_smallderiv\n",
      "col_names: ['id', 'data_path', 'b', 'ns', 'ntheta', 'nphi', 'nx', 'ny', 'nz', 'nomega', 'zmax', 'rope_spacing', 'num_scatters', 'fd_flag', 'lis_opts', 'date', 'git_commit', 'compute_time', 'lis_iter', 'lis_time', 'lis_resid', 'sol_expr', 'abs_expr', 'source_expr', 'bc_expr', 'vsf_expr', 'param_dict']\n",
      "Before try.\n",
      "INSERT INTO verify_test_12_12_12_b05_uniform_smallderiv VALUES (:id, :data_path, :b, :ns, :ntheta, :nphi, :nx, :ny, :nz, :nomega, :zmax, :rope_spacing, :num_scatters, :fd_flag, :lis_opts, :date, :git_commit, :compute_time, :lis_iter, :lis_time, :lis_resid, :sol_expr, :abs_expr, :source_expr, :bc_expr, :vsf_expr, :param_dict);\n",
      "Executing command:\n",
      "INSERT INTO verify_test_12_12_12_b05_uniform_smallderiv VALUES (:id, :data_path, :b, :ns, :ntheta, :nphi, :nx, :ny, :nz, :nomega, :zmax, :rope_spacing, :num_scatters, :fd_flag, :lis_opts, :date, :git_commit, :compute_time, :lis_iter, :lis_time, :lis_resid, :sol_expr, :abs_expr, :source_expr, :bc_expr, :vsf_expr, :param_dict);\n",
      "Combining /home/oliver/academic/research/kelp-results/verify_test_12_12_12_b05_uniform_smallderiv/data/kx9m48gm.db (tables: ['verify_test_12_12_12_b05_uniform_smallderiv', 'sqlite_sequence'])\n",
      "read.\n",
      "Not creating table verify_test_12_12_12_b05_uniform_smallderiv\n",
      "col_names: ['id', 'data_path', 'b', 'ns', 'ntheta', 'nphi', 'nx', 'ny', 'nz', 'nomega', 'zmax', 'rope_spacing', 'num_scatters', 'fd_flag', 'lis_opts', 'date', 'git_commit', 'compute_time', 'lis_iter', 'lis_time', 'lis_resid', 'sol_expr', 'abs_expr', 'source_expr', 'bc_expr', 'vsf_expr', 'param_dict']\n",
      "Before try.\n",
      "INSERT INTO verify_test_12_12_12_b05_uniform_smallderiv VALUES (:id, :data_path, :b, :ns, :ntheta, :nphi, :nx, :ny, :nz, :nomega, :zmax, :rope_spacing, :num_scatters, :fd_flag, :lis_opts, :date, :git_commit, :compute_time, :lis_iter, :lis_time, :lis_resid, :sol_expr, :abs_expr, :source_expr, :bc_expr, :vsf_expr, :param_dict);\n",
      "Executing command:\n",
      "INSERT INTO verify_test_12_12_12_b05_uniform_smallderiv VALUES (:id, :data_path, :b, :ns, :ntheta, :nphi, :nx, :ny, :nz, :nomega, :zmax, :rope_spacing, :num_scatters, :fd_flag, :lis_opts, :date, :git_commit, :compute_time, :lis_iter, :lis_time, :lis_resid, :sol_expr, :abs_expr, :source_expr, :bc_expr, :vsf_expr, :param_dict);\n",
      "Combining /home/oliver/academic/research/kelp-results/verify_test_12_12_12_b05_uniform_smallderiv/data/s8sbg1h8.db (tables: ['verify_test_12_12_12_b05_uniform_smallderiv', 'sqlite_sequence'])\n",
      "read.\n",
      "Not creating table verify_test_12_12_12_b05_uniform_smallderiv\n",
      "col_names: ['id', 'data_path', 'b', 'ns', 'ntheta', 'nphi', 'nx', 'ny', 'nz', 'nomega', 'zmax', 'rope_spacing', 'num_scatters', 'fd_flag', 'lis_opts', 'date', 'git_commit', 'compute_time', 'lis_iter', 'lis_time', 'lis_resid', 'sol_expr', 'abs_expr', 'source_expr', 'bc_expr', 'vsf_expr', 'param_dict']\n",
      "Before try.\n",
      "INSERT INTO verify_test_12_12_12_b05_uniform_smallderiv VALUES (:id, :data_path, :b, :ns, :ntheta, :nphi, :nx, :ny, :nz, :nomega, :zmax, :rope_spacing, :num_scatters, :fd_flag, :lis_opts, :date, :git_commit, :compute_time, :lis_iter, :lis_time, :lis_resid, :sol_expr, :abs_expr, :source_expr, :bc_expr, :vsf_expr, :param_dict);\n",
      "Executing command:\n",
      "INSERT INTO verify_test_12_12_12_b05_uniform_smallderiv VALUES (:id, :data_path, :b, :ns, :ntheta, :nphi, :nx, :ny, :nz, :nomega, :zmax, :rope_spacing, :num_scatters, :fd_flag, :lis_opts, :date, :git_commit, :compute_time, :lis_iter, :lis_time, :lis_resid, :sol_expr, :abs_expr, :source_expr, :bc_expr, :vsf_expr, :param_dict);\n",
      "Combining /home/oliver/academic/research/kelp-results/verify_test_12_12_12_b05_uniform_smallderiv/data/kz2i6fpe.db (tables: ['verify_test_12_12_12_b05_uniform_smallderiv', 'sqlite_sequence'])\n",
      "read.\n",
      "Not creating table verify_test_12_12_12_b05_uniform_smallderiv\n",
      "col_names: ['id', 'data_path', 'b', 'ns', 'ntheta', 'nphi', 'nx', 'ny', 'nz', 'nomega', 'zmax', 'rope_spacing', 'num_scatters', 'fd_flag', 'lis_opts', 'date', 'git_commit', 'compute_time', 'lis_iter', 'lis_time', 'lis_resid', 'sol_expr', 'abs_expr', 'source_expr', 'bc_expr', 'vsf_expr', 'param_dict']\n",
      "Before try.\n",
      "INSERT INTO verify_test_12_12_12_b05_uniform_smallderiv VALUES (:id, :data_path, :b, :ns, :ntheta, :nphi, :nx, :ny, :nz, :nomega, :zmax, :rope_spacing, :num_scatters, :fd_flag, :lis_opts, :date, :git_commit, :compute_time, :lis_iter, :lis_time, :lis_resid, :sol_expr, :abs_expr, :source_expr, :bc_expr, :vsf_expr, :param_dict);\n",
      "Executing command:\n",
      "INSERT INTO verify_test_12_12_12_b05_uniform_smallderiv VALUES (:id, :data_path, :b, :ns, :ntheta, :nphi, :nx, :ny, :nz, :nomega, :zmax, :rope_spacing, :num_scatters, :fd_flag, :lis_opts, :date, :git_commit, :compute_time, :lis_iter, :lis_time, :lis_resid, :sol_expr, :abs_expr, :source_expr, :bc_expr, :vsf_expr, :param_dict);\n",
      "Combining /home/oliver/academic/research/kelp-results/verify_test_12_12_12_b05_uniform_smallderiv/data/vke23rwq.db (tables: ['verify_test_12_12_12_b05_uniform_smallderiv', 'sqlite_sequence'])\n",
      "read.\n",
      "Not creating table verify_test_12_12_12_b05_uniform_smallderiv\n",
      "col_names: ['id', 'data_path', 'b', 'ns', 'ntheta', 'nphi', 'nx', 'ny', 'nz', 'nomega', 'zmax', 'rope_spacing', 'num_scatters', 'fd_flag', 'lis_opts', 'date', 'git_commit', 'compute_time', 'lis_iter', 'lis_time', 'lis_resid', 'sol_expr', 'abs_expr', 'source_expr', 'bc_expr', 'vsf_expr', 'param_dict']\n",
      "Before try.\n",
      "INSERT INTO verify_test_12_12_12_b05_uniform_smallderiv VALUES (:id, :data_path, :b, :ns, :ntheta, :nphi, :nx, :ny, :nz, :nomega, :zmax, :rope_spacing, :num_scatters, :fd_flag, :lis_opts, :date, :git_commit, :compute_time, :lis_iter, :lis_time, :lis_resid, :sol_expr, :abs_expr, :source_expr, :bc_expr, :vsf_expr, :param_dict);\n",
      "Executing command:\n",
      "INSERT INTO verify_test_12_12_12_b05_uniform_smallderiv VALUES (:id, :data_path, :b, :ns, :ntheta, :nphi, :nx, :ny, :nz, :nomega, :zmax, :rope_spacing, :num_scatters, :fd_flag, :lis_opts, :date, :git_commit, :compute_time, :lis_iter, :lis_time, :lis_resid, :sol_expr, :abs_expr, :source_expr, :bc_expr, :vsf_expr, :param_dict);\n"
     ]
    }
   ],
   "source": [
    "#base_dir = os.path.join(os.environ['SCRATCH'], 'kelp-results')\n",
    "base_dir = '/home/oliver/academic/research/kelp-results'\n",
    "\n",
    "study_name = 'verify_test_12_12_12_b05_uniform_smallderiv'\n",
    "study_dir = os.path.join(base_dir, study_name)\n",
    "\n",
    "ns_max = 12\n",
    "nz_max = 12\n",
    "ntheta_max = 12\n",
    "nphi_max = 12\n",
    "\n",
    "ns_list = range(4, ns_max+1, 2)\n",
    "nz_list = range(4, nz_max+1, 2)\n",
    "ntheta_list = range(4, ntheta_max+1, 1)\n",
    "nphi_list = range(4, nphi_max+1, 2)\n",
    "\n",
    "# ns_list = [10]\n",
    "# nz_list = [10]\n",
    "# ntheta_list = [10]\n",
    "# nphi_list = [10]\n",
    "\n",
    "# TODO: Don't actually delete results\n",
    "#shutil.rmtree(os.path.join(base_dir, study_name), ignore_errors=True)\n",
    "\n",
    "num_scatters = 0\n",
    "fd_flag = True\n",
    "\n",
    "combine_thread, gs_fut = kelp_compute.fd_verify_compute(\n",
    "    study_name, \n",
    "    ns_list, nz_list, ntheta_list, nphi_list, \n",
    "    rope_spacing, zmax, b, \n",
    "    sol_expr, abs_expr, source_expr, bc_expr, vsf_expr,\n",
    "    num_scatters, fd_flag,\n",
    "    param_vals, base_dir=base_dir)"
   ]
  },
  {
   "cell_type": "markdown",
   "metadata": {},
   "source": [
    "## Analyze convergece"
   ]
  },
  {
   "cell_type": "code",
   "execution_count": 322,
   "metadata": {},
   "outputs": [],
   "source": [
    "#study_name = 'verify_test_48_16_6_b05_uniform_smallderiv'\n",
    "#study_dir = os.path.join(base_dir, study_name)"
   ]
  },
  {
   "cell_type": "code",
   "execution_count": 325,
   "metadata": {},
   "outputs": [],
   "source": [
    "db_path = os.path.join(study_dir, '{}.db'.format(study_name))\n",
    "conn = sqlite3.Connection(db_path)"
   ]
  },
  {
   "cell_type": "code",
   "execution_count": 326,
   "metadata": {},
   "outputs": [
    {
     "name": "stdout",
     "output_type": "stream",
     "text": [
      "ns\n"
     ]
    },
    {
     "data": {
      "image/png": "[encoded data removed]",
      "text/plain": [
       "<Figure size 432x288 with 1 Axes>"
      ]
     },
     "metadata": {},
     "output_type": "display_data"
    },
    {
     "name": "stdout",
     "output_type": "stream",
     "text": [
      "nz\n"
     ]
    },
    {
     "data": {
      "image/png": "[encoded data removed]",
      "text/plain": [
       "<Figure size 432x288 with 1 Axes>"
      ]
     },
     "metadata": {},
     "output_type": "display_data"
    },
    {
     "name": "stdout",
     "output_type": "stream",
     "text": [
      "ntheta\n"
     ]
    },
    {
     "data": {
      "image/png": "[encoded data removed]",
      "text/plain": [
       "<Figure size 432x288 with 1 Axes>"
      ]
     },
     "metadata": {},
     "output_type": "display_data"
    },
    {
     "name": "stdout",
     "output_type": "stream",
     "text": [
      "nphi\n"
     ]
    },
    {
     "data": {
      "image/png": "[encoded data removed]",
      "text/plain": [
       "<Figure size 432x288 with 1 Axes>"
      ]
     },
     "metadata": {},
     "output_type": "display_data"
    }
   ],
   "source": [
    "#norm = lambda x: np.linalg.norm(np.ravel(x), ord=2)\n",
    "#norm = lambda x: np.sqrt(np.sum(x)**2/np.size(x))\n",
    "norm = lambda x: np.mean(np.abs(x))\n",
    "\n",
    "dim_names = ('ns', 'nz', 'ntheta', 'nphi')\n",
    "dim_resolutions = kelp_analyze.get_res_lists(conn, study_name)\n",
    "max_res_list = list(map(\n",
    "    max,\n",
    "    dim_resolutions\n",
    "))\n",
    "max_res_dict = {\n",
    "    name: max_res\n",
    "    for name, max_res in zip(dim_names, max_res_list)\n",
    "}\n",
    "dim_dict = dict(zip(dim_names, dim_resolutions))\n",
    "\n",
    "# Loop over dimensions\n",
    "for dim_num, dim_name in enumerate(dim_names):\n",
    "    # List of resolutions in the current dimension\n",
    "    current_dim = dim_dict[dim_name]\n",
    "    \n",
    "    print(dim_name)\n",
    "    err_dict = {}\n",
    "    for n in current_dim:\n",
    "        all_dims = {**max_res_dict, **{dim_name: n}}\n",
    "        results_list = kelp_analyze.query_results(\n",
    "            conn, study_name, \n",
    "            **all_dims\n",
    "        )\n",
    "\n",
    "        rad = results_list[0]['rad'][:]\n",
    "        true_rad = results_list[0]['true_rad'][:]\n",
    "\n",
    "        err = norm(rad - true_rad)\n",
    "        err_dict[n] = err\n",
    "\n",
    "    res_arr = rope_spacing / np.array(current_dim)\n",
    "    err_arr = np.array([err_dict[n] for n in current_dim])\n",
    "\n",
    "    conv.plot_lin_fit(\n",
    "        np.log(res_arr), np.log(err_arr), \n",
    "        min(np.log(res_arr)), max(np.log(res_arr)), \n",
    "        xlabel='d'+dim_name[1:], ylabel='err'\n",
    "    )"
   ]
  },
  {
   "cell_type": "code",
   "execution_count": 274,
   "metadata": {},
   "outputs": [
    {
     "ename": "ZeroDivisionError",
     "evalue": "division by zero",
     "output_type": "error",
     "traceback": [
      "\u001b[0;31m---------------------------------------------------------------------------\u001b[0m",
      "\u001b[0;31mZeroDivisionError\u001b[0m                         Traceback (most recent call last)",
      "\u001b[0;32m<ipython-input-274-9e1622b385b6>\u001b[0m in \u001b[0;36m<module>\u001b[0;34m()\u001b[0m\n\u001b[0;32m----> 1\u001b[0;31m \u001b[0;36m1\u001b[0m\u001b[0;34m/\u001b[0m\u001b[0;36m0\u001b[0m\u001b[0;34m\u001b[0m\u001b[0m\n\u001b[0m",
      "\u001b[0;31mZeroDivisionError\u001b[0m: division by zero"
     ]
    }
   ],
   "source": [
    "1/0"
   ]
  },
  {
   "cell_type": "markdown",
   "metadata": {},
   "source": [
    "### Test values"
   ]
  },
  {
   "cell_type": "code",
   "execution_count": null,
   "metadata": {},
   "outputs": [],
   "source": [
    "# Change nz"
   ]
  },
  {
   "cell_type": "code",
   "execution_count": null,
   "metadata": {},
   "outputs": [],
   "source": [
    "ns = 12\n",
    "nz = 12\n",
    "ntheta = 10\n",
    "nphi = 10\n",
    "grid = mms.gen_grid(ns, nz, ntheta, nphi, rope_spacing, zmax)\n",
    "x, y, z, theta, phi = grid\n",
    "x1 = x[:,0,0,0]\n",
    "y1 = y[0,:,0,0]\n",
    "z1 = z[0,0,:,0]\n",
    "results_list = kelp_analyze.query_results(\n",
    "    conn, study_name, \n",
    "    ns=ns, nz=nz, ntheta=ntheta, nphi=nphi\n",
    ")\n",
    "large_approx_rad = results_list[0]['rad'][:]\n",
    "large_approx_irrad = results_list[0]['irrad'][:]\n",
    "large_true_rad = results_list[0]['true_rad'][:]\n",
    "large_true_irrad = np.asfortranarray(np.zeros_like(large_approx_irrad))\n",
    "lu.calculate_irradiance(large_true_rad, large_true_irrad, ntheta, nphi)\n",
    "\n",
    "ns = 12\n",
    "nz = 4\n",
    "ntheta = 10\n",
    "nphi = 10\n",
    "grid = mms.gen_grid(ns, nz, ntheta, nphi, rope_spacing, zmax)\n",
    "x, y, z, theta, phi = grid\n",
    "x2 = x[:,0,0,0]\n",
    "y2 = y[0,:,0,0]\n",
    "z2 = z[0,0,:,0]\n",
    "results_list = kelp_analyze.query_results(\n",
    "    conn, study_name, \n",
    "    ns=ns, nz=nz, ntheta=ntheta, nphi=nphi\n",
    ")\n",
    "small_approx_rad = results_list[0]['rad'][:]\n",
    "small_approx_irrad = results_list[0]['irrad'][:]\n",
    "small_true_rad = results_list[0]['true_rad'][:]\n",
    "small_true_irrad = np.asfortranarray(np.zeros_like(small_approx_irrad))\n",
    "lu.calculate_irradiance(small_true_rad, small_true_irrad, ntheta, nphi)\n",
    "\n",
    "large_inds = np.zeros_like(large_approx_rad, dtype=bool)\n",
    "large_inds[3,1,:,0] = True\n",
    "\n",
    "small_inds = np.zeros_like(small_approx_rad, dtype=bool)\n",
    "small_inds[3,1,:,0] = True\n",
    "\n",
    "plt.plot(z1, large_approx_rad[large_inds], 'o-', label='large_approx')\n",
    "plt.plot(z1, large_true_rad[large_inds], 'o-', label='large_true')\n",
    "\n",
    "plt.plot(z2, small_approx_rad[small_inds], 'o-', label='small_approx')\n",
    "plt.plot(z2, small_true_rad[small_inds], 'o-', label='small_true')\n",
    "plt.legend()\n",
    "\n",
    "                                     \n",
    "#discrete_plot.volshow_zoom_correct_scale(x1, y1, z1, large_irrad, zoom_factor=3),\n",
    "#discrete_plot.volshow_zoom_correct_scale(x2, y2, z2, small_irrad, zoom_factor=3)"
   ]
  },
  {
   "cell_type": "code",
   "execution_count": null,
   "metadata": {},
   "outputs": [],
   "source": [
    "np.size(large_approx_rad)"
   ]
  },
  {
   "cell_type": "code",
   "execution_count": null,
   "metadata": {},
   "outputs": [],
   "source": [
    "np.size(small_approx_rad)"
   ]
  },
  {
   "cell_type": "code",
   "execution_count": null,
   "metadata": {},
   "outputs": [],
   "source": [
    "norm((small_approx_rad - small_true_rad))"
   ]
  },
  {
   "cell_type": "code",
   "execution_count": null,
   "metadata": {},
   "outputs": [],
   "source": [
    "norm((large_approx_rad - large_true_rad))"
   ]
  },
  {
   "cell_type": "code",
   "execution_count": null,
   "metadata": {},
   "outputs": [],
   "source": [
    "small_approx_rad - small_true_rad"
   ]
  },
  {
   "cell_type": "code",
   "execution_count": null,
   "metadata": {},
   "outputs": [],
   "source": [
    "# Check constraints for numerical solution\n",
    "# - No upwelling light from below\n",
    "print(\"bottom\")\n",
    "print(np.mean(large_approx_rad[:,:,-1,int(nomega/2):]))\n",
    "# - Periodic in x, y\n",
    "print(\"x\") \n",
    "print(np.mean(large_approx_rad[0,:,:,:]-large_approx_rad[-1,:,:,:]))\n",
    "print(\"y\") \n",
    "print(np.mean(large_approx_rad[:,0,:,:]-large_approx_rad[0,1,:,:]))\n",
    "# - BC satisfied from above\n",
    "print(\"bc above\")\n",
    "print(np.mean(large_approx_rad[:,:,0,:int(nomega/2+1)] - bc_func_N(theta[:,:,0,:int(nomega/2+1)], phi[:,:,0,:int(nomega/2+1)])))"
   ]
  },
  {
   "cell_type": "code",
   "execution_count": null,
   "metadata": {},
   "outputs": [],
   "source": [
    "discrete_plot.volshow_zoom_correct_scale(x1, y1, z1, large_approx_irrad)\n",
    "discrete_plot.volshow_zoom_correct_scale(x1, y1, z1, large_true_irrad)"
   ]
  },
  {
   "cell_type": "code",
   "execution_count": null,
   "metadata": {},
   "outputs": [],
   "source": [
    "print(\"hi\")"
   ]
  },
  {
   "cell_type": "code",
   "execution_count": null,
   "metadata": {},
   "outputs": [],
   "source": [
    "1/0"
   ]
  },
  {
   "cell_type": "markdown",
   "metadata": {},
   "source": [
    "# Single-run"
   ]
  },
  {
   "cell_type": "markdown",
   "metadata": {},
   "source": [
    "### Compute"
   ]
  },
  {
   "cell_type": "code",
   "execution_count": null,
   "metadata": {},
   "outputs": [],
   "source": [
    "# Grid options\n",
    "ns = 16\n",
    "nz = 16\n",
    "na = 10\n",
    "nomega = na*(na-2) + 2\n",
    "\n",
    "# Domain size\n",
    "rope_spacing = 1\n",
    "zmax = 1\n",
    "\n",
    "# Solver options\n",
    "lis_opts = \"-i gmres -restart 100 -tol 1e-3\"\n",
    "\n",
    "# Set num_scatters\n",
    "num_scatters_list = range(5)\n",
    "max_num_scatters = max(num_scatters_list)\n",
    "\n",
    "# Norm for error calculations\n",
    "norm = lambda arr: np.linalg.norm(np.ravel(arr), ord=2)/np.size(arr)\n",
    "\n",
    "# Numerical function for solution expansion\n",
    "sol_expansion_N = mms.gen_series_N(sol_expr, max_num_scatters, **param_vals)\n",
    "\n",
    "asymptotic_sol_dict = {}\n",
    "sol_expansion_dict = {}\n",
    "asymptotic_err_dict = {}\n",
    "sol_expansion_err_dict = {}\n",
    "\n",
    "for num_scatters in num_scatters_list:\n",
    "    print(\"n={}\".format(num_scatters))\n",
    "    # Calculate asymptotic solution\n",
    "    _, asymptotic_results = kelp_compute.solve_rte_with_callbacks_full(\n",
    "        ns, nz, na,\n",
    "        rope_spacing, zmax,\n",
    "        b, abs_expr, source_expr, source_expansion_N, bc_expr, vsf_expr,\n",
    "        param_dict, num_scatters=num_scatters, fd_flag=False, lis_opts=lis_opts\n",
    "    )\n",
    "\n",
    "    # Extract numerical solutions\n",
    "    asymptotic_sol = asymptotic_results['rad']\n",
    "    \n",
    "    # Store results\n",
    "    asymptotic_sol_dict[num_scatters] = asymptotic_sol\n",
    "    \n",
    "    # Evaluate true solution\n",
    "    x, y, z, theta, phi = mms.gen_grid(ns, nz, na, rope_spacing, zmax)\n",
    "    true_sol = sol_func_N(x, y, z, theta, phi)\n",
    "    \n",
    "    # Evaluate series expansion\n",
    "    sol_expansion = np.zeros_like(asymptotic_sol)\n",
    "    for n in range(num_scatters+1):\n",
    "        sol_expansion += b**n * sol_expansion_N(x, y, z, theta, phi, n) \n",
    "    sol_expansion_dict[num_scatters] = sol_expansion\n",
    "    \n",
    "    # Calculate errors\n",
    "    asymptotic_err = norm(asymptotic_sol-true_sol)\n",
    "    asymptotic_err_dict[num_scatters] = asymptotic_err\n",
    "    \n",
    "    sol_expansion_err = norm(sol_expansion - true_sol)\n",
    "    sol_expansion_err_dict[num_scatters] = sol_expansion_err\n",
    "\n",
    "# Evaluate true solution on same grid\n",
    "true_sol = sol_func_N(x, y, z, theta, phi)"
   ]
  },
  {
   "cell_type": "code",
   "execution_count": null,
   "metadata": {},
   "outputs": [],
   "source": [
    "# Calculate finite difference solution\n",
    "_, fd_results = kelp_compute.solve_rte_with_callbacks_full(\n",
    "    ns, nz, na,\n",
    "    rope_spacing, zmax,\n",
    "    b, abs_sym, source_sym, source_expansion_N, bc_sym, vsf_sym,\n",
    "    num_scatters=0, fd_flag=True, lis_opts=lis_opts\n",
    ")\n",
    "\n",
    "fd_sol = fd_results['rad']\n",
    "\n",
    "fd_err = norm(fd_sol-true_sol)"
   ]
  },
  {
   "cell_type": "markdown",
   "metadata": {},
   "source": [
    "### Plot"
   ]
  },
  {
   "cell_type": "code",
   "execution_count": null,
   "metadata": {},
   "outputs": [],
   "source": [
    "# Pick one angle to evaluate symbolically and plot\n",
    "l = 0\n",
    "m = int(np.floor(na/4))\n",
    "\n",
    "p = mms.p_hat(l, m, na)\n",
    "th = theta[0,0,0,p]\n",
    "ph = phi[0,0,0,p]"
   ]
  },
  {
   "cell_type": "code",
   "execution_count": null,
   "metadata": {},
   "outputs": [],
   "source": [
    "plot_inds = np.zeros_like(true_sol, dtype=bool)\n",
    "plot_inds[0,0,:,p] = True\n",
    "\n",
    "plt.figure(figsize=(12,8))\n",
    "ax1 = plt.subplot(2,2,1)\n",
    "ax2 = plt.subplot(2,2,2)\n",
    "ax3 = plt.subplot(2,2,3)\n",
    "ax4 = plt.subplot(2,2,4)\n",
    "\n",
    "# Plot true solution\n",
    "ax1.plot(z[plot_inds], true_sol[plot_inds], 'C0o-', label='true')\n",
    "\n",
    "# Plot FD solution\n",
    "ax1.plot(\n",
    "    z[plot_inds],\n",
    "    fd_sol[plot_inds], \n",
    "    'C1o-',\n",
    "    label='FD'\n",
    ")\n",
    "\n",
    "# Plot FD error\n",
    "ax2.plot(\n",
    "    z[plot_inds], \n",
    "    -true_sol[plot_inds]+fd_sol[plot_inds], \n",
    "    'C1o-',\n",
    "    label='FD'\n",
    ")\n",
    "\n",
    "ax3.plot(\n",
    "    z[plot_inds], \n",
    "    np.abs(-true_sol[plot_inds]+fd_sol[plot_inds]), \n",
    "    'C1o-',\n",
    "    label='FD'\n",
    ")\n",
    "\n",
    "for num_scatters in num_scatters_list:\n",
    "    ax1.plot(\n",
    "        z[plot_inds], \n",
    "        sol_expansion_dict[num_scatters][plot_inds], \n",
    "        'C{}o-'.format(num_scatters+2), \n",
    "        label='n={}'.format(num_scatters)\n",
    "    )\n",
    "    ax1.plot(\n",
    "        z[plot_inds], \n",
    "        asymptotic_sol_dict[num_scatters][plot_inds], \n",
    "        'C{}o--'.format(num_scatters+2)\n",
    "    )\n",
    "    \n",
    "    # Plot true expansion error\n",
    "    ax2.plot(\n",
    "        z[plot_inds], \n",
    "        -true_sol[plot_inds]+sol_expansion_dict[num_scatters][plot_inds], \n",
    "        'C{}o-'.format(num_scatters+2), \n",
    "        label='n={}'.format(num_scatters)\n",
    "    )\n",
    "    ax3.plot(\n",
    "        z[plot_inds], \n",
    "        np.abs(-true_sol[plot_inds]+sol_expansion_dict[num_scatters][plot_inds]), \n",
    "        'C{}o-'.format(num_scatters+2), \n",
    "        label='n={}'.format(num_scatters)\n",
    "    )\n",
    "    \n",
    "    # Plot numerical asymptotics error\n",
    "    ax2.plot(\n",
    "        z[plot_inds], \n",
    "        -true_sol[plot_inds]+asymptotic_sol_dict[num_scatters][plot_inds], \n",
    "        'C{}o--'.format(num_scatters+2)\n",
    "    )\n",
    "    ax3.plot(\n",
    "        z[plot_inds], \n",
    "        np.abs(-true_sol[plot_inds]+asymptotic_sol_dict[num_scatters][plot_inds]), \n",
    "        'C{}o--'.format(num_scatters+2)\n",
    "    )\n",
    "    \n",
    "    \n",
    "ax1.set_xlabel('z')\n",
    "ax1.set_ylabel('rad')\n",
    "ax1.legend()\n",
    "\n",
    "ax2.set_xlabel('z')\n",
    "ax2.set_ylabel('stripe diff')\n",
    "ax2.set_yscale('linear')\n",
    "ax2.legend()\n",
    "\n",
    "ax3.set_xlabel('z')\n",
    "ax3.set_ylabel('stripe err')\n",
    "ax3.set_yscale('log')\n",
    "ax3.legend()\n",
    "\n",
    "# FD Error\n",
    "ax4.hlines(fd_err, xmin=0, xmax=max_num_scatters, label='FD')\n",
    "\n",
    "# Asymptotics error\n",
    "ax4.plot(\n",
    "    num_scatters_list, \n",
    "    [asymptotic_err_dict[n] for n in num_scatters_list],\n",
    "    'o-',\n",
    "    label='asym. err.'\n",
    ")\n",
    "# Expansion error\n",
    "ax4.plot(\n",
    "    num_scatters_list, \n",
    "    [sol_expansion_err_dict[n] for n in num_scatters_list],\n",
    "    'o-',\n",
    "    label='series err.'\n",
    ")\n",
    "ax4.set_xlabel('n')\n",
    "ax4.set_ylabel('avg. tot. err.')\n",
    "ax4.set_yscale('linear')\n",
    "ax4.legend()"
   ]
  },
  {
   "cell_type": "code",
   "execution_count": null,
   "metadata": {},
   "outputs": [],
   "source": []
  }
 ],
 "metadata": {
  "kernelspec": {
   "display_name": "Python 3 (kelp)",
   "language": "python",
   "name": "kelp"
  },
  "language_info": {
   "codemirror_mode": {
    "name": "ipython",
    "version": 3
   },
   "file_extension": ".py",
   "mimetype": "text/x-python",
   "name": "python",
   "nbconvert_exporter": "python",
   "pygments_lexer": "ipython3",
   "version": "3.6.5"
  }
 },
 "nbformat": 4,
 "nbformat_minor": 2
}
