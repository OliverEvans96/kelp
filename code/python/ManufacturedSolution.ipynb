{
 "cells": [
  {
   "cell_type": "markdown",
   "metadata": {},
   "source": [
    "# Imports"
   ]
  },
  {
   "cell_type": "code",
   "execution_count": 1,
   "metadata": {},
   "outputs": [],
   "source": [
    "%load_ext autoreload\n",
    "%autoreload 2"
   ]
  },
  {
   "cell_type": "code",
   "execution_count": 2,
   "metadata": {},
   "outputs": [
    {
     "name": "stderr",
     "output_type": "stream",
     "text": [
      "/home/jovyan/scratch/kelp/code/python/kelp_compute.py:32: UserWarning: matplotlib.pyplot as already been imported, this call will have no effect.\n",
      "  matplotlib.use('Agg')\n"
     ]
    }
   ],
   "source": [
    "# stdlib\n",
    "import os\n",
    "import shutil\n",
    "import sqlite3\n",
    "\n",
    "# 3rd party\n",
    "import ipyparallel as ipp\n",
    "import ipyvolume as ipv\n",
    "import ipywidgets as ipw\n",
    "import numpy as np\n",
    "from scipy.optimize import minimize\n",
    "import sympy as sp\n",
    "import matplotlib.pyplot as plt\n",
    "\n",
    "# local\n",
    "import convergence as conv\n",
    "import kelp_analyze\n",
    "import kelp_compute\n",
    "import mms\n",
    "import discrete_plot\n",
    "import run_utils as ru"
   ]
  },
  {
   "cell_type": "code",
   "execution_count": 3,
   "metadata": {},
   "outputs": [],
   "source": [
    "sp.init_printing()\n",
    "%matplotlib inline"
   ]
  },
  {
   "cell_type": "markdown",
   "metadata": {},
   "source": [
    "---"
   ]
  },
  {
   "cell_type": "markdown",
   "metadata": {},
   "source": [
    "# User-function definitions"
   ]
  },
  {
   "cell_type": "code",
   "execution_count": 4,
   "metadata": {},
   "outputs": [],
   "source": [
    "def uniform_vsf(delta):\n",
    "    return 1/(4*sp.pi)"
   ]
  },
  {
   "cell_type": "code",
   "execution_count": 5,
   "metadata": {},
   "outputs": [],
   "source": [
    "def linear_vsf(delta):\n",
    "    \"\"\"Defined on [-1, 1].\"\"\"\n",
    "    return (delta+1)/(4*sp.pi)"
   ]
  },
  {
   "cell_type": "code",
   "execution_count": 6,
   "metadata": {},
   "outputs": [],
   "source": [
    "# TODO: No upwelling light from bottom\n",
    "# Also, spatially homogeneous BC\n",
    "def prod_L(x, y, z, theta, phi, alpha, gamma):\n",
    "    return (\n",
    "        (\n",
    "            (\n",
    "                (2+sp.sin(2*sp.pi*x/alpha))\n",
    "                *(2+sp.sin(2*sp.pi*y/alpha))\n",
    "                *(sp.sin(sp.pi*z/gamma))\n",
    "            ) + sp.exp(-z/gamma)\n",
    "        )\n",
    "        * (2+sp.sin(phi))\n",
    "    )"
   ]
  },
  {
   "cell_type": "code",
   "execution_count": 7,
   "metadata": {},
   "outputs": [],
   "source": [
    "def exp_L(x, y, z, theta, phi, b, alpha, gamma):\n",
    "    return sp.exp(-2*z) - sp.exp(2*b*gamma)"
   ]
  },
  {
   "cell_type": "code",
   "execution_count": 8,
   "metadata": {},
   "outputs": [],
   "source": [
    "def expb_L(x, y, z, theta, phi, b, alpha, gamma):\n",
    "    return gamma*sp.exp(-2*b*z) - z*sp.exp(-2*b*gamma)"
   ]
  },
  {
   "cell_type": "code",
   "execution_count": 9,
   "metadata": {},
   "outputs": [],
   "source": [
    "def expb15_L(x, y, z, theta, phi, b, alpha, gamma):\n",
    "    return gamma**1.5*sp.exp(-2*b*z) - z**1.5*sp.exp(-2*b*gamma)"
   ]
  },
  {
   "cell_type": "code",
   "execution_count": 10,
   "metadata": {},
   "outputs": [],
   "source": [
    "def down_L(x, y, z, theta, phi, b, alpha, gamma):\n",
    "    return sp.Piecewise((sp.exp(-z), phi<sp.pi/2), (0, True))"
   ]
  },
  {
   "cell_type": "code",
   "execution_count": 11,
   "metadata": {},
   "outputs": [],
   "source": [
    "def zero_L(x, y, z, theta, phi, b, alpha, gamma):\n",
    "    return 0 * sp.Symbol('x')"
   ]
  },
  {
   "cell_type": "code",
   "execution_count": 12,
   "metadata": {},
   "outputs": [],
   "source": [
    "def uniform_L(x, y, z, theta, phi, b, alpha, gamma):\n",
    "    return alpha"
   ]
  },
  {
   "cell_type": "code",
   "execution_count": 13,
   "metadata": {},
   "outputs": [],
   "source": [
    "def unisinb_L(x, y, z, theta, phi, b, alpha, gamma):\n",
    "    return alpha*(1+sp.sin(b))"
   ]
  },
  {
   "cell_type": "code",
   "execution_count": 14,
   "metadata": {},
   "outputs": [],
   "source": [
    "def tanh_L(x, y, z, theta, phi, b, alpha, gamma):\n",
    "    return alpha * (2+sp.sin(z/10)) * sp.tanh((gamma-z)/10) * z * (2+sp.sin(4*sp.pi*x/alpha) + sp.sin(4*sp.pi*y/alpha)) / 5"
   ]
  },
  {
   "cell_type": "code",
   "execution_count": 15,
   "metadata": {},
   "outputs": [],
   "source": [
    "def tanh_b_L(x, y, z, theta, phi, b, alpha, gamma):\n",
    "    \"\"\"\n",
    "    alpha = rope_spacing\n",
    "    gamma = zmax\n",
    "    \"\"\"\n",
    "    return (\n",
    "        alpha * (z-gamma+sp.tanh((1+b)*(gamma-z)) / sp.tanh((1+b)*gamma))\n",
    "        * (1+z*(sp.sin(2*sp.pi*x/alpha)+sp.sin(2*sp.pi*y/alpha)))\n",
    "        *(1+sp.sin(theta+phi))\n",
    "    )"
   ]
  },
  {
   "cell_type": "code",
   "execution_count": 16,
   "metadata": {},
   "outputs": [],
   "source": [
    "def tanh_b_L_smallderiv(x, y, z, theta, phi, b, alpha, gamma):\n",
    "    \"\"\"\n",
    "    alpha = rope_spacing\n",
    "    gamma = zmax\n",
    "    \"\"\"\n",
    "    return (\n",
    "        alpha * (z/10-gamma/10+sp.tanh((1+b)*(gamma-z)/10) / sp.tanh((1+b)*gamma/10))\n",
    "        * (1+z/10*(sp.sin(2*sp.pi*x/alpha)+sp.sin(2*sp.pi*y/alpha)))\n",
    "        *(1+sp.sin(theta+phi)/10)\n",
    "    )"
   ]
  },
  {
   "cell_type": "code",
   "execution_count": 17,
   "metadata": {},
   "outputs": [],
   "source": [
    "def prod_a(x, y, z, alpha, gamma):\n",
    "    return 1 + (3+sp.sin(2*sp.pi*x/alpha)+sp.sin(2*sp.pi*y/alpha)) + (1+sp.tanh(z-gamma))"
   ]
  },
  {
   "cell_type": "code",
   "execution_count": 18,
   "metadata": {},
   "outputs": [],
   "source": [
    "def prod_a_smallderiv(x, y, z, alpha, gamma):\n",
    "    return 1 + (3+sp.sin(2*sp.pi*x/alpha)+sp.sin(2*sp.pi*y/alpha))/10 + (1+sp.tanh(z-gamma))"
   ]
  },
  {
   "cell_type": "code",
   "execution_count": 19,
   "metadata": {},
   "outputs": [],
   "source": [
    "def uniform_a(x, y, z, alpha, gamma):\n",
    "    return 0.2"
   ]
  },
  {
   "cell_type": "code",
   "execution_count": 20,
   "metadata": {},
   "outputs": [],
   "source": [
    "def inv_a(x, y, z, alpha, gamma):\n",
    "    return 1/tanh_L(x, y, z, 0, 0, 0, alpha, gamma)"
   ]
  },
  {
   "cell_type": "markdown",
   "metadata": {},
   "source": [
    "### Decide here which functions to use."
   ]
  },
  {
   "cell_type": "code",
   "execution_count": 21,
   "metadata": {},
   "outputs": [],
   "source": [
    "sol_func = tanh_b_L\n",
    "abs_func = prod_a\n",
    "vsf_func = linear_vsf"
   ]
  },
  {
   "cell_type": "markdown",
   "metadata": {},
   "source": [
    "---"
   ]
  },
  {
   "cell_type": "markdown",
   "metadata": {},
   "source": [
    "# Symbolic Calculations"
   ]
  },
  {
   "cell_type": "markdown",
   "metadata": {},
   "source": [
    "## Calculate source & BC"
   ]
  },
  {
   "cell_type": "code",
   "execution_count": 22,
   "metadata": {},
   "outputs": [],
   "source": [
    "b = sp.var('b')\n",
    "params = sp.var('alpha, gamma')\n",
    "\n",
    "source_expr = mms.calculate_source(sol_func, b, abs_func, vsf_func, params)\n",
    "bc_expr = mms.calculate_bc(sol_func, b, params)\n",
    "\n",
    "# Evaluate other expressions as well for consistency\n",
    "sol_expr = sol_func(*mms.space, *mms.angle, b, *params)\n",
    "abs_expr = abs_func(*mms.space, *params)\n",
    "vsf_expr = vsf_func(mms.delta)"
   ]
  },
  {
   "cell_type": "markdown",
   "metadata": {},
   "source": [
    "## Specify parameter values"
   ]
  },
  {
   "cell_type": "code",
   "execution_count": 23,
   "metadata": {},
   "outputs": [],
   "source": [
    "# Domain size\n",
    "rope_spacing = 1\n",
    "zmax = 1\n",
    "b = 0.5\n",
    "\n",
    "param_vals = {\n",
    "    'alpha': rope_spacing,\n",
    "    'gamma': zmax,\n",
    "    'b': b\n",
    "}"
   ]
  },
  {
   "cell_type": "markdown",
   "metadata": {},
   "source": [
    "## Generate symbolic and numerical functions"
   ]
  },
  {
   "cell_type": "code",
   "execution_count": 24,
   "metadata": {},
   "outputs": [],
   "source": [
    "# Generate symbolic functions\n",
    "source_sym = mms.symify(source_expr, *mms.space, *mms.angle, **param_vals)\n",
    "abs_sym = mms.symify(abs_expr, *mms.space, **param_vals)\n",
    "bc_sym = mms.symify(bc_expr, *mms.angle, **param_vals)\n",
    "vsf_sym = mms.symify(vsf_expr, mms.delta, **param_vals)\n",
    "sol_sym = mms.symify(sol_expr, *mms.space, *mms.angle, **param_vals)\n",
    "\n",
    "# Generate numerical functions\n",
    "abs_func_N = mms.sym_to_num(abs_sym, *mms.space)\n",
    "source_func_N = mms.sym_to_num(source_sym, *mms.space, *mms.angle)\n",
    "bc_func_N = mms.sym_to_num(bc_sym, *mms.angle)\n",
    "vsf_func_N = mms.sym_to_num(vsf_sym, mms.delta)\n",
    "sol_func_N = mms.sym_to_num(sol_sym, *mms.space, *mms.angle)"
   ]
  },
  {
   "cell_type": "markdown",
   "metadata": {},
   "source": [
    "## Problem Summary"
   ]
  },
  {
   "cell_type": "code",
   "execution_count": 25,
   "metadata": {},
   "outputs": [
    {
     "name": "stdout",
     "output_type": "stream",
     "text": [
      "Solution\n"
     ]
    },
    {
     "data": {
      "image/png": "[encoded data removed]",
      "text/latex": [
       "$$L = \\alpha \\left(z \\left(\\sin{\\left (\\frac{2 \\pi x}{\\alpha} \\right )} + \\sin{\\left (\\frac{2 \\pi y}{\\alpha} \\right )}\\right) + 1\\right) \\left(\\sin{\\left (\\phi + \\theta \\right )} + 1\\right) \\left(- \\gamma + z + \\frac{\\tanh{\\left (\\left(b + 1\\right) \\left(\\gamma - z\\right) \\right )}}{\\tanh{\\left (\\gamma \\left(b + 1\\right) \\right )}}\\right)$$"
      ],
      "text/plain": [
       "      ⎛  ⎛   ⎛2⋅π⋅x⎞      ⎛2⋅π⋅y⎞⎞    ⎞                  ⎛         tanh((b + 1\n",
       "L = α⋅⎜z⋅⎜sin⎜─────⎟ + sin⎜─────⎟⎟ + 1⎟⋅(sin(φ + θ) + 1)⋅⎜-γ + z + ───────────\n",
       "      ⎝  ⎝   ⎝  α  ⎠      ⎝  α  ⎠⎠    ⎠                  ⎝            tanh(γ⋅(\n",
       "\n",
       ")⋅(γ - z))⎞\n",
       "──────────⎟\n",
       "b + 1))   ⎠"
      ]
     },
     "metadata": {},
     "output_type": "display_data"
    },
    {
     "name": "stdout",
     "output_type": "stream",
     "text": [
      "\n",
      "Absorption Coefficient\n"
     ]
    },
    {
     "data": {
      "image/png": "[encoded data removed]",
      "text/latex": [
       "$$a = \\sin{\\left (\\frac{2 \\pi x}{\\alpha} \\right )} + \\sin{\\left (\\frac{2 \\pi y}{\\alpha} \\right )} + \\tanh{\\left (- \\gamma + z \\right )} + 5$$"
      ],
      "text/plain": [
       "       ⎛2⋅π⋅x⎞      ⎛2⋅π⋅y⎞                   \n",
       "a = sin⎜─────⎟ + sin⎜─────⎟ + tanh(-γ + z) + 5\n",
       "       ⎝  α  ⎠      ⎝  α  ⎠                   "
      ]
     },
     "metadata": {},
     "output_type": "display_data"
    },
    {
     "name": "stdout",
     "output_type": "stream",
     "text": [
      "\n",
      "VSF\n"
     ]
    },
    {
     "data": {
      "image/png": "[encoded data removed]",
      "text/latex": [
       "$$\\beta = \\frac{\\Delta + 1}{4 \\pi}$$"
      ],
      "text/plain": [
       "    Δ + 1\n",
       "β = ─────\n",
       "     4⋅π "
      ]
     },
     "metadata": {},
     "output_type": "display_data"
    },
    {
     "name": "stdout",
     "output_type": "stream",
     "text": [
      "Boundary Condition\n"
     ]
    },
    {
     "data": {
      "image/png": "[encoded data removed]",
      "text/latex": [
       "$$L_{0} = \\alpha \\left(- \\gamma + 1\\right) \\left(\\sin{\\left (\\phi + \\theta \\right )} + 1\\right)$$"
      ],
      "text/plain": [
       "L₀ = α⋅(-γ + 1)⋅(sin(φ + θ) + 1)"
      ]
     },
     "metadata": {},
     "output_type": "display_data"
    },
    {
     "name": "stdout",
     "output_type": "stream",
     "text": [
      "\n",
      "Source\n"
     ]
    },
    {
     "data": {
      "image/png": "[encoded data removed]",
      "text/latex": [
       "$$\\sigma = \\alpha \\left(z \\left(\\sin{\\left (\\frac{2 \\pi x}{\\alpha} \\right )} + \\sin{\\left (\\frac{2 \\pi y}{\\alpha} \\right )}\\right) + 1\\right) \\left(\\sin{\\left (\\phi + \\theta \\right )} + 1\\right) \\left(- \\gamma + z + \\frac{\\tanh{\\left (\\left(b + 1\\right) \\left(\\gamma - z\\right) \\right )}}{\\tanh{\\left (\\gamma \\left(b + 1\\right) \\right )}}\\right) \\left(b + \\sin{\\left (\\frac{2 \\pi x}{\\alpha} \\right )} + \\sin{\\left (\\frac{2 \\pi y}{\\alpha} \\right )} + \\tanh{\\left (- \\gamma + z \\right )} + 5\\right) - b \\left(\\frac{\\alpha \\left(z \\left(\\sin{\\left (\\frac{2 \\pi x}{\\alpha} \\right )} + \\sin{\\left (\\frac{2 \\pi y}{\\alpha} \\right )}\\right) + 1\\right) \\left(\\frac{\\cos{\\left (\\phi \\right )}}{3} + \\frac{1}{2}\\right) \\left(- \\gamma + z + \\frac{\\tanh{\\left (\\left(b + 1\\right) \\left(\\gamma - z\\right) \\right )}}{\\tanh{\\left (\\gamma \\left(b + 1\\right) \\right )}}\\right)}{4 \\pi} - \\frac{\\alpha \\left(z \\left(\\sin{\\left (\\frac{2 \\pi x}{\\alpha} \\right )} + \\sin{\\left (\\frac{2 \\pi y}{\\alpha} \\right )}\\right) + 1\\right) \\left(- \\gamma + z + \\frac{\\tanh{\\left (\\left(b + 1\\right) \\left(\\gamma - z\\right) \\right )}}{\\tanh{\\left (\\gamma \\left(b + 1\\right) \\right )}}\\right) \\left(- \\frac{\\pi \\sin{\\left (\\phi \\right )} \\sin{\\left (\\theta \\right )}}{2} - \\frac{\\cos{\\left (\\phi \\right )}}{3} + \\frac{1}{2}\\right)}{4 \\pi} - \\frac{\\alpha \\left(z \\left(\\sin{\\left (\\frac{2 \\pi x}{\\alpha} \\right )} + \\sin{\\left (\\frac{2 \\pi y}{\\alpha} \\right )}\\right) + 1\\right) \\left(- \\gamma + z + \\frac{\\tanh{\\left (\\left(b + 1\\right) \\left(\\gamma - z\\right) \\right )}}{\\tanh{\\left (\\gamma \\left(b + 1\\right) \\right )}}\\right) \\left(- \\frac{2 \\pi \\sin{\\left (\\phi \\right )} \\cos{\\left (\\theta \\right )}}{3} - \\pi \\cos{\\left (\\phi \\right )} + \\frac{\\cos{\\left (\\phi \\right )}}{3} - 2 \\pi + \\frac{1}{2}\\right)}{4 \\pi} + \\frac{\\alpha \\left(z \\left(\\sin{\\left (\\frac{2 \\pi x}{\\alpha} \\right )} + \\sin{\\left (\\frac{2 \\pi y}{\\alpha} \\right )}\\right) + 1\\right) \\left(- \\gamma + z + \\frac{\\tanh{\\left (\\left(b + 1\\right) \\left(\\gamma - z\\right) \\right )}}{\\tanh{\\left (\\gamma \\left(b + 1\\right) \\right )}}\\right) \\left(- \\frac{\\pi \\sin{\\left (\\phi \\right )} \\sin{\\left (\\theta \\right )}}{2} + \\frac{2 \\pi \\sin{\\left (\\phi \\right )} \\cos{\\left (\\theta \\right )}}{3} - \\pi \\cos{\\left (\\phi \\right )} - \\frac{\\cos{\\left (\\phi \\right )}}{3} + \\frac{1}{2} + 2 \\pi\\right)}{4 \\pi}\\right) + 2 \\pi z \\left(\\sin{\\left (\\phi + \\theta \\right )} + 1\\right) \\left(- \\gamma + z + \\frac{\\tanh{\\left (\\left(b + 1\\right) \\left(\\gamma - z\\right) \\right )}}{\\tanh{\\left (\\gamma \\left(b + 1\\right) \\right )}}\\right) \\sin{\\left (\\phi \\right )} \\sin{\\left (\\theta \\right )} \\cos{\\left (\\frac{2 \\pi y}{\\alpha} \\right )} + 2 \\pi z \\left(\\sin{\\left (\\phi + \\theta \\right )} + 1\\right) \\left(- \\gamma + z + \\frac{\\tanh{\\left (\\left(b + 1\\right) \\left(\\gamma - z\\right) \\right )}}{\\tanh{\\left (\\gamma \\left(b + 1\\right) \\right )}}\\right) \\sin{\\left (\\phi \\right )} \\cos{\\left (\\theta \\right )} \\cos{\\left (\\frac{2 \\pi x}{\\alpha} \\right )} + \\left(\\alpha \\left(z \\left(\\sin{\\left (\\frac{2 \\pi x}{\\alpha} \\right )} + \\sin{\\left (\\frac{2 \\pi y}{\\alpha} \\right )}\\right) + 1\\right) \\left(\\frac{\\left(- b - 1\\right) \\left(- \\tanh^{2}{\\left (\\left(b + 1\\right) \\left(\\gamma - z\\right) \\right )} + 1\\right)}{\\tanh{\\left (\\gamma \\left(b + 1\\right) \\right )}} + 1\\right) \\left(\\sin{\\left (\\phi + \\theta \\right )} + 1\\right) + \\alpha \\left(\\sin{\\left (\\frac{2 \\pi x}{\\alpha} \\right )} + \\sin{\\left (\\frac{2 \\pi y}{\\alpha} \\right )}\\right) \\left(\\sin{\\left (\\phi + \\theta \\right )} + 1\\right) \\left(- \\gamma + z + \\frac{\\tanh{\\left (\\left(b + 1\\right) \\left(\\gamma - z\\right) \\right )}}{\\tanh{\\left (\\gamma \\left(b + 1\\right) \\right )}}\\right)\\right) \\cos{\\left (\\phi \\right )}$$"
      ],
      "text/plain": [
       "                                                                              \n",
       "                                                                              \n",
       "      ⎛  ⎛   ⎛2⋅π⋅x⎞      ⎛2⋅π⋅y⎞⎞    ⎞                  ⎛         tanh((b + 1\n",
       "σ = α⋅⎜z⋅⎜sin⎜─────⎟ + sin⎜─────⎟⎟ + 1⎟⋅(sin(φ + θ) + 1)⋅⎜-γ + z + ───────────\n",
       "      ⎝  ⎝   ⎝  α  ⎠      ⎝  α  ⎠⎠    ⎠                  ⎝            tanh(γ⋅(\n",
       "\n",
       "                                                                 ⎛  ⎛  ⎛   ⎛2⋅\n",
       "                                                                 ⎜α⋅⎜z⋅⎜sin⎜──\n",
       ")⋅(γ - z))⎞ ⎛       ⎛2⋅π⋅x⎞      ⎛2⋅π⋅y⎞                   ⎞     ⎜  ⎝  ⎝   ⎝  \n",
       "──────────⎟⋅⎜b + sin⎜─────⎟ + sin⎜─────⎟ + tanh(-γ + z) + 5⎟ - b⋅⎜────────────\n",
       "b + 1))   ⎠ ⎝       ⎝  α  ⎠      ⎝  α  ⎠                   ⎠     ⎝            \n",
       "\n",
       "π⋅x⎞      ⎛2⋅π⋅y⎞⎞    ⎞ ⎛cos(φ)   1⎞ ⎛         tanh((b + 1)⋅(γ - z))⎞     ⎛  ⎛\n",
       "───⎟ + sin⎜─────⎟⎟ + 1⎟⋅⎜────── + ─⎟⋅⎜-γ + z + ─────────────────────⎟   α⋅⎜z⋅⎜\n",
       "α  ⎠      ⎝  α  ⎠⎠    ⎠ ⎝  3      2⎠ ⎝            tanh(γ⋅(b + 1))   ⎠     ⎝  ⎝\n",
       "───────────────────────────────────────────────────────────────────── - ──────\n",
       "                           4⋅π                                                \n",
       "\n",
       "   ⎛2⋅π⋅x⎞      ⎛2⋅π⋅y⎞⎞    ⎞ ⎛         tanh((b + 1)⋅(γ - z))⎞ ⎛  π⋅sin(φ)⋅sin\n",
       "sin⎜─────⎟ + sin⎜─────⎟⎟ + 1⎟⋅⎜-γ + z + ─────────────────────⎟⋅⎜- ────────────\n",
       "   ⎝  α  ⎠      ⎝  α  ⎠⎠    ⎠ ⎝            tanh(γ⋅(b + 1))   ⎠ ⎝         2    \n",
       "──────────────────────────────────────────────────────────────────────────────\n",
       "                                           4⋅π                                \n",
       "\n",
       "(θ)   cos(φ)   1⎞     ⎛  ⎛   ⎛2⋅π⋅x⎞      ⎛2⋅π⋅y⎞⎞    ⎞ ⎛         tanh((b + 1)\n",
       "─── - ────── + ─⎟   α⋅⎜z⋅⎜sin⎜─────⎟ + sin⎜─────⎟⎟ + 1⎟⋅⎜-γ + z + ────────────\n",
       "        3      2⎠     ⎝  ⎝   ⎝  α  ⎠      ⎝  α  ⎠⎠    ⎠ ⎝            tanh(γ⋅(b\n",
       "───────────────── - ──────────────────────────────────────────────────────────\n",
       "                                                                              \n",
       "\n",
       "⋅(γ - z))⎞ ⎛  2⋅π⋅sin(φ)⋅cos(θ)              cos(φ)         1⎞     ⎛  ⎛   ⎛2⋅π\n",
       "─────────⎟⋅⎜- ───────────────── - π⋅cos(φ) + ────── - 2⋅π + ─⎟   α⋅⎜z⋅⎜sin⎜───\n",
       " + 1))   ⎠ ⎝          3                        3            2⎠     ⎝  ⎝   ⎝  α\n",
       "────────────────────────────────────────────────────────────── + ─────────────\n",
       "4⋅π                                                                           \n",
       "\n",
       "⋅x⎞      ⎛2⋅π⋅y⎞⎞    ⎞ ⎛         tanh((b + 1)⋅(γ - z))⎞ ⎛  π⋅sin(φ)⋅sin(θ)   2\n",
       "──⎟ + sin⎜─────⎟⎟ + 1⎟⋅⎜-γ + z + ─────────────────────⎟⋅⎜- ─────────────── + ─\n",
       "  ⎠      ⎝  α  ⎠⎠    ⎠ ⎝            tanh(γ⋅(b + 1))   ⎠ ⎝         2           \n",
       "──────────────────────────────────────────────────────────────────────────────\n",
       "                                                      4⋅π                     \n",
       "\n",
       "⋅π⋅sin(φ)⋅cos(θ)              cos(φ)   1      ⎞⎞                              \n",
       "──────────────── - π⋅cos(φ) - ────── + ─ + 2⋅π⎟⎟                              \n",
       "       3                        3      2      ⎠⎟                          ⎛   \n",
       "───────────────────────────────────────────────⎟ + 2⋅π⋅z⋅(sin(φ + θ) + 1)⋅⎜-γ \n",
       "                                               ⎠                          ⎝   \n",
       "\n",
       "                                                                              \n",
       "                                                                              \n",
       "      tanh((b + 1)⋅(γ - z))⎞                  ⎛2⋅π⋅y⎞                         \n",
       "+ z + ─────────────────────⎟⋅sin(φ)⋅sin(θ)⋅cos⎜─────⎟ + 2⋅π⋅z⋅(sin(φ + θ) + 1)\n",
       "         tanh(γ⋅(b + 1))   ⎠                  ⎝  α  ⎠                         \n",
       "\n",
       "                                                                              \n",
       "                                                             ⎛                \n",
       " ⎛         tanh((b + 1)⋅(γ - z))⎞                  ⎛2⋅π⋅x⎞   ⎜  ⎛  ⎛   ⎛2⋅π⋅x⎞\n",
       "⋅⎜-γ + z + ─────────────────────⎟⋅sin(φ)⋅cos(θ)⋅cos⎜─────⎟ + ⎜α⋅⎜z⋅⎜sin⎜─────⎟\n",
       " ⎝            tanh(γ⋅(b + 1))   ⎠                  ⎝  α  ⎠   ⎝  ⎝  ⎝   ⎝  α  ⎠\n",
       "\n",
       "                                                                              \n",
       "                    ⎛         ⎛      2                     ⎞    ⎞             \n",
       "      ⎛2⋅π⋅y⎞⎞    ⎞ ⎜(-b - 1)⋅⎝- tanh ((b + 1)⋅(γ - z)) + 1⎠    ⎟             \n",
       " + sin⎜─────⎟⎟ + 1⎟⋅⎜─────────────────────────────────────── + 1⎟⋅(sin(φ + θ) \n",
       "      ⎝  α  ⎠⎠    ⎠ ⎝            tanh(γ⋅(b + 1))                ⎠             \n",
       "\n",
       "                                                                              \n",
       "                                                                              \n",
       "         ⎛   ⎛2⋅π⋅x⎞      ⎛2⋅π⋅y⎞⎞                  ⎛         tanh((b + 1)⋅(γ \n",
       "+ 1) + α⋅⎜sin⎜─────⎟ + sin⎜─────⎟⎟⋅(sin(φ + θ) + 1)⋅⎜-γ + z + ────────────────\n",
       "         ⎝   ⎝  α  ⎠      ⎝  α  ⎠⎠                  ⎝            tanh(γ⋅(b + 1\n",
       "\n",
       "              \n",
       "      ⎞       \n",
       "- z))⎞⎟       \n",
       "─────⎟⎟⋅cos(φ)\n",
       "))   ⎠⎠       "
      ]
     },
     "metadata": {},
     "output_type": "display_data"
    },
    {
     "name": "stdout",
     "output_type": "stream",
     "text": [
      "\n"
     ]
    }
   ],
   "source": [
    "print(\"Solution\")\n",
    "mms.display_eq('L', sol_expr)\n",
    "print()\n",
    "\n",
    "print(\"Absorption Coefficient\")\n",
    "mms.display_eq('a', abs_expr)\n",
    "print()\n",
    "\n",
    "print(\"VSF\")\n",
    "mms.display_eq('beta', vsf_expr)\n",
    "\n",
    "print(\"Boundary Condition\")\n",
    "mms.display_eq('L_0', bc_expr)\n",
    "print()\n",
    "\n",
    "print(\"Source\")\n",
    "mms.display_eq('sigma', source_expr)\n",
    "print()"
   ]
  },
  {
   "cell_type": "markdown",
   "metadata": {},
   "source": [
    "---\n",
    "\n",
    "# Symbolic Analysis"
   ]
  },
  {
   "cell_type": "markdown",
   "metadata": {},
   "source": [
    "## Check solution constraints\n",
    "\n",
    "- Everything is periodic in x, y\n",
    "- Absorption coefficient is positive\n",
    "- Boundary condition depends only on angle\n",
    "- No upwelling light from below\n",
    "- Properly normalized VSF"
   ]
  },
  {
   "cell_type": "code",
   "execution_count": 26,
   "metadata": {},
   "outputs": [
    {
     "name": "stdout",
     "output_type": "stream",
     "text": [
      "bottom: True\n",
      "sol x: True\n",
      "sol y: True\n",
      "abs x: True\n",
      "abs y: True\n",
      "VSF: True\n"
     ]
    }
   ],
   "source": [
    "# Check bottom BC\n",
    "print('bottom:', sp.expand(sol_expr.subs('z',sp.Symbol('gamma'))) == 0)\n",
    "\n",
    "# Check periodicity\n",
    "smax = sp.Symbol('alpha')/2\n",
    "smin = -smax\n",
    "print('sol x:', sp.expand(sol_expr.subs('x',smax) - sol_expr.subs('x',smin)) == 0)\n",
    "print('sol y:', sp.expand(sol_expr.subs('y',smax) - sol_expr.subs('y',smin)) == 0)\n",
    "print('abs x:', sp.expand(abs_expr.subs('x',smax) - abs_expr.subs('x',smin)) == 0)\n",
    "print('abs y:', sp.expand(abs_expr.subs('y',smax) - abs_expr.subs('y',smin)) == 0)\n",
    "\n",
    "# Check VSF normalization (Should be 1 over whole sphere, or 1/(2pi) on [-1, 1].)\n",
    "print(\n",
    "    \"VSF:\",\n",
    "    1 == sp.expand(\n",
    "        mms.sphere_integral(\n",
    "            vsf_expr.subs(\n",
    "                'Delta', \n",
    "                mms.dot(\n",
    "                    mms.vec_om, \n",
    "                    mms.vec_omp)\n",
    "            ), \n",
    "            angle=mms.angle\n",
    "        )\n",
    "    )\n",
    ")"
   ]
  },
  {
   "cell_type": "markdown",
   "metadata": {},
   "source": [
    "## Check source term\n",
    "\n",
    "If source term appears nonzero, try substituting parameters,\n",
    "then plugging in analytical solution.\n",
    "\n",
    "The result should be 0."
   ]
  },
  {
   "cell_type": "code",
   "execution_count": 27,
   "metadata": {},
   "outputs": [
    {
     "data": {
      "image/png": "[encoded data removed]",
      "text/latex": [
       "$$- \\frac{1.38777878078145 \\cdot 10^{-17} z^{2} \\sin{\\left (2 \\pi x \\right )} \\cos{\\left (\\phi \\right )}}{\\pi} - \\frac{1.38777878078145 \\cdot 10^{-17} z^{2} \\sin{\\left (2 \\pi y \\right )} \\cos{\\left (\\phi \\right )}}{\\pi} - 5.10702591327572 \\cdot 10^{-15} z \\sin{\\left (2 \\pi x \\right )} \\sin{\\left (\\phi + \\theta \\right )} \\cos{\\left (\\phi \\right )} \\tanh^{2}{\\left (1.5 z - 1.5 \\right )} + 3.21964677141295 \\cdot 10^{-15} z \\sin{\\left (2 \\pi x \\right )} \\sin{\\left (\\phi + \\theta \\right )} \\cos{\\left (\\phi \\right )} - 5.10702591327572 \\cdot 10^{-15} z \\sin{\\left (2 \\pi x \\right )} \\cos{\\left (\\phi \\right )} \\tanh^{2}{\\left (1.5 z - 1.5 \\right )} - \\frac{1.38777878078145 \\cdot 10^{-17} z \\sin{\\left (2 \\pi x \\right )} \\cos{\\left (\\phi \\right )} \\tanh{\\left (1.5 z - 1.5 \\right )}}{\\pi} + \\frac{1.38777878078145 \\cdot 10^{-17} z \\sin{\\left (2 \\pi x \\right )} \\cos{\\left (\\phi \\right )}}{\\pi} + 3.21964677141295 \\cdot 10^{-15} z \\sin{\\left (2 \\pi x \\right )} \\cos{\\left (\\phi \\right )} + \\frac{2.77555756156289 \\cdot 10^{-17} z \\sin{\\left (2 \\pi x \\right )} \\tanh{\\left (1.5 z - 1.5 \\right )}}{\\pi} - 5.10702591327572 \\cdot 10^{-15} z \\sin{\\left (2 \\pi y \\right )} \\sin{\\left (\\phi + \\theta \\right )} \\cos{\\left (\\phi \\right )} \\tanh^{2}{\\left (1.5 z - 1.5 \\right )} + 3.21964677141295 \\cdot 10^{-15} z \\sin{\\left (2 \\pi y \\right )} \\sin{\\left (\\phi + \\theta \\right )} \\cos{\\left (\\phi \\right )} - 5.10702591327572 \\cdot 10^{-15} z \\sin{\\left (2 \\pi y \\right )} \\cos{\\left (\\phi \\right )} \\tanh^{2}{\\left (1.5 z - 1.5 \\right )} - \\frac{1.38777878078145 \\cdot 10^{-17} z \\sin{\\left (2 \\pi y \\right )} \\cos{\\left (\\phi \\right )} \\tanh{\\left (1.5 z - 1.5 \\right )}}{\\pi} + \\frac{1.38777878078145 \\cdot 10^{-17} z \\sin{\\left (2 \\pi y \\right )} \\cos{\\left (\\phi \\right )}}{\\pi} + 3.21964677141295 \\cdot 10^{-15} z \\sin{\\left (2 \\pi y \\right )} \\cos{\\left (\\phi \\right )} + \\frac{2.77555756156289 \\cdot 10^{-17} z \\sin{\\left (2 \\pi y \\right )} \\tanh{\\left (1.5 z - 1.5 \\right )}}{\\pi} - \\frac{1.38777878078145 \\cdot 10^{-17} z \\cos{\\left (\\phi \\right )}}{\\pi} - 5.10702591327572 \\cdot 10^{-15} \\sin{\\left (\\phi + \\theta \\right )} \\cos{\\left (\\phi \\right )} \\tanh^{2}{\\left (1.5 z - 1.5 \\right )} + 3.21964677141295 \\cdot 10^{-15} \\sin{\\left (\\phi + \\theta \\right )} \\cos{\\left (\\phi \\right )} - 5.10702591327572 \\cdot 10^{-15} \\cos{\\left (\\phi \\right )} \\tanh^{2}{\\left (1.5 z - 1.5 \\right )} - \\frac{1.38777878078145 \\cdot 10^{-17} \\cos{\\left (\\phi \\right )} \\tanh{\\left (1.5 z - 1.5 \\right )}}{\\pi} + \\frac{1.38777878078145 \\cdot 10^{-17} \\cos{\\left (\\phi \\right )}}{\\pi} + 3.21964677141295 \\cdot 10^{-15} \\cos{\\left (\\phi \\right )} + \\frac{2.77555756156289 \\cdot 10^{-17} \\tanh{\\left (1.5 z - 1.5 \\right )}}{\\pi}$$"
      ],
      "text/plain": [
       "                        2                                           2         \n",
       "  1.38777878078145e-17⋅z ⋅sin(2⋅π⋅x)⋅cos(φ)   1.38777878078145e-17⋅z ⋅sin(2⋅π⋅\n",
       "- ───────────────────────────────────────── - ────────────────────────────────\n",
       "                      π                                           π           \n",
       "\n",
       "                                                                              \n",
       "y)⋅cos(φ)                                                           2         \n",
       "───────── - 5.10702591327572e-15⋅z⋅sin(2⋅π⋅x)⋅sin(φ + θ)⋅cos(φ)⋅tanh (1.5⋅z - \n",
       "                                                                              \n",
       "\n",
       "                                                                              \n",
       "                                                                              \n",
       "1.5) + 3.21964677141295e-15⋅z⋅sin(2⋅π⋅x)⋅sin(φ + θ)⋅cos(φ) - 5.10702591327572e\n",
       "                                                                              \n",
       "\n",
       "                                                                              \n",
       "                            2                1.38777878078145e-17⋅z⋅sin(2⋅π⋅x)\n",
       "-15⋅z⋅sin(2⋅π⋅x)⋅cos(φ)⋅tanh (1.5⋅z - 1.5) - ─────────────────────────────────\n",
       "                                                                         π    \n",
       "\n",
       "                                                                              \n",
       "⋅cos(φ)⋅tanh(1.5⋅z - 1.5)   1.38777878078145e-17⋅z⋅sin(2⋅π⋅x)⋅cos(φ)          \n",
       "───────────────────────── + ──────────────────────────────────────── + 3.21964\n",
       "                                               π                              \n",
       "\n",
       "                                                                              \n",
       "                                    2.77555756156289e-17⋅z⋅sin(2⋅π⋅x)⋅tanh(1.5\n",
       "677141295e-15⋅z⋅sin(2⋅π⋅x)⋅cos(φ) + ──────────────────────────────────────────\n",
       "                                                             π                \n",
       "\n",
       "                                                                              \n",
       "⋅z - 1.5)                                                           2         \n",
       "───────── - 5.10702591327572e-15⋅z⋅sin(2⋅π⋅y)⋅sin(φ + θ)⋅cos(φ)⋅tanh (1.5⋅z - \n",
       "                                                                              \n",
       "\n",
       "                                                                              \n",
       "                                                                              \n",
       "1.5) + 3.21964677141295e-15⋅z⋅sin(2⋅π⋅y)⋅sin(φ + θ)⋅cos(φ) - 5.10702591327572e\n",
       "                                                                              \n",
       "\n",
       "                                                                              \n",
       "                            2                1.38777878078145e-17⋅z⋅sin(2⋅π⋅y)\n",
       "-15⋅z⋅sin(2⋅π⋅y)⋅cos(φ)⋅tanh (1.5⋅z - 1.5) - ─────────────────────────────────\n",
       "                                                                         π    \n",
       "\n",
       "                                                                              \n",
       "⋅cos(φ)⋅tanh(1.5⋅z - 1.5)   1.38777878078145e-17⋅z⋅sin(2⋅π⋅y)⋅cos(φ)          \n",
       "───────────────────────── + ──────────────────────────────────────── + 3.21964\n",
       "                                               π                              \n",
       "\n",
       "                                                                              \n",
       "                                    2.77555756156289e-17⋅z⋅sin(2⋅π⋅y)⋅tanh(1.5\n",
       "677141295e-15⋅z⋅sin(2⋅π⋅y)⋅cos(φ) + ──────────────────────────────────────────\n",
       "                                                             π                \n",
       "\n",
       "                                                                              \n",
       "⋅z - 1.5)   1.38777878078145e-17⋅z⋅cos(φ)                                     \n",
       "───────── - ───────────────────────────── - 5.10702591327572e-15⋅sin(φ + θ)⋅co\n",
       "                          π                                                   \n",
       "\n",
       "                                                                              \n",
       "         2                                                                    \n",
       "s(φ)⋅tanh (1.5⋅z - 1.5) + 3.21964677141295e-15⋅sin(φ + θ)⋅cos(φ) - 5.107025913\n",
       "                                                                              \n",
       "\n",
       "                                                                              \n",
       "                     2                1.38777878078145e-17⋅cos(φ)⋅tanh(1.5⋅z -\n",
       "27572e-15⋅cos(φ)⋅tanh (1.5⋅z - 1.5) - ────────────────────────────────────────\n",
       "                                                            π                 \n",
       "\n",
       "                                                                              \n",
       " 1.5)   1.38777878078145e-17⋅cos(φ)                                 2.77555756\n",
       "───── + ─────────────────────────── + 3.21964677141295e-15⋅cos(φ) + ──────────\n",
       "                     π                                                        \n",
       "\n",
       "                            \n",
       "156289e-17⋅tanh(1.5⋅z - 1.5)\n",
       "────────────────────────────\n",
       "        π                   "
      ]
     },
     "execution_count": 27,
     "metadata": {},
     "output_type": "execute_result"
    }
   ],
   "source": [
    "diff = mms.check_sol(sol_sym, b, abs_sym, vsf_sym, source_sym)\n",
    "diff"
   ]
  },
  {
   "cell_type": "code",
   "execution_count": 28,
   "metadata": {},
   "outputs": [],
   "source": [
    "num_diff = sp.lambdify(\n",
    "    (*mms.space, *mms.angle),\n",
    "    diff,\n",
    "    modules=(\"numpy\",)\n",
    ")"
   ]
  },
  {
   "cell_type": "code",
   "execution_count": 29,
   "metadata": {},
   "outputs": [
    {
     "data": {
      "image/png": "[encoded data removed]",
      "text/latex": [
       "$$1.7386078742078852e-14$$"
      ],
      "text/plain": [
       "1.7386078742078852e-14"
      ]
     },
     "execution_count": 29,
     "metadata": {},
     "output_type": "execute_result"
    }
   ],
   "source": [
    "# Check numerical max on grid in case of numerical error in above expression\n",
    "np.max(num_diff(*mms.gen_grid(10, 10, 10, 10, 1, 1)))\n"
   ]
  },
  {
   "cell_type": "markdown",
   "metadata": {},
   "source": [
    "## Examine solution dervatives"
   ]
  },
  {
   "cell_type": "code",
   "execution_count": 30,
   "metadata": {},
   "outputs": [
    {
     "data": {
      "text/plain": [
       "{'x': 1.413505298329503,\n",
       " 'y': 1.413505298329503,\n",
       " 'z': 3.6258993880023818,\n",
       " 'theta': 0.41979790295292774,\n",
       " 'phi': 0.41979790295292774}"
      ]
     },
     "execution_count": 30,
     "metadata": {},
     "output_type": "execute_result"
    }
   ],
   "source": [
    "conv.max_derivs(sol_expr, rope_spacing, zmax, do_space=True, do_angle=True, **param_vals)"
   ]
  },
  {
   "cell_type": "code",
   "execution_count": 31,
   "metadata": {},
   "outputs": [
    {
     "data": {
      "text/plain": [
       "{'x': 5.975664329483112, 'y': 5.975664329483112, 'z': 0.9975041607715679}"
      ]
     },
     "execution_count": 31,
     "metadata": {},
     "output_type": "execute_result"
    }
   ],
   "source": [
    "conv.max_derivs(abs_expr, rope_spacing, zmax, do_space=True, do_angle=False, **param_vals)"
   ]
  },
  {
   "cell_type": "code",
   "execution_count": 32,
   "metadata": {},
   "outputs": [
    {
     "data": {
      "text/plain": [
       "{'x': 16.051404489899543,\n",
       " 'y': 14.757777825274074,\n",
       " 'z': 32.770807894664934,\n",
       " 'theta': 3.465582732419481,\n",
       " 'phi': 3.925048732767275}"
      ]
     },
     "execution_count": 32,
     "metadata": {},
     "output_type": "execute_result"
    }
   ],
   "source": [
    "conv.max_derivs(source_expr, rope_spacing, zmax, do_space=True, do_angle=True, **param_vals)"
   ]
  },
  {
   "cell_type": "markdown",
   "metadata": {},
   "source": [
    "---\n",
    "\n",
    "# FD Verification"
   ]
  },
  {
   "cell_type": "markdown",
   "metadata": {},
   "source": [
    "## IPyParallel Setup"
   ]
  },
  {
   "cell_type": "code",
   "execution_count": 33,
   "metadata": {},
   "outputs": [
    {
     "name": "stdout",
     "output_type": "stream",
     "text": [
      "[0]\n"
     ]
    }
   ],
   "source": [
    "#remote_config = kelp_param.ParamSpanRemoteConfig()\n",
    "ipc = ipp.Client()\n",
    "lv = ipc.load_balanced_view()\n",
    "dv = ipc.direct_view()\n",
    "print(ipc.ids)"
   ]
  },
  {
   "cell_type": "code",
   "execution_count": 34,
   "metadata": {},
   "outputs": [
    {
     "data": {
      "text/plain": [
       "{'unassigned': 0, 0: {'queue': 0, 'completed': 0, 'tasks': 0}}"
      ]
     },
     "execution_count": 34,
     "metadata": {},
     "output_type": "execute_result"
    }
   ],
   "source": [
    "ipc.queue_status()"
   ]
  },
  {
   "cell_type": "code",
   "execution_count": 35,
   "metadata": {},
   "outputs": [
    {
     "name": "stdout",
     "output_type": "stream",
     "text": [
      "hi\n"
     ]
    }
   ],
   "source": [
    "print(\"hi\")"
   ]
  },
  {
   "cell_type": "markdown",
   "metadata": {},
   "source": [
    "## Single Space"
   ]
  },
  {
   "cell_type": "markdown",
   "metadata": {},
   "source": [
    "### Compute"
   ]
  },
  {
   "cell_type": "code",
   "execution_count": 48,
   "metadata": {
    "scrolled": true
   },
   "outputs": [
    {
     "name": "stdout",
     "output_type": "stream",
     "text": [
      "Appending existing study directory.\n",
      "Running grid (10,10, 8, 8)\n",
      "Running grid (20,20, 8, 8)\n",
      "Running grid (30,30, 8, 8)\n",
      "Running grid (40,40, 8, 8)\n",
      "Running grid (50,50, 8, 8)\n",
      "Running grid (60,60, 8, 8)\n",
      "Running grid (70,70, 8, 8)\n",
      "Running grid (80,80, 8, 8)\n",
      "Running grid (90,90, 8, 8)\n",
      "Running grid (100,100, 8, 8)\n",
      "Reading existing runs.\n",
      "Finished reading existing runs.\n",
      "NOT Calling solve_rte_with_callbacks(10, 10, 8, 8, 1, 1, 0.5, alpha*(z*(sin(2*pi*x/alpha) + sin(2*pi*y/alpha)) + 1)*(sin(phi + theta) + 1)*(-gamma + z + tanh((b + 1)*(gamma - z))/tanh(gamma*(b + 1))), sin(2*pi*x/alpha) + sin(2*pi*y/alpha) + tanh(-gamma + z) + 5, alpha*(z*(sin(2*pi*x/alpha) + sin(2*pi*y/alpha)) + 1)*(sin(phi + theta) + 1)*(-gamma + z + tanh((b + 1)*(gamma - z))/tanh(gamma*(b + 1)))*(b + sin(2*pi*x/alpha) + sin(2*pi*y/alpha) + tanh(-gamma + z) + 5) - b*(alpha*(z*(sin(2*pi*x/alpha) + sin(2*pi*y/alpha)) + 1)*(cos(phi)/3 + 1/2)*(-gamma + z + tanh((b + 1)*(gamma - z))/tanh(gamma*(b + 1)))/(4*pi) - alpha*(z*(sin(2*pi*x/alpha) + sin(2*pi*y/alpha)) + 1)*(-gamma + z + tanh((b + 1)*(gamma - z))/tanh(gamma*(b + 1)))*(-pi*sin(phi)*sin(theta)/2 - cos(phi)/3 + 1/2)/(4*pi) - alpha*(z*(sin(2*pi*x/alpha) + sin(2*pi*y/alpha)) + 1)*(-gamma + z + tanh((b + 1)*(gamma - z))/tanh(gamma*(b + 1)))*(-2*pi*sin(phi)*cos(theta)/3 - pi*cos(phi) + cos(phi)/3 - 2*pi + 1/2)/(4*pi) + alpha*(z*(sin(2*pi*x/alpha) + sin(2*pi*y/alpha)) + 1)*(-gamma + z + tanh((b + 1)*(gamma - z))/tanh(gamma*(b + 1)))*(-pi*sin(phi)*sin(theta)/2 + 2*pi*sin(phi)*cos(theta)/3 - pi*cos(phi) - cos(phi)/3 + 1/2 + 2*pi)/(4*pi)) + 2*pi*z*(sin(phi + theta) + 1)*(-gamma + z + tanh((b + 1)*(gamma - z))/tanh(gamma*(b + 1)))*sin(phi)*sin(theta)*cos(2*pi*y/alpha) + 2*pi*z*(sin(phi + theta) + 1)*(-gamma + z + tanh((b + 1)*(gamma - z))/tanh(gamma*(b + 1)))*sin(phi)*cos(theta)*cos(2*pi*x/alpha) + (alpha*(z*(sin(2*pi*x/alpha) + sin(2*pi*y/alpha)) + 1)*((-b - 1)*(-tanh((b + 1)*(gamma - z))**2 + 1)/tanh(gamma*(b + 1)) + 1)*(sin(phi + theta) + 1) + alpha*(sin(2*pi*x/alpha) + sin(2*pi*y/alpha))*(sin(phi + theta) + 1)*(-gamma + z + tanh((b + 1)*(gamma - z))/tanh(gamma*(b + 1))))*cos(phi), alpha*(-gamma + 1)*(sin(phi + theta) + 1), (Delta + 1)/(4*pi), {'alpha': 1, 'gamma': 1, 'b': 0.5}, -1, 32, True, study_dir='/scratch/kelp-results/verify_fd_ss_100x8_nsm1', study_name='verify_fd_ss_100x8_nsm1')\n",
      "\n",
      "NOT Calling solve_rte_with_callbacks(20, 20, 8, 8, 1, 1, 0.5, alpha*(z*(sin(2*pi*x/alpha) + sin(2*pi*y/alpha)) + 1)*(sin(phi + theta) + 1)*(-gamma + z + tanh((b + 1)*(gamma - z))/tanh(gamma*(b + 1))), sin(2*pi*x/alpha) + sin(2*pi*y/alpha) + tanh(-gamma + z) + 5, alpha*(z*(sin(2*pi*x/alpha) + sin(2*pi*y/alpha)) + 1)*(sin(phi + theta) + 1)*(-gamma + z + tanh((b + 1)*(gamma - z))/tanh(gamma*(b + 1)))*(b + sin(2*pi*x/alpha) + sin(2*pi*y/alpha) + tanh(-gamma + z) + 5) - b*(alpha*(z*(sin(2*pi*x/alpha) + sin(2*pi*y/alpha)) + 1)*(cos(phi)/3 + 1/2)*(-gamma + z + tanh((b + 1)*(gamma - z))/tanh(gamma*(b + 1)))/(4*pi) - alpha*(z*(sin(2*pi*x/alpha) + sin(2*pi*y/alpha)) + 1)*(-gamma + z + tanh((b + 1)*(gamma - z))/tanh(gamma*(b + 1)))*(-pi*sin(phi)*sin(theta)/2 - cos(phi)/3 + 1/2)/(4*pi) - alpha*(z*(sin(2*pi*x/alpha) + sin(2*pi*y/alpha)) + 1)*(-gamma + z + tanh((b + 1)*(gamma - z))/tanh(gamma*(b + 1)))*(-2*pi*sin(phi)*cos(theta)/3 - pi*cos(phi) + cos(phi)/3 - 2*pi + 1/2)/(4*pi) + alpha*(z*(sin(2*pi*x/alpha) + sin(2*pi*y/alpha)) + 1)*(-gamma + z + tanh((b + 1)*(gamma - z))/tanh(gamma*(b + 1)))*(-pi*sin(phi)*sin(theta)/2 + 2*pi*sin(phi)*cos(theta)/3 - pi*cos(phi) - cos(phi)/3 + 1/2 + 2*pi)/(4*pi)) + 2*pi*z*(sin(phi + theta) + 1)*(-gamma + z + tanh((b + 1)*(gamma - z))/tanh(gamma*(b + 1)))*sin(phi)*sin(theta)*cos(2*pi*y/alpha) + 2*pi*z*(sin(phi + theta) + 1)*(-gamma + z + tanh((b + 1)*(gamma - z))/tanh(gamma*(b + 1)))*sin(phi)*cos(theta)*cos(2*pi*x/alpha) + (alpha*(z*(sin(2*pi*x/alpha) + sin(2*pi*y/alpha)) + 1)*((-b - 1)*(-tanh((b + 1)*(gamma - z))**2 + 1)/tanh(gamma*(b + 1)) + 1)*(sin(phi + theta) + 1) + alpha*(sin(2*pi*x/alpha) + sin(2*pi*y/alpha))*(sin(phi + theta) + 1)*(-gamma + z + tanh((b + 1)*(gamma - z))/tanh(gamma*(b + 1))))*cos(phi), alpha*(-gamma + 1)*(sin(phi + theta) + 1), (Delta + 1)/(4*pi), {'alpha': 1, 'gamma': 1, 'b': 0.5}, -1, 32, True, study_dir='/scratch/kelp-results/verify_fd_ss_100x8_nsm1', study_name='verify_fd_ss_100x8_nsm1')\n",
      "\n",
      "NOT Calling solve_rte_with_callbacks(30, 30, 8, 8, 1, 1, 0.5, alpha*(z*(sin(2*pi*x/alpha) + sin(2*pi*y/alpha)) + 1)*(sin(phi + theta) + 1)*(-gamma + z + tanh((b + 1)*(gamma - z))/tanh(gamma*(b + 1))), sin(2*pi*x/alpha) + sin(2*pi*y/alpha) + tanh(-gamma + z) + 5, alpha*(z*(sin(2*pi*x/alpha) + sin(2*pi*y/alpha)) + 1)*(sin(phi + theta) + 1)*(-gamma + z + tanh((b + 1)*(gamma - z))/tanh(gamma*(b + 1)))*(b + sin(2*pi*x/alpha) + sin(2*pi*y/alpha) + tanh(-gamma + z) + 5) - b*(alpha*(z*(sin(2*pi*x/alpha) + sin(2*pi*y/alpha)) + 1)*(cos(phi)/3 + 1/2)*(-gamma + z + tanh((b + 1)*(gamma - z))/tanh(gamma*(b + 1)))/(4*pi) - alpha*(z*(sin(2*pi*x/alpha) + sin(2*pi*y/alpha)) + 1)*(-gamma + z + tanh((b + 1)*(gamma - z))/tanh(gamma*(b + 1)))*(-pi*sin(phi)*sin(theta)/2 - cos(phi)/3 + 1/2)/(4*pi) - alpha*(z*(sin(2*pi*x/alpha) + sin(2*pi*y/alpha)) + 1)*(-gamma + z + tanh((b + 1)*(gamma - z))/tanh(gamma*(b + 1)))*(-2*pi*sin(phi)*cos(theta)/3 - pi*cos(phi) + cos(phi)/3 - 2*pi + 1/2)/(4*pi) + alpha*(z*(sin(2*pi*x/alpha) + sin(2*pi*y/alpha)) + 1)*(-gamma + z + tanh((b + 1)*(gamma - z))/tanh(gamma*(b + 1)))*(-pi*sin(phi)*sin(theta)/2 + 2*pi*sin(phi)*cos(theta)/3 - pi*cos(phi) - cos(phi)/3 + 1/2 + 2*pi)/(4*pi)) + 2*pi*z*(sin(phi + theta) + 1)*(-gamma + z + tanh((b + 1)*(gamma - z))/tanh(gamma*(b + 1)))*sin(phi)*sin(theta)*cos(2*pi*y/alpha) + 2*pi*z*(sin(phi + theta) + 1)*(-gamma + z + tanh((b + 1)*(gamma - z))/tanh(gamma*(b + 1)))*sin(phi)*cos(theta)*cos(2*pi*x/alpha) + (alpha*(z*(sin(2*pi*x/alpha) + sin(2*pi*y/alpha)) + 1)*((-b - 1)*(-tanh((b + 1)*(gamma - z))**2 + 1)/tanh(gamma*(b + 1)) + 1)*(sin(phi + theta) + 1) + alpha*(sin(2*pi*x/alpha) + sin(2*pi*y/alpha))*(sin(phi + theta) + 1)*(-gamma + z + tanh((b + 1)*(gamma - z))/tanh(gamma*(b + 1))))*cos(phi), alpha*(-gamma + 1)*(sin(phi + theta) + 1), (Delta + 1)/(4*pi), {'alpha': 1, 'gamma': 1, 'b': 0.5}, -1, 32, True, study_dir='/scratch/kelp-results/verify_fd_ss_100x8_nsm1', study_name='verify_fd_ss_100x8_nsm1')\n",
      "\n",
      "NOT Calling solve_rte_with_callbacks(40, 40, 8, 8, 1, 1, 0.5, alpha*(z*(sin(2*pi*x/alpha) + sin(2*pi*y/alpha)) + 1)*(sin(phi + theta) + 1)*(-gamma + z + tanh((b + 1)*(gamma - z))/tanh(gamma*(b + 1))), sin(2*pi*x/alpha) + sin(2*pi*y/alpha) + tanh(-gamma + z) + 5, alpha*(z*(sin(2*pi*x/alpha) + sin(2*pi*y/alpha)) + 1)*(sin(phi + theta) + 1)*(-gamma + z + tanh((b + 1)*(gamma - z))/tanh(gamma*(b + 1)))*(b + sin(2*pi*x/alpha) + sin(2*pi*y/alpha) + tanh(-gamma + z) + 5) - b*(alpha*(z*(sin(2*pi*x/alpha) + sin(2*pi*y/alpha)) + 1)*(cos(phi)/3 + 1/2)*(-gamma + z + tanh((b + 1)*(gamma - z))/tanh(gamma*(b + 1)))/(4*pi) - alpha*(z*(sin(2*pi*x/alpha) + sin(2*pi*y/alpha)) + 1)*(-gamma + z + tanh((b + 1)*(gamma - z))/tanh(gamma*(b + 1)))*(-pi*sin(phi)*sin(theta)/2 - cos(phi)/3 + 1/2)/(4*pi) - alpha*(z*(sin(2*pi*x/alpha) + sin(2*pi*y/alpha)) + 1)*(-gamma + z + tanh((b + 1)*(gamma - z))/tanh(gamma*(b + 1)))*(-2*pi*sin(phi)*cos(theta)/3 - pi*cos(phi) + cos(phi)/3 - 2*pi + 1/2)/(4*pi) + alpha*(z*(sin(2*pi*x/alpha) + sin(2*pi*y/alpha)) + 1)*(-gamma + z + tanh((b + 1)*(gamma - z))/tanh(gamma*(b + 1)))*(-pi*sin(phi)*sin(theta)/2 + 2*pi*sin(phi)*cos(theta)/3 - pi*cos(phi) - cos(phi)/3 + 1/2 + 2*pi)/(4*pi)) + 2*pi*z*(sin(phi + theta) + 1)*(-gamma + z + tanh((b + 1)*(gamma - z))/tanh(gamma*(b + 1)))*sin(phi)*sin(theta)*cos(2*pi*y/alpha) + 2*pi*z*(sin(phi + theta) + 1)*(-gamma + z + tanh((b + 1)*(gamma - z))/tanh(gamma*(b + 1)))*sin(phi)*cos(theta)*cos(2*pi*x/alpha) + (alpha*(z*(sin(2*pi*x/alpha) + sin(2*pi*y/alpha)) + 1)*((-b - 1)*(-tanh((b + 1)*(gamma - z))**2 + 1)/tanh(gamma*(b + 1)) + 1)*(sin(phi + theta) + 1) + alpha*(sin(2*pi*x/alpha) + sin(2*pi*y/alpha))*(sin(phi + theta) + 1)*(-gamma + z + tanh((b + 1)*(gamma - z))/tanh(gamma*(b + 1))))*cos(phi), alpha*(-gamma + 1)*(sin(phi + theta) + 1), (Delta + 1)/(4*pi), {'alpha': 1, 'gamma': 1, 'b': 0.5}, -1, 32, True, study_dir='/scratch/kelp-results/verify_fd_ss_100x8_nsm1', study_name='verify_fd_ss_100x8_nsm1')\n",
      "\n",
      "NOT Calling solve_rte_with_callbacks(50, 50, 8, 8, 1, 1, 0.5, alpha*(z*(sin(2*pi*x/alpha) + sin(2*pi*y/alpha)) + 1)*(sin(phi + theta) + 1)*(-gamma + z + tanh((b + 1)*(gamma - z))/tanh(gamma*(b + 1))), sin(2*pi*x/alpha) + sin(2*pi*y/alpha) + tanh(-gamma + z) + 5, alpha*(z*(sin(2*pi*x/alpha) + sin(2*pi*y/alpha)) + 1)*(sin(phi + theta) + 1)*(-gamma + z + tanh((b + 1)*(gamma - z))/tanh(gamma*(b + 1)))*(b + sin(2*pi*x/alpha) + sin(2*pi*y/alpha) + tanh(-gamma + z) + 5) - b*(alpha*(z*(sin(2*pi*x/alpha) + sin(2*pi*y/alpha)) + 1)*(cos(phi)/3 + 1/2)*(-gamma + z + tanh((b + 1)*(gamma - z))/tanh(gamma*(b + 1)))/(4*pi) - alpha*(z*(sin(2*pi*x/alpha) + sin(2*pi*y/alpha)) + 1)*(-gamma + z + tanh((b + 1)*(gamma - z))/tanh(gamma*(b + 1)))*(-pi*sin(phi)*sin(theta)/2 - cos(phi)/3 + 1/2)/(4*pi) - alpha*(z*(sin(2*pi*x/alpha) + sin(2*pi*y/alpha)) + 1)*(-gamma + z + tanh((b + 1)*(gamma - z))/tanh(gamma*(b + 1)))*(-2*pi*sin(phi)*cos(theta)/3 - pi*cos(phi) + cos(phi)/3 - 2*pi + 1/2)/(4*pi) + alpha*(z*(sin(2*pi*x/alpha) + sin(2*pi*y/alpha)) + 1)*(-gamma + z + tanh((b + 1)*(gamma - z))/tanh(gamma*(b + 1)))*(-pi*sin(phi)*sin(theta)/2 + 2*pi*sin(phi)*cos(theta)/3 - pi*cos(phi) - cos(phi)/3 + 1/2 + 2*pi)/(4*pi)) + 2*pi*z*(sin(phi + theta) + 1)*(-gamma + z + tanh((b + 1)*(gamma - z))/tanh(gamma*(b + 1)))*sin(phi)*sin(theta)*cos(2*pi*y/alpha) + 2*pi*z*(sin(phi + theta) + 1)*(-gamma + z + tanh((b + 1)*(gamma - z))/tanh(gamma*(b + 1)))*sin(phi)*cos(theta)*cos(2*pi*x/alpha) + (alpha*(z*(sin(2*pi*x/alpha) + sin(2*pi*y/alpha)) + 1)*((-b - 1)*(-tanh((b + 1)*(gamma - z))**2 + 1)/tanh(gamma*(b + 1)) + 1)*(sin(phi + theta) + 1) + alpha*(sin(2*pi*x/alpha) + sin(2*pi*y/alpha))*(sin(phi + theta) + 1)*(-gamma + z + tanh((b + 1)*(gamma - z))/tanh(gamma*(b + 1))))*cos(phi), alpha*(-gamma + 1)*(sin(phi + theta) + 1), (Delta + 1)/(4*pi), {'alpha': 1, 'gamma': 1, 'b': 0.5}, -1, 32, True, study_dir='/scratch/kelp-results/verify_fd_ss_100x8_nsm1', study_name='verify_fd_ss_100x8_nsm1')\n",
      "\n",
      "NOT Calling solve_rte_with_callbacks(60, 60, 8, 8, 1, 1, 0.5, alpha*(z*(sin(2*pi*x/alpha) + sin(2*pi*y/alpha)) + 1)*(sin(phi + theta) + 1)*(-gamma + z + tanh((b + 1)*(gamma - z))/tanh(gamma*(b + 1))), sin(2*pi*x/alpha) + sin(2*pi*y/alpha) + tanh(-gamma + z) + 5, alpha*(z*(sin(2*pi*x/alpha) + sin(2*pi*y/alpha)) + 1)*(sin(phi + theta) + 1)*(-gamma + z + tanh((b + 1)*(gamma - z))/tanh(gamma*(b + 1)))*(b + sin(2*pi*x/alpha) + sin(2*pi*y/alpha) + tanh(-gamma + z) + 5) - b*(alpha*(z*(sin(2*pi*x/alpha) + sin(2*pi*y/alpha)) + 1)*(cos(phi)/3 + 1/2)*(-gamma + z + tanh((b + 1)*(gamma - z))/tanh(gamma*(b + 1)))/(4*pi) - alpha*(z*(sin(2*pi*x/alpha) + sin(2*pi*y/alpha)) + 1)*(-gamma + z + tanh((b + 1)*(gamma - z))/tanh(gamma*(b + 1)))*(-pi*sin(phi)*sin(theta)/2 - cos(phi)/3 + 1/2)/(4*pi) - alpha*(z*(sin(2*pi*x/alpha) + sin(2*pi*y/alpha)) + 1)*(-gamma + z + tanh((b + 1)*(gamma - z))/tanh(gamma*(b + 1)))*(-2*pi*sin(phi)*cos(theta)/3 - pi*cos(phi) + cos(phi)/3 - 2*pi + 1/2)/(4*pi) + alpha*(z*(sin(2*pi*x/alpha) + sin(2*pi*y/alpha)) + 1)*(-gamma + z + tanh((b + 1)*(gamma - z))/tanh(gamma*(b + 1)))*(-pi*sin(phi)*sin(theta)/2 + 2*pi*sin(phi)*cos(theta)/3 - pi*cos(phi) - cos(phi)/3 + 1/2 + 2*pi)/(4*pi)) + 2*pi*z*(sin(phi + theta) + 1)*(-gamma + z + tanh((b + 1)*(gamma - z))/tanh(gamma*(b + 1)))*sin(phi)*sin(theta)*cos(2*pi*y/alpha) + 2*pi*z*(sin(phi + theta) + 1)*(-gamma + z + tanh((b + 1)*(gamma - z))/tanh(gamma*(b + 1)))*sin(phi)*cos(theta)*cos(2*pi*x/alpha) + (alpha*(z*(sin(2*pi*x/alpha) + sin(2*pi*y/alpha)) + 1)*((-b - 1)*(-tanh((b + 1)*(gamma - z))**2 + 1)/tanh(gamma*(b + 1)) + 1)*(sin(phi + theta) + 1) + alpha*(sin(2*pi*x/alpha) + sin(2*pi*y/alpha))*(sin(phi + theta) + 1)*(-gamma + z + tanh((b + 1)*(gamma - z))/tanh(gamma*(b + 1))))*cos(phi), alpha*(-gamma + 1)*(sin(phi + theta) + 1), (Delta + 1)/(4*pi), {'alpha': 1, 'gamma': 1, 'b': 0.5}, -1, 32, True, study_dir='/scratch/kelp-results/verify_fd_ss_100x8_nsm1', study_name='verify_fd_ss_100x8_nsm1')\n",
      "\n",
      "NOT Calling solve_rte_with_callbacks(70, 70, 8, 8, 1, 1, 0.5, alpha*(z*(sin(2*pi*x/alpha) + sin(2*pi*y/alpha)) + 1)*(sin(phi + theta) + 1)*(-gamma + z + tanh((b + 1)*(gamma - z))/tanh(gamma*(b + 1))), sin(2*pi*x/alpha) + sin(2*pi*y/alpha) + tanh(-gamma + z) + 5, alpha*(z*(sin(2*pi*x/alpha) + sin(2*pi*y/alpha)) + 1)*(sin(phi + theta) + 1)*(-gamma + z + tanh((b + 1)*(gamma - z))/tanh(gamma*(b + 1)))*(b + sin(2*pi*x/alpha) + sin(2*pi*y/alpha) + tanh(-gamma + z) + 5) - b*(alpha*(z*(sin(2*pi*x/alpha) + sin(2*pi*y/alpha)) + 1)*(cos(phi)/3 + 1/2)*(-gamma + z + tanh((b + 1)*(gamma - z))/tanh(gamma*(b + 1)))/(4*pi) - alpha*(z*(sin(2*pi*x/alpha) + sin(2*pi*y/alpha)) + 1)*(-gamma + z + tanh((b + 1)*(gamma - z))/tanh(gamma*(b + 1)))*(-pi*sin(phi)*sin(theta)/2 - cos(phi)/3 + 1/2)/(4*pi) - alpha*(z*(sin(2*pi*x/alpha) + sin(2*pi*y/alpha)) + 1)*(-gamma + z + tanh((b + 1)*(gamma - z))/tanh(gamma*(b + 1)))*(-2*pi*sin(phi)*cos(theta)/3 - pi*cos(phi) + cos(phi)/3 - 2*pi + 1/2)/(4*pi) + alpha*(z*(sin(2*pi*x/alpha) + sin(2*pi*y/alpha)) + 1)*(-gamma + z + tanh((b + 1)*(gamma - z))/tanh(gamma*(b + 1)))*(-pi*sin(phi)*sin(theta)/2 + 2*pi*sin(phi)*cos(theta)/3 - pi*cos(phi) - cos(phi)/3 + 1/2 + 2*pi)/(4*pi)) + 2*pi*z*(sin(phi + theta) + 1)*(-gamma + z + tanh((b + 1)*(gamma - z))/tanh(gamma*(b + 1)))*sin(phi)*sin(theta)*cos(2*pi*y/alpha) + 2*pi*z*(sin(phi + theta) + 1)*(-gamma + z + tanh((b + 1)*(gamma - z))/tanh(gamma*(b + 1)))*sin(phi)*cos(theta)*cos(2*pi*x/alpha) + (alpha*(z*(sin(2*pi*x/alpha) + sin(2*pi*y/alpha)) + 1)*((-b - 1)*(-tanh((b + 1)*(gamma - z))**2 + 1)/tanh(gamma*(b + 1)) + 1)*(sin(phi + theta) + 1) + alpha*(sin(2*pi*x/alpha) + sin(2*pi*y/alpha))*(sin(phi + theta) + 1)*(-gamma + z + tanh((b + 1)*(gamma - z))/tanh(gamma*(b + 1))))*cos(phi), alpha*(-gamma + 1)*(sin(phi + theta) + 1), (Delta + 1)/(4*pi), {'alpha': 1, 'gamma': 1, 'b': 0.5}, -1, 32, True, study_dir='/scratch/kelp-results/verify_fd_ss_100x8_nsm1', study_name='verify_fd_ss_100x8_nsm1')\n",
      "\n",
      "NOT Calling solve_rte_with_callbacks(80, 80, 8, 8, 1, 1, 0.5, alpha*(z*(sin(2*pi*x/alpha) + sin(2*pi*y/alpha)) + 1)*(sin(phi + theta) + 1)*(-gamma + z + tanh((b + 1)*(gamma - z))/tanh(gamma*(b + 1))), sin(2*pi*x/alpha) + sin(2*pi*y/alpha) + tanh(-gamma + z) + 5, alpha*(z*(sin(2*pi*x/alpha) + sin(2*pi*y/alpha)) + 1)*(sin(phi + theta) + 1)*(-gamma + z + tanh((b + 1)*(gamma - z))/tanh(gamma*(b + 1)))*(b + sin(2*pi*x/alpha) + sin(2*pi*y/alpha) + tanh(-gamma + z) + 5) - b*(alpha*(z*(sin(2*pi*x/alpha) + sin(2*pi*y/alpha)) + 1)*(cos(phi)/3 + 1/2)*(-gamma + z + tanh((b + 1)*(gamma - z))/tanh(gamma*(b + 1)))/(4*pi) - alpha*(z*(sin(2*pi*x/alpha) + sin(2*pi*y/alpha)) + 1)*(-gamma + z + tanh((b + 1)*(gamma - z))/tanh(gamma*(b + 1)))*(-pi*sin(phi)*sin(theta)/2 - cos(phi)/3 + 1/2)/(4*pi) - alpha*(z*(sin(2*pi*x/alpha) + sin(2*pi*y/alpha)) + 1)*(-gamma + z + tanh((b + 1)*(gamma - z))/tanh(gamma*(b + 1)))*(-2*pi*sin(phi)*cos(theta)/3 - pi*cos(phi) + cos(phi)/3 - 2*pi + 1/2)/(4*pi) + alpha*(z*(sin(2*pi*x/alpha) + sin(2*pi*y/alpha)) + 1)*(-gamma + z + tanh((b + 1)*(gamma - z))/tanh(gamma*(b + 1)))*(-pi*sin(phi)*sin(theta)/2 + 2*pi*sin(phi)*cos(theta)/3 - pi*cos(phi) - cos(phi)/3 + 1/2 + 2*pi)/(4*pi)) + 2*pi*z*(sin(phi + theta) + 1)*(-gamma + z + tanh((b + 1)*(gamma - z))/tanh(gamma*(b + 1)))*sin(phi)*sin(theta)*cos(2*pi*y/alpha) + 2*pi*z*(sin(phi + theta) + 1)*(-gamma + z + tanh((b + 1)*(gamma - z))/tanh(gamma*(b + 1)))*sin(phi)*cos(theta)*cos(2*pi*x/alpha) + (alpha*(z*(sin(2*pi*x/alpha) + sin(2*pi*y/alpha)) + 1)*((-b - 1)*(-tanh((b + 1)*(gamma - z))**2 + 1)/tanh(gamma*(b + 1)) + 1)*(sin(phi + theta) + 1) + alpha*(sin(2*pi*x/alpha) + sin(2*pi*y/alpha))*(sin(phi + theta) + 1)*(-gamma + z + tanh((b + 1)*(gamma - z))/tanh(gamma*(b + 1))))*cos(phi), alpha*(-gamma + 1)*(sin(phi + theta) + 1), (Delta + 1)/(4*pi), {'alpha': 1, 'gamma': 1, 'b': 0.5}, -1, 32, True, study_dir='/scratch/kelp-results/verify_fd_ss_100x8_nsm1', study_name='verify_fd_ss_100x8_nsm1')\n",
      "\n",
      "NOT Calling solve_rte_with_callbacks(90, 90, 8, 8, 1, 1, 0.5, alpha*(z*(sin(2*pi*x/alpha) + sin(2*pi*y/alpha)) + 1)*(sin(phi + theta) + 1)*(-gamma + z + tanh((b + 1)*(gamma - z))/tanh(gamma*(b + 1))), sin(2*pi*x/alpha) + sin(2*pi*y/alpha) + tanh(-gamma + z) + 5, alpha*(z*(sin(2*pi*x/alpha) + sin(2*pi*y/alpha)) + 1)*(sin(phi + theta) + 1)*(-gamma + z + tanh((b + 1)*(gamma - z))/tanh(gamma*(b + 1)))*(b + sin(2*pi*x/alpha) + sin(2*pi*y/alpha) + tanh(-gamma + z) + 5) - b*(alpha*(z*(sin(2*pi*x/alpha) + sin(2*pi*y/alpha)) + 1)*(cos(phi)/3 + 1/2)*(-gamma + z + tanh((b + 1)*(gamma - z))/tanh(gamma*(b + 1)))/(4*pi) - alpha*(z*(sin(2*pi*x/alpha) + sin(2*pi*y/alpha)) + 1)*(-gamma + z + tanh((b + 1)*(gamma - z))/tanh(gamma*(b + 1)))*(-pi*sin(phi)*sin(theta)/2 - cos(phi)/3 + 1/2)/(4*pi) - alpha*(z*(sin(2*pi*x/alpha) + sin(2*pi*y/alpha)) + 1)*(-gamma + z + tanh((b + 1)*(gamma - z))/tanh(gamma*(b + 1)))*(-2*pi*sin(phi)*cos(theta)/3 - pi*cos(phi) + cos(phi)/3 - 2*pi + 1/2)/(4*pi) + alpha*(z*(sin(2*pi*x/alpha) + sin(2*pi*y/alpha)) + 1)*(-gamma + z + tanh((b + 1)*(gamma - z))/tanh(gamma*(b + 1)))*(-pi*sin(phi)*sin(theta)/2 + 2*pi*sin(phi)*cos(theta)/3 - pi*cos(phi) - cos(phi)/3 + 1/2 + 2*pi)/(4*pi)) + 2*pi*z*(sin(phi + theta) + 1)*(-gamma + z + tanh((b + 1)*(gamma - z))/tanh(gamma*(b + 1)))*sin(phi)*sin(theta)*cos(2*pi*y/alpha) + 2*pi*z*(sin(phi + theta) + 1)*(-gamma + z + tanh((b + 1)*(gamma - z))/tanh(gamma*(b + 1)))*sin(phi)*cos(theta)*cos(2*pi*x/alpha) + (alpha*(z*(sin(2*pi*x/alpha) + sin(2*pi*y/alpha)) + 1)*((-b - 1)*(-tanh((b + 1)*(gamma - z))**2 + 1)/tanh(gamma*(b + 1)) + 1)*(sin(phi + theta) + 1) + alpha*(sin(2*pi*x/alpha) + sin(2*pi*y/alpha))*(sin(phi + theta) + 1)*(-gamma + z + tanh((b + 1)*(gamma - z))/tanh(gamma*(b + 1))))*cos(phi), alpha*(-gamma + 1)*(sin(phi + theta) + 1), (Delta + 1)/(4*pi), {'alpha': 1, 'gamma': 1, 'b': 0.5}, -1, 32, True, study_dir='/scratch/kelp-results/verify_fd_ss_100x8_nsm1', study_name='verify_fd_ss_100x8_nsm1')\n",
      "\n",
      "Calling solve_rte_with_callbacks(100, 100, 8, 8, 1, 1, 0.5, alpha*(z*(sin(2*pi*x/alpha) + sin(2*pi*y/alpha)) + 1)*(sin(phi + theta) + 1)*(-gamma + z + tanh((b + 1)*(gamma - z))/tanh(gamma*(b + 1))), sin(2*pi*x/alpha) + sin(2*pi*y/alpha) + tanh(-gamma + z) + 5, alpha*(z*(sin(2*pi*x/alpha) + sin(2*pi*y/alpha)) + 1)*(sin(phi + theta) + 1)*(-gamma + z + tanh((b + 1)*(gamma - z))/tanh(gamma*(b + 1)))*(b + sin(2*pi*x/alpha) + sin(2*pi*y/alpha) + tanh(-gamma + z) + 5) - b*(alpha*(z*(sin(2*pi*x/alpha) + sin(2*pi*y/alpha)) + 1)*(cos(phi)/3 + 1/2)*(-gamma + z + tanh((b + 1)*(gamma - z))/tanh(gamma*(b + 1)))/(4*pi) - alpha*(z*(sin(2*pi*x/alpha) + sin(2*pi*y/alpha)) + 1)*(-gamma + z + tanh((b + 1)*(gamma - z))/tanh(gamma*(b + 1)))*(-pi*sin(phi)*sin(theta)/2 - cos(phi)/3 + 1/2)/(4*pi) - alpha*(z*(sin(2*pi*x/alpha) + sin(2*pi*y/alpha)) + 1)*(-gamma + z + tanh((b + 1)*(gamma - z))/tanh(gamma*(b + 1)))*(-2*pi*sin(phi)*cos(theta)/3 - pi*cos(phi) + cos(phi)/3 - 2*pi + 1/2)/(4*pi) + alpha*(z*(sin(2*pi*x/alpha) + sin(2*pi*y/alpha)) + 1)*(-gamma + z + tanh((b + 1)*(gamma - z))/tanh(gamma*(b + 1)))*(-pi*sin(phi)*sin(theta)/2 + 2*pi*sin(phi)*cos(theta)/3 - pi*cos(phi) - cos(phi)/3 + 1/2 + 2*pi)/(4*pi)) + 2*pi*z*(sin(phi + theta) + 1)*(-gamma + z + tanh((b + 1)*(gamma - z))/tanh(gamma*(b + 1)))*sin(phi)*sin(theta)*cos(2*pi*y/alpha) + 2*pi*z*(sin(phi + theta) + 1)*(-gamma + z + tanh((b + 1)*(gamma - z))/tanh(gamma*(b + 1)))*sin(phi)*cos(theta)*cos(2*pi*x/alpha) + (alpha*(z*(sin(2*pi*x/alpha) + sin(2*pi*y/alpha)) + 1)*((-b - 1)*(-tanh((b + 1)*(gamma - z))**2 + 1)/tanh(gamma*(b + 1)) + 1)*(sin(phi + theta) + 1) + alpha*(sin(2*pi*x/alpha) + sin(2*pi*y/alpha))*(sin(phi + theta) + 1)*(-gamma + z + tanh((b + 1)*(gamma - z))/tanh(gamma*(b + 1))))*cos(phi), alpha*(-gamma + 1)*(sin(phi + theta) + 1), (Delta + 1)/(4*pi), {'alpha': 1, 'gamma': 1, 'b': 0.5}, -1, 32, True, study_dir='/scratch/kelp-results/verify_fd_ss_100x8_nsm1', study_name='verify_fd_ss_100x8_nsm1')\n",
      "\n"
     ]
    }
   ],
   "source": [
    "base_dir = os.path.join(os.environ['SCRATCH'], 'kelp-results')\n",
    "# base_dir = '/home/oliver/academic/research/kelp-results'\n",
    "\n",
    "na = 8\n",
    "\n",
    "#ns_list = [4, 8, 16, 32, 64]\n",
    "ns_list = np.linspace(10, 100, 10).astype(int)\n",
    "#ns_list = [4, 8, 12, 16, 20]\n",
    "\n",
    "study_name = 'verify_fd_ss_{}x{}_nsm1'.format(max(ns_list), na)\n",
    "study_dir = os.path.join(base_dir, study_name)\n",
    "\n",
    "ntheta = na\n",
    "nphi = na\n",
    "\n",
    "# TODO: Don't actually delete results\n",
    "#shutil.rmtree(os.path.join(base_dir, study_name), ignore_errors=True)\n",
    "\n",
    "num_scatters = -1\n",
    "fd_flag = True\n",
    "num_threads = 32\n",
    "\n",
    "b = 0.5\n",
    "param_vals['b'] = 0.5\n",
    "\n",
    "combine_thread, gs_fut = kelp_compute.verify_single_space_compute(\n",
    "    study_name, \n",
    "    ns_list, ntheta, nphi, \n",
    "    rope_spacing, zmax, b, \n",
    "    sol_expr, abs_expr, source_expr, bc_expr, vsf_expr,\n",
    "    num_scatters, num_threads, fd_flag,\n",
    "    param_vals, base_dir=base_dir)"
   ]
  },
  {
   "cell_type": "markdown",
   "metadata": {},
   "source": [
    "### Plot"
   ]
  },
  {
   "cell_type": "code",
   "execution_count": 38,
   "metadata": {},
   "outputs": [],
   "source": [
    "study_name = 'verify_fd_ss_64x8'\n",
    "study_dir = os.path.join(base_dir, study_name)\n",
    "\n",
    "db_path = os.path.join(study_dir, '{}.db'.format(study_name))\n",
    "conn = sqlite3.Connection(db_path)"
   ]
  },
  {
   "cell_type": "code",
   "execution_count": 39,
   "metadata": {},
   "outputs": [
    {
     "data": {
      "image/png": "[encoded data removed]",
      "text/plain": [
       "<Figure size 432x288 with 1 Axes>"
      ]
     },
     "metadata": {
      "needs_background": "light"
     },
     "output_type": "display_data"
    }
   ],
   "source": [
    "#norm = lambda x: np.linalg.norm(np.ravel(x), ord=2)\n",
    "#norm = lambda x: np.sqrt(np.sum(x)**2/np.size(x))\n",
    "norm = lambda x: np.mean(np.abs(x))\n",
    "\n",
    "dim_names = ('ns', 'nz', 'ntheta', 'nphi')\n",
    "dim_resolutions = kelp_analyze.get_res_lists(conn, study_name)\n",
    "dim_dict = dict(zip(dim_names, dim_resolutions))\n",
    "\n",
    "ns_list = dim_dict['ns']\n",
    "\n",
    "err_dict = {}\n",
    "for ns in ns_list:\n",
    "    results_list = kelp_analyze.query_results(\n",
    "        conn, study_name,\n",
    "        ns=ns,\n",
    "        nz=ns,\n",
    "    )\n",
    "\n",
    "    rad = results_list[0]['rad'][:]\n",
    "    true_rad = results_list[0]['true_rad'][:]\n",
    "\n",
    "    err = norm(rad - true_rad)\n",
    "    err_dict[ns] = err\n",
    "\n",
    "res_arr = rope_spacing / np.array(ns_list)\n",
    "err_arr = np.array([err_dict[ns] for ns in ns_list])\n",
    "\n",
    "conv.plot_lin_fit(\n",
    "    np.log(res_arr), np.log(err_arr), \n",
    "    min(np.log(res_arr))+.1, max(np.log(res_arr)), \n",
    "    xlabel='ds', ylabel='err'\n",
    ")"
   ]
  },
  {
   "cell_type": "markdown",
   "metadata": {},
   "source": [
    "## Multi-dimensional FD"
   ]
  },
  {
   "cell_type": "markdown",
   "metadata": {},
   "source": [
    "### Compute"
   ]
  },
  {
   "cell_type": "markdown",
   "metadata": {},
   "source": [
    "### Plot"
   ]
  },
  {
   "cell_type": "code",
   "execution_count": null,
   "metadata": {},
   "outputs": [],
   "source": [
    "#norm = lambda x: np.linalg.norm(np.ravel(x), ord=2)\n",
    "#norm = lambda x: np.sqrt(np.sum(x)**2/np.size(x))\n",
    "norm = lambda x: np.mean(np.abs(x))\n",
    "\n",
    "dim_names = ('ns', 'nz', 'ntheta', 'nphi')\n",
    "dim_resolutions = kelp_analyze.get_res_lists(conn, study_name)\n",
    "max_res_list = list(map(\n",
    "    max,\n",
    "    dim_resolutions\n",
    "))\n",
    "max_res_dict = {\n",
    "    name: max_res\n",
    "    for name, max_res in zip(dim_names, max_res_list)\n",
    "}\n",
    "dim_dict = dict(zip(dim_names, dim_resolutions))\n",
    "\n",
    "# Loop over dimensions\n",
    "for dim_num, dim_name in enumerate(dim_names):\n",
    "    # List of resolutions in the current dimension\n",
    "    current_dim = dim_dict[dim_name]\n",
    "    \n",
    "    print(dim_name)\n",
    "    err_dict = {}\n",
    "    for n in current_dim:\n",
    "        all_dims = {**max_res_dict, **{dim_name: n}}\n",
    "        results_list = kelp_analyze.query_results(\n",
    "            conn, study_name, \n",
    "            **all_dims\n",
    "        )\n",
    "\n",
    "        rad = results_list[0]['rad'][:]\n",
    "        true_rad = results_list[0]['true_rad'][:]\n",
    "\n",
    "        err = norm(rad - true_rad)\n",
    "        err_dict[n] = err\n",
    "\n",
    "    res_arr = rope_spacing / np.array(current_dim)\n",
    "    err_arr = np.array([err_dict[n] for n in current_dim])\n",
    "\n",
    "    conv.plot_lin_fit(\n",
    "        np.log(res_arr), np.log(err_arr), \n",
    "        min(np.log(res_arr)), max(np.log(res_arr)), \n",
    "        xlabel='d'+dim_name[1:], ylabel='err'\n",
    "    )"
   ]
  },
  {
   "cell_type": "markdown",
   "metadata": {},
   "source": [
    "# Asymptotics Verification"
   ]
  },
  {
   "cell_type": "markdown",
   "metadata": {},
   "source": [
    "## Sourceless"
   ]
  },
  {
   "cell_type": "markdown",
   "metadata": {},
   "source": [
    "### 1D, Uniform abs."
   ]
  },
  {
   "cell_type": "markdown",
   "metadata": {},
   "source": [
    "#### Compute"
   ]
  },
  {
   "cell_type": "code",
   "execution_count": null,
   "metadata": {
    "scrolled": true
   },
   "outputs": [],
   "source": [
    "# base_dir = os.path.join(os.environ['SCRATCH'], 'kelp-results')\n",
    "base_dir = '/home/oliver/academic/research/kelp-results'\n",
    "\n",
    "nz = 20\n",
    "\n",
    "nz_list = [nz]\n",
    "\n",
    "study_name = 'verify_asym_noscat_1d_uniform_abs_{}'.format(nz)\n",
    "study_dir = os.path.join(base_dir, study_name)\n",
    "\n",
    "noscat_bc_expr = 1.0\n",
    "noscat_abs_expr = 1.0\n",
    "\n",
    "ntheta = na\n",
    "nphi = na\n",
    "\n",
    "# TODO: Don't actually delete results\n",
    "shutil.rmtree(os.path.join(base_dir, study_name), ignore_errors=True)\n",
    "\n",
    "combine_thread, gs_fut = kelp_compute.verify_asym_noscat_1d_compute(\n",
    "    study_name, \n",
    "    nz_list,\n",
    "    rope_spacing, zmax, \n",
    "    noscat_abs_expr, noscat_bc_expr,\n",
    "    param_vals, base_dir=base_dir\n",
    ")"
   ]
  },
  {
   "cell_type": "markdown",
   "metadata": {},
   "source": [
    "#### Plot"
   ]
  },
  {
   "cell_type": "code",
   "execution_count": null,
   "metadata": {},
   "outputs": [],
   "source": [
    "study_name = 'verify_asym_noscat_1d_uniform_abs_20'\n",
    "study_dir = os.path.join(base_dir, study_name)"
   ]
  },
  {
   "cell_type": "code",
   "execution_count": null,
   "metadata": {},
   "outputs": [],
   "source": [
    "db_path = os.path.join(study_dir, '{}.db'.format(study_name))\n",
    "conn = sqlite3.Connection(db_path)"
   ]
  },
  {
   "cell_type": "code",
   "execution_count": null,
   "metadata": {},
   "outputs": [],
   "source": [
    "#norm = lambda x: np.linalg.norm(np.ravel(x), ord=2)\n",
    "#norm = lambda x: np.sqrt(np.sum(x)**2/np.size(x))\n",
    "norm = lambda x: np.mean(np.abs(x))\n",
    "\n",
    "results_list = kelp_analyze.query_results(\n",
    "    conn, study_name,\n",
    ")\n",
    "\n",
    "results = results_list[0]\n",
    "rad = results['rad'][:][:,:,:,0]\n",
    "true_rad = results['true_rad'][:][:,:,:,0]\n",
    "\n",
    "avg_rad = np.mean(rad, axis=(0, 1))\n",
    "avg_true_rad = np.mean(true_rad, axis=(0, 1))\n",
    "\n",
    "err = norm(rad - true_rad)\n",
    "\n",
    "print(\"err = {:.2f}\".format(err))\n",
    "\n",
    "\n",
    "_, _, z, _, _ = mms.gen_grid(\n",
    "    *map(\n",
    "        lambda x: int(results[x][:].data),\n",
    "        ('ns', 'nz', 'ntheta', 'nphi', 'rope_spacing', 'zmax')\n",
    "    )\n",
    ")\n",
    "\n",
    "z = z[0,0,:,0]\n",
    "\n",
    "plt.plot(z, avg_rad, 'o-', label='approx.')\n",
    "plt.plot(z, avg_true_rad, 'o-', label='true')\n",
    "plt.legend()\n",
    "plt.xlabel('z')\n",
    "plt.ylabel('avg rad')"
   ]
  },
  {
   "cell_type": "markdown",
   "metadata": {},
   "source": [
    "### 1D, Non-uniform abs., increase nz"
   ]
  },
  {
   "cell_type": "markdown",
   "metadata": {},
   "source": [
    "#### Compute"
   ]
  },
  {
   "cell_type": "code",
   "execution_count": null,
   "metadata": {
    "scrolled": true
   },
   "outputs": [],
   "source": [
    "# base_dir = os.path.join(os.environ['SCRATCH'], 'kelp-results')\n",
    "base_dir = '/home/oliver/academic/research/kelp-results'\n",
    "\n",
    "nz_list = [4, 8, 12, 20, 40, 100]\n",
    "\n",
    "study_name = 'verify_asym_noscat_1d_variable_abs_{}'.format(max(nz_list))\n",
    "study_dir = os.path.join(base_dir, study_name)\n",
    "\n",
    "noscat_bc_expr = 1.0\n",
    "noscat_abs_expr = 2 + sp.sin(10*sp.Symbol('z'))\n",
    "\n",
    "ntheta = na\n",
    "nphi = na\n",
    "\n",
    "# TODO: Don't actually delete results\n",
    "#shutil.rmtree(os.path.join(base_dir, study_name), ignore_errors=True)\n",
    "\n",
    "combine_thread, gs_fut = kelp_compute.verify_asym_noscat_1d_compute(\n",
    "    study_name, \n",
    "    nz_list,\n",
    "    rope_spacing, zmax, \n",
    "    noscat_abs_expr, noscat_bc_expr,\n",
    "    param_vals, base_dir=base_dir\n",
    ")"
   ]
  },
  {
   "cell_type": "markdown",
   "metadata": {},
   "source": [
    "#### Plot"
   ]
  },
  {
   "cell_type": "code",
   "execution_count": null,
   "metadata": {},
   "outputs": [],
   "source": [
    "study_name = 'verify_asym_noscat_1d_variable_abs_100'\n",
    "study_dir = os.path.join(base_dir, study_name)\n",
    "\n",
    "db_path = os.path.join(study_dir, '{}.db'.format(study_name))\n",
    "conn = sqlite3.Connection(db_path)"
   ]
  },
  {
   "cell_type": "code",
   "execution_count": null,
   "metadata": {},
   "outputs": [],
   "source": [
    "#norm = lambda x: np.linalg.norm(np.ravel(x), ord=2)\n",
    "#norm = lambda x: np.sqrt(np.sum(x)**2/np.size(x))\n",
    "norm = lambda x: np.mean(np.abs(x))\n",
    "\n",
    "dim_names = ('ns', 'nz', 'ntheta', 'nphi')\n",
    "dim_resolutions = kelp_analyze.get_res_lists(conn, study_name)\n",
    "dim_dict = dict(zip(dim_names, dim_resolutions))\n",
    "\n",
    "nz_list = dim_dict['nz']\n",
    "\n",
    "err_dict = {}\n",
    "for nz in nz_list:\n",
    "    results_list = kelp_analyze.query_results(\n",
    "        conn, study_name,\n",
    "        nz=nz,\n",
    "    )\n",
    "\n",
    "    rad = results_list[0]['rad'][:,:,:,0]\n",
    "    true_rad = results_list[0]['true_rad'][:,:,:,0]\n",
    "\n",
    "    err = norm(rad - true_rad)\n",
    "    err_dict[nz] = err\n",
    "\n",
    "res_arr = zmax / np.array(nz_list)\n",
    "err_arr = np.array([err_dict[nz] for nz in nz_list])\n",
    "\n",
    "conv.plot_lin_fit(\n",
    "    np.log10(res_arr), np.log10(err_arr), \n",
    "    min(np.log10(res_arr)), max(np.log10(res_arr)), \n",
    "    xlabel='log10 dz', ylabel='log10 err'\n",
    ")\n"
   ]
  },
  {
   "cell_type": "markdown",
   "metadata": {},
   "source": [
    "## Full MMS"
   ]
  },
  {
   "cell_type": "markdown",
   "metadata": {},
   "source": [
    "### 3D, noscat., const. abs., source"
   ]
  },
  {
   "cell_type": "markdown",
   "metadata": {},
   "source": [
    "#### Compute"
   ]
  },
  {
   "cell_type": "code",
   "execution_count": null,
   "metadata": {
    "scrolled": true
   },
   "outputs": [],
   "source": [
    "base_dir = os.path.join(os.environ['SCRATCH'], 'kelp-results')\n",
    "# base_dir = '/home/oliver/academic/research/kelp-results'\n",
    "\n",
    "ns = 20\n",
    "nz = 20\n",
    "na = 6\n",
    "\n",
    "study_name = 'verify_ss_noscat_const_abs_scat_{}x{}x{}'.format(ns, nz, na)\n",
    "study_dir = os.path.join(base_dir, study_name)\n",
    "\n",
    "ns_list = [4, 8, 16, 32]\n",
    "#ns_list = [4, 8, 12, 16, 20]\n",
    "\n",
    "ntheta = na\n",
    "nphi = na\n",
    "\n",
    "sigma = 1\n",
    "a = 1\n",
    "\n",
    "# TODO: Don't actually delete results\n",
    "shutil.rmtree(os.path.join(base_dir, study_name), ignore_errors=True)\n",
    "\n",
    "b = 0\n",
    "param_vals['b'] = 0\n",
    "\n",
    "combine_thread, gs_fut = kelp_compute.verify_asym_noscat_const_abs_and_source_compute(\n",
    "    study_name, \n",
    "    ns, nz, ntheta, nphi, \n",
    "    a, sigma,\n",
    "    rope_spacing, zmax,\n",
    "    param_vals, base_dir=base_dir\n",
    ")"
   ]
  },
  {
   "cell_type": "markdown",
   "metadata": {},
   "source": [
    "#### Plot"
   ]
  },
  {
   "cell_type": "code",
   "execution_count": null,
   "metadata": {},
   "outputs": [],
   "source": [
    "study_name = 'verify_ss_noscat_const_abs_scat_20x20x6'\n",
    "study_dir = os.path.join(base_dir, study_name)\n",
    "\n",
    "db_path = os.path.join(study_dir, '{}.db'.format(study_name))\n",
    "conn = sqlite3.Connection(db_path)"
   ]
  },
  {
   "cell_type": "markdown",
   "metadata": {},
   "source": [
    "##### rad. vs. depth"
   ]
  },
  {
   "cell_type": "code",
   "execution_count": null,
   "metadata": {},
   "outputs": [],
   "source": [
    "#norm = lambda x: np.linalg.norm(np.ravel(x), ord=2)\n",
    "#norm = lambda x: np.sqrt(np.sum(x)**2/np.size(x))\n",
    "norm = lambda x: np.mean(np.abs(x))\n",
    "\n",
    "dim_names = ('ns', 'nz', 'ntheta', 'nphi')\n",
    "dim_resolutions = kelp_analyze.get_res_lists(conn, study_name)\n",
    "dim_dict = dict(zip(dim_names, dim_resolutions))\n",
    "\n",
    "ns_list = dim_dict['ns']\n",
    "\n",
    "plt.figure(1)\n",
    "plt.figure(2)\n",
    "\n",
    "results_list = kelp_analyze.query_results(\n",
    "    conn, study_name,\n",
    "    ns=ns,\n",
    ")\n",
    "\n",
    "results = results_list[0]\n",
    "nomega = results['nomega'][:]\n",
    "\n",
    "p = 0 #nomega - 1\n",
    "\n",
    "rad = results['rad'][:][:,:,:,p]\n",
    "true_rad = results['true_rad'][:][:,:,:,p]\n",
    "\n",
    "avg_rad = np.mean(rad, axis=(0, 1))\n",
    "avg_true_rad = np.mean(true_rad, axis=(0, 1))\n",
    "\n",
    "err = norm(rad - true_rad)\n",
    "\n",
    "print(\"err = {:.2f}\".format(err))\n",
    "\n",
    "\n",
    "_, _, z, _, _ = mms.gen_grid(\n",
    "    *map(\n",
    "        lambda x: int(results[x][:].data),\n",
    "        ('ns', 'nz', 'ntheta', 'nphi', 'rope_spacing', 'zmax')\n",
    "    )\n",
    ")\n",
    "\n",
    "z = z[0,0,:,0]\n",
    "\n",
    "plt.figure(1)\n",
    "plt.plot(z, avg_rad, 'o-', label='ns={}'.format(ns))\n",
    "\n",
    "plt.figure(2)\n",
    "plt.semilogy(z, np.abs(avg_rad - avg_true_rad), 'o-', label='ns={}'.format(ns))\n",
    "\n",
    "plt.figure(1)\n",
    "plt.plot(z, avg_true_rad, 'o-', label='true')\n",
    "plt.legend()\n",
    "plt.xlabel('z')\n",
    "plt.ylabel('avg rad')\n",
    "\n",
    "plt.figure(2)\n",
    "plt.legend()\n",
    "plt.xlabel('z')\n",
    "plt.ylabel('|avg rad - true|')"
   ]
  },
  {
   "cell_type": "markdown",
   "metadata": {},
   "source": [
    "#### Plot"
   ]
  },
  {
   "cell_type": "code",
   "execution_count": null,
   "metadata": {},
   "outputs": [],
   "source": [
    "study_name = 'verify_ss_noscat_const_abs_scat_20x20x6'\n",
    "study_dir = os.path.join(base_dir, study_name)\n",
    "\n",
    "db_path = os.path.join(study_dir, '{}.db'.format(study_name))\n",
    "conn = sqlite3.Connection(db_path)"
   ]
  },
  {
   "cell_type": "markdown",
   "metadata": {},
   "source": [
    "##### rad. vs. depth"
   ]
  },
  {
   "cell_type": "code",
   "execution_count": null,
   "metadata": {},
   "outputs": [],
   "source": [
    "#norm = lambda x: np.linalg.norm(np.ravel(x), ord=2)\n",
    "#norm = lambda x: np.sqrt(np.sum(x)**2/np.size(x))\n",
    "norm = lambda x: np.mean(np.abs(x))\n",
    "\n",
    "dim_names = ('ns', 'nz', 'ntheta', 'nphi')\n",
    "dim_resolutions = kelp_analyze.get_res_lists(conn, study_name)\n",
    "dim_dict = dict(zip(dim_names, dim_resolutions))\n",
    "\n",
    "ns_list = dim_dict['ns']\n",
    "\n",
    "plt.figure(1)\n",
    "plt.figure(2)\n",
    "\n",
    "results_list = kelp_analyze.query_results(\n",
    "    conn, study_name,\n",
    "    ns=ns,\n",
    ")\n",
    "\n",
    "results = results_list[0]\n",
    "nomega = results['nomega'][:]\n",
    "\n",
    "p = 0 #nomega - 1\n",
    "\n",
    "rad = results['rad'][:][:,:,:,p]\n",
    "true_rad = results['true_rad'][:][:,:,:,p]\n",
    "\n",
    "avg_rad = np.mean(rad, axis=(0, 1))\n",
    "avg_true_rad = np.mean(true_rad, axis=(0, 1))\n",
    "\n",
    "err = norm(rad - true_rad)\n",
    "\n",
    "print(\"err = {:.2f}\".format(err))\n",
    "\n",
    "\n",
    "_, _, z, _, _ = mms.gen_grid(\n",
    "    *map(\n",
    "        lambda x: int(results[x][:].data),\n",
    "        ('ns', 'nz', 'ntheta', 'nphi', 'rope_spacing', 'zmax')\n",
    "    )\n",
    ")\n",
    "\n",
    "z = z[0,0,:,0]\n",
    "\n",
    "plt.figure(1)\n",
    "plt.plot(z, avg_rad, 'o-', label='ns={}'.format(ns))\n",
    "\n",
    "plt.figure(2)\n",
    "plt.semilogy(z, np.abs(avg_rad - avg_true_rad), 'o-', label='ns={}'.format(ns))\n",
    "\n",
    "plt.figure(1)\n",
    "plt.plot(z, avg_true_rad, 'o-', label='true')\n",
    "plt.legend()\n",
    "plt.xlabel('z')\n",
    "plt.ylabel('avg rad')\n",
    "\n",
    "plt.figure(2)\n",
    "plt.legend()\n",
    "plt.xlabel('z')\n",
    "plt.ylabel('|avg rad - true|')"
   ]
  },
  {
   "cell_type": "markdown",
   "metadata": {},
   "source": [
    "### 3D, ss. conv., noscat., no bc., sym. soln."
   ]
  },
  {
   "cell_type": "markdown",
   "metadata": {},
   "source": [
    "#### Compute"
   ]
  },
  {
   "cell_type": "code",
   "execution_count": null,
   "metadata": {
    "scrolled": true
   },
   "outputs": [],
   "source": [
    "# base_dir = os.path.join(os.environ['SCRATCH'], 'kelp-results')\n",
    "base_dir = '/home/oliver/academic/research/kelp-results'\n",
    "\n",
    "na = 8\n",
    "\n",
    "study_name = 'verify_ss_asym_noscat_nobc_const_abs_pp_source_32x{}'.format(na)\n",
    "study_dir = os.path.join(base_dir, study_name)\n",
    "\n",
    "#ns_list = [10]\n",
    "ns_list = [4, 8, 16, 32]\n",
    "#ns_list = [4, 8, 12, 16, 20]\n",
    "\n",
    "ntheta = na\n",
    "nphi = na\n",
    "\n",
    "# TODO: Don't actually delete results\n",
    "shutil.rmtree(os.path.join(base_dir, study_name), ignore_errors=True)\n",
    "\n",
    "num_scatters = 0\n",
    "fd_flag = False\n",
    "\n",
    "param_vals['b'] = 0\n",
    "bc_expr = 0\n",
    "\n",
    "asym_abs_expr = 1 #+ sum(mms.space)\n",
    "asym_source_expr = 1 + sp.sin(2*sp.pi * sp.Symbol('z')) #+ sum((*mms.space, *mms.angle))\n",
    "\n",
    "combine_thread, gs_fut = kelp_compute.verify_ss_asym_noscat_compute(\n",
    "    study_name, \n",
    "    ns_list, ntheta, nphi, \n",
    "    asym_abs_expr, asym_source_expr, bc_expr,\n",
    "    rope_spacing, zmax,\n",
    "    param_vals, base_dir=base_dir\n",
    ")"
   ]
  },
  {
   "cell_type": "markdown",
   "metadata": {},
   "source": [
    "#### Plot"
   ]
  },
  {
   "cell_type": "code",
   "execution_count": null,
   "metadata": {},
   "outputs": [],
   "source": [
    "study_name = 'verify_ss_asym_noscat_nobc_const_abs_pp_source_32x8'\n",
    "study_dir = os.path.join(base_dir, study_name)\n",
    "\n",
    "db_path = os.path.join(study_dir, '{}.db'.format(study_name))\n",
    "conn = sqlite3.Connection(db_path)"
   ]
  },
  {
   "cell_type": "markdown",
   "metadata": {},
   "source": [
    "##### rad. vs. depth"
   ]
  },
  {
   "cell_type": "code",
   "execution_count": null,
   "metadata": {},
   "outputs": [],
   "source": [
    "#norm = lambda x: np.linalg.norm(np.ravel(x), ord=2)\n",
    "#norm = lambda x: np.sqrt(np.sum(x)**2/np.size(x))\n",
    "norm = lambda x: np.mean(np.abs(x))\n",
    "\n",
    "dim_names = ('ns', 'nz', 'ntheta', 'nphi')\n",
    "dim_resolutions = kelp_analyze.get_res_lists(conn, study_name)\n",
    "dim_dict = dict(zip(dim_names, dim_resolutions))\n",
    "\n",
    "ns_list = dim_dict['ns']\n",
    "\n",
    "plt.figure(1)\n",
    "plt.figure(2)\n",
    "\n",
    "for ns in ns_list:\n",
    "    results_list = kelp_analyze.query_results(\n",
    "        conn, study_name,\n",
    "        ns=ns,\n",
    "    )\n",
    "    results = results_list[0]\n",
    "    \n",
    "    nomega = results['nomega'][:]\n",
    "    \n",
    "    p = nomega - 1\n",
    "\n",
    "    rad = results['rad'][:][:,:,:,p]\n",
    "    true_rad = results['true_rad'][:][:,:,:,p]\n",
    "\n",
    "    avg_rad = np.mean(rad, axis=(0, 1))\n",
    "    avg_true_rad = np.mean(true_rad, axis=(0, 1))\n",
    "\n",
    "    err = norm(rad - true_rad)\n",
    "\n",
    "    print(\"err = {:.2f}\".format(err))\n",
    "\n",
    "\n",
    "    _, _, z, _, _ = mms.gen_grid(\n",
    "        *map(\n",
    "            lambda x: int(results[x][:].data),\n",
    "            ('ns', 'nz', 'ntheta', 'nphi', 'rope_spacing', 'zmax')\n",
    "        )\n",
    "    )\n",
    "\n",
    "    z = z[0,0,:,0]\n",
    "\n",
    "    plt.figure(1)\n",
    "    plt.plot(z, avg_rad, 'o-', label='ns={}'.format(ns))\n",
    "    \n",
    "    plt.figure(2)\n",
    "    plt.semilogy(z, np.abs(avg_rad - avg_true_rad), 'o-', label='ns={}'.format(ns))\n",
    "\n",
    "plt.figure(1)\n",
    "plt.plot(z, avg_true_rad, 'o-', label='true')\n",
    "plt.legend()\n",
    "plt.xlabel('z')\n",
    "plt.ylabel('avg rad')\n",
    "\n",
    "plt.figure(2)\n",
    "plt.legend()\n",
    "plt.xlabel('z')\n",
    "plt.ylabel('|avg rad - true|')"
   ]
  },
  {
   "cell_type": "markdown",
   "metadata": {},
   "source": [
    "##### err. vs. ds"
   ]
  },
  {
   "cell_type": "code",
   "execution_count": null,
   "metadata": {},
   "outputs": [],
   "source": [
    "#norm = lambda x: np.linalg.norm(np.ravel(x), ord=2)\n",
    "#norm = lambda x: np.sqrt(np.sum(x)**2/np.size(x))\n",
    "norm = lambda x: np.mean(np.abs(x))\n",
    "\n",
    "dim_names = ('ns', 'nz', 'ntheta', 'nphi')\n",
    "dim_resolutions = kelp_analyze.get_res_lists(conn, study_name)\n",
    "dim_dict = dict(zip(dim_names, dim_resolutions))\n",
    "\n",
    "ns_list = dim_dict['ns']\n",
    "\n",
    "err_dict = {}\n",
    "for ns in ns_list:\n",
    "    results_list = kelp_analyze.query_results(\n",
    "        conn, study_name,\n",
    "        ns=ns,\n",
    "    )\n",
    "\n",
    "    rad = results_list[0]['rad'][:]\n",
    "    true_rad = results_list[0]['true_rad'][:]\n",
    "\n",
    "    err = norm(rad - true_rad)\n",
    "    err_dict[ns] = err\n",
    "\n",
    "res_arr = rope_spacing / np.array(ns_list)\n",
    "err_arr = np.array([err_dict[ns] for ns in ns_list])\n",
    "\n",
    "conv.plot_lin_fit(\n",
    "    np.log10(res_arr), np.log10(err_arr), \n",
    "    min(np.log10(res_arr)), max(np.log10(res_arr)), \n",
    "    xlabel='log10 ds', ylabel='log10 err'\n",
    ")"
   ]
  },
  {
   "cell_type": "markdown",
   "metadata": {},
   "source": [
    "### 3D, ss. conv., noscat."
   ]
  },
  {
   "cell_type": "markdown",
   "metadata": {},
   "source": [
    "#### Compute"
   ]
  },
  {
   "cell_type": "code",
   "execution_count": null,
   "metadata": {},
   "outputs": [],
   "source": [
    "print(gs_fut[0].stdout)"
   ]
  },
  {
   "cell_type": "code",
   "execution_count": 382,
   "metadata": {
    "scrolled": true
   },
   "outputs": [
    {
     "name": "stderr",
     "output_type": "stream",
     "text": [
      "/home/jovyan/scratch/kelp/code/python/kelp_compute.py:32: UserWarning: matplotlib.pyplot as already been imported, this call will have no effect.\n",
      "  matplotlib.use('Agg')\n"
     ]
    },
    {
     "ename": "TimeoutError",
     "evalue": "Hub connection request timed out",
     "output_type": "error",
     "traceback": [
      "\u001b[0;31m---------------------------------------------------------------------------\u001b[0m",
      "\u001b[0;31mTimeoutError\u001b[0m                              Traceback (most recent call last)",
      "\u001b[0;32m<ipython-input-382-0d8a1ee79e2b>\u001b[0m in \u001b[0;36m<module>\u001b[0;34m()\u001b[0m\n\u001b[1;32m     28\u001b[0m     \u001b[0msol_expr\u001b[0m\u001b[0;34m,\u001b[0m \u001b[0mabs_expr\u001b[0m\u001b[0;34m,\u001b[0m \u001b[0msource_expr\u001b[0m\u001b[0;34m,\u001b[0m \u001b[0mbc_expr\u001b[0m\u001b[0;34m,\u001b[0m \u001b[0mvsf_expr\u001b[0m\u001b[0;34m,\u001b[0m\u001b[0;34m\u001b[0m\u001b[0m\n\u001b[1;32m     29\u001b[0m     \u001b[0mnum_scatters\u001b[0m\u001b[0;34m,\u001b[0m \u001b[0mnum_threads\u001b[0m\u001b[0;34m,\u001b[0m \u001b[0mfd_flag\u001b[0m\u001b[0;34m,\u001b[0m\u001b[0;34m\u001b[0m\u001b[0m\n\u001b[0;32m---> 30\u001b[0;31m     param_vals, base_dir=base_dir)\n\u001b[0m",
      "\u001b[0;32m~/scratch/kelp/code/python/run_utils.py\u001b[0m in \u001b[0;36mwrapper\u001b[0;34m(study_name, base_dir, executor, *study_args, **study_kwargs)\u001b[0m\n\u001b[1;32m    494\u001b[0m         \u001b[0mstudy_dir\u001b[0m \u001b[0;34m=\u001b[0m \u001b[0mos\u001b[0m\u001b[0;34m.\u001b[0m\u001b[0mpath\u001b[0m\u001b[0;34m.\u001b[0m\u001b[0mjoin\u001b[0m\u001b[0;34m(\u001b[0m\u001b[0mbase_dir\u001b[0m\u001b[0;34m,\u001b[0m \u001b[0mstudy_name\u001b[0m\u001b[0;34m)\u001b[0m\u001b[0;34m\u001b[0m\u001b[0m\n\u001b[1;32m    495\u001b[0m         \u001b[0;32mif\u001b[0m \u001b[0;32mnot\u001b[0m \u001b[0mexecutor\u001b[0m\u001b[0;34m:\u001b[0m\u001b[0;34m\u001b[0m\u001b[0m\n\u001b[0;32m--> 496\u001b[0;31m             \u001b[0mexecutor\u001b[0m \u001b[0;34m=\u001b[0m \u001b[0mipp\u001b[0m\u001b[0;34m.\u001b[0m\u001b[0mClient\u001b[0m\u001b[0;34m(\u001b[0m\u001b[0;34m)\u001b[0m\u001b[0;34m.\u001b[0m\u001b[0mload_balanced_view\u001b[0m\u001b[0;34m(\u001b[0m\u001b[0;34m)\u001b[0m\u001b[0;34m\u001b[0m\u001b[0m\n\u001b[0m\u001b[1;32m    497\u001b[0m \u001b[0;34m\u001b[0m\u001b[0m\n\u001b[1;32m    498\u001b[0m         \u001b[0mcreate_dirs\u001b[0m\u001b[0;34m(\u001b[0m\u001b[0mstudy_dir\u001b[0m\u001b[0;34m)\u001b[0m\u001b[0;34m\u001b[0m\u001b[0m\n",
      "\u001b[0;32m/opt/conda/lib/python3.6/site-packages/ipyparallel/client/client.py\u001b[0m in \u001b[0;36m__init__\u001b[0;34m(self, url_file, profile, profile_dir, ipython_dir, context, debug, sshserver, sshkey, password, paramiko, timeout, cluster_id, **extra_args)\u001b[0m\n\u001b[1;32m    510\u001b[0m \u001b[0;34m\u001b[0m\u001b[0m\n\u001b[1;32m    511\u001b[0m         \u001b[0;32mtry\u001b[0m\u001b[0;34m:\u001b[0m\u001b[0;34m\u001b[0m\u001b[0m\n\u001b[0;32m--> 512\u001b[0;31m             \u001b[0mself\u001b[0m\u001b[0;34m.\u001b[0m\u001b[0m_connect\u001b[0m\u001b[0;34m(\u001b[0m\u001b[0msshserver\u001b[0m\u001b[0;34m,\u001b[0m \u001b[0mssh_kwargs\u001b[0m\u001b[0;34m,\u001b[0m \u001b[0mtimeout\u001b[0m\u001b[0;34m)\u001b[0m\u001b[0;34m\u001b[0m\u001b[0m\n\u001b[0m\u001b[1;32m    513\u001b[0m         \u001b[0;32mexcept\u001b[0m\u001b[0;34m:\u001b[0m\u001b[0;34m\u001b[0m\u001b[0m\n\u001b[1;32m    514\u001b[0m             \u001b[0mself\u001b[0m\u001b[0;34m.\u001b[0m\u001b[0mclose\u001b[0m\u001b[0;34m(\u001b[0m\u001b[0mlinger\u001b[0m\u001b[0;34m=\u001b[0m\u001b[0;36m0\u001b[0m\u001b[0;34m)\u001b[0m\u001b[0;34m\u001b[0m\u001b[0m\n",
      "\u001b[0;32m/opt/conda/lib/python3.6/site-packages/ipyparallel/client/client.py\u001b[0m in \u001b[0;36m_connect\u001b[0;34m(self, sshserver, ssh_kwargs, timeout)\u001b[0m\n\u001b[1;32m    629\u001b[0m         \u001b[0mevts\u001b[0m \u001b[0;34m=\u001b[0m \u001b[0mpoller\u001b[0m\u001b[0;34m.\u001b[0m\u001b[0mpoll\u001b[0m\u001b[0;34m(\u001b[0m\u001b[0mtimeout\u001b[0m\u001b[0;34m*\u001b[0m\u001b[0;36m1000\u001b[0m\u001b[0;34m)\u001b[0m\u001b[0;34m\u001b[0m\u001b[0m\n\u001b[1;32m    630\u001b[0m         \u001b[0;32mif\u001b[0m \u001b[0;32mnot\u001b[0m \u001b[0mevts\u001b[0m\u001b[0;34m:\u001b[0m\u001b[0;34m\u001b[0m\u001b[0m\n\u001b[0;32m--> 631\u001b[0;31m             \u001b[0;32mraise\u001b[0m \u001b[0merror\u001b[0m\u001b[0;34m.\u001b[0m\u001b[0mTimeoutError\u001b[0m\u001b[0;34m(\u001b[0m\u001b[0;34m\"Hub connection request timed out\"\u001b[0m\u001b[0;34m)\u001b[0m\u001b[0;34m\u001b[0m\u001b[0m\n\u001b[0m\u001b[1;32m    632\u001b[0m         \u001b[0midents\u001b[0m\u001b[0;34m,\u001b[0m \u001b[0mmsg\u001b[0m \u001b[0;34m=\u001b[0m \u001b[0mself\u001b[0m\u001b[0;34m.\u001b[0m\u001b[0msession\u001b[0m\u001b[0;34m.\u001b[0m\u001b[0mrecv\u001b[0m\u001b[0;34m(\u001b[0m\u001b[0mself\u001b[0m\u001b[0;34m.\u001b[0m\u001b[0m_query_socket\u001b[0m\u001b[0;34m,\u001b[0m \u001b[0mmode\u001b[0m\u001b[0;34m=\u001b[0m\u001b[0;36m0\u001b[0m\u001b[0;34m)\u001b[0m\u001b[0;34m\u001b[0m\u001b[0m\n\u001b[1;32m    633\u001b[0m         \u001b[0;32mif\u001b[0m \u001b[0mself\u001b[0m\u001b[0;34m.\u001b[0m\u001b[0mdebug\u001b[0m\u001b[0;34m:\u001b[0m\u001b[0;34m\u001b[0m\u001b[0m\n",
      "\u001b[0;31mTimeoutError\u001b[0m: Hub connection request timed out"
     ]
    }
   ],
   "source": [
    "base_dir = os.path.join(os.environ['SCRATCH'], 'kelp-results')\n",
    "# base_dir = '/home/oliver/academic/research/kelp-results'\n",
    "\n",
    "na = 8\n",
    "ns_list = [4, 8, 16, 32, 64]\n",
    "num_threads = 32\n",
    "\n",
    "study_name = 'verify_ss_noscat_nofd_smallderiv_{}x{}'.format(max(ns_list), na)\n",
    "study_dir = os.path.join(base_dir, study_name)\n",
    "#ns_list = [4, 8, 12, 16, 20]\n",
    "\n",
    "ntheta = na\n",
    "nphi = na\n",
    "\n",
    "# TODO: Don't actually delete results\n",
    "shutil.rmtree(os.path.join(base_dir, study_name), ignore_errors=True)\n",
    "\n",
    "num_scatters = 0\n",
    "fd_flag = False\n",
    "\n",
    "b = 0\n",
    "param_vals['b'] = 0\n",
    "\n",
    "combine_thread, gs_fut = kelp_compute.verify_single_space_compute(\n",
    "    study_name, \n",
    "    ns_list, ntheta, nphi, \n",
    "    rope_spacing, zmax, b, \n",
    "    sol_expr, abs_expr, source_expr, bc_expr, vsf_expr,\n",
    "    num_scatters, num_threads, fd_flag,\n",
    "    param_vals, base_dir=base_dir)"
   ]
  },
  {
   "cell_type": "markdown",
   "metadata": {},
   "source": [
    "#### Plot"
   ]
  },
  {
   "cell_type": "code",
   "execution_count": 331,
   "metadata": {},
   "outputs": [],
   "source": [
    "study_name = 'verify_ss_noscat_nofd_smallderiv_64x8'\n",
    "study_dir = os.path.join(base_dir, study_name)\n",
    "\n",
    "db_path = os.path.join(study_dir, '{}.db'.format(study_name))\n",
    "conn = sqlite3.Connection(db_path)"
   ]
  },
  {
   "cell_type": "markdown",
   "metadata": {},
   "source": [
    "##### rad. vs. depth"
   ]
  },
  {
   "cell_type": "code",
   "execution_count": 332,
   "metadata": {},
   "outputs": [
    {
     "name": "stdout",
     "output_type": "stream",
     "text": [
      "err = 0.01\n",
      "err = 0.00\n",
      "err = 0.00\n",
      "err = 0.00\n",
      "err = 0.00\n"
     ]
    },
    {
     "data": {
      "text/plain": [
       "Text(0, 0.5, '|avg rad - true|')"
      ]
     },
     "execution_count": 332,
     "metadata": {},
     "output_type": "execute_result"
    },
    {
     "data": {
      "image/png": "[encoded data removed]",
      "text/plain": [
       "<Figure size 432x288 with 1 Axes>"
      ]
     },
     "metadata": {
      "needs_background": "light"
     },
     "output_type": "display_data"
    },
    {
     "data": {
      "image/png": "[encoded data removed]",
      "text/plain": [
       "<Figure size 432x288 with 1 Axes>"
      ]
     },
     "metadata": {
      "needs_background": "light"
     },
     "output_type": "display_data"
    }
   ],
   "source": [
    "#norm = lambda x: np.linalg.norm(np.ravel(x), ord=2)\n",
    "#norm = lambda x: np.sqrt(np.sum(x)**2/np.size(x))\n",
    "norm = lambda x: np.mean(np.abs(x))\n",
    "\n",
    "dim_names = ('ns', 'nz', 'ntheta', 'nphi')\n",
    "dim_resolutions = kelp_analyze.get_res_lists(conn, study_name)\n",
    "dim_dict = dict(zip(dim_names, dim_resolutions))\n",
    "\n",
    "ns_list = dim_dict['ns']\n",
    "\n",
    "plt.figure(1)\n",
    "plt.figure(2)\n",
    "\n",
    "for ns in ns_list:\n",
    "    results_list = kelp_analyze.query_results(\n",
    "        conn, study_name,\n",
    "        ns=ns,\n",
    "    )\n",
    "    \n",
    "    p = 13\n",
    "\n",
    "    results = results_list[0]\n",
    "    rad = results['rad'][:][:,:,:,p]\n",
    "    true_rad = results['true_rad'][:][:,:,:,p]\n",
    "\n",
    "    avg_rad = np.mean(rad, axis=(0, 1))\n",
    "    avg_true_rad = np.mean(true_rad, axis=(0, 1))\n",
    "\n",
    "    err = norm(rad - true_rad)\n",
    "\n",
    "    print(\"err = {:.2f}\".format(err))\n",
    "\n",
    "\n",
    "    _, _, z, _, _ = mms.gen_grid(\n",
    "        *map(\n",
    "            lambda x: int(results[x][:].data),\n",
    "            ('ns', 'nz', 'ntheta', 'nphi', 'rope_spacing', 'zmax')\n",
    "        )\n",
    "    )\n",
    "\n",
    "    z = z[0,0,:,0]\n",
    "\n",
    "    plt.figure(1)\n",
    "    plt.plot(z, avg_rad, 'o-', label='ns={}'.format(ns))\n",
    "    \n",
    "    plt.figure(2)\n",
    "    plt.semilogy(z, np.abs(avg_rad - avg_true_rad), 'o-', label='ns={}'.format(ns))\n",
    "\n",
    "plt.figure(1)\n",
    "plt.plot(z, avg_true_rad, 'o-', label='true')\n",
    "plt.legend()\n",
    "plt.xlabel('z')\n",
    "plt.ylabel('avg rad')\n",
    "\n",
    "plt.figure(2)\n",
    "plt.xlabel('z')\n",
    "plt.ylabel('|avg rad - true|')"
   ]
  },
  {
   "cell_type": "markdown",
   "metadata": {},
   "source": [
    "##### err. vs. ds"
   ]
  },
  {
   "cell_type": "code",
   "execution_count": 333,
   "metadata": {},
   "outputs": [
    {
     "data": {
      "image/png": "[encoded data removed]",
      "text/plain": [
       "<Figure size 432x288 with 1 Axes>"
      ]
     },
     "metadata": {
      "needs_background": "light"
     },
     "output_type": "display_data"
    }
   ],
   "source": [
    "#norm = lambda x: np.linalg.norm(np.ravel(x), ord=2)\n",
    "#norm = lambda x: np.sqrt(np.sum(x)**2/np.size(x))\n",
    "norm = lambda x: np.mean(np.abs(x))\n",
    "\n",
    "dim_names = ('ns', 'nz', 'ntheta', 'nphi')\n",
    "dim_resolutions = kelp_analyze.get_res_lists(conn, study_name)\n",
    "dim_dict = dict(zip(dim_names, dim_resolutions))\n",
    "\n",
    "ns_list = dim_dict['ns']\n",
    "\n",
    "err_dict = {}\n",
    "for ns in ns_list:\n",
    "    results_list = kelp_analyze.query_results(\n",
    "        conn, study_name,\n",
    "        ns=ns,\n",
    "        nz=ns,\n",
    "    )\n",
    "\n",
    "    rad = results_list[0]['rad'][:]\n",
    "    true_rad = results_list[0]['true_rad'][:]\n",
    "\n",
    "    err = norm(rad - true_rad)\n",
    "    err_dict[ns] = err\n",
    "\n",
    "res_arr = rope_spacing / np.array(ns_list)\n",
    "err_arr = np.array([err_dict[ns] for ns in ns_list])\n",
    "\n",
    "conv.plot_lin_fit(\n",
    "    np.log10(res_arr), np.log10(err_arr), \n",
    "    min(np.log10(res_arr)), max(np.log10(res_arr)), \n",
    "    xlabel='log10 ds', ylabel='log10 err'\n",
    ")"
   ]
  },
  {
   "cell_type": "markdown",
   "metadata": {},
   "source": [
    "### asym. conv. as $b \\to 0$"
   ]
  },
  {
   "cell_type": "markdown",
   "metadata": {},
   "source": [
    "#### Compute"
   ]
  },
  {
   "cell_type": "markdown",
   "metadata": {},
   "source": [
    "1D, looks good: verify_asym_uni_a_expb15_L_1x4000x2_scat_0_1_2_3_b_m15_m05 "
   ]
  },
  {
   "cell_type": "code",
   "execution_count": 363,
   "metadata": {
    "scrolled": true
   },
   "outputs": [
    {
     "name": "stdout",
     "output_type": "stream",
     "text": [
      "Creating new study directory.\n",
      "Running asym.: (0.32,  0)\n",
      "Running asym.: (0.32,  1)\n",
      "Running asym.: (0.32,  2)\n",
      "Running asym.: (0.32,  3)\n",
      "Running asym.: (0.36,  0)\n",
      "Running asym.: (0.36,  1)\n",
      "Running asym.: (0.36,  2)\n",
      "Running asym.: (0.36,  3)\n",
      "Running asym.: (0.41,  0)\n",
      "Running asym.: (0.41,  1)\n",
      "Running asym.: (0.41,  2)\n",
      "Running asym.: (0.41,  3)\n",
      "Running asym.: (0.46,  0)\n",
      "Running asym.: (0.46,  1)\n",
      "Running asym.: (0.46,  2)\n",
      "Running asym.: (0.46,  3)\n",
      "Running asym.: (0.53,  0)\n",
      "Running asym.: (0.53,  1)\n",
      "Running asym.: (0.53,  2)\n",
      "Running asym.: (0.53,  3)\n",
      "Running asym.: (0.60,  0)\n",
      "Running asym.: (0.60,  1)\n",
      "Running asym.: (0.60,  2)\n",
      "Running asym.: (0.60,  3)\n",
      "Running asym.: (0.68,  0)\n",
      "Running asym.: (0.68,  1)\n",
      "Running asym.: (0.68,  2)\n",
      "Running asym.: (0.68,  3)\n",
      "Running asym.: (0.77,  0)\n",
      "Running asym.: (0.77,  1)\n",
      "Running asym.: (0.77,  2)\n",
      "Running asym.: (0.77,  3)\n",
      "Running asym.: (0.88,  0)\n",
      "Running asym.: (0.88,  1)\n",
      "Running asym.: (0.88,  2)\n",
      "Running asym.: (0.88,  3)\n",
      "Running asym.: (1.00,  0)\n",
      "Running asym.: (1.00,  1)\n",
      "Running asym.: (1.00,  2)\n",
      "Running asym.: (1.00,  3)\n",
      "Reading existing runs.\n",
      "Finished reading existing runs.\n",
      "Calling solve_rte_with_callbacks(, study_dir='/scratch/kelp-results/verify_asym_prod_a_tanhb_L_lin_vsf_64x64x10_scat_0_1_2_3_b_m05_0', study_name='verify_asym_prod_a_tanhb_L_lin_vsf_64x64x10_scat_0_1_2_3_b_m05_0', b=0.31622776601683794, num_scatters=0, param_dict={'alpha': 1, 'gamma': 1, 'b': 0.31622776601683794}, ns=64, nz=64, ntheta=10, nphi=10, rope_spacing=1, zmax=1, sol_expr=alpha*(z*(sin(2*pi*x/alpha) + sin(2*pi*y/alpha)) + 1)*(sin(phi + theta) + 1)*(-gamma + z + tanh((b + 1)*(gamma - z))/tanh(gamma*(b + 1))), abs_expr=sin(2*pi*x/alpha) + sin(2*pi*y/alpha) + tanh(-gamma + z) + 5, source_expr=alpha*(z*(sin(2*pi*x/alpha) + sin(2*pi*y/alpha)) + 1)*(sin(phi + theta) + 1)*(-gamma + z + tanh((b + 1)*(gamma - z))/tanh(gamma*(b + 1)))*(b + sin(2*pi*x/alpha) + sin(2*pi*y/alpha) + tanh(-gamma + z) + 5) - b*(alpha*(z*(sin(2*pi*x/alpha) + sin(2*pi*y/alpha)) + 1)*(-gamma + z + tanh((b + 1)*(gamma - z))/tanh(gamma*(b + 1)))*(sin(phi)*sin(theta)/3 + cos(phi)/3 + 1/2)/(4*pi) - alpha*(z*(sin(2*pi*x/alpha) + sin(2*pi*y/alpha)) + 1)*(-gamma + z + tanh((b + 1)*(gamma - z))/tanh(gamma*(b + 1)))*(-pi*sin(phi)*sin(theta)/2 - sin(phi)*sin(theta)/3 - cos(phi)/3 + 1/2)/(4*pi) - alpha*(z*(sin(2*pi*x/alpha) + sin(2*pi*y/alpha)) + 1)*(-gamma + z + tanh((b + 1)*(gamma - z))/tanh(gamma*(b + 1)))*(sin(phi)*sin(theta)/3 - 2*pi*sin(phi)*cos(theta)/3 - pi*cos(phi) + cos(phi)/3 - 2*pi + 1/2)/(4*pi) + alpha*(z*(sin(2*pi*x/alpha) + sin(2*pi*y/alpha)) + 1)*(-gamma + z + tanh((b + 1)*(gamma - z))/tanh(gamma*(b + 1)))*(-pi*sin(phi)*sin(theta)/2 - sin(phi)*sin(theta)/3 + 2*pi*sin(phi)*cos(theta)/3 - pi*cos(phi) - cos(phi)/3 + 1/2 + 2*pi)/(4*pi)) + 2*pi*z*(sin(phi + theta) + 1)*(-gamma + z + tanh((b + 1)*(gamma - z))/tanh(gamma*(b + 1)))*sin(phi)*sin(theta)*cos(2*pi*y/alpha) + 2*pi*z*(sin(phi + theta) + 1)*(-gamma + z + tanh((b + 1)*(gamma - z))/tanh(gamma*(b + 1)))*sin(phi)*cos(theta)*cos(2*pi*x/alpha) + (alpha*(z*(sin(2*pi*x/alpha) + sin(2*pi*y/alpha)) + 1)*((-b - 1)*(-tanh((b + 1)*(gamma - z))**2 + 1)/tanh(gamma*(b + 1)) + 1)*(sin(phi + theta) + 1) + alpha*(sin(2*pi*x/alpha) + sin(2*pi*y/alpha))*(sin(phi + theta) + 1)*(-gamma + z + tanh((b + 1)*(gamma - z))/tanh(gamma*(b + 1))))*cos(phi), bc_expr=alpha*(-gamma + 1)*(sin(phi + theta) + 1), vsf_expr=(Delta + 1)/(4*pi), fd_flag=False, num_threads=32)\n",
      "\n",
      "Calling solve_rte_with_callbacks(, study_dir='/scratch/kelp-results/verify_asym_prod_a_tanhb_L_lin_vsf_64x64x10_scat_0_1_2_3_b_m05_0', study_name='verify_asym_prod_a_tanhb_L_lin_vsf_64x64x10_scat_0_1_2_3_b_m05_0', b=0.31622776601683794, num_scatters=1, param_dict={'alpha': 1, 'gamma': 1, 'b': 0.31622776601683794}, ns=64, nz=64, ntheta=10, nphi=10, rope_spacing=1, zmax=1, sol_expr=alpha*(z*(sin(2*pi*x/alpha) + sin(2*pi*y/alpha)) + 1)*(sin(phi + theta) + 1)*(-gamma + z + tanh((b + 1)*(gamma - z))/tanh(gamma*(b + 1))), abs_expr=sin(2*pi*x/alpha) + sin(2*pi*y/alpha) + tanh(-gamma + z) + 5, source_expr=alpha*(z*(sin(2*pi*x/alpha) + sin(2*pi*y/alpha)) + 1)*(sin(phi + theta) + 1)*(-gamma + z + tanh((b + 1)*(gamma - z))/tanh(gamma*(b + 1)))*(b + sin(2*pi*x/alpha) + sin(2*pi*y/alpha) + tanh(-gamma + z) + 5) - b*(alpha*(z*(sin(2*pi*x/alpha) + sin(2*pi*y/alpha)) + 1)*(-gamma + z + tanh((b + 1)*(gamma - z))/tanh(gamma*(b + 1)))*(sin(phi)*sin(theta)/3 + cos(phi)/3 + 1/2)/(4*pi) - alpha*(z*(sin(2*pi*x/alpha) + sin(2*pi*y/alpha)) + 1)*(-gamma + z + tanh((b + 1)*(gamma - z))/tanh(gamma*(b + 1)))*(-pi*sin(phi)*sin(theta)/2 - sin(phi)*sin(theta)/3 - cos(phi)/3 + 1/2)/(4*pi) - alpha*(z*(sin(2*pi*x/alpha) + sin(2*pi*y/alpha)) + 1)*(-gamma + z + tanh((b + 1)*(gamma - z))/tanh(gamma*(b + 1)))*(sin(phi)*sin(theta)/3 - 2*pi*sin(phi)*cos(theta)/3 - pi*cos(phi) + cos(phi)/3 - 2*pi + 1/2)/(4*pi) + alpha*(z*(sin(2*pi*x/alpha) + sin(2*pi*y/alpha)) + 1)*(-gamma + z + tanh((b + 1)*(gamma - z))/tanh(gamma*(b + 1)))*(-pi*sin(phi)*sin(theta)/2 - sin(phi)*sin(theta)/3 + 2*pi*sin(phi)*cos(theta)/3 - pi*cos(phi) - cos(phi)/3 + 1/2 + 2*pi)/(4*pi)) + 2*pi*z*(sin(phi + theta) + 1)*(-gamma + z + tanh((b + 1)*(gamma - z))/tanh(gamma*(b + 1)))*sin(phi)*sin(theta)*cos(2*pi*y/alpha) + 2*pi*z*(sin(phi + theta) + 1)*(-gamma + z + tanh((b + 1)*(gamma - z))/tanh(gamma*(b + 1)))*sin(phi)*cos(theta)*cos(2*pi*x/alpha) + (alpha*(z*(sin(2*pi*x/alpha) + sin(2*pi*y/alpha)) + 1)*((-b - 1)*(-tanh((b + 1)*(gamma - z))**2 + 1)/tanh(gamma*(b + 1)) + 1)*(sin(phi + theta) + 1) + alpha*(sin(2*pi*x/alpha) + sin(2*pi*y/alpha))*(sin(phi + theta) + 1)*(-gamma + z + tanh((b + 1)*(gamma - z))/tanh(gamma*(b + 1))))*cos(phi), bc_expr=alpha*(-gamma + 1)*(sin(phi + theta) + 1), vsf_expr=(Delta + 1)/(4*pi), fd_flag=False, num_threads=32)\n",
      "\n",
      "Calling solve_rte_with_callbacks(, study_dir='/scratch/kelp-results/verify_asym_prod_a_tanhb_L_lin_vsf_64x64x10_scat_0_1_2_3_b_m05_0', study_name='verify_asym_prod_a_tanhb_L_lin_vsf_64x64x10_scat_0_1_2_3_b_m05_0', b=0.31622776601683794, num_scatters=2, param_dict={'alpha': 1, 'gamma': 1, 'b': 0.31622776601683794}, ns=64, nz=64, ntheta=10, nphi=10, rope_spacing=1, zmax=1, sol_expr=alpha*(z*(sin(2*pi*x/alpha) + sin(2*pi*y/alpha)) + 1)*(sin(phi + theta) + 1)*(-gamma + z + tanh((b + 1)*(gamma - z))/tanh(gamma*(b + 1))), abs_expr=sin(2*pi*x/alpha) + sin(2*pi*y/alpha) + tanh(-gamma + z) + 5, source_expr=alpha*(z*(sin(2*pi*x/alpha) + sin(2*pi*y/alpha)) + 1)*(sin(phi + theta) + 1)*(-gamma + z + tanh((b + 1)*(gamma - z))/tanh(gamma*(b + 1)))*(b + sin(2*pi*x/alpha) + sin(2*pi*y/alpha) + tanh(-gamma + z) + 5) - b*(alpha*(z*(sin(2*pi*x/alpha) + sin(2*pi*y/alpha)) + 1)*(-gamma + z + tanh((b + 1)*(gamma - z))/tanh(gamma*(b + 1)))*(sin(phi)*sin(theta)/3 + cos(phi)/3 + 1/2)/(4*pi) - alpha*(z*(sin(2*pi*x/alpha) + sin(2*pi*y/alpha)) + 1)*(-gamma + z + tanh((b + 1)*(gamma - z))/tanh(gamma*(b + 1)))*(-pi*sin(phi)*sin(theta)/2 - sin(phi)*sin(theta)/3 - cos(phi)/3 + 1/2)/(4*pi) - alpha*(z*(sin(2*pi*x/alpha) + sin(2*pi*y/alpha)) + 1)*(-gamma + z + tanh((b + 1)*(gamma - z))/tanh(gamma*(b + 1)))*(sin(phi)*sin(theta)/3 - 2*pi*sin(phi)*cos(theta)/3 - pi*cos(phi) + cos(phi)/3 - 2*pi + 1/2)/(4*pi) + alpha*(z*(sin(2*pi*x/alpha) + sin(2*pi*y/alpha)) + 1)*(-gamma + z + tanh((b + 1)*(gamma - z))/tanh(gamma*(b + 1)))*(-pi*sin(phi)*sin(theta)/2 - sin(phi)*sin(theta)/3 + 2*pi*sin(phi)*cos(theta)/3 - pi*cos(phi) - cos(phi)/3 + 1/2 + 2*pi)/(4*pi)) + 2*pi*z*(sin(phi + theta) + 1)*(-gamma + z + tanh((b + 1)*(gamma - z))/tanh(gamma*(b + 1)))*sin(phi)*sin(theta)*cos(2*pi*y/alpha) + 2*pi*z*(sin(phi + theta) + 1)*(-gamma + z + tanh((b + 1)*(gamma - z))/tanh(gamma*(b + 1)))*sin(phi)*cos(theta)*cos(2*pi*x/alpha) + (alpha*(z*(sin(2*pi*x/alpha) + sin(2*pi*y/alpha)) + 1)*((-b - 1)*(-tanh((b + 1)*(gamma - z))**2 + 1)/tanh(gamma*(b + 1)) + 1)*(sin(phi + theta) + 1) + alpha*(sin(2*pi*x/alpha) + sin(2*pi*y/alpha))*(sin(phi + theta) + 1)*(-gamma + z + tanh((b + 1)*(gamma - z))/tanh(gamma*(b + 1))))*cos(phi), bc_expr=alpha*(-gamma + 1)*(sin(phi + theta) + 1), vsf_expr=(Delta + 1)/(4*pi), fd_flag=False, num_threads=32)\n",
      "\n",
      "Calling solve_rte_with_callbacks(, study_dir='/scratch/kelp-results/verify_asym_prod_a_tanhb_L_lin_vsf_64x64x10_scat_0_1_2_3_b_m05_0', study_name='verify_asym_prod_a_tanhb_L_lin_vsf_64x64x10_scat_0_1_2_3_b_m05_0', b=0.31622776601683794, num_scatters=3, param_dict={'alpha': 1, 'gamma': 1, 'b': 0.31622776601683794}, ns=64, nz=64, ntheta=10, nphi=10, rope_spacing=1, zmax=1, sol_expr=alpha*(z*(sin(2*pi*x/alpha) + sin(2*pi*y/alpha)) + 1)*(sin(phi + theta) + 1)*(-gamma + z + tanh((b + 1)*(gamma - z))/tanh(gamma*(b + 1))), abs_expr=sin(2*pi*x/alpha) + sin(2*pi*y/alpha) + tanh(-gamma + z) + 5, source_expr=alpha*(z*(sin(2*pi*x/alpha) + sin(2*pi*y/alpha)) + 1)*(sin(phi + theta) + 1)*(-gamma + z + tanh((b + 1)*(gamma - z))/tanh(gamma*(b + 1)))*(b + sin(2*pi*x/alpha) + sin(2*pi*y/alpha) + tanh(-gamma + z) + 5) - b*(alpha*(z*(sin(2*pi*x/alpha) + sin(2*pi*y/alpha)) + 1)*(-gamma + z + tanh((b + 1)*(gamma - z))/tanh(gamma*(b + 1)))*(sin(phi)*sin(theta)/3 + cos(phi)/3 + 1/2)/(4*pi) - alpha*(z*(sin(2*pi*x/alpha) + sin(2*pi*y/alpha)) + 1)*(-gamma + z + tanh((b + 1)*(gamma - z))/tanh(gamma*(b + 1)))*(-pi*sin(phi)*sin(theta)/2 - sin(phi)*sin(theta)/3 - cos(phi)/3 + 1/2)/(4*pi) - alpha*(z*(sin(2*pi*x/alpha) + sin(2*pi*y/alpha)) + 1)*(-gamma + z + tanh((b + 1)*(gamma - z))/tanh(gamma*(b + 1)))*(sin(phi)*sin(theta)/3 - 2*pi*sin(phi)*cos(theta)/3 - pi*cos(phi) + cos(phi)/3 - 2*pi + 1/2)/(4*pi) + alpha*(z*(sin(2*pi*x/alpha) + sin(2*pi*y/alpha)) + 1)*(-gamma + z + tanh((b + 1)*(gamma - z))/tanh(gamma*(b + 1)))*(-pi*sin(phi)*sin(theta)/2 - sin(phi)*sin(theta)/3 + 2*pi*sin(phi)*cos(theta)/3 - pi*cos(phi) - cos(phi)/3 + 1/2 + 2*pi)/(4*pi)) + 2*pi*z*(sin(phi + theta) + 1)*(-gamma + z + tanh((b + 1)*(gamma - z))/tanh(gamma*(b + 1)))*sin(phi)*sin(theta)*cos(2*pi*y/alpha) + 2*pi*z*(sin(phi + theta) + 1)*(-gamma + z + tanh((b + 1)*(gamma - z))/tanh(gamma*(b + 1)))*sin(phi)*cos(theta)*cos(2*pi*x/alpha) + (alpha*(z*(sin(2*pi*x/alpha) + sin(2*pi*y/alpha)) + 1)*((-b - 1)*(-tanh((b + 1)*(gamma - z))**2 + 1)/tanh(gamma*(b + 1)) + 1)*(sin(phi + theta) + 1) + alpha*(sin(2*pi*x/alpha) + sin(2*pi*y/alpha))*(sin(phi + theta) + 1)*(-gamma + z + tanh((b + 1)*(gamma - z))/tanh(gamma*(b + 1))))*cos(phi), bc_expr=alpha*(-gamma + 1)*(sin(phi + theta) + 1), vsf_expr=(Delta + 1)/(4*pi), fd_flag=False, num_threads=32)\n",
      "\n",
      "Calling solve_rte_with_callbacks(, study_dir='/scratch/kelp-results/verify_asym_prod_a_tanhb_L_lin_vsf_64x64x10_scat_0_1_2_3_b_m05_0', study_name='verify_asym_prod_a_tanhb_L_lin_vsf_64x64x10_scat_0_1_2_3_b_m05_0', b=0.35938136638046275, num_scatters=0, param_dict={'alpha': 1, 'gamma': 1, 'b': 0.35938136638046275}, ns=64, nz=64, ntheta=10, nphi=10, rope_spacing=1, zmax=1, sol_expr=alpha*(z*(sin(2*pi*x/alpha) + sin(2*pi*y/alpha)) + 1)*(sin(phi + theta) + 1)*(-gamma + z + tanh((b + 1)*(gamma - z))/tanh(gamma*(b + 1))), abs_expr=sin(2*pi*x/alpha) + sin(2*pi*y/alpha) + tanh(-gamma + z) + 5, source_expr=alpha*(z*(sin(2*pi*x/alpha) + sin(2*pi*y/alpha)) + 1)*(sin(phi + theta) + 1)*(-gamma + z + tanh((b + 1)*(gamma - z))/tanh(gamma*(b + 1)))*(b + sin(2*pi*x/alpha) + sin(2*pi*y/alpha) + tanh(-gamma + z) + 5) - b*(alpha*(z*(sin(2*pi*x/alpha) + sin(2*pi*y/alpha)) + 1)*(-gamma + z + tanh((b + 1)*(gamma - z))/tanh(gamma*(b + 1)))*(sin(phi)*sin(theta)/3 + cos(phi)/3 + 1/2)/(4*pi) - alpha*(z*(sin(2*pi*x/alpha) + sin(2*pi*y/alpha)) + 1)*(-gamma + z + tanh((b + 1)*(gamma - z))/tanh(gamma*(b + 1)))*(-pi*sin(phi)*sin(theta)/2 - sin(phi)*sin(theta)/3 - cos(phi)/3 + 1/2)/(4*pi) - alpha*(z*(sin(2*pi*x/alpha) + sin(2*pi*y/alpha)) + 1)*(-gamma + z + tanh((b + 1)*(gamma - z))/tanh(gamma*(b + 1)))*(sin(phi)*sin(theta)/3 - 2*pi*sin(phi)*cos(theta)/3 - pi*cos(phi) + cos(phi)/3 - 2*pi + 1/2)/(4*pi) + alpha*(z*(sin(2*pi*x/alpha) + sin(2*pi*y/alpha)) + 1)*(-gamma + z + tanh((b + 1)*(gamma - z))/tanh(gamma*(b + 1)))*(-pi*sin(phi)*sin(theta)/2 - sin(phi)*sin(theta)/3 + 2*pi*sin(phi)*cos(theta)/3 - pi*cos(phi) - cos(phi)/3 + 1/2 + 2*pi)/(4*pi)) + 2*pi*z*(sin(phi + theta) + 1)*(-gamma + z + tanh((b + 1)*(gamma - z))/tanh(gamma*(b + 1)))*sin(phi)*sin(theta)*cos(2*pi*y/alpha) + 2*pi*z*(sin(phi + theta) + 1)*(-gamma + z + tanh((b + 1)*(gamma - z))/tanh(gamma*(b + 1)))*sin(phi)*cos(theta)*cos(2*pi*x/alpha) + (alpha*(z*(sin(2*pi*x/alpha) + sin(2*pi*y/alpha)) + 1)*((-b - 1)*(-tanh((b + 1)*(gamma - z))**2 + 1)/tanh(gamma*(b + 1)) + 1)*(sin(phi + theta) + 1) + alpha*(sin(2*pi*x/alpha) + sin(2*pi*y/alpha))*(sin(phi + theta) + 1)*(-gamma + z + tanh((b + 1)*(gamma - z))/tanh(gamma*(b + 1))))*cos(phi), bc_expr=alpha*(-gamma + 1)*(sin(phi + theta) + 1), vsf_expr=(Delta + 1)/(4*pi), fd_flag=False, num_threads=32)\n",
      "\n",
      "Calling solve_rte_with_callbacks(, study_dir='/scratch/kelp-results/verify_asym_prod_a_tanhb_L_lin_vsf_64x64x10_scat_0_1_2_3_b_m05_0', study_name='verify_asym_prod_a_tanhb_L_lin_vsf_64x64x10_scat_0_1_2_3_b_m05_0', b=0.35938136638046275, num_scatters=1, param_dict={'alpha': 1, 'gamma': 1, 'b': 0.35938136638046275}, ns=64, nz=64, ntheta=10, nphi=10, rope_spacing=1, zmax=1, sol_expr=alpha*(z*(sin(2*pi*x/alpha) + sin(2*pi*y/alpha)) + 1)*(sin(phi + theta) + 1)*(-gamma + z + tanh((b + 1)*(gamma - z))/tanh(gamma*(b + 1))), abs_expr=sin(2*pi*x/alpha) + sin(2*pi*y/alpha) + tanh(-gamma + z) + 5, source_expr=alpha*(z*(sin(2*pi*x/alpha) + sin(2*pi*y/alpha)) + 1)*(sin(phi + theta) + 1)*(-gamma + z + tanh((b + 1)*(gamma - z))/tanh(gamma*(b + 1)))*(b + sin(2*pi*x/alpha) + sin(2*pi*y/alpha) + tanh(-gamma + z) + 5) - b*(alpha*(z*(sin(2*pi*x/alpha) + sin(2*pi*y/alpha)) + 1)*(-gamma + z + tanh((b + 1)*(gamma - z))/tanh(gamma*(b + 1)))*(sin(phi)*sin(theta)/3 + cos(phi)/3 + 1/2)/(4*pi) - alpha*(z*(sin(2*pi*x/alpha) + sin(2*pi*y/alpha)) + 1)*(-gamma + z + tanh((b + 1)*(gamma - z))/tanh(gamma*(b + 1)))*(-pi*sin(phi)*sin(theta)/2 - sin(phi)*sin(theta)/3 - cos(phi)/3 + 1/2)/(4*pi) - alpha*(z*(sin(2*pi*x/alpha) + sin(2*pi*y/alpha)) + 1)*(-gamma + z + tanh((b + 1)*(gamma - z))/tanh(gamma*(b + 1)))*(sin(phi)*sin(theta)/3 - 2*pi*sin(phi)*cos(theta)/3 - pi*cos(phi) + cos(phi)/3 - 2*pi + 1/2)/(4*pi) + alpha*(z*(sin(2*pi*x/alpha) + sin(2*pi*y/alpha)) + 1)*(-gamma + z + tanh((b + 1)*(gamma - z))/tanh(gamma*(b + 1)))*(-pi*sin(phi)*sin(theta)/2 - sin(phi)*sin(theta)/3 + 2*pi*sin(phi)*cos(theta)/3 - pi*cos(phi) - cos(phi)/3 + 1/2 + 2*pi)/(4*pi)) + 2*pi*z*(sin(phi + theta) + 1)*(-gamma + z + tanh((b + 1)*(gamma - z))/tanh(gamma*(b + 1)))*sin(phi)*sin(theta)*cos(2*pi*y/alpha) + 2*pi*z*(sin(phi + theta) + 1)*(-gamma + z + tanh((b + 1)*(gamma - z))/tanh(gamma*(b + 1)))*sin(phi)*cos(theta)*cos(2*pi*x/alpha) + (alpha*(z*(sin(2*pi*x/alpha) + sin(2*pi*y/alpha)) + 1)*((-b - 1)*(-tanh((b + 1)*(gamma - z))**2 + 1)/tanh(gamma*(b + 1)) + 1)*(sin(phi + theta) + 1) + alpha*(sin(2*pi*x/alpha) + sin(2*pi*y/alpha))*(sin(phi + theta) + 1)*(-gamma + z + tanh((b + 1)*(gamma - z))/tanh(gamma*(b + 1))))*cos(phi), bc_expr=alpha*(-gamma + 1)*(sin(phi + theta) + 1), vsf_expr=(Delta + 1)/(4*pi), fd_flag=False, num_threads=32)\n",
      "\n",
      "Calling solve_rte_with_callbacks(, study_dir='/scratch/kelp-results/verify_asym_prod_a_tanhb_L_lin_vsf_64x64x10_scat_0_1_2_3_b_m05_0', study_name='verify_asym_prod_a_tanhb_L_lin_vsf_64x64x10_scat_0_1_2_3_b_m05_0', b=0.35938136638046275, num_scatters=2, param_dict={'alpha': 1, 'gamma': 1, 'b': 0.35938136638046275}, ns=64, nz=64, ntheta=10, nphi=10, rope_spacing=1, zmax=1, sol_expr=alpha*(z*(sin(2*pi*x/alpha) + sin(2*pi*y/alpha)) + 1)*(sin(phi + theta) + 1)*(-gamma + z + tanh((b + 1)*(gamma - z))/tanh(gamma*(b + 1))), abs_expr=sin(2*pi*x/alpha) + sin(2*pi*y/alpha) + tanh(-gamma + z) + 5, source_expr=alpha*(z*(sin(2*pi*x/alpha) + sin(2*pi*y/alpha)) + 1)*(sin(phi + theta) + 1)*(-gamma + z + tanh((b + 1)*(gamma - z))/tanh(gamma*(b + 1)))*(b + sin(2*pi*x/alpha) + sin(2*pi*y/alpha) + tanh(-gamma + z) + 5) - b*(alpha*(z*(sin(2*pi*x/alpha) + sin(2*pi*y/alpha)) + 1)*(-gamma + z + tanh((b + 1)*(gamma - z))/tanh(gamma*(b + 1)))*(sin(phi)*sin(theta)/3 + cos(phi)/3 + 1/2)/(4*pi) - alpha*(z*(sin(2*pi*x/alpha) + sin(2*pi*y/alpha)) + 1)*(-gamma + z + tanh((b + 1)*(gamma - z))/tanh(gamma*(b + 1)))*(-pi*sin(phi)*sin(theta)/2 - sin(phi)*sin(theta)/3 - cos(phi)/3 + 1/2)/(4*pi) - alpha*(z*(sin(2*pi*x/alpha) + sin(2*pi*y/alpha)) + 1)*(-gamma + z + tanh((b + 1)*(gamma - z))/tanh(gamma*(b + 1)))*(sin(phi)*sin(theta)/3 - 2*pi*sin(phi)*cos(theta)/3 - pi*cos(phi) + cos(phi)/3 - 2*pi + 1/2)/(4*pi) + alpha*(z*(sin(2*pi*x/alpha) + sin(2*pi*y/alpha)) + 1)*(-gamma + z + tanh((b + 1)*(gamma - z))/tanh(gamma*(b + 1)))*(-pi*sin(phi)*sin(theta)/2 - sin(phi)*sin(theta)/3 + 2*pi*sin(phi)*cos(theta)/3 - pi*cos(phi) - cos(phi)/3 + 1/2 + 2*pi)/(4*pi)) + 2*pi*z*(sin(phi + theta) + 1)*(-gamma + z + tanh((b + 1)*(gamma - z))/tanh(gamma*(b + 1)))*sin(phi)*sin(theta)*cos(2*pi*y/alpha) + 2*pi*z*(sin(phi + theta) + 1)*(-gamma + z + tanh((b + 1)*(gamma - z))/tanh(gamma*(b + 1)))*sin(phi)*cos(theta)*cos(2*pi*x/alpha) + (alpha*(z*(sin(2*pi*x/alpha) + sin(2*pi*y/alpha)) + 1)*((-b - 1)*(-tanh((b + 1)*(gamma - z))**2 + 1)/tanh(gamma*(b + 1)) + 1)*(sin(phi + theta) + 1) + alpha*(sin(2*pi*x/alpha) + sin(2*pi*y/alpha))*(sin(phi + theta) + 1)*(-gamma + z + tanh((b + 1)*(gamma - z))/tanh(gamma*(b + 1))))*cos(phi), bc_expr=alpha*(-gamma + 1)*(sin(phi + theta) + 1), vsf_expr=(Delta + 1)/(4*pi), fd_flag=False, num_threads=32)\n",
      "\n",
      "Calling solve_rte_with_callbacks(, study_dir='/scratch/kelp-results/verify_asym_prod_a_tanhb_L_lin_vsf_64x64x10_scat_0_1_2_3_b_m05_0', study_name='verify_asym_prod_a_tanhb_L_lin_vsf_64x64x10_scat_0_1_2_3_b_m05_0', b=0.35938136638046275, num_scatters=3, param_dict={'alpha': 1, 'gamma': 1, 'b': 0.35938136638046275}, ns=64, nz=64, ntheta=10, nphi=10, rope_spacing=1, zmax=1, sol_expr=alpha*(z*(sin(2*pi*x/alpha) + sin(2*pi*y/alpha)) + 1)*(sin(phi + theta) + 1)*(-gamma + z + tanh((b + 1)*(gamma - z))/tanh(gamma*(b + 1))), abs_expr=sin(2*pi*x/alpha) + sin(2*pi*y/alpha) + tanh(-gamma + z) + 5, source_expr=alpha*(z*(sin(2*pi*x/alpha) + sin(2*pi*y/alpha)) + 1)*(sin(phi + theta) + 1)*(-gamma + z + tanh((b + 1)*(gamma - z))/tanh(gamma*(b + 1)))*(b + sin(2*pi*x/alpha) + sin(2*pi*y/alpha) + tanh(-gamma + z) + 5) - b*(alpha*(z*(sin(2*pi*x/alpha) + sin(2*pi*y/alpha)) + 1)*(-gamma + z + tanh((b + 1)*(gamma - z))/tanh(gamma*(b + 1)))*(sin(phi)*sin(theta)/3 + cos(phi)/3 + 1/2)/(4*pi) - alpha*(z*(sin(2*pi*x/alpha) + sin(2*pi*y/alpha)) + 1)*(-gamma + z + tanh((b + 1)*(gamma - z))/tanh(gamma*(b + 1)))*(-pi*sin(phi)*sin(theta)/2 - sin(phi)*sin(theta)/3 - cos(phi)/3 + 1/2)/(4*pi) - alpha*(z*(sin(2*pi*x/alpha) + sin(2*pi*y/alpha)) + 1)*(-gamma + z + tanh((b + 1)*(gamma - z))/tanh(gamma*(b + 1)))*(sin(phi)*sin(theta)/3 - 2*pi*sin(phi)*cos(theta)/3 - pi*cos(phi) + cos(phi)/3 - 2*pi + 1/2)/(4*pi) + alpha*(z*(sin(2*pi*x/alpha) + sin(2*pi*y/alpha)) + 1)*(-gamma + z + tanh((b + 1)*(gamma - z))/tanh(gamma*(b + 1)))*(-pi*sin(phi)*sin(theta)/2 - sin(phi)*sin(theta)/3 + 2*pi*sin(phi)*cos(theta)/3 - pi*cos(phi) - cos(phi)/3 + 1/2 + 2*pi)/(4*pi)) + 2*pi*z*(sin(phi + theta) + 1)*(-gamma + z + tanh((b + 1)*(gamma - z))/tanh(gamma*(b + 1)))*sin(phi)*sin(theta)*cos(2*pi*y/alpha) + 2*pi*z*(sin(phi + theta) + 1)*(-gamma + z + tanh((b + 1)*(gamma - z))/tanh(gamma*(b + 1)))*sin(phi)*cos(theta)*cos(2*pi*x/alpha) + (alpha*(z*(sin(2*pi*x/alpha) + sin(2*pi*y/alpha)) + 1)*((-b - 1)*(-tanh((b + 1)*(gamma - z))**2 + 1)/tanh(gamma*(b + 1)) + 1)*(sin(phi + theta) + 1) + alpha*(sin(2*pi*x/alpha) + sin(2*pi*y/alpha))*(sin(phi + theta) + 1)*(-gamma + z + tanh((b + 1)*(gamma - z))/tanh(gamma*(b + 1))))*cos(phi), bc_expr=alpha*(-gamma + 1)*(sin(phi + theta) + 1), vsf_expr=(Delta + 1)/(4*pi), fd_flag=False, num_threads=32)\n",
      "\n",
      "Calling solve_rte_with_callbacks(, study_dir='/scratch/kelp-results/verify_asym_prod_a_tanhb_L_lin_vsf_64x64x10_scat_0_1_2_3_b_m05_0', study_name='verify_asym_prod_a_tanhb_L_lin_vsf_64x64x10_scat_0_1_2_3_b_m05_0', b=0.4084238652674521, num_scatters=0, param_dict={'alpha': 1, 'gamma': 1, 'b': 0.4084238652674521}, ns=64, nz=64, ntheta=10, nphi=10, rope_spacing=1, zmax=1, sol_expr=alpha*(z*(sin(2*pi*x/alpha) + sin(2*pi*y/alpha)) + 1)*(sin(phi + theta) + 1)*(-gamma + z + tanh((b + 1)*(gamma - z))/tanh(gamma*(b + 1))), abs_expr=sin(2*pi*x/alpha) + sin(2*pi*y/alpha) + tanh(-gamma + z) + 5, source_expr=alpha*(z*(sin(2*pi*x/alpha) + sin(2*pi*y/alpha)) + 1)*(sin(phi + theta) + 1)*(-gamma + z + tanh((b + 1)*(gamma - z))/tanh(gamma*(b + 1)))*(b + sin(2*pi*x/alpha) + sin(2*pi*y/alpha) + tanh(-gamma + z) + 5) - b*(alpha*(z*(sin(2*pi*x/alpha) + sin(2*pi*y/alpha)) + 1)*(-gamma + z + tanh((b + 1)*(gamma - z))/tanh(gamma*(b + 1)))*(sin(phi)*sin(theta)/3 + cos(phi)/3 + 1/2)/(4*pi) - alpha*(z*(sin(2*pi*x/alpha) + sin(2*pi*y/alpha)) + 1)*(-gamma + z + tanh((b + 1)*(gamma - z))/tanh(gamma*(b + 1)))*(-pi*sin(phi)*sin(theta)/2 - sin(phi)*sin(theta)/3 - cos(phi)/3 + 1/2)/(4*pi) - alpha*(z*(sin(2*pi*x/alpha) + sin(2*pi*y/alpha)) + 1)*(-gamma + z + tanh((b + 1)*(gamma - z))/tanh(gamma*(b + 1)))*(sin(phi)*sin(theta)/3 - 2*pi*sin(phi)*cos(theta)/3 - pi*cos(phi) + cos(phi)/3 - 2*pi + 1/2)/(4*pi) + alpha*(z*(sin(2*pi*x/alpha) + sin(2*pi*y/alpha)) + 1)*(-gamma + z + tanh((b + 1)*(gamma - z))/tanh(gamma*(b + 1)))*(-pi*sin(phi)*sin(theta)/2 - sin(phi)*sin(theta)/3 + 2*pi*sin(phi)*cos(theta)/3 - pi*cos(phi) - cos(phi)/3 + 1/2 + 2*pi)/(4*pi)) + 2*pi*z*(sin(phi + theta) + 1)*(-gamma + z + tanh((b + 1)*(gamma - z))/tanh(gamma*(b + 1)))*sin(phi)*sin(theta)*cos(2*pi*y/alpha) + 2*pi*z*(sin(phi + theta) + 1)*(-gamma + z + tanh((b + 1)*(gamma - z))/tanh(gamma*(b + 1)))*sin(phi)*cos(theta)*cos(2*pi*x/alpha) + (alpha*(z*(sin(2*pi*x/alpha) + sin(2*pi*y/alpha)) + 1)*((-b - 1)*(-tanh((b + 1)*(gamma - z))**2 + 1)/tanh(gamma*(b + 1)) + 1)*(sin(phi + theta) + 1) + alpha*(sin(2*pi*x/alpha) + sin(2*pi*y/alpha))*(sin(phi + theta) + 1)*(-gamma + z + tanh((b + 1)*(gamma - z))/tanh(gamma*(b + 1))))*cos(phi), bc_expr=alpha*(-gamma + 1)*(sin(phi + theta) + 1), vsf_expr=(Delta + 1)/(4*pi), fd_flag=False, num_threads=32)\n",
      "\n",
      "Calling solve_rte_with_callbacks(, study_dir='/scratch/kelp-results/verify_asym_prod_a_tanhb_L_lin_vsf_64x64x10_scat_0_1_2_3_b_m05_0', study_name='verify_asym_prod_a_tanhb_L_lin_vsf_64x64x10_scat_0_1_2_3_b_m05_0', b=0.4084238652674521, num_scatters=1, param_dict={'alpha': 1, 'gamma': 1, 'b': 0.4084238652674521}, ns=64, nz=64, ntheta=10, nphi=10, rope_spacing=1, zmax=1, sol_expr=alpha*(z*(sin(2*pi*x/alpha) + sin(2*pi*y/alpha)) + 1)*(sin(phi + theta) + 1)*(-gamma + z + tanh((b + 1)*(gamma - z))/tanh(gamma*(b + 1))), abs_expr=sin(2*pi*x/alpha) + sin(2*pi*y/alpha) + tanh(-gamma + z) + 5, source_expr=alpha*(z*(sin(2*pi*x/alpha) + sin(2*pi*y/alpha)) + 1)*(sin(phi + theta) + 1)*(-gamma + z + tanh((b + 1)*(gamma - z))/tanh(gamma*(b + 1)))*(b + sin(2*pi*x/alpha) + sin(2*pi*y/alpha) + tanh(-gamma + z) + 5) - b*(alpha*(z*(sin(2*pi*x/alpha) + sin(2*pi*y/alpha)) + 1)*(-gamma + z + tanh((b + 1)*(gamma - z))/tanh(gamma*(b + 1)))*(sin(phi)*sin(theta)/3 + cos(phi)/3 + 1/2)/(4*pi) - alpha*(z*(sin(2*pi*x/alpha) + sin(2*pi*y/alpha)) + 1)*(-gamma + z + tanh((b + 1)*(gamma - z))/tanh(gamma*(b + 1)))*(-pi*sin(phi)*sin(theta)/2 - sin(phi)*sin(theta)/3 - cos(phi)/3 + 1/2)/(4*pi) - alpha*(z*(sin(2*pi*x/alpha) + sin(2*pi*y/alpha)) + 1)*(-gamma + z + tanh((b + 1)*(gamma - z))/tanh(gamma*(b + 1)))*(sin(phi)*sin(theta)/3 - 2*pi*sin(phi)*cos(theta)/3 - pi*cos(phi) + cos(phi)/3 - 2*pi + 1/2)/(4*pi) + alpha*(z*(sin(2*pi*x/alpha) + sin(2*pi*y/alpha)) + 1)*(-gamma + z + tanh((b + 1)*(gamma - z))/tanh(gamma*(b + 1)))*(-pi*sin(phi)*sin(theta)/2 - sin(phi)*sin(theta)/3 + 2*pi*sin(phi)*cos(theta)/3 - pi*cos(phi) - cos(phi)/3 + 1/2 + 2*pi)/(4*pi)) + 2*pi*z*(sin(phi + theta) + 1)*(-gamma + z + tanh((b + 1)*(gamma - z))/tanh(gamma*(b + 1)))*sin(phi)*sin(theta)*cos(2*pi*y/alpha) + 2*pi*z*(sin(phi + theta) + 1)*(-gamma + z + tanh((b + 1)*(gamma - z))/tanh(gamma*(b + 1)))*sin(phi)*cos(theta)*cos(2*pi*x/alpha) + (alpha*(z*(sin(2*pi*x/alpha) + sin(2*pi*y/alpha)) + 1)*((-b - 1)*(-tanh((b + 1)*(gamma - z))**2 + 1)/tanh(gamma*(b + 1)) + 1)*(sin(phi + theta) + 1) + alpha*(sin(2*pi*x/alpha) + sin(2*pi*y/alpha))*(sin(phi + theta) + 1)*(-gamma + z + tanh((b + 1)*(gamma - z))/tanh(gamma*(b + 1))))*cos(phi), bc_expr=alpha*(-gamma + 1)*(sin(phi + theta) + 1), vsf_expr=(Delta + 1)/(4*pi), fd_flag=False, num_threads=32)\n",
      "\n",
      "Calling solve_rte_with_callbacks(, study_dir='/scratch/kelp-results/verify_asym_prod_a_tanhb_L_lin_vsf_64x64x10_scat_0_1_2_3_b_m05_0', study_name='verify_asym_prod_a_tanhb_L_lin_vsf_64x64x10_scat_0_1_2_3_b_m05_0', b=0.4084238652674521, num_scatters=2, param_dict={'alpha': 1, 'gamma': 1, 'b': 0.4084238652674521}, ns=64, nz=64, ntheta=10, nphi=10, rope_spacing=1, zmax=1, sol_expr=alpha*(z*(sin(2*pi*x/alpha) + sin(2*pi*y/alpha)) + 1)*(sin(phi + theta) + 1)*(-gamma + z + tanh((b + 1)*(gamma - z))/tanh(gamma*(b + 1))), abs_expr=sin(2*pi*x/alpha) + sin(2*pi*y/alpha) + tanh(-gamma + z) + 5, source_expr=alpha*(z*(sin(2*pi*x/alpha) + sin(2*pi*y/alpha)) + 1)*(sin(phi + theta) + 1)*(-gamma + z + tanh((b + 1)*(gamma - z))/tanh(gamma*(b + 1)))*(b + sin(2*pi*x/alpha) + sin(2*pi*y/alpha) + tanh(-gamma + z) + 5) - b*(alpha*(z*(sin(2*pi*x/alpha) + sin(2*pi*y/alpha)) + 1)*(-gamma + z + tanh((b + 1)*(gamma - z))/tanh(gamma*(b + 1)))*(sin(phi)*sin(theta)/3 + cos(phi)/3 + 1/2)/(4*pi) - alpha*(z*(sin(2*pi*x/alpha) + sin(2*pi*y/alpha)) + 1)*(-gamma + z + tanh((b + 1)*(gamma - z))/tanh(gamma*(b + 1)))*(-pi*sin(phi)*sin(theta)/2 - sin(phi)*sin(theta)/3 - cos(phi)/3 + 1/2)/(4*pi) - alpha*(z*(sin(2*pi*x/alpha) + sin(2*pi*y/alpha)) + 1)*(-gamma + z + tanh((b + 1)*(gamma - z))/tanh(gamma*(b + 1)))*(sin(phi)*sin(theta)/3 - 2*pi*sin(phi)*cos(theta)/3 - pi*cos(phi) + cos(phi)/3 - 2*pi + 1/2)/(4*pi) + alpha*(z*(sin(2*pi*x/alpha) + sin(2*pi*y/alpha)) + 1)*(-gamma + z + tanh((b + 1)*(gamma - z))/tanh(gamma*(b + 1)))*(-pi*sin(phi)*sin(theta)/2 - sin(phi)*sin(theta)/3 + 2*pi*sin(phi)*cos(theta)/3 - pi*cos(phi) - cos(phi)/3 + 1/2 + 2*pi)/(4*pi)) + 2*pi*z*(sin(phi + theta) + 1)*(-gamma + z + tanh((b + 1)*(gamma - z))/tanh(gamma*(b + 1)))*sin(phi)*sin(theta)*cos(2*pi*y/alpha) + 2*pi*z*(sin(phi + theta) + 1)*(-gamma + z + tanh((b + 1)*(gamma - z))/tanh(gamma*(b + 1)))*sin(phi)*cos(theta)*cos(2*pi*x/alpha) + (alpha*(z*(sin(2*pi*x/alpha) + sin(2*pi*y/alpha)) + 1)*((-b - 1)*(-tanh((b + 1)*(gamma - z))**2 + 1)/tanh(gamma*(b + 1)) + 1)*(sin(phi + theta) + 1) + alpha*(sin(2*pi*x/alpha) + sin(2*pi*y/alpha))*(sin(phi + theta) + 1)*(-gamma + z + tanh((b + 1)*(gamma - z))/tanh(gamma*(b + 1))))*cos(phi), bc_expr=alpha*(-gamma + 1)*(sin(phi + theta) + 1), vsf_expr=(Delta + 1)/(4*pi), fd_flag=False, num_threads=32)\n",
      "\n",
      "Calling solve_rte_with_callbacks(, study_dir='/scratch/kelp-results/verify_asym_prod_a_tanhb_L_lin_vsf_64x64x10_scat_0_1_2_3_b_m05_0', study_name='verify_asym_prod_a_tanhb_L_lin_vsf_64x64x10_scat_0_1_2_3_b_m05_0', b=0.4084238652674521, num_scatters=3, param_dict={'alpha': 1, 'gamma': 1, 'b': 0.4084238652674521}, ns=64, nz=64, ntheta=10, nphi=10, rope_spacing=1, zmax=1, sol_expr=alpha*(z*(sin(2*pi*x/alpha) + sin(2*pi*y/alpha)) + 1)*(sin(phi + theta) + 1)*(-gamma + z + tanh((b + 1)*(gamma - z))/tanh(gamma*(b + 1))), abs_expr=sin(2*pi*x/alpha) + sin(2*pi*y/alpha) + tanh(-gamma + z) + 5, source_expr=alpha*(z*(sin(2*pi*x/alpha) + sin(2*pi*y/alpha)) + 1)*(sin(phi + theta) + 1)*(-gamma + z + tanh((b + 1)*(gamma - z))/tanh(gamma*(b + 1)))*(b + sin(2*pi*x/alpha) + sin(2*pi*y/alpha) + tanh(-gamma + z) + 5) - b*(alpha*(z*(sin(2*pi*x/alpha) + sin(2*pi*y/alpha)) + 1)*(-gamma + z + tanh((b + 1)*(gamma - z))/tanh(gamma*(b + 1)))*(sin(phi)*sin(theta)/3 + cos(phi)/3 + 1/2)/(4*pi) - alpha*(z*(sin(2*pi*x/alpha) + sin(2*pi*y/alpha)) + 1)*(-gamma + z + tanh((b + 1)*(gamma - z))/tanh(gamma*(b + 1)))*(-pi*sin(phi)*sin(theta)/2 - sin(phi)*sin(theta)/3 - cos(phi)/3 + 1/2)/(4*pi) - alpha*(z*(sin(2*pi*x/alpha) + sin(2*pi*y/alpha)) + 1)*(-gamma + z + tanh((b + 1)*(gamma - z))/tanh(gamma*(b + 1)))*(sin(phi)*sin(theta)/3 - 2*pi*sin(phi)*cos(theta)/3 - pi*cos(phi) + cos(phi)/3 - 2*pi + 1/2)/(4*pi) + alpha*(z*(sin(2*pi*x/alpha) + sin(2*pi*y/alpha)) + 1)*(-gamma + z + tanh((b + 1)*(gamma - z))/tanh(gamma*(b + 1)))*(-pi*sin(phi)*sin(theta)/2 - sin(phi)*sin(theta)/3 + 2*pi*sin(phi)*cos(theta)/3 - pi*cos(phi) - cos(phi)/3 + 1/2 + 2*pi)/(4*pi)) + 2*pi*z*(sin(phi + theta) + 1)*(-gamma + z + tanh((b + 1)*(gamma - z))/tanh(gamma*(b + 1)))*sin(phi)*sin(theta)*cos(2*pi*y/alpha) + 2*pi*z*(sin(phi + theta) + 1)*(-gamma + z + tanh((b + 1)*(gamma - z))/tanh(gamma*(b + 1)))*sin(phi)*cos(theta)*cos(2*pi*x/alpha) + (alpha*(z*(sin(2*pi*x/alpha) + sin(2*pi*y/alpha)) + 1)*((-b - 1)*(-tanh((b + 1)*(gamma - z))**2 + 1)/tanh(gamma*(b + 1)) + 1)*(sin(phi + theta) + 1) + alpha*(sin(2*pi*x/alpha) + sin(2*pi*y/alpha))*(sin(phi + theta) + 1)*(-gamma + z + tanh((b + 1)*(gamma - z))/tanh(gamma*(b + 1))))*cos(phi), bc_expr=alpha*(-gamma + 1)*(sin(phi + theta) + 1), vsf_expr=(Delta + 1)/(4*pi), fd_flag=False, num_threads=32)\n",
      "\n",
      "Calling solve_rte_with_callbacks(, study_dir='/scratch/kelp-results/verify_asym_prod_a_tanhb_L_lin_vsf_64x64x10_scat_0_1_2_3_b_m05_0', study_name='verify_asym_prod_a_tanhb_L_lin_vsf_64x64x10_scat_0_1_2_3_b_m05_0', b=0.46415888336127786, num_scatters=0, param_dict={'alpha': 1, 'gamma': 1, 'b': 0.46415888336127786}, ns=64, nz=64, ntheta=10, nphi=10, rope_spacing=1, zmax=1, sol_expr=alpha*(z*(sin(2*pi*x/alpha) + sin(2*pi*y/alpha)) + 1)*(sin(phi + theta) + 1)*(-gamma + z + tanh((b + 1)*(gamma - z))/tanh(gamma*(b + 1))), abs_expr=sin(2*pi*x/alpha) + sin(2*pi*y/alpha) + tanh(-gamma + z) + 5, source_expr=alpha*(z*(sin(2*pi*x/alpha) + sin(2*pi*y/alpha)) + 1)*(sin(phi + theta) + 1)*(-gamma + z + tanh((b + 1)*(gamma - z))/tanh(gamma*(b + 1)))*(b + sin(2*pi*x/alpha) + sin(2*pi*y/alpha) + tanh(-gamma + z) + 5) - b*(alpha*(z*(sin(2*pi*x/alpha) + sin(2*pi*y/alpha)) + 1)*(-gamma + z + tanh((b + 1)*(gamma - z))/tanh(gamma*(b + 1)))*(sin(phi)*sin(theta)/3 + cos(phi)/3 + 1/2)/(4*pi) - alpha*(z*(sin(2*pi*x/alpha) + sin(2*pi*y/alpha)) + 1)*(-gamma + z + tanh((b + 1)*(gamma - z))/tanh(gamma*(b + 1)))*(-pi*sin(phi)*sin(theta)/2 - sin(phi)*sin(theta)/3 - cos(phi)/3 + 1/2)/(4*pi) - alpha*(z*(sin(2*pi*x/alpha) + sin(2*pi*y/alpha)) + 1)*(-gamma + z + tanh((b + 1)*(gamma - z))/tanh(gamma*(b + 1)))*(sin(phi)*sin(theta)/3 - 2*pi*sin(phi)*cos(theta)/3 - pi*cos(phi) + cos(phi)/3 - 2*pi + 1/2)/(4*pi) + alpha*(z*(sin(2*pi*x/alpha) + sin(2*pi*y/alpha)) + 1)*(-gamma + z + tanh((b + 1)*(gamma - z))/tanh(gamma*(b + 1)))*(-pi*sin(phi)*sin(theta)/2 - sin(phi)*sin(theta)/3 + 2*pi*sin(phi)*cos(theta)/3 - pi*cos(phi) - cos(phi)/3 + 1/2 + 2*pi)/(4*pi)) + 2*pi*z*(sin(phi + theta) + 1)*(-gamma + z + tanh((b + 1)*(gamma - z))/tanh(gamma*(b + 1)))*sin(phi)*sin(theta)*cos(2*pi*y/alpha) + 2*pi*z*(sin(phi + theta) + 1)*(-gamma + z + tanh((b + 1)*(gamma - z))/tanh(gamma*(b + 1)))*sin(phi)*cos(theta)*cos(2*pi*x/alpha) + (alpha*(z*(sin(2*pi*x/alpha) + sin(2*pi*y/alpha)) + 1)*((-b - 1)*(-tanh((b + 1)*(gamma - z))**2 + 1)/tanh(gamma*(b + 1)) + 1)*(sin(phi + theta) + 1) + alpha*(sin(2*pi*x/alpha) + sin(2*pi*y/alpha))*(sin(phi + theta) + 1)*(-gamma + z + tanh((b + 1)*(gamma - z))/tanh(gamma*(b + 1))))*cos(phi), bc_expr=alpha*(-gamma + 1)*(sin(phi + theta) + 1), vsf_expr=(Delta + 1)/(4*pi), fd_flag=False, num_threads=32)\n",
      "\n",
      "Calling solve_rte_with_callbacks(, study_dir='/scratch/kelp-results/verify_asym_prod_a_tanhb_L_lin_vsf_64x64x10_scat_0_1_2_3_b_m05_0', study_name='verify_asym_prod_a_tanhb_L_lin_vsf_64x64x10_scat_0_1_2_3_b_m05_0', b=0.46415888336127786, num_scatters=1, param_dict={'alpha': 1, 'gamma': 1, 'b': 0.46415888336127786}, ns=64, nz=64, ntheta=10, nphi=10, rope_spacing=1, zmax=1, sol_expr=alpha*(z*(sin(2*pi*x/alpha) + sin(2*pi*y/alpha)) + 1)*(sin(phi + theta) + 1)*(-gamma + z + tanh((b + 1)*(gamma - z))/tanh(gamma*(b + 1))), abs_expr=sin(2*pi*x/alpha) + sin(2*pi*y/alpha) + tanh(-gamma + z) + 5, source_expr=alpha*(z*(sin(2*pi*x/alpha) + sin(2*pi*y/alpha)) + 1)*(sin(phi + theta) + 1)*(-gamma + z + tanh((b + 1)*(gamma - z))/tanh(gamma*(b + 1)))*(b + sin(2*pi*x/alpha) + sin(2*pi*y/alpha) + tanh(-gamma + z) + 5) - b*(alpha*(z*(sin(2*pi*x/alpha) + sin(2*pi*y/alpha)) + 1)*(-gamma + z + tanh((b + 1)*(gamma - z))/tanh(gamma*(b + 1)))*(sin(phi)*sin(theta)/3 + cos(phi)/3 + 1/2)/(4*pi) - alpha*(z*(sin(2*pi*x/alpha) + sin(2*pi*y/alpha)) + 1)*(-gamma + z + tanh((b + 1)*(gamma - z))/tanh(gamma*(b + 1)))*(-pi*sin(phi)*sin(theta)/2 - sin(phi)*sin(theta)/3 - cos(phi)/3 + 1/2)/(4*pi) - alpha*(z*(sin(2*pi*x/alpha) + sin(2*pi*y/alpha)) + 1)*(-gamma + z + tanh((b + 1)*(gamma - z))/tanh(gamma*(b + 1)))*(sin(phi)*sin(theta)/3 - 2*pi*sin(phi)*cos(theta)/3 - pi*cos(phi) + cos(phi)/3 - 2*pi + 1/2)/(4*pi) + alpha*(z*(sin(2*pi*x/alpha) + sin(2*pi*y/alpha)) + 1)*(-gamma + z + tanh((b + 1)*(gamma - z))/tanh(gamma*(b + 1)))*(-pi*sin(phi)*sin(theta)/2 - sin(phi)*sin(theta)/3 + 2*pi*sin(phi)*cos(theta)/3 - pi*cos(phi) - cos(phi)/3 + 1/2 + 2*pi)/(4*pi)) + 2*pi*z*(sin(phi + theta) + 1)*(-gamma + z + tanh((b + 1)*(gamma - z))/tanh(gamma*(b + 1)))*sin(phi)*sin(theta)*cos(2*pi*y/alpha) + 2*pi*z*(sin(phi + theta) + 1)*(-gamma + z + tanh((b + 1)*(gamma - z))/tanh(gamma*(b + 1)))*sin(phi)*cos(theta)*cos(2*pi*x/alpha) + (alpha*(z*(sin(2*pi*x/alpha) + sin(2*pi*y/alpha)) + 1)*((-b - 1)*(-tanh((b + 1)*(gamma - z))**2 + 1)/tanh(gamma*(b + 1)) + 1)*(sin(phi + theta) + 1) + alpha*(sin(2*pi*x/alpha) + sin(2*pi*y/alpha))*(sin(phi + theta) + 1)*(-gamma + z + tanh((b + 1)*(gamma - z))/tanh(gamma*(b + 1))))*cos(phi), bc_expr=alpha*(-gamma + 1)*(sin(phi + theta) + 1), vsf_expr=(Delta + 1)/(4*pi), fd_flag=False, num_threads=32)\n",
      "\n",
      "Calling solve_rte_with_callbacks(, study_dir='/scratch/kelp-results/verify_asym_prod_a_tanhb_L_lin_vsf_64x64x10_scat_0_1_2_3_b_m05_0', study_name='verify_asym_prod_a_tanhb_L_lin_vsf_64x64x10_scat_0_1_2_3_b_m05_0', b=0.46415888336127786, num_scatters=2, param_dict={'alpha': 1, 'gamma': 1, 'b': 0.46415888336127786}, ns=64, nz=64, ntheta=10, nphi=10, rope_spacing=1, zmax=1, sol_expr=alpha*(z*(sin(2*pi*x/alpha) + sin(2*pi*y/alpha)) + 1)*(sin(phi + theta) + 1)*(-gamma + z + tanh((b + 1)*(gamma - z))/tanh(gamma*(b + 1))), abs_expr=sin(2*pi*x/alpha) + sin(2*pi*y/alpha) + tanh(-gamma + z) + 5, source_expr=alpha*(z*(sin(2*pi*x/alpha) + sin(2*pi*y/alpha)) + 1)*(sin(phi + theta) + 1)*(-gamma + z + tanh((b + 1)*(gamma - z))/tanh(gamma*(b + 1)))*(b + sin(2*pi*x/alpha) + sin(2*pi*y/alpha) + tanh(-gamma + z) + 5) - b*(alpha*(z*(sin(2*pi*x/alpha) + sin(2*pi*y/alpha)) + 1)*(-gamma + z + tanh((b + 1)*(gamma - z))/tanh(gamma*(b + 1)))*(sin(phi)*sin(theta)/3 + cos(phi)/3 + 1/2)/(4*pi) - alpha*(z*(sin(2*pi*x/alpha) + sin(2*pi*y/alpha)) + 1)*(-gamma + z + tanh((b + 1)*(gamma - z))/tanh(gamma*(b + 1)))*(-pi*sin(phi)*sin(theta)/2 - sin(phi)*sin(theta)/3 - cos(phi)/3 + 1/2)/(4*pi) - alpha*(z*(sin(2*pi*x/alpha) + sin(2*pi*y/alpha)) + 1)*(-gamma + z + tanh((b + 1)*(gamma - z))/tanh(gamma*(b + 1)))*(sin(phi)*sin(theta)/3 - 2*pi*sin(phi)*cos(theta)/3 - pi*cos(phi) + cos(phi)/3 - 2*pi + 1/2)/(4*pi) + alpha*(z*(sin(2*pi*x/alpha) + sin(2*pi*y/alpha)) + 1)*(-gamma + z + tanh((b + 1)*(gamma - z))/tanh(gamma*(b + 1)))*(-pi*sin(phi)*sin(theta)/2 - sin(phi)*sin(theta)/3 + 2*pi*sin(phi)*cos(theta)/3 - pi*cos(phi) - cos(phi)/3 + 1/2 + 2*pi)/(4*pi)) + 2*pi*z*(sin(phi + theta) + 1)*(-gamma + z + tanh((b + 1)*(gamma - z))/tanh(gamma*(b + 1)))*sin(phi)*sin(theta)*cos(2*pi*y/alpha) + 2*pi*z*(sin(phi + theta) + 1)*(-gamma + z + tanh((b + 1)*(gamma - z))/tanh(gamma*(b + 1)))*sin(phi)*cos(theta)*cos(2*pi*x/alpha) + (alpha*(z*(sin(2*pi*x/alpha) + sin(2*pi*y/alpha)) + 1)*((-b - 1)*(-tanh((b + 1)*(gamma - z))**2 + 1)/tanh(gamma*(b + 1)) + 1)*(sin(phi + theta) + 1) + alpha*(sin(2*pi*x/alpha) + sin(2*pi*y/alpha))*(sin(phi + theta) + 1)*(-gamma + z + tanh((b + 1)*(gamma - z))/tanh(gamma*(b + 1))))*cos(phi), bc_expr=alpha*(-gamma + 1)*(sin(phi + theta) + 1), vsf_expr=(Delta + 1)/(4*pi), fd_flag=False, num_threads=32)\n",
      "\n",
      "Calling solve_rte_with_callbacks(, study_dir='/scratch/kelp-results/verify_asym_prod_a_tanhb_L_lin_vsf_64x64x10_scat_0_1_2_3_b_m05_0', study_name='verify_asym_prod_a_tanhb_L_lin_vsf_64x64x10_scat_0_1_2_3_b_m05_0', b=0.46415888336127786, num_scatters=3, param_dict={'alpha': 1, 'gamma': 1, 'b': 0.46415888336127786}, ns=64, nz=64, ntheta=10, nphi=10, rope_spacing=1, zmax=1, sol_expr=alpha*(z*(sin(2*pi*x/alpha) + sin(2*pi*y/alpha)) + 1)*(sin(phi + theta) + 1)*(-gamma + z + tanh((b + 1)*(gamma - z))/tanh(gamma*(b + 1))), abs_expr=sin(2*pi*x/alpha) + sin(2*pi*y/alpha) + tanh(-gamma + z) + 5, source_expr=alpha*(z*(sin(2*pi*x/alpha) + sin(2*pi*y/alpha)) + 1)*(sin(phi + theta) + 1)*(-gamma + z + tanh((b + 1)*(gamma - z))/tanh(gamma*(b + 1)))*(b + sin(2*pi*x/alpha) + sin(2*pi*y/alpha) + tanh(-gamma + z) + 5) - b*(alpha*(z*(sin(2*pi*x/alpha) + sin(2*pi*y/alpha)) + 1)*(-gamma + z + tanh((b + 1)*(gamma - z))/tanh(gamma*(b + 1)))*(sin(phi)*sin(theta)/3 + cos(phi)/3 + 1/2)/(4*pi) - alpha*(z*(sin(2*pi*x/alpha) + sin(2*pi*y/alpha)) + 1)*(-gamma + z + tanh((b + 1)*(gamma - z))/tanh(gamma*(b + 1)))*(-pi*sin(phi)*sin(theta)/2 - sin(phi)*sin(theta)/3 - cos(phi)/3 + 1/2)/(4*pi) - alpha*(z*(sin(2*pi*x/alpha) + sin(2*pi*y/alpha)) + 1)*(-gamma + z + tanh((b + 1)*(gamma - z))/tanh(gamma*(b + 1)))*(sin(phi)*sin(theta)/3 - 2*pi*sin(phi)*cos(theta)/3 - pi*cos(phi) + cos(phi)/3 - 2*pi + 1/2)/(4*pi) + alpha*(z*(sin(2*pi*x/alpha) + sin(2*pi*y/alpha)) + 1)*(-gamma + z + tanh((b + 1)*(gamma - z))/tanh(gamma*(b + 1)))*(-pi*sin(phi)*sin(theta)/2 - sin(phi)*sin(theta)/3 + 2*pi*sin(phi)*cos(theta)/3 - pi*cos(phi) - cos(phi)/3 + 1/2 + 2*pi)/(4*pi)) + 2*pi*z*(sin(phi + theta) + 1)*(-gamma + z + tanh((b + 1)*(gamma - z))/tanh(gamma*(b + 1)))*sin(phi)*sin(theta)*cos(2*pi*y/alpha) + 2*pi*z*(sin(phi + theta) + 1)*(-gamma + z + tanh((b + 1)*(gamma - z))/tanh(gamma*(b + 1)))*sin(phi)*cos(theta)*cos(2*pi*x/alpha) + (alpha*(z*(sin(2*pi*x/alpha) + sin(2*pi*y/alpha)) + 1)*((-b - 1)*(-tanh((b + 1)*(gamma - z))**2 + 1)/tanh(gamma*(b + 1)) + 1)*(sin(phi + theta) + 1) + alpha*(sin(2*pi*x/alpha) + sin(2*pi*y/alpha))*(sin(phi + theta) + 1)*(-gamma + z + tanh((b + 1)*(gamma - z))/tanh(gamma*(b + 1))))*cos(phi), bc_expr=alpha*(-gamma + 1)*(sin(phi + theta) + 1), vsf_expr=(Delta + 1)/(4*pi), fd_flag=False, num_threads=32)\n",
      "\n",
      "Calling solve_rte_with_callbacks(, study_dir='/scratch/kelp-results/verify_asym_prod_a_tanhb_L_lin_vsf_64x64x10_scat_0_1_2_3_b_m05_0', study_name='verify_asym_prod_a_tanhb_L_lin_vsf_64x64x10_scat_0_1_2_3_b_m05_0', b=0.5274997063702618, num_scatters=0, param_dict={'alpha': 1, 'gamma': 1, 'b': 0.5274997063702618}, ns=64, nz=64, ntheta=10, nphi=10, rope_spacing=1, zmax=1, sol_expr=alpha*(z*(sin(2*pi*x/alpha) + sin(2*pi*y/alpha)) + 1)*(sin(phi + theta) + 1)*(-gamma + z + tanh((b + 1)*(gamma - z))/tanh(gamma*(b + 1))), abs_expr=sin(2*pi*x/alpha) + sin(2*pi*y/alpha) + tanh(-gamma + z) + 5, source_expr=alpha*(z*(sin(2*pi*x/alpha) + sin(2*pi*y/alpha)) + 1)*(sin(phi + theta) + 1)*(-gamma + z + tanh((b + 1)*(gamma - z))/tanh(gamma*(b + 1)))*(b + sin(2*pi*x/alpha) + sin(2*pi*y/alpha) + tanh(-gamma + z) + 5) - b*(alpha*(z*(sin(2*pi*x/alpha) + sin(2*pi*y/alpha)) + 1)*(-gamma + z + tanh((b + 1)*(gamma - z))/tanh(gamma*(b + 1)))*(sin(phi)*sin(theta)/3 + cos(phi)/3 + 1/2)/(4*pi) - alpha*(z*(sin(2*pi*x/alpha) + sin(2*pi*y/alpha)) + 1)*(-gamma + z + tanh((b + 1)*(gamma - z))/tanh(gamma*(b + 1)))*(-pi*sin(phi)*sin(theta)/2 - sin(phi)*sin(theta)/3 - cos(phi)/3 + 1/2)/(4*pi) - alpha*(z*(sin(2*pi*x/alpha) + sin(2*pi*y/alpha)) + 1)*(-gamma + z + tanh((b + 1)*(gamma - z))/tanh(gamma*(b + 1)))*(sin(phi)*sin(theta)/3 - 2*pi*sin(phi)*cos(theta)/3 - pi*cos(phi) + cos(phi)/3 - 2*pi + 1/2)/(4*pi) + alpha*(z*(sin(2*pi*x/alpha) + sin(2*pi*y/alpha)) + 1)*(-gamma + z + tanh((b + 1)*(gamma - z))/tanh(gamma*(b + 1)))*(-pi*sin(phi)*sin(theta)/2 - sin(phi)*sin(theta)/3 + 2*pi*sin(phi)*cos(theta)/3 - pi*cos(phi) - cos(phi)/3 + 1/2 + 2*pi)/(4*pi)) + 2*pi*z*(sin(phi + theta) + 1)*(-gamma + z + tanh((b + 1)*(gamma - z))/tanh(gamma*(b + 1)))*sin(phi)*sin(theta)*cos(2*pi*y/alpha) + 2*pi*z*(sin(phi + theta) + 1)*(-gamma + z + tanh((b + 1)*(gamma - z))/tanh(gamma*(b + 1)))*sin(phi)*cos(theta)*cos(2*pi*x/alpha) + (alpha*(z*(sin(2*pi*x/alpha) + sin(2*pi*y/alpha)) + 1)*((-b - 1)*(-tanh((b + 1)*(gamma - z))**2 + 1)/tanh(gamma*(b + 1)) + 1)*(sin(phi + theta) + 1) + alpha*(sin(2*pi*x/alpha) + sin(2*pi*y/alpha))*(sin(phi + theta) + 1)*(-gamma + z + tanh((b + 1)*(gamma - z))/tanh(gamma*(b + 1))))*cos(phi), bc_expr=alpha*(-gamma + 1)*(sin(phi + theta) + 1), vsf_expr=(Delta + 1)/(4*pi), fd_flag=False, num_threads=32)\n",
      "\n",
      "Calling solve_rte_with_callbacks(, study_dir='/scratch/kelp-results/verify_asym_prod_a_tanhb_L_lin_vsf_64x64x10_scat_0_1_2_3_b_m05_0', study_name='verify_asym_prod_a_tanhb_L_lin_vsf_64x64x10_scat_0_1_2_3_b_m05_0', b=0.5274997063702618, num_scatters=1, param_dict={'alpha': 1, 'gamma': 1, 'b': 0.5274997063702618}, ns=64, nz=64, ntheta=10, nphi=10, rope_spacing=1, zmax=1, sol_expr=alpha*(z*(sin(2*pi*x/alpha) + sin(2*pi*y/alpha)) + 1)*(sin(phi + theta) + 1)*(-gamma + z + tanh((b + 1)*(gamma - z))/tanh(gamma*(b + 1))), abs_expr=sin(2*pi*x/alpha) + sin(2*pi*y/alpha) + tanh(-gamma + z) + 5, source_expr=alpha*(z*(sin(2*pi*x/alpha) + sin(2*pi*y/alpha)) + 1)*(sin(phi + theta) + 1)*(-gamma + z + tanh((b + 1)*(gamma - z))/tanh(gamma*(b + 1)))*(b + sin(2*pi*x/alpha) + sin(2*pi*y/alpha) + tanh(-gamma + z) + 5) - b*(alpha*(z*(sin(2*pi*x/alpha) + sin(2*pi*y/alpha)) + 1)*(-gamma + z + tanh((b + 1)*(gamma - z))/tanh(gamma*(b + 1)))*(sin(phi)*sin(theta)/3 + cos(phi)/3 + 1/2)/(4*pi) - alpha*(z*(sin(2*pi*x/alpha) + sin(2*pi*y/alpha)) + 1)*(-gamma + z + tanh((b + 1)*(gamma - z))/tanh(gamma*(b + 1)))*(-pi*sin(phi)*sin(theta)/2 - sin(phi)*sin(theta)/3 - cos(phi)/3 + 1/2)/(4*pi) - alpha*(z*(sin(2*pi*x/alpha) + sin(2*pi*y/alpha)) + 1)*(-gamma + z + tanh((b + 1)*(gamma - z))/tanh(gamma*(b + 1)))*(sin(phi)*sin(theta)/3 - 2*pi*sin(phi)*cos(theta)/3 - pi*cos(phi) + cos(phi)/3 - 2*pi + 1/2)/(4*pi) + alpha*(z*(sin(2*pi*x/alpha) + sin(2*pi*y/alpha)) + 1)*(-gamma + z + tanh((b + 1)*(gamma - z))/tanh(gamma*(b + 1)))*(-pi*sin(phi)*sin(theta)/2 - sin(phi)*sin(theta)/3 + 2*pi*sin(phi)*cos(theta)/3 - pi*cos(phi) - cos(phi)/3 + 1/2 + 2*pi)/(4*pi)) + 2*pi*z*(sin(phi + theta) + 1)*(-gamma + z + tanh((b + 1)*(gamma - z))/tanh(gamma*(b + 1)))*sin(phi)*sin(theta)*cos(2*pi*y/alpha) + 2*pi*z*(sin(phi + theta) + 1)*(-gamma + z + tanh((b + 1)*(gamma - z))/tanh(gamma*(b + 1)))*sin(phi)*cos(theta)*cos(2*pi*x/alpha) + (alpha*(z*(sin(2*pi*x/alpha) + sin(2*pi*y/alpha)) + 1)*((-b - 1)*(-tanh((b + 1)*(gamma - z))**2 + 1)/tanh(gamma*(b + 1)) + 1)*(sin(phi + theta) + 1) + alpha*(sin(2*pi*x/alpha) + sin(2*pi*y/alpha))*(sin(phi + theta) + 1)*(-gamma + z + tanh((b + 1)*(gamma - z))/tanh(gamma*(b + 1))))*cos(phi), bc_expr=alpha*(-gamma + 1)*(sin(phi + theta) + 1), vsf_expr=(Delta + 1)/(4*pi), fd_flag=False, num_threads=32)\n",
      "\n",
      "Calling solve_rte_with_callbacks(, study_dir='/scratch/kelp-results/verify_asym_prod_a_tanhb_L_lin_vsf_64x64x10_scat_0_1_2_3_b_m05_0', study_name='verify_asym_prod_a_tanhb_L_lin_vsf_64x64x10_scat_0_1_2_3_b_m05_0', b=0.5274997063702618, num_scatters=2, param_dict={'alpha': 1, 'gamma': 1, 'b': 0.5274997063702618}, ns=64, nz=64, ntheta=10, nphi=10, rope_spacing=1, zmax=1, sol_expr=alpha*(z*(sin(2*pi*x/alpha) + sin(2*pi*y/alpha)) + 1)*(sin(phi + theta) + 1)*(-gamma + z + tanh((b + 1)*(gamma - z))/tanh(gamma*(b + 1))), abs_expr=sin(2*pi*x/alpha) + sin(2*pi*y/alpha) + tanh(-gamma + z) + 5, source_expr=alpha*(z*(sin(2*pi*x/alpha) + sin(2*pi*y/alpha)) + 1)*(sin(phi + theta) + 1)*(-gamma + z + tanh((b + 1)*(gamma - z))/tanh(gamma*(b + 1)))*(b + sin(2*pi*x/alpha) + sin(2*pi*y/alpha) + tanh(-gamma + z) + 5) - b*(alpha*(z*(sin(2*pi*x/alpha) + sin(2*pi*y/alpha)) + 1)*(-gamma + z + tanh((b + 1)*(gamma - z))/tanh(gamma*(b + 1)))*(sin(phi)*sin(theta)/3 + cos(phi)/3 + 1/2)/(4*pi) - alpha*(z*(sin(2*pi*x/alpha) + sin(2*pi*y/alpha)) + 1)*(-gamma + z + tanh((b + 1)*(gamma - z))/tanh(gamma*(b + 1)))*(-pi*sin(phi)*sin(theta)/2 - sin(phi)*sin(theta)/3 - cos(phi)/3 + 1/2)/(4*pi) - alpha*(z*(sin(2*pi*x/alpha) + sin(2*pi*y/alpha)) + 1)*(-gamma + z + tanh((b + 1)*(gamma - z))/tanh(gamma*(b + 1)))*(sin(phi)*sin(theta)/3 - 2*pi*sin(phi)*cos(theta)/3 - pi*cos(phi) + cos(phi)/3 - 2*pi + 1/2)/(4*pi) + alpha*(z*(sin(2*pi*x/alpha) + sin(2*pi*y/alpha)) + 1)*(-gamma + z + tanh((b + 1)*(gamma - z))/tanh(gamma*(b + 1)))*(-pi*sin(phi)*sin(theta)/2 - sin(phi)*sin(theta)/3 + 2*pi*sin(phi)*cos(theta)/3 - pi*cos(phi) - cos(phi)/3 + 1/2 + 2*pi)/(4*pi)) + 2*pi*z*(sin(phi + theta) + 1)*(-gamma + z + tanh((b + 1)*(gamma - z))/tanh(gamma*(b + 1)))*sin(phi)*sin(theta)*cos(2*pi*y/alpha) + 2*pi*z*(sin(phi + theta) + 1)*(-gamma + z + tanh((b + 1)*(gamma - z))/tanh(gamma*(b + 1)))*sin(phi)*cos(theta)*cos(2*pi*x/alpha) + (alpha*(z*(sin(2*pi*x/alpha) + sin(2*pi*y/alpha)) + 1)*((-b - 1)*(-tanh((b + 1)*(gamma - z))**2 + 1)/tanh(gamma*(b + 1)) + 1)*(sin(phi + theta) + 1) + alpha*(sin(2*pi*x/alpha) + sin(2*pi*y/alpha))*(sin(phi + theta) + 1)*(-gamma + z + tanh((b + 1)*(gamma - z))/tanh(gamma*(b + 1))))*cos(phi), bc_expr=alpha*(-gamma + 1)*(sin(phi + theta) + 1), vsf_expr=(Delta + 1)/(4*pi), fd_flag=False, num_threads=32)\n",
      "\n",
      "Calling solve_rte_with_callbacks(, study_dir='/scratch/kelp-results/verify_asym_prod_a_tanhb_L_lin_vsf_64x64x10_scat_0_1_2_3_b_m05_0', study_name='verify_asym_prod_a_tanhb_L_lin_vsf_64x64x10_scat_0_1_2_3_b_m05_0', b=0.5274997063702618, num_scatters=3, param_dict={'alpha': 1, 'gamma': 1, 'b': 0.5274997063702618}, ns=64, nz=64, ntheta=10, nphi=10, rope_spacing=1, zmax=1, sol_expr=alpha*(z*(sin(2*pi*x/alpha) + sin(2*pi*y/alpha)) + 1)*(sin(phi + theta) + 1)*(-gamma + z + tanh((b + 1)*(gamma - z))/tanh(gamma*(b + 1))), abs_expr=sin(2*pi*x/alpha) + sin(2*pi*y/alpha) + tanh(-gamma + z) + 5, source_expr=alpha*(z*(sin(2*pi*x/alpha) + sin(2*pi*y/alpha)) + 1)*(sin(phi + theta) + 1)*(-gamma + z + tanh((b + 1)*(gamma - z))/tanh(gamma*(b + 1)))*(b + sin(2*pi*x/alpha) + sin(2*pi*y/alpha) + tanh(-gamma + z) + 5) - b*(alpha*(z*(sin(2*pi*x/alpha) + sin(2*pi*y/alpha)) + 1)*(-gamma + z + tanh((b + 1)*(gamma - z))/tanh(gamma*(b + 1)))*(sin(phi)*sin(theta)/3 + cos(phi)/3 + 1/2)/(4*pi) - alpha*(z*(sin(2*pi*x/alpha) + sin(2*pi*y/alpha)) + 1)*(-gamma + z + tanh((b + 1)*(gamma - z))/tanh(gamma*(b + 1)))*(-pi*sin(phi)*sin(theta)/2 - sin(phi)*sin(theta)/3 - cos(phi)/3 + 1/2)/(4*pi) - alpha*(z*(sin(2*pi*x/alpha) + sin(2*pi*y/alpha)) + 1)*(-gamma + z + tanh((b + 1)*(gamma - z))/tanh(gamma*(b + 1)))*(sin(phi)*sin(theta)/3 - 2*pi*sin(phi)*cos(theta)/3 - pi*cos(phi) + cos(phi)/3 - 2*pi + 1/2)/(4*pi) + alpha*(z*(sin(2*pi*x/alpha) + sin(2*pi*y/alpha)) + 1)*(-gamma + z + tanh((b + 1)*(gamma - z))/tanh(gamma*(b + 1)))*(-pi*sin(phi)*sin(theta)/2 - sin(phi)*sin(theta)/3 + 2*pi*sin(phi)*cos(theta)/3 - pi*cos(phi) - cos(phi)/3 + 1/2 + 2*pi)/(4*pi)) + 2*pi*z*(sin(phi + theta) + 1)*(-gamma + z + tanh((b + 1)*(gamma - z))/tanh(gamma*(b + 1)))*sin(phi)*sin(theta)*cos(2*pi*y/alpha) + 2*pi*z*(sin(phi + theta) + 1)*(-gamma + z + tanh((b + 1)*(gamma - z))/tanh(gamma*(b + 1)))*sin(phi)*cos(theta)*cos(2*pi*x/alpha) + (alpha*(z*(sin(2*pi*x/alpha) + sin(2*pi*y/alpha)) + 1)*((-b - 1)*(-tanh((b + 1)*(gamma - z))**2 + 1)/tanh(gamma*(b + 1)) + 1)*(sin(phi + theta) + 1) + alpha*(sin(2*pi*x/alpha) + sin(2*pi*y/alpha))*(sin(phi + theta) + 1)*(-gamma + z + tanh((b + 1)*(gamma - z))/tanh(gamma*(b + 1))))*cos(phi), bc_expr=alpha*(-gamma + 1)*(sin(phi + theta) + 1), vsf_expr=(Delta + 1)/(4*pi), fd_flag=False, num_threads=32)\n",
      "\n",
      "Calling solve_rte_with_callbacks(, study_dir='/scratch/kelp-results/verify_asym_prod_a_tanhb_L_lin_vsf_64x64x10_scat_0_1_2_3_b_m05_0', study_name='verify_asym_prod_a_tanhb_L_lin_vsf_64x64x10_scat_0_1_2_3_b_m05_0', b=0.599484250318941, num_scatters=0, param_dict={'alpha': 1, 'gamma': 1, 'b': 0.599484250318941}, ns=64, nz=64, ntheta=10, nphi=10, rope_spacing=1, zmax=1, sol_expr=alpha*(z*(sin(2*pi*x/alpha) + sin(2*pi*y/alpha)) + 1)*(sin(phi + theta) + 1)*(-gamma + z + tanh((b + 1)*(gamma - z))/tanh(gamma*(b + 1))), abs_expr=sin(2*pi*x/alpha) + sin(2*pi*y/alpha) + tanh(-gamma + z) + 5, source_expr=alpha*(z*(sin(2*pi*x/alpha) + sin(2*pi*y/alpha)) + 1)*(sin(phi + theta) + 1)*(-gamma + z + tanh((b + 1)*(gamma - z))/tanh(gamma*(b + 1)))*(b + sin(2*pi*x/alpha) + sin(2*pi*y/alpha) + tanh(-gamma + z) + 5) - b*(alpha*(z*(sin(2*pi*x/alpha) + sin(2*pi*y/alpha)) + 1)*(-gamma + z + tanh((b + 1)*(gamma - z))/tanh(gamma*(b + 1)))*(sin(phi)*sin(theta)/3 + cos(phi)/3 + 1/2)/(4*pi) - alpha*(z*(sin(2*pi*x/alpha) + sin(2*pi*y/alpha)) + 1)*(-gamma + z + tanh((b + 1)*(gamma - z))/tanh(gamma*(b + 1)))*(-pi*sin(phi)*sin(theta)/2 - sin(phi)*sin(theta)/3 - cos(phi)/3 + 1/2)/(4*pi) - alpha*(z*(sin(2*pi*x/alpha) + sin(2*pi*y/alpha)) + 1)*(-gamma + z + tanh((b + 1)*(gamma - z))/tanh(gamma*(b + 1)))*(sin(phi)*sin(theta)/3 - 2*pi*sin(phi)*cos(theta)/3 - pi*cos(phi) + cos(phi)/3 - 2*pi + 1/2)/(4*pi) + alpha*(z*(sin(2*pi*x/alpha) + sin(2*pi*y/alpha)) + 1)*(-gamma + z + tanh((b + 1)*(gamma - z))/tanh(gamma*(b + 1)))*(-pi*sin(phi)*sin(theta)/2 - sin(phi)*sin(theta)/3 + 2*pi*sin(phi)*cos(theta)/3 - pi*cos(phi) - cos(phi)/3 + 1/2 + 2*pi)/(4*pi)) + 2*pi*z*(sin(phi + theta) + 1)*(-gamma + z + tanh((b + 1)*(gamma - z))/tanh(gamma*(b + 1)))*sin(phi)*sin(theta)*cos(2*pi*y/alpha) + 2*pi*z*(sin(phi + theta) + 1)*(-gamma + z + tanh((b + 1)*(gamma - z))/tanh(gamma*(b + 1)))*sin(phi)*cos(theta)*cos(2*pi*x/alpha) + (alpha*(z*(sin(2*pi*x/alpha) + sin(2*pi*y/alpha)) + 1)*((-b - 1)*(-tanh((b + 1)*(gamma - z))**2 + 1)/tanh(gamma*(b + 1)) + 1)*(sin(phi + theta) + 1) + alpha*(sin(2*pi*x/alpha) + sin(2*pi*y/alpha))*(sin(phi + theta) + 1)*(-gamma + z + tanh((b + 1)*(gamma - z))/tanh(gamma*(b + 1))))*cos(phi), bc_expr=alpha*(-gamma + 1)*(sin(phi + theta) + 1), vsf_expr=(Delta + 1)/(4*pi), fd_flag=False, num_threads=32)\n",
      "\n",
      "Calling solve_rte_with_callbacks(, study_dir='/scratch/kelp-results/verify_asym_prod_a_tanhb_L_lin_vsf_64x64x10_scat_0_1_2_3_b_m05_0', study_name='verify_asym_prod_a_tanhb_L_lin_vsf_64x64x10_scat_0_1_2_3_b_m05_0', b=0.599484250318941, num_scatters=1, param_dict={'alpha': 1, 'gamma': 1, 'b': 0.599484250318941}, ns=64, nz=64, ntheta=10, nphi=10, rope_spacing=1, zmax=1, sol_expr=alpha*(z*(sin(2*pi*x/alpha) + sin(2*pi*y/alpha)) + 1)*(sin(phi + theta) + 1)*(-gamma + z + tanh((b + 1)*(gamma - z))/tanh(gamma*(b + 1))), abs_expr=sin(2*pi*x/alpha) + sin(2*pi*y/alpha) + tanh(-gamma + z) + 5, source_expr=alpha*(z*(sin(2*pi*x/alpha) + sin(2*pi*y/alpha)) + 1)*(sin(phi + theta) + 1)*(-gamma + z + tanh((b + 1)*(gamma - z))/tanh(gamma*(b + 1)))*(b + sin(2*pi*x/alpha) + sin(2*pi*y/alpha) + tanh(-gamma + z) + 5) - b*(alpha*(z*(sin(2*pi*x/alpha) + sin(2*pi*y/alpha)) + 1)*(-gamma + z + tanh((b + 1)*(gamma - z))/tanh(gamma*(b + 1)))*(sin(phi)*sin(theta)/3 + cos(phi)/3 + 1/2)/(4*pi) - alpha*(z*(sin(2*pi*x/alpha) + sin(2*pi*y/alpha)) + 1)*(-gamma + z + tanh((b + 1)*(gamma - z))/tanh(gamma*(b + 1)))*(-pi*sin(phi)*sin(theta)/2 - sin(phi)*sin(theta)/3 - cos(phi)/3 + 1/2)/(4*pi) - alpha*(z*(sin(2*pi*x/alpha) + sin(2*pi*y/alpha)) + 1)*(-gamma + z + tanh((b + 1)*(gamma - z))/tanh(gamma*(b + 1)))*(sin(phi)*sin(theta)/3 - 2*pi*sin(phi)*cos(theta)/3 - pi*cos(phi) + cos(phi)/3 - 2*pi + 1/2)/(4*pi) + alpha*(z*(sin(2*pi*x/alpha) + sin(2*pi*y/alpha)) + 1)*(-gamma + z + tanh((b + 1)*(gamma - z))/tanh(gamma*(b + 1)))*(-pi*sin(phi)*sin(theta)/2 - sin(phi)*sin(theta)/3 + 2*pi*sin(phi)*cos(theta)/3 - pi*cos(phi) - cos(phi)/3 + 1/2 + 2*pi)/(4*pi)) + 2*pi*z*(sin(phi + theta) + 1)*(-gamma + z + tanh((b + 1)*(gamma - z))/tanh(gamma*(b + 1)))*sin(phi)*sin(theta)*cos(2*pi*y/alpha) + 2*pi*z*(sin(phi + theta) + 1)*(-gamma + z + tanh((b + 1)*(gamma - z))/tanh(gamma*(b + 1)))*sin(phi)*cos(theta)*cos(2*pi*x/alpha) + (alpha*(z*(sin(2*pi*x/alpha) + sin(2*pi*y/alpha)) + 1)*((-b - 1)*(-tanh((b + 1)*(gamma - z))**2 + 1)/tanh(gamma*(b + 1)) + 1)*(sin(phi + theta) + 1) + alpha*(sin(2*pi*x/alpha) + sin(2*pi*y/alpha))*(sin(phi + theta) + 1)*(-gamma + z + tanh((b + 1)*(gamma - z))/tanh(gamma*(b + 1))))*cos(phi), bc_expr=alpha*(-gamma + 1)*(sin(phi + theta) + 1), vsf_expr=(Delta + 1)/(4*pi), fd_flag=False, num_threads=32)\n",
      "\n",
      "Calling solve_rte_with_callbacks(, study_dir='/scratch/kelp-results/verify_asym_prod_a_tanhb_L_lin_vsf_64x64x10_scat_0_1_2_3_b_m05_0', study_name='verify_asym_prod_a_tanhb_L_lin_vsf_64x64x10_scat_0_1_2_3_b_m05_0', b=0.599484250318941, num_scatters=2, param_dict={'alpha': 1, 'gamma': 1, 'b': 0.599484250318941}, ns=64, nz=64, ntheta=10, nphi=10, rope_spacing=1, zmax=1, sol_expr=alpha*(z*(sin(2*pi*x/alpha) + sin(2*pi*y/alpha)) + 1)*(sin(phi + theta) + 1)*(-gamma + z + tanh((b + 1)*(gamma - z))/tanh(gamma*(b + 1))), abs_expr=sin(2*pi*x/alpha) + sin(2*pi*y/alpha) + tanh(-gamma + z) + 5, source_expr=alpha*(z*(sin(2*pi*x/alpha) + sin(2*pi*y/alpha)) + 1)*(sin(phi + theta) + 1)*(-gamma + z + tanh((b + 1)*(gamma - z))/tanh(gamma*(b + 1)))*(b + sin(2*pi*x/alpha) + sin(2*pi*y/alpha) + tanh(-gamma + z) + 5) - b*(alpha*(z*(sin(2*pi*x/alpha) + sin(2*pi*y/alpha)) + 1)*(-gamma + z + tanh((b + 1)*(gamma - z))/tanh(gamma*(b + 1)))*(sin(phi)*sin(theta)/3 + cos(phi)/3 + 1/2)/(4*pi) - alpha*(z*(sin(2*pi*x/alpha) + sin(2*pi*y/alpha)) + 1)*(-gamma + z + tanh((b + 1)*(gamma - z))/tanh(gamma*(b + 1)))*(-pi*sin(phi)*sin(theta)/2 - sin(phi)*sin(theta)/3 - cos(phi)/3 + 1/2)/(4*pi) - alpha*(z*(sin(2*pi*x/alpha) + sin(2*pi*y/alpha)) + 1)*(-gamma + z + tanh((b + 1)*(gamma - z))/tanh(gamma*(b + 1)))*(sin(phi)*sin(theta)/3 - 2*pi*sin(phi)*cos(theta)/3 - pi*cos(phi) + cos(phi)/3 - 2*pi + 1/2)/(4*pi) + alpha*(z*(sin(2*pi*x/alpha) + sin(2*pi*y/alpha)) + 1)*(-gamma + z + tanh((b + 1)*(gamma - z))/tanh(gamma*(b + 1)))*(-pi*sin(phi)*sin(theta)/2 - sin(phi)*sin(theta)/3 + 2*pi*sin(phi)*cos(theta)/3 - pi*cos(phi) - cos(phi)/3 + 1/2 + 2*pi)/(4*pi)) + 2*pi*z*(sin(phi + theta) + 1)*(-gamma + z + tanh((b + 1)*(gamma - z))/tanh(gamma*(b + 1)))*sin(phi)*sin(theta)*cos(2*pi*y/alpha) + 2*pi*z*(sin(phi + theta) + 1)*(-gamma + z + tanh((b + 1)*(gamma - z))/tanh(gamma*(b + 1)))*sin(phi)*cos(theta)*cos(2*pi*x/alpha) + (alpha*(z*(sin(2*pi*x/alpha) + sin(2*pi*y/alpha)) + 1)*((-b - 1)*(-tanh((b + 1)*(gamma - z))**2 + 1)/tanh(gamma*(b + 1)) + 1)*(sin(phi + theta) + 1) + alpha*(sin(2*pi*x/alpha) + sin(2*pi*y/alpha))*(sin(phi + theta) + 1)*(-gamma + z + tanh((b + 1)*(gamma - z))/tanh(gamma*(b + 1))))*cos(phi), bc_expr=alpha*(-gamma + 1)*(sin(phi + theta) + 1), vsf_expr=(Delta + 1)/(4*pi), fd_flag=False, num_threads=32)\n",
      "\n",
      "Calling solve_rte_with_callbacks(, study_dir='/scratch/kelp-results/verify_asym_prod_a_tanhb_L_lin_vsf_64x64x10_scat_0_1_2_3_b_m05_0', study_name='verify_asym_prod_a_tanhb_L_lin_vsf_64x64x10_scat_0_1_2_3_b_m05_0', b=0.599484250318941, num_scatters=3, param_dict={'alpha': 1, 'gamma': 1, 'b': 0.599484250318941}, ns=64, nz=64, ntheta=10, nphi=10, rope_spacing=1, zmax=1, sol_expr=alpha*(z*(sin(2*pi*x/alpha) + sin(2*pi*y/alpha)) + 1)*(sin(phi + theta) + 1)*(-gamma + z + tanh((b + 1)*(gamma - z))/tanh(gamma*(b + 1))), abs_expr=sin(2*pi*x/alpha) + sin(2*pi*y/alpha) + tanh(-gamma + z) + 5, source_expr=alpha*(z*(sin(2*pi*x/alpha) + sin(2*pi*y/alpha)) + 1)*(sin(phi + theta) + 1)*(-gamma + z + tanh((b + 1)*(gamma - z))/tanh(gamma*(b + 1)))*(b + sin(2*pi*x/alpha) + sin(2*pi*y/alpha) + tanh(-gamma + z) + 5) - b*(alpha*(z*(sin(2*pi*x/alpha) + sin(2*pi*y/alpha)) + 1)*(-gamma + z + tanh((b + 1)*(gamma - z))/tanh(gamma*(b + 1)))*(sin(phi)*sin(theta)/3 + cos(phi)/3 + 1/2)/(4*pi) - alpha*(z*(sin(2*pi*x/alpha) + sin(2*pi*y/alpha)) + 1)*(-gamma + z + tanh((b + 1)*(gamma - z))/tanh(gamma*(b + 1)))*(-pi*sin(phi)*sin(theta)/2 - sin(phi)*sin(theta)/3 - cos(phi)/3 + 1/2)/(4*pi) - alpha*(z*(sin(2*pi*x/alpha) + sin(2*pi*y/alpha)) + 1)*(-gamma + z + tanh((b + 1)*(gamma - z))/tanh(gamma*(b + 1)))*(sin(phi)*sin(theta)/3 - 2*pi*sin(phi)*cos(theta)/3 - pi*cos(phi) + cos(phi)/3 - 2*pi + 1/2)/(4*pi) + alpha*(z*(sin(2*pi*x/alpha) + sin(2*pi*y/alpha)) + 1)*(-gamma + z + tanh((b + 1)*(gamma - z))/tanh(gamma*(b + 1)))*(-pi*sin(phi)*sin(theta)/2 - sin(phi)*sin(theta)/3 + 2*pi*sin(phi)*cos(theta)/3 - pi*cos(phi) - cos(phi)/3 + 1/2 + 2*pi)/(4*pi)) + 2*pi*z*(sin(phi + theta) + 1)*(-gamma + z + tanh((b + 1)*(gamma - z))/tanh(gamma*(b + 1)))*sin(phi)*sin(theta)*cos(2*pi*y/alpha) + 2*pi*z*(sin(phi + theta) + 1)*(-gamma + z + tanh((b + 1)*(gamma - z))/tanh(gamma*(b + 1)))*sin(phi)*cos(theta)*cos(2*pi*x/alpha) + (alpha*(z*(sin(2*pi*x/alpha) + sin(2*pi*y/alpha)) + 1)*((-b - 1)*(-tanh((b + 1)*(gamma - z))**2 + 1)/tanh(gamma*(b + 1)) + 1)*(sin(phi + theta) + 1) + alpha*(sin(2*pi*x/alpha) + sin(2*pi*y/alpha))*(sin(phi + theta) + 1)*(-gamma + z + tanh((b + 1)*(gamma - z))/tanh(gamma*(b + 1))))*cos(phi), bc_expr=alpha*(-gamma + 1)*(sin(phi + theta) + 1), vsf_expr=(Delta + 1)/(4*pi), fd_flag=False, num_threads=32)\n",
      "\n",
      "Calling solve_rte_with_callbacks(, study_dir='/scratch/kelp-results/verify_asym_prod_a_tanhb_L_lin_vsf_64x64x10_scat_0_1_2_3_b_m05_0', study_name='verify_asym_prod_a_tanhb_L_lin_vsf_64x64x10_scat_0_1_2_3_b_m05_0', b=0.6812920690579612, num_scatters=0, param_dict={'alpha': 1, 'gamma': 1, 'b': 0.6812920690579612}, ns=64, nz=64, ntheta=10, nphi=10, rope_spacing=1, zmax=1, sol_expr=alpha*(z*(sin(2*pi*x/alpha) + sin(2*pi*y/alpha)) + 1)*(sin(phi + theta) + 1)*(-gamma + z + tanh((b + 1)*(gamma - z))/tanh(gamma*(b + 1))), abs_expr=sin(2*pi*x/alpha) + sin(2*pi*y/alpha) + tanh(-gamma + z) + 5, source_expr=alpha*(z*(sin(2*pi*x/alpha) + sin(2*pi*y/alpha)) + 1)*(sin(phi + theta) + 1)*(-gamma + z + tanh((b + 1)*(gamma - z))/tanh(gamma*(b + 1)))*(b + sin(2*pi*x/alpha) + sin(2*pi*y/alpha) + tanh(-gamma + z) + 5) - b*(alpha*(z*(sin(2*pi*x/alpha) + sin(2*pi*y/alpha)) + 1)*(-gamma + z + tanh((b + 1)*(gamma - z))/tanh(gamma*(b + 1)))*(sin(phi)*sin(theta)/3 + cos(phi)/3 + 1/2)/(4*pi) - alpha*(z*(sin(2*pi*x/alpha) + sin(2*pi*y/alpha)) + 1)*(-gamma + z + tanh((b + 1)*(gamma - z))/tanh(gamma*(b + 1)))*(-pi*sin(phi)*sin(theta)/2 - sin(phi)*sin(theta)/3 - cos(phi)/3 + 1/2)/(4*pi) - alpha*(z*(sin(2*pi*x/alpha) + sin(2*pi*y/alpha)) + 1)*(-gamma + z + tanh((b + 1)*(gamma - z))/tanh(gamma*(b + 1)))*(sin(phi)*sin(theta)/3 - 2*pi*sin(phi)*cos(theta)/3 - pi*cos(phi) + cos(phi)/3 - 2*pi + 1/2)/(4*pi) + alpha*(z*(sin(2*pi*x/alpha) + sin(2*pi*y/alpha)) + 1)*(-gamma + z + tanh((b + 1)*(gamma - z))/tanh(gamma*(b + 1)))*(-pi*sin(phi)*sin(theta)/2 - sin(phi)*sin(theta)/3 + 2*pi*sin(phi)*cos(theta)/3 - pi*cos(phi) - cos(phi)/3 + 1/2 + 2*pi)/(4*pi)) + 2*pi*z*(sin(phi + theta) + 1)*(-gamma + z + tanh((b + 1)*(gamma - z))/tanh(gamma*(b + 1)))*sin(phi)*sin(theta)*cos(2*pi*y/alpha) + 2*pi*z*(sin(phi + theta) + 1)*(-gamma + z + tanh((b + 1)*(gamma - z))/tanh(gamma*(b + 1)))*sin(phi)*cos(theta)*cos(2*pi*x/alpha) + (alpha*(z*(sin(2*pi*x/alpha) + sin(2*pi*y/alpha)) + 1)*((-b - 1)*(-tanh((b + 1)*(gamma - z))**2 + 1)/tanh(gamma*(b + 1)) + 1)*(sin(phi + theta) + 1) + alpha*(sin(2*pi*x/alpha) + sin(2*pi*y/alpha))*(sin(phi + theta) + 1)*(-gamma + z + tanh((b + 1)*(gamma - z))/tanh(gamma*(b + 1))))*cos(phi), bc_expr=alpha*(-gamma + 1)*(sin(phi + theta) + 1), vsf_expr=(Delta + 1)/(4*pi), fd_flag=False, num_threads=32)\n",
      "\n",
      "Calling solve_rte_with_callbacks(, study_dir='/scratch/kelp-results/verify_asym_prod_a_tanhb_L_lin_vsf_64x64x10_scat_0_1_2_3_b_m05_0', study_name='verify_asym_prod_a_tanhb_L_lin_vsf_64x64x10_scat_0_1_2_3_b_m05_0', b=0.6812920690579612, num_scatters=1, param_dict={'alpha': 1, 'gamma': 1, 'b': 0.6812920690579612}, ns=64, nz=64, ntheta=10, nphi=10, rope_spacing=1, zmax=1, sol_expr=alpha*(z*(sin(2*pi*x/alpha) + sin(2*pi*y/alpha)) + 1)*(sin(phi + theta) + 1)*(-gamma + z + tanh((b + 1)*(gamma - z))/tanh(gamma*(b + 1))), abs_expr=sin(2*pi*x/alpha) + sin(2*pi*y/alpha) + tanh(-gamma + z) + 5, source_expr=alpha*(z*(sin(2*pi*x/alpha) + sin(2*pi*y/alpha)) + 1)*(sin(phi + theta) + 1)*(-gamma + z + tanh((b + 1)*(gamma - z))/tanh(gamma*(b + 1)))*(b + sin(2*pi*x/alpha) + sin(2*pi*y/alpha) + tanh(-gamma + z) + 5) - b*(alpha*(z*(sin(2*pi*x/alpha) + sin(2*pi*y/alpha)) + 1)*(-gamma + z + tanh((b + 1)*(gamma - z))/tanh(gamma*(b + 1)))*(sin(phi)*sin(theta)/3 + cos(phi)/3 + 1/2)/(4*pi) - alpha*(z*(sin(2*pi*x/alpha) + sin(2*pi*y/alpha)) + 1)*(-gamma + z + tanh((b + 1)*(gamma - z))/tanh(gamma*(b + 1)))*(-pi*sin(phi)*sin(theta)/2 - sin(phi)*sin(theta)/3 - cos(phi)/3 + 1/2)/(4*pi) - alpha*(z*(sin(2*pi*x/alpha) + sin(2*pi*y/alpha)) + 1)*(-gamma + z + tanh((b + 1)*(gamma - z))/tanh(gamma*(b + 1)))*(sin(phi)*sin(theta)/3 - 2*pi*sin(phi)*cos(theta)/3 - pi*cos(phi) + cos(phi)/3 - 2*pi + 1/2)/(4*pi) + alpha*(z*(sin(2*pi*x/alpha) + sin(2*pi*y/alpha)) + 1)*(-gamma + z + tanh((b + 1)*(gamma - z))/tanh(gamma*(b + 1)))*(-pi*sin(phi)*sin(theta)/2 - sin(phi)*sin(theta)/3 + 2*pi*sin(phi)*cos(theta)/3 - pi*cos(phi) - cos(phi)/3 + 1/2 + 2*pi)/(4*pi)) + 2*pi*z*(sin(phi + theta) + 1)*(-gamma + z + tanh((b + 1)*(gamma - z))/tanh(gamma*(b + 1)))*sin(phi)*sin(theta)*cos(2*pi*y/alpha) + 2*pi*z*(sin(phi + theta) + 1)*(-gamma + z + tanh((b + 1)*(gamma - z))/tanh(gamma*(b + 1)))*sin(phi)*cos(theta)*cos(2*pi*x/alpha) + (alpha*(z*(sin(2*pi*x/alpha) + sin(2*pi*y/alpha)) + 1)*((-b - 1)*(-tanh((b + 1)*(gamma - z))**2 + 1)/tanh(gamma*(b + 1)) + 1)*(sin(phi + theta) + 1) + alpha*(sin(2*pi*x/alpha) + sin(2*pi*y/alpha))*(sin(phi + theta) + 1)*(-gamma + z + tanh((b + 1)*(gamma - z))/tanh(gamma*(b + 1))))*cos(phi), bc_expr=alpha*(-gamma + 1)*(sin(phi + theta) + 1), vsf_expr=(Delta + 1)/(4*pi), fd_flag=False, num_threads=32)\n",
      "\n",
      "Calling solve_rte_with_callbacks(, study_dir='/scratch/kelp-results/verify_asym_prod_a_tanhb_L_lin_vsf_64x64x10_scat_0_1_2_3_b_m05_0', study_name='verify_asym_prod_a_tanhb_L_lin_vsf_64x64x10_scat_0_1_2_3_b_m05_0', b=0.6812920690579612, num_scatters=2, param_dict={'alpha': 1, 'gamma': 1, 'b': 0.6812920690579612}, ns=64, nz=64, ntheta=10, nphi=10, rope_spacing=1, zmax=1, sol_expr=alpha*(z*(sin(2*pi*x/alpha) + sin(2*pi*y/alpha)) + 1)*(sin(phi + theta) + 1)*(-gamma + z + tanh((b + 1)*(gamma - z))/tanh(gamma*(b + 1))), abs_expr=sin(2*pi*x/alpha) + sin(2*pi*y/alpha) + tanh(-gamma + z) + 5, source_expr=alpha*(z*(sin(2*pi*x/alpha) + sin(2*pi*y/alpha)) + 1)*(sin(phi + theta) + 1)*(-gamma + z + tanh((b + 1)*(gamma - z))/tanh(gamma*(b + 1)))*(b + sin(2*pi*x/alpha) + sin(2*pi*y/alpha) + tanh(-gamma + z) + 5) - b*(alpha*(z*(sin(2*pi*x/alpha) + sin(2*pi*y/alpha)) + 1)*(-gamma + z + tanh((b + 1)*(gamma - z))/tanh(gamma*(b + 1)))*(sin(phi)*sin(theta)/3 + cos(phi)/3 + 1/2)/(4*pi) - alpha*(z*(sin(2*pi*x/alpha) + sin(2*pi*y/alpha)) + 1)*(-gamma + z + tanh((b + 1)*(gamma - z))/tanh(gamma*(b + 1)))*(-pi*sin(phi)*sin(theta)/2 - sin(phi)*sin(theta)/3 - cos(phi)/3 + 1/2)/(4*pi) - alpha*(z*(sin(2*pi*x/alpha) + sin(2*pi*y/alpha)) + 1)*(-gamma + z + tanh((b + 1)*(gamma - z))/tanh(gamma*(b + 1)))*(sin(phi)*sin(theta)/3 - 2*pi*sin(phi)*cos(theta)/3 - pi*cos(phi) + cos(phi)/3 - 2*pi + 1/2)/(4*pi) + alpha*(z*(sin(2*pi*x/alpha) + sin(2*pi*y/alpha)) + 1)*(-gamma + z + tanh((b + 1)*(gamma - z))/tanh(gamma*(b + 1)))*(-pi*sin(phi)*sin(theta)/2 - sin(phi)*sin(theta)/3 + 2*pi*sin(phi)*cos(theta)/3 - pi*cos(phi) - cos(phi)/3 + 1/2 + 2*pi)/(4*pi)) + 2*pi*z*(sin(phi + theta) + 1)*(-gamma + z + tanh((b + 1)*(gamma - z))/tanh(gamma*(b + 1)))*sin(phi)*sin(theta)*cos(2*pi*y/alpha) + 2*pi*z*(sin(phi + theta) + 1)*(-gamma + z + tanh((b + 1)*(gamma - z))/tanh(gamma*(b + 1)))*sin(phi)*cos(theta)*cos(2*pi*x/alpha) + (alpha*(z*(sin(2*pi*x/alpha) + sin(2*pi*y/alpha)) + 1)*((-b - 1)*(-tanh((b + 1)*(gamma - z))**2 + 1)/tanh(gamma*(b + 1)) + 1)*(sin(phi + theta) + 1) + alpha*(sin(2*pi*x/alpha) + sin(2*pi*y/alpha))*(sin(phi + theta) + 1)*(-gamma + z + tanh((b + 1)*(gamma - z))/tanh(gamma*(b + 1))))*cos(phi), bc_expr=alpha*(-gamma + 1)*(sin(phi + theta) + 1), vsf_expr=(Delta + 1)/(4*pi), fd_flag=False, num_threads=32)\n",
      "\n",
      "Calling solve_rte_with_callbacks(, study_dir='/scratch/kelp-results/verify_asym_prod_a_tanhb_L_lin_vsf_64x64x10_scat_0_1_2_3_b_m05_0', study_name='verify_asym_prod_a_tanhb_L_lin_vsf_64x64x10_scat_0_1_2_3_b_m05_0', b=0.6812920690579612, num_scatters=3, param_dict={'alpha': 1, 'gamma': 1, 'b': 0.6812920690579612}, ns=64, nz=64, ntheta=10, nphi=10, rope_spacing=1, zmax=1, sol_expr=alpha*(z*(sin(2*pi*x/alpha) + sin(2*pi*y/alpha)) + 1)*(sin(phi + theta) + 1)*(-gamma + z + tanh((b + 1)*(gamma - z))/tanh(gamma*(b + 1))), abs_expr=sin(2*pi*x/alpha) + sin(2*pi*y/alpha) + tanh(-gamma + z) + 5, source_expr=alpha*(z*(sin(2*pi*x/alpha) + sin(2*pi*y/alpha)) + 1)*(sin(phi + theta) + 1)*(-gamma + z + tanh((b + 1)*(gamma - z))/tanh(gamma*(b + 1)))*(b + sin(2*pi*x/alpha) + sin(2*pi*y/alpha) + tanh(-gamma + z) + 5) - b*(alpha*(z*(sin(2*pi*x/alpha) + sin(2*pi*y/alpha)) + 1)*(-gamma + z + tanh((b + 1)*(gamma - z))/tanh(gamma*(b + 1)))*(sin(phi)*sin(theta)/3 + cos(phi)/3 + 1/2)/(4*pi) - alpha*(z*(sin(2*pi*x/alpha) + sin(2*pi*y/alpha)) + 1)*(-gamma + z + tanh((b + 1)*(gamma - z))/tanh(gamma*(b + 1)))*(-pi*sin(phi)*sin(theta)/2 - sin(phi)*sin(theta)/3 - cos(phi)/3 + 1/2)/(4*pi) - alpha*(z*(sin(2*pi*x/alpha) + sin(2*pi*y/alpha)) + 1)*(-gamma + z + tanh((b + 1)*(gamma - z))/tanh(gamma*(b + 1)))*(sin(phi)*sin(theta)/3 - 2*pi*sin(phi)*cos(theta)/3 - pi*cos(phi) + cos(phi)/3 - 2*pi + 1/2)/(4*pi) + alpha*(z*(sin(2*pi*x/alpha) + sin(2*pi*y/alpha)) + 1)*(-gamma + z + tanh((b + 1)*(gamma - z))/tanh(gamma*(b + 1)))*(-pi*sin(phi)*sin(theta)/2 - sin(phi)*sin(theta)/3 + 2*pi*sin(phi)*cos(theta)/3 - pi*cos(phi) - cos(phi)/3 + 1/2 + 2*pi)/(4*pi)) + 2*pi*z*(sin(phi + theta) + 1)*(-gamma + z + tanh((b + 1)*(gamma - z))/tanh(gamma*(b + 1)))*sin(phi)*sin(theta)*cos(2*pi*y/alpha) + 2*pi*z*(sin(phi + theta) + 1)*(-gamma + z + tanh((b + 1)*(gamma - z))/tanh(gamma*(b + 1)))*sin(phi)*cos(theta)*cos(2*pi*x/alpha) + (alpha*(z*(sin(2*pi*x/alpha) + sin(2*pi*y/alpha)) + 1)*((-b - 1)*(-tanh((b + 1)*(gamma - z))**2 + 1)/tanh(gamma*(b + 1)) + 1)*(sin(phi + theta) + 1) + alpha*(sin(2*pi*x/alpha) + sin(2*pi*y/alpha))*(sin(phi + theta) + 1)*(-gamma + z + tanh((b + 1)*(gamma - z))/tanh(gamma*(b + 1))))*cos(phi), bc_expr=alpha*(-gamma + 1)*(sin(phi + theta) + 1), vsf_expr=(Delta + 1)/(4*pi), fd_flag=False, num_threads=32)\n",
      "\n",
      "Calling solve_rte_with_callbacks(, study_dir='/scratch/kelp-results/verify_asym_prod_a_tanhb_L_lin_vsf_64x64x10_scat_0_1_2_3_b_m05_0', study_name='verify_asym_prod_a_tanhb_L_lin_vsf_64x64x10_scat_0_1_2_3_b_m05_0', b=0.774263682681127, num_scatters=0, param_dict={'alpha': 1, 'gamma': 1, 'b': 0.774263682681127}, ns=64, nz=64, ntheta=10, nphi=10, rope_spacing=1, zmax=1, sol_expr=alpha*(z*(sin(2*pi*x/alpha) + sin(2*pi*y/alpha)) + 1)*(sin(phi + theta) + 1)*(-gamma + z + tanh((b + 1)*(gamma - z))/tanh(gamma*(b + 1))), abs_expr=sin(2*pi*x/alpha) + sin(2*pi*y/alpha) + tanh(-gamma + z) + 5, source_expr=alpha*(z*(sin(2*pi*x/alpha) + sin(2*pi*y/alpha)) + 1)*(sin(phi + theta) + 1)*(-gamma + z + tanh((b + 1)*(gamma - z))/tanh(gamma*(b + 1)))*(b + sin(2*pi*x/alpha) + sin(2*pi*y/alpha) + tanh(-gamma + z) + 5) - b*(alpha*(z*(sin(2*pi*x/alpha) + sin(2*pi*y/alpha)) + 1)*(-gamma + z + tanh((b + 1)*(gamma - z))/tanh(gamma*(b + 1)))*(sin(phi)*sin(theta)/3 + cos(phi)/3 + 1/2)/(4*pi) - alpha*(z*(sin(2*pi*x/alpha) + sin(2*pi*y/alpha)) + 1)*(-gamma + z + tanh((b + 1)*(gamma - z))/tanh(gamma*(b + 1)))*(-pi*sin(phi)*sin(theta)/2 - sin(phi)*sin(theta)/3 - cos(phi)/3 + 1/2)/(4*pi) - alpha*(z*(sin(2*pi*x/alpha) + sin(2*pi*y/alpha)) + 1)*(-gamma + z + tanh((b + 1)*(gamma - z))/tanh(gamma*(b + 1)))*(sin(phi)*sin(theta)/3 - 2*pi*sin(phi)*cos(theta)/3 - pi*cos(phi) + cos(phi)/3 - 2*pi + 1/2)/(4*pi) + alpha*(z*(sin(2*pi*x/alpha) + sin(2*pi*y/alpha)) + 1)*(-gamma + z + tanh((b + 1)*(gamma - z))/tanh(gamma*(b + 1)))*(-pi*sin(phi)*sin(theta)/2 - sin(phi)*sin(theta)/3 + 2*pi*sin(phi)*cos(theta)/3 - pi*cos(phi) - cos(phi)/3 + 1/2 + 2*pi)/(4*pi)) + 2*pi*z*(sin(phi + theta) + 1)*(-gamma + z + tanh((b + 1)*(gamma - z))/tanh(gamma*(b + 1)))*sin(phi)*sin(theta)*cos(2*pi*y/alpha) + 2*pi*z*(sin(phi + theta) + 1)*(-gamma + z + tanh((b + 1)*(gamma - z))/tanh(gamma*(b + 1)))*sin(phi)*cos(theta)*cos(2*pi*x/alpha) + (alpha*(z*(sin(2*pi*x/alpha) + sin(2*pi*y/alpha)) + 1)*((-b - 1)*(-tanh((b + 1)*(gamma - z))**2 + 1)/tanh(gamma*(b + 1)) + 1)*(sin(phi + theta) + 1) + alpha*(sin(2*pi*x/alpha) + sin(2*pi*y/alpha))*(sin(phi + theta) + 1)*(-gamma + z + tanh((b + 1)*(gamma - z))/tanh(gamma*(b + 1))))*cos(phi), bc_expr=alpha*(-gamma + 1)*(sin(phi + theta) + 1), vsf_expr=(Delta + 1)/(4*pi), fd_flag=False, num_threads=32)\n",
      "\n",
      "Calling solve_rte_with_callbacks(, study_dir='/scratch/kelp-results/verify_asym_prod_a_tanhb_L_lin_vsf_64x64x10_scat_0_1_2_3_b_m05_0', study_name='verify_asym_prod_a_tanhb_L_lin_vsf_64x64x10_scat_0_1_2_3_b_m05_0', b=0.774263682681127, num_scatters=1, param_dict={'alpha': 1, 'gamma': 1, 'b': 0.774263682681127}, ns=64, nz=64, ntheta=10, nphi=10, rope_spacing=1, zmax=1, sol_expr=alpha*(z*(sin(2*pi*x/alpha) + sin(2*pi*y/alpha)) + 1)*(sin(phi + theta) + 1)*(-gamma + z + tanh((b + 1)*(gamma - z))/tanh(gamma*(b + 1))), abs_expr=sin(2*pi*x/alpha) + sin(2*pi*y/alpha) + tanh(-gamma + z) + 5, source_expr=alpha*(z*(sin(2*pi*x/alpha) + sin(2*pi*y/alpha)) + 1)*(sin(phi + theta) + 1)*(-gamma + z + tanh((b + 1)*(gamma - z))/tanh(gamma*(b + 1)))*(b + sin(2*pi*x/alpha) + sin(2*pi*y/alpha) + tanh(-gamma + z) + 5) - b*(alpha*(z*(sin(2*pi*x/alpha) + sin(2*pi*y/alpha)) + 1)*(-gamma + z + tanh((b + 1)*(gamma - z))/tanh(gamma*(b + 1)))*(sin(phi)*sin(theta)/3 + cos(phi)/3 + 1/2)/(4*pi) - alpha*(z*(sin(2*pi*x/alpha) + sin(2*pi*y/alpha)) + 1)*(-gamma + z + tanh((b + 1)*(gamma - z))/tanh(gamma*(b + 1)))*(-pi*sin(phi)*sin(theta)/2 - sin(phi)*sin(theta)/3 - cos(phi)/3 + 1/2)/(4*pi) - alpha*(z*(sin(2*pi*x/alpha) + sin(2*pi*y/alpha)) + 1)*(-gamma + z + tanh((b + 1)*(gamma - z))/tanh(gamma*(b + 1)))*(sin(phi)*sin(theta)/3 - 2*pi*sin(phi)*cos(theta)/3 - pi*cos(phi) + cos(phi)/3 - 2*pi + 1/2)/(4*pi) + alpha*(z*(sin(2*pi*x/alpha) + sin(2*pi*y/alpha)) + 1)*(-gamma + z + tanh((b + 1)*(gamma - z))/tanh(gamma*(b + 1)))*(-pi*sin(phi)*sin(theta)/2 - sin(phi)*sin(theta)/3 + 2*pi*sin(phi)*cos(theta)/3 - pi*cos(phi) - cos(phi)/3 + 1/2 + 2*pi)/(4*pi)) + 2*pi*z*(sin(phi + theta) + 1)*(-gamma + z + tanh((b + 1)*(gamma - z))/tanh(gamma*(b + 1)))*sin(phi)*sin(theta)*cos(2*pi*y/alpha) + 2*pi*z*(sin(phi + theta) + 1)*(-gamma + z + tanh((b + 1)*(gamma - z))/tanh(gamma*(b + 1)))*sin(phi)*cos(theta)*cos(2*pi*x/alpha) + (alpha*(z*(sin(2*pi*x/alpha) + sin(2*pi*y/alpha)) + 1)*((-b - 1)*(-tanh((b + 1)*(gamma - z))**2 + 1)/tanh(gamma*(b + 1)) + 1)*(sin(phi + theta) + 1) + alpha*(sin(2*pi*x/alpha) + sin(2*pi*y/alpha))*(sin(phi + theta) + 1)*(-gamma + z + tanh((b + 1)*(gamma - z))/tanh(gamma*(b + 1))))*cos(phi), bc_expr=alpha*(-gamma + 1)*(sin(phi + theta) + 1), vsf_expr=(Delta + 1)/(4*pi), fd_flag=False, num_threads=32)\n",
      "\n",
      "Calling solve_rte_with_callbacks(, study_dir='/scratch/kelp-results/verify_asym_prod_a_tanhb_L_lin_vsf_64x64x10_scat_0_1_2_3_b_m05_0', study_name='verify_asym_prod_a_tanhb_L_lin_vsf_64x64x10_scat_0_1_2_3_b_m05_0', b=0.774263682681127, num_scatters=2, param_dict={'alpha': 1, 'gamma': 1, 'b': 0.774263682681127}, ns=64, nz=64, ntheta=10, nphi=10, rope_spacing=1, zmax=1, sol_expr=alpha*(z*(sin(2*pi*x/alpha) + sin(2*pi*y/alpha)) + 1)*(sin(phi + theta) + 1)*(-gamma + z + tanh((b + 1)*(gamma - z))/tanh(gamma*(b + 1))), abs_expr=sin(2*pi*x/alpha) + sin(2*pi*y/alpha) + tanh(-gamma + z) + 5, source_expr=alpha*(z*(sin(2*pi*x/alpha) + sin(2*pi*y/alpha)) + 1)*(sin(phi + theta) + 1)*(-gamma + z + tanh((b + 1)*(gamma - z))/tanh(gamma*(b + 1)))*(b + sin(2*pi*x/alpha) + sin(2*pi*y/alpha) + tanh(-gamma + z) + 5) - b*(alpha*(z*(sin(2*pi*x/alpha) + sin(2*pi*y/alpha)) + 1)*(-gamma + z + tanh((b + 1)*(gamma - z))/tanh(gamma*(b + 1)))*(sin(phi)*sin(theta)/3 + cos(phi)/3 + 1/2)/(4*pi) - alpha*(z*(sin(2*pi*x/alpha) + sin(2*pi*y/alpha)) + 1)*(-gamma + z + tanh((b + 1)*(gamma - z))/tanh(gamma*(b + 1)))*(-pi*sin(phi)*sin(theta)/2 - sin(phi)*sin(theta)/3 - cos(phi)/3 + 1/2)/(4*pi) - alpha*(z*(sin(2*pi*x/alpha) + sin(2*pi*y/alpha)) + 1)*(-gamma + z + tanh((b + 1)*(gamma - z))/tanh(gamma*(b + 1)))*(sin(phi)*sin(theta)/3 - 2*pi*sin(phi)*cos(theta)/3 - pi*cos(phi) + cos(phi)/3 - 2*pi + 1/2)/(4*pi) + alpha*(z*(sin(2*pi*x/alpha) + sin(2*pi*y/alpha)) + 1)*(-gamma + z + tanh((b + 1)*(gamma - z))/tanh(gamma*(b + 1)))*(-pi*sin(phi)*sin(theta)/2 - sin(phi)*sin(theta)/3 + 2*pi*sin(phi)*cos(theta)/3 - pi*cos(phi) - cos(phi)/3 + 1/2 + 2*pi)/(4*pi)) + 2*pi*z*(sin(phi + theta) + 1)*(-gamma + z + tanh((b + 1)*(gamma - z))/tanh(gamma*(b + 1)))*sin(phi)*sin(theta)*cos(2*pi*y/alpha) + 2*pi*z*(sin(phi + theta) + 1)*(-gamma + z + tanh((b + 1)*(gamma - z))/tanh(gamma*(b + 1)))*sin(phi)*cos(theta)*cos(2*pi*x/alpha) + (alpha*(z*(sin(2*pi*x/alpha) + sin(2*pi*y/alpha)) + 1)*((-b - 1)*(-tanh((b + 1)*(gamma - z))**2 + 1)/tanh(gamma*(b + 1)) + 1)*(sin(phi + theta) + 1) + alpha*(sin(2*pi*x/alpha) + sin(2*pi*y/alpha))*(sin(phi + theta) + 1)*(-gamma + z + tanh((b + 1)*(gamma - z))/tanh(gamma*(b + 1))))*cos(phi), bc_expr=alpha*(-gamma + 1)*(sin(phi + theta) + 1), vsf_expr=(Delta + 1)/(4*pi), fd_flag=False, num_threads=32)\n",
      "\n",
      "Calling solve_rte_with_callbacks(, study_dir='/scratch/kelp-results/verify_asym_prod_a_tanhb_L_lin_vsf_64x64x10_scat_0_1_2_3_b_m05_0', study_name='verify_asym_prod_a_tanhb_L_lin_vsf_64x64x10_scat_0_1_2_3_b_m05_0', b=0.774263682681127, num_scatters=3, param_dict={'alpha': 1, 'gamma': 1, 'b': 0.774263682681127}, ns=64, nz=64, ntheta=10, nphi=10, rope_spacing=1, zmax=1, sol_expr=alpha*(z*(sin(2*pi*x/alpha) + sin(2*pi*y/alpha)) + 1)*(sin(phi + theta) + 1)*(-gamma + z + tanh((b + 1)*(gamma - z))/tanh(gamma*(b + 1))), abs_expr=sin(2*pi*x/alpha) + sin(2*pi*y/alpha) + tanh(-gamma + z) + 5, source_expr=alpha*(z*(sin(2*pi*x/alpha) + sin(2*pi*y/alpha)) + 1)*(sin(phi + theta) + 1)*(-gamma + z + tanh((b + 1)*(gamma - z))/tanh(gamma*(b + 1)))*(b + sin(2*pi*x/alpha) + sin(2*pi*y/alpha) + tanh(-gamma + z) + 5) - b*(alpha*(z*(sin(2*pi*x/alpha) + sin(2*pi*y/alpha)) + 1)*(-gamma + z + tanh((b + 1)*(gamma - z))/tanh(gamma*(b + 1)))*(sin(phi)*sin(theta)/3 + cos(phi)/3 + 1/2)/(4*pi) - alpha*(z*(sin(2*pi*x/alpha) + sin(2*pi*y/alpha)) + 1)*(-gamma + z + tanh((b + 1)*(gamma - z))/tanh(gamma*(b + 1)))*(-pi*sin(phi)*sin(theta)/2 - sin(phi)*sin(theta)/3 - cos(phi)/3 + 1/2)/(4*pi) - alpha*(z*(sin(2*pi*x/alpha) + sin(2*pi*y/alpha)) + 1)*(-gamma + z + tanh((b + 1)*(gamma - z))/tanh(gamma*(b + 1)))*(sin(phi)*sin(theta)/3 - 2*pi*sin(phi)*cos(theta)/3 - pi*cos(phi) + cos(phi)/3 - 2*pi + 1/2)/(4*pi) + alpha*(z*(sin(2*pi*x/alpha) + sin(2*pi*y/alpha)) + 1)*(-gamma + z + tanh((b + 1)*(gamma - z))/tanh(gamma*(b + 1)))*(-pi*sin(phi)*sin(theta)/2 - sin(phi)*sin(theta)/3 + 2*pi*sin(phi)*cos(theta)/3 - pi*cos(phi) - cos(phi)/3 + 1/2 + 2*pi)/(4*pi)) + 2*pi*z*(sin(phi + theta) + 1)*(-gamma + z + tanh((b + 1)*(gamma - z))/tanh(gamma*(b + 1)))*sin(phi)*sin(theta)*cos(2*pi*y/alpha) + 2*pi*z*(sin(phi + theta) + 1)*(-gamma + z + tanh((b + 1)*(gamma - z))/tanh(gamma*(b + 1)))*sin(phi)*cos(theta)*cos(2*pi*x/alpha) + (alpha*(z*(sin(2*pi*x/alpha) + sin(2*pi*y/alpha)) + 1)*((-b - 1)*(-tanh((b + 1)*(gamma - z))**2 + 1)/tanh(gamma*(b + 1)) + 1)*(sin(phi + theta) + 1) + alpha*(sin(2*pi*x/alpha) + sin(2*pi*y/alpha))*(sin(phi + theta) + 1)*(-gamma + z + tanh((b + 1)*(gamma - z))/tanh(gamma*(b + 1))))*cos(phi), bc_expr=alpha*(-gamma + 1)*(sin(phi + theta) + 1), vsf_expr=(Delta + 1)/(4*pi), fd_flag=False, num_threads=32)\n",
      "\n",
      "Calling solve_rte_with_callbacks(, study_dir='/scratch/kelp-results/verify_asym_prod_a_tanhb_L_lin_vsf_64x64x10_scat_0_1_2_3_b_m05_0', study_name='verify_asym_prod_a_tanhb_L_lin_vsf_64x64x10_scat_0_1_2_3_b_m05_0', b=0.8799225435691069, num_scatters=0, param_dict={'alpha': 1, 'gamma': 1, 'b': 0.8799225435691069}, ns=64, nz=64, ntheta=10, nphi=10, rope_spacing=1, zmax=1, sol_expr=alpha*(z*(sin(2*pi*x/alpha) + sin(2*pi*y/alpha)) + 1)*(sin(phi + theta) + 1)*(-gamma + z + tanh((b + 1)*(gamma - z))/tanh(gamma*(b + 1))), abs_expr=sin(2*pi*x/alpha) + sin(2*pi*y/alpha) + tanh(-gamma + z) + 5, source_expr=alpha*(z*(sin(2*pi*x/alpha) + sin(2*pi*y/alpha)) + 1)*(sin(phi + theta) + 1)*(-gamma + z + tanh((b + 1)*(gamma - z))/tanh(gamma*(b + 1)))*(b + sin(2*pi*x/alpha) + sin(2*pi*y/alpha) + tanh(-gamma + z) + 5) - b*(alpha*(z*(sin(2*pi*x/alpha) + sin(2*pi*y/alpha)) + 1)*(-gamma + z + tanh((b + 1)*(gamma - z))/tanh(gamma*(b + 1)))*(sin(phi)*sin(theta)/3 + cos(phi)/3 + 1/2)/(4*pi) - alpha*(z*(sin(2*pi*x/alpha) + sin(2*pi*y/alpha)) + 1)*(-gamma + z + tanh((b + 1)*(gamma - z))/tanh(gamma*(b + 1)))*(-pi*sin(phi)*sin(theta)/2 - sin(phi)*sin(theta)/3 - cos(phi)/3 + 1/2)/(4*pi) - alpha*(z*(sin(2*pi*x/alpha) + sin(2*pi*y/alpha)) + 1)*(-gamma + z + tanh((b + 1)*(gamma - z))/tanh(gamma*(b + 1)))*(sin(phi)*sin(theta)/3 - 2*pi*sin(phi)*cos(theta)/3 - pi*cos(phi) + cos(phi)/3 - 2*pi + 1/2)/(4*pi) + alpha*(z*(sin(2*pi*x/alpha) + sin(2*pi*y/alpha)) + 1)*(-gamma + z + tanh((b + 1)*(gamma - z))/tanh(gamma*(b + 1)))*(-pi*sin(phi)*sin(theta)/2 - sin(phi)*sin(theta)/3 + 2*pi*sin(phi)*cos(theta)/3 - pi*cos(phi) - cos(phi)/3 + 1/2 + 2*pi)/(4*pi)) + 2*pi*z*(sin(phi + theta) + 1)*(-gamma + z + tanh((b + 1)*(gamma - z))/tanh(gamma*(b + 1)))*sin(phi)*sin(theta)*cos(2*pi*y/alpha) + 2*pi*z*(sin(phi + theta) + 1)*(-gamma + z + tanh((b + 1)*(gamma - z))/tanh(gamma*(b + 1)))*sin(phi)*cos(theta)*cos(2*pi*x/alpha) + (alpha*(z*(sin(2*pi*x/alpha) + sin(2*pi*y/alpha)) + 1)*((-b - 1)*(-tanh((b + 1)*(gamma - z))**2 + 1)/tanh(gamma*(b + 1)) + 1)*(sin(phi + theta) + 1) + alpha*(sin(2*pi*x/alpha) + sin(2*pi*y/alpha))*(sin(phi + theta) + 1)*(-gamma + z + tanh((b + 1)*(gamma - z))/tanh(gamma*(b + 1))))*cos(phi), bc_expr=alpha*(-gamma + 1)*(sin(phi + theta) + 1), vsf_expr=(Delta + 1)/(4*pi), fd_flag=False, num_threads=32)\n",
      "\n",
      "Calling solve_rte_with_callbacks(, study_dir='/scratch/kelp-results/verify_asym_prod_a_tanhb_L_lin_vsf_64x64x10_scat_0_1_2_3_b_m05_0', study_name='verify_asym_prod_a_tanhb_L_lin_vsf_64x64x10_scat_0_1_2_3_b_m05_0', b=0.8799225435691069, num_scatters=1, param_dict={'alpha': 1, 'gamma': 1, 'b': 0.8799225435691069}, ns=64, nz=64, ntheta=10, nphi=10, rope_spacing=1, zmax=1, sol_expr=alpha*(z*(sin(2*pi*x/alpha) + sin(2*pi*y/alpha)) + 1)*(sin(phi + theta) + 1)*(-gamma + z + tanh((b + 1)*(gamma - z))/tanh(gamma*(b + 1))), abs_expr=sin(2*pi*x/alpha) + sin(2*pi*y/alpha) + tanh(-gamma + z) + 5, source_expr=alpha*(z*(sin(2*pi*x/alpha) + sin(2*pi*y/alpha)) + 1)*(sin(phi + theta) + 1)*(-gamma + z + tanh((b + 1)*(gamma - z))/tanh(gamma*(b + 1)))*(b + sin(2*pi*x/alpha) + sin(2*pi*y/alpha) + tanh(-gamma + z) + 5) - b*(alpha*(z*(sin(2*pi*x/alpha) + sin(2*pi*y/alpha)) + 1)*(-gamma + z + tanh((b + 1)*(gamma - z))/tanh(gamma*(b + 1)))*(sin(phi)*sin(theta)/3 + cos(phi)/3 + 1/2)/(4*pi) - alpha*(z*(sin(2*pi*x/alpha) + sin(2*pi*y/alpha)) + 1)*(-gamma + z + tanh((b + 1)*(gamma - z))/tanh(gamma*(b + 1)))*(-pi*sin(phi)*sin(theta)/2 - sin(phi)*sin(theta)/3 - cos(phi)/3 + 1/2)/(4*pi) - alpha*(z*(sin(2*pi*x/alpha) + sin(2*pi*y/alpha)) + 1)*(-gamma + z + tanh((b + 1)*(gamma - z))/tanh(gamma*(b + 1)))*(sin(phi)*sin(theta)/3 - 2*pi*sin(phi)*cos(theta)/3 - pi*cos(phi) + cos(phi)/3 - 2*pi + 1/2)/(4*pi) + alpha*(z*(sin(2*pi*x/alpha) + sin(2*pi*y/alpha)) + 1)*(-gamma + z + tanh((b + 1)*(gamma - z))/tanh(gamma*(b + 1)))*(-pi*sin(phi)*sin(theta)/2 - sin(phi)*sin(theta)/3 + 2*pi*sin(phi)*cos(theta)/3 - pi*cos(phi) - cos(phi)/3 + 1/2 + 2*pi)/(4*pi)) + 2*pi*z*(sin(phi + theta) + 1)*(-gamma + z + tanh((b + 1)*(gamma - z))/tanh(gamma*(b + 1)))*sin(phi)*sin(theta)*cos(2*pi*y/alpha) + 2*pi*z*(sin(phi + theta) + 1)*(-gamma + z + tanh((b + 1)*(gamma - z))/tanh(gamma*(b + 1)))*sin(phi)*cos(theta)*cos(2*pi*x/alpha) + (alpha*(z*(sin(2*pi*x/alpha) + sin(2*pi*y/alpha)) + 1)*((-b - 1)*(-tanh((b + 1)*(gamma - z))**2 + 1)/tanh(gamma*(b + 1)) + 1)*(sin(phi + theta) + 1) + alpha*(sin(2*pi*x/alpha) + sin(2*pi*y/alpha))*(sin(phi + theta) + 1)*(-gamma + z + tanh((b + 1)*(gamma - z))/tanh(gamma*(b + 1))))*cos(phi), bc_expr=alpha*(-gamma + 1)*(sin(phi + theta) + 1), vsf_expr=(Delta + 1)/(4*pi), fd_flag=False, num_threads=32)\n",
      "\n",
      "Calling solve_rte_with_callbacks(, study_dir='/scratch/kelp-results/verify_asym_prod_a_tanhb_L_lin_vsf_64x64x10_scat_0_1_2_3_b_m05_0', study_name='verify_asym_prod_a_tanhb_L_lin_vsf_64x64x10_scat_0_1_2_3_b_m05_0', b=0.8799225435691069, num_scatters=2, param_dict={'alpha': 1, 'gamma': 1, 'b': 0.8799225435691069}, ns=64, nz=64, ntheta=10, nphi=10, rope_spacing=1, zmax=1, sol_expr=alpha*(z*(sin(2*pi*x/alpha) + sin(2*pi*y/alpha)) + 1)*(sin(phi + theta) + 1)*(-gamma + z + tanh((b + 1)*(gamma - z))/tanh(gamma*(b + 1))), abs_expr=sin(2*pi*x/alpha) + sin(2*pi*y/alpha) + tanh(-gamma + z) + 5, source_expr=alpha*(z*(sin(2*pi*x/alpha) + sin(2*pi*y/alpha)) + 1)*(sin(phi + theta) + 1)*(-gamma + z + tanh((b + 1)*(gamma - z))/tanh(gamma*(b + 1)))*(b + sin(2*pi*x/alpha) + sin(2*pi*y/alpha) + tanh(-gamma + z) + 5) - b*(alpha*(z*(sin(2*pi*x/alpha) + sin(2*pi*y/alpha)) + 1)*(-gamma + z + tanh((b + 1)*(gamma - z))/tanh(gamma*(b + 1)))*(sin(phi)*sin(theta)/3 + cos(phi)/3 + 1/2)/(4*pi) - alpha*(z*(sin(2*pi*x/alpha) + sin(2*pi*y/alpha)) + 1)*(-gamma + z + tanh((b + 1)*(gamma - z))/tanh(gamma*(b + 1)))*(-pi*sin(phi)*sin(theta)/2 - sin(phi)*sin(theta)/3 - cos(phi)/3 + 1/2)/(4*pi) - alpha*(z*(sin(2*pi*x/alpha) + sin(2*pi*y/alpha)) + 1)*(-gamma + z + tanh((b + 1)*(gamma - z))/tanh(gamma*(b + 1)))*(sin(phi)*sin(theta)/3 - 2*pi*sin(phi)*cos(theta)/3 - pi*cos(phi) + cos(phi)/3 - 2*pi + 1/2)/(4*pi) + alpha*(z*(sin(2*pi*x/alpha) + sin(2*pi*y/alpha)) + 1)*(-gamma + z + tanh((b + 1)*(gamma - z))/tanh(gamma*(b + 1)))*(-pi*sin(phi)*sin(theta)/2 - sin(phi)*sin(theta)/3 + 2*pi*sin(phi)*cos(theta)/3 - pi*cos(phi) - cos(phi)/3 + 1/2 + 2*pi)/(4*pi)) + 2*pi*z*(sin(phi + theta) + 1)*(-gamma + z + tanh((b + 1)*(gamma - z))/tanh(gamma*(b + 1)))*sin(phi)*sin(theta)*cos(2*pi*y/alpha) + 2*pi*z*(sin(phi + theta) + 1)*(-gamma + z + tanh((b + 1)*(gamma - z))/tanh(gamma*(b + 1)))*sin(phi)*cos(theta)*cos(2*pi*x/alpha) + (alpha*(z*(sin(2*pi*x/alpha) + sin(2*pi*y/alpha)) + 1)*((-b - 1)*(-tanh((b + 1)*(gamma - z))**2 + 1)/tanh(gamma*(b + 1)) + 1)*(sin(phi + theta) + 1) + alpha*(sin(2*pi*x/alpha) + sin(2*pi*y/alpha))*(sin(phi + theta) + 1)*(-gamma + z + tanh((b + 1)*(gamma - z))/tanh(gamma*(b + 1))))*cos(phi), bc_expr=alpha*(-gamma + 1)*(sin(phi + theta) + 1), vsf_expr=(Delta + 1)/(4*pi), fd_flag=False, num_threads=32)\n",
      "\n",
      "Calling solve_rte_with_callbacks(, study_dir='/scratch/kelp-results/verify_asym_prod_a_tanhb_L_lin_vsf_64x64x10_scat_0_1_2_3_b_m05_0', study_name='verify_asym_prod_a_tanhb_L_lin_vsf_64x64x10_scat_0_1_2_3_b_m05_0', b=0.8799225435691069, num_scatters=3, param_dict={'alpha': 1, 'gamma': 1, 'b': 0.8799225435691069}, ns=64, nz=64, ntheta=10, nphi=10, rope_spacing=1, zmax=1, sol_expr=alpha*(z*(sin(2*pi*x/alpha) + sin(2*pi*y/alpha)) + 1)*(sin(phi + theta) + 1)*(-gamma + z + tanh((b + 1)*(gamma - z))/tanh(gamma*(b + 1))), abs_expr=sin(2*pi*x/alpha) + sin(2*pi*y/alpha) + tanh(-gamma + z) + 5, source_expr=alpha*(z*(sin(2*pi*x/alpha) + sin(2*pi*y/alpha)) + 1)*(sin(phi + theta) + 1)*(-gamma + z + tanh((b + 1)*(gamma - z))/tanh(gamma*(b + 1)))*(b + sin(2*pi*x/alpha) + sin(2*pi*y/alpha) + tanh(-gamma + z) + 5) - b*(alpha*(z*(sin(2*pi*x/alpha) + sin(2*pi*y/alpha)) + 1)*(-gamma + z + tanh((b + 1)*(gamma - z))/tanh(gamma*(b + 1)))*(sin(phi)*sin(theta)/3 + cos(phi)/3 + 1/2)/(4*pi) - alpha*(z*(sin(2*pi*x/alpha) + sin(2*pi*y/alpha)) + 1)*(-gamma + z + tanh((b + 1)*(gamma - z))/tanh(gamma*(b + 1)))*(-pi*sin(phi)*sin(theta)/2 - sin(phi)*sin(theta)/3 - cos(phi)/3 + 1/2)/(4*pi) - alpha*(z*(sin(2*pi*x/alpha) + sin(2*pi*y/alpha)) + 1)*(-gamma + z + tanh((b + 1)*(gamma - z))/tanh(gamma*(b + 1)))*(sin(phi)*sin(theta)/3 - 2*pi*sin(phi)*cos(theta)/3 - pi*cos(phi) + cos(phi)/3 - 2*pi + 1/2)/(4*pi) + alpha*(z*(sin(2*pi*x/alpha) + sin(2*pi*y/alpha)) + 1)*(-gamma + z + tanh((b + 1)*(gamma - z))/tanh(gamma*(b + 1)))*(-pi*sin(phi)*sin(theta)/2 - sin(phi)*sin(theta)/3 + 2*pi*sin(phi)*cos(theta)/3 - pi*cos(phi) - cos(phi)/3 + 1/2 + 2*pi)/(4*pi)) + 2*pi*z*(sin(phi + theta) + 1)*(-gamma + z + tanh((b + 1)*(gamma - z))/tanh(gamma*(b + 1)))*sin(phi)*sin(theta)*cos(2*pi*y/alpha) + 2*pi*z*(sin(phi + theta) + 1)*(-gamma + z + tanh((b + 1)*(gamma - z))/tanh(gamma*(b + 1)))*sin(phi)*cos(theta)*cos(2*pi*x/alpha) + (alpha*(z*(sin(2*pi*x/alpha) + sin(2*pi*y/alpha)) + 1)*((-b - 1)*(-tanh((b + 1)*(gamma - z))**2 + 1)/tanh(gamma*(b + 1)) + 1)*(sin(phi + theta) + 1) + alpha*(sin(2*pi*x/alpha) + sin(2*pi*y/alpha))*(sin(phi + theta) + 1)*(-gamma + z + tanh((b + 1)*(gamma - z))/tanh(gamma*(b + 1))))*cos(phi), bc_expr=alpha*(-gamma + 1)*(sin(phi + theta) + 1), vsf_expr=(Delta + 1)/(4*pi), fd_flag=False, num_threads=32)\n",
      "\n",
      "Calling solve_rte_with_callbacks(, study_dir='/scratch/kelp-results/verify_asym_prod_a_tanhb_L_lin_vsf_64x64x10_scat_0_1_2_3_b_m05_0', study_name='verify_asym_prod_a_tanhb_L_lin_vsf_64x64x10_scat_0_1_2_3_b_m05_0', b=1.0, num_scatters=0, param_dict={'alpha': 1, 'gamma': 1, 'b': 1.0}, ns=64, nz=64, ntheta=10, nphi=10, rope_spacing=1, zmax=1, sol_expr=alpha*(z*(sin(2*pi*x/alpha) + sin(2*pi*y/alpha)) + 1)*(sin(phi + theta) + 1)*(-gamma + z + tanh((b + 1)*(gamma - z))/tanh(gamma*(b + 1))), abs_expr=sin(2*pi*x/alpha) + sin(2*pi*y/alpha) + tanh(-gamma + z) + 5, source_expr=alpha*(z*(sin(2*pi*x/alpha) + sin(2*pi*y/alpha)) + 1)*(sin(phi + theta) + 1)*(-gamma + z + tanh((b + 1)*(gamma - z))/tanh(gamma*(b + 1)))*(b + sin(2*pi*x/alpha) + sin(2*pi*y/alpha) + tanh(-gamma + z) + 5) - b*(alpha*(z*(sin(2*pi*x/alpha) + sin(2*pi*y/alpha)) + 1)*(-gamma + z + tanh((b + 1)*(gamma - z))/tanh(gamma*(b + 1)))*(sin(phi)*sin(theta)/3 + cos(phi)/3 + 1/2)/(4*pi) - alpha*(z*(sin(2*pi*x/alpha) + sin(2*pi*y/alpha)) + 1)*(-gamma + z + tanh((b + 1)*(gamma - z))/tanh(gamma*(b + 1)))*(-pi*sin(phi)*sin(theta)/2 - sin(phi)*sin(theta)/3 - cos(phi)/3 + 1/2)/(4*pi) - alpha*(z*(sin(2*pi*x/alpha) + sin(2*pi*y/alpha)) + 1)*(-gamma + z + tanh((b + 1)*(gamma - z))/tanh(gamma*(b + 1)))*(sin(phi)*sin(theta)/3 - 2*pi*sin(phi)*cos(theta)/3 - pi*cos(phi) + cos(phi)/3 - 2*pi + 1/2)/(4*pi) + alpha*(z*(sin(2*pi*x/alpha) + sin(2*pi*y/alpha)) + 1)*(-gamma + z + tanh((b + 1)*(gamma - z))/tanh(gamma*(b + 1)))*(-pi*sin(phi)*sin(theta)/2 - sin(phi)*sin(theta)/3 + 2*pi*sin(phi)*cos(theta)/3 - pi*cos(phi) - cos(phi)/3 + 1/2 + 2*pi)/(4*pi)) + 2*pi*z*(sin(phi + theta) + 1)*(-gamma + z + tanh((b + 1)*(gamma - z))/tanh(gamma*(b + 1)))*sin(phi)*sin(theta)*cos(2*pi*y/alpha) + 2*pi*z*(sin(phi + theta) + 1)*(-gamma + z + tanh((b + 1)*(gamma - z))/tanh(gamma*(b + 1)))*sin(phi)*cos(theta)*cos(2*pi*x/alpha) + (alpha*(z*(sin(2*pi*x/alpha) + sin(2*pi*y/alpha)) + 1)*((-b - 1)*(-tanh((b + 1)*(gamma - z))**2 + 1)/tanh(gamma*(b + 1)) + 1)*(sin(phi + theta) + 1) + alpha*(sin(2*pi*x/alpha) + sin(2*pi*y/alpha))*(sin(phi + theta) + 1)*(-gamma + z + tanh((b + 1)*(gamma - z))/tanh(gamma*(b + 1))))*cos(phi), bc_expr=alpha*(-gamma + 1)*(sin(phi + theta) + 1), vsf_expr=(Delta + 1)/(4*pi), fd_flag=False, num_threads=32)\n",
      "\n",
      "Calling solve_rte_with_callbacks(, study_dir='/scratch/kelp-results/verify_asym_prod_a_tanhb_L_lin_vsf_64x64x10_scat_0_1_2_3_b_m05_0', study_name='verify_asym_prod_a_tanhb_L_lin_vsf_64x64x10_scat_0_1_2_3_b_m05_0', b=1.0, num_scatters=1, param_dict={'alpha': 1, 'gamma': 1, 'b': 1.0}, ns=64, nz=64, ntheta=10, nphi=10, rope_spacing=1, zmax=1, sol_expr=alpha*(z*(sin(2*pi*x/alpha) + sin(2*pi*y/alpha)) + 1)*(sin(phi + theta) + 1)*(-gamma + z + tanh((b + 1)*(gamma - z))/tanh(gamma*(b + 1))), abs_expr=sin(2*pi*x/alpha) + sin(2*pi*y/alpha) + tanh(-gamma + z) + 5, source_expr=alpha*(z*(sin(2*pi*x/alpha) + sin(2*pi*y/alpha)) + 1)*(sin(phi + theta) + 1)*(-gamma + z + tanh((b + 1)*(gamma - z))/tanh(gamma*(b + 1)))*(b + sin(2*pi*x/alpha) + sin(2*pi*y/alpha) + tanh(-gamma + z) + 5) - b*(alpha*(z*(sin(2*pi*x/alpha) + sin(2*pi*y/alpha)) + 1)*(-gamma + z + tanh((b + 1)*(gamma - z))/tanh(gamma*(b + 1)))*(sin(phi)*sin(theta)/3 + cos(phi)/3 + 1/2)/(4*pi) - alpha*(z*(sin(2*pi*x/alpha) + sin(2*pi*y/alpha)) + 1)*(-gamma + z + tanh((b + 1)*(gamma - z))/tanh(gamma*(b + 1)))*(-pi*sin(phi)*sin(theta)/2 - sin(phi)*sin(theta)/3 - cos(phi)/3 + 1/2)/(4*pi) - alpha*(z*(sin(2*pi*x/alpha) + sin(2*pi*y/alpha)) + 1)*(-gamma + z + tanh((b + 1)*(gamma - z))/tanh(gamma*(b + 1)))*(sin(phi)*sin(theta)/3 - 2*pi*sin(phi)*cos(theta)/3 - pi*cos(phi) + cos(phi)/3 - 2*pi + 1/2)/(4*pi) + alpha*(z*(sin(2*pi*x/alpha) + sin(2*pi*y/alpha)) + 1)*(-gamma + z + tanh((b + 1)*(gamma - z))/tanh(gamma*(b + 1)))*(-pi*sin(phi)*sin(theta)/2 - sin(phi)*sin(theta)/3 + 2*pi*sin(phi)*cos(theta)/3 - pi*cos(phi) - cos(phi)/3 + 1/2 + 2*pi)/(4*pi)) + 2*pi*z*(sin(phi + theta) + 1)*(-gamma + z + tanh((b + 1)*(gamma - z))/tanh(gamma*(b + 1)))*sin(phi)*sin(theta)*cos(2*pi*y/alpha) + 2*pi*z*(sin(phi + theta) + 1)*(-gamma + z + tanh((b + 1)*(gamma - z))/tanh(gamma*(b + 1)))*sin(phi)*cos(theta)*cos(2*pi*x/alpha) + (alpha*(z*(sin(2*pi*x/alpha) + sin(2*pi*y/alpha)) + 1)*((-b - 1)*(-tanh((b + 1)*(gamma - z))**2 + 1)/tanh(gamma*(b + 1)) + 1)*(sin(phi + theta) + 1) + alpha*(sin(2*pi*x/alpha) + sin(2*pi*y/alpha))*(sin(phi + theta) + 1)*(-gamma + z + tanh((b + 1)*(gamma - z))/tanh(gamma*(b + 1))))*cos(phi), bc_expr=alpha*(-gamma + 1)*(sin(phi + theta) + 1), vsf_expr=(Delta + 1)/(4*pi), fd_flag=False, num_threads=32)\n",
      "\n",
      "Calling solve_rte_with_callbacks(, study_dir='/scratch/kelp-results/verify_asym_prod_a_tanhb_L_lin_vsf_64x64x10_scat_0_1_2_3_b_m05_0', study_name='verify_asym_prod_a_tanhb_L_lin_vsf_64x64x10_scat_0_1_2_3_b_m05_0', b=1.0, num_scatters=2, param_dict={'alpha': 1, 'gamma': 1, 'b': 1.0}, ns=64, nz=64, ntheta=10, nphi=10, rope_spacing=1, zmax=1, sol_expr=alpha*(z*(sin(2*pi*x/alpha) + sin(2*pi*y/alpha)) + 1)*(sin(phi + theta) + 1)*(-gamma + z + tanh((b + 1)*(gamma - z))/tanh(gamma*(b + 1))), abs_expr=sin(2*pi*x/alpha) + sin(2*pi*y/alpha) + tanh(-gamma + z) + 5, source_expr=alpha*(z*(sin(2*pi*x/alpha) + sin(2*pi*y/alpha)) + 1)*(sin(phi + theta) + 1)*(-gamma + z + tanh((b + 1)*(gamma - z))/tanh(gamma*(b + 1)))*(b + sin(2*pi*x/alpha) + sin(2*pi*y/alpha) + tanh(-gamma + z) + 5) - b*(alpha*(z*(sin(2*pi*x/alpha) + sin(2*pi*y/alpha)) + 1)*(-gamma + z + tanh((b + 1)*(gamma - z))/tanh(gamma*(b + 1)))*(sin(phi)*sin(theta)/3 + cos(phi)/3 + 1/2)/(4*pi) - alpha*(z*(sin(2*pi*x/alpha) + sin(2*pi*y/alpha)) + 1)*(-gamma + z + tanh((b + 1)*(gamma - z))/tanh(gamma*(b + 1)))*(-pi*sin(phi)*sin(theta)/2 - sin(phi)*sin(theta)/3 - cos(phi)/3 + 1/2)/(4*pi) - alpha*(z*(sin(2*pi*x/alpha) + sin(2*pi*y/alpha)) + 1)*(-gamma + z + tanh((b + 1)*(gamma - z))/tanh(gamma*(b + 1)))*(sin(phi)*sin(theta)/3 - 2*pi*sin(phi)*cos(theta)/3 - pi*cos(phi) + cos(phi)/3 - 2*pi + 1/2)/(4*pi) + alpha*(z*(sin(2*pi*x/alpha) + sin(2*pi*y/alpha)) + 1)*(-gamma + z + tanh((b + 1)*(gamma - z))/tanh(gamma*(b + 1)))*(-pi*sin(phi)*sin(theta)/2 - sin(phi)*sin(theta)/3 + 2*pi*sin(phi)*cos(theta)/3 - pi*cos(phi) - cos(phi)/3 + 1/2 + 2*pi)/(4*pi)) + 2*pi*z*(sin(phi + theta) + 1)*(-gamma + z + tanh((b + 1)*(gamma - z))/tanh(gamma*(b + 1)))*sin(phi)*sin(theta)*cos(2*pi*y/alpha) + 2*pi*z*(sin(phi + theta) + 1)*(-gamma + z + tanh((b + 1)*(gamma - z))/tanh(gamma*(b + 1)))*sin(phi)*cos(theta)*cos(2*pi*x/alpha) + (alpha*(z*(sin(2*pi*x/alpha) + sin(2*pi*y/alpha)) + 1)*((-b - 1)*(-tanh((b + 1)*(gamma - z))**2 + 1)/tanh(gamma*(b + 1)) + 1)*(sin(phi + theta) + 1) + alpha*(sin(2*pi*x/alpha) + sin(2*pi*y/alpha))*(sin(phi + theta) + 1)*(-gamma + z + tanh((b + 1)*(gamma - z))/tanh(gamma*(b + 1))))*cos(phi), bc_expr=alpha*(-gamma + 1)*(sin(phi + theta) + 1), vsf_expr=(Delta + 1)/(4*pi), fd_flag=False, num_threads=32)\n",
      "\n",
      "Calling solve_rte_with_callbacks(, study_dir='/scratch/kelp-results/verify_asym_prod_a_tanhb_L_lin_vsf_64x64x10_scat_0_1_2_3_b_m05_0', study_name='verify_asym_prod_a_tanhb_L_lin_vsf_64x64x10_scat_0_1_2_3_b_m05_0', b=1.0, num_scatters=3, param_dict={'alpha': 1, 'gamma': 1, 'b': 1.0}, ns=64, nz=64, ntheta=10, nphi=10, rope_spacing=1, zmax=1, sol_expr=alpha*(z*(sin(2*pi*x/alpha) + sin(2*pi*y/alpha)) + 1)*(sin(phi + theta) + 1)*(-gamma + z + tanh((b + 1)*(gamma - z))/tanh(gamma*(b + 1))), abs_expr=sin(2*pi*x/alpha) + sin(2*pi*y/alpha) + tanh(-gamma + z) + 5, source_expr=alpha*(z*(sin(2*pi*x/alpha) + sin(2*pi*y/alpha)) + 1)*(sin(phi + theta) + 1)*(-gamma + z + tanh((b + 1)*(gamma - z))/tanh(gamma*(b + 1)))*(b + sin(2*pi*x/alpha) + sin(2*pi*y/alpha) + tanh(-gamma + z) + 5) - b*(alpha*(z*(sin(2*pi*x/alpha) + sin(2*pi*y/alpha)) + 1)*(-gamma + z + tanh((b + 1)*(gamma - z))/tanh(gamma*(b + 1)))*(sin(phi)*sin(theta)/3 + cos(phi)/3 + 1/2)/(4*pi) - alpha*(z*(sin(2*pi*x/alpha) + sin(2*pi*y/alpha)) + 1)*(-gamma + z + tanh((b + 1)*(gamma - z))/tanh(gamma*(b + 1)))*(-pi*sin(phi)*sin(theta)/2 - sin(phi)*sin(theta)/3 - cos(phi)/3 + 1/2)/(4*pi) - alpha*(z*(sin(2*pi*x/alpha) + sin(2*pi*y/alpha)) + 1)*(-gamma + z + tanh((b + 1)*(gamma - z))/tanh(gamma*(b + 1)))*(sin(phi)*sin(theta)/3 - 2*pi*sin(phi)*cos(theta)/3 - pi*cos(phi) + cos(phi)/3 - 2*pi + 1/2)/(4*pi) + alpha*(z*(sin(2*pi*x/alpha) + sin(2*pi*y/alpha)) + 1)*(-gamma + z + tanh((b + 1)*(gamma - z))/tanh(gamma*(b + 1)))*(-pi*sin(phi)*sin(theta)/2 - sin(phi)*sin(theta)/3 + 2*pi*sin(phi)*cos(theta)/3 - pi*cos(phi) - cos(phi)/3 + 1/2 + 2*pi)/(4*pi)) + 2*pi*z*(sin(phi + theta) + 1)*(-gamma + z + tanh((b + 1)*(gamma - z))/tanh(gamma*(b + 1)))*sin(phi)*sin(theta)*cos(2*pi*y/alpha) + 2*pi*z*(sin(phi + theta) + 1)*(-gamma + z + tanh((b + 1)*(gamma - z))/tanh(gamma*(b + 1)))*sin(phi)*cos(theta)*cos(2*pi*x/alpha) + (alpha*(z*(sin(2*pi*x/alpha) + sin(2*pi*y/alpha)) + 1)*((-b - 1)*(-tanh((b + 1)*(gamma - z))**2 + 1)/tanh(gamma*(b + 1)) + 1)*(sin(phi + theta) + 1) + alpha*(sin(2*pi*x/alpha) + sin(2*pi*y/alpha))*(sin(phi + theta) + 1)*(-gamma + z + tanh((b + 1)*(gamma - z))/tanh(gamma*(b + 1))))*cos(phi), bc_expr=alpha*(-gamma + 1)*(sin(phi + theta) + 1), vsf_expr=(Delta + 1)/(4*pi), fd_flag=False, num_threads=32)\n",
      "\n",
      "Opening combined db: /scratch/kelp-results/verify_asym_prod_a_tanhb_L_lin_vsf_64x64x10_scat_0_1_2_3_b_m05_0/verify_asym_prod_a_tanhb_L_lin_vsf_64x64x10_scat_0_1_2_3_b_m05_0.db\n",
      "Connected.\n",
      "Combining /scratch/kelp-results/verify_asym_prod_a_tanhb_L_lin_vsf_64x64x10_scat_0_1_2_3_b_m05_0/data/0hld3xtm.db (tables: ['verify_asym_prod_a_tanhb_L_lin_vsf_64x64x10_scat_0_1_2_3_b_m05_0', 'sqlite_sequence'])\n",
      "read.\n",
      "Creating table verify_asym_prod_a_tanhb_L_lin_vsf_64x64x10_scat_0_1_2_3_b_m05_0\n",
      "CREATING TABLE\n",
      "\n",
      "    CREATE TABLE verify_asym_prod_a_tanhb_L_lin_vsf_64x64x10_scat_0_1_2_3_b_m05_0 (\n",
      "        id INTEGER PRIMARY KEY AUTOINCREMENT,\n",
      "        data_path CHAR(1024),\n",
      "        b REAL,\n",
      "        ns INTEGER,\n",
      "        ntheta INTEGER,\n",
      "        nphi INTEGER,\n",
      "        nx INTEGER,\n",
      "        ny INTEGER,\n",
      "        nz INTEGER,\n",
      "        nomega INTEGER,\n",
      "        zmax INTEGER,\n",
      "        rope_spacing INTEGER,\n",
      "        num_scatters INTEGER,\n",
      "        fd_flag INTEGER,\n",
      "        lis_opts CHAR(1024),\n",
      "        date CHAR(1024),\n",
      "        git_commit CHAR(1024),\n",
      "        compute_time REAL,\n",
      "        lis_iter INTEGER,\n",
      "        lis_time REAL,\n",
      "        lis_resid REAL,\n",
      "        num_threads INTEGER,\n",
      "        sol_expr CHAR(1024),\n",
      "        abs_expr CHAR(1024),\n",
      "        source_expr CHAR(1024),\n",
      "        bc_expr CHAR(1024),\n",
      "        vsf_expr CHAR(1024),\n",
      "        param_dict CHAR(1024)\n",
      "    );\n",
      "col_names: ['id', 'data_path', 'b', 'ns', 'ntheta', 'nphi', 'nx', 'ny', 'nz', 'nomega', 'zmax', 'rope_spacing', 'num_scatters', 'fd_flag', 'lis_opts', 'date', 'git_commit', 'compute_time', 'lis_iter', 'lis_time', 'lis_resid', 'num_threads', 'sol_expr', 'abs_expr', 'source_expr', 'bc_expr', 'vsf_expr', 'param_dict']\n",
      "Before try.\n",
      "INSERT INTO verify_asym_prod_a_tanhb_L_lin_vsf_64x64x10_scat_0_1_2_3_b_m05_0 VALUES (:id, :data_path, :b, :ns, :ntheta, :nphi, :nx, :ny, :nz, :nomega, :zmax, :rope_spacing, :num_scatters, :fd_flag, :lis_opts, :date, :git_commit, :compute_time, :lis_iter, :lis_time, :lis_resid, :num_threads, :sol_expr, :abs_expr, :source_expr, :bc_expr, :vsf_expr, :param_dict);\n",
      "Executing command:\n",
      "INSERT INTO verify_asym_prod_a_tanhb_L_lin_vsf_64x64x10_scat_0_1_2_3_b_m05_0 VALUES (:id, :data_path, :b, :ns, :ntheta, :nphi, :nx, :ny, :nz, :nomega, :zmax, :rope_spacing, :num_scatters, :fd_flag, :lis_opts, :date, :git_commit, :compute_time, :lis_iter, :lis_time, :lis_resid, :num_threads, :sol_expr, :abs_expr, :source_expr, :bc_expr, :vsf_expr, :param_dict);\n",
      "Combining /scratch/kelp-results/verify_asym_prod_a_tanhb_L_lin_vsf_64x64x10_scat_0_1_2_3_b_m05_0/data/5z7stirj.db (tables: ['verify_asym_prod_a_tanhb_L_lin_vsf_64x64x10_scat_0_1_2_3_b_m05_0', 'sqlite_sequence'])\n",
      "read.\n",
      "Not creating table verify_asym_prod_a_tanhb_L_lin_vsf_64x64x10_scat_0_1_2_3_b_m05_0\n",
      "col_names: ['id', 'data_path', 'b', 'ns', 'ntheta', 'nphi', 'nx', 'ny', 'nz', 'nomega', 'zmax', 'rope_spacing', 'num_scatters', 'fd_flag', 'lis_opts', 'date', 'git_commit', 'compute_time', 'lis_iter', 'lis_time', 'lis_resid', 'num_threads', 'sol_expr', 'abs_expr', 'source_expr', 'bc_expr', 'vsf_expr', 'param_dict']\n",
      "Before try.\n",
      "INSERT INTO verify_asym_prod_a_tanhb_L_lin_vsf_64x64x10_scat_0_1_2_3_b_m05_0 VALUES (:id, :data_path, :b, :ns, :ntheta, :nphi, :nx, :ny, :nz, :nomega, :zmax, :rope_spacing, :num_scatters, :fd_flag, :lis_opts, :date, :git_commit, :compute_time, :lis_iter, :lis_time, :lis_resid, :num_threads, :sol_expr, :abs_expr, :source_expr, :bc_expr, :vsf_expr, :param_dict);\n",
      "Executing command:\n",
      "INSERT INTO verify_asym_prod_a_tanhb_L_lin_vsf_64x64x10_scat_0_1_2_3_b_m05_0 VALUES (:id, :data_path, :b, :ns, :ntheta, :nphi, :nx, :ny, :nz, :nomega, :zmax, :rope_spacing, :num_scatters, :fd_flag, :lis_opts, :date, :git_commit, :compute_time, :lis_iter, :lis_time, :lis_resid, :num_threads, :sol_expr, :abs_expr, :source_expr, :bc_expr, :vsf_expr, :param_dict);\n",
      "Combining /scratch/kelp-results/verify_asym_prod_a_tanhb_L_lin_vsf_64x64x10_scat_0_1_2_3_b_m05_0/data/5osqjrhr.db (tables: ['verify_asym_prod_a_tanhb_L_lin_vsf_64x64x10_scat_0_1_2_3_b_m05_0', 'sqlite_sequence'])\n",
      "read.\n",
      "Not creating table verify_asym_prod_a_tanhb_L_lin_vsf_64x64x10_scat_0_1_2_3_b_m05_0\n",
      "col_names: ['id', 'data_path', 'b', 'ns', 'ntheta', 'nphi', 'nx', 'ny', 'nz', 'nomega', 'zmax', 'rope_spacing', 'num_scatters', 'fd_flag', 'lis_opts', 'date', 'git_commit', 'compute_time', 'lis_iter', 'lis_time', 'lis_resid', 'num_threads', 'sol_expr', 'abs_expr', 'source_expr', 'bc_expr', 'vsf_expr', 'param_dict']\n",
      "Before try.\n",
      "INSERT INTO verify_asym_prod_a_tanhb_L_lin_vsf_64x64x10_scat_0_1_2_3_b_m05_0 VALUES (:id, :data_path, :b, :ns, :ntheta, :nphi, :nx, :ny, :nz, :nomega, :zmax, :rope_spacing, :num_scatters, :fd_flag, :lis_opts, :date, :git_commit, :compute_time, :lis_iter, :lis_time, :lis_resid, :num_threads, :sol_expr, :abs_expr, :source_expr, :bc_expr, :vsf_expr, :param_dict);\n",
      "Executing command:\n",
      "INSERT INTO verify_asym_prod_a_tanhb_L_lin_vsf_64x64x10_scat_0_1_2_3_b_m05_0 VALUES (:id, :data_path, :b, :ns, :ntheta, :nphi, :nx, :ny, :nz, :nomega, :zmax, :rope_spacing, :num_scatters, :fd_flag, :lis_opts, :date, :git_commit, :compute_time, :lis_iter, :lis_time, :lis_resid, :num_threads, :sol_expr, :abs_expr, :source_expr, :bc_expr, :vsf_expr, :param_dict);\n",
      "Combining /scratch/kelp-results/verify_asym_prod_a_tanhb_L_lin_vsf_64x64x10_scat_0_1_2_3_b_m05_0/data/ls0n_g_h.db (tables: ['verify_asym_prod_a_tanhb_L_lin_vsf_64x64x10_scat_0_1_2_3_b_m05_0', 'sqlite_sequence'])\n",
      "read.\n",
      "Not creating table verify_asym_prod_a_tanhb_L_lin_vsf_64x64x10_scat_0_1_2_3_b_m05_0\n",
      "col_names: ['id', 'data_path', 'b', 'ns', 'ntheta', 'nphi', 'nx', 'ny', 'nz', 'nomega', 'zmax', 'rope_spacing', 'num_scatters', 'fd_flag', 'lis_opts', 'date', 'git_commit', 'compute_time', 'lis_iter', 'lis_time', 'lis_resid', 'num_threads', 'sol_expr', 'abs_expr', 'source_expr', 'bc_expr', 'vsf_expr', 'param_dict']\n",
      "Before try.\n",
      "INSERT INTO verify_asym_prod_a_tanhb_L_lin_vsf_64x64x10_scat_0_1_2_3_b_m05_0 VALUES (:id, :data_path, :b, :ns, :ntheta, :nphi, :nx, :ny, :nz, :nomega, :zmax, :rope_spacing, :num_scatters, :fd_flag, :lis_opts, :date, :git_commit, :compute_time, :lis_iter, :lis_time, :lis_resid, :num_threads, :sol_expr, :abs_expr, :source_expr, :bc_expr, :vsf_expr, :param_dict);\n",
      "Executing command:\n",
      "INSERT INTO verify_asym_prod_a_tanhb_L_lin_vsf_64x64x10_scat_0_1_2_3_b_m05_0 VALUES (:id, :data_path, :b, :ns, :ntheta, :nphi, :nx, :ny, :nz, :nomega, :zmax, :rope_spacing, :num_scatters, :fd_flag, :lis_opts, :date, :git_commit, :compute_time, :lis_iter, :lis_time, :lis_resid, :num_threads, :sol_expr, :abs_expr, :source_expr, :bc_expr, :vsf_expr, :param_dict);\n",
      "Combining /scratch/kelp-results/verify_asym_prod_a_tanhb_L_lin_vsf_64x64x10_scat_0_1_2_3_b_m05_0/data/u60jd571.db (tables: ['verify_asym_prod_a_tanhb_L_lin_vsf_64x64x10_scat_0_1_2_3_b_m05_0', 'sqlite_sequence'])\n",
      "read.\n",
      "Not creating table verify_asym_prod_a_tanhb_L_lin_vsf_64x64x10_scat_0_1_2_3_b_m05_0\n",
      "col_names: ['id', 'data_path', 'b', 'ns', 'ntheta', 'nphi', 'nx', 'ny', 'nz', 'nomega', 'zmax', 'rope_spacing', 'num_scatters', 'fd_flag', 'lis_opts', 'date', 'git_commit', 'compute_time', 'lis_iter', 'lis_time', 'lis_resid', 'num_threads', 'sol_expr', 'abs_expr', 'source_expr', 'bc_expr', 'vsf_expr', 'param_dict']\n",
      "Before try.\n",
      "INSERT INTO verify_asym_prod_a_tanhb_L_lin_vsf_64x64x10_scat_0_1_2_3_b_m05_0 VALUES (:id, :data_path, :b, :ns, :ntheta, :nphi, :nx, :ny, :nz, :nomega, :zmax, :rope_spacing, :num_scatters, :fd_flag, :lis_opts, :date, :git_commit, :compute_time, :lis_iter, :lis_time, :lis_resid, :num_threads, :sol_expr, :abs_expr, :source_expr, :bc_expr, :vsf_expr, :param_dict);\n",
      "Executing command:\n",
      "INSERT INTO verify_asym_prod_a_tanhb_L_lin_vsf_64x64x10_scat_0_1_2_3_b_m05_0 VALUES (:id, :data_path, :b, :ns, :ntheta, :nphi, :nx, :ny, :nz, :nomega, :zmax, :rope_spacing, :num_scatters, :fd_flag, :lis_opts, :date, :git_commit, :compute_time, :lis_iter, :lis_time, :lis_resid, :num_threads, :sol_expr, :abs_expr, :source_expr, :bc_expr, :vsf_expr, :param_dict);\n",
      "Combining /scratch/kelp-results/verify_asym_prod_a_tanhb_L_lin_vsf_64x64x10_scat_0_1_2_3_b_m05_0/data/x19j660a.db (tables: ['verify_asym_prod_a_tanhb_L_lin_vsf_64x64x10_scat_0_1_2_3_b_m05_0', 'sqlite_sequence'])\n",
      "read.\n",
      "Not creating table verify_asym_prod_a_tanhb_L_lin_vsf_64x64x10_scat_0_1_2_3_b_m05_0\n",
      "col_names: ['id', 'data_path', 'b', 'ns', 'ntheta', 'nphi', 'nx', 'ny', 'nz', 'nomega', 'zmax', 'rope_spacing', 'num_scatters', 'fd_flag', 'lis_opts', 'date', 'git_commit', 'compute_time', 'lis_iter', 'lis_time', 'lis_resid', 'num_threads', 'sol_expr', 'abs_expr', 'source_expr', 'bc_expr', 'vsf_expr', 'param_dict']\n",
      "Before try.\n",
      "INSERT INTO verify_asym_prod_a_tanhb_L_lin_vsf_64x64x10_scat_0_1_2_3_b_m05_0 VALUES (:id, :data_path, :b, :ns, :ntheta, :nphi, :nx, :ny, :nz, :nomega, :zmax, :rope_spacing, :num_scatters, :fd_flag, :lis_opts, :date, :git_commit, :compute_time, :lis_iter, :lis_time, :lis_resid, :num_threads, :sol_expr, :abs_expr, :source_expr, :bc_expr, :vsf_expr, :param_dict);\n",
      "Executing command:\n",
      "INSERT INTO verify_asym_prod_a_tanhb_L_lin_vsf_64x64x10_scat_0_1_2_3_b_m05_0 VALUES (:id, :data_path, :b, :ns, :ntheta, :nphi, :nx, :ny, :nz, :nomega, :zmax, :rope_spacing, :num_scatters, :fd_flag, :lis_opts, :date, :git_commit, :compute_time, :lis_iter, :lis_time, :lis_resid, :num_threads, :sol_expr, :abs_expr, :source_expr, :bc_expr, :vsf_expr, :param_dict);\n",
      "Combining /scratch/kelp-results/verify_asym_prod_a_tanhb_L_lin_vsf_64x64x10_scat_0_1_2_3_b_m05_0/data/5d8upblv.db (tables: ['verify_asym_prod_a_tanhb_L_lin_vsf_64x64x10_scat_0_1_2_3_b_m05_0', 'sqlite_sequence'])\n",
      "read.\n",
      "Not creating table verify_asym_prod_a_tanhb_L_lin_vsf_64x64x10_scat_0_1_2_3_b_m05_0\n",
      "col_names: ['id', 'data_path', 'b', 'ns', 'ntheta', 'nphi', 'nx', 'ny', 'nz', 'nomega', 'zmax', 'rope_spacing', 'num_scatters', 'fd_flag', 'lis_opts', 'date', 'git_commit', 'compute_time', 'lis_iter', 'lis_time', 'lis_resid', 'num_threads', 'sol_expr', 'abs_expr', 'source_expr', 'bc_expr', 'vsf_expr', 'param_dict']\n",
      "Before try.\n",
      "INSERT INTO verify_asym_prod_a_tanhb_L_lin_vsf_64x64x10_scat_0_1_2_3_b_m05_0 VALUES (:id, :data_path, :b, :ns, :ntheta, :nphi, :nx, :ny, :nz, :nomega, :zmax, :rope_spacing, :num_scatters, :fd_flag, :lis_opts, :date, :git_commit, :compute_time, :lis_iter, :lis_time, :lis_resid, :num_threads, :sol_expr, :abs_expr, :source_expr, :bc_expr, :vsf_expr, :param_dict);\n",
      "Executing command:\n",
      "INSERT INTO verify_asym_prod_a_tanhb_L_lin_vsf_64x64x10_scat_0_1_2_3_b_m05_0 VALUES (:id, :data_path, :b, :ns, :ntheta, :nphi, :nx, :ny, :nz, :nomega, :zmax, :rope_spacing, :num_scatters, :fd_flag, :lis_opts, :date, :git_commit, :compute_time, :lis_iter, :lis_time, :lis_resid, :num_threads, :sol_expr, :abs_expr, :source_expr, :bc_expr, :vsf_expr, :param_dict);\n",
      "Combining /scratch/kelp-results/verify_asym_prod_a_tanhb_L_lin_vsf_64x64x10_scat_0_1_2_3_b_m05_0/data/hsu5hm_5.db (tables: ['verify_asym_prod_a_tanhb_L_lin_vsf_64x64x10_scat_0_1_2_3_b_m05_0', 'sqlite_sequence'])\n",
      "read.\n",
      "Not creating table verify_asym_prod_a_tanhb_L_lin_vsf_64x64x10_scat_0_1_2_3_b_m05_0\n",
      "col_names: ['id', 'data_path', 'b', 'ns', 'ntheta', 'nphi', 'nx', 'ny', 'nz', 'nomega', 'zmax', 'rope_spacing', 'num_scatters', 'fd_flag', 'lis_opts', 'date', 'git_commit', 'compute_time', 'lis_iter', 'lis_time', 'lis_resid', 'num_threads', 'sol_expr', 'abs_expr', 'source_expr', 'bc_expr', 'vsf_expr', 'param_dict']\n",
      "Before try.\n",
      "INSERT INTO verify_asym_prod_a_tanhb_L_lin_vsf_64x64x10_scat_0_1_2_3_b_m05_0 VALUES (:id, :data_path, :b, :ns, :ntheta, :nphi, :nx, :ny, :nz, :nomega, :zmax, :rope_spacing, :num_scatters, :fd_flag, :lis_opts, :date, :git_commit, :compute_time, :lis_iter, :lis_time, :lis_resid, :num_threads, :sol_expr, :abs_expr, :source_expr, :bc_expr, :vsf_expr, :param_dict);\n",
      "Executing command:\n",
      "INSERT INTO verify_asym_prod_a_tanhb_L_lin_vsf_64x64x10_scat_0_1_2_3_b_m05_0 VALUES (:id, :data_path, :b, :ns, :ntheta, :nphi, :nx, :ny, :nz, :nomega, :zmax, :rope_spacing, :num_scatters, :fd_flag, :lis_opts, :date, :git_commit, :compute_time, :lis_iter, :lis_time, :lis_resid, :num_threads, :sol_expr, :abs_expr, :source_expr, :bc_expr, :vsf_expr, :param_dict);\n",
      "Combining /scratch/kelp-results/verify_asym_prod_a_tanhb_L_lin_vsf_64x64x10_scat_0_1_2_3_b_m05_0/data/a7d0iqbf.db (tables: ['verify_asym_prod_a_tanhb_L_lin_vsf_64x64x10_scat_0_1_2_3_b_m05_0', 'sqlite_sequence'])\n",
      "read.\n",
      "Not creating table verify_asym_prod_a_tanhb_L_lin_vsf_64x64x10_scat_0_1_2_3_b_m05_0\n",
      "col_names: ['id', 'data_path', 'b', 'ns', 'ntheta', 'nphi', 'nx', 'ny', 'nz', 'nomega', 'zmax', 'rope_spacing', 'num_scatters', 'fd_flag', 'lis_opts', 'date', 'git_commit', 'compute_time', 'lis_iter', 'lis_time', 'lis_resid', 'num_threads', 'sol_expr', 'abs_expr', 'source_expr', 'bc_expr', 'vsf_expr', 'param_dict']\n",
      "Before try.\n",
      "INSERT INTO verify_asym_prod_a_tanhb_L_lin_vsf_64x64x10_scat_0_1_2_3_b_m05_0 VALUES (:id, :data_path, :b, :ns, :ntheta, :nphi, :nx, :ny, :nz, :nomega, :zmax, :rope_spacing, :num_scatters, :fd_flag, :lis_opts, :date, :git_commit, :compute_time, :lis_iter, :lis_time, :lis_resid, :num_threads, :sol_expr, :abs_expr, :source_expr, :bc_expr, :vsf_expr, :param_dict);\n",
      "Executing command:\n",
      "INSERT INTO verify_asym_prod_a_tanhb_L_lin_vsf_64x64x10_scat_0_1_2_3_b_m05_0 VALUES (:id, :data_path, :b, :ns, :ntheta, :nphi, :nx, :ny, :nz, :nomega, :zmax, :rope_spacing, :num_scatters, :fd_flag, :lis_opts, :date, :git_commit, :compute_time, :lis_iter, :lis_time, :lis_resid, :num_threads, :sol_expr, :abs_expr, :source_expr, :bc_expr, :vsf_expr, :param_dict);\n",
      "Combining /scratch/kelp-results/verify_asym_prod_a_tanhb_L_lin_vsf_64x64x10_scat_0_1_2_3_b_m05_0/data/x3t273pb.db (tables: ['verify_asym_prod_a_tanhb_L_lin_vsf_64x64x10_scat_0_1_2_3_b_m05_0', 'sqlite_sequence'])\n",
      "read.\n",
      "Not creating table verify_asym_prod_a_tanhb_L_lin_vsf_64x64x10_scat_0_1_2_3_b_m05_0\n",
      "col_names: ['id', 'data_path', 'b', 'ns', 'ntheta', 'nphi', 'nx', 'ny', 'nz', 'nomega', 'zmax', 'rope_spacing', 'num_scatters', 'fd_flag', 'lis_opts', 'date', 'git_commit', 'compute_time', 'lis_iter', 'lis_time', 'lis_resid', 'num_threads', 'sol_expr', 'abs_expr', 'source_expr', 'bc_expr', 'vsf_expr', 'param_dict']\n",
      "Before try.\n",
      "INSERT INTO verify_asym_prod_a_tanhb_L_lin_vsf_64x64x10_scat_0_1_2_3_b_m05_0 VALUES (:id, :data_path, :b, :ns, :ntheta, :nphi, :nx, :ny, :nz, :nomega, :zmax, :rope_spacing, :num_scatters, :fd_flag, :lis_opts, :date, :git_commit, :compute_time, :lis_iter, :lis_time, :lis_resid, :num_threads, :sol_expr, :abs_expr, :source_expr, :bc_expr, :vsf_expr, :param_dict);\n",
      "Executing command:\n",
      "INSERT INTO verify_asym_prod_a_tanhb_L_lin_vsf_64x64x10_scat_0_1_2_3_b_m05_0 VALUES (:id, :data_path, :b, :ns, :ntheta, :nphi, :nx, :ny, :nz, :nomega, :zmax, :rope_spacing, :num_scatters, :fd_flag, :lis_opts, :date, :git_commit, :compute_time, :lis_iter, :lis_time, :lis_resid, :num_threads, :sol_expr, :abs_expr, :source_expr, :bc_expr, :vsf_expr, :param_dict);\n",
      "Combining /scratch/kelp-results/verify_asym_prod_a_tanhb_L_lin_vsf_64x64x10_scat_0_1_2_3_b_m05_0/data/jwlalqo4.db (tables: ['verify_asym_prod_a_tanhb_L_lin_vsf_64x64x10_scat_0_1_2_3_b_m05_0', 'sqlite_sequence'])\n",
      "read.\n",
      "Not creating table verify_asym_prod_a_tanhb_L_lin_vsf_64x64x10_scat_0_1_2_3_b_m05_0\n",
      "col_names: ['id', 'data_path', 'b', 'ns', 'ntheta', 'nphi', 'nx', 'ny', 'nz', 'nomega', 'zmax', 'rope_spacing', 'num_scatters', 'fd_flag', 'lis_opts', 'date', 'git_commit', 'compute_time', 'lis_iter', 'lis_time', 'lis_resid', 'num_threads', 'sol_expr', 'abs_expr', 'source_expr', 'bc_expr', 'vsf_expr', 'param_dict']\n",
      "Before try.\n",
      "INSERT INTO verify_asym_prod_a_tanhb_L_lin_vsf_64x64x10_scat_0_1_2_3_b_m05_0 VALUES (:id, :data_path, :b, :ns, :ntheta, :nphi, :nx, :ny, :nz, :nomega, :zmax, :rope_spacing, :num_scatters, :fd_flag, :lis_opts, :date, :git_commit, :compute_time, :lis_iter, :lis_time, :lis_resid, :num_threads, :sol_expr, :abs_expr, :source_expr, :bc_expr, :vsf_expr, :param_dict);\n",
      "Executing command:\n",
      "INSERT INTO verify_asym_prod_a_tanhb_L_lin_vsf_64x64x10_scat_0_1_2_3_b_m05_0 VALUES (:id, :data_path, :b, :ns, :ntheta, :nphi, :nx, :ny, :nz, :nomega, :zmax, :rope_spacing, :num_scatters, :fd_flag, :lis_opts, :date, :git_commit, :compute_time, :lis_iter, :lis_time, :lis_resid, :num_threads, :sol_expr, :abs_expr, :source_expr, :bc_expr, :vsf_expr, :param_dict);\n",
      "Combining /scratch/kelp-results/verify_asym_prod_a_tanhb_L_lin_vsf_64x64x10_scat_0_1_2_3_b_m05_0/data/pi4ikpkm.db (tables: ['verify_asym_prod_a_tanhb_L_lin_vsf_64x64x10_scat_0_1_2_3_b_m05_0', 'sqlite_sequence'])\n",
      "read.\n",
      "Not creating table verify_asym_prod_a_tanhb_L_lin_vsf_64x64x10_scat_0_1_2_3_b_m05_0\n",
      "col_names: ['id', 'data_path', 'b', 'ns', 'ntheta', 'nphi', 'nx', 'ny', 'nz', 'nomega', 'zmax', 'rope_spacing', 'num_scatters', 'fd_flag', 'lis_opts', 'date', 'git_commit', 'compute_time', 'lis_iter', 'lis_time', 'lis_resid', 'num_threads', 'sol_expr', 'abs_expr', 'source_expr', 'bc_expr', 'vsf_expr', 'param_dict']\n",
      "Before try.\n",
      "INSERT INTO verify_asym_prod_a_tanhb_L_lin_vsf_64x64x10_scat_0_1_2_3_b_m05_0 VALUES (:id, :data_path, :b, :ns, :ntheta, :nphi, :nx, :ny, :nz, :nomega, :zmax, :rope_spacing, :num_scatters, :fd_flag, :lis_opts, :date, :git_commit, :compute_time, :lis_iter, :lis_time, :lis_resid, :num_threads, :sol_expr, :abs_expr, :source_expr, :bc_expr, :vsf_expr, :param_dict);\n",
      "Executing command:\n",
      "INSERT INTO verify_asym_prod_a_tanhb_L_lin_vsf_64x64x10_scat_0_1_2_3_b_m05_0 VALUES (:id, :data_path, :b, :ns, :ntheta, :nphi, :nx, :ny, :nz, :nomega, :zmax, :rope_spacing, :num_scatters, :fd_flag, :lis_opts, :date, :git_commit, :compute_time, :lis_iter, :lis_time, :lis_resid, :num_threads, :sol_expr, :abs_expr, :source_expr, :bc_expr, :vsf_expr, :param_dict);\n",
      "Combining /scratch/kelp-results/verify_asym_prod_a_tanhb_L_lin_vsf_64x64x10_scat_0_1_2_3_b_m05_0/data/evaa7jb4.db (tables: ['verify_asym_prod_a_tanhb_L_lin_vsf_64x64x10_scat_0_1_2_3_b_m05_0', 'sqlite_sequence'])\n",
      "read.\n",
      "Not creating table verify_asym_prod_a_tanhb_L_lin_vsf_64x64x10_scat_0_1_2_3_b_m05_0\n",
      "col_names: ['id', 'data_path', 'b', 'ns', 'ntheta', 'nphi', 'nx', 'ny', 'nz', 'nomega', 'zmax', 'rope_spacing', 'num_scatters', 'fd_flag', 'lis_opts', 'date', 'git_commit', 'compute_time', 'lis_iter', 'lis_time', 'lis_resid', 'num_threads', 'sol_expr', 'abs_expr', 'source_expr', 'bc_expr', 'vsf_expr', 'param_dict']\n",
      "Before try.\n",
      "INSERT INTO verify_asym_prod_a_tanhb_L_lin_vsf_64x64x10_scat_0_1_2_3_b_m05_0 VALUES (:id, :data_path, :b, :ns, :ntheta, :nphi, :nx, :ny, :nz, :nomega, :zmax, :rope_spacing, :num_scatters, :fd_flag, :lis_opts, :date, :git_commit, :compute_time, :lis_iter, :lis_time, :lis_resid, :num_threads, :sol_expr, :abs_expr, :source_expr, :bc_expr, :vsf_expr, :param_dict);\n",
      "Executing command:\n",
      "INSERT INTO verify_asym_prod_a_tanhb_L_lin_vsf_64x64x10_scat_0_1_2_3_b_m05_0 VALUES (:id, :data_path, :b, :ns, :ntheta, :nphi, :nx, :ny, :nz, :nomega, :zmax, :rope_spacing, :num_scatters, :fd_flag, :lis_opts, :date, :git_commit, :compute_time, :lis_iter, :lis_time, :lis_resid, :num_threads, :sol_expr, :abs_expr, :source_expr, :bc_expr, :vsf_expr, :param_dict);\n",
      "Combining /scratch/kelp-results/verify_asym_prod_a_tanhb_L_lin_vsf_64x64x10_scat_0_1_2_3_b_m05_0/data/s032apqz.db (tables: ['verify_asym_prod_a_tanhb_L_lin_vsf_64x64x10_scat_0_1_2_3_b_m05_0', 'sqlite_sequence'])\n",
      "read.\n",
      "Not creating table verify_asym_prod_a_tanhb_L_lin_vsf_64x64x10_scat_0_1_2_3_b_m05_0\n",
      "col_names: ['id', 'data_path', 'b', 'ns', 'ntheta', 'nphi', 'nx', 'ny', 'nz', 'nomega', 'zmax', 'rope_spacing', 'num_scatters', 'fd_flag', 'lis_opts', 'date', 'git_commit', 'compute_time', 'lis_iter', 'lis_time', 'lis_resid', 'num_threads', 'sol_expr', 'abs_expr', 'source_expr', 'bc_expr', 'vsf_expr', 'param_dict']\n",
      "Before try.\n",
      "INSERT INTO verify_asym_prod_a_tanhb_L_lin_vsf_64x64x10_scat_0_1_2_3_b_m05_0 VALUES (:id, :data_path, :b, :ns, :ntheta, :nphi, :nx, :ny, :nz, :nomega, :zmax, :rope_spacing, :num_scatters, :fd_flag, :lis_opts, :date, :git_commit, :compute_time, :lis_iter, :lis_time, :lis_resid, :num_threads, :sol_expr, :abs_expr, :source_expr, :bc_expr, :vsf_expr, :param_dict);\n",
      "Executing command:\n",
      "INSERT INTO verify_asym_prod_a_tanhb_L_lin_vsf_64x64x10_scat_0_1_2_3_b_m05_0 VALUES (:id, :data_path, :b, :ns, :ntheta, :nphi, :nx, :ny, :nz, :nomega, :zmax, :rope_spacing, :num_scatters, :fd_flag, :lis_opts, :date, :git_commit, :compute_time, :lis_iter, :lis_time, :lis_resid, :num_threads, :sol_expr, :abs_expr, :source_expr, :bc_expr, :vsf_expr, :param_dict);\n",
      "Combining /scratch/kelp-results/verify_asym_prod_a_tanhb_L_lin_vsf_64x64x10_scat_0_1_2_3_b_m05_0/data/vzf28nup.db (tables: ['verify_asym_prod_a_tanhb_L_lin_vsf_64x64x10_scat_0_1_2_3_b_m05_0', 'sqlite_sequence'])\n",
      "read.\n",
      "Not creating table verify_asym_prod_a_tanhb_L_lin_vsf_64x64x10_scat_0_1_2_3_b_m05_0\n",
      "col_names: ['id', 'data_path', 'b', 'ns', 'ntheta', 'nphi', 'nx', 'ny', 'nz', 'nomega', 'zmax', 'rope_spacing', 'num_scatters', 'fd_flag', 'lis_opts', 'date', 'git_commit', 'compute_time', 'lis_iter', 'lis_time', 'lis_resid', 'num_threads', 'sol_expr', 'abs_expr', 'source_expr', 'bc_expr', 'vsf_expr', 'param_dict']\n",
      "Before try.\n",
      "INSERT INTO verify_asym_prod_a_tanhb_L_lin_vsf_64x64x10_scat_0_1_2_3_b_m05_0 VALUES (:id, :data_path, :b, :ns, :ntheta, :nphi, :nx, :ny, :nz, :nomega, :zmax, :rope_spacing, :num_scatters, :fd_flag, :lis_opts, :date, :git_commit, :compute_time, :lis_iter, :lis_time, :lis_resid, :num_threads, :sol_expr, :abs_expr, :source_expr, :bc_expr, :vsf_expr, :param_dict);\n",
      "Executing command:\n",
      "INSERT INTO verify_asym_prod_a_tanhb_L_lin_vsf_64x64x10_scat_0_1_2_3_b_m05_0 VALUES (:id, :data_path, :b, :ns, :ntheta, :nphi, :nx, :ny, :nz, :nomega, :zmax, :rope_spacing, :num_scatters, :fd_flag, :lis_opts, :date, :git_commit, :compute_time, :lis_iter, :lis_time, :lis_resid, :num_threads, :sol_expr, :abs_expr, :source_expr, :bc_expr, :vsf_expr, :param_dict);\n",
      "Combining /scratch/kelp-results/verify_asym_prod_a_tanhb_L_lin_vsf_64x64x10_scat_0_1_2_3_b_m05_0/data/17rg1tt4.db (tables: ['verify_asym_prod_a_tanhb_L_lin_vsf_64x64x10_scat_0_1_2_3_b_m05_0', 'sqlite_sequence'])\n",
      "read.\n",
      "Not creating table verify_asym_prod_a_tanhb_L_lin_vsf_64x64x10_scat_0_1_2_3_b_m05_0\n",
      "col_names: ['id', 'data_path', 'b', 'ns', 'ntheta', 'nphi', 'nx', 'ny', 'nz', 'nomega', 'zmax', 'rope_spacing', 'num_scatters', 'fd_flag', 'lis_opts', 'date', 'git_commit', 'compute_time', 'lis_iter', 'lis_time', 'lis_resid', 'num_threads', 'sol_expr', 'abs_expr', 'source_expr', 'bc_expr', 'vsf_expr', 'param_dict']\n",
      "Before try.\n",
      "INSERT INTO verify_asym_prod_a_tanhb_L_lin_vsf_64x64x10_scat_0_1_2_3_b_m05_0 VALUES (:id, :data_path, :b, :ns, :ntheta, :nphi, :nx, :ny, :nz, :nomega, :zmax, :rope_spacing, :num_scatters, :fd_flag, :lis_opts, :date, :git_commit, :compute_time, :lis_iter, :lis_time, :lis_resid, :num_threads, :sol_expr, :abs_expr, :source_expr, :bc_expr, :vsf_expr, :param_dict);\n",
      "Executing command:\n",
      "INSERT INTO verify_asym_prod_a_tanhb_L_lin_vsf_64x64x10_scat_0_1_2_3_b_m05_0 VALUES (:id, :data_path, :b, :ns, :ntheta, :nphi, :nx, :ny, :nz, :nomega, :zmax, :rope_spacing, :num_scatters, :fd_flag, :lis_opts, :date, :git_commit, :compute_time, :lis_iter, :lis_time, :lis_resid, :num_threads, :sol_expr, :abs_expr, :source_expr, :bc_expr, :vsf_expr, :param_dict);\n",
      "Combining /scratch/kelp-results/verify_asym_prod_a_tanhb_L_lin_vsf_64x64x10_scat_0_1_2_3_b_m05_0/data/7vreuzip.db (tables: ['verify_asym_prod_a_tanhb_L_lin_vsf_64x64x10_scat_0_1_2_3_b_m05_0', 'sqlite_sequence'])\n",
      "read.\n",
      "Not creating table verify_asym_prod_a_tanhb_L_lin_vsf_64x64x10_scat_0_1_2_3_b_m05_0\n",
      "col_names: ['id', 'data_path', 'b', 'ns', 'ntheta', 'nphi', 'nx', 'ny', 'nz', 'nomega', 'zmax', 'rope_spacing', 'num_scatters', 'fd_flag', 'lis_opts', 'date', 'git_commit', 'compute_time', 'lis_iter', 'lis_time', 'lis_resid', 'num_threads', 'sol_expr', 'abs_expr', 'source_expr', 'bc_expr', 'vsf_expr', 'param_dict']\n",
      "Before try.\n",
      "INSERT INTO verify_asym_prod_a_tanhb_L_lin_vsf_64x64x10_scat_0_1_2_3_b_m05_0 VALUES (:id, :data_path, :b, :ns, :ntheta, :nphi, :nx, :ny, :nz, :nomega, :zmax, :rope_spacing, :num_scatters, :fd_flag, :lis_opts, :date, :git_commit, :compute_time, :lis_iter, :lis_time, :lis_resid, :num_threads, :sol_expr, :abs_expr, :source_expr, :bc_expr, :vsf_expr, :param_dict);\n",
      "Executing command:\n",
      "INSERT INTO verify_asym_prod_a_tanhb_L_lin_vsf_64x64x10_scat_0_1_2_3_b_m05_0 VALUES (:id, :data_path, :b, :ns, :ntheta, :nphi, :nx, :ny, :nz, :nomega, :zmax, :rope_spacing, :num_scatters, :fd_flag, :lis_opts, :date, :git_commit, :compute_time, :lis_iter, :lis_time, :lis_resid, :num_threads, :sol_expr, :abs_expr, :source_expr, :bc_expr, :vsf_expr, :param_dict);\n",
      "Combining /scratch/kelp-results/verify_asym_prod_a_tanhb_L_lin_vsf_64x64x10_scat_0_1_2_3_b_m05_0/data/n7jyrlqi.db (tables: ['verify_asym_prod_a_tanhb_L_lin_vsf_64x64x10_scat_0_1_2_3_b_m05_0', 'sqlite_sequence'])\n",
      "read.\n",
      "Not creating table verify_asym_prod_a_tanhb_L_lin_vsf_64x64x10_scat_0_1_2_3_b_m05_0\n",
      "col_names: ['id', 'data_path', 'b', 'ns', 'ntheta', 'nphi', 'nx', 'ny', 'nz', 'nomega', 'zmax', 'rope_spacing', 'num_scatters', 'fd_flag', 'lis_opts', 'date', 'git_commit', 'compute_time', 'lis_iter', 'lis_time', 'lis_resid', 'num_threads', 'sol_expr', 'abs_expr', 'source_expr', 'bc_expr', 'vsf_expr', 'param_dict']\n",
      "Before try.\n",
      "INSERT INTO verify_asym_prod_a_tanhb_L_lin_vsf_64x64x10_scat_0_1_2_3_b_m05_0 VALUES (:id, :data_path, :b, :ns, :ntheta, :nphi, :nx, :ny, :nz, :nomega, :zmax, :rope_spacing, :num_scatters, :fd_flag, :lis_opts, :date, :git_commit, :compute_time, :lis_iter, :lis_time, :lis_resid, :num_threads, :sol_expr, :abs_expr, :source_expr, :bc_expr, :vsf_expr, :param_dict);\n",
      "Executing command:\n",
      "INSERT INTO verify_asym_prod_a_tanhb_L_lin_vsf_64x64x10_scat_0_1_2_3_b_m05_0 VALUES (:id, :data_path, :b, :ns, :ntheta, :nphi, :nx, :ny, :nz, :nomega, :zmax, :rope_spacing, :num_scatters, :fd_flag, :lis_opts, :date, :git_commit, :compute_time, :lis_iter, :lis_time, :lis_resid, :num_threads, :sol_expr, :abs_expr, :source_expr, :bc_expr, :vsf_expr, :param_dict);\n",
      "Combining /scratch/kelp-results/verify_asym_prod_a_tanhb_L_lin_vsf_64x64x10_scat_0_1_2_3_b_m05_0/data/pyqdx79s.db (tables: ['verify_asym_prod_a_tanhb_L_lin_vsf_64x64x10_scat_0_1_2_3_b_m05_0', 'sqlite_sequence'])\n",
      "read.\n",
      "Not creating table verify_asym_prod_a_tanhb_L_lin_vsf_64x64x10_scat_0_1_2_3_b_m05_0\n",
      "col_names: ['id', 'data_path', 'b', 'ns', 'ntheta', 'nphi', 'nx', 'ny', 'nz', 'nomega', 'zmax', 'rope_spacing', 'num_scatters', 'fd_flag', 'lis_opts', 'date', 'git_commit', 'compute_time', 'lis_iter', 'lis_time', 'lis_resid', 'num_threads', 'sol_expr', 'abs_expr', 'source_expr', 'bc_expr', 'vsf_expr', 'param_dict']\n",
      "Before try.\n",
      "INSERT INTO verify_asym_prod_a_tanhb_L_lin_vsf_64x64x10_scat_0_1_2_3_b_m05_0 VALUES (:id, :data_path, :b, :ns, :ntheta, :nphi, :nx, :ny, :nz, :nomega, :zmax, :rope_spacing, :num_scatters, :fd_flag, :lis_opts, :date, :git_commit, :compute_time, :lis_iter, :lis_time, :lis_resid, :num_threads, :sol_expr, :abs_expr, :source_expr, :bc_expr, :vsf_expr, :param_dict);\n",
      "Executing command:\n",
      "INSERT INTO verify_asym_prod_a_tanhb_L_lin_vsf_64x64x10_scat_0_1_2_3_b_m05_0 VALUES (:id, :data_path, :b, :ns, :ntheta, :nphi, :nx, :ny, :nz, :nomega, :zmax, :rope_spacing, :num_scatters, :fd_flag, :lis_opts, :date, :git_commit, :compute_time, :lis_iter, :lis_time, :lis_resid, :num_threads, :sol_expr, :abs_expr, :source_expr, :bc_expr, :vsf_expr, :param_dict);\n",
      "Combining /scratch/kelp-results/verify_asym_prod_a_tanhb_L_lin_vsf_64x64x10_scat_0_1_2_3_b_m05_0/data/tdkxwdwi.db (tables: ['verify_asym_prod_a_tanhb_L_lin_vsf_64x64x10_scat_0_1_2_3_b_m05_0', 'sqlite_sequence'])\n",
      "read.\n",
      "Not creating table verify_asym_prod_a_tanhb_L_lin_vsf_64x64x10_scat_0_1_2_3_b_m05_0\n",
      "col_names: ['id', 'data_path', 'b', 'ns', 'ntheta', 'nphi', 'nx', 'ny', 'nz', 'nomega', 'zmax', 'rope_spacing', 'num_scatters', 'fd_flag', 'lis_opts', 'date', 'git_commit', 'compute_time', 'lis_iter', 'lis_time', 'lis_resid', 'num_threads', 'sol_expr', 'abs_expr', 'source_expr', 'bc_expr', 'vsf_expr', 'param_dict']\n",
      "Before try.\n",
      "INSERT INTO verify_asym_prod_a_tanhb_L_lin_vsf_64x64x10_scat_0_1_2_3_b_m05_0 VALUES (:id, :data_path, :b, :ns, :ntheta, :nphi, :nx, :ny, :nz, :nomega, :zmax, :rope_spacing, :num_scatters, :fd_flag, :lis_opts, :date, :git_commit, :compute_time, :lis_iter, :lis_time, :lis_resid, :num_threads, :sol_expr, :abs_expr, :source_expr, :bc_expr, :vsf_expr, :param_dict);\n",
      "Executing command:\n",
      "INSERT INTO verify_asym_prod_a_tanhb_L_lin_vsf_64x64x10_scat_0_1_2_3_b_m05_0 VALUES (:id, :data_path, :b, :ns, :ntheta, :nphi, :nx, :ny, :nz, :nomega, :zmax, :rope_spacing, :num_scatters, :fd_flag, :lis_opts, :date, :git_commit, :compute_time, :lis_iter, :lis_time, :lis_resid, :num_threads, :sol_expr, :abs_expr, :source_expr, :bc_expr, :vsf_expr, :param_dict);\n",
      "Combining /scratch/kelp-results/verify_asym_prod_a_tanhb_L_lin_vsf_64x64x10_scat_0_1_2_3_b_m05_0/data/9zob41i2.db (tables: ['verify_asym_prod_a_tanhb_L_lin_vsf_64x64x10_scat_0_1_2_3_b_m05_0', 'sqlite_sequence'])\n",
      "read.\n",
      "Not creating table verify_asym_prod_a_tanhb_L_lin_vsf_64x64x10_scat_0_1_2_3_b_m05_0\n",
      "col_names: ['id', 'data_path', 'b', 'ns', 'ntheta', 'nphi', 'nx', 'ny', 'nz', 'nomega', 'zmax', 'rope_spacing', 'num_scatters', 'fd_flag', 'lis_opts', 'date', 'git_commit', 'compute_time', 'lis_iter', 'lis_time', 'lis_resid', 'num_threads', 'sol_expr', 'abs_expr', 'source_expr', 'bc_expr', 'vsf_expr', 'param_dict']\n",
      "Before try.\n",
      "INSERT INTO verify_asym_prod_a_tanhb_L_lin_vsf_64x64x10_scat_0_1_2_3_b_m05_0 VALUES (:id, :data_path, :b, :ns, :ntheta, :nphi, :nx, :ny, :nz, :nomega, :zmax, :rope_spacing, :num_scatters, :fd_flag, :lis_opts, :date, :git_commit, :compute_time, :lis_iter, :lis_time, :lis_resid, :num_threads, :sol_expr, :abs_expr, :source_expr, :bc_expr, :vsf_expr, :param_dict);\n",
      "Executing command:\n",
      "INSERT INTO verify_asym_prod_a_tanhb_L_lin_vsf_64x64x10_scat_0_1_2_3_b_m05_0 VALUES (:id, :data_path, :b, :ns, :ntheta, :nphi, :nx, :ny, :nz, :nomega, :zmax, :rope_spacing, :num_scatters, :fd_flag, :lis_opts, :date, :git_commit, :compute_time, :lis_iter, :lis_time, :lis_resid, :num_threads, :sol_expr, :abs_expr, :source_expr, :bc_expr, :vsf_expr, :param_dict);\n",
      "Combining /scratch/kelp-results/verify_asym_prod_a_tanhb_L_lin_vsf_64x64x10_scat_0_1_2_3_b_m05_0/data/ljpdua20.db (tables: ['verify_asym_prod_a_tanhb_L_lin_vsf_64x64x10_scat_0_1_2_3_b_m05_0', 'sqlite_sequence'])\n",
      "read.\n",
      "Not creating table verify_asym_prod_a_tanhb_L_lin_vsf_64x64x10_scat_0_1_2_3_b_m05_0\n",
      "col_names: ['id', 'data_path', 'b', 'ns', 'ntheta', 'nphi', 'nx', 'ny', 'nz', 'nomega', 'zmax', 'rope_spacing', 'num_scatters', 'fd_flag', 'lis_opts', 'date', 'git_commit', 'compute_time', 'lis_iter', 'lis_time', 'lis_resid', 'num_threads', 'sol_expr', 'abs_expr', 'source_expr', 'bc_expr', 'vsf_expr', 'param_dict']\n",
      "Before try.\n",
      "INSERT INTO verify_asym_prod_a_tanhb_L_lin_vsf_64x64x10_scat_0_1_2_3_b_m05_0 VALUES (:id, :data_path, :b, :ns, :ntheta, :nphi, :nx, :ny, :nz, :nomega, :zmax, :rope_spacing, :num_scatters, :fd_flag, :lis_opts, :date, :git_commit, :compute_time, :lis_iter, :lis_time, :lis_resid, :num_threads, :sol_expr, :abs_expr, :source_expr, :bc_expr, :vsf_expr, :param_dict);\n",
      "Executing command:\n",
      "INSERT INTO verify_asym_prod_a_tanhb_L_lin_vsf_64x64x10_scat_0_1_2_3_b_m05_0 VALUES (:id, :data_path, :b, :ns, :ntheta, :nphi, :nx, :ny, :nz, :nomega, :zmax, :rope_spacing, :num_scatters, :fd_flag, :lis_opts, :date, :git_commit, :compute_time, :lis_iter, :lis_time, :lis_resid, :num_threads, :sol_expr, :abs_expr, :source_expr, :bc_expr, :vsf_expr, :param_dict);\n",
      "Combining /scratch/kelp-results/verify_asym_prod_a_tanhb_L_lin_vsf_64x64x10_scat_0_1_2_3_b_m05_0/data/bmeag8uq.db (tables: ['verify_asym_prod_a_tanhb_L_lin_vsf_64x64x10_scat_0_1_2_3_b_m05_0', 'sqlite_sequence'])\n",
      "read.\n",
      "Not creating table verify_asym_prod_a_tanhb_L_lin_vsf_64x64x10_scat_0_1_2_3_b_m05_0\n",
      "col_names: ['id', 'data_path', 'b', 'ns', 'ntheta', 'nphi', 'nx', 'ny', 'nz', 'nomega', 'zmax', 'rope_spacing', 'num_scatters', 'fd_flag', 'lis_opts', 'date', 'git_commit', 'compute_time', 'lis_iter', 'lis_time', 'lis_resid', 'num_threads', 'sol_expr', 'abs_expr', 'source_expr', 'bc_expr', 'vsf_expr', 'param_dict']\n",
      "Before try.\n",
      "INSERT INTO verify_asym_prod_a_tanhb_L_lin_vsf_64x64x10_scat_0_1_2_3_b_m05_0 VALUES (:id, :data_path, :b, :ns, :ntheta, :nphi, :nx, :ny, :nz, :nomega, :zmax, :rope_spacing, :num_scatters, :fd_flag, :lis_opts, :date, :git_commit, :compute_time, :lis_iter, :lis_time, :lis_resid, :num_threads, :sol_expr, :abs_expr, :source_expr, :bc_expr, :vsf_expr, :param_dict);\n",
      "Executing command:\n",
      "INSERT INTO verify_asym_prod_a_tanhb_L_lin_vsf_64x64x10_scat_0_1_2_3_b_m05_0 VALUES (:id, :data_path, :b, :ns, :ntheta, :nphi, :nx, :ny, :nz, :nomega, :zmax, :rope_spacing, :num_scatters, :fd_flag, :lis_opts, :date, :git_commit, :compute_time, :lis_iter, :lis_time, :lis_resid, :num_threads, :sol_expr, :abs_expr, :source_expr, :bc_expr, :vsf_expr, :param_dict);\n",
      "Combining /scratch/kelp-results/verify_asym_prod_a_tanhb_L_lin_vsf_64x64x10_scat_0_1_2_3_b_m05_0/data/arasv7xj.db (tables: ['verify_asym_prod_a_tanhb_L_lin_vsf_64x64x10_scat_0_1_2_3_b_m05_0', 'sqlite_sequence'])\n",
      "read.\n",
      "Not creating table verify_asym_prod_a_tanhb_L_lin_vsf_64x64x10_scat_0_1_2_3_b_m05_0\n",
      "col_names: ['id', 'data_path', 'b', 'ns', 'ntheta', 'nphi', 'nx', 'ny', 'nz', 'nomega', 'zmax', 'rope_spacing', 'num_scatters', 'fd_flag', 'lis_opts', 'date', 'git_commit', 'compute_time', 'lis_iter', 'lis_time', 'lis_resid', 'num_threads', 'sol_expr', 'abs_expr', 'source_expr', 'bc_expr', 'vsf_expr', 'param_dict']\n",
      "Before try.\n",
      "INSERT INTO verify_asym_prod_a_tanhb_L_lin_vsf_64x64x10_scat_0_1_2_3_b_m05_0 VALUES (:id, :data_path, :b, :ns, :ntheta, :nphi, :nx, :ny, :nz, :nomega, :zmax, :rope_spacing, :num_scatters, :fd_flag, :lis_opts, :date, :git_commit, :compute_time, :lis_iter, :lis_time, :lis_resid, :num_threads, :sol_expr, :abs_expr, :source_expr, :bc_expr, :vsf_expr, :param_dict);\n",
      "Executing command:\n",
      "INSERT INTO verify_asym_prod_a_tanhb_L_lin_vsf_64x64x10_scat_0_1_2_3_b_m05_0 VALUES (:id, :data_path, :b, :ns, :ntheta, :nphi, :nx, :ny, :nz, :nomega, :zmax, :rope_spacing, :num_scatters, :fd_flag, :lis_opts, :date, :git_commit, :compute_time, :lis_iter, :lis_time, :lis_resid, :num_threads, :sol_expr, :abs_expr, :source_expr, :bc_expr, :vsf_expr, :param_dict);\n",
      "Combining /scratch/kelp-results/verify_asym_prod_a_tanhb_L_lin_vsf_64x64x10_scat_0_1_2_3_b_m05_0/data/vh4z23p9.db (tables: ['verify_asym_prod_a_tanhb_L_lin_vsf_64x64x10_scat_0_1_2_3_b_m05_0', 'sqlite_sequence'])\n",
      "read.\n",
      "Not creating table verify_asym_prod_a_tanhb_L_lin_vsf_64x64x10_scat_0_1_2_3_b_m05_0\n",
      "col_names: ['id', 'data_path', 'b', 'ns', 'ntheta', 'nphi', 'nx', 'ny', 'nz', 'nomega', 'zmax', 'rope_spacing', 'num_scatters', 'fd_flag', 'lis_opts', 'date', 'git_commit', 'compute_time', 'lis_iter', 'lis_time', 'lis_resid', 'num_threads', 'sol_expr', 'abs_expr', 'source_expr', 'bc_expr', 'vsf_expr', 'param_dict']\n",
      "Before try.\n",
      "INSERT INTO verify_asym_prod_a_tanhb_L_lin_vsf_64x64x10_scat_0_1_2_3_b_m05_0 VALUES (:id, :data_path, :b, :ns, :ntheta, :nphi, :nx, :ny, :nz, :nomega, :zmax, :rope_spacing, :num_scatters, :fd_flag, :lis_opts, :date, :git_commit, :compute_time, :lis_iter, :lis_time, :lis_resid, :num_threads, :sol_expr, :abs_expr, :source_expr, :bc_expr, :vsf_expr, :param_dict);\n",
      "Executing command:\n",
      "INSERT INTO verify_asym_prod_a_tanhb_L_lin_vsf_64x64x10_scat_0_1_2_3_b_m05_0 VALUES (:id, :data_path, :b, :ns, :ntheta, :nphi, :nx, :ny, :nz, :nomega, :zmax, :rope_spacing, :num_scatters, :fd_flag, :lis_opts, :date, :git_commit, :compute_time, :lis_iter, :lis_time, :lis_resid, :num_threads, :sol_expr, :abs_expr, :source_expr, :bc_expr, :vsf_expr, :param_dict);\n",
      "Combining /scratch/kelp-results/verify_asym_prod_a_tanhb_L_lin_vsf_64x64x10_scat_0_1_2_3_b_m05_0/data/pmrlvzow.db (tables: ['verify_asym_prod_a_tanhb_L_lin_vsf_64x64x10_scat_0_1_2_3_b_m05_0', 'sqlite_sequence'])\n",
      "read.\n",
      "Not creating table verify_asym_prod_a_tanhb_L_lin_vsf_64x64x10_scat_0_1_2_3_b_m05_0\n",
      "col_names: ['id', 'data_path', 'b', 'ns', 'ntheta', 'nphi', 'nx', 'ny', 'nz', 'nomega', 'zmax', 'rope_spacing', 'num_scatters', 'fd_flag', 'lis_opts', 'date', 'git_commit', 'compute_time', 'lis_iter', 'lis_time', 'lis_resid', 'num_threads', 'sol_expr', 'abs_expr', 'source_expr', 'bc_expr', 'vsf_expr', 'param_dict']\n",
      "Before try.\n",
      "INSERT INTO verify_asym_prod_a_tanhb_L_lin_vsf_64x64x10_scat_0_1_2_3_b_m05_0 VALUES (:id, :data_path, :b, :ns, :ntheta, :nphi, :nx, :ny, :nz, :nomega, :zmax, :rope_spacing, :num_scatters, :fd_flag, :lis_opts, :date, :git_commit, :compute_time, :lis_iter, :lis_time, :lis_resid, :num_threads, :sol_expr, :abs_expr, :source_expr, :bc_expr, :vsf_expr, :param_dict);\n",
      "Executing command:\n",
      "INSERT INTO verify_asym_prod_a_tanhb_L_lin_vsf_64x64x10_scat_0_1_2_3_b_m05_0 VALUES (:id, :data_path, :b, :ns, :ntheta, :nphi, :nx, :ny, :nz, :nomega, :zmax, :rope_spacing, :num_scatters, :fd_flag, :lis_opts, :date, :git_commit, :compute_time, :lis_iter, :lis_time, :lis_resid, :num_threads, :sol_expr, :abs_expr, :source_expr, :bc_expr, :vsf_expr, :param_dict);\n",
      "Combining /scratch/kelp-results/verify_asym_prod_a_tanhb_L_lin_vsf_64x64x10_scat_0_1_2_3_b_m05_0/data/owic9r12.db (tables: ['verify_asym_prod_a_tanhb_L_lin_vsf_64x64x10_scat_0_1_2_3_b_m05_0', 'sqlite_sequence'])\n",
      "read.\n",
      "Not creating table verify_asym_prod_a_tanhb_L_lin_vsf_64x64x10_scat_0_1_2_3_b_m05_0\n",
      "col_names: ['id', 'data_path', 'b', 'ns', 'ntheta', 'nphi', 'nx', 'ny', 'nz', 'nomega', 'zmax', 'rope_spacing', 'num_scatters', 'fd_flag', 'lis_opts', 'date', 'git_commit', 'compute_time', 'lis_iter', 'lis_time', 'lis_resid', 'num_threads', 'sol_expr', 'abs_expr', 'source_expr', 'bc_expr', 'vsf_expr', 'param_dict']\n",
      "Before try.\n",
      "INSERT INTO verify_asym_prod_a_tanhb_L_lin_vsf_64x64x10_scat_0_1_2_3_b_m05_0 VALUES (:id, :data_path, :b, :ns, :ntheta, :nphi, :nx, :ny, :nz, :nomega, :zmax, :rope_spacing, :num_scatters, :fd_flag, :lis_opts, :date, :git_commit, :compute_time, :lis_iter, :lis_time, :lis_resid, :num_threads, :sol_expr, :abs_expr, :source_expr, :bc_expr, :vsf_expr, :param_dict);\n",
      "Executing command:\n",
      "INSERT INTO verify_asym_prod_a_tanhb_L_lin_vsf_64x64x10_scat_0_1_2_3_b_m05_0 VALUES (:id, :data_path, :b, :ns, :ntheta, :nphi, :nx, :ny, :nz, :nomega, :zmax, :rope_spacing, :num_scatters, :fd_flag, :lis_opts, :date, :git_commit, :compute_time, :lis_iter, :lis_time, :lis_resid, :num_threads, :sol_expr, :abs_expr, :source_expr, :bc_expr, :vsf_expr, :param_dict);\n",
      "Combining /scratch/kelp-results/verify_asym_prod_a_tanhb_L_lin_vsf_64x64x10_scat_0_1_2_3_b_m05_0/data/k604b5zb.db (tables: ['verify_asym_prod_a_tanhb_L_lin_vsf_64x64x10_scat_0_1_2_3_b_m05_0', 'sqlite_sequence'])\n",
      "read.\n",
      "Not creating table verify_asym_prod_a_tanhb_L_lin_vsf_64x64x10_scat_0_1_2_3_b_m05_0\n",
      "col_names: ['id', 'data_path', 'b', 'ns', 'ntheta', 'nphi', 'nx', 'ny', 'nz', 'nomega', 'zmax', 'rope_spacing', 'num_scatters', 'fd_flag', 'lis_opts', 'date', 'git_commit', 'compute_time', 'lis_iter', 'lis_time', 'lis_resid', 'num_threads', 'sol_expr', 'abs_expr', 'source_expr', 'bc_expr', 'vsf_expr', 'param_dict']\n",
      "Before try.\n",
      "INSERT INTO verify_asym_prod_a_tanhb_L_lin_vsf_64x64x10_scat_0_1_2_3_b_m05_0 VALUES (:id, :data_path, :b, :ns, :ntheta, :nphi, :nx, :ny, :nz, :nomega, :zmax, :rope_spacing, :num_scatters, :fd_flag, :lis_opts, :date, :git_commit, :compute_time, :lis_iter, :lis_time, :lis_resid, :num_threads, :sol_expr, :abs_expr, :source_expr, :bc_expr, :vsf_expr, :param_dict);\n",
      "Executing command:\n",
      "INSERT INTO verify_asym_prod_a_tanhb_L_lin_vsf_64x64x10_scat_0_1_2_3_b_m05_0 VALUES (:id, :data_path, :b, :ns, :ntheta, :nphi, :nx, :ny, :nz, :nomega, :zmax, :rope_spacing, :num_scatters, :fd_flag, :lis_opts, :date, :git_commit, :compute_time, :lis_iter, :lis_time, :lis_resid, :num_threads, :sol_expr, :abs_expr, :source_expr, :bc_expr, :vsf_expr, :param_dict);\n",
      "Combining /scratch/kelp-results/verify_asym_prod_a_tanhb_L_lin_vsf_64x64x10_scat_0_1_2_3_b_m05_0/data/37sehcuv.db (tables: ['verify_asym_prod_a_tanhb_L_lin_vsf_64x64x10_scat_0_1_2_3_b_m05_0', 'sqlite_sequence'])\n",
      "read.\n",
      "Not creating table verify_asym_prod_a_tanhb_L_lin_vsf_64x64x10_scat_0_1_2_3_b_m05_0\n",
      "col_names: ['id', 'data_path', 'b', 'ns', 'ntheta', 'nphi', 'nx', 'ny', 'nz', 'nomega', 'zmax', 'rope_spacing', 'num_scatters', 'fd_flag', 'lis_opts', 'date', 'git_commit', 'compute_time', 'lis_iter', 'lis_time', 'lis_resid', 'num_threads', 'sol_expr', 'abs_expr', 'source_expr', 'bc_expr', 'vsf_expr', 'param_dict']\n",
      "Before try.\n",
      "INSERT INTO verify_asym_prod_a_tanhb_L_lin_vsf_64x64x10_scat_0_1_2_3_b_m05_0 VALUES (:id, :data_path, :b, :ns, :ntheta, :nphi, :nx, :ny, :nz, :nomega, :zmax, :rope_spacing, :num_scatters, :fd_flag, :lis_opts, :date, :git_commit, :compute_time, :lis_iter, :lis_time, :lis_resid, :num_threads, :sol_expr, :abs_expr, :source_expr, :bc_expr, :vsf_expr, :param_dict);\n",
      "Executing command:\n",
      "INSERT INTO verify_asym_prod_a_tanhb_L_lin_vsf_64x64x10_scat_0_1_2_3_b_m05_0 VALUES (:id, :data_path, :b, :ns, :ntheta, :nphi, :nx, :ny, :nz, :nomega, :zmax, :rope_spacing, :num_scatters, :fd_flag, :lis_opts, :date, :git_commit, :compute_time, :lis_iter, :lis_time, :lis_resid, :num_threads, :sol_expr, :abs_expr, :source_expr, :bc_expr, :vsf_expr, :param_dict);\n",
      "Combining /scratch/kelp-results/verify_asym_prod_a_tanhb_L_lin_vsf_64x64x10_scat_0_1_2_3_b_m05_0/data/sb46fqeq.db (tables: ['verify_asym_prod_a_tanhb_L_lin_vsf_64x64x10_scat_0_1_2_3_b_m05_0', 'sqlite_sequence'])\n",
      "read.\n",
      "Not creating table verify_asym_prod_a_tanhb_L_lin_vsf_64x64x10_scat_0_1_2_3_b_m05_0\n",
      "col_names: ['id', 'data_path', 'b', 'ns', 'ntheta', 'nphi', 'nx', 'ny', 'nz', 'nomega', 'zmax', 'rope_spacing', 'num_scatters', 'fd_flag', 'lis_opts', 'date', 'git_commit', 'compute_time', 'lis_iter', 'lis_time', 'lis_resid', 'num_threads', 'sol_expr', 'abs_expr', 'source_expr', 'bc_expr', 'vsf_expr', 'param_dict']\n",
      "Before try.\n",
      "INSERT INTO verify_asym_prod_a_tanhb_L_lin_vsf_64x64x10_scat_0_1_2_3_b_m05_0 VALUES (:id, :data_path, :b, :ns, :ntheta, :nphi, :nx, :ny, :nz, :nomega, :zmax, :rope_spacing, :num_scatters, :fd_flag, :lis_opts, :date, :git_commit, :compute_time, :lis_iter, :lis_time, :lis_resid, :num_threads, :sol_expr, :abs_expr, :source_expr, :bc_expr, :vsf_expr, :param_dict);\n",
      "Executing command:\n",
      "INSERT INTO verify_asym_prod_a_tanhb_L_lin_vsf_64x64x10_scat_0_1_2_3_b_m05_0 VALUES (:id, :data_path, :b, :ns, :ntheta, :nphi, :nx, :ny, :nz, :nomega, :zmax, :rope_spacing, :num_scatters, :fd_flag, :lis_opts, :date, :git_commit, :compute_time, :lis_iter, :lis_time, :lis_resid, :num_threads, :sol_expr, :abs_expr, :source_expr, :bc_expr, :vsf_expr, :param_dict);\n",
      "Combining /scratch/kelp-results/verify_asym_prod_a_tanhb_L_lin_vsf_64x64x10_scat_0_1_2_3_b_m05_0/data/e0mh3fuk.db (tables: ['verify_asym_prod_a_tanhb_L_lin_vsf_64x64x10_scat_0_1_2_3_b_m05_0', 'sqlite_sequence'])\n",
      "read.\n",
      "Not creating table verify_asym_prod_a_tanhb_L_lin_vsf_64x64x10_scat_0_1_2_3_b_m05_0\n",
      "col_names: ['id', 'data_path', 'b', 'ns', 'ntheta', 'nphi', 'nx', 'ny', 'nz', 'nomega', 'zmax', 'rope_spacing', 'num_scatters', 'fd_flag', 'lis_opts', 'date', 'git_commit', 'compute_time', 'lis_iter', 'lis_time', 'lis_resid', 'num_threads', 'sol_expr', 'abs_expr', 'source_expr', 'bc_expr', 'vsf_expr', 'param_dict']\n",
      "Before try.\n",
      "INSERT INTO verify_asym_prod_a_tanhb_L_lin_vsf_64x64x10_scat_0_1_2_3_b_m05_0 VALUES (:id, :data_path, :b, :ns, :ntheta, :nphi, :nx, :ny, :nz, :nomega, :zmax, :rope_spacing, :num_scatters, :fd_flag, :lis_opts, :date, :git_commit, :compute_time, :lis_iter, :lis_time, :lis_resid, :num_threads, :sol_expr, :abs_expr, :source_expr, :bc_expr, :vsf_expr, :param_dict);\n",
      "Executing command:\n",
      "INSERT INTO verify_asym_prod_a_tanhb_L_lin_vsf_64x64x10_scat_0_1_2_3_b_m05_0 VALUES (:id, :data_path, :b, :ns, :ntheta, :nphi, :nx, :ny, :nz, :nomega, :zmax, :rope_spacing, :num_scatters, :fd_flag, :lis_opts, :date, :git_commit, :compute_time, :lis_iter, :lis_time, :lis_resid, :num_threads, :sol_expr, :abs_expr, :source_expr, :bc_expr, :vsf_expr, :param_dict);\n",
      "Combining /scratch/kelp-results/verify_asym_prod_a_tanhb_L_lin_vsf_64x64x10_scat_0_1_2_3_b_m05_0/data/tngjnqrd.db (tables: ['verify_asym_prod_a_tanhb_L_lin_vsf_64x64x10_scat_0_1_2_3_b_m05_0', 'sqlite_sequence'])\n",
      "read.\n",
      "Not creating table verify_asym_prod_a_tanhb_L_lin_vsf_64x64x10_scat_0_1_2_3_b_m05_0\n",
      "col_names: ['id', 'data_path', 'b', 'ns', 'ntheta', 'nphi', 'nx', 'ny', 'nz', 'nomega', 'zmax', 'rope_spacing', 'num_scatters', 'fd_flag', 'lis_opts', 'date', 'git_commit', 'compute_time', 'lis_iter', 'lis_time', 'lis_resid', 'num_threads', 'sol_expr', 'abs_expr', 'source_expr', 'bc_expr', 'vsf_expr', 'param_dict']\n",
      "Before try.\n",
      "INSERT INTO verify_asym_prod_a_tanhb_L_lin_vsf_64x64x10_scat_0_1_2_3_b_m05_0 VALUES (:id, :data_path, :b, :ns, :ntheta, :nphi, :nx, :ny, :nz, :nomega, :zmax, :rope_spacing, :num_scatters, :fd_flag, :lis_opts, :date, :git_commit, :compute_time, :lis_iter, :lis_time, :lis_resid, :num_threads, :sol_expr, :abs_expr, :source_expr, :bc_expr, :vsf_expr, :param_dict);\n",
      "Executing command:\n",
      "INSERT INTO verify_asym_prod_a_tanhb_L_lin_vsf_64x64x10_scat_0_1_2_3_b_m05_0 VALUES (:id, :data_path, :b, :ns, :ntheta, :nphi, :nx, :ny, :nz, :nomega, :zmax, :rope_spacing, :num_scatters, :fd_flag, :lis_opts, :date, :git_commit, :compute_time, :lis_iter, :lis_time, :lis_resid, :num_threads, :sol_expr, :abs_expr, :source_expr, :bc_expr, :vsf_expr, :param_dict);\n",
      "Combining /scratch/kelp-results/verify_asym_prod_a_tanhb_L_lin_vsf_64x64x10_scat_0_1_2_3_b_m05_0/data/jx0ksolb.db (tables: ['verify_asym_prod_a_tanhb_L_lin_vsf_64x64x10_scat_0_1_2_3_b_m05_0', 'sqlite_sequence'])\n",
      "read.\n",
      "Not creating table verify_asym_prod_a_tanhb_L_lin_vsf_64x64x10_scat_0_1_2_3_b_m05_0\n",
      "col_names: ['id', 'data_path', 'b', 'ns', 'ntheta', 'nphi', 'nx', 'ny', 'nz', 'nomega', 'zmax', 'rope_spacing', 'num_scatters', 'fd_flag', 'lis_opts', 'date', 'git_commit', 'compute_time', 'lis_iter', 'lis_time', 'lis_resid', 'num_threads', 'sol_expr', 'abs_expr', 'source_expr', 'bc_expr', 'vsf_expr', 'param_dict']\n",
      "Before try.\n",
      "INSERT INTO verify_asym_prod_a_tanhb_L_lin_vsf_64x64x10_scat_0_1_2_3_b_m05_0 VALUES (:id, :data_path, :b, :ns, :ntheta, :nphi, :nx, :ny, :nz, :nomega, :zmax, :rope_spacing, :num_scatters, :fd_flag, :lis_opts, :date, :git_commit, :compute_time, :lis_iter, :lis_time, :lis_resid, :num_threads, :sol_expr, :abs_expr, :source_expr, :bc_expr, :vsf_expr, :param_dict);\n",
      "Executing command:\n",
      "INSERT INTO verify_asym_prod_a_tanhb_L_lin_vsf_64x64x10_scat_0_1_2_3_b_m05_0 VALUES (:id, :data_path, :b, :ns, :ntheta, :nphi, :nx, :ny, :nz, :nomega, :zmax, :rope_spacing, :num_scatters, :fd_flag, :lis_opts, :date, :git_commit, :compute_time, :lis_iter, :lis_time, :lis_resid, :num_threads, :sol_expr, :abs_expr, :source_expr, :bc_expr, :vsf_expr, :param_dict);\n",
      "Combining /scratch/kelp-results/verify_asym_prod_a_tanhb_L_lin_vsf_64x64x10_scat_0_1_2_3_b_m05_0/data/zjlga_gv.db (tables: ['verify_asym_prod_a_tanhb_L_lin_vsf_64x64x10_scat_0_1_2_3_b_m05_0', 'sqlite_sequence'])\n",
      "read.\n",
      "Not creating table verify_asym_prod_a_tanhb_L_lin_vsf_64x64x10_scat_0_1_2_3_b_m05_0\n",
      "col_names: ['id', 'data_path', 'b', 'ns', 'ntheta', 'nphi', 'nx', 'ny', 'nz', 'nomega', 'zmax', 'rope_spacing', 'num_scatters', 'fd_flag', 'lis_opts', 'date', 'git_commit', 'compute_time', 'lis_iter', 'lis_time', 'lis_resid', 'num_threads', 'sol_expr', 'abs_expr', 'source_expr', 'bc_expr', 'vsf_expr', 'param_dict']\n",
      "Before try.\n",
      "INSERT INTO verify_asym_prod_a_tanhb_L_lin_vsf_64x64x10_scat_0_1_2_3_b_m05_0 VALUES (:id, :data_path, :b, :ns, :ntheta, :nphi, :nx, :ny, :nz, :nomega, :zmax, :rope_spacing, :num_scatters, :fd_flag, :lis_opts, :date, :git_commit, :compute_time, :lis_iter, :lis_time, :lis_resid, :num_threads, :sol_expr, :abs_expr, :source_expr, :bc_expr, :vsf_expr, :param_dict);\n",
      "Executing command:\n",
      "INSERT INTO verify_asym_prod_a_tanhb_L_lin_vsf_64x64x10_scat_0_1_2_3_b_m05_0 VALUES (:id, :data_path, :b, :ns, :ntheta, :nphi, :nx, :ny, :nz, :nomega, :zmax, :rope_spacing, :num_scatters, :fd_flag, :lis_opts, :date, :git_commit, :compute_time, :lis_iter, :lis_time, :lis_resid, :num_threads, :sol_expr, :abs_expr, :source_expr, :bc_expr, :vsf_expr, :param_dict);\n",
      "Combining /scratch/kelp-results/verify_asym_prod_a_tanhb_L_lin_vsf_64x64x10_scat_0_1_2_3_b_m05_0/data/tcc7sk3b.db (tables: ['verify_asym_prod_a_tanhb_L_lin_vsf_64x64x10_scat_0_1_2_3_b_m05_0', 'sqlite_sequence'])\n",
      "read.\n",
      "Not creating table verify_asym_prod_a_tanhb_L_lin_vsf_64x64x10_scat_0_1_2_3_b_m05_0\n",
      "col_names: ['id', 'data_path', 'b', 'ns', 'ntheta', 'nphi', 'nx', 'ny', 'nz', 'nomega', 'zmax', 'rope_spacing', 'num_scatters', 'fd_flag', 'lis_opts', 'date', 'git_commit', 'compute_time', 'lis_iter', 'lis_time', 'lis_resid', 'num_threads', 'sol_expr', 'abs_expr', 'source_expr', 'bc_expr', 'vsf_expr', 'param_dict']\n",
      "Before try.\n",
      "INSERT INTO verify_asym_prod_a_tanhb_L_lin_vsf_64x64x10_scat_0_1_2_3_b_m05_0 VALUES (:id, :data_path, :b, :ns, :ntheta, :nphi, :nx, :ny, :nz, :nomega, :zmax, :rope_spacing, :num_scatters, :fd_flag, :lis_opts, :date, :git_commit, :compute_time, :lis_iter, :lis_time, :lis_resid, :num_threads, :sol_expr, :abs_expr, :source_expr, :bc_expr, :vsf_expr, :param_dict);\n",
      "Executing command:\n",
      "INSERT INTO verify_asym_prod_a_tanhb_L_lin_vsf_64x64x10_scat_0_1_2_3_b_m05_0 VALUES (:id, :data_path, :b, :ns, :ntheta, :nphi, :nx, :ny, :nz, :nomega, :zmax, :rope_spacing, :num_scatters, :fd_flag, :lis_opts, :date, :git_commit, :compute_time, :lis_iter, :lis_time, :lis_resid, :num_threads, :sol_expr, :abs_expr, :source_expr, :bc_expr, :vsf_expr, :param_dict);\n",
      "Combining /scratch/kelp-results/verify_asym_prod_a_tanhb_L_lin_vsf_64x64x10_scat_0_1_2_3_b_m05_0/data/5t6xkleb.db (tables: ['verify_asym_prod_a_tanhb_L_lin_vsf_64x64x10_scat_0_1_2_3_b_m05_0', 'sqlite_sequence'])\n",
      "read.\n",
      "Not creating table verify_asym_prod_a_tanhb_L_lin_vsf_64x64x10_scat_0_1_2_3_b_m05_0\n",
      "col_names: ['id', 'data_path', 'b', 'ns', 'ntheta', 'nphi', 'nx', 'ny', 'nz', 'nomega', 'zmax', 'rope_spacing', 'num_scatters', 'fd_flag', 'lis_opts', 'date', 'git_commit', 'compute_time', 'lis_iter', 'lis_time', 'lis_resid', 'num_threads', 'sol_expr', 'abs_expr', 'source_expr', 'bc_expr', 'vsf_expr', 'param_dict']\n",
      "Before try.\n",
      "INSERT INTO verify_asym_prod_a_tanhb_L_lin_vsf_64x64x10_scat_0_1_2_3_b_m05_0 VALUES (:id, :data_path, :b, :ns, :ntheta, :nphi, :nx, :ny, :nz, :nomega, :zmax, :rope_spacing, :num_scatters, :fd_flag, :lis_opts, :date, :git_commit, :compute_time, :lis_iter, :lis_time, :lis_resid, :num_threads, :sol_expr, :abs_expr, :source_expr, :bc_expr, :vsf_expr, :param_dict);\n",
      "Executing command:\n",
      "INSERT INTO verify_asym_prod_a_tanhb_L_lin_vsf_64x64x10_scat_0_1_2_3_b_m05_0 VALUES (:id, :data_path, :b, :ns, :ntheta, :nphi, :nx, :ny, :nz, :nomega, :zmax, :rope_spacing, :num_scatters, :fd_flag, :lis_opts, :date, :git_commit, :compute_time, :lis_iter, :lis_time, :lis_resid, :num_threads, :sol_expr, :abs_expr, :source_expr, :bc_expr, :vsf_expr, :param_dict);\n",
      "Combining /scratch/kelp-results/verify_asym_prod_a_tanhb_L_lin_vsf_64x64x10_scat_0_1_2_3_b_m05_0/data/myg9e10m.db (tables: ['verify_asym_prod_a_tanhb_L_lin_vsf_64x64x10_scat_0_1_2_3_b_m05_0', 'sqlite_sequence'])\n",
      "read.\n",
      "Not creating table verify_asym_prod_a_tanhb_L_lin_vsf_64x64x10_scat_0_1_2_3_b_m05_0\n",
      "col_names: ['id', 'data_path', 'b', 'ns', 'ntheta', 'nphi', 'nx', 'ny', 'nz', 'nomega', 'zmax', 'rope_spacing', 'num_scatters', 'fd_flag', 'lis_opts', 'date', 'git_commit', 'compute_time', 'lis_iter', 'lis_time', 'lis_resid', 'num_threads', 'sol_expr', 'abs_expr', 'source_expr', 'bc_expr', 'vsf_expr', 'param_dict']\n",
      "Before try.\n",
      "INSERT INTO verify_asym_prod_a_tanhb_L_lin_vsf_64x64x10_scat_0_1_2_3_b_m05_0 VALUES (:id, :data_path, :b, :ns, :ntheta, :nphi, :nx, :ny, :nz, :nomega, :zmax, :rope_spacing, :num_scatters, :fd_flag, :lis_opts, :date, :git_commit, :compute_time, :lis_iter, :lis_time, :lis_resid, :num_threads, :sol_expr, :abs_expr, :source_expr, :bc_expr, :vsf_expr, :param_dict);\n",
      "Executing command:\n",
      "INSERT INTO verify_asym_prod_a_tanhb_L_lin_vsf_64x64x10_scat_0_1_2_3_b_m05_0 VALUES (:id, :data_path, :b, :ns, :ntheta, :nphi, :nx, :ny, :nz, :nomega, :zmax, :rope_spacing, :num_scatters, :fd_flag, :lis_opts, :date, :git_commit, :compute_time, :lis_iter, :lis_time, :lis_resid, :num_threads, :sol_expr, :abs_expr, :source_expr, :bc_expr, :vsf_expr, :param_dict);\n",
      "Combining /scratch/kelp-results/verify_asym_prod_a_tanhb_L_lin_vsf_64x64x10_scat_0_1_2_3_b_m05_0/data/b67wa8vo.db (tables: ['verify_asym_prod_a_tanhb_L_lin_vsf_64x64x10_scat_0_1_2_3_b_m05_0', 'sqlite_sequence'])\n",
      "read.\n",
      "Not creating table verify_asym_prod_a_tanhb_L_lin_vsf_64x64x10_scat_0_1_2_3_b_m05_0\n",
      "col_names: ['id', 'data_path', 'b', 'ns', 'ntheta', 'nphi', 'nx', 'ny', 'nz', 'nomega', 'zmax', 'rope_spacing', 'num_scatters', 'fd_flag', 'lis_opts', 'date', 'git_commit', 'compute_time', 'lis_iter', 'lis_time', 'lis_resid', 'num_threads', 'sol_expr', 'abs_expr', 'source_expr', 'bc_expr', 'vsf_expr', 'param_dict']\n",
      "Before try.\n",
      "INSERT INTO verify_asym_prod_a_tanhb_L_lin_vsf_64x64x10_scat_0_1_2_3_b_m05_0 VALUES (:id, :data_path, :b, :ns, :ntheta, :nphi, :nx, :ny, :nz, :nomega, :zmax, :rope_spacing, :num_scatters, :fd_flag, :lis_opts, :date, :git_commit, :compute_time, :lis_iter, :lis_time, :lis_resid, :num_threads, :sol_expr, :abs_expr, :source_expr, :bc_expr, :vsf_expr, :param_dict);\n",
      "Executing command:\n",
      "INSERT INTO verify_asym_prod_a_tanhb_L_lin_vsf_64x64x10_scat_0_1_2_3_b_m05_0 VALUES (:id, :data_path, :b, :ns, :ntheta, :nphi, :nx, :ny, :nz, :nomega, :zmax, :rope_spacing, :num_scatters, :fd_flag, :lis_opts, :date, :git_commit, :compute_time, :lis_iter, :lis_time, :lis_resid, :num_threads, :sol_expr, :abs_expr, :source_expr, :bc_expr, :vsf_expr, :param_dict);\n",
      "Combining /scratch/kelp-results/verify_asym_prod_a_tanhb_L_lin_vsf_64x64x10_scat_0_1_2_3_b_m05_0/data/_ggdxm24.db (tables: ['verify_asym_prod_a_tanhb_L_lin_vsf_64x64x10_scat_0_1_2_3_b_m05_0', 'sqlite_sequence'])\n",
      "read.\n",
      "Not creating table verify_asym_prod_a_tanhb_L_lin_vsf_64x64x10_scat_0_1_2_3_b_m05_0\n",
      "col_names: ['id', 'data_path', 'b', 'ns', 'ntheta', 'nphi', 'nx', 'ny', 'nz', 'nomega', 'zmax', 'rope_spacing', 'num_scatters', 'fd_flag', 'lis_opts', 'date', 'git_commit', 'compute_time', 'lis_iter', 'lis_time', 'lis_resid', 'num_threads', 'sol_expr', 'abs_expr', 'source_expr', 'bc_expr', 'vsf_expr', 'param_dict']\n",
      "Before try.\n",
      "INSERT INTO verify_asym_prod_a_tanhb_L_lin_vsf_64x64x10_scat_0_1_2_3_b_m05_0 VALUES (:id, :data_path, :b, :ns, :ntheta, :nphi, :nx, :ny, :nz, :nomega, :zmax, :rope_spacing, :num_scatters, :fd_flag, :lis_opts, :date, :git_commit, :compute_time, :lis_iter, :lis_time, :lis_resid, :num_threads, :sol_expr, :abs_expr, :source_expr, :bc_expr, :vsf_expr, :param_dict);\n",
      "Executing command:\n",
      "INSERT INTO verify_asym_prod_a_tanhb_L_lin_vsf_64x64x10_scat_0_1_2_3_b_m05_0 VALUES (:id, :data_path, :b, :ns, :ntheta, :nphi, :nx, :ny, :nz, :nomega, :zmax, :rope_spacing, :num_scatters, :fd_flag, :lis_opts, :date, :git_commit, :compute_time, :lis_iter, :lis_time, :lis_resid, :num_threads, :sol_expr, :abs_expr, :source_expr, :bc_expr, :vsf_expr, :param_dict);\n",
      "Combining /scratch/kelp-results/verify_asym_prod_a_tanhb_L_lin_vsf_64x64x10_scat_0_1_2_3_b_m05_0/data/egbl2xt_.db (tables: ['verify_asym_prod_a_tanhb_L_lin_vsf_64x64x10_scat_0_1_2_3_b_m05_0', 'sqlite_sequence'])\n",
      "read.\n",
      "Not creating table verify_asym_prod_a_tanhb_L_lin_vsf_64x64x10_scat_0_1_2_3_b_m05_0\n",
      "col_names: ['id', 'data_path', 'b', 'ns', 'ntheta', 'nphi', 'nx', 'ny', 'nz', 'nomega', 'zmax', 'rope_spacing', 'num_scatters', 'fd_flag', 'lis_opts', 'date', 'git_commit', 'compute_time', 'lis_iter', 'lis_time', 'lis_resid', 'num_threads', 'sol_expr', 'abs_expr', 'source_expr', 'bc_expr', 'vsf_expr', 'param_dict']\n",
      "Before try.\n",
      "INSERT INTO verify_asym_prod_a_tanhb_L_lin_vsf_64x64x10_scat_0_1_2_3_b_m05_0 VALUES (:id, :data_path, :b, :ns, :ntheta, :nphi, :nx, :ny, :nz, :nomega, :zmax, :rope_spacing, :num_scatters, :fd_flag, :lis_opts, :date, :git_commit, :compute_time, :lis_iter, :lis_time, :lis_resid, :num_threads, :sol_expr, :abs_expr, :source_expr, :bc_expr, :vsf_expr, :param_dict);\n",
      "Executing command:\n",
      "INSERT INTO verify_asym_prod_a_tanhb_L_lin_vsf_64x64x10_scat_0_1_2_3_b_m05_0 VALUES (:id, :data_path, :b, :ns, :ntheta, :nphi, :nx, :ny, :nz, :nomega, :zmax, :rope_spacing, :num_scatters, :fd_flag, :lis_opts, :date, :git_commit, :compute_time, :lis_iter, :lis_time, :lis_resid, :num_threads, :sol_expr, :abs_expr, :source_expr, :bc_expr, :vsf_expr, :param_dict);\n"
     ]
    }
   ],
   "source": [
    "base_dir = os.path.join(os.environ['SCRATCH'], 'kelp-results')\n",
    "#base_dir = '/home/oliver/academic/research/kelp-results'\n",
    "\n",
    "ns = 64\n",
    "nz = 64\n",
    "na = 10\n",
    "\n",
    "num_threads = 32\n",
    "\n",
    "num_scatters_list = [0, 1, 2, 3]\n",
    "b_list = np.logspace(-0.5, 0, 10)\n",
    "\n",
    "study_name = 'verify_asym_prod_a_tanhb_L_lin_vsf_{}x{}x{}_scat_0_1_2_3_b_m05_0'.format(ns, nz, na)\n",
    "study_dir = os.path.join(base_dir, study_name)\n",
    "\n",
    "ntheta = na\n",
    "nphi = na\n",
    "\n",
    "# TODO: Don't actually delete results\n",
    "#shutil.rmtree(os.path.join(base_dir, study_name), ignore_errors=True)\n",
    "\n",
    "combine_thread, gs_fut = kelp_compute.verify_asym_compute(\n",
    "    study_name, \n",
    "    b_list, num_scatters_list, num_threads,\n",
    "    ns, nz, ntheta, nphi, \n",
    "    rope_spacing, zmax, \n",
    "    sol_expr, abs_expr, source_expr, bc_expr, vsf_expr,\n",
    "    param_vals, base_dir=base_dir)"
   ]
  },
  {
   "cell_type": "markdown",
   "metadata": {},
   "source": [
    "#### Plot"
   ]
  },
  {
   "cell_type": "code",
   "execution_count": 372,
   "metadata": {},
   "outputs": [],
   "source": [
    "base_dir = os.path.join(os.environ['SCRATCH'], 'kelp-results')\n",
    "#study_name = 'verify_asym_prod_a_tanhb_L_lin_vsf_64x64x8_scat_0_1_2_3_b_m05_2'\n",
    "#study_name = 'verify_asym_prod_a_tanhb_L_lin_vsf_smallderiv_64x64x8_scat_0_1_2_3_b_m05_0'\n",
    "study_name = 'verify_asym_prod_a_tanhb_L_lin_vsf_128x128x8_scat_0_1_2_3_b_m05_0'\n",
    "#study_name = 'verify_asym_uni_a_expb15_L_64x64x8_scat_0_1_2_3_b_m15_m05'\n",
    "study_dir = os.path.join(base_dir, study_name)"
   ]
  },
  {
   "cell_type": "code",
   "execution_count": 373,
   "metadata": {},
   "outputs": [],
   "source": [
    "db_path = os.path.join(study_dir, '{}.db'.format(study_name))\n",
    "conn = sqlite3.Connection(db_path)"
   ]
  },
  {
   "cell_type": "code",
   "execution_count": 374,
   "metadata": {},
   "outputs": [
    {
     "name": "stdout",
     "output_type": "stream",
     "text": [
      "err arr 0: [0.03892416 0.04432842 0.05046259 0.05741048 0.06525812 0.07409027\n",
      " 0.08398546 0.09500937 0.10720654 0.1205908 ]\n",
      "err arr 1: [0.00198686 0.00251619 0.0031835  0.00402393 0.00508255 0.00641731\n",
      " 0.00810254 0.01023372 0.01293932 0.01637889]\n",
      "err arr 2: [0.00074688 0.0010832  0.00156878 0.00226765 0.00326998 0.00470178\n",
      " 0.00673759 0.00961684 0.0136643  0.01931512]\n",
      "err arr 3: [7.89421820e-05 1.18404062e-04 1.84561319e-04 2.95540059e-04\n",
      " 4.81867720e-04 7.94755680e-04 1.31982766e-03 2.19980121e-03\n",
      " 3.67084840e-03 6.12129395e-03]\n"
     ]
    },
    {
     "ename": "IndexError",
     "evalue": "boolean index did not match indexed array along dimension 3; dimension is 50 but corresponding boolean dimension is 82",
     "output_type": "error",
     "traceback": [
      "\u001b[0;31m---------------------------------------------------------------------------\u001b[0m",
      "\u001b[0;31mIndexError\u001b[0m                                Traceback (most recent call last)",
      "\u001b[0;32m<ipython-input-374-2cb4675dc9c4>\u001b[0m in \u001b[0;36m<module>\u001b[0;34m()\u001b[0m\n\u001b[1;32m     56\u001b[0m \u001b[0mplot_inds\u001b[0m\u001b[0;34m[\u001b[0m\u001b[0;36m0\u001b[0m\u001b[0;34m,\u001b[0m\u001b[0;36m0\u001b[0m\u001b[0;34m,\u001b[0m\u001b[0;34m:\u001b[0m\u001b[0;34m,\u001b[0m\u001b[0;36m0\u001b[0m\u001b[0;34m]\u001b[0m \u001b[0;34m=\u001b[0m \u001b[0;32mTrue\u001b[0m\u001b[0;34m\u001b[0m\u001b[0m\n\u001b[1;32m     57\u001b[0m \u001b[0mz\u001b[0m \u001b[0;34m=\u001b[0m \u001b[0mgrid\u001b[0m\u001b[0;34m[\u001b[0m\u001b[0;36m2\u001b[0m\u001b[0;34m]\u001b[0m\u001b[0;34m[\u001b[0m\u001b[0mplot_inds\u001b[0m\u001b[0;34m]\u001b[0m\u001b[0;34m\u001b[0m\u001b[0m\n\u001b[0;32m---> 58\u001b[0;31m \u001b[0mplt\u001b[0m\u001b[0;34m.\u001b[0m\u001b[0mplot\u001b[0m\u001b[0;34m(\u001b[0m\u001b[0mz\u001b[0m\u001b[0;34m,\u001b[0m \u001b[0mtrue_rad_list\u001b[0m\u001b[0;34m[\u001b[0m\u001b[0;36m0\u001b[0m\u001b[0;34m]\u001b[0m\u001b[0;34m[\u001b[0m\u001b[0mplot_inds\u001b[0m\u001b[0;34m]\u001b[0m\u001b[0;34m,\u001b[0m \u001b[0;34m'ko-'\u001b[0m\u001b[0;34m,\u001b[0m \u001b[0mlabel\u001b[0m\u001b[0;34m=\u001b[0m\u001b[0;34m'true'\u001b[0m\u001b[0;34m)\u001b[0m\u001b[0;34m\u001b[0m\u001b[0m\n\u001b[0m\u001b[1;32m     59\u001b[0m \u001b[0;32mfor\u001b[0m \u001b[0mn\u001b[0m \u001b[0;32min\u001b[0m \u001b[0mnum_scatters_list\u001b[0m\u001b[0;34m:\u001b[0m\u001b[0;34m\u001b[0m\u001b[0m\n\u001b[1;32m     60\u001b[0m     \u001b[0mplt\u001b[0m\u001b[0;34m.\u001b[0m\u001b[0mplot\u001b[0m\u001b[0;34m(\u001b[0m\u001b[0mz\u001b[0m\u001b[0;34m,\u001b[0m \u001b[0masym_rad_list\u001b[0m\u001b[0;34m[\u001b[0m\u001b[0mn\u001b[0m\u001b[0;34m]\u001b[0m\u001b[0;34m[\u001b[0m\u001b[0mplot_inds\u001b[0m\u001b[0;34m]\u001b[0m\u001b[0;34m,\u001b[0m \u001b[0;34m'C{}o-'\u001b[0m\u001b[0;34m.\u001b[0m\u001b[0mformat\u001b[0m\u001b[0;34m(\u001b[0m\u001b[0mn\u001b[0m\u001b[0;34m)\u001b[0m\u001b[0;34m,\u001b[0m \u001b[0mlabel\u001b[0m\u001b[0;34m=\u001b[0m\u001b[0;34m'n={}'\u001b[0m\u001b[0;34m.\u001b[0m\u001b[0mformat\u001b[0m\u001b[0;34m(\u001b[0m\u001b[0mn\u001b[0m\u001b[0;34m)\u001b[0m\u001b[0;34m)\u001b[0m\u001b[0;34m\u001b[0m\u001b[0m\n",
      "\u001b[0;32m/opt/conda/lib/python3.6/site-packages/numpy/ma/core.py\u001b[0m in \u001b[0;36m__getitem__\u001b[0;34m(self, indx)\u001b[0m\n\u001b[1;32m   3167\u001b[0m         \u001b[0;31m# mask of being reshaped if it hasn't been set up properly yet\u001b[0m\u001b[0;34m\u001b[0m\u001b[0;34m\u001b[0m\u001b[0m\n\u001b[1;32m   3168\u001b[0m         \u001b[0;31m# So it's easier to stick to the current version\u001b[0m\u001b[0;34m\u001b[0m\u001b[0;34m\u001b[0m\u001b[0m\n\u001b[0;32m-> 3169\u001b[0;31m         \u001b[0mdout\u001b[0m \u001b[0;34m=\u001b[0m \u001b[0mself\u001b[0m\u001b[0;34m.\u001b[0m\u001b[0mdata\u001b[0m\u001b[0;34m[\u001b[0m\u001b[0mindx\u001b[0m\u001b[0;34m]\u001b[0m\u001b[0;34m\u001b[0m\u001b[0m\n\u001b[0m\u001b[1;32m   3170\u001b[0m         \u001b[0m_mask\u001b[0m \u001b[0;34m=\u001b[0m \u001b[0mself\u001b[0m\u001b[0;34m.\u001b[0m\u001b[0m_mask\u001b[0m\u001b[0;34m\u001b[0m\u001b[0m\n\u001b[1;32m   3171\u001b[0m \u001b[0;34m\u001b[0m\u001b[0m\n",
      "\u001b[0;31mIndexError\u001b[0m: boolean index did not match indexed array along dimension 3; dimension is 50 but corresponding boolean dimension is 82"
     ]
    },
    {
     "data": {
      "image/png": "[encoded data removed]",
      "text/plain": [
       "<Figure size 576x432 with 1 Axes>"
      ]
     },
     "metadata": {
      "needs_background": "light"
     },
     "output_type": "display_data"
    },
    {
     "data": {
      "text/plain": [
       "<Figure size 576x432 with 0 Axes>"
      ]
     },
     "metadata": {},
     "output_type": "display_data"
    }
   ],
   "source": [
    "#norm = lambda x: np.linalg.norm(np.ravel(x), ord=2)\n",
    "#norm = lambda x: np.sqrt(np.sum(x)**2/np.size(x))\n",
    "norm = lambda x: np.mean(np.abs(x))\n",
    "\n",
    "b_list, num_scatters_list, ns_list, nz_list, na_list = kelp_analyze.get_unique_vals(\n",
    "    conn, \n",
    "    study_name, \n",
    "    ['b', 'num_scatters', 'ns', 'nz', 'ntheta']\n",
    ")\n",
    "ns = ns_list[0]\n",
    "nz = nz_list[0]\n",
    "na = na_list[0]\n",
    "\n",
    "plt.figure(figsize=[8,6])\n",
    "\n",
    "true_rad_list = []\n",
    "asym_rad_list = []\n",
    "i_plot = 5\n",
    "for num_scatters in num_scatters_list:\n",
    "    err_list = []\n",
    "    for i, b in enumerate(b_list):\n",
    "        results_list = kelp_analyze.query_results(\n",
    "            conn, study_name,\n",
    "            b=b,\n",
    "            num_scatters=num_scatters,\n",
    "        )\n",
    "        \n",
    "        rad = results_list[0]['rad'][:]\n",
    "        true_rad = results_list[0]['true_rad'][:]\n",
    "\n",
    "        err = norm(rad - true_rad)\n",
    "        err_list.append(err)\n",
    "        \n",
    "        if i == i_plot:\n",
    "            asym_rad_list.append(rad)\n",
    "            true_rad_list.append(true_rad)\n",
    "\n",
    "    b_arr = np.array(b_list)[:]\n",
    "    err_arr = np.array(err_list)[:]\n",
    "    \n",
    "    print(\"err arr {}: {}\".format(num_scatters, err_arr))\n",
    "    conv.plot_lin_fit(\n",
    "        np.log10(b_arr), np.log10(err_arr), \n",
    "        min(np.log(b_arr)), max(np.log(b_arr)), \n",
    "        xlabel='log10(b)', ylabel='log10(err)',\n",
    "        label='n=%d, m={m:.2f}' % num_scatters\n",
    "    )\n",
    "plt.title('')\n",
    "plt.legend()"
   ]
  },
  {
   "cell_type": "code",
   "execution_count": 381,
   "metadata": {},
   "outputs": [
    {
     "data": {
      "text/plain": [
       "<matplotlib.legend.Legend at 0x7f2d340f22e8>"
      ]
     },
     "execution_count": 381,
     "metadata": {},
     "output_type": "execute_result"
    },
    {
     "data": {
      "image/png": "[encoded data removed]",
      "text/plain": [
       "<Figure size 576x432 with 1 Axes>"
      ]
     },
     "metadata": {
      "needs_background": "light"
     },
     "output_type": "display_data"
    }
   ],
   "source": [
    "plt.figure(figsize=(8,6))\n",
    "ns = max(ns_list)\n",
    "nz = max(nz_list)\n",
    "na = max(na_list)\n",
    "grid = mms.gen_grid(ns, nz, na, na, rope_spacing, zmax)\n",
    "plot_inds = np.zeros_like(grid[2], dtype=bool)\n",
    "plot_inds[0,0,:,0] = True\n",
    "z = grid[2][plot_inds]\n",
    "plt.plot(z, true_rad_list[0][plot_inds], 'k-', lw=5, label='true')\n",
    "for n in num_scatters_list:\n",
    "    plt.plot(z, asym_rad_list[n][plot_inds], 'C{}-'.format(n), lw=3, label='n={}'.format(n))\n",
    "\n",
    "plt.title('b={:.2e}'.format(b_list[i_plot]))\n",
    "plt.legend()"
   ]
  },
  {
   "cell_type": "markdown",
   "metadata": {},
   "source": [
    "Plot Taylor Series Error"
   ]
  },
  {
   "cell_type": "code",
   "execution_count": null,
   "metadata": {},
   "outputs": [],
   "source": [
    "#norm = lambda x: np.linalg.norm(np.ravel(x), ord=2)\n",
    "#norm = lambda x: np.sqrt(np.sum(x)**2/np.size(x))\n",
    "norm = lambda x: np.mean(np.abs(x))\n",
    "\n",
    "b_list, num_scatters_list = kelp_analyze.get_unique_vals(conn, study_name, ['b', 'num_scatters'])\n",
    "#this_sol_expr = sp.parsing.sympy_parser.parse_expr(\n",
    "#    kelp_analyze.table_to_df(conn, study_name)['source_expr'][0], \n",
    "#    local_dict={'gamma': sp.Symbol('gamma')}\n",
    "#)\n",
    "tay_term_N = mms.gen_series_N(sol_expr, max(num_scatters_list), **param_vals)\n",
    "def tay_approx_N(x, y, z, theta, phi, b, n):\n",
    "    s = 0*(x+y+z+theta+phi)\n",
    "    for k in range(n+1):\n",
    "        s += b**k * tay_term_N(x, y, z, theta, phi, k)\n",
    "    \n",
    "    return s\n",
    "\n",
    "fig1 = plt.figure(figsize=[8,6])\n",
    "ax1 = plt.gca()\n",
    "fig2 = plt.figure(figsize=[8,6])\n",
    "ax2 = plt.gca()\n",
    "\n",
    "tay_rad_list = []\n",
    "true_rad_list = []\n",
    "i_plot = 6\n",
    "for num_scatters in num_scatters_list:\n",
    "    err_list = []\n",
    "    for i, b in enumerate(b_list):\n",
    "        results_list = kelp_analyze.query_results(\n",
    "            conn, study_name,\n",
    "            b=b,\n",
    "            num_scatters=num_scatters,\n",
    "        )\n",
    "\n",
    "        ns = results_list[0]['ns'][:].data\n",
    "        nz = results_list[0]['nz'][:].data\n",
    "        ntheta = results_list[0]['ntheta'][:].data\n",
    "        nphi = results_list[0]['nphi'][:].data\n",
    "        grid = mms.gen_grid(ns, nz, ntheta, nphi, rope_spacing, zmax)\n",
    "\n",
    "        tay_rad = tay_approx_N(*grid, b, num_scatters)\n",
    "        #rad = results_list[0]['rad'][:]\n",
    "        true_rad = results_list[0]['true_rad'][:]\n",
    "\n",
    "        err = norm(tay_rad - true_rad)\n",
    "        err_list.append(err)\n",
    "        \n",
    "        if i == i_plot:\n",
    "            tay_rad_list.append(tay_rad)\n",
    "            true_rad_list.append(true_rad)\n",
    "\n",
    "    b_arr = np.array(b_list)[:-2]\n",
    "    err_arr = np.array(err_list)[:-2]\n",
    "    \n",
    "    print(\"err arr {}: {}\".format(num_scatters, err_arr))\n",
    "    plt.sca(ax1)\n",
    "    conv.plot_lin_fit(\n",
    "        np.log10(b_arr), np.log10(err_arr), \n",
    "        min(np.log(b_arr)), 0*max(np.log(b_arr)), \n",
    "        xlabel='log10(b)', ylabel='log10(err)',\n",
    "        label='n=%d, m={m:.2f}' % num_scatters\n",
    "    )\n",
    "    \n",
    "    \n",
    "plt.sca(ax1)\n",
    "plt.title('')\n",
    "plt.legend()\n",
    "\n",
    "\n",
    "plt.sca(ax2)\n",
    "z = grid[2][plot_inds]\n",
    "plt.plot(z, true_rad_list[0][plot_inds], 'ko-', label='true')\n",
    "for n in num_scatters_list:\n",
    "    plt.plot(z, tay_rad_list[n][plot_inds], 'C{}o-'.format(n), label='n={}'.format(n))\n",
    "\n",
    "plt.title('b={:.2e}'.format(b_list[i_plot]))\n",
    "plt.legend()\n"
   ]
  },
  {
   "cell_type": "code",
   "execution_count": null,
   "metadata": {},
   "outputs": [],
   "source": [
    "for n in num_scatters_list:\n",
    "    print(\"{}: {:.2e}\".format(\n",
    "        n,\n",
    "        np.abs(asym_rad_list[n] - tay_rad_list[n]).max()\n",
    "    ))"
   ]
  },
  {
   "cell_type": "code",
   "execution_count": null,
   "metadata": {},
   "outputs": [],
   "source": [
    "import sys"
   ]
  },
  {
   "cell_type": "code",
   "execution_count": null,
   "metadata": {},
   "outputs": [],
   "source": [
    "sorted(((4,6), (5,1), (6,9)), key=lambda x: x[1])"
   ]
  },
  {
   "cell_type": "code",
   "execution_count": null,
   "metadata": {},
   "outputs": [],
   "source": [
    "del(tay_rad)"
   ]
  },
  {
   "cell_type": "code",
   "execution_count": null,
   "metadata": {},
   "outputs": [],
   "source": [
    "ipc = ipp.Client()"
   ]
  },
  {
   "cell_type": "code",
   "execution_count": null,
   "metadata": {},
   "outputs": [],
   "source": [
    "lv = ipc.load_balanced_view()"
   ]
  },
  {
   "cell_type": "code",
   "execution_count": null,
   "metadata": {},
   "outputs": [],
   "source": [
    "def sz():\n",
    "    import sys\n",
    "    return sorted([(n, sys.getsizeof(v)/2**30) for n, v in globals().items()], key=lambda t: t[1], reverse=True)"
   ]
  },
  {
   "cell_type": "code",
   "execution_count": null,
   "metadata": {},
   "outputs": [],
   "source": [
    "fut = lv.apply(sz)"
   ]
  },
  {
   "cell_type": "code",
   "execution_count": null,
   "metadata": {},
   "outputs": [],
   "source": [
    "fut.done()"
   ]
  }
 ],
 "metadata": {
  "kernelspec": {
   "display_name": "Python 3",
   "language": "python",
   "name": "python3"
  },
  "language_info": {
   "codemirror_mode": {
    "name": "ipython",
    "version": 3
   },
   "file_extension": ".py",
   "mimetype": "text/x-python",
   "name": "python",
   "nbconvert_exporter": "python",
   "pygments_lexer": "ipython3",
   "version": "3.6.6"
  }
 },
 "nbformat": 4,
 "nbformat_minor": 2
}
