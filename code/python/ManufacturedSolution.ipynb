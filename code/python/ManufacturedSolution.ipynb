{
 "cells": [
  {
   "cell_type": "code",
   "execution_count": 1,
   "metadata": {},
   "outputs": [],
   "source": [
    "%load_ext autoreload\n",
    "%autoreload 2"
   ]
  },
  {
   "cell_type": "code",
   "execution_count": 2,
   "metadata": {},
   "outputs": [],
   "source": [
    "import inspect\n",
    "\n",
    "import functools as ft\n",
    "from boltons import funcutils as fu\n",
    "\n",
    "import numpy as np\n",
    "import matplotlib.pyplot as plt\n",
    "import sympy as sp\n",
    "from IPython.display import display\n",
    "\n",
    "import kelp_compute\n",
    "import discrete_plot\n",
    "\n",
    "sp.init_printing()\n",
    "%matplotlib inline"
   ]
  },
  {
   "cell_type": "code",
   "execution_count": 3,
   "metadata": {},
   "outputs": [],
   "source": [
    "from fortran_wrappers.light_utils_wrap import light_utils_wrap as light_utils"
   ]
  },
  {
   "cell_type": "code",
   "execution_count": 4,
   "metadata": {},
   "outputs": [],
   "source": [
    "space = sp.var('x, y, z')\n",
    "x, y, z = space\n",
    "vec_x = sp.Matrix(space)\n",
    "\n",
    "angle = sp.var(r'theta, phi')\n",
    "th, ph = angle\n",
    "vec_om = sp.Matrix([sp.sin(ph)*sp.cos(th), sp.sin(ph)*sp.sin(th), sp.cos(ph)])\n",
    "delta = sp.var(r'Delta')\n",
    "\n",
    "angle_prime = sp.var(r'theta_p, phi_p')\n",
    "thp, php = angle_prime\n",
    "vec_omp = sp.Matrix([sp.sin(php)*sp.cos(thp), sp.sin(php)*sp.sin(thp), sp.cos(php)])"
   ]
  },
  {
   "cell_type": "code",
   "execution_count": 5,
   "metadata": {},
   "outputs": [],
   "source": [
    "def grad(expr, space=space):\n",
    "    return sp.Matrix([sp.diff(expr, d) for d in space])"
   ]
  },
  {
   "cell_type": "code",
   "execution_count": 6,
   "metadata": {},
   "outputs": [],
   "source": [
    "def sphere_integral(expr, angle):\n",
    "    theta, phi = angle\n",
    "    return sp.integrate(expr*sp.sin(phi), (theta, 0, 2*sp.pi), (phi, 0, sp.pi))"
   ]
  },
  {
   "cell_type": "code",
   "execution_count": 7,
   "metadata": {},
   "outputs": [],
   "source": [
    "def dot(a, b):\n",
    "    return sum(a.T * b)"
   ]
  },
  {
   "cell_type": "code",
   "execution_count": 8,
   "metadata": {},
   "outputs": [],
   "source": [
    "def p_hat(l, m):\n",
    "    if m == 0:\n",
    "        p = 0\n",
    "    elif m == na:\n",
    "        p = nomega\n",
    "    else:\n",
    "        p = (m-1)*na + l + 1\n",
    "        \n",
    "    return p"
   ]
  },
  {
   "cell_type": "code",
   "execution_count": 9,
   "metadata": {},
   "outputs": [],
   "source": [
    "def vec_l(vec_x, vec_omega, s, zmax):\n",
    "    z_hat = sp.Matrix([0,0,1])\n",
    "    z0 = sp.Piecewise(\n",
    "        (0, dot(vec_omega, z_hat) > 0),\n",
    "        (zmax, True)\n",
    "    )\n",
    "    s_tilde = (dot(vec_x, z_hat) - z0) / dot(vec_omega, z_hat)\n",
    "    vec_x0 = vec_x - s_tilde * vec_omega\n",
    "    vec_l = (s*vec_x + (s_tilde-s)*vec_x0) / s_tilde\n",
    "    return vec_l"
   ]
  },
  {
   "cell_type": "code",
   "execution_count": 10,
   "metadata": {},
   "outputs": [],
   "source": [
    "def vec_l0(vec_x0, vec_omega, s, zmax):\n",
    "    z_hat = sp.Matrix([0,0,1])\n",
    "    z0 = sp.Piecewise(\n",
    "        (0, dot(vec_omega, z_hat) > 0),\n",
    "        (zmax, True)\n",
    "    )\n",
    "    s_tilde = (zmax - z0) / dot(vec_omega, z_hat)\n",
    "    vec_x1 = vec_x0 + s_tilde * vec_omega\n",
    "    vec_l = (s*vec_x1 + (s_tilde-s)*vec_x0) / s_tilde\n",
    "    return vec_l"
   ]
  },
  {
   "cell_type": "code",
   "execution_count": 11,
   "metadata": {},
   "outputs": [],
   "source": [
    "def gen_grid(ns, nz, na, rope_spacing, zmax):\n",
    "    ds = rope_spacing/ns\n",
    "    dz = zmax/nz\n",
    "    \n",
    "    x = y = -rope_spacing/2 + ds * (np.arange(ns) + 1/2)\n",
    "    z = dz * (np.arange(nz) + 1/2)\n",
    "    \n",
    "    ntheta = nphi = na\n",
    "    nomega = ntheta*(nphi-2) + 2\n",
    "    \n",
    "    dtheta = 2*np.pi/ntheta\n",
    "    dphi = np.pi/(nphi-1)\n",
    "    \n",
    "    theta = dtheta * np.arange(ntheta)\n",
    "    phi = dphi * np.arange(nphi)\n",
    "\n",
    "    l = np.arange(ntheta)\n",
    "    m = np.arange(nphi)\n",
    "    p = np.arange(nomega)\n",
    "\n",
    "    L, M = np.meshgrid(l, m, indexing='ij')\n",
    "    \n",
    "    phat = (M-1)*ntheta + L + 1\n",
    "    phat[:,0] = 0\n",
    "    phat[:,-1] = nomega-1\n",
    "    \n",
    "    theta_p = np.zeros(nomega)\n",
    "    phi_p = np.zeros(nomega)\n",
    "    theta_p[phat] = theta[L]\n",
    "    theta_p[0] = theta_p[-1] = 0\n",
    "    phi_p[phat] = phi[M]\n",
    "    \n",
    "    # A bit redundant, but seems to work\n",
    "    X, Y, Z, Theta = np.meshgrid(x, y, z, theta_p, indexing='ij')\n",
    "    _, _, _, Phi = np.meshgrid(x, y, z, phi_p, indexing='ij')\n",
    "    \n",
    "    return X, Y, Z, Theta, Phi"
   ]
  },
  {
   "cell_type": "code",
   "execution_count": 12,
   "metadata": {},
   "outputs": [],
   "source": [
    "def display_eq(lhs_name, rhs_expr):\n",
    "    \"\"\"\n",
    "    Use IPython.display.display to display a symbolic equation\n",
    "    \"\"\"\n",
    "    display(sp.Eq(sp.Symbol(lhs_name), rhs_expr))"
   ]
  },
  {
   "cell_type": "code",
   "execution_count": 13,
   "metadata": {},
   "outputs": [],
   "source": [
    "def subs_dict(expr, param_dict):\n",
    "    \"\"\"\n",
    "    Substitute a dictionary of values into a symbolic expression.\n",
    "    \"\"\"\n",
    "    # Multiply by a placeholder symbol to the expression in case it is originally\n",
    "    # just a numeric constant, in which case .subs fails.\n",
    "    placeholder = sp.Symbol('PLACEHOLDER')\n",
    "    new_expr = expr * placeholder\n",
    "    for key, val in param_dict.items():\n",
    "        new_expr = new_expr.subs(key, val)\n",
    "        \n",
    "    # Set the placeholder symobol to one.\n",
    "    new_expr = new_expr.subs(placeholder, 1)\n",
    "    \n",
    "    return new_expr"
   ]
  },
  {
   "cell_type": "code",
   "execution_count": 14,
   "metadata": {},
   "outputs": [],
   "source": [
    "def symify(expr, *args, **subs):\n",
    "    \"\"\"\n",
    "    Create symbolic sympy function from `expr`,\n",
    "    with `args` as free variables, \n",
    "    and `subs` values as fixed constants.\n",
    "    \"\"\"\n",
    "    return sp.lambdify(\n",
    "        args,\n",
    "        subs_dict(expr, subs),\n",
    "        modules=(\"sympy\",)\n",
    "    )"
   ]
  },
  {
   "cell_type": "markdown",
   "metadata": {},
   "source": [
    "---"
   ]
  },
  {
   "cell_type": "markdown",
   "metadata": {},
   "source": [
    "## Calculation functions"
   ]
  },
  {
   "cell_type": "code",
   "execution_count": 15,
   "metadata": {},
   "outputs": [],
   "source": [
    "def calculate_bc(L, params=()):\n",
    "    z = space[-1]\n",
    "    zmin = 0\n",
    "    return L(*space, *angle, *params).subs(z, zmin)"
   ]
  },
  {
   "cell_type": "code",
   "execution_count": 16,
   "metadata": {},
   "outputs": [],
   "source": [
    "def calculate_source(L, b, a, beta, params=()):\n",
    "    L_om = L(*space, *angle, *params)\n",
    "    L_omp = L(*space, *angle_prime, *params)\n",
    "    \n",
    "    deriv = dot(vec_om, grad(L_om))\n",
    "    atten = (a(*space)+b)*L_om\n",
    "    \n",
    "    scat_integrand = beta(dot(vec_om, vec_omp)) * L_omp\n",
    "    scat = b * sphere_integral(scat_integrand, angle=angle_prime)\n",
    "    \n",
    "    source = deriv + atten - scat\n",
    "    \n",
    "    return source"
   ]
  },
  {
   "cell_type": "code",
   "execution_count": 17,
   "metadata": {},
   "outputs": [],
   "source": [
    "def check_sol(L, b, a, beta, sigma):\n",
    "    L_om = L(*space, *angle)\n",
    "    L_omp = L(*space, *angle_prime)\n",
    "    \n",
    "    deriv = dot(vec_om, grad(L_om))\n",
    "    atten = (a(*space)+b)*L_om\n",
    "    \n",
    "    scat_integrand = beta(dot(vec_om, vec_omp)) * L_omp\n",
    "    scat = b * sphere_integral(scat_integrand, angle=angle_prime)\n",
    "    \n",
    "    source = sigma(*space, *angle)\n",
    "    \n",
    "    return sp.simplify(deriv + atten - scat - source)"
   ]
  },
  {
   "cell_type": "markdown",
   "metadata": {},
   "source": [
    "---"
   ]
  },
  {
   "cell_type": "markdown",
   "metadata": {},
   "source": [
    "## User-function definitions"
   ]
  },
  {
   "cell_type": "code",
   "execution_count": 18,
   "metadata": {},
   "outputs": [],
   "source": [
    "def uniform_vsf(delta):\n",
    "    return 1/(4*sp.pi)"
   ]
  },
  {
   "cell_type": "code",
   "execution_count": 19,
   "metadata": {},
   "outputs": [],
   "source": [
    "# TODO: No upwelling light from bottom\n",
    "# Also, spatially homogeneous BC\n",
    "def prod_L(x, y, z, theta, phi, alpha, gamma):\n",
    "    return (\n",
    "        (\n",
    "            (\n",
    "                (2+sp.sin(2*sp.pi*x/alpha))\n",
    "                *(2+sp.sin(2*sp.pi*y/alpha))\n",
    "                *(sp.sin(sp.pi*z/gamma))\n",
    "            ) + sp.exp(-z/gamma)\n",
    "        )\n",
    "        *(2+sp.sin(phi))\n",
    "    )"
   ]
  },
  {
   "cell_type": "code",
   "execution_count": 20,
   "metadata": {},
   "outputs": [],
   "source": [
    "def uniform_L(x, y, z, theta, phi, alpha, gamma):\n",
    "    return alpha"
   ]
  },
  {
   "cell_type": "code",
   "execution_count": 21,
   "metadata": {},
   "outputs": [],
   "source": [
    "def tanh_L(x, y, z, theta, phi, alpha, gamma):\n",
    "    return alpha * sp.tanh(gamma-z)"
   ]
  },
  {
   "cell_type": "code",
   "execution_count": 22,
   "metadata": {},
   "outputs": [],
   "source": [
    "def tanh_b_L(x, y, z, theta, phi, b, alpha, gamma):\n",
    "    return alpha * sp.tanh(gamma-b*z)"
   ]
  },
  {
   "cell_type": "code",
   "execution_count": 23,
   "metadata": {},
   "outputs": [],
   "source": [
    "# TODO: Should be periodic on correct grid\n",
    "def prod_a(x, y, z):\n",
    "    return (2+sp.sin(2*sp.pi*x))*(2+sp.sin(2*sp.pi*y))*(1+sp.tanh(z-gamma))"
   ]
  },
  {
   "cell_type": "code",
   "execution_count": 24,
   "metadata": {},
   "outputs": [],
   "source": [
    "def uniform_a(x, y, z):\n",
    "    return 0.2"
   ]
  },
  {
   "cell_type": "markdown",
   "metadata": {},
   "source": [
    "### Decide here which functions to use."
   ]
  },
  {
   "cell_type": "code",
   "execution_count": 25,
   "metadata": {},
   "outputs": [],
   "source": [
    "sol_func = tanh_b_L\n",
    "abs_func = uniform_a\n",
    "vsf_func = uniform_vsf"
   ]
  },
  {
   "cell_type": "markdown",
   "metadata": {},
   "source": [
    "---"
   ]
  },
  {
   "cell_type": "markdown",
   "metadata": {},
   "source": [
    "## Calculate source & BC"
   ]
  },
  {
   "cell_type": "code",
   "execution_count": 26,
   "metadata": {},
   "outputs": [],
   "source": [
    "b = sp.var('b')\n",
    "params = sp.var('b, alpha, gamma')\n",
    "\n",
    "source_expr = calculate_source(sol_func, b, abs_func, vsf_func, params)\n",
    "bc_expr = calculate_bc(sol_func, params)\n",
    "\n",
    "# Evaluate other expressions as well for consistency\n",
    "sol_expr = sol_func(*space, *angle, *params)\n",
    "abs_expr = abs_func(*space)\n",
    "vsf_expr = vsf_func(delta)"
   ]
  },
  {
   "cell_type": "code",
   "execution_count": 27,
   "metadata": {},
   "outputs": [],
   "source": [
    "def series_expr(expr, n):\n",
    "    b = sp.Symbol('b')\n",
    "    return sp.Poly(expr.series(b, n=n+1).removeO(), b).all_coeffs()[::-1]"
   ]
  },
  {
   "cell_type": "code",
   "execution_count": 28,
   "metadata": {},
   "outputs": [],
   "source": [
    "def gen_series_N(expr, N, **param_vals):\n",
    "    terms = [\n",
    "        subs_dict(t, param_vals)\n",
    "        for t in series_expr(expr, N)\n",
    "    ]\n",
    "    \n",
    "    def lambda_N(x, y, z, theta, phi, n):\n",
    "        args = (x, y, z, theta, phi)\n",
    "        array_args = map(np.array, args)\n",
    "        shape = np.shape(sum(array_args))\n",
    "        ans = sp.lambdify(\n",
    "            (*space, *angle),\n",
    "            terms[n],\n",
    "            modules=(\"numpy\",)\n",
    "        )(x, y, z, theta, phi)\n",
    "        return np.broadcast_to(ans, shape)\n",
    "    \n",
    "    return lambda_N"
   ]
  },
  {
   "cell_type": "code",
   "execution_count": 74,
   "metadata": {},
   "outputs": [],
   "source": [
    "def gen_series_sym(expr, N, **param_vals):\n",
    "    terms = [\n",
    "        subs_dict(t, param_vals)\n",
    "        for t in series_expr(expr, N)\n",
    "    ]\n",
    "    \n",
    "    def lambda_sym(x, y, z, theta, phi, n):\n",
    "        return sp.lambdify(\n",
    "            (*space, *angle),\n",
    "            terms[n],\n",
    "            modules=(\"sympy\",)\n",
    "        )(x, y, z, theta, phi)\n",
    "    \n",
    "    return lambda_sym"
   ]
  },
  {
   "cell_type": "code",
   "execution_count": null,
   "metadata": {},
   "outputs": [],
   "source": [
    "gen_series"
   ]
  },
  {
   "cell_type": "markdown",
   "metadata": {},
   "source": [
    "## Calculate irradiance"
   ]
  },
  {
   "cell_type": "code",
   "execution_count": 29,
   "metadata": {},
   "outputs": [],
   "source": [
    "irrad_expr = sphere_integral(\n",
    "    sol_expr,\n",
    "    angle=angle\n",
    ")"
   ]
  },
  {
   "cell_type": "markdown",
   "metadata": {},
   "source": [
    "## Specify parameter values"
   ]
  },
  {
   "cell_type": "code",
   "execution_count": 58,
   "metadata": {},
   "outputs": [],
   "source": [
    "alpha = 1\n",
    "gamma = 1\n",
    "b = 0.2\n",
    "param_vals = {\n",
    "    'alpha': alpha,\n",
    "    'gamma': gamma,\n",
    "    'b': b\n",
    "}\n",
    "\n",
    "# Domain size\n",
    "rope_spacing = 1\n",
    "zmax = 1"
   ]
  },
  {
   "cell_type": "markdown",
   "metadata": {},
   "source": [
    "## Generate symbolic and numerical functions"
   ]
  },
  {
   "cell_type": "code",
   "execution_count": 59,
   "metadata": {},
   "outputs": [],
   "source": [
    "source_sym = symify(source_expr, *space, *angle, **param_vals)\n",
    "abs_sym = symify(abs_expr, *space, **param_vals)\n",
    "bc_sym = symify(bc_expr, *angle, **param_vals)\n",
    "vsf_sym = symify(vsf_expr, delta, **param_vals)\n",
    "sol_sym = symify(sol_expr, *space, *angle, **param_vals)\n",
    "irrad_sym = symify(irrad_expr, *space, **param_vals)\n",
    "\n",
    "# Generate numerical functions\n",
    "abs_func_N = kelp_compute.sym_to_num(abs_sym, *space)\n",
    "source_func_N = kelp_compute.sym_to_num(source_sym, *space, *angle)\n",
    "bc_func_N = kelp_compute.sym_to_num(bc_sym, *angle)\n",
    "vsf_func_N = kelp_compute.sym_to_num(vsf_sym, delta)\n",
    "sol_func_N = kelp_compute.sym_to_num(sol_sym, *space, *angle)\n",
    "irrad_func_N = kelp_compute.sym_to_num(irrad_sym, *space)"
   ]
  },
  {
   "cell_type": "markdown",
   "metadata": {},
   "source": [
    "## Problem Summary"
   ]
  },
  {
   "cell_type": "code",
   "execution_count": 60,
   "metadata": {},
   "outputs": [
    {
     "name": "stdout",
     "output_type": "stream",
     "text": [
      "Solution\n"
     ]
    },
    {
     "data": {
      "image/png": "[encoded data removed]",
      "text/latex": [
       "$$L = \\tanh{\\left (- 0.2 z + 1 \\right )}$$"
      ],
      "text/plain": [
       "L = tanh(-0.2⋅z + 1)"
      ]
     },
     "metadata": {},
     "output_type": "display_data"
    },
    {
     "name": "stdout",
     "output_type": "stream",
     "text": [
      "\n",
      "Absorption Coefficient\n"
     ]
    },
    {
     "data": {
      "image/png": "[encoded data removed]",
      "text/latex": [
       "$$a = 0.2$$"
      ],
      "text/plain": [
       "a = 0.2"
      ]
     },
     "metadata": {},
     "output_type": "display_data"
    },
    {
     "name": "stdout",
     "output_type": "stream",
     "text": [
      "\n",
      "Boundary Condition\n"
     ]
    },
    {
     "data": {
      "image/png": "[encoded data removed]",
      "text/latex": [
       "$$L_{0} = \\tanh{\\left (1 \\right )}$$"
      ],
      "text/plain": [
       "L₀ = tanh(1)"
      ]
     },
     "metadata": {},
     "output_type": "display_data"
    },
    {
     "name": "stdout",
     "output_type": "stream",
     "text": [
      "\n",
      "Source\n"
     ]
    },
    {
     "data": {
      "image/png": "[encoded data removed]",
      "text/latex": [
       "$$\\sigma = \\left(0.2 \\tanh^{2}{\\left (- 0.2 z + 1 \\right )} - 0.2\\right) \\cos{\\left (\\phi \\right )} + 0.2 \\tanh{\\left (- 0.2 z + 1 \\right )}$$"
      ],
      "text/plain": [
       "    ⎛        2                  ⎞                              \n",
       "σ = ⎝0.2⋅tanh (-0.2⋅z + 1) - 0.2⎠⋅cos(φ) + 0.2⋅tanh(-0.2⋅z + 1)"
      ]
     },
     "metadata": {},
     "output_type": "display_data"
    },
    {
     "name": "stdout",
     "output_type": "stream",
     "text": [
      "\n"
     ]
    }
   ],
   "source": [
    "print(\"Solution\")\n",
    "display_eq('L', sol_sym(*space, *angle))\n",
    "print()\n",
    "\n",
    "print(\"Absorption Coefficient\")\n",
    "display_eq('a', abs_sym(*space))\n",
    "print()\n",
    "\n",
    "print(\"Boundary Condition\")\n",
    "display_eq('L_0', bc_sym(*angle))\n",
    "print()\n",
    "\n",
    "print(\"Source\")\n",
    "display_eq('sigma', source_sym(*space, *angle))\n",
    "print()"
   ]
  },
  {
   "cell_type": "markdown",
   "metadata": {},
   "source": [
    "## Check solution constraints\n",
    "\n",
    "- Everything is periodic in x, y\n",
    "- Absorption coefficient is positive\n",
    "- Boundary condition depends only on angle\n",
    "- No upwelling light from below"
   ]
  },
  {
   "cell_type": "markdown",
   "metadata": {},
   "source": [
    "## Check source term\n",
    "\n",
    "Source term seems too high, so try substituting parameters,\n",
    "then plugging in analytical solution.\n",
    "\n",
    "The result should be 0."
   ]
  },
  {
   "cell_type": "code",
   "execution_count": 61,
   "metadata": {},
   "outputs": [
    {
     "data": {
      "image/png": "[encoded data removed]",
      "text/latex": [
       "$$0$$"
      ],
      "text/plain": [
       "0"
      ]
     },
     "execution_count": 61,
     "metadata": {},
     "output_type": "execute_result"
    }
   ],
   "source": [
    "diff = check_sol(sol_sym, b, abs_sym, vsf_sym, source_sym)\n",
    "diff"
   ]
  },
  {
   "cell_type": "code",
   "execution_count": 62,
   "metadata": {},
   "outputs": [],
   "source": [
    "num_diff = sp.lambdify(\n",
    "    (*space, *angle),\n",
    "    diff,\n",
    "    modules=(\"numpy\",)\n",
    ")"
   ]
  },
  {
   "cell_type": "code",
   "execution_count": 63,
   "metadata": {},
   "outputs": [
    {
     "data": {
      "text/plain": [
       "0"
      ]
     },
     "execution_count": 63,
     "metadata": {},
     "output_type": "execute_result"
    }
   ],
   "source": [
    "# Check numerical max on grid in case of numerical error in above expression\n",
    "np.max(num_diff(*gen_grid(10, 10, 10, 1, 1)))"
   ]
  },
  {
   "cell_type": "code",
   "execution_count": 64,
   "metadata": {},
   "outputs": [
    {
     "data": {
      "image/png": "[encoded data removed]",
      "text/latex": [
       "$$- \\alpha b \\left(- \\tanh^{2}{\\left (- b z + \\gamma \\right )} + 1\\right) \\cos{\\left (\\phi \\right )} - \\alpha b \\tanh{\\left (- b z + \\gamma \\right )} + \\alpha \\left(b + 0.2\\right) \\tanh{\\left (- b z + \\gamma \\right )}$$"
      ],
      "text/plain": [
       "      ⎛      2              ⎞                                                 \n",
       "- α⋅b⋅⎝- tanh (-b⋅z + γ) + 1⎠⋅cos(φ) - α⋅b⋅tanh(-b⋅z + γ) + α⋅(b + 0.2)⋅tanh(-\n",
       "\n",
       "        \n",
       "b⋅z + γ)"
      ]
     },
     "execution_count": 64,
     "metadata": {},
     "output_type": "execute_result"
    }
   ],
   "source": [
    "source_expr"
   ]
  },
  {
   "cell_type": "code",
   "execution_count": 65,
   "metadata": {},
   "outputs": [
    {
     "data": {
      "image/png": "[encoded data removed]",
      "text/latex": [
       "$$\\left [ 0.2 \\alpha \\tanh{\\left (\\gamma \\right )}, \\quad 0.2 \\alpha z \\tanh^{2}{\\left (\\gamma \\right )} - 0.2 \\alpha z + 1.0 \\alpha \\cos{\\left (\\phi \\right )} \\tanh^{2}{\\left (\\gamma \\right )} - 1.0 \\alpha \\cos{\\left (\\phi \\right )}, \\quad 0.2 \\alpha z^{2} \\tanh^{3}{\\left (\\gamma \\right )} - 0.2 \\alpha z^{2} \\tanh{\\left (\\gamma \\right )} + 2.0 \\alpha z \\cos{\\left (\\phi \\right )} \\tanh^{3}{\\left (\\gamma \\right )} - 2.0 \\alpha z \\cos{\\left (\\phi \\right )} \\tanh{\\left (\\gamma \\right )}\\right ]$$"
      ],
      "text/plain": [
       "⎡                           2                                 2               \n",
       "⎣0.2⋅α⋅tanh(γ), 0.2⋅α⋅z⋅tanh (γ) - 0.2⋅α⋅z + 1.0⋅α⋅cos(φ)⋅tanh (γ) - 1.0⋅α⋅cos\n",
       "\n",
       "            2     3             2                              3              \n",
       "(φ), 0.2⋅α⋅z ⋅tanh (γ) - 0.2⋅α⋅z ⋅tanh(γ) + 2.0⋅α⋅z⋅cos(φ)⋅tanh (γ) - 2.0⋅α⋅z⋅\n",
       "\n",
       "              ⎤\n",
       "cos(φ)⋅tanh(γ)⎦"
      ]
     },
     "execution_count": 65,
     "metadata": {},
     "output_type": "execute_result"
    }
   ],
   "source": [
    "sp.Poly(source_expr.series(sp.Symbol('b'), n=3).removeO(), sp.Symbol('b')).all_coeffs()[::-1]"
   ]
  },
  {
   "cell_type": "code",
   "execution_count": null,
   "metadata": {},
   "outputs": [],
   "source": []
  },
  {
   "cell_type": "markdown",
   "metadata": {},
   "source": [
    "## Numerical Solution"
   ]
  },
  {
   "cell_type": "code",
   "execution_count": 66,
   "metadata": {},
   "outputs": [],
   "source": [
    "return_dict = {}"
   ]
  },
  {
   "cell_type": "code",
   "execution_count": 67,
   "metadata": {},
   "outputs": [],
   "source": [
    "# Grid options\n",
    "ns = 16\n",
    "nz = 16\n",
    "na = 10\n",
    "nomega = na*(na-2) + 2\n",
    "\n",
    "# Domain size\n",
    "rope_spacing = 1\n",
    "zmax = 1\n",
    "\n",
    "# Solver options\n",
    "lis_opts = \"-i gmres -restart 100 -tol 1e-3\"\n",
    "num_scatters = 1\n",
    "\n",
    "# Numerical function for source expansion\n",
    "source_expansion_N = gen_series_N(source_expr, num_scatters, **param_vals)\n",
    "\n",
    "# Calculate leading order solution\n",
    "_, noscat_results = kelp_compute.solve_rte_with_callbacks_full(\n",
    "    ns, nz, na,\n",
    "    rope_spacing, zmax,\n",
    "    b, abs_sym, source_sym, source_expansion_N, bc_sym, vsf_sym,\n",
    "    num_scatters=0, fd_flag=False, lis_opts=lis_opts\n",
    ")\n",
    "\n",
    "# Calculate asymptotic solution\n",
    "_, asymptotic_results = kelp_compute.solve_rte_with_callbacks_full(\n",
    "    ns, nz, na,\n",
    "    rope_spacing, zmax,\n",
    "    b, abs_sym, source_sym, source_expansion_N, bc_sym, vsf_sym,\n",
    "    num_scatters=num_scatters, fd_flag=False, lis_opts=lis_opts\n",
    ")\n",
    "\n",
    "# Calculate finite difference solution\n",
    "_, fd_results = kelp_compute.solve_rte_with_callbacks_full(\n",
    "    ns, nz, na,\n",
    "    rope_spacing, zmax,\n",
    "    b, abs_sym, source_sym, source_expansion_N, bc_sym, vsf_sym,\n",
    "    num_scatters=0, fd_flag=True, lis_opts=lis_opts\n",
    ")\n",
    "\n",
    "# Extract numerical solutions\n",
    "noscat_sol = noscat_results['rad']\n",
    "asymptotic_sol = asymptotic_results['rad']\n",
    "fd_sol = fd_results['rad']\n",
    "\n",
    "# Evaluate true solution on same grid\n",
    "x, y, z, theta, phi = gen_grid(ns, nz, na, rope_spacing, zmax)\n",
    "true_sol = sol_func_N(x, y, z, theta, phi)\n",
    "true_irrad = irrad_func_N(x, y, z)[:,:,:,0]"
   ]
  },
  {
   "cell_type": "code",
   "execution_count": 68,
   "metadata": {},
   "outputs": [],
   "source": [
    "# Pick one angle to evaluate symbolically and plot\n",
    "l = 0\n",
    "m = int(np.floor(na/4))\n",
    "p = p_hat(l, m)\n",
    "th = theta[0,0,0,p]\n",
    "ph = phi[0,0,0,p]\n",
    "one_angle_dict = {\n",
    "    'theta': th,\n",
    "    'phi': ph\n",
    "}\n",
    "one_angle_tuple = (th, ph)"
   ]
  },
  {
   "cell_type": "markdown",
   "metadata": {},
   "source": [
    "## Symbolic Solution (no scattering)"
   ]
  },
  {
   "cell_type": "code",
   "execution_count": 69,
   "metadata": {},
   "outputs": [],
   "source": [
    "# Declare variables\n",
    "s, s_p, s_pp = sp.var('s, s_p, s_{pp}')\n",
    "x0, y0 = sp.var('x_0, y_0')\n",
    "vec_x0 = sp.Matrix([x0, y0, 0])"
   ]
  },
  {
   "cell_type": "code",
   "execution_count": 70,
   "metadata": {},
   "outputs": [],
   "source": [
    "do_symbolic = True\n",
    "num_sym_scat = 1\n",
    "if do_symbolic:\n",
    "    # Calculate absorption and source\n",
    "    # along ray path\n",
    "    a_tilde = abs_sym(\n",
    "        *sp.simplify(\n",
    "            subs_dict(\n",
    "                vec_l0(vec_x0, vec_om, s_pp, zmax),\n",
    "                one_angle_dict\n",
    "            )\n",
    "        )\n",
    "    )\n",
    "    sigma_tilde = source_sym(\n",
    "        *sp.simplify(\n",
    "            subs_dict(\n",
    "                vec_l0(vec_x0, vec_om, s_p, zmax),\n",
    "                one_angle_dict\n",
    "            )\n",
    "        ), \n",
    "        *one_angle_tuple\n",
    "    )\n",
    "\n",
    "    # Integrate light from distributed source\n",
    "    u0_source_expr = sp.integrate(\n",
    "        sigma_tilde * sp.exp(\n",
    "            -sp.integrate(\n",
    "                a_tilde,\n",
    "                (s_pp, s_p, s)\n",
    "            )\n",
    "        ),\n",
    "        (s_p, 0, s)\n",
    "    )\n",
    "\n",
    "    # Integrate light from boundary condition\n",
    "    u0_bc_expr = (\n",
    "        bc_sym(*angle) * sp.exp(\n",
    "            -sp.integrate(\n",
    "                a_tilde,\n",
    "                (s_pp, 0, s)\n",
    "            )\n",
    "        )\n",
    "    )\n",
    "\n",
    "    # Superpose source and bc solutions\n",
    "    u0_s_expr = u0_source_expr + u0_bc_expr\n",
    "\n",
    "    # Convert to funcion of x, y, z\n",
    "    u0_func = sp.lambdify(\n",
    "        ('s', 'x_0', 'y_0'),\n",
    "        u0_s_expr,\n",
    "        modules=(\"sympy\",)\n",
    "    )\n",
    "    L_symbolic_expr = u0_func(\n",
    "        sp.Symbol('z')*sp.sec(ph),\n",
    "        sp.Symbol('x') - sp.Symbol('z')*sp.tan(ph)*sp.cos(th),\n",
    "        sp.Symbol('y') - sp.Symbol('z')*sp.tan(ph)*sp.sin(th),\n",
    "    )\n",
    "\n",
    "    # Convert to numerical function\n",
    "    L_symbolic_N = sp.lambdify(\n",
    "        space,\n",
    "        L_symbolic_expr, \n",
    "    )\n",
    "\n",
    "    # Evaluate on discrete grid\n",
    "    symbolic_sol = L_symbolic_N(x, y, z)"
   ]
  },
  {
   "cell_type": "markdown",
   "metadata": {},
   "source": [
    "# Plot"
   ]
  },
  {
   "cell_type": "markdown",
   "metadata": {},
   "source": [
    "## 1D Slices"
   ]
  },
  {
   "cell_type": "code",
   "execution_count": 71,
   "metadata": {},
   "outputs": [
    {
     "name": "stderr",
     "output_type": "stream",
     "text": [
      "/home/oliver/local/miniconda3/envs/kelp/lib/python3.6/site-packages/ipykernel_launcher.py:39: RuntimeWarning: divide by zero encountered in log\n"
     ]
    },
    {
     "data": {
      "image/png": "[encoded data removed]",
      "text/plain": [
       "<Figure size 864x576 with 4 Axes>"
      ]
     },
     "metadata": {},
     "output_type": "display_data"
    }
   ],
   "source": [
    "plot_inds = np.zeros_like(true_sol, dtype=bool)\n",
    "plot_inds[0,0,:,p] = True\n",
    "\n",
    "# Source & abs\n",
    "plt.figure(figsize=(12,8))\n",
    "plt.subplot(2,2,1)\n",
    "plt.plot(z[plot_inds], abs_func_N(x,y,z)[plot_inds], 'C0o-', label='abs')\n",
    "plt.plot(z[plot_inds], source_func_N(x,y,z,theta,phi)[plot_inds], 'C1o-', label='source')\n",
    "plt.xlabel('z')\n",
    "plt.legend()\n",
    "\n",
    "# Solution\n",
    "plt.subplot(2,2,2)\n",
    "plt.plot(z[plot_inds], true_sol[plot_inds], 'C2o-', label='true')\n",
    "plt.plot(z[plot_inds], noscat_sol[plot_inds], 'C3o-', label='noscat')\n",
    "plt.plot(z[plot_inds], asymptotic_sol[plot_inds], 'C4o-', label='asym')\n",
    "plt.plot(z[plot_inds], fd_sol[plot_inds], 'C5o-', label='fd')\n",
    "plt.plot(z[plot_inds], symbolic_sol[plot_inds], 'C6o-', label='symbolic')\n",
    "plt.xlabel('z')\n",
    "plt.ylabel('sol')\n",
    "plt.legend()\n",
    "\n",
    "# Error\n",
    "plt.subplot(2,2,3)\n",
    "plt.plot(z[plot_inds], -true_sol[plot_inds]+true_sol[plot_inds], 'C2o-', label='true')\n",
    "plt.plot(z[plot_inds], -true_sol[plot_inds]+noscat_sol[plot_inds], 'C3o-', label='noscat')\n",
    "plt.plot(z[plot_inds], -true_sol[plot_inds]+asymptotic_sol[plot_inds], 'C4o-', label='asym')\n",
    "plt.plot(z[plot_inds], -true_sol[plot_inds]+fd_sol[plot_inds], 'C5o-', label='fd')\n",
    "plt.plot(z[plot_inds], -true_sol[plot_inds]+symbolic_sol[plot_inds], 'C6o-', label='symbolic')\n",
    "plt.xlabel('z')\n",
    "plt.ylabel('sol - true')\n",
    "plt.legend()\n",
    "\n",
    "# Log Error\n",
    "plt.subplot(2,2,4)\n",
    "plt.plot(z[plot_inds], np.log(np.abs(-true_sol[plot_inds]+noscat_sol[plot_inds])), 'C3o-', label='noscat')\n",
    "plt.plot(z[plot_inds], np.log(np.abs(-true_sol[plot_inds]+asymptotic_sol[plot_inds])), 'C4o-', label='asym')\n",
    "plt.plot(z[plot_inds], np.log(np.abs(-true_sol[plot_inds]+fd_sol[plot_inds])), 'C5o-', label='fd')\n",
    "plt.plot(z[plot_inds], np.log(np.abs(-true_sol[plot_inds]+symbolic_sol[plot_inds])), 'C6o-', label='symbolic')\n",
    "plt.xlabel('z')\n",
    "plt.ylabel('sol - true')\n",
    "plt.legend()\n",
    "\n",
    "plt.tight_layout()\n",
    "plt.show()"
   ]
  },
  {
   "cell_type": "code",
   "execution_count": 72,
   "metadata": {},
   "outputs": [
    {
     "data": {
      "image/png": "[encoded data removed]",
      "text/latex": [
       "$$5.551115123125783e-16$$"
      ],
      "text/plain": [
       "5.551115123125783e-16"
      ]
     },
     "execution_count": 72,
     "metadata": {},
     "output_type": "execute_result"
    }
   ],
   "source": [
    "np.abs(true_sol - symbolic_sol).max()"
   ]
  },
  {
   "cell_type": "markdown",
   "metadata": {},
   "source": [
    "## 2D Slices"
   ]
  },
  {
   "cell_type": "code",
   "execution_count": 73,
   "metadata": {},
   "outputs": [
    {
     "data": {
      "image/png": "[encoded data removed]",
      "text/plain": [
       "<Figure size 432x288 with 2 Axes>"
      ]
     },
     "metadata": {},
     "output_type": "display_data"
    },
    {
     "data": {
      "image/png": "[encoded data removed]",
      "text/plain": [
       "<Figure size 432x288 with 2 Axes>"
      ]
     },
     "metadata": {},
     "output_type": "display_data"
    },
    {
     "data": {
      "image/png": "[encoded data removed]",
      "text/plain": [
       "<Figure size 432x288 with 2 Axes>"
      ]
     },
     "metadata": {},
     "output_type": "display_data"
    },
    {
     "data": {
      "image/png": "[encoded data removed]",
      "text/plain": [
       "<Figure size 432x288 with 2 Axes>"
      ]
     },
     "metadata": {},
     "output_type": "display_data"
    }
   ],
   "source": [
    "plt.figure()\n",
    "plt.contourf(x[:,0,:,0], z[:,0,:,0], true_sol[:,0,:,0])\n",
    "plt.colorbar()\n",
    "plt.title('true')\n",
    "plt.xlabel('x')\n",
    "plt.ylabel('z')\n",
    "\n",
    "plt.figure()\n",
    "plt.contourf(x[:,0,:,0], z[:,0,:,0], fd_sol[:,0,:,0])\n",
    "plt.colorbar()\n",
    "plt.title('fd')\n",
    "plt.xlabel('x')\n",
    "plt.ylabel('z')\n",
    "\n",
    "plt.figure()\n",
    "plt.contourf(x[:,0,:,0], z[:,0,:,0], noscat_sol[:,0,:,0])\n",
    "plt.colorbar()\n",
    "plt.title('noscat')\n",
    "plt.xlabel('x')\n",
    "plt.ylabel('z')\n",
    "\n",
    "plt.figure()\n",
    "plt.contourf(x[:,0,:,0], z[:,0,:,0], asymptotic_sol[:,0,:,0])\n",
    "plt.colorbar()\n",
    "plt.title('asymptotic')\n",
    "plt.xlabel('x')\n",
    "plt.ylabel('z')\n",
    "plt.show()"
   ]
  },
  {
   "cell_type": "markdown",
   "metadata": {},
   "source": [
    "## Volume Plots"
   ]
  },
  {
   "cell_type": "markdown",
   "metadata": {},
   "source": [
    "### True"
   ]
  },
  {
   "cell_type": "code",
   "execution_count": 44,
   "metadata": {},
   "outputs": [
    {
     "data": {
      "application/vnd.jupyter.widget-view+json": {
       "model_id": "fa8aca9dff0c46b19ea0a29a253b529f",
       "version_major": 2,
       "version_minor": 0
      },
      "text/plain": [
       "VBox(children=(VBox(children=(HBox(children=(Label(value='levels:'), FloatSlider(value=0.1, max=1.0, step=0.00…"
      ]
     },
     "metadata": {},
     "output_type": "display_data"
    }
   ],
   "source": [
    "discrete_plot.volshow_zoom_correct_scale(x[:,0,0,0], y[0,:,0,0], z[0,0,:,0], true_irrad)"
   ]
  },
  {
   "cell_type": "markdown",
   "metadata": {},
   "source": [
    "### FD"
   ]
  },
  {
   "cell_type": "code",
   "execution_count": 45,
   "metadata": {},
   "outputs": [
    {
     "data": {
      "application/vnd.jupyter.widget-view+json": {
       "model_id": "4b3c18d7b94e478e87a8e74da465f850",
       "version_major": 2,
       "version_minor": 0
      },
      "text/plain": [
       "VBox(children=(VBox(children=(HBox(children=(Label(value='levels:'), FloatSlider(value=0.1, max=1.0, step=0.00…"
      ]
     },
     "metadata": {},
     "output_type": "display_data"
    }
   ],
   "source": [
    "discrete_plot.volshow_zoom_correct_scale(x[:,0,0,0], y[0,:,0,0], z[0,0,:,0], fd_results['irrad'])"
   ]
  },
  {
   "cell_type": "markdown",
   "metadata": {},
   "source": [
    "### Noscat"
   ]
  },
  {
   "cell_type": "code",
   "execution_count": 46,
   "metadata": {},
   "outputs": [
    {
     "data": {
      "application/vnd.jupyter.widget-view+json": {
       "model_id": "dda6e5caa21648d48e75daac36bb282f",
       "version_major": 2,
       "version_minor": 0
      },
      "text/plain": [
       "VBox(children=(VBox(children=(HBox(children=(Label(value='levels:'), FloatSlider(value=0.1, max=1.0, step=0.00…"
      ]
     },
     "metadata": {},
     "output_type": "display_data"
    }
   ],
   "source": [
    "discrete_plot.volshow_zoom_correct_scale(x[:,0,0,0], y[0,:,0,0], z[0,0,:,0], noscat_results['irrad'])"
   ]
  },
  {
   "cell_type": "markdown",
   "metadata": {},
   "source": [
    "### Asymptotics"
   ]
  },
  {
   "cell_type": "code",
   "execution_count": 47,
   "metadata": {},
   "outputs": [
    {
     "data": {
      "application/vnd.jupyter.widget-view+json": {
       "model_id": "7fa55beeb0f94084aa478a24c852fe54",
       "version_major": 2,
       "version_minor": 0
      },
      "text/plain": [
       "VBox(children=(VBox(children=(HBox(children=(Label(value='levels:'), FloatSlider(value=0.1, max=1.0, step=0.00…"
      ]
     },
     "metadata": {},
     "output_type": "display_data"
    }
   ],
   "source": [
    "discrete_plot.volshow_zoom_correct_scale(x[:,0,0,0], y[0,:,0,0], z[0,0,:,0], asymptotic_results['irrad'])"
   ]
  }
 ],
 "metadata": {
  "kernelspec": {
   "display_name": "Python 3 (kelp)",
   "language": "python",
   "name": "kelp"
  },
  "language_info": {
   "codemirror_mode": {
    "name": "ipython",
    "version": 3
   },
   "file_extension": ".py",
   "mimetype": "text/x-python",
   "name": "python",
   "nbconvert_exporter": "python",
   "pygments_lexer": "ipython3",
   "version": "3.6.5"
  }
 },
 "nbformat": 4,
 "nbformat_minor": 2
}
