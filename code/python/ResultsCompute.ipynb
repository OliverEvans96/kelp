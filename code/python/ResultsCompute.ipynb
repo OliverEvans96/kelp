{
 "cells": [
  {
   "cell_type": "code",
   "execution_count": null,
   "metadata": {},
   "outputs": [],
   "source": [
    "%load_ext autoreload\n",
    "%autoreload 2"
   ]
  },
  {
   "cell_type": "code",
   "execution_count": null,
   "metadata": {},
   "outputs": [],
   "source": [
    "#import kelp_param\n",
    "import kelp3d_objs as k3\n",
    "import ipyparallel as ipp\n",
    "import concurrent.futures as cf\n",
    "import itertools as it\n",
    "#from sympy import divisors\n",
    "import numpy as np\n",
    "import matplotlib.pyplot as plt\n",
    "from scipy import optimize as opt\n",
    "from scipy.interpolate import interp1d\n",
    "import ipyvolume as ipv"
   ]
  },
  {
   "cell_type": "code",
   "execution_count": null,
   "metadata": {},
   "outputs": [],
   "source": [
    "import kelp_compute\n",
    "import kelp_analyze\n",
    "import discrete_plot"
   ]
  },
  {
   "cell_type": "code",
   "execution_count": null,
   "metadata": {},
   "outputs": [],
   "source": [
    "import sqlite3\n",
    "import shutil\n",
    "import os"
   ]
  },
  {
   "cell_type": "code",
   "execution_count": null,
   "metadata": {},
   "outputs": [],
   "source": [
    "#remote_config = kelp_param.ParamSpanRemoteConfig()\n",
    "ipc = ipp.Client()\n",
    "lv = ipc.load_balanced_view()\n",
    "dv = ipc.direct_view()\n",
    "print(ipc.ids)"
   ]
  },
  {
   "cell_type": "raw",
   "metadata": {},
   "source": [
    "## I don't think these are necessary any more.\n",
    "\n",
    "# Hard-coded parameters\n",
    "rope_spacing = 5.0 # (m)\n",
    "zmin, zmax = 0.0, 10.0 # (m)\n",
    "\n",
    "# Light from above\n",
    "I0 = 50.0 # (W/m^2)\n",
    "phi_s = 0 # (rad)\n",
    "theta_s = 0 # (rad)\n",
    "decay = 0 # (?) - light (practically) only from directly above\n",
    "\n",
    "# Calculated or otherwise boring parameters\n",
    "xmin = -rope_spacing/2\n",
    "xmax = rope_spacing/2\n",
    "ymin = -rope_spacing/2\n",
    "ymax = rope_spacing/2\n",
    "\n",
    "# Solver parameters\n",
    "lis_options = \"-i gmres -restart 10000 -tol 1e-4\""
   ]
  },
  {
   "cell_type": "markdown",
   "metadata": {},
   "source": [
    "# Grid Study 1 (Base case: Top-heavy)"
   ]
  },
  {
   "cell_type": "code",
   "execution_count": null,
   "metadata": {
    "scrolled": true
   },
   "outputs": [],
   "source": [
    "# Set parameters\n",
    "study_name = 'gs22all_top_heavy'\n",
    "a_water = 0.179\n",
    "b = 0.219\n",
    "kelp_dist='top-heavy'\n",
    "ns_max = 22\n",
    "nz_max = 22\n",
    "na_max = 22\n",
    "ns_list = range(6, ns_max+1, 2)\n",
    "nz_list = range(6, nz_max+1, 2)\n",
    "na_list = range(6, na_max+1, 2)\n",
    "lis_opts = '-i gmres -restart 100'\n",
    "# TODO: Make this default?\n",
    "base_dir = os.path.join(os.environ['SCRATCH'], 'kelp-results')\n",
    "\n",
    "# ns_list = [4,10]\n",
    "# nz_list = [4,10]\n",
    "# na_list = [10,12]\n",
    "\n",
    "# TODO: Don't actually delete results\n",
    "# shutil.rmtree(os.path.join(base_dir, study_name), ignore_errors=True)\n",
    "\n",
    "# combine_thread, gs_fut = kelp_compute.grid_study_compute(\n",
    "#     study_name, \n",
    "#     a_water, b, kelp_dist,\n",
    "#     ns_list, nz_list, na_list,\n",
    "#     lis_opts, base_dir=base_dir\n",
    "# )"
   ]
  },
  {
   "cell_type": "markdown",
   "metadata": {},
   "source": [
    "# Grid Study 2 (bottom-heavy)"
   ]
  },
  {
   "cell_type": "code",
   "execution_count": null,
   "metadata": {
    "scrolled": true
   },
   "outputs": [],
   "source": [
    "# Set parameters\n",
    "study_name = 'gs22all_bottom_heavy'\n",
    "a_water = 0.179\n",
    "b = 0.219\n",
    "kelp_dist='bottom-heavy'\n",
    "ns_max = 22\n",
    "nz_max = 22\n",
    "na_max = 22\n",
    "ns_list = range(6, ns_max+1, 2)\n",
    "nz_list = range(6, nz_max+1, 2)\n",
    "na_list = range(6, na_max+1, 2)\n",
    "lis_opts = '-i gmres -restart 100'\n",
    "# TODO: Make this default?\n",
    "base_dir = os.path.join(os.environ['SCRATCH'], 'kelp-results')\n",
    "\n",
    "# ns_list = [4,10]\n",
    "# nz_list = [4,10]\n",
    "# na_list = [10,12]\n",
    "\n",
    "# TODO: Don't actually delete results\n",
    "# shutil.rmtree(os.path.join(base_dir, study_name), ignore_errors=True)\n",
    "\n",
    "# combine_thread, gs_fut = kelp_compute.grid_study_compute(\n",
    "#     study_name, \n",
    "#     a_water, b, kelp_dist,\n",
    "#     ns_list, nz_list, na_list,\n",
    "#     lis_opts, base_dir=base_dir\n",
    "# )"
   ]
  },
  {
   "cell_type": "markdown",
   "metadata": {},
   "source": [
    "# Grid Study 3 (high scattering: NUC 2240)"
   ]
  },
  {
   "cell_type": "code",
   "execution_count": null,
   "metadata": {
    "scrolled": true
   },
   "outputs": [],
   "source": [
    "# Set parameters\n",
    "study_name = 'gs22all_high_scatter'\n",
    "a_water = 0.179\n",
    "b = 1.205\n",
    "kelp_dist='top-heavy'\n",
    "ns_max = 22\n",
    "nz_max = 22\n",
    "na_max = 22\n",
    "ns_list = range(6, ns_max+1, 2)\n",
    "nz_list = range(6, nz_max+1, 2)\n",
    "na_list = range(6, na_max+1, 2)\n",
    "lis_opts = '-i gmres -restart 100'\n",
    "# TODO: Make this default?\n",
    "base_dir = os.path.join(os.environ['SCRATCH'], 'kelp-results')\n",
    "\n",
    "# ns_list = [4,10]\n",
    "# nz_list = [4,10]\n",
    "# na_list = [10,12]\n",
    "\n",
    "# TODO: Don't actually delete results\n",
    "# shutil.rmtree(os.path.join(base_dir, study_name), ignore_errors=True)\n",
    "\n",
    "# combine_thread, gs_fut = kelp_compute.grid_study_compute(\n",
    "#     study_name, \n",
    "#     a_water, b, kelp_dist,\n",
    "#     ns_list, nz_list, na_list,\n",
    "#     lis_opts, base_dir=base_dir\n",
    "# )"
   ]
  },
  {
   "cell_type": "markdown",
   "metadata": {},
   "source": [
    "# One Space (ns=nz)"
   ]
  },
  {
   "cell_type": "markdown",
   "metadata": {},
   "source": [
    "# Grid Study 1 (Base case: Top-heavy)"
   ]
  },
  {
   "cell_type": "code",
   "execution_count": null,
   "metadata": {
    "scrolled": true
   },
   "outputs": [],
   "source": [
    "# Set parameters\n",
    "study_name = 'gs88_top_heavy_new'\n",
    "a_water = 0.179\n",
    "b = 0.219\n",
    "kelp_dist='top-heavy'\n",
    "ns_min = 8\n",
    "ns_max = 88\n",
    "na_min = 2\n",
    "na_max = 8\n",
    "ns_list = range(ns_min, ns_max+1, 8)\n",
    "na_list = range(na_min, na_max+1, 2)\n",
    "lis_opts = '-i gmres -restart 100 -maxiter 50000 -tol 1e-12'\n",
    "# TODO: Make this default?\n",
    "base_dir = os.path.join(os.environ['SCRATCH'], 'kelp-results')\n",
    "\n",
    "# ns_list = [4,10]\n",
    "# nz_list = [4,10]\n",
    "# na_list = [10,12]\n",
    "\n",
    "# TODO: Don't actually delete results\n",
    "# shutil.rmtree(os.path.join(base_dir, study_name), ignore_errors=True)\n",
    "\n",
    "combine_thread, gs_fut = kelp_compute.grid_study_compute_onespace(\n",
    "    study_name, \n",
    "    a_water, b, kelp_dist,\n",
    "    ns_list, na_list,\n",
    "    lis_opts, base_dir=base_dir\n",
    ")"
   ]
  },
  {
   "cell_type": "markdown",
   "metadata": {},
   "source": [
    "# Grid Study 2 (No Scattering, High Absorption)"
   ]
  },
  {
   "cell_type": "code",
   "execution_count": null,
   "metadata": {},
   "outputs": [],
   "source": [
    "print(\"hi\")"
   ]
  },
  {
   "cell_type": "code",
   "execution_count": null,
   "metadata": {
    "scrolled": true
   },
   "outputs": [],
   "source": [
    "# Set parameters\n",
    "study_name = 'gs32_a05_b0_new'\n",
    "a_water = 0.5\n",
    "b = 0.0\n",
    "kelp_dist='top-heavy'\n",
    "ns_min = 8\n",
    "ns_max = 32\n",
    "na_min = 2\n",
    "na_max = 16\n",
    "ns_list = range(ns_min, ns_max+1, 4)\n",
    "na_list = range(na_min, na_max+1, 2)\n",
    "lis_opts = '-i gmres -restart 100 -maxiter 50000 -tol 1e-12'\n",
    "# TODO: Make this default?\n",
    "base_dir = os.path.join(os.environ['SCRATCH'], 'kelp-results')\n",
    "\n",
    "# ns_list = [4,10]\n",
    "# nz_list = [4,10]\n",
    "# na_list = [10,12]\n",
    "\n",
    "# TODO: Don't actually delete results\n",
    "# shutil.rmtree(os.path.join(base_dir, study_name), ignore_errors=True)\n",
    "\n",
    "combine_thread, gs_fut = kelp_compute.grid_study_compute_onespace(\n",
    "    study_name, \n",
    "    a_water, b, kelp_dist,\n",
    "    ns_list, na_list,\n",
    "    lis_opts, base_dir=base_dir\n",
    ")"
   ]
  },
  {
   "cell_type": "code",
   "execution_count": null,
   "metadata": {
    "scrolled": true
   },
   "outputs": [],
   "source": [
    "# Set parameters\n",
    "study_name = 'gs64_a05_b0_new'\n",
    "a_water = 0.5\n",
    "b = 0.0\n",
    "kelp_dist='top-heavy'\n",
    "ns_min = 8\n",
    "ns_max = 64\n",
    "na_min = 2\n",
    "na_max = 10\n",
    "ns_list = range(ns_min, ns_max+1, 8)\n",
    "na_list = range(na_min, na_max+1, 2)\n",
    "lis_opts = '-i gmres -restart 100 -maxiter 50000 -tol 1e-12'\n",
    "# TODO: Make this default?\n",
    "base_dir = os.path.join(os.environ['SCRATCH'], 'kelp-results')\n",
    "\n",
    "# ns_list = [4,10]\n",
    "# nz_list = [4,10]\n",
    "# na_list = [10,12]\n",
    "\n",
    "# TODO: Don't actually delete results\n",
    "# shutil.rmtree(os.path.join(base_dir, study_name), ignore_errors=True)\n",
    "\n",
    "combine_thread, gs_fut = kelp_compute.grid_study_compute_onespace(\n",
    "    study_name, \n",
    "    a_water, b, kelp_dist,\n",
    "    ns_list, na_list,\n",
    "    lis_opts, base_dir=base_dir\n",
    ")"
   ]
  },
  {
   "cell_type": "markdown",
   "metadata": {},
   "source": [
    "# Grid Study 2.5 (No scattering, Really high absorption)"
   ]
  },
  {
   "cell_type": "code",
   "execution_count": null,
   "metadata": {
    "scrolled": true
   },
   "outputs": [],
   "source": [
    "# Set parameters\n",
    "study_name = 'gs88_a50_b0_new'\n",
    "a_water = 5.0\n",
    "b = 0.0\n",
    "kelp_dist='top-heavy'\n",
    "ns_min = 8\n",
    "ns_max = 88\n",
    "na_min = 2\n",
    "na_max = 8\n",
    "ns_list = range(ns_min, ns_max+1, 8)\n",
    "na_list = range(na_min, na_max+1, 2)\n",
    "lis_opts = '-i gmres -restart 100 -maxiter 50000 -tol 1e-12'\n",
    "# TODO: Make this default?\n",
    "base_dir = os.path.join(os.environ['SCRATCH'], 'kelp-results')\n",
    "\n",
    "# ns_list = [4,10]\n",
    "# nz_list = [4,10]\n",
    "# na_list = [10,12]\n",
    "\n",
    "# TODO: Don't actually delete results\n",
    "# shutil.rmtree(os.path.join(base_dir, study_name), ignore_errors=True)\n",
    "\n",
    "combine_thread, gs_fut = kelp_compute.grid_study_compute_onespace(\n",
    "    study_name, \n",
    "    a_water, b, kelp_dist,\n",
    "    ns_list, na_list,\n",
    "    lis_opts, base_dir=base_dir\n",
    ")"
   ]
  },
  {
   "cell_type": "markdown",
   "metadata": {},
   "source": [
    "# Grid Study 3 (No Scattering, Low Absorption)"
   ]
  },
  {
   "cell_type": "code",
   "execution_count": null,
   "metadata": {
    "scrolled": true
   },
   "outputs": [],
   "source": [
    "# Set parameters\n",
    "study_name = 'gs88_a01_b0_new'\n",
    "a_water = 0.1\n",
    "b = 0.0\n",
    "kelp_dist='top-heavy'\n",
    "ns_min = 8\n",
    "ns_max = 88\n",
    "na_min = 2\n",
    "na_max = 8\n",
    "ns_list = range(ns_min, ns_max+1, 8)\n",
    "na_list = range(na_min, na_max+1, 2)\n",
    "lis_opts = '-i gmres -restart 100 -maxiter 50000 -tol 1e-12'\n",
    "# TODO: Make this default?\n",
    "base_dir = os.path.join(os.environ['SCRATCH'], 'kelp-results')\n",
    "\n",
    "# ns_list = [4,10]\n",
    "# nz_list = [4,10]\n",
    "# na_list = [10,12]\n",
    "\n",
    "# TODO: Don't actually delete results\n",
    "# shutil.rmtree(os.path.join(base_dir, study_name), ignore_errors=True)\n",
    "\n",
    "combine_thread, gs_fut = kelp_compute.grid_study_compute_onespace(\n",
    "    study_name, \n",
    "    a_water, b, kelp_dist,\n",
    "    ns_list, na_list,\n",
    "    lis_opts, base_dir=base_dir\n",
    ")"
   ]
  },
  {
   "cell_type": "markdown",
   "metadata": {},
   "source": [
    "# Grid Study 3.5 (No Scattering, Low Absorption, Bottom-heavy)"
   ]
  },
  {
   "cell_type": "code",
   "execution_count": null,
   "metadata": {
    "scrolled": true
   },
   "outputs": [],
   "source": [
    "# Set parameters\n",
    "study_name = 'gs88_a01_b0_bh_new'\n",
    "a_water = 0.1\n",
    "b = 0.0\n",
    "kelp_dist='bottom-heavy'\n",
    "ns_min = 8\n",
    "ns_max = 88\n",
    "na_min = 2\n",
    "na_max = 8\n",
    "ns_list = range(ns_min, ns_max+1, 8)\n",
    "na_list = range(na_min, na_max+1, 2)\n",
    "lis_opts = '-i gmres -restart 100 -maxiter 50000 -tol 1e-12'\n",
    "# TODO: Make this default?\n",
    "base_dir = os.path.join(os.environ['SCRATCH'], 'kelp-results')\n",
    "\n",
    "# ns_list = [4,10]\n",
    "# nz_list = [4,10]\n",
    "# na_list = [10,12]\n",
    "\n",
    "# TODO: Don't actually delete results\n",
    "# shutil.rmtree(os.path.join(base_dir, study_name), ignore_errors=True)\n",
    "\n",
    "combine_thread, gs_fut = kelp_compute.grid_study_compute_onespace(\n",
    "    study_name, \n",
    "    a_water, b, kelp_dist,\n",
    "    ns_list, na_list,\n",
    "    lis_opts, base_dir=base_dir\n",
    ")"
   ]
  },
  {
   "cell_type": "markdown",
   "metadata": {},
   "source": [
    "# Grid Study 4 (NUC2200)"
   ]
  },
  {
   "cell_type": "code",
   "execution_count": null,
   "metadata": {
    "scrolled": true
   },
   "outputs": [],
   "source": [
    "# Set parameters\n",
    "study_name = 'gs88_nuc2200_new'\n",
    "a_water = 0.337\n",
    "b = 1.583\n",
    "kelp_dist='top-heavy'\n",
    "ns_min = 8\n",
    "ns_max = 88\n",
    "na_min = 2\n",
    "na_max = 8\n",
    "ns_list = range(ns_min, ns_max+1, 8)\n",
    "na_list = range(na_min, na_max+1, 2)\n",
    "lis_opts = '-i gmres -restart 100 -maxiter 50000 -tol 1e-12'\n",
    "# TODO: Make this default?\n",
    "base_dir = os.path.join(os.environ['SCRATCH'], 'kelp-results')\n",
    "\n",
    "# ns_list = [4,10]\n",
    "# nz_list = [4,10]\n",
    "# na_list = [10,12]\n",
    "\n",
    "# TODO: Don't actually delete results\n",
    "# shutil.rmtree(os.path.join(base_dir, study_name), ignore_errors=True)\n",
    "\n",
    "combine_thread, gs_fut = kelp_compute.grid_study_compute_onespace(\n",
    "    study_name, \n",
    "    a_water, b, kelp_dist,\n",
    "    ns_list, na_list,\n",
    "    lis_opts, base_dir=base_dir\n",
    ")"
   ]
  },
  {
   "cell_type": "markdown",
   "metadata": {},
   "source": [
    "# Grid Study 5 (No Scattering, Non-convergent)"
   ]
  },
  {
   "cell_type": "code",
   "execution_count": null,
   "metadata": {
    "scrolled": true
   },
   "outputs": [],
   "source": [
    "# Set parameters\n",
    "study_name = 'gs16_a01_b0_new'\n",
    "a_water = 0.1\n",
    "b = 0.0\n",
    "kelp_dist='top-heavy'\n",
    "ns_min = 8\n",
    "ns_max = 16\n",
    "na_min = 2\n",
    "na_max = 8\n",
    "ns_list = range(ns_min, ns_max+1, 1)\n",
    "na_list = range(na_min, na_max+1, 2)\n",
    "lis_opts = '-i gmres -restart 100 -maxiter 50000 -tol 1e-12'\n",
    "# TODO: Make this default?\n",
    "base_dir = os.path.join(os.environ['SCRATCH'], 'kelp-results')\n",
    "\n",
    "# ns_list = [4,10]\n",
    "# nz_list = [4,10]\n",
    "# na_list = [10,12]\n",
    "\n",
    "# TODO: Don't actually delete results\n",
    "# shutil.rmtree(os.path.join(base_dir, study_name), ignore_errors=True)\n",
    "\n",
    "combine_thread, gs_fut = kelp_compute.grid_study_compute_onespace(\n",
    "    study_name, \n",
    "    a_water, b, kelp_dist,\n",
    "    ns_list, na_list,\n",
    "    lis_opts, base_dir=base_dir\n",
    ")"
   ]
  },
  {
   "cell_type": "markdown",
   "metadata": {},
   "source": [
    "# Asymptotics Study\n",
    "\n",
    "For each set of IOPs, how many scatters are necessary for accuracy, if it can be obtained at all?"
   ]
  },
  {
   "cell_type": "code",
   "execution_count": null,
   "metadata": {
    "scrolled": true
   },
   "outputs": [],
   "source": [
    "# Single IOP pair to compare\n",
    "\n",
    "study_name = 'as_single_tol5'\n",
    "b_list = [0.5]\n",
    "a_water_list = [0.5]\n",
    "kelp_dist='top-heavy'\n",
    "ns = 16\n",
    "nz = 16\n",
    "na = 16\n",
    "num_scatters_list = np.arange(0, 10, 2)\n",
    "lis_opts = '-i gmres -tol 1e-5 -restart 100 -maxiter 10000'\n",
    "base_dir = os.path.join(os.environ['SCRATCH'], 'kelp-results')\n",
    "\n",
    "kelp_compute.asymptotics_study_compute(\n",
    "    study_name,\n",
    "    a_water_list, b_list, kelp_dist,\n",
    "    ns, nz, na, num_scatters_list,\n",
    "    lis_opts, base_dir=base_dir\n",
    ")"
   ]
  },
  {
   "cell_type": "code",
   "execution_count": null,
   "metadata": {
    "scrolled": true
   },
   "outputs": [],
   "source": [
    "# Single IOP pair to compare\n",
    "\n",
    "study_name = 'as_single_tol12'\n",
    "b_list = [0.5]\n",
    "a_water_list = [0.5]\n",
    "kelp_dist='top-heavy'\n",
    "ns = 16\n",
    "nz = 16\n",
    "na = 16\n",
    "num_scatters_list = np.arange(0, 10, 2)\n",
    "lis_opts = '-i gmres -tol 1e-12 -restart 100 -maxiter 10000'\n",
    "base_dir = os.path.join(os.environ['SCRATCH'], 'kelp-results')\n",
    "\n",
    "kelp_compute.asymptotics_study_compute(\n",
    "    study_name,\n",
    "    a_water_list, b_list, kelp_dist,\n",
    "    ns, nz, na, num_scatters_list,\n",
    "    lis_opts, base_dir=base_dir\n",
    ")"
   ]
  },
  {
   "cell_type": "code",
   "execution_count": null,
   "metadata": {
    "scrolled": true
   },
   "outputs": [],
   "source": [
    "# Single IOP pair to compare\n",
    "\n",
    "study_name = 'as_single_large_na10'\n",
    "b_list = [0]\n",
    "a_water_list = [1.0]\n",
    "kelp_dist='top-heavy'\n",
    "ns = 64\n",
    "nz = 64\n",
    "na = 10,\n",
    "num_scatters_list = []\n",
    "# num_scatters_list = np.arange(0, 10, 2)\n",
    "lis_opts = '-i gmres -tol 1e-5 -restart 100 -maxiter 10000'\n",
    "base_dir = os.path.join(os.environ['SCRATCH'], 'kelp-results')\n",
    "\n",
    "kelp_compute.asymptotics_study_compute(\n",
    "    study_name,\n",
    "    a_water_list, b_list, kelp_dist,\n",
    "    ns, nz, na, num_scatters_list,\n",
    "    lis_opts, base_dir=base_dir\n",
    ")"
   ]
  },
  {
   "cell_type": "code",
   "execution_count": null,
   "metadata": {
    "scrolled": true
   },
   "outputs": [],
   "source": [
    "# Single IOP pair to compare\n",
    "\n",
    "study_name = 'as_single_manual1'\n",
    "base_dir = os.path.join(os.environ['SCRATCH'], 'kelp-results')\n",
    "study_dir = os.path.join(base_dir, study_name)\n",
    "shutil.rmtree(study_dir, ignore_errors=True)\n",
    "\n",
    "b_list = [0.0]\n",
    "a_water_list = [0.5]\n",
    "kelp_dist='none'\n",
    "ns = 20\n",
    "nz = 16\n",
    "na = 16\n",
    "num_scatters_list = [0]\n",
    "lis_opts = '-i gmres -tol 1e-5 -restart 200 -maxiter 10000'\n",
    "base_dir = os.path.join(os.environ['SCRATCH'], 'kelp-results')\n",
    "\n",
    "kelp_compute.asymptotics_study_compute(\n",
    "    study_name,\n",
    "    a_water_list, b_list, kelp_dist,\n",
    "    ns, nz, na, num_scatters_list,\n",
    "    lis_opts, base_dir=base_dir\n",
    ")"
   ]
  },
  {
   "cell_type": "code",
   "execution_count": null,
   "metadata": {
    "scrolled": true
   },
   "outputs": [],
   "source": [
    "# Single IOP pair to compare\n",
    "\n",
    "study_name = 'as_single_manual3'\n",
    "base_dir = os.path.join(os.environ['SCRATCH'], 'kelp-results')\n",
    "study_dir = os.path.join(base_dir, study_name)\n",
    "shutil.rmtree(study_dir, ignore_errors=True)\n",
    "\n",
    "b_list = [0.0]\n",
    "a_water_list = [0.5]\n",
    "kelp_dist='none'\n",
    "ns = 64\n",
    "nz = 64\n",
    "na = 6\n",
    "num_scatters_list = [0]\n",
    "lis_opts = '-i gmres -tol 1e-5 -restart 200 -maxiter 10000'\n",
    "base_dir = os.path.join(os.environ['SCRATCH'], 'kelp-results')\n",
    "\n",
    "kelp_compute.asymptotics_study_compute(\n",
    "    study_name,\n",
    "    a_water_list, b_list, kelp_dist,\n",
    "    ns, nz, na, num_scatters_list,\n",
    "    lis_opts, base_dir=base_dir\n",
    ")"
   ]
  },
  {
   "cell_type": "code",
   "execution_count": null,
   "metadata": {
    "scrolled": true
   },
   "outputs": [],
   "source": [
    "# Test asymptotics study with small n\n",
    "\n",
    "study_name = 'as_n12_9ax9b'\n",
    "b_list = np.linspace(0, 1.6, 9)\n",
    "a_water_list = np.linspace(0, 0.4, 9)\n",
    "kelp_dist='top-heavy'\n",
    "ns = 12\n",
    "nz = 12\n",
    "na = 12\n",
    "num_scatters_list = np.arange(0, 22, 4) # [0,4,8,...,20]\n",
    "lis_opts = '-i gmres -tol 1e-5 -restart 100 -maxiter 10000'\n",
    "base_dir = os.path.join(os.environ['SCRATCH'], 'kelp-results')\n",
    "\n",
    "# TODO: Don't actually delete results\n",
    "#shutil.rmtree(os.path.join(base_dir, study_name), ignore_errors=True)\n",
    "\n",
    "kelp_compute.asymptotics_study_compute(\n",
    "    study_name,\n",
    "    a_water_list, b_list, kelp_dist,\n",
    "    ns, nz, na, num_scatters_list,\n",
    "    lis_opts, base_dir=base_dir\n",
    ")"
   ]
  },
  {
   "cell_type": "code",
   "execution_count": null,
   "metadata": {},
   "outputs": [],
   "source": [
    "print(\"hi\")"
   ]
  },
  {
   "cell_type": "code",
   "execution_count": null,
   "metadata": {},
   "outputs": [],
   "source": [
    "print(\"hi\")"
   ]
  },
  {
   "cell_type": "code",
   "execution_count": null,
   "metadata": {
    "scrolled": true
   },
   "outputs": [],
   "source": [
    "# Real asymptotics study, large n\n",
    "study_name = 'as_n88_9ax9b_new'\n",
    "a_water_list = np.linspace(0, 0.4, 9)\n",
    "b_list = np.linspace(0, 1.6, 9)\n",
    "#a_water_list = [0.4]\n",
    "#b_list = [0.0]\n",
    "kelp_dist='top-heavy'\n",
    "fd_ns = 88\n",
    "fd_nz = 88\n",
    "fd_na = 8\n",
    "as_ns = 88\n",
    "as_nz = 88\n",
    "as_na = 8\n",
    "num_scatters_list = [0, 1, 2, 3, 4, 8, 12, 16, 20]\n",
    "lis_opts = '-i gmres -tol 1e-5 -restart 100 -maxiter 10000'\n",
    "base_dir = os.path.join(os.environ['SCRATCH'], 'kelp-results')\n",
    "\n",
    "kelp_compute.asymptotics_study_compute(\n",
    "    study_name,\n",
    "    a_water_list, b_list, kelp_dist,\n",
    "    fd_ns, fd_nz, fd_na, as_ns, as_nz, as_na,\n",
    "    num_scatters_list,\n",
    "    lis_opts, base_dir=base_dir\n",
    ")"
   ]
  },
  {
   "cell_type": "code",
   "execution_count": null,
   "metadata": {
    "scrolled": true
   },
   "outputs": [],
   "source": [
    "# Real asymptotics study, large n\n",
    "study_name = 'as_n64_9ax9b_new'\n",
    "a_water_list = np.linspace(0, 0.4, 9)\n",
    "b_list = np.linspace(0, 1.6, 9)\n",
    "kelp_dist='top-heavy'\n",
    "fd_ns = 64\n",
    "fd_nz = 64\n",
    "fd_na = 10\n",
    "as_ns = 24\n",
    "as_nz = 24\n",
    "as_na = 8\n",
    "num_scatters_list = [0, 1, 2, 3, 4, 8, 12, 16, 20]\n",
    "lis_opts = '-i gmres -tol 1e-5 -restart 100 -maxiter 10000'\n",
    "base_dir = os.path.join(os.environ['SCRATCH'], 'kelp-results')\n",
    "\n",
    "kelp_compute.asymptotics_study_compute(\n",
    "    study_name,\n",
    "    a_water_list, b_list, kelp_dist,\n",
    "    fd_ns, fd_nz, fd_na, as_ns, as_nz, as_na,\n",
    "    num_scatters_list,\n",
    "    lis_opts, base_dir=base_dir\n",
    ")"
   ]
  },
  {
   "cell_type": "code",
   "execution_count": null,
   "metadata": {
    "scrolled": true
   },
   "outputs": [],
   "source": [
    "# Real asymptotics study, large n\n",
    "study_name = 'as_n32_9ax9b_new'\n",
    "a_water_list = np.linspace(0, 0.4, 9)\n",
    "b_list = np.linspace(0, 1.6, 9)\n",
    "kelp_dist='top-heavy'\n",
    "fd_ns = 32\n",
    "fd_nz = 32\n",
    "fd_na = 16\n",
    "as_ns = 24\n",
    "as_nz = 24\n",
    "as_na = 8\n",
    "num_scatters_list = [0, 1, 2, 3, 4, 8, 12, 16, 20]\n",
    "lis_opts = '-i gmres -tol 1e-5 -restart 100 -maxiter 10000'\n",
    "base_dir = os.path.join(os.environ['SCRATCH'], 'kelp-results')\n",
    "\n",
    "kelp_compute.asymptotics_study_compute(\n",
    "    study_name,\n",
    "    a_water_list, b_list, kelp_dist,\n",
    "    fd_ns, fd_nz, fd_na, as_ns, as_nz, as_na,\n",
    "    num_scatters_list,\n",
    "    lis_opts, base_dir=base_dir\n",
    ")"
   ]
  },
  {
   "cell_type": "code",
   "execution_count": null,
   "metadata": {},
   "outputs": [],
   "source": [
    "ipc.ids"
   ]
  },
  {
   "cell_type": "code",
   "execution_count": null,
   "metadata": {},
   "outputs": [],
   "source": [
    "ipc.queue_status()"
   ]
  },
  {
   "cell_type": "markdown",
   "metadata": {},
   "source": [
    "# Combine DBs"
   ]
  },
  {
   "cell_type": "code",
   "execution_count": null,
   "metadata": {},
   "outputs": [],
   "source": [
    "study_name = 'as_n88_9ax9b_new'\n",
    "base_dir = os.path.join(os.environ['SCRATCH'], 'kelp-results')\n",
    "study_dir = os.path.join(base_dir, study_name)\n",
    "kelp_compute.combine_dbs(study_dir, study_name)"
   ]
  },
  {
   "cell_type": "code",
   "execution_count": null,
   "metadata": {},
   "outputs": [],
   "source": []
  }
 ],
 "metadata": {
  "kernelspec": {
   "display_name": "Python 3",
   "language": "python",
   "name": "python3"
  },
  "language_info": {
   "codemirror_mode": {
    "name": "ipython",
    "version": 3
   },
   "file_extension": ".py",
   "mimetype": "text/x-python",
   "name": "python",
   "nbconvert_exporter": "python",
   "pygments_lexer": "ipython3",
   "version": "3.6.5"
  }
 },
 "nbformat": 4,
 "nbformat_minor": 2
}
