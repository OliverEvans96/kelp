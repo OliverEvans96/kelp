{
 "cells": [
  {
   "cell_type": "code",
   "execution_count": 1,
   "metadata": {},
   "outputs": [],
   "source": [
    "%load_ext autoreload\n",
    "%autoreload 2"
   ]
  },
  {
   "cell_type": "code",
   "execution_count": 7,
   "metadata": {},
   "outputs": [],
   "source": [
    "#import kelp_param\n",
    "import kelp3d_objs as k3\n",
    "import ipyparallel as ipp\n",
    "import concurrent.futures as cf\n",
    "import itertools as it\n",
    "#from sympy import divisors\n",
    "import numpy as np\n",
    "import matplotlib.pyplot as plt\n",
    "from scipy import optimize as opt\n",
    "from scipy.interpolate import interp1d\n",
    "import ipyvolume as ipv\n",
    "import ipywidgets as ipw\n",
    "\n",
    "import kelp_compute\n",
    "import kelp_analyze"
   ]
  },
  {
   "cell_type": "code",
   "execution_count": 8,
   "metadata": {},
   "outputs": [],
   "source": [
    "import sqlite3\n",
    "import shutil\n",
    "import os"
   ]
  },
  {
   "cell_type": "markdown",
   "metadata": {},
   "source": [
    "### Define Constants"
   ]
  },
  {
   "cell_type": "code",
   "execution_count": 9,
   "metadata": {},
   "outputs": [],
   "source": [
    "out = ipw.Output()"
   ]
  },
  {
   "cell_type": "code",
   "execution_count": 10,
   "metadata": {},
   "outputs": [
    {
     "data": {
      "application/vnd.jupyter.widget-view+json": {
       "model_id": "d5578a05bb9b4fff8b407ad81ad82df1",
       "version_major": 2,
       "version_minor": 0
      },
      "text/plain": [
       "Output()"
      ]
     },
     "metadata": {},
     "output_type": "display_data"
    }
   ],
   "source": [
    "out"
   ]
  },
  {
   "cell_type": "code",
   "execution_count": 11,
   "metadata": {},
   "outputs": [
    {
     "name": "stdout",
     "output_type": "stream",
     "text": [
      "0.36% nan\n"
     ]
    },
    {
     "name": "stderr",
     "output_type": "stream",
     "text": [
      "/home/oliver/local/miniconda3/envs/kelp/lib/python3.6/site-packages/traittypes/traittypes.py:101: UserWarning: Given trait value dtype \"float64\" does not match required type \"float64\". A coerced copy has been created.\n",
      "  np.dtype(self.dtype).name))\n",
      "/home/oliver/local/miniconda3/envs/kelp/lib/python3.6/site-packages/ipyvolume/serialize.py:62: RuntimeWarning: invalid value encountered in true_divide\n",
      "  grid_normalized = (grid*1.0 - vmin) / (vmax - vmin)\n",
      "/home/oliver/local/miniconda3/envs/kelp/lib/python3.6/site-packages/ipyvolume/serialize.py:66: RuntimeWarning: invalid value encountered in true_divide\n",
      "  gradient = gradient / np.sqrt(gradient[0]**2 + gradient[1]**2 + gradient[2]**2)\n"
     ]
    },
    {
     "data": {
      "application/vnd.jupyter.widget-view+json": {
       "model_id": "7be479ac4d1c4fabbc08b9793bf557f9",
       "version_major": 2,
       "version_minor": 0
      },
      "text/plain": [
       "VBox(children=(VBox(children=(HBox(children=(Label(value='levels:'), FloatSlider(value=0.1, max=1.0, step=0.00…"
      ]
     },
     "metadata": {},
     "output_type": "display_data"
    }
   ],
   "source": [
    "# Hard-coded parameters\n",
    "rope_spacing = 20.0 # (m)\n",
    "zmin, zmax = 0.0, 10.0 # (m)\n",
    "\n",
    "# Light from above\n",
    "I0 = 50.0 # (W/m^2)\n",
    "phi_s = 0 # (rad)\n",
    "theta_s = 0 # (rad)\n",
    "decay = 0 # (?) - light (practically) only from directly above\n",
    "\n",
    "# Calculated or otherwise boring parameters\n",
    "xmin = -rope_spacing/2\n",
    "xmax = rope_spacing/2\n",
    "ymin = -rope_spacing/2\n",
    "ymax = rope_spacing/2\n",
    "\n",
    "# Set parameters\n",
    "study_name = 'single'\n",
    "a_water = 0.179\n",
    "b = 0.219\n",
    "kelp_dist='top-heavy'\n",
    "\n",
    "data_dir = '../../results'\n",
    "\n",
    "ns = 14\n",
    "nz = 14\n",
    "na = 18\n",
    "\n",
    "num_scatters = 1\n",
    "fd_flag = False\n",
    "lis_options = \"-i gmres -restart 10000 -tol 1e-4\"\n",
    "\n",
    "# Compute\n",
    "\n",
    "shutil.rmtree(os.path.join(data_dir, study_name), ignore_errors=True)\n",
    "\n",
    "base_dir, db_path, table_name = kelp_compute.create_table(study_name, data_dir)\n",
    "\n",
    "with out:\n",
    "    kelp_compute.kelp_calculate(\n",
    "        base_dir, db_path, table_name,\n",
    "        a_water, b,\n",
    "        ns, nz, na,\n",
    "        kelp_dist, num_scatters,\n",
    "        fd_flag,\n",
    "        lis_options\n",
    "    )\n",
    "\n",
    "# Retrieve\n",
    "\n",
    "conn = sqlite3.connect(db_path)\n",
    "res = kelp_analyze.query_results(conn, table_name, ns=ns, nz=nz, na=na)[0]\n",
    "conn.close()\n",
    "irrad = res['irrad'][:]\n",
    "\n",
    "print(\"{:.2f}% nan\".format(np.sum(np.isnan(irrad))/np.size(irrad)))\n",
    "\n",
    "# Visualize\n",
    "\n",
    "ipv.figure()\n",
    "ipv.volshow(irrad)\n",
    "ipv.show()"
   ]
  },
  {
   "cell_type": "code",
   "execution_count": null,
   "metadata": {},
   "outputs": [],
   "source": []
  }
 ],
 "metadata": {
  "kernelspec": {
   "display_name": "Python 3 (kelp)",
   "language": "python",
   "name": "kelp"
  },
  "language_info": {
   "codemirror_mode": {
    "name": "ipython",
    "version": 3
   },
   "file_extension": ".py",
   "mimetype": "text/x-python",
   "name": "python",
   "nbconvert_exporter": "python",
   "pygments_lexer": "ipython3",
   "version": "3.6.5"
  }
 },
 "nbformat": 4,
 "nbformat_minor": 2
}
