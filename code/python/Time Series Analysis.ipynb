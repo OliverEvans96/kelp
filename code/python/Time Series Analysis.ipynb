{
 "cells": [
  {
   "cell_type": "markdown",
   "metadata": {},
   "source": [
    "# Analyze Ole Jacob's Time Series Data"
   ]
  },
  {
   "cell_type": "code",
   "execution_count": 1,
   "metadata": {},
   "outputs": [],
   "source": [
    "import numpy as np\n",
    "import matplotlib.pyplot as plt"
   ]
  },
  {
   "cell_type": "code",
   "execution_count": 7,
   "metadata": {},
   "outputs": [],
   "source": [
    "import netCDF4 as nc"
   ]
  },
  {
   "cell_type": "markdown",
   "metadata": {},
   "source": [
    "# Dataset Overview"
   ]
  },
  {
   "cell_type": "code",
   "execution_count": 102,
   "metadata": {},
   "outputs": [
    {
     "data": {
      "text/plain": [
       "<class 'netCDF4._netCDF4.Dataset'>\n",
       "root group (NETCDF3_CLASSIC data model, file format NETCDF3):\n",
       "    Conventions: CF-1.5\n",
       "    title: Current data from SINMOD\n",
       "    institution: SINTEF Fisheries and Aquaculture\n",
       "    grid_mapping: grid_mapping\n",
       "    grid_mapping_name: polar_stereographic\n",
       "    straight_vertical_longitude_from_pole: 58.0\n",
       "    horizontal_resolution: 20000.0\n",
       "    coordinate_north_pole: [ 174.   120.5]\n",
       "    latitude_of_projection_origin: 90.0\n",
       "    standard_parallel: 60.0\n",
       "    barotropic_timestep: 21.4285714286\n",
       "    baroclinic_timestep: 600.0\n",
       "    _FillValue: -32768\n",
       "    setup: swd_1d\n",
       "    relax_e: T\n",
       "    nested: T\n",
       "    tidal_input: F\n",
       "    DHA: 2.0\n",
       "    smagorin: T\n",
       "    biharmonic: F\n",
       "    KBi: 8e+09\n",
       "    COLDSTART: F\n",
       "    ATMODATA: 0\n",
       "    CM: 1.0\n",
       "    CM2D: 1.0\n",
       "    CH: 0.3\n",
       "    CI: 5.0\n",
       "    icedyn: T\n",
       "    tidal_components: [0 0 0 0 0 0 0 0 0 0 0]\n",
       "    dimensions(sizes): xc(100), yc(1), zc(1), time(128), dummySampleDim(6)\n",
       "    variables(dimensions): int32 \u001b[4mtime\u001b[0m(time,dummySampleDim), int32 \u001b[4mgrid_mapping\u001b[0m(), float32 \u001b[4mLayerDepths\u001b[0m(zc), float32 \u001b[4mxc\u001b[0m(xc), float32 \u001b[4myc\u001b[0m(yc), float32 \u001b[4mzc\u001b[0m(zc), float32 \u001b[4mdepth\u001b[0m(yc,xc), int16 \u001b[4mIndividual frond area\u001b[0m(time,yc,xc), int16 \u001b[4mInd int frond area\u001b[0m(time,yc,xc), int16 \u001b[4mNumber of individuals\u001b[0m(time,yc,xc), int16 \u001b[4mInd fresh weight\u001b[0m(time,yc,xc), int16 \u001b[4mInd dry weight\u001b[0m(time,yc,xc), int16 \u001b[4mNitrogen content\u001b[0m(time,yc,xc), int16 \u001b[4mCarbon content\u001b[0m(time,yc,xc), int16 \u001b[4mCarbon reserve\u001b[0m(time,yc,xc), int16 \u001b[4mNitrogen reserve\u001b[0m(time,yc,xc), int16 \u001b[4mStruct w area\u001b[0m(time,yc,xc), int16 \u001b[4mStipe biomass\u001b[0m(time,yc,xc), int16 \u001b[4mNO3 conc\u001b[0m(time,yc,xc), int16 \u001b[4mNH4 conc\u001b[0m(time,yc,xc), int16 \u001b[4mTemp\u001b[0m(time,yc,xc), int16 \u001b[4mPAR\u001b[0m(time,yc,xc), int16 \u001b[4mCurrent speed\u001b[0m(time,yc,xc)\n",
       "    groups: "
      ]
     },
     "execution_count": 102,
     "metadata": {},
     "output_type": "execute_result"
    }
   ],
   "source": [
    "ds = nc.Dataset(\"../data/time_series/swd_flaate_popmod_3_many.nc\")\n",
    "ds"
   ]
  },
  {
   "cell_type": "markdown",
   "metadata": {},
   "source": [
    "# Dimensions"
   ]
  },
  {
   "cell_type": "code",
   "execution_count": 94,
   "metadata": {
    "scrolled": true
   },
   "outputs": [
    {
     "data": {
      "text/plain": [
       "<class 'netCDF4._netCDF4.Variable'>\n",
       "float32 xc(xc)\n",
       "    units: meter\n",
       "    standard_name: projection_x_coordinate\n",
       "    _CoordinateAxisType: GeoX\n",
       "unlimited dimensions: \n",
       "current shape = (100,)\n",
       "filling off"
      ]
     },
     "execution_count": 94,
     "metadata": {},
     "output_type": "execute_result"
    }
   ],
   "source": [
    "ds.variables['xc']"
   ]
  },
  {
   "cell_type": "code",
   "execution_count": 95,
   "metadata": {},
   "outputs": [
    {
     "data": {
      "text/plain": [
       "array([   20000.,    40000.,    60000.,    80000.,   100000.,   120000.,\n",
       "         140000.,   160000.,   180000.,   200000.,   220000.,   240000.,\n",
       "         260000.,   280000.,   300000.,   320000.,   340000.,   360000.,\n",
       "         380000.,   400000.,   420000.,   440000.,   460000.,   480000.,\n",
       "         500000.,   520000.,   540000.,   560000.,   580000.,   600000.,\n",
       "         620000.,   640000.,   660000.,   680000.,   700000.,   720000.,\n",
       "         740000.,   760000.,   780000.,   800000.,   820000.,   840000.,\n",
       "         860000.,   880000.,   900000.,   920000.,   940000.,   960000.,\n",
       "         980000.,  1000000.,  1020000.,  1040000.,  1060000.,  1080000.,\n",
       "        1100000.,  1120000.,  1140000.,  1160000.,  1180000.,  1200000.,\n",
       "        1220000.,  1240000.,  1260000.,  1280000.,  1300000.,  1320000.,\n",
       "        1340000.,  1360000.,  1380000.,  1400000.,  1420000.,  1440000.,\n",
       "        1460000.,  1480000.,  1500000.,  1520000.,  1540000.,  1560000.,\n",
       "        1580000.,  1600000.,  1620000.,  1640000.,  1660000.,  1680000.,\n",
       "        1700000.,  1720000.,  1740000.,  1760000.,  1780000.,  1800000.,\n",
       "        1820000.,  1840000.,  1860000.,  1880000.,  1900000.,  1920000.,\n",
       "        1940000.,  1960000.,  1980000.,  2000000.], dtype=float32)"
      ]
     },
     "execution_count": 95,
     "metadata": {},
     "output_type": "execute_result"
    }
   ],
   "source": [
    "ds.variables['xc'][:]"
   ]
  },
  {
   "cell_type": "code",
   "execution_count": 96,
   "metadata": {
    "scrolled": true
   },
   "outputs": [
    {
     "data": {
      "text/plain": [
       "<class 'netCDF4._netCDF4.Variable'>\n",
       "float32 yc(yc)\n",
       "    units: meter\n",
       "    standard_name: projection_y_coordinate\n",
       "    _CoordinateAxisType: GeoY\n",
       "unlimited dimensions: \n",
       "current shape = (1,)\n",
       "filling off"
      ]
     },
     "execution_count": 96,
     "metadata": {},
     "output_type": "execute_result"
    }
   ],
   "source": [
    "ds.variables['yc']"
   ]
  },
  {
   "cell_type": "code",
   "execution_count": 98,
   "metadata": {},
   "outputs": [
    {
     "data": {
      "text/plain": [
       "array([ 20000.], dtype=float32)"
      ]
     },
     "execution_count": 98,
     "metadata": {},
     "output_type": "execute_result"
    }
   ],
   "source": [
    "ds.variables['yc'][:]"
   ]
  },
  {
   "cell_type": "code",
   "execution_count": 99,
   "metadata": {},
   "outputs": [
    {
     "data": {
      "text/plain": [
       "<class 'netCDF4._netCDF4.Variable'>\n",
       "float32 zc(zc)\n",
       "    units: m\n",
       "    positive: down\n",
       "    standard_name: depth\n",
       "    _CoordinateAxisType: Height\n",
       "unlimited dimensions: \n",
       "current shape = (1,)\n",
       "filling off"
      ]
     },
     "execution_count": 99,
     "metadata": {},
     "output_type": "execute_result"
    }
   ],
   "source": [
    "ds.variables['zc']"
   ]
  },
  {
   "cell_type": "code",
   "execution_count": 100,
   "metadata": {},
   "outputs": [
    {
     "data": {
      "text/plain": [
       "array([ 3.], dtype=float32)"
      ]
     },
     "execution_count": 100,
     "metadata": {},
     "output_type": "execute_result"
    }
   ],
   "source": [
    "ds.variables['zc'][:]"
   ]
  },
  {
   "cell_type": "markdown",
   "metadata": {},
   "source": [
    "# Variable List"
   ]
  },
  {
   "cell_type": "code",
   "execution_count": 103,
   "metadata": {
    "scrolled": false
   },
   "outputs": [
    {
     "name": "stdout",
     "output_type": "stream",
     "text": [
      "Variables:\n",
      "\n",
      "time\n",
      "grid_mapping\n",
      "LayerDepths\n",
      "xc\n",
      "yc\n",
      "zc\n",
      "depth\n",
      "Individual frond area\n",
      "Ind int frond area\n",
      "Number of individuals\n",
      "Ind fresh weight\n",
      "Ind dry weight\n",
      "Nitrogen content\n",
      "Carbon content\n",
      "Carbon reserve\n",
      "Nitrogen reserve\n",
      "Struct w area\n",
      "Stipe biomass\n",
      "NO3 conc\n",
      "NH4 conc\n",
      "Temp\n",
      "PAR\n",
      "Current speed\n"
     ]
    }
   ],
   "source": [
    "print(\"Variables:\\n\")\n",
    "for k in ds.variables.keys():\n",
    "    print(k)"
   ]
  },
  {
   "cell_type": "markdown",
   "metadata": {},
   "source": [
    "# Load Variables"
   ]
  },
  {
   "cell_type": "code",
   "execution_count": 47,
   "metadata": {},
   "outputs": [],
   "source": [
    "t = ds.variables['time']\n",
    "ind = ds.variables['Number of individuals']\n",
    "a = ds.variables['Individual frond area']\n",
    "a1 = ds.variables['Ind int frond area']\n",
    "xc = ds.variables['xc']\n",
    "yc = ds.variables['yc']\n",
    "zc = ds.variables['zc']"
   ]
  },
  {
   "cell_type": "markdown",
   "metadata": {},
   "source": [
    "# Experiment"
   ]
  },
  {
   "cell_type": "code",
   "execution_count": 69,
   "metadata": {},
   "outputs": [
    {
     "data": {
      "text/plain": [
       "array([[[  4.72711849,   4.72711849,   4.72711849, ...,   4.72711849,\n",
       "           4.72711849,   4.72711849]],\n",
       "\n",
       "       [[  6.64391041,   6.64391041,   6.64391041, ...,   6.64391041,\n",
       "           6.64391041,   6.64391041]],\n",
       "\n",
       "       [[  6.68681908,   6.68681908,   6.68681908, ...,   6.68681908,\n",
       "           6.68681908,   6.68681908]],\n",
       "\n",
       "       ..., \n",
       "       [[ 10.77164459,  10.77164459,  10.77164459, ...,  10.77164459,\n",
       "          10.77164459,  10.77164459]],\n",
       "\n",
       "       [[ 10.75865936,  10.75865936,  10.75865936, ...,  10.75865936,\n",
       "          10.75865936,  10.75865936]],\n",
       "\n",
       "       [[ 10.63106155,  10.63106155,  10.63106155, ...,  10.63106155,\n",
       "          10.63106155,  10.63106155]]], dtype=float32)"
      ]
     },
     "execution_count": 69,
     "metadata": {},
     "output_type": "execute_result"
    }
   ],
   "source": [
    "ds.variables['Temp'][:]"
   ]
  },
  {
   "cell_type": "code",
   "execution_count": 57,
   "metadata": {},
   "outputs": [
    {
     "data": {
      "text/plain": [
       "array([ 3.], dtype=float32)"
      ]
     },
     "execution_count": 57,
     "metadata": {},
     "output_type": "execute_result"
    }
   ],
   "source": [
    "ds.variables['LayerDepths'][:]"
   ]
  },
  {
   "cell_type": "code",
   "execution_count": 67,
   "metadata": {},
   "outputs": [
    {
     "data": {
      "text/plain": [
       "array([[[  6.10351562e-03,   6.10351562e-03,   1.83105469e-02, ...,\n",
       "           1.22070312e-02,   2.44140625e-02,   1.83105469e-02]],\n",
       "\n",
       "       [[  1.22070312e-02,   1.22070312e-02,   2.44140625e-02, ...,\n",
       "           1.83105469e-02,   3.66210938e-02,   3.05175781e-02]],\n",
       "\n",
       "       [[  1.83105469e-02,   2.44140625e-02,   3.66210938e-02, ...,\n",
       "           2.44140625e-02,   6.10351562e-02,   4.88281250e-02]],\n",
       "\n",
       "       ..., \n",
       "       [[  1.97027435e+01,   3.93566742e+01,   4.75112152e+01, ...,\n",
       "           6.36677094e+01,   1.51799011e+01,   2.40302734e+01]],\n",
       "\n",
       "       [[  2.01422119e+01,   4.03759918e+01,   4.86770172e+01, ...,\n",
       "           6.52668915e+01,   1.54789886e+01,   2.45735016e+01]],\n",
       "\n",
       "       [[  2.06854401e+01,   4.16028290e+01,   5.00625610e+01, ...,\n",
       "           6.71101990e+01,   1.58513184e+01,   2.52388000e+01]]], dtype=float32)"
      ]
     },
     "execution_count": 67,
     "metadata": {},
     "output_type": "execute_result"
    }
   ],
   "source": [
    "ds.variables['Ind fresh weight'][:]"
   ]
  },
  {
   "cell_type": "code",
   "execution_count": 63,
   "metadata": {},
   "outputs": [
    {
     "data": {
      "text/plain": [
       "array([[ -3.27680000e+04,  -3.27680000e+04,  -3.27680000e+04,\n",
       "         -3.27680000e+04,   2.72000000e+02,  -3.27680000e+04,\n",
       "         -3.27680000e+04,  -3.27680000e+04,  -3.27680000e+04,\n",
       "          0.00000000e+00,   4.00000000e+08,   4.00000000e+08,\n",
       "          4.00000000e+08,   4.00000000e+08,   4.00000000e+08,\n",
       "          4.00000000e+08,   4.00000000e+08,   4.00000000e+08,\n",
       "          4.00000000e+08,   0.00000000e+00,   2.00000000e+04,\n",
       "          2.00000000e+04,   2.00000000e+04,   2.00000000e+04,\n",
       "          2.00000000e+04,   2.00000000e+04,   2.00000000e+04,\n",
       "          2.00000000e+04,   2.00000000e+04,   0.00000000e+00,\n",
       "          0.00000000e+00,   0.00000000e+00,   0.00000000e+00,\n",
       "          0.00000000e+00,   0.00000000e+00,   0.00000000e+00,\n",
       "          0.00000000e+00,   0.00000000e+00,   0.00000000e+00,\n",
       "          0.00000000e+00,   0.00000000e+00,   0.00000000e+00,\n",
       "          0.00000000e+00,   0.00000000e+00,   0.00000000e+00,\n",
       "          0.00000000e+00,   0.00000000e+00,   0.00000000e+00,\n",
       "          0.00000000e+00,   0.00000000e+00,   0.00000000e+00,\n",
       "          0.00000000e+00,   0.00000000e+00,   0.00000000e+00,\n",
       "          0.00000000e+00,   0.00000000e+00,   0.00000000e+00,\n",
       "          0.00000000e+00,   0.00000000e+00,   0.00000000e+00,\n",
       "          0.00000000e+00,   0.00000000e+00,   0.00000000e+00,\n",
       "          0.00000000e+00,   0.00000000e+00,   0.00000000e+00,\n",
       "          0.00000000e+00,   0.00000000e+00,   0.00000000e+00,\n",
       "          0.00000000e+00,   0.00000000e+00,   0.00000000e+00,\n",
       "          0.00000000e+00,   0.00000000e+00,   0.00000000e+00,\n",
       "          0.00000000e+00,   0.00000000e+00,   0.00000000e+00,\n",
       "          0.00000000e+00,   0.00000000e+00,   0.00000000e+00,\n",
       "          0.00000000e+00,   0.00000000e+00,   0.00000000e+00,\n",
       "          0.00000000e+00,   0.00000000e+00,   0.00000000e+00,\n",
       "          0.00000000e+00,   0.00000000e+00,   0.00000000e+00,\n",
       "          0.00000000e+00,   0.00000000e+00,   0.00000000e+00,\n",
       "          0.00000000e+00,   0.00000000e+00,   0.00000000e+00,\n",
       "          0.00000000e+00,   0.00000000e+00,   0.00000000e+00,\n",
       "          0.00000000e+00]], dtype=float32)"
      ]
     },
     "execution_count": 63,
     "metadata": {},
     "output_type": "execute_result"
    }
   ],
   "source": [
    "ds.variables['depth'][:]"
   ]
  },
  {
   "cell_type": "code",
   "execution_count": 61,
   "metadata": {},
   "outputs": [
    {
     "data": {
      "text/plain": [
       "(128, 1, 100)"
      ]
     },
     "execution_count": 61,
     "metadata": {},
     "output_type": "execute_result"
    }
   ],
   "source": [
    "ds.variables['PAR'][:].shape"
   ]
  },
  {
   "cell_type": "code",
   "execution_count": 60,
   "metadata": {},
   "outputs": [
    {
     "data": {
      "text/plain": [
       "array([ 20000.], dtype=float32)"
      ]
     },
     "execution_count": 60,
     "metadata": {},
     "output_type": "execute_result"
    }
   ],
   "source": [
    "yc[:]"
   ]
  },
  {
   "cell_type": "code",
   "execution_count": 107,
   "metadata": {},
   "outputs": [
    {
     "name": "stdout",
     "output_type": "stream",
     "text": [
      "\u001b[0m\u001b[01;34mbasic_shading_model\u001b[0m/  COPYING   \u001b[01;34mhdf5\u001b[0m/     \u001b[01;34mnotes\u001b[0m/    README    \u001b[01;34mslides\u001b[0m/\r\n",
      "\u001b[01;34mbin\u001b[0m/                  \u001b[01;34mcpp\u001b[0m/      \u001b[01;34minclude\u001b[0m/  \u001b[01;34moutline\u001b[0m/  \u001b[01;34mreports\u001b[0m/  \u001b[01;34mtimeline\u001b[0m/\r\n",
      "\u001b[01;34mcallgrind\u001b[0m/            \u001b[01;34mdata\u001b[0m/     \u001b[01;34mjulia\u001b[0m/    \u001b[01;34mplots\u001b[0m/    \u001b[01;34mresults\u001b[0m/\r\n",
      "commands.txt          \u001b[01;34mfortran\u001b[0m/  Makefile  \u001b[01;34mpython\u001b[0m/   \u001b[01;34mscripts\u001b[0m/\r\n"
     ]
    }
   ],
   "source": [
    "ls .."
   ]
  },
  {
   "cell_type": "code",
   "execution_count": 108,
   "metadata": {},
   "outputs": [],
   "source": [
    "import os"
   ]
  },
  {
   "cell_type": "code",
   "execution_count": 104,
   "metadata": {},
   "outputs": [
    {
     "name": "stdout",
     "output_type": "stream",
     "text": [
      " 3d_test.pickle                 \u001b[0m\u001b[01;32mkelp_shading-gradlab.ipynb\u001b[0m*\r\n",
      " 3d_test.py                     kelp_shading.ipynb\r\n",
      "'Angle Diff Grid.ipynb'         kelp_volume.py\r\n",
      "'Angular Grid Analysis.ipynb'   kelp_widgets.py\r\n",
      " attenuation.py                 keyboard.py\r\n",
      "'Candy Corn.ipynb'              ks.py\r\n",
      " col.txt                        kv.py\r\n",
      " create_movie.py                \u001b[01;34mlight1\u001b[0m/\r\n",
      " data.txt                       \u001b[01;34mlight2\u001b[0m/\r\n",
      " exp_fit_test.py                light_data.py\r\n",
      " fit_movie.py                   mat.png\r\n",
      " fort.1                        'Memory Requirements.ipynb'\r\n",
      " fort.2                         \u001b[01;34mmkdir\u001b[0m/\r\n",
      " fort.3                         \u001b[01;32mmovie.sh\u001b[0m*\r\n",
      " fort.4                         odecd2.py\r\n",
      " fort.7                         pqt_volume.py\r\n",
      " fort.8                         \u001b[01;34m__pycache__\u001b[0m/\r\n",
      " \u001b[01;34mfortran_wrappers\u001b[0m/              pyrad_in.txt\r\n",
      " frad_in.txt                    pyrad_out.txt\r\n",
      " frad_out.txt                   radiance2d.py\r\n",
      " frond_configuration.py         Redistribution.ipynb\r\n",
      "'Frond Transformation.ipynb'    rhs.txt\r\n",
      " grid_study.py                  row.txt\r\n",
      " hdf_kelp.py                    spoof_coefs.py\r\n",
      " __init__.py                    test\r\n",
      " ipyvolume_test.ipynb           test.png\r\n",
      " kelp3d-Copy1.ipynb             test.py\r\n",
      " kelp3d_copy.ipynb             'Time Series Analysis.ipynb'\r\n",
      " kelp3d_definitions.py          Untitled.ipynb\r\n",
      " kelp3d_hdf.ipynb               vispy_volume.py\r\n",
      " kelp3d.ipynb                   vispy_volume_test.py\r\n",
      " kelp3d_objs.py                 viz_irrad.ipynb\r\n",
      " kelp3d.py                      \u001b[01;34mvolume_img\u001b[0m/\r\n",
      " kelp3d_python.ipynb            volume.py\r\n",
      " kelp_output.py                 WidgetTest.ipynb\r\n",
      " \u001b[01;34mkelp_pickle\u001b[0m/                   working_visualization.py\r\n"
     ]
    }
   ],
   "source": [
    "ls"
   ]
  },
  {
   "cell_type": "code",
   "execution_count": 59,
   "metadata": {},
   "outputs": [
    {
     "data": {
      "text/plain": [
       "array([   20000.,    40000.,    60000.,    80000.,   100000.,   120000.,\n",
       "         140000.,   160000.,   180000.,   200000.,   220000.,   240000.,\n",
       "         260000.,   280000.,   300000.,   320000.,   340000.,   360000.,\n",
       "         380000.,   400000.,   420000.,   440000.,   460000.,   480000.,\n",
       "         500000.,   520000.,   540000.,   560000.,   580000.,   600000.,\n",
       "         620000.,   640000.,   660000.,   680000.,   700000.,   720000.,\n",
       "         740000.,   760000.,   780000.,   800000.,   820000.,   840000.,\n",
       "         860000.,   880000.,   900000.,   920000.,   940000.,   960000.,\n",
       "         980000.,  1000000.,  1020000.,  1040000.,  1060000.,  1080000.,\n",
       "        1100000.,  1120000.,  1140000.,  1160000.,  1180000.,  1200000.,\n",
       "        1220000.,  1240000.,  1260000.,  1280000.,  1300000.,  1320000.,\n",
       "        1340000.,  1360000.,  1380000.,  1400000.,  1420000.,  1440000.,\n",
       "        1460000.,  1480000.,  1500000.,  1520000.,  1540000.,  1560000.,\n",
       "        1580000.,  1600000.,  1620000.,  1640000.,  1660000.,  1680000.,\n",
       "        1700000.,  1720000.,  1740000.,  1760000.,  1780000.,  1800000.,\n",
       "        1820000.,  1840000.,  1860000.,  1880000.,  1900000.,  1920000.,\n",
       "        1940000.,  1960000.,  1980000.,  2000000.], dtype=float32)"
      ]
     },
     "execution_count": 59,
     "metadata": {},
     "output_type": "execute_result"
    }
   ],
   "source": [
    "xc[:]"
   ]
  },
  {
   "cell_type": "code",
   "execution_count": 55,
   "metadata": {},
   "outputs": [
    {
     "data": {
      "text/plain": [
       "array([[[ 0.07312238,  0.07312238,  0.07312238, ...,  0.07312238,\n",
       "          0.07312238,  0.07312238]],\n",
       "\n",
       "       [[ 0.07019258,  0.07019258,  0.07019258, ...,  0.07019258,\n",
       "          0.07019258,  0.07019258]],\n",
       "\n",
       "       [[ 0.02056944,  0.02056944,  0.02056944, ...,  0.02056944,\n",
       "          0.02056944,  0.02056944]],\n",
       "\n",
       "       ..., \n",
       "       [[ 0.22022152,  0.22022152,  0.22022152, ...,  0.22022152,\n",
       "          0.22022152,  0.22022152]],\n",
       "\n",
       "       [[ 0.20410776,  0.20410776,  0.20410776, ...,  0.20410776,\n",
       "          0.20410776,  0.20410776]],\n",
       "\n",
       "       [[ 0.13275552,  0.13275552,  0.13275552, ...,  0.13275552,\n",
       "          0.13275552,  0.13275552]]], dtype=float32)"
      ]
     },
     "execution_count": 55,
     "metadata": {},
     "output_type": "execute_result"
    }
   ],
   "source": [
    "ds.variables['Current speed'][:]"
   ]
  },
  {
   "cell_type": "code",
   "execution_count": 52,
   "metadata": {},
   "outputs": [
    {
     "data": {
      "text/plain": [
       "array([ 3.], dtype=float32)"
      ]
     },
     "execution_count": 52,
     "metadata": {},
     "output_type": "execute_result"
    }
   ],
   "source": [
    "zc[:]"
   ]
  },
  {
   "cell_type": "code",
   "execution_count": 40,
   "metadata": {},
   "outputs": [
    {
     "data": {
      "text/plain": [
       "(128, 6)"
      ]
     },
     "execution_count": 40,
     "metadata": {},
     "output_type": "execute_result"
    }
   ],
   "source": [
    "t[:].shape"
   ]
  },
  {
   "cell_type": "code",
   "execution_count": 37,
   "metadata": {},
   "outputs": [
    {
     "data": {
      "text/plain": [
       "(128, 1, 100)"
      ]
     },
     "execution_count": 37,
     "metadata": {},
     "output_type": "execute_result"
    }
   ],
   "source": [
    "a1[:].shape"
   ]
  },
  {
   "cell_type": "code",
   "execution_count": 41,
   "metadata": {},
   "outputs": [
    {
     "data": {
      "text/plain": [
       "(128, 1, 100)"
      ]
     },
     "execution_count": 41,
     "metadata": {},
     "output_type": "execute_result"
    }
   ],
   "source": [
    "a[:].shape"
   ]
  },
  {
   "cell_type": "code",
   "execution_count": null,
   "metadata": {},
   "outputs": [],
   "source": []
  },
  {
   "cell_type": "code",
   "execution_count": 46,
   "metadata": {},
   "outputs": [
    {
     "data": {
      "text/plain": [
       "array([[[  0.        ,   0.        ,   0.        , ...,   0.        ,\n",
       "           0.        ,   0.        ]],\n",
       "\n",
       "       [[  0.        ,   0.        ,   0.        , ...,   0.        ,\n",
       "           0.        ,   0.        ]],\n",
       "\n",
       "       [[  0.        ,   0.        ,   0.        , ...,   0.        ,\n",
       "           0.        ,   0.        ]],\n",
       "\n",
       "       ..., \n",
       "       [[  2.71005249,   6.45465088,   7.94702148, ...,  11.97546387,\n",
       "           1.840271  ,   3.33261108]],\n",
       "\n",
       "       [[  2.7741394 ,   6.61947632,   8.13012695, ...,  12.26843262,\n",
       "           1.86773682,   3.40585327]],\n",
       "\n",
       "       [[  2.84738159,   6.82089233,   8.36816406, ...,  12.61636353,\n",
       "           1.91351318,   3.49743652]]], dtype=float32)"
      ]
     },
     "execution_count": 46,
     "metadata": {},
     "output_type": "execute_result"
    }
   ],
   "source": [
    "a1[:]"
   ]
  }
 ],
 "metadata": {
  "kernelspec": {
   "display_name": "Python 3",
   "language": "python",
   "name": "python3"
  },
  "language_info": {
   "codemirror_mode": {
    "name": "ipython",
    "version": 3
   },
   "file_extension": ".py",
   "mimetype": "text/x-python",
   "name": "python",
   "nbconvert_exporter": "python",
   "pygments_lexer": "ipython3",
   "version": "3.5.3"
  }
 },
 "nbformat": 4,
 "nbformat_minor": 2
}
