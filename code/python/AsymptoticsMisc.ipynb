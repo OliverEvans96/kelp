{
 "cells": [
  {
   "cell_type": "markdown",
   "metadata": {},
   "source": [
    "# Compare errors from 1e-5 FD and 1e-12 FD"
   ]
  },
  {
   "cell_type": "code",
   "execution_count": 80,
   "metadata": {},
   "outputs": [],
   "source": [
    "def cori_compare_two_fd(study_name_list, a_water, b):\n",
    "    z_list = []\n",
    "    perceived_irrad_list = []\n",
    "    for study_name in study_name_list:\n",
    "        # Connect\n",
    "        base_dir = os.path.join(os.environ['SCRATCH'], 'kelp-results')\n",
    "        study_dir = os.path.join(base_dir, study_name)\n",
    "        db_path = os.path.join(study_dir, '{}.db'.format(study_name))\n",
    "        conn = sqlite3.connect(db_path)\n",
    "    \n",
    "        # Get run data from .nc files\n",
    "        run_list = kelp_analyze.query_results(conn, study_name, a_water=a_water, b=b)\n",
    "        conn.close()\n",
    "        \n",
    "        # Assume that there's only one FD run for each IOP set\n",
    "        fd_run_ds = [run for run in run_list if run['fd_flag'][:] == True][0]\n",
    "        fd_perceived_irrad = kelp_analyze.calculate_perceived_irrad(\n",
    "            fd_run_ds['p_kelp'][:],\n",
    "            fd_run_ds['irrad'][:]\n",
    "        )\n",
    "\n",
    "        nz = fd_run_ds['nz'][:]\n",
    "        zmin = 0\n",
    "        zmax = fd_run_ds['zmax'][:]\n",
    "        dz = (zmax-zmin)/nz\n",
    "        z = dz * (np.arange(nz) + 0.5)\n",
    "        \n",
    "        z_list.append(z)\n",
    "        perceived_irrad_list.append(fd_perceived_irrad)\n",
    "    \n",
    "    return z_list, perceived_irrad_list\n",
    "    "
   ]
  },
  {
   "cell_type": "code",
   "execution_count": 81,
   "metadata": {},
   "outputs": [],
   "source": [
    "z_list, perceived_irrad_list = cori_compare_two_fd(\n",
    "    ['as_single_tol5', 'as_single_tol12'],\n",
    "    a_water=0.5,\n",
    "    b=0.5\n",
    ")\n",
    "\n",
    "z, _ = z_list\n",
    "pi5, pi12 = perceived_irrad_list"
   ]
  },
  {
   "cell_type": "code",
   "execution_count": 89,
   "metadata": {},
   "outputs": [
    {
     "name": "stdout",
     "output_type": "stream",
     "text": [
      "abs_diff:\n",
      "mean = 1.168e-06\n",
      "std = 7.333e-07\n",
      "min = 4.147e-08\n",
      "max = 2.661e-06\n",
      "\n",
      "rel_diff:\n",
      "mean = 3.588e-02\n",
      "std = 6.025e-02\n",
      "min = 8.432e-09\n",
      "max = 2.424e-01\n"
     ]
    },
    {
     "data": {
      "image/png": "[encoded data removed]",
      "text/plain": [
       "<matplotlib.figure.Figure at 0x2ab97014ed30>"
      ]
     },
     "metadata": {},
     "output_type": "display_data"
    }
   ],
   "source": [
    "plt.plot(z, pi5, 'o-')\n",
    "plt.plot(z, pi12, 'o-')\n",
    "plt.yscale('log')\n",
    "\n",
    "abs_diff = np.abs(pi5-pi12)\n",
    "rel_diff = np.abs(abs_diff/pi12)\n",
    "print(\"abs_diff:\")\n",
    "print(\"mean = {:.3e}\".format(np.mean(abs_diff)))\n",
    "print(\"std = {:.3e}\".format(np.std(abs_diff)))\n",
    "print(\"min = {:.3e}\".format(np.min(abs_diff)))\n",
    "print(\"max = {:.3e}\".format(np.max(abs_diff)))\n",
    "print()\n",
    "\n",
    "print(\"rel_diff:\")\n",
    "print(\"mean = {:.3e}\".format(np.mean(rel_diff)))\n",
    "print(\"std = {:.3e}\".format(np.std(rel_diff)))\n",
    "print(\"min = {:.3e}\".format(np.min(rel_diff)))\n",
    "print(\"max = {:.3e}\".format(np.max(rel_diff)))"
   ]
  },
  {
   "cell_type": "markdown",
   "metadata": {},
   "source": [
    "Clearly, `tol=1e-5` is sufficient."
   ]
  },
  {
   "cell_type": "markdown",
   "metadata": {},
   "source": [
    "# Compare FD & asymptotics radiances to BC"
   ]
  },
  {
   "cell_type": "code",
   "execution_count": 115,
   "metadata": {},
   "outputs": [],
   "source": [
    "def cori_nc_get_results(study_name, *quantity_names, **conditions):\n",
    "    base_dir = os.path.join(os.environ['SCRATCH'], 'kelp-results')\n",
    "    study_dir = os.path.join(base_dir, study_name)\n",
    "    db_path = os.path.join(study_dir, '{}.db'.format(study_name))\n",
    "    conn = sqlite3.connect(db_path)\n",
    "\n",
    "    # Get run data from .nc files\n",
    "    results_list = kelp_analyze.query_results(conn, study_name, **conditions)\n",
    "    conn.close()\n",
    "    \n",
    "    return [\n",
    "        [\n",
    "            results[quantity_name][:] \n",
    "            for quantity_name in quantity_names\n",
    "        ]\n",
    "        for results in results_list\n",
    "    ]\n"
   ]
  },
  {
   "cell_type": "markdown",
   "metadata": {},
   "source": [
    "## Compare FD radiance to no-scatter asymptotics radiance"
   ]
  },
  {
   "cell_type": "code",
   "execution_count": 203,
   "metadata": {},
   "outputs": [],
   "source": [
    "import ipywidgets as ipw\n",
    "import pandas as pd\n",
    "import IPython.display as disp"
   ]
  },
  {
   "cell_type": "code",
   "execution_count": 328,
   "metadata": {},
   "outputs": [],
   "source": [
    "def plot_irrad_column(irrad1, irrad2, label1, label2, i, j, plot_data, plot_err, log_data, log_err):\n",
    "    col1 = irrad1[i,j,:]\n",
    "    col2 = irrad2[i,j,:]\n",
    "    abs_err = np.abs(col1 - col2)\n",
    "    rel_err = np.abs(abs_err / col1)\n",
    "    \n",
    "    # Plot\n",
    "    if(plot_data):\n",
    "        data_ax = plt.gca()\n",
    "        data_ax.plot(col1, 'C0o-', label=label1)\n",
    "        data_ax.plot(col2, 'C1o-', label=label2)\n",
    "        plt.legend(loc='upper right')\n",
    "        if(log_data):\n",
    "            data_ax.set_yscale('log')\n",
    "\n",
    "    if(plot_err):\n",
    "        err_ax = plt.twinx()\n",
    "        err_ax.plot(abs_err, 'C2o-', label='abs_err')\n",
    "        err_ax.plot(rel_err, 'C3o-', label='rel_err')\n",
    "        plt.legend(loc='right')\n",
    "        if(log_err):\n",
    "            err_ax.set_yscale('log')\n",
    "    plt.show()\n",
    "    \n",
    "    # DataFrame\n",
    "    df = pd.DataFrame(\n",
    "        list(zip(\n",
    "            *map(\n",
    "                lambda arr: ['{:10.3e}'.format(x) for x in arr],\n",
    "                (col1, col2, abs_err, rel_err)\n",
    "            )\n",
    "        )),\n",
    "        columns=('Finite Difference', 'No Scattering', 'Absolute Error', 'Relative Error')\n",
    "    )\n",
    "    disp.display(df)\n",
    "    \n",
    "    "
   ]
  },
  {
   "cell_type": "code",
   "execution_count": 332,
   "metadata": {},
   "outputs": [],
   "source": [
    "def plot_rad_column(rad1, rad2, label1, label2, i, j, p, plot_data, plot_err, log_data, log_err):\n",
    "    col1 = rad1[i,j,:, p]\n",
    "    col2 = rad2[i,j,:, p]\n",
    "    abs_err = np.abs(col1 - col2)\n",
    "    rel_err = np.abs(abs_err / col1)\n",
    "    \n",
    "    # Plot\n",
    "    plt.figure(1)\n",
    "    if(plot_data):\n",
    "        data_ax = plt.gca()\n",
    "        data_ax.plot(col1, 'C0o-', label=label1)\n",
    "        data_ax.plot(col2, 'C1o-', label=label2)\n",
    "        plt.legend(loc='upper right')\n",
    "        if(log_data):\n",
    "            data_ax.set_yscale('log')\n",
    "\n",
    "    if(plot_err):\n",
    "        err_ax = plt.twinx()\n",
    "        err_ax.plot(abs_err, 'C2o-', label='abs_err')\n",
    "        err_ax.plot(rel_err, 'C3o-', label='rel_err')\n",
    "        plt.legend(loc='right')\n",
    "        if(log_err):\n",
    "            err_ax.set_yscale('log')\n",
    "    plt.show()\n",
    "    \n",
    "    # DataFrame\n",
    "    df = pd.DataFrame(\n",
    "        list(zip(\n",
    "            *map(\n",
    "                lambda arr: ['{:10.3e}'.format(x) for x in arr],\n",
    "                (col1, col2, abs_err, rel_err)\n",
    "            )\n",
    "        )),\n",
    "        columns=('Finite Difference', 'No Scattering', 'Absolute Error', 'Relative Error')\n",
    "    )\n",
    "    disp.display(df)\n",
    "    \n",
    "    "
   ]
  },
  {
   "cell_type": "markdown",
   "metadata": {},
   "source": [
    "### Load Data"
   ]
  },
  {
   "cell_type": "code",
   "execution_count": 383,
   "metadata": {},
   "outputs": [],
   "source": [
    "study_name = 'as_single_large'\n",
    "a_water = 0.5\n",
    "b = 0.5\n",
    "\n",
    "nz = cori_nc_get_results(\n",
    "    study_name, 'nz',\n",
    "    fd_flag=True,\n",
    "    a_water=a_water, b=b\n",
    ")[0][0]\n",
    "zmin = 0\n",
    "zmax = cori_nc_get_results(\n",
    "    study_name, 'zmax',\n",
    "    fd_flag=True,\n",
    "    a_water=a_water, b=b\n",
    ")[0][0]\n",
    "\n",
    "dz = (zmax - zmin) / nz\n",
    "z = dz * (np.arange(nz) + 0.5)\n",
    "\n",
    "fd_rad = cori_nc_get_results(\n",
    "    study_name, 'rad',\n",
    "    fd_flag=True,\n",
    "    a_water=a_water, b=b\n",
    ")[0][0]\n",
    "no_scat_rad = cori_nc_get_results(\n",
    "    study_name, 'rad',\n",
    "    fd_flag=False, num_scatters=0,\n",
    "    a_water=a_water, b=b\n",
    ")[0][0]\n",
    "\n",
    "fd_irrad = cori_nc_get_results(\n",
    "    study_name, 'irrad',\n",
    "    fd_flag=True,\n",
    "    a_water=a_water, b=b\n",
    ")[0][0]\n",
    "no_scat_irrad = cori_nc_get_results(\n",
    "    study_name, 'irrad',\n",
    "    fd_flag=False, num_scatters=0,\n",
    "    a_water=a_water, b=b\n",
    ")[0][0]\n",
    "\n",
    "fd_p_kelp = cori_nc_get_results(\n",
    "    study_name, 'p_kelp',\n",
    "    fd_flag=True,\n",
    "    a_water=a_water, b=b\n",
    ")[0][0]\n",
    "no_scat_p_kelp = cori_nc_get_results(\n",
    "    study_name, 'p_kelp',\n",
    "    fd_flag=False, num_scatters=0,\n",
    "    a_water=a_water, b=b\n",
    ")[0][0]"
   ]
  },
  {
   "cell_type": "code",
   "execution_count": 384,
   "metadata": {},
   "outputs": [
    {
     "data": {
      "application/vnd.jupyter.widget-view+json": {
       "model_id": "8b204ecc703a4eeebb68f2a8e341233a",
       "version_major": 2,
       "version_minor": 0
      },
      "text/plain": [
       "interactive(children=(IntSlider(value=7, description='i', max=15), IntSlider(value=7, description='j', max=15)…"
      ]
     },
     "metadata": {},
     "output_type": "display_data"
    },
    {
     "data": {
      "text/plain": [
       "<function __main__.plot_irrad_column(irrad1, irrad2, label1, label2, i, j, plot_data, plot_err, log_data, log_err)>"
      ]
     },
     "execution_count": 384,
     "metadata": {},
     "output_type": "execute_result"
    }
   ],
   "source": [
    "# Irrad\n",
    "ipw.interact(\n",
    "    plot_irrad_column,\n",
    "    irrad1=ipw.fixed(fd_irrad),\n",
    "    irrad2=ipw.fixed(no_scat_irrad),\n",
    "    label1=ipw.fixed('FD'),\n",
    "    label2=ipw.fixed('NoScat'),\n",
    "    i=(0,15), j=(0,15),\n",
    "    plot_data=True, plot_err=False,\n",
    "    log_data=True, log_err=True\n",
    ")"
   ]
  },
  {
   "cell_type": "code",
   "execution_count": 375,
   "metadata": {},
   "outputs": [
    {
     "data": {
      "application/vnd.jupyter.widget-view+json": {
       "model_id": "283f57b0b10a495599f05b2f4da6a00b",
       "version_major": 2,
       "version_minor": 0
      },
      "text/plain": [
       "interactive(children=(IntSlider(value=7, description='i', max=15), IntSlider(value=7, description='j', max=15)…"
      ]
     },
     "metadata": {},
     "output_type": "display_data"
    },
    {
     "data": {
      "text/plain": [
       "<function __main__.plot_irrad_column(irrad1, irrad2, label1, label2, i, j, plot_data, plot_err, log_data, log_err)>"
      ]
     },
     "execution_count": 375,
     "metadata": {},
     "output_type": "execute_result"
    }
   ],
   "source": [
    "# p_kelp\n",
    "ipw.interact(\n",
    "    plot_irrad_column,\n",
    "    irrad1=ipw.fixed(fd_p_kelp),\n",
    "    irrad2=ipw.fixed(no_scat_p_kelp),\n",
    "    label1=ipw.fixed('FD'),\n",
    "    label2=ipw.fixed('NoScat'),\n",
    "    i=(0,15), j=(0,15),\n",
    "    plot_data=True, plot_err=False,\n",
    "    log_data=True, log_err=True\n",
    ")"
   ]
  },
  {
   "cell_type": "markdown",
   "metadata": {},
   "source": [
    "## Compare radiances"
   ]
  },
  {
   "cell_type": "code",
   "execution_count": 385,
   "metadata": {},
   "outputs": [
    {
     "data": {
      "application/vnd.jupyter.widget-view+json": {
       "model_id": "eea54307edd34fd092a3107f3812649c",
       "version_major": 2,
       "version_minor": 0
      },
      "text/plain": [
       "interactive(children=(IntSlider(value=7, description='i', max=15), IntSlider(value=7, description='j', max=15)…"
      ]
     },
     "metadata": {},
     "output_type": "display_data"
    },
    {
     "data": {
      "text/plain": [
       "<matplotlib.figure.Figure at 0x2ab9700f6cc0>"
      ]
     },
     "execution_count": 385,
     "metadata": {},
     "output_type": "execute_result"
    },
    {
     "data": {
      "text/plain": [
       "<matplotlib.figure.Figure at 0x2ab9700f6cc0>"
      ]
     },
     "metadata": {},
     "output_type": "display_data"
    }
   ],
   "source": [
    "# rad\n",
    "ipw.interact(\n",
    "    plot_rad_column,\n",
    "    rad1=ipw.fixed(fd_rad),\n",
    "    rad2=ipw.fixed(no_scat_rad),\n",
    "    label1=ipw.fixed('FD'),\n",
    "    label2=ipw.fixed('NoScat'),\n",
    "    i=(0,15), j=(0,15), p=(0, 100),\n",
    "    plot_data=True, plot_err=False,\n",
    "    log_data=True, log_err=True\n",
    ")\n",
    "plt.figure(1)\n"
   ]
  },
  {
   "cell_type": "markdown",
   "metadata": {},
   "source": [
    "### Absorption coefficient for uniform kelp"
   ]
  },
  {
   "cell_type": "code",
   "execution_count": 372,
   "metadata": {},
   "outputs": [],
   "source": [
    "absorptance_kelp = 0.8\n",
    "num_dens = 150\n",
    "ft = 4e-4\n",
    "a_water = 0.5\n",
    "a_final = a_water + num_dens * (absorptance_kelp + a_water*ft)\n",
    "I0 = 50"
   ]
  },
  {
   "cell_type": "code",
   "execution_count": 346,
   "metadata": {},
   "outputs": [
    {
     "data": {
      "text/plain": [
       "120.53"
      ]
     },
     "execution_count": 346,
     "metadata": {},
     "output_type": "execute_result"
    }
   ],
   "source": [
    "a_final"
   ]
  },
  {
   "cell_type": "code",
   "execution_count": 347,
   "metadata": {},
   "outputs": [
    {
     "data": {
      "text/plain": [
       "2000.0"
      ]
     },
     "execution_count": 347,
     "metadata": {},
     "output_type": "execute_result"
    }
   ],
   "source": [
    "absorptance_kelp / ft"
   ]
  },
  {
   "cell_type": "code",
   "execution_count": 351,
   "metadata": {},
   "outputs": [
    {
     "data": {
      "image/png": "[encoded data removed]",
      "text/plain": [
       "<matplotlib.figure.Figure at 0x2ab975916d68>"
      ]
     },
     "metadata": {},
     "output_type": "display_data"
    },
    {
     "data": {
      "text/html": [
       "<div>\n",
       "<style>\n",
       "    .dataframe thead tr:only-child th {\n",
       "        text-align: right;\n",
       "    }\n",
       "\n",
       "    .dataframe thead th {\n",
       "        text-align: left;\n",
       "    }\n",
       "\n",
       "    .dataframe tbody tr th {\n",
       "        vertical-align: top;\n",
       "    }\n",
       "</style>\n",
       "<table border=\"1\" class=\"dataframe\">\n",
       "  <thead>\n",
       "    <tr style=\"text-align: right;\">\n",
       "      <th></th>\n",
       "      <th>Finite Difference</th>\n",
       "      <th>No Scattering</th>\n",
       "      <th>Absolute Error</th>\n",
       "      <th>Relative Error</th>\n",
       "    </tr>\n",
       "  </thead>\n",
       "  <tbody>\n",
       "    <tr>\n",
       "      <th>0</th>\n",
       "      <td>1.693e+01</td>\n",
       "      <td>1.682e+01</td>\n",
       "      <td>1.090e-01</td>\n",
       "      <td>6.439e-03</td>\n",
       "    </tr>\n",
       "    <tr>\n",
       "      <th>1</th>\n",
       "      <td>1.232e+01</td>\n",
       "      <td>1.226e+01</td>\n",
       "      <td>5.971e-02</td>\n",
       "      <td>4.847e-03</td>\n",
       "    </tr>\n",
       "    <tr>\n",
       "      <th>2</th>\n",
       "      <td>9.228e+00</td>\n",
       "      <td>8.969e+00</td>\n",
       "      <td>2.599e-01</td>\n",
       "      <td>2.816e-02</td>\n",
       "    </tr>\n",
       "    <tr>\n",
       "      <th>3</th>\n",
       "      <td>6.549e+00</td>\n",
       "      <td>6.536e+00</td>\n",
       "      <td>1.339e-02</td>\n",
       "      <td>2.044e-03</td>\n",
       "    </tr>\n",
       "    <tr>\n",
       "      <th>4</th>\n",
       "      <td>5.035e+00</td>\n",
       "      <td>4.118e+00</td>\n",
       "      <td>9.164e-01</td>\n",
       "      <td>1.820e-01</td>\n",
       "    </tr>\n",
       "    <tr>\n",
       "      <th>5</th>\n",
       "      <td>4.719e-01</td>\n",
       "      <td>2.124e-01</td>\n",
       "      <td>2.595e-01</td>\n",
       "      <td>5.499e-01</td>\n",
       "    </tr>\n",
       "    <tr>\n",
       "      <th>6</th>\n",
       "      <td>8.200e-03</td>\n",
       "      <td>8.370e-09</td>\n",
       "      <td>8.200e-03</td>\n",
       "      <td>1.000e+00</td>\n",
       "    </tr>\n",
       "    <tr>\n",
       "      <th>7</th>\n",
       "      <td>6.545e-05</td>\n",
       "      <td>1.186e-28</td>\n",
       "      <td>6.545e-05</td>\n",
       "      <td>1.000e+00</td>\n",
       "    </tr>\n",
       "    <tr>\n",
       "      <th>8</th>\n",
       "      <td>4.473e-07</td>\n",
       "      <td>0.000e+00</td>\n",
       "      <td>4.473e-07</td>\n",
       "      <td>1.000e+00</td>\n",
       "    </tr>\n",
       "    <tr>\n",
       "      <th>9</th>\n",
       "      <td>2.957e-09</td>\n",
       "      <td>0.000e+00</td>\n",
       "      <td>2.957e-09</td>\n",
       "      <td>1.000e+00</td>\n",
       "    </tr>\n",
       "    <tr>\n",
       "      <th>10</th>\n",
       "      <td>1.954e-11</td>\n",
       "      <td>0.000e+00</td>\n",
       "      <td>1.954e-11</td>\n",
       "      <td>1.000e+00</td>\n",
       "    </tr>\n",
       "    <tr>\n",
       "      <th>11</th>\n",
       "      <td>1.051e-13</td>\n",
       "      <td>0.000e+00</td>\n",
       "      <td>1.051e-13</td>\n",
       "      <td>1.000e+00</td>\n",
       "    </tr>\n",
       "    <tr>\n",
       "      <th>12</th>\n",
       "      <td>2.288e-15</td>\n",
       "      <td>0.000e+00</td>\n",
       "      <td>2.288e-15</td>\n",
       "      <td>1.000e+00</td>\n",
       "    </tr>\n",
       "    <tr>\n",
       "      <th>13</th>\n",
       "      <td>5.002e-18</td>\n",
       "      <td>0.000e+00</td>\n",
       "      <td>5.002e-18</td>\n",
       "      <td>1.000e+00</td>\n",
       "    </tr>\n",
       "    <tr>\n",
       "      <th>14</th>\n",
       "      <td>2.071e-18</td>\n",
       "      <td>0.000e+00</td>\n",
       "      <td>2.071e-18</td>\n",
       "      <td>1.000e+00</td>\n",
       "    </tr>\n",
       "    <tr>\n",
       "      <th>15</th>\n",
       "      <td>-2.617e-18</td>\n",
       "      <td>0.000e+00</td>\n",
       "      <td>2.617e-18</td>\n",
       "      <td>1.000e+00</td>\n",
       "    </tr>\n",
       "  </tbody>\n",
       "</table>\n",
       "</div>"
      ],
      "text/plain": [
       "   Finite Difference No Scattering Absolute Error Relative Error\n",
       "0          1.693e+01     1.682e+01      1.090e-01      6.439e-03\n",
       "1          1.232e+01     1.226e+01      5.971e-02      4.847e-03\n",
       "2          9.228e+00     8.969e+00      2.599e-01      2.816e-02\n",
       "3          6.549e+00     6.536e+00      1.339e-02      2.044e-03\n",
       "4          5.035e+00     4.118e+00      9.164e-01      1.820e-01\n",
       "5          4.719e-01     2.124e-01      2.595e-01      5.499e-01\n",
       "6          8.200e-03     8.370e-09      8.200e-03      1.000e+00\n",
       "7          6.545e-05     1.186e-28      6.545e-05      1.000e+00\n",
       "8          4.473e-07     0.000e+00      4.473e-07      1.000e+00\n",
       "9          2.957e-09     0.000e+00      2.957e-09      1.000e+00\n",
       "10         1.954e-11     0.000e+00      1.954e-11      1.000e+00\n",
       "11         1.051e-13     0.000e+00      1.051e-13      1.000e+00\n",
       "12         2.288e-15     0.000e+00      2.288e-15      1.000e+00\n",
       "13         5.002e-18     0.000e+00      5.002e-18      1.000e+00\n",
       "14         2.071e-18     0.000e+00      2.071e-18      1.000e+00\n",
       "15        -2.617e-18     0.000e+00      2.617e-18      1.000e+00"
      ]
     },
     "metadata": {},
     "output_type": "display_data"
    }
   ],
   "source": [
    "plt.semilogy(I0*np.exp(-a_final*z), 'C2o-', label='theoretical')\n",
    "#plt.ylim(1e-50,1e1)\n",
    "plot_rad_column(\n",
    "    rad1=fd_rad,\n",
    "    rad2=no_scat_rad,\n",
    "    label1='FD',\n",
    "    label2='NoScat',\n",
    "    i=7, j=7, p=0,\n",
    "    plot_data=True, plot_err=False,\n",
    "    log_data=True, log_err=True\n",
    ")\n",
    "plt.show()"
   ]
  },
  {
   "cell_type": "code",
   "execution_count": 312,
   "metadata": {},
   "outputs": [
    {
     "data": {
      "text/plain": [
       "120.53"
      ]
     },
     "execution_count": 312,
     "metadata": {},
     "output_type": "execute_result"
    }
   ],
   "source": [
    "a_final"
   ]
  },
  {
   "cell_type": "code",
   "execution_count": null,
   "metadata": {},
   "outputs": [],
   "source": []
  },
  {
   "cell_type": "markdown",
   "metadata": {},
   "source": [
    "## Errors"
   ]
  },
  {
   "cell_type": "code",
   "execution_count": 859,
   "metadata": {},
   "outputs": [],
   "source": [
    "def plot_asymptotics_study_err_fixed_iops(abs_err_dict, rel_err_dict, a_water, b):\n",
    "    a_water_list, b_list, num_scatters_list = map(\n",
    "        lambda lst: sorted(set(lst)),\n",
    "        zip(\n",
    "            *rel_err_dict.keys()\n",
    "        )\n",
    "    )\n",
    "    \n",
    "    abs_err_arr, rel_err_arr = map(\n",
    "        lambda err_dict: np.array([\n",
    "            err_dict[(a_water, b, num_scatters)]\n",
    "            for num_scatters in num_scatters_list\n",
    "        ]),\n",
    "        (abs_err_dict, rel_err_dict)\n",
    "    )\n",
    "    \n",
    "    # Relative Error\n",
    "    plt.figure(figsize=(10,8))\n",
    "    ax = plt.subplot(1,1,1)\n",
    "    plt.plot(num_scatters_list, rel_err_arr, 'o-', label='rel_err')\n",
    "    #plt.yscale('log')\n",
    "    plt.xlabel('num_scatters')\n",
    "    plt.ylabel('relative error')\n"
   ]
  },
  {
   "cell_type": "code",
   "execution_count": 860,
   "metadata": {},
   "outputs": [],
   "source": [
    "def plot_asymptotics_study_err_fixed_num_scatters(abs_err_dict, rel_err_dict, num_scatters):\n",
    "    a_water_list, b_list, num_scatters_list = map(\n",
    "        lambda lst: sorted(set(lst)),\n",
    "        zip(\n",
    "            *rel_err_dict.keys()\n",
    "        )\n",
    "    )\n",
    "    \n",
    "    abs_err_arr, rel_err_arr = map(\n",
    "        lambda err_dict: np.array([\n",
    "            [\n",
    "                err_dict[(a_water, b, num_scatters)]\n",
    "                for a_water in a_water_list\n",
    "            ]\n",
    "            for b in b_list\n",
    "        ]),\n",
    "        (abs_err_dict, rel_err_dict)\n",
    "    )\n",
    "    \n",
    "    error_visualize.plot_two_edges(\n",
    "        rel_err_arr, \n",
    "        abs_err_arr,\n",
    "        a_water_list,\n",
    "        b_list,\n",
    "        ylim=(1e-2, 1e-1),\n",
    "        q1_label='a_water',\n",
    "        q2_label='b'\n",
    "    )\n",
    "    error_visualize.plot_2d_resolution_grid(\n",
    "        rel_err_arr, \n",
    "        abs_err_arr,\n",
    "        a_water_list,\n",
    "        b_list,\n",
    "        vlim=(1e-2, 1e-1),\n",
    "        xlabel='a_water',\n",
    "        ylabel='b'\n",
    "    )\n"
   ]
  },
  {
   "cell_type": "code",
   "execution_count": 692,
   "metadata": {},
   "outputs": [
    {
     "data": {
      "image/png": "[encoded data removed]",
      "text/plain": [
       "<matplotlib.figure.Figure at 0x2af950c790f0>"
      ]
     },
     "metadata": {},
     "output_type": "display_data"
    }
   ],
   "source": [
    "plot_asymptotics_study_err_fixed_iops(\n",
    "    abs_err_dict, \n",
    "    rel_err_dict, \n",
    "    a_water, \n",
    "    b\n",
    ")\n",
    "#plt.yscale('log')"
   ]
  },
  {
   "cell_type": "markdown",
   "metadata": {},
   "source": [
    "# Compare asymptotics to FD, fixed num_scatters"
   ]
  },
  {
   "cell_type": "code",
   "execution_count": 922,
   "metadata": {},
   "outputs": [
    {
     "ename": "IndexError",
     "evalue": "tuple index out of range",
     "output_type": "error",
     "traceback": [
      "\u001b[0;31m---------------------------------------------------------------------------\u001b[0m",
      "\u001b[0;31mIndexError\u001b[0m                                Traceback (most recent call last)",
      "\u001b[0;32m<ipython-input-922-3b9f612a5665>\u001b[0m in \u001b[0;36m<module>\u001b[0;34m()\u001b[0m\n\u001b[1;32m      2\u001b[0m \u001b[0;34m\u001b[0m\u001b[0m\n\u001b[1;32m      3\u001b[0m \u001b[0mnum_scatters\u001b[0m \u001b[0;34m=\u001b[0m \u001b[0;36m4\u001b[0m\u001b[0;34m\u001b[0m\u001b[0m\n\u001b[0;32m----> 4\u001b[0;31m \u001b[0mavg_irrad\u001b[0m \u001b[0;34m=\u001b[0m \u001b[0mnp\u001b[0m\u001b[0;34m.\u001b[0m\u001b[0mmean\u001b[0m\u001b[0;34m(\u001b[0m\u001b[0mperceived_irrad_dict\u001b[0m\u001b[0;34m[\u001b[0m\u001b[0;34m(\u001b[0m\u001b[0ma_water\u001b[0m\u001b[0;34m,\u001b[0m \u001b[0mb\u001b[0m\u001b[0;34m,\u001b[0m \u001b[0mnum_scatters\u001b[0m\u001b[0;34m)\u001b[0m\u001b[0;34m]\u001b[0m\u001b[0;34m,\u001b[0m \u001b[0maxis\u001b[0m\u001b[0;34m=\u001b[0m\u001b[0;34m(\u001b[0m\u001b[0;36m0\u001b[0m\u001b[0;34m,\u001b[0m\u001b[0;36m1\u001b[0m\u001b[0;34m)\u001b[0m\u001b[0;34m)\u001b[0m\u001b[0;34m\u001b[0m\u001b[0m\n\u001b[0m\u001b[1;32m      5\u001b[0m \u001b[0;34m\u001b[0m\u001b[0m\n\u001b[1;32m      6\u001b[0m \u001b[0mcori_asymptotics_study_plot_perc_irrad_fixed_iops\u001b[0m\u001b[0;34m(\u001b[0m\u001b[0mstudy_name\u001b[0m\u001b[0;34m,\u001b[0m \u001b[0ma_water\u001b[0m\u001b[0;34m,\u001b[0m \u001b[0mb\u001b[0m\u001b[0;34m)\u001b[0m\u001b[0;34m\u001b[0m\u001b[0m\n",
      "\u001b[0;32m~/local/miniconda3/envs/kelp/lib/python3.6/site-packages/numpy/core/fromnumeric.py\u001b[0m in \u001b[0;36mmean\u001b[0;34m(a, axis, dtype, out, keepdims)\u001b[0m\n\u001b[1;32m   2907\u001b[0m \u001b[0;34m\u001b[0m\u001b[0m\n\u001b[1;32m   2908\u001b[0m     return _methods._mean(a, axis=axis, dtype=dtype,\n\u001b[0;32m-> 2909\u001b[0;31m                           out=out, **kwargs)\n\u001b[0m\u001b[1;32m   2910\u001b[0m \u001b[0;34m\u001b[0m\u001b[0m\n\u001b[1;32m   2911\u001b[0m \u001b[0;34m\u001b[0m\u001b[0m\n",
      "\u001b[0;32m~/local/miniconda3/envs/kelp/lib/python3.6/site-packages/numpy/core/_methods.py\u001b[0m in \u001b[0;36m_mean\u001b[0;34m(a, axis, dtype, out, keepdims)\u001b[0m\n\u001b[1;32m     55\u001b[0m \u001b[0;34m\u001b[0m\u001b[0m\n\u001b[1;32m     56\u001b[0m     \u001b[0mis_float16_result\u001b[0m \u001b[0;34m=\u001b[0m \u001b[0;32mFalse\u001b[0m\u001b[0;34m\u001b[0m\u001b[0m\n\u001b[0;32m---> 57\u001b[0;31m     \u001b[0mrcount\u001b[0m \u001b[0;34m=\u001b[0m \u001b[0m_count_reduce_items\u001b[0m\u001b[0;34m(\u001b[0m\u001b[0marr\u001b[0m\u001b[0;34m,\u001b[0m \u001b[0maxis\u001b[0m\u001b[0;34m)\u001b[0m\u001b[0;34m\u001b[0m\u001b[0m\n\u001b[0m\u001b[1;32m     58\u001b[0m     \u001b[0;31m# Make this warning show up first\u001b[0m\u001b[0;34m\u001b[0m\u001b[0;34m\u001b[0m\u001b[0m\n\u001b[1;32m     59\u001b[0m     \u001b[0;32mif\u001b[0m \u001b[0mrcount\u001b[0m \u001b[0;34m==\u001b[0m \u001b[0;36m0\u001b[0m\u001b[0;34m:\u001b[0m\u001b[0;34m\u001b[0m\u001b[0m\n",
      "\u001b[0;32m~/local/miniconda3/envs/kelp/lib/python3.6/site-packages/numpy/core/_methods.py\u001b[0m in \u001b[0;36m_count_reduce_items\u001b[0;34m(arr, axis)\u001b[0m\n\u001b[1;32m     48\u001b[0m     \u001b[0mitems\u001b[0m \u001b[0;34m=\u001b[0m \u001b[0;36m1\u001b[0m\u001b[0;34m\u001b[0m\u001b[0m\n\u001b[1;32m     49\u001b[0m     \u001b[0;32mfor\u001b[0m \u001b[0max\u001b[0m \u001b[0;32min\u001b[0m \u001b[0maxis\u001b[0m\u001b[0;34m:\u001b[0m\u001b[0;34m\u001b[0m\u001b[0m\n\u001b[0;32m---> 50\u001b[0;31m         \u001b[0mitems\u001b[0m \u001b[0;34m*=\u001b[0m \u001b[0marr\u001b[0m\u001b[0;34m.\u001b[0m\u001b[0mshape\u001b[0m\u001b[0;34m[\u001b[0m\u001b[0max\u001b[0m\u001b[0;34m]\u001b[0m\u001b[0;34m\u001b[0m\u001b[0m\n\u001b[0m\u001b[1;32m     51\u001b[0m     \u001b[0;32mreturn\u001b[0m \u001b[0mitems\u001b[0m\u001b[0;34m\u001b[0m\u001b[0m\n\u001b[1;32m     52\u001b[0m \u001b[0;34m\u001b[0m\u001b[0m\n",
      "\u001b[0;31mIndexError\u001b[0m: tuple index out of range"
     ]
    }
   ],
   "source": [
    "study_name = 'as_n88_9ax9b_new'\n",
    "\n",
    "num_scatters = 4\n",
    "avg_irrad = np.mean(perceived_irrad_dict[(a_water, b, num_scatters)], axis=(0,1))\n",
    "\n",
    "cori_asymptotics_study_plot_perc_irrad_fixed_iops(study_name, a_water, b)\n",
    "z = np.linspace(0, 10, 101)\n",
    "plt.plot(z, 50*np.exp(-a_water*z), 'o-', label='no kelp')\n",
    "plt.plot(z, 50*np.exp(-5*z), 'o-', label='no kelp')\n",
    "plt.yscale('log')\n",
    "#plt.xlim(4,5)\n",
    "#plt.ylim(1e-9,1e-4)\n",
    "plot_asymptotics_study_err_fixed_iops(abs_err_dict, rel_err_dict, a_water, b)\n",
    "plt.yscale('log')"
   ]
  },
  {
   "cell_type": "code",
   "execution_count": 923,
   "metadata": {},
   "outputs": [
    {
     "data": {
      "image/png": "[encoded data removed]",
      "text/plain": [
       "<matplotlib.figure.Figure at 0x2af9547abe48>"
      ]
     },
     "metadata": {},
     "output_type": "display_data"
    },
    {
     "data": {
      "image/png": "[encoded data removed]",
      "text/plain": [
       "<matplotlib.figure.Figure at 0x2af952e4c390>"
      ]
     },
     "metadata": {},
     "output_type": "display_data"
    }
   ],
   "source": [
    "plot_asymptotics_study_err_fixed_num_scatters(abs_err_dict, rel_err_dict, num_scatters)"
   ]
  }
 ],
 "metadata": {
  "kernelspec": {
   "display_name": "Python 3",
   "language": "python",
   "name": "python3"
  },
  "language_info": {
   "codemirror_mode": {
    "name": "ipython",
    "version": 3
   },
   "file_extension": ".py",
   "mimetype": "text/x-python",
   "name": "python",
   "nbconvert_exporter": "python",
   "pygments_lexer": "ipython3",
   "version": "3.6.3"
  }
 },
 "nbformat": 4,
 "nbformat_minor": 2
}
