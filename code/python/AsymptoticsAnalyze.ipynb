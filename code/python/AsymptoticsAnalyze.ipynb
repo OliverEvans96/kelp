{
 "cells": [
  {
   "cell_type": "code",
   "execution_count": 1,
   "metadata": {},
   "outputs": [],
   "source": [
    "%load_ext autoreload\n",
    "%autoreload 2\n",
    "%matplotlib inline"
   ]
  },
  {
   "cell_type": "code",
   "execution_count": 74,
   "metadata": {},
   "outputs": [],
   "source": [
    "import os\n",
    "import itertools as it\n",
    "import shutil\n",
    "\n",
    "import sqlite3\n",
    "import numpy as np\n",
    "import matplotlib.pyplot as plt\n",
    "\n",
    "import kelp_compute\n",
    "import kelp_analyze\n",
    "import discrete_plot\n",
    "import error_visualize"
   ]
  },
  {
   "cell_type": "markdown",
   "metadata": {},
   "source": [
    "# Compare Asymptotics to FD"
   ]
  },
  {
   "cell_type": "code",
   "execution_count": 26,
   "metadata": {},
   "outputs": [],
   "source": [
    "def cori_asymptotics_study_plot_one_iop_set(study_name, a_water, b):\n",
    "    \"\"\"\n",
    "    Make two plots:\n",
    "    - perceived irradiance vs. depth for FD and all asymptotics\n",
    "    - error vs. number of scatters\n",
    "    \"\"\"\n",
    "    base_dir = os.path.join(os.environ['SCRATCH'], 'kelp-results')\n",
    "    study_dir = os.path.join(base_dir, study_name)\n",
    "    db_path = os.path.join(study_dir, '{}.db'.format(study_name))\n",
    "    conn = sqlite3.connect(db_path)\n",
    "    \n",
    "    # Get run data from .nc files\n",
    "    run_list = kelp_analyze.query_results(conn, study_name, a_water=a_water, b=b)\n",
    "    # Assume that there's only one FD run for each IOP set\n",
    "    fd_run_ds = [run for run in run_list if run['fd_flag'][:] == True][0]\n",
    "    fd_perceived_irrad = kelp_analyze.calculate_perceived_irrad(\n",
    "        fd_run_ds['p_kelp'][:],\n",
    "        fd_run_ds['irrad'][:]\n",
    "    )\n",
    "    \n",
    "    asymptotics_run_dict = {\n",
    "        int(run_ds['num_scatters'][:]): run_ds\n",
    "        for run_ds in run_list\n",
    "        if run_ds['fd_flag'][:] != True\n",
    "    }\n",
    "    \n",
    "    nz = fd_run_ds['nz'][:]\n",
    "    zmin = 0\n",
    "    zmax = fd_run_ds['zmax'][:]\n",
    "    dz = (zmax-zmin)/nz\n",
    "    z = dz * (np.arange(nz) + 0.5)\n",
    "    \n",
    "    plt.figure(1, figsize=[10,8])\n",
    "    plt.plot(z, fd_perceived_irrad, 'o-', label='FD')\n",
    "    \n",
    "    num_scatters_list = sorted(asymptotics_run_dict.keys())\n",
    "    for num_scatters in reversed(num_scatters_list):\n",
    "        run_ds = asymptotics_run_dict[num_scatters]\n",
    "        perceived_irrad = kelp_analyze.calculate_perceived_irrad(\n",
    "            run_ds['p_kelp'][:], \n",
    "            run_ds['irrad'][:]\n",
    "        )\n",
    "        \n",
    "        plt.plot(z, perceived_irrad, 'o-', label='n={}'.format(num_scatters))\n",
    "        \n",
    "        # TODO: Calculate error & save to list\n",
    "        \n",
    "    plt.figure(1)\n",
    "    plt.legend()\n",
    "        \n",
    "    # TODO: Plot error\n",
    "    # plt.figure(2)"
   ]
  },
  {
   "cell_type": "code",
   "execution_count": 27,
   "metadata": {},
   "outputs": [
    {
     "data": {
      "image/png": "[encoded data removed]",
      "text/plain": [
       "<matplotlib.figure.Figure at 0x2aad7009ae80>"
      ]
     },
     "metadata": {},
     "output_type": "display_data"
    }
   ],
   "source": [
    "study_name = 'as_n64_9ax9b'\n",
    "#plt.yscale('log')\n",
    "a_water = 0.0\n",
    "b = 1.6\n",
    "cori_asymptotics_study_plot_one_iop_set(study_name, a_water, b)"
   ]
  },
  {
   "cell_type": "markdown",
   "metadata": {},
   "source": [
    "# Compare errors from 1e-5 FD and 1e-12 FD"
   ]
  },
  {
   "cell_type": "code",
   "execution_count": 80,
   "metadata": {},
   "outputs": [],
   "source": [
    "def cori_compare_two_fd(study_name_list, a_water, b):\n",
    "    z_list = []\n",
    "    perceived_irrad_list = []\n",
    "    for study_name in study_name_list:\n",
    "        # Connect\n",
    "        base_dir = os.path.join(os.environ['SCRATCH'], 'kelp-results')\n",
    "        study_dir = os.path.join(base_dir, study_name)\n",
    "        db_path = os.path.join(study_dir, '{}.db'.format(study_name))\n",
    "        conn = sqlite3.connect(db_path)\n",
    "    \n",
    "        # Get run data from .nc files\n",
    "        run_list = kelp_analyze.query_results(conn, study_name, a_water=a_water, b=b)\n",
    "        conn.close()\n",
    "        \n",
    "        # Assume that there's only one FD run for each IOP set\n",
    "        fd_run_ds = [run for run in run_list if run['fd_flag'][:] == True][0]\n",
    "        fd_perceived_irrad = kelp_analyze.calculate_perceived_irrad(\n",
    "            fd_run_ds['p_kelp'][:],\n",
    "            fd_run_ds['irrad'][:]\n",
    "        )\n",
    "\n",
    "        nz = fd_run_ds['nz'][:]\n",
    "        zmin = 0\n",
    "        zmax = fd_run_ds['zmax'][:]\n",
    "        dz = (zmax-zmin)/nz\n",
    "        z = dz * (np.arange(nz) + 0.5)\n",
    "        \n",
    "        z_list.append(z)\n",
    "        perceived_irrad_list.append(fd_perceived_irrad)\n",
    "    \n",
    "    return z_list, perceived_irrad_list\n",
    "    "
   ]
  },
  {
   "cell_type": "code",
   "execution_count": 81,
   "metadata": {},
   "outputs": [],
   "source": [
    "z_list, perceived_irrad_list = cori_compare_two_fd(\n",
    "    ['as_single_tol5', 'as_single_tol12'],\n",
    "    a_water=0.5,\n",
    "    b=0.5\n",
    ")\n",
    "\n",
    "z, _ = z_list\n",
    "pi5, pi12 = perceived_irrad_list"
   ]
  },
  {
   "cell_type": "code",
   "execution_count": 89,
   "metadata": {},
   "outputs": [
    {
     "name": "stdout",
     "output_type": "stream",
     "text": [
      "abs_diff:\n",
      "mean = 1.168e-06\n",
      "std = 7.333e-07\n",
      "min = 4.147e-08\n",
      "max = 2.661e-06\n",
      "\n",
      "rel_diff:\n",
      "mean = 3.588e-02\n",
      "std = 6.025e-02\n",
      "min = 8.432e-09\n",
      "max = 2.424e-01\n"
     ]
    },
    {
     "data": {
      "image/png": "[encoded data removed]",
      "text/plain": [
       "<matplotlib.figure.Figure at 0x2ab97014ed30>"
      ]
     },
     "metadata": {},
     "output_type": "display_data"
    }
   ],
   "source": [
    "plt.plot(z, pi5, 'o-')\n",
    "plt.plot(z, pi12, 'o-')\n",
    "plt.yscale('log')\n",
    "\n",
    "abs_diff = np.abs(pi5-pi12)\n",
    "rel_diff = np.abs(abs_diff/pi12)\n",
    "print(\"abs_diff:\")\n",
    "print(\"mean = {:.3e}\".format(np.mean(abs_diff)))\n",
    "print(\"std = {:.3e}\".format(np.std(abs_diff)))\n",
    "print(\"min = {:.3e}\".format(np.min(abs_diff)))\n",
    "print(\"max = {:.3e}\".format(np.max(abs_diff)))\n",
    "print()\n",
    "\n",
    "print(\"rel_diff:\")\n",
    "print(\"mean = {:.3e}\".format(np.mean(rel_diff)))\n",
    "print(\"std = {:.3e}\".format(np.std(rel_diff)))\n",
    "print(\"min = {:.3e}\".format(np.min(rel_diff)))\n",
    "print(\"max = {:.3e}\".format(np.max(rel_diff)))"
   ]
  },
  {
   "cell_type": "markdown",
   "metadata": {},
   "source": [
    "Clearly, `tol=1e-5` is sufficient."
   ]
  },
  {
   "cell_type": "markdown",
   "metadata": {},
   "source": [
    "# Compare FD & asymptotics radiances to BC"
   ]
  },
  {
   "cell_type": "code",
   "execution_count": 115,
   "metadata": {},
   "outputs": [],
   "source": [
    "def cori_nc_get_results(study_name, *quantity_names, **conditions):\n",
    "    base_dir = os.path.join(os.environ['SCRATCH'], 'kelp-results')\n",
    "    study_dir = os.path.join(base_dir, study_name)\n",
    "    db_path = os.path.join(study_dir, '{}.db'.format(study_name))\n",
    "    conn = sqlite3.connect(db_path)\n",
    "\n",
    "    # Get run data from .nc files\n",
    "    results_list = kelp_analyze.query_results(conn, study_name, **conditions)\n",
    "    conn.close()\n",
    "    \n",
    "    return [\n",
    "        [\n",
    "            results[quantity_name][:] \n",
    "            for quantity_name in quantity_names\n",
    "        ]\n",
    "        for results in results_list\n",
    "    ]\n"
   ]
  },
  {
   "cell_type": "markdown",
   "metadata": {},
   "source": [
    "# Compare asymptotics to FD, fixed num_scatters"
   ]
  },
  {
   "cell_type": "code",
   "execution_count": 67,
   "metadata": {},
   "outputs": [],
   "source": [
    "def analyze_asymptotics_study(study_name, num_scatters):\n",
    "    # Open db\n",
    "    base_dir = os.path.join(os.environ['SCRATCH'], 'kelp-results')\n",
    "    study_dir = os.path.join(base_dir, study_name)\n",
    "    db_path = os.path.join(study_dir, '{}.db'.format(study_name))\n",
    "    conn = sqlite3.connect(db_path)\n",
    "    \n",
    "    # Get a, b values\n",
    "    cursor = conn.execute('''\n",
    "    SELECT a_water, b, num_scatters\n",
    "    FROM {study_name}\n",
    "    '''.format(study_name=study_name))\n",
    "\n",
    "    # Get all unique values of a_water, b\n",
    "    types = (float, float, int)\n",
    "    a_water_list, b_list, num_scatters_list = [\n",
    "        sorted(\n",
    "            set(\n",
    "                map(\n",
    "                    t,\n",
    "                    col\n",
    "                )\n",
    "            )\n",
    "        )\n",
    "        for col, t in zip(\n",
    "            zip(*cursor.fetchall()), \n",
    "            types\n",
    "        )\n",
    "    ]\n",
    "\n",
    "    \n",
    "    print(\"a_water_list = {}\".format(a_water_list))\n",
    "    print(\"b_list = {}\".format(b_list))\n",
    "    print(\"num_scatters_list = {}\".format(num_scatters_list))\n",
    "    \n",
    "    perceived_irrad_dict = {}\n",
    "    compute_time_dict = {}\n",
    "    abs_err_dict = {}\n",
    "    rel_err_dict = {}\n",
    "\n",
    "    for a_water in a_water_list:\n",
    "        for b in b_list:\n",
    "            for num_scatters in num_scatters_list:\n",
    "                # Compare to FD\n",
    "                # Assume there's only one run\n",
    "                # that matches largest grid\n",
    "                fd_results = kelp_analyze.query_results(\n",
    "                    conn,\n",
    "                    study_name,\n",
    "                    a_water=a_water,\n",
    "                    b=b,\n",
    "                    fd_flag=True\n",
    "                )[0]\n",
    "                \n",
    "                p_kelp = fd_results['p_kelp'][:]\n",
    "                fd_irrad = fd_results['irrad'][:]\n",
    "                fd_perceived_irrad = kelp_analyze.calculate_perceived_irrad(p_kelp, fd_irrad)\n",
    "\n",
    "                asym_perceived_irrad, abs_err, rel_err, compute_time = kelp_analyze.compute_err(\n",
    "                    conn, \n",
    "                    study_name, \n",
    "                    fd_perceived_irrad,\n",
    "                    a_water=a_water,\n",
    "                    b=b,\n",
    "                    num_scatters=num_scatters,\n",
    "                    fd_flag=False\n",
    "                )\n",
    "\n",
    "                perceived_irrad_dict[(a_water, b, num_scatters)] = asym_perceived_irrad\n",
    "                compute_time_dict[(a_water, b, num_scatters)] = compute_time\n",
    "                abs_err_dict[(a_water, b, num_scatters)] = abs_err\n",
    "                rel_err_dict[(a_water, b, num_scatters)] = rel_err\n",
    "    return perceived_irrad_dict, abs_err_dict, rel_err_dict, compute_time_dict\n",
    "   "
   ]
  },
  {
   "cell_type": "code",
   "execution_count": 110,
   "metadata": {},
   "outputs": [],
   "source": [
    "def plot_asymptotics_study_fixed_num_scatters(abs_err_dict, rel_err_dict, num_scatters):\n",
    "    a_water_list, b_list, num_scatters_list = map(\n",
    "        lambda lst: sorted(set(lst)),\n",
    "        zip(\n",
    "            *rel_err_dict.keys()\n",
    "        )\n",
    "    )\n",
    "    \n",
    "    abs_err_arr, rel_err_arr = map(\n",
    "        lambda err_dict: np.array([\n",
    "            [\n",
    "                err_dict[(a_water, b, num_scatters)]\n",
    "                for a_water in a_water_list\n",
    "            ]\n",
    "            for b in b_list\n",
    "        ]),\n",
    "        (abs_err_dict, rel_err_dict)\n",
    "    )\n",
    "    \n",
    "    error_visualize.plot_two_edges(\n",
    "        rel_err_arr, \n",
    "        abs_err_arr,\n",
    "        a_water_list,\n",
    "        b_list,\n",
    "        #ylim=(1e-2, 2e-2)\n",
    "    )\n",
    "    error_visualize.plot_2d_resolution_grid(\n",
    "        rel_err_arr, \n",
    "        abs_err_arr,\n",
    "        a_water_list,\n",
    "        b_list,\n",
    "        #vlim=(1e-2, 2e-2)\n",
    "    )\n"
   ]
  },
  {
   "cell_type": "code",
   "execution_count": 108,
   "metadata": {},
   "outputs": [
    {
     "name": "stdout",
     "output_type": "stream",
     "text": [
      "a_water_list = [0.0, 0.05, 0.1, 0.15000000000000002, 0.2, 0.25, 0.30000000000000004, 0.35000000000000003, 0.4]\n",
      "b_list = [0.0, 0.2, 0.4, 0.6000000000000001, 0.8, 1.0, 1.2000000000000002, 1.4000000000000001, 1.6]\n",
      "num_scatters_list = [0, 1, 2, 3, 4, 8, 12, 16, 20]\n"
     ]
    }
   ],
   "source": [
    "study_name = 'as_n64_9ax9b'\n",
    "perceived_irrad_dict, abs_err_dict, rel_err_dict, compute_time_dict = analyze_asymptotics_study(study_name, num_scatters)"
   ]
  },
  {
   "cell_type": "markdown",
   "metadata": {},
   "source": [
    "# TODO: Fix axis / line labels"
   ]
  },
  {
   "cell_type": "markdown",
   "metadata": {},
   "source": [
    "# TODO: Organize this notebook into argument"
   ]
  },
  {
   "cell_type": "markdown",
   "metadata": {},
   "source": [
    "# TODO: Separate gs/as plots"
   ]
  },
  {
   "cell_type": "code",
   "execution_count": 113,
   "metadata": {},
   "outputs": [
    {
     "ename": "ValueError",
     "evalue": "zero-size array to reduction operation minimum which has no identity",
     "output_type": "error",
     "traceback": [
      "\u001b[0;31m---------------------------------------------------------------------------\u001b[0m",
      "\u001b[0;31mValueError\u001b[0m                                Traceback (most recent call last)",
      "\u001b[0;32m<ipython-input-113-77072296b086>\u001b[0m in \u001b[0;36m<module>\u001b[0;34m()\u001b[0m\n\u001b[1;32m      1\u001b[0m \u001b[0mnum_scatters\u001b[0m \u001b[0;34m=\u001b[0m \u001b[0;36m4\u001b[0m\u001b[0;34m\u001b[0m\u001b[0m\n\u001b[0;32m----> 2\u001b[0;31m \u001b[0mplot_asymptotics_study_fixed_num_scatters\u001b[0m\u001b[0;34m(\u001b[0m\u001b[0mabs_err_dict\u001b[0m\u001b[0;34m,\u001b[0m \u001b[0mrel_err_dict\u001b[0m\u001b[0;34m,\u001b[0m \u001b[0mnum_scatters\u001b[0m\u001b[0;34m)\u001b[0m\u001b[0;34m\u001b[0m\u001b[0m\n\u001b[0m",
      "\u001b[0;32m<ipython-input-110-e5205f69660d>\u001b[0m in \u001b[0;36mplot_asymptotics_study_fixed_num_scatters\u001b[0;34m(abs_err_dict, rel_err_dict, num_scatters)\u001b[0m\n\u001b[1;32m     29\u001b[0m         \u001b[0mabs_err_arr\u001b[0m\u001b[0;34m,\u001b[0m\u001b[0;34m\u001b[0m\u001b[0m\n\u001b[1;32m     30\u001b[0m         \u001b[0ma_water_list\u001b[0m\u001b[0;34m,\u001b[0m\u001b[0;34m\u001b[0m\u001b[0m\n\u001b[0;32m---> 31\u001b[0;31m         \u001b[0mb_list\u001b[0m\u001b[0;34m,\u001b[0m\u001b[0;34m\u001b[0m\u001b[0m\n\u001b[0m\u001b[1;32m     32\u001b[0m         \u001b[0;31m#vlim=(1e-2, 2e-2)\u001b[0m\u001b[0;34m\u001b[0m\u001b[0;34m\u001b[0m\u001b[0m\n\u001b[1;32m     33\u001b[0m     )\n",
      "\u001b[0;32m/global/u2/o/oevans/kelp/code/python/error_visualize.py\u001b[0m in \u001b[0;36mplot_2d_resolution_grid\u001b[0;34m(rel_err_arr, abs_err_arr, ns_list, na_list, vlim, xlabel, ylabel)\u001b[0m\n\u001b[1;32m     60\u001b[0m         },\n\u001b[1;32m     61\u001b[0m         cbar_kwargs={\n\u001b[0;32m---> 62\u001b[0;31m             \u001b[0;34m'label'\u001b[0m\u001b[0;34m:\u001b[0m \u001b[0;34m'average relative error'\u001b[0m\u001b[0;34m,\u001b[0m\u001b[0;34m\u001b[0m\u001b[0m\n\u001b[0m\u001b[1;32m     63\u001b[0m         }\n\u001b[1;32m     64\u001b[0m \u001b[0;34m\u001b[0m\u001b[0m\n",
      "\u001b[0;32m/global/u2/o/oevans/kelp/code/python/discrete_plot.py\u001b[0m in \u001b[0;36mimshow_with_contours_and_zoom\u001b[0;34m(x_list, y_list, f, zoom_factor, imshow_kwargs, contour_kwargs, cbar_kwargs)\u001b[0m\n\u001b[1;32m     63\u001b[0m \u001b[0;34m\u001b[0m\u001b[0m\n\u001b[1;32m     64\u001b[0m     \u001b[0;31m# contours\u001b[0m\u001b[0;34m\u001b[0m\u001b[0;34m\u001b[0m\u001b[0m\n\u001b[0;32m---> 65\u001b[0;31m     \u001b[0mcont\u001b[0m \u001b[0;34m=\u001b[0m \u001b[0max\u001b[0m\u001b[0;34m.\u001b[0m\u001b[0mcontour\u001b[0m\u001b[0;34m(\u001b[0m\u001b[0mnew_f\u001b[0m\u001b[0;34m.\u001b[0m\u001b[0mT\u001b[0m\u001b[0;34m,\u001b[0m \u001b[0mcmap\u001b[0m\u001b[0;34m=\u001b[0m\u001b[0;34m'magma_r'\u001b[0m\u001b[0;34m,\u001b[0m \u001b[0mextent\u001b[0m\u001b[0;34m=\u001b[0m\u001b[0mextent\u001b[0m\u001b[0;34m,\u001b[0m \u001b[0;34m**\u001b[0m\u001b[0mcontour_kwargs\u001b[0m\u001b[0;34m)\u001b[0m\u001b[0;34m\u001b[0m\u001b[0m\n\u001b[0m\u001b[1;32m     66\u001b[0m     \u001b[0mcbar\u001b[0m\u001b[0;34m.\u001b[0m\u001b[0madd_lines\u001b[0m\u001b[0;34m(\u001b[0m\u001b[0mcont\u001b[0m\u001b[0;34m)\u001b[0m\u001b[0;34m\u001b[0m\u001b[0m\n\u001b[1;32m     67\u001b[0m \u001b[0;34m\u001b[0m\u001b[0m\n",
      "\u001b[0;32m~/local/miniconda3/envs/kelp/lib/python3.6/site-packages/matplotlib/__init__.py\u001b[0m in \u001b[0;36minner\u001b[0;34m(ax, *args, **kwargs)\u001b[0m\n\u001b[1;32m   1896\u001b[0m                     warnings.warn(msg % (label_namer, func.__name__),\n\u001b[1;32m   1897\u001b[0m                                   RuntimeWarning, stacklevel=2)\n\u001b[0;32m-> 1898\u001b[0;31m             \u001b[0;32mreturn\u001b[0m \u001b[0mfunc\u001b[0m\u001b[0;34m(\u001b[0m\u001b[0max\u001b[0m\u001b[0;34m,\u001b[0m \u001b[0;34m*\u001b[0m\u001b[0margs\u001b[0m\u001b[0;34m,\u001b[0m \u001b[0;34m**\u001b[0m\u001b[0mkwargs\u001b[0m\u001b[0;34m)\u001b[0m\u001b[0;34m\u001b[0m\u001b[0m\n\u001b[0m\u001b[1;32m   1899\u001b[0m         \u001b[0mpre_doc\u001b[0m \u001b[0;34m=\u001b[0m \u001b[0minner\u001b[0m\u001b[0;34m.\u001b[0m\u001b[0m__doc__\u001b[0m\u001b[0;34m\u001b[0m\u001b[0m\n\u001b[1;32m   1900\u001b[0m         \u001b[0;32mif\u001b[0m \u001b[0mpre_doc\u001b[0m \u001b[0;32mis\u001b[0m \u001b[0;32mNone\u001b[0m\u001b[0;34m:\u001b[0m\u001b[0;34m\u001b[0m\u001b[0m\n",
      "\u001b[0;32m~/local/miniconda3/envs/kelp/lib/python3.6/site-packages/matplotlib/axes/_axes.py\u001b[0m in \u001b[0;36mcontour\u001b[0;34m(self, *args, **kwargs)\u001b[0m\n\u001b[1;32m   5823\u001b[0m             \u001b[0mself\u001b[0m\u001b[0;34m.\u001b[0m\u001b[0mcla\u001b[0m\u001b[0;34m(\u001b[0m\u001b[0;34m)\u001b[0m\u001b[0;34m\u001b[0m\u001b[0m\n\u001b[1;32m   5824\u001b[0m         \u001b[0mkwargs\u001b[0m\u001b[0;34m[\u001b[0m\u001b[0;34m'filled'\u001b[0m\u001b[0;34m]\u001b[0m \u001b[0;34m=\u001b[0m \u001b[0;32mFalse\u001b[0m\u001b[0;34m\u001b[0m\u001b[0m\n\u001b[0;32m-> 5825\u001b[0;31m         \u001b[0mcontours\u001b[0m \u001b[0;34m=\u001b[0m \u001b[0mmcontour\u001b[0m\u001b[0;34m.\u001b[0m\u001b[0mQuadContourSet\u001b[0m\u001b[0;34m(\u001b[0m\u001b[0mself\u001b[0m\u001b[0;34m,\u001b[0m \u001b[0;34m*\u001b[0m\u001b[0margs\u001b[0m\u001b[0;34m,\u001b[0m \u001b[0;34m**\u001b[0m\u001b[0mkwargs\u001b[0m\u001b[0;34m)\u001b[0m\u001b[0;34m\u001b[0m\u001b[0m\n\u001b[0m\u001b[1;32m   5826\u001b[0m         \u001b[0mself\u001b[0m\u001b[0;34m.\u001b[0m\u001b[0mautoscale_view\u001b[0m\u001b[0;34m(\u001b[0m\u001b[0;34m)\u001b[0m\u001b[0;34m\u001b[0m\u001b[0m\n\u001b[1;32m   5827\u001b[0m         \u001b[0;32mreturn\u001b[0m \u001b[0mcontours\u001b[0m\u001b[0;34m\u001b[0m\u001b[0m\n",
      "\u001b[0;32m~/local/miniconda3/envs/kelp/lib/python3.6/site-packages/matplotlib/contour.py\u001b[0m in \u001b[0;36m__init__\u001b[0;34m(self, ax, *args, **kwargs)\u001b[0m\n\u001b[1;32m    863\u001b[0m \u001b[0;34m\u001b[0m\u001b[0m\n\u001b[1;32m    864\u001b[0m         \u001b[0mself\u001b[0m\u001b[0;34m.\u001b[0m\u001b[0m_process_args\u001b[0m\u001b[0;34m(\u001b[0m\u001b[0;34m*\u001b[0m\u001b[0margs\u001b[0m\u001b[0;34m,\u001b[0m \u001b[0;34m**\u001b[0m\u001b[0mkwargs\u001b[0m\u001b[0;34m)\u001b[0m\u001b[0;34m\u001b[0m\u001b[0m\n\u001b[0;32m--> 865\u001b[0;31m         \u001b[0mself\u001b[0m\u001b[0;34m.\u001b[0m\u001b[0m_process_levels\u001b[0m\u001b[0;34m(\u001b[0m\u001b[0;34m)\u001b[0m\u001b[0;34m\u001b[0m\u001b[0m\n\u001b[0m\u001b[1;32m    866\u001b[0m \u001b[0;34m\u001b[0m\u001b[0m\n\u001b[1;32m    867\u001b[0m         \u001b[0;32mif\u001b[0m \u001b[0mself\u001b[0m\u001b[0;34m.\u001b[0m\u001b[0mcolors\u001b[0m \u001b[0;32mis\u001b[0m \u001b[0;32mnot\u001b[0m \u001b[0;32mNone\u001b[0m\u001b[0;34m:\u001b[0m\u001b[0;34m\u001b[0m\u001b[0m\n",
      "\u001b[0;32m~/local/miniconda3/envs/kelp/lib/python3.6/site-packages/matplotlib/contour.py\u001b[0m in \u001b[0;36m_process_levels\u001b[0;34m(self)\u001b[0m\n\u001b[1;32m   1197\u001b[0m         \u001b[0;31m# The following attributes are no longer needed, and\u001b[0m\u001b[0;34m\u001b[0m\u001b[0;34m\u001b[0m\u001b[0m\n\u001b[1;32m   1198\u001b[0m         \u001b[0;31m# should be deprecated and removed to reduce confusion.\u001b[0m\u001b[0;34m\u001b[0m\u001b[0;34m\u001b[0m\u001b[0m\n\u001b[0;32m-> 1199\u001b[0;31m         \u001b[0mself\u001b[0m\u001b[0;34m.\u001b[0m\u001b[0mvmin\u001b[0m \u001b[0;34m=\u001b[0m \u001b[0mnp\u001b[0m\u001b[0;34m.\u001b[0m\u001b[0mamin\u001b[0m\u001b[0;34m(\u001b[0m\u001b[0mself\u001b[0m\u001b[0;34m.\u001b[0m\u001b[0mlevels\u001b[0m\u001b[0;34m)\u001b[0m\u001b[0;34m\u001b[0m\u001b[0m\n\u001b[0m\u001b[1;32m   1200\u001b[0m         \u001b[0mself\u001b[0m\u001b[0;34m.\u001b[0m\u001b[0mvmax\u001b[0m \u001b[0;34m=\u001b[0m \u001b[0mnp\u001b[0m\u001b[0;34m.\u001b[0m\u001b[0mamax\u001b[0m\u001b[0;34m(\u001b[0m\u001b[0mself\u001b[0m\u001b[0;34m.\u001b[0m\u001b[0mlevels\u001b[0m\u001b[0;34m)\u001b[0m\u001b[0;34m\u001b[0m\u001b[0m\n\u001b[1;32m   1201\u001b[0m \u001b[0;34m\u001b[0m\u001b[0m\n",
      "\u001b[0;32m~/local/miniconda3/envs/kelp/lib/python3.6/site-packages/numpy/core/fromnumeric.py\u001b[0m in \u001b[0;36mamin\u001b[0;34m(a, axis, out, keepdims)\u001b[0m\n\u001b[1;32m   2370\u001b[0m \u001b[0;34m\u001b[0m\u001b[0m\n\u001b[1;32m   2371\u001b[0m     return _methods._amin(a, axis=axis,\n\u001b[0;32m-> 2372\u001b[0;31m                           out=out, **kwargs)\n\u001b[0m\u001b[1;32m   2373\u001b[0m \u001b[0;34m\u001b[0m\u001b[0m\n\u001b[1;32m   2374\u001b[0m \u001b[0;34m\u001b[0m\u001b[0m\n",
      "\u001b[0;32m~/local/miniconda3/envs/kelp/lib/python3.6/site-packages/numpy/core/_methods.py\u001b[0m in \u001b[0;36m_amin\u001b[0;34m(a, axis, out, keepdims)\u001b[0m\n\u001b[1;32m     27\u001b[0m \u001b[0;34m\u001b[0m\u001b[0m\n\u001b[1;32m     28\u001b[0m \u001b[0;32mdef\u001b[0m \u001b[0m_amin\u001b[0m\u001b[0;34m(\u001b[0m\u001b[0ma\u001b[0m\u001b[0;34m,\u001b[0m \u001b[0maxis\u001b[0m\u001b[0;34m=\u001b[0m\u001b[0;32mNone\u001b[0m\u001b[0;34m,\u001b[0m \u001b[0mout\u001b[0m\u001b[0;34m=\u001b[0m\u001b[0;32mNone\u001b[0m\u001b[0;34m,\u001b[0m \u001b[0mkeepdims\u001b[0m\u001b[0;34m=\u001b[0m\u001b[0;32mFalse\u001b[0m\u001b[0;34m)\u001b[0m\u001b[0;34m:\u001b[0m\u001b[0;34m\u001b[0m\u001b[0m\n\u001b[0;32m---> 29\u001b[0;31m     \u001b[0;32mreturn\u001b[0m \u001b[0mumr_minimum\u001b[0m\u001b[0;34m(\u001b[0m\u001b[0ma\u001b[0m\u001b[0;34m,\u001b[0m \u001b[0maxis\u001b[0m\u001b[0;34m,\u001b[0m \u001b[0;32mNone\u001b[0m\u001b[0;34m,\u001b[0m \u001b[0mout\u001b[0m\u001b[0;34m,\u001b[0m \u001b[0mkeepdims\u001b[0m\u001b[0;34m)\u001b[0m\u001b[0;34m\u001b[0m\u001b[0m\n\u001b[0m\u001b[1;32m     30\u001b[0m \u001b[0;34m\u001b[0m\u001b[0m\n\u001b[1;32m     31\u001b[0m \u001b[0;32mdef\u001b[0m \u001b[0m_sum\u001b[0m\u001b[0;34m(\u001b[0m\u001b[0ma\u001b[0m\u001b[0;34m,\u001b[0m \u001b[0maxis\u001b[0m\u001b[0;34m=\u001b[0m\u001b[0;32mNone\u001b[0m\u001b[0;34m,\u001b[0m \u001b[0mdtype\u001b[0m\u001b[0;34m=\u001b[0m\u001b[0;32mNone\u001b[0m\u001b[0;34m,\u001b[0m \u001b[0mout\u001b[0m\u001b[0;34m=\u001b[0m\u001b[0;32mNone\u001b[0m\u001b[0;34m,\u001b[0m \u001b[0mkeepdims\u001b[0m\u001b[0;34m=\u001b[0m\u001b[0;32mFalse\u001b[0m\u001b[0;34m)\u001b[0m\u001b[0;34m:\u001b[0m\u001b[0;34m\u001b[0m\u001b[0m\n",
      "\u001b[0;31mValueError\u001b[0m: zero-size array to reduction operation minimum which has no identity"
     ]
    },
    {
     "data": {
      "image/png": "[encoded data removed]",
      "text/plain": [
       "<matplotlib.figure.Figure at 0x2aad704d8438>"
      ]
     },
     "metadata": {},
     "output_type": "display_data"
    },
    {
     "data": {
      "image/png": "[encoded data removed]",
      "text/plain": [
       "<matplotlib.figure.Figure at 0x2aad739d1fd0>"
      ]
     },
     "metadata": {},
     "output_type": "display_data"
    }
   ],
   "source": [
    "num_scatters = 4\n",
    "plot_asymptotics_study_fixed_num_scatters(abs_err_dict, rel_err_dict, num_scatters)"
   ]
  },
  {
   "cell_type": "markdown",
   "metadata": {},
   "source": [
    "## Compare FD radiance to no-scatter asymptotics radiance"
   ]
  },
  {
   "cell_type": "code",
   "execution_count": 203,
   "metadata": {},
   "outputs": [],
   "source": [
    "import ipywidgets as ipw\n",
    "import pandas as pd\n",
    "import IPython.display as disp"
   ]
  },
  {
   "cell_type": "code",
   "execution_count": 328,
   "metadata": {},
   "outputs": [],
   "source": [
    "def plot_irrad_column(irrad1, irrad2, label1, label2, i, j, plot_data, plot_err, log_data, log_err):\n",
    "    col1 = irrad1[i,j,:]\n",
    "    col2 = irrad2[i,j,:]\n",
    "    abs_err = np.abs(col1 - col2)\n",
    "    rel_err = np.abs(abs_err / col1)\n",
    "    \n",
    "    # Plot\n",
    "    if(plot_data):\n",
    "        data_ax = plt.gca()\n",
    "        data_ax.plot(col1, 'C0o-', label=label1)\n",
    "        data_ax.plot(col2, 'C1o-', label=label2)\n",
    "        plt.legend(loc='upper right')\n",
    "        if(log_data):\n",
    "            data_ax.set_yscale('log')\n",
    "\n",
    "    if(plot_err):\n",
    "        err_ax = plt.twinx()\n",
    "        err_ax.plot(abs_err, 'C2o-', label='abs_err')\n",
    "        err_ax.plot(rel_err, 'C3o-', label='rel_err')\n",
    "        plt.legend(loc='right')\n",
    "        if(log_err):\n",
    "            err_ax.set_yscale('log')\n",
    "    plt.show()\n",
    "    \n",
    "    # DataFrame\n",
    "    df = pd.DataFrame(\n",
    "        list(zip(\n",
    "            *map(\n",
    "                lambda arr: ['{:10.3e}'.format(x) for x in arr],\n",
    "                (col1, col2, abs_err, rel_err)\n",
    "            )\n",
    "        )),\n",
    "        columns=('Finite Difference', 'No Scattering', 'Absolute Error', 'Relative Error')\n",
    "    )\n",
    "    disp.display(df)\n",
    "    \n",
    "    "
   ]
  },
  {
   "cell_type": "code",
   "execution_count": 332,
   "metadata": {},
   "outputs": [],
   "source": [
    "def plot_rad_column(rad1, rad2, label1, label2, i, j, p, plot_data, plot_err, log_data, log_err):\n",
    "    col1 = rad1[i,j,:, p]\n",
    "    col2 = rad2[i,j,:, p]\n",
    "    abs_err = np.abs(col1 - col2)\n",
    "    rel_err = np.abs(abs_err / col1)\n",
    "    \n",
    "    # Plot\n",
    "    plt.figure(1)\n",
    "    if(plot_data):\n",
    "        data_ax = plt.gca()\n",
    "        data_ax.plot(col1, 'C0o-', label=label1)\n",
    "        data_ax.plot(col2, 'C1o-', label=label2)\n",
    "        plt.legend(loc='upper right')\n",
    "        if(log_data):\n",
    "            data_ax.set_yscale('log')\n",
    "\n",
    "    if(plot_err):\n",
    "        err_ax = plt.twinx()\n",
    "        err_ax.plot(abs_err, 'C2o-', label='abs_err')\n",
    "        err_ax.plot(rel_err, 'C3o-', label='rel_err')\n",
    "        plt.legend(loc='right')\n",
    "        if(log_err):\n",
    "            err_ax.set_yscale('log')\n",
    "    plt.show()\n",
    "    \n",
    "    # DataFrame\n",
    "    df = pd.DataFrame(\n",
    "        list(zip(\n",
    "            *map(\n",
    "                lambda arr: ['{:10.3e}'.format(x) for x in arr],\n",
    "                (col1, col2, abs_err, rel_err)\n",
    "            )\n",
    "        )),\n",
    "        columns=('Finite Difference', 'No Scattering', 'Absolute Error', 'Relative Error')\n",
    "    )\n",
    "    disp.display(df)\n",
    "    \n",
    "    "
   ]
  },
  {
   "cell_type": "markdown",
   "metadata": {},
   "source": [
    "### Load Data"
   ]
  },
  {
   "cell_type": "code",
   "execution_count": 383,
   "metadata": {},
   "outputs": [],
   "source": [
    "study_name = 'as_single_large'\n",
    "a_water = 0.5\n",
    "b = 0.5\n",
    "\n",
    "nz = cori_nc_get_results(\n",
    "    study_name, 'nz',\n",
    "    fd_flag=True,\n",
    "    a_water=a_water, b=b\n",
    ")[0][0]\n",
    "zmin = 0\n",
    "zmax = cori_nc_get_results(\n",
    "    study_name, 'zmax',\n",
    "    fd_flag=True,\n",
    "    a_water=a_water, b=b\n",
    ")[0][0]\n",
    "\n",
    "dz = (zmax - zmin) / nz\n",
    "z = dz * (np.arange(nz) + 0.5)\n",
    "\n",
    "fd_rad = cori_nc_get_results(\n",
    "    study_name, 'rad',\n",
    "    fd_flag=True,\n",
    "    a_water=a_water, b=b\n",
    ")[0][0]\n",
    "no_scat_rad = cori_nc_get_results(\n",
    "    study_name, 'rad',\n",
    "    fd_flag=False, num_scatters=0,\n",
    "    a_water=a_water, b=b\n",
    ")[0][0]\n",
    "\n",
    "fd_irrad = cori_nc_get_results(\n",
    "    study_name, 'irrad',\n",
    "    fd_flag=True,\n",
    "    a_water=a_water, b=b\n",
    ")[0][0]\n",
    "no_scat_irrad = cori_nc_get_results(\n",
    "    study_name, 'irrad',\n",
    "    fd_flag=False, num_scatters=0,\n",
    "    a_water=a_water, b=b\n",
    ")[0][0]\n",
    "\n",
    "fd_p_kelp = cori_nc_get_results(\n",
    "    study_name, 'p_kelp',\n",
    "    fd_flag=True,\n",
    "    a_water=a_water, b=b\n",
    ")[0][0]\n",
    "no_scat_p_kelp = cori_nc_get_results(\n",
    "    study_name, 'p_kelp',\n",
    "    fd_flag=False, num_scatters=0,\n",
    "    a_water=a_water, b=b\n",
    ")[0][0]"
   ]
  },
  {
   "cell_type": "code",
   "execution_count": 384,
   "metadata": {},
   "outputs": [
    {
     "data": {
      "application/vnd.jupyter.widget-view+json": {
       "model_id": "8b204ecc703a4eeebb68f2a8e341233a",
       "version_major": 2,
       "version_minor": 0
      },
      "text/plain": [
       "interactive(children=(IntSlider(value=7, description='i', max=15), IntSlider(value=7, description='j', max=15)…"
      ]
     },
     "metadata": {},
     "output_type": "display_data"
    },
    {
     "data": {
      "text/plain": [
       "<function __main__.plot_irrad_column(irrad1, irrad2, label1, label2, i, j, plot_data, plot_err, log_data, log_err)>"
      ]
     },
     "execution_count": 384,
     "metadata": {},
     "output_type": "execute_result"
    }
   ],
   "source": [
    "# Irrad\n",
    "ipw.interact(\n",
    "    plot_irrad_column,\n",
    "    irrad1=ipw.fixed(fd_irrad),\n",
    "    irrad2=ipw.fixed(no_scat_irrad),\n",
    "    label1=ipw.fixed('FD'),\n",
    "    label2=ipw.fixed('NoScat'),\n",
    "    i=(0,15), j=(0,15),\n",
    "    plot_data=True, plot_err=False,\n",
    "    log_data=True, log_err=True\n",
    ")"
   ]
  },
  {
   "cell_type": "code",
   "execution_count": 375,
   "metadata": {},
   "outputs": [
    {
     "data": {
      "application/vnd.jupyter.widget-view+json": {
       "model_id": "283f57b0b10a495599f05b2f4da6a00b",
       "version_major": 2,
       "version_minor": 0
      },
      "text/plain": [
       "interactive(children=(IntSlider(value=7, description='i', max=15), IntSlider(value=7, description='j', max=15)…"
      ]
     },
     "metadata": {},
     "output_type": "display_data"
    },
    {
     "data": {
      "text/plain": [
       "<function __main__.plot_irrad_column(irrad1, irrad2, label1, label2, i, j, plot_data, plot_err, log_data, log_err)>"
      ]
     },
     "execution_count": 375,
     "metadata": {},
     "output_type": "execute_result"
    }
   ],
   "source": [
    "# p_kelp\n",
    "ipw.interact(\n",
    "    plot_irrad_column,\n",
    "    irrad1=ipw.fixed(fd_p_kelp),\n",
    "    irrad2=ipw.fixed(no_scat_p_kelp),\n",
    "    label1=ipw.fixed('FD'),\n",
    "    label2=ipw.fixed('NoScat'),\n",
    "    i=(0,15), j=(0,15),\n",
    "    plot_data=True, plot_err=False,\n",
    "    log_data=True, log_err=True\n",
    ")"
   ]
  },
  {
   "cell_type": "markdown",
   "metadata": {},
   "source": [
    "## Compare radiances"
   ]
  },
  {
   "cell_type": "code",
   "execution_count": 385,
   "metadata": {},
   "outputs": [
    {
     "data": {
      "application/vnd.jupyter.widget-view+json": {
       "model_id": "eea54307edd34fd092a3107f3812649c",
       "version_major": 2,
       "version_minor": 0
      },
      "text/plain": [
       "interactive(children=(IntSlider(value=7, description='i', max=15), IntSlider(value=7, description='j', max=15)…"
      ]
     },
     "metadata": {},
     "output_type": "display_data"
    },
    {
     "data": {
      "text/plain": [
       "<matplotlib.figure.Figure at 0x2ab9700f6cc0>"
      ]
     },
     "execution_count": 385,
     "metadata": {},
     "output_type": "execute_result"
    },
    {
     "data": {
      "text/plain": [
       "<matplotlib.figure.Figure at 0x2ab9700f6cc0>"
      ]
     },
     "metadata": {},
     "output_type": "display_data"
    }
   ],
   "source": [
    "# rad\n",
    "ipw.interact(\n",
    "    plot_rad_column,\n",
    "    rad1=ipw.fixed(fd_rad),\n",
    "    rad2=ipw.fixed(no_scat_rad),\n",
    "    label1=ipw.fixed('FD'),\n",
    "    label2=ipw.fixed('NoScat'),\n",
    "    i=(0,15), j=(0,15), p=(0, 100),\n",
    "    plot_data=True, plot_err=False,\n",
    "    log_data=True, log_err=True\n",
    ")\n",
    "plt.figure(1)\n"
   ]
  },
  {
   "cell_type": "markdown",
   "metadata": {},
   "source": [
    "### Absorption coefficient for uniform kelp"
   ]
  },
  {
   "cell_type": "code",
   "execution_count": 372,
   "metadata": {},
   "outputs": [],
   "source": [
    "absorptance_kelp = 0.8\n",
    "num_dens = 150\n",
    "ft = 4e-4\n",
    "a_water = 0.5\n",
    "a_final = a_water + num_dens * (absorptance_kelp + a_water*ft)\n",
    "I0 = 50"
   ]
  },
  {
   "cell_type": "code",
   "execution_count": 346,
   "metadata": {},
   "outputs": [
    {
     "data": {
      "text/plain": [
       "120.53"
      ]
     },
     "execution_count": 346,
     "metadata": {},
     "output_type": "execute_result"
    }
   ],
   "source": [
    "a_final"
   ]
  },
  {
   "cell_type": "code",
   "execution_count": 347,
   "metadata": {},
   "outputs": [
    {
     "data": {
      "text/plain": [
       "2000.0"
      ]
     },
     "execution_count": 347,
     "metadata": {},
     "output_type": "execute_result"
    }
   ],
   "source": [
    "absorptance_kelp / ft"
   ]
  },
  {
   "cell_type": "code",
   "execution_count": 351,
   "metadata": {},
   "outputs": [
    {
     "data": {
      "image/png": "[encoded data removed]",
      "text/plain": [
       "<matplotlib.figure.Figure at 0x2ab975916d68>"
      ]
     },
     "metadata": {},
     "output_type": "display_data"
    },
    {
     "data": {
      "text/html": [
       "<div>\n",
       "<style>\n",
       "    .dataframe thead tr:only-child th {\n",
       "        text-align: right;\n",
       "    }\n",
       "\n",
       "    .dataframe thead th {\n",
       "        text-align: left;\n",
       "    }\n",
       "\n",
       "    .dataframe tbody tr th {\n",
       "        vertical-align: top;\n",
       "    }\n",
       "</style>\n",
       "<table border=\"1\" class=\"dataframe\">\n",
       "  <thead>\n",
       "    <tr style=\"text-align: right;\">\n",
       "      <th></th>\n",
       "      <th>Finite Difference</th>\n",
       "      <th>No Scattering</th>\n",
       "      <th>Absolute Error</th>\n",
       "      <th>Relative Error</th>\n",
       "    </tr>\n",
       "  </thead>\n",
       "  <tbody>\n",
       "    <tr>\n",
       "      <th>0</th>\n",
       "      <td>1.693e+01</td>\n",
       "      <td>1.682e+01</td>\n",
       "      <td>1.090e-01</td>\n",
       "      <td>6.439e-03</td>\n",
       "    </tr>\n",
       "    <tr>\n",
       "      <th>1</th>\n",
       "      <td>1.232e+01</td>\n",
       "      <td>1.226e+01</td>\n",
       "      <td>5.971e-02</td>\n",
       "      <td>4.847e-03</td>\n",
       "    </tr>\n",
       "    <tr>\n",
       "      <th>2</th>\n",
       "      <td>9.228e+00</td>\n",
       "      <td>8.969e+00</td>\n",
       "      <td>2.599e-01</td>\n",
       "      <td>2.816e-02</td>\n",
       "    </tr>\n",
       "    <tr>\n",
       "      <th>3</th>\n",
       "      <td>6.549e+00</td>\n",
       "      <td>6.536e+00</td>\n",
       "      <td>1.339e-02</td>\n",
       "      <td>2.044e-03</td>\n",
       "    </tr>\n",
       "    <tr>\n",
       "      <th>4</th>\n",
       "      <td>5.035e+00</td>\n",
       "      <td>4.118e+00</td>\n",
       "      <td>9.164e-01</td>\n",
       "      <td>1.820e-01</td>\n",
       "    </tr>\n",
       "    <tr>\n",
       "      <th>5</th>\n",
       "      <td>4.719e-01</td>\n",
       "      <td>2.124e-01</td>\n",
       "      <td>2.595e-01</td>\n",
       "      <td>5.499e-01</td>\n",
       "    </tr>\n",
       "    <tr>\n",
       "      <th>6</th>\n",
       "      <td>8.200e-03</td>\n",
       "      <td>8.370e-09</td>\n",
       "      <td>8.200e-03</td>\n",
       "      <td>1.000e+00</td>\n",
       "    </tr>\n",
       "    <tr>\n",
       "      <th>7</th>\n",
       "      <td>6.545e-05</td>\n",
       "      <td>1.186e-28</td>\n",
       "      <td>6.545e-05</td>\n",
       "      <td>1.000e+00</td>\n",
       "    </tr>\n",
       "    <tr>\n",
       "      <th>8</th>\n",
       "      <td>4.473e-07</td>\n",
       "      <td>0.000e+00</td>\n",
       "      <td>4.473e-07</td>\n",
       "      <td>1.000e+00</td>\n",
       "    </tr>\n",
       "    <tr>\n",
       "      <th>9</th>\n",
       "      <td>2.957e-09</td>\n",
       "      <td>0.000e+00</td>\n",
       "      <td>2.957e-09</td>\n",
       "      <td>1.000e+00</td>\n",
       "    </tr>\n",
       "    <tr>\n",
       "      <th>10</th>\n",
       "      <td>1.954e-11</td>\n",
       "      <td>0.000e+00</td>\n",
       "      <td>1.954e-11</td>\n",
       "      <td>1.000e+00</td>\n",
       "    </tr>\n",
       "    <tr>\n",
       "      <th>11</th>\n",
       "      <td>1.051e-13</td>\n",
       "      <td>0.000e+00</td>\n",
       "      <td>1.051e-13</td>\n",
       "      <td>1.000e+00</td>\n",
       "    </tr>\n",
       "    <tr>\n",
       "      <th>12</th>\n",
       "      <td>2.288e-15</td>\n",
       "      <td>0.000e+00</td>\n",
       "      <td>2.288e-15</td>\n",
       "      <td>1.000e+00</td>\n",
       "    </tr>\n",
       "    <tr>\n",
       "      <th>13</th>\n",
       "      <td>5.002e-18</td>\n",
       "      <td>0.000e+00</td>\n",
       "      <td>5.002e-18</td>\n",
       "      <td>1.000e+00</td>\n",
       "    </tr>\n",
       "    <tr>\n",
       "      <th>14</th>\n",
       "      <td>2.071e-18</td>\n",
       "      <td>0.000e+00</td>\n",
       "      <td>2.071e-18</td>\n",
       "      <td>1.000e+00</td>\n",
       "    </tr>\n",
       "    <tr>\n",
       "      <th>15</th>\n",
       "      <td>-2.617e-18</td>\n",
       "      <td>0.000e+00</td>\n",
       "      <td>2.617e-18</td>\n",
       "      <td>1.000e+00</td>\n",
       "    </tr>\n",
       "  </tbody>\n",
       "</table>\n",
       "</div>"
      ],
      "text/plain": [
       "   Finite Difference No Scattering Absolute Error Relative Error\n",
       "0          1.693e+01     1.682e+01      1.090e-01      6.439e-03\n",
       "1          1.232e+01     1.226e+01      5.971e-02      4.847e-03\n",
       "2          9.228e+00     8.969e+00      2.599e-01      2.816e-02\n",
       "3          6.549e+00     6.536e+00      1.339e-02      2.044e-03\n",
       "4          5.035e+00     4.118e+00      9.164e-01      1.820e-01\n",
       "5          4.719e-01     2.124e-01      2.595e-01      5.499e-01\n",
       "6          8.200e-03     8.370e-09      8.200e-03      1.000e+00\n",
       "7          6.545e-05     1.186e-28      6.545e-05      1.000e+00\n",
       "8          4.473e-07     0.000e+00      4.473e-07      1.000e+00\n",
       "9          2.957e-09     0.000e+00      2.957e-09      1.000e+00\n",
       "10         1.954e-11     0.000e+00      1.954e-11      1.000e+00\n",
       "11         1.051e-13     0.000e+00      1.051e-13      1.000e+00\n",
       "12         2.288e-15     0.000e+00      2.288e-15      1.000e+00\n",
       "13         5.002e-18     0.000e+00      5.002e-18      1.000e+00\n",
       "14         2.071e-18     0.000e+00      2.071e-18      1.000e+00\n",
       "15        -2.617e-18     0.000e+00      2.617e-18      1.000e+00"
      ]
     },
     "metadata": {},
     "output_type": "display_data"
    }
   ],
   "source": [
    "plt.semilogy(I0*np.exp(-a_final*z), 'C2o-', label='theoretical')\n",
    "#plt.ylim(1e-50,1e1)\n",
    "plot_rad_column(\n",
    "    rad1=fd_rad,\n",
    "    rad2=no_scat_rad,\n",
    "    label1='FD',\n",
    "    label2='NoScat',\n",
    "    i=7, j=7, p=0,\n",
    "    plot_data=True, plot_err=False,\n",
    "    log_data=True, log_err=True\n",
    ")\n",
    "plt.show()"
   ]
  },
  {
   "cell_type": "code",
   "execution_count": 312,
   "metadata": {},
   "outputs": [
    {
     "data": {
      "text/plain": [
       "120.53"
      ]
     },
     "execution_count": 312,
     "metadata": {},
     "output_type": "execute_result"
    }
   ],
   "source": [
    "a_final"
   ]
  }
 ],
 "metadata": {
  "kernelspec": {
   "display_name": "Python 3",
   "language": "python",
   "name": "python3"
  },
  "language_info": {
   "codemirror_mode": {
    "name": "ipython",
    "version": 3
   },
   "file_extension": ".py",
   "mimetype": "text/x-python",
   "name": "python",
   "nbconvert_exporter": "python",
   "pygments_lexer": "ipython3",
   "version": "3.6.3"
  }
 },
 "nbformat": 4,
 "nbformat_minor": 2
}
