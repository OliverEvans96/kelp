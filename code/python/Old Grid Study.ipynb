{
 "cells": [
  {
   "cell_type": "code",
   "execution_count": 1,
   "metadata": {},
   "outputs": [],
   "source": [
    "from pymongo import MongoClient\n",
    "client = MongoClient()\n",
    "db = client['kelp-light-db']\n",
    "coll = db['grid-study']"
   ]
  },
  {
   "cell_type": "code",
   "execution_count": 2,
   "metadata": {},
   "outputs": [],
   "source": [
    "import kelp3d_objs as k3"
   ]
  },
  {
   "cell_type": "code",
   "execution_count": 11,
   "metadata": {},
   "outputs": [],
   "source": [
    "# Hard-coded parameters\n",
    "absorptance_kelp = 0.8 # (%)\n",
    "rope_spacing = 5.0 # (m)\n",
    "zmin, zmax = 0.0, 10.0 # (m)\n",
    "dz = 1.0 # (m)\n",
    "\n",
    "# Light from above\n",
    "I0 = 10.0 # (W/m^2)\n",
    "phi_s = 0 # (rad)\n",
    "theta_s = 0 # (rad)\n",
    "decay = 1000 # (?) - light (practically) only from directly above"
   ]
  },
  {
   "cell_type": "code",
   "execution_count": null,
   "metadata": {},
   "outputs": [],
   "source": [
    "# Variable parameters\n",
    "# Grid search over cartesian product\n",
    "# TODO: Find reasonable values for a_water and b\n",
    "a_water = [0.0, 0.1, 1.0, 10.0] # (%/m)\n",
    "b = [0.0, 0.1, 1.0, 10.0] # (%/m)\n",
    "# Number of x & y grid cells\n",
    "ns = [4, 6, 8, 12, 24] # (#), all must be factors of largest to avoid interpolation\n",
    "# Number of angular grid cells (Same for theta & phi)\n",
    "na = [4, 6, 8, 12, 24] # (#), same note as above, but cannot be odd."
   ]
  },
  {
   "cell_type": "code",
   "execution_count": null,
   "metadata": {},
   "outputs": [],
   "source": [
    "# Calculated or otherwise boring parameters\n",
    "xmin = 0\n",
    "xmax = rope_spacing\n",
    "ymin = 0\n",
    "ymax = rope_spacing"
   ]
  },
  {
   "cell_type": "code",
   "execution_count": null,
   "metadata": {},
   "outputs": [],
   "source": [
    "# Generate kelp\n",
    "f90.gen_kelp(\n",
    "    xmin, xmax,\n",
    "    ymin, ymax,\n",
    "    zmin, zmax,\n",
    "    frond_lengths,\n",
    "    frond_stds,\n",
    "    num_fronds,\n",
    "    water_speeds,\n",
    "    water_angles,\n",
    "    fs, fr, ft,\n",
    "    self.p_kelp\n",
    ")"
   ]
  },
  {
   "cell_type": "code",
   "execution_count": null,
   "metadata": {},
   "outputs": [],
   "source": [
    "# Calculate light field\n",
    "f90.calculate_light_field(\n",
    "    xmin, xmax,\n",
    "    ymin, ymax,\n",
    "    zmin, zmax,\n",
    "    ntheta, nphi,\n",
    "    a_water, a_kelp, b,\n",
    "    vsf_angles, vsf_vals,\n",
    "    theta_s, phi_s, max_rad, decay,\n",
    "    tol_abs, tol_rel, maxiter_inner, maxiter_outer,\n",
    "    p_kelp, self.radiance, self.irradiance,\n",
    "    num_scatters, gmres_flag, gmres_wrapper,\n",
    "    num_threads\n",
    ")"
   ]
  },
  {
   "cell_type": "code",
   "execution_count": 7,
   "metadata": {},
   "outputs": [
    {
     "data": {
      "text/plain": [
       "['AngleDim',\n",
       " 'BoundaryCondition',\n",
       " 'Frond',\n",
       " 'Grid',\n",
       " 'Kelp',\n",
       " 'Light',\n",
       " 'OpticalProperties',\n",
       " 'Params',\n",
       " 'Rope',\n",
       " 'SpaceDim',\n",
       " '__builtins__',\n",
       " '__cached__',\n",
       " '__doc__',\n",
       " '__file__',\n",
       " '__loader__',\n",
       " '__name__',\n",
       " '__package__',\n",
       " '__spec__',\n",
       " 'coo_matrix',\n",
       " 'f90',\n",
       " 'gmres',\n",
       " 'gmres_wrapper',\n",
       " 'ipv',\n",
       " 'leggauss',\n",
       " 'np',\n",
       " 'simps',\n",
       " 'tr']"
      ]
     },
     "execution_count": 7,
     "metadata": {},
     "output_type": "execute_result"
    }
   ],
   "source": [
    "dir(k3)"
   ]
  },
  {
   "cell_type": "code",
   "execution_count": null,
   "metadata": {},
   "outputs": [],
   "source": []
  }
 ],
 "metadata": {
  "kernelspec": {
   "display_name": "Python 3",
   "language": "python",
   "name": "python3"
  },
  "language_info": {
   "codemirror_mode": {
    "name": "ipython",
    "version": 3
   },
   "file_extension": ".py",
   "mimetype": "text/x-python",
   "name": "python",
   "nbconvert_exporter": "python",
   "pygments_lexer": "ipython3",
   "version": "3.5.5"
  }
 },
 "nbformat": 4,
 "nbformat_minor": 2
}
