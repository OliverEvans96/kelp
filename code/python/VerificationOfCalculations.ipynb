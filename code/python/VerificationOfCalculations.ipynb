{
 "cells": [
  {
   "cell_type": "markdown",
   "metadata": {},
   "source": [
    "# Imports"
   ]
  },
  {
   "cell_type": "code",
   "execution_count": 1,
   "metadata": {},
   "outputs": [],
   "source": [
    "%load_ext autoreload\n",
    "%autoreload 2"
   ]
  },
  {
   "cell_type": "code",
   "execution_count": 3,
   "metadata": {},
   "outputs": [],
   "source": [
    "# stdlib\n",
    "import os\n",
    "import shutil\n",
    "import sqlite3\n",
    "\n",
    "# 3rd party\n",
    "import ipyparallel as ipp\n",
    "import ipyvolume as ipv\n",
    "import ipywidgets as ipw\n",
    "import numpy as np\n",
    "from scipy.optimize import minimize\n",
    "import sympy as sp\n",
    "import matplotlib.pyplot as plt\n",
    "\n",
    "# local\n",
    "import convergence as conv\n",
    "import kelp_analyze\n",
    "import kelp_compute\n",
    "import mms\n",
    "import discrete_plot\n",
    "import run_utils as ru\n",
    "#from fortran_wrappers.light_utils_wrap import light_utils_wrap as lu"
   ]
  },
  {
   "cell_type": "markdown",
   "metadata": {},
   "source": [
    "## IPyParallel Setup"
   ]
  },
  {
   "cell_type": "code",
   "execution_count": 4,
   "metadata": {},
   "outputs": [
    {
     "name": "stdout",
     "output_type": "stream",
     "text": [
      "[0]\n"
     ]
    },
    {
     "name": "stderr",
     "output_type": "stream",
     "text": [
      "/home/oliver/local/miniconda3/envs/kelp/lib/python3.6/site-packages/ipyparallel/client/client.py:459: RuntimeWarning: \n",
      "            Controller appears to be listening on localhost, but not on this machine.\n",
      "            If this is true, you should specify Client(...,sshserver='you@oliver-arch')\n",
      "            or instruct your controller to listen on an external IP.\n",
      "  RuntimeWarning)\n"
     ]
    }
   ],
   "source": [
    "#remote_config = kelp_param.ParamSpanRemoteConfig()\n",
    "ipc = ipp.Client()\n",
    "lv = ipc.load_balanced_view()\n",
    "dv = ipc.direct_view()\n",
    "print(ipc.ids)"
   ]
  },
  {
   "cell_type": "code",
   "execution_count": 5,
   "metadata": {},
   "outputs": [
    {
     "data": {
      "text/plain": [
       "{'unassigned': 0, 0: {'queue': 0, 'completed': 80, 'tasks': 0}}"
      ]
     },
     "execution_count": 5,
     "metadata": {},
     "output_type": "execute_result"
    }
   ],
   "source": [
    "ipc.queue_status()"
   ]
  },
  {
   "cell_type": "markdown",
   "metadata": {},
   "source": [
    "# Calculations"
   ]
  },
  {
   "cell_type": "markdown",
   "metadata": {},
   "source": [
    "## Single Space"
   ]
  },
  {
   "cell_type": "markdown",
   "metadata": {},
   "source": [
    "### Compute"
   ]
  },
  {
   "cell_type": "code",
   "execution_count": 12,
   "metadata": {},
   "outputs": [],
   "source": [
    "from fortran_wrappers import pykelp3d_wrap as f90"
   ]
  },
  {
   "cell_type": "code",
   "execution_count": 13,
   "metadata": {},
   "outputs": [
    {
     "data": {
      "text/plain": [
       "\u001b[0;31mCall signature:\u001b[0m \u001b[0mf90\u001b[0m\u001b[0;34m.\u001b[0m\u001b[0mpykelp3d_wrap\u001b[0m\u001b[0;34m(\u001b[0m\u001b[0;34m*\u001b[0m\u001b[0margs\u001b[0m\u001b[0;34m,\u001b[0m \u001b[0;34m**\u001b[0m\u001b[0mkwargs\u001b[0m\u001b[0;34m)\u001b[0m\u001b[0;34m\u001b[0m\u001b[0m\n",
       "\u001b[0;31mType:\u001b[0m           fortran\n",
       "\u001b[0;31mString form:\u001b[0m    <fortran object>\n",
       "\u001b[0;31mDocstring:\u001b[0m     \n",
       "gen_kelp(xmin,xmax,ymin,ymax,zmin,zmax,frond_lengths,frond_stds,num_fronds,water_speeds,water_angles,fs,fr,ft,p_kelp,[nx,ny,nz])\n",
       "\n",
       "Wrapper for ``gen_kelp``.\n",
       "\n",
       "Parameters\n",
       "----------\n",
       "xmin : input float\n",
       "xmax : input float\n",
       "ymin : input float\n",
       "ymax : input float\n",
       "zmin : input float\n",
       "zmax : input float\n",
       "frond_lengths : input rank-1 array('d') with bounds (nz)\n",
       "frond_stds : input rank-1 array('d') with bounds (nz)\n",
       "num_fronds : input rank-1 array('d') with bounds (nz)\n",
       "water_speeds : input rank-1 array('d') with bounds (nz)\n",
       "water_angles : input rank-1 array('d') with bounds (nz)\n",
       "fs : input float\n",
       "fr : input float\n",
       "ft : input float\n",
       "p_kelp : input rank-3 array('d') with bounds (nx,ny,nz)\n",
       "\n",
       "Other Parameters\n",
       "----------------\n",
       "nx : input int, optional\n",
       "    Default: shape(p_kelp,0)\n",
       "ny : input int, optional\n",
       "    Default: shape(p_kelp,1)\n",
       "nz : input int, optional\n",
       "    Default: len(frond_lengths)\n",
       "calculate_light_field(xmin,xmax,ymin,ymax,zmin,zmax,ntheta,nphi,a_w,a_k,b,vsf_angles,vsf_vals,theta_s,phi_s,i0,decay,p_kelp,radiance,irradiance,num_scatters,num_threads,fd_flag,lis_opts,lis_iter,lis_time,lis_resid,[nx,ny,nz,num_vsf])\n",
       "\n",
       "Wrapper for ``calculate_light_field``.\n",
       "\n",
       "Parameters\n",
       "----------\n",
       "xmin : input float\n",
       "xmax : input float\n",
       "ymin : input float\n",
       "ymax : input float\n",
       "zmin : input float\n",
       "zmax : input float\n",
       "ntheta : input int\n",
       "nphi : input int\n",
       "a_w : input float\n",
       "a_k : input float\n",
       "b : input float\n",
       "vsf_angles : input rank-1 array('d') with bounds (num_vsf)\n",
       "vsf_vals : input rank-1 array('d') with bounds (num_vsf)\n",
       "theta_s : input float\n",
       "phi_s : input float\n",
       "i0 : input float\n",
       "decay : input float\n",
       "p_kelp : input rank-3 array('d') with bounds (nx,ny,nz)\n",
       "radiance : in/output rank-4 array('d') with bounds (nx,ny,nz,ntheta*(nphi-2)+2)\n",
       "irradiance : in/output rank-3 array('d') with bounds (nx,ny,nz)\n",
       "num_scatters : input int\n",
       "num_threads : input int\n",
       "fd_flag : input int\n",
       "lis_opts : input string(len=-1)\n",
       "lis_iter : in/output rank-0 array(int,'i')\n",
       "lis_time : in/output rank-0 array(float,'d')\n",
       "lis_resid : in/output rank-0 array(float,'d')\n",
       "\n",
       "Other Parameters\n",
       "----------------\n",
       "nx : input int, optional\n",
       "    Default: shape(p_kelp,0)\n",
       "ny : input int, optional\n",
       "    Default: shape(p_kelp,1)\n",
       "nz : input int, optional\n",
       "    Default: shape(p_kelp,2)\n",
       "num_vsf : input int, optional\n",
       "    Default: len(vsf_angles)\n",
       "solve_rte_with_callbacks(xmin,xmax,ymin,ymax,zmin,zmax,ntheta,nphi,b,abs_func,source_func,source_expansion_func,bc_func,vsf_func,radiance,irradiance,num_scatters,num_threads,fd_flag,lis_opts,lis_iter,lis_time,lis_resid,[nx,ny,nz,abs_func_extra_args,source_func_extra_args,source_expansion_func_extra_args,bc_func_extra_args,vsf_func_extra_args])\n",
       "\n",
       "Wrapper for ``solve_rte_with_callbacks``.\n",
       "\n",
       "Parameters\n",
       "----------\n",
       "xmin : input float\n",
       "xmax : input float\n",
       "ymin : input float\n",
       "ymax : input float\n",
       "zmin : input float\n",
       "zmax : input float\n",
       "ntheta : input int\n",
       "nphi : input int\n",
       "b : input float\n",
       "abs_func : call-back function\n",
       "source_func : call-back function\n",
       "source_expansion_func : call-back function\n",
       "bc_func : call-back function\n",
       "vsf_func : call-back function\n",
       "radiance : in/output rank-4 array('d') with bounds (nx,ny,nz,ntheta*(nphi-2)+2)\n",
       "irradiance : in/output rank-3 array('d') with bounds (nx,ny,nz)\n",
       "num_scatters : input int\n",
       "num_threads : input int\n",
       "fd_flag : input int\n",
       "lis_opts : input string(len=-1)\n",
       "lis_iter : in/output rank-0 array(int,'i')\n",
       "lis_time : in/output rank-0 array(float,'d')\n",
       "lis_resid : in/output rank-0 array(float,'d')\n",
       "\n",
       "Other Parameters\n",
       "----------------\n",
       "nx : input int, optional\n",
       "    Default: shape(radiance,0)\n",
       "ny : input int, optional\n",
       "    Default: shape(radiance,1)\n",
       "nz : input int, optional\n",
       "    Default: shape(radiance,2)\n",
       "abs_func_extra_args : input tuple, optional\n",
       "    Default: ()\n",
       "source_func_extra_args : input tuple, optional\n",
       "    Default: ()\n",
       "source_expansion_func_extra_args : input tuple, optional\n",
       "    Default: ()\n",
       "bc_func_extra_args : input tuple, optional\n",
       "    Default: ()\n",
       "vsf_func_extra_args : input tuple, optional\n",
       "    Default: ()\n",
       "\n",
       "Notes\n",
       "-----\n",
       "Call-back functions::\n",
       "\n",
       "  def abs_func(x1,y1,z1,[nx,ny,nz]): return tmp_spatial\n",
       "  Required arguments:\n",
       "    x1 : input rank-3 array('d') with bounds (nx,1,1)\n",
       "    y1 : input rank-3 array('d') with bounds (1,ny,1)\n",
       "    z1 : input rank-3 array('d') with bounds (1,1,nz)\n",
       "  Optional arguments:\n",
       "    nx : input int, optional\n",
       "    Default: shape(x1,0)\n",
       "    ny : input int, optional\n",
       "    Default: shape(y1,1)\n",
       "    nz : input int, optional\n",
       "    Default: shape(z1,2)\n",
       "  Return objects:\n",
       "    tmp_spatial : rank-3 array('d') with bounds (nx,ny,nz)\n",
       "  def source_func(x,y,z,theta,phi,n,[nx,ny,nz,nomega]): return source\n",
       "  Required arguments:\n",
       "    x : input rank-4 array('d') with bounds (nx,1,1,1)\n",
       "    y : input rank-4 array('d') with bounds (1,ny,1,1)\n",
       "    z : input rank-4 array('d') with bounds (1,1,nz,1)\n",
       "    theta : input rank-4 array('d') with bounds (1,1,1,nomega)\n",
       "    phi : input rank-4 array('d') with bounds (1,1,1,nomega)\n",
       "    n : input int\n",
       "  Optional arguments:\n",
       "    nx : input int, optional\n",
       "    Default: shape(x,0)\n",
       "    ny : input int, optional\n",
       "    Default: shape(y,1)\n",
       "    nz : input int, optional\n",
       "    Default: shape(z,2)\n",
       "    nomega : input int, optional\n",
       "    Default: shape(theta,3)\n",
       "  Return objects:\n",
       "    source : rank-4 array('d') with bounds (nx,ny,nz,nomega)\n",
       "  def source_expansion_func(x,y,z,theta,phi,n,num_scatters,[nx,ny,nz,nomega]): return source\n",
       "  Required arguments:\n",
       "    x : input rank-4 array('d') with bounds (nx,1,1,1)\n",
       "    y : input rank-4 array('d') with bounds (1,ny,1,1)\n",
       "    z : input rank-4 array('d') with bounds (1,1,nz,1)\n",
       "    theta : input rank-4 array('d') with bounds (1,1,1,nomega)\n",
       "    phi : input rank-4 array('d') with bounds (1,1,1,nomega)\n",
       "    n : input int\n",
       "    num_scatters : input int\n",
       "  Optional arguments:\n",
       "    nx : input int, optional\n",
       "    Default: shape(x,0)\n",
       "    ny : input int, optional\n",
       "    Default: shape(y,1)\n",
       "    nz : input int, optional\n",
       "    Default: shape(z,2)\n",
       "    nomega : input int, optional\n",
       "    Default: shape(theta,3)\n",
       "  Return objects:\n",
       "    source : rank-4 array('d') with bounds (nx,ny,nz,nomega)\n",
       "  def bc_func(theta1,phi1,[nomega]): return tmp_angular\n",
       "  Required arguments:\n",
       "    theta1 : input rank-1 array('d') with bounds (nomega)\n",
       "    phi1 : input rank-1 array('d') with bounds (nomega)\n",
       "  Optional arguments:\n",
       "    nomega : input int, optional\n",
       "    Default: len(theta1)\n",
       "  Return objects:\n",
       "    tmp_angular : rank-1 array('d') with bounds (nomega)\n",
       "  def vsf_func(tmp_vsf_cos,[num_vsf]): return tmp_vsf_vals\n",
       "  Required arguments:\n",
       "    tmp_vsf_cos : input rank-1 array('d') with bounds (num_vsf)\n",
       "  Optional arguments:\n",
       "    num_vsf : input int, optional\n",
       "    Default: len(tmp_vsf_cos)\n",
       "  Return objects:\n",
       "    tmp_vsf_vals : rank-1 array('d') with bounds (num_vsf)\n"
      ]
     },
     "metadata": {},
     "output_type": "display_data"
    }
   ],
   "source": [
    "f90.pykelp3d_wrap?"
   ]
  },
  {
   "cell_type": "code",
   "execution_count": 50,
   "metadata": {},
   "outputs": [
    {
     "name": "stdout",
     "output_type": "stream",
     "text": [
      "hi\n"
     ]
    }
   ],
   "source": [
    "print(\"hi\")"
   ]
  },
  {
   "cell_type": "code",
   "execution_count": 51,
   "metadata": {},
   "outputs": [
    {
     "data": {
      "text/plain": [
       "[False, False, False, False]"
      ]
     },
     "execution_count": 51,
     "metadata": {},
     "output_type": "execute_result"
    }
   ],
   "source": [
    "[f.done() for f in gs_fut]"
   ]
  },
  {
   "cell_type": "code",
   "execution_count": 57,
   "metadata": {},
   "outputs": [
    {
     "name": "stdout",
     "output_type": "stream",
     "text": [
      "a_kelp = 1749.9999999999998\n",
      "xmin = -5.0\n",
      "xmax = 5.0\n",
      "nx = 4\n",
      "ymin = -5.0\n",
      "ymax = 5.0\n",
      "ny = 4\n",
      "zmin = 0\n",
      "zmax = 10\n",
      "nz = 4\n",
      "frond_lengths.shape = (4,)\n",
      "frond_stds.shape = (4,)\n",
      "num_fronds.shape = (4,)\n",
      "water_speeds.shape = (4,)\n",
      "water_angles.shape = (4,)\n",
      "fs = 0.5\n",
      "fr = 5.0\n",
      "ft = 0.0004\n",
      "p_kelp.shape = (4, 4, 4)\n",
      "\n"
     ]
    }
   ],
   "source": [
    "print(gs_fut[0].stdout)"
   ]
  },
  {
   "cell_type": "code",
   "execution_count": 53,
   "metadata": {},
   "outputs": [],
   "source": [
    "te = TypeError(\"whoops.\")"
   ]
  },
  {
   "cell_type": "code",
   "execution_count": 87,
   "metadata": {
    "scrolled": true
   },
   "outputs": [
    {
     "name": "stdout",
     "output_type": "stream",
     "text": [
      "Creating new study directory.\n",
      "Reading existing runs.\n",
      "Finished reading existing runs.\n",
      "Calling kelp_calculate_scalar_metrics(0.5, 0, 4, 4, 8, 'none', 0, False, study_dir='/home/oliver/academic/research/kelp-results/verify_kelp_ss_sm_noscat_test_32x8', study_name='verify_kelp_ss_sm_noscat_test_32x8', lis_opts='', num_threads=None)\n",
      "\n",
      "Calling kelp_calculate_scalar_metrics(0.5, 0, 8, 8, 8, 'none', 0, False, study_dir='/home/oliver/academic/research/kelp-results/verify_kelp_ss_sm_noscat_test_32x8', study_name='verify_kelp_ss_sm_noscat_test_32x8', lis_opts='', num_threads=None)\n",
      "\n",
      "Calling kelp_calculate_scalar_metrics(0.5, 0, 16, 16, 8, 'none', 0, False, study_dir='/home/oliver/academic/research/kelp-results/verify_kelp_ss_sm_noscat_test_32x8', study_name='verify_kelp_ss_sm_noscat_test_32x8', lis_opts='', num_threads=None)\n",
      "\n",
      "Calling kelp_calculate_scalar_metrics(0.5, 0, 32, 32, 8, 'none', 0, False, study_dir='/home/oliver/academic/research/kelp-results/verify_kelp_ss_sm_noscat_test_32x8', study_name='verify_kelp_ss_sm_noscat_test_32x8', lis_opts='', num_threads=None)\n",
      "\n"
     ]
    },
    {
     "name": "stderr",
     "output_type": "stream",
     "text": [
      "/home/oliver/local/miniconda3/envs/kelp/lib/python3.6/site-packages/ipyparallel/client/client.py:459: RuntimeWarning: \n",
      "            Controller appears to be listening on localhost, but not on this machine.\n",
      "            If this is true, you should specify Client(...,sshserver='you@oliver-arch')\n",
      "            or instruct your controller to listen on an external IP.\n",
      "  RuntimeWarning)\n"
     ]
    },
    {
     "name": "stdout",
     "output_type": "stream",
     "text": [
      "Opening combined db: /home/oliver/academic/research/kelp-results/verify_kelp_ss_sm_noscat_test_32x8/verify_kelp_ss_sm_noscat_test_32x8.db\n",
      "Connected.\n",
      "Combining /home/oliver/academic/research/kelp-results/verify_kelp_ss_sm_noscat_test_32x8/data/6v8gjk8z.db (tables: ['verify_kelp_ss_sm_noscat_test_32x8', 'sqlite_sequence'])\n",
      "read.\n",
      "Creating table verify_kelp_ss_sm_noscat_test_32x8\n",
      "CREATING TABLE\n",
      "\n",
      "    CREATE TABLE verify_kelp_ss_sm_noscat_test_32x8 (\n",
      "        id INTEGER PRIMARY KEY AUTOINCREMENT,\n",
      "        data_path CHAR(1024),\n",
      "        absorptance_kelp REAL,\n",
      "        a_water REAL,\n",
      "        b INTEGER,\n",
      "        ns INTEGER,\n",
      "        na INTEGER,\n",
      "        nx INTEGER,\n",
      "        ny INTEGER,\n",
      "        nz INTEGER,\n",
      "        ntheta INTEGER,\n",
      "        nphi INTEGER,\n",
      "        nomega INTEGER,\n",
      "        num_dens INTEGER,\n",
      "        kelp_dist CHAR(1024),\n",
      "        fs REAL,\n",
      "        fr REAL,\n",
      "        ft REAL,\n",
      "        max_length REAL,\n",
      "        length_std REAL,\n",
      "        zmax INTEGER,\n",
      "        rope_spacing INTEGER,\n",
      "        I0 REAL,\n",
      "        phi_s REAL,\n",
      "        theta_s REAL,\n",
      "        decay REAL,\n",
      "        num_threads INTEGER,\n",
      "        num_scatters INTEGER,\n",
      "        fd_flag INTEGER,\n",
      "        lis_opts CHAR(1024),\n",
      "        date CHAR(1024),\n",
      "        git_commit CHAR(1024),\n",
      "        compute_time REAL,\n",
      "        lis_iter INTEGER,\n",
      "        lis_time REAL,\n",
      "        lis_resid REAL,\n",
      "        flux REAL,\n",
      "        pi_1 REAL,\n",
      "        pi_3 REAL,\n",
      "        pi_8 REAL\n",
      "    );\n",
      "col_names: ['id', 'data_path', 'absorptance_kelp', 'a_water', 'b', 'ns', 'na', 'nx', 'ny', 'nz', 'ntheta', 'nphi', 'nomega', 'num_dens', 'kelp_dist', 'fs', 'fr', 'ft', 'max_length', 'length_std', 'zmax', 'rope_spacing', 'I0', 'phi_s', 'theta_s', 'decay', 'num_threads', 'num_scatters', 'fd_flag', 'lis_opts', 'date', 'git_commit', 'compute_time', 'lis_iter', 'lis_time', 'lis_resid', 'flux', 'pi_1', 'pi_3', 'pi_8']\n",
      "Before try.\n",
      "INSERT INTO verify_kelp_ss_sm_noscat_test_32x8 VALUES (:id, :data_path, :absorptance_kelp, :a_water, :b, :ns, :na, :nx, :ny, :nz, :ntheta, :nphi, :nomega, :num_dens, :kelp_dist, :fs, :fr, :ft, :max_length, :length_std, :zmax, :rope_spacing, :I0, :phi_s, :theta_s, :decay, :num_threads, :num_scatters, :fd_flag, :lis_opts, :date, :git_commit, :compute_time, :lis_iter, :lis_time, :lis_resid, :flux, :pi_1, :pi_3, :pi_8);\n",
      "Executing command:\n",
      "INSERT INTO verify_kelp_ss_sm_noscat_test_32x8 VALUES (:id, :data_path, :absorptance_kelp, :a_water, :b, :ns, :na, :nx, :ny, :nz, :ntheta, :nphi, :nomega, :num_dens, :kelp_dist, :fs, :fr, :ft, :max_length, :length_std, :zmax, :rope_spacing, :I0, :phi_s, :theta_s, :decay, :num_threads, :num_scatters, :fd_flag, :lis_opts, :date, :git_commit, :compute_time, :lis_iter, :lis_time, :lis_resid, :flux, :pi_1, :pi_3, :pi_8);\n",
      "Combining /home/oliver/academic/research/kelp-results/verify_kelp_ss_sm_noscat_test_32x8/data/hd593kt0.db (tables: ['verify_kelp_ss_sm_noscat_test_32x8', 'sqlite_sequence'])\n",
      "read.\n",
      "Not creating table verify_kelp_ss_sm_noscat_test_32x8\n",
      "col_names: ['id', 'data_path', 'absorptance_kelp', 'a_water', 'b', 'ns', 'na', 'nx', 'ny', 'nz', 'ntheta', 'nphi', 'nomega', 'num_dens', 'kelp_dist', 'fs', 'fr', 'ft', 'max_length', 'length_std', 'zmax', 'rope_spacing', 'I0', 'phi_s', 'theta_s', 'decay', 'num_threads', 'num_scatters', 'fd_flag', 'lis_opts', 'date', 'git_commit', 'compute_time', 'lis_iter', 'lis_time', 'lis_resid', 'flux', 'pi_1', 'pi_3', 'pi_8']\n",
      "Before try.\n",
      "INSERT INTO verify_kelp_ss_sm_noscat_test_32x8 VALUES (:id, :data_path, :absorptance_kelp, :a_water, :b, :ns, :na, :nx, :ny, :nz, :ntheta, :nphi, :nomega, :num_dens, :kelp_dist, :fs, :fr, :ft, :max_length, :length_std, :zmax, :rope_spacing, :I0, :phi_s, :theta_s, :decay, :num_threads, :num_scatters, :fd_flag, :lis_opts, :date, :git_commit, :compute_time, :lis_iter, :lis_time, :lis_resid, :flux, :pi_1, :pi_3, :pi_8);\n",
      "Executing command:\n",
      "INSERT INTO verify_kelp_ss_sm_noscat_test_32x8 VALUES (:id, :data_path, :absorptance_kelp, :a_water, :b, :ns, :na, :nx, :ny, :nz, :ntheta, :nphi, :nomega, :num_dens, :kelp_dist, :fs, :fr, :ft, :max_length, :length_std, :zmax, :rope_spacing, :I0, :phi_s, :theta_s, :decay, :num_threads, :num_scatters, :fd_flag, :lis_opts, :date, :git_commit, :compute_time, :lis_iter, :lis_time, :lis_resid, :flux, :pi_1, :pi_3, :pi_8);\n",
      "Combining /home/oliver/academic/research/kelp-results/verify_kelp_ss_sm_noscat_test_32x8/data/str6pvls.db (tables: ['verify_kelp_ss_sm_noscat_test_32x8', 'sqlite_sequence'])\n",
      "read.\n",
      "Not creating table verify_kelp_ss_sm_noscat_test_32x8\n",
      "col_names: ['id', 'data_path', 'absorptance_kelp', 'a_water', 'b', 'ns', 'na', 'nx', 'ny', 'nz', 'ntheta', 'nphi', 'nomega', 'num_dens', 'kelp_dist', 'fs', 'fr', 'ft', 'max_length', 'length_std', 'zmax', 'rope_spacing', 'I0', 'phi_s', 'theta_s', 'decay', 'num_threads', 'num_scatters', 'fd_flag', 'lis_opts', 'date', 'git_commit', 'compute_time', 'lis_iter', 'lis_time', 'lis_resid', 'flux', 'pi_1', 'pi_3', 'pi_8']\n",
      "Before try.\n",
      "INSERT INTO verify_kelp_ss_sm_noscat_test_32x8 VALUES (:id, :data_path, :absorptance_kelp, :a_water, :b, :ns, :na, :nx, :ny, :nz, :ntheta, :nphi, :nomega, :num_dens, :kelp_dist, :fs, :fr, :ft, :max_length, :length_std, :zmax, :rope_spacing, :I0, :phi_s, :theta_s, :decay, :num_threads, :num_scatters, :fd_flag, :lis_opts, :date, :git_commit, :compute_time, :lis_iter, :lis_time, :lis_resid, :flux, :pi_1, :pi_3, :pi_8);\n",
      "Executing command:\n",
      "INSERT INTO verify_kelp_ss_sm_noscat_test_32x8 VALUES (:id, :data_path, :absorptance_kelp, :a_water, :b, :ns, :na, :nx, :ny, :nz, :ntheta, :nphi, :nomega, :num_dens, :kelp_dist, :fs, :fr, :ft, :max_length, :length_std, :zmax, :rope_spacing, :I0, :phi_s, :theta_s, :decay, :num_threads, :num_scatters, :fd_flag, :lis_opts, :date, :git_commit, :compute_time, :lis_iter, :lis_time, :lis_resid, :flux, :pi_1, :pi_3, :pi_8);\n",
      "Combining /home/oliver/academic/research/kelp-results/verify_kelp_ss_sm_noscat_test_32x8/data/0ke2d8ud.db (tables: ['verify_kelp_ss_sm_noscat_test_32x8', 'sqlite_sequence'])\n",
      "read.\n",
      "Not creating table verify_kelp_ss_sm_noscat_test_32x8\n",
      "col_names: ['id', 'data_path', 'absorptance_kelp', 'a_water', 'b', 'ns', 'na', 'nx', 'ny', 'nz', 'ntheta', 'nphi', 'nomega', 'num_dens', 'kelp_dist', 'fs', 'fr', 'ft', 'max_length', 'length_std', 'zmax', 'rope_spacing', 'I0', 'phi_s', 'theta_s', 'decay', 'num_threads', 'num_scatters', 'fd_flag', 'lis_opts', 'date', 'git_commit', 'compute_time', 'lis_iter', 'lis_time', 'lis_resid', 'flux', 'pi_1', 'pi_3', 'pi_8']\n",
      "Before try.\n",
      "INSERT INTO verify_kelp_ss_sm_noscat_test_32x8 VALUES (:id, :data_path, :absorptance_kelp, :a_water, :b, :ns, :na, :nx, :ny, :nz, :ntheta, :nphi, :nomega, :num_dens, :kelp_dist, :fs, :fr, :ft, :max_length, :length_std, :zmax, :rope_spacing, :I0, :phi_s, :theta_s, :decay, :num_threads, :num_scatters, :fd_flag, :lis_opts, :date, :git_commit, :compute_time, :lis_iter, :lis_time, :lis_resid, :flux, :pi_1, :pi_3, :pi_8);\n",
      "Executing command:\n",
      "INSERT INTO verify_kelp_ss_sm_noscat_test_32x8 VALUES (:id, :data_path, :absorptance_kelp, :a_water, :b, :ns, :na, :nx, :ny, :nz, :ntheta, :nphi, :nomega, :num_dens, :kelp_dist, :fs, :fr, :ft, :max_length, :length_std, :zmax, :rope_spacing, :I0, :phi_s, :theta_s, :decay, :num_threads, :num_scatters, :fd_flag, :lis_opts, :date, :git_commit, :compute_time, :lis_iter, :lis_time, :lis_resid, :flux, :pi_1, :pi_3, :pi_8);\n"
     ]
    }
   ],
   "source": [
    "# base_dir = os.path.join(os.environ['SCRATCH'], 'kelp-results')\n",
    "base_dir = '/home/oliver/academic/research/kelp-results'\n",
    "\n",
    "na = 8\n",
    "ns_list = [4, 8, 16, 32]\n",
    "\n",
    "study_name = 'verify_kelp_ss_sm_noscat_test_{}x{}'.format(max(ns_list), na)\n",
    "study_dir = os.path.join(base_dir, study_name)\n",
    "\n",
    "ntheta = na\n",
    "nphi = na\n",
    "\n",
    "# TODO: Don't actually delete results\n",
    "#shutil.rmtree(os.path.join(base_dir, study_name), ignore_errors=True)\n",
    "\n",
    "num_scatters = 0\n",
    "fd_flag = False\n",
    "\n",
    "a_water = 0.5\n",
    "b = 0\n",
    "kelp_dist = 'none'\n",
    "\n",
    "combine_thread, gs_fut = kelp_compute.verify_kelp_single_space_compute_scalar_metrics(\n",
    "    study_name, \n",
    "    a_water, b, ns_list, na, \n",
    "    kelp_dist, num_scatters, \n",
    "    fd_flag, lis_opts=None, num_threads=None,\n",
    "    base_dir=base_dir\n",
    ")"
   ]
  },
  {
   "cell_type": "markdown",
   "metadata": {},
   "source": [
    "### Plot"
   ]
  },
  {
   "cell_type": "code",
   "execution_count": 77,
   "metadata": {},
   "outputs": [
    {
     "name": "stdout",
     "output_type": "stream",
     "text": [
      "verify_kelp_ss_sm_noscat_test_32x8\n"
     ]
    }
   ],
   "source": [
    "print(study_name)\n",
    "db_path = os.path.join(study_dir, '{}.db'.format(study_name))\n",
    "conn = sqlite3.Connection(db_path)"
   ]
  },
  {
   "cell_type": "code",
   "execution_count": 88,
   "metadata": {},
   "outputs": [
    {
     "name": "stdout",
     "output_type": "stream",
     "text": [
      "err arr 0: [0.0064512  0.00776604 0.00935468 0.01127622 0.01360307 0.01642406\n",
      " 0.01984803 0.02400817 0.02906678 0.03522038 0.04270439 0.05179657\n",
      " 0.06281728 0.07612409 0.09209714 0.11111102 0.13348912 0.15943841\n",
      " 0.18896771 0.22180129]\n",
      "err arr 1: [0.00012668 0.0001807  0.00025718 0.00036509 0.00051676 0.00072894\n",
      " 0.00102402 0.00143152 0.00198939 0.002745   0.00375492 0.00508237\n",
      " 0.00679042 0.00892805 0.0115053  0.01445288 0.0175618  0.02040052\n",
      " 0.02221207 0.02180226]\n",
      "err arr 2: [6.65706456e-06 1.10981304e-05 1.87162157e-05 3.17666786e-05\n",
      " 5.40891821e-05 9.22035032e-05 1.57145786e-04 2.67527878e-04\n",
      " 4.54599439e-04 7.70555278e-04 1.30203531e-03 2.19180817e-03\n",
      " 3.67312002e-03 6.12322227e-03 1.01451978e-02 1.66902796e-02\n",
      " 2.72360799e-02 4.40389868e-02 7.04809266e-02 1.11531977e-01]\n",
      "err arr 3: [4.40418115e-07 4.31932513e-07 4.52181476e-07 9.06342662e-07\n",
      " 2.05671599e-06 4.52753454e-06 9.65530176e-06 2.01900754e-05\n",
      " 4.17445173e-05 8.57240303e-05 1.75215266e-04 3.56753102e-04\n",
      " 7.23680418e-04 1.46218156e-03 2.94121926e-03 5.88654426e-03\n",
      " 1.17136942e-02 2.31575740e-02 4.54472891e-02 8.84686043e-02]\n"
     ]
    },
    {
     "data": {
      "text/plain": [
       "<matplotlib.legend.Legend at 0x7f8d68053ef0>"
      ]
     },
     "execution_count": 88,
     "metadata": {},
     "output_type": "execute_result"
    },
    {
     "data": {
      "image/png": "[encoded data removed]",
      "text/plain": [
       "<Figure size 576x432 with 1 Axes>"
      ]
     },
     "metadata": {},
     "output_type": "display_data"
    },
    {
     "data": {
      "image/png": "[encoded data removed]",
      "text/plain": [
       "<Figure size 576x432 with 1 Axes>"
      ]
     },
     "metadata": {},
     "output_type": "display_data"
    }
   ],
   "source": [
    "#norm = lambda x: np.linalg.norm(np.ravel(x), ord=2)\n",
    "#norm = lambda x: np.sqrt(np.sum(x)**2/np.size(x))\n",
    "norm = lambda x: np.mean(np.abs(x))\n",
    "\n",
    "b_list, num_scatters_list = kelp_analyze.get_unique_vals(conn, study_name, ['b', 'num_scatters'])\n",
    "\n",
    "plt.figure(figsize=[8,6])\n",
    "\n",
    "true_rad_list = []\n",
    "asym_rad_list = []\n",
    "i_plot = 5\n",
    "for num_scatters in num_scatters_list:\n",
    "    err_list = []\n",
    "    for i, b in enumerate(b_list):\n",
    "        results_list = kelp_analyze.query_results(\n",
    "            conn, study_name,\n",
    "            b=b,\n",
    "            num_scatters=num_scatters,\n",
    "        )\n",
    "        \n",
    "        rad = results_list[0]['rad'][:]\n",
    "        true_rad = results_list[0]['true_rad'][:]\n",
    "\n",
    "        err = norm(rad - true_rad)\n",
    "        err_list.append(err)\n",
    "        \n",
    "        if i == i_plot:\n",
    "            asym_rad_list.append(rad)\n",
    "            true_rad_list.append(true_rad)\n",
    "\n",
    "    b_arr = np.array(b_list)[:]\n",
    "    err_arr = np.array(err_list)[:]\n",
    "    \n",
    "    print(\"err arr {}: {}\".format(num_scatters, err_arr))\n",
    "    conv.plot_lin_fit(\n",
    "        np.log10(b_arr), np.log10(err_arr), \n",
    "        min(-1+0*np.log(b_arr)), -.25+0*max(np.log(b_arr)), \n",
    "        xlabel='log10(b)', ylabel='log10(err)',\n",
    "        label='n=%d, m={m:.2f}' % num_scatters\n",
    "    )\n",
    "plt.title('')\n",
    "plt.legend()\n",
    "\n",
    "plt.figure(figsize=(8,6))\n",
    "grid = mms.gen_grid(ns, nz, ntheta, nphi, rope_spacing, zmax)\n",
    "plot_inds = np.zeros_like(grid[2], dtype=bool)\n",
    "plot_inds[0,0,:,0] = True\n",
    "z = grid[2][plot_inds]\n",
    "plt.plot(z, true_rad_list[0][plot_inds], 'ko-', label='true')\n",
    "for n in num_scatters_list:\n",
    "    plt.plot(z, asym_rad_list[n][plot_inds], 'C{}o-'.format(n), label='n={}'.format(n))\n",
    "\n",
    "plt.title('b={:.2e}'.format(b_list[i_plot]))\n",
    "plt.legend()"
   ]
  }
 ],
 "metadata": {
  "kernelspec": {
   "display_name": "Python 3 (kelp)",
   "language": "python",
   "name": "kelp"
  },
  "language_info": {
   "codemirror_mode": {
    "name": "ipython",
    "version": 3
   },
   "file_extension": ".py",
   "mimetype": "text/x-python",
   "name": "python",
   "nbconvert_exporter": "python",
   "pygments_lexer": "ipython3",
   "version": "3.6.5"
  }
 },
 "nbformat": 4,
 "nbformat_minor": 2
}
