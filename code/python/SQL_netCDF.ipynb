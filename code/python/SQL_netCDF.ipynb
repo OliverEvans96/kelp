{
 "cells": [
  {
   "cell_type": "markdown",
   "metadata": {},
   "source": [
    "# TODO:\n",
    "- Include more info from solver (maxiter, opts, iter, tol, etc.)"
   ]
  },
  {
   "cell_type": "markdown",
   "metadata": {},
   "source": [
    "# Imports"
   ]
  },
  {
   "cell_type": "code",
   "execution_count": null,
   "metadata": {},
   "outputs": [],
   "source": [
    "# stdlib\n",
    "import sqlite3\n",
    "from datetime import datetime\n",
    "import os\n",
    "\n",
    "# 3rd party\n",
    "import numpy as np\n",
    "import pandas as pd\n",
    "import netCDF4 as nc\n",
    "import tempfile"
   ]
  },
  {
   "cell_type": "code",
   "execution_count": null,
   "metadata": {},
   "outputs": [],
   "source": [
    "# Just for testing\n",
    "import shutil\n",
    "from IPython.display import display"
   ]
  },
  {
   "cell_type": "markdown",
   "metadata": {},
   "source": [
    "# Functions"
   ]
  },
  {
   "cell_type": "code",
   "execution_count": null,
   "metadata": {},
   "outputs": [],
   "source": [
    "def create_table(run_name, prefix='.'):\n",
    "    \"\"\"\n",
    "    Create sqlite db file, create table, and return connection.\n",
    "    Assume run_name is unique (e.g. includes date.)\n",
    "    \"\"\"\n",
    "    \n",
    "    create_table_template = '''\n",
    "    CREATE TABLE {db_name} (\n",
    "\n",
    "        /* Inputs */\n",
    "        id INTEGER PRIMARY KEY AUTOINCREMENT,\n",
    "        a_kelp REAL,\n",
    "        a_water REAL,\n",
    "        b REAL,\n",
    "        ns REAL,\n",
    "        nz REAL,\n",
    "        na REAL,\n",
    "        num_dens REAL,\n",
    "        kelp_dist CHAR(32),\n",
    "        fs REAL,\n",
    "        fr REAL,\n",
    "        ft REAL,\n",
    "        max_length REAL,\n",
    "        length_std REAL,\n",
    "        zmax REAL,\n",
    "        rope_spacing REAL,\n",
    "        date CHAR(64),\n",
    "\n",
    "        /* Outputs (NETCDF) \n",
    "        Contains:\n",
    "          - radiance (ns, ns, nz, na, na) \n",
    "          - irradiance (ns, ns, nz)\n",
    "          - p_kelp (ns, ns, nz)\n",
    "          - avg_irrad (nz)\n",
    "          - perc_irrad (nz)\n",
    "        */\n",
    "        results_path CHAR(256)\n",
    "        )\n",
    "    '''\n",
    "    \n",
    "    base_dir = os.path.join(prefix, run_name)\n",
    "    db_file = os.path.join(base_dir, run_name+'.db')\n",
    "    # Will fail if `run_name` is not unique in `prefix`\n",
    "    os.mkdir(base_dir)\n",
    "    \n",
    "    conn = sqlite3.connect(db_file)\n",
    "    conn.execute(create_table_template.format(db_name=run_name))\n",
    "    \n",
    "    return conn"
   ]
  },
  {
   "cell_type": "code",
   "execution_count": null,
   "metadata": {},
   "outputs": [],
   "source": [
    "def insert_run(conn, **params):\n",
    "    insert_template = '''\n",
    "    INSERT INTO {db_name} VALUES (\n",
    "        NULL, /* id (autoincrement) */\n",
    "        {a_kelp},\n",
    "        {a_water},\n",
    "        {b},\n",
    "        {ns},\n",
    "        {nz},\n",
    "        {na},\n",
    "        {num_dens},\n",
    "        '{kelp_dist}',\n",
    "        {fs},\n",
    "        {fr},\n",
    "        {ft},\n",
    "        {max_length},\n",
    "        {length_std},\n",
    "        {zmax},\n",
    "        {rope_spacing},\n",
    "        '{date}',\n",
    "        '{results_path}'\n",
    "        )\n",
    "    '''\n",
    "    \n",
    "    return conn.execute(insert_template.format(**params))"
   ]
  },
  {
   "cell_type": "code",
   "execution_count": null,
   "metadata": {},
   "outputs": [],
   "source": [
    "def create_nc(results_path, **results):\n",
    "    # Create file\n",
    "    rootgrp = nc.Dataset(results_path, 'w', format='NETCDF4')\n",
    "    \n",
    "    # Get dimension sizes\n",
    "    nx = len(results['x'])\n",
    "    ny = len(results['y'])\n",
    "    nz = len(results['z'])\n",
    "    ntheta = len(results['theta'])\n",
    "    nphi = len(results['phi'])\n",
    "    \n",
    "    # Create Dimensions\n",
    "    x = rootgrp.createDimension('x', nx)\n",
    "    y = rootgrp.createDimension('y', ny)\n",
    "    z = rootgrp.createDimension('z', nz)\n",
    "    theta = rootgrp.createDimension('theta', ntheta)\n",
    "    phi = rootgrp.createDimension('phi', nphi)\n",
    "    \n",
    "    # Create dimension variables\n",
    "    xvals = rootgrp.createVariable('x','f8', ('x',))\n",
    "    yvals = rootgrp.createVariable('y','f8', ('y',))\n",
    "    zvals = rootgrp.createVariable('z','f8', ('z',))\n",
    "    thetavals = rootgrp.createVariable('theta','f8', ('theta',))\n",
    "    phivals = rootgrp.createVariable('phi','f8', ('phi',))\n",
    "    \n",
    "    # Assign dimension variables\n",
    "    xvals[:] = results['x']\n",
    "    yvals[:] = results['y']\n",
    "    zvals[:] = results['z']\n",
    "    thetavals[:] = results['theta']\n",
    "    phivals[:] = results['phi']\n",
    "    \n",
    "    # Create results variables\n",
    "    rad = rootgrp.createVariable('rad','f8', ('x', 'y', 'z', 'theta', 'phi'))\n",
    "    irrad = rootgrp.createVariable('irrad','f8', ('x', 'y', 'z'))\n",
    "    avg_irrad = rootgrp.createVariable('avg_irrad','f8', ('z',))\n",
    "    perc_irrad = rootgrp.createVariable('perc_irrad','f8', ('z',))\n",
    "\n",
    "    # Assign results variables\n",
    "    rad[:] = results['rad']\n",
    "    irrad[:] = results['irrad']\n",
    "    avg_irrad[:] = results['avg_irrad']\n",
    "    perc_irrad[:] = results['perc_irrad']\n",
    "    \n",
    "    # Close file\n",
    "    rootgrp.close()"
   ]
  },
  {
   "cell_type": "code",
   "execution_count": null,
   "metadata": {},
   "outputs": [],
   "source": [
    "def get_random_unused_filename(dir='.', prefix='', suffix=''):\n",
    "    with tempfile.NamedTemporaryFile(dir=dir, prefix=prefix, suffix=suffix) as fh:\n",
    "        filename = fh.name\n",
    "    return filename"
   ]
  },
  {
   "cell_type": "markdown",
   "metadata": {},
   "source": [
    "# Test Functions"
   ]
  },
  {
   "cell_type": "code",
   "execution_count": null,
   "metadata": {},
   "outputs": [],
   "source": [
    "def create_phony_kelp(results_path):\n",
    "    ns, nz, na = np.random.randint(10, 20, size=3)\n",
    "    # Make sure na is even\n",
    "    if na % 2 == 1:\n",
    "        na -= 1\n",
    "        \n",
    "    a_kelp, a_water, b = np.random.rand(3)\n",
    "    num_dens = np.random.rand()\n",
    "    fs, fr, ft = np.random.rand(3)\n",
    "    kelp_dist = 'top-heavy'\n",
    "    max_length, length_std = np.random.rand(2)\n",
    "    zmax, rope_spacing = 10 * np.random.rand(2)\n",
    "    date = datetime.now().ctime()\n",
    "    \n",
    "    return {\n",
    "        'a_kelp': a_kelp,\n",
    "        'a_water': a_water,\n",
    "        'b': b,\n",
    "        'ns': ns,\n",
    "        'nz': nz,\n",
    "        'na': na,\n",
    "        'num_dens': num_dens,\n",
    "        'kelp_dist': kelp_dist,\n",
    "        'fs': fs,\n",
    "        'fr': fr,\n",
    "        'ft': ft,\n",
    "        'max_length': max_length,\n",
    "        'length_std': length_std,\n",
    "        'zmax': zmax,\n",
    "        'rope_spacing': rope_spacing,\n",
    "        'date': date,\n",
    "        'results_path': results_path\n",
    "    }"
   ]
  },
  {
   "cell_type": "code",
   "execution_count": null,
   "metadata": {},
   "outputs": [],
   "source": [
    "def create_phony_results(ns, nz, na):\n",
    "    results = {\n",
    "        # Dimension values\n",
    "        # These are grid-starts, not grid-centers, but it's phony anyhow.\n",
    "        'x': np.linspace(0, 1, ns),\n",
    "        'y': np.linspace(0, 1, ns),\n",
    "        'z': np.linspace(0, 1, nz),\n",
    "        'theta': np.linspace(0, 2*np.pi, na),\n",
    "        'phi': np.linspace(0, np.pi, na),\n",
    "        \n",
    "        # Results\n",
    "        'rad': np.random.rand(ns, ns, nz, na, na),\n",
    "        'irrad': np.random.rand(ns, ns, nz),\n",
    "        'avg_irrad': np.random.rand(nz),\n",
    "        'perc_irrad': np.random.rand(nz)\n",
    "    }\n",
    "    \n",
    "    return results"
   ]
  },
  {
   "cell_type": "code",
   "execution_count": null,
   "metadata": {},
   "outputs": [],
   "source": [
    "def run_phony(conn, run_name, base_dir):\n",
    "    results_path = get_random_unused_filename(dir=base_dir, suffix='.nc')\n",
    "    \n",
    "    params = create_phony_kelp(results_path)\n",
    "    ns = params['ns']\n",
    "    nz = params['nz']\n",
    "    na = params['na']\n",
    "    results = create_phony_results(ns, nz, na)\n",
    "    \n",
    "    create_nc(results_path, **results)\n",
    "    insert_run(conn, db_name=run_name, **params)\n",
    "\n",
    "def run_phony_set(run_name, prefix='.', num_entries=10):\n",
    "    base_dir = os.path.join(prefix, run_name)\n",
    "    conn = create_table(run_name, prefix)\n",
    "    for i in range(num_entries):\n",
    "        run_phony(conn, run_name, base_dir)\n",
    "        \n",
    "    return conn"
   ]
  },
  {
   "cell_type": "code",
   "execution_count": null,
   "metadata": {},
   "outputs": [],
   "source": [
    "def table_to_df(conn, table_name):\n",
    "    select_cmd = 'SELECT * FROM {table_name}'.format(table_name=table_name)\n",
    "    cursor = conn.execute(select_cmd)\n",
    "    columns = [col[0] for col in cursor.description]\n",
    "    data = [x for x in cursor]\n",
    "    \n",
    "    df = pd.DataFrame(data, columns=columns)\n",
    "    return df"
   ]
  },
  {
   "cell_type": "code",
   "execution_count": null,
   "metadata": {},
   "outputs": [],
   "source": [
    "def query_results(conn, table_name, **kwargs):\n",
    "    # Sanitize string values\n",
    "    for key, val in kwargs.items():\n",
    "        if isinstance(val, str):\n",
    "            kwargs[key] = '\"{}\"'.format(val)\n",
    "    \n",
    "    # Form SQL WHERE clause\n",
    "    where_clause = ' AND '.join([\n",
    "        '{}={}'.format(key, value)\n",
    "        for key, value in kwargs.items()\n",
    "    ])\n",
    "    \n",
    "    # Form entire query\n",
    "    query = '''SELECT results_path FROM {table_name}\n",
    "    WHERE {where_clause}\n",
    "    '''.format(\n",
    "        table_name=table_name,\n",
    "        where_clause=where_clause\n",
    "    )\n",
    "    \n",
    "    # Execute query\n",
    "    cursor = conn.execute(query)\n",
    "    results_list = [x for x in cursor]\n",
    "    \n",
    "    # Extract matching datasets\n",
    "    datasets = [nc.Dataset(results[-1]) for results in results_list]\n",
    "    return datasets"
   ]
  },
  {
   "cell_type": "markdown",
   "metadata": {},
   "source": [
    "# Test"
   ]
  },
  {
   "cell_type": "code",
   "execution_count": null,
   "metadata": {},
   "outputs": [],
   "source": [
    "run_name = 'test1'\n",
    "prefix='.'\n",
    "base_dir = os.path.join(prefix, run_name)\n",
    "\n",
    "# Remove dir if it exists\n",
    "shutil.rmtree(base_dir)\n",
    "\n",
    "# Run set\n",
    "conn = run_phony_set(run_name, prefix=prefix, num_entries=10)\n",
    "display(table_to_df(conn, run_name))"
   ]
  },
  {
   "cell_type": "markdown",
   "metadata": {},
   "source": [
    "# Look at results"
   ]
  },
  {
   "cell_type": "code",
   "execution_count": null,
   "metadata": {},
   "outputs": [],
   "source": [
    "ds, *_ = query_results(conn, 'test1', kelp_dist='top-heavy', id=2)"
   ]
  },
  {
   "cell_type": "code",
   "execution_count": null,
   "metadata": {},
   "outputs": [],
   "source": [
    "ds['z']"
   ]
  },
  {
   "cell_type": "code",
   "execution_count": null,
   "metadata": {},
   "outputs": [],
   "source": [
    "ds['z'][:]"
   ]
  },
  {
   "cell_type": "code",
   "execution_count": null,
   "metadata": {},
   "outputs": [],
   "source": [
    "ds['perc_irrad']"
   ]
  },
  {
   "cell_type": "code",
   "execution_count": null,
   "metadata": {},
   "outputs": [],
   "source": [
    "ds['perc_irrad'][:]"
   ]
  }
 ],
 "metadata": {
  "kernelspec": {
   "display_name": "Python 3",
   "language": "python",
   "name": "python3"
  },
  "language_info": {
   "codemirror_mode": {
    "name": "ipython",
    "version": 3
   },
   "file_extension": ".py",
   "mimetype": "text/x-python",
   "name": "python",
   "nbconvert_exporter": "python",
   "pygments_lexer": "ipython3",
   "version": "3.5.5"
  }
 },
 "nbformat": 4,
 "nbformat_minor": 2
}
