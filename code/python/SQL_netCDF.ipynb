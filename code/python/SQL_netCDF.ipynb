{
 "cells": [
  {
   "cell_type": "markdown",
   "metadata": {},
   "source": [
    "# Imports"
   ]
  },
  {
   "cell_type": "code",
   "execution_count": null,
   "metadata": {},
   "outputs": [],
   "source": [
    "# stdlib\n",
    "import shutil\n",
    "from datetime import datetime\n",
    "import os\n",
    "\n",
    "# 3rd party\n",
    "import numpy as np\n",
    "from IPython.display import display\n",
    "\n",
    "# local\n",
    "import kelp_compute as kc\n",
    "import kelp_analyze as ka"
   ]
  },
  {
   "cell_type": "markdown",
   "metadata": {},
   "source": [
    "# Test Functions"
   ]
  },
  {
   "cell_type": "code",
   "execution_count": null,
   "metadata": {},
   "outputs": [],
   "source": [
    "def create_phony_kelp(data_path):\n",
    "    ns, nz, na = np.random.randint(10, 20, size=3)\n",
    "    # Make sure na is even\n",
    "    if na % 2 == 1:\n",
    "        na -= 1\n",
    "        \n",
    "    absorptance_kelp, a_water, b = np.random.rand(3)\n",
    "    num_dens = np.random.rand()\n",
    "    fs, fr, ft = np.random.rand(3)\n",
    "    kelp_dist = 'top-heavy'\n",
    "    max_length, length_std = np.random.rand(2)\n",
    "    zmax, rope_spacing = 10 * np.random.rand(2)\n",
    "    date = datetime.now().ctime()\n",
    "    compute_time = 100 * np.random.rand()\n",
    "    git_commit = kc.get_git_commit_hash()\n",
    "    num_cores = np.random.randint(64)\n",
    "    num_scatters = np.random.randint(20)\n",
    "    fd_flag = np.random.randint(2)\n",
    "    lis_opts = '-i gmres -tol 1e-5'\n",
    "    lis_iter = np.random.randint(1000)\n",
    "    lis_time = 100 * np.random.rand()\n",
    "    lis_resid = 1e-5 * np.random.rand()\n",
    "    \n",
    "    return {\n",
    "        'absorptance_kelp': absorptance_kelp,\n",
    "        'a_water': a_water,\n",
    "        'b': b,\n",
    "        'ns': ns,\n",
    "        'nz': nz,\n",
    "        'na': na,\n",
    "        'num_dens': num_dens,\n",
    "        'kelp_dist': kelp_dist,\n",
    "        'fs': fs,\n",
    "        'fr': fr,\n",
    "        'ft': ft,\n",
    "        'max_length': max_length,\n",
    "        'length_std': length_std,\n",
    "        'zmax': zmax,\n",
    "        'rope_spacing': rope_spacing,\n",
    "        'date': date,\n",
    "        'compute_time': compute_time,\n",
    "        'git_commit': git_commit,\n",
    "        'num_cores': num_cores,\n",
    "        'num_scatters': num_scatters,\n",
    "        'fd_flag': fd_flag,\n",
    "        'lis_opts': lis_opts,\n",
    "        'lis_iter': lis_iter,\n",
    "        'lis_time': lis_time,\n",
    "        'lis_resid': lis_resid,\n",
    "        'data_path': data_path\n",
    "    }"
   ]
  },
  {
   "cell_type": "code",
   "execution_count": null,
   "metadata": {},
   "outputs": [],
   "source": [
    "def create_phony_results(ns, nz, na):\n",
    "    results = {\n",
    "        # Dimension values\n",
    "        # These are grid-starts, not grid-centers, but it's phony anyhow.\n",
    "        'x': np.linspace(0, 1, ns),\n",
    "        'y': np.linspace(0, 1, ns),\n",
    "        'z': np.linspace(0, 1, nz),\n",
    "        'theta': np.linspace(0, 2*np.pi, na),\n",
    "        'phi': np.linspace(0, np.pi, na),\n",
    "        \n",
    "        # Results\n",
    "        'rad': np.random.rand(ns, ns, nz, na, na),\n",
    "        'irrad': np.random.rand(ns, ns, nz),\n",
    "        'p_kelp': np.random.rand(ns, ns, nz),\n",
    "        'avg_irrad': np.random.rand(nz),\n",
    "        'perc_irrad': np.random.rand(nz)\n",
    "    }\n",
    "    \n",
    "    return results"
   ]
  },
  {
   "cell_type": "code",
   "execution_count": null,
   "metadata": {},
   "outputs": [],
   "source": [
    "def run_phony(conn, run_name, data_dir):\n",
    "    data_path = kc.get_random_unused_filename(dir=data_dir, suffix='.nc')\n",
    "    \n",
    "    metadata = create_phony_kelp(data_path)\n",
    "    ns = metadata['ns']\n",
    "    nz = metadata['nz']\n",
    "    na = metadata['na']\n",
    "    results = create_phony_results(ns, nz, na)\n",
    "    \n",
    "    kc.create_nc(**metadata, **results)\n",
    "    kc.insert_run(conn, db_name=run_name, **metadata)\n",
    "\n",
    "def run_phony_set(run_name, prefix='.', num_entries=10):\n",
    "    base_dir = os.path.join(prefix, run_name)\n",
    "    data_dir = os.path.join(base_dir, 'data')\n",
    "    conn = kc.create_table(run_name, prefix)\n",
    "    for i in range(num_entries):\n",
    "        run_phony(conn, run_name, data_dir)\n",
    "        \n",
    "    return conn"
   ]
  },
  {
   "cell_type": "markdown",
   "metadata": {},
   "source": [
    "# Test"
   ]
  },
  {
   "cell_type": "code",
   "execution_count": null,
   "metadata": {},
   "outputs": [],
   "source": [
    "run_name = 'test1'\n",
    "prefix='.'\n",
    "base_dir = os.path.join(prefix, run_name)\n",
    "\n",
    "# Remove dir if it exists\n",
    "shutil.rmtree(base_dir, ignore_errors=True)\n",
    "\n",
    "# Run set\n",
    "conn = run_phony_set(run_name, prefix=prefix, num_entries=10)\n",
    "display(ka.table_to_df(conn, run_name))"
   ]
  },
  {
   "cell_type": "markdown",
   "metadata": {},
   "source": [
    "# Look at results"
   ]
  },
  {
   "cell_type": "code",
   "execution_count": null,
   "metadata": {},
   "outputs": [],
   "source": [
    "ds, *_ = ka.query_results(conn, 'test1', kelp_dist='top-heavy', id=1)\n",
    "\n",
    "print(ds['z'])\n",
    "print(ds['z'][:])\n",
    "\n",
    "print(ds['perc_irrad'])\n",
    "print(ds['perc_irrad'][:])\n",
    "\n",
    "print(ds['compute_time'])\n",
    "print(ds['compute_time'][:])\n",
    "\n",
    "print(ds['git_commit'])\n",
    "print(ds['git_commit'][:])"
   ]
  }
 ],
 "metadata": {
  "kernelspec": {
   "display_name": "Python 3",
   "language": "python",
   "name": "python3"
  },
  "language_info": {
   "codemirror_mode": {
    "name": "ipython",
    "version": 3
   },
   "file_extension": ".py",
   "mimetype": "text/x-python",
   "name": "python",
   "nbconvert_exporter": "python",
   "pygments_lexer": "ipython3",
   "version": "3.6.5"
  }
 },
 "nbformat": 4,
 "nbformat_minor": 2
}
