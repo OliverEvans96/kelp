{
 "cells": [
  {
   "cell_type": "code",
   "execution_count": 1,
   "metadata": {},
   "outputs": [],
   "source": [
    "%load_ext autoreload\n",
    "%autoreload 2"
   ]
  },
  {
   "cell_type": "code",
   "execution_count": 22,
   "metadata": {},
   "outputs": [],
   "source": [
    "import numpy as np\n",
    "import sqlite3\n",
    "import ipyvolume as ipv\n",
    "import matplotlib.pyplot as plt\n",
    "from scipy.interpolate import interp1d\n",
    "\n",
    "import kelp_analyze\n",
    "import discrete_plot\n",
    "from uneven_diff import *\n",
    "\n",
    "%matplotlib inline"
   ]
  },
  {
   "cell_type": "markdown",
   "metadata": {},
   "source": [
    "# Compare similar fields, same spatial grid"
   ]
  },
  {
   "cell_type": "code",
   "execution_count": 3,
   "metadata": {},
   "outputs": [],
   "source": [
    "study_name = 'gs22all_top_heavy'\n",
    "base_dir = os.path.join(os.environ['SCRATCH'], 'kelp-results')\n",
    "study_dir = os.path.join(base_dir, study_name)\n",
    "db_path = os.path.join(study_dir, '{}.db'.format(study_name))\n",
    "\n",
    "conn = sqlite3.connect(db_path)\n",
    "compute_results = kelp_analyze.query_results(\n",
    "    conn,\n",
    "    study_name,\n",
    "    ns=22,\n",
    "    nz=22,\n",
    "    na=22\n",
    ")[0]\n",
    "conn.close()\n",
    "\n",
    "irrad = compute_results['irrad'][:]\n",
    "p_kelp = compute_results['p_kelp'][:]\n",
    "zmin = 0\n",
    "zmax = compute_results['zmax'][:]"
   ]
  },
  {
   "cell_type": "code",
   "execution_count": 4,
   "metadata": {},
   "outputs": [
    {
     "name": "stderr",
     "output_type": "stream",
     "text": [
      "/global/u2/o/oevans/python/packages/ipyvolume/ipyvolume/serialize.py:66: RuntimeWarning: invalid value encountered in true_divide\n",
      "  gradient = gradient / np.sqrt(gradient[0]**2 + gradient[1]**2 + gradient[2]**2)\n"
     ]
    },
    {
     "data": {
      "application/vnd.jupyter.widget-view+json": {
       "model_id": "aa5d45a29b3d405a810790b2228a8ffc",
       "version_major": 2,
       "version_minor": 0
      },
      "text/plain": [
       "VBox(children=(VBox(children=(HBox(children=(Label(value='levels:'), FloatSlider(value=0.1, max=1.0, step=0.00…"
      ]
     },
     "metadata": {},
     "output_type": "display_data"
    }
   ],
   "source": [
    "ns_list = range(6, 24, 2)\n",
    "nx_list = ny_list = ns_list\n",
    "nz_list = range(6, 24, 2)\n",
    "\n",
    "discrete_plot.volshow_zoom_correct_scale(\n",
    "    nx_list,\n",
    "    ny_list,\n",
    "    nz_list,\n",
    "    irrad,\n",
    "    zoom_factor=3\n",
    ")"
   ]
  },
  {
   "cell_type": "code",
   "execution_count": 5,
   "metadata": {},
   "outputs": [],
   "source": [
    "irrad_mod = irrad[:] * (1.01)\n",
    "avg_irrad = np.mean(irrad, axis=(0,1))\n",
    "avg_irrad_mod = np.mean(irrad_mod, axis=(0,1))"
   ]
  },
  {
   "cell_type": "code",
   "execution_count": 6,
   "metadata": {},
   "outputs": [
    {
     "data": {
      "text/plain": [
       "[<matplotlib.lines.Line2D at 0x2ac09615c4a8>]"
      ]
     },
     "execution_count": 6,
     "metadata": {},
     "output_type": "execute_result"
    },
    {
     "data": {
      "image/png": "[encoded data removed]",
      "text/plain": [
       "<matplotlib.figure.Figure at 0x2ac09615c5c0>"
      ]
     },
     "metadata": {},
     "output_type": "display_data"
    }
   ],
   "source": [
    "plt.plot(avg_irrad)\n",
    "plt.plot(avg_irrad_mod)"
   ]
  },
  {
   "cell_type": "code",
   "execution_count": 7,
   "metadata": {},
   "outputs": [],
   "source": [
    "rel_err = ((avg_irrad - avg_irrad_mod)/avg_irrad)"
   ]
  },
  {
   "cell_type": "code",
   "execution_count": 8,
   "metadata": {},
   "outputs": [
    {
     "data": {
      "text/plain": [
       "array([ 50.53313044,  40.41120083,  24.76004386,  17.17944164,\n",
       "        11.53884953,   9.61327729,   7.91174782,   6.72500026,\n",
       "         5.60258913,   4.75070597,   3.96870763,   3.3501097 ,\n",
       "         2.80357718,   2.35853921,   1.96899619,   1.65215683,\n",
       "         1.37752099,   1.1496687 ,   0.94908489,   0.78075289,\n",
       "         0.62931238,   0.49080476])"
      ]
     },
     "execution_count": 8,
     "metadata": {},
     "output_type": "execute_result"
    }
   ],
   "source": [
    "avg_irrad"
   ]
  },
  {
   "cell_type": "code",
   "execution_count": 9,
   "metadata": {},
   "outputs": [],
   "source": [
    "zm, i1, i2  = kelp_analyze.merge_diff_grids(zmin, zmax, avg_irrad, avg_irrad_mod)"
   ]
  },
  {
   "cell_type": "code",
   "execution_count": 10,
   "metadata": {},
   "outputs": [
    {
     "data": {
      "text/plain": [
       "[<matplotlib.lines.Line2D at 0x2ac0cf2c3160>]"
      ]
     },
     "execution_count": 10,
     "metadata": {},
     "output_type": "execute_result"
    },
    {
     "data": {
      "image/png": "[encoded data removed]",
      "text/plain": [
       "<matplotlib.figure.Figure at 0x2ac0cf2c3080>"
      ]
     },
     "metadata": {},
     "output_type": "display_data"
    }
   ],
   "source": [
    "plt.plot(zm[:-1], i1, label='i1 (orig)')\n",
    "plt.plot(zm[:-1], i2, label='i2 (mod)')"
   ]
  },
  {
   "cell_type": "code",
   "execution_count": 11,
   "metadata": {},
   "outputs": [
    {
     "data": {
      "text/plain": [
       "0.0099999999999999048"
      ]
     },
     "execution_count": 11,
     "metadata": {},
     "output_type": "execute_result"
    }
   ],
   "source": [
    "np.mean(np.abs((i2-i1)/i1))"
   ]
  },
  {
   "cell_type": "code",
   "execution_count": 12,
   "metadata": {},
   "outputs": [
    {
     "name": "stdout",
     "output_type": "stream",
     "text": [
      "rel_err = 0.009999999999999927\n"
     ]
    }
   ],
   "source": [
    "abs_err, rel_err = kelp_analyze.discrete_err(zmin, zmax, avg_irrad, avg_irrad_mod)\n",
    "print(\"rel_err = {}\".format(rel_err))"
   ]
  },
  {
   "cell_type": "markdown",
   "metadata": {},
   "source": [
    "Woohoo! That looks great!"
   ]
  },
  {
   "cell_type": "markdown",
   "metadata": {},
   "source": [
    "# Compare similar fields, resampled spatial grid"
   ]
  },
  {
   "cell_type": "markdown",
   "metadata": {},
   "source": [
    "## Resample"
   ]
  },
  {
   "cell_type": "code",
   "execution_count": 13,
   "metadata": {},
   "outputs": [],
   "source": [
    "def resample(xmin, xmax, y, n_new):\n",
    "    n = len(y)\n",
    "    dx = (xmax - xmin) / n\n",
    "    x = dx * (np.arange(n) + 0.5)\n",
    "    dx_new = (xmax - xmin) / n_new\n",
    "    x_new = dx_new * (np.arange(n_new) + 0.5)\n",
    "    f_interp = np.vectorize(interp1d(x, y, kind='linear', fill_value='extrapolate'))\n",
    "    y_new = f_interp(x_new)\n",
    "    return x_new, y_new"
   ]
  },
  {
   "cell_type": "code",
   "execution_count": 17,
   "metadata": {},
   "outputs": [
    {
     "data": {
      "text/plain": [
       "[<matplotlib.lines.Line2D at 0x2ac0cf390860>]"
      ]
     },
     "execution_count": 17,
     "metadata": {},
     "output_type": "execute_result"
    },
    {
     "data": {
      "image/png": "[encoded data removed]",
      "text/plain": [
       "<matplotlib.figure.Figure at 0x2ac0cf3909e8>"
      ]
     },
     "metadata": {},
     "output_type": "display_data"
    }
   ],
   "source": [
    "nz = len(avg_irrad)\n",
    "dz = (zmax - zmin) / nz\n",
    "z = dz * (np.arange(nz) + 0.5)\n",
    "\n",
    "n_resample = 14\n",
    "z_new, resampled_irrad = resample(zmin, zmax, avg_irrad, n_resample)\n",
    "plt.plot(z, avg_irrad, 'o-')\n",
    "plt.plot(z_new, resampled_irrad, 'o-')"
   ]
  },
  {
   "cell_type": "code",
   "execution_count": 18,
   "metadata": {},
   "outputs": [
    {
     "data": {
      "image/png": "[encoded data removed]",
      "text/plain": [
       "<matplotlib.figure.Figure at 0x2ac0cf4c74e0>"
      ]
     },
     "metadata": {},
     "output_type": "display_data"
    }
   ],
   "source": [
    "kelp_analyze.plot_discrete_diff(zmin, zmax, avg_irrad, resampled_irrad)"
   ]
  },
  {
   "cell_type": "code",
   "execution_count": 19,
   "metadata": {},
   "outputs": [
    {
     "name": "stdout",
     "output_type": "stream",
     "text": [
      "rel_err = 0.12624780731847568\n"
     ]
    }
   ],
   "source": [
    "abs_err, rel_err = kelp_analyze.discrete_err(zmin, zmax, avg_irrad, resampled_irrad)\n",
    "print(\"rel_err = {}\".format(rel_err))"
   ]
  },
  {
   "cell_type": "markdown",
   "metadata": {},
   "source": [
    "# Linear interpolation"
   ]
  },
  {
   "cell_type": "code",
   "execution_count": 23,
   "metadata": {},
   "outputs": [],
   "source": [
    "z_both, avg_irrad_both, resampled_irrad_both = merge_linear(z, z_new, avg_irrad, resampled_irrad)"
   ]
  },
  {
   "cell_type": "code",
   "execution_count": 24,
   "metadata": {},
   "outputs": [
    {
     "name": "stdout",
     "output_type": "stream",
     "text": [
      "rel_err = 0.025824562452005047\n"
     ]
    },
    {
     "data": {
      "image/png": "[encoded data removed]",
      "text/plain": [
       "<matplotlib.figure.Figure at 0x2ac0cf6db2e8>"
      ]
     },
     "metadata": {},
     "output_type": "display_data"
    }
   ],
   "source": [
    "plt.figure(figsize=[10,8])\n",
    "plt.plot(z_both, avg_irrad_both, 'C0o-', mfc=(0,0,0,0), mec='C0', ms=10)\n",
    "plt.plot(z, avg_irrad, 'o-', mec='C0', mfc='C0')\n",
    "\n",
    "plt.plot(z_both, resampled_irrad_both, 'C1o-', mfc=(0,0,0,0), mec='C1', ms=10)\n",
    "plt.plot(z_new, resampled_irrad, 'o-', mec='C1', mfc='C1')\n",
    "\n",
    "abs_err, rel_err = err_linear(z, z_new, avg_irrad, resampled_irrad)\n",
    "print(\"rel_err = {}\".format(rel_err))"
   ]
  },
  {
   "cell_type": "markdown",
   "metadata": {},
   "source": [
    "# Results:\n",
    "\n",
    "---\n",
    "\n",
    "Piecewise constant, positive area: \n",
    "\n",
    "```rel_err = 0.12624780731847568```\n",
    "\n",
    "Piecewise constant, diff. area:\n",
    "\n",
    "```rel_err = 0.0041056012284212025```\n",
    "\n",
    "---\n",
    "\n",
    "The discrete difference itself introduces quite a bit of error,\n",
    "so it seems that it would be better just to do the error\n",
    "based on linear interpolation.\n",
    "\n",
    "---\n",
    "\n",
    "Linear interpolation, extrapolate, positive area:\n",
    "\n",
    "```rel_err = 0.025824562452005047```\n",
    "\n",
    "Linear interpolation, extrapolate, diff. area:\n",
    "\n",
    "```rel_err = 0.0064762899759451525```\n",
    "\n",
    "---\n",
    "\n",
    "The linear interpolation also introduces some error, but less than the piecewise constant algorithm. I think it's best to go with linear interpolation, positive area, since it seems important to have positive area rather than net area.\n",
    "\n",
    "Perhaps it's possible to account for the error incurred solely due to resampling and eliminate this value?\n",
    "\n",
    "Either way, the linear 2% is not so bad compared to the 12% for piecewise constant ."
   ]
  },
  {
   "cell_type": "markdown",
   "metadata": {},
   "source": [
    "# TODO:\n",
    "\n",
    "- Try with identical grid, make sure linear interpolation shows 0% error when not modified, and correct 1% error when modified.\n",
    "- Compare linear and piecewise interpolation with induced error.\n"
   ]
  },
  {
   "cell_type": "markdown",
   "metadata": {},
   "source": [
    "# Summary"
   ]
  },
  {
   "cell_type": "markdown",
   "metadata": {},
   "source": [
    "## Resample"
   ]
  },
  {
   "cell_type": "code",
   "execution_count": 25,
   "metadata": {},
   "outputs": [
    {
     "name": "stdout",
     "output_type": "stream",
     "text": [
      "abs_err = 2.054e+00\n",
      "rel_err = 2.582e-02\n"
     ]
    }
   ],
   "source": [
    "z_resample, avg_irrad_resample = resample(zmin, zmax, avg_irrad, n_resample)\n",
    "abs_err, rel_err = err_linear(z, z_new, avg_irrad, avg_irrad_resample)\n",
    "print(\"abs_err = {:.3e}\".format(abs_err))\n",
    "print(\"rel_err = {:.3e}\".format(rel_err))"
   ]
  },
  {
   "cell_type": "markdown",
   "metadata": {},
   "source": [
    "## Mod"
   ]
  },
  {
   "cell_type": "code",
   "execution_count": 26,
   "metadata": {},
   "outputs": [
    {
     "name": "stdout",
     "output_type": "stream",
     "text": [
      "abs_err = 3.977e+00\n",
      "rel_err = 5.000e-02\n"
     ]
    }
   ],
   "source": [
    "mod_factor = 1.05\n",
    "avg_irrad_mod = avg_irrad * mod_factor\n",
    "abs_err, rel_err = err_linear(z, z, avg_irrad, avg_irrad_mod)\n",
    "print(\"abs_err = {:.3e}\".format(abs_err))\n",
    "print(\"rel_err = {:.3e}\".format(rel_err))"
   ]
  },
  {
   "cell_type": "markdown",
   "metadata": {},
   "source": [
    "## Resample, mod"
   ]
  },
  {
   "cell_type": "code",
   "execution_count": 27,
   "metadata": {},
   "outputs": [
    {
     "name": "stdout",
     "output_type": "stream",
     "text": [
      "abs_err = 4.690e+00\n",
      "rel_err = 5.897e-02\n"
     ]
    }
   ],
   "source": [
    "n_resample = 14\n",
    "mod_factor = 1.05\n",
    "z_resample, avg_irrad_resample = resample(zmin, zmax, avg_irrad, n_resample)\n",
    "avg_irrad_resample_mod = avg_irrad_resample * mod_factor\n",
    "abs_err, rel_err = err_linear(z, z_resample, avg_irrad, avg_irrad_resample_mod)\n",
    "print(\"abs_err = {:.3e}\".format(abs_err))\n",
    "print(\"rel_err = {:.3e}\".format(rel_err))"
   ]
  },
  {
   "cell_type": "markdown",
   "metadata": {},
   "source": [
    "## Mod, resample"
   ]
  },
  {
   "cell_type": "code",
   "execution_count": 28,
   "metadata": {},
   "outputs": [
    {
     "name": "stdout",
     "output_type": "stream",
     "text": [
      "abs_err = 4.690e+00\n",
      "rel_err = 5.897e-02\n"
     ]
    }
   ],
   "source": [
    "n_resample = 14\n",
    "mod_factor = 1.05\n",
    "avg_irrad_mod = avg_irrad_resample * mod_factor\n",
    "z_resample, avg_irrad_mod_resample = resample(zmin, zmax, avg_irrad_mod, n_resample)\n",
    "abs_err, rel_err = err_linear(z, z_resample, avg_irrad, avg_irrad_mod_resample)\n",
    "print(\"abs_err = {:.3e}\".format(abs_err))\n",
    "print(\"rel_err = {:.3e}\".format(rel_err))"
   ]
  },
  {
   "cell_type": "markdown",
   "metadata": {},
   "source": [
    "So it looks like although resampling alone introduces about a 2% error, it only accounts for a <1% error when combined with 5% scaling modification.\n",
    "\n",
    "So everything looks good! I'll use linear interpolation + integrate absolute difference to calculate errors between different grid spacings, and I'll expect it to be accurate to within a few percent."
   ]
  }
 ],
 "metadata": {
  "kernelspec": {
   "display_name": "Python 3",
   "language": "python",
   "name": "python3"
  },
  "language_info": {
   "codemirror_mode": {
    "name": "ipython",
    "version": 3
   },
   "file_extension": ".py",
   "mimetype": "text/x-python",
   "name": "python",
   "nbconvert_exporter": "python",
   "pygments_lexer": "ipython3",
   "version": "3.6.3"
  }
 },
 "nbformat": 4,
 "nbformat_minor": 2
}
