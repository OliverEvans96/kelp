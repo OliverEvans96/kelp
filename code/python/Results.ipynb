{
 "cells": [
  {
   "cell_type": "markdown",
   "metadata": {},
   "source": [
    "# Grid Study and Sensitivity Analysis"
   ]
  },
  {
   "cell_type": "code",
   "execution_count": 1,
   "metadata": {},
   "outputs": [],
   "source": [
    "%load_ext autoreload\n",
    "%autoreload 2"
   ]
  },
  {
   "cell_type": "code",
   "execution_count": 2,
   "metadata": {},
   "outputs": [],
   "source": [
    "#import kelp_param\n",
    "import kelp3d_objs as k3\n",
    "import ipyparallel as ipp\n",
    "import concurrent.futures as cf\n",
    "import itertools as it\n",
    "#from sympy import divisors\n",
    "import numpy as np\n",
    "import matplotlib.pyplot as plt\n",
    "from scipy import optimize as opt\n",
    "from scipy.interpolate import interp1d\n",
    "import ipyvolume as ipv\n",
    "\n",
    "import kelp_compute\n",
    "import kelp_analyze"
   ]
  },
  {
   "cell_type": "code",
   "execution_count": 3,
   "metadata": {},
   "outputs": [],
   "source": [
    "import sqlite3\n",
    "import shutil\n",
    "import os"
   ]
  },
  {
   "cell_type": "code",
   "execution_count": 4,
   "metadata": {},
   "outputs": [
    {
     "name": "stdout",
     "output_type": "stream",
     "text": [
      "[0]\n"
     ]
    },
    {
     "name": "stderr",
     "output_type": "stream",
     "text": [
      "/home/oliver/local/miniconda3/envs/kelp/lib/python3.6/site-packages/ipyparallel/client/client.py:459: RuntimeWarning: \n",
      "            Controller appears to be listening on localhost, but not on this machine.\n",
      "            If this is true, you should specify Client(...,sshserver='you@oliver-arch')\n",
      "            or instruct your controller to listen on an external IP.\n",
      "  RuntimeWarning)\n"
     ]
    }
   ],
   "source": [
    "#remote_config = kelp_param.ParamSpanRemoteConfig()\n",
    "ipc = ipp.Client()\n",
    "lv = ipc.load_balanced_view()\n",
    "dv = ipc.direct_view()\n",
    "print(ipc.ids)"
   ]
  },
  {
   "cell_type": "markdown",
   "metadata": {},
   "source": [
    "def cdkelp():\n",
    "    import os\n",
    "    os.chdir('/global/homes/o/oevans/kelp/code/python')\n",
    "dv.apply(cdkelp)"
   ]
  },
  {
   "cell_type": "markdown",
   "metadata": {},
   "source": [
    "### Define Constants"
   ]
  },
  {
   "cell_type": "code",
   "execution_count": 5,
   "metadata": {},
   "outputs": [],
   "source": [
    "# Hard-coded parameters\n",
    "rope_spacing = 5.0 # (m)\n",
    "zmin, zmax = 0.0, 10.0 # (m)\n",
    "\n",
    "# Light from above\n",
    "I0 = 50.0 # (W/m^2)\n",
    "phi_s = 0 # (rad)\n",
    "theta_s = 0 # (rad)\n",
    "decay = 0 # (?) - light (practically) only from directly above\n",
    "\n",
    "# Calculated or otherwise boring parameters\n",
    "xmin = -rope_spacing/2\n",
    "xmax = rope_spacing/2\n",
    "ymin = -rope_spacing/2\n",
    "ymax = rope_spacing/2\n",
    "\n",
    "# Solver parameters\n",
    "lis_options = \"-i gmres -restart 10000 -tol 1e-4\""
   ]
  },
  {
   "cell_type": "markdown",
   "metadata": {},
   "source": [
    "# Grid Study 1"
   ]
  },
  {
   "cell_type": "code",
   "execution_count": 79,
   "metadata": {
    "scrolled": true
   },
   "outputs": [
    {
     "name": "stderr",
     "output_type": "stream",
     "text": [
      "/home/oliver/local/miniconda3/envs/kelp/lib/python3.6/site-packages/ipyparallel/client/client.py:459: RuntimeWarning: \n",
      "            Controller appears to be listening on localhost, but not on this machine.\n",
      "            If this is true, you should specify Client(...,sshserver='you@oliver-arch')\n",
      "            or instruct your controller to listen on an external IP.\n",
      "  RuntimeWarning)\n"
     ]
    },
    {
     "name": "stdout",
     "output_type": "stream",
     "text": [
      "1 futures done.\n",
      "2 futures done.\n",
      "3 futures done.\n",
      "4 futures done.\n",
      "5 futures done.\n",
      "6 futures done.\n",
      "7 futures done.\n",
      "8 futures done.\n",
      "Combining ../../results/gs1/data/j_mu1vvb.db (tables: [('gs1',), ('sqlite_sequence',)])\n",
      "read.\n",
      "Combining ../../results/gs1/data/dv87v8gg.db (tables: [('gs1',), ('sqlite_sequence',)])\n",
      "read.\n",
      "Combining ../../results/gs1/data/tv2irwmz.db (tables: [('gs1',), ('sqlite_sequence',)])\n",
      "read.\n",
      "Combining ../../results/gs1/data/ip0a1krz.db (tables: [('gs1',), ('sqlite_sequence',)])\n",
      "read.\n",
      "Combining ../../results/gs1/data/pkh2i7hr.db (tables: [('gs1',), ('sqlite_sequence',)])\n",
      "read.\n",
      "Combining ../../results/gs1/data/ul9p4_jh.db (tables: [('gs1',), ('sqlite_sequence',)])\n",
      "read.\n",
      "Combining ../../results/gs1/data/3rjal7et.db (tables: [('gs1',), ('sqlite_sequence',)])\n",
      "read.\n",
      "Combining ../../results/gs1/data/0gohjv_b.db (tables: [('gs1',), ('sqlite_sequence',)])\n",
      "read.\n"
     ]
    }
   ],
   "source": [
    "# Set parameters\n",
    "study_name = 'gs1'\n",
    "a_water = 0.179\n",
    "b = 0.219\n",
    "kelp_dist='top-heavy'\n",
    "ns_max = 10\n",
    "nz_max = 10\n",
    "na_max = 10\n",
    "ns_list = range(4, ns_max+1, 2)\n",
    "nz_list = range(4, nz_max+1, 2)\n",
    "na_list = range(4, na_max+1, 2)\n",
    "lis_opts = '-i gmres -restart 100'\n",
    "# TODO: Make this default?\n",
    "base_dir = '../../results'\n",
    "\n",
    "ns_list = [4,6]\n",
    "nz_list = [4,6]\n",
    "na_list = [4,6]\n",
    "\n",
    "# TODO: Don't actually delete results\n",
    "shutil.rmtree(os.path.join(base_dir, study_name), ignore_errors=True)\n",
    "\n",
    "combine_thread, gs_fut = kelp_compute.grid_study_compute(\n",
    "    study_name, \n",
    "    a_water, b, kelp_dist,\n",
    "    ns_list, nz_list, na_list,\n",
    "    lis_opts, base_dir=base_dir\n",
    ")"
   ]
  },
  {
   "cell_type": "code",
   "execution_count": 80,
   "metadata": {},
   "outputs": [
    {
     "name": "stdout",
     "output_type": "stream",
     "text": [
      "a_kelp = 2000.0\n",
      "xmin = -7.5\n",
      "xmax = 7.5\n",
      "nx = 4\n",
      "ymin = -7.5\n",
      "ymax = 7.5\n",
      "ny = 4\n",
      "zmin = 0\n",
      "zmax = 10\n",
      "nz = 4\n",
      "frond_lengths.shape = (4,)\n",
      "frond_stds.shape = (4,)\n",
      "num_fronds.shape = (4,)\n",
      "water_speeds.shape = (4,)\n",
      "water_angles.shape = (4,)\n",
      "fs = 0.5\n",
      "fr = 5.0\n",
      "ft = 0.0004\n",
      "p_kelp.shape = (4, 4, 4)\n",
      "Just after CLF:\n",
      "lis_iter = [89]\n",
      "lis_time = [0.02036905]\n",
      "lis_resid = [8.87576092e-13]\n",
      "BEFORE SAVING THE VALUES, A MESSAGE.\n",
      "lis_iter = 89\n",
      "lis_time = 0.02036905288696289\n",
      "lis_resid = 8.875760917756554e-13\n",
      "absorptance_kelp: 0.8 (<class 'float'>)\n",
      "a_water: 0.179 (<class 'float'>)\n",
      "b: 0.219 (<class 'float'>)\n",
      "ns: 4 (<class 'int'>)\n",
      "na: 4 (<class 'int'>)\n",
      "nx: 4 (<class 'int'>)\n",
      "ny: 4 (<class 'int'>)\n",
      "nz: 4 (<class 'int'>)\n",
      "ntheta: 4 (<class 'int'>)\n",
      "nphi: 4 (<class 'int'>)\n",
      "nomega: 10 (<class 'int'>)\n",
      "num_dens: 150 (<class 'int'>)\n",
      "kelp_dist: top-heavy (<class 'str'>)\n",
      "CREATE STR VAR: ('kelp_dist', 'S9', 'kelp_dist_dim')\n",
      "fs: 0.5 (<class 'float'>)\n",
      "fr: 5.0 (<class 'float'>)\n",
      "ft: 0.0004 (<class 'float'>)\n",
      "max_length: 6.0 (<class 'float'>)\n",
      "length_std: 1.2000000000000002 (<class 'float'>)\n",
      "zmax: 10 (<class 'int'>)\n",
      "rope_spacing: 15 (<class 'int'>)\n",
      "I0: 50.0 (<class 'float'>)\n",
      "phi_s: 0.0 (<class 'float'>)\n",
      "theta_s: 0.0 (<class 'float'>)\n",
      "decay: 1.0 (<class 'float'>)\n",
      "num_cores: 4 (<class 'int'>)\n",
      "num_scatters: 1 (<class 'int'>)\n",
      "fd_flag: 1 (<class 'int'>)\n",
      "lis_opts: -i gmres -restart 100 (<class 'str'>)\n",
      "CREATE STR VAR: ('lis_opts', 'S21', 'lis_opts_dim')\n",
      "date: Fri Jul 13 10:06:38 2018 (<class 'str'>)\n",
      "CREATE STR VAR: ('date', 'S24', 'date_dim')\n",
      "git_commit: 7254b1a7ea1e8ab80e3b37751531f92c86d482e1 (<class 'str'>)\n",
      "CREATE STR VAR: ('git_commit', 'S40', 'git_commit_dim')\n",
      "compute_time: 0.03524661064147949 (<class 'float'>)\n",
      "lis_iter: 89 (<class 'int'>)\n",
      "lis_time: 0.02036905288696289 (<class 'float'>)\n",
      "lis_resid: 8.875760917756554e-13 (<class 'float'>)\n",
      "\n"
     ]
    }
   ],
   "source": [
    "for fut in gs_fut[:1]:\n",
    "    print(fut.stdout)"
   ]
  },
  {
   "cell_type": "code",
   "execution_count": 65,
   "metadata": {},
   "outputs": [
    {
     "name": "stdout",
     "output_type": "stream",
     "text": [
      "\u001b[0m\u001b[00m2pumfapm.db\u001b[0m  \u001b[00m8xjg9euy.nc\u001b[0m  \u001b[00mf13947h5.db\u001b[0m  \u001b[00ml3k0tayn.nc\u001b[0m  \u001b[00mvu4m9zwi.db\u001b[0m  \u001b[00myoy0ydbr.nc\u001b[0m\n",
      "\u001b[00m2pumfapm.nc\u001b[0m  \u001b[00mbneuq9es.db\u001b[0m  \u001b[00mf13947h5.nc\u001b[0m  \u001b[00mp5681vgf.db\u001b[0m  \u001b[00mvu4m9zwi.nc\u001b[0m\n",
      "\u001b[00m8xjg9euy.db\u001b[0m  \u001b[00mbneuq9es.nc\u001b[0m  \u001b[00ml3k0tayn.db\u001b[0m  \u001b[00mp5681vgf.nc\u001b[0m  \u001b[00myoy0ydbr.db\u001b[0m\n"
     ]
    }
   ],
   "source": [
    "ls ../../results/gs1/data/"
   ]
  },
  {
   "cell_type": "code",
   "execution_count": 67,
   "metadata": {
    "scrolled": true
   },
   "outputs": [
    {
     "data": {
      "text/plain": [
       "[None, None, None, None, None, None, None, None]"
      ]
     },
     "execution_count": 67,
     "metadata": {},
     "output_type": "execute_result"
    }
   ],
   "source": [
    "[f.result() for f in gs_fut]"
   ]
  },
  {
   "cell_type": "code",
   "execution_count": 81,
   "metadata": {
    "scrolled": true
   },
   "outputs": [
    {
     "name": "stdout",
     "output_type": "stream",
     "text": [
      "Connecting to ../../results/gs1/gs1.db\n"
     ]
    },
    {
     "data": {
      "text/html": [
       "<div>\n",
       "<style scoped>\n",
       "    .dataframe tbody tr th:only-of-type {\n",
       "        vertical-align: middle;\n",
       "    }\n",
       "\n",
       "    .dataframe tbody tr th {\n",
       "        vertical-align: top;\n",
       "    }\n",
       "\n",
       "    .dataframe thead th {\n",
       "        text-align: right;\n",
       "    }\n",
       "</style>\n",
       "<table border=\"1\" class=\"dataframe\">\n",
       "  <thead>\n",
       "    <tr style=\"text-align: right;\">\n",
       "      <th></th>\n",
       "      <th>id</th>\n",
       "      <th>absorptance_kelp</th>\n",
       "      <th>a_water</th>\n",
       "      <th>b</th>\n",
       "      <th>ns</th>\n",
       "      <th>nz</th>\n",
       "      <th>na</th>\n",
       "      <th>num_dens</th>\n",
       "      <th>kelp_dist</th>\n",
       "      <th>fs</th>\n",
       "      <th>...</th>\n",
       "      <th>num_scatters</th>\n",
       "      <th>fd_flag</th>\n",
       "      <th>lis_opts</th>\n",
       "      <th>date</th>\n",
       "      <th>git_commit</th>\n",
       "      <th>compute_time</th>\n",
       "      <th>lis_iter</th>\n",
       "      <th>lis_time</th>\n",
       "      <th>lis_resid</th>\n",
       "      <th>data_path</th>\n",
       "    </tr>\n",
       "  </thead>\n",
       "  <tbody>\n",
       "    <tr>\n",
       "      <th>0</th>\n",
       "      <td>1</td>\n",
       "      <td>0.8</td>\n",
       "      <td>0.179</td>\n",
       "      <td>0.219</td>\n",
       "      <td>6.0</td>\n",
       "      <td>4.0</td>\n",
       "      <td>6.0</td>\n",
       "      <td>150.0</td>\n",
       "      <td>top-heavy</td>\n",
       "      <td>0.5</td>\n",
       "      <td>...</td>\n",
       "      <td>1</td>\n",
       "      <td>1</td>\n",
       "      <td>-i gmres -restart 100</td>\n",
       "      <td>Fri Jul 13 10:06:39 2018</td>\n",
       "      <td>7254b1a7ea1e8ab80e3b37751531f92c86d482e1</td>\n",
       "      <td>0.078905</td>\n",
       "      <td>142</td>\n",
       "      <td>0.061314</td>\n",
       "      <td>9.449105e-13</td>\n",
       "      <td>/home/oliver/academic/research/kelp/results/gs...</td>\n",
       "    </tr>\n",
       "    <tr>\n",
       "      <th>1</th>\n",
       "      <td>2</td>\n",
       "      <td>0.8</td>\n",
       "      <td>0.179</td>\n",
       "      <td>0.219</td>\n",
       "      <td>6.0</td>\n",
       "      <td>4.0</td>\n",
       "      <td>4.0</td>\n",
       "      <td>150.0</td>\n",
       "      <td>top-heavy</td>\n",
       "      <td>0.5</td>\n",
       "      <td>...</td>\n",
       "      <td>1</td>\n",
       "      <td>1</td>\n",
       "      <td>-i gmres -restart 100</td>\n",
       "      <td>Fri Jul 13 10:06:39 2018</td>\n",
       "      <td>7254b1a7ea1e8ab80e3b37751531f92c86d482e1</td>\n",
       "      <td>0.055441</td>\n",
       "      <td>131</td>\n",
       "      <td>0.043421</td>\n",
       "      <td>8.496240e-13</td>\n",
       "      <td>/home/oliver/academic/research/kelp/results/gs...</td>\n",
       "    </tr>\n",
       "    <tr>\n",
       "      <th>2</th>\n",
       "      <td>3</td>\n",
       "      <td>0.8</td>\n",
       "      <td>0.179</td>\n",
       "      <td>0.219</td>\n",
       "      <td>4.0</td>\n",
       "      <td>4.0</td>\n",
       "      <td>4.0</td>\n",
       "      <td>150.0</td>\n",
       "      <td>top-heavy</td>\n",
       "      <td>0.5</td>\n",
       "      <td>...</td>\n",
       "      <td>1</td>\n",
       "      <td>1</td>\n",
       "      <td>-i gmres -restart 100</td>\n",
       "      <td>Fri Jul 13 10:06:38 2018</td>\n",
       "      <td>7254b1a7ea1e8ab80e3b37751531f92c86d482e1</td>\n",
       "      <td>0.035247</td>\n",
       "      <td>89</td>\n",
       "      <td>0.020369</td>\n",
       "      <td>8.875761e-13</td>\n",
       "      <td>/home/oliver/academic/research/kelp/results/gs...</td>\n",
       "    </tr>\n",
       "    <tr>\n",
       "      <th>3</th>\n",
       "      <td>4</td>\n",
       "      <td>0.8</td>\n",
       "      <td>0.179</td>\n",
       "      <td>0.219</td>\n",
       "      <td>4.0</td>\n",
       "      <td>4.0</td>\n",
       "      <td>6.0</td>\n",
       "      <td>150.0</td>\n",
       "      <td>top-heavy</td>\n",
       "      <td>0.5</td>\n",
       "      <td>...</td>\n",
       "      <td>1</td>\n",
       "      <td>1</td>\n",
       "      <td>-i gmres -restart 100</td>\n",
       "      <td>Fri Jul 13 10:06:38 2018</td>\n",
       "      <td>7254b1a7ea1e8ab80e3b37751531f92c86d482e1</td>\n",
       "      <td>0.042630</td>\n",
       "      <td>108</td>\n",
       "      <td>0.031387</td>\n",
       "      <td>8.556907e-13</td>\n",
       "      <td>/home/oliver/academic/research/kelp/results/gs...</td>\n",
       "    </tr>\n",
       "    <tr>\n",
       "      <th>4</th>\n",
       "      <td>5</td>\n",
       "      <td>0.8</td>\n",
       "      <td>0.179</td>\n",
       "      <td>0.219</td>\n",
       "      <td>6.0</td>\n",
       "      <td>6.0</td>\n",
       "      <td>4.0</td>\n",
       "      <td>150.0</td>\n",
       "      <td>top-heavy</td>\n",
       "      <td>0.5</td>\n",
       "      <td>...</td>\n",
       "      <td>1</td>\n",
       "      <td>1</td>\n",
       "      <td>-i gmres -restart 100</td>\n",
       "      <td>Fri Jul 13 10:06:40 2018</td>\n",
       "      <td>7254b1a7ea1e8ab80e3b37751531f92c86d482e1</td>\n",
       "      <td>0.055813</td>\n",
       "      <td>158</td>\n",
       "      <td>0.045524</td>\n",
       "      <td>9.931858e-13</td>\n",
       "      <td>/home/oliver/academic/research/kelp/results/gs...</td>\n",
       "    </tr>\n",
       "    <tr>\n",
       "      <th>5</th>\n",
       "      <td>6</td>\n",
       "      <td>0.8</td>\n",
       "      <td>0.179</td>\n",
       "      <td>0.219</td>\n",
       "      <td>6.0</td>\n",
       "      <td>6.0</td>\n",
       "      <td>6.0</td>\n",
       "      <td>150.0</td>\n",
       "      <td>top-heavy</td>\n",
       "      <td>0.5</td>\n",
       "      <td>...</td>\n",
       "      <td>1</td>\n",
       "      <td>1</td>\n",
       "      <td>-i gmres -restart 100</td>\n",
       "      <td>Fri Jul 13 10:06:40 2018</td>\n",
       "      <td>7254b1a7ea1e8ab80e3b37751531f92c86d482e1</td>\n",
       "      <td>0.151811</td>\n",
       "      <td>178</td>\n",
       "      <td>0.126221</td>\n",
       "      <td>9.799112e-13</td>\n",
       "      <td>/home/oliver/academic/research/kelp/results/gs...</td>\n",
       "    </tr>\n",
       "    <tr>\n",
       "      <th>6</th>\n",
       "      <td>7</td>\n",
       "      <td>0.8</td>\n",
       "      <td>0.179</td>\n",
       "      <td>0.219</td>\n",
       "      <td>4.0</td>\n",
       "      <td>6.0</td>\n",
       "      <td>6.0</td>\n",
       "      <td>150.0</td>\n",
       "      <td>top-heavy</td>\n",
       "      <td>0.5</td>\n",
       "      <td>...</td>\n",
       "      <td>1</td>\n",
       "      <td>1</td>\n",
       "      <td>-i gmres -restart 100</td>\n",
       "      <td>Fri Jul 13 10:06:39 2018</td>\n",
       "      <td>7254b1a7ea1e8ab80e3b37751531f92c86d482e1</td>\n",
       "      <td>0.078874</td>\n",
       "      <td>148</td>\n",
       "      <td>0.057598</td>\n",
       "      <td>6.877779e-13</td>\n",
       "      <td>/home/oliver/academic/research/kelp/results/gs...</td>\n",
       "    </tr>\n",
       "    <tr>\n",
       "      <th>7</th>\n",
       "      <td>8</td>\n",
       "      <td>0.8</td>\n",
       "      <td>0.179</td>\n",
       "      <td>0.219</td>\n",
       "      <td>4.0</td>\n",
       "      <td>6.0</td>\n",
       "      <td>4.0</td>\n",
       "      <td>150.0</td>\n",
       "      <td>top-heavy</td>\n",
       "      <td>0.5</td>\n",
       "      <td>...</td>\n",
       "      <td>1</td>\n",
       "      <td>1</td>\n",
       "      <td>-i gmres -restart 100</td>\n",
       "      <td>Fri Jul 13 10:06:38 2018</td>\n",
       "      <td>7254b1a7ea1e8ab80e3b37751531f92c86d482e1</td>\n",
       "      <td>0.045505</td>\n",
       "      <td>134</td>\n",
       "      <td>0.032011</td>\n",
       "      <td>9.932545e-13</td>\n",
       "      <td>/home/oliver/academic/research/kelp/results/gs...</td>\n",
       "    </tr>\n",
       "  </tbody>\n",
       "</table>\n",
       "<p>8 rows × 31 columns</p>\n",
       "</div>"
      ],
      "text/plain": [
       "   id  absorptance_kelp  a_water      b   ns   nz   na  num_dens  kelp_dist  \\\n",
       "0   1               0.8    0.179  0.219  6.0  4.0  6.0     150.0  top-heavy   \n",
       "1   2               0.8    0.179  0.219  6.0  4.0  4.0     150.0  top-heavy   \n",
       "2   3               0.8    0.179  0.219  4.0  4.0  4.0     150.0  top-heavy   \n",
       "3   4               0.8    0.179  0.219  4.0  4.0  6.0     150.0  top-heavy   \n",
       "4   5               0.8    0.179  0.219  6.0  6.0  4.0     150.0  top-heavy   \n",
       "5   6               0.8    0.179  0.219  6.0  6.0  6.0     150.0  top-heavy   \n",
       "6   7               0.8    0.179  0.219  4.0  6.0  6.0     150.0  top-heavy   \n",
       "7   8               0.8    0.179  0.219  4.0  6.0  4.0     150.0  top-heavy   \n",
       "\n",
       "    fs                        ...                          num_scatters  \\\n",
       "0  0.5                        ...                                     1   \n",
       "1  0.5                        ...                                     1   \n",
       "2  0.5                        ...                                     1   \n",
       "3  0.5                        ...                                     1   \n",
       "4  0.5                        ...                                     1   \n",
       "5  0.5                        ...                                     1   \n",
       "6  0.5                        ...                                     1   \n",
       "7  0.5                        ...                                     1   \n",
       "\n",
       "   fd_flag               lis_opts                      date  \\\n",
       "0        1  -i gmres -restart 100  Fri Jul 13 10:06:39 2018   \n",
       "1        1  -i gmres -restart 100  Fri Jul 13 10:06:39 2018   \n",
       "2        1  -i gmres -restart 100  Fri Jul 13 10:06:38 2018   \n",
       "3        1  -i gmres -restart 100  Fri Jul 13 10:06:38 2018   \n",
       "4        1  -i gmres -restart 100  Fri Jul 13 10:06:40 2018   \n",
       "5        1  -i gmres -restart 100  Fri Jul 13 10:06:40 2018   \n",
       "6        1  -i gmres -restart 100  Fri Jul 13 10:06:39 2018   \n",
       "7        1  -i gmres -restart 100  Fri Jul 13 10:06:38 2018   \n",
       "\n",
       "                                 git_commit  compute_time  lis_iter  lis_time  \\\n",
       "0  7254b1a7ea1e8ab80e3b37751531f92c86d482e1      0.078905       142  0.061314   \n",
       "1  7254b1a7ea1e8ab80e3b37751531f92c86d482e1      0.055441       131  0.043421   \n",
       "2  7254b1a7ea1e8ab80e3b37751531f92c86d482e1      0.035247        89  0.020369   \n",
       "3  7254b1a7ea1e8ab80e3b37751531f92c86d482e1      0.042630       108  0.031387   \n",
       "4  7254b1a7ea1e8ab80e3b37751531f92c86d482e1      0.055813       158  0.045524   \n",
       "5  7254b1a7ea1e8ab80e3b37751531f92c86d482e1      0.151811       178  0.126221   \n",
       "6  7254b1a7ea1e8ab80e3b37751531f92c86d482e1      0.078874       148  0.057598   \n",
       "7  7254b1a7ea1e8ab80e3b37751531f92c86d482e1      0.045505       134  0.032011   \n",
       "\n",
       "      lis_resid                                          data_path  \n",
       "0  9.449105e-13  /home/oliver/academic/research/kelp/results/gs...  \n",
       "1  8.496240e-13  /home/oliver/academic/research/kelp/results/gs...  \n",
       "2  8.875761e-13  /home/oliver/academic/research/kelp/results/gs...  \n",
       "3  8.556907e-13  /home/oliver/academic/research/kelp/results/gs...  \n",
       "4  9.931858e-13  /home/oliver/academic/research/kelp/results/gs...  \n",
       "5  9.799112e-13  /home/oliver/academic/research/kelp/results/gs...  \n",
       "6  6.877779e-13  /home/oliver/academic/research/kelp/results/gs...  \n",
       "7  9.932545e-13  /home/oliver/academic/research/kelp/results/gs...  \n",
       "\n",
       "[8 rows x 31 columns]"
      ]
     },
     "execution_count": 81,
     "metadata": {},
     "output_type": "execute_result"
    }
   ],
   "source": [
    "db_path = os.path.join(base_dir, study_name, '{}.db'.format(study_name))\n",
    "print(\"Connecting to {}\".format(db_path))\n",
    "conn = sqlite3.connect(db_path)\n",
    "df = kelp_analyze.table_to_df(conn, study_name)\n",
    "conn.close()\n",
    "df"
   ]
  },
  {
   "cell_type": "markdown",
   "metadata": {},
   "source": [
    "## Analyze"
   ]
  },
  {
   "cell_type": "code",
   "execution_count": 40,
   "metadata": {},
   "outputs": [],
   "source": [
    "conn = sqlite3.connect(db_path)\n",
    "res = kelp_analyze.query_results(conn, study_name, ns=6, nz=6, na=6)[0]\n",
    "conn.close()\n",
    "irrad = res['irrad'][:].data"
   ]
  },
  {
   "cell_type": "code",
   "execution_count": 41,
   "metadata": {
    "scrolled": false
   },
   "outputs": [
    {
     "name": "stdout",
     "output_type": "stream",
     "text": [
      "ns=6, nz=4, na=6\n",
      "ns=4, nz=6, na=6\n",
      "ns=6, nz=6, na=4\n"
     ]
    },
    {
     "name": "stderr",
     "output_type": "stream",
     "text": [
      "/home/oliver/academic/research/kelp/code/python/kelp_analyze.py:369: RuntimeWarning: invalid value encountered in true_divide\n",
      "  best_perceived_irrad = np.sum(p_kelp*best_irrad, axis=(0,1)) / np.sum(p_kelp, axis=(0,1))\n",
      "/home/oliver/academic/research/kelp/code/python/kelp_analyze.py:232: RuntimeWarning: invalid value encountered in true_divide\n",
      "  perceived_irrad = np.sum(p_kelp*irrad, axis=(0,1)) / np.sum(p_kelp, axis=(0,1))\n"
     ]
    }
   ],
   "source": [
    "perceived_irrad_dict, abs_err_arr, rel_err_arr, compute_time_dict = (\n",
    "    kelp_analyze.grid_study_analyze(db_path, study_name)\n",
    ")"
   ]
  },
  {
   "cell_type": "code",
   "execution_count": 42,
   "metadata": {},
   "outputs": [
    {
     "data": {
      "text/plain": [
       "[(6, 6, 4, 6), (6, 4, 6, 6), (6, 6, 6, 4)]"
      ]
     },
     "execution_count": 42,
     "metadata": {},
     "output_type": "execute_result"
    }
   ],
   "source": [
    "list(zip(*perceived_irrad_dict.keys()))"
   ]
  },
  {
   "cell_type": "code",
   "execution_count": 43,
   "metadata": {},
   "outputs": [],
   "source": [
    "ns_list, nz_list, na_list = (set(z) for z in zip(*perceived_irrad_dict.keys()))"
   ]
  },
  {
   "cell_type": "code",
   "execution_count": 44,
   "metadata": {},
   "outputs": [
    {
     "data": {
      "text/plain": [
       "{4, 6}"
      ]
     },
     "execution_count": 44,
     "metadata": {},
     "output_type": "execute_result"
    }
   ],
   "source": [
    "ns_list"
   ]
  },
  {
   "cell_type": "code",
   "execution_count": 45,
   "metadata": {
    "scrolled": false
   },
   "outputs": [
    {
     "name": "stdout",
     "output_type": "stream",
     "text": [
      "ns\n"
     ]
    },
    {
     "data": {
      "image/png": "[encoded data removed]",
      "text/plain": [
       "<Figure size 576x432 with 4 Axes>"
      ]
     },
     "metadata": {},
     "output_type": "display_data"
    },
    {
     "name": "stdout",
     "output_type": "stream",
     "text": [
      "nz\n"
     ]
    },
    {
     "data": {
      "image/png": "[encoded data removed]",
      "text/plain": [
       "<Figure size 576x432 with 4 Axes>"
      ]
     },
     "metadata": {},
     "output_type": "display_data"
    },
    {
     "name": "stdout",
     "output_type": "stream",
     "text": [
      "na\n"
     ]
    },
    {
     "data": {
      "image/png": "[encoded data removed]",
      "text/plain": [
       "<Figure size 576x432 with 4 Axes>"
      ]
     },
     "metadata": {},
     "output_type": "display_data"
    },
    {
     "name": "stdout",
     "output_type": "stream",
     "text": [
      "together\n"
     ]
    },
    {
     "data": {
      "image/png": "[encoded data removed]",
      "text/plain": [
       "<Figure size 432x288 with 1 Axes>"
      ]
     },
     "metadata": {},
     "output_type": "display_data"
    }
   ],
   "source": [
    "kelp_analyze.grid_study_plot(perceived_irrad_dict, abs_err_arr, rel_err_arr, compute_time_dict, zmin, zmax)\n",
    "# TODO: Is this correct?"
   ]
  },
  {
   "cell_type": "markdown",
   "metadata": {},
   "source": [
    "# Grid Study 2"
   ]
  },
  {
   "cell_type": "code",
   "execution_count": null,
   "metadata": {},
   "outputs": [],
   "source": [
    "# Set parameters\n",
    "a_water = 0.5\n",
    "b = 0.05\n",
    "absorptance_kelp = 0.8\n",
    "kelp_profile='top-heavy'\n",
    "ns_max = 16\n",
    "nz_max = 16\n",
    "na_max = 2\n",
    "na_list = range(4,na_max+1,4)\n",
    "\n",
    "irrad_dict, abs_err_arr, rel_err_arr = grid_study_compute(a_water, absorptance_kelp, kelp_profile, [ns_max], [nz_max], na_list)"
   ]
  },
  {
   "cell_type": "code",
   "execution_count": null,
   "metadata": {},
   "outputs": [],
   "source": [
    "c = ipp.Client()"
   ]
  },
  {
   "cell_type": "code",
   "execution_count": null,
   "metadata": {},
   "outputs": [],
   "source": [
    "c.queue_status()"
   ]
  },
  {
   "cell_type": "code",
   "execution_count": null,
   "metadata": {},
   "outputs": [],
   "source": [
    "# Set parameters\n",
    "a_water = 0.5\n",
    "b = 0.05\n",
    "absorptance_kelp = 0.8\n",
    "kelp_profile='top-heavy'\n",
    "ns_max = 20\n",
    "nz_max = 20\n",
    "na_max = 20\n",
    "ns_list = range(4, ns_max+1, 2)\n",
    "nz_list = range(4, nz_max+1, 2)\n",
    "na_list = range(4, na_max+1, 2)\n",
    "\n",
    "ex = cf.ThreadPoolExecutor()\n",
    "gs2_fut = ex.submit(\n",
    "    grid_study_compute,\n",
    "    a_water, absorptance_kelp, kelp_profile, ns_list, nz_list, na_list\n",
    ")"
   ]
  },
  {
   "cell_type": "code",
   "execution_count": null,
   "metadata": {
    "scrolled": false
   },
   "outputs": [],
   "source": [
    "perceived_irrad_dict, abs_err_arr, rel_err_arr = gs2_fut.result()"
   ]
  },
  {
   "cell_type": "code",
   "execution_count": null,
   "metadata": {},
   "outputs": [],
   "source": [
    "grid_study_plot(ns_list, nz_list, na_list, perceived_irrad_dict, abs_err_arr, rel_err_arr)"
   ]
  },
  {
   "cell_type": "markdown",
   "metadata": {},
   "source": [
    "# Asymptotics Accuracy"
   ]
  },
  {
   "cell_type": "code",
   "execution_count": null,
   "metadata": {},
   "outputs": [],
   "source": [
    "# Set parameters\n",
    "aut8 = [0.144, 0.037]\n",
    "hao11 = [0.179, 0.219]\n",
    "nuc2200 = [0.337, 1.583]\n",
    "nuc2240 = [0.125, 1.205]\n",
    "petzold_iops = [aut8, hao11, nuc2200, nuc2240]\n",
    "petzold_names = ['aut8', 'hao11', 'nuc2200', 'nuc2240']\n",
    "\n",
    "ns = 22\n",
    "na = 22\n",
    "nz = 22\n",
    "kelp_profile='top-heavy'\n",
    "max_scatter = 16\n",
    "\n",
    "asym_conv_true_pi = {}\n",
    "asym_conv_gmres_time = {}\n",
    "\n",
    "for name, (a_water, b) in zip(petzold_names, petzold_iops):\n",
    "    # GMRES\n",
    "    gmres_results = lv.apply(kelp_param.kelp_calculate,\n",
    "        a_water,\n",
    "        b,\n",
    "        ns,\n",
    "        na,\n",
    "        nz,\n",
    "        kelp_profile,\n",
    "        absorptance_kelp=0.8,\n",
    "        gmres_flag=True,\n",
    "        num_scatters=0,\n",
    "        const=const\n",
    "    ).result()\n",
    "\n",
    "    p_kelp = gmres_results['p_kelp']\n",
    "    true_irrad = gmres_results['irradiance']\n",
    "    true_rad = gmres_results['radiance']\n",
    "    asym_conv_gmres_time[name] = gmres_results['duration']\n",
    "    true_perceived_irrad = np.sum(p_kelp*true_irrad, axis=(0,1)) / np.sum(p_kelp, axis=(0,1))\n",
    "    asym_conv_true_pi[name] = true_perceived_irrad"
   ]
  },
  {
   "cell_type": "code",
   "execution_count": null,
   "metadata": {},
   "outputs": [],
   "source": [
    "save_dict = {}\n",
    "res_dict = {}\n",
    "\n",
    "scat_nums = range(0, max_scatter+1, 4)\n",
    "# Run scattering cases\n",
    "for name, (a_water, b) in zip(petzold_names, petzold_iops):\n",
    "    res_list = []\n",
    "    save_list = []\n",
    "    true_perceived_irrad = asym_conv_true_pi[name]\n",
    "    for n in scat_nums:\n",
    "        print(\"n={}\".format(n))\n",
    "        #print(\"const={}\".format(const))\n",
    "        compute_results = lv.apply(kelp_param.kelp_calculate,\n",
    "            a_water,\n",
    "            b,\n",
    "            ns,\n",
    "            na,\n",
    "            nz,\n",
    "            kelp_profile,\n",
    "            absorptance_kelp=0.8,\n",
    "            gmres_flag=False,\n",
    "            num_scatters=n,\n",
    "            const=const\n",
    "        ).result()\n",
    "\n",
    "        irrad = compute_results['p_kelp']\n",
    "        irrad = compute_results['irradiance']\n",
    "        # Perceived irradiance for each depth layer\n",
    "        perceived_irrad = np.sum(p_kelp*irrad, axis=(0,1)) / np.sum(p_kelp, axis=(0,1))\n",
    "        perc_abs_err = np.abs(true_perceived_irrad - perceived_irrad)\n",
    "        perc_rel_err = np.abs((true_perceived_irrad - perceived_irrad)/true_perceived_irrad)\n",
    "\n",
    "        save_vals = {\n",
    "            'irrad': irrad.mean(axis=(0,1)),\n",
    "            'perceived_irrad': perceived_irrad,\n",
    "            'perc_abs_err': perc_abs_err,\n",
    "            'perc_rel_err': perc_rel_err,\n",
    "            'duration': compute_results['duration']\n",
    "        }\n",
    "\n",
    "        res_list.append(compute_results)\n",
    "        save_list.append(save_vals)\n",
    "    res_dict[name] = res_list\n",
    "    save_dict[name] = save_list"
   ]
  },
  {
   "cell_type": "code",
   "execution_count": null,
   "metadata": {},
   "outputs": [],
   "source": [
    "import dill"
   ]
  },
  {
   "cell_type": "markdown",
   "metadata": {},
   "source": [
    "### Plot Convergence Curves"
   ]
  },
  {
   "cell_type": "code",
   "execution_count": null,
   "metadata": {},
   "outputs": [],
   "source": [
    "!mkdir data figures -p"
   ]
  },
  {
   "cell_type": "code",
   "execution_count": null,
   "metadata": {},
   "outputs": [],
   "source": [
    "with open(\"data/asym_conv_save.dill\", 'wb') as fh:\n",
    "    dill.dump(save_dict, fh)"
   ]
  },
  {
   "cell_type": "code",
   "execution_count": null,
   "metadata": {},
   "outputs": [],
   "source": [
    "with open(\"data/asym_conv_res.dill\", 'wb') as fh:\n",
    "    dill.dump(res_dict, fh)"
   ]
  },
  {
   "cell_type": "code",
   "execution_count": null,
   "metadata": {},
   "outputs": [],
   "source": [
    "with open(\"data/asym_conv_gmres.dill\", 'wb') as fh:\n",
    "    dill.dump(gmres_results, fh)"
   ]
  },
  {
   "cell_type": "code",
   "execution_count": null,
   "metadata": {},
   "outputs": [],
   "source": [
    "dz = (zmax-zmin)/nz\n",
    "z = np.linspace(zmin+0.5*dz, zmax-0.5*dz, nz)\n",
    "for name, iops in zip(petzold_names, petzold_iops):\n",
    "    true_perceived_irrad = asym_conv_true_pi[name]\n",
    "    plt.figure(figsize=[8,6])\n",
    "    for i, scat in enumerate(res_dict[name]):\n",
    "        plt.plot(z, save_dict[name][i]['perceived_irrad'], 'o-', label='n={}'.format(scat_nums[i]))\n",
    "    \n",
    "    plt.plot(z, np.abs(true_perceived_irrad), 's-', lw=3, label='FD')\n",
    "    plt.title(\"{}: a_water={}, b={}\".format(name, *iops))\n",
    "    plt.xlabel('z (m)')\n",
    "    plt.ylabel(r'Perceived Irradiance ($\\mathrm{W/m}^2$)')\n",
    "    plt.yscale('log')\n",
    "    plt.legend()\n",
    "    plt.tight_layout()\n",
    "    plt.savefig('figures/asym_conv_irrad_{}.png'.format(name), dpi=300)\n",
    "    \n",
    "plt.show()"
   ]
  },
  {
   "cell_type": "code",
   "execution_count": null,
   "metadata": {},
   "outputs": [],
   "source": [
    "dz = (zmax-zmin)/nz\n",
    "z = np.linspace(zmin+0.5*dz, zmax-0.5*dz, nz)\n",
    "for name, iops in zip(petzold_names, petzold_iops):\n",
    "    true_perceived_irrad = asym_conv_true_pi[name]\n",
    "    plt.figure(figsize=[8,6])\n",
    "    for i, scat in enumerate(res_dict[name]):\n",
    "        plt.plot(z, save_dict[name][i]['perc_rel_err'], 'o-', label='n={}'.format(scat_nums[i]))\n",
    "    \n",
    "    #plt.plot(z, np.abs(true_perceived_irrad), 'o-', label='FD')\n",
    "    plt.title(\"{}: a_water={}, b={}\".format(name, *iops))\n",
    "    plt.xlabel('z (m)')\n",
    "    plt.ylabel('Relative Error: Perceived Irradiance')\n",
    "    plt.yscale('log')\n",
    "    plt.legend()\n",
    "    plt.tight_layout()\n",
    "    plt.savefig('figures/asym_conv_rel_err_{}.png'.format(name), dpi=300)\n",
    "    \n",
    "plt.show()"
   ]
  },
  {
   "cell_type": "code",
   "execution_count": null,
   "metadata": {},
   "outputs": [],
   "source": [
    "plt.figure(figsize=[8,6])\n",
    "for name, iops in zip(petzold_names[:-2], petzold_iops[:-2]):\n",
    "    abs_err = np.array([res['perc_abs_err'].mean() for res in save_dict[name]])\n",
    "    rel_err = np.array([res['perc_rel_err'].mean() for res in save_dict[name]])\n",
    "    plt.plot(scat_nums, rel_err, 'o-', label='{}: a={}, b={}'.format(name, *iops))\n",
    "    \n",
    "plt.xticks(scat_nums)\n",
    "plt.xlabel('# of Scattering Events')\n",
    "plt.ylabel('Relative Error (Perceived Irrad)')\n",
    "plt.yscale('log')\n",
    "plt.legend()\n",
    "plt.tight_layout()\n",
    "plt.savefig('figures/asym_conv_compare.png')\n",
    "plt.show()"
   ]
  },
  {
   "cell_type": "code",
   "execution_count": null,
   "metadata": {},
   "outputs": [],
   "source": [
    "np.array([res['perc_rel_err'].mean() for res in save_dict['aut8']])"
   ]
  },
  {
   "cell_type": "markdown",
   "metadata": {},
   "source": [
    "# Sensitivity Analysis"
   ]
  },
  {
   "cell_type": "code",
   "execution_count": null,
   "metadata": {},
   "outputs": [],
   "source": [
    "def f(x, y):\n",
    "    print(\"x={}, y={}\")"
   ]
  },
  {
   "cell_type": "code",
   "execution_count": null,
   "metadata": {},
   "outputs": [],
   "source": [
    "def vary_params(**user_params):\n",
    "    \"\"\"Supply lists of param values. Only specify ones you're interested in. \n",
    "    Will be varied from base case separately.\"\"\"\n",
    "    base_params = {\n",
    "        'a_water': 0.179,\n",
    "        'b': 0.219,\n",
    "        'ns': 16,\n",
    "        'na': 16,\n",
    "        'nz': 16,\n",
    "        'absorptance_kelp': 0.8,\n",
    "        'kelp_profile': 'top-heavy',\n",
    "        'gmres_flag': False,\n",
    "        'num_scatters': 12,\n",
    "        'const': const\n",
    "    }\n",
    "    \n",
    "    results_dict = {}\n",
    "    perceived_irrad_dict = {}\n",
    "    \n",
    "    # Combine, with user overrides, one at a time.\n",
    "    for param, vals in user_params.items():\n",
    "        for val in vals:\n",
    "            new_params = {**base_params, **{param: val}}\n",
    "            compute_results = lv.apply(kelp_param.kelp_calculate, **new_params).result()\n",
    "            results_dict[(param, val)] = compute_results\n",
    "    \n",
    "            p_kelp = compute_results['p_kelp']\n",
    "            irrad = compute_results['irradiance']\n",
    "            perceived_irrad = np.sum(p_kelp*irrad, axis=(0,1)) / np.sum(p_kelp, axis=(0,1))\n",
    "            perceived_irrad_dict[(param, val)] = perceived_irrad\n",
    "            \n",
    "    \n",
    "    return results_dict, perceived_irrad_dict"
   ]
  },
  {
   "cell_type": "code",
   "execution_count": null,
   "metadata": {},
   "outputs": [],
   "source": [
    "def plot_params(user_dict, perceived_irrad_dict):\n",
    "    for param, vals in user_dict.items():\n",
    "        plt.figure()\n",
    "        for val in vals:\n",
    "            perceived_irrad = perceived_irrad_dict[(param, val)]\n",
    "            nz = len(perceived_irrad)\n",
    "            dz = (zmax-zmin)/nz\n",
    "            z = np.linspace(zmin+0.5*dz, zmax-0.5*dz, nz)\n",
    "            param_str = val\n",
    "            if param == 'b':\n",
    "                param_str = 'b/a={:.2f}'.format(val/a_water)\n",
    "            elif isinstance(val, float):\n",
    "                param_str = '{:.2f}'.format(val)\n",
    "            plt.plot(z, perceived_irrad, 'o-', label='{}'.format(param_str))\n",
    "        #plt.legend(loc='upper left', bbox_to_anchor=(1.05,1))\n",
    "        plt.legend()\n",
    "        plt.xlabel('z (m)')\n",
    "        plt.ylabel(r'Perceived Irradiance ($\\mathrm{W/m}^2$)')\n",
    "        plt.yscale('log')\n",
    "        plt.savefig('figures/sens_analysis_{}.png'.format(param), dpi=300)\n",
    "        plt.tight_layout()\n",
    "        plt.show()"
   ]
  },
  {
   "cell_type": "code",
   "execution_count": null,
   "metadata": {},
   "outputs": [],
   "source": [
    "user_dict = dict(\n",
    "    kelp_profile=['top-heavy', 'uniform', 'bottom-heavy'],\n",
    "    absorptance_kelp=np.linspace(0.6,1.0,5),\n",
    "    b = a_water * np.linspace(0.5, 2.0, 5)\n",
    ")\n",
    "results_dict, perceived_irrad_dict = vary_params(**user_dict)"
   ]
  },
  {
   "cell_type": "code",
   "execution_count": null,
   "metadata": {},
   "outputs": [],
   "source": [
    "plot_params(user_dict, perceived_irrad_dict)"
   ]
  },
  {
   "cell_type": "code",
   "execution_count": null,
   "metadata": {},
   "outputs": [],
   "source": [
    "user_dict = dict(\n",
    "    b = a_water * np.linspace(0.5, 2.0, 10)\n",
    ")\n",
    "results_dict, perceived_irrad_dict = vary_params(**user_dict)"
   ]
  },
  {
   "cell_type": "code",
   "execution_count": null,
   "metadata": {},
   "outputs": [],
   "source": [
    "plot_params(user_dict, perceived_irrad_dict)"
   ]
  },
  {
   "cell_type": "code",
   "execution_count": null,
   "metadata": {},
   "outputs": [],
   "source": [
    "user_dict = dict(\n",
    "    a_water = np.linspace(0.05, 0.5, 10)\n",
    ")\n",
    "results_dict, perceived_irrad_dict = vary_params(**user_dict)"
   ]
  },
  {
   "cell_type": "code",
   "execution_count": null,
   "metadata": {},
   "outputs": [],
   "source": [
    "plot_params(user_dict, perceived_irrad_dict)"
   ]
  },
  {
   "cell_type": "code",
   "execution_count": null,
   "metadata": {},
   "outputs": [],
   "source": []
  }
 ],
 "metadata": {
  "kernelspec": {
   "display_name": "Python 3 (kelp)",
   "language": "python",
   "name": "kelp"
  },
  "language_info": {
   "codemirror_mode": {
    "name": "ipython",
    "version": 3
   },
   "file_extension": ".py",
   "mimetype": "text/x-python",
   "name": "python",
   "nbconvert_exporter": "python",
   "pygments_lexer": "ipython3",
   "version": "3.6.5"
  }
 },
 "nbformat": 4,
 "nbformat_minor": 2
}
