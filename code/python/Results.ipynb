{
 "cells": [
  {
   "cell_type": "markdown",
   "metadata": {},
   "source": [
    "# Grid Study and Sensitivity Analysis"
   ]
  },
  {
   "cell_type": "code",
   "execution_count": 1,
   "metadata": {},
   "outputs": [],
   "source": [
    "%load_ext autoreload\n",
    "%autoreload 2"
   ]
  },
  {
   "cell_type": "code",
   "execution_count": 2,
   "metadata": {},
   "outputs": [],
   "source": [
    "#import kelp_param\n",
    "import kelp3d_objs as k3\n",
    "import ipyparallel as ipp\n",
    "import concurrent.futures as cf\n",
    "import itertools as it\n",
    "#from sympy import divisors\n",
    "import numpy as np\n",
    "import matplotlib.pyplot as plt\n",
    "from scipy import optimize as opt\n",
    "from scipy.interpolate import interp1d\n",
    "import ipyvolume as ipv"
   ]
  },
  {
   "cell_type": "code",
   "execution_count": 23,
   "metadata": {},
   "outputs": [],
   "source": [
    "import kelp_compute\n",
    "import kelp_analyze\n",
    "import discrete_plot"
   ]
  },
  {
   "cell_type": "code",
   "execution_count": 4,
   "metadata": {},
   "outputs": [],
   "source": [
    "import sqlite3\n",
    "import shutil\n",
    "import os"
   ]
  },
  {
   "cell_type": "code",
   "execution_count": 5,
   "metadata": {},
   "outputs": [
    {
     "name": "stdout",
     "output_type": "stream",
     "text": [
      "Waiting for connection file: /global/u2/o/oevans/.ipython/profile_default/security/ipcontroller-client.json\n"
     ]
    },
    {
     "ename": "KeyboardInterrupt",
     "evalue": "",
     "output_type": "error",
     "traceback": [
      "\u001b[0;31m---------------------------------------------------------------------------\u001b[0m",
      "\u001b[0;31mKeyboardInterrupt\u001b[0m                         Traceback (most recent call last)",
      "\u001b[0;32m<ipython-input-5-5e195c675a6e>\u001b[0m in \u001b[0;36m<module>\u001b[0;34m()\u001b[0m\n\u001b[1;32m      1\u001b[0m \u001b[0;31m#remote_config = kelp_param.ParamSpanRemoteConfig()\u001b[0m\u001b[0;34m\u001b[0m\u001b[0;34m\u001b[0m\u001b[0m\n\u001b[0;32m----> 2\u001b[0;31m \u001b[0mipc\u001b[0m \u001b[0;34m=\u001b[0m \u001b[0mipp\u001b[0m\u001b[0;34m.\u001b[0m\u001b[0mClient\u001b[0m\u001b[0;34m(\u001b[0m\u001b[0;34m)\u001b[0m\u001b[0;34m\u001b[0m\u001b[0m\n\u001b[0m\u001b[1;32m      3\u001b[0m \u001b[0mlv\u001b[0m \u001b[0;34m=\u001b[0m \u001b[0mipc\u001b[0m\u001b[0;34m.\u001b[0m\u001b[0mload_balanced_view\u001b[0m\u001b[0;34m(\u001b[0m\u001b[0;34m)\u001b[0m\u001b[0;34m\u001b[0m\u001b[0m\n\u001b[1;32m      4\u001b[0m \u001b[0mdv\u001b[0m \u001b[0;34m=\u001b[0m \u001b[0mipc\u001b[0m\u001b[0;34m.\u001b[0m\u001b[0mdirect_view\u001b[0m\u001b[0;34m(\u001b[0m\u001b[0;34m)\u001b[0m\u001b[0;34m\u001b[0m\u001b[0m\n\u001b[1;32m      5\u001b[0m \u001b[0mprint\u001b[0m\u001b[0;34m(\u001b[0m\u001b[0mipc\u001b[0m\u001b[0;34m.\u001b[0m\u001b[0mids\u001b[0m\u001b[0;34m)\u001b[0m\u001b[0;34m\u001b[0m\u001b[0m\n",
      "\u001b[0;32m~/local/miniconda3/envs/kelp/lib/python3.6/site-packages/ipyparallel/client/client.py\u001b[0m in \u001b[0;36m__init__\u001b[0;34m(self, url_file, profile, profile_dir, ipython_dir, context, debug, sshserver, sshkey, password, paramiko, timeout, cluster_id, **extra_args)\u001b[0m\n\u001b[1;32m    401\u001b[0m                     \u001b[0mwaiting_time\u001b[0m \u001b[0;34m=\u001b[0m \u001b[0;36m0.\u001b[0m\u001b[0;34m\u001b[0m\u001b[0m\n\u001b[1;32m    402\u001b[0m                     \u001b[0;32mwhile\u001b[0m \u001b[0mwaiting_time\u001b[0m \u001b[0;34m<\u001b[0m \u001b[0mtimeout\u001b[0m\u001b[0;34m:\u001b[0m\u001b[0;34m\u001b[0m\u001b[0m\n\u001b[0;32m--> 403\u001b[0;31m                         \u001b[0mtime\u001b[0m\u001b[0;34m.\u001b[0m\u001b[0msleep\u001b[0m\u001b[0;34m(\u001b[0m\u001b[0mmin\u001b[0m\u001b[0;34m(\u001b[0m\u001b[0mtimeout\u001b[0m\u001b[0;34m-\u001b[0m\u001b[0mwaiting_time\u001b[0m\u001b[0;34m,\u001b[0m \u001b[0;36m1\u001b[0m\u001b[0;34m)\u001b[0m\u001b[0;34m)\u001b[0m\u001b[0;34m\u001b[0m\u001b[0m\n\u001b[0m\u001b[1;32m    404\u001b[0m                         \u001b[0mwaiting_time\u001b[0m \u001b[0;34m+=\u001b[0m \u001b[0;36m1\u001b[0m\u001b[0;34m\u001b[0m\u001b[0m\n\u001b[1;32m    405\u001b[0m                         \u001b[0;32mif\u001b[0m \u001b[0mos\u001b[0m\u001b[0;34m.\u001b[0m\u001b[0mpath\u001b[0m\u001b[0;34m.\u001b[0m\u001b[0mexists\u001b[0m\u001b[0;34m(\u001b[0m\u001b[0murl_file\u001b[0m\u001b[0;34m)\u001b[0m\u001b[0;34m:\u001b[0m\u001b[0;34m\u001b[0m\u001b[0m\n",
      "\u001b[0;31mKeyboardInterrupt\u001b[0m: "
     ]
    }
   ],
   "source": [
    "#remote_config = kelp_param.ParamSpanRemoteConfig()\n",
    "ipc = ipp.Client()\n",
    "lv = ipc.load_balanced_view()\n",
    "dv = ipc.direct_view()\n",
    "print(ipc.ids)"
   ]
  },
  {
   "cell_type": "markdown",
   "metadata": {},
   "source": [
    "def cdkelp():\n",
    "    import os\n",
    "    os.chdir('/global/homes/o/oevans/kelp/code/python')\n",
    "dv.apply(cdkelp)"
   ]
  },
  {
   "cell_type": "markdown",
   "metadata": {},
   "source": [
    "### Define Constants"
   ]
  },
  {
   "cell_type": "code",
   "execution_count": 6,
   "metadata": {},
   "outputs": [],
   "source": [
    "# Hard-coded parameters\n",
    "rope_spacing = 5.0 # (m)\n",
    "zmin, zmax = 0.0, 10.0 # (m)\n",
    "\n",
    "# Light from above\n",
    "I0 = 50.0 # (W/m^2)\n",
    "phi_s = 0 # (rad)\n",
    "theta_s = 0 # (rad)\n",
    "decay = 0 # (?) - light (practically) only from directly above\n",
    "\n",
    "# Calculated or otherwise boring parameters\n",
    "xmin = -rope_spacing/2\n",
    "xmax = rope_spacing/2\n",
    "ymin = -rope_spacing/2\n",
    "ymax = rope_spacing/2\n",
    "\n",
    "# Solver parameters\n",
    "lis_options = \"-i gmres -restart 10000 -tol 1e-4\""
   ]
  },
  {
   "cell_type": "markdown",
   "metadata": {},
   "source": [
    "# Asymptotics Accuracy"
   ]
  },
  {
   "cell_type": "code",
   "execution_count": null,
   "metadata": {},
   "outputs": [],
   "source": [
    "# Set parameters\n",
    "aut8 = [0.144, 0.037]\n",
    "hao11 = [0.179, 0.219]\n",
    "nuc2200 = [0.337, 1.583]\n",
    "nuc2240 = [0.125, 1.205]\n",
    "petzold_iops = [aut8, hao11, nuc2200, nuc2240]\n",
    "petzold_names = ['aut8', 'hao11', 'nuc2200', 'nuc2240']\n",
    "\n",
    "ns = 22\n",
    "na = 22\n",
    "nz = 22\n",
    "kelp_profile='top-heavy'\n",
    "max_scatter = 16\n",
    "\n",
    "asym_conv_true_pi = {}\n",
    "asym_conv_gmres_time = {}\n",
    "\n",
    "for name, (a_water, b) in zip(petzold_names, petzold_iops):\n",
    "    # GMRES\n",
    "    gmres_results = lv.apply(kelp_param.kelp_calculate,\n",
    "        a_water,\n",
    "        b,\n",
    "        ns,\n",
    "        na,\n",
    "        nz,\n",
    "        kelp_profile,\n",
    "        absorptance_kelp=0.8,\n",
    "        gmres_flag=True,\n",
    "        num_scatters=0,\n",
    "        const=const\n",
    "    ).result()\n",
    "\n",
    "    p_kelp = gmres_results['p_kelp']\n",
    "    true_irrad = gmres_results['irradiance']\n",
    "    true_rad = gmres_results['radiance']\n",
    "    asym_conv_gmres_time[name] = gmres_results['duration']\n",
    "    true_perceived_irrad = np.sum(p_kelp*true_irrad, axis=(0,1)) / np.sum(p_kelp, axis=(0,1))\n",
    "    asym_conv_true_pi[name] = true_perceived_irrad"
   ]
  },
  {
   "cell_type": "code",
   "execution_count": null,
   "metadata": {},
   "outputs": [],
   "source": [
    "save_dict = {}\n",
    "res_dict = {}\n",
    "\n",
    "scat_nums = range(0, max_scatter+1, 4)\n",
    "# Run scattering cases\n",
    "for name, (a_water, b) in zip(petzold_names, petzold_iops):\n",
    "    res_list = []\n",
    "    save_list = []\n",
    "    true_perceived_irrad = asym_conv_true_pi[name]\n",
    "    for n in scat_nums:\n",
    "        print(\"n={}\".format(n))\n",
    "        #print(\"const={}\".format(const))\n",
    "        compute_results = lv.apply(kelp_param.kelp_calculate,\n",
    "            a_water,\n",
    "            b,\n",
    "            ns,\n",
    "            na,\n",
    "            nz,\n",
    "            kelp_profile,\n",
    "            absorptance_kelp=0.8,\n",
    "            gmres_flag=False,\n",
    "            num_scatters=n,\n",
    "            const=const\n",
    "        ).result()\n",
    "\n",
    "        irrad = compute_results['p_kelp']\n",
    "        irrad = compute_results['irradiance']\n",
    "        # Perceived irradiance for each depth layer\n",
    "        perceived_irrad = np.sum(p_kelp*irrad, axis=(0,1)) / np.sum(p_kelp, axis=(0,1))\n",
    "        perc_abs_err = np.abs(true_perceived_irrad - perceived_irrad)\n",
    "        perc_rel_err = np.abs((true_perceived_irrad - perceived_irrad)/true_perceived_irrad)\n",
    "\n",
    "        save_vals = {\n",
    "            'irrad': irrad.mean(axis=(0,1)),\n",
    "            'perceived_irrad': perceived_irrad,\n",
    "            'perc_abs_err': perc_abs_err,\n",
    "            'perc_rel_err': perc_rel_err,\n",
    "            'duration': compute_results['duration']\n",
    "        }\n",
    "\n",
    "        res_list.append(compute_results)\n",
    "        save_list.append(save_vals)\n",
    "    res_dict[name] = res_list\n",
    "    save_dict[name] = save_list"
   ]
  },
  {
   "cell_type": "markdown",
   "metadata": {},
   "source": [
    "### Plot Convergence Curves"
   ]
  },
  {
   "cell_type": "code",
   "execution_count": null,
   "metadata": {},
   "outputs": [],
   "source": [
    "!mkdir data figures -p"
   ]
  },
  {
   "cell_type": "code",
   "execution_count": null,
   "metadata": {},
   "outputs": [],
   "source": [
    "with open(\"data/asym_conv_save.dill\", 'wb') as fh:\n",
    "    dill.dump(save_dict, fh)"
   ]
  },
  {
   "cell_type": "code",
   "execution_count": null,
   "metadata": {},
   "outputs": [],
   "source": [
    "with open(\"data/asym_conv_res.dill\", 'wb') as fh:\n",
    "    dill.dump(res_dict, fh)"
   ]
  },
  {
   "cell_type": "code",
   "execution_count": null,
   "metadata": {},
   "outputs": [],
   "source": [
    "with open(\"data/asym_conv_gmres.dill\", 'wb') as fh:\n",
    "    dill.dump(gmres_results, fh)"
   ]
  },
  {
   "cell_type": "code",
   "execution_count": null,
   "metadata": {},
   "outputs": [],
   "source": [
    "dz = (zmax-zmin)/nz\n",
    "z = np.linspace(zmin+0.5*dz, zmax-0.5*dz, nz)\n",
    "for name, iops in zip(petzold_names, petzold_iops):\n",
    "    true_perceived_irrad = asym_conv_true_pi[name]\n",
    "    plt.figure(figsize=[8,6])\n",
    "    for i, scat in enumerate(res_dict[name]):\n",
    "        plt.plot(z, save_dict[name][i]['perceived_irrad'], 'o-', label='n={}'.format(scat_nums[i]))\n",
    "    \n",
    "    plt.plot(z, np.abs(true_perceived_irrad), 's-', lw=3, label='FD')\n",
    "    plt.title(\"{}: a_water={}, b={}\".format(name, *iops))\n",
    "    plt.xlabel('z (m)')\n",
    "    plt.ylabel(r'Perceived Irradiance ($\\mathrm{W/m}^2$)')\n",
    "    plt.yscale('log')\n",
    "    plt.legend()\n",
    "    plt.tight_layout()\n",
    "    plt.savefig('figures/asym_conv_irrad_{}.png'.format(name), dpi=300)\n",
    "    \n",
    "plt.show()"
   ]
  },
  {
   "cell_type": "code",
   "execution_count": null,
   "metadata": {},
   "outputs": [],
   "source": [
    "dz = (zmax-zmin)/nz\n",
    "z = np.linspace(zmin+0.5*dz, zmax-0.5*dz, nz)\n",
    "for name, iops in zip(petzold_names, petzold_iops):\n",
    "    true_perceived_irrad = asym_conv_true_pi[name]\n",
    "    plt.figure(figsize=[8,6])\n",
    "    for i, scat in enumerate(res_dict[name]):\n",
    "        plt.plot(z, save_dict[name][i]['perc_rel_err'], 'o-', label='n={}'.format(scat_nums[i]))\n",
    "    \n",
    "    #plt.plot(z, np.abs(true_perceived_irrad), 'o-', label='FD')\n",
    "    plt.title(\"{}: a_water={}, b={}\".format(name, *iops))\n",
    "    plt.xlabel('z (m)')\n",
    "    plt.ylabel('Relative Error: Perceived Irradiance')\n",
    "    plt.yscale('log')\n",
    "    plt.legend()\n",
    "    plt.tight_layout()\n",
    "    plt.savefig('figures/asym_conv_rel_err_{}.png'.format(name), dpi=300)\n",
    "    \n",
    "plt.show()"
   ]
  },
  {
   "cell_type": "code",
   "execution_count": null,
   "metadata": {},
   "outputs": [],
   "source": [
    "plt.figure(figsize=[8,6])\n",
    "for name, iops in zip(petzold_names[:-2], petzold_iops[:-2]):\n",
    "    abs_err = np.array([res['perc_abs_err'].mean() for res in save_dict[name]])\n",
    "    rel_err = np.array([res['perc_rel_err'].mean() for res in save_dict[name]])\n",
    "    plt.plot(scat_nums, rel_err, 'o-', label='{}: a={}, b={}'.format(name, *iops))\n",
    "    \n",
    "plt.xticks(scat_nums)\n",
    "plt.xlabel('# of Scattering Events')\n",
    "plt.ylabel('Relative Error (Perceived Irrad)')\n",
    "plt.yscale('log')\n",
    "plt.legend()\n",
    "plt.tight_layout()\n",
    "plt.savefig('figures/asym_conv_compare.png')\n",
    "plt.show()"
   ]
  },
  {
   "cell_type": "code",
   "execution_count": null,
   "metadata": {},
   "outputs": [],
   "source": [
    "np.array([res['perc_rel_err'].mean() for res in save_dict['aut8']])"
   ]
  },
  {
   "cell_type": "markdown",
   "metadata": {},
   "source": [
    "# Sensitivity Analysis"
   ]
  },
  {
   "cell_type": "code",
   "execution_count": null,
   "metadata": {},
   "outputs": [],
   "source": [
    "def f(x, y):\n",
    "    print(\"x={}, y={}\")"
   ]
  },
  {
   "cell_type": "code",
   "execution_count": null,
   "metadata": {},
   "outputs": [],
   "source": [
    "def vary_params(**user_params):\n",
    "    \"\"\"Supply lists of param values. Only specify ones you're interested in. \n",
    "    Will be varied from base case separately.\"\"\"\n",
    "    base_params = {\n",
    "        'a_water': 0.179,\n",
    "        'b': 0.219,\n",
    "        'ns': 16,\n",
    "        'na': 16,\n",
    "        'nz': 16,\n",
    "        'absorptance_kelp': 0.8,\n",
    "        'kelp_profile': 'top-heavy',\n",
    "        'gmres_flag': False,\n",
    "        'num_scatters': 12,\n",
    "        'const': const\n",
    "    }\n",
    "    \n",
    "    results_dict = {}\n",
    "    perceived_irrad_dict = {}\n",
    "    \n",
    "    # Combine, with user overrides, one at a time.\n",
    "    for param, vals in user_params.items():\n",
    "        for val in vals:\n",
    "            new_params = {**base_params, **{param: val}}\n",
    "            compute_results = lv.apply(kelp_param.kelp_calculate, **new_params).result()\n",
    "            results_dict[(param, val)] = compute_results\n",
    "    \n",
    "            p_kelp = compute_results['p_kelp']\n",
    "            irrad = compute_results['irradiance']\n",
    "            perceived_irrad = np.sum(p_kelp*irrad, axis=(0,1)) / np.sum(p_kelp, axis=(0,1))\n",
    "            perceived_irrad_dict[(param, val)] = perceived_irrad\n",
    "            \n",
    "    \n",
    "    return results_dict, perceived_irrad_dict"
   ]
  },
  {
   "cell_type": "code",
   "execution_count": null,
   "metadata": {},
   "outputs": [],
   "source": [
    "def plot_params(user_dict, perceived_irrad_dict):\n",
    "    for param, vals in user_dict.items():\n",
    "        plt.figure()\n",
    "        for val in vals:\n",
    "            perceived_irrad = perceived_irrad_dict[(param, val)]\n",
    "            nz = len(perceived_irrad)\n",
    "            dz = (zmax-zmin)/nz\n",
    "            z = np.linspace(zmin+0.5*dz, zmax-0.5*dz, nz)\n",
    "            param_str = val\n",
    "            if param == 'b':\n",
    "                param_str = 'b/a={:.2f}'.format(val/a_water)\n",
    "            elif isinstance(val, float):\n",
    "                param_str = '{:.2f}'.format(val)\n",
    "            plt.plot(z, perceived_irrad, 'o-', label='{}'.format(param_str))\n",
    "        #plt.legend(loc='upper left', bbox_to_anchor=(1.05,1))\n",
    "        plt.legend()\n",
    "        plt.xlabel('z (m)')\n",
    "        plt.ylabel(r'Perceived Irradiance ($\\mathrm{W/m}^2$)')\n",
    "        plt.yscale('log')\n",
    "        plt.savefig('figures/sens_analysis_{}.png'.format(param), dpi=300)\n",
    "        plt.tight_layout()\n",
    "        plt.show()"
   ]
  },
  {
   "cell_type": "code",
   "execution_count": null,
   "metadata": {},
   "outputs": [],
   "source": [
    "user_dict = dict(\n",
    "    kelp_profile=['top-heavy', 'uniform', 'bottom-heavy'],\n",
    "    absorptance_kelp=np.linspace(0.6,1.0,5),\n",
    "    b = a_water * np.linspace(0.5, 2.0, 5)\n",
    ")\n",
    "results_dict, perceived_irrad_dict = vary_params(**user_dict)"
   ]
  },
  {
   "cell_type": "code",
   "execution_count": null,
   "metadata": {},
   "outputs": [],
   "source": [
    "plot_params(user_dict, perceived_irrad_dict)"
   ]
  },
  {
   "cell_type": "code",
   "execution_count": null,
   "metadata": {},
   "outputs": [],
   "source": [
    "user_dict = dict(\n",
    "    b = a_water * np.linspace(0.5, 2.0, 10)\n",
    ")\n",
    "results_dict, perceived_irrad_dict = vary_params(**user_dict)"
   ]
  },
  {
   "cell_type": "code",
   "execution_count": null,
   "metadata": {},
   "outputs": [],
   "source": [
    "plot_params(user_dict, perceived_irrad_dict)"
   ]
  },
  {
   "cell_type": "code",
   "execution_count": null,
   "metadata": {},
   "outputs": [],
   "source": [
    "user_dict = dict(\n",
    "    a_water = np.linspace(0.05, 0.5, 10)\n",
    ")\n",
    "results_dict, perceived_irrad_dict = vary_params(**user_dict)"
   ]
  },
  {
   "cell_type": "code",
   "execution_count": null,
   "metadata": {},
   "outputs": [],
   "source": [
    "plot_params(user_dict, perceived_irrad_dict)"
   ]
  },
  {
   "cell_type": "code",
   "execution_count": null,
   "metadata": {},
   "outputs": [],
   "source": []
  }
 ],
 "metadata": {
  "kernelspec": {
   "display_name": "Python 3",
   "language": "python",
   "name": "python3"
  },
  "language_info": {
   "codemirror_mode": {
    "name": "ipython",
    "version": 3
   },
   "file_extension": ".py",
   "mimetype": "text/x-python",
   "name": "python",
   "nbconvert_exporter": "python",
   "pygments_lexer": "ipython3",
   "version": "3.6.5"
  }
 },
 "nbformat": 4,
 "nbformat_minor": 2
}
