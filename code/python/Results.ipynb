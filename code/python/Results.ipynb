{
 "cells": [
  {
   "cell_type": "markdown",
   "metadata": {},
   "source": [
    "# Grid Study and Sensitivity Analysis"
   ]
  },
  {
   "cell_type": "code",
   "execution_count": 1,
   "metadata": {},
   "outputs": [],
   "source": [
    "%load_ext autoreload\n",
    "%autoreload 2"
   ]
  },
  {
   "cell_type": "code",
   "execution_count": 2,
   "metadata": {},
   "outputs": [],
   "source": [
    "#import kelp_param\n",
    "import kelp3d_objs as k3\n",
    "import ipyparallel as ipp\n",
    "import concurrent.futures as cf\n",
    "import itertools as it\n",
    "#from sympy import divisors\n",
    "import numpy as np\n",
    "import matplotlib.pyplot as plt\n",
    "from scipy import optimize as opt\n",
    "from scipy.interpolate import interp1d\n",
    "import ipyvolume as ipv\n",
    "\n",
    "import kelp_compute\n",
    "import kelp_analyze"
   ]
  },
  {
   "cell_type": "code",
   "execution_count": 3,
   "metadata": {},
   "outputs": [],
   "source": [
    "import sqlite3\n",
    "import shutil\n",
    "import os"
   ]
  },
  {
   "cell_type": "code",
   "execution_count": 4,
   "metadata": {},
   "outputs": [
    {
     "name": "stdout",
     "output_type": "stream",
     "text": [
      "[0]\n"
     ]
    },
    {
     "name": "stderr",
     "output_type": "stream",
     "text": [
      "/home/oliver/local/miniconda3/envs/kelp/lib/python3.6/site-packages/ipyparallel/client/client.py:459: RuntimeWarning: \n",
      "            Controller appears to be listening on localhost, but not on this machine.\n",
      "            If this is true, you should specify Client(...,sshserver='you@oliver-arch')\n",
      "            or instruct your controller to listen on an external IP.\n",
      "  RuntimeWarning)\n"
     ]
    }
   ],
   "source": [
    "#remote_config = kelp_param.ParamSpanRemoteConfig()\n",
    "ipc = ipp.Client()\n",
    "lv = ipc.load_balanced_view()\n",
    "dv = ipc.direct_view()\n",
    "print(ipc.ids)"
   ]
  },
  {
   "cell_type": "markdown",
   "metadata": {},
   "source": [
    "def cdkelp():\n",
    "    import os\n",
    "    os.chdir('/global/homes/o/oevans/kelp/code/python')\n",
    "dv.apply(cdkelp)"
   ]
  },
  {
   "cell_type": "markdown",
   "metadata": {},
   "source": [
    "### Define Constants"
   ]
  },
  {
   "cell_type": "code",
   "execution_count": 5,
   "metadata": {},
   "outputs": [],
   "source": [
    "# Hard-coded parameters\n",
    "rope_spacing = 5.0 # (m)\n",
    "zmin, zmax = 0.0, 10.0 # (m)\n",
    "\n",
    "# Light from above\n",
    "I0 = 50.0 # (W/m^2)\n",
    "phi_s = 0 # (rad)\n",
    "theta_s = 0 # (rad)\n",
    "decay = 0 # (?) - light (practically) only from directly above\n",
    "\n",
    "# Calculated or otherwise boring parameters\n",
    "xmin = -rope_spacing/2\n",
    "xmax = rope_spacing/2\n",
    "ymin = -rope_spacing/2\n",
    "ymax = rope_spacing/2\n",
    "\n",
    "# Solver parameters\n",
    "lis_options = \"-i gmres -restart 10000 -tol 1e-4\""
   ]
  },
  {
   "cell_type": "markdown",
   "metadata": {},
   "source": [
    "# Grid Study 1"
   ]
  },
  {
   "cell_type": "code",
   "execution_count": 20,
   "metadata": {
    "scrolled": true
   },
   "outputs": [
    {
     "name": "stderr",
     "output_type": "stream",
     "text": [
      "/home/oliver/local/miniconda3/envs/kelp/lib/python3.6/site-packages/ipyparallel/client/client.py:459: RuntimeWarning: \n",
      "            Controller appears to be listening on localhost, but not on this machine.\n",
      "            If this is true, you should specify Client(...,sshserver='you@oliver-arch')\n",
      "            or instruct your controller to listen on an external IP.\n",
      "  RuntimeWarning)\n"
     ]
    }
   ],
   "source": [
    "# Set parameters\n",
    "study_name = 'gs1'\n",
    "a_water = 0.179\n",
    "b = 0.219\n",
    "kelp_dist='top-heavy'\n",
    "ns_max = 10\n",
    "nz_max = 10\n",
    "na_max = 10\n",
    "ns_list = range(4, ns_max+1, 2)\n",
    "nz_list = range(4, nz_max+1, 2)\n",
    "na_list = range(4, na_max+1, 2)\n",
    "lis_opts = '-i gmres -restart 100'\n",
    "# TODO: Make this default?\n",
    "data_dir = '../../results'\n",
    "\n",
    "ns_list = [4,6,8,10]\n",
    "nz_list = [4,6,8,10]\n",
    "na_list = [4,6,8,10]\n",
    "\n",
    "# TODO: Don't actually delete results\n",
    "shutil.rmtree(os.path.join(data_dir, study_name), ignore_errors=True)\n",
    "\n",
    "gs_fut, db_path, table_name = kelp_compute.grid_study_compute(\n",
    "    study_name, \n",
    "    a_water, b, kelp_dist,\n",
    "    ns_list, nz_list, na_list,\n",
    "    lis_opts, data_dir\n",
    ")"
   ]
  },
  {
   "cell_type": "code",
   "execution_count": 15,
   "metadata": {
    "scrolled": true
   },
   "outputs": [
    {
     "ename": "RemoteError",
     "evalue": "ValueError(Variable length strings are only supported for the NETCDF4 format. For other formats, consider using netCDF4.stringtochar to convert string arrays into character arrays with an additional dimension.)",
     "output_type": "error",
     "traceback": [
      "\u001b[0;31m---------------------------------------------------------------------------\u001b[0m\u001b[0;31mValueError\u001b[0m                                Traceback (most recent call last)\u001b[0;32m<string>\u001b[0m in \u001b[0;36m<module>\u001b[0;34m()\u001b[0m",
      "\u001b[0;32m~/academic/research/kelp/code/python/kelp_compute.py\u001b[0m in \u001b[0;36mkelp_calculate\u001b[0;34m(base_dir, db_path, table_name, a_water, b, ns, nz, na, kelp_dist, num_scatters, fd_flag, lis_opts, num_cores)\u001b[0m",
      "\u001b[1;32m    574\u001b[0m         \u001b[0mzmax\u001b[0m\u001b[0;34m,\u001b[0m \u001b[0mrope_spacing\u001b[0m\u001b[0;34m,\u001b[0m\u001b[0;34m\u001b[0m\u001b[0m",
      "\u001b[1;32m    575\u001b[0m         \u001b[0mI0\u001b[0m\u001b[0;34m,\u001b[0m \u001b[0mphi_s\u001b[0m\u001b[0;34m,\u001b[0m \u001b[0mtheta_s\u001b[0m\u001b[0;34m,\u001b[0m \u001b[0mdecay\u001b[0m\u001b[0;34m,\u001b[0m\u001b[0;34m\u001b[0m\u001b[0m",
      "\u001b[0;32m--> 576\u001b[0;31m         \u001b[0mnum_cores\u001b[0m\u001b[0;34m,\u001b[0m \u001b[0mnum_scatters\u001b[0m\u001b[0;34m,\u001b[0m\u001b[0;34m\u001b[0m\u001b[0m",
      "\u001b[0m\u001b[1;32m    577\u001b[0m         \u001b[0mfd_flag\u001b[0m\u001b[0;34m,\u001b[0m \u001b[0mlis_opts\u001b[0m\u001b[0;34m\u001b[0m\u001b[0m",
      "\u001b[1;32m    578\u001b[0m     )",
      "\u001b[0;32m~/academic/research/kelp/code/python/kelp_compute.py\u001b[0m in \u001b[0;36mkelp_calculate_full\u001b[0;34m(base_dir, db_path, table_name, absorptance_kelp, a_water, b, ns, nz, na, num_dens, kelp_dist, fs, fr, ft, max_length, length_std, zmax, rope_spacing, I0, phi_s, theta_s, decay, num_cores, num_scatters, fd_flag, lis_opts)\u001b[0m",
      "\u001b[1;32m    520\u001b[0m         \u001b[0;34m**\u001b[0m\u001b[0mparams\u001b[0m\u001b[0;34m,\u001b[0m\u001b[0;34m\u001b[0m\u001b[0m",
      "\u001b[1;32m    521\u001b[0m     }",
      "\u001b[0;32m--> 522\u001b[0;31m     \u001b[0mdata_path\u001b[0m \u001b[0;34m=\u001b[0m \u001b[0mcreate_nc\u001b[0m\u001b[0;34m(\u001b[0m\u001b[0mdb_path\u001b[0m\u001b[0;34m,\u001b[0m \u001b[0;34m**\u001b[0m\u001b[0mnc_dict\u001b[0m\u001b[0;34m)\u001b[0m\u001b[0;34m\u001b[0m\u001b[0m",
      "\u001b[0m\u001b[1;32m    523\u001b[0m \u001b[0;34m\u001b[0m\u001b[0m",
      "\u001b[1;32m    524\u001b[0m     \u001b[0;31m# Save to DB\u001b[0m\u001b[0;34m\u001b[0m\u001b[0;34m\u001b[0m\u001b[0m",
      "\u001b[0;32m~/academic/research/kelp/code/python/kelp_compute.py\u001b[0m in \u001b[0;36mcreate_nc\u001b[0;34m(db_path, **results)\u001b[0m",
      "\u001b[1;32m    248\u001b[0m             \u001b[0mchar_val\u001b[0m \u001b[0;34m=\u001b[0m \u001b[0mnc\u001b[0m\u001b[0;34m.\u001b[0m\u001b[0mstringtochar\u001b[0m\u001b[0;34m(\u001b[0m\u001b[0mnp\u001b[0m\u001b[0;34m.\u001b[0m\u001b[0marray\u001b[0m\u001b[0;34m(\u001b[0m\u001b[0;34m[\u001b[0m\u001b[0mval\u001b[0m\u001b[0;34m]\u001b[0m\u001b[0;34m,\u001b[0m \u001b[0mtype_str\u001b[0m\u001b[0;34m)\u001b[0m\u001b[0;34m)\u001b[0m\u001b[0;34m\u001b[0m\u001b[0m",
      "\u001b[1;32m    249\u001b[0m             \u001b[0mprint\u001b[0m\u001b[0;34m(\u001b[0m\u001b[0;34m\"CREATE STR VAR: ('{}', '{}', '{}')\"\u001b[0m\u001b[0;34m.\u001b[0m\u001b[0mformat\u001b[0m\u001b[0;34m(\u001b[0m\u001b[0mvar_name\u001b[0m\u001b[0;34m,\u001b[0m \u001b[0mtype_str\u001b[0m\u001b[0;34m,\u001b[0m \u001b[0mdim_name\u001b[0m\u001b[0;34m)\u001b[0m\u001b[0;34m)\u001b[0m\u001b[0;34m\u001b[0m\u001b[0m",
      "\u001b[0;32m--> 250\u001b[0;31m             \u001b[0mvar\u001b[0m \u001b[0;34m=\u001b[0m \u001b[0mrootgrp\u001b[0m\u001b[0;34m.\u001b[0m\u001b[0mcreateVariable\u001b[0m\u001b[0;34m(\u001b[0m\u001b[0mvar_name\u001b[0m\u001b[0;34m,\u001b[0m \u001b[0mtype_str\u001b[0m\u001b[0;34m,\u001b[0m \u001b[0;34m(\u001b[0m\u001b[0mdim_name\u001b[0m\u001b[0;34m,\u001b[0m\u001b[0;34m)\u001b[0m\u001b[0;34m)\u001b[0m\u001b[0;34m\u001b[0m\u001b[0m",
      "\u001b[0m\u001b[1;32m    251\u001b[0m             \u001b[0mvar\u001b[0m\u001b[0;34m[\u001b[0m\u001b[0;34m...\u001b[0m\u001b[0;34m]\u001b[0m \u001b[0;34m=\u001b[0m \u001b[0mchar_val\u001b[0m\u001b[0;34m\u001b[0m\u001b[0m",
      "\u001b[1;32m    252\u001b[0m         \u001b[0;32melse\u001b[0m\u001b[0;34m:\u001b[0m\u001b[0;34m\u001b[0m\u001b[0m",
      "\u001b[0;32mnetCDF4/_netCDF4.pyx\u001b[0m in \u001b[0;36mnetCDF4._netCDF4.Dataset.createVariable\u001b[0;34m()\u001b[0m",
      "\u001b[0;32mnetCDF4/_netCDF4.pyx\u001b[0m in \u001b[0;36mnetCDF4._netCDF4.Variable.__init__\u001b[0;34m()\u001b[0m",
      "\u001b[0;31mValueError\u001b[0m: Variable length strings are only supported for the NETCDF4 format. For other formats, consider using netCDF4.stringtochar to convert string arrays into character arrays with an additional dimension."
     ]
    }
   ],
   "source": [
    "[f.result() for f in gs_fut.values()]"
   ]
  },
  {
   "cell_type": "code",
   "execution_count": 19,
   "metadata": {},
   "outputs": [
    {
     "name": "stdout",
     "output_type": "stream",
     "text": [
      "a_kelp = 2000.0\n",
      "xmin = -7.5\n",
      "xmax = 7.5\n",
      "nx = 4\n",
      "ymin = -7.5\n",
      "ymax = 7.5\n",
      "ny = 4\n",
      "zmin = 0\n",
      "zmax = 10\n",
      "nz = 4\n",
      "frond_lengths.shape = (4,)\n",
      "frond_stds.shape = (4,)\n",
      "num_fronds.shape = (4,)\n",
      "water_speeds.shape = (4,)\n",
      "water_angles.shape = (4,)\n",
      "fs = 0.5\n",
      "fr = 5.0\n",
      "ft = 0.0004\n",
      "p_kelp.shape = (4, 4, 4)\n",
      "absorptance_kelp: 0.8 (<class 'float'>)\n",
      "a_water: 0.179 (<class 'float'>)\n",
      "b: 0.219 (<class 'float'>)\n",
      "ns: 4 (<class 'int'>)\n",
      "na: 4 (<class 'int'>)\n",
      "nx: 4 (<class 'int'>)\n",
      "ny: 4 (<class 'int'>)\n",
      "nz: 4 (<class 'int'>)\n",
      "ntheta: 4 (<class 'int'>)\n",
      "nphi: 4 (<class 'int'>)\n",
      "nomega: 10 (<class 'int'>)\n",
      "num_dens: 150 (<class 'int'>)\n",
      "kelp_dist: top-heavy (<class 'str'>)\n",
      "CREATE STR VAR: ('kelp_dist', 'S9', 'kelp_dist_dim')\n",
      "\n"
     ]
    }
   ],
   "source": [
    "print([f.stdout for f in gs_fut.values()][0])"
   ]
  },
  {
   "cell_type": "code",
   "execution_count": null,
   "metadata": {
    "scrolled": true
   },
   "outputs": [],
   "source": [
    "for sz, fut in gs_fut.items():\n",
    "    print(sz)\n",
    "    print(fut.stdout)\n",
    "    print()"
   ]
  },
  {
   "cell_type": "code",
   "execution_count": null,
   "metadata": {
    "scrolled": true
   },
   "outputs": [],
   "source": [
    "conn = sqlite3.connect(db_path)\n",
    "df = kelp_analyze.table_to_df(conn, 'gs1')\n",
    "conn.close()\n",
    "df"
   ]
  },
  {
   "cell_type": "markdown",
   "metadata": {},
   "source": [
    "## Analyze"
   ]
  },
  {
   "cell_type": "code",
   "execution_count": null,
   "metadata": {},
   "outputs": [],
   "source": [
    "conn = sqlite3.connect(db_path)\n",
    "res = kelp_analyze.query_results(conn, table_name, ns=10, nz=10, na=10)[0]\n",
    "conn.close()\n",
    "irrad = res['irrad'][:].data"
   ]
  },
  {
   "cell_type": "code",
   "execution_count": null,
   "metadata": {
    "scrolled": true
   },
   "outputs": [],
   "source": [
    "irrad"
   ]
  },
  {
   "cell_type": "code",
   "execution_count": null,
   "metadata": {
    "scrolled": false
   },
   "outputs": [],
   "source": [
    "perceived_irrad_dict, abs_err_arr, rel_err_arr, compute_time_dict = (\n",
    "    kelp_analyze.grid_study_analyze(db_path, table_name)\n",
    ")"
   ]
  },
  {
   "cell_type": "code",
   "execution_count": null,
   "metadata": {},
   "outputs": [],
   "source": [
    "list(zip(*perceived_irrad_dict.keys()))"
   ]
  },
  {
   "cell_type": "code",
   "execution_count": null,
   "metadata": {},
   "outputs": [],
   "source": [
    "ns_list, nz_list, na_list = (set(z) for z in zip(*perceived_irrad_dict.keys()))"
   ]
  },
  {
   "cell_type": "code",
   "execution_count": null,
   "metadata": {},
   "outputs": [],
   "source": [
    "ns_list"
   ]
  },
  {
   "cell_type": "code",
   "execution_count": null,
   "metadata": {
    "scrolled": false
   },
   "outputs": [],
   "source": [
    "kelp_analyze.grid_study_plot(perceived_irrad_dict, abs_err_arr, rel_err_arr, compute_time_dict, zmin, zmax)\n",
    "# TODO: Is this correct?"
   ]
  },
  {
   "cell_type": "code",
   "execution_count": null,
   "metadata": {},
   "outputs": [],
   "source": [
    "conn = sqlite3.connect(db_path)\n",
    "cursor = conn.execute('''\n",
    "SELECT ns, nz, na\n",
    "FROM gs1\n",
    "''')\n",
    "s = cursor.fetchall()\n",
    "conn.close()"
   ]
  },
  {
   "cell_type": "code",
   "execution_count": null,
   "metadata": {},
   "outputs": [],
   "source": [
    "perceived_irrad_dict.keys()"
   ]
  },
  {
   "cell_type": "code",
   "execution_count": null,
   "metadata": {},
   "outputs": [],
   "source": [
    "#grid_study_plot(ns_list, nz_list, na_list, perceived_irrad_dict, abs_err_arr, rel_err_arr)"
   ]
  },
  {
   "cell_type": "code",
   "execution_count": null,
   "metadata": {},
   "outputs": [],
   "source": [
    "#grid_study_plot(ns_list, nz_list, na_list, perceived_irrad_dict, abs_err_arr, rel_err_arr)"
   ]
  },
  {
   "cell_type": "markdown",
   "metadata": {},
   "source": [
    "# Grid Study 2"
   ]
  },
  {
   "cell_type": "code",
   "execution_count": null,
   "metadata": {},
   "outputs": [],
   "source": [
    "# Set parameters\n",
    "a_water = 0.5\n",
    "b = 0.05\n",
    "absorptance_kelp = 0.8\n",
    "kelp_profile='top-heavy'\n",
    "ns_max = 16\n",
    "nz_max = 16\n",
    "na_max = 2\n",
    "na_list = range(4,na_max+1,4)\n",
    "\n",
    "irrad_dict, abs_err_arr, rel_err_arr = grid_study_compute(a_water, absorptance_kelp, kelp_profile, [ns_max], [nz_max], na_list)"
   ]
  },
  {
   "cell_type": "code",
   "execution_count": null,
   "metadata": {},
   "outputs": [],
   "source": [
    "c = ipp.Client()"
   ]
  },
  {
   "cell_type": "code",
   "execution_count": null,
   "metadata": {},
   "outputs": [],
   "source": [
    "c.queue_status()"
   ]
  },
  {
   "cell_type": "code",
   "execution_count": null,
   "metadata": {},
   "outputs": [],
   "source": [
    "# Set parameters\n",
    "a_water = 0.5\n",
    "b = 0.05\n",
    "absorptance_kelp = 0.8\n",
    "kelp_profile='top-heavy'\n",
    "ns_max = 20\n",
    "nz_max = 20\n",
    "na_max = 20\n",
    "ns_list = range(4, ns_max+1, 2)\n",
    "nz_list = range(4, nz_max+1, 2)\n",
    "na_list = range(4, na_max+1, 2)\n",
    "\n",
    "ex = cf.ThreadPoolExecutor()\n",
    "gs2_fut = ex.submit(\n",
    "    grid_study_compute,\n",
    "    a_water, absorptance_kelp, kelp_profile, ns_list, nz_list, na_list\n",
    ")"
   ]
  },
  {
   "cell_type": "code",
   "execution_count": null,
   "metadata": {
    "scrolled": false
   },
   "outputs": [],
   "source": [
    "perceived_irrad_dict, abs_err_arr, rel_err_arr = gs2_fut.result()"
   ]
  },
  {
   "cell_type": "code",
   "execution_count": null,
   "metadata": {},
   "outputs": [],
   "source": [
    "grid_study_plot(ns_list, nz_list, na_list, perceived_irrad_dict, abs_err_arr, rel_err_arr)"
   ]
  },
  {
   "cell_type": "markdown",
   "metadata": {},
   "source": [
    "# Asymptotics Accuracy"
   ]
  },
  {
   "cell_type": "code",
   "execution_count": null,
   "metadata": {},
   "outputs": [],
   "source": [
    "# Set parameters\n",
    "aut8 = [0.144, 0.037]\n",
    "hao11 = [0.179, 0.219]\n",
    "nuc2200 = [0.337, 1.583]\n",
    "nuc2240 = [0.125, 1.205]\n",
    "petzold_iops = [aut8, hao11, nuc2200, nuc2240]\n",
    "petzold_names = ['aut8', 'hao11', 'nuc2200', 'nuc2240']\n",
    "\n",
    "ns = 22\n",
    "na = 22\n",
    "nz = 22\n",
    "kelp_profile='top-heavy'\n",
    "max_scatter = 16\n",
    "\n",
    "asym_conv_true_pi = {}\n",
    "asym_conv_gmres_time = {}\n",
    "\n",
    "for name, (a_water, b) in zip(petzold_names, petzold_iops):\n",
    "    # GMRES\n",
    "    gmres_results = lv.apply(kelp_param.kelp_calculate,\n",
    "        a_water,\n",
    "        b,\n",
    "        ns,\n",
    "        na,\n",
    "        nz,\n",
    "        kelp_profile,\n",
    "        absorptance_kelp=0.8,\n",
    "        gmres_flag=True,\n",
    "        num_scatters=0,\n",
    "        const=const\n",
    "    ).result()\n",
    "\n",
    "    p_kelp = gmres_results['p_kelp']\n",
    "    true_irrad = gmres_results['irradiance']\n",
    "    true_rad = gmres_results['radiance']\n",
    "    asym_conv_gmres_time[name] = gmres_results['duration']\n",
    "    true_perceived_irrad = np.sum(p_kelp*true_irrad, axis=(0,1)) / np.sum(p_kelp, axis=(0,1))\n",
    "    asym_conv_true_pi[name] = true_perceived_irrad"
   ]
  },
  {
   "cell_type": "code",
   "execution_count": null,
   "metadata": {},
   "outputs": [],
   "source": [
    "save_dict = {}\n",
    "res_dict = {}\n",
    "\n",
    "scat_nums = range(0, max_scatter+1, 4)\n",
    "# Run scattering cases\n",
    "for name, (a_water, b) in zip(petzold_names, petzold_iops):\n",
    "    res_list = []\n",
    "    save_list = []\n",
    "    true_perceived_irrad = asym_conv_true_pi[name]\n",
    "    for n in scat_nums:\n",
    "        print(\"n={}\".format(n))\n",
    "        #print(\"const={}\".format(const))\n",
    "        compute_results = lv.apply(kelp_param.kelp_calculate,\n",
    "            a_water,\n",
    "            b,\n",
    "            ns,\n",
    "            na,\n",
    "            nz,\n",
    "            kelp_profile,\n",
    "            absorptance_kelp=0.8,\n",
    "            gmres_flag=False,\n",
    "            num_scatters=n,\n",
    "            const=const\n",
    "        ).result()\n",
    "\n",
    "        irrad = compute_results['p_kelp']\n",
    "        irrad = compute_results['irradiance']\n",
    "        # Perceived irradiance for each depth layer\n",
    "        perceived_irrad = np.sum(p_kelp*irrad, axis=(0,1)) / np.sum(p_kelp, axis=(0,1))\n",
    "        perc_abs_err = np.abs(true_perceived_irrad - perceived_irrad)\n",
    "        perc_rel_err = np.abs((true_perceived_irrad - perceived_irrad)/true_perceived_irrad)\n",
    "\n",
    "        save_vals = {\n",
    "            'irrad': irrad.mean(axis=(0,1)),\n",
    "            'perceived_irrad': perceived_irrad,\n",
    "            'perc_abs_err': perc_abs_err,\n",
    "            'perc_rel_err': perc_rel_err,\n",
    "            'duration': compute_results['duration']\n",
    "        }\n",
    "\n",
    "        res_list.append(compute_results)\n",
    "        save_list.append(save_vals)\n",
    "    res_dict[name] = res_list\n",
    "    save_dict[name] = save_list"
   ]
  },
  {
   "cell_type": "code",
   "execution_count": null,
   "metadata": {},
   "outputs": [],
   "source": [
    "import dill"
   ]
  },
  {
   "cell_type": "markdown",
   "metadata": {},
   "source": [
    "### Plot Convergence Curves"
   ]
  },
  {
   "cell_type": "code",
   "execution_count": null,
   "metadata": {},
   "outputs": [],
   "source": [
    "!mkdir data figures -p"
   ]
  },
  {
   "cell_type": "code",
   "execution_count": null,
   "metadata": {},
   "outputs": [],
   "source": [
    "with open(\"data/asym_conv_save.dill\", 'wb') as fh:\n",
    "    dill.dump(save_dict, fh)"
   ]
  },
  {
   "cell_type": "code",
   "execution_count": null,
   "metadata": {},
   "outputs": [],
   "source": [
    "with open(\"data/asym_conv_res.dill\", 'wb') as fh:\n",
    "    dill.dump(res_dict, fh)"
   ]
  },
  {
   "cell_type": "code",
   "execution_count": null,
   "metadata": {},
   "outputs": [],
   "source": [
    "with open(\"data/asym_conv_gmres.dill\", 'wb') as fh:\n",
    "    dill.dump(gmres_results, fh)"
   ]
  },
  {
   "cell_type": "code",
   "execution_count": null,
   "metadata": {},
   "outputs": [],
   "source": [
    "dz = (zmax-zmin)/nz\n",
    "z = np.linspace(zmin+0.5*dz, zmax-0.5*dz, nz)\n",
    "for name, iops in zip(petzold_names, petzold_iops):\n",
    "    true_perceived_irrad = asym_conv_true_pi[name]\n",
    "    plt.figure(figsize=[8,6])\n",
    "    for i, scat in enumerate(res_dict[name]):\n",
    "        plt.plot(z, save_dict[name][i]['perceived_irrad'], 'o-', label='n={}'.format(scat_nums[i]))\n",
    "    \n",
    "    plt.plot(z, np.abs(true_perceived_irrad), 's-', lw=3, label='FD')\n",
    "    plt.title(\"{}: a_water={}, b={}\".format(name, *iops))\n",
    "    plt.xlabel('z (m)')\n",
    "    plt.ylabel(r'Perceived Irradiance ($\\mathrm{W/m}^2$)')\n",
    "    plt.yscale('log')\n",
    "    plt.legend()\n",
    "    plt.tight_layout()\n",
    "    plt.savefig('figures/asym_conv_irrad_{}.png'.format(name), dpi=300)\n",
    "    \n",
    "plt.show()"
   ]
  },
  {
   "cell_type": "code",
   "execution_count": null,
   "metadata": {},
   "outputs": [],
   "source": [
    "dz = (zmax-zmin)/nz\n",
    "z = np.linspace(zmin+0.5*dz, zmax-0.5*dz, nz)\n",
    "for name, iops in zip(petzold_names, petzold_iops):\n",
    "    true_perceived_irrad = asym_conv_true_pi[name]\n",
    "    plt.figure(figsize=[8,6])\n",
    "    for i, scat in enumerate(res_dict[name]):\n",
    "        plt.plot(z, save_dict[name][i]['perc_rel_err'], 'o-', label='n={}'.format(scat_nums[i]))\n",
    "    \n",
    "    #plt.plot(z, np.abs(true_perceived_irrad), 'o-', label='FD')\n",
    "    plt.title(\"{}: a_water={}, b={}\".format(name, *iops))\n",
    "    plt.xlabel('z (m)')\n",
    "    plt.ylabel('Relative Error: Perceived Irradiance')\n",
    "    plt.yscale('log')\n",
    "    plt.legend()\n",
    "    plt.tight_layout()\n",
    "    plt.savefig('figures/asym_conv_rel_err_{}.png'.format(name), dpi=300)\n",
    "    \n",
    "plt.show()"
   ]
  },
  {
   "cell_type": "code",
   "execution_count": null,
   "metadata": {},
   "outputs": [],
   "source": [
    "plt.figure(figsize=[8,6])\n",
    "for name, iops in zip(petzold_names[:-2], petzold_iops[:-2]):\n",
    "    abs_err = np.array([res['perc_abs_err'].mean() for res in save_dict[name]])\n",
    "    rel_err = np.array([res['perc_rel_err'].mean() for res in save_dict[name]])\n",
    "    plt.plot(scat_nums, rel_err, 'o-', label='{}: a={}, b={}'.format(name, *iops))\n",
    "    \n",
    "plt.xticks(scat_nums)\n",
    "plt.xlabel('# of Scattering Events')\n",
    "plt.ylabel('Relative Error (Perceived Irrad)')\n",
    "plt.yscale('log')\n",
    "plt.legend()\n",
    "plt.tight_layout()\n",
    "plt.savefig('figures/asym_conv_compare.png')\n",
    "plt.show()"
   ]
  },
  {
   "cell_type": "code",
   "execution_count": null,
   "metadata": {},
   "outputs": [],
   "source": [
    "np.array([res['perc_rel_err'].mean() for res in save_dict['aut8']])"
   ]
  },
  {
   "cell_type": "markdown",
   "metadata": {},
   "source": [
    "# Sensitivity Analysis"
   ]
  },
  {
   "cell_type": "code",
   "execution_count": null,
   "metadata": {},
   "outputs": [],
   "source": [
    "def f(x, y):\n",
    "    print(\"x={}, y={}\")"
   ]
  },
  {
   "cell_type": "code",
   "execution_count": null,
   "metadata": {},
   "outputs": [],
   "source": [
    "def vary_params(**user_params):\n",
    "    \"\"\"Supply lists of param values. Only specify ones you're interested in. \n",
    "    Will be varied from base case separately.\"\"\"\n",
    "    base_params = {\n",
    "        'a_water': 0.179,\n",
    "        'b': 0.219,\n",
    "        'ns': 16,\n",
    "        'na': 16,\n",
    "        'nz': 16,\n",
    "        'absorptance_kelp': 0.8,\n",
    "        'kelp_profile': 'top-heavy',\n",
    "        'gmres_flag': False,\n",
    "        'num_scatters': 12,\n",
    "        'const': const\n",
    "    }\n",
    "    \n",
    "    results_dict = {}\n",
    "    perceived_irrad_dict = {}\n",
    "    \n",
    "    # Combine, with user overrides, one at a time.\n",
    "    for param, vals in user_params.items():\n",
    "        for val in vals:\n",
    "            new_params = {**base_params, **{param: val}}\n",
    "            compute_results = lv.apply(kelp_param.kelp_calculate, **new_params).result()\n",
    "            results_dict[(param, val)] = compute_results\n",
    "    \n",
    "            p_kelp = compute_results['p_kelp']\n",
    "            irrad = compute_results['irradiance']\n",
    "            perceived_irrad = np.sum(p_kelp*irrad, axis=(0,1)) / np.sum(p_kelp, axis=(0,1))\n",
    "            perceived_irrad_dict[(param, val)] = perceived_irrad\n",
    "            \n",
    "    \n",
    "    return results_dict, perceived_irrad_dict"
   ]
  },
  {
   "cell_type": "code",
   "execution_count": null,
   "metadata": {},
   "outputs": [],
   "source": [
    "def plot_params(user_dict, perceived_irrad_dict):\n",
    "    for param, vals in user_dict.items():\n",
    "        plt.figure()\n",
    "        for val in vals:\n",
    "            perceived_irrad = perceived_irrad_dict[(param, val)]\n",
    "            nz = len(perceived_irrad)\n",
    "            dz = (zmax-zmin)/nz\n",
    "            z = np.linspace(zmin+0.5*dz, zmax-0.5*dz, nz)\n",
    "            param_str = val\n",
    "            if param == 'b':\n",
    "                param_str = 'b/a={:.2f}'.format(val/a_water)\n",
    "            elif isinstance(val, float):\n",
    "                param_str = '{:.2f}'.format(val)\n",
    "            plt.plot(z, perceived_irrad, 'o-', label='{}'.format(param_str))\n",
    "        #plt.legend(loc='upper left', bbox_to_anchor=(1.05,1))\n",
    "        plt.legend()\n",
    "        plt.xlabel('z (m)')\n",
    "        plt.ylabel(r'Perceived Irradiance ($\\mathrm{W/m}^2$)')\n",
    "        plt.yscale('log')\n",
    "        plt.savefig('figures/sens_analysis_{}.png'.format(param), dpi=300)\n",
    "        plt.tight_layout()\n",
    "        plt.show()"
   ]
  },
  {
   "cell_type": "code",
   "execution_count": null,
   "metadata": {},
   "outputs": [],
   "source": [
    "user_dict = dict(\n",
    "    kelp_profile=['top-heavy', 'uniform', 'bottom-heavy'],\n",
    "    absorptance_kelp=np.linspace(0.6,1.0,5),\n",
    "    b = a_water * np.linspace(0.5, 2.0, 5)\n",
    ")\n",
    "results_dict, perceived_irrad_dict = vary_params(**user_dict)"
   ]
  },
  {
   "cell_type": "code",
   "execution_count": null,
   "metadata": {},
   "outputs": [],
   "source": [
    "plot_params(user_dict, perceived_irrad_dict)"
   ]
  },
  {
   "cell_type": "code",
   "execution_count": null,
   "metadata": {},
   "outputs": [],
   "source": [
    "user_dict = dict(\n",
    "    b = a_water * np.linspace(0.5, 2.0, 10)\n",
    ")\n",
    "results_dict, perceived_irrad_dict = vary_params(**user_dict)"
   ]
  },
  {
   "cell_type": "code",
   "execution_count": null,
   "metadata": {},
   "outputs": [],
   "source": [
    "plot_params(user_dict, perceived_irrad_dict)"
   ]
  },
  {
   "cell_type": "code",
   "execution_count": null,
   "metadata": {},
   "outputs": [],
   "source": [
    "user_dict = dict(\n",
    "    a_water = np.linspace(0.05, 0.5, 10)\n",
    ")\n",
    "results_dict, perceived_irrad_dict = vary_params(**user_dict)"
   ]
  },
  {
   "cell_type": "code",
   "execution_count": null,
   "metadata": {},
   "outputs": [],
   "source": [
    "plot_params(user_dict, perceived_irrad_dict)"
   ]
  },
  {
   "cell_type": "code",
   "execution_count": null,
   "metadata": {},
   "outputs": [],
   "source": []
  }
 ],
 "metadata": {
  "kernelspec": {
   "display_name": "Python 3 (kelp)",
   "language": "python",
   "name": "kelp"
  },
  "language_info": {
   "codemirror_mode": {
    "name": "ipython",
    "version": 3
   },
   "file_extension": ".py",
   "mimetype": "text/x-python",
   "name": "python",
   "nbconvert_exporter": "python",
   "pygments_lexer": "ipython3",
   "version": "3.6.5"
  }
 },
 "nbformat": 4,
 "nbformat_minor": 2
}
