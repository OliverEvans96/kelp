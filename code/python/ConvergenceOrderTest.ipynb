{
 "cells": [
  {
   "cell_type": "markdown",
   "metadata": {},
   "source": [
    "# Determining convergence order for a multidimensional algorithm"
   ]
  },
  {
   "cell_type": "code",
   "execution_count": 1,
   "metadata": {},
   "outputs": [],
   "source": [
    "import numpy as np\n",
    "from scipy.integrate import nquad\n",
    "import matplotlib.pyplot as plt\n",
    "from scipy.optimize import minimize"
   ]
  },
  {
   "cell_type": "code",
   "execution_count": 2,
   "metadata": {},
   "outputs": [],
   "source": [
    "from sklearn import linear_model"
   ]
  },
  {
   "cell_type": "code",
   "execution_count": 3,
   "metadata": {},
   "outputs": [],
   "source": [
    "%matplotlib inline"
   ]
  },
  {
   "cell_type": "markdown",
   "metadata": {},
   "source": [
    "## Integration Algorithms"
   ]
  },
  {
   "cell_type": "code",
   "execution_count": 4,
   "metadata": {},
   "outputs": [],
   "source": [
    "def midpoint_comp_2d(f, x0, x1, y0, y1, nx, ny):\n",
    "    dx = (x1-x0)/nx\n",
    "    dy = (y1-y0)/ny\n",
    "    x = (x0 + dx * (0.5 + np.arange(nx))).reshape(nx, 1)\n",
    "    y = (y0 + dy * (0.5 + np.arange(ny))).reshape(1, ny)\n",
    "    \n",
    "    f_vec = np.vectorize(f)\n",
    "    return dx * dy * np.sum(f_vec(x, y))\n",
    "\n",
    "def true_integral_2d(f, x0, x1, y0, y1):\n",
    "    return nquad(f, ((x0, x1), (y0, y1)))"
   ]
  },
  {
   "cell_type": "markdown",
   "metadata": {},
   "source": [
    "## Curve fitting"
   ]
  },
  {
   "cell_type": "code",
   "execution_count": 136,
   "metadata": {},
   "outputs": [],
   "source": [
    "def robust_lin_regression(x_arr, y_arr, w=None, regressor=None):\n",
    "    if regressor:\n",
    "        reg = getattr(linear_model, regressor)()\n",
    "    else:\n",
    "        reg = linear_model.HuberRegressor()\n",
    "    if len(np.shape(x_arr)) == 1:\n",
    "        X = x_arr.reshape(-1, 1)\n",
    "    else:\n",
    "        X = x_arr\n",
    "    y = y_arr\n",
    "    if w is not None:\n",
    "        reg.fit(X, y, sample_weight=w)\n",
    "    else:\n",
    "        reg.fit(X, y)\n",
    "    vals = reg.predict([np.zeros_like(X[0]), np.ones_like(X[0])])\n",
    "    b = vals[0]\n",
    "    m = vals[1] - b\n",
    "    \n",
    "    return m, b"
   ]
  },
  {
   "cell_type": "code",
   "execution_count": 100,
   "metadata": {},
   "outputs": [],
   "source": [
    "def robust_2d_lin_regression(x_arr, y_arr, z_arr, w=None, regressor=None):\n",
    "    if regressor:\n",
    "        reg = getattr(linear_model, regressor)()\n",
    "    else:\n",
    "        reg = linear_model.HuberRegressor()\n",
    "    X = x_arr.reshape(-1, 1)\n",
    "    y = y_arr\n",
    "    if w is not None:\n",
    "        reg.fit(X, y, sample_weight=w)\n",
    "    else:\n",
    "        reg.fit(X, y)\n",
    "    vals = reg.predict([[0], [1]])\n",
    "    b = vals[0]\n",
    "    m = vals[1] - b\n",
    "    \n",
    "    return m, b"
   ]
  },
  {
   "cell_type": "code",
   "execution_count": 6,
   "metadata": {},
   "outputs": [],
   "source": [
    "def lin_fit(x, y, x0=-np.inf, x1=np.inf):\n",
    "    x_arr = np.array(x)\n",
    "    y_arr = np.array(y)\n",
    "    which_inds = np.logical_and(\n",
    "        x_arr>=x0,\n",
    "        x_arr<=x1\n",
    "    )\n",
    "    x_fit = x_arr[which_inds]\n",
    "    y_fit = y_arr[which_inds]\n",
    "    \n",
    "    def resid(args):\n",
    "        m, b = args\n",
    "        res = np.sum((m*x_fit + b - y_fit) ** 2)\n",
    "        return res\n",
    "    \n",
    "    m0 = 1\n",
    "    b0 = 0\n",
    "    res = minimize(resid, (m0, b0))\n",
    "    m, b = res.x\n",
    "    \n",
    "    return m, b"
   ]
  },
  {
   "cell_type": "code",
   "execution_count": 7,
   "metadata": {},
   "outputs": [],
   "source": [
    "def plot_lin_fit(x, y, x0, x1, xlabel='x', ylabel='y', log=True):\n",
    "    xmin = np.min(x)\n",
    "    ymin = np.min(y)\n",
    "    xmax = np.max(x)\n",
    "    ymax = np.max(y)\n",
    "    \n",
    "    plt.plot(x, y, 'o-')\n",
    "    plt.xlabel(xlabel)\n",
    "    plt.ylabel(ylabel)\n",
    "    plt.vlines((x0, x1), ymin, ymax, colors='k', linestyles='dashed')\n",
    "    \n",
    "    m, b = lin_fit(x, y, x0, x1)\n",
    "    label = 'm={:.2f}, b={:.2f}'.format(m, b)\n",
    "    plt.plot([xmin, xmax], [m*xmin + b, m*xmax + b], '--')\n",
    "    plt.title(label)\n",
    "    plt.show()"
   ]
  },
  {
   "cell_type": "markdown",
   "metadata": {},
   "source": [
    "## Define function and bounds"
   ]
  },
  {
   "cell_type": "code",
   "execution_count": 8,
   "metadata": {},
   "outputs": [],
   "source": [
    "def f(x, y):\n",
    "    return np.sin(x) + np.sin(10*y) + (x-y)**2"
   ]
  },
  {
   "cell_type": "code",
   "execution_count": 9,
   "metadata": {},
   "outputs": [],
   "source": [
    "x0 = 1\n",
    "x1 = 2\n",
    "y0 = 0\n",
    "y1 = 4"
   ]
  },
  {
   "cell_type": "markdown",
   "metadata": {},
   "source": [
    "## Plot"
   ]
  },
  {
   "cell_type": "code",
   "execution_count": 10,
   "metadata": {},
   "outputs": [
    {
     "data": {
      "image/png": "[encoded data removed]",
      "text/plain": [
       "<Figure size 432x288 with 2 Axes>"
      ]
     },
     "metadata": {
      "needs_background": "light"
     },
     "output_type": "display_data"
    }
   ],
   "source": [
    "Nc = 101\n",
    "xc = np.linspace(x0, x1, Nc)\n",
    "yc = np.linspace(y0, y1, Nc)\n",
    "xc, yc = np.meshgrid(xc, yc, indexing='ij')\n",
    "\n",
    "plt.contourf(xc, yc, f(xc, yc))\n",
    "plt.colorbar()\n",
    "plt.contour(xc, yc, f(xc, yc), colors='k')\n",
    "plt.xlabel('x')\n",
    "plt.ylabel('y')\n",
    "plt.show()"
   ]
  },
  {
   "cell_type": "markdown",
   "metadata": {},
   "source": [
    "## Calculate true solution"
   ]
  },
  {
   "cell_type": "code",
   "execution_count": 11,
   "metadata": {},
   "outputs": [
    {
     "name": "stdout",
     "output_type": "stream",
     "text": [
      "10.659157042493021 1.6371888924855e-12\n"
     ]
    }
   ],
   "source": [
    "true_soln, true_err = true_integral_2d(f, x0, x1, y0, y1)\n",
    "print(true_soln, true_err)"
   ]
  },
  {
   "cell_type": "markdown",
   "metadata": {},
   "source": [
    "## Run grid cases"
   ]
  },
  {
   "cell_type": "code",
   "execution_count": 12,
   "metadata": {},
   "outputs": [],
   "source": [
    "nx_list = np.unique(np.round(np.logspace(0, 2.5, 20)).astype(int))\n",
    "ny_list = np.unique(np.round(np.logspace(0, 3.5, 20)).astype(int))\n",
    "\n",
    "soln_arr = np.zeros([len(nx_list), len(ny_list)])\n",
    "err_arr = np.zeros([len(nx_list), len(ny_list)])\n",
    "\n",
    "for i, nx in enumerate(nx_list):\n",
    "    for j, ny in enumerate(ny_list):\n",
    "        approx_soln = midpoint_comp_2d(f, x0, x1, y0, y1, nx, ny)\n",
    "        soln_arr[i, j] = approx_soln\n",
    "        err_arr[i, j] = np.abs(true_soln - approx_soln)"
   ]
  },
  {
   "cell_type": "markdown",
   "metadata": {},
   "source": [
    "## Plot error"
   ]
  },
  {
   "cell_type": "code",
   "execution_count": 13,
   "metadata": {},
   "outputs": [
    {
     "data": {
      "image/png": "[encoded data removed]",
      "text/plain": [
       "<Figure size 432x288 with 2 Axes>"
      ]
     },
     "metadata": {
      "needs_background": "light"
     },
     "output_type": "display_data"
    }
   ],
   "source": [
    "dx_list = (x1-x0)/np.array(nx_list)\n",
    "dy_list = (y1-y0)/np.array(ny_list)\n",
    "\n",
    "dx_grid, dy_grid = np.meshgrid(dx_list, dy_list, indexing='ij')\n",
    "\n",
    "dx_plot = np.log10(dx_grid)\n",
    "dy_plot = np.log10(dy_grid)\n",
    "err_plot = np.log10(err_arr)\n",
    "\n",
    "plt.contourf(dx_plot, dy_plot, err_plot)\n",
    "plt.colorbar(label='log10(err)')\n",
    "plt.plot(dx_plot, dy_plot, 'ok', ms=1)\n",
    "plt.contour(dx_plot, dy_plot, err_plot, colors='k')\n",
    "plt.xlabel('log10(dx)')\n",
    "plt.ylabel('log10(dy)')\n",
    "plt.show()"
   ]
  },
  {
   "cell_type": "code",
   "execution_count": 37,
   "metadata": {},
   "outputs": [
    {
     "data": {
      "image/png": "[encoded data removed]",
      "text/plain": [
       "<Figure size 432x288 with 2 Axes>"
      ]
     },
     "metadata": {
      "needs_background": "light"
     },
     "output_type": "display_data"
    }
   ],
   "source": [
    "dx_list = (x1-x0)/np.array(nx_list)\n",
    "dy_list = (y1-y0)/np.array(ny_list)\n",
    "\n",
    "dx_grid, dy_grid = np.meshgrid(dx_list, dy_list, indexing='ij')\n",
    "\n",
    "dx_plot = dx_grid**2\n",
    "dy_plot = dy_grid**2\n",
    "err_plot = soln_arr\n",
    "\n",
    "plt.contourf(dx_plot, dy_plot, err_plot)\n",
    "plt.colorbar(label='err')\n",
    "plt.plot(dx_plot, dy_plot, 'ok', ms=1)\n",
    "plt.contour(dx_plot, dy_plot, err_plot, colors='k')\n",
    "plt.xlabel('dx')\n",
    "plt.ylabel('dy')\n",
    "plt.show()"
   ]
  },
  {
   "cell_type": "code",
   "execution_count": 14,
   "metadata": {},
   "outputs": [
    {
     "data": {
      "text/plain": [
       "10.659157042493021"
      ]
     },
     "execution_count": 14,
     "metadata": {},
     "output_type": "execute_result"
    }
   ],
   "source": [
    "true_soln"
   ]
  },
  {
   "cell_type": "code",
   "execution_count": 15,
   "metadata": {},
   "outputs": [
    {
     "data": {
      "text/plain": [
       "array([4.00000000e+00, 2.00000000e+00, 1.00000000e+00, 8.00000000e-01,\n",
       "       5.00000000e-01, 3.07692308e-01, 2.10526316e-01, 1.33333333e-01,\n",
       "       8.88888889e-02, 5.71428571e-02, 3.77358491e-02, 2.46913580e-02,\n",
       "       1.61290323e-02, 1.05540897e-02, 6.89655172e-03, 4.51467269e-03,\n",
       "       2.95420975e-03, 1.93330111e-03, 1.26502214e-03])"
      ]
     },
     "execution_count": 15,
     "metadata": {},
     "output_type": "execute_result"
    }
   ],
   "source": [
    "dy_grid[0,:]"
   ]
  },
  {
   "cell_type": "code",
   "execution_count": 16,
   "metadata": {},
   "outputs": [
    {
     "data": {
      "text/plain": [
       "array([10.49000766, 10.61596885, 10.63989017, 10.65220806, 10.65432996,\n",
       "       10.65644118, 10.65772054, 10.65838471, 10.65876326, 10.65893578,\n",
       "       10.65903718, 10.65909075, 10.65912213, 10.65913794, 10.65914684,\n",
       "       10.65915181, 10.65915444, 10.65915588])"
      ]
     },
     "execution_count": 16,
     "metadata": {},
     "output_type": "execute_result"
    }
   ],
   "source": [
    "soln_arr[:,-1]"
   ]
  },
  {
   "cell_type": "code",
   "execution_count": 17,
   "metadata": {},
   "outputs": [
    {
     "data": {
      "text/plain": [
       "array([ 8.81090916,  6.09502269,  9.28995731,  9.39808558, 11.10545884,\n",
       "       10.71748944, 10.67966905, 10.66624875, 10.66213858, 10.6603566 ,\n",
       "       10.65967381, 10.65937628, 10.65924941, 10.65919556, 10.65917249,\n",
       "       10.65916266, 10.65915845, 10.65915665, 10.65915588])"
      ]
     },
     "execution_count": 17,
     "metadata": {},
     "output_type": "execute_result"
    }
   ],
   "source": [
    "soln_arr[-1,:]"
   ]
  },
  {
   "cell_type": "markdown",
   "metadata": {},
   "source": [
    "## Calculate error for best slices"
   ]
  },
  {
   "cell_type": "code",
   "execution_count": 19,
   "metadata": {},
   "outputs": [
    {
     "name": "stdout",
     "output_type": "stream",
     "text": [
      "dx\n"
     ]
    },
    {
     "data": {
      "image/png": "[encoded data removed]",
      "text/plain": [
       "<Figure size 432x288 with 1 Axes>"
      ]
     },
     "metadata": {
      "needs_background": "light"
     },
     "output_type": "display_data"
    },
    {
     "name": "stdout",
     "output_type": "stream",
     "text": [
      "dy\n"
     ]
    },
    {
     "data": {
      "image/png": "[encoded data removed]",
      "text/plain": [
       "<Figure size 432x288 with 1 Axes>"
      ]
     },
     "metadata": {
      "needs_background": "light"
     },
     "output_type": "display_data"
    }
   ],
   "source": [
    "print(\"dx\")\n",
    "dx_slice = dx_grid[:,-1] \n",
    "err_slice = err_arr[:,-1]\n",
    "plot_lin_fit(np.log10(dx_slice), np.log10(err_slice), -2, 0, xlabel='dx', ylabel='log10(err)')\n",
    "\n",
    "print(\"dy\")\n",
    "dy_slice = dy_grid[-1,:] \n",
    "err_slice = err_arr[-1,:]\n",
    "plot_lin_fit(np.log10(dy_slice), np.log10(err_slice), -2.1, -0.7, xlabel='dy', ylabel='log10(err)')"
   ]
  },
  {
   "cell_type": "markdown",
   "metadata": {},
   "source": [
    "# Error estimation, Richardson extrapolation"
   ]
  },
  {
   "cell_type": "code",
   "execution_count": 111,
   "metadata": {},
   "outputs": [
    {
     "data": {
      "image/png": "[encoded data removed]",
      "text/plain": [
       "<Figure size 432x288 with 1 Axes>"
      ]
     },
     "metadata": {
      "needs_background": "light"
     },
     "output_type": "display_data"
    },
    {
     "name": "stdout",
     "output_type": "stream",
     "text": [
      "X EXTRAP\n",
      "best_err: 4.46e-01, RE_err: 4.46e-01, estim_err: 5.81e-06\n",
      "best_soln : 1.11054548e+01\n",
      "RE_soln   : 1.11054606e+01 \n",
      "true_soln : 1.06591570e+01\n",
      "\n"
     ]
    },
    {
     "data": {
      "image/png": "[encoded data removed]",
      "text/plain": [
       "<Figure size 432x288 with 1 Axes>"
      ]
     },
     "metadata": {
      "needs_background": "light"
     },
     "output_type": "display_data"
    },
    {
     "name": "stdout",
     "output_type": "stream",
     "text": [
      "Y EXTRAP\n",
      "best_err: 4.46e-01, RE_err: 4.37e-01, esim_err: 8.93e-03\n",
      "best_soln : 1.11054548e+01\n",
      "RE_soln   : 1.10965226e+01 \n",
      "true_soln : 1.06591570e+01\n"
     ]
    }
   ],
   "source": [
    "i, j = 15, 4\n",
    "\n",
    "inds = np.zeros_like(soln_arr, dtype=bool)\n",
    "inds[:i+1, j] = True\n",
    "x = dx_grid[inds]**2\n",
    "y = soln_arr[inds]\n",
    "soln_subset = soln_arr[inds]\n",
    "m, b = robust_lin_regression(x, y, w=1/x)\n",
    "#xl = np.array([np.min(x), np.max(x)])\n",
    "yl = m*x + b\n",
    "plt.figure()\n",
    "plt.plot(x, y, 'o')\n",
    "plt.plot(x, yl, '--')\n",
    "plt.xlabel('dx^2')\n",
    "plt.ylabel('soln')\n",
    "plt.show()\n",
    "\n",
    "best_soln = soln_subset[-1]\n",
    "best_err = np.abs(true_soln - best_soln)\n",
    "re_err = np.abs(true_soln - b)\n",
    "estim_err = np.abs(best_soln - b)\n",
    "print(\"X EXTRAP\")\n",
    "print(\"best_err: {:.2e}, RE_err: {:.2e}, estim_err: {:.2e}\".format(best_err, re_err, estim_err))\n",
    "print(\"{:10s}: {:.8e}\".format('best_soln', best_soln))\n",
    "print(\"{:10s}: {:.8e} \".format('RE_soln', b))\n",
    "print(\"{:10s}: {:.8e}\".format('true_soln', true_soln))\n",
    "print()\n",
    "\n",
    "inds = np.zeros_like(soln_arr, dtype=bool)\n",
    "inds[i, :j+1] = True\n",
    "x = dy_grid[inds]**2\n",
    "y = soln_arr[inds]\n",
    "soln_subset = soln_arr[inds]\n",
    "m, b = robust_lin_regression(x, y, w=1/x)\n",
    "#xl = np.array([np.min(x), np.max(x)])\n",
    "yl = m*x + b\n",
    "plt.figure()\n",
    "plt.plot(x, y, 'o')\n",
    "plt.plot(x, yl, '--')\n",
    "plt.xlabel('dy^2')\n",
    "plt.ylabel('soln')\n",
    "plt.show()\n",
    "\n",
    "best_soln = soln_subset[-1]\n",
    "best_err = np.abs(true_soln - best_soln)\n",
    "re_err = np.abs(true_soln - b)\n",
    "estim_err = np.abs(best_soln - b)\n",
    "print(\"Y EXTRAP\")\n",
    "print(\"best_err: {:.2e}, RE_err: {:.2e}, esim_err: {:.2e}\".format(best_err, re_err, estim_err))\n",
    "print(\"{:10s}: {:.8e}\".format('best_soln', best_soln))\n",
    "print(\"{:10s}: {:.8e} \".format('RE_soln', b))\n",
    "print(\"{:10s}: {:.8e}\".format('true_soln', true_soln))"
   ]
  },
  {
   "cell_type": "code",
   "execution_count": 137,
   "metadata": {},
   "outputs": [
    {
     "data": {
      "image/png": "[encoded data removed]",
      "text/plain": [
       "<Figure size 432x288 with 1 Axes>"
      ]
     },
     "metadata": {
      "needs_background": "light"
     },
     "output_type": "display_data"
    },
    {
     "name": "stdout",
     "output_type": "stream",
     "text": [
      "X EXTRAP\n",
      "best_err: 4.46e-01, RE_err: 4.46e-01, estim_err: 5.81e-06\n",
      "best_soln : 1.11054548e+01\n",
      "RE_soln   : 1.11054606e+01 \n",
      "true_soln : 1.06591570e+01\n",
      "\n"
     ]
    },
    {
     "data": {
      "image/png": "[encoded data removed]",
      "text/plain": [
       "<Figure size 432x288 with 1 Axes>"
      ]
     },
     "metadata": {
      "needs_background": "light"
     },
     "output_type": "display_data"
    },
    {
     "name": "stdout",
     "output_type": "stream",
     "text": [
      "Y EXTRAP\n",
      "best_err: 4.46e-01, RE_err: 4.37e-01, esim_err: 8.93e-03\n",
      "best_soln : 1.11054548e+01\n",
      "RE_soln   : 1.10965226e+01 \n",
      "true_soln : 1.06591570e+01\n"
     ]
    }
   ],
   "source": [
    "i, j = 15, 4\n",
    "\n",
    "# X\n",
    "inds = np.zeros_like(soln_arr, dtype=bool)\n",
    "inds[:i+1, j] = True\n",
    "x = dx_grid[inds]**2\n",
    "y = soln_arr[inds]\n",
    "soln_subset = soln_arr[inds]\n",
    "m, b = robust_lin_regression(x, y, w=1/x)\n",
    "#xl = np.array([np.min(x), np.max(x)])\n",
    "yl = m*x + b\n",
    "plt.figure()\n",
    "plt.plot(x, y, 'o')\n",
    "plt.plot(x, yl, '--')\n",
    "plt.xlabel('dx^2')\n",
    "plt.ylabel('soln')\n",
    "plt.show()\n",
    "\n",
    "best_soln = soln_subset[-1]\n",
    "best_err = np.abs(true_soln - best_soln)\n",
    "re_err = np.abs(true_soln - b)\n",
    "estim_err = np.abs(best_soln - b)\n",
    "print(\"X EXTRAP\")\n",
    "print(\"best_err: {:.2e}, RE_err: {:.2e}, estim_err: {:.2e}\".format(best_err, re_err, estim_err))\n",
    "print(\"{:10s}: {:.8e}\".format('best_soln', best_soln))\n",
    "print(\"{:10s}: {:.8e} \".format('RE_soln', b))\n",
    "print(\"{:10s}: {:.8e}\".format('true_soln', true_soln))\n",
    "print()\n",
    "\n",
    "# Y\n",
    "inds = np.zeros_like(soln_arr, dtype=bool)\n",
    "inds[i, :j+1] = True\n",
    "x = dy_grid[inds]**2\n",
    "y = soln_arr[inds]\n",
    "soln_subset = soln_arr[inds]\n",
    "m, b = robust_lin_regression(x, y, w=1/x)\n",
    "#xl = np.array([np.min(x), np.max(x)])\n",
    "yl = m*x + b\n",
    "plt.figure()\n",
    "plt.plot(x, y, 'o')\n",
    "plt.plot(x, yl, '--')\n",
    "plt.xlabel('dy^2')\n",
    "plt.ylabel('soln')\n",
    "plt.show()\n",
    "\n",
    "best_soln = soln_subset[-1]\n",
    "best_err = np.abs(true_soln - best_soln)\n",
    "re_err = np.abs(true_soln - b)\n",
    "estim_err = np.abs(best_soln - b)\n",
    "print(\"Y EXTRAP\")\n",
    "print(\"best_err: {:.2e}, RE_err: {:.2e}, esim_err: {:.2e}\".format(best_err, re_err, estim_err))\n",
    "print(\"{:10s}: {:.8e}\".format('best_soln', best_soln))\n",
    "print(\"{:10s}: {:.8e} \".format('RE_soln', b))\n",
    "print(\"{:10s}: {:.8e}\".format('true_soln', true_soln))"
   ]
  },
  {
   "cell_type": "code",
   "execution_count": 127,
   "metadata": {},
   "outputs": [
    {
     "data": {
      "text/plain": [
       "(20, 2)"
      ]
     },
     "execution_count": 127,
     "metadata": {},
     "output_type": "execute_result"
    }
   ],
   "source": [
    "X.shape"
   ]
  },
  {
   "cell_type": "code",
   "execution_count": 128,
   "metadata": {},
   "outputs": [
    {
     "data": {
      "text/plain": [
       "(20,)"
      ]
     },
     "execution_count": 128,
     "metadata": {},
     "output_type": "execute_result"
    }
   ],
   "source": [
    "x.shape"
   ]
  },
  {
   "cell_type": "code",
   "execution_count": 130,
   "metadata": {},
   "outputs": [
    {
     "data": {
      "text/plain": [
       "(20,)"
      ]
     },
     "execution_count": 130,
     "metadata": {},
     "output_type": "execute_result"
    }
   ],
   "source": [
    "z.shape"
   ]
  },
  {
   "cell_type": "code",
   "execution_count": 146,
   "metadata": {},
   "outputs": [
    {
     "name": "stdout",
     "output_type": "stream",
     "text": [
      "hi\n"
     ]
    }
   ],
   "source": [
    "print(\"hi\")"
   ]
  },
  {
   "cell_type": "code",
   "execution_count": null,
   "metadata": {},
   "outputs": [],
   "source": [
    "x"
   ]
  },
  {
   "cell_type": "code",
   "execution_count": 143,
   "metadata": {},
   "outputs": [
    {
     "data": {
      "image/png": "[encoded data removed]",
      "text/plain": [
       "<Figure size 432x288 with 1 Axes>"
      ]
     },
     "metadata": {
      "needs_background": "light"
     },
     "output_type": "display_data"
    },
    {
     "name": "stdout",
     "output_type": "stream",
     "text": [
      "2D EXTRAP\n",
      "best_err: 4.46e-01, RE_err: 4.83e-01, esim_err: 3.63e-02\n",
      "best_soln : 1.11054548e+01\n",
      "RE_soln   : 1.11417511e+01 \n",
      "true_soln : 1.06591570e+01\n"
     ]
    }
   ],
   "source": [
    "# 2D\n",
    "inds = np.zeros_like(soln_arr, dtype=bool)\n",
    "inds[i, :j+1] = True\n",
    "inds[:i+1, j] = True\n",
    "soln_subset = soln_arr[inds]\n",
    "x = dx_grid[inds]**2\n",
    "y = dy_grid[inds]**2\n",
    "z = soln_arr[inds]\n",
    "X = np.vstack([x, y]).T\n",
    "m, b = robust_lin_regression(X, z, w=np.sqrt(x+y))\n",
    "#xl = np.array([np.min(x), np.max(x)])\n",
    "yl = m*x + b\n",
    "plt.figure()\n",
    "plt.scatter(x, y, c=z)\n",
    "plt.xlabel('dx^2')\n",
    "plt.ylabel('dy^2')\n",
    "#plt.xscale('log')\n",
    "#plt.yscale('log')\n",
    "plt.show()\n",
    "\n",
    "best_soln = soln_subset[-1]\n",
    "best_err = np.abs(true_soln - best_soln)\n",
    "re_err = np.abs(true_soln - b)\n",
    "estim_err = np.abs(best_soln - b)\n",
    "print(\"2D EXTRAP\")\n",
    "print(\"best_err: {:.2e}, RE_err: {:.2e}, esim_err: {:.2e}\".format(best_err, re_err, estim_err))\n",
    "print(\"{:10s}: {:.8e}\".format('best_soln', best_soln))\n",
    "print(\"{:10s}: {:.8e} \".format('RE_soln', b))\n",
    "print(\"{:10s}: {:.8e}\".format('true_soln', true_soln))"
   ]
  },
  {
   "cell_type": "code",
   "execution_count": 117,
   "metadata": {},
   "outputs": [
    {
     "data": {
      "text/plain": [
       "array([1.00000000e+00, 2.50000000e-01, 1.11111111e-01, 4.00000000e-02,\n",
       "       2.77777778e-02, 1.56250000e-02, 8.26446281e-03, 4.44444444e-03,\n",
       "       2.26757370e-03, 1.27551020e-03, 6.92520776e-04, 3.84467512e-04,\n",
       "       2.04081633e-04, 1.13173382e-04, 6.20001240e-05, 3.34124094e-05,\n",
       "       3.34124094e-05, 3.34124094e-05, 3.34124094e-05, 3.34124094e-05])"
      ]
     },
     "execution_count": 117,
     "metadata": {},
     "output_type": "execute_result"
    }
   ],
   "source": [
    "x"
   ]
  },
  {
   "cell_type": "code",
   "execution_count": 118,
   "metadata": {},
   "outputs": [
    {
     "data": {
      "text/plain": [
       "array([ 0.25,  0.25,  0.25,  0.25,  0.25,  0.25,  0.25,  0.25,  0.25,\n",
       "        0.25,  0.25,  0.25,  0.25,  0.25,  0.25, 16.  ,  4.  ,  1.  ,\n",
       "        0.64,  0.25])"
      ]
     },
     "execution_count": 118,
     "metadata": {},
     "output_type": "execute_result"
    }
   ],
   "source": [
    "y"
   ]
  },
  {
   "cell_type": "code",
   "execution_count": 122,
   "metadata": {},
   "outputs": [
    {
     "data": {
      "text/plain": [
       "array([[1.00000000e+00, 2.50000000e-01],\n",
       "       [2.50000000e-01, 2.50000000e-01],\n",
       "       [1.11111111e-01, 2.50000000e-01],\n",
       "       [4.00000000e-02, 2.50000000e-01],\n",
       "       [2.77777778e-02, 2.50000000e-01],\n",
       "       [1.56250000e-02, 2.50000000e-01],\n",
       "       [8.26446281e-03, 2.50000000e-01],\n",
       "       [4.44444444e-03, 2.50000000e-01],\n",
       "       [2.26757370e-03, 2.50000000e-01],\n",
       "       [1.27551020e-03, 2.50000000e-01],\n",
       "       [6.92520776e-04, 2.50000000e-01],\n",
       "       [3.84467512e-04, 2.50000000e-01],\n",
       "       [2.04081633e-04, 2.50000000e-01],\n",
       "       [1.13173382e-04, 2.50000000e-01],\n",
       "       [6.20001240e-05, 2.50000000e-01],\n",
       "       [3.34124094e-05, 1.60000000e+01],\n",
       "       [3.34124094e-05, 4.00000000e+00],\n",
       "       [3.34124094e-05, 1.00000000e+00],\n",
       "       [3.34124094e-05, 6.40000000e-01],\n",
       "       [3.34124094e-05, 2.50000000e-01]])"
      ]
     },
     "execution_count": 122,
     "metadata": {},
     "output_type": "execute_result"
    }
   ],
   "source": []
  },
  {
   "cell_type": "code",
   "execution_count": 115,
   "metadata": {},
   "outputs": [
    {
     "data": {
      "text/plain": [
       "array([10.93631063, 11.06227181, 11.08619314, 11.09851102, 11.10063292,\n",
       "       11.10274414, 11.1040235 , 11.10468767, 11.10506622, 11.10523875,\n",
       "       11.10534014, 11.10539372, 11.10542509, 11.1054409 , 11.1054498 ,\n",
       "        8.81090509,  6.09501862,  9.28995324,  9.39808151, 11.10545477])"
      ]
     },
     "execution_count": 115,
     "metadata": {},
     "output_type": "execute_result"
    }
   ],
   "source": [
    "soln_subset"
   ]
  },
  {
   "cell_type": "code",
   "execution_count": null,
   "metadata": {},
   "outputs": [],
   "source": []
  },
  {
   "cell_type": "code",
   "execution_count": null,
   "metadata": {},
   "outputs": [],
   "source": []
  }
 ],
 "metadata": {
  "kernelspec": {
   "display_name": "Python 3",
   "language": "python",
   "name": "python3"
  },
  "language_info": {
   "codemirror_mode": {
    "name": "ipython",
    "version": 3
   },
   "file_extension": ".py",
   "mimetype": "text/x-python",
   "name": "python",
   "nbconvert_exporter": "python",
   "pygments_lexer": "ipython3",
   "version": "3.6.6"
  }
 },
 "nbformat": 4,
 "nbformat_minor": 2
}
