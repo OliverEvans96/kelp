{
 "cells": [
  {
   "cell_type": "code",
   "execution_count": null,
   "metadata": {
    "scrolled": false
   },
   "outputs": [],
   "source": [
    "%matplotlib inline\n",
    "%load_ext autoreload\n",
    "%autoreload 2\n",
    "from kelp3d_definitions import *\n",
    "import scipy.io"
   ]
  },
  {
   "cell_type": "markdown",
   "metadata": {},
   "source": [
    "# Widgets"
   ]
  },
  {
   "cell_type": "raw",
   "metadata": {},
   "source": [
    "grid.x.num = 6\n",
    "grid.y.num = 6\n",
    "grid.z.num = 6\n",
    "grid.theta.num = 6\n",
    "grid.phi.num = 6"
   ]
  },
  {
   "cell_type": "code",
   "execution_count": null,
   "metadata": {
    "scrolled": false
   },
   "outputs": [],
   "source": [
    "gw"
   ]
  },
  {
   "cell_type": "code",
   "execution_count": null,
   "metadata": {},
   "outputs": [],
   "source": [
    "fw"
   ]
  },
  {
   "cell_type": "code",
   "execution_count": null,
   "metadata": {},
   "outputs": [],
   "source": [
    "#rope.water_speeds = rope.water_speeds*0\n",
    "#rope.frond_lengths = rope.frond_lengths*0\n",
    "#rope.frond_stds = rope.frond_stds*0"
   ]
  },
  {
   "cell_type": "code",
   "execution_count": null,
   "metadata": {},
   "outputs": [],
   "source": [
    "rw.children[2].children[0]"
   ]
  },
  {
   "cell_type": "code",
   "execution_count": null,
   "metadata": {
    "scrolled": false
   },
   "outputs": [],
   "source": [
    "rw"
   ]
  },
  {
   "cell_type": "code",
   "execution_count": null,
   "metadata": {
    "scrolled": false
   },
   "outputs": [],
   "source": [
    "iw"
   ]
  },
  {
   "cell_type": "code",
   "execution_count": null,
   "metadata": {
    "scrolled": true
   },
   "outputs": [],
   "source": [
    "bcw"
   ]
  },
  {
   "cell_type": "code",
   "execution_count": null,
   "metadata": {},
   "outputs": [],
   "source": [
    "#params.num_scatters = 1"
   ]
  },
  {
   "cell_type": "code",
   "execution_count": null,
   "metadata": {
    "scrolled": true
   },
   "outputs": [],
   "source": [
    "pw"
   ]
  },
  {
   "cell_type": "code",
   "execution_count": null,
   "metadata": {
    "scrolled": false
   },
   "outputs": [],
   "source": [
    "vpw = VolumePlotWidget(kelp, light)\n",
    "vpw"
   ]
  },
  {
   "cell_type": "code",
   "execution_count": null,
   "metadata": {},
   "outputs": [],
   "source": [
    "vpw.calculate_kelp()"
   ]
  },
  {
   "cell_type": "code",
   "execution_count": null,
   "metadata": {},
   "outputs": [],
   "source": [
    "f90.calculate_light_field?"
   ]
  },
  {
   "cell_type": "code",
   "execution_count": null,
   "metadata": {
    "scrolled": false
   },
   "outputs": [],
   "source": [
    "params.gmres_flag = True\n",
    "vpw.calculate_light()"
   ]
  },
  {
   "cell_type": "code",
   "execution_count": null,
   "metadata": {},
   "outputs": [],
   "source": [
    "wdwawldkj"
   ]
  },
  {
   "cell_type": "code",
   "execution_count": null,
   "metadata": {},
   "outputs": [],
   "source": [
    "print(\"hi\")"
   ]
  },
  {
   "cell_type": "code",
   "execution_count": null,
   "metadata": {},
   "outputs": [],
   "source": [
    "row = np.loadtxt(\"row.txt\")\n",
    "col = np.loadtxt(\"col.txt\")\n",
    "data = np.loadtxt(\"data.txt\")\n",
    "rhs = np.loadtxt(\"rhs.txt\")"
   ]
  },
  {
   "cell_type": "code",
   "execution_count": null,
   "metadata": {},
   "outputs": [],
   "source": [
    "n_total = len(rhs)\n",
    "nonzero = len(data)"
   ]
  },
  {
   "cell_type": "code",
   "execution_count": null,
   "metadata": {},
   "outputs": [],
   "source": [
    "sol = np.zeros_like(rhs)"
   ]
  },
  {
   "cell_type": "code",
   "execution_count": null,
   "metadata": {},
   "outputs": [],
   "source": [
    "n_total"
   ]
  },
  {
   "cell_type": "code",
   "execution_count": null,
   "metadata": {},
   "outputs": [],
   "source": [
    "nonzero"
   ]
  },
  {
   "cell_type": "code",
   "execution_count": null,
   "metadata": {},
   "outputs": [],
   "source": [
    "gmres_wrapper(n_total, nonzero, row, col, data, sol, rhs, 50, 50, 1e-7, 1e-7)"
   ]
  },
  {
   "cell_type": "code",
   "execution_count": null,
   "metadata": {},
   "outputs": [],
   "source": [
    "rad_dict = {}"
   ]
  },
  {
   "cell_type": "code",
   "execution_count": null,
   "metadata": {},
   "outputs": [],
   "source": [
    "grid.x.num = 8\n",
    "grid.y.num = 10\n",
    "grid.z.num = 10\n",
    "grid.theta.num = 10\n",
    "grid.phi.num = 10"
   ]
  },
  {
   "cell_type": "code",
   "execution_count": null,
   "metadata": {},
   "outputs": [],
   "source": [
    "params.num_scatters = 10\n",
    "vpw.calculate_kelp()\n",
    "vpw.calculate_light()\n",
    "#rad_dict[params.num_scatters] = np.copy(light.radiance)\n",
    "stats(light.radiance)"
   ]
  },
  {
   "cell_type": "code",
   "execution_count": null,
   "metadata": {},
   "outputs": [],
   "source": [
    "stacked = np.stack([*rad_dict.values()], axis=4)"
   ]
  },
  {
   "cell_type": "code",
   "execution_count": null,
   "metadata": {},
   "outputs": [],
   "source": [
    "np.min(light.radiance)"
   ]
  },
  {
   "cell_type": "code",
   "execution_count": null,
   "metadata": {},
   "outputs": [],
   "source": [
    "obj = rope\n",
    "for trait in obj.trait_names():\n",
    "    print(\"{}: {}\".format(trait, getattr(obj, trait)))"
   ]
  },
  {
   "cell_type": "code",
   "execution_count": null,
   "metadata": {},
   "outputs": [],
   "source": [
    "kelp.gen_kelp()"
   ]
  },
  {
   "cell_type": "code",
   "execution_count": null,
   "metadata": {},
   "outputs": [],
   "source": [
    "kelp.p_kelp"
   ]
  },
  {
   "cell_type": "code",
   "execution_count": null,
   "metadata": {},
   "outputs": [],
   "source": [
    "rope.frond_lengths"
   ]
  },
  {
   "cell_type": "code",
   "execution_count": null,
   "metadata": {},
   "outputs": [],
   "source": [
    "kelp.p_kelp"
   ]
  },
  {
   "cell_type": "code",
   "execution_count": null,
   "metadata": {},
   "outputs": [],
   "source": [
    "np.isnan(light.radiance).sum() / light.radiance.size"
   ]
  },
  {
   "cell_type": "code",
   "execution_count": null,
   "metadata": {},
   "outputs": [],
   "source": [
    "vpw.control_panel"
   ]
  },
  {
   "cell_type": "code",
   "execution_count": null,
   "metadata": {},
   "outputs": [],
   "source": [
    "grid.phi.vals*180/np.pi"
   ]
  },
  {
   "cell_type": "code",
   "execution_count": null,
   "metadata": {},
   "outputs": [],
   "source": [
    "grid.theta.vals[6]*180/np.pi"
   ]
  },
  {
   "cell_type": "code",
   "execution_count": null,
   "metadata": {
    "scrolled": false
   },
   "outputs": [],
   "source": [
    "radw"
   ]
  },
  {
   "cell_type": "code",
   "execution_count": null,
   "metadata": {
    "scrolled": false
   },
   "outputs": [],
   "source": [
    "radw.log_widget"
   ]
  },
  {
   "cell_type": "code",
   "execution_count": null,
   "metadata": {},
   "outputs": [],
   "source": [
    "awfwef"
   ]
  },
  {
   "cell_type": "markdown",
   "metadata": {},
   "source": [
    "# Other Plots/Stats"
   ]
  },
  {
   "cell_type": "code",
   "execution_count": null,
   "metadata": {
    "scrolled": true
   },
   "outputs": [],
   "source": [
    "plt.contourf(kelp.p_kelp[:,4,:].T)"
   ]
  },
  {
   "cell_type": "code",
   "execution_count": null,
   "metadata": {},
   "outputs": [],
   "source": [
    "X, Z = np.meshgrid(\n",
    "    grid.x.vals,\n",
    "    grid.z.vals,\n",
    "    indexing='ij'\n",
    ")"
   ]
  },
  {
   "cell_type": "code",
   "execution_count": null,
   "metadata": {
    "scrolled": true
   },
   "outputs": [],
   "source": [
    "plt.contourf(X, -Z, light.irradiance[:,0,:])\n",
    "plt.colorbar()"
   ]
  },
  {
   "cell_type": "code",
   "execution_count": null,
   "metadata": {},
   "outputs": [],
   "source": [
    "plt.imshow(np.log(light.irradiance[:,2,:].T))\n",
    "plt.colorbar()"
   ]
  },
  {
   "cell_type": "code",
   "execution_count": null,
   "metadata": {},
   "outputs": [],
   "source": [
    "x = np.arange(grid.x.num)\n",
    "y = np.arange(grid.y.num)\n",
    "z = np.arange(grid.z.num)\n",
    "theta = np.arange(grid.theta.num)\n",
    "phi = np.arange(grid.phi.num)\n",
    "\n",
    "X, Y, Z, T, P = np.meshgrid(x,y,z,theta,phi, indexing='ij')"
   ]
  },
  {
   "cell_type": "code",
   "execution_count": null,
   "metadata": {},
   "outputs": [],
   "source": [
    "X,Y = np.meshgrid(x,y, indexing='ij')"
   ]
  },
  {
   "cell_type": "code",
   "execution_count": null,
   "metadata": {},
   "outputs": [],
   "source": [
    "plt.contourf(x,z,light.irradiance[:,0,:])"
   ]
  },
  {
   "cell_type": "code",
   "execution_count": null,
   "metadata": {},
   "outputs": [],
   "source": [
    "irrad_with_scatter = light.irradiance\n",
    "rad_with_scatter = light.radiance"
   ]
  },
  {
   "cell_type": "code",
   "execution_count": null,
   "metadata": {},
   "outputs": [],
   "source": [
    "plt.figure(figsize=[8,8])\n",
    "plt.imshow(light.radiance[:,0,:,0,0], interpolation=None)\n",
    "plt.colorbar()"
   ]
  },
  {
   "cell_type": "code",
   "execution_count": null,
   "metadata": {},
   "outputs": [],
   "source": [
    "plt.contourf(light.radiance[:,-1,:,9,3])\n",
    "plt.colorbar()"
   ]
  },
  {
   "cell_type": "code",
   "execution_count": null,
   "metadata": {},
   "outputs": [],
   "source": [
    "plt.contourf(light.radiance[2,2,0,:,:])\n",
    "plt.colorbar()"
   ]
  },
  {
   "cell_type": "code",
   "execution_count": null,
   "metadata": {},
   "outputs": [],
   "source": [
    "light.radiance.max()"
   ]
  },
  {
   "cell_type": "code",
   "execution_count": null,
   "metadata": {},
   "outputs": [],
   "source": [
    "stats(light.radiance)"
   ]
  },
  {
   "cell_type": "code",
   "execution_count": null,
   "metadata": {},
   "outputs": [],
   "source": [
    "stats(light.irradiance)"
   ]
  },
  {
   "cell_type": "code",
   "execution_count": null,
   "metadata": {},
   "outputs": [],
   "source": [
    "stats(light.radiance[:,:,:,:,3])"
   ]
  },
  {
   "cell_type": "markdown",
   "metadata": {},
   "source": [
    "# Load/render RTE Matrix"
   ]
  },
  {
   "cell_type": "code",
   "execution_count": null,
   "metadata": {},
   "outputs": [],
   "source": [
    "row = np.loadtxt('row.txt', dtype=int)-1\n",
    "col = np.loadtxt('col.txt', dtype=int)-1\n",
    "data = np.loadtxt('data.txt')\n",
    "rhs = np.loadtxt('rhs.txt')"
   ]
  },
  {
   "cell_type": "code",
   "execution_count": null,
   "metadata": {},
   "outputs": [],
   "source": [
    "mat = scipy.sparse.coo_matrix((data, (row, col)))"
   ]
  },
  {
   "cell_type": "code",
   "execution_count": null,
   "metadata": {},
   "outputs": [],
   "source": []
  },
  {
   "cell_type": "code",
   "execution_count": null,
   "metadata": {},
   "outputs": [],
   "source": [
    "#mat_bool = scipy.sparse.coo_matrix(\n",
    "#    np.ones(len(mat.nonzero()[0])), \n",
    "#    mat.nonzero(), \n",
    "#    dtype=bool\n",
    "#).toarray()\n",
    "mat_bool = mat.astype(bool).toarray()\n",
    "mat_int = 255 * (1 - mat_bool.astype(int))\n",
    "scipy.misc.imsave('mat.png',mat_int)"
   ]
  },
  {
   "cell_type": "code",
   "execution_count": null,
   "metadata": {},
   "outputs": [],
   "source": [
    "d = mat.diagonal()"
   ]
  },
  {
   "cell_type": "code",
   "execution_count": null,
   "metadata": {
    "scrolled": false
   },
   "outputs": [],
   "source": [
    "nx = grid.x.num\n",
    "ny = grid.y.num\n",
    "nz = grid.z.num\n",
    "ntheta = grid.theta.num\n",
    "nphi = grid.phi.num\n",
    "\n",
    "# order: z,y, x, phi, theta"
   ]
  },
  {
   "cell_type": "markdown",
   "metadata": {},
   "source": [
    "# Verify MGMRES"
   ]
  },
  {
   "cell_type": "code",
   "execution_count": null,
   "metadata": {},
   "outputs": [],
   "source": [
    "#x = scipy.sparse.linalg.spsolve(mat, rhs)"
   ]
  },
  {
   "cell_type": "code",
   "execution_count": null,
   "metadata": {},
   "outputs": [],
   "source": [
    "stats(x)"
   ]
  },
  {
   "cell_type": "markdown",
   "metadata": {},
   "source": [
    "# Misc. diagnostics"
   ]
  },
  {
   "cell_type": "code",
   "execution_count": null,
   "metadata": {},
   "outputs": [],
   "source": [
    "dx = grid.x.spacing\n",
    "dz = grid.z.spacing\n",
    "phi = grid.phi.vals\n",
    "theta = grid.theta.vals\n",
    "3*np.cos(phi)/(2*dz)"
   ]
  },
  {
   "cell_type": "code",
   "execution_count": null,
   "metadata": {
    "scrolled": false
   },
   "outputs": [],
   "source": [
    "ent = 0\n",
    "for k in range(nx):\n",
    "    for j in range(ny):\n",
    "        for i in range(nx):\n",
    "            for m in range(nphi):\n",
    "                for l in range(ntheta):\n",
    "                    print(i,j,k,l,m,':',d[ent], rhs[ent])\n",
    "                    ent += 1"
   ]
  }
 ],
 "metadata": {
  "kernelspec": {
   "display_name": "Python 3",
   "language": "python",
   "name": "python3"
  },
  "language_info": {
   "codemirror_mode": {
    "name": "ipython",
    "version": 3
   },
   "file_extension": ".py",
   "mimetype": "text/x-python",
   "name": "python",
   "nbconvert_exporter": "python",
   "pygments_lexer": "ipython3",
   "version": "3.5.5"
  },
  "widgets": {
   "application/vnd.jupyter.widget-state+json": {
    "state": {
     "01bdd15aec294887b77729250a2ae4bb": {
      "model_module": "@jupyter-widgets/base",
      "model_module_version": "1.0.0",
      "model_name": "LayoutModel",
      "state": {
       "min_width": "125px"
      }
     },
     "04282368061343ac9d74b522fd09b775": {
      "model_module": "@jupyter-widgets/controls",
      "model_module_version": "1.0.0",
      "model_name": "LinkModel",
      "state": {
       "source": [
        "IPY_MODEL_60d549cc327c43d59653a96c7b24d035",
        "level2"
       ],
       "target": [
        "IPY_MODEL_aacd0ad05aa4484bb138fc03f24da291",
        "value"
       ]
      }
     },
     "04fc58c8a5144f12b472882e40b2b267": {
      "model_module": "bqplot",
      "model_module_version": "^0.3.0",
      "model_name": "LinearScaleModel",
      "state": {
       "max": 9,
       "min": 0,
       "stabilized": false
      }
     },
     "055bb5a14b2b45aab1f57a780c77fb84": {
      "model_module": "@jupyter-widgets/controls",
      "model_module_version": "1.0.0",
      "model_name": "SliderStyleModel",
      "state": {
       "description_width": ""
      }
     },
     "07ebf80e65b6478f991900d3a2ed4829": {
      "model_module": "@jupyter-widgets/controls",
      "model_module_version": "1.0.0",
      "model_name": "LinkModel",
      "state": {
       "source": [
        "IPY_MODEL_60d549cc327c43d59653a96c7b24d035",
        "opacity2"
       ],
       "target": [
        "IPY_MODEL_14a5452b4cf041cfbc9a56f88dc9d828",
        "value"
       ]
      }
     },
     "09c0f2b28e894296b33a7b62236f2931": {
      "model_module": "bqplot",
      "model_module_version": "^0.3.0",
      "model_name": "AxisModel",
      "state": {
       "grid_lines": "none",
       "orientation": "vertical",
       "scale": "IPY_MODEL_24ec68bebd0d406bab6e621f8a5c3fbc",
       "side": "left",
       "tick_values": {
        "type": null,
        "values": null
       }
      }
     },
     "0b4053f474c340dca3f3b3257f0391de": {
      "model_module": "@jupyter-widgets/base",
      "model_module_version": "1.0.0",
      "model_name": "LayoutModel",
      "state": {}
     },
     "0b45a37b63514d77b8b8e5b43167d08d": {
      "model_module": "bqplot",
      "model_module_version": "^0.3.0",
      "model_name": "LinearScaleModel",
      "state": {
       "allow_padding": false,
       "max": 1,
       "min": 0,
       "stabilized": false
      }
     },
     "0e93a350ce6a4b748846c9ce4e411c85": {
      "model_module": "@jupyter-widgets/controls",
      "model_module_version": "1.0.0",
      "model_name": "BoundedIntTextModel",
      "state": {
       "description": "nphi",
       "layout": "IPY_MODEL_443fc265046a4e8e980729dfb3df4d17",
       "max": 1000,
       "min": 1,
       "style": "IPY_MODEL_b7de43cde46847c2912b623471df8f7d",
       "value": 10
      }
     },
     "0fbbec1fd5844f35806dadcaf64cc2d3": {
      "model_module": "@jupyter-widgets/base",
      "model_module_version": "1.0.0",
      "model_name": "LayoutModel",
      "state": {}
     },
     "10aeb737f9da41f5bdc8c436507b151a": {
      "model_module": "@jupyter-widgets/base",
      "model_module_version": "1.0.0",
      "model_name": "LayoutModel",
      "state": {}
     },
     "14a5452b4cf041cfbc9a56f88dc9d828": {
      "model_module": "@jupyter-widgets/controls",
      "model_module_version": "1.0.0",
      "model_name": "FloatSliderModel",
      "state": {
       "layout": "IPY_MODEL_c09c021ce23c4579a216eed17f743806",
       "max": 0.2,
       "step": 0.001,
       "style": "IPY_MODEL_44789514f3c5411889ed69225cb3967e",
       "value": 0.05
      }
     },
     "14f5b6321ca942d49ac92800180108c1": {
      "model_module": "@jupyter-widgets/controls",
      "model_module_version": "1.0.0",
      "model_name": "VBoxModel",
      "state": {
       "children": [
        "IPY_MODEL_c2b10fff38954e11b232d73b813a3520",
        "IPY_MODEL_b678b3fec20848a98325d5dc8beb1709"
       ],
       "layout": "IPY_MODEL_a0af569a02444b6eab448c46d2e82dea"
      }
     },
     "15b71195b6c84832a38888b258e82f84": {
      "model_module": "@jupyter-widgets/base",
      "model_module_version": "1.0.0",
      "model_name": "LayoutModel",
      "state": {}
     },
     "1698e8e048874025acbe2326af8dd9aa": {
      "model_module": "@jupyter-widgets/base",
      "model_module_version": "1.0.0",
      "model_name": "LayoutModel",
      "state": {}
     },
     "18b77231161547bca795d852f228207b": {
      "model_module": "@jupyter-widgets/controls",
      "model_module_version": "1.0.0",
      "model_name": "HBoxModel",
      "state": {
       "children": [
        "IPY_MODEL_4c3ac9a287e046ed8a8b5a242bbdcf02",
        "IPY_MODEL_4c188f335ba04c68ac596f25e7dab610"
       ],
       "layout": "IPY_MODEL_0b4053f474c340dca3f3b3257f0391de"
      }
     },
     "1955223d93db4d4abc5ccaa048560c47": {
      "model_module": "bqplot",
      "model_module_version": "^0.3.0",
      "model_name": "AxisModel",
      "state": {
       "grid_lines": "none",
       "orientation": "vertical",
       "scale": "IPY_MODEL_ef9662b3887645d8991dd6d41dc110e1",
       "side": "left",
       "tick_values": {
        "type": null,
        "values": null
       }
      }
     },
     "1a75b4337e3a40e3aac905efec6bec33": {
      "model_module": "@jupyter-widgets/controls",
      "model_module_version": "1.0.0",
      "model_name": "DescriptionStyleModel",
      "state": {
       "description_width": ""
      }
     },
     "1d719f4f63d64b549b12c2b69f964006": {
      "model_module": "bqplot",
      "model_module_version": "^0.3.0",
      "model_name": "LinearScaleModel",
      "state": {
       "allow_padding": false,
       "max": 1,
       "min": 0,
       "stabilized": false
      }
     },
     "1df0189f2f794d9a8a2db20c55e8a0b1": {
      "model_module": "@jupyter-widgets/controls",
      "model_module_version": "1.0.0",
      "model_name": "SliderStyleModel",
      "state": {
       "description_width": ""
      }
     },
     "1df29f166d0945edab7cbddbec67b32e": {
      "model_module": "bqplot",
      "model_module_version": "^0.3.0",
      "model_name": "AxisModel",
      "state": {
       "grid_lines": "none",
       "label": "Depth (z)",
       "scale": "IPY_MODEL_659a60f904684dcfba87779e63a89c2f",
       "side": "bottom",
       "tick_values": {
        "type": null,
        "values": null
       }
      }
     },
     "1f5549c1296040d6871a31f1e2057662": {
      "model_module": "@jupyter-widgets/controls",
      "model_module_version": "1.0.0",
      "model_name": "FloatSliderModel",
      "state": {
       "description": "$a_k$",
       "layout": "IPY_MODEL_3cc01cedc24f4e6e923a6ce166b35b8e",
       "max": 10,
       "step": 0.1,
       "style": "IPY_MODEL_055bb5a14b2b45aab1f57a780c77fb84"
      }
     },
     "21aec336907e490d9ef95e84d4767899": {
      "model_module": "@jupyter-widgets/base",
      "model_module_version": "1.0.0",
      "model_name": "LayoutModel",
      "state": {
       "min_width": "125px"
      }
     },
     "24ec68bebd0d406bab6e621f8a5c3fbc": {
      "model_module": "bqplot",
      "model_module_version": "^0.3.0",
      "model_name": "LinearScaleModel",
      "state": {
       "max": 10,
       "min": 0,
       "stabilized": false
      }
     },
     "27007356cd8843a2801f3501b65331c9": {
      "model_module": "@jupyter-widgets/base",
      "model_module_version": "1.0.0",
      "model_name": "LayoutModel",
      "state": {}
     },
     "2e9dff08b2a240e1b308e2a0c0c7bcd2": {
      "model_module": "@jupyter-widgets/controls",
      "model_module_version": "1.0.0",
      "model_name": "FloatSliderModel",
      "state": {
       "description": "$f_r$",
       "layout": "IPY_MODEL_461de1f0179c4f819716a6b35d363c5c",
       "max": 5,
       "step": 0.1,
       "style": "IPY_MODEL_8a3bc3cd9d4243c4b67ad245f687479b",
       "value": 2
      }
     },
     "31066f4bd5754a9385994b6d304aae18": {
      "model_module": "@jupyter-widgets/controls",
      "model_module_version": "1.0.0",
      "model_name": "BoundedIntTextModel",
      "state": {
       "description": "nx",
       "layout": "IPY_MODEL_926a57a7553249b9803986cf15bdc98f",
       "max": 1000,
       "min": 1,
       "style": "IPY_MODEL_1a75b4337e3a40e3aac905efec6bec33",
       "value": 10
      }
     },
     "327686829d0b4a9499949f97f4d55321": {
      "model_module": "@jupyter-widgets/controls",
      "model_module_version": "1.0.0",
      "model_name": "DescriptionStyleModel",
      "state": {
       "description_width": ""
      }
     },
     "3523e11e4f0743bdadf750dab2ef7d13": {
      "model_module": "bqplot",
      "model_module_version": "^0.3.0",
      "model_name": "FigureModel",
      "state": {
       "_dom_classes": [],
       "axes": [
        "IPY_MODEL_5739ff3b30714619826f4eeca9d365fb",
        "IPY_MODEL_1955223d93db4d4abc5ccaa048560c47"
       ],
       "interaction": "IPY_MODEL_42d60100e45f478fa4f8de3fdab1fb90",
       "layout": "IPY_MODEL_01bdd15aec294887b77729250a2ae4bb",
       "marks": [
        "IPY_MODEL_90a50236e73e4a8093bf3a79284c1ff3"
       ],
       "max_aspect_ratio": 6,
       "scale_x": "IPY_MODEL_ca06ef7800754d8c92545e2d850d8dfc",
       "scale_y": "IPY_MODEL_b276513443e2419b9c628d3e2bc55b24",
       "title": "Water current angle"
      }
     },
     "3cc01cedc24f4e6e923a6ce166b35b8e": {
      "model_module": "@jupyter-widgets/base",
      "model_module_version": "1.0.0",
      "model_name": "LayoutModel",
      "state": {}
     },
     "3da04d112eff403c8121d2f82bfa65b3": {
      "model_module": "bqplot",
      "model_module_version": "^0.3.0",
      "model_name": "HandDrawModel",
      "state": {
       "lines": "IPY_MODEL_914e8161b83645409f14bbb982092771"
      }
     },
     "3fb99ef8a8f84d2bbb2383a262994dfa": {
      "model_module": "@jupyter-widgets/controls",
      "model_module_version": "1.0.0",
      "model_name": "FloatSliderModel",
      "state": {
       "description": "$f_s$",
       "layout": "IPY_MODEL_7da94b0919cd4719814dd02c19d03b4d",
       "max": 5,
       "step": 0.1,
       "style": "IPY_MODEL_1df0189f2f794d9a8a2db20c55e8a0b1",
       "value": 0.5
      }
     },
     "404c248b359945acb6506057ef27671c": {
      "model_module": "ipyvolume",
      "model_module_version": "~0.4.0",
      "model_name": "FigureModel",
      "state": {
       "ambient_coefficient": 1,
       "data_max": 0.3823788792229387,
       "data_min": 0,
       "diffuse_coefficient": 0,
       "height": 500,
       "layout": "IPY_MODEL_d6edcad5e94c4698bce94d52b75f423f",
       "matrix_projection": [
        3.017766952966369,
        0,
        0,
        0,
        0,
        2.414213562373095,
        0,
        0,
        0,
        0,
        -1.000002000002,
        -1,
        0,
        0,
        -0.02000002000002,
        0
       ],
       "matrix_world": [
        1,
        0,
        0,
        0,
        0,
        1,
        0,
        0,
        0,
        0,
        1,
        0,
        -0.5,
        -0.5,
        -0.5,
        1
       ],
       "meshes": [],
       "scatters": [],
       "specular_coefficient": 0,
       "tf": "IPY_MODEL_60d549cc327c43d59653a96c7b24d035",
       "volume_data": {
        "columns": 204,
        "image_shape": [
         2048,
         10
        ],
        "rows": 1,
        "slice_shape": [
         10,
         10
        ],
        "slices": 10,
        "src": "data:image/png;base64,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"
       },
       "width": 400
      }
     },
     "40685efeb8e9434398210d288fc26674": {
      "model_module": "@jupyter-widgets/base",
      "model_module_version": "1.0.0",
      "model_name": "LayoutModel",
      "state": {
       "width": "150px"
      }
     },
     "41e60b3c26cc4ea189eb57bd76014b78": {
      "model_module": "@jupyter-widgets/base",
      "model_module_version": "1.0.0",
      "model_name": "LayoutModel",
      "state": {
       "min_width": "125px"
      }
     },
     "42d60100e45f478fa4f8de3fdab1fb90": {
      "model_module": "bqplot",
      "model_module_version": "^0.3.0",
      "model_name": "HandDrawModel",
      "state": {
       "lines": "IPY_MODEL_90a50236e73e4a8093bf3a79284c1ff3"
      }
     },
     "4387931d8e9e43e2bd97769d717cb2aa": {
      "model_module": "@jupyter-widgets/base",
      "model_module_version": "1.0.0",
      "model_name": "LayoutModel",
      "state": {}
     },
     "439ee2c2a18044039757a26c6d41afe2": {
      "model_module": "@jupyter-widgets/controls",
      "model_module_version": "1.0.0",
      "model_name": "VBoxModel",
      "state": {
       "children": [
        "IPY_MODEL_14f5b6321ca942d49ac92800180108c1",
        "IPY_MODEL_404c248b359945acb6506057ef27671c"
       ],
       "layout": "IPY_MODEL_4514638b78b94d58acc7f67f50a0ef9e"
      }
     },
     "443fc265046a4e8e980729dfb3df4d17": {
      "model_module": "@jupyter-widgets/base",
      "model_module_version": "1.0.0",
      "model_name": "LayoutModel",
      "state": {
       "width": "150px"
      }
     },
     "44789514f3c5411889ed69225cb3967e": {
      "model_module": "@jupyter-widgets/controls",
      "model_module_version": "1.0.0",
      "model_name": "SliderStyleModel",
      "state": {
       "description_width": ""
      }
     },
     "4514638b78b94d58acc7f67f50a0ef9e": {
      "model_module": "@jupyter-widgets/base",
      "model_module_version": "1.0.0",
      "model_name": "LayoutModel",
      "state": {}
     },
     "461de1f0179c4f819716a6b35d363c5c": {
      "model_module": "@jupyter-widgets/base",
      "model_module_version": "1.0.0",
      "model_name": "LayoutModel",
      "state": {}
     },
     "474c284788e6478d96506c55655bb9b6": {
      "model_module": "@jupyter-widgets/base",
      "model_module_version": "1.0.0",
      "model_name": "LayoutModel",
      "state": {}
     },
     "47d7749c790a4340bf0ad11b6a377cbd": {
      "model_module": "@jupyter-widgets/controls",
      "model_module_version": "1.0.0",
      "model_name": "FloatSliderModel",
      "state": {
       "layout": "IPY_MODEL_99dc92972e7746ec8b8c1fcc93fc8bdd",
       "max": 0.2,
       "step": 0.001,
       "style": "IPY_MODEL_f6557b0f74b54835a6233d82b07d1863",
       "value": 0.01
      }
     },
     "49944f3b3789491ebbb00c70e373c1cb": {
      "model_module": "@jupyter-widgets/controls",
      "model_module_version": "1.0.0",
      "model_name": "SliderStyleModel",
      "state": {
       "description_width": ""
      }
     },
     "49cf867aad554c19a9894387604a55a8": {
      "model_module": "bqplot",
      "model_module_version": "^0.3.0",
      "model_name": "LinearScaleModel",
      "state": {
       "allow_padding": false,
       "max": 1,
       "min": 0,
       "stabilized": false
      }
     },
     "4a93cbb89fb5444e849104e4aff97d8e": {
      "model_module": "@jupyter-widgets/base",
      "model_module_version": "1.0.0",
      "model_name": "LayoutModel",
      "state": {}
     },
     "4b41f61d6ba14e0898e10e1ba9e1d53a": {
      "model_module": "bqplot",
      "model_module_version": "^0.3.0",
      "model_name": "AxisModel",
      "state": {
       "grid_lines": "none",
       "label": "z",
       "scale": "IPY_MODEL_04fc58c8a5144f12b472882e40b2b267",
       "side": "bottom",
       "tick_values": {
        "type": null,
        "values": null
       }
      }
     },
     "4c0f7c0db9f84444bc2a41e1aac5bdea": {
      "model_module": "bqplot",
      "model_module_version": "^0.3.0",
      "model_name": "AxisModel",
      "state": {
       "grid_lines": "none",
       "label": "VSF",
       "orientation": "vertical",
       "scale": "IPY_MODEL_effbb3e87076487aba5eee1f570bbe35",
       "side": "left",
       "tick_values": {
        "type": null,
        "values": null
       }
      }
     },
     "4c188f335ba04c68ac596f25e7dab610": {
      "model_module": "bqplot",
      "model_module_version": "^0.3.0",
      "model_name": "FigureModel",
      "state": {
       "_dom_classes": [],
       "axes": [
        "IPY_MODEL_4b41f61d6ba14e0898e10e1ba9e1d53a",
        "IPY_MODEL_affe563047c54a6ead895431454c47e3"
       ],
       "interaction": "IPY_MODEL_6128631607d14992a457a21f81494c83",
       "layout": "IPY_MODEL_21aec336907e490d9ef95e84d4767899",
       "marks": [
        "IPY_MODEL_b2232c85840f48f9ab49ad4cd1b38731"
       ],
       "max_aspect_ratio": 6,
       "scale_x": "IPY_MODEL_5d0ac85ed283498aaf05c59176212059",
       "scale_y": "IPY_MODEL_a6759db536a0478288dd1857cc8d8fcf",
       "title": "Frond length std. dev."
      }
     },
     "4c3ac9a287e046ed8a8b5a242bbdcf02": {
      "model_module": "bqplot",
      "model_module_version": "^0.3.0",
      "model_name": "FigureModel",
      "state": {
       "_dom_classes": [],
       "axes": [
        "IPY_MODEL_844e1e8623aa4a02b217889986e1856f",
        "IPY_MODEL_8e24041eddc54bea82448885b28c42f3"
       ],
       "interaction": "IPY_MODEL_ba5474066ed14b11ae910ca8c0258999",
       "layout": "IPY_MODEL_41e60b3c26cc4ea189eb57bd76014b78",
       "marks": [
        "IPY_MODEL_cca7187b18194b559120c0228baddf5e"
       ],
       "max_aspect_ratio": 6,
       "scale_x": "IPY_MODEL_9522aa7f7dfd4a1ab699b280dfee14a0",
       "scale_y": "IPY_MODEL_aeeed75dfaba4634959338c856704f30",
       "title": "Frond length mean"
      }
     },
     "4f0f20b0c7174166bc4e670c4ed13b40": {
      "model_module": "@jupyter-widgets/controls",
      "model_module_version": "1.0.0",
      "model_name": "SliderStyleModel",
      "state": {
       "description_width": ""
      }
     },
     "4ff01069662745c4b20afabf7605860f": {
      "model_module": "@jupyter-widgets/controls",
      "model_module_version": "1.0.0",
      "model_name": "FloatSliderModel",
      "state": {
       "continuous_update": false,
       "description": "z depth",
       "layout": "IPY_MODEL_8a79c841b8f4430782d9403e94acce73",
       "max": 10,
       "min": 1,
       "step": 0.1,
       "style": "IPY_MODEL_5d57091902d1430c9918c317045cf613",
       "value": 9
      }
     },
     "51b0d5af998246a2a0c0ab2a6e3eb579": {
      "model_module": "@jupyter-widgets/controls",
      "model_module_version": "1.0.0",
      "model_name": "DescriptionStyleModel",
      "state": {
       "description_width": ""
      }
     },
     "52554a0b08fe46c5b3c32868527f3daa": {
      "model_module": "@jupyter-widgets/controls",
      "model_module_version": "1.0.0",
      "model_name": "BoundedIntTextModel",
      "state": {
       "description": "ny",
       "layout": "IPY_MODEL_ce86da1c346e4b5fbd4fb748feb7032f",
       "max": 1000,
       "min": 1,
       "style": "IPY_MODEL_78b2911f96b6499d815df62cd5c40ffe",
       "value": 10
      }
     },
     "5739ff3b30714619826f4eeca9d365fb": {
      "model_module": "bqplot",
      "model_module_version": "^0.3.0",
      "model_name": "AxisModel",
      "state": {
       "grid_lines": "none",
       "label": "z",
       "scale": "IPY_MODEL_8e191bae06f448d4b09b06809ebb1507",
       "side": "bottom",
       "tick_values": {
        "type": null,
        "values": null
       }
      }
     },
     "57e3c7f4c8b04ef09bb0ef4c2f5427cb": {
      "model_module": "@jupyter-widgets/controls",
      "model_module_version": "1.0.0",
      "model_name": "DescriptionStyleModel",
      "state": {
       "description_width": ""
      }
     },
     "5ac146cd08e24eecbec9ab5c204fec39": {
      "model_module": "@jupyter-widgets/controls",
      "model_module_version": "1.0.0",
      "model_name": "FloatSliderModel",
      "state": {
       "layout": "IPY_MODEL_d45b5bd3fe4b477c9f315a3739bf0357",
       "max": 0.2,
       "step": 0.001,
       "style": "IPY_MODEL_49944f3b3789491ebbb00c70e373c1cb",
       "value": 0.1
      }
     },
     "5d0ac85ed283498aaf05c59176212059": {
      "model_module": "bqplot",
      "model_module_version": "^0.3.0",
      "model_name": "LinearScaleModel",
      "state": {
       "allow_padding": false,
       "max": 1,
       "min": 0,
       "stabilized": false
      }
     },
     "5d57091902d1430c9918c317045cf613": {
      "model_module": "@jupyter-widgets/controls",
      "model_module_version": "1.0.0",
      "model_name": "SliderStyleModel",
      "state": {
       "description_width": ""
      }
     },
     "60d549cc327c43d59653a96c7b24d035": {
      "model_module": "ipyvolume",
      "model_module_version": "~0.4.0",
      "model_name": "TransferFunctionWidgetJs3Model",
      "state": {
       "layout": "IPY_MODEL_eeafaf5a31d74a3fb703a7b6f9e30137",
       "level3": 0.9,
       "rgba": [
        [
         1,
         1.8875672721395555e-10,
         1.8048513878454407e-34,
         0.0036787944124088206
        ],
        [
         1,
         2.583162265170835e-10,
         3.380180921670195e-34,
         0.003972829637117642
        ],
        [
         1,
         3.5350937615267e-10,
         6.330506289973631e-34,
         0.004277190454777196
        ],
        [
         1,
         4.837825355101569e-10,
         1.1855965942673274e-33,
         0.004590726914360288
        ],
        [
         1,
         6.620631797996698e-10,
         2.2204215902361648e-33,
         0.004912115296837125
        ],
        [
         1,
         9.060427400179446e-10,
         4.15847351639324e-33,
         0.0052398622268198716
        ],
        [
         1,
         1.2399321874199715e-09,
         7.788116483187754e-33,
         0.005572311772214194
        ],
        [
         1,
         1.696864575472041e-09,
         1.458582292675214e-32,
         0.005907655605635139
        ],
        [
         1,
         2.3221829521848326e-09,
         2.731677561703504e-32,
         0.006243946238494997
        ],
        [
         1,
         3.177939914219578e-09,
         5.115969348172939e-32,
         0.006579113271360578
        ],
        [
         1,
         4.349055309741195e-09,
         9.581343983776768e-32,
         0.006910982534031195
        ],
        [
         1,
         5.95174314106976e-09,
         1.794423427658692e-31,
         0.007237297917622876
        ],
        [
         1,
         8.145043899057413e-09,
         3.360651118655676e-31,
         0.007555745630716819
        ],
        [
         1,
         1.1146606724302981e-08,
         6.293930277124003e-31,
         0.007863980544380256
        ],
        [
         1,
         1.525428751595257e-08,
         1.1787465266297542e-30,
         0.008159654228650911
        ],
        [
         1,
         2.0875706246278836e-08,
         2.2075925738990175e-30,
         0.00844044422789296
        ],
        [
         1,
         2.8568696559913344e-08,
         4.134446941929183e-30,
         0.00870408407615781
        ],
        [
         1,
         3.9096661617275555e-08,
         7.743118779131106e-30,
         0.008948393517995997
        ],
        [
         1,
         5.3504329342086805e-08,
         1.4501549849314533e-29,
         0.009171308376484158
        ],
        [
         1,
         7.322142453926446e-08,
         2.7158946418197164e-29,
         0.00937090949964928
        ],
        [
         1,
         1.0020454564116713e-07,
         5.086410612734417e-29,
         0.009545450219718168
        ],
        [
         1,
         1.3713132502316103e-07,
         9.525985479319776e-29,
         0.009693381777012549
        ],
        [
         1,
         1.876661401165245e-07,
         1.7840557175038595e-28,
         0.009813376191740638
        ],
        [
         1,
         2.5682374279025354e-07,
         3.3412341537450023e-28,
         0.009904346111856881
        ],
        [
         1,
         3.5146689125613986e-07,
         6.257565590928805e-28,
         0.009965461222598518
        ],
        [
         1,
         4.809873663049173e-07,
         1.1719360368948467e-27,
         0.00999616087188146
        ],
        [
         1,
         6.582379515694963e-07,
         2.194837680269438e-27,
         0.009996162643705972
        ],
        [
         1,
         9.008078615764237e-07,
         4.110559186740649e-27,
         0.009965466697032731
        ],
        [
         1,
         1.2327681829087167e-06,
         7.698381060062551e-27,
         0.00990435577794592
        ],
        [
         1,
         1.6870605348986898e-06,
         1.4417763679720506e-26,
         0.009813390905859132
        ],
        [
         1,
         2.3087659852618107e-06,
         2.700202911527153e-26,
         0.009693402827493505
        ],
        [
         1,
         3.1595786069537992e-06,
         5.057022659953271e-26,
         0.009545479422818049
        ],
        [
         1,
         4.323927603424057e-06,
         9.470946821850932e-26,
         0.009370949332629276
        ],
        [
         1,
         5.917355522823322e-06,
         1.7737479092719231e-25,
         0.009171362155668848
        ],
        [
         1,
         8.097983961563053e-06,
         3.3219293749889705e-25,
         0.008948465632088055
        ],
        [
         1,
         1.1082204540322103e-05,
         6.221411010398011e-25,
         0.008704180287930793
        ],
        [
         1,
         1.5166152224612402e-05,
         1.1651648963918562e-24,
         0.008440572060752062
        ],
        [
         1,
         2.0755091864910864e-05,
         2.1821564810858008e-24,
         0.00815982345855172
        ],
        [
         1,
         2.840363408866521e-05,
         4.086809448766011e-24,
         0.007864203822346932
        ],
        [
         1,
         3.887077131210993e-05,
         7.653901823856695e-24,
         0.007556039266833052
        ],
        [
         1,
         5.319519529373551e-05,
         1.4334461604742818e-23,
         0.007237682864022174
        ],
        [
         1,
         7.279837026174678e-05,
         2.6846018439560835e-23,
         0.006911485612238147
        ],
        [
         1,
         9.962558993350429e-05,
         5.027804503091922e-23,
         0.006579768698491369
        ],
        [
         1,
         0.00013633901602347025,
         9.416226163377838e-23,
         0.006244797517479695
        ],
        [
         1,
         0.00018658185414665898,
         1.7634996568652223e-22,
         0.005908757856945337
        ],
        [
         1,
         0.00025533988224480357,
         3.3027361342053823e-22,
         0.005573734598734889
        ],
        [
         1,
         0.0003494362073041787,
         6.18546532159572e-22,
         0.005241693219654011
        ],
        [
         1,
         0.0004782083468577061,
         1.1584328777711674e-21,
         0.004914464308119115
        ],
        [
         1,
         0.0006544348245095136,
         2.1695485505607414e-21,
         0.004593731243700493
        ],
        [
         1,
         0.0008956032288960388,
         4.063196930577783e-21,
         0.004281021118845717
        ],
        [
         1,
         0.0012256455701454632,
         7.609679577066759e-21,
         0.003977698917135815
        ],
        [
         1,
         0.0016773131395125625,
         1.4251640827409553e-20,
         0.0036849649019187573
        ],
        [
         1,
         0.0022954265380713467,
         2.6690909152810247e-20,
         0.003403855114393811
        ],
        [
         1,
         0.0031413233865284244,
         4.998755161114015e-20,
         0.003135244832211708
        ],
        [
         1,
         0.004298945078434761,
         9.361821666585359e-20,
         0.002879854799132344
        ],
        [
         1,
         0.0058831665872587325,
         1.753310616185795e-19,
         0.0026382600036540613
        ],
        [
         1,
         0.00805119592410322,
         3.283653786956877e-19,
         0.0024109007598988883
        ],
        [
         1,
         0.011018174455348896,
         6.149727317600272e-19,
         0.0021980958272122654
        ],
        [
         1,
         0.015078526155979132,
         1.151739754996748e-18,
         0.0020000572954486815
        ],
        [
         1,
         0.0206351743619536,
         2.1570134653671247e-18,
         0.0018169069600596183
        ],
        [
         1,
         0.02823952530528838,
         4.0397208393559076e-18,
         0.0016486939139696512
        ],
        [
         1,
         0.03864618614216189,
         7.565712834875256e-18,
         0.0014954130907536866
        ],
        [
         1,
         0.05288784734122039,
         1.416929856690835e-17,
         0.0013570245046365542
        ],
        [
         1,
         0.07237776028141236,
         2.653669604702893e-17,
         0.001233472946086672
        ],
        [
         1,
         0.09904997928079227,
         4.969873658651038e-17,
         0.0011247079060189603
        ],
        [
         1,
         0.1355512847783569,
         9.307731504773776e-17,
         0.0010307035156461898
        ],
        [
         1,
         0.18550383289808958,
         1.7431804451237002e-16,
         0.0009514783016953112
        ],
        [
         1,
         0.25386459505824294,
         3.264681692529651e-16,
         0.000887114567036506
        ],
        [
         1,
         0.3474172561140077,
         6.11419579846302e-16,
         0.0008377772139258674
        ],
        [
         1,
         0.47544538385943386,
         1.1450853033386008e-15,
         0.0008037318304075578
        ],
        [
         1,
         0.6506536709249287,
         2.1445508046236676e-15,
         0.0007853618595576496
        ],
        [
         1,
         0.8904286672246841,
         4.016380386861108e-15,
         0.0007831846660316503
        ],
        [
         0.8206379884410242,
         1,
         6.17283904838598e-15,
         0.0007978663049197804
        ],
        [
         0.5996562547158745,
         1,
         8.44761674676083e-15,
         0.0008302347846122778
        ],
        [
         0.43818057277969974,
         1,
         1.1560681906781978e-14,
         0.0008812915988997351
        ],
        [
         0.32018712862841664,
         1,
         1.5820955206217705e-14,
         0.0009522212848154286
        ],
        [
         0.23396700745756985,
         1,
         2.1651198921951976e-14,
         0.0010443987429520824
        ],
        [
         0.17096427583813992,
         1,
         2.9629969154688084e-14,
         0.0011593940375625095
        ],
        [
         0.12492694560005463,
         1,
         4.054902803639395e-14,
         0.0012989743762797852
        ],
        [
         0.09128656650898678,
         1,
         5.549191314079079e-14,
         0.0014651029555117745
        ],
        [
         0.06670488248130195,
         1,
         7.594146082271666e-14,
         0.001659934349315225
        ],
        [
         0.04874256439917987,
         1,
         1.0392695341492785e-13,
         0.0018858061187086478
        ],
        [
         0.0356171466889873,
         1,
         1.4222549222911257e-13,
         0.0021452263267809826
        ],
        [
         0.026026146836997104,
         1,
         1.9463757932990295e-13,
         0.002440856664327723
        ],
        [
         0.01901781535437739,
         1,
         2.6636425505476175e-13,
         0.0027754909226478195
        ],
        [
         0.013896690244560337,
         1,
         3.645232159953065e-13,
         0.0031520285958478904
        ],
        [
         0.010154583802329697,
         1,
         4.98855129687885e-13,
         0.0035734434554656326
        ],
        [
         0.00742015331592356,
         1,
         6.826902361662574e-13,
         0.00404274701595889
        ],
        [
         0.005422051391134291,
         1,
         9.342711557328044e-13,
         0.004562946900633718
        ],
        [
         0.003961999171231696,
         1,
         1.2785631699319306e-12,
         0.0051370002233694445
        ],
        [
         0.0028951104112564926,
         1,
         1.7497316164322536e-12,
         0.00576776222090071
        ],
        [
         0.0021155138936488154,
         1,
         2.394532238642251e-12,
         0.006457930501655171
        ],
        [
         0.0015458474456864757,
         1,
         3.2769509266731733e-12,
         0.007209985417787775
        ],
        [
         0.0011295810122115388,
         1,
         4.484553267870459e-12,
         0.008026127214022218
        ],
        [
         0.0008254069744781411,
         1,
         6.1371739957012495e-12,
         0.008908210756524005
        ],
        [
         0.0006031410462391652,
         1,
         8.398808622335048e-12,
         0.009857678793057614
        ],
        [
         0.00044072697821395586,
         1,
         1.1493887304485605e-11,
         0.010875494837439258
        ],
        [
         0.00032204783696412897,
         1,
         1.5729545856884335e-11,
         0.011962076901763064
        ],
        [
         0.0002353266634903491,
         1,
         2.1526103946336188e-11,
         0.013117233413837115
        ],
        [
         0.0001719578031373904,
         1,
         2.945877492741852e-11,
         0.01434010274946989
        ],
        [
         0.00012565293546113696,
         1,
         4.031474633717959e-11,
         0.015629097874609456
        ],
        [
         9.181706152285409e-05,
         1,
         5.5171295352082416e-11,
         0.01698185762611954
        ],
        [
         6.709252558050232e-05,
         1,
         7.550269088558217e-11,
         0.01839520615800179
        ],
        [
         4.902582280581853e-05,
         1,
         1.0332649060683336e-10,
         0.019865122038718364
        ],
        [
         3.582412915584155e-05,
         1,
         1.41403750461068e-10,
         0.021386718402466014
        ],
        [
         2.6177392980380557e-05,
         1,
         1.9351301420406143e-10,
         0.022954235431450917
        ],
        [
         1.9128333874308236e-05,
         1,
         2.648252719198678e-10,
         0.024561046277336067
        ],
        [
         1.397744829216715e-05,
         1,
         3.6241709600717776e-10,
         0.02619967731937308
        ],
        [
         1.0213595289792143e-05,
         1,
         4.959728749679867e-10,
         0.0278618434070291
        ],
        [
         7.463274165866388e-06,
         1,
         6.787458301888117e-10,
         0.02953849845036915
        ],
        [
         5.453560640938778e-06,
         1,
         9.288731808739327e-10,
         0.0312199014076731
        ],
        [
         3.985023597340172e-06,
         1,
         1.2711759656878307e-09,
         0.032895697383686584
        ],
        [
         2.911934810469872e-06,
         1,
         1.739622123896478e-09,
         0.03455501320163988
        ],
        [
         2.127807811749421e-06,
         1,
         2.3806972564278876e-09,
         0.03618656645678552
        ],
        [
         1.5548308524843966e-06,
         1,
         3.258017559622964e-09,
         0.037778786708490095
        ],
        [
         1.1361453635466083e-06,
         1,
         4.458642689721191e-09,
         0.03931994713205587
        ],
        [
         8.302036745964346e-07,
         1,
         6.1017150063809845e-09,
         0.04079830464071953
        ],
        [
         6.066460889845004e-07,
         1,
         8.350282498511475e-09,
         0.04220224621267597
        ],
        [
         4.432881816128824e-07,
         1,
         1.1427478623965334e-08,
         0.04352043892688353
        ],
        [
         3.239193584625221e-07,
         1,
         1.5638664646910224e-08,
         0.04474198103321196
        ],
        [
         2.366942209129329e-07,
         1,
         2.1401731736834724e-08,
         0.045856551264284624
        ],
        [
         1.7295710413696225e-07,
         1,
         2.9288569815705576e-08,
         0.04685455354361878
        ],
        [
         1.2638314427815193e-07,
         1,
         4.008181825646684e-08,
         0.047727254261018086
        ],
        [
         9.235063941047241e-08,
         1,
         5.485253000926441e-08,
         0.04846690937321384
        ],
        [
         6.748242139594783e-08,
         1,
         7.50664560466098e-08,
         0.04906687874494025
        ],
        [
         4.931072731634894e-08,
         1,
         1.027294971161007e-07,
         0.04952172537022458
        ],
        [
         3.603231446305674e-08,
         1,
         1.4058675650245592e-07,
         0.049827297400799796
        ],
        [
         2.6329518062779852e-08,
         1,
         1.9239494652196691e-07,
         0.04998079125130282
        ],
        [
         1.9239494652196688e-08,
         1,
         2.632951806277985e-07,
         0.049980794440586944
        ],
        [
         1.4058675650245592e-08,
         1,
         3.6032314463056744e-07,
         0.049827307254781385
        ],
        [
         1.0272949711610143e-08,
         1,
         4.931072731634858e-07,
         0.04952174276918485
        ],
        [
         7.506645604660978e-09,
         1,
         6.748242139594723e-07,
         0.04906690523035356
        ],
        [
         5.485253000926421e-09,
         1,
         9.235063941047243e-07,
         0.04846694726407955
        ],
        [
         4.00818182564667e-09,
         1,
         1.2638314427815198e-06,
         0.047727306826597864
        ],
        [
         2.9288569815705574e-09,
         1,
         1.7295710413696227e-06,
         0.04685462524298278
        ],
        [
         2.1401731736834724e-09,
         1,
         2.366942209129329e-06,
         0.045856648066817066
        ],
        [
         1.5638664646910224e-09,
         1,
         3.239193584625221e-06,
         0.04474211083857767
        ],
        [
         1.1427478623965333e-09,
         1,
         4.432881816128825e-06,
         0.043520612108074896
        ],
        [
         8.350282498511531e-10,
         1,
         6.066460889844948e-06,
         0.042202476311822376
        ],
        [
         6.101715006381026e-10,
         1,
         8.30203674596427e-06,
         0.040798609254541
        ],
        [
         4.4586426897211776e-10,
         1,
         1.136145363546609e-05,
         0.03932034903239586
        ],
        [
         3.258017559622943e-10,
         1,
         1.5548308524843976e-05,
         0.037779315253499285
        ],
        [
         2.3806972564278877e-10,
         1,
         2.1278078117494212e-05,
         0.03618725936030426
        ],
        [
         1.739622123896478e-10,
         1,
         2.9119348104698716e-05,
         0.034555918742412386
        ],
        [
         1.271175965687831e-10,
         1,
         3.9850235973401714e-05,
         0.03289687715252201
        ],
        [
         9.288731808739326e-11,
         1,
         5.4535606409387784e-05,
         0.031221433709845557
        ],
        [
         6.787458301888158e-11,
         1,
         7.463274165866328e-05,
         0.029540482502727537
        ],
        [
         4.959728749679882e-11,
         1,
         0.00010213595289792061,
         0.027864404494766373
        ],
        [
         3.6241709600717664e-11,
         1,
         0.00013977448292167157,
         0.026202973106474518
        ],
        [
         2.648252719198671e-11,
         1,
         0.00019128333874308254,
         0.024565274497643626
        ],
        [
         1.935130142040614e-11,
         1,
         0.0002617739298038056,
         0.022959643224263283
        ],
        [
         1.4140375046106801e-11,
         1,
         0.00035824129155841546,
         0.021393613597789348
        ],
        [
         1.0332649060683336e-11,
         1,
         0.0004902582280581853,
         0.019873886742751073
        ],
        [
         7.550269088558217e-12,
         1,
         0.0006709252558050234,
         0.018406313039119673
        ],
        [
         5.517129535208236e-12,
         1,
         0.0009181706152285333,
         0.01699588935532129
        ],
        [
         4.031474633717954e-12,
         1,
         0.0012565293546113593,
         0.015646770231697128
        ],
        [
         2.945877492741814e-12,
         1,
         0.0017195780313739068,
         0.014362291966570063
        ],
        [
         2.1526103946335986e-12,
         1,
         0.0023532666349034945,
         0.013145008390351341
        ],
        [
         1.5729545856884334e-12,
         1,
         0.00322047836964129,
         0.011996736988313576
        ],
        [
         1.1493887304485604e-12,
         1,
         0.004407269782139559,
         0.010918613949356937
        ],
        [
         8.398808622335049e-13,
         1,
         0.006031410462391652,
         0.009911156674583848
        ],
        [
         6.137173995701249e-13,
         1,
         0.008254069744781413,
         0.00897433227291061
        ],
        [
         4.484553267870499e-13,
         1,
         0.011295810122115302,
         0.008107630597438117
        ],
        [
         3.276950926673214e-13,
         1,
         0.015458474456864633,
         0.0073101404312681485
        ],
        [
         2.3945322386422543e-13,
         1,
         0.02115513893648818,
         0.006580627509719912
        ],
        [
         1.749731616432256e-13,
         1,
         0.028951104112564966,
         0.005917613161970163
        ],
        [
         1.2785631699319305e-13,
         1,
         0.039619991712316935,
         0.005319452463388018
        ],
        [
         9.342711557328045e-14,
         1,
         0.054220513911342805,
         0.004784410904730452
        ],
        [
         6.826902361662574e-14,
         1,
         0.07420153315923554,
         0.004310738700651577
        ],
        [
         4.9885512968788506e-14,
         1,
         0.1015458380232968,
         0.003896741972858543
        ],
        [
         3.645232159953058e-14,
         1,
         0.13896690244560267,
         0.003540850148515341
        ],
        [
         2.6636425505476125e-14,
         1,
         0.19017815354377285,
         0.0032416790086686785
        ],
        [
         1.9463757932990054e-14,
         1,
         0.2602614683699718,
         0.002998088901875171
        ],
        [
         1.422254922291107e-14,
         1,
         0.3561714668898738,
         0.0028092377030472988
        ],
        [
         1.0392695341492783e-14,
         1,
         0.4874256439917988,
         0.0026746281459173894
        ],
        [
         7.594146082271666e-15,
         1,
         0.6670488248130187,
         0.0025941491894699658
        ],
        [
         5.549191314079079e-15,
         1,
         0.9128656650898662,
         0.0025681110951318083
        ],
        [
         3.2458192139115468e-15,
         0.8004678215710442,
         1,
         0.0025972738942037464
        ],
        [
         1.7331088035456313e-15,
         0.5849175186439264,
         1,
         0.0026828689165116723
        ],
        [
         9.253953861797652e-16,
         0.4274106895953505,
         1,
         0.0028266130347746896
        ],
        [
         4.941159025970155e-16,
         0.3123173640001363,
         1,
         0.0030307152585341457
        ],
        [
         2.6383373944317327e-16,
         0.22821641627246655,
         1,
         0.003297875290896767
        ],
        [
         1.4087432058493972e-16,
         0.1667622062032547,
         1,
         0.0036312736453484964
        ],
        [
         7.522000121043147e-17,
         0.1218564109979497,
         1,
         0.004034552913153225
        ],
        [
         4.0163803868611106e-17,
         0.08904286672246844,
         1,
         0.004511789778983566
        ],
        [
         2.1445508046236704e-17,
         0.06506536709249296,
         1,
         0.005067457407837134
        ],
        [
         1.1450853033386043e-17,
         0.04754453838594366,
         1,
         0.005706377873968013
        ],
        [
         6.114195798463036e-18,
         0.03474172561140095,
         1,
         0.006433664375916323
        ],
        [
         3.2646816925296015e-18,
         0.0253864595058242,
         1,
         0.007254653083392569
        ],
        [
         1.7431804451236854e-18,
         0.018550383289808885,
         1,
         0.008174824593477351
        ],
        [
         9.307731504773783e-19,
         0.013555128477835701,
         1,
         0.00919971513595914
        ],
        [
         4.969873658651041e-19,
         0.009904997928079234,
         1,
         0.010334817860067293
        ],
        [
         2.6536696047028946e-19,
         0.0072377760281412415,
         1,
         0.011585474755474117
        ],
        [
         1.4169298566908367e-19,
         0.005288784734122045,
         1,
         0.012956760005972342
        ],
        [
         7.565712834875266e-20,
         0.0038646186142161946,
         1,
         0.01445335584002888
        ],
        [
         4.0397208393560033e-20,
         0.0028239525305288524,
         1,
         0.01607942222245525
        ],
        [
         2.1570134653671226e-20,
         0.0020635174361953532,
         1,
         0.017838462018417347
        ],
        [
         1.151739754996748e-20,
         0.001507852615597913,
         1,
         0.01973318354648331
        ],
        [
         6.149727317600272e-21,
         0.0011018174455348897,
         1,
         0.021765362711972002
        ],
        [
         3.2836537869568794e-21,
         0.0008051195924103225,
         1,
         0.023935707165389866
        ],
        [
         1.753310616185796e-21,
         0.0005883166587258736,
         1,
         0.026243725152699036
        ],
        [
         9.361821666585372e-22,
         0.0004298945078434767,
         1,
         0.028687601903921774
        ],
        [
         4.998755161114021e-22,
         0.0003141323386528428,
         1,
         0.03126408653384375
        ],
        [
         2.66909091528103e-22,
         0.0002295426538071355,
         1,
         0.03396839249371368
        ],
        [
         1.4251640827409342e-22,
         0.00016773131395125585,
         1,
         0.03679411460734859
        ],
        [
         7.609679577066758e-23,
         0.00012256455701454633,
         1,
         0.0397331656419584
        ],
        [
         4.0631969305777816e-23,
         8.956032288960386e-05,
         1,
         0.042775735198232245
        ],
        [
         2.1695485505607428e-23,
         6.54434824509514e-05,
         1,
         0.045910273452954856
        ],
        [
         1.158432877771168e-23,
         4.7820834685770635e-05,
         1,
         0.04912350195038404
        ],
        [
         6.185465321595723e-24,
         3.494362073041789e-05,
         1,
         0.052400453218304985
        ],
        [
         3.3027361342053856e-24,
         2.5533988224480384e-05,
         1,
         0.05572454048647898
        ],
        [
         1.7634996568652615e-24,
         1.865818541466598e-05,
         1,
         0.059077658217441105
        ],
        [
         9.416226163377833e-25,
         1.3633901602346946e-05,
         1,
         0.06244031353343843
        ],
        [
         5.027804503091921e-25,
         9.962558993350428e-06,
         1,
         0.06579178795256435
        ],
        [
         2.6846018439560836e-25,
         7.279837026174679e-06,
         1,
         0.0691103281480127
        ],
        [
         1.4334461604742823e-25,
         5.319519529373553e-06,
         1,
         0.0723733637349572
        ],
        [
         7.653901823856698e-26,
         3.887077131210994e-06,
         1,
         0.07555774938940749
        ],
        [
         4.0868094487660135e-26,
         2.8403634088665225e-06,
         1,
         0.07864002793285893
        ],
        [
         2.1821564810858017e-26,
         2.0755091864910876e-06,
         1,
         0.08159671039618248
        ],
        [
         1.1651648963918567e-26,
         1.516615222461252e-06,
         1,
         0.08440456852598657
        ],
        [
         6.221411010397921e-27,
         1.1082204540322062e-06,
         1,
         0.08704093473537214
        ],
        [
         3.3219293749889706e-27,
         8.097983961563053e-07,
         1,
         0.08948400414538134
        ],
        [
         1.7737479092719233e-27,
         5.917355522823323e-07,
         1,
         0.09171313312768416
        ],
        [
         9.470946821850932e-28,
         4.323927603424057e-07,
         1,
         0.09370912865411117
        ],
        [
         5.057022659953271e-28,
         3.1595786069537995e-07,
         1,
         0.09545452279180491
        ],
        [
         2.7002029115271536e-28,
         2.3087659852618108e-07,
         1,
         0.09693382685721148
        ],
        [
         1.4417763679720507e-28,
         1.6870605348986963e-07,
         1,
         0.0981337600567821
        ],
        [
         7.69838106006266e-29,
         1.2327681829087236e-07,
         1,
         0.09904344789162257
        ],
        [
         4.1105591867406475e-29,
         9.008078615764186e-08,
         1,
         0.09965458617766342
        ],
        [
         2.194837680269438e-29,
         6.582379515694963e-08,
         1,
         0.0999615672184161
        ],
        [
         1.1719360368948468e-29,
         4.809873663049173e-08,
         1,
         0.0999615654465916
        ],
        [
         6.257565590928803e-30,
         3.514668912561398e-08,
         1,
         0.0996545807032292
        ],
        [
         3.3412341537450016e-30,
         2.5682374279025353e-08,
         1,
         0.09904343822553355
        ],
        [
         1.784055717503859e-30,
         1.8766614011652445e-08,
         1,
         0.09813374534266364
        ],
        [
         9.525985479319772e-31,
         1.3713132502316194e-08,
         1,
         0.09693380580673057
        ],
        [
         5.086410612734413e-31,
         1.0020454564116744e-08,
         1,
         0.09545449358870507
        ],
        [
         2.7158946418197163e-31,
         7.322142453926394e-09,
         1,
         0.09370908882113117
        ],
        [
         1.4501549849314533e-31,
         5.350432934208681e-09,
         1,
         0.09171307934849945
        ],
        [
         7.743118779131104e-32,
         3.909666161727556e-09,
         1,
         0.08948393203128928
        ],
        [
         4.1344469419291815e-32,
         2.8568696559913335e-09,
         1,
         0.08704083852359915
        ],
        [
         2.2075925738990164e-32,
         2.0875706246278827e-09,
         1,
         0.08440444069312757
        ],
        [
         1.1787465266297536e-32,
         1.5254287515952563e-09,
         1,
         0.08159654116628176
        ],
        [
         6.293930277123998e-33,
         1.1146606724303053e-09,
         1,
         0.07863980465489234
        ],
        [
         3.360651118655673e-33,
         8.145043899057435e-10,
         1,
         0.07555745575329136
        ],
        [
         1.7944234276586928e-33,
         5.951743141069719e-10,
         1,
         0.0723729787885579
        ],
        [
         9.581343983776768e-34,
         4.349055309741195e-10,
         1,
         0.06910982506980574
        ],
        [
         5.115969348172938e-34,
         3.177939914219577e-10,
         1,
         0.06579113252543356
        ],
        [
         2.7316775617035025e-34,
         2.3221829521848317e-10,
         1,
         0.06243946225445373
        ],
        [
         1.458582292675213e-34,
         1.6968645754720396e-10,
         1,
         0.059076555966131004
        ],
        [
         7.788116483187748e-35,
         1.2399321874199705e-10,
         1,
         0.05572311765995838
        ],
        [
         4.1584735163932354e-35,
         9.0604274001795e-11,
         1,
         0.052398622225470926
        ],
        [
         2.2204215902361617e-35,
         6.620631797996737e-11,
         1,
         0.04912115293910214
        ],
        [
         1.1855965942673276e-35,
         4.837825355101536e-11,
         1,
         0.04590726912361465
        ],
        [
         6.33050628997363e-36,
         3.5350937615267e-11,
         1,
         0.04277190453416373
        ],
        [
         3.380180921670194e-36,
         2.583162265170834e-11,
         1,
         0.039728296361940224
        ],
        [
         1.8048513878454396e-36,
         1.8875672721395544e-11,
         1,
         0.03678794411783865
        ]
       ],
       "style": "height: 32px; width: 100%;"
      }
     },
     "6128631607d14992a457a21f81494c83": {
      "model_module": "bqplot",
      "model_module_version": "^0.3.0",
      "model_name": "HandDrawModel",
      "state": {
       "lines": "IPY_MODEL_b2232c85840f48f9ab49ad4cd1b38731"
      }
     },
     "6188511c789b4305a6994a0bbece145c": {
      "model_module": "@jupyter-widgets/controls",
      "model_module_version": "1.0.0",
      "model_name": "DescriptionStyleModel",
      "state": {
       "description_width": ""
      }
     },
     "641715c06d1c4304aa92206fc941d599": {
      "model_module": "@jupyter-widgets/controls",
      "model_module_version": "1.0.0",
      "model_name": "HTMLModel",
      "state": {
       "layout": "IPY_MODEL_80c792384d754cbba4fec0ca3801048b",
       "style": "IPY_MODEL_327686829d0b4a9499949f97f4d55321",
       "value": "<h3>Frond Parameters</h3>"
      }
     },
     "659a60f904684dcfba87779e63a89c2f": {
      "model_module": "bqplot",
      "model_module_version": "^0.3.0",
      "model_name": "LinearScaleModel",
      "state": {
       "max": 10,
       "min": 0,
       "stabilized": false
      }
     },
     "65e54387d5064a4d870059d9fe6e81ce": {
      "model_module": "@jupyter-widgets/controls",
      "model_module_version": "1.0.0",
      "model_name": "VBoxModel",
      "state": {
       "children": [
        "IPY_MODEL_c95b1806c3b141d3b286f97738aef444",
        "IPY_MODEL_f250e92977f14e889a04504d5f75ca3a"
       ],
       "layout": "IPY_MODEL_7c346f4a1e7d4b4abdd94da540907473"
      }
     },
     "66533bde9de1439ba5b663f43dd1cb58": {
      "model_module": "@jupyter-widgets/controls",
      "model_module_version": "1.0.0",
      "model_name": "LinkModel",
      "state": {
       "source": [
        "IPY_MODEL_60d549cc327c43d59653a96c7b24d035",
        "level1"
       ],
       "target": [
        "IPY_MODEL_d6fbf1946b7f42dc891f917f7dba0c3c",
        "value"
       ]
      }
     },
     "6b09df4c63ea475bbf322ce6a7812d92": {
      "model_module": "@jupyter-widgets/controls",
      "model_module_version": "1.0.0",
      "model_name": "HBoxModel",
      "state": {
       "children": [
        "IPY_MODEL_a087076978764e469d4ffa935c322a7c",
        "IPY_MODEL_3523e11e4f0743bdadf750dab2ef7d13"
       ],
       "layout": "IPY_MODEL_7420f4fb06e74a7fa82eeafa35ea5c1a"
      }
     },
     "6bbbffec9b4245e0a26788e383f55b66": {
      "model_module": "bqplot",
      "model_module_version": "^0.3.0",
      "model_name": "LinearScaleModel",
      "state": {
       "max": 1,
       "min": 0,
       "stabilized": false
      }
     },
     "6bd470ce2e844a46af9604a3f7b25628": {
      "model_module": "@jupyter-widgets/controls",
      "model_module_version": "1.0.0",
      "model_name": "SliderStyleModel",
      "state": {
       "description_width": ""
      }
     },
     "6bef163f358f42349672115f69b02610": {
      "model_module": "@jupyter-widgets/controls",
      "model_module_version": "1.0.0",
      "model_name": "VBoxModel",
      "state": {
       "children": [
        "IPY_MODEL_641715c06d1c4304aa92206fc941d599",
        "IPY_MODEL_2e9dff08b2a240e1b308e2a0c0c7bcd2",
        "IPY_MODEL_3fb99ef8a8f84d2bbb2383a262994dfa"
       ],
       "layout": "IPY_MODEL_e941b85c00924f76bed6ca36b0852512"
      }
     },
     "6c7dc927ac2642feaa13ad5cf1daf74d": {
      "model_module": "bqplot",
      "model_module_version": "^0.3.0",
      "model_name": "LinesModel",
      "state": {
       "color": {
        "type": null,
        "values": null
       },
       "colors": [
        "blue"
       ],
       "display_legend": false,
       "fill_colors": [],
       "interpolation": "cardinal",
       "labels": [
        "C1"
       ],
       "scales": {
        "x": "IPY_MODEL_fd4da8dcf0694cc9bd57554f83a32113",
        "y": "IPY_MODEL_effbb3e87076487aba5eee1f570bbe35"
       },
       "selected": [],
       "x": {
        "type": "float",
        "values": [
         0.040987529158554005,
         0.21195796795501298,
         0.5035822725214826,
         0.8900204336468486,
         1.3369450619685321,
         1.804647591621261,
         2.2515722199429447,
         2.6380103810683107,
         2.92963468563478,
         3.100605124431239
        ]
       },
       "y": {
        "type": "float",
        "values": [
         0.5004974066671531,
         0.4528687811824005,
         0.40977261867417525,
         0.3707775982629746,
         0.3354934446778442,
         0.3035670222502906,
         0.2746788006138176,
         0.24853965673662087,
         0.2248879812811077,
         0.20348706032971672
        ]
       }
      }
     },
     "71534d7b70354ec583b09dd8050a92fd": {
      "model_module": "@jupyter-widgets/controls",
      "model_module_version": "1.0.0",
      "model_name": "FloatSliderModel",
      "state": {
       "continuous_update": false,
       "description": "y width",
       "layout": "IPY_MODEL_7719631c3b5d46cca12b3be2ab6590df",
       "max": 10,
       "min": 1,
       "step": 0.1,
       "style": "IPY_MODEL_78eddaadaaa94e519a90f5ccd68f9379",
       "value": 1
      }
     },
     "72ed1a0b1ec446c39206a7380dd261e2": {
      "model_module": "@jupyter-widgets/base",
      "model_module_version": "1.0.0",
      "model_name": "LayoutModel",
      "state": {
       "min_width": "125px"
      }
     },
     "7420f4fb06e74a7fa82eeafa35ea5c1a": {
      "model_module": "@jupyter-widgets/base",
      "model_module_version": "1.0.0",
      "model_name": "LayoutModel",
      "state": {}
     },
     "766726c5083c448a99693b9e421ce47a": {
      "model_module": "@jupyter-widgets/controls",
      "model_module_version": "1.0.0",
      "model_name": "DescriptionStyleModel",
      "state": {
       "description_width": ""
      }
     },
     "7719631c3b5d46cca12b3be2ab6590df": {
      "model_module": "@jupyter-widgets/base",
      "model_module_version": "1.0.0",
      "model_name": "LayoutModel",
      "state": {}
     },
     "78b2911f96b6499d815df62cd5c40ffe": {
      "model_module": "@jupyter-widgets/controls",
      "model_module_version": "1.0.0",
      "model_name": "DescriptionStyleModel",
      "state": {
       "description_width": ""
      }
     },
     "78eddaadaaa94e519a90f5ccd68f9379": {
      "model_module": "@jupyter-widgets/controls",
      "model_module_version": "1.0.0",
      "model_name": "SliderStyleModel",
      "state": {
       "description_width": ""
      }
     },
     "7a0a0a0802b0479d8556c16f51a5b654": {
      "model_module": "@jupyter-widgets/base",
      "model_module_version": "1.0.0",
      "model_name": "LayoutModel",
      "state": {
       "width": "150px"
      }
     },
     "7c346f4a1e7d4b4abdd94da540907473": {
      "model_module": "@jupyter-widgets/base",
      "model_module_version": "1.0.0",
      "model_name": "LayoutModel",
      "state": {}
     },
     "7cd4590466fc494b8d2cdab35f413670": {
      "model_module": "@jupyter-widgets/controls",
      "model_module_version": "1.0.0",
      "model_name": "FloatSliderModel",
      "state": {
       "description": "$a_w$",
       "layout": "IPY_MODEL_cbf91d7a4a734b2d9e5b929cfb6e2853",
       "max": 10,
       "step": 0.1,
       "style": "IPY_MODEL_4f0f20b0c7174166bc4e670c4ed13b40"
      }
     },
     "7da94b0919cd4719814dd02c19d03b4d": {
      "model_module": "@jupyter-widgets/base",
      "model_module_version": "1.0.0",
      "model_name": "LayoutModel",
      "state": {}
     },
     "80c792384d754cbba4fec0ca3801048b": {
      "model_module": "@jupyter-widgets/base",
      "model_module_version": "1.0.0",
      "model_name": "LayoutModel",
      "state": {}
     },
     "82af62e93a3c41b0b75a50a82db440b0": {
      "model_module": "@jupyter-widgets/controls",
      "model_module_version": "1.0.0",
      "model_name": "SliderStyleModel",
      "state": {
       "description_width": ""
      }
     },
     "844e1e8623aa4a02b217889986e1856f": {
      "model_module": "bqplot",
      "model_module_version": "^0.3.0",
      "model_name": "AxisModel",
      "state": {
       "grid_lines": "none",
       "label": "z",
       "scale": "IPY_MODEL_c4909d426d6e484ea4d9cfba205ae587",
       "side": "bottom",
       "tick_values": {
        "type": null,
        "values": null
       }
      }
     },
     "849406293ea047ce9faa6a8284462599": {
      "model_module": "@jupyter-widgets/base",
      "model_module_version": "1.0.0",
      "model_name": "LayoutModel",
      "state": {}
     },
     "86ec6f533e1d4b3fb192a63a2d95e173": {
      "model_module": "@jupyter-widgets/controls",
      "model_module_version": "1.0.0",
      "model_name": "HTMLModel",
      "state": {
       "layout": "IPY_MODEL_27007356cd8843a2801f3501b65331c9",
       "style": "IPY_MODEL_d2b69c1bfae04b00b519d4afbe157267",
       "value": "<h3>Rope Parameters</h3>"
      }
     },
     "880ca725f25c43fa90f0f3441fd59851": {
      "model_module": "@jupyter-widgets/controls",
      "model_module_version": "1.0.0",
      "model_name": "DescriptionStyleModel",
      "state": {
       "description_width": ""
      }
     },
     "894a939f5de44fa49682cc77be89e637": {
      "model_module": "@jupyter-widgets/controls",
      "model_module_version": "1.0.0",
      "model_name": "LabelModel",
      "state": {
       "layout": "IPY_MODEL_dbe37a93edee40669568ecbe8f9d351f",
       "style": "IPY_MODEL_b08c90bd1a6147dd8dcaa0dfe15e183b",
       "value": "levels:"
      }
     },
     "8a1b657cfe474dfdb54f6ed27f79d7c7": {
      "model_module": "@jupyter-widgets/controls",
      "model_module_version": "1.0.0",
      "model_name": "VBoxModel",
      "state": {
       "children": [
        "IPY_MODEL_cddced5b412b4c40bb8071c1a971e04f",
        "IPY_MODEL_71534d7b70354ec583b09dd8050a92fd",
        "IPY_MODEL_4ff01069662745c4b20afabf7605860f"
       ],
       "layout": "IPY_MODEL_969e9ff363a642a986fac6eb28bee49d"
      }
     },
     "8a3bc3cd9d4243c4b67ad245f687479b": {
      "model_module": "@jupyter-widgets/controls",
      "model_module_version": "1.0.0",
      "model_name": "SliderStyleModel",
      "state": {
       "description_width": ""
      }
     },
     "8a79c841b8f4430782d9403e94acce73": {
      "model_module": "@jupyter-widgets/base",
      "model_module_version": "1.0.0",
      "model_name": "LayoutModel",
      "state": {}
     },
     "8b9acea9c3984754a99309da1bc222cf": {
      "model_module": "@jupyter-widgets/base",
      "model_module_version": "1.0.0",
      "model_name": "LayoutModel",
      "state": {}
     },
     "8cf2f3665ff446c3838324c51d863cef": {
      "model_module": "@jupyter-widgets/base",
      "model_module_version": "1.0.0",
      "model_name": "LayoutModel",
      "state": {}
     },
     "8e191bae06f448d4b09b06809ebb1507": {
      "model_module": "bqplot",
      "model_module_version": "^0.3.0",
      "model_name": "LinearScaleModel",
      "state": {
       "max": 9,
       "min": 0,
       "stabilized": false
      }
     },
     "8e24041eddc54bea82448885b28c42f3": {
      "model_module": "bqplot",
      "model_module_version": "^0.3.0",
      "model_name": "AxisModel",
      "state": {
       "grid_lines": "none",
       "orientation": "vertical",
       "scale": "IPY_MODEL_abc7971b508d4db2b0118b0f9ae60cac",
       "side": "left",
       "tick_values": {
        "type": null,
        "values": null
       }
      }
     },
     "90a50236e73e4a8093bf3a79284c1ff3": {
      "model_module": "bqplot",
      "model_module_version": "^0.3.0",
      "model_name": "LinesModel",
      "state": {
       "color": {
        "type": null,
        "values": null
       },
       "colors": [
        "green"
       ],
       "display_legend": false,
       "fill_colors": [],
       "interpolation": "cardinal",
       "labels": [
        "C1"
       ],
       "scales": {
        "x": "IPY_MODEL_8e191bae06f448d4b09b06809ebb1507",
        "y": "IPY_MODEL_ef9662b3887645d8991dd6d41dc110e1"
       },
       "selected": [],
       "x": {
        "type": "float",
        "values": [
         0,
         1,
         2,
         3,
         4,
         5,
         6,
         7,
         8,
         9
        ]
       },
       "y": {
        "type": "float",
        "values": [
         0.7853981633974483,
         0.7853981633974483,
         0.7853981633974483,
         0.7853981633974483,
         0.7853981633974483,
         0.7853981633974483,
         0.7853981633974483,
         0.7853981633974483,
         0.7853981633974483,
         0.7853981633974483
        ]
       }
      }
     },
     "914e8161b83645409f14bbb982092771": {
      "model_module": "bqplot",
      "model_module_version": "^0.3.0",
      "model_name": "LinesModel",
      "state": {
       "color": {
        "type": null,
        "values": null
       },
       "colors": [
        "red"
       ],
       "display_legend": false,
       "fill_colors": [],
       "interpolation": "cardinal",
       "labels": [
        "C1"
       ],
       "scales": {
        "x": "IPY_MODEL_b19b2bed50334321b98eb6e0cc27ba7a",
        "y": "IPY_MODEL_24ec68bebd0d406bab6e621f8a5c3fbc"
       },
       "selected": [],
       "x": {
        "type": "float",
        "values": [
         0,
         1,
         2,
         3,
         4,
         5,
         6,
         7,
         8,
         9
        ]
       },
       "y": {
        "type": "float",
        "values": [
         0.5,
         0.5,
         0.5,
         0.5,
         0.5,
         0.5,
         0.5,
         0.5,
         0.5,
         0.5
        ]
       }
      }
     },
     "926a57a7553249b9803986cf15bdc98f": {
      "model_module": "@jupyter-widgets/base",
      "model_module_version": "1.0.0",
      "model_name": "LayoutModel",
      "state": {
       "width": "150px"
      }
     },
     "926b878b0d934e0fa373b26e1d1a127e": {
      "model_module": "@jupyter-widgets/controls",
      "model_module_version": "1.0.0",
      "model_name": "SliderStyleModel",
      "state": {
       "description_width": ""
      }
     },
     "9349b311d4794f5caef58339f0f11783": {
      "model_module": "@jupyter-widgets/controls",
      "model_module_version": "1.0.0",
      "model_name": "SliderStyleModel",
      "state": {
       "description_width": ""
      }
     },
     "9522aa7f7dfd4a1ab699b280dfee14a0": {
      "model_module": "bqplot",
      "model_module_version": "^0.3.0",
      "model_name": "LinearScaleModel",
      "state": {
       "allow_padding": false,
       "max": 1,
       "min": 0,
       "stabilized": false
      }
     },
     "969e9ff363a642a986fac6eb28bee49d": {
      "model_module": "@jupyter-widgets/base",
      "model_module_version": "1.0.0",
      "model_name": "LayoutModel",
      "state": {}
     },
     "99150961a1b14371984759db5b129e57": {
      "model_module": "@jupyter-widgets/base",
      "model_module_version": "1.0.0",
      "model_name": "LayoutModel",
      "state": {
       "min_width": "125px"
      }
     },
     "99dc92972e7746ec8b8c1fcc93fc8bdd": {
      "model_module": "@jupyter-widgets/base",
      "model_module_version": "1.0.0",
      "model_name": "LayoutModel",
      "state": {}
     },
     "9e289910300c4986a260dda81dca0f15": {
      "model_module": "@jupyter-widgets/base",
      "model_module_version": "1.0.0",
      "model_name": "LayoutModel",
      "state": {}
     },
     "a087076978764e469d4ffa935c322a7c": {
      "model_module": "bqplot",
      "model_module_version": "^0.3.0",
      "model_name": "FigureModel",
      "state": {
       "_dom_classes": [],
       "axes": [
        "IPY_MODEL_e784e7ecf0234eb3b912b95fa1e75087",
        "IPY_MODEL_09c0f2b28e894296b33a7b62236f2931"
       ],
       "interaction": "IPY_MODEL_3da04d112eff403c8121d2f82bfa65b3",
       "layout": "IPY_MODEL_99150961a1b14371984759db5b129e57",
       "marks": [
        "IPY_MODEL_914e8161b83645409f14bbb982092771"
       ],
       "max_aspect_ratio": 6,
       "scale_x": "IPY_MODEL_0b45a37b63514d77b8b8e5b43167d08d",
       "scale_y": "IPY_MODEL_49cf867aad554c19a9894387604a55a8",
       "title": "Water current velocity"
      }
     },
     "a0af569a02444b6eab448c46d2e82dea": {
      "model_module": "@jupyter-widgets/base",
      "model_module_version": "1.0.0",
      "model_name": "LayoutModel",
      "state": {}
     },
     "a165186354dd4043aa15340c4d505a8a": {
      "model_module": "@jupyter-widgets/controls",
      "model_module_version": "1.0.0",
      "model_name": "LinkModel",
      "state": {
       "source": [
        "IPY_MODEL_60d549cc327c43d59653a96c7b24d035",
        "level3"
       ],
       "target": [
        "IPY_MODEL_b9439b231d0a4675b0fab595a69a7b2b",
        "value"
       ]
      }
     },
     "a505b4452bb4410fb9238c1a248ea6df": {
      "model_module": "@jupyter-widgets/base",
      "model_module_version": "1.0.0",
      "model_name": "LayoutModel",
      "state": {}
     },
     "a6759db536a0478288dd1857cc8d8fcf": {
      "model_module": "bqplot",
      "model_module_version": "^0.3.0",
      "model_name": "LinearScaleModel",
      "state": {
       "allow_padding": false,
       "max": 1,
       "min": 0,
       "stabilized": false
      }
     },
     "a7345aa1817f454ca5ddb92cc424ccd4": {
      "model_module": "bqplot",
      "model_module_version": "^0.3.0",
      "model_name": "AxisModel",
      "state": {
       "grid_lines": "none",
       "label": "theta",
       "scale": "IPY_MODEL_fd4da8dcf0694cc9bd57554f83a32113",
       "side": "bottom",
       "tick_values": {
        "type": null,
        "values": null
       }
      }
     },
     "aacd0ad05aa4484bb138fc03f24da291": {
      "model_module": "@jupyter-widgets/controls",
      "model_module_version": "1.0.0",
      "model_name": "FloatSliderModel",
      "state": {
       "layout": "IPY_MODEL_fd78a427b1874107929917d06cf88cde",
       "max": 1,
       "step": 0.001,
       "style": "IPY_MODEL_db513cbcbac944589c48115ee7732bd8",
       "value": 0.5
      }
     },
     "abc7971b508d4db2b0118b0f9ae60cac": {
      "model_module": "bqplot",
      "model_module_version": "^0.3.0",
      "model_name": "LinearScaleModel",
      "state": {
       "max": 1,
       "min": 0,
       "stabilized": false
      }
     },
     "aeeed75dfaba4634959338c856704f30": {
      "model_module": "bqplot",
      "model_module_version": "^0.3.0",
      "model_name": "LinearScaleModel",
      "state": {
       "allow_padding": false,
       "max": 1,
       "min": 0,
       "stabilized": false
      }
     },
     "affe563047c54a6ead895431454c47e3": {
      "model_module": "bqplot",
      "model_module_version": "^0.3.0",
      "model_name": "AxisModel",
      "state": {
       "grid_lines": "none",
       "orientation": "vertical",
       "scale": "IPY_MODEL_6bbbffec9b4245e0a26788e383f55b66",
       "side": "left",
       "tick_values": {
        "type": null,
        "values": null
       }
      }
     },
     "b08c90bd1a6147dd8dcaa0dfe15e183b": {
      "model_module": "@jupyter-widgets/controls",
      "model_module_version": "1.0.0",
      "model_name": "DescriptionStyleModel",
      "state": {
       "description_width": ""
      }
     },
     "b19b2bed50334321b98eb6e0cc27ba7a": {
      "model_module": "bqplot",
      "model_module_version": "^0.3.0",
      "model_name": "LinearScaleModel",
      "state": {
       "max": 9,
       "min": 0,
       "stabilized": false
      }
     },
     "b1a3e37210084ffca27620f3cc121ac2": {
      "model_module": "@jupyter-widgets/base",
      "model_module_version": "1.0.0",
      "model_name": "LayoutModel",
      "state": {}
     },
     "b2232c85840f48f9ab49ad4cd1b38731": {
      "model_module": "bqplot",
      "model_module_version": "^0.3.0",
      "model_name": "LinesModel",
      "state": {
       "color": {
        "type": null,
        "values": null
       },
       "colors": [
        "yellow"
       ],
       "display_legend": false,
       "fill_colors": [],
       "interpolation": "cardinal",
       "labels": [
        "C1"
       ],
       "scales": {
        "x": "IPY_MODEL_04fc58c8a5144f12b472882e40b2b267",
        "y": "IPY_MODEL_6bbbffec9b4245e0a26788e383f55b66"
       },
       "selected": [],
       "x": {
        "type": "float",
        "values": [
         0,
         1,
         2,
         3,
         4,
         5,
         6,
         7,
         8,
         9
        ]
       },
       "y": {
        "type": "float",
        "values": [
         0.1,
         0.1,
         0.1,
         0.1,
         0.1,
         0.1,
         0.1,
         0.1,
         0.1,
         0.1
        ]
       }
      }
     },
     "b276513443e2419b9c628d3e2bc55b24": {
      "model_module": "bqplot",
      "model_module_version": "^0.3.0",
      "model_name": "LinearScaleModel",
      "state": {
       "allow_padding": false,
       "max": 1,
       "min": 0,
       "stabilized": false
      }
     },
     "b678b3fec20848a98325d5dc8beb1709": {
      "model_module": "@jupyter-widgets/controls",
      "model_module_version": "1.0.0",
      "model_name": "HBoxModel",
      "state": {
       "children": [
        "IPY_MODEL_c3c3426c5bdd44f5a940ddfb538b78dc",
        "IPY_MODEL_47d7749c790a4340bf0ad11b6a377cbd",
        "IPY_MODEL_14a5452b4cf041cfbc9a56f88dc9d828",
        "IPY_MODEL_5ac146cd08e24eecbec9ab5c204fec39"
       ],
       "layout": "IPY_MODEL_b1a3e37210084ffca27620f3cc121ac2"
      }
     },
     "b68d70d1abb646e384d1828228f54c2f": {
      "model_module": "@jupyter-widgets/controls",
      "model_module_version": "1.0.0",
      "model_name": "LinkModel",
      "state": {
       "source": [
        "IPY_MODEL_60d549cc327c43d59653a96c7b24d035",
        "opacity1"
       ],
       "target": [
        "IPY_MODEL_47d7749c790a4340bf0ad11b6a377cbd",
        "value"
       ]
      }
     },
     "b78750424835421ab15d54d4ddcf4129": {
      "model_module": "@jupyter-widgets/base",
      "model_module_version": "1.0.0",
      "model_name": "LayoutModel",
      "state": {}
     },
     "b7de43cde46847c2912b623471df8f7d": {
      "model_module": "@jupyter-widgets/controls",
      "model_module_version": "1.0.0",
      "model_name": "DescriptionStyleModel",
      "state": {
       "description_width": ""
      }
     },
     "b9439b231d0a4675b0fab595a69a7b2b": {
      "model_module": "@jupyter-widgets/controls",
      "model_module_version": "1.0.0",
      "model_name": "FloatSliderModel",
      "state": {
       "layout": "IPY_MODEL_4387931d8e9e43e2bd97769d717cb2aa",
       "max": 1,
       "step": 0.001,
       "style": "IPY_MODEL_cba0c61287bd4e0e8cb62c3a057c58a0",
       "value": 0.9
      }
     },
     "ba35035945e240569929ed409aa51d73": {
      "model_module": "@jupyter-widgets/controls",
      "model_module_version": "1.0.0",
      "model_name": "VBoxModel",
      "state": {
       "children": [
        "IPY_MODEL_86ec6f533e1d4b3fb192a63a2d95e173",
        "IPY_MODEL_6b09df4c63ea475bbf322ce6a7812d92",
        "IPY_MODEL_18b77231161547bca795d852f228207b"
       ],
       "layout": "IPY_MODEL_849406293ea047ce9faa6a8284462599"
      }
     },
     "ba5474066ed14b11ae910ca8c0258999": {
      "model_module": "bqplot",
      "model_module_version": "^0.3.0",
      "model_name": "HandDrawModel",
      "state": {
       "lines": "IPY_MODEL_cca7187b18194b559120c0228baddf5e"
      }
     },
     "c09c021ce23c4579a216eed17f743806": {
      "model_module": "@jupyter-widgets/base",
      "model_module_version": "1.0.0",
      "model_name": "LayoutModel",
      "state": {}
     },
     "c1a31c8affac4235af0e4154d84c4873": {
      "model_module": "bqplot",
      "model_module_version": "^0.3.0",
      "model_name": "HandDrawModel",
      "state": {
       "lines": "IPY_MODEL_6c7dc927ac2642feaa13ad5cf1daf74d"
      }
     },
     "c2b10fff38954e11b232d73b813a3520": {
      "model_module": "@jupyter-widgets/controls",
      "model_module_version": "1.0.0",
      "model_name": "HBoxModel",
      "state": {
       "children": [
        "IPY_MODEL_894a939f5de44fa49682cc77be89e637",
        "IPY_MODEL_d6fbf1946b7f42dc891f917f7dba0c3c",
        "IPY_MODEL_aacd0ad05aa4484bb138fc03f24da291",
        "IPY_MODEL_b9439b231d0a4675b0fab595a69a7b2b"
       ],
       "layout": "IPY_MODEL_9e289910300c4986a260dda81dca0f15"
      }
     },
     "c3c3426c5bdd44f5a940ddfb538b78dc": {
      "model_module": "@jupyter-widgets/controls",
      "model_module_version": "1.0.0",
      "model_name": "LabelModel",
      "state": {
       "layout": "IPY_MODEL_4a93cbb89fb5444e849104e4aff97d8e",
       "style": "IPY_MODEL_6188511c789b4305a6994a0bbece145c",
       "value": "opacities:"
      }
     },
     "c4909d426d6e484ea4d9cfba205ae587": {
      "model_module": "bqplot",
      "model_module_version": "^0.3.0",
      "model_name": "LinearScaleModel",
      "state": {
       "max": 9,
       "min": 0,
       "stabilized": false
      }
     },
     "c8772e32b4834f90b1cecb197986f139": {
      "model_module": "@jupyter-widgets/controls",
      "model_module_version": "1.0.0",
      "model_name": "BoundedIntTextModel",
      "state": {
       "description": "ntheta",
       "layout": "IPY_MODEL_40685efeb8e9434398210d288fc26674",
       "max": 1000,
       "min": 1,
       "style": "IPY_MODEL_766726c5083c448a99693b9e421ce47a",
       "value": 10
      }
     },
     "c95b1806c3b141d3b286f97738aef444": {
      "model_module": "@jupyter-widgets/controls",
      "model_module_version": "1.0.0",
      "model_name": "HTMLModel",
      "state": {
       "layout": "IPY_MODEL_b78750424835421ab15d54d4ddcf4129",
       "style": "IPY_MODEL_51b0d5af998246a2a0c0ab2a6e3eb579",
       "value": "<h3>Optical Properties</h3>"
      }
     },
     "ca06ef7800754d8c92545e2d850d8dfc": {
      "model_module": "bqplot",
      "model_module_version": "^0.3.0",
      "model_name": "LinearScaleModel",
      "state": {
       "allow_padding": false,
       "max": 1,
       "min": 0,
       "stabilized": false
      }
     },
     "cb223a4ee5b14faab41768546c719da0": {
      "model_module": "bqplot",
      "model_module_version": "^0.3.0",
      "model_name": "LinearScaleModel",
      "state": {
       "allow_padding": false,
       "max": 1,
       "min": 0,
       "stabilized": false
      }
     },
     "cba0c61287bd4e0e8cb62c3a057c58a0": {
      "model_module": "@jupyter-widgets/controls",
      "model_module_version": "1.0.0",
      "model_name": "SliderStyleModel",
      "state": {
       "description_width": ""
      }
     },
     "cbf91d7a4a734b2d9e5b929cfb6e2853": {
      "model_module": "@jupyter-widgets/base",
      "model_module_version": "1.0.0",
      "model_name": "LayoutModel",
      "state": {}
     },
     "cca7187b18194b559120c0228baddf5e": {
      "model_module": "bqplot",
      "model_module_version": "^0.3.0",
      "model_name": "LinesModel",
      "state": {
       "color": {
        "type": null,
        "values": null
       },
       "colors": [
        "blue"
       ],
       "display_legend": false,
       "fill_colors": [],
       "interpolation": "cardinal",
       "labels": [
        "C1"
       ],
       "scales": {
        "x": "IPY_MODEL_c4909d426d6e484ea4d9cfba205ae587",
        "y": "IPY_MODEL_abc7971b508d4db2b0118b0f9ae60cac"
       },
       "selected": [],
       "x": {
        "type": "float",
        "values": [
         0,
         1,
         2,
         3,
         4,
         5,
         6,
         7,
         8,
         9
        ]
       },
       "y": {
        "type": "float",
        "values": [
         0,
         0.012298015555784752,
         0.04451081856984936,
         0.09061887183617147,
         0.14576950403124073,
         0.20609015883751602,
         0.2685284455754287,
         0.3307154078561208,
         0.39084888261125444,
         0.44759422182063724
        ]
       }
      }
     },
     "cddced5b412b4c40bb8071c1a971e04f": {
      "model_module": "@jupyter-widgets/controls",
      "model_module_version": "1.0.0",
      "model_name": "FloatSliderModel",
      "state": {
       "continuous_update": false,
       "description": "x width",
       "layout": "IPY_MODEL_0fbbec1fd5844f35806dadcaf64cc2d3",
       "max": 10,
       "min": 1,
       "step": 0.1,
       "style": "IPY_MODEL_6bd470ce2e844a46af9604a3f7b25628",
       "value": 1
      }
     },
     "ce86da1c346e4b5fbd4fb748feb7032f": {
      "model_module": "@jupyter-widgets/base",
      "model_module_version": "1.0.0",
      "model_name": "LayoutModel",
      "state": {
       "width": "150px"
      }
     },
     "d20ff96e6b2a420a92c916100583e7e8": {
      "model_module": "@jupyter-widgets/controls",
      "model_module_version": "1.0.0",
      "model_name": "FloatSliderModel",
      "state": {
       "description": "$b_k$",
       "layout": "IPY_MODEL_ef565c5c9748401d92cb5be745c3f071",
       "max": 10,
       "step": 0.1,
       "style": "IPY_MODEL_926b878b0d934e0fa373b26e1d1a127e"
      }
     },
     "d2b69c1bfae04b00b519d4afbe157267": {
      "model_module": "@jupyter-widgets/controls",
      "model_module_version": "1.0.0",
      "model_name": "DescriptionStyleModel",
      "state": {
       "description_width": ""
      }
     },
     "d42de49f3f8045a4a760ff103320077f": {
      "model_module": "@jupyter-widgets/controls",
      "model_module_version": "1.0.0",
      "model_name": "VBoxModel",
      "state": {
       "children": [
        "IPY_MODEL_e1c9883ca46c46d184da5f6ab36efbcb",
        "IPY_MODEL_fe42730bcd504ce09c6eca892676dd9a"
       ],
       "layout": "IPY_MODEL_15b71195b6c84832a38888b258e82f84"
      }
     },
     "d45b5bd3fe4b477c9f315a3739bf0357": {
      "model_module": "@jupyter-widgets/base",
      "model_module_version": "1.0.0",
      "model_name": "LayoutModel",
      "state": {}
     },
     "d6edcad5e94c4698bce94d52b75f423f": {
      "model_module": "@jupyter-widgets/base",
      "model_module_version": "1.0.0",
      "model_name": "LayoutModel",
      "state": {}
     },
     "d6fbf1946b7f42dc891f917f7dba0c3c": {
      "model_module": "@jupyter-widgets/controls",
      "model_module_version": "1.0.0",
      "model_name": "FloatSliderModel",
      "state": {
       "layout": "IPY_MODEL_1698e8e048874025acbe2326af8dd9aa",
       "max": 1,
       "step": 0.001,
       "style": "IPY_MODEL_82af62e93a3c41b0b75a50a82db440b0",
       "value": 0.1
      }
     },
     "db513cbcbac944589c48115ee7732bd8": {
      "model_module": "@jupyter-widgets/controls",
      "model_module_version": "1.0.0",
      "model_name": "SliderStyleModel",
      "state": {
       "description_width": ""
      }
     },
     "dbe37a93edee40669568ecbe8f9d351f": {
      "model_module": "@jupyter-widgets/base",
      "model_module_version": "1.0.0",
      "model_name": "LayoutModel",
      "state": {}
     },
     "e0bfc28e43e64640ad5e9609d64aaf69": {
      "model_module": "@jupyter-widgets/controls",
      "model_module_version": "1.0.0",
      "model_name": "LinkModel",
      "state": {
       "source": [
        "IPY_MODEL_60d549cc327c43d59653a96c7b24d035",
        "opacity3"
       ],
       "target": [
        "IPY_MODEL_5ac146cd08e24eecbec9ab5c204fec39",
        "value"
       ]
      }
     },
     "e1c9883ca46c46d184da5f6ab36efbcb": {
      "model_module": "@jupyter-widgets/controls",
      "model_module_version": "1.0.0",
      "model_name": "HTMLModel",
      "state": {
       "layout": "IPY_MODEL_f31da139fc0a4078916afb0feedb27e0",
       "style": "IPY_MODEL_880ca725f25c43fa90f0f3441fd59851",
       "value": "<h3>Space/Angle Grid</h3>"
      }
     },
     "e784e7ecf0234eb3b912b95fa1e75087": {
      "model_module": "bqplot",
      "model_module_version": "^0.3.0",
      "model_name": "AxisModel",
      "state": {
       "grid_lines": "none",
       "label": "z",
       "scale": "IPY_MODEL_b19b2bed50334321b98eb6e0cc27ba7a",
       "side": "bottom",
       "tick_values": {
        "type": null,
        "values": null
       }
      }
     },
     "e941b85c00924f76bed6ca36b0852512": {
      "model_module": "@jupyter-widgets/base",
      "model_module_version": "1.0.0",
      "model_name": "LayoutModel",
      "state": {}
     },
     "ebce800f47c54946b5b7d9075f3e7549": {
      "model_module": "bqplot",
      "model_module_version": "^0.3.0",
      "model_name": "FigureModel",
      "state": {
       "_dom_classes": [],
       "axes": [
        "IPY_MODEL_a7345aa1817f454ca5ddb92cc424ccd4",
        "IPY_MODEL_4c0f7c0db9f84444bc2a41e1aac5bdea"
       ],
       "interaction": "IPY_MODEL_c1a31c8affac4235af0e4154d84c4873",
       "layout": "IPY_MODEL_72ed1a0b1ec446c39206a7380dd261e2",
       "marks": [
        "IPY_MODEL_6c7dc927ac2642feaa13ad5cf1daf74d"
       ],
       "max_aspect_ratio": 6,
       "scale_x": "IPY_MODEL_cb223a4ee5b14faab41768546c719da0",
       "scale_y": "IPY_MODEL_1d719f4f63d64b549b12c2b69f964006",
       "title": "Volume Scattering Function"
      }
     },
     "ecf84bab524d4635b3f9811a928db1d4": {
      "model_module": "@jupyter-widgets/controls",
      "model_module_version": "1.0.0",
      "model_name": "VBoxModel",
      "state": {
       "children": [
        "IPY_MODEL_fcc6d6b824074e9fb6f35d9f231906de",
        "IPY_MODEL_7cd4590466fc494b8d2cdab35f413670",
        "IPY_MODEL_1f5549c1296040d6871a31f1e2057662",
        "IPY_MODEL_d20ff96e6b2a420a92c916100583e7e8"
       ],
       "layout": "IPY_MODEL_8cf2f3665ff446c3838324c51d863cef"
      }
     },
     "ee2261ec5d6b48cfb909567842e95e39": {
      "model_module": "@jupyter-widgets/controls",
      "model_module_version": "1.0.0",
      "model_name": "VBoxModel",
      "state": {
       "children": [
        "IPY_MODEL_31066f4bd5754a9385994b6d304aae18",
        "IPY_MODEL_52554a0b08fe46c5b3c32868527f3daa",
        "IPY_MODEL_fe95b533cd4b40aea3072fc4965e581e",
        "IPY_MODEL_c8772e32b4834f90b1cecb197986f139",
        "IPY_MODEL_0e93a350ce6a4b748846c9ce4e411c85"
       ],
       "layout": "IPY_MODEL_10aeb737f9da41f5bdc8c436507b151a"
      }
     },
     "eeafaf5a31d74a3fb703a7b6f9e30137": {
      "model_module": "@jupyter-widgets/base",
      "model_module_version": "1.0.0",
      "model_name": "LayoutModel",
      "state": {}
     },
     "ef565c5c9748401d92cb5be745c3f071": {
      "model_module": "@jupyter-widgets/base",
      "model_module_version": "1.0.0",
      "model_name": "LayoutModel",
      "state": {}
     },
     "ef9662b3887645d8991dd6d41dc110e1": {
      "model_module": "bqplot",
      "model_module_version": "^0.3.0",
      "model_name": "LinearScaleModel",
      "state": {
       "max": 6.283185307179586,
       "min": 0,
       "stabilized": false
      }
     },
     "effbb3e87076487aba5eee1f570bbe35": {
      "model_module": "bqplot",
      "model_module_version": "^0.3.0",
      "model_name": "LinearScaleModel",
      "state": {
       "max": 0.5004974066671531,
       "min": 0.20348706032971672,
       "stabilized": false
      }
     },
     "f250e92977f14e889a04504d5f75ca3a": {
      "model_module": "@jupyter-widgets/controls",
      "model_module_version": "1.0.0",
      "model_name": "HBoxModel",
      "state": {
       "children": [
        "IPY_MODEL_ecf84bab524d4635b3f9811a928db1d4",
        "IPY_MODEL_ebce800f47c54946b5b7d9075f3e7549"
       ],
       "layout": "IPY_MODEL_8b9acea9c3984754a99309da1bc222cf"
      }
     },
     "f31da139fc0a4078916afb0feedb27e0": {
      "model_module": "@jupyter-widgets/base",
      "model_module_version": "1.0.0",
      "model_name": "LayoutModel",
      "state": {}
     },
     "f6557b0f74b54835a6233d82b07d1863": {
      "model_module": "@jupyter-widgets/controls",
      "model_module_version": "1.0.0",
      "model_name": "SliderStyleModel",
      "state": {
       "description_width": ""
      }
     },
     "fcc6d6b824074e9fb6f35d9f231906de": {
      "model_module": "@jupyter-widgets/controls",
      "model_module_version": "1.0.0",
      "model_name": "FloatSliderModel",
      "state": {
       "description": "$a_w$",
       "layout": "IPY_MODEL_a505b4452bb4410fb9238c1a248ea6df",
       "max": 10,
       "step": 0.1,
       "style": "IPY_MODEL_9349b311d4794f5caef58339f0f11783"
      }
     },
     "fd4da8dcf0694cc9bd57554f83a32113": {
      "model_module": "bqplot",
      "model_module_version": "^0.3.0",
      "model_name": "LinearScaleModel",
      "state": {
       "max": 3.100605124431239,
       "min": 0.040987529158554005,
       "stabilized": false
      }
     },
     "fd78a427b1874107929917d06cf88cde": {
      "model_module": "@jupyter-widgets/base",
      "model_module_version": "1.0.0",
      "model_name": "LayoutModel",
      "state": {}
     },
     "fe42730bcd504ce09c6eca892676dd9a": {
      "model_module": "@jupyter-widgets/controls",
      "model_module_version": "1.0.0",
      "model_name": "HBoxModel",
      "state": {
       "children": [
        "IPY_MODEL_ee2261ec5d6b48cfb909567842e95e39",
        "IPY_MODEL_8a1b657cfe474dfdb54f6ed27f79d7c7"
       ],
       "layout": "IPY_MODEL_474c284788e6478d96506c55655bb9b6"
      }
     },
     "fe95b533cd4b40aea3072fc4965e581e": {
      "model_module": "@jupyter-widgets/controls",
      "model_module_version": "1.0.0",
      "model_name": "BoundedIntTextModel",
      "state": {
       "description": "nz",
       "layout": "IPY_MODEL_7a0a0a0802b0479d8556c16f51a5b654",
       "max": 1000,
       "min": 1,
       "style": "IPY_MODEL_57e3c7f4c8b04ef09bb0ef4c2f5427cb",
       "value": 10
      }
     }
    },
    "version_major": 2,
    "version_minor": 0
   }
  }
 },
 "nbformat": 4,
 "nbformat_minor": 2
}
