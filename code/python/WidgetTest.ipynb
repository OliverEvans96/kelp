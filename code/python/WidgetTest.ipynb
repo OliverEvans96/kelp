{
 "cells": [
  {
   "cell_type": "code",
   "execution_count": 10,
   "metadata": {},
   "outputs": [],
   "source": [
    "from kelp3d import *\n",
    "from kelp3d_objs import *\n",
    "from kelp_widgets import *\n",
    "import ipyvolume as ipv\n",
    "import bqplot as bq\n",
    "import ipywidgets as ipw\n",
    "import traitlets as tr"
   ]
  },
  {
   "cell_type": "code",
   "execution_count": 69,
   "metadata": {
    "collapsed": true
   },
   "outputs": [],
   "source": [
    "class HandDrawFigure(bq.Figure):\n",
    "    def __init__(self, traitful, trait_name, xvals=None, ylim=None, labels=None, color='blue'):\n",
    "        \"\"\"\n",
    "        traitful: inherits from traitlets.HasTraits\n",
    "        trait_name: string - name of trait of traitful, 1d numpy array of y values\n",
    "        xvals: x coordinates of trait values, 1d numpy array\n",
    "        ylim: length-2 list or tuple of y bounds: [ymin, ymax]\n",
    "        labels: dict with keys: title, xlabel, ylabel\n",
    "        \"\"\"\n",
    "        \n",
    "        self.traitful = traitful\n",
    "        yvals = getattr(traitful, trait_name)\n",
    "        \n",
    "        if xvals is None:\n",
    "            xvals = np.arange(len(getattr(traitful, trait_name)), dtype=float)\n",
    "        if ylim is None:\n",
    "            ylim = (yvals.min(), yvals.max())\n",
    "        if labels is None:\n",
    "            labels={}\n",
    "        if 'ylabel' not in labels.keys():\n",
    "            labels['ylabel'] = trait_name\n",
    "        if 'xlabel' not in labels.keys():\n",
    "            labels['xlabel'] = 'x'\n",
    "        if 'title' not in labels.keys():\n",
    "            labels['title'] = ''\n",
    "        \n",
    "        self.title = labels['title']\n",
    "\n",
    "        xscale = bq.LinearScale(min=xvals.min(), max=xvals.max())\n",
    "        yscale = bq.LinearScale(min=ylim[0], max=ylim[1])\n",
    "        xax = bq.Axis(scale=xscale, label=labels['xlabel'], grid_lines='none')\n",
    "        yax = bq.Axis(scale=yscale, label=labels['ylabel'], orientation='vertical', grid_lines='none')\n",
    "\n",
    "        line = bq.Lines(x=xvals, y=yvals, scales={'x': xscale, 'y': yscale}, \n",
    "                                colors=[color], interpolation='cardinal')\n",
    "        handdraw = bqi.HandDraw(lines=line)\n",
    "        \n",
    "        def update_vals(change):\n",
    "            with out_area:\n",
    "                values[quant] = change['new']\n",
    "\n",
    "        link = tr.link((line, 'y'), (traitful, trait_name))\n",
    "        \n",
    "        super().__init__(marks=[line], axes=[xax, yax], interaction=handdraw)"
   ]
  },
  {
   "cell_type": "code",
   "execution_count": 70,
   "metadata": {
    "scrolled": false
   },
   "outputs": [
    {
     "data": {
      "application/vnd.jupyter.widget-view+json": {
       "model_id": "3eb3d056a73645c78e2a698d9d9b8342",
       "version_major": 2,
       "version_minor": 0
      },
      "text/plain": [
       "A Jupyter Widget"
      ]
     },
     "metadata": {},
     "output_type": "display_data"
    }
   ],
   "source": [
    "fig = HandDrawFigure(rope, 'frond_lengths')\n",
    "fig"
   ]
  },
  {
   "cell_type": "code",
   "execution_count": null,
   "metadata": {
    "collapsed": true
   },
   "outputs": [],
   "source": [
    "rope.fro"
   ]
  },
  {
   "cell_type": "code",
   "execution_count": 75,
   "metadata": {},
   "outputs": [],
   "source": [
    "class RopeWidget(ipw.VBox):\n",
    "\n",
    "    rope = tr.Any()\n",
    "\n",
    "    def __init__(self, rope):\n",
    "\n",
    "        super().__init__()\n",
    "\n",
    "        title = ipw.HTML(\"<h3>Rope Parameters</h3>\")\n",
    "\n",
    "        self.rope = rope\n",
    "        grid = rope.grid\n",
    "\n",
    "        z_quants = ['water_speeds', 'water_angles', 'frond_lengths', 'frond_stds']\n",
    "        z_scale = bq.LinearScale(min=grid.zmin, max=grid.zmax)\n",
    "        z_ax = bq.Axis(scale=z_scale, label='Depth (z)', grid_lines='none')\n",
    "\n",
    "        mins = {\n",
    "            'water_speeds': 0,\n",
    "            'water_angles': 0,\n",
    "            'frond_lengths': 0,\n",
    "            'frond_stds': 0\n",
    "        }\n",
    "\n",
    "        maxs = {\n",
    "            'water_speeds': 10,\n",
    "            'water_angles': 2*np.pi,\n",
    "            'frond_lengths': 1,\n",
    "            'frond_stds': 1\n",
    "        }\n",
    "\n",
    "        colors = {\n",
    "            'water_speeds': 'red',\n",
    "            'water_angles': 'green',\n",
    "            'frond_lengths': 'blue',\n",
    "            'frond_stds': 'yellow'\n",
    "        }\n",
    "\n",
    "        ylabels = {\n",
    "            'water_speeds': 'Water current velocity',\n",
    "            'water_angles': 'Water current angle',\n",
    "            'frond_lengths': 'Frond length mean',\n",
    "            'frond_stds': 'Frond length std. dev.'\n",
    "        }\n",
    "\n",
    "\n",
    "        values = {}\n",
    "\n",
    "        values['frond_lengths'] = rope.frond_lengths\n",
    "        values['frond_stds'] = rope.frond_stds\n",
    "        values['water_speeds'] = rope.water_speeds\n",
    "        values['water_angles'] = rope.water_angles\n",
    "\n",
    "        figs = {}\n",
    "\n",
    "        for quant in z_quants:\n",
    "            ylim = np.array([mins[quant], maxs[quant]], dtype=float)\n",
    "            labels = {'xlabel': 'z', 'ylabel': '', 'title': ylabels[quant]}\n",
    "            figs[quant] = HandDrawFigure(rope, quant, grid.z, ylim, labels, color=colors[quant])\n",
    "\n",
    "        self.children = [\n",
    "            title,\n",
    "            ipw.HBox([\n",
    "                figs['water_speeds'],\n",
    "                figs['water_angles'],\n",
    "            ]),\n",
    "            ipw.HBox([\n",
    "                figs['frond_lengths'],\n",
    "                figs['frond_stds']\n",
    "            ])\n",
    "        ]\n"
   ]
  },
  {
   "cell_type": "code",
   "execution_count": 76,
   "metadata": {},
   "outputs": [
    {
     "data": {
      "application/vnd.jupyter.widget-view+json": {
       "model_id": "869599aa2e83401a95faf9f5c7ddf88a",
       "version_major": 2,
       "version_minor": 0
      },
      "text/plain": [
       "A Jupyter Widget"
      ]
     },
     "metadata": {},
     "output_type": "display_data"
    }
   ],
   "source": [
    "grid = Grid()\n",
    "rope = Rope(grid)\n",
    "RopeWidget(rope)"
   ]
  },
  {
   "cell_type": "code",
   "execution_count": null,
   "metadata": {
    "collapsed": true
   },
   "outputs": [],
   "source": []
  }
 ],
 "metadata": {
  "kernelspec": {
   "display_name": "Python 3",
   "language": "python",
   "name": "python3"
  },
  "language_info": {
   "codemirror_mode": {
    "name": "ipython",
    "version": 3
   },
   "file_extension": ".py",
   "mimetype": "text/x-python",
   "name": "python",
   "nbconvert_exporter": "python",
   "pygments_lexer": "ipython3",
   "version": "3.5.3"
  }
 },
 "nbformat": 4,
 "nbformat_minor": 2
}
