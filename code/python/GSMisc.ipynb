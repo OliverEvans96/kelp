{
 "cells": [
  {
   "cell_type": "code",
   "execution_count": 5,
   "metadata": {},
   "outputs": [],
   "source": [
    "def cori_get_fd_vs_best_grid_study_onespace_errors(study_name):\n",
    "    base_dir = os.path.join(os.environ['SCRATCH'], 'kelp-results')\n",
    "    study_dir = os.path.join(base_dir, study_name)\n",
    "    db_path = os.path.join(study_dir, '{}.db'.format(study_name))\n",
    "    perceived_irrad_dict, abs_err_arr, rel_err_arr, compute_time_dict = (\n",
    "        kelp_analyze.grid_study_analyze_fd_vs_best_onespace(db_path, study_name)\n",
    "    )\n",
    "    \n",
    "    # TODO: Do plot, not just return errors\n",
    "    #return ipv.quickvolshow(abs_err_arr),\n",
    "    return abs_err_arr, rel_err_arr"
   ]
  },
  {
   "cell_type": "code",
   "execution_count": 6,
   "metadata": {},
   "outputs": [],
   "source": [
    "def cori_get_fd_vs_noscat_grid_study_onespace_errors(study_name):\n",
    "    base_dir = os.path.join(os.environ['SCRATCH'], 'kelp-results')\n",
    "    study_dir = os.path.join(base_dir, study_name)\n",
    "    db_path = os.path.join(study_dir, '{}.db'.format(study_name))\n",
    "    perceived_irrad_dict, abs_err_arr, rel_err_arr, compute_time_dict = (\n",
    "        kelp_analyze.grid_study_analyze_fd_vs_noscat_onespace(db_path, study_name)\n",
    "    )\n",
    "    \n",
    "    # TODO: Do plot, not just return errors\n",
    "    #return ipv.quickvolshow(abs_err_arr),\n",
    "    return abs_err_arr, rel_err_arr"
   ]
  },
  {
   "cell_type": "markdown",
   "metadata": {},
   "source": [
    "# FD vs. True ($b=0$)"
   ]
  },
  {
   "cell_type": "markdown",
   "metadata": {},
   "source": [
    "## Converging"
   ]
  },
  {
   "cell_type": "markdown",
   "metadata": {},
   "source": [
    "```\n",
    "a = 0.1\n",
    "b = 0.0\n",
    "top-heavy\n",
    "```"
   ]
  },
  {
   "cell_type": "code",
   "execution_count": null,
   "metadata": {},
   "outputs": [],
   "source": [
    "ns_list = np.arange(8, 89, 8)\n",
    "na_list = np.arange(2, 9, 2)\n",
    "study_name = 'gs88_a01_b0_new'"
   ]
  },
  {
   "cell_type": "code",
   "execution_count": null,
   "metadata": {},
   "outputs": [],
   "source": [
    "abs_err_arr, rel_err_arr = cori_get_fd_vs_noscat_grid_study_onespace_errors(study_name)"
   ]
  },
  {
   "cell_type": "code",
   "execution_count": null,
   "metadata": {},
   "outputs": [],
   "source": [
    "error_visualize.plot_gs_edges_and_grid(rel_err_arr, abs_err_arr, ns_list, na_list)"
   ]
  },
  {
   "cell_type": "markdown",
   "metadata": {},
   "source": [
    "### 32"
   ]
  },
  {
   "cell_type": "code",
   "execution_count": null,
   "metadata": {},
   "outputs": [],
   "source": [
    "ns_list = np.arange(8, 33, 4)\n",
    "na_list = np.arange(2, 17, 2)\n",
    "study_name = 'gs32_a05_b0_new'"
   ]
  },
  {
   "cell_type": "code",
   "execution_count": null,
   "metadata": {},
   "outputs": [],
   "source": [
    "abs_err_arr, rel_err_arr = cori_get_fd_vs_noscat_grid_study_onespace_errors(study_name)"
   ]
  },
  {
   "cell_type": "code",
   "execution_count": null,
   "metadata": {},
   "outputs": [],
   "source": [
    "error_visualize.plot_gs_edges_and_grid(rel_err_arr, abs_err_arr, ns_list, na_list)"
   ]
  },
  {
   "cell_type": "markdown",
   "metadata": {},
   "source": [
    "### 64"
   ]
  },
  {
   "cell_type": "code",
   "execution_count": null,
   "metadata": {},
   "outputs": [],
   "source": [
    "ns_list = np.arange(8, 65, 8)\n",
    "na_list = np.arange(2, 11, 2)\n",
    "study_name = 'gs64_a05_b0_new'"
   ]
  },
  {
   "cell_type": "code",
   "execution_count": null,
   "metadata": {},
   "outputs": [],
   "source": [
    "abs_err_arr, rel_err_arr = cori_get_fd_vs_noscat_grid_study_onespace_errors(study_name)"
   ]
  },
  {
   "cell_type": "code",
   "execution_count": null,
   "metadata": {},
   "outputs": [],
   "source": [
    "error_visualize.plot_gs_edges_and_grid(rel_err_arr, abs_err_arr, ns_list, na_list)"
   ]
  },
  {
   "cell_type": "markdown",
   "metadata": {},
   "source": [
    "## Non-converging"
   ]
  },
  {
   "cell_type": "markdown",
   "metadata": {},
   "source": [
    "```\n",
    "a = 0.1\n",
    "b = 0.0\n",
    "top-heavy\n",
    "```"
   ]
  },
  {
   "cell_type": "code",
   "execution_count": null,
   "metadata": {},
   "outputs": [],
   "source": [
    "ns_list = np.arange(8, 17)\n",
    "na_list = np.arange(2, 9, 2)\n",
    "study_name = 'gs16_a01_b0_new'"
   ]
  },
  {
   "cell_type": "code",
   "execution_count": null,
   "metadata": {},
   "outputs": [],
   "source": [
    "abs_err_arr, rel_err_arr = cori_get_fd_vs_noscat_grid_study_onespace_errors(study_name)"
   ]
  },
  {
   "cell_type": "code",
   "execution_count": null,
   "metadata": {},
   "outputs": [],
   "source": [
    "error_visualize.plot_gs_edges_and_grid(rel_err_arr, abs_err_arr, ns_list, na_list)"
   ]
  },
  {
   "cell_type": "markdown",
   "metadata": {},
   "source": [
    "##  $a_w \\gg 1$"
   ]
  },
  {
   "cell_type": "markdown",
   "metadata": {},
   "source": [
    "```\n",
    "a = 5.0\n",
    "b = 0.0\n",
    "top-heavy\n",
    "```"
   ]
  },
  {
   "cell_type": "code",
   "execution_count": null,
   "metadata": {},
   "outputs": [],
   "source": [
    "ns_list = np.arange(8, 89, 8)\n",
    "na_list = np.arange(2, 9, 2)\n",
    "study_name = 'gs88_a50_b0_new'"
   ]
  },
  {
   "cell_type": "code",
   "execution_count": null,
   "metadata": {},
   "outputs": [],
   "source": [
    "abs_err_arr, rel_err_arr = cori_get_fd_vs_noscat_grid_study_onespace_errors(study_name)"
   ]
  },
  {
   "cell_type": "code",
   "execution_count": null,
   "metadata": {},
   "outputs": [],
   "source": [
    "error_visualize.plot_gs_edges_and_grid(rel_err_arr, abs_err_arr, ns_list, na_list)"
   ]
  },
  {
   "cell_type": "markdown",
   "metadata": {},
   "source": [
    "##  Bottom-heavy"
   ]
  },
  {
   "cell_type": "markdown",
   "metadata": {},
   "source": [
    "```\n",
    "a = 0.1\n",
    "b = 0.0\n",
    "bottom-heavy\n",
    "```"
   ]
  },
  {
   "cell_type": "code",
   "execution_count": null,
   "metadata": {},
   "outputs": [],
   "source": [
    "ns_list = np.arange(8, 89, 8)\n",
    "na_list = np.arange(2, 9, 2)\n",
    "study_name = 'gs88_a01_b0_bh'"
   ]
  },
  {
   "cell_type": "code",
   "execution_count": null,
   "metadata": {},
   "outputs": [],
   "source": [
    "abs_err_arr, rel_err_arr = cori_get_fd_vs_noscat_grid_study_onespace_errors(study_name)"
   ]
  },
  {
   "cell_type": "code",
   "execution_count": null,
   "metadata": {},
   "outputs": [],
   "source": [
    "error_visualize.plot_gs_edges_and_grid(rel_err_arr, abs_err_arr, ns_list, na_list)"
   ]
  },
  {
   "cell_type": "markdown",
   "metadata": {},
   "source": [
    "# FD vs. FD"
   ]
  },
  {
   "cell_type": "markdown",
   "metadata": {},
   "source": [
    "## Converging, $b=0$"
   ]
  },
  {
   "cell_type": "markdown",
   "metadata": {},
   "source": [
    "```\n",
    "a = 0.1\n",
    "b = 0.0\n",
    "top-heavy\n",
    "```"
   ]
  },
  {
   "cell_type": "code",
   "execution_count": null,
   "metadata": {},
   "outputs": [],
   "source": [
    "ns_list = np.arange(8, 89, 8)\n",
    "na_list = np.arange(2, 9, 2)\n",
    "study_name = 'gs88_a01_b0_new'"
   ]
  },
  {
   "cell_type": "code",
   "execution_count": null,
   "metadata": {},
   "outputs": [],
   "source": [
    "abs_err_arr, rel_err_arr = cori_get_fd_vs_best_grid_study_onespace_errors(study_name)"
   ]
  },
  {
   "cell_type": "code",
   "execution_count": null,
   "metadata": {},
   "outputs": [],
   "source": [
    "error_visualize.plot_gs_edges_and_grid(rel_err_arr, abs_err_arr, ns_list, na_list)"
   ]
  },
  {
   "cell_type": "markdown",
   "metadata": {},
   "source": [
    "## Non-converging, $b=0$"
   ]
  },
  {
   "cell_type": "markdown",
   "metadata": {},
   "source": [
    "```\n",
    "a = 0.1\n",
    "b = 0.0\n",
    "top-heavy\n",
    "```"
   ]
  },
  {
   "cell_type": "code",
   "execution_count": null,
   "metadata": {},
   "outputs": [],
   "source": [
    "ns_list = np.arange(8, 17)\n",
    "na_list = np.arange(2, 9, 2)\n",
    "study_name = 'gs16_a01_b0_new'"
   ]
  },
  {
   "cell_type": "code",
   "execution_count": null,
   "metadata": {},
   "outputs": [],
   "source": [
    "abs_err_arr, rel_err_arr = cori_get_fd_vs_best_grid_study_onespace_errors(study_name)"
   ]
  },
  {
   "cell_type": "code",
   "execution_count": null,
   "metadata": {},
   "outputs": [],
   "source": [
    "error_visualize.plot_gs_edges_and_grid(rel_err_arr, abs_err_arr, ns_list, na_list)"
   ]
  },
  {
   "cell_type": "markdown",
   "metadata": {},
   "source": [
    "## $b \\neq 0$"
   ]
  },
  {
   "cell_type": "markdown",
   "metadata": {},
   "source": [
    "```\n",
    "a = 0.179\n",
    "b = 0.217\n",
    "top-heavy\n",
    "```"
   ]
  },
  {
   "cell_type": "code",
   "execution_count": null,
   "metadata": {},
   "outputs": [],
   "source": [
    "ns_list = np.arange(8, 89, 8)\n",
    "na_list = np.arange(2, 9, 2)\n",
    "study_name = 'gs88_top_heavy_'"
   ]
  },
  {
   "cell_type": "code",
   "execution_count": null,
   "metadata": {},
   "outputs": [],
   "source": [
    "abs_err_arr, rel_err_arr = cori_get_fd_vs_best_grid_study_onespace_errors(study_name)"
   ]
  },
  {
   "cell_type": "code",
   "execution_count": null,
   "metadata": {},
   "outputs": [],
   "source": [
    "ns_list"
   ]
  },
  {
   "cell_type": "code",
   "execution_count": null,
   "metadata": {},
   "outputs": [],
   "source": [
    "na_list"
   ]
  },
  {
   "cell_type": "code",
   "execution_count": null,
   "metadata": {},
   "outputs": [],
   "source": [
    "rel_err_arr.shape"
   ]
  },
  {
   "cell_type": "code",
   "execution_count": null,
   "metadata": {},
   "outputs": [],
   "source": [
    "abs_err_arr.shape"
   ]
  },
  {
   "cell_type": "code",
   "execution_count": null,
   "metadata": {},
   "outputs": [],
   "source": [
    "ns_list.shape"
   ]
  },
  {
   "cell_type": "code",
   "execution_count": null,
   "metadata": {},
   "outputs": [],
   "source": [
    "na_list.shape"
   ]
  },
  {
   "cell_type": "code",
   "execution_count": null,
   "metadata": {},
   "outputs": [],
   "source": [
    "error_visualize.plot_gs_edges_and_grid(rel_err_arr, abs_err_arr, ns_list, na_list)"
   ]
  },
  {
   "cell_type": "markdown",
   "metadata": {},
   "source": [
    "## $b \\gg 1$"
   ]
  },
  {
   "cell_type": "markdown",
   "metadata": {},
   "source": [
    "```\n",
    "a = 0.337\n",
    "b = 1.583\n",
    "top-heavy\n",
    "```"
   ]
  },
  {
   "cell_type": "code",
   "execution_count": null,
   "metadata": {},
   "outputs": [],
   "source": [
    "ns_list = np.arange(8, 65, 8)\n",
    "na_list = np.arange(2, 11, 2)\n",
    "study_name = 'gs64_nuc2200'"
   ]
  },
  {
   "cell_type": "code",
   "execution_count": null,
   "metadata": {},
   "outputs": [],
   "source": [
    "abs_err_arr, rel_err_arr = cori_get_fd_vs_best_grid_study_onespace_errors(study_name)"
   ]
  },
  {
   "cell_type": "code",
   "execution_count": null,
   "metadata": {},
   "outputs": [],
   "source": [
    "plot_gs_edges_and_grid(rel_err_arr, abs_err_arr, ns_list, na_list)"
   ]
  },
  {
   "cell_type": "markdown",
   "metadata": {},
   "source": [
    "### Inspect closer"
   ]
  },
  {
   "cell_type": "code",
   "execution_count": 211,
   "metadata": {},
   "outputs": [],
   "source": [
    "study_name = 'gs88_a01_b0_new'\n",
    "base_dir = os.path.join(os.environ['SCRATCH'], 'kelp-results')\n",
    "study_dir = os.path.join(base_dir, study_name)\n",
    "db_path = os.path.join(study_dir, '{}.db'.format(study_name))\n",
    "conn = sqlite3.connect(db_path)\n",
    "results = kelp_analyze.query_results(conn, study_name, ns=88, na=8, fd_flag=True)[0]"
   ]
  },
  {
   "cell_type": "code",
   "execution_count": 212,
   "metadata": {},
   "outputs": [
    {
     "data": {
      "text/plain": [
       "<matplotlib.image.AxesImage at 0x2b18971bc860>"
      ]
     },
     "execution_count": 212,
     "metadata": {},
     "output_type": "execute_result"
    },
    {
     "data": {
      "image/png": "[encoded data removed]",
      "text/plain": [
       "<matplotlib.figure.Figure at 0x2b1897446f98>"
      ]
     },
     "metadata": {},
     "output_type": "display_data"
    }
   ],
   "source": [
    "plt.imshow(results['p_kelp'][:][44,:,:])"
   ]
  }
 ],
 "metadata": {
  "kernelspec": {
   "display_name": "Python 3",
   "language": "python",
   "name": "python3"
  },
  "language_info": {
   "codemirror_mode": {
    "name": "ipython",
    "version": 3
   },
   "file_extension": ".py",
   "mimetype": "text/x-python",
   "name": "python",
   "nbconvert_exporter": "python",
   "pygments_lexer": "ipython3",
   "version": "3.6.3"
  }
 },
 "nbformat": 4,
 "nbformat_minor": 2
}
