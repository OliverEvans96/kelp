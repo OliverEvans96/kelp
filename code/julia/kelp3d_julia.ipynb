{
 "cells": [
  {
   "cell_type": "code",
   "execution_count": 1,
   "metadata": {
    "collapsed": true,
    "nbpresent": {
     "id": "274b7038-4e9d-4d6b-818b-645633ae2654"
    }
   },
   "outputs": [],
   "source": [
    "import numpy as np\n",
    "import matplotlib.pyplot as plt\n",
    "%matplotlib inline\n",
    "from scipy.special import erf\n",
    "from scipy.stats import vonmises,norm\n",
    "from mpl_toolkits.mplot3d import Axes3D\n",
    "from scipy.special import iv\n",
    "from scipy.integrate import dblquad,quad\n",
    "import matplotlib as mpl\n",
    "\n",
    "import bqplot as bq\n",
    "import bqplot.interacts as bqi\n",
    "import ipywidgets as ipw\n",
    "import ipyvolume as ipv\n",
    "\n",
    "#Set font\n",
    "font = {'family':'serif','size':10}\n",
    "mpl.rc('font',**font)"
   ]
  },
  {
   "cell_type": "code",
   "execution_count": 2,
   "metadata": {
    "collapsed": true,
    "nbpresent": {
     "id": "fdf8cde7-bd35-4eac-aca3-74e601d977da"
    }
   },
   "outputs": [],
   "source": [
    "# L_star\n",
    "def Ls(theta_point,r_point,theta_f):\n",
    "    theta_prime = theta_point - theta_f + np.pi/2\n",
    "    S = np.sign(np.pi/2-theta_prime)\n",
    "    return r_point*(np.sin(theta_prime)+2*S*fr/(1+fs)*np.cos(theta_prime))"
   ]
  },
  {
   "cell_type": "code",
   "execution_count": 3,
   "metadata": {
    "collapsed": true,
    "nbpresent": {
     "id": "3192a3d7-704d-44cc-b54e-890f114f0caf"
    }
   },
   "outputs": [],
   "source": [
    "def P_shade(rr,theta,vw=0,theta_w_deg=0,L_mean=3,L_std=1,fs=0.5,fr=2,stiff=1):\n",
    "    \n",
    "    # Convert theta_w to radians\n",
    "    theta_w = theta_w_deg*np.pi/180\n",
    "    \n",
    "    # Frond half-span angle\n",
    "    alpha = np.arctan((1+fs)/(2*fs*fr))\n",
    "    \n",
    "    # Try single integral\n",
    "    def single_pdf(theta_f):\n",
    "        \n",
    "        theta_prime = theta - theta_f + np.pi/2\n",
    "        S = np.sign(np.pi/2-theta_prime)\n",
    "        \n",
    "        # Minimum L for shading as a function of central frond angle\n",
    "        L_star = rr*(np.sin(theta_prime)+2*S*fr/(1+fs)*np.cos(theta_prime))\n",
    "    \n",
    "        # Integrated normalized L distribution\n",
    "        C_L = erf((L_star-L_mean)/(np.sqrt(2)*L_std)) / (1-erf(-L_mean/(np.sqrt(2)*L_std)))\n",
    "        \n",
    "        # Theta_f distribution\n",
    "        if vw > 0:\n",
    "            P_theta_f = vonmises.pdf(theta_f,vw/stiff,theta_w)\n",
    "        else:\n",
    "            P_theta_f = np.ones_like(theta_f)/(2*np.pi)\n",
    "        \n",
    "        return (1-C_L)*P_theta_f/2\n",
    "    SI = quad(single_pdf,theta-alpha,theta+alpha)\n",
    "    \n",
    "    return SI[0]"
   ]
  },
  {
   "cell_type": "code",
   "execution_count": 4,
   "metadata": {
    "collapsed": true
   },
   "outputs": [],
   "source": [
    "# Spatial resolution\n",
    "ds = 1e-1\n",
    "# Angular resolution\n",
    "#da = pi/6\n",
    "\n",
    "# Define domain\n",
    "xmin, xmax, dx = -1, 1, ds\n",
    "ymin, ymax, dy = -1, 1, ds\n",
    "zmin, zmax, dz =  0, 1, ds\n",
    "#thmin, thmax, nth, = 0, 2*np.pi, da\n",
    "#phmin, phmax, nph = 0, np.pi, da\n",
    "\n",
    "nx = int((xmax - xmin) / dx)\n",
    "ny = int((ymax - ymin) / dy)\n",
    "nz = int((zmax - zmin) / dz)\n",
    "\n",
    "# Allocate arrays\n",
    "x = np.linspace(xmin, xmax, nx, endpoint=False)\n",
    "y = np.linspace(ymin, ymax, ny, endpoint=False)\n",
    "z = np.linspace(zmin, zmax, nz, endpoint=False)\n",
    "#th = np.linspace(thmin, thmax, nth)\n",
    "#ph = np.linspace(phmin, phmax, nph)\n",
    "\n",
    "# Convert x and y to polar coordinates\n",
    "xg, yg = np.meshgrid(x, y, indexing='ij')\n",
    "rr = np.sqrt(xg**2 + yg**2)\n",
    "th = np.arctan2(xg, yg)\n",
    "\n",
    "# Create grid\n",
    "#xg, yg, zg = np.meshgrid(x, y, z, indexing='ij')"
   ]
  },
  {
   "cell_type": "code",
   "execution_count": 11,
   "metadata": {},
   "outputs": [
    {
     "data": {
      "application/vnd.jupyter.widget-view+json": {
       "model_id": "8f25ed99d5fc4d209a48758a8ad6f2f0",
       "version_major": "2",
       "version_minor": "0"
      },
      "text/plain": [
       "A Jupyter Widget"
      ]
     },
     "metadata": {},
     "output_type": "display_data"
    }
   ],
   "source": [
    "# Define variables over depth\n",
    "\n",
    "z_quants = ['vw', 'theta_w_deg', 'L_mean', 'L_std']\n",
    "\n",
    "z_scale = bq.LinearScale(min=zmin, max=zmax)\n",
    "z_ax = bq.Axis(scale=z_scale, label='Depth (z)', grid_lines='none')\n",
    "\n",
    "mins = {\n",
    "    'vw': 0,\n",
    "    'theta_w_deg': 0,\n",
    "    'L_mean': 0,\n",
    "    'L_std': 0\n",
    "}\n",
    "\n",
    "maxs = {\n",
    "    'vw': 1,\n",
    "    'theta_w_deg': 360,\n",
    "    'L_mean': 1,\n",
    "    'L_std': 1\n",
    "}\n",
    "\n",
    "colors = {\n",
    "    'vw': 'red',\n",
    "    'theta_w_deg': 'green',\n",
    "    'L_mean': 'blue',\n",
    "    'L_std': 'yellow'\n",
    "}\n",
    "\n",
    "labels = {\n",
    "    'vw': 'Water current velocity',\n",
    "    'theta_w_deg': 'Water current angle',\n",
    "    'L_mean': 'Frond length mean',\n",
    "    'L_std': 'Frond length std. dev.'\n",
    "}\n",
    "\n",
    "\n",
    "values = {}\n",
    "for quant in z_quants:\n",
    "    values[quant] = np.zeros_like(z)\n",
    "\n",
    "\n",
    "ys = {}\n",
    "lines = {}\n",
    "handdraws = {}\n",
    "yax = {}\n",
    "figs = {}\n",
    "\n",
    "out_area = ipw.Output()\n",
    "\n",
    "for quant in z_quants:\n",
    "    ys[quant] = bq.LinearScale(min=mins[quant], max=maxs[quant])\n",
    "    lines[quant] = bq.Lines(x=z, y=values[quant], scales={'x': z_scale, 'y': ys[quant]}, colors=[colors[quant]])\n",
    "    handdraws[quant] = bqi.HandDraw(lines=lines[quant])\n",
    "    yax[quant] = bq.Axis(scale=ys[quant], label=labels[quant], orientation='vertical', grid_lines='none')\n",
    "    figs[quant] = bq.Figure(marks=[lines[quant]], axes=[z_ax, yax[quant]], interaction=handdraws[quant])\n",
    "    \n",
    "    # Update values on handdraw\n",
    "    # Define the function like this with default argument so that `quant` takes its\n",
    "    # value at definition time, not evaluation time\n",
    "    def update_vals(change, quant=quant):\n",
    "        with out_area:\n",
    "            print()\n",
    "            print(quant)\n",
    "            values[quant] = change['new']\n",
    "            print('Updated!')\n",
    "    lines[quant].observe(update_vals, names='y')\n",
    "\n",
    "ipw.VBox([\n",
    "    ipw.HBox([\n",
    "        figs['vw'],\n",
    "        figs['theta_w_deg'],\n",
    "    ]),\n",
    "    ipw.HBox([\n",
    "        figs['L_mean'],\n",
    "        figs['L_std']\n",
    "    ])\n",
    "])"
   ]
  },
  {
   "cell_type": "code",
   "execution_count": 12,
   "metadata": {},
   "outputs": [
    {
     "name": "stdout",
     "output_type": "stream",
     "text": [
      "1/20\n",
      "2/20\n",
      "3/20\n",
      "4/20\n",
      "5/20\n",
      "6/20\n",
      "7/20\n",
      "8/20\n",
      "9/20\n",
      "10/20\n",
      "11/20\n",
      "12/20\n",
      "13/20\n",
      "14/20\n",
      "15/20\n",
      "16/20\n",
      "17/20\n",
      "18/20\n",
      "19/20\n",
      "20/20\n"
     ]
    }
   ],
   "source": [
    "P3D = np.zeros([nx, ny, nz])\n",
    "\n",
    "for ii in range(nx):\n",
    "    print(\"{}/{}\".format(ii+1, nx))\n",
    "    for jj in range(ny):\n",
    "        for kk in range(nz):\n",
    "            P3D[ii, jj, kk] = P_shade(\n",
    "                rr=rr[ii,jj], \n",
    "                theta=th[ii,jj], \n",
    "                vw=values['vw'][kk],\n",
    "                theta_w_deg=values['theta_w_deg'][kk],\n",
    "                L_mean=values['L_mean'][kk],\n",
    "                L_std=values['L_std'][kk]\n",
    "            )\n"
   ]
  },
  {
   "cell_type": "code",
   "execution_count": 13,
   "metadata": {
    "collapsed": true
   },
   "outputs": [],
   "source": [
    "X,Y = np.meshgrid(x,y, indexing='ij')"
   ]
  },
  {
   "cell_type": "code",
   "execution_count": 15,
   "metadata": {},
   "outputs": [
    {
     "data": {
      "text/plain": [
       "<matplotlib.contour.QuadContourSet at 0x7fe36deeb0f0>"
      ]
     },
     "execution_count": 15,
     "metadata": {},
     "output_type": "execute_result"
    },
    {
     "data": {
      "image/png": "[encoded data removed]",
      "text/plain": [
       "<matplotlib.figure.Figure at 0x7fe37046cac8>"
      ]
     },
     "metadata": {},
     "output_type": "display_data"
    }
   ],
   "source": [
    "plt.contour(X,Y,P3D[:,:,0])"
   ]
  },
  {
   "cell_type": "code",
   "execution_count": 16,
   "metadata": {},
   "outputs": [
    {
     "data": {
      "application/vnd.jupyter.widget-view+json": {
       "model_id": "154c9430ecbc40c28fab03fcef783d8a",
       "version_major": "2",
       "version_minor": "0"
      },
      "text/plain": [
       "A Jupyter Widget"
      ]
     },
     "metadata": {},
     "output_type": "display_data"
    }
   ],
   "source": [
    "ipv.quickvolshow(P3D)"
   ]
  },
  {
   "cell_type": "code",
   "execution_count": null,
   "metadata": {
    "collapsed": true
   },
   "outputs": [],
   "source": []
  }
 ],
 "metadata": {
  "kernelspec": {
   "display_name": "Python 3",
   "language": "python",
   "name": "python3"
  },
  "language_info": {
   "codemirror_mode": {
    "name": "ipython",
    "version": 3
   },
   "file_extension": ".py",
   "mimetype": "text/x-python",
   "name": "python",
   "nbconvert_exporter": "python",
   "pygments_lexer": "ipython3",
   "version": "3.5.3"
  }
 },
 "nbformat": 4,
 "nbformat_minor": 2
}
