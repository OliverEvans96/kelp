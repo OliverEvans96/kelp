{
 "cells": [
  {
   "cell_type": "code",
   "execution_count": 1,
   "metadata": {},
   "outputs": [],
   "source": [
    "include(\"test_definitions.jl\")\n",
    "using KelpTest\n",
    "using Cubature"
   ]
  },
  {
   "cell_type": "code",
   "execution_count": 281,
   "metadata": {},
   "outputs": [
    {
     "data": {
      "text/plain": [
       "where"
      ]
     },
     "execution_count": 281,
     "metadata": {},
     "output_type": "execute_result"
    }
   ],
   "source": [
    "\"\"\"Like numpy where, but zipped.\"\"\"\n",
    "function where(arr::BitArray{2})\n",
    "    ind = indices(arr)\n",
    "    [(i,j) for i=ind[1], j=ind[2]][arr]\n",
    "end"
   ]
  },
  {
   "cell_type": "code",
   "execution_count": 174,
   "metadata": {},
   "outputs": [
    {
     "data": {
      "text/plain": [
       "β (generic function with 1 method)"
      ]
     },
     "execution_count": 174,
     "metadata": {},
     "output_type": "execute_result"
    }
   ],
   "source": [
    "a = 5.0\n",
    "∫(args...) = hquadrature(args...)[1]\n",
    "ω(θ,ϕ) = [sin(ϕ)*cos(θ), sin(ϕ)*sin(θ), cos(ϕ)]\n",
    "β(Δ) = a * exp(a*Δ) / (exp(a)-exp(-a)) / (2π)"
   ]
  },
  {
   "cell_type": "code",
   "execution_count": 96,
   "metadata": {},
   "outputs": [],
   "source": [
    "using Plots"
   ]
  },
  {
   "cell_type": "code",
   "execution_count": 21,
   "metadata": {},
   "outputs": [
    {
     "name": "stdout",
     "output_type": "stream",
     "text": [
      "/home/oliver/academic/research/kelp\n"
     ]
    }
   ],
   "source": [
    ";cd .."
   ]
  },
  {
   "cell_type": "code",
   "execution_count": 252,
   "metadata": {},
   "outputs": [
    {
     "data": {
      "image/svg+xml": [
       "<?xml version=\"1.0\" encoding=\"utf-8\"?>\n",
       "<svg xmlns=\"http://www.w3.org/2000/svg\" xmlns:xlink=\"http://www.w3.org/1999/xlink\" width=\"600\" height=\"400\" viewBox=\"0 0 600 400\">\n",
       "<defs>\n",
       "  <clipPath id=\"clip4300\">\n",
       "    <rect x=\"0\" y=\"0\" width=\"600\" height=\"400\"/>\n",
       "  </clipPath>\n",
       "</defs>\n",
       "<polygon clip-path=\"url(#clip4300)\" points=\"\n",
       "0,400 600,400 600,0 0,0 \n",
       "  \" fill=\"#ffffff\" fill-opacity=\"1\"/>\n",
       "<defs>\n",
       "  <clipPath id=\"clip4301\">\n",
       "    <rect x=\"120\" y=\"0\" width=\"421\" height=\"400\"/>\n",
       "  </clipPath>\n",
       "</defs>\n",
       "<polygon clip-path=\"url(#clip4300)\" points=\"\n",
       "32.4745,375.869 580.315,375.869 580.315,11.811 32.4745,11.811 \n",
       "  \" fill=\"#ffffff\" fill-opacity=\"1\"/>\n",
       "<defs>\n",
       "  <clipPath id=\"clip4302\">\n",
       "    <rect x=\"32\" y=\"11\" width=\"549\" height=\"365\"/>\n",
       "  </clipPath>\n",
       "</defs>\n",
       "<polyline clip-path=\"url(#clip4302)\" style=\"stroke:#000000; stroke-width:0.5; stroke-opacity:0.1; fill:none\" points=\"\n",
       "  32.4745,375.869 32.4745,11.811 \n",
       "  \"/>\n",
       "<polyline clip-path=\"url(#clip4302)\" style=\"stroke:#000000; stroke-width:0.5; stroke-opacity:0.1; fill:none\" points=\"\n",
       "  169.435,375.869 169.435,11.811 \n",
       "  \"/>\n",
       "<polyline clip-path=\"url(#clip4302)\" style=\"stroke:#000000; stroke-width:0.5; stroke-opacity:0.1; fill:none\" points=\"\n",
       "  306.395,375.869 306.395,11.811 \n",
       "  \"/>\n",
       "<polyline clip-path=\"url(#clip4302)\" style=\"stroke:#000000; stroke-width:0.5; stroke-opacity:0.1; fill:none\" points=\"\n",
       "  443.355,375.869 443.355,11.811 \n",
       "  \"/>\n",
       "<polyline clip-path=\"url(#clip4302)\" style=\"stroke:#000000; stroke-width:0.5; stroke-opacity:0.1; fill:none\" points=\"\n",
       "  580.315,375.869 580.315,11.811 \n",
       "  \"/>\n",
       "<polyline clip-path=\"url(#clip4302)\" style=\"stroke:#000000; stroke-width:0.5; stroke-opacity:0.1; fill:none\" points=\"\n",
       "  32.4745,330.136 580.315,330.136 \n",
       "  \"/>\n",
       "<polyline clip-path=\"url(#clip4302)\" style=\"stroke:#000000; stroke-width:0.5; stroke-opacity:0.1; fill:none\" points=\"\n",
       "  32.4745,284.388 580.315,284.388 \n",
       "  \"/>\n",
       "<polyline clip-path=\"url(#clip4302)\" style=\"stroke:#000000; stroke-width:0.5; stroke-opacity:0.1; fill:none\" points=\"\n",
       "  32.4745,238.639 580.315,238.639 \n",
       "  \"/>\n",
       "<polyline clip-path=\"url(#clip4302)\" style=\"stroke:#000000; stroke-width:0.5; stroke-opacity:0.1; fill:none\" points=\"\n",
       "  32.4745,192.89 580.315,192.89 \n",
       "  \"/>\n",
       "<polyline clip-path=\"url(#clip4302)\" style=\"stroke:#000000; stroke-width:0.5; stroke-opacity:0.1; fill:none\" points=\"\n",
       "  32.4745,147.141 580.315,147.141 \n",
       "  \"/>\n",
       "<polyline clip-path=\"url(#clip4302)\" style=\"stroke:#000000; stroke-width:0.5; stroke-opacity:0.1; fill:none\" points=\"\n",
       "  32.4745,101.392 580.315,101.392 \n",
       "  \"/>\n",
       "<polyline clip-path=\"url(#clip4302)\" style=\"stroke:#000000; stroke-width:0.5; stroke-opacity:0.1; fill:none\" points=\"\n",
       "  32.4745,55.6434 580.315,55.6434 \n",
       "  \"/>\n",
       "<polyline clip-path=\"url(#clip4300)\" style=\"stroke:#000000; stroke-width:1; stroke-opacity:1; fill:none\" points=\"\n",
       "  32.4745,375.869 580.315,375.869 \n",
       "  \"/>\n",
       "<polyline clip-path=\"url(#clip4300)\" style=\"stroke:#000000; stroke-width:1; stroke-opacity:1; fill:none\" points=\"\n",
       "  32.4745,375.869 32.4745,11.811 \n",
       "  \"/>\n",
       "<polyline clip-path=\"url(#clip4300)\" style=\"stroke:#000000; stroke-width:1; stroke-opacity:1; fill:none\" points=\"\n",
       "  32.4745,375.869 32.4745,370.408 \n",
       "  \"/>\n",
       "<polyline clip-path=\"url(#clip4300)\" style=\"stroke:#000000; stroke-width:1; stroke-opacity:1; fill:none\" points=\"\n",
       "  169.435,375.869 169.435,370.408 \n",
       "  \"/>\n",
       "<polyline clip-path=\"url(#clip4300)\" style=\"stroke:#000000; stroke-width:1; stroke-opacity:1; fill:none\" points=\"\n",
       "  306.395,375.869 306.395,370.408 \n",
       "  \"/>\n",
       "<polyline clip-path=\"url(#clip4300)\" style=\"stroke:#000000; stroke-width:1; stroke-opacity:1; fill:none\" points=\"\n",
       "  443.355,375.869 443.355,370.408 \n",
       "  \"/>\n",
       "<polyline clip-path=\"url(#clip4300)\" style=\"stroke:#000000; stroke-width:1; stroke-opacity:1; fill:none\" points=\"\n",
       "  580.315,375.869 580.315,370.408 \n",
       "  \"/>\n",
       "<polyline clip-path=\"url(#clip4300)\" style=\"stroke:#000000; stroke-width:1; stroke-opacity:1; fill:none\" points=\"\n",
       "  32.4745,330.136 40.6921,330.136 \n",
       "  \"/>\n",
       "<polyline clip-path=\"url(#clip4300)\" style=\"stroke:#000000; stroke-width:1; stroke-opacity:1; fill:none\" points=\"\n",
       "  32.4745,284.388 40.6921,284.388 \n",
       "  \"/>\n",
       "<polyline clip-path=\"url(#clip4300)\" style=\"stroke:#000000; stroke-width:1; stroke-opacity:1; fill:none\" points=\"\n",
       "  32.4745,238.639 40.6921,238.639 \n",
       "  \"/>\n",
       "<polyline clip-path=\"url(#clip4300)\" style=\"stroke:#000000; stroke-width:1; stroke-opacity:1; fill:none\" points=\"\n",
       "  32.4745,192.89 40.6921,192.89 \n",
       "  \"/>\n",
       "<polyline clip-path=\"url(#clip4300)\" style=\"stroke:#000000; stroke-width:1; stroke-opacity:1; fill:none\" points=\"\n",
       "  32.4745,147.141 40.6921,147.141 \n",
       "  \"/>\n",
       "<polyline clip-path=\"url(#clip4300)\" style=\"stroke:#000000; stroke-width:1; stroke-opacity:1; fill:none\" points=\"\n",
       "  32.4745,101.392 40.6921,101.392 \n",
       "  \"/>\n",
       "<polyline clip-path=\"url(#clip4300)\" style=\"stroke:#000000; stroke-width:1; stroke-opacity:1; fill:none\" points=\"\n",
       "  32.4745,55.6434 40.6921,55.6434 \n",
       "  \"/>\n",
       "<g clip-path=\"url(#clip4300)\">\n",
       "<text style=\"fill:#000000; fill-opacity:1; font-family:Arial,Helvetica Neue,Helvetica,sans-serif; font-size:12; text-anchor:middle;\" transform=\"rotate(0, 32.4745, 389.669)\" x=\"32.4745\" y=\"389.669\">-1.0</text>\n",
       "</g>\n",
       "<g clip-path=\"url(#clip4300)\">\n",
       "<text style=\"fill:#000000; fill-opacity:1; font-family:Arial,Helvetica Neue,Helvetica,sans-serif; font-size:12; text-anchor:middle;\" transform=\"rotate(0, 169.435, 389.669)\" x=\"169.435\" y=\"389.669\">-0.5</text>\n",
       "</g>\n",
       "<g clip-path=\"url(#clip4300)\">\n",
       "<text style=\"fill:#000000; fill-opacity:1; font-family:Arial,Helvetica Neue,Helvetica,sans-serif; font-size:12; text-anchor:middle;\" transform=\"rotate(0, 306.395, 389.669)\" x=\"306.395\" y=\"389.669\">0.0</text>\n",
       "</g>\n",
       "<g clip-path=\"url(#clip4300)\">\n",
       "<text style=\"fill:#000000; fill-opacity:1; font-family:Arial,Helvetica Neue,Helvetica,sans-serif; font-size:12; text-anchor:middle;\" transform=\"rotate(0, 443.355, 389.669)\" x=\"443.355\" y=\"389.669\">0.5</text>\n",
       "</g>\n",
       "<g clip-path=\"url(#clip4300)\">\n",
       "<text style=\"fill:#000000; fill-opacity:1; font-family:Arial,Helvetica Neue,Helvetica,sans-serif; font-size:12; text-anchor:middle;\" transform=\"rotate(0, 580.315, 389.669)\" x=\"580.315\" y=\"389.669\">1.0</text>\n",
       "</g>\n",
       "<g clip-path=\"url(#clip4300)\">\n",
       "<text style=\"fill:#000000; fill-opacity:1; font-family:Arial,Helvetica Neue,Helvetica,sans-serif; font-size:12; text-anchor:end;\" transform=\"rotate(0, 26.4745, 334.636)\" x=\"26.4745\" y=\"334.636\">0.1</text>\n",
       "</g>\n",
       "<g clip-path=\"url(#clip4300)\">\n",
       "<text style=\"fill:#000000; fill-opacity:1; font-family:Arial,Helvetica Neue,Helvetica,sans-serif; font-size:12; text-anchor:end;\" transform=\"rotate(0, 26.4745, 288.888)\" x=\"26.4745\" y=\"288.888\">0.2</text>\n",
       "</g>\n",
       "<g clip-path=\"url(#clip4300)\">\n",
       "<text style=\"fill:#000000; fill-opacity:1; font-family:Arial,Helvetica Neue,Helvetica,sans-serif; font-size:12; text-anchor:end;\" transform=\"rotate(0, 26.4745, 243.139)\" x=\"26.4745\" y=\"243.139\">0.3</text>\n",
       "</g>\n",
       "<g clip-path=\"url(#clip4300)\">\n",
       "<text style=\"fill:#000000; fill-opacity:1; font-family:Arial,Helvetica Neue,Helvetica,sans-serif; font-size:12; text-anchor:end;\" transform=\"rotate(0, 26.4745, 197.39)\" x=\"26.4745\" y=\"197.39\">0.4</text>\n",
       "</g>\n",
       "<g clip-path=\"url(#clip4300)\">\n",
       "<text style=\"fill:#000000; fill-opacity:1; font-family:Arial,Helvetica Neue,Helvetica,sans-serif; font-size:12; text-anchor:end;\" transform=\"rotate(0, 26.4745, 151.641)\" x=\"26.4745\" y=\"151.641\">0.5</text>\n",
       "</g>\n",
       "<g clip-path=\"url(#clip4300)\">\n",
       "<text style=\"fill:#000000; fill-opacity:1; font-family:Arial,Helvetica Neue,Helvetica,sans-serif; font-size:12; text-anchor:end;\" transform=\"rotate(0, 26.4745, 105.892)\" x=\"26.4745\" y=\"105.892\">0.6</text>\n",
       "</g>\n",
       "<g clip-path=\"url(#clip4300)\">\n",
       "<text style=\"fill:#000000; fill-opacity:1; font-family:Arial,Helvetica Neue,Helvetica,sans-serif; font-size:12; text-anchor:end;\" transform=\"rotate(0, 26.4745, 60.1434)\" x=\"26.4745\" y=\"60.1434\">0.7</text>\n",
       "</g>\n",
       "<polyline clip-path=\"url(#clip4302)\" style=\"stroke:#009af9; stroke-width:1; stroke-opacity:1; fill:none\" points=\"\n",
       "  32.4745,375.869 37.9529,375.867 43.4313,375.865 48.9097,375.863 54.3881,375.861 59.8665,375.858 65.3449,375.855 70.8233,375.852 76.3017,375.848 81.7801,375.845 \n",
       "  87.2585,375.84 92.7369,375.836 98.2153,375.83 103.694,375.825 109.172,375.818 114.651,375.811 120.129,375.803 125.607,375.795 131.086,375.785 136.564,375.775 \n",
       "  142.043,375.763 147.521,375.75 152.999,375.736 158.478,375.72 163.956,375.703 169.435,375.684 174.913,375.663 180.391,375.639 185.87,375.613 191.348,375.585 \n",
       "  196.827,375.553 202.305,375.518 207.783,375.48 213.262,375.437 218.74,375.39 224.219,375.338 229.697,375.28 235.175,375.217 240.654,375.146 246.132,375.069 \n",
       "  251.611,374.983 257.089,374.888 262.567,374.783 268.046,374.667 273.524,374.539 279.003,374.397 284.481,374.241 289.96,374.068 295.438,373.877 300.916,373.666 \n",
       "  306.395,373.432 311.873,373.174 317.352,372.889 322.83,372.574 328.308,372.226 333.787,371.841 339.265,371.415 344.744,370.945 350.222,370.426 355.7,369.852 \n",
       "  361.179,369.217 366.657,368.516 372.136,367.741 377.614,366.884 383.092,365.937 388.571,364.891 394.049,363.735 399.528,362.457 405.006,361.045 410.484,359.484 \n",
       "  415.963,357.759 421.441,355.853 426.92,353.746 432.398,351.417 437.876,348.844 443.355,346 448.833,342.857 454.312,339.384 459.79,335.545 465.268,331.302 \n",
       "  470.747,326.613 476.225,321.431 481.704,315.704 487.182,309.375 492.66,302.38 498.139,294.649 503.617,286.106 509.096,276.663 514.574,266.228 520.053,254.695 \n",
       "  525.531,241.95 531.009,227.864 536.488,212.296 541.966,195.091 547.445,176.077 552.923,155.063 558.401,131.839 563.88,106.172 569.358,77.8065 574.837,46.4573 \n",
       "  580.315,11.811 \n",
       "  \"/>\n",
       "<polygon clip-path=\"url(#clip4300)\" points=\"\n",
       "489.608,62.931 562.315,62.931 562.315,32.691 489.608,32.691 \n",
       "  \" fill=\"#ffffff\" fill-opacity=\"1\"/>\n",
       "<polyline clip-path=\"url(#clip4300)\" style=\"stroke:#000000; stroke-width:1; stroke-opacity:1; fill:none\" points=\"\n",
       "  489.608,62.931 562.315,62.931 562.315,32.691 489.608,32.691 489.608,62.931 \n",
       "  \"/>\n",
       "<polyline clip-path=\"url(#clip4300)\" style=\"stroke:#009af9; stroke-width:1; stroke-opacity:1; fill:none\" points=\"\n",
       "  495.608,47.811 531.608,47.811 \n",
       "  \"/>\n",
       "<g clip-path=\"url(#clip4300)\">\n",
       "<text style=\"fill:#000000; fill-opacity:1; font-family:Arial,Helvetica Neue,Helvetica,sans-serif; font-size:12; text-anchor:start;\" transform=\"rotate(0, 537.608, 52.311)\" x=\"537.608\" y=\"52.311\">y1</text>\n",
       "</g>\n",
       "</svg>\n"
      ]
     },
     "execution_count": 252,
     "metadata": {},
     "output_type": "execute_result"
    }
   ],
   "source": [
    "a = 5.0\n",
    "Δ = linspace(-1,1,101)\n",
    "plot(Δ, β.(Δ))"
   ]
  },
  {
   "cell_type": "code",
   "execution_count": 234,
   "metadata": {},
   "outputs": [],
   "source": [
    "nθ = 12\n",
    "nϕ = 10\n",
    "nω = nθ * (nϕ-2) + 2\n",
    "θ, ϕ, θe, ϕe, dθ, dϕ, θₚ, ϕₚ, aₚ, β_vsf, βᵢ_vsf, vsf_angles, vsf_vals = test_make_vsf(nθ, nϕ);"
   ]
  },
  {
   "cell_type": "code",
   "execution_count": 184,
   "metadata": {},
   "outputs": [
    {
     "data": {
      "text/plain": [
       "integrand_4d (generic function with 1 method)"
      ]
     },
     "execution_count": 184,
     "metadata": {},
     "output_type": "execute_result"
    }
   ],
   "source": [
    "function integrand_2d(X)\n",
    "    θ, ϕ = X\n",
    "    β(ω(θ,ϕ) ⋅ ω(0.0, 0.0)) * sin(ϕ)\n",
    "end\n",
    "\n",
    "function integrand_4d(X)\n",
    "    θ, ϕ, θ′, ϕ′ = X\n",
    "    β(ω(θ,ϕ) ⋅ ω(θ′,ϕ′)) * sin(ϕ) * sin(ϕ′)\n",
    "end"
   ]
  },
  {
   "cell_type": "markdown",
   "metadata": {},
   "source": [
    "# β is properly normalized"
   ]
  },
  {
   "cell_type": "markdown",
   "metadata": {},
   "source": [
    "\\begin{equation}\n",
    "    \\int_{-1}^1 \\beta(\\Delta)\\, d\\Delta = \\frac{1}{2\\pi}\n",
    "\\end{equation}"
   ]
  },
  {
   "cell_type": "code",
   "execution_count": 256,
   "metadata": {},
   "outputs": [
    {
     "data": {
      "text/plain": [
       "1.0"
      ]
     },
     "execution_count": 256,
     "metadata": {},
     "output_type": "execute_result"
    }
   ],
   "source": [
    "hquadrature(β, -1.0, 1.0)[1] * 2π"
   ]
  },
  {
   "cell_type": "markdown",
   "metadata": {},
   "source": [
    "\\begin{equation}\n",
    "    \\int_{4\\pi}\\tilde\\beta(\\vec{\\omega}\\cdot\\vec{\\omega}')\\, d\\vec{\\omega} =  1\n",
    "\\end{equation}"
   ]
  },
  {
   "cell_type": "code",
   "execution_count": 257,
   "metadata": {},
   "outputs": [
    {
     "data": {
      "text/plain": [
       "1.0000000000024238"
      ]
     },
     "execution_count": 257,
     "metadata": {},
     "output_type": "execute_result"
    }
   ],
   "source": [
    "hcubature(integrand_2d, (0.0, 0.0), (2π, π))[1]"
   ]
  },
  {
   "cell_type": "markdown",
   "metadata": {},
   "source": [
    "\\begin{equation}\n",
    "    \\int_{4\\pi}\\int_{4\\pi}\\tilde\\beta(\\vec{\\omega}\\cdot\\vec{\\omega}')\\, d\\vec{\\omega}\\, d\\vec{\\omega}'  =  4\\pi\n",
    "\\end{equation}"
   ]
  },
  {
   "cell_type": "code",
   "execution_count": 258,
   "metadata": {},
   "outputs": [
    {
     "data": {
      "text/plain": [
       "0.9999975012744556"
      ]
     },
     "execution_count": 258,
     "metadata": {},
     "output_type": "execute_result"
    }
   ],
   "source": [
    "ε = 0.0\n",
    "int = hcubature(integrand_4d, (0.0, ε, 0.0, ε), (2π, π-ε, 2π, π-ε); reltol=1e-4, abstol=1e-4)[1]\n",
    "int / 4π"
   ]
  },
  {
   "cell_type": "markdown",
   "metadata": {},
   "source": [
    "# Calculate $\\tilde{\\beta}_{pp'}$ matrix"
   ]
  },
  {
   "cell_type": "code",
   "execution_count": 264,
   "metadata": {},
   "outputs": [
    {
     "data": {
      "text/plain": [
       "copy_beta_vals (generic function with 1 method)"
      ]
     },
     "execution_count": 264,
     "metadata": {},
     "output_type": "execute_result"
    }
   ],
   "source": [
    "function θlims(l, m)\n",
    "    if 1 < m < nϕ\n",
    "        if 1 < l\n",
    "            θmin = θe[l-1]\n",
    "            θmax = θe[l]\n",
    "        elseif l == 1\n",
    "            θmin = θe[end] - 2π\n",
    "            θmax = θe[l]\n",
    "        end\n",
    "    else\n",
    "        ϕmin = 0.0\n",
    "        θmax = 2π\n",
    "    end\n",
    "    return θmin, θmax\n",
    "end\n",
    "\n",
    "function ϕlims(m)\n",
    "    if 1 < m < nϕ\n",
    "        ϕmin = ϕe[m-1]\n",
    "        ϕmax = ϕe[m]\n",
    "    elseif m == 1\n",
    "        ϕmin = 0.0\n",
    "        ϕmax = ϕe[1]\n",
    "    elseif m == nϕ\n",
    "        ϕmin = ϕe[end]\n",
    "        ϕmax = π\n",
    "    end\n",
    "    return ϕmin, ϕmax\n",
    "end\n",
    "    \n",
    "function calc_beta_arr(β_arr)\n",
    "    mvals = convert(Array{Int},1:(nϕ/2))\n",
    "    futures = []\n",
    "    for l = 1\n",
    "        θmin, θmax = θlims(l)\n",
    "        println(\"l=$l\")\n",
    "        for m in mvals\n",
    "            ϕmin, ϕmax = ϕlims(m)\n",
    "            println(\"m=$m\")\n",
    "            p = p̂(l,m)\n",
    "            for l′ = 1:nθ\n",
    "                θ′min, θ′max = θlims(l′)\n",
    "                for m′ = 1:nϕ\n",
    "                    ϕ′min, ϕ′max = ϕlims(m′)\n",
    "                    p′ = p̂(l′,m′)\n",
    "                    #=\n",
    "                    β_arr[p,p′] = hcubature(\n",
    "                        integrand_4d,\n",
    "                        (θmin, ϕmin, θ′min, ϕ′min),\n",
    "                        (θmax, ϕmax, θ′max, ϕ′max),\n",
    "                        abstol=1e-2, reltol=1e-2\n",
    "                    )[1]\n",
    "                    =#\n",
    "                    β_arr[p,p′] = (\n",
    "                        ∫(θ -> (\n",
    "                            ∫(ϕ -> (\n",
    "                                ∫(θ′ -> (\n",
    "                                    ∫(ϕ′ -> (begin\n",
    "                                        #println(\"ω=($θ,$ϕ). ω′=($θ′,$ϕ′)\")\n",
    "                                        #println(\"ω⋅ω′ = $(ω(θ,ϕ) ⋅ ω(θ′,ϕ′))\")\n",
    "                                        β(ω(θ,ϕ) ⋅ ω(θ′,ϕ′))\n",
    "                                    end), ϕmin, ϕmax)\n",
    "                                ), θ′min, θ′max)\n",
    "                            ), ϕmin, ϕmax)\n",
    "                        ), θmin, θmax)\n",
    "                    )\n",
    "                    if β_arr[p,p′] < 0\n",
    "                        println(\"LESS THAN ZERO\")\n",
    "                        println(\"l,m,p = $((l,m,p))\")\n",
    "                        println(\"l′,m′,p′ = $((l′,m′,p′))\")\n",
    "                        println((θe[l-1], ϕe[m-1], θe[l′-1], ϕe[m′-1]))\n",
    "                        println((θe[l], ϕe[m], θe[l′], ϕe[m′]))\n",
    "                    end\n",
    "                end\n",
    "            end\n",
    "        end\n",
    "    end\n",
    "end\n",
    "\n",
    "function copy_beta_vals(β_arr)\n",
    "    let l=1\n",
    "        # Copy lower hemisphere for l=1\n",
    "        for m=convert(Array{Int},(nϕ/2+1):nϕ)\n",
    "            m_orig = nϕ - m + 1\n",
    "            p = p̂(l, m)\n",
    "            p_orig = p̂(l, m_orig)\n",
    "            for l′ = 1:nθ\n",
    "                for m′ = 1:nϕ\n",
    "                    m′_orig = nϕ - m′ + 1\n",
    "                    p′ = p̂(l′, m′)\n",
    "                    p′_orig = p̂(l′, m′_orig)\n",
    "                    β_arr[p, p′] = β_arr[p_orig, p′_orig]\n",
    "                end\n",
    "            end\n",
    "        end\n",
    "    end\n",
    "\n",
    "    # Copy for all other θ vals\n",
    "    for l=2:nθ\n",
    "        for m=2:nϕ-1\n",
    "            l_orig = 1\n",
    "            p = p̂(l, m)\n",
    "            p_orig = p̂(l_orig, m)\n",
    "            for l′ = 1:nθ\n",
    "                for m′ = 1:nϕ\n",
    "                    # Maintain same distance between l and l' as between lₒ and lₒ'.\n",
    "                    l′_orig = mod1(l_orig + l′ - l, nθ)\n",
    "                    p′ = p̂(l′, m′)\n",
    "                    p′_orig = p̂(l′_orig, m′)\n",
    "                    β_arr[p, p′] = β_arr[p_orig, p′_orig]\n",
    "                end\n",
    "            end\n",
    "        end\n",
    "    end\n",
    "end"
   ]
  },
  {
   "cell_type": "code",
   "execution_count": 265,
   "metadata": {},
   "outputs": [
    {
     "name": "stdout",
     "output_type": "stream",
     "text": [
      "l=1\n",
      "m=1\n",
      "m=2\n",
      "m=3\n",
      "m=4\n",
      "m=5\n"
     ]
    }
   ],
   "source": [
    "β_arr = zeros(nω,nω)\n",
    "calc_beta_arr(β_arr)"
   ]
  },
  {
   "cell_type": "code",
   "execution_count": 229,
   "metadata": {},
   "outputs": [
    {
     "name": "stdout",
     "output_type": "stream",
     "text": [
      "l=1\n",
      "m=1\n",
      "m=2\n",
      "m=3\n",
      "m=4\n",
      "m=5\n"
     ]
    }
   ],
   "source": [
    "copy_beta_vals(β_arr)"
   ]
  },
  {
   "cell_type": "code",
   "execution_count": 295,
   "metadata": {},
   "outputs": [
    {
     "name": "stdout",
     "output_type": "stream",
     "text": [
      "(1, 1)\n",
      "(1, 2)\n",
      "(1, 3)\n",
      "(1, 4)\n",
      "(1, 5)\n",
      "(1, 6)\n",
      "(1, 7)\n",
      "(1, 8)\n",
      "(1, 9)\n",
      "(1, 10)\n",
      "(1, 11)\n",
      "(1, 12)\n",
      "(1, 13)\n",
      "(1, 14)\n",
      "(1, 15)\n",
      "(1, 16)\n",
      "(1, 17)\n",
      "(1, 18)\n",
      "(1, 19)\n",
      "(1, 20)\n",
      "(1, 21)\n",
      "(1, 22)\n",
      "(1, 23)\n",
      "(1, 24)\n",
      "(1, 25)\n",
      "(1, 26)\n",
      "(1, 27)\n",
      "(1, 28)\n",
      "(1, 29)\n",
      "(1, 30)\n",
      "(1, 31)\n",
      "(1, 32)\n",
      "(1, 33)\n",
      "(1, 34)\n",
      "(1, 35)\n",
      "(1, 36)\n",
      "(1, 37)\n",
      "(1, 38)\n",
      "(1, 39)\n",
      "(1, 40)\n",
      "(1, 41)\n",
      "(1, 42)\n",
      "(1, 43)\n",
      "(1, 44)\n",
      "(1, 45)\n",
      "(1, 46)\n",
      "(1, 47)\n",
      "(1, 48)\n",
      "(1, 49)\n",
      "(1, 50)\n",
      "(1, 51)\n",
      "(1, 52)\n",
      "(1, 53)\n",
      "(1, 54)\n",
      "(1, 55)\n",
      "(1, 56)\n",
      "(1, 57)\n",
      "(1, 58)\n",
      "(1, 59)\n",
      "(1, 60)\n",
      "(1, 61)\n",
      "(1, 62)\n",
      "(1, 63)\n",
      "(1, 64)\n",
      "(1, 65)\n",
      "(1, 66)\n",
      "(1, 67)\n",
      "(1, 68)\n",
      "(1, 69)\n",
      "(1, 70)\n",
      "(1, 71)\n",
      "(1, 72)\n",
      "(1, 73)\n",
      "(1, 74)\n",
      "(1, 75)\n",
      "(1, 76)\n",
      "(1, 77)\n",
      "(1, 78)\n",
      "(1, 79)\n",
      "(1, 80)\n",
      "(1, 81)\n",
      "(1, 82)\n",
      "(1, 83)\n",
      "(1, 84)\n",
      "(1, 85)\n",
      "(1, 86)\n",
      "(1, 87)\n",
      "(1, 88)\n",
      "(1, 89)\n",
      "(1, 90)\n",
      "(1, 91)\n",
      "(1, 92)\n",
      "(1, 93)\n",
      "(1, 94)\n",
      "(1, 95)\n",
      "(1, 96)\n",
      "(1, 97)\n",
      "(1, 98)\n",
      "(2, 1)\n",
      "(2, 2)\n",
      "(2, 3)\n",
      "(2, 4)\n",
      "(2, 5)\n",
      "(2, 6)\n",
      "(2, 7)\n",
      "(2, 8)\n",
      "(2, 9)\n",
      "(2, 10)\n",
      "(2, 11)\n",
      "(2, 12)\n",
      "(2, 13)\n",
      "(2, 14)\n",
      "(2, 15)\n",
      "(2, 16)\n",
      "(2, 17)\n",
      "(2, 18)\n",
      "(2, 19)\n",
      "(2, 20)\n",
      "(2, 21)\n",
      "(2, 22)\n",
      "(2, 23)\n",
      "(2, 24)\n",
      "(2, 25)\n",
      "(2, 26)\n",
      "(2, 27)\n",
      "(2, 28)\n",
      "(2, 29)\n",
      "(2, 30)\n",
      "(2, 31)\n",
      "(2, 32)\n",
      "(2, 33)\n",
      "(2, 34)\n",
      "(2, 35)\n",
      "(2, 36)\n",
      "(2, 37)\n",
      "(2, 38)\n",
      "(2, 39)\n",
      "(2, 40)\n",
      "(2, 41)\n",
      "(2, 42)\n",
      "(2, 43)\n",
      "(2, 44)\n",
      "(2, 45)\n",
      "(2, 46)\n",
      "(2, 47)\n",
      "(2, 48)\n",
      "(2, 49)\n",
      "(2, 50)\n",
      "(2, 51)\n",
      "(2, 52)\n",
      "(2, 53)\n",
      "(2, 54)\n",
      "(2, 55)\n",
      "(2, 56)\n",
      "(2, 57)\n",
      "(2, 58)\n",
      "(2, 59)\n",
      "(2, 60)\n",
      "(2, 61)\n",
      "(2, 62)\n",
      "(2, 63)\n",
      "(2, 64)\n",
      "(2, 65)\n",
      "(2, 66)\n",
      "(2, 67)\n",
      "(2, 68)\n",
      "(2, 69)\n",
      "(2, 70)\n",
      "(2, 71)\n",
      "(2, 72)\n",
      "(2, 73)\n",
      "(2, 74)\n",
      "(2, 75)\n",
      "(2, 76)\n",
      "(2, 77)\n",
      "(2, 78)\n",
      "(2, 79)\n",
      "(2, 80)\n",
      "(2, 81)\n",
      "(2, 82)\n",
      "(2, 83)\n",
      "(2, 84)\n",
      "(2, 85)\n",
      "(2, 86)\n",
      "(2, 87)\n",
      "(2, 88)\n",
      "(2, 89)\n",
      "(2, 90)\n",
      "(2, 91)\n",
      "(2, 92)\n",
      "(2, 93)\n",
      "(2, 94)\n",
      "(2, 95)\n",
      "(2, 96)\n",
      "(2, 97)\n",
      "(2, 98)\n",
      "(14, 1)\n",
      "(14, 2)\n",
      "(14, 3)\n",
      "(14, 4)\n",
      "(14, 5)\n",
      "(14, 6)\n",
      "(14, 7)\n",
      "(14, 8)\n",
      "(14, 9)\n",
      "(14, 10)\n",
      "(14, 11)\n",
      "(14, 12)\n",
      "(14, 13)\n",
      "(14, 14)\n",
      "(14, 15)\n",
      "(14, 16)\n",
      "(14, 17)\n",
      "(14, 18)\n",
      "(14, 19)\n",
      "(14, 20)\n",
      "(14, 21)\n",
      "(14, 22)\n",
      "(14, 23)\n",
      "(14, 24)\n",
      "(14, 25)\n",
      "(14, 26)\n",
      "(14, 27)\n",
      "(14, 28)\n",
      "(14, 29)\n",
      "(14, 30)\n",
      "(14, 31)\n",
      "(14, 32)\n",
      "(14, 33)\n",
      "(14, 34)\n",
      "(14, 35)\n",
      "(14, 36)\n",
      "(14, 37)\n",
      "(14, 38)\n",
      "(14, 39)\n",
      "(14, 40)\n",
      "(14, 41)\n",
      "(14, 42)\n",
      "(14, 43)\n",
      "(14, 44)\n",
      "(14, 45)\n",
      "(14, 46)\n",
      "(14, 47)\n",
      "(14, 48)\n",
      "(14, 49)\n",
      "(14, 50)\n",
      "(14, 51)\n",
      "(14, 52)\n",
      "(14, 53)\n",
      "(14, 54)\n",
      "(14, 55)\n",
      "(14, 56)\n",
      "(14, 57)\n",
      "(14, 58)\n",
      "(14, 59)\n",
      "(14, 60)\n",
      "(14, 61)\n",
      "(14, 62)\n",
      "(14, 63)\n",
      "(14, 64)\n",
      "(14, 65)\n",
      "(14, 66)\n",
      "(14, 67)\n",
      "(14, 68)\n",
      "(14, 69)\n",
      "(14, 70)\n",
      "(14, 71)\n",
      "(14, 72)\n",
      "(14, 73)\n",
      "(14, 74)\n",
      "(14, 75)\n",
      "(14, 76)\n",
      "(14, 77)\n",
      "(14, 78)\n",
      "(14, 79)\n",
      "(14, 80)\n",
      "(14, 81)\n",
      "(14, 82)\n",
      "(14, 83)\n",
      "(14, 84)\n",
      "(14, 85)\n",
      "(14, 86)\n",
      "(14, 87)\n",
      "(14, 88)\n",
      "(14, 89)\n",
      "(14, 90)\n",
      "(14, 91)\n",
      "(14, 92)\n",
      "(14, 93)\n",
      "(14, 94)\n",
      "(14, 95)\n",
      "(14, 96)\n",
      "(14, 97)\n",
      "(14, 98)\n",
      "(26, 1)\n",
      "(26, 2)\n",
      "(26, 3)\n",
      "(26, 4)\n",
      "(26, 5)\n",
      "(26, 6)\n",
      "(26, 7)\n",
      "(26, 8)\n",
      "(26, 9)\n",
      "(26, 10)\n",
      "(26, 11)\n",
      "(26, 12)\n",
      "(26, 13)\n",
      "(26, 14)\n",
      "(26, 15)\n",
      "(26, 16)\n",
      "(26, 17)\n",
      "(26, 18)\n",
      "(26, 19)\n",
      "(26, 20)\n",
      "(26, 21)\n",
      "(26, 22)\n",
      "(26, 23)\n",
      "(26, 24)\n",
      "(26, 25)\n",
      "(26, 26)\n",
      "(26, 27)\n",
      "(26, 28)\n",
      "(26, 29)\n",
      "(26, 30)\n",
      "(26, 31)\n",
      "(26, 32)\n",
      "(26, 33)\n",
      "(26, 34)\n",
      "(26, 35)\n",
      "(26, 36)\n",
      "(26, 37)\n",
      "(26, 38)\n",
      "(26, 39)\n",
      "(26, 40)\n",
      "(26, 41)\n",
      "(26, 42)\n",
      "(26, 43)\n",
      "(26, 44)\n",
      "(26, 45)\n",
      "(26, 46)\n",
      "(26, 47)\n",
      "(26, 48)\n",
      "(26, 49)\n",
      "(26, 50)\n",
      "(26, 51)\n",
      "(26, 52)\n",
      "(26, 53)\n",
      "(26, 54)\n",
      "(26, 55)\n",
      "(26, 56)\n",
      "(26, 57)\n",
      "(26, 58)\n",
      "(26, 59)\n",
      "(26, 60)\n",
      "(26, 61)\n",
      "(26, 62)\n",
      "(26, 63)\n",
      "(26, 64)\n",
      "(26, 65)\n",
      "(26, 66)\n",
      "(26, 67)\n",
      "(26, 68)\n",
      "(26, 69)\n",
      "(26, 70)\n",
      "(26, 71)\n",
      "(26, 72)\n",
      "(26, 73)\n",
      "(26, 74)\n",
      "(26, 75)\n",
      "(26, 76)\n",
      "(26, 77)\n",
      "(26, 78)\n",
      "(26, 79)\n",
      "(26, 80)\n",
      "(26, 81)\n",
      "(26, 82)\n",
      "(26, 83)\n",
      "(26, 84)\n",
      "(26, 85)\n",
      "(26, 86)\n",
      "(26, 87)\n",
      "(26, 88)\n",
      "(26, 89)\n",
      "(26, 90)\n",
      "(26, 91)\n",
      "(26, 92)\n",
      "(26, 93)\n",
      "(26, 94)\n",
      "(26, 95)\n",
      "(26, 96)\n",
      "(26, 97)\n",
      "(26, 98)\n",
      "(38, 1)\n",
      "(38, 2)\n",
      "(38, 3)\n",
      "(38, 4)\n",
      "(38, 5)\n",
      "(38, 6)\n",
      "(38, 7)\n",
      "(38, 8)\n",
      "(38, 9)\n",
      "(38, 10)\n",
      "(38, 11)\n",
      "(38, 12)\n",
      "(38, 13)\n",
      "(38, 14)\n",
      "(38, 15)\n",
      "(38, 16)\n",
      "(38, 17)\n",
      "(38, 18)\n",
      "(38, 19)\n",
      "(38, 20)\n",
      "(38, 21)\n",
      "(38, 22)\n",
      "(38, 23)\n",
      "(38, 24)\n",
      "(38, 25)\n",
      "(38, 26)\n",
      "(38, 27)\n",
      "(38, 28)\n",
      "(38, 29)\n",
      "(38, 30)\n",
      "(38, 31)\n",
      "(38, 32)\n",
      "(38, 33)\n",
      "(38, 34)\n",
      "(38, 35)\n",
      "(38, 36)\n",
      "(38, 37)\n",
      "(38, 38)\n",
      "(38, 39)\n",
      "(38, 40)\n",
      "(38, 41)\n",
      "(38, 42)\n",
      "(38, 43)\n",
      "(38, 44)\n",
      "(38, 45)\n",
      "(38, 46)\n",
      "(38, 47)\n",
      "(38, 48)\n",
      "(38, 49)\n",
      "(38, 50)\n",
      "(38, 51)\n",
      "(38, 52)\n",
      "(38, 53)\n",
      "(38, 54)\n",
      "(38, 55)\n",
      "(38, 56)\n",
      "(38, 57)\n",
      "(38, 58)\n",
      "(38, 59)\n",
      "(38, 60)\n",
      "(38, 61)\n",
      "(38, 62)\n",
      "(38, 63)\n",
      "(38, 64)\n",
      "(38, 65)\n",
      "(38, 66)\n",
      "(38, 67)\n",
      "(38, 68)\n",
      "(38, 69)\n",
      "(38, 70)\n",
      "(38, 71)\n",
      "(38, 72)\n",
      "(38, 73)\n",
      "(38, 74)\n",
      "(38, 75)\n",
      "(38, 76)\n",
      "(38, 77)\n",
      "(38, 78)\n",
      "(38, 79)\n",
      "(38, 80)\n",
      "(38, 81)\n",
      "(38, 82)\n",
      "(38, 83)\n",
      "(38, 84)\n",
      "(38, 85)\n",
      "(38, 86)\n",
      "(38, 87)\n",
      "(38, 88)\n",
      "(38, 89)\n",
      "(38, 90)\n",
      "(38, 91)\n",
      "(38, 92)\n",
      "(38, 93)\n",
      "(38, 94)\n",
      "(38, 95)\n",
      "(38, 96)\n",
      "(38, 97)\n",
      "(38, 98)\n"
     ]
    }
   ],
   "source": [
    "for pair in sort(where(β_arr.!=0))\n",
    "    println(pair)\n",
    "end"
   ]
  },
  {
   "cell_type": "markdown",
   "metadata": {},
   "source": [
    "## $\\tilde{\\beta}_{pp'}$ should be symmetric"
   ]
  },
  {
   "cell_type": "code",
   "execution_count": 260,
   "metadata": {},
   "outputs": [
    {
     "data": {
      "text/plain": [
       "false"
      ]
     },
     "execution_count": 260,
     "metadata": {},
     "output_type": "execute_result"
    }
   ],
   "source": [
    "issymmetric(β_arr)"
   ]
  },
  {
   "cell_type": "markdown",
   "metadata": {},
   "source": [
    "## $\\tilde{\\beta}_{pp'}$ should integrate to 1 along each row and column"
   ]
  },
  {
   "cell_type": "code",
   "execution_count": 263,
   "metadata": {},
   "outputs": [
    {
     "data": {
      "text/plain": [
       "98-element Array{Float64,1}:\n",
       " 0.0819952\n",
       " 0.199618 \n",
       " 0.199618 \n",
       " 0.199618 \n",
       " 0.199618 \n",
       " 0.199618 \n",
       " 0.199618 \n",
       " 0.199618 \n",
       " 0.199618 \n",
       " 0.199618 \n",
       " 0.199618 \n",
       " 0.199618 \n",
       " 0.199618 \n",
       " ⋮        \n",
       " 0.199618 \n",
       " 0.199618 \n",
       " 0.199618 \n",
       " 0.199618 \n",
       " 0.199618 \n",
       " 0.199618 \n",
       " 0.199618 \n",
       " 0.199618 \n",
       " 0.199618 \n",
       " 0.199618 \n",
       " 0.199618 \n",
       " 0.0819952"
      ]
     },
     "execution_count": 263,
     "metadata": {},
     "output_type": "execute_result"
    }
   ],
   "source": [
    "β_arr * aₚ"
   ]
  },
  {
   "cell_type": "code",
   "execution_count": 240,
   "metadata": {},
   "outputs": [
    {
     "data": {
      "text/plain": [
       "98×98 Array{Float64,2}:\n",
       " 0.0        -0.0166952    -0.0166952    …  -0.0166952    0.0      \n",
       " 0.0166952   0.0           2.42861e-17     -2.42861e-17  0.0166952\n",
       " 0.0166952  -2.42861e-17   0.0              1.38778e-17  0.0166952\n",
       " 0.0166952   1.38778e-17  -2.42861e-17      1.04083e-17  0.0166952\n",
       " 0.0166952   1.04083e-17   1.38778e-17     -6.93889e-18  0.0166952\n",
       " 0.0166952  -6.93889e-18   1.04083e-17  …  -1.73472e-18  0.0166952\n",
       " 0.0166952  -1.73472e-18  -6.93889e-18      0.0          0.0166952\n",
       " 0.0166952   0.0          -1.73472e-18      1.73472e-18  0.0166952\n",
       " 0.0166952   1.73472e-18   0.0              6.93889e-18  0.0166952\n",
       " 0.0166952   6.93889e-18   1.73472e-18     -1.04083e-17  0.0166952\n",
       " 0.0166952  -1.04083e-17   6.93889e-18  …  -1.38778e-17  0.0166952\n",
       " 0.0166952  -1.38778e-17  -1.04083e-17      2.42861e-17  0.0166952\n",
       " 0.0166952   2.42861e-17  -1.38778e-17      0.0          0.0166952\n",
       " ⋮                                      ⋱                         \n",
       " 0.0166952  -2.42861e-17   0.0              1.38778e-17  0.0166952\n",
       " 0.0166952   1.38778e-17  -2.42861e-17      1.04083e-17  0.0166952\n",
       " 0.0166952   1.04083e-17   1.38778e-17     -6.93889e-18  0.0166952\n",
       " 0.0166952  -6.93889e-18   1.04083e-17     -1.73472e-18  0.0166952\n",
       " 0.0166952  -1.73472e-18  -6.93889e-18  …   0.0          0.0166952\n",
       " 0.0166952   0.0          -1.73472e-18      1.73472e-18  0.0166952\n",
       " 0.0166952   1.73472e-18   0.0              6.93889e-18  0.0166952\n",
       " 0.0166952   6.93889e-18   1.73472e-18     -1.04083e-17  0.0166952\n",
       " 0.0166952  -1.04083e-17   6.93889e-18     -1.38778e-17  0.0166952\n",
       " 0.0166952  -1.38778e-17  -1.04083e-17  …   2.42861e-17  0.0166952\n",
       " 0.0166952   2.42861e-17  -1.38778e-17      0.0          0.0166952\n",
       " 0.0        -0.0166952    -0.0166952       -0.0166952    0.0      "
      ]
     },
     "execution_count": 240,
     "metadata": {},
     "output_type": "execute_result"
    }
   ],
   "source": [
    "(β_arr - β_arr')"
   ]
  },
  {
   "cell_type": "code",
   "execution_count": 194,
   "metadata": {},
   "outputs": [
    {
     "data": {
      "text/plain": [
       "98-element Array{Float64,1}:\n",
       " 4.82554e-5\n",
       " 0.0       \n",
       " 0.00289896\n",
       " 0.0       \n",
       " 0.0       \n",
       " 0.0       \n",
       " 0.0       \n",
       " 0.0       \n",
       " 0.0       \n",
       " 0.0       \n",
       " 0.0       \n",
       " 0.0       \n",
       " 0.0       \n",
       " ⋮         \n",
       " 0.0       \n",
       " 0.0       \n",
       " 0.0       \n",
       " 0.0       \n",
       " 0.0       \n",
       " 0.0       \n",
       " 0.0       \n",
       " 0.0       \n",
       " 0.0       \n",
       " 0.0       \n",
       " 0.0       \n",
       " 0.0       "
      ]
     },
     "execution_count": 194,
     "metadata": {},
     "output_type": "execute_result"
    }
   ],
   "source": [
    "diag(β_arr)"
   ]
  },
  {
   "cell_type": "code",
   "execution_count": 62,
   "metadata": {},
   "outputs": [
    {
     "data": {
      "text/plain": [
       "((1, 2), (2, 2))"
      ]
     },
     "execution_count": 62,
     "metadata": {},
     "output_type": "execute_result"
    }
   ],
   "source": [
    "(l̂(2),m̂(2)), (l̂(3),m̂(3))"
   ]
  },
  {
   "cell_type": "code",
   "execution_count": 277,
   "metadata": {},
   "outputs": [
    {
     "data": {
      "text/plain": [
       "(Base.OneTo(98), Base.OneTo(98))"
      ]
     },
     "execution_count": 277,
     "metadata": {},
     "output_type": "execute_result"
    }
   ],
   "source": [
    "indices(β_arr.<0)"
   ]
  },
  {
   "cell_type": "code",
   "execution_count": 278,
   "metadata": {},
   "outputs": [
    {
     "data": {
      "text/plain": [
       "490-element Array{Tuple{Int64,Int64},1}:\n",
       " (1, 1)  \n",
       " (2, 1)  \n",
       " (14, 1) \n",
       " (26, 1) \n",
       " (38, 1) \n",
       " (1, 2)  \n",
       " (2, 2)  \n",
       " (14, 2) \n",
       " (26, 2) \n",
       " (38, 2) \n",
       " (1, 3)  \n",
       " (2, 3)  \n",
       " (14, 3) \n",
       " ⋮       \n",
       " (26, 96)\n",
       " (38, 96)\n",
       " (1, 97) \n",
       " (2, 97) \n",
       " (14, 97)\n",
       " (26, 97)\n",
       " (38, 97)\n",
       " (1, 98) \n",
       " (2, 98) \n",
       " (14, 98)\n",
       " (26, 98)\n",
       " (38, 98)"
      ]
     },
     "execution_count": 278,
     "metadata": {},
     "output_type": "execute_result"
    }
   ],
   "source": [
    "np_where(β_arr.!=0)"
   ]
  },
  {
   "cell_type": "code",
   "execution_count": 58,
   "metadata": {},
   "outputs": [
    {
     "data": {
      "text/plain": [
       "736-element Array{Float64,1}:\n",
       "  8.70517    \n",
       "  5.84713    \n",
       "  3.07479    \n",
       "  1.32638    \n",
       " -0.768301   \n",
       "  0.0967629  \n",
       " -0.501989   \n",
       "  0.0811411  \n",
       " -0.258455   \n",
       "  0.0494286  \n",
       " -0.110163   \n",
       "  0.0230283  \n",
       " -0.778836   \n",
       "  ⋮          \n",
       " -0.0169296  \n",
       "  0.0013034  \n",
       " -0.0445106  \n",
       "  0.00327992 \n",
       " -0.00406958 \n",
       "  0.000440904\n",
       " -0.00707833 \n",
       "  0.000850676\n",
       " -0.016138   \n",
       "  0.00203447 \n",
       " -0.042118   \n",
       "  0.00539356 "
      ]
     },
     "execution_count": 58,
     "metadata": {},
     "output_type": "execute_result"
    }
   ],
   "source": [
    "β_arr[β_arr.!=0]"
   ]
  },
  {
   "cell_type": "code",
   "execution_count": 14,
   "metadata": {},
   "outputs": [
    {
     "data": {
      "text/plain": [
       "4×10 SharedArray{Int64,2}:\n",
       " 0  0  0  0  0  0  0  0  0  0\n",
       " 0  0  0  0  0  0  0  0  0  0\n",
       " 0  0  0  0  0  0  0  0  0  0\n",
       " 0  0  0  0  0  0  0  0  0  0"
      ]
     },
     "execution_count": 14,
     "metadata": {},
     "output_type": "execute_result"
    }
   ],
   "source": [
    "I = SharedArray{Int}(4,10)\n",
    "J = SharedArray{Int}(4,10)"
   ]
  },
  {
   "cell_type": "code",
   "execution_count": 15,
   "metadata": {},
   "outputs": [
    {
     "data": {
      "text/plain": [
       "1-element Array{Future,1}:\n",
       " Future(1, 1, 5, #NULL)"
      ]
     },
     "execution_count": 15,
     "metadata": {},
     "output_type": "execute_result"
    }
   ],
   "source": [
    "q = @parallel for i in 1:4\n",
    "    for j=1:10\n",
    "        I[i,j] = i\n",
    "        J[i,j] = j\n",
    "    end\n",
    "end "
   ]
  },
  {
   "cell_type": "code",
   "execution_count": 16,
   "metadata": {},
   "outputs": [
    {
     "data": {
      "text/plain": [
       "1-element Array{Future,1}:\n",
       " Future(1, 1, 5, #NULL)"
      ]
     },
     "execution_count": 16,
     "metadata": {},
     "output_type": "execute_result"
    }
   ],
   "source": [
    "q"
   ]
  },
  {
   "cell_type": "code",
   "execution_count": 17,
   "metadata": {},
   "outputs": [
    {
     "data": {
      "text/plain": [
       "4×10 SharedArray{Int64,2}:\n",
       " 1  1  1  1  1  1  1  1  1  1\n",
       " 2  2  2  2  2  2  2  2  2  2\n",
       " 3  3  3  3  3  3  3  3  3  3\n",
       " 4  4  4  4  4  4  4  4  4  4"
      ]
     },
     "execution_count": 17,
     "metadata": {},
     "output_type": "execute_result"
    }
   ],
   "source": [
    "I"
   ]
  },
  {
   "cell_type": "code",
   "execution_count": 18,
   "metadata": {},
   "outputs": [
    {
     "data": {
      "text/plain": [
       "4×10 SharedArray{Int64,2}:\n",
       " 1  2  3  4  5  6  7  8  9  10\n",
       " 1  2  3  4  5  6  7  8  9  10\n",
       " 1  2  3  4  5  6  7  8  9  10\n",
       " 1  2  3  4  5  6  7  8  9  10"
      ]
     },
     "execution_count": 18,
     "metadata": {},
     "output_type": "execute_result"
    }
   ],
   "source": [
    "J"
   ]
  },
  {
   "cell_type": "code",
   "execution_count": 19,
   "metadata": {},
   "outputs": [
    {
     "ename": "LoadError",
     "evalue": "\u001b[91mUndefVarError: x not defined\u001b[39m",
     "output_type": "error",
     "traceback": [
      "\u001b[91mUndefVarError: x not defined\u001b[39m",
      ""
     ]
    }
   ],
   "source": [
    "x"
   ]
  },
  {
   "cell_type": "code",
   "execution_count": 20,
   "metadata": {},
   "outputs": [
    {
     "ename": "LoadError",
     "evalue": "\u001b[91mUndefVarError: x not defined\u001b[39m",
     "output_type": "error",
     "traceback": [
      "\u001b[91mUndefVarError: x not defined\u001b[39m",
      ""
     ]
    }
   ],
   "source": [
    "x"
   ]
  }
 ],
 "metadata": {
  "kernelspec": {
   "display_name": "Julia 0.6.2",
   "language": "julia",
   "name": "julia-0.6"
  },
  "language_info": {
   "file_extension": ".jl",
   "mimetype": "application/julia",
   "name": "julia",
   "version": "0.6.2"
  }
 },
 "nbformat": 4,
 "nbformat_minor": 2
}
