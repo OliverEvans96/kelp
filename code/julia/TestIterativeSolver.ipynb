{
 "cells": [
  {
   "cell_type": "code",
   "execution_count": 1,
   "metadata": {},
   "outputs": [
    {
     "data": {
      "text/plain": [
       "idrs_wrapper (generic function with 1 method)"
      ]
     },
     "execution_count": 1,
     "metadata": {},
     "output_type": "execute_result"
    }
   ],
   "source": [
    "function idrs_wrapper(n_total, nonzer, row, col, data,\n",
    "                      sol, rhs, maxiter_outer, maxiter_inner,\n",
    "                      tol_abs, tol_rel)\n",
    "    using IterativeSolvers\n",
    "    mat = sparse(row, col, data)\n",
    "    sol = idrs(mat, rhs)\n",
    "end"
   ]
  },
  {
   "cell_type": "code",
   "execution_count": null,
   "metadata": {},
   "outputs": [],
   "source": [
    "        f90.calculate_light_field(\n",
    "            xmin, xmax,\n",
    "            ymin, ymax,\n",
    "            zmin, zmax,\n",
    "            ntheta, nphi,\n",
    "            a_water, a_kelp, b,\n",
    "            vsf_angles, vsf_vals,\n",
    "            theta_s, phi_s, max_rad, decay,\n",
    "            tol_abs, tol_rel, maxiter_inner, maxiter_outer,\n",
    "            p_kelp, self.radiance, self.irradiance,\n",
    "            num_scatters, gmres_flag\n",
    "        )\n",
    "\n",
    "\n",
    "function calculate_light_field(\n",
    "            xmin, xmax, nx,\n",
    "            ymin, ymax, ny,\n",
    "            zmin, zmax, nz,\n",
    "            ntheta, nphi,\n",
    "            a_water, a_kelp, b,\n",
    "            vsf_angles, vsf_vals,\n",
    "            theta_s, phi_s, max_rad, decay,\n",
    "            tol_abs, tol_rel, maxiter_inner, maxiter_outer,\n",
    "            p_kelp, self.radiance, self.irradiance,\n",
    "            num_scatters, gmres_flag, sparse_solver)\n",
    "    \n",
    "    funcsym = :__test_asymptotics_MOD_test_asymptotics_3d\n",
    "    lib = Libdl.dlopen(\"../../include/test_asymptotics.so\")\n",
    "    sym = Libdl.dlsym(lib, funcsym)\n",
    "    ccall(sym,\n",
    "          Void,\n",
    "           # Grid\n",
    "          (Ref{Float64},\n",
    "           Ref{Float64},\n",
    "           Ref{Int64},\n",
    "           Ref{Float64},\n",
    "           Ref{Float64},\n",
    "           Ref{Int64},\n",
    "           Ref{Float64},\n",
    "           Ref{Float64},\n",
    "           Ref{Int64},\n",
    "           Ref{Int64},\n",
    "           Ref{Int64},\n",
    "           # IOPs\n",
    "           Ref{Float64},\n",
    "           Ref{Float64},\n",
    "           Ref{Float64},\n",
    "           Ref{Float64},\n",
    "           Ref{Float64},\n",
    "           Ref{Float64},\n",
    "           # BC\n",
    "           Ref{Float64},\n",
    "           Ref{Float64},\n",
    "           Ref{Float64},\n",
    "           Ref{Float64},\n",
    "           # Params\n",
    "           Ref{Int64},\n",
    "           Ref{Int64},\n",
    "           Ref{Float64},\n",
    "           Ref{Float64},\n",
    "           Ref{Int64},\n",
    "           Ref{Int64},\n",
    "           # num_scatters\n",
    "           Ref{Int64},\n",
    "           # Solver\n",
    "           Ref{Bool},\n",
    "           Ptr{Void}),\n",
    "          xmin, xmax, nx,\n",
    "          ymin, ymax, ny,\n",
    "          zmin, zmax, nz,\n",
    "          ntheta, nphi,\n",
    "          a_water, a_kelp, b,\n",
    "          vsf_angles, vsf_vals,\n",
    "          theta_s, phi_s, max_rad, decay,\n",
    "          tol_abs, tol_rel, maxiter_inner, maxiter_outer,\n",
    "          p_kelp, self.radiance, self.irradiance,\n",
    "          num_scatters, gmres_flag, sparse_solver)\n",
    "    Libdl.dlclose(lib)\n"
   ]
  }
 ],
 "metadata": {
  "kernelspec": {
   "display_name": "Julia 0.6.2",
   "language": "julia",
   "name": "julia-0.6"
  },
  "language_info": {
   "file_extension": ".jl",
   "mimetype": "application/julia",
   "name": "julia",
   "version": "0.6.2"
  }
 },
 "nbformat": 4,
 "nbformat_minor": 2
}
