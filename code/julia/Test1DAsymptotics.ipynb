{
 "cells": [
  {
   "cell_type": "code",
   "execution_count": 1,
   "metadata": {},
   "outputs": [],
   "source": [
    "using Revise\n",
    "Revise.track(\"test_definitions.jl\")\n",
    "using KelpTest\n",
    "\n",
    "using Plots\n",
    "using PerceptualColourMaps"
   ]
  },
  {
   "cell_type": "code",
   "execution_count": 2,
   "metadata": {},
   "outputs": [],
   "source": [
    "# Define colors\n",
    "cvals = round.(Int, linspace(0, 256, 5)[2:4])\n",
    "cm⁺ = convert.(ColorTypes.RGB, cmap(\"L3\"))\n",
    "cm⁻ = convert.(ColorTypes.RGB, cmap(\"L6\"))\n",
    "ce⁺, ca⁺, cg⁺ = cm⁺[cvals];\n",
    "ce⁻, ca⁻, cg⁻ = cm⁻[cvals];"
   ]
  },
  {
   "cell_type": "markdown",
   "metadata": {},
   "source": [
    "# Define Parameters"
   ]
  },
  {
   "cell_type": "code",
   "execution_count": 3,
   "metadata": {},
   "outputs": [
    {
     "ename": "LoadError",
     "evalue": "\u001b[91mcould not load library \"../../include/test_asymptotics.so\"\n../../include/test_asymptotics.so: cannot open shared object file: No such file or directory\u001b[39m",
     "output_type": "error",
     "traceback": [
      "\u001b[91mcould not load library \"../../include/test_asymptotics.so\"\n../../include/test_asymptotics.so: cannot open shared object file: No such file or directory\u001b[39m",
      "",
      "Stacktrace:",
      " [1] \u001b[1masymptotics1d_grid\u001b[22m\u001b[22m\u001b[1m(\u001b[22m\u001b[22m::Float64, ::Float64, ::Float64, ::Function, ::Float64, ::Float64, ::Int64, ::Int64\u001b[1m)\u001b[22m\u001b[22m at \u001b[1m/home/oliver/academic/research/kelp/code/julia/test_definitions.jl:422\u001b[22m\u001b[22m"
     ]
    }
   ],
   "source": [
    "zmin = 0.0\n",
    "zmax = 1.0\n",
    "nzg = 100\n",
    "# Incident radiance\n",
    "I₀ = 0.92\n",
    "# Absorption (1/m)\n",
    "a = 1.0\n",
    "# Scattering (1/m)\n",
    "b = 0.5\n",
    "# VSF [-1,1] -> ℝ⁺\n",
    "β = cosθ -> 1/(2π)\n",
    "# Remaining in current direction\n",
    "β₀ = 0.5\n",
    "# Switching directions\n",
    "βπ = 1 - β₀\n",
    "# Number of scatters for asymptotics\n",
    "num_scatters = 1;\n",
    "\n",
    "# Perform calculations\n",
    "zg, L⁺g, L⁻g = asymptotics1d_grid(2π*I₀, a, b, β, zmin, zmax, nzg, num_scatters);\n",
    "L⁺e, L⁻e = rte1d_exact(I₀, a, b*βπ, zmin, zmax, zg);\n",
    "L⁺a, L⁻a, Lₙ, gₙ  = asymptotics1d_exact(I₀, a, b, βπ, zmin, zmax, zg, num_scatters);\n",
    "\n",
    "# Plot full solution\n",
    "plot(zg, L⁺e, marker=:diamond, color=ce⁺, label=\"L+e\")\n",
    "plot!(zg, L⁻e, marker=:diamond, color=ce⁻, label=\"L-e\")\n",
    "plot!(zg, L⁺a, marker=:square,  color=ca⁺, label=\"L+a\")\n",
    "\n",
    "plot!(zg, L⁻a, marker=:square,  color=ca⁻, label=\"L-a\")\n",
    "plot!(zg, L⁺g, marker=:circle,  color=cg⁺, label=\"L+g\")\n",
    "plot!(zg, L⁻g, marker=:circle,  color=cg⁻, label=\"L-g\")\n",
    "title!(\"Radiance\")"
   ]
  },
  {
   "cell_type": "markdown",
   "metadata": {},
   "source": [
    "# First order by hand"
   ]
  },
  {
   "cell_type": "code",
   "execution_count": null,
   "metadata": {},
   "outputs": [],
   "source": [
    "L₁⁺(z) = -βπ * I₀ * exp(-a*(z-zmin)) * (z - zmin)\n",
    "L₁⁻(z) = -βπ * I₀ / (2*a) * exp(a*(zmin+z)) * (exp(-2*a*zmax) - exp(-2*a*z))\n",
    "\n",
    "plot(zg, Lₙ[:,2,2], marker=:square, color=ca⁻, label=\"L-a\") \n",
    "#plot!(zg, rad_scatter[:,2,2], marker=:circle, color=cg⁻, label=\"L-g\")\n",
    "plot!(zg, L₁⁻.(zg), marker=:diamond, color=ce⁻, label=\"L-h\")\n",
    "\n",
    "plot!(zg, Lₙ[:,1,2], marker=:square, color=ca⁺, label=\"L+a\") \n",
    "#plot!(zg, rad_scatter[:,1,2], marker=:circle, color=cg⁺, label=\"L+g\")\n",
    "plot!(zg, L₁⁺.(zg), marker=:diamond, color=ce⁺, label=\"L+h\")\n",
    "title!(\"Radiance change due to 1st order scattering\")"
   ]
  }
 ],
 "metadata": {
  "kernelspec": {
   "display_name": "Julia 0.6.2",
   "language": "julia",
   "name": "julia-0.6"
  },
  "language_info": {
   "file_extension": ".jl",
   "mimetype": "application/julia",
   "name": "julia",
   "version": "0.6.2"
  }
 },
 "nbformat": 4,
 "nbformat_minor": 2
}
